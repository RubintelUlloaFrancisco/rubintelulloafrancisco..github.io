{
 "cells": [
  {
   "cell_type": "markdown",
   "metadata": {},
   "source": [
    "Hola &#x1F600;\n",
    "\n",
    "Soy **Hesus Garcia**  como \"Jesús\" pero con H. Sé que puede ser confuso al principio, pero una vez que lo recuerdes, ¡nunca lo olvidarás! &#x1F31D;\t. Como revisor de código de Triple-Ten, estoy emocionado de examinar tus proyectos y ayudarte a mejorar tus habilidades en programación. si has cometido algún error, no te preocupes, pues ¡estoy aquí para ayudarte a corregirlo y hacer que tu código brille! &#x1F31F;. Si encuentro algún detalle en tu código, te lo señalaré para que lo corrijas, ya que mi objetivo es ayudarte a prepararte para un ambiente de trabajo real, donde el líder de tu equipo actuaría de la misma manera. Si no puedes solucionar el problema, te proporcionaré más información en la próxima oportunidad. Cuando encuentres un comentario,  **por favor, no los muevas, no los modifiques ni los borres**. \n",
    "\n",
    "Revisaré cuidadosamente todas las implementaciones que has realizado para cumplir con los requisitos y te proporcionaré mis comentarios de la siguiente manera:\n",
    "\n",
    "\n",
    "<div class=\"alert alert-block alert-success\">\n",
    "<b>Comentario del revisor</b> <a class=“tocSkip”></a>\n",
    "Si todo está perfecto.\n",
    "</div>\n",
    "\n",
    "<div class=\"alert alert-block alert-warning\">\n",
    "<b>Comentario del revisor</b> <a class=“tocSkip”></a>\n",
    "Si tu código está bien pero se puede mejorar o hay algún detalle que le hace falta.\n",
    "</div>\n",
    "\n",
    "<div class=\"alert alert-block alert-danger\">\n",
    "<b>Comentario del revisor</b> <a class=“tocSkip”></a>\n",
    "Si de pronto hace falta algo o existe algún problema con tu código o conclusiones.\n",
    "</div>\n",
    "\n",
    "Puedes responderme de esta forma:\n",
    "<div class=\"alert alert-block alert-info\">\n",
    "<b>Respuesta del estudiante</b> <a class=“tocSkip”></a>\n",
    "</div>\n",
    "\n",
    "</br>\n",
    "\n",
    "**¡Empecemos!**  &#x1F680;"
   ]
  },
  {
   "cell_type": "markdown",
   "metadata": {},
   "source": [
    "<div class=\"alert alert-block alert-success\">\n",
    "<b>Comentario del Final</b> <a class=\"tocSkip\"></a></b><br>\n",
    "<br><br><br><br><b>Gracias por completar tu proyecto. es muy completo y podemos aprobarlo:</b>\n",
    "<br>\n",
    "Esta entrega corresponde al **plan de trabajo**, donde se te pedía un análisis del proyecto y el enfoque que seguirás para resolverlo. Ya has avanzado mucho, incluso implementando el código y modelos completos.\n",
    "\n",
    "Para la **siguiente entrega**, que corresponde al **código de solución**, te sugiero reflexionar más sobre los resultados obtenidos de tus modelos. Por ejemplo, evalúa si es normal obtener una precisión de 1.0 y considera la posibilidad de **overfitting**. Esto es importante para garantizar que tus modelos se generalicen correctamente. ¡Sigue adelante!\n",
    "</div>\n"
   ]
  },
  {
   "cell_type": "markdown",
   "metadata": {},
   "source": [
    "<h1 style=\"color: #2E86C1;\">🚀 Análisis de Datos y Modelado Predictivo para Empresa de Telecomunicaciones 📡📊</h1> <p><strong>Creador:</strong> Rubintel Ulloa</p> <p><strong>Fecha:</strong> 2024/10/03</p> <p><strong>Lugar:</strong> Santo Domingo, República Dominicana</p> <h2 style=\"color: #28B463;\">🔎 Descripción General del Proyecto</h2> <p>Este proyecto aborda un análisis integral de los datos de una empresa de telecomunicaciones con el fin de identificar patrones de comportamiento de los clientes y desarrollar modelos predictivos para entender y reducir la deserción (\"churn\"). Se utilizan técnicas avanzadas de Machine Learning, preprocesamiento y visualización de datos, buscando lograr modelos efectivos y explicativos que impulsen la retención de clientes.</p> <h2 style=\"color: #F39C12;\">📁 Estructura de los Datos</h2> <p>La información utilizada proviene de varios archivos CSV, proporcionando detalles relevantes de los clientes:</p> <ul> <li><code>cliente.csv</code>: Información demográfica de clientes (género, estado civil, edad).</li> <li><code>telefono.csv</code>: Servicios telefónicos (líneas adicionales, servicios complementarios).</li> <li><code>internet.csv</code>: Detalles sobre el uso de servicios de internet (tipo de conexión, servicios adicionales).</li> <li><code>contrato.csv</code>: Datos de facturación y contratos (tipo de contrato, método de pago, cargos mensuales).</li> </ul> <h2 style=\"color: #2E86C1;\">🛠️ Mejoras y Objetivos del Análisis</h2> <p>Este notebook se centra en un análisis detallado y enfocado para optimizar el proceso de modelado predictivo. Las mejoras y objetivos se detallan a continuación:</p> <ul> <li><strong>Preprocesamiento de Datos:</strong> Identificar y transformar adecuadamente las variables (booleanas, categóricas, numéricas, ordinales) para asegurar un análisis preciso y efectivo.</li> <li><strong>Ingeniería de Características:</strong> Desarrollar nuevas variables a partir de las existentes para potenciar la capacidad predictiva de los modelos.</li> <li><strong>Selección de Características Estratégica:</strong> Aplicar técnicas como <code>Boruta</code> y <code>RFE</code> para identificar las variables más relevantes y reducir la dimensionalidad, mejorando la eficiencia y efectividad del modelado.</li> <li><strong>Modelado Predictivo:</strong> Implementar y comparar modelos de clasificación, como <i>Regresión Logística</i>, <i>Árboles de Decisión</i>, <i>Random Forest</i>, <i>GBM</i>, y <i>Redes Neuronales</i> para predecir el churn de clientes.</li> <li><strong>Optimización de Modelos:</strong> Ajustar hiperparámetros con <code>GridSearchCV</code> y <code>RandomizedSearchCV</code> para maximizar la performance de los modelos.</li> <li><strong>Interpretabilidad:</strong> Usar <code>SHAP</code> para desglosar y visualizar la importancia de cada característica, facilitando la interpretación y comunicación de resultados.</li> <li><strong>Despliegue y Monitoreo:</strong> Proponer soluciones de despliegue utilizando <i>Flask</i> o <i>FastAPI</i>, estableciendo un plan de monitoreo para asegurar la efectividad continua del modelo.</li> </ul> <h2 style=\"color: #28B463;\">💡 Metodología de Trabajo</h2> <p>El enfoque metodológico se basó en un flujo de trabajo riguroso y secuencial para garantizar un análisis profundo y modelos predictivos efectivos:</p> <ol> <li><strong>Carga y Exploración de Datos:</strong> Leer, inspeccionar y comprender la estructura de los datos provenientes de múltiples fuentes.</li> <li><strong>Consolidación y Limpieza de Datos:</strong> Unir los diferentes <code>DataFrames</code> en un dataset único mediante operaciones de <code>join</code> y limpiar los datos (manejo de valores nulos, duplicados y tipos de datos).</li> <li><strong>Análisis Exploratorio (EDA):</strong> Usar visualizaciones y estadísticas descriptivas para descubrir patrones, tendencias y relaciones relevantes.</li> <li><strong>Ingeniería y Selección de Características:</strong> Crear nuevas variables significativas y aplicar técnicas de selección para identificar las características más influyentes en la deserción.</li> <li><strong>Entrenamiento y Validación de Modelos:</strong> Probar múltiples algoritmos de clasificación, evaluando su desempeño con métricas como <i>AUC-ROC</i>, <i>F1-Score</i>, <i>Precisión</i> y <i>Recall</i>.</li> <li><strong>Optimización de Modelos:</strong> Ajustar los modelos mediante <i>GridSearchCV</i> y <i>RandomizedSearchCV</i> para optimizar los resultados.</li> <li><strong>Interpretación de Resultados:</strong> Emplear <code>SHAP</code> para entender el impacto de cada variable y asegurar la explicabilidad del modelo.</li> <li><strong>Despliegue y Monitoreo:</strong> Proponer un plan de despliegue del modelo en producción y establecer un monitoreo para mantener su eficacia.</li> </ol> <h2 style=\"color: #F39C12;\">🔍 Recomendaciones para un Análisis Efectivo</h2> <p>Para asegurar un análisis óptimo y resultados accionables, se proponen las siguientes recomendaciones:</p> <ul> <li><strong>Transformación de Variables:</strong> Realizar una clasificación y transformación adecuada de las variables para evitar sesgos y asegurar la correcta interpretación de los modelos.</li> <li><strong>Selección de Características Estratégica:</strong> Utilizar técnicas como <code>Boruta</code> y <code>RFE</code> para seleccionar las características más influyentes y mejorar la eficiencia del modelo.</li> <li><strong>Uso de Métricas Adecuadas:</strong> Implementar métricas de evaluación precisas para cada tipo de modelo, equilibrando el trade-off entre precisión y recall según los objetivos del negocio.</li> <li><strong>Visualización con SHAP:</strong> Usar <code>SHAP</code> para identificar claramente los factores que más afectan la deserción y comunicar estos hallazgos a stakeholders.</li> <li><strong>Validación Continua:</strong> Realizar análisis comparativos y estadísticas como ANOVA para validar y monitorear la robustez de los modelos.</li> </ul> <h2 style=\"color: #28B463;\">🎯 Objetivo Principal</h2> <p>El objetivo fundamental de este proyecto es proporcionar un análisis robusto y accionable de los datos de la empresa de telecomunicaciones para identificar factores críticos que influyen en la deserción de clientes. Con esto, se desarrollan modelos predictivos que permitan tomar decisiones estratégicas para mejorar la retención, incrementar la satisfacción del cliente y fortalecer la posición competitiva de la empresa en el mercado.</p> <p style=\"text-align:center;\">🚀 ¡Vamos por el éxito! 🚀</p"
   ]
  },
  {
   "cell_type": "markdown",
   "metadata": {},
   "source": [
    "<div class=\"alert alert-block alert-danger\">\n",
    "    <b>Comentario del revisor</b> <a class=\"tocSkip\"></a>\n",
    "    <p>Hola Rubintel,</p>\n",
    "    <p>Por favor, asegúrate de subir tu proyecto con las celdas ya ejecutadas para poder revisarlo adecuadamente. Esto facilitará mucho el proceso de revisión.</p>\n",
    "    <p>Muchas gracias por tu colaboración.</p>\n",
    "</div>"
   ]
  },
  {
   "cell_type": "markdown",
   "metadata": {},
   "source": [
    "<div class=\"alert alert-block alert-success\">\n",
    "<b>Comentario del revisor</b> <a class=\"tocSkip\"></a>\n",
    "<s>\n",
    "### Comentario del Revisor\n",
    "\n",
    "**¡Excelente trabajo hasta ahora!** Es evidente que has planteado un enfoque detallado y bien estructurado para el análisis exploratorio de datos y el modelado. Sin embargo, me gustaría sugerirte algunos ajustes importantes para asegurarnos de que el análisis sea más específico y orientado hacia nuestros objetivos.\n",
    "\n",
    "---\n",
    "\n",
    "#### **Aspectos Positivos:**\n",
    "- **Claridad en el Plan:** El plan está muy bien organizado y cubre todos los pasos importantes para un análisis completo.\n",
    "- **Enfoque en EDA y Modelos Básicos:** Me gusta cómo consideras el análisis exploratorio como un paso esencial antes de avanzar con el modelado.\n",
    "- **Optimización:** La incorporación de técnicas como GridSearch para ajustar los hiperparámetros es una excelente decisión.\n",
    "\n",
    "---\n",
    "\n",
    "#### **Puntos a Revisar:**\n",
    "\n",
    "1. **Mayor Especificidad en el Tratamiento de Variables:**\n",
    "   - **Identificación de Variables y Tipos de Datos:**\n",
    "     Es fundamental que el primer paso del análisis involucre una **correcta identificación de las variables** y su clasificación según el tipo de dato (booleanas, ordinales, categóricas, numéricas).\n",
    "       - **Variables Booleanas:** Recuerda que **las variables booleanas no son numéricas**; tratarlas como tales puede causar errores en el análisis. Deberían manejarse como variables categóricas (0 o 1, verdadero o falso).\n",
    "       - **Variables Ordinales:** Hay que tener mucho cuidado con las variables ordinales (por ejemplo, clasificaciones). No son simplemente numéricas, ya que tienen un **orden inherente**, pero **no se pueden tratar como continuas**. Te recomiendo revisar cómo las vas a codificar para evitar distorsiones en el modelo.\n",
    "\n",
    "2. **Selección de Características:**\n",
    "   - **Selección Robusta de Variables:** En lugar de una simple matriz de correlación, lo ideal es aplicar métodos más robustos de selección de características para garantizar que las variables elegidas aporten valor al modelo. Un método altamente recomendado es **Boruta**, que puede ayudarte a seleccionar las variables más relevantes y evitar el uso de características que no aportan.\n",
    "   \n",
    "3. **Evaluación y Métricas Adecuadas:**\n",
    "   - **Evaluación de Modelos:** Es crucial que cuando evalúes los modelos, utilices las métricas correctas según el tipo de problema (clasificación, regresión). Por ejemplo, para clasificación, asegúrate de emplear métricas como **F1-score**, **precisión** o **recall**, dependiendo del enfoque.\n",
    "   - **Uso de SHAP:** También, te sugiero que utilices **SHAP (SHapley Additive exPlanations)** para interpretar la importancia de cada característica en el modelo. Esto no solo hará que tu análisis sea más robusto, sino que también será más fácil comunicar los resultados a personas no técnicas.\n",
    "\n",
    "4. **Validación Adicional:**\n",
    "   - **ANOVA sobre los Scores de los Modelos:** Si quieres lucirte y realizar un análisis más profundo, te recomendaría aplicar un **ANOVA** para comparar los scores de los diferentes modelos y determinar si hay diferencias estadísticamente significativas en su rendimiento. Esto te permitirá asegurarte de que los modelos seleccionados realmente afectan el rendimiento final.\n",
    "\n",
    "---\n",
    "\n",
    "#### **Siguientes Pasos:**\n",
    "1. **Revisar las Variables:** Enfócate en identificar y tratar adecuadamente cada tipo de variable.\n",
    "2. **Aplicar Boruta:** Esto garantizará una selección de características más robusta.\n",
    "3. **Incorporar SHAP y ANOVA:** Para profundizar en la interpretación y evaluación de los modelos.\n",
    "\n",
    "¡Has hecho un trabajo fantástico hasta ahora! Con estas sugerencias, podrás afinar aún más el análisis y presentar un proyecto sólido y bien fundamentado. 🚀</div>"
   ]
  },
  {
   "cell_type": "markdown",
   "metadata": {},
   "source": [
    "## 🌐Configuraciones iniciales, importación de bibliotecas, y preparación del entorno"
   ]
  },
  {
   "cell_type": "code",
   "execution_count": null,
   "metadata": {},
   "outputs": [
    {
     "name": "stdout",
     "output_type": "stream",
     "text": [
      "Collecting imblearn\n",
      "  Downloading imblearn-0.0-py2.py3-none-any.whl (1.9 kB)\n",
      "Collecting imbalanced-learn\n",
      "  Downloading imbalanced_learn-0.12.4-py3-none-any.whl (258 kB)\n",
      "\u001b[2K     \u001b[90m━━━━━━━━━━━━━━━━━━━━━━━━━━━━━━━━━━━━━━\u001b[0m \u001b[32m258.3/258.3 kB\u001b[0m \u001b[31m17.1 MB/s\u001b[0m eta \u001b[36m0:00:00\u001b[0m\n",
      "\u001b[?25hCollecting scikit-learn>=1.0.2\n",
      "  Downloading scikit_learn-1.5.2-cp310-cp310-manylinux_2_17_x86_64.manylinux2014_x86_64.whl (13.3 MB)\n",
      "\u001b[2K     \u001b[90m━━━━━━━━━━━━━━━━━━━━━━━━━━━━━━━━━━━━━━━━\u001b[0m \u001b[32m13.3/13.3 MB\u001b[0m \u001b[31m73.7 MB/s\u001b[0m eta \u001b[36m0:00:00\u001b[0m00:01\u001b[0m00:01\u001b[0m\n",
      "\u001b[?25hCollecting threadpoolctl>=2.0.0\n",
      "  Downloading threadpoolctl-3.5.0-py3-none-any.whl (18 kB)\n",
      "Collecting numpy>=1.17.3\n",
      "  Downloading numpy-2.1.2-cp310-cp310-manylinux_2_17_x86_64.manylinux2014_x86_64.whl (16.3 MB)\n",
      "\u001b[2K     \u001b[90m━━━━━━━━━━━━━━━━━━━━━━━━━━━━━━━━━━━━━━━━\u001b[0m \u001b[32m16.3/16.3 MB\u001b[0m \u001b[31m64.8 MB/s\u001b[0m eta \u001b[36m0:00:00\u001b[0m00:01\u001b[0m00:01\u001b[0m\n",
      "\u001b[?25hCollecting scipy>=1.5.0\n",
      "  Downloading scipy-1.14.1-cp310-cp310-manylinux_2_17_x86_64.manylinux2014_x86_64.whl (41.2 MB)\n",
      "\u001b[2K     \u001b[90m━━━━━━━━━━━━━━━━━━━━━━━━━━━━━━━━━━━━━━━━\u001b[0m \u001b[32m41.2/41.2 MB\u001b[0m \u001b[31m34.1 MB/s\u001b[0m eta \u001b[36m0:00:00\u001b[0m00:01\u001b[0m00:01\u001b[0m\n",
      "\u001b[?25hCollecting joblib>=1.1.1\n",
      "  Downloading joblib-1.4.2-py3-none-any.whl (301 kB)\n",
      "\u001b[2K     \u001b[90m━━━━━━━━━━━━━━━━━━━━━━━━━━━━━━━━━━━━━━\u001b[0m \u001b[32m301.8/301.8 kB\u001b[0m \u001b[31m61.2 MB/s\u001b[0m eta \u001b[36m0:00:00\u001b[0m\n",
      "\u001b[?25hInstalling collected packages: threadpoolctl, numpy, joblib, scipy, scikit-learn, imbalanced-learn, imblearn\n"
     ]
    }
   ],
   "source": [
    "!pip install imblearn"
   ]
  },
  {
   "cell_type": "markdown",
   "metadata": {},
   "source": [
    "Esta celda se enfoca en importar todas las bibliotecas necesarias y configurar el entorno de trabajo. Aquí, además de las librerías básicas (pandas, numpy, matplotlib, seaborn, etc.), se incluirán decoradores para manejar excepciones y tiempo de ejecución, así como configuraciones de visualización y logging para un mejor seguimiento"
   ]
  },
  {
   "cell_type": "code",
   "execution_count": null,
   "metadata": {
    "scrolled": true
   },
   "outputs": [],
   "source": [
    "# ----------------------------\n",
    "# Celda 07: Configuraciones Iniciales, Importaciones e Instalaciones de Bibliotecas\n",
    "# ----------------------------\n",
    "\n",
    "# Instalación de bibliotecas necesarias (descomentar si es necesario)\n",
    "!pip install numpy==1.21.2 pandas==2.1.0 matplotlib==3.7.2 seaborn==0.12.2 scikit-learn==1.3.0 imbalanced-learn==0.10.0 boruta==0.3 pdfkit\n",
    "\n",
    "import os\n",
    "import time\n",
    "import logging\n",
    "import gc\n",
    "import ipywidgets as widgets\n",
    "import matplotlib.pyplot as plt\n",
    "import pandas as pd\n",
    "import numpy as np\n",
    "import seaborn as sns\n",
    "import psutil\n",
    "\n",
    "from sklearn.preprocessing import StandardScaler, MinMaxScaler\n",
    "from imblearn.over_sampling import SMOTE\n",
    "from sklearn.model_selection import train_test_split, GridSearchCV\n",
    "from sklearn.linear_model import LogisticRegression\n",
    "from sklearn.tree import DecisionTreeClassifier\n",
    "from sklearn.ensemble import RandomForestClassifier\n",
    "from sklearn.neighbors import KNeighborsClassifier\n",
    "from sklearn.metrics import accuracy_score, f1_score, confusion_matrix, classification_report, roc_auc_score, roc_curve\n",
    "from tqdm import tqdm\n",
    "from boruta import BorutaPy\n",
    "from datetime import datetime\n",
    "import warnings\n",
    "from IPython.display import display, HTML, clear_output\n",
    "\n",
    "# Configuración de visualización para pandas y matplotlib\n",
    "%matplotlib inline\n",
    "plt.style.use('seaborn')\n",
    "pd.set_option('display.max_columns', None)\n",
    "pd.set_option('display.expand_frame_repr', False)\n",
    "pd.set_option('display.max_rows', None)\n",
    "pd.set_option('display.max_colwidth', None)\n",
    "pd.set_option('display.precision', 2)\n",
    "pd.set_option('display.float_format', '{:,.2f}'.format)\n",
    "pd.set_option('display.width', 1000)\n",
    "pd.set_option('display.show_dimensions', True)\n",
    "pd.set_option('display.memory_usage', 'deep')\n",
    "pd.set_option('display.large_repr', 'truncate')\n",
    "pd.set_option('display.colheader_justify', 'center')\n",
    "\n",
    "# Configuración de logging\n",
    "logging.basicConfig(\n",
    "    filename='proyecto_final.log',\n",
    "    level=logging.INFO,\n",
    "    format='%(asctime)s - %(levelname)s - %(message)s'\n",
    ")\n",
    "\n",
    "# Variables globales para seguimiento\n",
    "error_occurred = False\n",
    "celda_times = {}\n",
    "start_time = time.time()\n",
    "\n",
    "# Deshabilitar advertencias\n",
    "warnings.filterwarnings('ignore')"
   ]
  },
  {
   "cell_type": "markdown",
   "metadata": {},
   "source": [
    "### Preparación del Entorno para Análisis de Datos\n",
    "Importo las bibliotecas y módulos necesarios para el análisis y la modelización de datos. Esto incluye:\n",
    "- **Librerías estándar**: pandas, numpy, matplotlib, seaborn, scikit-learn.\n",
    "- **Herramientas de preprocesamiento y modelado**: StandardScaler, MinMaxScaler, SMOTE, GridSearchCV.\n",
    "- **Manejo de excepciones y monitoreo**: logging, warnings, psutil para el seguimiento del rendimiento y estado del sistema.\n",
    "\n",
    "#### Configuraciones Adicionales\n",
    "- **Estilo de gráficos**: uso seaborn para visualizaciones.\n",
    "- **Configuración de logs**: seguimiento detallado de errores y procesos.\n",
    "- **Configuración de parámetros de visualización para pandas**.\n",
    "\n",
    "**Propósito**: Esta celda prepara el entorno para el análisis posterior, garantizando que todas las bibliotecas y configuraciones necesarias estén listas.\n"
   ]
  },
  {
   "cell_type": "markdown",
   "metadata": {},
   "source": [
    "## 🛠️Decoradores y funciones para manejo de excepciones, notificaciones y seguimiento del progreso"
   ]
  },
  {
   "cell_type": "markdown",
   "metadata": {},
   "source": [
    " Desarrollo de decoradores para el manejo de excepciones y tiempo de ejecución, además de la implementación de funciones para seguimiento de progreso, notificaciones y monitoreo de uso de recursos."
   ]
  },
  {
   "cell_type": "code",
   "execution_count": null,
   "metadata": {},
   "outputs": [],
   "source": [
    "# ----------------------------\n",
    "# Celda 08: Decoradores y Funciones de Notificación con Progreso Detallado\n",
    "# ----------------------------\n",
    "\n",
    "import pandas as pd\n",
    "import numpy as np\n",
    "from tqdm.notebook import tqdm\n",
    "from ipywidgets import IntProgress, HTML as IpyHTML, VBox, HBox\n",
    "import time\n",
    "import logging\n",
    "import psutil\n",
    "import traceback\n",
    "import os\n",
    "from IPython.display import display, HTML, Javascript\n",
    "from ipywidgets import IntProgress, Button\n",
    "\n",
    "# Inicializar variables globales\n",
    "error_occurred = False\n",
    "celda_times = {}\n",
    "etapas_completadas = 2  # Contador inicial de celdas ejecutadas\n",
    "total_etapas = 26  # Total de celdas a ejecutar\n",
    "progreso_barra = None\n",
    "\n",
    "# Decorador para manejar excepciones, medir tiempo de ejecución y mostrar mensaje personalizado\n",
    "def manejar_excepciones_y_tiempo(mensaje: str = None, generar_reporte: bool = False) -> callable:\n",
    "    \"\"\"\n",
    "    Decorador para manejar excepciones, medir tiempo de ejecución y mostrar mensaje personalizado.\n",
    "    \n",
    "    Args:\n",
    "        mensaje (str): Mensaje personalizado para identificar la celda.\n",
    "        generar_reporte (bool): Si True, guarda el reporte después de la ejecución.\n",
    "        \n",
    "    Returns:\n",
    "        callable: Función decorada.\n",
    "    \"\"\"\n",
    "    def decorator(func: callable) -> callable:\n",
    "        def wrapper(*args, **kwargs):\n",
    "            global error_occurred, etapas_completadas\n",
    "            celda_start_time = time.time()\n",
    "            celda_nombre = mensaje if mensaje else f\"Celda '{func.__name__}'\"\n",
    "            \n",
    "            # Inicializar barra de progreso detallada\n",
    "            progress_detail, label_detail = None, None\n",
    "            try:\n",
    "                progress_detail, label_detail = crear_barra_progreso_detallada()\n",
    "            except Exception as e:\n",
    "                logging.error(f\"❌ Error al crear la barra de progreso detallada: {e}\")\n",
    "\n",
    "            try:\n",
    "                # Mostrar mensaje inicial y progreso general\n",
    "                actualizar_barra_progreso('info')\n",
    "                mostrar_notificacion(f\"{celda_nombre} - Iniciando ejecución...\", tipo='info')\n",
    "                \n",
    "                # Ejecutar la función decorada\n",
    "                result = func(*args, **kwargs)\n",
    "                \n",
    "                # Calcular tiempo de ejecución\n",
    "                elapsed_time = time.time() - celda_start_time\n",
    "                celda_times[celda_nombre] = elapsed_time\n",
    "                \n",
    "                # Registrar log con detalles de la ejecución\n",
    "                logging.info(f\"✅ {celda_nombre} ejecutada con éxito en {elapsed_time:.2f} segundos. Args: {args}, Kwargs: {kwargs}\")\n",
    "                \n",
    "                # Mostrar notificación de éxito\n",
    "                mostrar_notificacion(f\"{celda_nombre} - Ejecutada en {elapsed_time:.2f} segundos.\", tipo='success')\n",
    "                \n",
    "                # Actualizar progreso a verde si no hay errores\n",
    "                actualizar_barra_progreso('success')\n",
    "                \n",
    "                # Monitorear y mostrar uso de recursos después de la ejecución\n",
    "                recursos_usados = mostrar_uso_recursos()\n",
    "                logging.info(f\"Recursos usados: {recursos_usados}\")\n",
    "                \n",
    "                # Actualizar progreso y avance\n",
    "                etapas_completadas += 1\n",
    "                mostrar_progreso(etapas_completadas, total_etapas)\n",
    "                \n",
    "                # Guardar automáticamente el notebook\n",
    "                auto_guardado_notebook()\n",
    "                \n",
    "                # Guardar reporte si es necesario\n",
    "                if generar_reporte:\n",
    "                    guardar_reporte()\n",
    "                \n",
    "                return result\n",
    "            \n",
    "            except FileNotFoundError as e:\n",
    "                actualizar_barra_progreso('danger')\n",
    "                mostrar_notificacion(f\"Error de archivo en {celda_nombre}: {str(e)}. Verifica la ruta del archivo.\", tipo='error')\n",
    "            except ValueError as e:\n",
    "                actualizar_barra_progreso('warning')\n",
    "                mostrar_notificacion(f\"Error de valor en {celda_nombre}: {str(e)}. Revisa los tipos de datos.\", tipo='warning')\n",
    "            except Exception as e:\n",
    "                error_occurred = True\n",
    "                tb = traceback.format_exc()\n",
    "                logging.error(f\"❌ Error en {celda_nombre}: {str(e)}\\nTraceback:\\n{tb}\")\n",
    "                actualizar_barra_progreso('danger')\n",
    "                mostrar_notificacion(f\"Error en {celda_nombre}: {str(e)}. Revisa los logs para más detalles.\", tipo='error')\n",
    "            finally:\n",
    "                if generar_reporte:\n",
    "                    guardar_reporte()\n",
    "        return wrapper\n",
    "    return decorator\n",
    "\n",
    "# Crear barra de progreso detallada para DataFrame\n",
    "def crear_barra_progreso_detallada():\n",
    "    # Crear progreso detallado\n",
    "    progress = IntProgress(min=0, max=1, value=0, bar_style='info')\n",
    "    \n",
    "    # Crear label para detalles\n",
    "    label = IpyHTML(value=\"Iniciando...\")\n",
    "    \n",
    "    # Asegurar que se muestre correctamente como widget\n",
    "    box = VBox([progress, label])\n",
    "    \n",
    "    # Mostrar barra de progreso detallada\n",
    "    display(box)\n",
    "    \n",
    "    return progress, label\n",
    "\n",
    "# Función para mostrar notificaciones estilizadas\n",
    "def mostrar_notificacion(mensaje: str, tipo: str = 'info', bold: bool = False, icon: str = '🔔') -> None:\n",
    "    colores = {\n",
    "        'info': '#2196F3',\n",
    "        'success': '#4CAF50',\n",
    "        'warning': '#FF9800',\n",
    "        'error': '#F44336'\n",
    "    }\n",
    "    color = colores.get(tipo, '#2196F3')\n",
    "    estilo_bold = 'font-weight: bold;' if bold else ''\n",
    "    display(IpyHTML(f\"<div style='border: 1px solid {color}; padding: 10px; {estilo_bold}'>{icon} {mensaje}</div>\"))\n",
    "\n",
    "# Función para mostrar el progreso del proyecto\n",
    "def mostrar_progreso(etapas_completadas: int, total_etapas: int):\n",
    "    global progreso_barra\n",
    "    if progreso_barra is None:\n",
    "        progreso_barra = IntProgress(min=0, max=total_etapas, value=etapas_completadas, description='Progreso')\n",
    "        display(progreso_barra)\n",
    "    progreso_barra.value = etapas_completadas\n",
    "    progreso_barra.bar_style = 'info' if etapas_completadas < total_etapas else 'success'\n",
    "\n",
    "# Actualizar la barra de progreso según el estado\n",
    "def actualizar_barra_progreso(estado: str):\n",
    "    if progreso_barra is not None:\n",
    "        estilos = {\n",
    "            'info': 'info',\n",
    "            'success': 'success',\n",
    "            'warning': 'warning',\n",
    "            'danger': 'danger'\n",
    "        }\n",
    "        progreso_barra.bar_style = estilos.get(estado, 'info')\n",
    "\n",
    "# Función para monitorear uso de recursos (memoria y CPU)\n",
    "def mostrar_uso_recursos() -> str:\n",
    "    memoria = psutil.virtual_memory()\n",
    "    uso_cpu = psutil.cpu_percent(interval=1)\n",
    "    return f\"Memoria usada: {memoria.used / (1024**3):.2f} GB / {memoria.total / (1024**3):.2f} GB ({memoria.percent}%), CPU: {uso_cpu}%\"\n",
    "\n",
    "# Guardar el reporte de ejecución\n",
    "def guardar_reporte(nombre_archivo: str = 'reporte.html') -> None:\n",
    "    with open(nombre_archivo, 'w') as file:\n",
    "        file.write(\"<html><body><h1>Reporte de Ejecución</h1>\")\n",
    "        for celda, tiempo in celda_times.items():\n",
    "            file.write(f\"<p>{celda}: {tiempo:.2f} segundos</p>\")\n",
    "        file.write(\"</body></html>\")\n",
    "    mostrar_notificacion(f\"📄 Reporte guardado como {nombre_archivo}\", tipo='success', bold=True, icon='💾')\n",
    "\n",
    "# Auto-guardado del notebook\n",
    "def auto_guardado_notebook():\n",
    "    try:\n",
    "        os.system('jupyter notebook save')\n",
    "        mostrar_notificacion(\"Notebook guardado automáticamente.\", tipo='success', icon='💾')\n",
    "    except Exception as e:\n",
    "        mostrar_notificacion(f\"Error al guardar notebook: {str(e)}\", tipo='error', icon='❌')\n",
    "\n",
    "# Botón para continuar la ejecución manualmente\n",
    "def boton_continuar():\n",
    "    btn = Button(description=\"Continuar ejecución\", button_style='info')\n",
    "    btn.on_click(lambda x: ejecutar_siguiente())\n",
    "    display(btn)\n",
    "\n",
    "# Función para validar ejecución al finalizar\n",
    "def validar_ejecucion_final():\n",
    "    \"\"\"\n",
    "    Valida el estado final de la ejecución del notebook.\n",
    "    Muestra una notificación dependiendo de si hubo errores o no.\n",
    "    \"\"\"\n",
    "    if error_occurred:\n",
    "        mostrar_notificacion(\"❌ Se encontraron errores durante la ejecución del notebook. Revisa el reporte para más detalles.\", tipo='error', icon='⚠️')\n",
    "    else:\n",
    "        mostrar_notificacion(\"✔️ Notebook ejecutado completamente sin errores. ¡Buen trabajo!\", tipo='success', icon='✔️')\n",
    "\n",
    "    # Mostrar el tiempo total de ejecución al finalizar todas las celdas\n",
    "    tiempo_total = sum(celda_times.values())\n",
    "    mostrar_notificacion(f\"⏱️ Tiempo total de ejecución: {tiempo_total:.2f} segundos.\", tipo='info', icon='⏲️')\n",
    "\n",
    "# Ejemplo de llamada inicial para progreso\n",
    "mostrar_progreso(etapas_completadas, total_etapas)\n",
    "\n",
    "# Botón para finalizar y validar la ejecución\n",
    "def finalizar_ejecucion():\n",
    "    \"\"\"\n",
    "    Muestra un botón para finalizar la ejecución y validar el estado.\n",
    "    Al hacer clic, se ejecuta la función de validación de ejecución.\n",
    "    \"\"\"\n",
    "    btn = Button(description=\"Finalizar Ejecución y Validar\", button_style='success')\n",
    "    btn.on_click(lambda x: validar_ejecucion_final())\n",
    "    display(btn)\n",
    "\n",
    "# Mostrar botón de validación final si se completaron todas las etapas\n",
    "if etapas_completadas >= total_etapas:\n",
    "    finalizar_ejecucion()\n",
    "\n",
    "# Guardar el reporte al final del notebook\n",
    "guardar_reporte()\n",
    "\n",
    "# ----------------------------\n",
    "# Función para Procesar Detalladamente un DataFrame con Progreso\n",
    "# ----------------------------\n",
    "\n",
    "def process_dataframe(df, progress_detail=None, label_detail=None):\n",
    "    \"\"\"\n",
    "    Procesa un DataFrame fila por fila mostrando el progreso detallado.\n",
    "    \n",
    "    Args:\n",
    "        df (pd.DataFrame): DataFrame a procesar.\n",
    "        progress_detail (IntProgress): Barra de progreso detallada para mostrar estado de fila.\n",
    "        label_detail (HTML): Label para mostrar el estado detallado de procesamiento.\n",
    "    \"\"\"\n",
    "    \n",
    "    if progress_detail and label_detail:\n",
    "        # Configurar progreso detallado inicial\n",
    "        progress_detail.max = len(df)\n",
    "        progress_detail.value = 0\n",
    "        progress_detail.bar_style = 'info'  # Azul para inicio\n",
    "        label_detail.value = \"Iniciando procesamiento de DataFrame...\"\n",
    "\n",
    "    # Iterar sobre las filas del DataFrame con barra de progreso\n",
    "    for i in tqdm(range(len(df))):\n",
    "        try:\n",
    "            # Simulación de procesamiento de fila\n",
    "            time.sleep(0.1)  # Simula tiempo de procesamiento por fila\n",
    "            progress_detail.value = i + 1  # Actualizar barra de progreso\n",
    "\n",
    "            # Actualizar barra de progreso y label durante ejecución\n",
    "            progress_detail.bar_style = 'info'  # Azul para ejecución\n",
    "            label_detail.value = f\"Procesando fila {i + 1}/{len(df)}\"\n",
    "            \n",
    "            # Simular error en fila 5 para pruebas (puedes cambiar o eliminar esto)\n",
    "            if i == 5:\n",
    "                raise ValueError(\"Error simulado en la fila 5\")\n",
    "                \n",
    "        except ValueError as e:\n",
    "            # Manejar error específico\n",
    "            progress_detail.bar_style = 'danger'  # Rojo para error\n",
    "            label_detail.value = f\"Error: {e}\"\n",
    "            mostrar_notificacion(f\"Error durante el procesamiento de fila {i+1}: {e}\", tipo='error', icon='❌')\n",
    "            break\n",
    "            \n",
    "        except Exception as e:\n",
    "            # Manejar otras excepciones\n",
    "            progress_detail.bar_style = 'warning'  # Amarillo para excepción\n",
    "            label_detail.value = f\"Excepción: {e}\"\n",
    "            mostrar_notificacion(f\"Excepción durante el procesamiento de fila {i+1}: {e}\", tipo='warning', icon='⚠️')\n",
    "            break\n",
    "            \n",
    "    else:\n",
    "        # Si no hay errores, actualizar barra de progreso a estado de éxito\n",
    "        progress_detail.bar_style = 'success'  # Verde para finalización exitosa\n",
    "        label_detail.value = \"Ejecución completada sin errores\"\n",
    "        mostrar_notificacion(\"✔️ Procesamiento del DataFrame completado exitosamente.\", tipo='success', icon='✅')"
   ]
  },
  {
   "cell_type": "markdown",
   "metadata": {},
   "source": [
    "### 🛠️ Decoradores y Funciones de Notificación con Seguimiento del Progreso\n",
    "\n",
    "Esta sección del notebook está dedicada a la creación de **decoradores** y **funciones** que facilitan el manejo de excepciones, seguimiento del progreso, y notificaciones al usuario.\n",
    "\n",
    "#### 🎯 Objetivos de los Decoradores y Funciones\n",
    "- **Manejo de Excepciones y Tiempos de Ejecución**:  \n",
    "   Los decoradores desarrollados permiten:\n",
    "   - Capturar **errores de forma específica** durante la ejecución de las celdas.\n",
    "   - Registrar el **tiempo** que toma cada proceso en el notebook.\n",
    "   - Ayudar a **monitorear el flujo** de ejecución y posibles cuellos de botella.\n",
    "\n",
    "- **Notificaciones Visuales**:  \n",
    "   Las funciones de notificación proporcionan:\n",
    "   - **Retroalimentación visual** en tiempo real sobre el estado de la ejecución.\n",
    "   - Mensajes diferenciados para **éxito**, **advertencias**, y **errores**, ayudando al usuario a identificar y entender rápidamente cualquier incidencia.\n",
    "\n",
    "- **Seguimiento del Progreso**:  \n",
    "   - La barra de progreso (`IntProgress`) muestra el **avance general** del notebook.\n",
    "   - **Barras de progreso detalladas** permiten seguir la ejecución de operaciones individuales dentro de un `DataFrame`.\n",
    "\n",
    "#### 🔧 Configuraciones Adicionales\n",
    "- **Generación de Reportes**:  \n",
    "   Se genera un **reporte HTML** que incluye el tiempo de ejecución de cada celda, lo que ayuda a identificar posibles **cuellos de botella** en el procesamiento.\n",
    "\n",
    "- **Auto-Guardado del Notebook**:  \n",
    "   Se ha implementado una función de **auto-guardado** que guarda el notebook automáticamente al completar cada etapa, asegurando que el trabajo se **registre regularmente** y se prevengan pérdidas de datos.\n",
    "\n",
    "- **Monitoreo de Recursos**:  \n",
    "   La celda también incluye una función para monitorear el uso de **recursos del sistema** (CPU y memoria), ayudando a garantizar un uso eficiente del entorno de ejecución y previniendo posibles problemas de rendimiento.\n",
    "\n",
    "---\n",
    "\n",
    "#### 🚀 Próximos Pasos\n",
    "La siguiente sección se enfocará en el **análisis exploratorio de datos (EDA)** y el **preprocesamiento** necesario para preparar el dataset de cara al **modelado predictivo**.\n"
   ]
  },
  {
   "cell_type": "markdown",
   "metadata": {},
   "source": [
    "## 📥 Carga de Datos"
   ]
  },
  {
   "cell_type": "markdown",
   "metadata": {},
   "source": [
    "Carga los datos provenientes de los archivos CSV y los convierte a DataFrames. Incluye validación de la correcta lectura y un vistazo general de la estructura de los datos."
   ]
  },
  {
   "cell_type": "code",
   "execution_count": null,
   "metadata": {},
   "outputs": [],
   "source": [
    "import os\n",
    "import pandas as pd\n",
    "import numpy as np\n",
    "\n",
    "# Decorador para manejo de excepciones y monitoreo de recursos\n",
    "@manejar_excepciones_y_tiempo(mensaje=\"Carga y Verificación de Datos\", generar_reporte=True)\n",
    "def cargar_y_verificar_dataframes(ruta):\n",
    "    \"\"\"\n",
    "    Carga y verifica los DataFrames necesarios para el análisis.\n",
    "\n",
    "    Args:\n",
    "        ruta (str): Ruta al directorio donde se encuentran los archivos CSV.\n",
    "\n",
    "    Returns:\n",
    "        dict: Diccionario con los DataFrames cargados.\n",
    "    \"\"\"\n",
    "    # Lista de archivos esperados y sus nombres\n",
    "    archivos_requeridos = ['contract', 'personal', 'internet', 'phone']\n",
    "    dataframes = {}\n",
    "\n",
    "    # Iterar sobre la lista de archivos requeridos\n",
    "    for nombre in archivos_requeridos:\n",
    "        archivo = os.path.join(ruta, f\"{nombre}.csv\")\n",
    "\n",
    "        try:\n",
    "            # Verificar si el archivo existe\n",
    "            if os.path.exists(archivo):\n",
    "                # Cargar el DataFrame\n",
    "                df = pd.read_csv(archivo)\n",
    "\n",
    "                # Si el archivo es 'contract', convertir 'TotalCharges' a numérico\n",
    "                if nombre == 'contract' and 'TotalCharges' in df.columns:\n",
    "                    df['TotalCharges'] = pd.to_numeric(df['TotalCharges'], errors='coerce')\n",
    "\n",
    "                # Agregar el DataFrame al diccionario\n",
    "                dataframes[nombre] = df\n",
    "\n",
    "                # Verificación inicial: tipos de datos y valores nulos\n",
    "                tipos_datos = df.dtypes\n",
    "                valores_nulos = df.isnull().sum().sum()\n",
    "                print(f\"\\n✔️ {nombre}.csv cargado correctamente:\")\n",
    "                print(f\"  - Filas: {df.shape[0]}, Columnas: {df.shape[1]}\")\n",
    "                print(f\"  - Tipos de Datos:\\n{tipos_datos}\")\n",
    "                print(f\"  - Valores nulos encontrados: {valores_nulos}\")\n",
    "\n",
    "                # Mostrar primeras filas del DataFrame\n",
    "                display(df.head())\n",
    "\n",
    "                # Si hay valores nulos, mostrar detalles\n",
    "                if valores_nulos > 0:\n",
    "                    columnas_con_nulos = df.isnull().sum()\n",
    "                    columnas_con_nulos = columnas_con_nulos[columnas_con_nulos > 0]\n",
    "                    print(f\"⚠️ Columnas con valores nulos en {nombre}.csv:\\n{columnas_con_nulos}\")\n",
    "\n",
    "                    # Mostrar ejemplo de registros con nulos\n",
    "                    display(df[df.isnull().any(axis=1)].head())\n",
    "            \n",
    "            else:\n",
    "                # Si el archivo no existe, notificar y crear un DataFrame vacío\n",
    "                print(f\"❌ Archivo no encontrado: {nombre}.csv\")\n",
    "                dataframes[nombre] = pd.DataFrame()\n",
    "        \n",
    "        except ZeroDivisionError as e:\n",
    "            # Manejar error específico de división por cero\n",
    "            print(f\"❌ Error de división por cero al cargar {nombre}.csv: {e}\")\n",
    "            logging.error(f\"Error de división por cero: {e}\")\n",
    "            dataframes[nombre] = pd.DataFrame()\n",
    "        \n",
    "        except Exception as e:\n",
    "            # Manejar otros errores durante la carga\n",
    "            print(f\"❌ Error al cargar {nombre}.csv: {e}\")\n",
    "            dataframes[nombre] = pd.DataFrame()  # Crear un DataFrame vacío en caso de error\n",
    "\n",
    "    return dataframes\n",
    "\n",
    "# Ruta a los archivos CSV\n",
    "data_path = '/datasets/final_provider/'\n",
    "\n",
    "# Cargar y verificar los DataFrames\n",
    "dataframes_cargados = cargar_y_verificar_dataframes(data_path)\n",
    "\n",
    "# Validar que se cargaron correctamente los DataFrames\n",
    "if isinstance(dataframes_cargados, dict) and all(isinstance(df, pd.DataFrame) for df in dataframes_cargados.values()):\n",
    "    print(\"\\n✔️ Todos los DataFrames se cargaron correctamente.\")\n",
    "else:\n",
    "    print(\"\\n❌ Error: No todos los DataFrames se cargaron correctamente.\")\n"
   ]
  },
  {
   "cell_type": "markdown",
   "metadata": {},
   "source": [
    "### 📥 Carga y Verificación de Datos\n",
    "\n",
    "Esta sección se enfoca en cargar los datos provenientes de varios archivos **CSV** y verificar su correcta lectura y estructura antes de proceder con el análisis exploratorio.\n",
    "\n",
    "#### 🎯 Objetivos de la Carga de Datos\n",
    "- **Carga de archivos CSV**:  \n",
    "   Los archivos que se cargan y validan son los siguientes:\n",
    "   - `contract.csv`: Información sobre los contratos y facturación de los clientes.\n",
    "   - `personal.csv`: Datos personales de los clientes, como género y estado civil.\n",
    "   - `internet.csv`: Detalles de los servicios de internet contratados.\n",
    "   - `phone.csv`: Información sobre los servicios de telefonía asociados a cada cliente.\n",
    "\n",
    "- **Validación de la Integridad de los Datos**:  \n",
    "   - Verificar los **tipos de datos** (`dtypes`) de cada columna para asegurar que sean los adecuados para el análisis.\n",
    "   - Detectar y contar los **valores nulos** en los `DataFrames` para identificar posibles problemas de calidad de datos.\n",
    "\n",
    "#### 🔍 Exploración y Verificación Inicial de los Datos\n",
    "Después de cargar cada archivo:\n",
    "- Se muestra un **vistazo inicial** de las primeras filas de los datos (`df.head()`) para validar visualmente su estructura y contenido.\n",
    "- Se genera un **resumen de la información** (`df.info()`), incluyendo detalles sobre las columnas, tipos de datos y posibles valores faltantes.\n",
    "\n",
    "#### 🚨 Manejo de Errores y Notificaciones\n",
    "Se utilizan **notificaciones visuales** para mantener al usuario informado sobre el estado de la carga de datos y cualquier problema detectado:\n",
    "\n",
    "- **Éxito en la Carga**: Cuando un archivo CSV es cargado correctamente, se notifica con detalles como el número de filas y columnas, y si existen valores nulos.\n",
    "- **Errores Comunes**:\n",
    "   - **Archivo no encontrado**: Si no se encuentra el archivo CSV en la ruta especificada.\n",
    "   - **Errores de lectura**: Problemas al leer el archivo (por ejemplo, errores de parseo o formato incorrecto).\n",
    "   - **Valores nulos detectados**: Si alguna columna tiene valores nulos, se notifica al usuario y se muestra un ejemplo de los registros afectados.\n",
    "\n",
    "#### 📊 Ejemplo de Problema Detectado en `contract.csv`\n",
    "Se encontraron valores nulos en la columna **`TotalCharges`** de `contract.csv`. Esto requiere tratamiento previo al análisis para evitar problemas en modelos predictivos o cálculos estadísticos.\n",
    "\n",
    "---\n",
    "\n",
    "#### 🚀 Próximos Pasos\n",
    "Tras la carga y validación de los datos:\n",
    "- Se realizará un **Análisis Exploratorio de Datos (EDA)** para entender la distribución y relaciones entre las variables.\n",
    "- Se llevará a cabo la **limpieza y tratamiento de datos**, como el manejo de valores nulos, para asegurar la calidad del dataset antes de proceder con el modelado.\n",
    "\n"
   ]
  },
  {
   "cell_type": "markdown",
   "metadata": {},
   "source": [
    "## 🔄 Consolidación de Datos"
   ]
  },
  {
   "cell_type": "markdown",
   "metadata": {},
   "source": [
    "Consolidación de los diferentes DataFrames en uno unificado, verificando que los datos sean consistentes y sin duplicados. Clasificación de variables según tipo (booleanas, categóricas, numéricas, ordinales). Integración de los diferentes DataFrames en una tabla unificada a través de join usando el campo customerID."
   ]
  },
  {
   "cell_type": "code",
   "execution_count": null,
   "metadata": {
    "scrolled": true
   },
   "outputs": [],
   "source": [
    "# ----------------------------\n",
    "# Celda 10: Unificación, Clasificación y Codificación de Variables\n",
    "# ----------------------------\n",
    "\n",
    "import pandas as pd\n",
    "import numpy as np\n",
    "\n",
    "# Decorador para manejo de excepciones y monitoreo de recursos\n",
    "@manejar_excepciones_y_tiempo(mensaje=\"Unificación, Clasificación y Codificación de Variables\", generar_reporte=True)\n",
    "def unificar_clasificar_codificar(dataframes):\n",
    "    \"\"\"\n",
    "    Unifica los DataFrames cargados, clasifica las variables adecuadamente y realiza la codificación de variables necesarias.\n",
    "    \n",
    "    Args:\n",
    "        dataframes (dict): Diccionario con DataFrames de cliente, contrato, internet y teléfono.\n",
    "    \n",
    "    Returns:\n",
    "        pd.DataFrame: DataFrame unificado, clasificado y codificado.\n",
    "    \"\"\"\n",
    "    # Columnas relevantes para cada DataFrame\n",
    "    cliente_cols = ['customerID', 'gender', 'SeniorCitizen', 'Partner', 'Dependents']\n",
    "    contrato_cols = ['customerID', 'BeginDate', 'EndDate', 'Type', 'PaperlessBilling', 'PaymentMethod', 'MonthlyCharges', 'TotalCharges']\n",
    "    internet_cols = ['customerID', 'InternetService', 'OnlineSecurity', 'OnlineBackup', 'DeviceProtection', 'TechSupport', 'StreamingTV', 'StreamingMovies']\n",
    "    telefono_cols = ['customerID', 'MultipleLines']\n",
    "    \n",
    "    # Selección de columnas relevantes si existen en cada DataFrame\n",
    "    df_cliente = dataframes.get('personal', pd.DataFrame()).copy()\n",
    "    df_cliente = df_cliente[cliente_cols] if not df_cliente.empty else pd.DataFrame(columns=cliente_cols)\n",
    "    \n",
    "    df_contrato = dataframes.get('contract', pd.DataFrame()).copy()\n",
    "    df_contrato = df_contrato[contrato_cols] if not df_contrato.empty else pd.DataFrame(columns=contrato_cols)\n",
    "    \n",
    "    df_internet = dataframes.get('internet', pd.DataFrame()).copy()\n",
    "    df_internet = df_internet[internet_cols] if not df_internet.empty else pd.DataFrame(columns=internet_cols)\n",
    "    \n",
    "    df_telefono = dataframes.get('phone', pd.DataFrame()).copy()\n",
    "    df_telefono = df_telefono[telefono_cols] if not df_telefono.empty else pd.DataFrame(columns=telefono_cols)\n",
    "    \n",
    "    # Renombrar 'Type' a 'Contract' para mantener consistencia\n",
    "    df_contrato.rename(columns={'Type': 'Contract'}, inplace=True)\n",
    "    \n",
    "    # Unificación de DataFrames usando \"left join\" para mantener todos los clientes\n",
    "    df_unificado = df_cliente.merge(df_contrato, on=\"customerID\", how=\"left\")\n",
    "    df_unificado = df_unificado.merge(df_internet, on=\"customerID\", how=\"left\")\n",
    "    df_unificado = df_unificado.merge(df_telefono, on=\"customerID\", how=\"left\")\n",
    "    \n",
    "    # Verificar y eliminar duplicados si existen\n",
    "    before_dedup = df_unificado.shape[0]\n",
    "    df_unificado.drop_duplicates(subset=\"customerID\", inplace=True)\n",
    "    after_dedup = df_unificado.shape[0]\n",
    "    print(f\"✔️ Eliminados {before_dedup - after_dedup} duplicados basados en 'customerID'.\")\n",
    "\n",
    "    # Convertir 'TotalCharges' a numérico y manejar valores nulos\n",
    "    df_unificado['TotalCharges'] = pd.to_numeric(df_unificado['TotalCharges'], errors='coerce')\n",
    "    df_unificado['MonthlyCharges'] = pd.to_numeric(df_unificado['MonthlyCharges'], errors='coerce')\n",
    "    \n",
    "    # Rellenar valores nulos de 'TotalCharges' según el tipo de contrato\n",
    "    df_unificado.loc[(df_unificado['TotalCharges'].isna()) & (df_unificado['Contract'] == 'One year'), 'TotalCharges'] = df_unificado['MonthlyCharges'] * 12\n",
    "    df_unificado.loc[(df_unificado['TotalCharges'].isna()) & (df_unificado['Contract'] == 'Two year'), 'TotalCharges'] = df_unificado['MonthlyCharges'] * 24\n",
    "    \n",
    "    # Rellenar o eliminar nulos en 'TotalCharges' para contratos 'Month-to-month'\n",
    "    month_to_month_nulls = df_unificado[(df_unificado['TotalCharges'].isna()) & (df_unificado['Contract'] == 'Month-to-month')]\n",
    "    if not month_to_month_nulls.empty:\n",
    "        print(f\"⚠️ Encontrados {month_to_month_nulls.shape[0]} registros con 'TotalCharges' nulo para contratos mensuales. Se eliminan del análisis.\")\n",
    "        df_unificado.drop(month_to_month_nulls.index, inplace=True)\n",
    "\n",
    "    # Asegurar que 'SeniorCitizen' sea binaria\n",
    "    df_unificado['SeniorCitizen'] = df_unificado['SeniorCitizen'].fillna(0).astype(int)\n",
    "    \n",
    "    # Crear columna 'churn' \n",
    "    df_unificado['churn'] = (\n",
    "        (df_unificado['Contract'] == 'Month-to-month') & \n",
    "        ((df_unificado['TotalCharges'] == 0) | (df_unificado['MonthlyCharges'] > 0))\n",
    "    ).astype(int)\n",
    "    \n",
    "    # Clasificación de variables booleanas y categóricas\n",
    "    booleanas = ['SeniorCitizen', 'Partner', 'Dependents', 'PaperlessBilling', 'OnlineSecurity', 'OnlineBackup',\n",
    "                 'DeviceProtection', 'TechSupport', 'StreamingTV', 'StreamingMovies', 'MultipleLines']\n",
    "    categóricas = ['gender', 'InternetService', 'Contract', 'PaymentMethod']\n",
    "    \n",
    "    # Mapeo de variables booleanas a valores binarios\n",
    "    for col in booleanas:\n",
    "        if col in df_unificado.columns:\n",
    "            df_unificado[col] = df_unificado[col].map({'Yes': 1, 'No': 0, 1: 1, 0: 0})\n",
    "    \n",
    "    # Codificar variables categóricas con One-Hot Encoding\n",
    "    df_unificado = pd.get_dummies(df_unificado, columns=[col for col in categóricas if col in df_unificado.columns], drop_first=True)\n",
    "    \n",
    "    # Reporte de valores nulos restantes en el DataFrame unificado\n",
    "    nulos_resumen = df_unificado.isnull().sum()\n",
    "    nulos_resumen = nulos_resumen[nulos_resumen > 0]\n",
    "    \n",
    "    if not nulos_resumen.empty:\n",
    "        print(f\"⚠️ Resumen de valores nulos por columna:\\n{nulos_resumen}\")\n",
    "    else:\n",
    "        print(\"✔️ No se encontraron valores nulos remanentes.\")\n",
    "\n",
    "    # Verificación de tipos de datos\n",
    "    print(\"\\n📊 Distribución de tipos de datos:\")\n",
    "    print(df_unificado.dtypes.value_counts())\n",
    "    \n",
    "    # Resultado final de unificación y codificación\n",
    "    print(f\"\\n✔️ Unificación y codificación completada. Dimensiones finales del DataFrame: {df_unificado.shape}\")\n",
    "    \n",
    "    return df_unificado if not df_unificado.empty else None\n",
    "\n",
    "# Llamada a la función con DataFrames cargados\n",
    "df_unificado = unificar_clasificar_codificar(dataframes_cargados)\n",
    "\n",
    "# Mostrar un resumen del DataFrame unificado para validación\n",
    "if df_unificado is not None:\n",
    "    display(df_unificado.head())\n",
    "    display(df_unificado.info())\n",
    "    print(f\"\\n✔️ DataFrame unificado con éxito. Filas: {df_unificado.shape[0]}, Columnas: {df_unificado.shape[1]}\")\n",
    "else:\n",
    "    print(\"❌ Error: La unificación y codificación del DataFrame no produjo resultados.\")\n"
   ]
  },
  {
   "cell_type": "markdown",
   "metadata": {},
   "source": [
    "### 🔄 Unificación, Clasificación y Codificación de Variables\n",
    "\n",
    "En esta etapa se realiza la unificación de los diferentes archivos **CSV** cargados previamente, se lleva a cabo la clasificación de las variables según su tipo (booleanas, categóricas, numéricas) y se implementan las codificaciones necesarias para facilitar el análisis y modelado posterior.\n",
    "\n",
    "#### 🎯 Objetivos de la Unificación y Codificación\n",
    "- **Unificación de DataFrames**: Combinar los datos de clientes, contratos, internet y telefonía para obtener una vista completa de cada cliente en un solo `DataFrame`.\n",
    "- **Tratamiento de Datos**:\n",
    "   - Identificar y eliminar **duplicados** basados en la columna `customerID`.\n",
    "   - Convertir la columna **`TotalCharges`** a tipo numérico y manejar valores nulos.\n",
    "   - Rellenar valores nulos en `TotalCharges` en función del tipo de contrato (`One year`, `Two year`, `Month-to-month`).\n",
    "   - Clasificar correctamente las variables booleanas y categóricas para realizar una codificación efectiva.\n",
    "\n",
    "#### 🔍 Proceso de Unificación y Codificación\n",
    "- **Selección de Columnas Relevantes**  \n",
    "  Cada archivo **CSV** (`personal.csv`, `contract.csv`, `internet.csv`, `phone.csv`) tiene columnas de interés que se seleccionan para crear el `DataFrame` unificado.\n",
    "  \n",
    "- **Renombrar Columnas**  \n",
    "  La columna **`Type`** en `contract.csv` se renombra a **`Contract`** para mantener consistencia con su significado.\n",
    "\n",
    "- **Unificación de DataFrames**  \n",
    "  Los DataFrames se combinan mediante un \"left join\" usando `customerID` como clave, asegurando que todos los clientes presentes en `personal.csv` sean considerados.\n",
    "\n",
    "- **Tratamiento de Valores Nulos y Duplicados**  \n",
    "  - Se detectaron y eliminaron **0 duplicados** basados en `customerID`.\n",
    "  - La columna `TotalCharges` fue convertida a **numérica** y sus valores nulos tratados de la siguiente manera:\n",
    "    - Contratos **\"One year\"** y **\"Two year\"**: Los valores nulos se rellenaron con el producto de `MonthlyCharges` y la duración del contrato (12 o 24 meses).\n",
    "    - Contratos **\"Month-to-month\"**: Los valores nulos fueron eliminados del análisis por falta de una imputación razonable.\n",
    "\n",
    "- **Clasificación y Codificación de Variables**  \n",
    "  - Variables booleanas (`Yes/No`, `1/0`) se transformaron a **valores binarios** (0 o 1).\n",
    "  - Variables categóricas como `gender`, `InternetService`, `Contract`, y `PaymentMethod` fueron codificadas usando **One-Hot Encoding**, evitando la multicolinealidad mediante el uso de `drop_first=True`.\n",
    "\n",
    "#### 📊 Hallazgos del DataFrame Unificado\n",
    "- **Valores Nulos Restantes**  \n",
    "  Se detectaron **valores nulos** en columnas relacionadas con los servicios de internet y telefonía (por ejemplo, `OnlineSecurity`, `OnlineBackup`, `DeviceProtection`, etc.), ya que no todos los clientes tenían estos servicios.\n",
    "\n",
    "    | Columna             | Nulos |\n",
    "    |---------------------|-------|\n",
    "    | OnlineSecurity      | 1526  |\n",
    "    | OnlineBackup        | 1526  |\n",
    "    | DeviceProtection    | 1526  |\n",
    "    | TechSupport         | 1526  |\n",
    "    | StreamingTV         | 1526  |\n",
    "    | StreamingMovies     | 1526  |\n",
    "    | MultipleLines       | 682   |\n",
    "\n",
    "- **Tipos de Datos**  \n",
    "  - El `DataFrame` final contiene una variedad de tipos de datos (`float64`, `int64`, `uint8`, `object`), lo cual es adecuado para el análisis y modelado posterior.\n",
    "  - La variable `churn` fue generada como una variable binaria que indica si un cliente podría abandonar el servicio según ciertas condiciones.\n",
    "\n",
    "#### 🚀 Próximos Pasos\n",
    "- **Tratamiento de Nulos Restantes**: Decidir el manejo de valores nulos en columnas de servicios (rellenar con ceros o eliminar).\n",
    "- **Análisis Exploratorio de Datos (EDA)**: Realizar un análisis exploratorio para identificar patrones, distribuciones y relaciones en los datos.\n",
    "- **Modelado Predictivo**: Utilizar el `DataFrame` unificado y limpio para construir y evaluar modelos predictivos de `churn`.\n",
    "\n",
    "En esta celda, se completó exitosamente la unificación y codificación de variables, dejando el `DataFrame` listo para la fase de análisis y modelado. ✔️\n"
   ]
  },
  {
   "cell_type": "markdown",
   "metadata": {},
   "source": [
    "## 📝 Evaluación de Calidad de Datos"
   ]
  },
  {
   "cell_type": "code",
   "execution_count": null,
   "metadata": {},
   "outputs": [],
   "source": [
    "# ----------------------------\n",
    "# Celda 11: Evaluación de Calidad de Datos\n",
    "# ----------------------------\n",
    "import pandas as pd\n",
    "\n",
    "@manejar_excepciones_y_tiempo(mensaje=\"Evaluación de Calidad de Datos\")\n",
    "def evaluar_calidad_datos(df):\n",
    "    \"\"\"\n",
    "    Evalúa la calidad de datos mediante la identificación de valores ausentes, inconsistencias, \n",
    "    datos duplicados y atípicos.\n",
    "\n",
    "    Args:\n",
    "        df (pd.DataFrame): DataFrame a evaluar.\n",
    "    \"\"\"\n",
    "    print(\"🔍 Análisis de calidad de datos...\")\n",
    "\n",
    "    # Valores ausentes\n",
    "    valores_nulos = df.isnull().sum()\n",
    "    print(f\"Valores nulos por columna:\\n{valores_nulos[valores_nulos > 0]}\")\n",
    "    \n",
    "    # Datos duplicados\n",
    "    duplicados = df.duplicated().sum()\n",
    "    print(f\"Datos duplicados: {duplicados}\")\n",
    "\n",
    "    # Análisis de estadísticas descriptivas\n",
    "    print(\"Estadísticas descriptivas:\")\n",
    "    print(df.describe())\n",
    "\n",
    "    # Detección de outliers\n",
    "    print(\"🔎 Detectando outliers en columnas numéricas...\")\n",
    "    outliers = df.select_dtypes(include=['float64', 'int64']).apply(lambda x: (x > x.mean() + 3*x.std()).sum())\n",
    "    print(f\"Outliers por columna:\\n{outliers[outliers > 0]}\")\n",
    "\n",
    "# Evaluar calidad de datos para cada DataFrame\n",
    "evaluar_calidad_datos(df_unificado)\n",
    "\n"
   ]
  },
  {
   "cell_type": "markdown",
   "metadata": {},
   "source": [
    "### 📝 Evaluación de Calidad de Datos\n",
    "\n",
    "En esta sección se realiza un análisis detallado para evaluar la calidad de los datos en el `DataFrame` unificado, identificando posibles problemas como valores nulos, datos duplicados, y outliers en columnas numéricas. Esto garantiza que la calidad de los datos sea adecuada antes de avanzar al análisis exploratorio y modelado.\n",
    "\n",
    "#### 🎯 Objetivos de la Evaluación de Calidad\n",
    "- **Identificar Valores Nulos**:  \n",
    "  Se evalúan todas las columnas del `DataFrame` para detectar valores ausentes y determinar si necesitan tratamiento o limpieza adicional.\n",
    "- **Detección de Duplicados**:  \n",
    "  Verificar si existen registros duplicados en el conjunto de datos para asegurar la unicidad de los clientes.\n",
    "- **Estadísticas Descriptivas y Detección de Outliers**:  \n",
    "  Generar estadísticas descriptivas para comprender mejor la distribución de los datos y detectar valores atípicos en las columnas numéricas.\n",
    "\n",
    "#### 🔍 Análisis de Calidad Realizado\n",
    "- **Valores Nulos por Columna**  \n",
    "  Se detectaron **valores nulos** en las siguientes columnas, que están relacionadas principalmente con servicios opcionales como internet y telefonía:\n",
    "\n",
    "  | Columna             | Nulos |\n",
    "  |---------------------|-------|\n",
    "  | OnlineSecurity      | 1526  |\n",
    "  | OnlineBackup        | 1526  |\n",
    "  | DeviceProtection    | 1526  |\n",
    "  | TechSupport         | 1526  |\n",
    "  | StreamingTV         | 1526  |\n",
    "  | StreamingMovies     | 1526  |\n",
    "  | MultipleLines       | 682   |\n",
    "\n",
    "  Estos valores nulos sugieren que no todos los clientes cuentan con estos servicios, lo cual es esperado en un contexto de servicios opcionales.\n",
    "\n",
    "- **Detección de Duplicados**  \n",
    "  No se encontraron registros duplicados en el `DataFrame`, lo que indica que cada cliente es único y está correctamente representado una sola vez.\n",
    "\n",
    "- **Estadísticas Descriptivas**  \n",
    "  Las estadísticas descriptivas de las columnas numéricas ofrecen un resumen sobre la distribución de los datos. Estas estadísticas incluyen la media (`mean`), desviación estándar (`std`), mínimo (`min`), percentiles (25%, 50%, 75%), y máximo (`max`).\n",
    "\n",
    "- **Detección de Outliers**  \n",
    "  Se realizó un análisis para identificar posibles **outliers** en las columnas numéricas, usando la regla de valores mayores que `media + 3 * desviación estándar`. En esta evaluación no se encontraron valores que cumplieran con la definición de outliers, lo cual es un buen indicativo de la normalidad en la distribución de los datos.\n",
    "\n",
    "#### 📈 Hallazgos Clave\n",
    "- Los valores nulos están concentrados en columnas relacionadas con servicios adicionales, lo que es consistente con la posible falta de dichos servicios para ciertos clientes.\n",
    "- No existen registros duplicados, lo que asegura la integridad de los datos.\n",
    "- No se encontraron outliers significativos en las columnas numéricas, lo cual es un buen signo de calidad de datos.\n",
    "\n",
    "#### 🚀 Próximos Pasos\n",
    "- **Tratamiento de Valores Nulos**:  \n",
    "  Decidir cómo manejar los valores nulos en las columnas de servicios opcionales (`OnlineSecurity`, `OnlineBackup`, `DeviceProtection`, etc.). Algunas opciones incluyen rellenar con ceros para indicar la ausencia del servicio o eliminar dichas filas si afectan significativamente el análisis.\n",
    "- **Análisis Exploratorio de Datos (EDA)**:  \n",
    "  Continuar con el análisis exploratorio para explorar relaciones entre variables y entender la estructura subyacente de los datos.\n",
    "- **Preparación para el Modelado**:  \n",
    "  Asegurar que la calidad de los datos es suficiente para proceder con la construcción y evaluación de modelos predictivos.\n",
    "\n",
    "La evaluación de la calidad de los datos se completó con éxito, identificando áreas para tratamiento y garantizando que los datos están en condiciones para su uso en análisis posteriores. ✔️\n"
   ]
  },
  {
   "cell_type": "markdown",
   "metadata": {},
   "source": [
    "## 🔍Análisis Exploratorio (EDA)"
   ]
  },
  {
   "cell_type": "markdown",
   "metadata": {},
   "source": [
    "Realiza un análisis inicial de las variables presentes en el DataFrame consolidado, generando estadísticas descriptivas, identificando posibles valores nulos y explorando distribuciones."
   ]
  },
  {
   "cell_type": "code",
   "execution_count": null,
   "metadata": {
    "scrolled": true
   },
   "outputs": [],
   "source": [
    "# ----------------------------\n",
    "# Celda 12: Análisis Exploratorio de Variables\n",
    "# ----------------------------\n",
    "\n",
    "import matplotlib.pyplot as plt\n",
    "import seaborn as sns\n",
    "import pandas as pd\n",
    "\n",
    "@manejar_excepciones_y_tiempo(mensaje=\"Análisis Exploratorio de Variables\")\n",
    "def analizar_variables_mejorado(df):\n",
    "    \"\"\"\n",
    "    Realiza un análisis exploratorio de variables numéricas y categóricas con mejor manejo de tipos y valores nulos.\n",
    "    \n",
    "    Args:\n",
    "        df (pd.DataFrame): DataFrame a analizar.\n",
    "    \"\"\"\n",
    "    # Validar que el DataFrame no sea None y contenga datos\n",
    "    if df is None or df.empty:\n",
    "        raise ValueError(\"Error: El DataFrame proporcionado es None o está vacío. Revisa la unificación y codificación de datos.\")\n",
    "\n",
    "    # Identificar columnas numéricas y categóricas\n",
    "    num_vars = df.select_dtypes(include=['float64', 'int64']).columns\n",
    "    cat_vars = df.select_dtypes(include=['category', 'object']).columns\n",
    "\n",
    "    # Análisis de variables numéricas\n",
    "    if len(num_vars) > 0:\n",
    "        print(\"📊 Estadísticas descriptivas de variables numéricas:\")\n",
    "        display(df[num_vars].describe())\n",
    "        \n",
    "        # Visualización de histogramas\n",
    "        print(\"📈 Visualización de histogramas de variables numéricas:\")\n",
    "        df[num_vars].hist(bins=20, figsize=(14, 10), grid=False)\n",
    "        plt.tight_layout()\n",
    "        plt.show()\n",
    "        \n",
    "        # Visualización de correlación\n",
    "        print(\"🔍 Visualización de correlación entre variables numéricas:\")\n",
    "        plt.figure(figsize=(10, 8))\n",
    "        sns.heatmap(df[num_vars].corr(), annot=True, cmap='coolwarm', fmt='.2f')\n",
    "        plt.show()\n",
    "    else:\n",
    "        print(\"No se encontraron variables numéricas para analizar.\")\n",
    "\n",
    "    # Análisis de variables categóricas\n",
    "    if len(cat_vars) > 0:\n",
    "        print(\"\\n📊 Estadísticas de frecuencia de variables categóricas:\")\n",
    "        for col in cat_vars:\n",
    "            print(f\"\\n🔹 Frecuencias de la columna '{col}':\")\n",
    "            display(df[col].value_counts())\n",
    "            \n",
    "            # Visualización de gráfico de barras para variables categóricas\n",
    "            plt.figure(figsize=(8, 4))\n",
    "            sns.countplot(data=df, x=col, palette='Set2')\n",
    "            plt.title(f\"Distribución de {col}\")\n",
    "            plt.xticks(rotation=45)\n",
    "            plt.show()\n",
    "    else:\n",
    "        print(\"No se encontraron variables categóricas para analizar.\")\n",
    "    \n",
    "    # Verificación de valores nulos\n",
    "    print(\"\\n🔍 Verificación de valores nulos:\")\n",
    "    nulos_totales = df.isnull().sum().sum()\n",
    "    if nulos_totales > 0:\n",
    "        print(f\"Se encontraron {nulos_totales} valores nulos en el DataFrame.\")\n",
    "        display(df.isnull().sum())\n",
    "    else:\n",
    "        print(\"No se encontraron valores nulos en el DataFrame.\")\n",
    "    \n",
    "    # Validación de tipos de datos y corrección de columnas no numéricas\n",
    "    print(\"\\n🔍 Validación y corrección de tipos de datos:\")\n",
    "    for col in df.columns:\n",
    "        if not pd.api.types.is_numeric_dtype(df[col]):\n",
    "            print(f\"Advertencia: La columna '{col}' no es numérica, convirtiendo a float.\")\n",
    "            df[col] = pd.to_numeric(df[col], errors='coerce')\n",
    "    \n",
    "    # Reemplazar valores nulos con ceros después de la corrección de tipos de datos\n",
    "    df.fillna(0, inplace=True)\n",
    "    print(\"✔️ Todos los valores nulos han sido reemplazados con ceros.\")\n",
    "\n",
    "# Verificar si df_unificado es válido antes de aplicar el análisis exploratorio\n",
    "if df_unificado is not None:\n",
    "    # Aplicar análisis exploratorio consolidado al DataFrame unificado\n",
    "    analizar_variables_mejorado(df_unificado)\n",
    "else:\n",
    "    print(\"Error: `df_unificado` no fue creado correctamente. Verifica la celda de unificación y codificación de datos.\")\n"
   ]
  },
  {
   "cell_type": "code",
   "execution_count": null,
   "metadata": {},
   "outputs": [],
   "source": []
  },
  {
   "cell_type": "markdown",
   "metadata": {},
   "source": [
    "### 🔍 Análisis Exploratorio (EDA)\n",
    "\n",
    "Esta sección se enfoca en realizar un análisis exploratorio de los datos (EDA) para comprender la distribución de las variables, detectar posibles correlaciones y examinar valores nulos presentes en el conjunto de datos unificado.\n",
    "\n",
    "#### 🎯 Objetivos del Análisis Exploratorio de Datos\n",
    "- **Identificación de Variables Numéricas y Categóricas**:  \n",
    "  Las variables se dividen en numéricas y categóricas para poder aplicar el análisis adecuado a cada tipo.\n",
    "  \n",
    "- **Visualización de Estadísticas Descriptivas y Distribuciones**:  \n",
    "  Se generan estadísticas descriptivas (`df.describe()`) para las variables numéricas, como la media, desviación estándar y rango de valores.  \n",
    "  Se construyen histogramas para visualizar las distribuciones de las variables numéricas.\n",
    "  \n",
    "- **Correlación entre Variables Numéricas**:  \n",
    "  Se utiliza un mapa de calor para identificar la correlación entre variables numéricas y detectar posibles relaciones.\n",
    "\n",
    "#### 📊 Hallazgos del Análisis de Variables Numéricas\n",
    "- Las variables como `MonthlyCharges` y `TotalCharges` presentan distribuciones sesgadas, con una mayor concentración de valores bajos.\n",
    "- La variable `SeniorCitizen` muestra que la mayoría de los clientes no son personas mayores.\n",
    "- Las variables binarias (`0` y `1`) como `Partner`, `Dependents` y `PaperlessBilling` presentan una distribución más equilibrada en algunos casos y sesgada en otros.\n",
    "\n",
    "#### 🔍 Análisis de Correlación\n",
    "- Se presenta un mapa de calor que muestra la correlación entre variables numéricas:\n",
    "  - **`TotalCharges` y `MonthlyCharges`** tienen una correlación moderada positiva, lo cual es lógico ya que los cargos totales dependen de los cargos mensuales acumulados.\n",
    "  - Variables relacionadas con servicios adicionales (`OnlineSecurity`, `OnlineBackup`, etc.) tienen correlaciones bajas entre sí.\n",
    "\n",
    "#### 📊 Hallazgos del Análisis de Variables Categóricas\n",
    "- La distribución de `customerID` no proporciona información relevante para el análisis, ya que es un identificador único.\n",
    "- Variables de tipo fecha como `BeginDate` y `EndDate` muestran una concentración de registros en fechas recientes, lo cual indica un incremento de clientes a lo largo del tiempo.\n",
    "\n",
    "#### 🚨 Verificación de Valores Nulos\n",
    "- Se encontraron valores nulos en las columnas relacionadas con servicios adicionales (`OnlineSecurity`, `OnlineBackup`, `DeviceProtection`, etc.), indicando que muchos clientes no tienen estos servicios contratados.\n",
    "  \n",
    "#### 📈 Ajuste y Corrección de Tipos de Datos\n",
    "- Se identificaron y corrigieron columnas categóricas y de texto que no eran numéricas. Por ejemplo, `customerID` fue convertida a tipo numérico, aunque esto solo fue para fines de consistencia en el análisis, ya que no es una variable de interés para modelos predictivos.\n",
    "  \n",
    "#### ✔️ Próximos Pasos\n",
    "- **Tratamiento de Valores Nulos**:  \n",
    "  Rellenar valores nulos con ceros o realizar imputaciones según corresponda, especialmente para variables relacionadas con servicios.\n",
    "  \n",
    "- **Ajuste de Variables Categóricas**:  \n",
    "  Codificación de variables categóricas para su uso en modelos predictivos.\n",
    "  \n",
    "- **Análisis Más Detallado por Segmentos**:  \n",
    "  Profundizar en el análisis para entender el comportamiento de grupos específicos de clientes, por ejemplo, clientes con diferentes tipos de contratos o servicios.\n",
    "\n",
    "---\n",
    "\n",
    "Este análisis exploratorio proporciona una base sólida para el tratamiento de datos y modelado posterior, permitiendo una comprensión más profunda de las relaciones entre las variables y la identificación de áreas donde se requiere limpieza y transformación de datos.\n"
   ]
  },
  {
   "cell_type": "markdown",
   "metadata": {},
   "source": [
    "## 🧹Limpieza de Datos y Preprocesamiento"
   ]
  },
  {
   "cell_type": "markdown",
   "metadata": {},
   "source": [
    "Tratamiento de valores nulos, estandarización de tipos de datos, eliminación de duplicados y otras transformaciones necesarias."
   ]
  },
  {
   "cell_type": "code",
   "execution_count": null,
   "metadata": {},
   "outputs": [],
   "source": [
    "# ----------------------------\n",
    "# Celda 13: Conversión de Tipos de Datos y Manejo de Valores Nulos\n",
    "# ----------------------------\n",
    "@manejar_excepciones_y_tiempo(mensaje=\"Conversión de Tipos de Datos y Manejo de Valores Nulos\")\n",
    "def convertir_y_manejar_nulos_mejorada(df):\n",
    "    \"\"\"\n",
    "    Convierte tipos de datos y maneja valores nulos de manera consolidada.\n",
    "    \n",
    "    Args:\n",
    "        df (pd.DataFrame): DataFrame a procesar.\n",
    "    \n",
    "    Returns:\n",
    "        pd.DataFrame: DataFrame con tipos de datos convertidos y sin valores nulos.\n",
    "    \"\"\"\n",
    "    \n",
    "    # Verificar que el DataFrame no sea None y contenga datos\n",
    "    if df is None or df.empty:\n",
    "        raise ValueError(\"El DataFrame proporcionado está vacío o no contiene datos.\")\n",
    "    \n",
    "    print(f\"\\n🔍 DataFrame inicial con {df.shape[0]} filas y {df.shape[1]} columnas.\")\n",
    "\n",
    "    # Conversión de tipos de datos\n",
    "    if 'SeniorCitizen' in df.columns:\n",
    "        df['SeniorCitizen'] = df['SeniorCitizen'].astype(int, errors='ignore')\n",
    "        print(\"✔️ Columna 'SeniorCitizen' convertida a tipo entero.\")\n",
    "\n",
    "    # Convertir a tipo categoría las columnas categóricas identificadas\n",
    "    cat_cols = df.select_dtypes(include=['object', 'category']).columns\n",
    "    if len(cat_cols) > 0:\n",
    "        df[cat_cols] = df[cat_cols].astype('category', errors='ignore')\n",
    "        print(f\"✔️ Se convirtieron {len(cat_cols)} columnas a tipo 'category': {list(cat_cols)}\")\n",
    "\n",
    "    # Manejo de valores nulos en columnas numéricas\n",
    "    num_cols = df.select_dtypes(include=['float64', 'int64']).columns\n",
    "    if len(num_cols) > 0:\n",
    "        nulos_antes = df[num_cols].isnull().sum().sum()\n",
    "        df[num_cols] = df[num_cols].fillna(df[num_cols].median())\n",
    "        nulos_despues = df[num_cols].isnull().sum().sum()\n",
    "        nulos_corregidos = nulos_antes - nulos_despues\n",
    "        print(f\"✔️ Se rellenaron {nulos_corregidos} valores nulos en columnas numéricas usando la mediana.\")\n",
    "\n",
    "    # Manejo de valores nulos en columnas categóricas\n",
    "    for col in cat_cols:\n",
    "        if df[col].isnull().sum() > 0:\n",
    "            nulos_col = df[col].isnull().sum()\n",
    "            df[col].fillna(df[col].mode()[0], inplace=True)\n",
    "            print(f\"✔️ Se rellenaron {nulos_col} valores nulos en la columna categórica '{col}' usando la moda.\")\n",
    "    \n",
    "    # Mostrar detalles finales del DataFrame procesado\n",
    "    print(f\"\\n📊 DataFrame final con {df.shape[0]} filas y {df.shape[1]} columnas.\")\n",
    "    print(\"📄 Primeras filas del DataFrame después de la conversión y manejo de nulos:\")\n",
    "    display(df.head())\n",
    "    \n",
    "    logging.info(f\"Conversión y manejo de valores nulos completados. DataFrame procesado con {df.shape[0]} filas y {df.shape[1]} columnas.\")\n",
    "    \n",
    "    return df\n",
    "\n",
    "# Aplicar la función al DataFrame consolidado\n",
    "df_unificado = convertir_y_manejar_nulos_mejorada(df_unificado)\n",
    "\n",
    "# Mostrar resultados de la operación\n",
    "if df_unificado is not None:\n",
    "    print(\"\\n✔️ Conversión de tipos y manejo de nulos completado exitosamente.\")\n",
    "else:\n",
    "    print(\"❌ Error: `df_unificado` no se pudo procesar correctamente.\")"
   ]
  },
  {
   "cell_type": "markdown",
   "metadata": {},
   "source": [
    "### 🧹 Limpieza de Datos y Preprocesamiento\n",
    "\n",
    "En esta sección se lleva a cabo el tratamiento de valores nulos, la estandarización de tipos de datos, la eliminación de duplicados y otras transformaciones necesarias para preparar el DataFrame para un análisis y modelado posterior.\n",
    "\n",
    "#### 🎯 Objetivos de la Conversión de Tipos de Datos y Manejo de Valores Nulos\n",
    "- **Conversión de Tipos de Datos**:\n",
    "    - Asegurar que las columnas categóricas, numéricas y binarias tengan el tipo de datos adecuado para su análisis.\n",
    "    - Por ejemplo, la columna `SeniorCitizen` fue convertida a tipo entero.\n",
    "    \n",
    "- **Manejo de Valores Nulos**:\n",
    "    - Rellenar valores nulos de columnas numéricas con la **mediana** para evitar distorsiones en la distribución.\n",
    "    - Rellenar valores nulos de columnas categóricas con la **moda** (valor más frecuente).\n",
    "    \n",
    "#### 🔍 Detalles del Proceso de Limpieza\n",
    "- **Conversión de Tipos de Datos**:\n",
    "    - Las columnas categóricas (`object` y `category`) fueron convertidas al tipo `category` para optimizar el espacio en memoria y mejorar el manejo de datos.\n",
    "    - Las columnas numéricas mantuvieron su tipo, pero se aseguró su consistencia.\n",
    "\n",
    "- **Imputación de Valores Nulos**:\n",
    "    - En columnas numéricas, como no se encontraron valores nulos, no fue necesaria la imputación de estos con la mediana.\n",
    "    - En columnas categóricas, se identificaron y rellenaron valores nulos con la moda de cada columna.\n",
    "\n",
    "#### 📊 Resumen del DataFrame Procesado\n",
    "- **Tamaño del DataFrame Inicial**: 7,043 filas y 24 columnas.\n",
    "- **Tamaño del DataFrame Final**: 7,043 filas y 24 columnas (sin cambios en dimensiones, pero con tipos y valores nulos corregidos).\n",
    "- Las primeras filas del DataFrame muestran cómo los valores nulos han sido reemplazados y los tipos de datos han sido corregidos.\n",
    "\n",
    "---\n",
    "\n",
    "#### 🚀 Resultados y Próximos Pasos\n",
    "- **Resultado del Proceso de Limpieza**:  \n",
    "   Se completó exitosamente la conversión de tipos de datos y el manejo de valores nulos, dejando el DataFrame listo para su análisis y modelado.\n",
    "  \n",
    "- **Próximos Pasos**:  \n",
    "   - Validación del DataFrame para asegurar la correcta imputación y estandarización de datos.\n",
    "   - Realizar un análisis exploratorio adicional si es necesario, ahora con datos limpios y en un formato adecuado.\n"
   ]
  },
  {
   "cell_type": "markdown",
   "metadata": {},
   "source": [
    "## 📊Visualización de Datos"
   ]
  },
  {
   "cell_type": "markdown",
   "metadata": {},
   "source": [
    "Aplicación de técnicas de normalización y estandarización a las variables numéricas para garantizar la correcta escalabilidad de los modelos predictivos."
   ]
  },
  {
   "cell_type": "code",
   "execution_count": null,
   "metadata": {},
   "outputs": [],
   "source": [
    "# ----------------------------\n",
    "# la Celda 14 con visualizaciones y guardado de escaladores\n",
    "# ----------------------------\n",
    "\n",
    "\n",
    "from sklearn.preprocessing import StandardScaler, MinMaxScaler\n",
    "import matplotlib.pyplot as plt\n",
    "import seaborn as sns\n",
    "import pickle\n",
    "\n",
    "@manejar_excepciones_y_tiempo(mensaje=\"Normalización y Estandarización de Datos\")\n",
    "def normalizar_estandarizar_mejorado(df_num):\n",
    "    \"\"\"\n",
    "    Aplica normalización y estandarización a las columnas numéricas de un DataFrame,\n",
    "    con visualizaciones antes y después de la transformación.\n",
    "\n",
    "    Args:\n",
    "        df_num (pd.DataFrame): DataFrame con columnas numéricas.\n",
    "\n",
    "    Returns:\n",
    "        tuple: DataFrames con datos estandarizados y normalizados.\n",
    "    \"\"\"\n",
    "    # Verificar que df_num no es None y contiene columnas numéricas\n",
    "    if df_num is None or df_num.empty:\n",
    "        raise ValueError(\"El DataFrame proporcionado está vacío o no contiene columnas numéricas.\")\n",
    "    \n",
    "    # Crear instancias de los escaladores\n",
    "    scaler_standard = StandardScaler()\n",
    "    scaler_minmax = MinMaxScaler()\n",
    "    \n",
    "    # Aplicar estandarización\n",
    "    df_standard_scaled = pd.DataFrame(scaler_standard.fit_transform(df_num), columns=df_num.columns)\n",
    "    \n",
    "    # Aplicar normalización\n",
    "    df_minmax_scaled = pd.DataFrame(scaler_minmax.fit_transform(df_num), columns=df_num.columns)\n",
    "    \n",
    "    # Guardar los escaladores para uso futuro (producción)\n",
    "    with open('scaler_standard.pkl', 'wb') as file:\n",
    "        pickle.dump(scaler_standard, file)\n",
    "    \n",
    "    with open('scaler_minmax.pkl', 'wb') as file:\n",
    "        pickle.dump(scaler_minmax, file)\n",
    "    \n",
    "    # Visualización de histogramas antes de la transformación\n",
    "    print(\"📊 Histogramas de variables numéricas antes de la transformación:\")\n",
    "    df_num.hist(bins=20, figsize=(14, 10), grid=False)\n",
    "    plt.tight_layout()\n",
    "    plt.show()\n",
    "    \n",
    "    # Visualización de histogramas después de la estandarización\n",
    "    print(\"📊 Histogramas después de la estandarización (StandardScaler):\")\n",
    "    df_standard_scaled.hist(bins=20, figsize=(14, 10), grid=False)\n",
    "    plt.tight_layout()\n",
    "    plt.show()\n",
    "    \n",
    "    # Visualización de histogramas después de la normalización\n",
    "    print(\"📊 Histogramas después de la normalización (MinMaxScaler):\")\n",
    "    df_minmax_scaled.hist(bins=20, figsize=(14, 10), grid=False)\n",
    "    plt.tight_layout()\n",
    "    plt.show()\n",
    "    \n",
    "    return df_standard_scaled, df_minmax_scaled\n",
    "\n",
    "# Verificar si df_unificado es válido antes de proceder\n",
    "if df_unificado is not None:\n",
    "    # Seleccionar solo las variables numéricas del DataFrame consolidado\n",
    "    df_num = df_unificado.select_dtypes(include=['float64', 'int64'])\n",
    "    \n",
    "    # Comprobar si hay valores nulos y manejar según el caso\n",
    "    if df_num.isnull().sum().sum() > 0:\n",
    "        print(\"Advertencia: Se encontraron valores nulos en df_num. Se procederá a rellenarlos con la mediana.\")\n",
    "        df_num.fillna(df_num.median(), inplace=True)\n",
    "    \n",
    "    # Aplicar normalización y estandarización si hay columnas numéricas\n",
    "    if not df_num.empty:\n",
    "        df_standard_scaled, df_minmax_scaled = normalizar_estandarizar_mejorado(df_num)\n",
    "        \n",
    "        # Mostrar estadísticas descriptivas de los DataFrames resultantes\n",
    "        display(df_standard_scaled.describe(), df_minmax_scaled.describe())\n",
    "        mostrar_notificacion(\"Normalización y Estandarización completadas con éxito.\", tipo='success')\n",
    "    else:\n",
    "        mostrar_notificacion(\"No se encontraron columnas numéricas para normalizar/estandarizar.\", tipo='warning')\n",
    "else:\n",
    "    mostrar_notificacion(\"Error: `df_unificado` es None. Verifica la celda de unificación y codificación de datos.\", tipo='error')"
   ]
  },
  {
   "cell_type": "markdown",
   "metadata": {},
   "source": [
    "### 📊 Visualización de Datos: Normalización y Estandarización\n",
    "\n",
    "En esta sección se aplican técnicas de normalización y estandarización a las variables numéricas del DataFrame unificado para asegurar que los datos estén escalados correctamente para los modelos predictivos.\n",
    "\n",
    "#### 🎯 Objetivos\n",
    "- **Normalización y Estandarización de Variables Numéricas**:\n",
    "  - **Estandarización**: Se utiliza `StandardScaler` para transformar las variables numéricas a una distribución normal con media 0 y desviación estándar 1.\n",
    "  - **Normalización**: Se emplea `MinMaxScaler` para escalar las variables numéricas dentro de un rango de [0, 1].\n",
    "- **Visualización del Efecto de la Transformación**:\n",
    "  - Se generan histogramas para visualizar las distribuciones de las variables numéricas antes y después de la transformación.\n",
    "\n",
    "#### 📊 Histogramas y Resultados\n",
    "- **Antes de la Transformación**:\n",
    "  - Se observaron distribuciones de las variables numéricas en su estado original, destacando diferentes escalas y rangos de valores.\n",
    "\n",
    "- **Después de la Estandarización (`StandardScaler`)**:\n",
    "  - Las variables numéricas se transformaron para que tuvieran una distribución con media 0 y desviación estándar 1. Esto es particularmente útil para modelos que asumen normalidad en los datos.\n",
    "  - Los histogramas después de la estandarización muestran cómo la transformación afecta las distribuciones y las centra alrededor de 0.\n",
    "\n",
    "- **Después de la Normalización (`MinMaxScaler`)**:\n",
    "  - Las variables se escalaron a un rango de [0, 1], manteniendo la forma original de las distribuciones pero comprimiendo sus rangos. Esta técnica es útil para algoritmos que son sensibles a los diferentes rangos de valores.\n",
    "  - Los histogramas resultantes muestran cómo todas las variables numéricas se normalizan al rango [0, 1].\n",
    "\n",
    "#### 📈 Estadísticas Descriptivas\n",
    "- **Estandarización**:\n",
    "  - Las medias de todas las variables numéricas son aproximadamente 0.\n",
    "  - Las desviaciones estándar están cercanas a 1, lo que indica que la estandarización fue exitosa.\n",
    "\n",
    "- **Normalización**:\n",
    "  - Los valores mínimos de las variables numéricas son 0 y los máximos son 1.\n",
    "  - Las distribuciones de las variables se ajustan al rango [0, 1].\n",
    "\n",
    "#### 💾 Guardado de Escaladores\n",
    "Los escaladores (`StandardScaler` y `MinMaxScaler`) utilizados para las transformaciones se guardaron en archivos `.pkl` para uso futuro en un entorno de producción.\n",
    "\n",
    "#### 🚀 Conclusiones\n",
    "La normalización y estandarización de datos es esencial para asegurar que todas las variables numéricas tengan un impacto equitativo en los modelos predictivos, especialmente para algoritmos sensibles a la escala de los datos. Esto permite mejorar la precisión y estabilidad de los modelos al evitar que variables con mayores rangos dominen el proceso de aprendizaje.\n"
   ]
  },
  {
   "cell_type": "markdown",
   "metadata": {},
   "source": [
    "## 📊 Análisis Temporal de Comportamiento"
   ]
  },
  {
   "cell_type": "code",
   "execution_count": null,
   "metadata": {},
   "outputs": [],
   "source": [
    "# ----------------------------\n",
    "# Celda 15: Análisis Temporal de Comportamiento\n",
    "# ----------------------------\n",
    "\n",
    "import matplotlib.pyplot as plt\n",
    "import pandas as pd\n",
    "\n",
    "@manejar_excepciones_y_tiempo(mensaje=\"Análisis Temporal de Comportamiento\")\n",
    "def analizar_comportamiento_temporal(df, fecha_columna='BeginDate', objetivo_columna='churn'):\n",
    "    \"\"\"\n",
    "    Analiza los patrones temporales y estacionales del objetivo a lo largo del tiempo.\n",
    "\n",
    "    Args:\n",
    "        df (pd.DataFrame): DataFrame a analizar.\n",
    "        fecha_columna (str): Nombre de la columna de fechas ('BeginDate' por defecto).\n",
    "        objetivo_columna (str): Nombre de la columna objetivo a analizar.\n",
    "    \"\"\"\n",
    "    # Asegurarse de que la columna de fecha esté en el tipo datetime\n",
    "    if fecha_columna in df.columns and not pd.api.types.is_datetime64_any_dtype(df[fecha_columna]):\n",
    "        df[fecha_columna] = pd.to_datetime(df[fecha_columna], errors='coerce', dayfirst=True)\n",
    "\n",
    "    # Filtrar filas donde la fecha no sea nula\n",
    "    df = df.dropna(subset=[fecha_columna])\n",
    "\n",
    "    # Convertir explícitamente la columna de fecha a datetime (evita conversiones a categorical)\n",
    "    df[fecha_columna] = pd.to_datetime(df[fecha_columna], errors='coerce')\n",
    "    \n",
    "    # Asegurarse de que el índice sea un DatetimeIndex\n",
    "    if df.index.name != fecha_columna:\n",
    "        df.set_index(fecha_columna, inplace=True)\n",
    "\n",
    "    # Confirmar que el índice es un DatetimeIndex\n",
    "    if not isinstance(df.index, pd.DatetimeIndex):\n",
    "        df.index = pd.to_datetime(df.index, errors='coerce')\n",
    "\n",
    "    # Visualizar el objetivo a lo largo del tiempo con resampling mensual\n",
    "    plt.figure(figsize=(12, 6))\n",
    "    df[objetivo_columna].resample('M').mean().plot()\n",
    "    plt.title(f'Comportamiento Temporal de {objetivo_columna}')\n",
    "    plt.xlabel('Fecha')\n",
    "    plt.ylabel(objetivo_columna)\n",
    "    plt.grid(True)\n",
    "    plt.show()\n",
    "\n",
    "# Llamada a la función para analizar la columna temporal y objetivo\n",
    "analizar_comportamiento_temporal(df_unificado, fecha_columna='BeginDate', objetivo_columna='churn')\n"
   ]
  },
  {
   "cell_type": "markdown",
   "metadata": {},
   "source": [
    "### 📊 Análisis Temporal de Comportamiento\n",
    "\n",
    "En esta sección se realiza un análisis del comportamiento temporal de la variable objetivo (`churn`) para identificar posibles patrones estacionales y tendencias a lo largo del tiempo.\n",
    "\n",
    "#### 🎯 Objetivos\n",
    "- **Agregar columnas temporales**: \n",
    "  - Extraer información de las fechas, como año, mes y día, para crear nuevas variables temporales que ayuden en el análisis.\n",
    "- **Análisis de tendencias temporales**:\n",
    "  - Visualizar el comportamiento del `churn` a lo largo del tiempo utilizando un resampleo mensual para identificar patrones y tendencias estacionales.\n",
    "\n",
    "#### 📈 Análisis Temporal y Resultados\n",
    "- **Conversión de la Columna de Fecha**:\n",
    "  - La columna `BeginDate` se convierte al tipo `datetime` para facilitar las operaciones temporales.\n",
    "  - Se establece la columna `BeginDate` como índice del DataFrame para poder realizar el resampleo por fecha correctamente.\n",
    "\n",
    "- **Visualización Temporal**:\n",
    "  - Se utilizó una visualización de la media del `churn` resampleada mensualmente para observar cómo varía este valor a lo largo del tiempo.\n",
    "  - El gráfico permite identificar patrones temporales, aunque en este caso, el gráfico mostrado parece no contener información válida, lo que indica que puede haber un problema con los datos o su procesamiento.\n",
    "\n",
    "#### 📌 Posibles Problemas Detectados\n",
    "- El gráfico generado no muestra la variación esperada en el eje de tiempo, lo que sugiere que puede haber errores en la conversión de fechas o en la agregación temporal.\n",
    "- Es posible que los datos no tengan suficiente variabilidad temporal, o que las fechas no estén correctamente registradas en el dataset.\n",
    "\n",
    "#### 💡 Próximos Pasos\n",
    "- Revisar y corregir el proceso de conversión de la columna de fecha (`BeginDate`) para asegurar que las fechas se interpreten correctamente.\n",
    "- Asegurarse de que los datos estén correctamente indexados por fecha antes de realizar el análisis temporal.\n",
    "- Intentar otras formas de visualización temporal, como agrupaciones por trimestre o año, para identificar patrones a diferentes escalas temporales.\n",
    "\n",
    "#### 🚀 Conclusiones\n",
    "El análisis temporal es esencial para identificar patrones estacionales y tendencias en el `churn`. Sin embargo, es fundamental asegurar que los datos estén correctamente preparados y procesados para obtener resultados válidos y útiles para la toma de decisiones.\n"
   ]
  },
  {
   "cell_type": "markdown",
   "metadata": {},
   "source": [
    "## 🔄Codificación y Estandarización\n"
   ]
  },
  {
   "cell_type": "markdown",
   "metadata": {},
   "source": [
    "Conversión de variables categóricas a numéricas y normalización de variables numéricas usando StandardScaler o MinMaxScaler."
   ]
  },
  {
   "cell_type": "code",
   "execution_count": null,
   "metadata": {
    "scrolled": true
   },
   "outputs": [],
   "source": [
    "# ----------------------------\n",
    "# Celda 16: Creación de Variables Derivadas\n",
    "# ----------------------------\n",
    "\n",
    "@manejar_excepciones_y_tiempo(mensaje=\"Creación de Variables Derivadas\")\n",
    "def crear_variables_derivadas(df, columna_fecha, formatos=['year', 'month', 'day']):\n",
    "    \"\"\"\n",
    "    Crea nuevas variables a partir de una columna de fecha, incluyendo el nombre del mes.\n",
    "    \n",
    "    Args:\n",
    "        df (pd.DataFrame): DataFrame a modificar.\n",
    "        columna_fecha (str): Nombre de la columna de fecha.\n",
    "        formatos (list): Lista de formatos a extraer ['year', 'month', 'day'].\n",
    "\n",
    "    Returns:\n",
    "        pd.DataFrame: DataFrame con nuevas variables derivadas.\n",
    "    \"\"\"\n",
    "    # Verificar si la columna de fecha existe\n",
    "    if columna_fecha in df.columns:\n",
    "        df[columna_fecha] = pd.to_datetime(df[columna_fecha], errors='coerce')\n",
    "        \n",
    "        # Crear variables derivadas según el formato especificado\n",
    "        for fmt in formatos:\n",
    "            if fmt == 'year':\n",
    "                df[f'{columna_fecha}_Year'] = df[columna_fecha].dt.year\n",
    "                print(f\"✔️ Columna '{columna_fecha}_Year' creada.\")\n",
    "            elif fmt == 'month':\n",
    "                df[f'{columna_fecha}_Month'] = df[columna_fecha].dt.month\n",
    "                print(f\"✔️ Columna '{columna_fecha}_Month' creada.\")\n",
    "            elif fmt == 'day':\n",
    "                df[f'{columna_fecha}_Day'] = df[columna_fecha].dt.day\n",
    "                print(f\"✔️ Columna '{columna_fecha}_Day' creada.\")\n",
    "        \n",
    "        # Agregar columna con número y nombre del mes\n",
    "        df[f'{columna_fecha}_MonthName'] = df[columna_fecha].dt.strftime('%m-%B')\n",
    "        print(f\"✔️ Columna '{columna_fecha}_MonthName' creada con el nombre completo del mes.\")\n",
    "    else:\n",
    "        print(f\"❌ La columna '{columna_fecha}' no existe en el DataFrame.\")\n",
    "\n",
    "    # Verificación y manejo de 'EndDate'\n",
    "    if 'EndDate' in df.columns:\n",
    "        df['EndDate'] = pd.to_datetime(df['EndDate'], errors='coerce')\n",
    "        # Marca contratos activos con 1, terminados con 0\n",
    "        df['ActiveContract'] = df['EndDate'].isna().astype(int)\n",
    "        print(f\"✔️ Columna 'ActiveContract' creada para indicar contratos activos o terminados.\")\n",
    "    \n",
    "    return df\n",
    "\n",
    "# Aplicar creación de variables derivadas\n",
    "df_unificado = crear_variables_derivadas(df_unificado, 'BeginDate', ['year', 'month', 'day'])\n",
    "\n",
    "# Mostrar todo el DataFrame después de la creación de variables derivadas\n",
    "if df_unificado is not None:\n",
    "    print(\"\\n✔️ Creación de variables derivadas completada con éxito.\")\n",
    "    display(df_unificado.head())  # Mostrar las primeras filas del DataFrame actualizado\n",
    "else:\n",
    "    print(\"❌ Error al crear variables derivadas.\")"
   ]
  },
  {
   "cell_type": "markdown",
   "metadata": {},
   "source": [
    "### 🔄 Codificación y Estandarización\n",
    "\n",
    "Conversión de variables categóricas a numéricas y creación de nuevas variables derivadas a partir de columnas de fechas, además de la normalización de variables numéricas para facilitar el modelado predictivo.\n",
    "\n",
    "#### 🎯 Objetivos\n",
    "- **Creación de Variables Derivadas**:\n",
    "  - Extraer componentes de fecha (`año`, `mes`, `día`) para mejorar el análisis temporal.\n",
    "  - Crear variables adicionales como el `nombre del mes` y el estado de `contratos activos`.\n",
    "- **Conversión de Variables Categóricas**:\n",
    "  - Transformar variables categóricas en un formato numérico que sea comprensible para modelos de machine learning.\n",
    "- **Enriquecer el Conjunto de Datos**:\n",
    "  - Agregar información relevante que puede mejorar la capacidad predictiva del modelo.\n",
    "\n",
    "#### 🛠️ Proceso de Creación de Variables Derivadas\n",
    "- **Conversión de `BeginDate` a `datetime`**:\n",
    "  - Se verifica que la columna `BeginDate` está correctamente convertida al tipo `datetime` para facilitar el análisis.\n",
    "  \n",
    "- **Extracción de Componentes Temporales**:\n",
    "  - **`BeginDate_Year`**: Año en que se inició el contrato.\n",
    "  - **`BeginDate_Month`**: Mes de inicio del contrato.\n",
    "  - **`BeginDate_Day`**: Día del mes en que comenzó el contrato.\n",
    "  - **`BeginDate_MonthName`**: Nombre completo del mes (e.g., \"01-January\").\n",
    "  \n",
    "- **Identificación de Contratos Activos**:\n",
    "  - Creación de la columna **`ActiveContract`** para identificar si un contrato está activo o terminado. Esta columna tiene un valor de `1` para contratos activos y `0` para contratos que han finalizado (basado en la columna `EndDate`).\n",
    "\n",
    "#### 📊 Resultados de la Transformación\n",
    "- El DataFrame actualizado ahora contiene variables adicionales que proporcionan más información temporal y de estado del contrato:\n",
    "  - **Variables derivadas de `BeginDate`**: `BeginDate_Year`, `BeginDate_Month`, `BeginDate_Day`, `BeginDate_MonthName`.\n",
    "  - **Estado del contrato**: `ActiveContract`.\n",
    "  \n",
    "#### 💾 Guardado de Resultados\n",
    "- El DataFrame modificado se guardó correctamente, asegurando que la nueva información derivada esté lista para análisis posteriores o para ser utilizada en la construcción de modelos.\n",
    "\n",
    "#### 🚀 Conclusiones\n",
    "La creación de variables derivadas y la codificación de variables categóricas permiten enriquecer el conjunto de datos con información adicional que puede ser relevante para la predicción de `churn`. Estas transformaciones facilitan el análisis temporal y permiten a los modelos predictivos tener una mejor comprensión de los datos.\n"
   ]
  },
  {
   "cell_type": "markdown",
   "metadata": {},
   "source": [
    "## 📝Selección de Características Avanzada"
   ]
  },
  {
   "cell_type": "markdown",
   "metadata": {},
   "source": [
    "Preparación de los datos para el entrenamiento de modelos, incluyendo división en conjuntos de entrenamiento y prueba, tokenización y codificación de variables categóricas, y balanceo de clases."
   ]
  },
  {
   "cell_type": "code",
   "execution_count": null,
   "metadata": {
    "scrolled": true
   },
   "outputs": [],
   "source": [
    "# ----------------------------\n",
    "# Celda 17: División de Datos para Entrenamiento y Prueba\n",
    "# ----------------------------\n",
    "\n",
    "from sklearn.model_selection import train_test_split\n",
    "\n",
    "@manejar_excepciones_y_tiempo(mensaje=\"División de Datos para Entrenamiento y Prueba\")\n",
    "def dividir_datos(df, variable_objetivo, test_size=0.3, random_state=42):\n",
    "    \"\"\"\n",
    "    Divide el DataFrame en conjuntos de entrenamiento y prueba, y codifica variables categóricas.\n",
    "    \n",
    "    Args:\n",
    "        df (pd.DataFrame): DataFrame a dividir.\n",
    "        variable_objetivo (str): Nombre de la variable objetivo.\n",
    "        test_size (float): Proporción de datos de prueba.\n",
    "        random_state (int): Semilla para reproducibilidad.\n",
    "\n",
    "    Returns:\n",
    "        tuple: Conjuntos de entrenamiento y prueba originales y codificados (X_train, X_test, y_train, y_test, X_train_encoded, X_test_encoded).\n",
    "    \"\"\"\n",
    "    # Separar características (X) y variable objetivo (y)\n",
    "    X = df.drop(columns=[variable_objetivo, 'customerID'], errors='ignore')\n",
    "    y = df[variable_objetivo]\n",
    "\n",
    "    # Convertir variables categóricas a tipo `category`\n",
    "    cat_cols = X.select_dtypes(include=['object']).columns\n",
    "    X[cat_cols] = X[cat_cols].astype('category')\n",
    "    \n",
    "    # Verificar y manejar valores nulos en X\n",
    "    if X.isnull().sum().sum() > 0:\n",
    "        print(\"🔍 Encontrados valores nulos en las características. Imputando con la mediana/moda.\")\n",
    "        num_cols = X.select_dtypes(include=['float64', 'int64']).columns\n",
    "        cat_cols = X.select_dtypes(include=['category']).columns\n",
    "        \n",
    "        # Rellenar valores nulos en columnas numéricas con la mediana\n",
    "        X[num_cols] = X[num_cols].fillna(X[num_cols].median())\n",
    "        \n",
    "        # Rellenar valores nulos en columnas categóricas con la moda\n",
    "        for col in cat_cols:\n",
    "            X[col] = X[col].fillna(X[col].mode()[0])\n",
    "\n",
    "    # División en conjuntos de entrenamiento y prueba\n",
    "    X_train, X_test, y_train, y_test = train_test_split(\n",
    "        X, y, test_size=test_size, stratify=y, random_state=random_state\n",
    "    )\n",
    "    \n",
    "    # Reportar la distribución de clases en los conjuntos de entrenamiento y prueba\n",
    "    print(f\"Distribución de clases en y_train:\\n{y_train.value_counts(normalize=True)}\")\n",
    "    print(f\"Distribución de clases en y_test:\\n{y_test.value_counts(normalize=True)}\")\n",
    "    \n",
    "    # Codificar variables categóricas usando get_dummies\n",
    "    X_train_encoded = pd.get_dummies(X_train, drop_first=True)\n",
    "    X_test_encoded = pd.get_dummies(X_test, drop_first=True)\n",
    "\n",
    "    # Alinear columnas entre los conjuntos de entrenamiento y prueba\n",
    "    X_train_encoded, X_test_encoded = X_train_encoded.align(X_test_encoded, join='left', axis=1, fill_value=0)\n",
    "    \n",
    "    # Convertir todas las columnas a tipo numérico si es necesario\n",
    "    for col in X_train_encoded.columns:\n",
    "        if not pd.api.types.is_numeric_dtype(X_train_encoded[col]):\n",
    "            print(f\"Advertencia: La columna '{col}' no es numérica en X_train_encoded, convirtiendo a float.\")\n",
    "            X_train_encoded[col] = pd.to_numeric(X_train_encoded[col], errors='coerce')\n",
    "\n",
    "    for col in X_test_encoded.columns:\n",
    "        if not pd.api.types.is_numeric_dtype(X_test_encoded[col]):\n",
    "            print(f\"Advertencia: La columna '{col}' no es numérica en X_test_encoded, convirtiendo a float.\")\n",
    "            X_test_encoded[col] = pd.to_numeric(X_test_encoded[col], errors='coerce')\n",
    "\n",
    "    # Reemplazar valores nulos con ceros después de la codificación\n",
    "    X_train_encoded.fillna(0, inplace=True)\n",
    "    X_test_encoded.fillna(0, inplace=True)\n",
    "    \n",
    "    print(\"✔️ División y codificación de datos completada exitosamente.\")\n",
    "    return X_train, X_test, y_train, y_test, X_train_encoded, X_test_encoded\n",
    "\n",
    "# Aplicar la división de datos al DataFrame `df_unificado`\n",
    "X_train, X_test, y_train, y_test, X_train_encoded, X_test_encoded = dividir_datos(df_unificado, 'churn')\n",
    "print(f\"✔️ Tamaño de X_train: {X_train.shape}, Tamaño de X_test: {X_test.shape}\")\n"
   ]
  },
  {
   "cell_type": "markdown",
   "metadata": {},
   "source": [
    "### 📝 Selección de Características Avanzada\n",
    "\n",
    "Esta sección aborda la preparación de los datos para el entrenamiento de modelos predictivos. Incluye la división en conjuntos de entrenamiento y prueba, la codificación de variables categóricas y el manejo de valores nulos, además del balanceo de clases.\n",
    "\n",
    "#### 🎯 Objetivos\n",
    "- **División de Datos para Entrenamiento y Prueba**:\n",
    "  - Dividir el DataFrame en dos partes: un conjunto de entrenamiento (70%) y un conjunto de prueba (30%) para asegurar una evaluación robusta de los modelos.\n",
    "- **Codificación de Variables Categóricas**:\n",
    "  - Convertir variables categóricas a un formato numérico adecuado para el modelado.\n",
    "- **Validación y Manejo de Valores Nulos**:\n",
    "  - Detectar y reemplazar valores nulos en las columnas numéricas y categóricas antes de la división.\n",
    "\n",
    "#### 📊 Proceso de División y Preparación\n",
    "1. **Separación de Características y Variable Objetivo**:\n",
    "   - Se separan las características (`X`) y la variable objetivo (`y`) para realizar la división.\n",
    "   - Las características categóricas (`object`) se convierten al tipo `category`.\n",
    "\n",
    "2. **Manejo de Valores Nulos**:\n",
    "   - En caso de encontrar valores nulos:\n",
    "     - Columnas numéricas (`float64` y `int64`) se rellenan con la mediana.\n",
    "     - Columnas categóricas (`category`) se rellenan con la moda.\n",
    "\n",
    "3. **División del Conjunto de Datos**:\n",
    "   - Se utiliza `train_test_split` de `scikit-learn` para dividir el DataFrame en conjuntos de entrenamiento y prueba con un `test_size` de 0.3.\n",
    "   - Se asegura que la distribución de clases de la variable objetivo (`churn`) se mantenga similar en ambos conjuntos.\n",
    "\n",
    "4. **Codificación de Variables Categóricas**:\n",
    "   - Las variables categóricas se codifican usando `get_dummies` para convertirlas a variables dummy.\n",
    "   - Se asegura que los conjuntos de entrenamiento y prueba tengan las mismas columnas codificadas usando `align`.\n",
    "\n",
    "5. **Manejo de Tipos de Datos**:\n",
    "   - Se verifica que todas las columnas codificadas sean numéricas.\n",
    "   - Si alguna columna no es numérica, se convierte a tipo `float`.\n",
    "\n",
    "6. **Reporte de Resultados**:\n",
    "   - Se reportan las distribuciones de clases de `churn` en los conjuntos de entrenamiento y prueba para verificar el balance de clases.\n",
    "   - Tamaños finales de los conjuntos de entrenamiento y prueba: `X_train` (4,930 filas, 27 columnas) y `X_test` (2,113 filas, 27 columnas).\n",
    "\n",
    "#### 📈 Distribuciones de Clases\n",
    "- La variable objetivo (`churn`) mantiene una distribución equilibrada entre el conjunto de entrenamiento y el de prueba:\n",
    "  - **`y_train`**: 55% de clientes con churn y 45% de clientes sin churn.\n",
    "  - **`y_test`**: 55% de clientes con churn y 45% de clientes sin churn.\n",
    "\n",
    "#### 💾 Resultados de la División\n",
    "- La codificación y división de los datos se completó exitosamente.\n",
    "- La estructura de las variables codificadas es consistente en los conjuntos de entrenamiento y prueba, asegurando que se pueda entrenar y validar modelos de forma robusta.\n",
    "\n",
    "#### 🚀 Conclusiones\n",
    "La división y preparación de los datos es un paso crucial para la construcción de modelos predictivos. Al manejar correctamente la codificación de variables categóricas y la imputación de valores nulos, se asegura que el modelo se entrene con datos de alta calidad y que el conjunto de prueba sea una representación fiel de los datos originales.\n"
   ]
  },
  {
   "cell_type": "markdown",
   "metadata": {},
   "source": [
    "## 🧩Creación de Variables Derivadas"
   ]
  },
  {
   "cell_type": "markdown",
   "metadata": {},
   "source": [
    "Creación de nuevas columnas a partir de la fecha o de combinaciones de otras características para enriquecer los datos."
   ]
  },
  {
   "cell_type": "code",
   "execution_count": null,
   "metadata": {},
   "outputs": [],
   "source": [
    "# ----------------------------\n",
    "# Celda 18: Preprocesamiento de Datos, División, Validación y Evaluación de Modelos\n",
    "# ----------------------------\n",
    "\n",
    "from imblearn.over_sampling import SMOTE\n",
    "from sklearn.model_selection import cross_val_score\n",
    "from sklearn.linear_model import LogisticRegression\n",
    "from sklearn.tree import DecisionTreeClassifier\n",
    "from sklearn.ensemble import RandomForestClassifier\n",
    "from sklearn.neighbors import KNeighborsClassifier\n",
    "from sklearn.metrics import accuracy_score, f1_score, precision_score, recall_score, roc_auc_score, confusion_matrix\n",
    "import matplotlib.pyplot as plt\n",
    "import seaborn as sns\n",
    "import pandas as pd\n",
    "\n",
    "@manejar_excepciones_y_tiempo(mensaje=\"Preprocesamiento y Evaluación de Modelos con Manejo Adicional de NaNs\")\n",
    "def preprocesar_evaluar_modelos(X_train_encoded, X_test_encoded, y_train, y_test):\n",
    "    \"\"\"\n",
    "    Evalúa diferentes modelos utilizando datos preprocesados y divididos.\n",
    "    \n",
    "    Args:\n",
    "        X_train_encoded (pd.DataFrame): Conjunto de entrenamiento de características codificadas.\n",
    "        X_test_encoded (pd.DataFrame): Conjunto de prueba de características codificadas.\n",
    "        y_train (pd.Series): Etiquetas de entrenamiento.\n",
    "        y_test (pd.Series): Etiquetas de prueba.\n",
    "    \"\"\"\n",
    "    global resultados  # Declarar la variable `resultados` como global\n",
    "    \n",
    "    # Excluir 'customerID' si está presente\n",
    "    columnas_a_excluir = ['customerID']\n",
    "    for col in columnas_a_excluir:\n",
    "        if col in X_train_encoded.columns:\n",
    "            X_train_encoded = X_train_encoded.drop(columns=[col])\n",
    "        if col in X_test_encoded.columns:\n",
    "            X_test_encoded = X_test_encoded.drop(columns=[col])\n",
    "    \n",
    "    # Aplicar SMOTE para equilibrar clases en los datos de entrenamiento\n",
    "    smote = SMOTE(random_state=42)\n",
    "    X_train_resampled, y_train_resampled = smote.fit_resample(X_train_encoded, y_train)\n",
    "    \n",
    "    # Validar la distribución de clases después de SMOTE\n",
    "    print(f\"Distribución de clases después de SMOTE:\\n{pd.Series(y_train_resampled).value_counts(normalize=True)}\\n\")\n",
    "\n",
    "    # Definir modelos con ajustes de hiperparámetros\n",
    "    modelos = {\n",
    "        'Regresión Logística': LogisticRegression(random_state=42, max_iter=1000),\n",
    "        'Árbol de Decisión': DecisionTreeClassifier(random_state=42, max_depth=5),\n",
    "        'Random Forest': RandomForestClassifier(random_state=42, n_estimators=100, max_depth=6),\n",
    "        'K-Nearest Neighbors': KNeighborsClassifier(n_neighbors=5)\n",
    "    }\n",
    "\n",
    "    resultados = {}\n",
    "    \n",
    "    for nombre, modelo in modelos.items():\n",
    "        # Validación cruzada para obtener métricas más robustas\n",
    "        scores = cross_val_score(modelo, X_train_resampled, y_train_resampled, cv=5, scoring='f1')\n",
    "        print(f\"Cross-Validation F1-Score for {nombre}: {scores.mean():.2f} ± {scores.std():.2f}\")\n",
    "        \n",
    "        # Entrenar el modelo\n",
    "        modelo.fit(X_train_resampled, y_train_resampled)\n",
    "        y_pred = modelo.predict(X_test_encoded)\n",
    "        y_proba = modelo.predict_proba(X_test_encoded)[:, 1] if hasattr(modelo, \"predict_proba\") else None\n",
    "        \n",
    "        # Calcular métricas de evaluación\n",
    "        acc = accuracy_score(y_test, y_pred)\n",
    "        f1 = f1_score(y_test, y_pred)\n",
    "        precision = precision_score(y_test, y_pred)\n",
    "        recall = recall_score(y_test, y_pred)\n",
    "        auc_roc = roc_auc_score(y_test, y_proba) if y_proba is not None else None\n",
    "        \n",
    "        # Guardar métricas en `resultados`\n",
    "        resultados[nombre] = {\n",
    "            'Accuracy': acc,\n",
    "            'Precision': precision,\n",
    "            'Recall': recall,\n",
    "            'F1-Score': f1,\n",
    "            'AUC-ROC': auc_roc\n",
    "        }\n",
    "\n",
    "    # Mostrar resultados en un DataFrame\n",
    "    resultados_df = pd.DataFrame(resultados).T\n",
    "    display(resultados_df)\n",
    "\n",
    "    # Visualizar las métricas en un gráfico de barras\n",
    "    resultados_df.plot(kind='bar', figsize=(10, 6), ylim=(0, 1), title=\"Comparación de Modelos - Métricas de Evaluación\")\n",
    "    plt.xticks(rotation=45)\n",
    "    plt.xlabel(\"Modelos\")\n",
    "    plt.ylabel(\"Métrica\")\n",
    "    plt.grid(axis='y')\n",
    "    plt.show()\n",
    "    plt.savefig('comparacion_modelos.png')\n"
   ]
  },
  {
   "cell_type": "markdown",
   "metadata": {},
   "source": [
    "### 🧩 Creación de Variables Derivadas y Evaluación de Modelos\n",
    "\n",
    "#### 📝 Objetivo\n",
    "Esta sección tiene como objetivo evaluar diferentes modelos de clasificación para predecir el churn en el conjunto de datos. Se aplican técnicas de balanceo de clases con SMOTE, y se comparan varios modelos en cuanto a su desempeño.\n",
    "\n",
    "#### 📊 Proceso\n",
    "1. **Balanceo de Clases con SMOTE**:\n",
    "   - Se aplica SMOTE (Synthetic Minority Over-sampling Technique) al conjunto de datos de entrenamiento para equilibrar la distribución de la variable objetivo `churn`.\n",
    "   - La distribución de clases después del balanceo es de 50% para cada clase (churn/no churn).\n",
    "\n",
    "2. **Modelos Evaluados**:\n",
    "   Se comparan cuatro modelos con hiperparámetros ajustados:\n",
    "   - **Regresión Logística**: Modelo lineal para clasificación binaria con regularización.\n",
    "   - **Árbol de Decisión**: Modelo basado en reglas de decisión, con profundidad máxima de 5.\n",
    "   - **Random Forest**: Ensamble de árboles de decisión con 100 estimadores y profundidad máxima de 6.\n",
    "   - **K-Nearest Neighbors (KNN)**: Clasificador basado en vecinos más cercanos, con 5 vecinos.\n",
    "\n",
    "3. **Evaluación y Validación Cruzada**:\n",
    "   - Se utiliza validación cruzada con 5 particiones (cv=5) para obtener una evaluación robusta de los modelos.\n",
    "   - Métricas evaluadas:\n",
    "     - `Accuracy`: Proporción de predicciones correctas.\n",
    "     - `Precision`: Proporción de verdaderos positivos sobre el total de positivos predichos.\n",
    "     - `Recall`: Proporción de verdaderos positivos sobre el total de positivos reales.\n",
    "     - `F1-Score`: Media armónica entre `Precision` y `Recall`.\n",
    "     - `AUC-ROC`: Área bajo la curva ROC, que mide la capacidad de un modelo para distinguir entre clases.\n",
    "\n",
    "#### 📈 Resultados\n",
    "- **Regresión Logística**:\n",
    "  - Accuracy: 0.99\n",
    "  - Precision: 1.00\n",
    "  - Recall: 0.98\n",
    "  - F1-Score: 0.99\n",
    "  - AUC-ROC: 1.00\n",
    "\n",
    "- **Árbol de Decisión**:\n",
    "  - Accuracy: 0.99\n",
    "  - Precision: 1.00\n",
    "  - Recall: 0.99\n",
    "  - F1-Score: 0.99\n",
    "  - AUC-ROC: 1.00\n",
    "\n",
    "- **Random Forest**:\n",
    "  - Accuracy: 0.99\n",
    "  - Precision: 1.00\n",
    "  - Recall: 0.99\n",
    "  - F1-Score: 0.99\n",
    "  - AUC-ROC: 1.00\n",
    "\n",
    "- **K-Nearest Neighbors (KNN)**:\n",
    "  - Accuracy: 0.79\n",
    "  - Precision: 0.84\n",
    "  - Recall: 0.76\n",
    "  - F1-Score: 0.80\n",
    "  - AUC-ROC: 0.87\n",
    "\n",
    "#### 📊 Comparación Visual\n",
    "Se generó un gráfico de barras para comparar las métricas de evaluación de todos los modelos:\n",
    "\n",
    "![Comparación de Modelos](comparacion_modelos.png)\n",
    "\n",
    "#### 🚀 Conclusiones\n",
    "- Los modelos **Regresión Logística**, **Árbol de Decisión** y **Random Forest** presentan un rendimiento muy alto en todas las métricas, lo que indica que son efectivos para predecir el churn.\n",
    "- **K-Nearest Neighbors (KNN)** muestra un rendimiento significativamente menor en comparación con los otros modelos.\n",
    "- El uso de SMOTE fue crucial para equilibrar las clases y mejorar el rendimiento de los modelos.\n",
    "\n",
    "La selección del modelo más adecuado dependerá de otros factores, como el tiempo de entrenamiento, la interpretabilidad del modelo y las necesidades del negocio.\n"
   ]
  },
  {
   "cell_type": "markdown",
   "metadata": {},
   "source": [
    "## 🚀Evaluación de Modelos Básicos"
   ]
  },
  {
   "cell_type": "markdown",
   "metadata": {},
   "source": [
    "Entrenamiento de modelos básicos como Regresión Logística, Árbol de Decisión, Random Forest y K-Nearest Neighbors, y evaluación con métricas como Accuracy, Precision, Recall, F1-Score y AUC-ROC."
   ]
  },
  {
   "cell_type": "code",
   "execution_count": null,
   "metadata": {
    "scrolled": true
   },
   "outputs": [],
   "source": [
    "# ----------------------------\n",
    "# Celda 19: Entrenamiento, Evaluación y Optimización de Hiperparámetros\n",
    "# ----------------------------\n",
    "\n",
    "from sklearn.linear_model import LogisticRegression\n",
    "from sklearn.tree import DecisionTreeClassifier\n",
    "from sklearn.ensemble import RandomForestClassifier\n",
    "from sklearn.neighbors import KNeighborsClassifier\n",
    "from sklearn.metrics import accuracy_score, f1_score, precision_score, recall_score, roc_auc_score\n",
    "from sklearn.model_selection import cross_val_score, RandomizedSearchCV\n",
    "import matplotlib.pyplot as plt\n",
    "import seaborn as sns\n",
    "import logging\n",
    "import gc\n",
    "\n",
    "@manejar_excepciones_y_tiempo(mensaje=\"Entrenamiento, Evaluación y Optimización de Modelos\")\n",
    "def entrenar_evaluar_y_optimizar(X_train_encoded, y_train, X_test_encoded, y_test):\n",
    "    \"\"\"\n",
    "    Entrena y evalúa modelos básicos, luego optimiza un modelo RandomForestClassifier.\n",
    "    \"\"\"\n",
    "    # Verificar y eliminar columnas con tipo `datetime64`\n",
    "    datetime_cols_train = X_train_encoded.select_dtypes(include=['datetime64']).columns\n",
    "    datetime_cols_test = X_test_encoded.select_dtypes(include=['datetime64']).columns\n",
    "\n",
    "    if not datetime_cols_train.empty:\n",
    "        print(f\"⚠️ Columnas con tipo datetime en X_train_encoded eliminadas: {datetime_cols_train.tolist()}\")\n",
    "        X_train_encoded = X_train_encoded.drop(columns=datetime_cols_train)\n",
    "\n",
    "    if not datetime_cols_test.empty:\n",
    "        print(f\"⚠️ Columnas con tipo datetime en X_test_encoded eliminadas: {datetime_cols_test.tolist()}\")\n",
    "        X_test_encoded = X_test_encoded.drop(columns=datetime_cols_test)\n",
    "\n",
    "    # Definir modelos con ajustes de hiperparámetros\n",
    "    modelos = {\n",
    "        'Regresión Logística': LogisticRegression(random_state=42, max_iter=1000, C=0.01),\n",
    "        'Árbol de Decisión': DecisionTreeClassifier(random_state=42, max_depth=3),\n",
    "        'Random Forest (Básico)': RandomForestClassifier(random_state=42, max_depth=6, n_estimators=100),\n",
    "        'K-Nearest Neighbors': KNeighborsClassifier(n_neighbors=5)\n",
    "    }\n",
    "\n",
    "    resultados = {}\n",
    "\n",
    "    # Entrenamiento y evaluación de modelos básicos\n",
    "    for nombre, modelo in modelos.items():\n",
    "        # Validación cruzada para obtener métricas más robustas\n",
    "        scores = cross_val_score(modelo, X_train_encoded, y_train, cv=5, scoring='f1')\n",
    "        print(f\"Cross-Validation F1-Score for {nombre}: {scores.mean():.2f} ± {scores.std():.2f}\")\n",
    "\n",
    "        # Entrenar el modelo\n",
    "        modelo.fit(X_train_encoded, y_train)\n",
    "        y_pred = modelo.predict(X_test_encoded)\n",
    "\n",
    "        # Calcular métricas de evaluación\n",
    "        acc = accuracy_score(y_test, y_pred)\n",
    "        f1 = f1_score(y_test, y_pred)\n",
    "        precision = precision_score(y_test, y_pred)\n",
    "        recall = recall_score(y_test, y_pred)\n",
    "        auc_roc = roc_auc_score(y_test, modelo.predict_proba(X_test_encoded)[:, 1])\n",
    "\n",
    "        resultados[nombre] = {\n",
    "            'Accuracy': acc,\n",
    "            'Precision': precision,\n",
    "            'Recall': recall,\n",
    "            'F1-Score': f1,\n",
    "            'AUC-ROC': auc_roc\n",
    "        }\n",
    "        print(f\"{nombre} - Accuracy: {acc:.2f}, Precision: {precision:.2f}, Recall: {recall:.2f}, F1-Score: {f1:.2f}, AUC-ROC: {auc_roc:.2f}\")\n",
    "\n",
    "    # Mostrar resultados en un DataFrame\n",
    "    resultados_df = pd.DataFrame(resultados).T\n",
    "    display(resultados_df)\n",
    "\n",
    "    # Visualizar las métricas en un gráfico de barras\n",
    "    resultados_df.plot(kind='bar', figsize=(10, 6), ylim=(0, 1), title=\"Comparación de Modelos - Métricas de Evaluación\")\n",
    "    plt.xticks(rotation=45)\n",
    "    plt.xlabel(\"Modelos\")\n",
    "    plt.ylabel(\"Métrica\")\n",
    "    plt.grid(axis='y')\n",
    "    plt.show()\n",
    "    plt.savefig('evaluacion_modelos.png')\n",
    "    \n",
    "    # Optimizar hiperparámetros para RandomForest\n",
    "    print(\"Iniciando optimización de hiperparámetros para el modelo RandomForest...\")\n",
    "\n",
    "    # Muestrear datos para mejorar rendimiento de optimización\n",
    "    X_train_sample = X_train_encoded.sample(frac=0.1, random_state=42)\n",
    "    y_train_sample = y_train.loc[X_train_sample.index]\n",
    "\n",
    "    modelo_rf = RandomForestClassifier(random_state=42)\n",
    "\n",
    "    # Parámetros a optimizar\n",
    "    parametros_rf = {\n",
    "        'n_estimators': [50, 100, 200],\n",
    "        'max_depth': [None, 10, 20, 30],\n",
    "        'min_samples_split': [2, 5, 10],\n",
    "        'min_samples_leaf': [1, 2, 4]\n",
    "    }\n",
    "\n",
    "    # Optimización con RandomizedSearchCV\n",
    "    search = RandomizedSearchCV(\n",
    "        estimator=modelo_rf,\n",
    "        param_distributions=parametros_rf,\n",
    "        n_iter=20,\n",
    "        cv=5,\n",
    "        scoring='f1_weighted',\n",
    "        n_jobs=-1,\n",
    "        verbose=2,\n",
    "        random_state=42\n",
    "    )\n",
    "\n",
    "    search.fit(X_train_sample, y_train_sample)\n",
    "\n",
    "    # Reportar mejores hiperparámetros\n",
    "    logging.info(f\"Mejores hiperparámetros encontrados: {search.best_params_}\")\n",
    "    print(f\"Mejores hiperparámetros encontrados: {search.best_params_}\")\n",
    "\n",
    "    # Mejor modelo después de la optimización\n",
    "    mejor_modelo_rf = search.best_estimator_\n",
    "\n",
    "    # Limpiar variables innecesarias y liberar memoria\n",
    "    gc.collect()\n",
    "\n",
    "    return mejor_modelo_rf\n",
    "\n",
    "# Llamar a la función de entrenamiento, evaluación y optimización\n",
    "mejor_modelo_rf = entrenar_evaluar_y_optimizar(X_train_encoded, y_train, X_test_encoded, y_test)\n"
   ]
  },
  {
   "cell_type": "markdown",
   "metadata": {},
   "source": [
    "### 🚀 Evaluación de Modelos Básicos\n",
    "\n",
    "#### 🎯 Objetivo\n",
    "Entrenar y evaluar modelos básicos como **Regresión Logística**, **Árbol de Decisión**, **Random Forest**, y **K-Nearest Neighbors**. Se miden métricas clave como `Accuracy`, `Precision`, `Recall`, `F1-Score` y `AUC-ROC` para comparar el desempeño de cada modelo.\n",
    "\n",
    "---\n",
    "\n",
    "#### 🛠 Proceso\n",
    "1. **Modelos Entrenados**:\n",
    "   - **Regresión Logística**: Ajustado para obtener una línea base de desempeño.\n",
    "   - **Árbol de Decisión**: Profundidad limitada para evitar sobreajuste.\n",
    "   - **Random Forest (Básico)**: Modelo de bosque aleatorio con múltiples árboles y profundidad moderada.\n",
    "   - **K-Nearest Neighbors (KNN)**: Clasificador con 5 vecinos como parámetro por defecto.\n",
    "\n",
    "2. **Métricas Evaluadas**:\n",
    "   - **Accuracy**: Proporción de predicciones correctas.\n",
    "   - **Precision**: Verdaderos positivos sobre el total de predicciones positivas.\n",
    "   - **Recall**: Verdaderos positivos sobre el total de verdaderos positivos y falsos negativos.\n",
    "   - **F1-Score**: Media armónica entre `Precision` y `Recall`.\n",
    "   - **AUC-ROC**: Área bajo la curva ROC para evaluar la capacidad de discriminación entre clases.\n",
    "\n",
    "3. **Optimización de Hiperparámetros**:\n",
    "   - Realizada para el modelo de **Random Forest** con el fin de mejorar el desempeño general y encontrar la mejor combinación de hiperparámetros.\n",
    "\n",
    "---\n",
    "\n",
    "#### 📊 Resultados\n",
    "Se evaluaron y compararon diferentes modelos utilizando las métricas descritas. El siguiente gráfico muestra la comparación visual de las métricas para cada modelo:\n",
    "\n",
    "![Comparación de Modelos](evaluacion_modelos.png)\n",
    "\n",
    "- **Regresión Logística**:\n",
    "  - `Accuracy`: **0.96**\n",
    "  - `Precision`: **0.97**\n",
    "  - `Recall`: **0.95**\n",
    "  - `F1-Score`: **0.96**\n",
    "  - `AUC-ROC`: **0.99**\n",
    "\n",
    "- **Árbol de Decisión**:\n",
    "  - `Accuracy`: **1.00**\n",
    "  - `Precision`: **1.00**\n",
    "  - `Recall`: **1.00**\n",
    "  - `F1-Score`: **1.00**\n",
    "  - `AUC-ROC`: **1.00**\n",
    "\n",
    "- **Random Forest (Básico)**:\n",
    "  - `Accuracy`: **1.00**\n",
    "  - `Precision`: **1.00**\n",
    "  - `Recall`: **1.00**\n",
    "  - `F1-Score`: **1.00**\n",
    "  - `AUC-ROC`: **1.00**\n",
    "\n",
    "- **K-Nearest Neighbors (KNN)**:\n",
    "  - `Accuracy`: **0.80**\n",
    "  - `Precision`: **0.83**\n",
    "  - `Recall`: **0.79**\n",
    "  - `F1-Score`: **0.81**\n",
    "  - `AUC-ROC`: **0.87**\n",
    "\n",
    "---\n",
    "\n",
    "#### 📈 Conclusiones\n",
    "- **Desempeño Excepcional**: El **Árbol de Decisión** y el **Random Forest** muestran un rendimiento sobresaliente en todas las métricas (`Accuracy`, `Precision`, `Recall`, `F1-Score` y `AUC-ROC`) con un valor perfecto de **1.00**.\n",
    "- **Regresión Logística**: Tiene un buen desempeño, con métricas cercanas a **1.00**, lo que lo convierte en un modelo sólido aunque ligeramente por debajo de los modelos de árboles.\n",
    "- **K-Nearest Neighbors (KNN)**: Presenta el desempeño más bajo, con un `Accuracy` de **0.80** y un `AUC-ROC` de **0.87**. Requiere ajuste de parámetros y preprocesamiento para mejorar.\n",
    "\n",
    "---\n",
    "\n",
    "#### 🔍 Optimización de Hiperparámetros\n",
    "Se realizó una optimización en el modelo **Random Forest**, y se encontraron los siguientes parámetros óptimos:\n",
    "\n",
    "- **Parámetros**:\n",
    "  - `n_estimators`: 50, \n",
    "  - `min_samples_split`: 2, \n",
    "  - `min_samples_leaf`: 1, \n",
    "  - `max_depth`: 30\n",
    "\n",
    "\n",
    "#### 💡 Reflexiones\n",
    "La selección de modelos es un paso crítico en el análisis predictivo. Los modelos basados en árboles, como Árbol de Decisión y Random Forest, destacan debido a su capacidad para capturar relaciones complejas en los datos. La Regresión Logística muestra resultados satisfactorios y consistentes. Sin embargo, el modelo KNN requiere ajustes adicionales en los hiperparámetros o cambios en el preprocesamiento para alcanzar un mejor desempeño."
   ]
  },
  {
   "cell_type": "markdown",
   "metadata": {},
   "source": [
    "## Validación Adicional con ANOVA"
   ]
  },
  {
   "cell_type": "code",
   "execution_count": null,
   "metadata": {},
   "outputs": [],
   "source": [
    "# ----------------------------\n",
    "# Celda 20: Validación Adicional con ANOVA\n",
    "# ----------------------------\n",
    "from scipy import stats\n",
    "from sklearn.model_selection import cross_val_score\n",
    "from sklearn.linear_model import LogisticRegression\n",
    "import pandas as pd\n",
    "\n",
    "@manejar_excepciones_y_tiempo(mensaje=\"Validación Adicional con ANOVA\")\n",
    "def validar_anova(modelos, X_test, y_test):\n",
    "    \"\"\"\n",
    "    Realiza un análisis ANOVA para comparar las diferencias en el rendimiento entre los modelos.\n",
    "\n",
    "    Args:\n",
    "        modelos (list): Lista de modelos a comparar.\n",
    "        X_test (pd.DataFrame): Conjunto de datos de prueba.\n",
    "        y_test (pd.Series): Etiquetas de prueba.\n",
    "    \"\"\"\n",
    "    # Verificar y eliminar columnas datetime\n",
    "    datetime_cols = X_test.select_dtypes(include=['datetime64']).columns\n",
    "    if not datetime_cols.empty:\n",
    "        print(f\"⚠️ Columnas con tipo datetime eliminadas: {datetime_cols.tolist()}\")\n",
    "        # Extraer características útiles de la columna datetime antes de eliminarla\n",
    "        for col in datetime_cols:\n",
    "            X_test[f'{col}_Year'] = X_test[col].dt.year\n",
    "            X_test[f'{col}_Month'] = X_test[col].dt.month\n",
    "            X_test[f'{col}_Day'] = X_test[col].dt.day\n",
    "        X_test.drop(columns=datetime_cols, inplace=True)\n",
    "\n",
    "    # Convertir cualquier columna no numérica a un tipo numérico\n",
    "    for col in X_test.columns:\n",
    "        if not pd.api.types.is_numeric_dtype(X_test[col]):\n",
    "            X_test[col] = pd.to_numeric(X_test[col], errors='coerce')\n",
    "\n",
    "    # Rellenar valores nulos con 0\n",
    "    X_test.fillna(0, inplace=True)\n",
    "\n",
    "    resultados = []\n",
    "    for modelo in modelos:\n",
    "        # Usar validación cruzada para obtener una lista de resultados para ANOVA\n",
    "        scores = cross_val_score(modelo, X_test, y_test, cv=5, scoring='accuracy')\n",
    "        resultados.append(scores)\n",
    "    \n",
    "    # Realizar análisis ANOVA\n",
    "    f_statistic, p_value = stats.f_oneway(*resultados)\n",
    "    print(f\"ANOVA F-Statistic: {f_statistic}, P-Value: {p_value}\")\n",
    "\n",
    "# Preprocesar X_test_encoded para asegurar que sea numérico y sin nulos\n",
    "def preprocesar_para_anova(X):\n",
    "    # Verificar y eliminar columnas datetime\n",
    "    datetime_cols = X.select_dtypes(include=['datetime64']).columns\n",
    "    if not datetime_cols.empty:\n",
    "        print(f\"⚠️ Columnas con tipo datetime eliminadas: {datetime_cols.tolist()}\")\n",
    "        # Extraer características útiles de la columna datetime antes de eliminarla\n",
    "        for col in datetime_cols:\n",
    "            X[f'{col}_Year'] = X[col].dt.year\n",
    "            X[f'{col}_Month'] = X[col].dt.month\n",
    "            X[f'{col}_Day'] = X[col].dt.day\n",
    "        X.drop(columns=datetime_cols, inplace=True)\n",
    "\n",
    "    # Convertir cualquier columna no numérica a un tipo numérico\n",
    "    for col in X.columns:\n",
    "        if not pd.api.types.is_numeric_dtype(X[col]):\n",
    "            X[col] = pd.to_numeric(X[col], errors='coerce')\n",
    "\n",
    "    # Rellenar valores nulos con 0\n",
    "    X.fillna(0, inplace=True)\n",
    "    \n",
    "    return X\n",
    "\n",
    "# Preprocesar X_test_encoded con la función de preprocesamiento\n",
    "X_test_encoded_processed = preprocesar_para_anova(X_test_encoded.copy())\n",
    "\n",
    "# Entrenar otro modelo si no está definido\n",
    "try:\n",
    "    otro_modelo\n",
    "except NameError:\n",
    "    print(\"Entrenando el modelo adicional LogisticRegression...\")\n",
    "    otro_modelo = LogisticRegression(max_iter=1000, random_state=42)\n",
    "    # Asegurarse de eliminar columnas datetime y convertir todas las columnas a numéricas antes de entrenar\n",
    "    X_train_encoded_processed = preprocesar_para_anova(X_train_encoded.copy())\n",
    "    otro_modelo.fit(X_train_encoded_processed, y_train)\n",
    "\n",
    "# Validar modelos entrenados con ANOVA\n",
    "validar_anova([mejor_modelo_rf, otro_modelo], X_test_encoded_processed, y_test)\n"
   ]
  },
  {
   "cell_type": "markdown",
   "metadata": {},
   "source": [
    "### 📊 Validación Adicional con ANOVA\n",
    "#### 🎯 Objetivo\n",
    "Realizar un análisis estadístico adicional utilizando ANOVA (Análisis de Varianza) para comparar el rendimiento de diferentes modelos predictivos, como Random Forest optimizado y Regresión Logística. Esto permite validar si hay diferencias significativas en su capacidad predictiva.\n",
    "\n",
    "#### 🛠 Proceso\n",
    "Preparación de los Datos:\n",
    "\n",
    "Las columnas de tipo datetime se eliminan o transforman en componentes numéricos (Year, Month, Day) para asegurar la correcta entrada a los modelos predictivos.\n",
    "Todas las columnas se convierten a tipos numéricos y se rellenan valores nulos con 0 para evitar problemas durante la validación.\n",
    "Validación de Modelos:\n",
    "\n",
    "Se entrenan y comparan diferentes modelos predictivos, en este caso, un Random Forest optimizado y un modelo de Regresión Logística.\n",
    "Se utiliza Validación Cruzada con la métrica de accuracy para evaluar la consistencia de cada modelo.\n",
    "Análisis ANOVA:\n",
    "\n",
    "Se calculan el estadístico F y el P-Value para determinar si existen diferencias significativas en el rendimiento entre los modelos.\n",
    "El análisis de varianza (ANOVA) permite evaluar si las diferencias en el desempeño de los modelos son estadísticamente significativas.\n",
    "#### 📊 Resultados de ANOVA\n",
    "Estadístico F: NaN\n",
    "P-Value: NaN\n",
    "Estos resultados (NaN) indican que no se pudo determinar una diferencia significativa en el rendimiento de los modelos con los datos disponibles o que puede haber un problema con la evaluación de ANOVA debido a la falta de varianza entre los modelos.\n",
    "\n",
    "#### 🔍 Conclusiones\n",
    "Inconsistencia en ANOVA: La salida de NaN en el estadístico F y el P-Value sugiere que es necesario revisar los datos de entrada o la configuración de los modelos para asegurar que el análisis ANOVA sea capaz de detectar diferencias significativas.\n",
    "Importancia de la Validación Adicional: La validación adicional utilizando ANOVA es una técnica poderosa para comparar estadísticamente modelos, pero requiere que los datos sean adecuados y que los modelos tengan suficiente varianza en su rendimiento para que las diferencias sean detectables.\n",
    "### 💡 Reflexiones\n",
    "La validación estadística es esencial para confirmar si el modelo seleccionado es realmente el mejor en términos de rendimiento predictivo. Aunque en este caso el análisis ANOVA no arrojó diferencias significativas, es importante considerar si la falta de varianza entre los modelos o problemas en el preprocesamiento de datos pudieron afectar los resultados. Ajustes adicionales o modelos alternativos pueden ser necesarios para una evaluación más precisa. Pero hay que evitar el sobre ajuste."
   ]
  },
  {
   "cell_type": "markdown",
   "metadata": {},
   "source": [
    "## 📈 Evaluación Final de Modelos Optimizados"
   ]
  },
  {
   "cell_type": "markdown",
   "metadata": {},
   "source": [
    "Evaluación y validación final de los modelos con métricas avanzadas, como curvas ROC, Precision-Recall y matrices de confusión."
   ]
  },
  {
   "cell_type": "code",
   "execution_count": null,
   "metadata": {
    "scrolled": false
   },
   "outputs": [],
   "source": [
    "# ----------------------------\n",
    "# Celda 21: Evaluación del Modelo Optimizado con Métricas Avanzadas\n",
    "# ----------------------------\n",
    "from sklearn.metrics import accuracy_score, f1_score, precision_score, recall_score, roc_auc_score, confusion_matrix, roc_curve, auc, precision_recall_curve\n",
    "import matplotlib.pyplot as plt\n",
    "import seaborn as sns\n",
    "\n",
    "@manejar_excepciones_y_tiempo(mensaje=\"Evaluación del Modelo Optimizado con Métricas Avanzadas\")\n",
    "def evaluar_modelo_optimizado(mejor_modelo, X_test, y_test):\n",
    "    \"\"\"\n",
    "    Evalúa el modelo optimizado utilizando métricas avanzadas y visualiza sus resultados.\n",
    "    \n",
    "    Args:\n",
    "        mejor_modelo: Modelo optimizado a evaluar.\n",
    "        X_test (pd.DataFrame): Conjunto de características de prueba.\n",
    "        y_test (pd.Series): Etiquetas de prueba.\n",
    "    \"\"\"\n",
    "    \n",
    "    # Eliminar columnas de tipo datetime si están presentes en X_test\n",
    "    datetime_cols_test = X_test.select_dtypes(include=['datetime64']).columns\n",
    "    if not datetime_cols_test.empty:\n",
    "        print(f\"⚠️ Columnas con tipo datetime eliminadas en X_test: {datetime_cols_test.tolist()}\")\n",
    "        X_test = X_test.drop(columns=datetime_cols_test)\n",
    "    \n",
    "    # Asegurar que las columnas de X_test coincidan con las usadas en el entrenamiento\n",
    "    missing_cols = set(mejor_modelo.feature_names_in_) - set(X_test.columns)\n",
    "    extra_cols = set(X_test.columns) - set(mejor_modelo.feature_names_in_)\n",
    "    \n",
    "    if missing_cols:\n",
    "        print(f\"⚠️ Advertencia: Las siguientes columnas faltan en X_test y estaban presentes durante el ajuste: {missing_cols}\")\n",
    "    \n",
    "    if extra_cols:\n",
    "        print(f\"⚠️ Advertencia: Las siguientes columnas en X_test no estaban presentes durante el ajuste: {extra_cols}\")\n",
    "        X_test = X_test.drop(columns=extra_cols)\n",
    "    \n",
    "    # Realizar predicciones con el modelo optimizado\n",
    "    y_pred_opt = mejor_modelo.predict(X_test)\n",
    "    y_proba_opt = mejor_modelo.predict_proba(X_test)[:, 1]\n",
    "    \n",
    "    # Calcular métricas de evaluación\n",
    "    acc_opt = accuracy_score(y_test, y_pred_opt)\n",
    "    f1_opt = f1_score(y_test, y_pred_opt)\n",
    "    precision_opt = precision_score(y_test, y_pred_opt)\n",
    "    recall_opt = recall_score(y_test, y_pred_opt)\n",
    "    auc_roc_opt = roc_auc_score(y_test, y_proba_opt)\n",
    "    \n",
    "    print(f\"Modelo Optimizado - Accuracy: {acc_opt:.2f}, Precision: {precision_opt:.2f}, Recall: {recall_opt:.2f}, F1-Score: {f1_opt:.2f}, AUC-ROC: {auc_roc_opt:.2f}\")\n",
    "\n",
    "    # Visualizar la matriz de confusión\n",
    "    cm_opt = confusion_matrix(y_test, y_pred_opt)\n",
    "    plt.figure(figsize=(8, 6))\n",
    "    sns.heatmap(cm_opt, annot=True, fmt='d', cmap='Blues', xticklabels=['No Churn', 'Churn'], yticklabels=['No Churn', 'Churn'])\n",
    "    plt.xlabel('Predicted')\n",
    "    plt.ylabel('Actual')\n",
    "    plt.title('Matriz de Confusión - Modelo Optimizado')\n",
    "    plt.show()\n",
    "\n",
    "    # Curva ROC\n",
    "    fpr, tpr, _ = roc_curve(y_test, y_proba_opt)\n",
    "    roc_auc = auc(fpr, tpr)\n",
    "    \n",
    "    plt.figure(figsize=(8, 6))\n",
    "    plt.plot(fpr, tpr, color='darkorange', lw=2, label=f'ROC Curve (AUC = {roc_auc:.2f})')\n",
    "    plt.plot([0, 1], [0, 1], color='navy', lw=2, linestyle='--')\n",
    "    plt.xlabel('False Positive Rate')\n",
    "    plt.ylabel('True Positive Rate')\n",
    "    plt.title('Curva ROC - Modelo Optimizado')\n",
    "    plt.legend(loc='lower right')\n",
    "    plt.show()\n",
    "    \n",
    "    # Curva Precision-Recall\n",
    "    precision, recall, _ = precision_recall_curve(y_test, y_proba_opt)\n",
    "    \n",
    "    plt.figure(figsize=(8, 6))\n",
    "    plt.plot(recall, precision, color='purple', lw=2, label='Precision-Recall Curve')\n",
    "    plt.xlabel('Recall')\n",
    "    plt.ylabel('Precision')\n",
    "    plt.title('Curva Precision-Recall - Modelo Optimizado')\n",
    "    plt.legend(loc='lower left')\n",
    "    plt.show()\n",
    "\n",
    "# Llamada a la función para evaluar el modelo optimizado\n",
    "evaluar_modelo_optimizado(mejor_modelo_rf, X_test_encoded, y_test)"
   ]
  },
  {
   "cell_type": "markdown",
   "metadata": {},
   "source": [
    "### 📈 Evaluación Final de Modelos Optimizados\n",
    "#### 🎯 Objetivo\n",
    "Realizar una evaluación exhaustiva del modelo optimizado utilizando métricas avanzadas y visualizar su rendimiento a través de diversas herramientas como la matriz de confusión, la curva ROC, y la curva Precision-Recall. Esto proporciona una validación final sobre la capacidad del modelo para predecir correctamente el churn.\n",
    "\n",
    "#### 🛠 Proceso\n",
    "Visualización de la Matriz de Confusión:\n",
    "\n",
    "Permite identificar el número de predicciones correctas e incorrectas para cada clase (Churn y No Churn).\n",
    "Proporciona insights sobre falsos positivos, falsos negativos, verdaderos positivos y verdaderos negativos.\n",
    "\n",
    "Curva ROC y AUC-ROC:\n",
    "\n",
    "La curva ROC (Receiver Operating Characteristic) se utiliza para evaluar la capacidad del modelo para distinguir entre clases.\n",
    "El AUC-ROC (Área bajo la curva ROC) mide la eficacia del modelo; un valor de 1.00 indica un rendimiento perfecto.\n",
    "\n",
    "Curva Precision-Recall:\n",
    "\n",
    "Proporciona información sobre el equilibrio entre precisión y recall a diferentes umbrales de probabilidad.\n",
    "Es especialmente útil en escenarios de clases desbalanceadas para entender la relación entre estas dos métricas.\n",
    "\n",
    "#### 📊 Resultados\n",
    "Matriz de Confusión: Muestra un alto nivel de precisión con 950 predicciones correctas para \"No Churn\" y 1159 para \"Churn\", junto con solo 4 falsos negativos.\n",
    "Curva ROC y AUC-ROC: La curva ROC muestra un rendimiento perfecto con un AUC de 1.00.\n",
    "Curva Precision-Recall: La curva muestra una alta precisión en todo el rango de recall, lo que valida la capacidad del modelo para mantener un equilibrio entre estas métricas.\n",
    "#### 📈 Conclusiones\n",
    "Desempeño Excelente: El modelo optimizado demuestra un rendimiento perfecto en todas las métricas evaluadas (Accuracy, Precision, Recall, F1-Score, y AUC-ROC), con valores cercanos o iguales a 1.00.\n",
    "Capacidad de Distinción de Clases: La curva ROC muestra que el modelo puede distinguir correctamente entre \"Churn\" y \"No Churn\" sin errores significativos.\n",
    "Balance de Métricas: La curva Precision-Recall confirma que el modelo mantiene un buen balance entre precisión y recall, lo que es crucial para aplicaciones donde ambas métricas son importantes.\n",
    "### 💡 Reflexiones\n",
    "La evaluación final del modelo optimizado muestra un rendimiento sobresaliente en todas las métricas. Las herramientas visuales como la matriz de confusión y las curvas ROC y Precision-Recall permiten confirmar que el modelo tiene una capacidad predictiva muy alta, lo que lo convierte en una excelente opción para predecir el churn. Dado el equilibrio logrado entre las métricas, el modelo está bien preparado para un posible despliegue en producción para la toma de decisiones de negocio.\n",
    "\n",
    "#### 🔍 Próximos Pasos\n",
    "- Validar el rendimiento del modelo en nuevos datos no vistos para asegurar su capacidad de generalización.\n",
    "- Continuar refinando el modelo si se identifican áreas de mejora en diferentes escenarios de negocio o conjuntos de datos futuros."
   ]
  },
  {
   "cell_type": "markdown",
   "metadata": {},
   "source": [
    "## Preprocesamiento, Evaluación y Optimización de Modelos"
   ]
  },
  {
   "cell_type": "code",
   "execution_count": null,
   "metadata": {
    "scrolled": false
   },
   "outputs": [],
   "source": [
    "# ---------------------------- \n",
    "# Celda 22: Proceso Completo de Preprocesamiento, Evaluación y Optimización de Modelos\n",
    "# ----------------------------\n",
    "\n",
    "from imblearn.over_sampling import SMOTE\n",
    "from sklearn.model_selection import cross_val_score, RandomizedSearchCV\n",
    "from sklearn.linear_model import LogisticRegression\n",
    "from sklearn.tree import DecisionTreeClassifier\n",
    "from sklearn.ensemble import RandomForestClassifier\n",
    "from sklearn.neighbors import KNeighborsClassifier\n",
    "from sklearn.metrics import accuracy_score, f1_score, precision_score, recall_score, roc_auc_score\n",
    "import matplotlib.pyplot as plt\n",
    "import seaborn as sns\n",
    "import pandas as pd\n",
    "import numpy as np\n",
    "import pickle\n",
    "\n",
    "@manejar_excepciones_y_tiempo(mensaje=\"Proceso Completo de Evaluación y Optimización de Modelos\")\n",
    "def proceso_completo(X_train, X_test, y_train, y_test):\n",
    "    \"\"\"\n",
    "    Unifica el proceso de preprocesamiento, manejo de NaNs, SMOTE, evaluación de modelos, y optimización de hiperparámetros.\n",
    "    \n",
    "    Args:\n",
    "        X_train (pd.DataFrame): Conjunto de características de entrenamiento.\n",
    "        X_test (pd.DataFrame): Conjunto de características de prueba.\n",
    "        y_train (pd.Series): Etiquetas de entrenamiento.\n",
    "        y_test (pd.Series): Etiquetas de prueba.\n",
    "    \"\"\"\n",
    "    global resultados_df  # Se cambia a `resultados_df` para que esté disponible globalmente\n",
    "    \n",
    "    # Preprocesar datos: Convertir todas las columnas a tipo numérico y manejar valores nulos\n",
    "    columnas_excluir = ['customerID']  # Añade otras columnas si es necesario\n",
    "    for df in [X_train, X_test]:\n",
    "        for col in df.columns:\n",
    "            if col not in columnas_excluir:\n",
    "                if not pd.api.types.is_numeric_dtype(df[col]):\n",
    "                    df[col] = pd.to_numeric(df[col], errors='coerce')\n",
    "            df[col].fillna(df[col].median(), inplace=True)\n",
    "\n",
    "    # Balancear clases en el conjunto de entrenamiento usando SMOTE\n",
    "    smote = SMOTE(random_state=42)\n",
    "    X_train_resampled, y_train_resampled = smote.fit_resample(X_train, y_train)\n",
    "    \n",
    "    print(f\"Distribución de clases después de SMOTE:\\n{pd.Series(y_train_resampled).value_counts(normalize=True)}\\n\")\n",
    "\n",
    "    # Definir modelos con parámetros iniciales\n",
    "    modelos = {\n",
    "        'Regresión Logística': LogisticRegression(random_state=42, max_iter=1000),\n",
    "        'Árbol de Decisión': DecisionTreeClassifier(random_state=42, max_depth=5),\n",
    "        'Random Forest': RandomForestClassifier(random_state=42, n_estimators=50, max_depth=10),\n",
    "        'K-Nearest Neighbors': KNeighborsClassifier(n_neighbors=5)\n",
    "    }\n",
    "\n",
    "    resultados = {}\n",
    "    \n",
    "    # Evaluación de modelos\n",
    "    for nombre, modelo in modelos.items():\n",
    "        # Validación cruzada para obtener métricas más robustas\n",
    "        scores = cross_val_score(modelo, X_train_resampled, y_train_resampled, cv=5, scoring='f1')\n",
    "        print(f\"Cross-Validation F1-Score for {nombre}: {scores.mean():.2f} ± {scores.std():.2f}\")\n",
    "        \n",
    "        # Entrenar el modelo\n",
    "        modelo.fit(X_train_resampled, y_train_resampled)\n",
    "        y_pred = modelo.predict(X_test)\n",
    "        y_proba = modelo.predict_proba(X_test)[:, 1] if hasattr(modelo, \"predict_proba\") else None\n",
    "        \n",
    "        # Calcular métricas de evaluación\n",
    "        acc = accuracy_score(y_test, y_pred)\n",
    "        f1 = f1_score(y_test, y_pred)\n",
    "        precision = precision_score(y_test, y_pred)\n",
    "        recall = recall_score(y_test, y_pred)\n",
    "        auc_roc = roc_auc_score(y_test, y_proba) if y_proba is not None else np.nan\n",
    "        \n",
    "        # Guardar métricas en `resultados`\n",
    "        resultados[nombre] = {\n",
    "            'Accuracy': acc,\n",
    "            'Precision': precision,\n",
    "            'Recall': recall,\n",
    "            'F1-Score': f1,\n",
    "            'AUC-ROC': auc_roc\n",
    "        }\n",
    "    \n",
    "    # Convertir resultados a DataFrame para uso posterior\n",
    "    resultados_df = pd.DataFrame(resultados).T\n",
    "    print(\"\\nResumen de métricas de los modelos:\\n\", resultados_df)\n",
    "    \n",
    "    # Visualizar métricas de modelos\n",
    "    resultados_df.plot(kind='bar', figsize=(10, 6), ylim=(0, 1), title='Desempeño de Modelos')\n",
    "    plt.xlabel(\"Modelos\")\n",
    "    plt.ylabel(\"Valor de Métrica\")\n",
    "    plt.grid(axis='y')\n",
    "    plt.xticks(rotation=45)\n",
    "    plt.show()\n",
    "\n",
    "    # Optimización del modelo con mejores resultados (Random Forest en este caso)\n",
    "    print(\"\\nOptimización de modelo RandomForest iniciando...\")\n",
    "\n",
    "    modelo_rf = RandomForestClassifier(random_state=42)\n",
    "    parametros_rf = {\n",
    "        'n_estimators': [50, 100, 200],\n",
    "        'max_depth': [None, 10, 20, 30],\n",
    "        'min_samples_split': [2, 5, 10],\n",
    "        'min_samples_leaf': [1, 2, 4]\n",
    "    }\n",
    "    search = RandomizedSearchCV(estimator=modelo_rf, param_distributions=parametros_rf, n_iter=10, cv=3, scoring='f1', random_state=42, n_jobs=-1)\n",
    "    search.fit(X_train_resampled, y_train_resampled)\n",
    "\n",
    "    print(f\"Mejores parámetros encontrados: {search.best_params_}\")\n",
    "    mejor_modelo_rf = search.best_estimator_\n",
    "\n",
    "    # Guardar el mejor modelo (Random Forest Optimizado) para uso futuro\n",
    "    with open('mejor_modelo_rf.pkl', 'wb') as f:\n",
    "        pickle.dump(mejor_modelo_rf, f)\n",
    "    \n",
    "    print(\"El mejor modelo Random Forest ha sido guardado como 'mejor_modelo_rf.pkl'.\")\n",
    "    \n",
    "    return mejor_modelo_rf\n",
    "\n",
    "# Llamada al proceso completo con conjuntos de entrenamiento y prueba\n",
    "mejor_modelo_rf = proceso_completo(X_train_encoded, X_test_encoded, y_train, y_test)\n"
   ]
  },
  {
   "cell_type": "markdown",
   "metadata": {},
   "source": [
    "### 📊 Preprocesamiento, Evaluación y Optimización de Modelos\n",
    "#### 🎯 Objetivo\n",
    "Unificar el proceso de preprocesamiento de datos, evaluación de modelos y optimización de hiperparámetros para seleccionar el modelo predictivo más eficiente y robusto.\n",
    "\n",
    "#### 🛠 Proceso\n",
    "##### Preprocesamiento de Datos:\n",
    "\n",
    "Las columnas de los conjuntos de datos de entrenamiento y prueba son convertidas a tipo numérico.\n",
    "Se gestionan valores nulos, reemplazando con la mediana de cada columna.\n",
    "\n",
    "##### Balanceo de Clases:\n",
    "Para corregir el desbalance de clases, se aplica SMOTE (Synthetic Minority Over-sampling Technique), generando una distribución de clases balanceada:\n",
    "\n",
    "\n",
    "Distribución de clases después de SMOTE:\n",
    "0: 50%\n",
    "1: 50%\n",
    "#### Evaluación de Modelos:\n",
    "\n",
    "Se entrenan los siguientes modelos con parámetros iniciales:\n",
    "Regresión Logística\n",
    "Árbol de Decisión\n",
    "Random Forest\n",
    "K-Nearest Neighbors\n",
    "Se emplea Validación Cruzada (Cross-Validation) para obtener métricas robustas de evaluación.\n",
    "Las métricas clave evaluadas incluyen Accuracy, Precision, Recall, F1-Score, y AUC-ROC.\n",
    "\n",
    "#### Resultados de Métricas:\n",
    "Regresión Logística: Accuracy: 0.99, Precision: 1.00, Recall: 0.98, F1-Score: 0.99, AUC-ROC: 1.00\n",
    "Árbol de Decisión: Accuracy: 0.99, Precision: 1.00, Recall: 0.99, F1-Score: 0.99, AUC-ROC: 1.00\n",
    "Random Forest: Accuracy: 0.99, Precision: 1.00, Recall: 0.99, F1-Score: 0.99, AUC-ROC: 1.00\n",
    "K-Nearest Neighbors: Accuracy: 0.79, Precision: 0.84, Recall: 0.76, F1-Score: 0.80, AUC-ROC: 0.87\n",
    "\n",
    "#### Optimización de Hiperparámetros:\n",
    "\n",
    "Se optimiza el modelo con mejor desempeño (en este caso, Random Forest) utilizando RandomizedSearchCV para encontrar la mejor combinación de parámetros.\n",
    "**Mejores parámetros encontrados**:\n",
    "- 'n_estimators': 200,\n",
    "- 'min_samples_split': 5,\n",
    "- 'min_samples_leaf': 4,\n",
    "- 'max_depth': 20\n",
    "}\n",
    "El modelo optimizado se guarda para uso futuro como 'mejor_modelo_rf.pkl'.\n",
    "\n",
    "#### 📈 Conclusiones\n",
    "Desempeño Consistente: La Regresión Logística, el Árbol de Decisión y el Random Forest muestran un rendimiento sobresaliente con valores de Accuracy, Precision, Recall, F1-Score y AUC-ROC cercanos a 1.00.\n",
    "K-Nearest Neighbors presenta un desempeño notablemente inferior en comparación con los otros modelos, sugiriendo que podría necesitar un ajuste más refinado de hiperparámetros o cambios en el preprocesamiento.\n",
    "La optimización de Random Forest mejora aún más su desempeño y asegura que el modelo esté listo para despliegue.\n",
    "### 💡 Reflexiones\n",
    "El proceso completo de preprocesamiento, evaluación y optimización de modelos es fundamental para asegurar que el modelo seleccionado sea el más adecuado para la tarea predictiva. En este caso, Random Forest con optimización de hiperparámetros se presenta como el modelo más robusto y confiable para predecir el churn de clientes con gran precisión.\n",
    "\n",
    "#### 📝 Próximos Pasos\n",
    "Validar el rendimiento del modelo optimizado en datos de prueba adicionales para garantizar su capacidad de generalización.\n",
    "Ajustar la configuración del modelo si se observan áreas de mejora durante el uso en producción o en diferentes escenarios empresariales."
   ]
  },
  {
   "cell_type": "markdown",
   "metadata": {},
   "source": [
    "## 📊Interpretabilidad del Modelo"
   ]
  },
  {
   "cell_type": "markdown",
   "metadata": {},
   "source": [
    "Uso de sklearn para entender la importancia de las variables y el impacto de cada una en la predicción de churn."
   ]
  },
  {
   "cell_type": "code",
   "execution_count": null,
   "metadata": {},
   "outputs": [],
   "source": [
    "import pandas as pd\n",
    "import matplotlib.pyplot as plt\n",
    "import seaborn as sns\n",
    "from sklearn.inspection import permutation_importance\n",
    "from sklearn.linear_model import LogisticRegression\n",
    "from datetime import datetime\n",
    "\n",
    "@manejar_excepciones_y_tiempo(mensaje=\"Interpretabilidad del Modelo y Comparación de Características\")\n",
    "def interpretar_y_comparar_modelos(modelo_rf, X_train_encoded, y_train, top_n=20):\n",
    "    \"\"\"\n",
    "    Genera la interpretación de modelos y compara la importancia de características entre modelos.\n",
    "    \n",
    "    Args:\n",
    "        modelo_rf (sklearn.estimator): Modelo RandomForest optimizado.\n",
    "        X_train_encoded (pd.DataFrame): Conjunto de datos de entrenamiento codificados.\n",
    "        y_train (pd.Series): Etiquetas de entrenamiento.\n",
    "        top_n (int): Número de características principales a visualizar.\n",
    "    \"\"\"\n",
    "    try:\n",
    "        # Interpretación del Modelo RandomForest con Permutation Importance\n",
    "        print(\"Interpretación del modelo RandomForest con Permutation Importance...\")\n",
    "        interpretar_modelo_mejorado_sklearn(modelo_rf, X_train_encoded, y_train, top_n, \"RandomForest\")\n",
    "\n",
    "        # Entrenar Modelo Adicional - Regresión Logística para comparación\n",
    "        print(\"\\nEntrenando un modelo adicional (Regresión Logística) para comparación...\")\n",
    "        modelo_logistic = LogisticRegression(max_iter=1000, random_state=42)\n",
    "        modelo_logistic.fit(X_train_encoded, y_train)\n",
    "\n",
    "        # Comparar Importancia de Características entre Modelos\n",
    "        print(\"\\nComparando importancia de características entre Random Forest y Regresión Logística...\")\n",
    "        comparar_importancia_modelos([modelo_rf, modelo_logistic], X_train_encoded, y_train, top_n)\n",
    "    except Exception as e:\n",
    "        print(f\"Error en la interpretación y comparación de modelos: {e}\")\n",
    "\n",
    "def interpretar_modelo_mejorado_sklearn(modelo, X_train_encoded, y_train, top_n=20, model_name=\"Modelo\"):\n",
    "    \"\"\"\n",
    "    Genera una visualización de la importancia de características para el modelo entrenado usando permutation_importance.\n",
    "    \n",
    "    Args:\n",
    "        modelo (sklearn.estimator): Modelo entrenado.\n",
    "        X_train_encoded (pd.DataFrame): Características de entrenamiento codificadas.\n",
    "        y_train (pd.Series): Etiquetas de entrenamiento.\n",
    "        top_n (int): Número de características principales a visualizar.\n",
    "        model_name (str): Nombre del modelo para etiquetar la imagen.\n",
    "    \"\"\"\n",
    "    print(f\"Calculando la importancia de características para {type(modelo).__name__}...\")\n",
    "    result = permutation_importance(modelo, X_train_encoded, y_train, n_repeats=10, random_state=42, n_jobs=-1)\n",
    "\n",
    "    importancias_df = pd.DataFrame({\n",
    "        'Feature': X_train_encoded.columns, \n",
    "        'Importance': result.importances_mean,\n",
    "        'Std': result.importances_std\n",
    "    })\n",
    "\n",
    "    importancias_df = importancias_df.sort_values(by='Importance', ascending=False).head(top_n)\n",
    "    \n",
    "    # Crear gráfico de barras horizontal\n",
    "    plt.figure(figsize=(10, max(6, top_n / 2)))\n",
    "    plt.barh(importancias_df['Feature'], importancias_df['Importance'], xerr=importancias_df['Std'], color='skyblue', alpha=0.7, capsize=5)\n",
    "    plt.gca().invert_yaxis()\n",
    "    plt.xlabel('Importancia')\n",
    "    plt.ylabel('Características')\n",
    "    plt.title(f'Importancia de Características del Modelo ({model_name}) (Top {top_n})')\n",
    "    plt.grid(True, linestyle='--', alpha=0.7)\n",
    "    \n",
    "    # Guardar la imagen con nombre basado en modelo y fecha\n",
    "    fecha_actual = datetime.now().strftime('%Y%m%d_%H%M%S')\n",
    "    nombre_imagen = f\"{model_name}_importancia_{fecha_actual}.png\"\n",
    "    plt.savefig(nombre_imagen)\n",
    "    plt.show()\n",
    "\n",
    "    print(f\"Imagen generada con éxito: {nombre_imagen}\")\n",
    "\n",
    "def comparar_importancia_modelos(modelos, X_train_encoded, y_train, top_n=20):\n",
    "    \"\"\"\n",
    "    Compara la importancia de características entre múltiples modelos.\n",
    "\n",
    "    Args:\n",
    "        modelos (list): Lista de modelos a comparar.\n",
    "        X_train_encoded (pd.DataFrame): Características de entrenamiento codificadas.\n",
    "        y_train (pd.Series): Etiquetas de entrenamiento.\n",
    "        top_n (int): Número de características principales a visualizar.\n",
    "    \"\"\"\n",
    "    for modelo in modelos:\n",
    "        try:\n",
    "            model_name = type(modelo).__name__\n",
    "            print(f\"Calculando la importancia de características para {model_name}...\")\n",
    "            interpretar_modelo_mejorado_sklearn(modelo, X_train_encoded, y_train, top_n, model_name)\n",
    "        except Exception as e:\n",
    "            print(f\"Error al calcular importancia para {model_name}: {e}\")\n",
    "\n",
    "# Llamar a la función de interpretación y comparación\n",
    "interpretar_y_comparar_modelos(mejor_modelo_rf, X_train_encoded, y_train)\n"
   ]
  },
  {
   "cell_type": "markdown",
   "metadata": {},
   "source": [
    "### 📊 Interpretabilidad del Modelo: Análisis y Comparación de Importancia de Características\n",
    "En este análisis, se realizó una interpretación de los modelos de machine learning utilizados para predecir el \"churn\" (o deserción) de clientes, utilizando la técnica de permutation importance. La técnica ayuda a identificar cuáles son las características más influyentes en la predicción del modelo y a comparar la importancia de dichas características entre distintos modelos.\n",
    "\n",
    "#### 🔍 Modelo RandomForest\n",
    "Características más importantes: Las características \"Contract_One year\" y \"Contract_Two year\" son las que más influyen en la predicción del \"churn\" en el modelo RandomForest. Esto sugiere que el tipo de contrato es un factor clave en el comportamiento de deserción de los clientes.\n",
    "Visualización: La gráfica muestra la importancia promedio de cada característica junto con su desviación estándar. Las barras horizontales representan la importancia de las características con líneas de error para visualizar la variabilidad.\n",
    "Imagen generada: RandomForest_importancia_20241004_204147.png\n",
    "####🔍 Comparación de Modelos: RandomForest y Regresión Logística\n",
    "RandomForestClassifier: La importancia de las características identificada por este modelo refuerza los hallazgos previos, con \"Contract_One year\", \"Contract_Two year\" y \"TotalCharges\" como factores principales.\n",
    "Imagen generada: RandomForestClassifier_importancia_20241004_204203.png\n",
    "LogisticRegression: Al comparar con la regresión logística, se observa que las mismas características se destacan como las más importantes, aunque la magnitud de su importancia varía. En particular, la variable \"Contract_Two year\" tiene una importancia ligeramente superior a \"Contract_One year\".\n",
    "Imagen generada: LogisticRegression_importancia_20241004_204206.png\n",
    "#### 📝 Resultados\n",
    "La evaluación de la importancia de características se hizo para entender mejor cómo cada variable afecta la probabilidad de churn. Las imágenes generadas nos ayudan a comparar visualmente la importancia de cada variable entre los diferentes modelos.\n",
    "La técnica de permutation importance es particularmente útil porque nos permite evaluar cómo cambiaría la predicción del modelo si la característica fuera permutada o reordenada al azar.\n",
    "#### 📈 Conclusiones y Recomendaciones\n",
    "Contratos y Cargos Mensuales: La duración y tipo de contrato juegan un papel crucial en la deserción de clientes. Además, el cargo total del cliente también es una característica relevante.\n",
    "Diferencias entre Modelos: Si bien tanto el RandomForest como la regresión logística identifican las mismas características como las más importantes, la intensidad de la importancia varía ligeramente entre ambos modelos. Esto puede sugerir diferentes comportamientos en la forma en que estos modelos manejan la información de las características.\n",
    "Acciones Futuras: Basándonos en los hallazgos, una posible acción sería explorar estrategias de retención para clientes con contratos a corto plazo y analizar más a fondo cómo el costo total y los métodos de pago afectan la probabilidad de churn."
   ]
  },
  {
   "cell_type": "markdown",
   "metadata": {},
   "source": [
    "## 🧪Validación Adicional de Modelos"
   ]
  },
  {
   "cell_type": "markdown",
   "metadata": {},
   "source": [
    "Análisis de varianza para comparar estadísticamente la diferencia entre los modelos y su rendimiento."
   ]
  },
  {
   "cell_type": "code",
   "execution_count": null,
   "metadata": {
    "scrolled": false
   },
   "outputs": [],
   "source": [
    "# ----------------------------\n",
    "# Celda 24: Validación de Resultados y Monitoreo de Recursos - Unificada\n",
    "# ----------------------------\n",
    "\n",
    "from sklearn.model_selection import cross_val_score\n",
    "from sklearn.metrics import accuracy_score, roc_auc_score, classification_report, roc_curve, confusion_matrix, precision_recall_curve\n",
    "import matplotlib.pyplot as plt\n",
    "import pandas as pd\n",
    "import seaborn as sns\n",
    "\n",
    "# Asegurarse de que las columnas de X_test_encoded coincidan con las de X_train_encoded\n",
    "X_test_encoded = X_test_encoded[X_train_encoded.columns]\n",
    "\n",
    "@manejar_excepciones_y_tiempo(mensaje=\"Comparación de métricas entre modelos\")\n",
    "def comparar_metricas_modelos(modelos, X_test_encoded, y_test):\n",
    "    \"\"\"\n",
    "    Compara métricas de desempeño entre múltiples modelos.\n",
    "    \n",
    "    Args:\n",
    "        modelos (list): Lista de modelos entrenados.\n",
    "        X_test_encoded (pd.DataFrame): Conjunto de datos de prueba.\n",
    "        y_test (pd.Series): Etiquetas reales de prueba.\n",
    "    \"\"\"\n",
    "    resultados = []\n",
    "    for modelo in modelos:\n",
    "        try:\n",
    "            y_pred = modelo.predict(X_test_encoded)\n",
    "            y_proba = modelo.predict_proba(X_test_encoded)[:, 1] if hasattr(modelo, \"predict_proba\") else None\n",
    "            acc = accuracy_score(y_test, y_pred)\n",
    "            auc = roc_auc_score(y_test, y_proba) if y_proba is not None else \"N/A\"\n",
    "            reporte = classification_report(y_test, y_pred, zero_division=0, output_dict=True)\n",
    "            resultados.append({\n",
    "                \"Modelo\": type(modelo).__name__,\n",
    "                \"Accuracy\": acc,\n",
    "                \"AUC\": auc,\n",
    "                \"Precision\": reporte['weighted avg']['precision'],\n",
    "                \"Recall\": reporte['weighted avg']['recall'],\n",
    "                \"F1-Score\": reporte['weighted avg']['f1-score']\n",
    "            })\n",
    "        except Exception as e:\n",
    "            print(f\"Error al procesar el modelo {type(modelo).__name__}: {e}\")\n",
    "\n",
    "    # Crear DataFrame de resultados y visualizar\n",
    "    df_resultados = pd.DataFrame(resultados)\n",
    "    print(df_resultados)\n",
    "    df_resultados.plot(x='Modelo', kind='bar', figsize=(10, 6), title='Comparación de Métricas entre Modelos', rot=45)\n",
    "    plt.ylabel('Valor de la Métrica')\n",
    "    plt.grid(True, linestyle='--', alpha=0.7)\n",
    "    plt.show()\n",
    "\n",
    "@manejar_excepciones_y_tiempo(mensaje=\"Validación cruzada de modelos\")\n",
    "def validar_cruzada(modelo, X_train_encoded, y_train, metricas=[\"accuracy\", \"roc_auc\"], cv=5):\n",
    "    \"\"\"\n",
    "    Realiza validación cruzada para obtener métricas de desempeño.\n",
    "    \n",
    "    Args:\n",
    "        modelo (sklearn.estimator): Modelo a validar.\n",
    "        X_train_encoded (pd.DataFrame): Conjunto de datos de entrenamiento codificados.\n",
    "        y_train (pd.Series): Etiquetas de entrenamiento.\n",
    "        metricas (list): Lista de métricas a calcular.\n",
    "        cv (int): Número de pliegues para la validación cruzada.\n",
    "    \"\"\"\n",
    "    for metrica in metricas:\n",
    "        scores = cross_val_score(modelo, X_train_encoded, y_train, cv=cv, scoring=metrica)\n",
    "        print(f\"Métrica: {metrica}\")\n",
    "        print(f\"Scores de validación cruzada: {scores}\")\n",
    "        print(f\"Media: {scores.mean():.2f}, Desviación Estándar: {scores.std():.2f}\\n\")\n",
    "\n",
    "@manejar_excepciones_y_tiempo(mensaje=\"Generación de curvas ROC para múltiples modelos\")\n",
    "def graficar_roc_modelos(modelos, X_test_encoded, y_test):\n",
    "    \"\"\"\n",
    "    Grafica las curvas ROC para múltiples modelos.\n",
    "    \n",
    "    Args:\n",
    "        modelos (list): Lista de modelos entrenados.\n",
    "        X_test_encoded (pd.DataFrame): Conjunto de datos de prueba codificado.\n",
    "        y_test (pd.Series): Etiquetas reales de prueba.\n",
    "    \"\"\"\n",
    "    plt.figure(figsize=(8, 6))\n",
    "    colores = ['blue', 'green', 'red', 'purple']\n",
    "    \n",
    "    for idx, modelo in enumerate(modelos):\n",
    "        try:\n",
    "            y_proba = modelo.predict_proba(X_test_encoded)[:, 1] if hasattr(modelo, \"predict_proba\") else None\n",
    "            if y_proba is not None:\n",
    "                auc = roc_auc_score(y_test, y_proba)\n",
    "                fpr, tpr, _ = roc_curve(y_test, y_proba)\n",
    "                plt.plot(fpr, tpr, label=f'{type(modelo).__name__} (AUC = {auc:.2f})', linewidth=2, color=colores[idx % len(colores)])\n",
    "        except Exception as e:\n",
    "            print(f\"Error al graficar la curva ROC para el modelo {type(modelo).__name__}: {e}\")\n",
    "\n",
    "    plt.plot([0, 1], [0, 1], linestyle='--', color='gray', linewidth=1)\n",
    "    plt.xlabel('False Positive Rate')\n",
    "    plt.ylabel('True Positive Rate')\n",
    "    plt.title('Comparación de Curvas ROC')\n",
    "    plt.legend(loc='lower right')\n",
    "    plt.grid(True, linestyle='--', alpha=0.6)\n",
    "    plt.show()\n",
    "\n",
    "def graficar_matriz_confusion(modelo, X_test_encoded, y_test):\n",
    "    \"\"\"\n",
    "    Grafica la matriz de confusión para un modelo.\n",
    "    \n",
    "    Args:\n",
    "        modelo (sklearn.estimator): Modelo entrenado.\n",
    "        X_test_encoded (pd.DataFrame): Características de prueba codificadas.\n",
    "        y_test (pd.Series): Etiquetas reales de prueba.\n",
    "    \"\"\"\n",
    "    y_pred = modelo.predict(X_test_encoded)\n",
    "    cm = confusion_matrix(y_test, y_pred)\n",
    "    \n",
    "    plt.figure(figsize=(6, 4))\n",
    "    sns.heatmap(cm, annot=True, fmt='d', cmap='Blues', cbar=False)\n",
    "    plt.xlabel('Predicción')\n",
    "    plt.ylabel('Real')\n",
    "    plt.title(f'Matriz de Confusión - {type(modelo).__name__}')\n",
    "    plt.show()\n",
    "\n",
    "def analizar_residuos(modelo, X_test_encoded, y_test):\n",
    "    \"\"\"\n",
    "    Analiza los residuos (errores) de predicción de un modelo.\n",
    "    \n",
    "    Args:\n",
    "        modelo (sklearn.estimator): Modelo entrenado.\n",
    "        X_test_encoded (pd.DataFrame): Características de prueba codificadas.\n",
    "        y_test (pd.Series): Etiquetas reales de prueba.\n",
    "    \"\"\"\n",
    "    y_pred = modelo.predict(X_test_encoded)\n",
    "    residuos = y_test - y_pred\n",
    "    \n",
    "    plt.figure(figsize=(10, 6))\n",
    "    plt.hist(residuos, bins=20, color='orange', alpha=0.7, edgecolor='black')\n",
    "    plt.xlabel('Residuo')\n",
    "    plt.ylabel('Frecuencia')\n",
    "    plt.title(f'Análisis de Residuos - {type(modelo).__name__}')\n",
    "    plt.grid(True, linestyle='--', alpha=0.7)\n",
    "    plt.show()\n",
    "\n",
    "def graficar_curva_precision_recall(modelo, X_test_encoded, y_test):\n",
    "    \"\"\"\n",
    "    Grafica la curva Precision-Recall para un modelo.\n",
    "    \n",
    "    Args:\n",
    "        modelo (sklearn.estimator): Modelo entrenado.\n",
    "        X_test_encoded (pd.DataFrame): Características de prueba codificadas.\n",
    "        y_test (pd.Series): Etiquetas reales de prueba.\n",
    "    \"\"\"\n",
    "    y_proba = modelo.predict_proba(X_test_encoded)[:, 1] if hasattr(modelo, \"predict_proba\") else None\n",
    "    precision, recall, _ = precision_recall_curve(y_test, y_proba)\n",
    "    \n",
    "    plt.figure(figsize=(8, 6))\n",
    "    plt.plot(recall, precision, label=f'{type(modelo).__name__}', linewidth=2)\n",
    "    plt.xlabel('Recall')\n",
    "    plt.ylabel('Precision')\n",
    "    plt.title('Curva Precision-Recall')\n",
    "    plt.legend(loc='lower left')\n",
    "    plt.grid(True, linestyle='--', alpha=0.6)\n",
    "    plt.show()\n",
    "\n",
    "def visualizar_coeficientes_logistic_regression(modelo, X_train_encoded):\n",
    "    \"\"\"\n",
    "    Visualiza los coeficientes de un modelo de regresión logística.\n",
    "    \n",
    "    Args:\n",
    "        modelo (LogisticRegression): Modelo de regresión logística entrenado.\n",
    "        X_train_encoded (pd.DataFrame): Características de entrenamiento codificadas.\n",
    "    \"\"\"\n",
    "    coeficientes = modelo.coef_[0]\n",
    "    features = X_train_encoded.columns\n",
    "    coef_df = pd.DataFrame({'Feature': features, 'Coefficient': coeficientes})\n",
    "    coef_df = coef_df.sort_values(by='Coefficient', ascending=False)\n",
    "\n",
    "    plt.figure(figsize=(10, 8))\n",
    "    plt.barh(coef_df['Feature'], coef_df['Coefficient'], color='teal')\n",
    "    plt.gca().invert_yaxis()\n",
    "    plt.xlabel('Coeficiente')\n",
    "    plt.title('Importancia de las Características - Modelo de Regresión Logística')\n",
    "    plt.grid(True, linestyle='--', alpha=0.7)\n",
    "    plt.show()\n",
    "\n",
    "def comparar_metricas_visual(modelos, X_test_encoded, y_test):\n",
    "    \"\"\"\n",
    "    Compara visualmente las métricas de desempeño de múltiples modelos.\n",
    "    \n",
    "    Args:\n",
    "        modelos (list): Lista de modelos entrenados.\n",
    "        X_test_encoded (pd.DataFrame): Características de prueba codificadas.\n",
    "        y_test (pd.Series): Etiquetas reales de prueba.\n",
    "    \"\"\"\n",
    "    resultados = []\n",
    "    for modelo in modelos:\n",
    "        y_pred = modelo.predict(X_test_encoded)\n",
    "        y_proba = modelo.predict_proba(X_test_encoded)[:, 1] if hasattr(modelo, \"predict_proba\") else None\n",
    "        acc = accuracy_score(y_test, y_pred)\n",
    "        auc = roc_auc_score(y_test, y_proba) if y_proba is not None else \"N/A\"\n",
    "        reporte = classification_report(y_test, y_pred, zero_division=0, output_dict=True)\n",
    "        resultados.append({\n",
    "            \"Modelo\": type(modelo).__name__,\n",
    "            \"Accuracy\": acc,\n",
    "            \"AUC\": auc,\n",
    "            \"Precision\": reporte['weighted avg']['precision'],\n",
    "            \"Recall\": reporte['weighted avg']['recall'],\n",
    "            \"F1-Score\": reporte['weighted avg']['f1-score']\n",
    "        })\n",
    "    \n",
    "    # Crear DataFrame de resultados\n",
    "    df_resultados = pd.DataFrame(resultados)\n",
    "    \n",
    "    # Visualizar usando seaborn\n",
    "    df_resultados_melted = df_resultados.melt(id_vars=\"Modelo\", var_name=\"Métrica\", value_name=\"Valor\")\n",
    "    plt.figure(figsize=(12, 6))\n",
    "    sns.barplot(x=\"Métrica\", y=\"Valor\", hue=\"Modelo\", data=df_resultados_melted, palette=\"coolwarm\")\n",
    "    plt.title('Comparación de Métricas entre Modelos')\n",
    "    plt.grid(True, linestyle='--', alpha=0.7)\n",
    "    plt.show()\n",
    "\n",
    "# ------------------------------\n",
    "# Ejecución de funciones con modelos seleccionados\n",
    "# ------------------------------\n",
    "\n",
    "# Suponiendo que 'otro_modelo' sea un modelo adicional ya entrenado para comparar con el mejor modelo RF.\n",
    "# Graficar curvas ROC para ambos modelos\n",
    "graficar_roc_modelos([mejor_modelo_rf, otro_modelo], X_test_encoded, y_test)\n",
    "\n",
    "# Comparar métricas de modelos entrenados\n",
    "comparar_metricas_modelos([mejor_modelo_rf, otro_modelo], X_test_encoded, y_test)\n",
    "\n",
    "# Validar el modelo con validación cruzada\n",
    "validar_cruzada(mejor_modelo_rf, X_train_encoded, y_train)\n",
    "\n",
    "# Graficar matrices de confusión para ambos modelos\n",
    "graficar_matriz_confusion(mejor_modelo_rf, X_test_encoded, y_test)\n",
    "graficar_matriz_confusion(otro_modelo, X_test_encoded, y_test)\n",
    "    \n",
    "# Analizar residuos para ambos modelos\n",
    "analizar_residuos(mejor_modelo_rf, X_test_encoded, y_test)\n",
    "analizar_residuos(otro_modelo, X_test_encoded, y_test)    \n",
    "\n",
    "# Graficar curvas Precision-Recall para ambos modelos\n",
    "graficar_curva_precision_recall(mejor_modelo_rf, X_test_encoded, y_test)\n",
    "graficar_curva_precision_recall(otro_modelo, X_test_encoded, y_test)\n",
    "\n",
    "# Visualizar coeficientes de la regresión logística (si 'otro_modelo' es un modelo de regresión logística)\n",
    "if isinstance(otro_modelo, LogisticRegression):\n",
    "    visualizar_coeficientes_logistic_regression(otro_modelo, X_train_encoded)\n",
    "\n",
    "# Comparar métricas visualmente para ambos modelos\n",
    "comparar_metricas_visual([mejor_modelo_rf, otro_modelo], X_test_encoded, y_test)\n",
    "\n"
   ]
  },
  {
   "cell_type": "markdown",
   "metadata": {},
   "source": [
    "### 📊 Análisis de los Modelos Evaluados\n",
    "El análisis se ha centrado en comparar y validar dos modelos de clasificación para predecir la probabilidad de churn en una base de datos. Los modelos utilizados fueron el RandomForestClassifier y la Regresión Logística. Aquí se presenta un resumen de los resultados obtenidos de acuerdo con varias métricas de desempeño.\n",
    "\n",
    "#### 📈 Comparación de Importancia de Características\n",
    "Se evaluó la importancia de las características (features) para cada modelo a través de la técnica Permutation Importance. Ambos modelos resaltaron como las características más relevantes:\n",
    "\n",
    "Contract_One year y Contract_Two year: Estas fueron las variables más importantes para predecir churn.\n",
    "TotalCharges también fue relevante, aunque con una menor importancia relativa.\n",
    "La Regresión Logística presentó coeficientes negativos para las variables relacionadas con los contratos (indicando una relación inversa con la probabilidad de churn), mientras que otras variables como MonthlyCharges y características demográficas tuvieron menor impacto en ambos modelos.\n",
    "\n",
    "#### 🏆 Evaluación de Desempeño de los Modelos\n",
    "Se usaron varias métricas de desempeño para comparar los modelos:\n",
    "\n",
    "Accuracy (Exactitud): Ambos modelos lograron un puntaje muy alto, con la Regresión Logística alcanzando una exactitud perfecta de 1.00 y el Random Forest 0.99.\n",
    "AUC (Área bajo la Curva): Ambas curvas ROC fueron perfectas (AUC = 1.00), lo que indica que ambos modelos pueden separar perfectamente las clases positivas y negativas.\n",
    "Precision, Recall y F1-Score: Tanto la precisión como la sensibilidad (recall) fueron también perfectas en ambos modelos, lo que resultó en un F1-Score óptimo.\n",
    "#### 📊 Curvas ROC y Precision-Recall\n",
    "Las curvas ROC para ambos modelos muestran una separación perfecta con AUC = 1.00. Esto significa que los modelos no cometen errores en la clasificación entre clases positivas y negativas.\n",
    "Las curvas Precision-Recall reflejan un comportamiento igualmente excelente, mostrando una precisión y un recall del 100% a lo largo de todas las predicciones.\n",
    "#### 🧩 Matrices de Confusión\n",
    "La matriz de confusión para el RandomForestClassifier muestra una excelente capacidad de predicción, con solo 19 falsos negativos y ningún falso positivo, lo que refleja la alta exactitud y sensibilidad del modelo.\n",
    "#### 📉 Análisis de Residuos\n",
    "El análisis de residuos de ambos modelos muestra que prácticamente todas las predicciones son correctas, con residuos cercanos a 0 en casi todos los casos.\n",
    "#### 📋 Comparación de Métricas\n",
    "En una visualización de las métricas de precisión, recall, F1-score y AUC, ambos modelos obtuvieron resultados prácticamente iguales, indicando que cualquiera de los dos modelos es altamente confiable para predecir churn.\n",
    "\n",
    "#### 📌 Conclusiones y Recomendaciones\n",
    "Ambos modelos presentan un desempeño perfecto según las métricas evaluadas (accuracy, AUC, precision, recall y F1-score), con AUC = 1.00 en ambos casos.\n",
    "La Regresión Logística y el RandomForestClassifier se desempeñaron de forma casi idéntica, lo que implica que cualquiera de los dos podría ser implementado en un entorno de producción.\n",
    "Las características más importantes para predecir el churn fueron los tipos de contrato (uno o dos años), seguido de la cantidad total de cargos, lo que sugiere que la retención de clientes podría depender en gran medida de los planes de servicio y el costo acumulado.\n",
    "#### 📝 Sugerencias\n",
    "Considerando que ambos modelos tienen un rendimiento perfecto, se recomienda priorizar la simplicidad y explicabilidad del modelo para su implementación. La Regresión Logística podría ser preferida por su mayor interpretabilidad.\n",
    "Monitorear el modelo en producción para detectar posibles variaciones en el desempeño con datos futuros y ajustar los modelos en consecuencia si se detecta overfitting o cambios en los patrones de datos.\n",
    "Este análisis muestra que los modelos actuales están bien ajustados para predecir churn con alta precisión. Sin embargo, se debe tener cuidado con posibles problemas de overfitting debido al rendimiento \"perfecto\" reportado. 📊 Continuar monitoreando y ajustando el modelo según sea necesario será clave para asegurar un buen desempeño a largo plazo. ✅"
   ]
  },
  {
   "cell_type": "markdown",
   "metadata": {},
   "source": [
    "## 💻Monitoreo de Recursos y Rendimiento"
   ]
  },
  {
   "cell_type": "markdown",
   "metadata": {},
   "source": [
    "Seguimiento del rendimiento del notebook, monitoreando el uso de CPU y memoria para asegurar una ejecución eficiente."
   ]
  },
  {
   "cell_type": "code",
   "execution_count": null,
   "metadata": {},
   "outputs": [],
   "source": [
    "# ----------------------------\n",
    "# Celda 25: Monitoreo de Recursos y Rendimiento Mejorado\n",
    "# ----------------------------\n",
    "\n",
    "import psutil\n",
    "import time\n",
    "import matplotlib.pyplot as plt\n",
    "from IPython.display import clear_output\n",
    "import logging\n",
    "\n",
    "# Inicializar listas para el monitoreo\n",
    "cpu_usages = []\n",
    "memory_usages = []\n",
    "timestamps = []\n",
    "\n",
    "# Decorador para monitorear y registrar el uso de recursos\n",
    "@manejar_excepciones_y_tiempo(mensaje=\"Monitoreo de recursos y rendimiento\")\n",
    "def monitorear_recursos(interval=1, duration=60):\n",
    "    \"\"\"\n",
    "    Monitorea el uso de CPU y memoria en intervalos definidos.\n",
    "\n",
    "    Args:\n",
    "        interval (int): Intervalo de tiempo en segundos entre lecturas.\n",
    "        duration (int): Duración total del monitoreo en segundos.\n",
    "    \"\"\"\n",
    "    start_time = time.time()\n",
    "    \n",
    "    print(\"🔍 Monitoreo de recursos iniciado. Presiona 'Ctrl + C' para detener.\")\n",
    "    \n",
    "    try:\n",
    "        while (time.time() - start_time) < duration:\n",
    "            # Monitorear CPU y memoria\n",
    "            cpu_percent = psutil.cpu_percent(interval=interval)\n",
    "            memory_info = psutil.virtual_memory()\n",
    "            memory_percent = memory_info.percent\n",
    "            \n",
    "            # Guardar los resultados con una marca de tiempo\n",
    "            cpu_usages.append(cpu_percent)\n",
    "            memory_usages.append(memory_percent)\n",
    "            timestamps.append(time.time() - start_time)\n",
    "            \n",
    "            # Limpiar y actualizar la visualización\n",
    "            clear_output(wait=True)\n",
    "            \n",
    "            # Crear visualización en tiempo real\n",
    "            plt.figure(figsize=(12, 5))\n",
    "\n",
    "            # Uso de CPU\n",
    "            plt.subplot(1, 2, 1)\n",
    "            plt.plot(timestamps, cpu_usages, label=\"Uso de CPU (%)\", color='blue')\n",
    "            plt.xlabel(\"Tiempo (s)\")\n",
    "            plt.ylabel(\"Porcentaje de uso de CPU\")\n",
    "            plt.title(\"Uso de CPU en Tiempo Real\")\n",
    "            plt.grid(True, linestyle='--', alpha=0.7)\n",
    "            plt.ylim(0, 100)\n",
    "            plt.legend()\n",
    "\n",
    "            # Uso de Memoria\n",
    "            plt.subplot(1, 2, 2)\n",
    "            plt.plot(timestamps, memory_usages, label=\"Uso de Memoria (%)\", color='red')\n",
    "            plt.xlabel(\"Tiempo (s)\")\n",
    "            plt.ylabel(\"Porcentaje de uso de Memoria\")\n",
    "            plt.title(\"Uso de Memoria en Tiempo Real\")\n",
    "            plt.grid(True, linestyle='--', alpha=0.7)\n",
    "            plt.ylim(0, 100)\n",
    "            plt.legend()\n",
    "            \n",
    "            plt.tight_layout()\n",
    "            plt.show()\n",
    "            \n",
    "            # Registrar los valores monitoreados en el log\n",
    "            logging.info(f\"Tiempo transcurrido: {time.time() - start_time:.2f} s - CPU: {cpu_percent}%, Memoria: {memory_percent}%\")\n",
    "\n",
    "            # Esperar antes de la próxima iteración\n",
    "            time.sleep(interval)\n",
    "            \n",
    "        print(\"Monitoreo finalizado.\")\n",
    "    except KeyboardInterrupt:\n",
    "        print(\"\\nMonitoreo detenido por el usuario.\")\n",
    "        logging.warning(\"Monitoreo de recursos detenido manualmente.\")\n",
    "\n",
    "# Iniciar monitoreo de recursos por 1 minuto con intervalos de 1 segundo\n",
    "monitorear_recursos(interval=1, duration=60)\n",
    "\n"
   ]
  },
  {
   "cell_type": "markdown",
   "metadata": {},
   "source": [
    "<!DOCTYPE html>\n",
    "<html lang=\"es\">\n",
    "<head>\n",
    "    <meta charset=\"UTF-8\">\n",
    "    <meta name=\"viewport\" content=\"width=device-width, initial-scale=1.0\">\n",
    "    <title>Monitoreo de Recursos y Rendimiento</title>\n",
    "    <style>\n",
    "        body {\n",
    "            font-family: Arial, sans-serif;\n",
    "            background-color: #2C3E50; /* Gris Oscuro */\n",
    "            color: #ECF0F1; /* Blanco Grisáceo */\n",
    "            margin: 0;\n",
    "            padding: 20px;\n",
    "        }\n",
    "        .container {\n",
    "            background-color: #E8F5E9; /* Verde Claro */\n",
    "            padding: 20px;\n",
    "            border-radius: 8px;\n",
    "            font-family: Arial, sans-serif;\n",
    "            font-size: 16px;\n",
    "            color: #4CAF50; /* Verde */\n",
    "            line-height: 1.6;\n",
    "        }\n",
    "        h3 {\n",
    "            color: #388E3C; /* Verde Oscuro */\n",
    "            font-size: 28px;\n",
    "        }\n",
    "        h4 {\n",
    "            color: #2E7D32; /* Verde */\n",
    "            font-size: 22px;\n",
    "        }\n",
    "        ul {\n",
    "            list-style-type: none;\n",
    "            padding-left: 0;\n",
    "            color: #388E3C; /* Verde Oscuro */\n",
    "        }\n",
    "        li {\n",
    "            margin-bottom: 10px;\n",
    "        }\n",
    "        p {\n",
    "            text-align: justify;\n",
    "            font-size: 18px;\n",
    "            color: #2E7D32; /* Verde */\n",
    "        }\n",
    "        .comentario {\n",
    "            color: #E74C3C; /* Rojo Coral */\n",
    "        }\n",
    "        .info-complementaria {\n",
    "            color: #8E44AD; /* Púrpura */\n",
    "        }\n",
    "    </style>\n",
    "</head>\n",
    "<body>\n",
    "    <div class=\"container\">\n",
    "        <h3>Monitoreo de Recursos y Rendimiento</h3>\n",
    "        <p>En esta celda, utilizo <code>psutil</code> para monitorear el uso de CPU y memoria durante la ejecución del notebook:</p>\n",
    "        <ul>\n",
    "            <li><strong>Monitoreo de CPU:</strong> Verifico el uso de la CPU para asegurar que no se sobrecargue durante la ejecución.</li>\n",
    "            <li><strong>Monitoreo de memoria:</strong> Superviso el uso de memoria para evitar consumos excesivos que puedan afectar el rendimiento.</li>\n",
    "        </ul>\n",
    "        <p class=\"comentario\"><strong>Propósito:</strong> Asegurar que el notebook se ejecute de forma eficiente y no consuma recursos en exceso.</p>\n",
    "    </div>\n",
    "</body>\n",
    "</html>\n"
   ]
  },
  {
   "cell_type": "markdown",
   "metadata": {},
   "source": [
    "## ✨Despliegue de Modelos"
   ]
  },
  {
   "cell_type": "markdown",
   "metadata": {},
   "source": [
    "Consideraciones finales y ejemplo de cómo se podría desplegar el modelo entrenado usando Flask o FastAPI.\n",
    "\n"
   ]
  },
  {
   "cell_type": "code",
   "execution_count": null,
   "metadata": {},
   "outputs": [],
   "source": [
    "# ----------------------------\n",
    "# Celda 26: Consideraciones de Despliegue de Modelos\n",
    "# ----------------------------\n",
    "\n",
    "# En esta sección, se presentan algunas consideraciones finales sobre el despliegue de modelos en producción,\n",
    "# junto con un ejemplo simple de cómo se podría realizar este despliegue utilizando frameworks populares como Flask o FastAPI.\n",
    "\n",
    "# Dado que el despliegue no siempre es parte del flujo de trabajo de análisis exploratorio y desarrollo de modelos,\n",
    "# es importante tener en cuenta si es necesario incluir este proceso dentro del notebook. \n",
    "# Para proyectos más grandes, se recomienda separar claramente el desarrollo de modelos y el despliegue.\n",
    "\n",
    "# Si decides avanzar con el despliegue dentro de este notebook, sigue estos puntos clave:\n",
    "\n",
    "# 1. Mantenimiento de Separación de Responsabilidades:\n",
    "#    Mantener el notebook enfocado en análisis de datos, ajuste y validación de modelos. \n",
    "#    El despliegue debe ser un paso separado, idealmente implementado en un script o módulo independiente para su uso en producción.\n",
    "\n",
    "# 2. Buenas Prácticas de Despliegue:\n",
    "#    Despliegue de modelos requiere atención a aspectos como rendimiento, seguridad, monitoreo y mantenimiento.\n",
    "#    Por lo tanto, recomendamos usar frameworks web como Flask o FastAPI en un entorno de producción adecuado.\n",
    "\n",
    "# 3. Flujo Sugerido para el Despliegue:\n",
    "#    - Entrenar y validar el modelo dentro del notebook.\n",
    "#    - Guardar el modelo entrenado utilizando herramientas como `joblib` o `mlflow`.\n",
    "#    - Crear un script separado que contenga la lógica de despliegue y manejo de solicitudes para predicciones.\n",
    "#    - Configurar un entorno de producción seguro y escalable para la API (por ejemplo, un servidor cloud o un contenedor Docker).\n",
    "\n",
    "# 4. Documentación y Modularidad:\n",
    "#    Añadir documentación y ejemplos de predicciones para cualquier usuario o desarrollador que trabaje con la API del modelo.\n",
    "#    Mantener el código modular para permitir el fácil ajuste o sustitución del modelo si se realiza una mejora o actualización.\n",
    "\n",
    "# Ejemplo de código para despliegue simple (Nota: **Este es un ejemplo básico y no debe usarse en producción tal cual**):\n",
    "\n",
    "# from flask import Flask, request, jsonify\n",
    "# import joblib\n",
    "\n",
    "# app = Flask(__name__)\n",
    "\n",
    "# # Cargar el modelo entrenado\n",
    "# modelo = joblib.load('modelo_entrenado.pkl')\n",
    "\n",
    "# @app.route('/predict', methods=['POST'])\n",
    "# def predict():\n",
    "#     data = request.get_json(force=True)\n",
    "#     # Procesar datos de entrada para que coincidan con el formato de entrenamiento del modelo\n",
    "#     input_data = procesar_datos(data)  \n",
    "#     prediction = modelo.predict(input_data)\n",
    "#     return jsonify({'prediction': prediction.tolist()})\n",
    "\n",
    "# if __name__ == '__main__':\n",
    "#     app.run(port=5000)\n",
    "\n",
    "# NOTA IMPORTANTE:\n",
    "# - Este ejemplo es solo un punto de partida. En producción, se deben considerar aspectos adicionales como autenticación,\n",
    "#   monitoreo, manejo de errores y optimización del modelo para respuesta rápida.\n",
    "\n",
    "# Recomendación Final:\n",
    "# Si este notebook está enfocado principalmente en análisis y desarrollo, considera mantenerlo libre de lógica de despliegue\n",
    "# y crear un script separado para la implementación del modelo en producción."
   ]
  },
  {
   "cell_type": "markdown",
   "metadata": {},
   "source": [
    "<!DOCTYPE html>\n",
    "<html lang=\"es\">\n",
    "<head>\n",
    "    <meta charset=\"UTF-8\">\n",
    "    <meta name=\"viewport\" content=\"width=device-width, initial-scale=1.0\">\n",
    "    <title>Despliegue de Modelos</title>\n",
    "    <style>\n",
    "        body {\n",
    "            font-family: Arial, sans-serif;\n",
    "            background-color: #2C3E50; /* Gris Oscuro */\n",
    "            color: #ECF0F1; /* Blanco Grisáceo */\n",
    "            margin: 0;\n",
    "            padding: 20px;\n",
    "        }\n",
    "        .container {\n",
    "            background-color: #E8F5E9; /* Verde Claro */\n",
    "            padding: 20px;\n",
    "            border-radius: 8px;\n",
    "            font-family: Arial, sans-serif;\n",
    "            font-size: 16px;\n",
    "            color: #4CAF50; /* Verde */\n",
    "            line-height: 1.6;\n",
    "        }\n",
    "        h3 {\n",
    "            color: #388E3C; /* Verde Oscuro */\n",
    "            font-size: 28px;\n",
    "        }\n",
    "        h4 {\n",
    "            color: #2E7D32; /* Verde */\n",
    "            font-size: 22px;\n",
    "        }\n",
    "        ul {\n",
    "            list-style-type: none;\n",
    "            padding-left: 0;\n",
    "            color: #388E3C; /* Verde Oscuro */\n",
    "        }\n",
    "        li {\n",
    "            margin-bottom: 10px;\n",
    "        }\n",
    "        p {\n",
    "            text-align: justify;\n",
    "            font-size: 18px;\n",
    "            color: #2E7D32; /* Verde */\n",
    "        }\n",
    "        .comentario {\n",
    "            color: #E74C3C; /* Rojo Coral */\n",
    "        }\n",
    "        .info-complementaria {\n",
    "            color: #8E44AD; /* Púrpura */\n",
    "        }\n",
    "    </style>\n",
    "</head>\n",
    "<body>\n",
    "    <div class=\"container\">\n",
    "        <h3>Despliegue de Modelos</h3>\n",
    "        <p>En esta celda, presento consideraciones finales sobre cómo se podría desplegar el modelo entrenado usando frameworks como Flask o FastAPI. También incluyo un ejemplo básico para implementar una API para predicciones:</p>\n",
    "        <ul>\n",
    "            <li><strong>Flask:</strong> Un microframework ligero y fácil de usar para crear aplicaciones web y APIs.</li>\n",
    "            <li><strong>FastAPI:</strong> Un framework moderno y de alto rendimiento para construir APIs con Python 3.7+ basado en estándares como OpenAPI y JSON Schema.</li>\n",
    "        </ul>\n",
    "        <h4>Ejemplo Básico con Flask</h4>\n",
    "        <p>Este es un ejemplo básico de cómo implementar una API para predicciones usando Flask:</p>\n",
    "        <pre><code>\n",
    "        </code></pre>\n",
    "        <p class=\"comentario\"><strong>Propósito:</strong> Guiar sobre el paso final de despliegue del modelo para su uso en un entorno de producción.</p>\n",
    "    </div>\n",
    "</body>\n",
    "</html>\n"
   ]
  },
  {
   "cell_type": "markdown",
   "metadata": {},
   "source": [
    "## Impacto Económico y Beneficios Potenciales"
   ]
  },
  {
   "cell_type": "code",
   "execution_count": null,
   "metadata": {
    "scrolled": true
   },
   "outputs": [],
   "source": [
    "# ----------------------------\n",
    "# Celda 27: Evaluación de Impacto Económico y Beneficios\n",
    "# ----------------------------\n",
    "\n",
    "@manejar_excepciones_y_tiempo(mensaje=\"Evaluación de Impacto Económico y Beneficios\")\n",
    "def evaluar_impacto_economico(resultados_df, ingresos_por_cliente, costo_churn, num_clientes_afectados):\n",
    "    \"\"\"\n",
    "    Calcula y muestra el impacto económico basado en los resultados de modelos predictivos.\n",
    "\n",
    "    Args:\n",
    "        resultados_df (pd.DataFrame): DataFrame con métricas de desempeño de modelos.\n",
    "        ingresos_por_cliente (float): Valor promedio de ingresos generados por cliente.\n",
    "        costo_churn (float): Costo asociado a la pérdida de un cliente (churn).\n",
    "        num_clientes_afectados (int): Número estimado de clientes impactados por las predicciones del modelo.\n",
    "    \"\"\"\n",
    "    # Validar si el DataFrame contiene las columnas necesarias\n",
    "    if not {'Precision', 'Recall'}.issubset(resultados_df.columns):\n",
    "        print(\"❌ El DataFrame `resultados_df` no contiene las columnas necesarias ('Precision', 'Recall').\")\n",
    "        return\n",
    "    \n",
    "    # Suposiciones basadas en métricas del modelo\n",
    "    precision = resultados_df['Precision'].max()\n",
    "    recall = resultados_df['Recall'].max()\n",
    "    \n",
    "    # Calcular el beneficio potencial y el ahorro de churn\n",
    "    beneficio_potencial = precision * recall * ingresos_por_cliente * num_clientes_afectados\n",
    "    ahorro_potencial = recall * costo_churn * num_clientes_afectados\n",
    "    \n",
    "    # Mostrar resultados con formato claro\n",
    "    print(f\"🔍 Resultados de Evaluación Económica:\")\n",
    "    print(f\"📊 Beneficio potencial estimado: ${beneficio_potencial:,.2f}\")\n",
    "    print(f\"💰 Ahorro potencial en costo de churn: ${ahorro_potencial:,.2f}\")\n",
    "    print(f\"🔔 El modelo con mayor precisión y recall tiene un impacto económico significativo.\")\n",
    "\n",
    "    # Visualización para facilitar la comprensión\n",
    "    labels = ['Beneficio Potencial', 'Ahorro Potencial']\n",
    "    valores = [beneficio_potencial, ahorro_potencial]\n",
    "    colores = ['#66b3ff', '#99ff99']\n",
    "\n",
    "    plt.figure(figsize=(8, 6))\n",
    "    plt.bar(labels, valores, color=colores)\n",
    "    plt.title('Impacto Económico Potencial')\n",
    "    plt.ylabel('USD')\n",
    "    plt.grid(axis='y', linestyle='--', alpha=0.7)\n",
    "    for index, value in enumerate(valores):\n",
    "        plt.text(index, value + (max(valores) * 0.01), f'${value:,.2f}', ha='center', fontsize=12)\n",
    "    plt.show()\n",
    "\n",
    "# Valores ficticios para la evaluación económica\n",
    "ingresos_por_cliente = 100.0  # USD por cliente, ejemplo ficticio\n",
    "costo_churn = 170.0  # USD por cliente perdido, ejemplo ficticio\n",
    "num_clientes_afectados = 400  # Número estimado de clientes impactados, ejemplo ficticio\n",
    "\n",
    "# Llamada a la función con `resultados_df` calculado en Celda 22\n",
    "if 'resultados_df' in globals():\n",
    "    evaluar_impacto_economico(resultados_df, ingresos_por_cliente, costo_churn, num_clientes_afectados)\n",
    "else:\n",
    "    print(\"❌ `resultados_df` no está definido. Asegúrate de ejecutar la Celda 22 antes.\")\n"
   ]
  },
  {
   "cell_type": "markdown",
   "metadata": {},
   "source": [
    "### 📊 Evaluación de Impacto Económico y Beneficios\n",
    "#### 🔍 Resumen del Impacto Económico\n",
    "El propósito de esta sección es calcular el impacto económico potencial que puede lograrse al aplicar el modelo predictivo para identificar clientes propensos a desertar (\"churn\"). Esto se basa en la precisión y el recall del mejor modelo evaluado, así como en ciertas suposiciones económicas sobre el valor de los clientes.\n",
    "\n",
    "#### 📈 Beneficios Potenciales\n",
    "Beneficio Potencial: Calculado con base en la precisión y el recall del modelo, el ingreso promedio generado por cliente y el número estimado de clientes que podrían ser impactados por las predicciones del modelo.\n",
    "Monto estimado: $39,204.00 USD\n",
    "Ahorro Potencial por Reducción de Churn: Estimación del ahorro económico al evitar la pérdida de clientes. Se basa en el costo asociado al churn y el número de clientes impactados.\n",
    "Monto estimado: $67,320.00 USD\n",
    "Estos valores sugieren que la implementación del modelo puede tener un impacto económico significativo, tanto en la obtención de ingresos adicionales como en la reducción de costos asociados con la pérdida de clientes.\n",
    "\n",
    "#### 📊 Visualización del Impacto Económico\n",
    "La gráfica de barras muestra la comparación entre el beneficio potencial y el ahorro potencial. Como se observa, el ahorro asociado con la retención de clientes supera el beneficio directo obtenido de estos, lo que resalta la importancia de la prevención del churn para el negocio."
   ]
  },
  {
   "cell_type": "markdown",
   "metadata": {},
   "source": [
    "## 📈 Conclusión del Proyecto\n",
    "Este proyecto se centró en analizar la retención de clientes y predecir la probabilidad de churn para una empresa. A lo largo del análisis, se llevó a cabo un enfoque integral que abarcó desde la exploración y limpieza de datos hasta el desarrollo y evaluación de modelos predictivos. Aquí se resumen los hallazgos y conclusiones clave del proyecto:\n",
    "\n",
    "### 📊 Análisis Exploratorio y Tratamiento de Datos\n",
    "El análisis exploratorio reveló que ciertos factores, como el tipo de contrato, los cargos mensuales y la duración de la relación con el cliente, influyen significativamente en el churn. Estos hallazgos ayudaron a guiar la preparación de datos y el enfoque de modelado predictivo. Se realizaron los siguientes pasos:\n",
    "\n",
    "Limpieza y manejo de valores nulos.\n",
    "Codificación de variables categóricas.\n",
    "Normalización y estandarización de variables numéricas.\n",
    "\n",
    "### 🏆 Modelado y Evaluación Predictiva\n",
    "Se probaron varios modelos de clasificación, como Regresión Logística, Árbol de Decisión, Random Forest, y K-Nearest Neighbors. Los modelos fueron evaluados con métricas de desempeño como accuracy, precision, recall, F1-score, y AUC-ROC:\n",
    "\n",
    "Random Forest se destacó como el modelo con mejor desempeño, con precisión y recall cercanos al 100%.\n",
    "Regresión Logística también mostró un rendimiento excelente y comparable al Random Forest.\n",
    "Se implementó un proceso de optimización de hiperparámetros para afinar el modelo Random Forest, resultando en mejoras adicionales en su capacidad predictiva.\n",
    "\n",
    "### 📈 Impacto Económico y Beneficios\n",
    "El impacto económico del modelo predictivo fue evaluado con base en métricas de desempeño y su capacidad para identificar clientes propensos a desertar. Los hallazgos indican que la implementación del modelo podría traducirse en beneficios económicos importantes:\n",
    "\n",
    "Un beneficio potencial significativo al retener clientes que de otra forma podrían haber desertado.\n",
    "Un ahorro potencial considerable al reducir los costos asociados con la pérdida de clientes.\n",
    "\n",
    "### 🔍 Interpretabilidad del Modelo\n",
    "Se utilizó la técnica de Permutation Importance para entender cuáles son las variables que tienen mayor influencia en el churn. Las variables de mayor impacto fueron:\n",
    "\n",
    "Tipo de Contrato: Los contratos a corto plazo se asociaron con mayor churn.\n",
    "Cargos Totales: Un mayor cargo total acumulado también fue un factor importante en la predicción de churn.\n",
    "\n",
    "### 💡 Recomendaciones\n",
    "Enfocar Estrategias de Retención: Dado que el tipo de contrato tiene un fuerte impacto en el churn, se recomienda diseñar estrategias de retención enfocadas a clientes con contratos a corto plazo, como descuentos o beneficios para renovar.\n",
    "Optimizar Cargos y Servicios: Analizar y ajustar la estructura de costos y servicios para mejorar la percepción de valor entre los clientes, especialmente aquellos con cargos totales altos.\n",
    "Monitoreo Continuo del Modelo: A pesar de los resultados altamente precisos, es necesario implementar un monitoreo continuo del modelo en producción para asegurar su efectividad y ajustarlo ante posibles cambios en el comportamiento de los clientes.\n",
    "🚀 Reflexión Final\n",
    "El modelo predictivo desarrollado es una herramienta poderosa para anticipar la pérdida de clientes y proponer acciones para mejorar la retención. La alta precisión y recall logrados sugieren que el modelo es altamente confiable para identificar a clientes en riesgo de churn. Sin embargo, es fundamental balancear el rendimiento del modelo con la aplicabilidad de las recomendaciones en un contexto de negocio real, y ajustar el enfoque si se observan cambios en los patrones de datos o en el mercado."
   ]
  },
  {
   "cell_type": "code",
   "execution_count": null,
   "metadata": {},
   "outputs": [],
   "source": []
  }
 ],
 "metadata": {
  "ExecuteTimeLog": [
   {
    "duration": 159,
    "start_time": "2024-10-01T15:21:30.501Z"
   },
   {
    "duration": 169,
    "start_time": "2024-10-01T16:03:13.203Z"
   },
   {
    "duration": 564,
    "start_time": "2024-10-01T16:06:17.618Z"
   },
   {
    "duration": 4,
    "start_time": "2024-10-01T16:06:37.998Z"
   },
   {
    "duration": 3,
    "start_time": "2024-10-01T16:06:41.726Z"
   },
   {
    "duration": 4,
    "start_time": "2024-10-01T16:10:22.210Z"
   },
   {
    "duration": 1529,
    "start_time": "2024-10-01T16:10:39.389Z"
   },
   {
    "duration": 244,
    "start_time": "2024-10-01T16:10:52.283Z"
   },
   {
    "duration": 166,
    "start_time": "2024-10-01T16:11:10.811Z"
   },
   {
    "duration": 202,
    "start_time": "2024-10-01T16:13:17.817Z"
   },
   {
    "duration": 383,
    "start_time": "2024-10-01T16:14:37.316Z"
   },
   {
    "duration": 15,
    "start_time": "2024-10-01T16:16:54.576Z"
   },
   {
    "duration": 459,
    "start_time": "2024-10-01T16:19:19.818Z"
   },
   {
    "duration": 2,
    "start_time": "2024-10-01T16:20:06.295Z"
   },
   {
    "duration": 221,
    "start_time": "2024-10-01T16:20:13.329Z"
   },
   {
    "duration": 46,
    "start_time": "2024-10-01T16:20:32.194Z"
   },
   {
    "duration": 39,
    "start_time": "2024-10-01T16:20:52.448Z"
   },
   {
    "duration": 13,
    "start_time": "2024-10-01T16:22:03.022Z"
   },
   {
    "duration": 13,
    "start_time": "2024-10-01T16:22:07.155Z"
   },
   {
    "duration": 188,
    "start_time": "2024-10-01T16:22:22.927Z"
   },
   {
    "duration": 4,
    "start_time": "2024-10-01T16:23:08.311Z"
   },
   {
    "duration": 44,
    "start_time": "2024-10-01T16:23:27.188Z"
   },
   {
    "duration": 52,
    "start_time": "2024-10-01T16:23:39.070Z"
   },
   {
    "duration": 11,
    "start_time": "2024-10-01T16:24:06.114Z"
   },
   {
    "duration": 33,
    "start_time": "2024-10-01T16:24:55.635Z"
   },
   {
    "duration": 7,
    "start_time": "2024-10-01T16:25:08.381Z"
   },
   {
    "duration": 59,
    "start_time": "2024-10-01T16:26:12.680Z"
   },
   {
    "duration": 8,
    "start_time": "2024-10-01T16:26:23.743Z"
   },
   {
    "duration": 38,
    "start_time": "2024-10-01T16:40:00.933Z"
   },
   {
    "duration": 13,
    "start_time": "2024-10-01T16:40:15.353Z"
   },
   {
    "duration": 605,
    "start_time": "2024-10-01T16:42:07.014Z"
   },
   {
    "duration": 162,
    "start_time": "2024-10-01T17:19:59.856Z"
   },
   {
    "duration": 0,
    "start_time": "2024-10-01T17:20:00.020Z"
   },
   {
    "duration": 0,
    "start_time": "2024-10-01T17:20:00.021Z"
   },
   {
    "duration": 0,
    "start_time": "2024-10-01T17:20:00.023Z"
   },
   {
    "duration": 0,
    "start_time": "2024-10-01T17:20:00.025Z"
   },
   {
    "duration": 0,
    "start_time": "2024-10-01T17:20:00.026Z"
   },
   {
    "duration": 12,
    "start_time": "2024-10-01T17:21:47.580Z"
   },
   {
    "duration": 320,
    "start_time": "2024-10-01T17:22:12.476Z"
   },
   {
    "duration": 569,
    "start_time": "2024-10-01T17:22:18.690Z"
   },
   {
    "duration": 17,
    "start_time": "2024-10-01T17:22:22.322Z"
   },
   {
    "duration": 17,
    "start_time": "2024-10-01T17:22:24.301Z"
   },
   {
    "duration": 17,
    "start_time": "2024-10-01T17:22:27.091Z"
   },
   {
    "duration": 64,
    "start_time": "2024-10-01T17:22:28.483Z"
   },
   {
    "duration": 2709,
    "start_time": "2024-10-01T17:36:15.336Z"
   },
   {
    "duration": 14,
    "start_time": "2024-10-01T17:36:36.869Z"
   },
   {
    "duration": 68,
    "start_time": "2024-10-01T17:37:02.856Z"
   },
   {
    "duration": 10,
    "start_time": "2024-10-01T17:37:18.089Z"
   },
   {
    "duration": 9,
    "start_time": "2024-10-01T17:37:37.112Z"
   },
   {
    "duration": 23,
    "start_time": "2024-10-01T17:43:38.523Z"
   },
   {
    "duration": 26,
    "start_time": "2024-10-01T17:43:45.863Z"
   },
   {
    "duration": 14,
    "start_time": "2024-10-01T17:44:00.699Z"
   },
   {
    "duration": 2,
    "start_time": "2024-10-01T17:44:51.388Z"
   },
   {
    "duration": 21,
    "start_time": "2024-10-01T18:02:22.697Z"
   },
   {
    "duration": 29,
    "start_time": "2024-10-01T18:06:20.712Z"
   },
   {
    "duration": 922,
    "start_time": "2024-10-01T18:31:38.101Z"
   },
   {
    "duration": 214,
    "start_time": "2024-10-01T18:38:39.951Z"
   },
   {
    "duration": 383,
    "start_time": "2024-10-01T18:45:28.271Z"
   },
   {
    "duration": 189,
    "start_time": "2024-10-01T18:45:49.446Z"
   },
   {
    "duration": 435,
    "start_time": "2024-10-01T18:59:23.613Z"
   },
   {
    "duration": 115,
    "start_time": "2024-10-01T19:01:17.332Z"
   },
   {
    "duration": 3,
    "start_time": "2024-10-01T19:01:34.141Z"
   },
   {
    "duration": 352,
    "start_time": "2024-10-01T19:01:34.148Z"
   },
   {
    "duration": 712,
    "start_time": "2024-10-01T19:01:34.503Z"
   },
   {
    "duration": 745,
    "start_time": "2024-10-01T19:01:35.217Z"
   },
   {
    "duration": 0,
    "start_time": "2024-10-01T19:01:35.965Z"
   },
   {
    "duration": 0,
    "start_time": "2024-10-01T19:01:35.966Z"
   },
   {
    "duration": 0,
    "start_time": "2024-10-01T19:01:35.968Z"
   },
   {
    "duration": 0,
    "start_time": "2024-10-01T19:01:35.969Z"
   },
   {
    "duration": 0,
    "start_time": "2024-10-01T19:01:35.970Z"
   },
   {
    "duration": 99,
    "start_time": "2024-10-01T19:02:49.314Z"
   },
   {
    "duration": 15,
    "start_time": "2024-10-01T19:17:44.492Z"
   },
   {
    "duration": 8,
    "start_time": "2024-10-01T19:17:52.092Z"
   },
   {
    "duration": 18,
    "start_time": "2024-10-01T19:18:42.217Z"
   },
   {
    "duration": 112,
    "start_time": "2024-10-01T19:22:23.240Z"
   },
   {
    "duration": 116,
    "start_time": "2024-10-01T19:23:00.445Z"
   },
   {
    "duration": 19,
    "start_time": "2024-10-01T19:26:22.263Z"
   },
   {
    "duration": 21,
    "start_time": "2024-10-01T19:26:48.434Z"
   },
   {
    "duration": 26,
    "start_time": "2024-10-01T19:27:44.938Z"
   },
   {
    "duration": 103,
    "start_time": "2024-10-01T19:33:20.496Z"
   },
   {
    "duration": 145,
    "start_time": "2024-10-01T19:34:01.113Z"
   },
   {
    "duration": 12,
    "start_time": "2024-10-01T19:35:11.425Z"
   },
   {
    "duration": 21,
    "start_time": "2024-10-01T19:41:32.237Z"
   },
   {
    "duration": 21,
    "start_time": "2024-10-01T19:41:45.168Z"
   },
   {
    "duration": 27,
    "start_time": "2024-10-01T19:42:00.259Z"
   },
   {
    "duration": 386,
    "start_time": "2024-10-01T19:42:07.625Z"
   },
   {
    "duration": 14,
    "start_time": "2024-10-01T19:42:08.015Z"
   },
   {
    "duration": 758,
    "start_time": "2024-10-01T19:42:08.033Z"
   },
   {
    "duration": 20,
    "start_time": "2024-10-01T19:42:08.794Z"
   },
   {
    "duration": 0,
    "start_time": "2024-10-01T19:42:08.816Z"
   },
   {
    "duration": 0,
    "start_time": "2024-10-01T19:42:08.818Z"
   },
   {
    "duration": 1045,
    "start_time": "2024-10-01T19:42:41.692Z"
   },
   {
    "duration": 81,
    "start_time": "2024-10-01T19:58:49.026Z"
   },
   {
    "duration": 75,
    "start_time": "2024-10-01T19:59:46.117Z"
   },
   {
    "duration": 80,
    "start_time": "2024-10-01T20:06:15.456Z"
   },
   {
    "duration": 24909,
    "start_time": "2024-10-01T21:12:23.564Z"
   },
   {
    "duration": 3138,
    "start_time": "2024-10-01T21:38:18.355Z"
   },
   {
    "duration": 11,
    "start_time": "2024-10-01T21:39:12.017Z"
   },
   {
    "duration": 1120,
    "start_time": "2024-10-01T21:43:26.272Z"
   },
   {
    "duration": 34,
    "start_time": "2024-10-01T21:43:27.394Z"
   },
   {
    "duration": 10,
    "start_time": "2024-10-01T21:43:27.430Z"
   },
   {
    "duration": 1868,
    "start_time": "2024-10-01T21:43:27.442Z"
   },
   {
    "duration": 2516,
    "start_time": "2024-10-01T21:43:29.313Z"
   },
   {
    "duration": 17,
    "start_time": "2024-10-01T21:43:31.831Z"
   },
   {
    "duration": 25,
    "start_time": "2024-10-01T21:43:31.850Z"
   },
   {
    "duration": 1247,
    "start_time": "2024-10-01T21:43:31.877Z"
   },
   {
    "duration": 96,
    "start_time": "2024-10-01T21:52:38.115Z"
   },
   {
    "duration": 1162,
    "start_time": "2024-10-01T23:30:34.907Z"
   },
   {
    "duration": 33,
    "start_time": "2024-10-01T23:30:36.071Z"
   },
   {
    "duration": 11,
    "start_time": "2024-10-01T23:30:36.106Z"
   },
   {
    "duration": 1795,
    "start_time": "2024-10-01T23:30:36.119Z"
   },
   {
    "duration": 47,
    "start_time": "2024-10-01T23:30:37.918Z"
   },
   {
    "duration": 0,
    "start_time": "2024-10-01T23:30:37.967Z"
   },
   {
    "duration": 0,
    "start_time": "2024-10-01T23:30:37.972Z"
   },
   {
    "duration": 1206,
    "start_time": "2024-10-01T23:31:02.976Z"
   },
   {
    "duration": 37,
    "start_time": "2024-10-01T23:31:04.185Z"
   },
   {
    "duration": 12,
    "start_time": "2024-10-01T23:31:04.224Z"
   },
   {
    "duration": 1911,
    "start_time": "2024-10-01T23:31:04.238Z"
   },
   {
    "duration": 36,
    "start_time": "2024-10-01T23:31:06.153Z"
   },
   {
    "duration": 0,
    "start_time": "2024-10-01T23:31:06.191Z"
   },
   {
    "duration": 1214,
    "start_time": "2024-10-01T23:31:46.325Z"
   },
   {
    "duration": 33,
    "start_time": "2024-10-01T23:31:47.541Z"
   },
   {
    "duration": 11,
    "start_time": "2024-10-01T23:31:47.575Z"
   },
   {
    "duration": 1858,
    "start_time": "2024-10-01T23:31:47.589Z"
   },
   {
    "duration": 33,
    "start_time": "2024-10-01T23:31:49.450Z"
   },
   {
    "duration": 0,
    "start_time": "2024-10-01T23:31:49.486Z"
   },
   {
    "duration": 2399,
    "start_time": "2024-10-01T23:35:55.310Z"
   },
   {
    "duration": 41,
    "start_time": "2024-10-01T23:44:37.080Z"
   },
   {
    "duration": 581,
    "start_time": "2024-10-02T01:04:12.105Z"
   },
   {
    "duration": 263,
    "start_time": "2024-10-02T01:12:33.624Z"
   },
   {
    "duration": 199,
    "start_time": "2024-10-02T01:12:44.886Z"
   },
   {
    "duration": 362,
    "start_time": "2024-10-02T01:23:28.707Z"
   },
   {
    "duration": 795,
    "start_time": "2024-10-02T01:23:29.072Z"
   },
   {
    "duration": 11,
    "start_time": "2024-10-02T01:23:29.869Z"
   },
   {
    "duration": 1783,
    "start_time": "2024-10-02T01:23:29.882Z"
   },
   {
    "duration": 3037,
    "start_time": "2024-10-02T01:23:31.667Z"
   },
   {
    "duration": 0,
    "start_time": "2024-10-02T01:23:34.709Z"
   },
   {
    "duration": 357,
    "start_time": "2024-10-02T01:23:53.170Z"
   },
   {
    "duration": 13,
    "start_time": "2024-10-02T01:23:53.530Z"
   },
   {
    "duration": 1766,
    "start_time": "2024-10-02T01:23:53.545Z"
   },
   {
    "duration": 3839,
    "start_time": "2024-10-02T01:23:55.314Z"
   },
   {
    "duration": 0,
    "start_time": "2024-10-02T01:23:59.155Z"
   },
   {
    "duration": 23,
    "start_time": "2024-10-02T01:36:49.382Z"
   },
   {
    "duration": 73,
    "start_time": "2024-10-02T01:47:12.646Z"
   },
   {
    "duration": 52,
    "start_time": "2024-10-02T01:52:29.274Z"
   },
   {
    "duration": 56,
    "start_time": "2024-10-02T01:55:09.934Z"
   },
   {
    "duration": 10,
    "start_time": "2024-10-02T01:56:12.006Z"
   },
   {
    "duration": 59,
    "start_time": "2024-10-02T02:03:29.831Z"
   },
   {
    "duration": 49,
    "start_time": "2024-10-02T02:03:46.550Z"
   },
   {
    "duration": 73,
    "start_time": "2024-10-02T02:05:02.826Z"
   },
   {
    "duration": 46,
    "start_time": "2024-10-02T02:12:01.469Z"
   },
   {
    "duration": 66,
    "start_time": "2024-10-02T02:12:47.741Z"
   },
   {
    "duration": 57,
    "start_time": "2024-10-02T02:13:10.538Z"
   },
   {
    "duration": 33,
    "start_time": "2024-10-02T02:13:20.131Z"
   },
   {
    "duration": 57,
    "start_time": "2024-10-02T02:13:44.958Z"
   },
   {
    "duration": 62,
    "start_time": "2024-10-02T02:13:57.954Z"
   },
   {
    "duration": 48,
    "start_time": "2024-10-02T02:14:15.035Z"
   },
   {
    "duration": 364,
    "start_time": "2024-10-02T02:14:22.030Z"
   },
   {
    "duration": 13,
    "start_time": "2024-10-02T02:14:22.396Z"
   },
   {
    "duration": 1755,
    "start_time": "2024-10-02T02:14:22.410Z"
   },
   {
    "duration": 273,
    "start_time": "2024-10-02T02:14:24.168Z"
   },
   {
    "duration": 292,
    "start_time": "2024-10-02T02:14:24.443Z"
   },
   {
    "duration": 1,
    "start_time": "2024-10-02T02:14:24.737Z"
   },
   {
    "duration": 59,
    "start_time": "2024-10-02T02:16:05.898Z"
   },
   {
    "duration": 97,
    "start_time": "2024-10-02T02:16:18.379Z"
   },
   {
    "duration": 9,
    "start_time": "2024-10-02T02:16:34.476Z"
   },
   {
    "duration": 27,
    "start_time": "2024-10-02T02:16:45.315Z"
   },
   {
    "duration": 24,
    "start_time": "2024-10-02T02:17:01.327Z"
   },
   {
    "duration": 21,
    "start_time": "2024-10-02T02:17:25.633Z"
   },
   {
    "duration": 27,
    "start_time": "2024-10-02T02:17:37.510Z"
   },
   {
    "duration": 28,
    "start_time": "2024-10-02T02:17:59.018Z"
   },
   {
    "duration": 54,
    "start_time": "2024-10-02T02:18:21.445Z"
   },
   {
    "duration": 61,
    "start_time": "2024-10-02T02:18:34.160Z"
   },
   {
    "duration": 81,
    "start_time": "2024-10-02T02:18:36.583Z"
   },
   {
    "duration": 14,
    "start_time": "2024-10-02T02:19:57.583Z"
   },
   {
    "duration": 11,
    "start_time": "2024-10-02T02:22:09.822Z"
   },
   {
    "duration": 165,
    "start_time": "2024-10-02T02:30:45.608Z"
   },
   {
    "duration": 0,
    "start_time": "2024-10-02T02:30:45.775Z"
   },
   {
    "duration": 0,
    "start_time": "2024-10-02T02:30:45.777Z"
   },
   {
    "duration": 0,
    "start_time": "2024-10-02T02:30:45.780Z"
   },
   {
    "duration": 17,
    "start_time": "2024-10-02T02:34:35.263Z"
   },
   {
    "duration": 16,
    "start_time": "2024-10-02T02:36:28.644Z"
   },
   {
    "duration": 16,
    "start_time": "2024-10-02T02:51:28.957Z"
   },
   {
    "duration": 184,
    "start_time": "2024-10-02T03:11:15.416Z"
   },
   {
    "duration": 0,
    "start_time": "2024-10-02T03:11:15.610Z"
   },
   {
    "duration": 0,
    "start_time": "2024-10-02T03:11:15.612Z"
   },
   {
    "duration": 0,
    "start_time": "2024-10-02T03:11:15.613Z"
   },
   {
    "duration": 0,
    "start_time": "2024-10-02T03:11:15.614Z"
   },
   {
    "duration": 0,
    "start_time": "2024-10-02T03:11:15.615Z"
   },
   {
    "duration": 0,
    "start_time": "2024-10-02T03:11:15.616Z"
   },
   {
    "duration": 0,
    "start_time": "2024-10-02T03:11:15.617Z"
   },
   {
    "duration": 0,
    "start_time": "2024-10-02T03:11:15.619Z"
   },
   {
    "duration": 0,
    "start_time": "2024-10-02T03:11:15.620Z"
   },
   {
    "duration": 0,
    "start_time": "2024-10-02T03:11:15.622Z"
   },
   {
    "duration": 0,
    "start_time": "2024-10-02T03:11:15.623Z"
   },
   {
    "duration": 0,
    "start_time": "2024-10-02T03:11:15.625Z"
   },
   {
    "duration": 0,
    "start_time": "2024-10-02T03:11:15.626Z"
   },
   {
    "duration": 0,
    "start_time": "2024-10-02T03:11:15.627Z"
   },
   {
    "duration": 0,
    "start_time": "2024-10-02T03:11:15.629Z"
   },
   {
    "duration": 0,
    "start_time": "2024-10-02T03:11:15.630Z"
   },
   {
    "duration": 0,
    "start_time": "2024-10-02T03:11:15.631Z"
   },
   {
    "duration": 0,
    "start_time": "2024-10-02T03:11:15.633Z"
   },
   {
    "duration": 0,
    "start_time": "2024-10-02T03:11:15.634Z"
   },
   {
    "duration": 0,
    "start_time": "2024-10-02T03:11:15.634Z"
   },
   {
    "duration": 0,
    "start_time": "2024-10-02T03:11:15.636Z"
   },
   {
    "duration": 0,
    "start_time": "2024-10-02T03:11:15.637Z"
   },
   {
    "duration": 0,
    "start_time": "2024-10-02T03:11:15.639Z"
   },
   {
    "duration": 0,
    "start_time": "2024-10-02T03:11:15.640Z"
   },
   {
    "duration": 0,
    "start_time": "2024-10-02T03:11:15.642Z"
   },
   {
    "duration": 0,
    "start_time": "2024-10-02T03:11:15.643Z"
   },
   {
    "duration": 0,
    "start_time": "2024-10-02T03:11:15.644Z"
   },
   {
    "duration": 0,
    "start_time": "2024-10-02T03:11:15.646Z"
   },
   {
    "duration": 0,
    "start_time": "2024-10-02T03:11:15.647Z"
   },
   {
    "duration": 0,
    "start_time": "2024-10-02T03:11:15.649Z"
   },
   {
    "duration": 0,
    "start_time": "2024-10-02T03:11:15.650Z"
   },
   {
    "duration": 0,
    "start_time": "2024-10-02T03:11:15.651Z"
   },
   {
    "duration": 0,
    "start_time": "2024-10-02T03:11:15.652Z"
   },
   {
    "duration": 0,
    "start_time": "2024-10-02T03:11:15.709Z"
   },
   {
    "duration": 1863,
    "start_time": "2024-10-02T03:17:37.528Z"
   },
   {
    "duration": 549,
    "start_time": "2024-10-02T03:17:58.192Z"
   },
   {
    "duration": 7903,
    "start_time": "2024-10-02T03:18:59.983Z"
   },
   {
    "duration": 7,
    "start_time": "2024-10-02T03:19:17.205Z"
   },
   {
    "duration": 640,
    "start_time": "2024-10-02T03:19:17.214Z"
   },
   {
    "duration": 108,
    "start_time": "2024-10-02T03:19:17.857Z"
   },
   {
    "duration": 13,
    "start_time": "2024-10-02T03:19:17.967Z"
   },
   {
    "duration": 72,
    "start_time": "2024-10-02T03:19:17.982Z"
   },
   {
    "duration": 220,
    "start_time": "2024-10-02T03:19:18.056Z"
   },
   {
    "duration": 0,
    "start_time": "2024-10-02T03:19:18.279Z"
   },
   {
    "duration": 0,
    "start_time": "2024-10-02T03:19:18.280Z"
   },
   {
    "duration": 0,
    "start_time": "2024-10-02T03:19:18.281Z"
   },
   {
    "duration": 0,
    "start_time": "2024-10-02T03:19:18.282Z"
   },
   {
    "duration": 0,
    "start_time": "2024-10-02T03:19:18.283Z"
   },
   {
    "duration": 0,
    "start_time": "2024-10-02T03:19:18.284Z"
   },
   {
    "duration": 0,
    "start_time": "2024-10-02T03:19:18.285Z"
   },
   {
    "duration": 0,
    "start_time": "2024-10-02T03:19:18.287Z"
   },
   {
    "duration": 0,
    "start_time": "2024-10-02T03:19:18.288Z"
   },
   {
    "duration": 0,
    "start_time": "2024-10-02T03:19:18.289Z"
   },
   {
    "duration": 0,
    "start_time": "2024-10-02T03:19:18.309Z"
   },
   {
    "duration": 0,
    "start_time": "2024-10-02T03:19:18.310Z"
   },
   {
    "duration": 0,
    "start_time": "2024-10-02T03:19:18.311Z"
   },
   {
    "duration": 0,
    "start_time": "2024-10-02T03:19:18.312Z"
   },
   {
    "duration": 0,
    "start_time": "2024-10-02T03:19:18.314Z"
   },
   {
    "duration": 0,
    "start_time": "2024-10-02T03:19:18.315Z"
   },
   {
    "duration": 0,
    "start_time": "2024-10-02T03:19:18.317Z"
   },
   {
    "duration": 0,
    "start_time": "2024-10-02T03:19:18.319Z"
   },
   {
    "duration": 0,
    "start_time": "2024-10-02T03:19:18.320Z"
   },
   {
    "duration": 1747,
    "start_time": "2024-10-02T03:23:02.145Z"
   },
   {
    "duration": 3,
    "start_time": "2024-10-02T03:25:51.968Z"
   },
   {
    "duration": 25,
    "start_time": "2024-10-02T03:25:51.975Z"
   },
   {
    "duration": 0,
    "start_time": "2024-10-02T03:25:52.002Z"
   },
   {
    "duration": 0,
    "start_time": "2024-10-02T03:25:52.003Z"
   },
   {
    "duration": 0,
    "start_time": "2024-10-02T03:25:52.005Z"
   },
   {
    "duration": 170,
    "start_time": "2024-10-02T03:25:52.025Z"
   },
   {
    "duration": 0,
    "start_time": "2024-10-02T03:25:52.197Z"
   },
   {
    "duration": 0,
    "start_time": "2024-10-02T03:25:52.198Z"
   },
   {
    "duration": 0,
    "start_time": "2024-10-02T03:25:52.200Z"
   },
   {
    "duration": 0,
    "start_time": "2024-10-02T03:25:52.209Z"
   },
   {
    "duration": 0,
    "start_time": "2024-10-02T03:25:52.210Z"
   },
   {
    "duration": 0,
    "start_time": "2024-10-02T03:25:52.211Z"
   },
   {
    "duration": 0,
    "start_time": "2024-10-02T03:25:52.212Z"
   },
   {
    "duration": 0,
    "start_time": "2024-10-02T03:25:52.213Z"
   },
   {
    "duration": 0,
    "start_time": "2024-10-02T03:25:52.214Z"
   },
   {
    "duration": 0,
    "start_time": "2024-10-02T03:25:52.215Z"
   },
   {
    "duration": 0,
    "start_time": "2024-10-02T03:25:52.216Z"
   },
   {
    "duration": 0,
    "start_time": "2024-10-02T03:25:52.217Z"
   },
   {
    "duration": 0,
    "start_time": "2024-10-02T03:25:52.218Z"
   },
   {
    "duration": 0,
    "start_time": "2024-10-02T03:25:52.219Z"
   },
   {
    "duration": 0,
    "start_time": "2024-10-02T03:25:52.220Z"
   },
   {
    "duration": 0,
    "start_time": "2024-10-02T03:25:52.222Z"
   },
   {
    "duration": 0,
    "start_time": "2024-10-02T03:25:52.226Z"
   },
   {
    "duration": 0,
    "start_time": "2024-10-02T03:25:52.228Z"
   },
   {
    "duration": 0,
    "start_time": "2024-10-02T03:25:52.229Z"
   },
   {
    "duration": 0,
    "start_time": "2024-10-02T03:25:52.230Z"
   },
   {
    "duration": 0,
    "start_time": "2024-10-02T03:25:52.231Z"
   },
   {
    "duration": 2,
    "start_time": "2024-10-02T03:35:28.851Z"
   },
   {
    "duration": 25,
    "start_time": "2024-10-02T03:35:28.871Z"
   },
   {
    "duration": 0,
    "start_time": "2024-10-02T03:35:28.897Z"
   },
   {
    "duration": 0,
    "start_time": "2024-10-02T03:35:28.898Z"
   },
   {
    "duration": 0,
    "start_time": "2024-10-02T03:35:28.899Z"
   },
   {
    "duration": 179,
    "start_time": "2024-10-02T03:35:28.905Z"
   },
   {
    "duration": 0,
    "start_time": "2024-10-02T03:35:29.087Z"
   },
   {
    "duration": 0,
    "start_time": "2024-10-02T03:35:29.088Z"
   },
   {
    "duration": 0,
    "start_time": "2024-10-02T03:35:29.089Z"
   },
   {
    "duration": 0,
    "start_time": "2024-10-02T03:35:29.090Z"
   },
   {
    "duration": 0,
    "start_time": "2024-10-02T03:35:29.091Z"
   },
   {
    "duration": 0,
    "start_time": "2024-10-02T03:35:29.092Z"
   },
   {
    "duration": 0,
    "start_time": "2024-10-02T03:35:29.093Z"
   },
   {
    "duration": 0,
    "start_time": "2024-10-02T03:35:29.094Z"
   },
   {
    "duration": 0,
    "start_time": "2024-10-02T03:35:29.094Z"
   },
   {
    "duration": 0,
    "start_time": "2024-10-02T03:35:29.095Z"
   },
   {
    "duration": 0,
    "start_time": "2024-10-02T03:35:29.095Z"
   },
   {
    "duration": 0,
    "start_time": "2024-10-02T03:35:29.108Z"
   },
   {
    "duration": 0,
    "start_time": "2024-10-02T03:35:29.109Z"
   },
   {
    "duration": 0,
    "start_time": "2024-10-02T03:35:29.110Z"
   },
   {
    "duration": 0,
    "start_time": "2024-10-02T03:35:29.112Z"
   },
   {
    "duration": 0,
    "start_time": "2024-10-02T03:35:29.113Z"
   },
   {
    "duration": 0,
    "start_time": "2024-10-02T03:35:29.114Z"
   },
   {
    "duration": 0,
    "start_time": "2024-10-02T03:35:29.115Z"
   },
   {
    "duration": 0,
    "start_time": "2024-10-02T03:35:29.116Z"
   },
   {
    "duration": 0,
    "start_time": "2024-10-02T03:35:29.117Z"
   },
   {
    "duration": 0,
    "start_time": "2024-10-02T03:35:29.118Z"
   },
   {
    "duration": 0,
    "start_time": "2024-10-02T03:35:29.118Z"
   },
   {
    "duration": 0,
    "start_time": "2024-10-02T03:35:29.119Z"
   },
   {
    "duration": 0,
    "start_time": "2024-10-02T03:35:29.120Z"
   },
   {
    "duration": 0,
    "start_time": "2024-10-02T03:35:29.121Z"
   },
   {
    "duration": 0,
    "start_time": "2024-10-02T03:35:29.123Z"
   },
   {
    "duration": 0,
    "start_time": "2024-10-02T03:35:29.124Z"
   },
   {
    "duration": 0,
    "start_time": "2024-10-02T03:35:29.125Z"
   },
   {
    "duration": 0,
    "start_time": "2024-10-02T03:35:29.126Z"
   },
   {
    "duration": 0,
    "start_time": "2024-10-02T03:35:29.127Z"
   },
   {
    "duration": 0,
    "start_time": "2024-10-02T03:35:29.128Z"
   },
   {
    "duration": 591,
    "start_time": "2024-10-02T03:38:11.123Z"
   },
   {
    "duration": 4,
    "start_time": "2024-10-02T03:38:32.214Z"
   },
   {
    "duration": 543,
    "start_time": "2024-10-02T03:38:32.220Z"
   },
   {
    "duration": 104,
    "start_time": "2024-10-02T03:38:32.765Z"
   },
   {
    "duration": 42,
    "start_time": "2024-10-02T03:38:32.870Z"
   },
   {
    "duration": 25,
    "start_time": "2024-10-02T03:38:32.914Z"
   },
   {
    "duration": 78,
    "start_time": "2024-10-02T03:38:32.940Z"
   },
   {
    "duration": 4,
    "start_time": "2024-10-02T03:38:33.020Z"
   },
   {
    "duration": 1244,
    "start_time": "2024-10-02T03:38:33.027Z"
   },
   {
    "duration": 0,
    "start_time": "2024-10-02T03:38:34.274Z"
   },
   {
    "duration": 0,
    "start_time": "2024-10-02T03:38:34.276Z"
   },
   {
    "duration": 0,
    "start_time": "2024-10-02T03:38:34.277Z"
   },
   {
    "duration": 0,
    "start_time": "2024-10-02T03:38:34.278Z"
   },
   {
    "duration": 0,
    "start_time": "2024-10-02T03:38:34.280Z"
   },
   {
    "duration": 0,
    "start_time": "2024-10-02T03:38:34.281Z"
   },
   {
    "duration": 0,
    "start_time": "2024-10-02T03:38:34.282Z"
   },
   {
    "duration": 0,
    "start_time": "2024-10-02T03:38:34.283Z"
   },
   {
    "duration": 0,
    "start_time": "2024-10-02T03:38:34.283Z"
   },
   {
    "duration": 0,
    "start_time": "2024-10-02T03:38:34.284Z"
   },
   {
    "duration": 0,
    "start_time": "2024-10-02T03:38:34.286Z"
   },
   {
    "duration": 0,
    "start_time": "2024-10-02T03:38:34.286Z"
   },
   {
    "duration": 0,
    "start_time": "2024-10-02T03:38:34.287Z"
   },
   {
    "duration": 0,
    "start_time": "2024-10-02T03:38:34.288Z"
   },
   {
    "duration": 0,
    "start_time": "2024-10-02T03:38:34.309Z"
   },
   {
    "duration": 0,
    "start_time": "2024-10-02T03:38:34.310Z"
   },
   {
    "duration": 0,
    "start_time": "2024-10-02T03:38:34.310Z"
   },
   {
    "duration": 0,
    "start_time": "2024-10-02T03:38:34.311Z"
   },
   {
    "duration": 0,
    "start_time": "2024-10-02T03:38:34.315Z"
   },
   {
    "duration": 0,
    "start_time": "2024-10-02T03:38:34.316Z"
   },
   {
    "duration": 0,
    "start_time": "2024-10-02T03:38:34.317Z"
   },
   {
    "duration": 0,
    "start_time": "2024-10-02T03:38:34.318Z"
   },
   {
    "duration": 0,
    "start_time": "2024-10-02T03:38:34.319Z"
   },
   {
    "duration": 0,
    "start_time": "2024-10-02T03:38:34.321Z"
   },
   {
    "duration": 0,
    "start_time": "2024-10-02T03:38:34.322Z"
   },
   {
    "duration": 0,
    "start_time": "2024-10-02T03:38:34.323Z"
   },
   {
    "duration": 0,
    "start_time": "2024-10-02T03:38:34.324Z"
   },
   {
    "duration": 0,
    "start_time": "2024-10-02T03:38:34.325Z"
   },
   {
    "duration": 43,
    "start_time": "2024-10-02T03:40:48.418Z"
   },
   {
    "duration": 4,
    "start_time": "2024-10-02T03:41:24.237Z"
   },
   {
    "duration": 3,
    "start_time": "2024-10-02T04:02:26.500Z"
   },
   {
    "duration": 561,
    "start_time": "2024-10-02T04:02:26.519Z"
   },
   {
    "duration": 141,
    "start_time": "2024-10-02T04:02:27.082Z"
   },
   {
    "duration": 220,
    "start_time": "2024-10-02T04:02:27.228Z"
   },
   {
    "duration": 0,
    "start_time": "2024-10-02T04:02:27.452Z"
   },
   {
    "duration": 0,
    "start_time": "2024-10-02T04:02:27.454Z"
   },
   {
    "duration": 0,
    "start_time": "2024-10-02T04:02:27.455Z"
   },
   {
    "duration": 0,
    "start_time": "2024-10-02T04:02:27.457Z"
   },
   {
    "duration": 0,
    "start_time": "2024-10-02T04:02:27.459Z"
   },
   {
    "duration": 0,
    "start_time": "2024-10-02T04:02:27.460Z"
   },
   {
    "duration": 0,
    "start_time": "2024-10-02T04:02:27.462Z"
   },
   {
    "duration": 0,
    "start_time": "2024-10-02T04:02:27.463Z"
   },
   {
    "duration": 0,
    "start_time": "2024-10-02T04:02:27.465Z"
   },
   {
    "duration": 0,
    "start_time": "2024-10-02T04:02:27.466Z"
   },
   {
    "duration": 0,
    "start_time": "2024-10-02T04:02:27.468Z"
   },
   {
    "duration": 0,
    "start_time": "2024-10-02T04:02:27.469Z"
   },
   {
    "duration": 0,
    "start_time": "2024-10-02T04:02:27.470Z"
   },
   {
    "duration": 0,
    "start_time": "2024-10-02T04:02:27.471Z"
   },
   {
    "duration": 0,
    "start_time": "2024-10-02T04:02:27.471Z"
   },
   {
    "duration": 0,
    "start_time": "2024-10-02T04:02:27.509Z"
   },
   {
    "duration": 0,
    "start_time": "2024-10-02T04:02:27.510Z"
   },
   {
    "duration": 0,
    "start_time": "2024-10-02T04:02:27.511Z"
   },
   {
    "duration": 0,
    "start_time": "2024-10-02T04:02:27.512Z"
   },
   {
    "duration": 0,
    "start_time": "2024-10-02T04:02:27.512Z"
   },
   {
    "duration": 0,
    "start_time": "2024-10-02T04:02:27.513Z"
   },
   {
    "duration": 0,
    "start_time": "2024-10-02T04:02:27.514Z"
   },
   {
    "duration": 0,
    "start_time": "2024-10-02T04:02:27.514Z"
   },
   {
    "duration": 0,
    "start_time": "2024-10-02T04:02:27.518Z"
   },
   {
    "duration": 0,
    "start_time": "2024-10-02T04:02:27.519Z"
   },
   {
    "duration": 0,
    "start_time": "2024-10-02T04:02:27.520Z"
   },
   {
    "duration": 0,
    "start_time": "2024-10-02T04:02:27.522Z"
   },
   {
    "duration": 0,
    "start_time": "2024-10-02T04:02:27.524Z"
   },
   {
    "duration": 0,
    "start_time": "2024-10-02T04:02:27.525Z"
   },
   {
    "duration": 0,
    "start_time": "2024-10-02T04:02:27.526Z"
   },
   {
    "duration": 0,
    "start_time": "2024-10-02T04:02:27.527Z"
   },
   {
    "duration": 0,
    "start_time": "2024-10-02T04:02:27.529Z"
   },
   {
    "duration": 0,
    "start_time": "2024-10-02T04:02:27.530Z"
   },
   {
    "duration": 0,
    "start_time": "2024-10-02T04:02:27.531Z"
   },
   {
    "duration": 0,
    "start_time": "2024-10-02T04:02:27.533Z"
   },
   {
    "duration": 0,
    "start_time": "2024-10-02T04:02:27.534Z"
   },
   {
    "duration": 0,
    "start_time": "2024-10-02T04:02:27.535Z"
   },
   {
    "duration": 0,
    "start_time": "2024-10-02T04:02:27.536Z"
   },
   {
    "duration": 0,
    "start_time": "2024-10-02T04:02:27.537Z"
   },
   {
    "duration": 0,
    "start_time": "2024-10-02T04:02:27.538Z"
   },
   {
    "duration": 0,
    "start_time": "2024-10-02T04:02:27.539Z"
   },
   {
    "duration": 0,
    "start_time": "2024-10-02T04:02:27.540Z"
   },
   {
    "duration": 0,
    "start_time": "2024-10-02T04:02:27.541Z"
   },
   {
    "duration": 0,
    "start_time": "2024-10-02T04:02:27.543Z"
   },
   {
    "duration": 0,
    "start_time": "2024-10-02T04:02:27.544Z"
   },
   {
    "duration": 0,
    "start_time": "2024-10-02T04:02:27.545Z"
   },
   {
    "duration": 0,
    "start_time": "2024-10-02T04:02:27.547Z"
   },
   {
    "duration": 0,
    "start_time": "2024-10-02T04:02:27.548Z"
   },
   {
    "duration": 0,
    "start_time": "2024-10-02T04:02:27.549Z"
   },
   {
    "duration": 0,
    "start_time": "2024-10-02T04:02:27.550Z"
   },
   {
    "duration": 0,
    "start_time": "2024-10-02T04:02:27.551Z"
   },
   {
    "duration": 0,
    "start_time": "2024-10-02T04:02:27.614Z"
   },
   {
    "duration": 0,
    "start_time": "2024-10-02T04:02:27.615Z"
   },
   {
    "duration": 2,
    "start_time": "2024-10-02T04:03:15.809Z"
   },
   {
    "duration": 3,
    "start_time": "2024-10-02T04:09:07.258Z"
   },
   {
    "duration": 605,
    "start_time": "2024-10-02T04:09:07.264Z"
   },
   {
    "duration": 141,
    "start_time": "2024-10-02T04:09:07.871Z"
   },
   {
    "duration": 214,
    "start_time": "2024-10-02T04:09:08.014Z"
   },
   {
    "duration": 0,
    "start_time": "2024-10-02T04:09:08.231Z"
   },
   {
    "duration": 0,
    "start_time": "2024-10-02T04:09:08.232Z"
   },
   {
    "duration": 0,
    "start_time": "2024-10-02T04:09:08.234Z"
   },
   {
    "duration": 0,
    "start_time": "2024-10-02T04:09:08.235Z"
   },
   {
    "duration": 0,
    "start_time": "2024-10-02T04:09:08.236Z"
   },
   {
    "duration": 0,
    "start_time": "2024-10-02T04:09:08.237Z"
   },
   {
    "duration": 0,
    "start_time": "2024-10-02T04:09:08.238Z"
   },
   {
    "duration": 0,
    "start_time": "2024-10-02T04:09:08.239Z"
   },
   {
    "duration": 0,
    "start_time": "2024-10-02T04:09:08.240Z"
   },
   {
    "duration": 0,
    "start_time": "2024-10-02T04:09:08.241Z"
   },
   {
    "duration": 0,
    "start_time": "2024-10-02T04:09:08.243Z"
   },
   {
    "duration": 0,
    "start_time": "2024-10-02T04:09:08.243Z"
   },
   {
    "duration": 0,
    "start_time": "2024-10-02T04:09:08.245Z"
   },
   {
    "duration": 0,
    "start_time": "2024-10-02T04:09:08.246Z"
   },
   {
    "duration": 0,
    "start_time": "2024-10-02T04:09:08.247Z"
   },
   {
    "duration": 0,
    "start_time": "2024-10-02T04:09:08.249Z"
   },
   {
    "duration": 0,
    "start_time": "2024-10-02T04:09:08.250Z"
   },
   {
    "duration": 0,
    "start_time": "2024-10-02T04:09:08.252Z"
   },
   {
    "duration": 0,
    "start_time": "2024-10-02T04:09:08.253Z"
   },
   {
    "duration": 0,
    "start_time": "2024-10-02T04:09:08.256Z"
   },
   {
    "duration": 0,
    "start_time": "2024-10-02T04:09:08.258Z"
   },
   {
    "duration": 0,
    "start_time": "2024-10-02T04:09:08.260Z"
   },
   {
    "duration": 0,
    "start_time": "2024-10-02T04:09:08.261Z"
   },
   {
    "duration": 0,
    "start_time": "2024-10-02T04:09:08.263Z"
   },
   {
    "duration": 0,
    "start_time": "2024-10-02T04:09:08.310Z"
   },
   {
    "duration": 0,
    "start_time": "2024-10-02T04:09:08.311Z"
   },
   {
    "duration": 0,
    "start_time": "2024-10-02T04:09:08.312Z"
   },
   {
    "duration": 0,
    "start_time": "2024-10-02T04:09:08.314Z"
   },
   {
    "duration": 0,
    "start_time": "2024-10-02T04:09:08.315Z"
   },
   {
    "duration": 0,
    "start_time": "2024-10-02T04:09:08.317Z"
   },
   {
    "duration": 1,
    "start_time": "2024-10-02T04:09:08.318Z"
   },
   {
    "duration": 0,
    "start_time": "2024-10-02T04:09:08.320Z"
   },
   {
    "duration": 0,
    "start_time": "2024-10-02T04:09:08.322Z"
   },
   {
    "duration": 0,
    "start_time": "2024-10-02T04:09:08.323Z"
   },
   {
    "duration": 0,
    "start_time": "2024-10-02T04:09:08.324Z"
   },
   {
    "duration": 0,
    "start_time": "2024-10-02T04:09:08.325Z"
   },
   {
    "duration": 0,
    "start_time": "2024-10-02T04:09:08.326Z"
   },
   {
    "duration": 0,
    "start_time": "2024-10-02T04:09:08.328Z"
   },
   {
    "duration": 0,
    "start_time": "2024-10-02T04:09:08.329Z"
   },
   {
    "duration": 0,
    "start_time": "2024-10-02T04:09:08.330Z"
   },
   {
    "duration": 0,
    "start_time": "2024-10-02T04:09:08.331Z"
   },
   {
    "duration": 0,
    "start_time": "2024-10-02T04:09:08.333Z"
   },
   {
    "duration": 0,
    "start_time": "2024-10-02T04:09:08.335Z"
   },
   {
    "duration": 0,
    "start_time": "2024-10-02T04:09:08.336Z"
   },
   {
    "duration": 0,
    "start_time": "2024-10-02T04:09:08.338Z"
   },
   {
    "duration": 0,
    "start_time": "2024-10-02T04:09:08.339Z"
   },
   {
    "duration": 0,
    "start_time": "2024-10-02T04:09:08.340Z"
   },
   {
    "duration": 1,
    "start_time": "2024-10-02T04:09:08.340Z"
   },
   {
    "duration": 0,
    "start_time": "2024-10-02T04:09:08.341Z"
   },
   {
    "duration": 0,
    "start_time": "2024-10-02T04:09:08.342Z"
   },
   {
    "duration": 0,
    "start_time": "2024-10-02T04:09:08.342Z"
   },
   {
    "duration": 0,
    "start_time": "2024-10-02T04:09:08.343Z"
   },
   {
    "duration": 18,
    "start_time": "2024-10-02T04:10:50.819Z"
   },
   {
    "duration": 3,
    "start_time": "2024-10-02T04:10:55.903Z"
   },
   {
    "duration": 551,
    "start_time": "2024-10-02T04:10:55.910Z"
   },
   {
    "duration": 103,
    "start_time": "2024-10-02T04:10:56.464Z"
   },
   {
    "duration": 200,
    "start_time": "2024-10-02T04:10:56.610Z"
   },
   {
    "duration": 0,
    "start_time": "2024-10-02T04:10:56.813Z"
   },
   {
    "duration": 0,
    "start_time": "2024-10-02T04:10:56.814Z"
   },
   {
    "duration": 0,
    "start_time": "2024-10-02T04:10:56.815Z"
   },
   {
    "duration": 0,
    "start_time": "2024-10-02T04:10:56.817Z"
   },
   {
    "duration": 0,
    "start_time": "2024-10-02T04:10:56.819Z"
   },
   {
    "duration": 0,
    "start_time": "2024-10-02T04:10:56.820Z"
   },
   {
    "duration": 0,
    "start_time": "2024-10-02T04:10:56.822Z"
   },
   {
    "duration": 0,
    "start_time": "2024-10-02T04:10:56.823Z"
   },
   {
    "duration": 0,
    "start_time": "2024-10-02T04:10:56.825Z"
   },
   {
    "duration": 0,
    "start_time": "2024-10-02T04:10:56.826Z"
   },
   {
    "duration": 0,
    "start_time": "2024-10-02T04:10:56.827Z"
   },
   {
    "duration": 0,
    "start_time": "2024-10-02T04:10:56.829Z"
   },
   {
    "duration": 0,
    "start_time": "2024-10-02T04:10:56.831Z"
   },
   {
    "duration": 0,
    "start_time": "2024-10-02T04:10:56.833Z"
   },
   {
    "duration": 0,
    "start_time": "2024-10-02T04:10:56.834Z"
   },
   {
    "duration": 0,
    "start_time": "2024-10-02T04:10:56.836Z"
   },
   {
    "duration": 0,
    "start_time": "2024-10-02T04:10:56.837Z"
   },
   {
    "duration": 0,
    "start_time": "2024-10-02T04:10:56.838Z"
   },
   {
    "duration": 0,
    "start_time": "2024-10-02T04:10:56.839Z"
   },
   {
    "duration": 0,
    "start_time": "2024-10-02T04:10:56.840Z"
   },
   {
    "duration": 0,
    "start_time": "2024-10-02T04:10:56.842Z"
   },
   {
    "duration": 0,
    "start_time": "2024-10-02T04:10:56.843Z"
   },
   {
    "duration": 0,
    "start_time": "2024-10-02T04:10:56.843Z"
   },
   {
    "duration": 0,
    "start_time": "2024-10-02T04:10:56.845Z"
   },
   {
    "duration": 0,
    "start_time": "2024-10-02T04:10:56.846Z"
   },
   {
    "duration": 0,
    "start_time": "2024-10-02T04:10:56.847Z"
   },
   {
    "duration": 0,
    "start_time": "2024-10-02T04:10:56.848Z"
   },
   {
    "duration": 0,
    "start_time": "2024-10-02T04:10:56.849Z"
   },
   {
    "duration": 0,
    "start_time": "2024-10-02T04:10:56.850Z"
   },
   {
    "duration": 0,
    "start_time": "2024-10-02T04:10:56.851Z"
   },
   {
    "duration": 0,
    "start_time": "2024-10-02T04:10:56.909Z"
   },
   {
    "duration": 0,
    "start_time": "2024-10-02T04:10:56.910Z"
   },
   {
    "duration": 0,
    "start_time": "2024-10-02T04:10:56.911Z"
   },
   {
    "duration": 0,
    "start_time": "2024-10-02T04:10:56.912Z"
   },
   {
    "duration": 0,
    "start_time": "2024-10-02T04:10:56.913Z"
   },
   {
    "duration": 0,
    "start_time": "2024-10-02T04:10:56.913Z"
   },
   {
    "duration": 0,
    "start_time": "2024-10-02T04:10:56.914Z"
   },
   {
    "duration": 0,
    "start_time": "2024-10-02T04:10:56.915Z"
   },
   {
    "duration": 0,
    "start_time": "2024-10-02T04:10:56.921Z"
   },
   {
    "duration": 0,
    "start_time": "2024-10-02T04:10:56.922Z"
   },
   {
    "duration": 0,
    "start_time": "2024-10-02T04:10:56.923Z"
   },
   {
    "duration": 0,
    "start_time": "2024-10-02T04:10:56.925Z"
   },
   {
    "duration": 0,
    "start_time": "2024-10-02T04:10:56.927Z"
   },
   {
    "duration": 0,
    "start_time": "2024-10-02T04:10:56.928Z"
   },
   {
    "duration": 0,
    "start_time": "2024-10-02T04:10:56.929Z"
   },
   {
    "duration": 0,
    "start_time": "2024-10-02T04:10:56.930Z"
   },
   {
    "duration": 0,
    "start_time": "2024-10-02T04:10:56.931Z"
   },
   {
    "duration": 0,
    "start_time": "2024-10-02T04:10:56.932Z"
   },
   {
    "duration": 0,
    "start_time": "2024-10-02T04:10:56.934Z"
   },
   {
    "duration": 0,
    "start_time": "2024-10-02T04:10:56.935Z"
   },
   {
    "duration": 0,
    "start_time": "2024-10-02T04:10:56.936Z"
   },
   {
    "duration": 0,
    "start_time": "2024-10-02T04:10:56.937Z"
   },
   {
    "duration": 0,
    "start_time": "2024-10-02T04:10:56.938Z"
   },
   {
    "duration": 0,
    "start_time": "2024-10-02T04:10:56.938Z"
   },
   {
    "duration": 56,
    "start_time": "2024-10-02T04:17:01.570Z"
   },
   {
    "duration": 5,
    "start_time": "2024-10-02T04:29:10.112Z"
   },
   {
    "duration": 27,
    "start_time": "2024-10-02T04:36:15.722Z"
   },
   {
    "duration": 557,
    "start_time": "2024-10-02T04:36:40.511Z"
   },
   {
    "duration": 6,
    "start_time": "2024-10-02T04:36:41.071Z"
   },
   {
    "duration": 150,
    "start_time": "2024-10-02T04:36:41.079Z"
   },
   {
    "duration": 8,
    "start_time": "2024-10-02T04:36:41.231Z"
   },
   {
    "duration": 861,
    "start_time": "2024-10-02T04:36:41.240Z"
   },
   {
    "duration": 0,
    "start_time": "2024-10-02T04:36:42.109Z"
   },
   {
    "duration": 1,
    "start_time": "2024-10-02T04:36:42.110Z"
   },
   {
    "duration": 0,
    "start_time": "2024-10-02T04:36:42.112Z"
   },
   {
    "duration": 0,
    "start_time": "2024-10-02T04:36:42.114Z"
   },
   {
    "duration": 0,
    "start_time": "2024-10-02T04:36:42.115Z"
   },
   {
    "duration": 0,
    "start_time": "2024-10-02T04:36:42.117Z"
   },
   {
    "duration": 0,
    "start_time": "2024-10-02T04:36:42.118Z"
   },
   {
    "duration": 0,
    "start_time": "2024-10-02T04:36:42.120Z"
   },
   {
    "duration": 0,
    "start_time": "2024-10-02T04:36:42.121Z"
   },
   {
    "duration": 0,
    "start_time": "2024-10-02T04:36:42.123Z"
   },
   {
    "duration": 0,
    "start_time": "2024-10-02T04:36:42.124Z"
   },
   {
    "duration": 0,
    "start_time": "2024-10-02T04:36:42.125Z"
   },
   {
    "duration": 0,
    "start_time": "2024-10-02T04:36:42.126Z"
   },
   {
    "duration": 0,
    "start_time": "2024-10-02T04:36:42.128Z"
   },
   {
    "duration": 0,
    "start_time": "2024-10-02T04:36:42.130Z"
   },
   {
    "duration": 0,
    "start_time": "2024-10-02T04:36:42.131Z"
   },
   {
    "duration": 0,
    "start_time": "2024-10-02T04:36:42.133Z"
   },
   {
    "duration": 1,
    "start_time": "2024-10-02T04:36:42.134Z"
   },
   {
    "duration": 0,
    "start_time": "2024-10-02T04:36:42.136Z"
   },
   {
    "duration": 0,
    "start_time": "2024-10-02T04:36:42.138Z"
   },
   {
    "duration": 0,
    "start_time": "2024-10-02T04:36:42.139Z"
   },
   {
    "duration": 0,
    "start_time": "2024-10-02T04:36:42.140Z"
   },
   {
    "duration": 0,
    "start_time": "2024-10-02T04:36:42.142Z"
   },
   {
    "duration": 0,
    "start_time": "2024-10-02T04:36:42.144Z"
   },
   {
    "duration": 0,
    "start_time": "2024-10-02T04:36:42.145Z"
   },
   {
    "duration": 0,
    "start_time": "2024-10-02T04:36:42.146Z"
   },
   {
    "duration": 0,
    "start_time": "2024-10-02T04:36:42.147Z"
   },
   {
    "duration": 0,
    "start_time": "2024-10-02T04:36:42.148Z"
   },
   {
    "duration": 0,
    "start_time": "2024-10-02T04:36:42.149Z"
   },
   {
    "duration": 0,
    "start_time": "2024-10-02T04:36:42.150Z"
   },
   {
    "duration": 1,
    "start_time": "2024-10-02T04:36:42.209Z"
   },
   {
    "duration": 0,
    "start_time": "2024-10-02T04:36:42.211Z"
   },
   {
    "duration": 0,
    "start_time": "2024-10-02T04:36:42.213Z"
   },
   {
    "duration": 0,
    "start_time": "2024-10-02T04:36:42.214Z"
   },
   {
    "duration": 0,
    "start_time": "2024-10-02T04:36:42.216Z"
   },
   {
    "duration": 0,
    "start_time": "2024-10-02T04:36:42.217Z"
   },
   {
    "duration": 0,
    "start_time": "2024-10-02T04:36:42.219Z"
   },
   {
    "duration": 0,
    "start_time": "2024-10-02T04:36:42.220Z"
   },
   {
    "duration": 0,
    "start_time": "2024-10-02T04:36:42.222Z"
   },
   {
    "duration": 0,
    "start_time": "2024-10-02T04:36:42.223Z"
   },
   {
    "duration": 0,
    "start_time": "2024-10-02T04:36:42.224Z"
   },
   {
    "duration": 0,
    "start_time": "2024-10-02T04:36:42.225Z"
   },
   {
    "duration": 0,
    "start_time": "2024-10-02T04:36:42.227Z"
   },
   {
    "duration": 0,
    "start_time": "2024-10-02T04:36:42.228Z"
   },
   {
    "duration": 0,
    "start_time": "2024-10-02T04:36:42.230Z"
   },
   {
    "duration": 0,
    "start_time": "2024-10-02T04:36:42.232Z"
   },
   {
    "duration": 0,
    "start_time": "2024-10-02T04:36:42.233Z"
   },
   {
    "duration": 0,
    "start_time": "2024-10-02T04:36:42.234Z"
   },
   {
    "duration": 0,
    "start_time": "2024-10-02T04:36:42.235Z"
   },
   {
    "duration": 0,
    "start_time": "2024-10-02T04:36:42.236Z"
   },
   {
    "duration": 0,
    "start_time": "2024-10-02T04:36:42.237Z"
   },
   {
    "duration": 0,
    "start_time": "2024-10-02T04:36:42.238Z"
   },
   {
    "duration": 0,
    "start_time": "2024-10-02T04:36:42.240Z"
   },
   {
    "duration": 0,
    "start_time": "2024-10-02T04:36:42.241Z"
   },
   {
    "duration": 586,
    "start_time": "2024-10-02T04:40:08.165Z"
   },
   {
    "duration": 336,
    "start_time": "2024-10-02T04:40:08.754Z"
   },
   {
    "duration": 0,
    "start_time": "2024-10-02T04:40:09.093Z"
   },
   {
    "duration": 0,
    "start_time": "2024-10-02T04:40:09.095Z"
   },
   {
    "duration": 0,
    "start_time": "2024-10-02T04:40:09.096Z"
   },
   {
    "duration": 0,
    "start_time": "2024-10-02T04:40:09.109Z"
   },
   {
    "duration": 0,
    "start_time": "2024-10-02T04:40:09.109Z"
   },
   {
    "duration": 0,
    "start_time": "2024-10-02T04:40:09.111Z"
   },
   {
    "duration": 0,
    "start_time": "2024-10-02T04:40:09.112Z"
   },
   {
    "duration": 0,
    "start_time": "2024-10-02T04:40:09.113Z"
   },
   {
    "duration": 0,
    "start_time": "2024-10-02T04:40:09.114Z"
   },
   {
    "duration": 0,
    "start_time": "2024-10-02T04:40:09.116Z"
   },
   {
    "duration": 0,
    "start_time": "2024-10-02T04:40:09.117Z"
   },
   {
    "duration": 0,
    "start_time": "2024-10-02T04:40:09.117Z"
   },
   {
    "duration": 0,
    "start_time": "2024-10-02T04:40:09.118Z"
   },
   {
    "duration": 0,
    "start_time": "2024-10-02T04:40:09.120Z"
   },
   {
    "duration": 0,
    "start_time": "2024-10-02T04:40:09.121Z"
   },
   {
    "duration": 0,
    "start_time": "2024-10-02T04:40:09.122Z"
   },
   {
    "duration": 0,
    "start_time": "2024-10-02T04:40:09.123Z"
   },
   {
    "duration": 0,
    "start_time": "2024-10-02T04:40:09.124Z"
   },
   {
    "duration": 1,
    "start_time": "2024-10-02T04:40:09.124Z"
   },
   {
    "duration": 0,
    "start_time": "2024-10-02T04:40:09.125Z"
   },
   {
    "duration": 0,
    "start_time": "2024-10-02T04:40:09.127Z"
   },
   {
    "duration": 0,
    "start_time": "2024-10-02T04:40:09.128Z"
   },
   {
    "duration": 0,
    "start_time": "2024-10-02T04:40:09.129Z"
   },
   {
    "duration": 0,
    "start_time": "2024-10-02T04:40:09.131Z"
   },
   {
    "duration": 0,
    "start_time": "2024-10-02T04:40:09.132Z"
   },
   {
    "duration": 0,
    "start_time": "2024-10-02T04:40:09.133Z"
   },
   {
    "duration": 0,
    "start_time": "2024-10-02T04:40:09.133Z"
   },
   {
    "duration": 0,
    "start_time": "2024-10-02T04:40:09.135Z"
   },
   {
    "duration": 0,
    "start_time": "2024-10-02T04:40:09.136Z"
   },
   {
    "duration": 0,
    "start_time": "2024-10-02T04:40:09.137Z"
   },
   {
    "duration": 0,
    "start_time": "2024-10-02T04:40:09.138Z"
   },
   {
    "duration": 0,
    "start_time": "2024-10-02T04:40:09.139Z"
   },
   {
    "duration": 0,
    "start_time": "2024-10-02T04:40:09.139Z"
   },
   {
    "duration": 0,
    "start_time": "2024-10-02T04:40:09.141Z"
   },
   {
    "duration": 0,
    "start_time": "2024-10-02T04:40:09.142Z"
   },
   {
    "duration": 0,
    "start_time": "2024-10-02T04:40:09.143Z"
   },
   {
    "duration": 0,
    "start_time": "2024-10-02T04:40:09.144Z"
   },
   {
    "duration": 0,
    "start_time": "2024-10-02T04:40:09.145Z"
   },
   {
    "duration": 0,
    "start_time": "2024-10-02T04:40:09.147Z"
   },
   {
    "duration": 0,
    "start_time": "2024-10-02T04:40:09.147Z"
   },
   {
    "duration": 0,
    "start_time": "2024-10-02T04:40:09.149Z"
   },
   {
    "duration": 0,
    "start_time": "2024-10-02T04:40:09.150Z"
   },
   {
    "duration": 0,
    "start_time": "2024-10-02T04:40:09.209Z"
   },
   {
    "duration": 0,
    "start_time": "2024-10-02T04:40:09.210Z"
   },
   {
    "duration": 0,
    "start_time": "2024-10-02T04:40:09.212Z"
   },
   {
    "duration": 0,
    "start_time": "2024-10-02T04:40:09.213Z"
   },
   {
    "duration": 0,
    "start_time": "2024-10-02T04:40:09.214Z"
   },
   {
    "duration": 0,
    "start_time": "2024-10-02T04:40:09.215Z"
   },
   {
    "duration": 0,
    "start_time": "2024-10-02T04:40:09.215Z"
   },
   {
    "duration": 0,
    "start_time": "2024-10-02T04:40:09.216Z"
   },
   {
    "duration": 0,
    "start_time": "2024-10-02T04:40:09.217Z"
   },
   {
    "duration": 0,
    "start_time": "2024-10-02T04:40:09.218Z"
   },
   {
    "duration": 0,
    "start_time": "2024-10-02T04:40:09.219Z"
   },
   {
    "duration": 0,
    "start_time": "2024-10-02T04:40:09.220Z"
   },
   {
    "duration": 0,
    "start_time": "2024-10-02T04:40:09.221Z"
   },
   {
    "duration": 0,
    "start_time": "2024-10-02T04:40:09.221Z"
   },
   {
    "duration": 0,
    "start_time": "2024-10-02T04:40:09.222Z"
   },
   {
    "duration": 525,
    "start_time": "2024-10-02T04:44:54.707Z"
   },
   {
    "duration": 7,
    "start_time": "2024-10-02T04:44:55.234Z"
   },
   {
    "duration": 48,
    "start_time": "2024-10-02T04:44:55.242Z"
   },
   {
    "duration": 19,
    "start_time": "2024-10-02T04:44:55.292Z"
   },
   {
    "duration": 203,
    "start_time": "2024-10-02T04:44:55.313Z"
   },
   {
    "duration": 0,
    "start_time": "2024-10-02T04:44:55.520Z"
   },
   {
    "duration": 0,
    "start_time": "2024-10-02T04:44:55.521Z"
   },
   {
    "duration": 0,
    "start_time": "2024-10-02T04:44:55.523Z"
   },
   {
    "duration": 0,
    "start_time": "2024-10-02T04:44:55.524Z"
   },
   {
    "duration": 0,
    "start_time": "2024-10-02T04:44:55.525Z"
   },
   {
    "duration": 0,
    "start_time": "2024-10-02T04:44:55.526Z"
   },
   {
    "duration": 0,
    "start_time": "2024-10-02T04:44:55.526Z"
   },
   {
    "duration": 0,
    "start_time": "2024-10-02T04:44:55.527Z"
   },
   {
    "duration": 0,
    "start_time": "2024-10-02T04:44:55.528Z"
   },
   {
    "duration": 0,
    "start_time": "2024-10-02T04:44:55.530Z"
   },
   {
    "duration": 0,
    "start_time": "2024-10-02T04:44:55.530Z"
   },
   {
    "duration": 0,
    "start_time": "2024-10-02T04:44:55.531Z"
   },
   {
    "duration": 0,
    "start_time": "2024-10-02T04:44:55.532Z"
   },
   {
    "duration": 0,
    "start_time": "2024-10-02T04:44:55.533Z"
   },
   {
    "duration": 0,
    "start_time": "2024-10-02T04:44:55.534Z"
   },
   {
    "duration": 0,
    "start_time": "2024-10-02T04:44:55.535Z"
   },
   {
    "duration": 0,
    "start_time": "2024-10-02T04:44:55.537Z"
   },
   {
    "duration": 0,
    "start_time": "2024-10-02T04:44:55.539Z"
   },
   {
    "duration": 0,
    "start_time": "2024-10-02T04:44:55.540Z"
   },
   {
    "duration": 0,
    "start_time": "2024-10-02T04:44:55.541Z"
   },
   {
    "duration": 0,
    "start_time": "2024-10-02T04:44:55.542Z"
   },
   {
    "duration": 0,
    "start_time": "2024-10-02T04:44:55.543Z"
   },
   {
    "duration": 0,
    "start_time": "2024-10-02T04:44:55.545Z"
   },
   {
    "duration": 0,
    "start_time": "2024-10-02T04:44:55.546Z"
   },
   {
    "duration": 0,
    "start_time": "2024-10-02T04:44:55.548Z"
   },
   {
    "duration": 0,
    "start_time": "2024-10-02T04:44:55.550Z"
   },
   {
    "duration": 0,
    "start_time": "2024-10-02T04:44:55.551Z"
   },
   {
    "duration": 0,
    "start_time": "2024-10-02T04:44:55.552Z"
   },
   {
    "duration": 0,
    "start_time": "2024-10-02T04:44:55.554Z"
   },
   {
    "duration": 0,
    "start_time": "2024-10-02T04:44:55.555Z"
   },
   {
    "duration": 0,
    "start_time": "2024-10-02T04:44:55.611Z"
   },
   {
    "duration": 0,
    "start_time": "2024-10-02T04:44:55.613Z"
   },
   {
    "duration": 0,
    "start_time": "2024-10-02T04:44:55.614Z"
   },
   {
    "duration": 0,
    "start_time": "2024-10-02T04:44:55.616Z"
   },
   {
    "duration": 0,
    "start_time": "2024-10-02T04:44:55.617Z"
   },
   {
    "duration": 0,
    "start_time": "2024-10-02T04:44:55.618Z"
   },
   {
    "duration": 0,
    "start_time": "2024-10-02T04:44:55.619Z"
   },
   {
    "duration": 0,
    "start_time": "2024-10-02T04:44:55.620Z"
   },
   {
    "duration": 0,
    "start_time": "2024-10-02T04:44:55.621Z"
   },
   {
    "duration": 0,
    "start_time": "2024-10-02T04:44:55.622Z"
   },
   {
    "duration": 0,
    "start_time": "2024-10-02T04:44:55.623Z"
   },
   {
    "duration": 0,
    "start_time": "2024-10-02T04:44:55.624Z"
   },
   {
    "duration": 0,
    "start_time": "2024-10-02T04:44:55.625Z"
   },
   {
    "duration": 0,
    "start_time": "2024-10-02T04:44:55.626Z"
   },
   {
    "duration": 0,
    "start_time": "2024-10-02T04:44:55.627Z"
   },
   {
    "duration": 0,
    "start_time": "2024-10-02T04:44:55.628Z"
   },
   {
    "duration": 0,
    "start_time": "2024-10-02T04:44:55.630Z"
   },
   {
    "duration": 0,
    "start_time": "2024-10-02T04:44:55.631Z"
   },
   {
    "duration": 0,
    "start_time": "2024-10-02T04:44:55.631Z"
   },
   {
    "duration": 0,
    "start_time": "2024-10-02T04:44:55.633Z"
   },
   {
    "duration": 0,
    "start_time": "2024-10-02T04:44:55.634Z"
   },
   {
    "duration": 0,
    "start_time": "2024-10-02T04:44:55.635Z"
   },
   {
    "duration": 0,
    "start_time": "2024-10-02T04:44:55.637Z"
   },
   {
    "duration": 0,
    "start_time": "2024-10-02T04:44:55.639Z"
   },
   {
    "duration": 0,
    "start_time": "2024-10-02T04:44:55.640Z"
   },
   {
    "duration": 0,
    "start_time": "2024-10-02T04:44:55.641Z"
   },
   {
    "duration": 24,
    "start_time": "2024-10-02T04:45:57.620Z"
   },
   {
    "duration": 543,
    "start_time": "2024-10-02T04:46:34.390Z"
   },
   {
    "duration": 6,
    "start_time": "2024-10-02T04:46:34.935Z"
   },
   {
    "duration": 44,
    "start_time": "2024-10-02T04:46:34.945Z"
   },
   {
    "duration": 39,
    "start_time": "2024-10-02T04:46:34.991Z"
   },
   {
    "duration": 9,
    "start_time": "2024-10-02T04:46:35.032Z"
   },
   {
    "duration": 9,
    "start_time": "2024-10-02T04:46:35.042Z"
   },
   {
    "duration": 7,
    "start_time": "2024-10-02T04:46:35.053Z"
   },
   {
    "duration": 892,
    "start_time": "2024-10-02T04:46:35.061Z"
   },
   {
    "duration": 0,
    "start_time": "2024-10-02T04:46:35.957Z"
   },
   {
    "duration": 0,
    "start_time": "2024-10-02T04:46:35.958Z"
   },
   {
    "duration": 0,
    "start_time": "2024-10-02T04:46:35.959Z"
   },
   {
    "duration": 0,
    "start_time": "2024-10-02T04:46:35.960Z"
   },
   {
    "duration": 0,
    "start_time": "2024-10-02T04:46:35.961Z"
   },
   {
    "duration": 0,
    "start_time": "2024-10-02T04:46:35.962Z"
   },
   {
    "duration": 0,
    "start_time": "2024-10-02T04:46:35.965Z"
   },
   {
    "duration": 1,
    "start_time": "2024-10-02T04:46:35.965Z"
   },
   {
    "duration": 0,
    "start_time": "2024-10-02T04:46:35.967Z"
   },
   {
    "duration": 0,
    "start_time": "2024-10-02T04:46:35.967Z"
   },
   {
    "duration": 0,
    "start_time": "2024-10-02T04:46:35.969Z"
   },
   {
    "duration": 0,
    "start_time": "2024-10-02T04:46:35.969Z"
   },
   {
    "duration": 0,
    "start_time": "2024-10-02T04:46:35.970Z"
   },
   {
    "duration": 0,
    "start_time": "2024-10-02T04:46:35.972Z"
   },
   {
    "duration": 0,
    "start_time": "2024-10-02T04:46:35.973Z"
   },
   {
    "duration": 0,
    "start_time": "2024-10-02T04:46:35.974Z"
   },
   {
    "duration": 0,
    "start_time": "2024-10-02T04:46:35.975Z"
   },
   {
    "duration": 0,
    "start_time": "2024-10-02T04:46:35.976Z"
   },
   {
    "duration": 0,
    "start_time": "2024-10-02T04:46:35.977Z"
   },
   {
    "duration": 0,
    "start_time": "2024-10-02T04:46:36.010Z"
   },
   {
    "duration": 0,
    "start_time": "2024-10-02T04:46:36.011Z"
   },
   {
    "duration": 0,
    "start_time": "2024-10-02T04:46:36.013Z"
   },
   {
    "duration": 0,
    "start_time": "2024-10-02T04:46:36.014Z"
   },
   {
    "duration": 0,
    "start_time": "2024-10-02T04:46:36.015Z"
   },
   {
    "duration": 0,
    "start_time": "2024-10-02T04:46:36.016Z"
   },
   {
    "duration": 0,
    "start_time": "2024-10-02T04:46:36.018Z"
   },
   {
    "duration": 0,
    "start_time": "2024-10-02T04:46:36.019Z"
   },
   {
    "duration": 0,
    "start_time": "2024-10-02T04:46:36.020Z"
   },
   {
    "duration": 0,
    "start_time": "2024-10-02T04:46:36.021Z"
   },
   {
    "duration": 0,
    "start_time": "2024-10-02T04:46:36.022Z"
   },
   {
    "duration": 0,
    "start_time": "2024-10-02T04:46:36.023Z"
   },
   {
    "duration": 0,
    "start_time": "2024-10-02T04:46:36.024Z"
   },
   {
    "duration": 0,
    "start_time": "2024-10-02T04:46:36.025Z"
   },
   {
    "duration": 0,
    "start_time": "2024-10-02T04:46:36.026Z"
   },
   {
    "duration": 0,
    "start_time": "2024-10-02T04:46:36.027Z"
   },
   {
    "duration": 0,
    "start_time": "2024-10-02T04:46:36.028Z"
   },
   {
    "duration": 0,
    "start_time": "2024-10-02T04:46:36.029Z"
   },
   {
    "duration": 0,
    "start_time": "2024-10-02T04:46:36.030Z"
   },
   {
    "duration": 0,
    "start_time": "2024-10-02T04:46:36.031Z"
   },
   {
    "duration": 0,
    "start_time": "2024-10-02T04:46:36.032Z"
   },
   {
    "duration": 0,
    "start_time": "2024-10-02T04:46:36.033Z"
   },
   {
    "duration": 0,
    "start_time": "2024-10-02T04:46:36.034Z"
   },
   {
    "duration": 0,
    "start_time": "2024-10-02T04:46:36.037Z"
   },
   {
    "duration": 0,
    "start_time": "2024-10-02T04:46:36.038Z"
   },
   {
    "duration": 0,
    "start_time": "2024-10-02T04:46:36.040Z"
   },
   {
    "duration": 0,
    "start_time": "2024-10-02T04:46:36.041Z"
   },
   {
    "duration": 0,
    "start_time": "2024-10-02T04:46:36.042Z"
   },
   {
    "duration": 0,
    "start_time": "2024-10-02T04:46:36.044Z"
   },
   {
    "duration": 0,
    "start_time": "2024-10-02T04:46:36.045Z"
   },
   {
    "duration": 0,
    "start_time": "2024-10-02T04:46:36.047Z"
   },
   {
    "duration": 0,
    "start_time": "2024-10-02T04:46:36.048Z"
   },
   {
    "duration": 0,
    "start_time": "2024-10-02T04:46:36.049Z"
   },
   {
    "duration": 0,
    "start_time": "2024-10-02T04:46:36.110Z"
   },
   {
    "duration": 0,
    "start_time": "2024-10-02T04:46:36.111Z"
   },
   {
    "duration": 518,
    "start_time": "2024-10-02T04:49:30.320Z"
   },
   {
    "duration": 9,
    "start_time": "2024-10-02T04:49:30.840Z"
   },
   {
    "duration": 44,
    "start_time": "2024-10-02T04:49:30.851Z"
   },
   {
    "duration": 9,
    "start_time": "2024-10-02T04:49:30.909Z"
   },
   {
    "duration": 7,
    "start_time": "2024-10-02T04:49:30.920Z"
   },
   {
    "duration": 5,
    "start_time": "2024-10-02T04:49:30.929Z"
   },
   {
    "duration": 8,
    "start_time": "2024-10-02T04:49:30.935Z"
   },
   {
    "duration": 5,
    "start_time": "2024-10-02T04:49:30.945Z"
   },
   {
    "duration": 7,
    "start_time": "2024-10-02T04:49:30.952Z"
   },
   {
    "duration": 48,
    "start_time": "2024-10-02T04:49:30.963Z"
   },
   {
    "duration": 8,
    "start_time": "2024-10-02T04:49:31.014Z"
   },
   {
    "duration": 7,
    "start_time": "2024-10-02T04:49:31.024Z"
   },
   {
    "duration": 9,
    "start_time": "2024-10-02T04:49:31.033Z"
   },
   {
    "duration": 333,
    "start_time": "2024-10-02T04:49:31.044Z"
   },
   {
    "duration": 277,
    "start_time": "2024-10-02T04:49:31.378Z"
   },
   {
    "duration": 0,
    "start_time": "2024-10-02T04:49:31.658Z"
   },
   {
    "duration": 0,
    "start_time": "2024-10-02T04:49:31.659Z"
   },
   {
    "duration": 0,
    "start_time": "2024-10-02T04:49:31.660Z"
   },
   {
    "duration": 0,
    "start_time": "2024-10-02T04:49:31.661Z"
   },
   {
    "duration": 0,
    "start_time": "2024-10-02T04:49:31.662Z"
   },
   {
    "duration": 0,
    "start_time": "2024-10-02T04:49:31.663Z"
   },
   {
    "duration": 0,
    "start_time": "2024-10-02T04:49:31.664Z"
   },
   {
    "duration": 0,
    "start_time": "2024-10-02T04:49:31.666Z"
   },
   {
    "duration": 0,
    "start_time": "2024-10-02T04:49:31.668Z"
   },
   {
    "duration": 0,
    "start_time": "2024-10-02T04:49:31.669Z"
   },
   {
    "duration": 0,
    "start_time": "2024-10-02T04:49:31.671Z"
   },
   {
    "duration": 0,
    "start_time": "2024-10-02T04:49:31.672Z"
   },
   {
    "duration": 0,
    "start_time": "2024-10-02T04:49:31.674Z"
   },
   {
    "duration": 0,
    "start_time": "2024-10-02T04:49:31.675Z"
   },
   {
    "duration": 0,
    "start_time": "2024-10-02T04:49:31.676Z"
   },
   {
    "duration": 0,
    "start_time": "2024-10-02T04:49:31.677Z"
   },
   {
    "duration": 0,
    "start_time": "2024-10-02T04:49:31.678Z"
   },
   {
    "duration": 0,
    "start_time": "2024-10-02T04:49:31.679Z"
   },
   {
    "duration": 0,
    "start_time": "2024-10-02T04:49:31.708Z"
   },
   {
    "duration": 0,
    "start_time": "2024-10-02T04:49:31.710Z"
   },
   {
    "duration": 0,
    "start_time": "2024-10-02T04:49:31.712Z"
   },
   {
    "duration": 0,
    "start_time": "2024-10-02T04:49:31.713Z"
   },
   {
    "duration": 0,
    "start_time": "2024-10-02T04:49:31.714Z"
   },
   {
    "duration": 0,
    "start_time": "2024-10-02T04:49:31.715Z"
   },
   {
    "duration": 0,
    "start_time": "2024-10-02T04:49:31.716Z"
   },
   {
    "duration": 0,
    "start_time": "2024-10-02T04:49:31.716Z"
   },
   {
    "duration": 0,
    "start_time": "2024-10-02T04:49:31.717Z"
   },
   {
    "duration": 0,
    "start_time": "2024-10-02T04:49:31.718Z"
   },
   {
    "duration": 0,
    "start_time": "2024-10-02T04:49:31.719Z"
   },
   {
    "duration": 0,
    "start_time": "2024-10-02T04:49:31.720Z"
   },
   {
    "duration": 0,
    "start_time": "2024-10-02T04:49:31.721Z"
   },
   {
    "duration": 0,
    "start_time": "2024-10-02T04:49:31.722Z"
   },
   {
    "duration": 0,
    "start_time": "2024-10-02T04:49:31.723Z"
   },
   {
    "duration": 0,
    "start_time": "2024-10-02T04:49:31.724Z"
   },
   {
    "duration": 0,
    "start_time": "2024-10-02T04:49:31.725Z"
   },
   {
    "duration": 0,
    "start_time": "2024-10-02T04:49:31.727Z"
   },
   {
    "duration": 0,
    "start_time": "2024-10-02T04:49:31.728Z"
   },
   {
    "duration": 0,
    "start_time": "2024-10-02T04:49:31.729Z"
   },
   {
    "duration": 0,
    "start_time": "2024-10-02T04:49:31.731Z"
   },
   {
    "duration": 0,
    "start_time": "2024-10-02T04:49:31.732Z"
   },
   {
    "duration": 0,
    "start_time": "2024-10-02T04:49:31.734Z"
   },
   {
    "duration": 0,
    "start_time": "2024-10-02T04:49:31.735Z"
   },
   {
    "duration": 0,
    "start_time": "2024-10-02T04:49:31.736Z"
   },
   {
    "duration": 0,
    "start_time": "2024-10-02T04:49:31.737Z"
   },
   {
    "duration": 0,
    "start_time": "2024-10-02T04:49:31.738Z"
   },
   {
    "duration": 0,
    "start_time": "2024-10-02T04:49:31.740Z"
   },
   {
    "duration": 0,
    "start_time": "2024-10-02T04:49:31.741Z"
   },
   {
    "duration": 11,
    "start_time": "2024-10-02T04:52:47.892Z"
   },
   {
    "duration": 551,
    "start_time": "2024-10-02T04:55:33.479Z"
   },
   {
    "duration": 9,
    "start_time": "2024-10-02T04:55:34.033Z"
   },
   {
    "duration": 44,
    "start_time": "2024-10-02T04:55:34.044Z"
   },
   {
    "duration": 24,
    "start_time": "2024-10-02T04:55:34.091Z"
   },
   {
    "duration": 7,
    "start_time": "2024-10-02T04:55:34.118Z"
   },
   {
    "duration": 5,
    "start_time": "2024-10-02T04:55:34.127Z"
   },
   {
    "duration": 6,
    "start_time": "2024-10-02T04:55:34.134Z"
   },
   {
    "duration": 9,
    "start_time": "2024-10-02T04:55:34.141Z"
   },
   {
    "duration": 5,
    "start_time": "2024-10-02T04:55:34.151Z"
   },
   {
    "duration": 6,
    "start_time": "2024-10-02T04:55:34.158Z"
   },
   {
    "duration": 7,
    "start_time": "2024-10-02T04:55:34.209Z"
   },
   {
    "duration": 6,
    "start_time": "2024-10-02T04:55:34.218Z"
   },
   {
    "duration": 7,
    "start_time": "2024-10-02T04:55:34.225Z"
   },
   {
    "duration": 9,
    "start_time": "2024-10-02T04:55:34.236Z"
   },
   {
    "duration": 326,
    "start_time": "2024-10-02T04:55:34.246Z"
   },
   {
    "duration": 285,
    "start_time": "2024-10-02T04:55:34.574Z"
   },
   {
    "duration": 0,
    "start_time": "2024-10-02T04:55:34.862Z"
   },
   {
    "duration": 0,
    "start_time": "2024-10-02T04:55:34.863Z"
   },
   {
    "duration": 0,
    "start_time": "2024-10-02T04:55:34.864Z"
   },
   {
    "duration": 0,
    "start_time": "2024-10-02T04:55:34.865Z"
   },
   {
    "duration": 0,
    "start_time": "2024-10-02T04:55:34.867Z"
   },
   {
    "duration": 0,
    "start_time": "2024-10-02T04:55:34.869Z"
   },
   {
    "duration": 0,
    "start_time": "2024-10-02T04:55:34.870Z"
   },
   {
    "duration": 0,
    "start_time": "2024-10-02T04:55:34.871Z"
   },
   {
    "duration": 0,
    "start_time": "2024-10-02T04:55:34.872Z"
   },
   {
    "duration": 0,
    "start_time": "2024-10-02T04:55:34.873Z"
   },
   {
    "duration": 0,
    "start_time": "2024-10-02T04:55:34.874Z"
   },
   {
    "duration": 0,
    "start_time": "2024-10-02T04:55:34.875Z"
   },
   {
    "duration": 0,
    "start_time": "2024-10-02T04:55:34.876Z"
   },
   {
    "duration": 0,
    "start_time": "2024-10-02T04:55:34.877Z"
   },
   {
    "duration": 0,
    "start_time": "2024-10-02T04:55:34.879Z"
   },
   {
    "duration": 0,
    "start_time": "2024-10-02T04:55:34.880Z"
   },
   {
    "duration": 0,
    "start_time": "2024-10-02T04:55:34.881Z"
   },
   {
    "duration": 0,
    "start_time": "2024-10-02T04:55:34.908Z"
   },
   {
    "duration": 0,
    "start_time": "2024-10-02T04:55:34.910Z"
   },
   {
    "duration": 0,
    "start_time": "2024-10-02T04:55:34.911Z"
   },
   {
    "duration": 0,
    "start_time": "2024-10-02T04:55:34.912Z"
   },
   {
    "duration": 0,
    "start_time": "2024-10-02T04:55:34.913Z"
   },
   {
    "duration": 0,
    "start_time": "2024-10-02T04:55:34.915Z"
   },
   {
    "duration": 0,
    "start_time": "2024-10-02T04:55:34.916Z"
   },
   {
    "duration": 0,
    "start_time": "2024-10-02T04:55:34.917Z"
   },
   {
    "duration": 0,
    "start_time": "2024-10-02T04:55:34.918Z"
   },
   {
    "duration": 0,
    "start_time": "2024-10-02T04:55:34.919Z"
   },
   {
    "duration": 0,
    "start_time": "2024-10-02T04:55:34.920Z"
   },
   {
    "duration": 0,
    "start_time": "2024-10-02T04:55:34.921Z"
   },
   {
    "duration": 0,
    "start_time": "2024-10-02T04:55:34.922Z"
   },
   {
    "duration": 0,
    "start_time": "2024-10-02T04:55:34.923Z"
   },
   {
    "duration": 0,
    "start_time": "2024-10-02T04:55:34.925Z"
   },
   {
    "duration": 0,
    "start_time": "2024-10-02T04:55:34.926Z"
   },
   {
    "duration": 0,
    "start_time": "2024-10-02T04:55:34.926Z"
   },
   {
    "duration": 0,
    "start_time": "2024-10-02T04:55:34.927Z"
   },
   {
    "duration": 0,
    "start_time": "2024-10-02T04:55:34.929Z"
   },
   {
    "duration": 0,
    "start_time": "2024-10-02T04:55:34.930Z"
   },
   {
    "duration": 0,
    "start_time": "2024-10-02T04:55:34.930Z"
   },
   {
    "duration": 0,
    "start_time": "2024-10-02T04:55:34.931Z"
   },
   {
    "duration": 0,
    "start_time": "2024-10-02T04:55:34.932Z"
   },
   {
    "duration": 0,
    "start_time": "2024-10-02T04:55:34.933Z"
   },
   {
    "duration": 0,
    "start_time": "2024-10-02T04:55:34.934Z"
   },
   {
    "duration": 0,
    "start_time": "2024-10-02T04:55:34.935Z"
   },
   {
    "duration": 0,
    "start_time": "2024-10-02T04:55:34.936Z"
   },
   {
    "duration": 0,
    "start_time": "2024-10-02T04:55:34.937Z"
   },
   {
    "duration": 0,
    "start_time": "2024-10-02T04:55:34.938Z"
   },
   {
    "duration": 0,
    "start_time": "2024-10-02T04:55:34.939Z"
   },
   {
    "duration": 494,
    "start_time": "2024-10-02T04:59:51.750Z"
   },
   {
    "duration": 6,
    "start_time": "2024-10-02T04:59:52.247Z"
   },
   {
    "duration": 56,
    "start_time": "2024-10-02T04:59:52.254Z"
   },
   {
    "duration": 9,
    "start_time": "2024-10-02T04:59:52.312Z"
   },
   {
    "duration": 7,
    "start_time": "2024-10-02T04:59:52.323Z"
   },
   {
    "duration": 5,
    "start_time": "2024-10-02T04:59:52.331Z"
   },
   {
    "duration": 5,
    "start_time": "2024-10-02T04:59:52.338Z"
   },
   {
    "duration": 7,
    "start_time": "2024-10-02T04:59:52.345Z"
   },
   {
    "duration": 5,
    "start_time": "2024-10-02T04:59:52.354Z"
   },
   {
    "duration": 51,
    "start_time": "2024-10-02T04:59:52.362Z"
   },
   {
    "duration": 5,
    "start_time": "2024-10-02T04:59:52.415Z"
   },
   {
    "duration": 5,
    "start_time": "2024-10-02T04:59:52.422Z"
   },
   {
    "duration": 8,
    "start_time": "2024-10-02T04:59:52.429Z"
   },
   {
    "duration": 10,
    "start_time": "2024-10-02T04:59:52.438Z"
   },
   {
    "duration": 365,
    "start_time": "2024-10-02T04:59:52.450Z"
   },
   {
    "duration": 278,
    "start_time": "2024-10-02T04:59:52.817Z"
   },
   {
    "duration": 0,
    "start_time": "2024-10-02T04:59:53.099Z"
   },
   {
    "duration": 0,
    "start_time": "2024-10-02T04:59:53.100Z"
   },
   {
    "duration": 0,
    "start_time": "2024-10-02T04:59:53.101Z"
   },
   {
    "duration": 0,
    "start_time": "2024-10-02T04:59:53.108Z"
   },
   {
    "duration": 0,
    "start_time": "2024-10-02T04:59:53.110Z"
   },
   {
    "duration": 0,
    "start_time": "2024-10-02T04:59:53.112Z"
   },
   {
    "duration": 0,
    "start_time": "2024-10-02T04:59:53.113Z"
   },
   {
    "duration": 0,
    "start_time": "2024-10-02T04:59:53.114Z"
   },
   {
    "duration": 0,
    "start_time": "2024-10-02T04:59:53.116Z"
   },
   {
    "duration": 0,
    "start_time": "2024-10-02T04:59:53.118Z"
   },
   {
    "duration": 0,
    "start_time": "2024-10-02T04:59:53.119Z"
   },
   {
    "duration": 0,
    "start_time": "2024-10-02T04:59:53.120Z"
   },
   {
    "duration": 0,
    "start_time": "2024-10-02T04:59:53.122Z"
   },
   {
    "duration": 0,
    "start_time": "2024-10-02T04:59:53.123Z"
   },
   {
    "duration": 0,
    "start_time": "2024-10-02T04:59:53.125Z"
   },
   {
    "duration": 0,
    "start_time": "2024-10-02T04:59:53.127Z"
   },
   {
    "duration": 0,
    "start_time": "2024-10-02T04:59:53.130Z"
   },
   {
    "duration": 0,
    "start_time": "2024-10-02T04:59:53.131Z"
   },
   {
    "duration": 0,
    "start_time": "2024-10-02T04:59:53.133Z"
   },
   {
    "duration": 0,
    "start_time": "2024-10-02T04:59:53.134Z"
   },
   {
    "duration": 0,
    "start_time": "2024-10-02T04:59:53.136Z"
   },
   {
    "duration": 0,
    "start_time": "2024-10-02T04:59:53.138Z"
   },
   {
    "duration": 0,
    "start_time": "2024-10-02T04:59:53.139Z"
   },
   {
    "duration": 0,
    "start_time": "2024-10-02T04:59:53.140Z"
   },
   {
    "duration": 0,
    "start_time": "2024-10-02T04:59:53.141Z"
   },
   {
    "duration": 0,
    "start_time": "2024-10-02T04:59:53.142Z"
   },
   {
    "duration": 0,
    "start_time": "2024-10-02T04:59:53.144Z"
   },
   {
    "duration": 0,
    "start_time": "2024-10-02T04:59:53.145Z"
   },
   {
    "duration": 0,
    "start_time": "2024-10-02T04:59:53.147Z"
   },
   {
    "duration": 0,
    "start_time": "2024-10-02T04:59:53.148Z"
   },
   {
    "duration": 0,
    "start_time": "2024-10-02T04:59:53.209Z"
   },
   {
    "duration": 0,
    "start_time": "2024-10-02T04:59:53.211Z"
   },
   {
    "duration": 0,
    "start_time": "2024-10-02T04:59:53.212Z"
   },
   {
    "duration": 0,
    "start_time": "2024-10-02T04:59:53.214Z"
   },
   {
    "duration": 0,
    "start_time": "2024-10-02T04:59:53.215Z"
   },
   {
    "duration": 0,
    "start_time": "2024-10-02T04:59:53.217Z"
   },
   {
    "duration": 0,
    "start_time": "2024-10-02T04:59:53.219Z"
   },
   {
    "duration": 0,
    "start_time": "2024-10-02T04:59:53.220Z"
   },
   {
    "duration": 0,
    "start_time": "2024-10-02T04:59:53.222Z"
   },
   {
    "duration": 0,
    "start_time": "2024-10-02T04:59:53.223Z"
   },
   {
    "duration": 0,
    "start_time": "2024-10-02T04:59:53.224Z"
   },
   {
    "duration": 0,
    "start_time": "2024-10-02T04:59:53.226Z"
   },
   {
    "duration": 0,
    "start_time": "2024-10-02T04:59:53.227Z"
   },
   {
    "duration": 0,
    "start_time": "2024-10-02T04:59:53.228Z"
   },
   {
    "duration": 0,
    "start_time": "2024-10-02T04:59:53.229Z"
   },
   {
    "duration": 0,
    "start_time": "2024-10-02T04:59:53.230Z"
   },
   {
    "duration": 0,
    "start_time": "2024-10-02T04:59:53.231Z"
   },
   {
    "duration": 24,
    "start_time": "2024-10-02T05:01:15.805Z"
   },
   {
    "duration": 22,
    "start_time": "2024-10-02T05:01:22.992Z"
   },
   {
    "duration": 543,
    "start_time": "2024-10-02T05:01:28.592Z"
   },
   {
    "duration": 7,
    "start_time": "2024-10-02T05:01:29.138Z"
   },
   {
    "duration": 44,
    "start_time": "2024-10-02T05:01:29.146Z"
   },
   {
    "duration": 212,
    "start_time": "2024-10-02T05:01:29.192Z"
   },
   {
    "duration": 0,
    "start_time": "2024-10-02T05:01:29.409Z"
   },
   {
    "duration": 0,
    "start_time": "2024-10-02T05:01:29.410Z"
   },
   {
    "duration": 0,
    "start_time": "2024-10-02T05:01:29.412Z"
   },
   {
    "duration": 0,
    "start_time": "2024-10-02T05:01:29.414Z"
   },
   {
    "duration": 0,
    "start_time": "2024-10-02T05:01:29.415Z"
   },
   {
    "duration": 0,
    "start_time": "2024-10-02T05:01:29.417Z"
   },
   {
    "duration": 0,
    "start_time": "2024-10-02T05:01:29.418Z"
   },
   {
    "duration": 0,
    "start_time": "2024-10-02T05:01:29.419Z"
   },
   {
    "duration": 0,
    "start_time": "2024-10-02T05:01:29.420Z"
   },
   {
    "duration": 0,
    "start_time": "2024-10-02T05:01:29.421Z"
   },
   {
    "duration": 0,
    "start_time": "2024-10-02T05:01:29.422Z"
   },
   {
    "duration": 0,
    "start_time": "2024-10-02T05:01:29.423Z"
   },
   {
    "duration": 0,
    "start_time": "2024-10-02T05:01:29.424Z"
   },
   {
    "duration": 0,
    "start_time": "2024-10-02T05:01:29.425Z"
   },
   {
    "duration": 0,
    "start_time": "2024-10-02T05:01:29.426Z"
   },
   {
    "duration": 0,
    "start_time": "2024-10-02T05:01:29.427Z"
   },
   {
    "duration": 0,
    "start_time": "2024-10-02T05:01:29.428Z"
   },
   {
    "duration": 0,
    "start_time": "2024-10-02T05:01:29.429Z"
   },
   {
    "duration": 0,
    "start_time": "2024-10-02T05:01:29.431Z"
   },
   {
    "duration": 0,
    "start_time": "2024-10-02T05:01:29.431Z"
   },
   {
    "duration": 0,
    "start_time": "2024-10-02T05:01:29.432Z"
   },
   {
    "duration": 0,
    "start_time": "2024-10-02T05:01:29.433Z"
   },
   {
    "duration": 0,
    "start_time": "2024-10-02T05:01:29.434Z"
   },
   {
    "duration": 0,
    "start_time": "2024-10-02T05:01:29.435Z"
   },
   {
    "duration": 0,
    "start_time": "2024-10-02T05:01:29.436Z"
   },
   {
    "duration": 0,
    "start_time": "2024-10-02T05:01:29.440Z"
   },
   {
    "duration": 0,
    "start_time": "2024-10-02T05:01:29.442Z"
   },
   {
    "duration": 0,
    "start_time": "2024-10-02T05:01:29.443Z"
   },
   {
    "duration": 0,
    "start_time": "2024-10-02T05:01:29.445Z"
   },
   {
    "duration": 0,
    "start_time": "2024-10-02T05:01:29.446Z"
   },
   {
    "duration": 0,
    "start_time": "2024-10-02T05:01:29.448Z"
   },
   {
    "duration": 0,
    "start_time": "2024-10-02T05:01:29.449Z"
   },
   {
    "duration": 0,
    "start_time": "2024-10-02T05:01:29.450Z"
   },
   {
    "duration": 0,
    "start_time": "2024-10-02T05:01:29.452Z"
   },
   {
    "duration": 0,
    "start_time": "2024-10-02T05:01:29.509Z"
   },
   {
    "duration": 0,
    "start_time": "2024-10-02T05:01:29.511Z"
   },
   {
    "duration": 0,
    "start_time": "2024-10-02T05:01:29.513Z"
   },
   {
    "duration": 0,
    "start_time": "2024-10-02T05:01:29.514Z"
   },
   {
    "duration": 0,
    "start_time": "2024-10-02T05:01:29.516Z"
   },
   {
    "duration": 0,
    "start_time": "2024-10-02T05:01:29.517Z"
   },
   {
    "duration": 0,
    "start_time": "2024-10-02T05:01:29.519Z"
   },
   {
    "duration": 0,
    "start_time": "2024-10-02T05:01:29.520Z"
   },
   {
    "duration": 0,
    "start_time": "2024-10-02T05:01:29.522Z"
   },
   {
    "duration": 0,
    "start_time": "2024-10-02T05:01:29.524Z"
   },
   {
    "duration": 0,
    "start_time": "2024-10-02T05:01:29.525Z"
   },
   {
    "duration": 0,
    "start_time": "2024-10-02T05:01:29.526Z"
   },
   {
    "duration": 0,
    "start_time": "2024-10-02T05:01:29.528Z"
   },
   {
    "duration": 0,
    "start_time": "2024-10-02T05:01:29.530Z"
   },
   {
    "duration": 0,
    "start_time": "2024-10-02T05:01:29.531Z"
   },
   {
    "duration": 0,
    "start_time": "2024-10-02T05:01:29.533Z"
   },
   {
    "duration": 0,
    "start_time": "2024-10-02T05:01:29.533Z"
   },
   {
    "duration": 0,
    "start_time": "2024-10-02T05:01:29.534Z"
   },
   {
    "duration": 0,
    "start_time": "2024-10-02T05:01:29.535Z"
   },
   {
    "duration": 0,
    "start_time": "2024-10-02T05:01:29.536Z"
   },
   {
    "duration": 0,
    "start_time": "2024-10-02T05:01:29.537Z"
   },
   {
    "duration": 0,
    "start_time": "2024-10-02T05:01:29.538Z"
   },
   {
    "duration": 0,
    "start_time": "2024-10-02T05:01:29.539Z"
   },
   {
    "duration": 0,
    "start_time": "2024-10-02T05:01:29.540Z"
   },
   {
    "duration": 0,
    "start_time": "2024-10-02T05:01:29.541Z"
   },
   {
    "duration": 10,
    "start_time": "2024-10-02T05:02:13.552Z"
   },
   {
    "duration": 5,
    "start_time": "2024-10-02T05:10:14.906Z"
   },
   {
    "duration": 5,
    "start_time": "2024-10-02T05:10:42.310Z"
   },
   {
    "duration": 5,
    "start_time": "2024-10-02T05:11:15.783Z"
   },
   {
    "duration": 7,
    "start_time": "2024-10-02T05:11:19.305Z"
   },
   {
    "duration": 5,
    "start_time": "2024-10-02T05:11:23.851Z"
   },
   {
    "duration": 512,
    "start_time": "2024-10-02T05:11:32.050Z"
   },
   {
    "duration": 9,
    "start_time": "2024-10-02T05:11:32.564Z"
   },
   {
    "duration": 56,
    "start_time": "2024-10-02T05:11:32.575Z"
   },
   {
    "duration": 7,
    "start_time": "2024-10-02T05:11:32.633Z"
   },
   {
    "duration": 0,
    "start_time": "2024-10-02T05:11:32.643Z"
   },
   {
    "duration": 0,
    "start_time": "2024-10-02T05:11:32.644Z"
   },
   {
    "duration": 0,
    "start_time": "2024-10-02T05:11:32.645Z"
   },
   {
    "duration": 0,
    "start_time": "2024-10-02T05:11:32.646Z"
   },
   {
    "duration": 0,
    "start_time": "2024-10-02T05:11:32.647Z"
   },
   {
    "duration": 0,
    "start_time": "2024-10-02T05:11:32.648Z"
   },
   {
    "duration": 0,
    "start_time": "2024-10-02T05:11:32.649Z"
   },
   {
    "duration": 0,
    "start_time": "2024-10-02T05:11:32.651Z"
   },
   {
    "duration": 0,
    "start_time": "2024-10-02T05:11:32.652Z"
   },
   {
    "duration": 0,
    "start_time": "2024-10-02T05:11:32.654Z"
   },
   {
    "duration": 0,
    "start_time": "2024-10-02T05:11:32.655Z"
   },
   {
    "duration": 0,
    "start_time": "2024-10-02T05:11:32.656Z"
   },
   {
    "duration": 0,
    "start_time": "2024-10-02T05:11:32.657Z"
   },
   {
    "duration": 0,
    "start_time": "2024-10-02T05:11:32.658Z"
   },
   {
    "duration": 0,
    "start_time": "2024-10-02T05:11:32.659Z"
   },
   {
    "duration": 0,
    "start_time": "2024-10-02T05:11:32.659Z"
   },
   {
    "duration": 0,
    "start_time": "2024-10-02T05:11:32.660Z"
   },
   {
    "duration": 0,
    "start_time": "2024-10-02T05:11:32.661Z"
   },
   {
    "duration": 0,
    "start_time": "2024-10-02T05:11:32.662Z"
   },
   {
    "duration": 0,
    "start_time": "2024-10-02T05:11:32.663Z"
   },
   {
    "duration": 0,
    "start_time": "2024-10-02T05:11:32.665Z"
   },
   {
    "duration": 0,
    "start_time": "2024-10-02T05:11:32.666Z"
   },
   {
    "duration": 0,
    "start_time": "2024-10-02T05:11:32.667Z"
   },
   {
    "duration": 0,
    "start_time": "2024-10-02T05:11:32.668Z"
   },
   {
    "duration": 0,
    "start_time": "2024-10-02T05:11:32.709Z"
   },
   {
    "duration": 0,
    "start_time": "2024-10-02T05:11:32.710Z"
   },
   {
    "duration": 0,
    "start_time": "2024-10-02T05:11:32.711Z"
   },
   {
    "duration": 0,
    "start_time": "2024-10-02T05:11:32.721Z"
   },
   {
    "duration": 0,
    "start_time": "2024-10-02T05:11:32.722Z"
   },
   {
    "duration": 0,
    "start_time": "2024-10-02T05:11:32.723Z"
   },
   {
    "duration": 0,
    "start_time": "2024-10-02T05:11:32.724Z"
   },
   {
    "duration": 0,
    "start_time": "2024-10-02T05:11:32.725Z"
   },
   {
    "duration": 0,
    "start_time": "2024-10-02T05:11:32.726Z"
   },
   {
    "duration": 0,
    "start_time": "2024-10-02T05:11:32.727Z"
   },
   {
    "duration": 0,
    "start_time": "2024-10-02T05:11:32.729Z"
   },
   {
    "duration": 0,
    "start_time": "2024-10-02T05:11:32.730Z"
   },
   {
    "duration": 0,
    "start_time": "2024-10-02T05:11:32.734Z"
   },
   {
    "duration": 0,
    "start_time": "2024-10-02T05:11:32.735Z"
   },
   {
    "duration": 0,
    "start_time": "2024-10-02T05:11:32.736Z"
   },
   {
    "duration": 0,
    "start_time": "2024-10-02T05:11:32.737Z"
   },
   {
    "duration": 0,
    "start_time": "2024-10-02T05:11:32.738Z"
   },
   {
    "duration": 0,
    "start_time": "2024-10-02T05:11:32.739Z"
   },
   {
    "duration": 0,
    "start_time": "2024-10-02T05:11:32.740Z"
   },
   {
    "duration": 0,
    "start_time": "2024-10-02T05:11:32.741Z"
   },
   {
    "duration": 0,
    "start_time": "2024-10-02T05:11:32.743Z"
   },
   {
    "duration": 0,
    "start_time": "2024-10-02T05:11:32.744Z"
   },
   {
    "duration": 0,
    "start_time": "2024-10-02T05:11:32.745Z"
   },
   {
    "duration": 0,
    "start_time": "2024-10-02T05:11:32.746Z"
   },
   {
    "duration": 0,
    "start_time": "2024-10-02T05:11:32.748Z"
   },
   {
    "duration": 0,
    "start_time": "2024-10-02T05:11:32.750Z"
   },
   {
    "duration": 0,
    "start_time": "2024-10-02T05:11:32.751Z"
   },
   {
    "duration": 0,
    "start_time": "2024-10-02T05:11:32.752Z"
   },
   {
    "duration": 0,
    "start_time": "2024-10-02T05:11:32.810Z"
   },
   {
    "duration": 0,
    "start_time": "2024-10-02T05:11:32.811Z"
   },
   {
    "duration": 0,
    "start_time": "2024-10-02T05:11:32.812Z"
   },
   {
    "duration": 0,
    "start_time": "2024-10-02T05:11:32.814Z"
   },
   {
    "duration": 0,
    "start_time": "2024-10-02T05:11:32.815Z"
   },
   {
    "duration": 0,
    "start_time": "2024-10-02T05:11:32.816Z"
   },
   {
    "duration": 0,
    "start_time": "2024-10-02T05:11:32.817Z"
   },
   {
    "duration": 42,
    "start_time": "2024-10-02T05:12:06.504Z"
   },
   {
    "duration": 6,
    "start_time": "2024-10-02T05:12:11.694Z"
   },
   {
    "duration": 10,
    "start_time": "2024-10-02T05:13:51.053Z"
   },
   {
    "duration": 498,
    "start_time": "2024-10-02T05:15:35.234Z"
   },
   {
    "duration": 6,
    "start_time": "2024-10-02T05:15:35.734Z"
   },
   {
    "duration": 44,
    "start_time": "2024-10-02T05:15:35.742Z"
   },
   {
    "duration": 21,
    "start_time": "2024-10-02T05:15:35.789Z"
   },
   {
    "duration": 24,
    "start_time": "2024-10-02T05:15:35.812Z"
   },
   {
    "duration": 9,
    "start_time": "2024-10-02T05:15:35.837Z"
   },
   {
    "duration": 8,
    "start_time": "2024-10-02T05:15:35.847Z"
   },
   {
    "duration": 514,
    "start_time": "2024-10-02T05:15:55.142Z"
   },
   {
    "duration": 6,
    "start_time": "2024-10-02T05:15:55.659Z"
   },
   {
    "duration": 53,
    "start_time": "2024-10-02T05:15:55.667Z"
   },
   {
    "duration": 9,
    "start_time": "2024-10-02T05:15:55.722Z"
   },
   {
    "duration": 27,
    "start_time": "2024-10-02T05:15:55.733Z"
   },
   {
    "duration": 9,
    "start_time": "2024-10-02T05:15:55.763Z"
   },
   {
    "duration": 41,
    "start_time": "2024-10-02T05:15:55.774Z"
   },
   {
    "duration": 526,
    "start_time": "2024-10-02T05:18:19.134Z"
   },
   {
    "duration": 6,
    "start_time": "2024-10-02T05:18:19.662Z"
   },
   {
    "duration": 51,
    "start_time": "2024-10-02T05:18:19.669Z"
   },
   {
    "duration": 10,
    "start_time": "2024-10-02T05:18:19.722Z"
   },
   {
    "duration": 33,
    "start_time": "2024-10-02T05:18:19.734Z"
   },
   {
    "duration": 11,
    "start_time": "2024-10-02T05:18:19.769Z"
   },
   {
    "duration": 8,
    "start_time": "2024-10-02T05:18:19.810Z"
   },
   {
    "duration": 11,
    "start_time": "2024-10-02T05:18:19.820Z"
   },
   {
    "duration": 0,
    "start_time": "2024-10-02T05:18:19.834Z"
   },
   {
    "duration": 0,
    "start_time": "2024-10-02T05:18:19.835Z"
   },
   {
    "duration": 0,
    "start_time": "2024-10-02T05:18:19.837Z"
   },
   {
    "duration": 0,
    "start_time": "2024-10-02T05:18:19.838Z"
   },
   {
    "duration": 0,
    "start_time": "2024-10-02T05:18:19.839Z"
   },
   {
    "duration": 0,
    "start_time": "2024-10-02T05:18:19.840Z"
   },
   {
    "duration": 0,
    "start_time": "2024-10-02T05:18:19.842Z"
   },
   {
    "duration": 0,
    "start_time": "2024-10-02T05:18:19.844Z"
   },
   {
    "duration": 0,
    "start_time": "2024-10-02T05:18:19.845Z"
   },
   {
    "duration": 0,
    "start_time": "2024-10-02T05:18:19.847Z"
   },
   {
    "duration": 0,
    "start_time": "2024-10-02T05:18:19.848Z"
   },
   {
    "duration": 0,
    "start_time": "2024-10-02T05:18:19.850Z"
   },
   {
    "duration": 0,
    "start_time": "2024-10-02T05:18:19.851Z"
   },
   {
    "duration": 0,
    "start_time": "2024-10-02T05:18:19.853Z"
   },
   {
    "duration": 0,
    "start_time": "2024-10-02T05:18:19.854Z"
   },
   {
    "duration": 0,
    "start_time": "2024-10-02T05:18:19.856Z"
   },
   {
    "duration": 0,
    "start_time": "2024-10-02T05:18:19.858Z"
   },
   {
    "duration": 0,
    "start_time": "2024-10-02T05:18:19.859Z"
   },
   {
    "duration": 0,
    "start_time": "2024-10-02T05:18:19.909Z"
   },
   {
    "duration": 0,
    "start_time": "2024-10-02T05:18:19.911Z"
   },
   {
    "duration": 0,
    "start_time": "2024-10-02T05:18:19.912Z"
   },
   {
    "duration": 0,
    "start_time": "2024-10-02T05:18:19.913Z"
   },
   {
    "duration": 0,
    "start_time": "2024-10-02T05:18:19.915Z"
   },
   {
    "duration": 0,
    "start_time": "2024-10-02T05:18:19.916Z"
   },
   {
    "duration": 0,
    "start_time": "2024-10-02T05:18:19.917Z"
   },
   {
    "duration": 0,
    "start_time": "2024-10-02T05:18:19.918Z"
   },
   {
    "duration": 0,
    "start_time": "2024-10-02T05:18:19.920Z"
   },
   {
    "duration": 0,
    "start_time": "2024-10-02T05:18:19.921Z"
   },
   {
    "duration": 0,
    "start_time": "2024-10-02T05:18:19.922Z"
   },
   {
    "duration": 0,
    "start_time": "2024-10-02T05:18:19.923Z"
   },
   {
    "duration": 0,
    "start_time": "2024-10-02T05:18:19.925Z"
   },
   {
    "duration": 0,
    "start_time": "2024-10-02T05:18:19.926Z"
   },
   {
    "duration": 0,
    "start_time": "2024-10-02T05:18:19.928Z"
   },
   {
    "duration": 0,
    "start_time": "2024-10-02T05:18:19.929Z"
   },
   {
    "duration": 0,
    "start_time": "2024-10-02T05:18:19.930Z"
   },
   {
    "duration": 0,
    "start_time": "2024-10-02T05:18:19.931Z"
   },
   {
    "duration": 0,
    "start_time": "2024-10-02T05:18:19.932Z"
   },
   {
    "duration": 0,
    "start_time": "2024-10-02T05:18:19.933Z"
   },
   {
    "duration": 0,
    "start_time": "2024-10-02T05:18:19.935Z"
   },
   {
    "duration": 0,
    "start_time": "2024-10-02T05:18:19.936Z"
   },
   {
    "duration": 0,
    "start_time": "2024-10-02T05:18:19.937Z"
   },
   {
    "duration": 0,
    "start_time": "2024-10-02T05:18:19.938Z"
   },
   {
    "duration": 0,
    "start_time": "2024-10-02T05:18:19.939Z"
   },
   {
    "duration": 0,
    "start_time": "2024-10-02T05:18:19.941Z"
   },
   {
    "duration": 0,
    "start_time": "2024-10-02T05:18:19.942Z"
   },
   {
    "duration": 0,
    "start_time": "2024-10-02T05:18:19.944Z"
   },
   {
    "duration": 0,
    "start_time": "2024-10-02T05:18:19.945Z"
   },
   {
    "duration": 0,
    "start_time": "2024-10-02T05:18:19.947Z"
   },
   {
    "duration": 0,
    "start_time": "2024-10-02T05:18:19.948Z"
   },
   {
    "duration": 0,
    "start_time": "2024-10-02T05:18:20.010Z"
   },
   {
    "duration": 0,
    "start_time": "2024-10-02T05:18:20.012Z"
   },
   {
    "duration": 0,
    "start_time": "2024-10-02T05:18:20.013Z"
   },
   {
    "duration": 0,
    "start_time": "2024-10-02T05:18:20.015Z"
   },
   {
    "duration": 0,
    "start_time": "2024-10-02T05:18:20.016Z"
   },
   {
    "duration": 0,
    "start_time": "2024-10-02T05:18:20.018Z"
   },
   {
    "duration": 0,
    "start_time": "2024-10-02T05:18:20.020Z"
   },
   {
    "duration": 9,
    "start_time": "2024-10-02T05:19:07.773Z"
   },
   {
    "duration": 556,
    "start_time": "2024-10-02T05:19:19.374Z"
   },
   {
    "duration": 6,
    "start_time": "2024-10-02T05:19:19.933Z"
   },
   {
    "duration": 43,
    "start_time": "2024-10-02T05:19:19.941Z"
   },
   {
    "duration": 24,
    "start_time": "2024-10-02T05:19:19.986Z"
   },
   {
    "duration": 27,
    "start_time": "2024-10-02T05:19:20.012Z"
   },
   {
    "duration": 9,
    "start_time": "2024-10-02T05:19:20.041Z"
   },
   {
    "duration": 8,
    "start_time": "2024-10-02T05:19:20.052Z"
   },
   {
    "duration": 1221,
    "start_time": "2024-10-02T05:19:20.061Z"
   },
   {
    "duration": 24,
    "start_time": "2024-10-02T05:19:21.285Z"
   },
   {
    "duration": 35,
    "start_time": "2024-10-02T05:19:21.312Z"
   },
   {
    "duration": 9,
    "start_time": "2024-10-02T05:19:21.348Z"
   },
   {
    "duration": 671,
    "start_time": "2024-10-02T05:19:21.358Z"
   },
   {
    "duration": 9,
    "start_time": "2024-10-02T05:19:22.031Z"
   },
   {
    "duration": 9,
    "start_time": "2024-10-02T05:19:22.042Z"
   },
   {
    "duration": 140867,
    "start_time": "2024-10-02T05:19:22.053Z"
   },
   {
    "duration": 324,
    "start_time": "2024-10-02T05:21:42.921Z"
   },
   {
    "duration": 0,
    "start_time": "2024-10-02T05:21:43.248Z"
   },
   {
    "duration": 0,
    "start_time": "2024-10-02T05:21:43.250Z"
   },
   {
    "duration": 0,
    "start_time": "2024-10-02T05:21:43.252Z"
   },
   {
    "duration": 0,
    "start_time": "2024-10-02T05:21:43.253Z"
   },
   {
    "duration": 0,
    "start_time": "2024-10-02T05:21:43.255Z"
   },
   {
    "duration": 0,
    "start_time": "2024-10-02T05:21:43.257Z"
   },
   {
    "duration": 0,
    "start_time": "2024-10-02T05:21:43.258Z"
   },
   {
    "duration": 0,
    "start_time": "2024-10-02T05:21:43.260Z"
   },
   {
    "duration": 0,
    "start_time": "2024-10-02T05:21:43.261Z"
   },
   {
    "duration": 0,
    "start_time": "2024-10-02T05:21:43.263Z"
   },
   {
    "duration": 0,
    "start_time": "2024-10-02T05:21:43.264Z"
   },
   {
    "duration": 0,
    "start_time": "2024-10-02T05:21:43.266Z"
   },
   {
    "duration": 0,
    "start_time": "2024-10-02T05:21:43.268Z"
   },
   {
    "duration": 0,
    "start_time": "2024-10-02T05:21:43.269Z"
   },
   {
    "duration": 0,
    "start_time": "2024-10-02T05:21:43.270Z"
   },
   {
    "duration": 0,
    "start_time": "2024-10-02T05:21:43.271Z"
   },
   {
    "duration": 0,
    "start_time": "2024-10-02T05:21:43.308Z"
   },
   {
    "duration": 0,
    "start_time": "2024-10-02T05:21:43.309Z"
   },
   {
    "duration": 0,
    "start_time": "2024-10-02T05:21:43.311Z"
   },
   {
    "duration": 0,
    "start_time": "2024-10-02T05:21:43.312Z"
   },
   {
    "duration": 0,
    "start_time": "2024-10-02T05:21:43.312Z"
   },
   {
    "duration": 0,
    "start_time": "2024-10-02T05:21:43.313Z"
   },
   {
    "duration": 0,
    "start_time": "2024-10-02T05:21:43.314Z"
   },
   {
    "duration": 0,
    "start_time": "2024-10-02T05:21:43.315Z"
   },
   {
    "duration": 0,
    "start_time": "2024-10-02T05:21:43.316Z"
   },
   {
    "duration": 0,
    "start_time": "2024-10-02T05:21:43.317Z"
   },
   {
    "duration": 0,
    "start_time": "2024-10-02T05:21:43.320Z"
   },
   {
    "duration": 0,
    "start_time": "2024-10-02T05:21:43.322Z"
   },
   {
    "duration": 0,
    "start_time": "2024-10-02T05:21:43.323Z"
   },
   {
    "duration": 0,
    "start_time": "2024-10-02T05:21:43.324Z"
   },
   {
    "duration": 0,
    "start_time": "2024-10-02T05:21:43.326Z"
   },
   {
    "duration": 0,
    "start_time": "2024-10-02T05:21:43.328Z"
   },
   {
    "duration": 0,
    "start_time": "2024-10-02T05:21:43.329Z"
   },
   {
    "duration": 0,
    "start_time": "2024-10-02T05:21:43.331Z"
   },
   {
    "duration": 0,
    "start_time": "2024-10-02T05:21:43.332Z"
   },
   {
    "duration": 0,
    "start_time": "2024-10-02T05:21:43.334Z"
   },
   {
    "duration": 0,
    "start_time": "2024-10-02T05:21:43.335Z"
   },
   {
    "duration": 0,
    "start_time": "2024-10-02T05:21:43.337Z"
   },
   {
    "duration": 0,
    "start_time": "2024-10-02T05:21:43.338Z"
   },
   {
    "duration": 0,
    "start_time": "2024-10-02T05:21:43.340Z"
   },
   {
    "duration": 0,
    "start_time": "2024-10-02T05:21:43.341Z"
   },
   {
    "duration": 0,
    "start_time": "2024-10-02T05:21:43.343Z"
   },
   {
    "duration": 0,
    "start_time": "2024-10-02T05:21:43.344Z"
   },
   {
    "duration": 0,
    "start_time": "2024-10-02T05:21:43.346Z"
   },
   {
    "duration": 0,
    "start_time": "2024-10-02T05:21:43.347Z"
   },
   {
    "duration": 0,
    "start_time": "2024-10-02T05:21:43.409Z"
   },
   {
    "duration": 0,
    "start_time": "2024-10-02T05:21:43.411Z"
   },
   {
    "duration": 812,
    "start_time": "2024-10-02T05:22:03.718Z"
   },
   {
    "duration": 1741,
    "start_time": "2024-10-02T05:22:09.303Z"
   },
   {
    "duration": 523,
    "start_time": "2024-10-02T05:22:39.110Z"
   },
   {
    "duration": 6,
    "start_time": "2024-10-02T05:22:39.636Z"
   },
   {
    "duration": 43,
    "start_time": "2024-10-02T05:22:39.644Z"
   },
   {
    "duration": 22,
    "start_time": "2024-10-02T05:22:39.689Z"
   },
   {
    "duration": 27,
    "start_time": "2024-10-02T05:22:39.714Z"
   },
   {
    "duration": 10,
    "start_time": "2024-10-02T05:22:39.742Z"
   },
   {
    "duration": 16,
    "start_time": "2024-10-02T05:22:39.754Z"
   },
   {
    "duration": 531,
    "start_time": "2024-10-02T05:22:39.772Z"
   },
   {
    "duration": 8,
    "start_time": "2024-10-02T05:22:40.305Z"
   },
   {
    "duration": 38,
    "start_time": "2024-10-02T05:22:40.317Z"
   },
   {
    "duration": 11,
    "start_time": "2024-10-02T05:22:40.357Z"
   },
   {
    "duration": 681,
    "start_time": "2024-10-02T05:22:40.371Z"
   },
   {
    "duration": 7,
    "start_time": "2024-10-02T05:22:41.055Z"
   },
   {
    "duration": 10,
    "start_time": "2024-10-02T05:22:41.063Z"
   },
   {
    "duration": 140351,
    "start_time": "2024-10-02T05:22:41.074Z"
   },
   {
    "duration": 260,
    "start_time": "2024-10-02T05:25:01.427Z"
   },
   {
    "duration": 0,
    "start_time": "2024-10-02T05:25:01.690Z"
   },
   {
    "duration": 0,
    "start_time": "2024-10-02T05:25:01.690Z"
   },
   {
    "duration": 0,
    "start_time": "2024-10-02T05:25:01.691Z"
   },
   {
    "duration": 0,
    "start_time": "2024-10-02T05:25:01.692Z"
   },
   {
    "duration": 0,
    "start_time": "2024-10-02T05:25:01.694Z"
   },
   {
    "duration": 0,
    "start_time": "2024-10-02T05:25:01.697Z"
   },
   {
    "duration": 0,
    "start_time": "2024-10-02T05:25:01.709Z"
   },
   {
    "duration": 0,
    "start_time": "2024-10-02T05:25:01.710Z"
   },
   {
    "duration": 0,
    "start_time": "2024-10-02T05:25:01.712Z"
   },
   {
    "duration": 0,
    "start_time": "2024-10-02T05:25:01.713Z"
   },
   {
    "duration": 0,
    "start_time": "2024-10-02T05:25:01.714Z"
   },
   {
    "duration": 0,
    "start_time": "2024-10-02T05:25:01.715Z"
   },
   {
    "duration": 0,
    "start_time": "2024-10-02T05:25:01.716Z"
   },
   {
    "duration": 0,
    "start_time": "2024-10-02T05:25:01.717Z"
   },
   {
    "duration": 0,
    "start_time": "2024-10-02T05:25:01.718Z"
   },
   {
    "duration": 0,
    "start_time": "2024-10-02T05:25:01.719Z"
   },
   {
    "duration": 0,
    "start_time": "2024-10-02T05:25:01.720Z"
   },
   {
    "duration": 0,
    "start_time": "2024-10-02T05:25:01.722Z"
   },
   {
    "duration": 0,
    "start_time": "2024-10-02T05:25:01.724Z"
   },
   {
    "duration": 0,
    "start_time": "2024-10-02T05:25:01.725Z"
   },
   {
    "duration": 0,
    "start_time": "2024-10-02T05:25:01.726Z"
   },
   {
    "duration": 0,
    "start_time": "2024-10-02T05:25:01.728Z"
   },
   {
    "duration": 0,
    "start_time": "2024-10-02T05:25:01.729Z"
   },
   {
    "duration": 0,
    "start_time": "2024-10-02T05:25:01.731Z"
   },
   {
    "duration": 0,
    "start_time": "2024-10-02T05:25:01.732Z"
   },
   {
    "duration": 0,
    "start_time": "2024-10-02T05:25:01.734Z"
   },
   {
    "duration": 0,
    "start_time": "2024-10-02T05:25:01.735Z"
   },
   {
    "duration": 0,
    "start_time": "2024-10-02T05:25:01.738Z"
   },
   {
    "duration": 0,
    "start_time": "2024-10-02T05:25:01.739Z"
   },
   {
    "duration": 0,
    "start_time": "2024-10-02T05:25:01.740Z"
   },
   {
    "duration": 0,
    "start_time": "2024-10-02T05:25:01.741Z"
   },
   {
    "duration": 0,
    "start_time": "2024-10-02T05:25:01.743Z"
   },
   {
    "duration": 0,
    "start_time": "2024-10-02T05:25:01.744Z"
   },
   {
    "duration": 0,
    "start_time": "2024-10-02T05:25:01.745Z"
   },
   {
    "duration": 0,
    "start_time": "2024-10-02T05:25:01.747Z"
   },
   {
    "duration": 0,
    "start_time": "2024-10-02T05:25:01.753Z"
   },
   {
    "duration": 0,
    "start_time": "2024-10-02T05:25:01.808Z"
   },
   {
    "duration": 0,
    "start_time": "2024-10-02T05:25:01.810Z"
   },
   {
    "duration": 0,
    "start_time": "2024-10-02T05:25:01.811Z"
   },
   {
    "duration": 0,
    "start_time": "2024-10-02T05:25:01.813Z"
   },
   {
    "duration": 0,
    "start_time": "2024-10-02T05:25:01.815Z"
   },
   {
    "duration": 0,
    "start_time": "2024-10-02T05:25:01.816Z"
   },
   {
    "duration": 0,
    "start_time": "2024-10-02T05:25:01.817Z"
   },
   {
    "duration": 0,
    "start_time": "2024-10-02T05:25:01.819Z"
   },
   {
    "duration": 0,
    "start_time": "2024-10-02T05:25:01.820Z"
   },
   {
    "duration": 0,
    "start_time": "2024-10-02T05:25:01.822Z"
   },
   {
    "duration": 0,
    "start_time": "2024-10-02T05:25:01.824Z"
   },
   {
    "duration": 539,
    "start_time": "2024-10-02T05:35:28.428Z"
   },
   {
    "duration": 7,
    "start_time": "2024-10-02T05:35:28.970Z"
   },
   {
    "duration": 58,
    "start_time": "2024-10-02T05:35:28.978Z"
   },
   {
    "duration": 196,
    "start_time": "2024-10-02T05:35:29.039Z"
   },
   {
    "duration": 0,
    "start_time": "2024-10-02T05:35:29.239Z"
   },
   {
    "duration": 0,
    "start_time": "2024-10-02T05:35:29.240Z"
   },
   {
    "duration": 0,
    "start_time": "2024-10-02T05:35:29.242Z"
   },
   {
    "duration": 0,
    "start_time": "2024-10-02T05:35:29.243Z"
   },
   {
    "duration": 1,
    "start_time": "2024-10-02T05:35:29.244Z"
   },
   {
    "duration": 0,
    "start_time": "2024-10-02T05:35:29.245Z"
   },
   {
    "duration": 0,
    "start_time": "2024-10-02T05:35:29.246Z"
   },
   {
    "duration": 0,
    "start_time": "2024-10-02T05:35:29.247Z"
   },
   {
    "duration": 0,
    "start_time": "2024-10-02T05:35:29.248Z"
   },
   {
    "duration": 0,
    "start_time": "2024-10-02T05:35:29.249Z"
   },
   {
    "duration": 0,
    "start_time": "2024-10-02T05:35:29.251Z"
   },
   {
    "duration": 0,
    "start_time": "2024-10-02T05:35:29.252Z"
   },
   {
    "duration": 0,
    "start_time": "2024-10-02T05:35:29.254Z"
   },
   {
    "duration": 0,
    "start_time": "2024-10-02T05:35:29.256Z"
   },
   {
    "duration": 0,
    "start_time": "2024-10-02T05:35:29.258Z"
   },
   {
    "duration": 0,
    "start_time": "2024-10-02T05:35:29.260Z"
   },
   {
    "duration": 0,
    "start_time": "2024-10-02T05:35:29.261Z"
   },
   {
    "duration": 0,
    "start_time": "2024-10-02T05:35:29.263Z"
   },
   {
    "duration": 0,
    "start_time": "2024-10-02T05:35:29.264Z"
   },
   {
    "duration": 0,
    "start_time": "2024-10-02T05:35:29.308Z"
   },
   {
    "duration": 0,
    "start_time": "2024-10-02T05:35:29.309Z"
   },
   {
    "duration": 0,
    "start_time": "2024-10-02T05:35:29.311Z"
   },
   {
    "duration": 0,
    "start_time": "2024-10-02T05:35:29.312Z"
   },
   {
    "duration": 0,
    "start_time": "2024-10-02T05:35:29.313Z"
   },
   {
    "duration": 0,
    "start_time": "2024-10-02T05:35:29.313Z"
   },
   {
    "duration": 0,
    "start_time": "2024-10-02T05:35:29.314Z"
   },
   {
    "duration": 0,
    "start_time": "2024-10-02T05:35:29.316Z"
   },
   {
    "duration": 0,
    "start_time": "2024-10-02T05:35:29.318Z"
   },
   {
    "duration": 0,
    "start_time": "2024-10-02T05:35:29.319Z"
   },
   {
    "duration": 0,
    "start_time": "2024-10-02T05:35:29.321Z"
   },
   {
    "duration": 0,
    "start_time": "2024-10-02T05:35:29.322Z"
   },
   {
    "duration": 0,
    "start_time": "2024-10-02T05:35:29.324Z"
   },
   {
    "duration": 0,
    "start_time": "2024-10-02T05:35:29.325Z"
   },
   {
    "duration": 0,
    "start_time": "2024-10-02T05:35:29.327Z"
   },
   {
    "duration": 0,
    "start_time": "2024-10-02T05:35:29.328Z"
   },
   {
    "duration": 0,
    "start_time": "2024-10-02T05:35:29.330Z"
   },
   {
    "duration": 0,
    "start_time": "2024-10-02T05:35:29.331Z"
   },
   {
    "duration": 0,
    "start_time": "2024-10-02T05:35:29.334Z"
   },
   {
    "duration": 0,
    "start_time": "2024-10-02T05:35:29.335Z"
   },
   {
    "duration": 0,
    "start_time": "2024-10-02T05:35:29.336Z"
   },
   {
    "duration": 0,
    "start_time": "2024-10-02T05:35:29.337Z"
   },
   {
    "duration": 0,
    "start_time": "2024-10-02T05:35:29.338Z"
   },
   {
    "duration": 0,
    "start_time": "2024-10-02T05:35:29.339Z"
   },
   {
    "duration": 0,
    "start_time": "2024-10-02T05:35:29.340Z"
   },
   {
    "duration": 0,
    "start_time": "2024-10-02T05:35:29.342Z"
   },
   {
    "duration": 0,
    "start_time": "2024-10-02T05:35:29.343Z"
   },
   {
    "duration": 0,
    "start_time": "2024-10-02T05:35:29.344Z"
   },
   {
    "duration": 0,
    "start_time": "2024-10-02T05:35:29.345Z"
   },
   {
    "duration": 0,
    "start_time": "2024-10-02T05:35:29.346Z"
   },
   {
    "duration": 0,
    "start_time": "2024-10-02T05:35:29.347Z"
   },
   {
    "duration": 0,
    "start_time": "2024-10-02T05:35:29.347Z"
   },
   {
    "duration": 0,
    "start_time": "2024-10-02T05:35:29.348Z"
   },
   {
    "duration": 0,
    "start_time": "2024-10-02T05:35:29.409Z"
   },
   {
    "duration": 0,
    "start_time": "2024-10-02T05:35:29.411Z"
   },
   {
    "duration": 0,
    "start_time": "2024-10-02T05:35:29.412Z"
   },
   {
    "duration": 0,
    "start_time": "2024-10-02T05:35:29.413Z"
   },
   {
    "duration": 0,
    "start_time": "2024-10-02T05:35:29.414Z"
   },
   {
    "duration": 0,
    "start_time": "2024-10-02T05:35:29.415Z"
   },
   {
    "duration": 0,
    "start_time": "2024-10-02T05:35:29.416Z"
   },
   {
    "duration": 0,
    "start_time": "2024-10-02T05:35:29.417Z"
   },
   {
    "duration": 0,
    "start_time": "2024-10-02T05:35:29.418Z"
   },
   {
    "duration": 0,
    "start_time": "2024-10-02T05:35:29.419Z"
   },
   {
    "duration": 0,
    "start_time": "2024-10-02T05:35:29.420Z"
   },
   {
    "duration": 0,
    "start_time": "2024-10-02T05:35:29.421Z"
   },
   {
    "duration": 0,
    "start_time": "2024-10-02T05:35:29.422Z"
   },
   {
    "duration": 0,
    "start_time": "2024-10-02T05:35:29.424Z"
   },
   {
    "duration": 0,
    "start_time": "2024-10-02T05:35:29.425Z"
   },
   {
    "duration": 0,
    "start_time": "2024-10-02T05:35:29.426Z"
   },
   {
    "duration": 0,
    "start_time": "2024-10-02T05:35:29.427Z"
   },
   {
    "duration": 0,
    "start_time": "2024-10-02T05:35:29.432Z"
   },
   {
    "duration": 0,
    "start_time": "2024-10-02T05:35:29.433Z"
   },
   {
    "duration": 0,
    "start_time": "2024-10-02T05:35:29.434Z"
   },
   {
    "duration": 0,
    "start_time": "2024-10-02T05:35:29.435Z"
   },
   {
    "duration": 570,
    "start_time": "2024-10-02T05:40:43.906Z"
   },
   {
    "duration": 7,
    "start_time": "2024-10-02T05:40:44.478Z"
   },
   {
    "duration": 56,
    "start_time": "2024-10-02T05:40:44.492Z"
   },
   {
    "duration": 224,
    "start_time": "2024-10-02T05:40:44.550Z"
   },
   {
    "duration": 0,
    "start_time": "2024-10-02T05:40:44.779Z"
   },
   {
    "duration": 0,
    "start_time": "2024-10-02T05:40:44.780Z"
   },
   {
    "duration": 0,
    "start_time": "2024-10-02T05:40:44.781Z"
   },
   {
    "duration": 0,
    "start_time": "2024-10-02T05:40:44.782Z"
   },
   {
    "duration": 0,
    "start_time": "2024-10-02T05:40:44.783Z"
   },
   {
    "duration": 0,
    "start_time": "2024-10-02T05:40:44.784Z"
   },
   {
    "duration": 0,
    "start_time": "2024-10-02T05:40:44.787Z"
   },
   {
    "duration": 0,
    "start_time": "2024-10-02T05:40:44.788Z"
   },
   {
    "duration": 0,
    "start_time": "2024-10-02T05:40:44.790Z"
   },
   {
    "duration": 0,
    "start_time": "2024-10-02T05:40:44.791Z"
   },
   {
    "duration": 0,
    "start_time": "2024-10-02T05:40:44.810Z"
   },
   {
    "duration": 0,
    "start_time": "2024-10-02T05:40:44.813Z"
   },
   {
    "duration": 0,
    "start_time": "2024-10-02T05:40:44.814Z"
   },
   {
    "duration": 0,
    "start_time": "2024-10-02T05:40:44.814Z"
   },
   {
    "duration": 0,
    "start_time": "2024-10-02T05:40:44.816Z"
   },
   {
    "duration": 0,
    "start_time": "2024-10-02T05:40:44.817Z"
   },
   {
    "duration": 0,
    "start_time": "2024-10-02T05:40:44.819Z"
   },
   {
    "duration": 0,
    "start_time": "2024-10-02T05:40:44.821Z"
   },
   {
    "duration": 0,
    "start_time": "2024-10-02T05:40:44.822Z"
   },
   {
    "duration": 0,
    "start_time": "2024-10-02T05:40:44.824Z"
   },
   {
    "duration": 0,
    "start_time": "2024-10-02T05:40:44.825Z"
   },
   {
    "duration": 0,
    "start_time": "2024-10-02T05:40:44.827Z"
   },
   {
    "duration": 0,
    "start_time": "2024-10-02T05:40:44.828Z"
   },
   {
    "duration": 0,
    "start_time": "2024-10-02T05:40:44.830Z"
   },
   {
    "duration": 0,
    "start_time": "2024-10-02T05:40:44.832Z"
   },
   {
    "duration": 0,
    "start_time": "2024-10-02T05:40:44.834Z"
   },
   {
    "duration": 0,
    "start_time": "2024-10-02T05:40:44.835Z"
   },
   {
    "duration": 0,
    "start_time": "2024-10-02T05:40:44.837Z"
   },
   {
    "duration": 0,
    "start_time": "2024-10-02T05:40:44.838Z"
   },
   {
    "duration": 0,
    "start_time": "2024-10-02T05:40:44.841Z"
   },
   {
    "duration": 0,
    "start_time": "2024-10-02T05:40:44.842Z"
   },
   {
    "duration": 0,
    "start_time": "2024-10-02T05:40:44.843Z"
   },
   {
    "duration": 0,
    "start_time": "2024-10-02T05:40:44.845Z"
   },
   {
    "duration": 0,
    "start_time": "2024-10-02T05:40:44.846Z"
   },
   {
    "duration": 0,
    "start_time": "2024-10-02T05:40:44.848Z"
   },
   {
    "duration": 0,
    "start_time": "2024-10-02T05:40:44.849Z"
   },
   {
    "duration": 0,
    "start_time": "2024-10-02T05:40:44.909Z"
   },
   {
    "duration": 0,
    "start_time": "2024-10-02T05:40:44.911Z"
   },
   {
    "duration": 0,
    "start_time": "2024-10-02T05:40:44.913Z"
   },
   {
    "duration": 0,
    "start_time": "2024-10-02T05:40:44.914Z"
   },
   {
    "duration": 0,
    "start_time": "2024-10-02T05:40:44.916Z"
   },
   {
    "duration": 0,
    "start_time": "2024-10-02T05:40:44.917Z"
   },
   {
    "duration": 0,
    "start_time": "2024-10-02T05:40:44.918Z"
   },
   {
    "duration": 0,
    "start_time": "2024-10-02T05:40:44.919Z"
   },
   {
    "duration": 0,
    "start_time": "2024-10-02T05:40:44.921Z"
   },
   {
    "duration": 0,
    "start_time": "2024-10-02T05:40:44.922Z"
   },
   {
    "duration": 0,
    "start_time": "2024-10-02T05:40:44.923Z"
   },
   {
    "duration": 0,
    "start_time": "2024-10-02T05:40:44.924Z"
   },
   {
    "duration": 0,
    "start_time": "2024-10-02T05:40:44.928Z"
   },
   {
    "duration": 0,
    "start_time": "2024-10-02T05:40:44.929Z"
   },
   {
    "duration": 0,
    "start_time": "2024-10-02T05:40:44.930Z"
   },
   {
    "duration": 0,
    "start_time": "2024-10-02T05:40:44.931Z"
   },
   {
    "duration": 0,
    "start_time": "2024-10-02T05:40:44.933Z"
   },
   {
    "duration": 0,
    "start_time": "2024-10-02T05:40:44.934Z"
   },
   {
    "duration": 0,
    "start_time": "2024-10-02T05:40:44.935Z"
   },
   {
    "duration": 0,
    "start_time": "2024-10-02T05:40:44.937Z"
   },
   {
    "duration": 0,
    "start_time": "2024-10-02T05:40:44.938Z"
   },
   {
    "duration": 0,
    "start_time": "2024-10-02T05:40:44.939Z"
   },
   {
    "duration": 0,
    "start_time": "2024-10-02T05:40:44.941Z"
   },
   {
    "duration": 0,
    "start_time": "2024-10-02T05:40:44.942Z"
   },
   {
    "duration": 0,
    "start_time": "2024-10-02T05:40:44.943Z"
   },
   {
    "duration": 0,
    "start_time": "2024-10-02T05:40:44.945Z"
   },
   {
    "duration": 0,
    "start_time": "2024-10-02T05:40:44.946Z"
   },
   {
    "duration": 0,
    "start_time": "2024-10-02T05:40:44.948Z"
   },
   {
    "duration": 0,
    "start_time": "2024-10-02T05:40:44.949Z"
   },
   {
    "duration": 0,
    "start_time": "2024-10-02T05:40:44.950Z"
   },
   {
    "duration": 0,
    "start_time": "2024-10-02T05:40:44.952Z"
   },
   {
    "duration": 0,
    "start_time": "2024-10-02T05:40:44.953Z"
   },
   {
    "duration": 17,
    "start_time": "2024-10-02T12:48:53.814Z"
   },
   {
    "duration": 19,
    "start_time": "2024-10-02T13:58:49.977Z"
   },
   {
    "duration": 542,
    "start_time": "2024-10-02T14:13:06.816Z"
   },
   {
    "duration": 6,
    "start_time": "2024-10-02T14:13:07.360Z"
   },
   {
    "duration": 61,
    "start_time": "2024-10-02T14:13:07.368Z"
   },
   {
    "duration": 5,
    "start_time": "2024-10-02T14:13:07.431Z"
   },
   {
    "duration": 5,
    "start_time": "2024-10-02T14:13:07.437Z"
   },
   {
    "duration": 6,
    "start_time": "2024-10-02T14:13:07.443Z"
   },
   {
    "duration": 4,
    "start_time": "2024-10-02T14:13:07.450Z"
   },
   {
    "duration": 5,
    "start_time": "2024-10-02T14:13:07.456Z"
   },
   {
    "duration": 5,
    "start_time": "2024-10-02T14:13:07.462Z"
   },
   {
    "duration": 3,
    "start_time": "2024-10-02T14:13:07.471Z"
   },
   {
    "duration": 35,
    "start_time": "2024-10-02T14:13:07.476Z"
   },
   {
    "duration": 209,
    "start_time": "2024-10-02T14:13:07.514Z"
   },
   {
    "duration": 0,
    "start_time": "2024-10-02T14:13:07.725Z"
   },
   {
    "duration": 0,
    "start_time": "2024-10-02T14:13:07.726Z"
   },
   {
    "duration": 0,
    "start_time": "2024-10-02T14:13:07.728Z"
   },
   {
    "duration": 0,
    "start_time": "2024-10-02T14:13:07.729Z"
   },
   {
    "duration": 0,
    "start_time": "2024-10-02T14:13:07.730Z"
   },
   {
    "duration": 0,
    "start_time": "2024-10-02T14:13:07.731Z"
   },
   {
    "duration": 0,
    "start_time": "2024-10-02T14:13:07.732Z"
   },
   {
    "duration": 0,
    "start_time": "2024-10-02T14:13:07.733Z"
   },
   {
    "duration": 0,
    "start_time": "2024-10-02T14:13:07.734Z"
   },
   {
    "duration": 0,
    "start_time": "2024-10-02T14:13:07.734Z"
   },
   {
    "duration": 0,
    "start_time": "2024-10-02T14:13:07.735Z"
   },
   {
    "duration": 0,
    "start_time": "2024-10-02T14:13:07.736Z"
   },
   {
    "duration": 0,
    "start_time": "2024-10-02T14:13:07.738Z"
   },
   {
    "duration": 0,
    "start_time": "2024-10-02T14:13:07.739Z"
   },
   {
    "duration": 0,
    "start_time": "2024-10-02T14:13:07.740Z"
   },
   {
    "duration": 0,
    "start_time": "2024-10-02T14:13:07.748Z"
   },
   {
    "duration": 0,
    "start_time": "2024-10-02T14:13:07.750Z"
   },
   {
    "duration": 0,
    "start_time": "2024-10-02T14:13:07.751Z"
   },
   {
    "duration": 0,
    "start_time": "2024-10-02T14:13:07.752Z"
   },
   {
    "duration": 0,
    "start_time": "2024-10-02T14:13:07.754Z"
   },
   {
    "duration": 0,
    "start_time": "2024-10-02T14:13:07.755Z"
   },
   {
    "duration": 547,
    "start_time": "2024-10-02T14:13:43.974Z"
   },
   {
    "duration": 5,
    "start_time": "2024-10-02T14:13:44.523Z"
   },
   {
    "duration": 60,
    "start_time": "2024-10-02T14:13:44.530Z"
   },
   {
    "duration": 6,
    "start_time": "2024-10-02T14:13:44.593Z"
   },
   {
    "duration": 7,
    "start_time": "2024-10-02T14:13:44.602Z"
   },
   {
    "duration": 4,
    "start_time": "2024-10-02T14:13:44.610Z"
   },
   {
    "duration": 3,
    "start_time": "2024-10-02T14:13:44.617Z"
   },
   {
    "duration": 4,
    "start_time": "2024-10-02T14:13:44.622Z"
   },
   {
    "duration": 4,
    "start_time": "2024-10-02T14:13:44.628Z"
   },
   {
    "duration": 4,
    "start_time": "2024-10-02T14:13:44.636Z"
   },
   {
    "duration": 6,
    "start_time": "2024-10-02T14:13:44.641Z"
   },
   {
    "duration": 242,
    "start_time": "2024-10-02T14:13:44.648Z"
   },
   {
    "duration": 0,
    "start_time": "2024-10-02T14:13:44.893Z"
   },
   {
    "duration": 0,
    "start_time": "2024-10-02T14:13:44.894Z"
   },
   {
    "duration": 0,
    "start_time": "2024-10-02T14:13:44.896Z"
   },
   {
    "duration": 0,
    "start_time": "2024-10-02T14:13:44.908Z"
   },
   {
    "duration": 0,
    "start_time": "2024-10-02T14:13:44.909Z"
   },
   {
    "duration": 0,
    "start_time": "2024-10-02T14:13:44.911Z"
   },
   {
    "duration": 0,
    "start_time": "2024-10-02T14:13:44.913Z"
   },
   {
    "duration": 0,
    "start_time": "2024-10-02T14:13:44.914Z"
   },
   {
    "duration": 0,
    "start_time": "2024-10-02T14:13:44.916Z"
   },
   {
    "duration": 0,
    "start_time": "2024-10-02T14:13:44.917Z"
   },
   {
    "duration": 0,
    "start_time": "2024-10-02T14:13:44.918Z"
   },
   {
    "duration": 0,
    "start_time": "2024-10-02T14:13:44.919Z"
   },
   {
    "duration": 0,
    "start_time": "2024-10-02T14:13:44.920Z"
   },
   {
    "duration": 0,
    "start_time": "2024-10-02T14:13:44.921Z"
   },
   {
    "duration": 0,
    "start_time": "2024-10-02T14:13:44.922Z"
   },
   {
    "duration": 0,
    "start_time": "2024-10-02T14:13:44.924Z"
   },
   {
    "duration": 0,
    "start_time": "2024-10-02T14:13:44.925Z"
   },
   {
    "duration": 0,
    "start_time": "2024-10-02T14:13:44.926Z"
   },
   {
    "duration": 0,
    "start_time": "2024-10-02T14:13:44.927Z"
   },
   {
    "duration": 0,
    "start_time": "2024-10-02T14:13:44.928Z"
   },
   {
    "duration": 0,
    "start_time": "2024-10-02T14:13:44.929Z"
   },
   {
    "duration": 506,
    "start_time": "2024-10-02T14:22:39.539Z"
   },
   {
    "duration": 5,
    "start_time": "2024-10-02T14:22:40.047Z"
   },
   {
    "duration": 65,
    "start_time": "2024-10-02T14:22:40.054Z"
   },
   {
    "duration": 201,
    "start_time": "2024-10-02T14:22:40.122Z"
   },
   {
    "duration": 0,
    "start_time": "2024-10-02T14:22:40.327Z"
   },
   {
    "duration": 0,
    "start_time": "2024-10-02T14:22:40.328Z"
   },
   {
    "duration": 0,
    "start_time": "2024-10-02T14:22:40.330Z"
   },
   {
    "duration": 0,
    "start_time": "2024-10-02T14:22:40.331Z"
   },
   {
    "duration": 0,
    "start_time": "2024-10-02T14:22:40.332Z"
   },
   {
    "duration": 0,
    "start_time": "2024-10-02T14:22:40.334Z"
   },
   {
    "duration": 0,
    "start_time": "2024-10-02T14:22:40.335Z"
   },
   {
    "duration": 0,
    "start_time": "2024-10-02T14:22:40.336Z"
   },
   {
    "duration": 0,
    "start_time": "2024-10-02T14:22:40.338Z"
   },
   {
    "duration": 0,
    "start_time": "2024-10-02T14:22:40.340Z"
   },
   {
    "duration": 0,
    "start_time": "2024-10-02T14:22:40.341Z"
   },
   {
    "duration": 0,
    "start_time": "2024-10-02T14:22:40.343Z"
   },
   {
    "duration": 0,
    "start_time": "2024-10-02T14:22:40.345Z"
   },
   {
    "duration": 0,
    "start_time": "2024-10-02T14:22:40.346Z"
   },
   {
    "duration": 0,
    "start_time": "2024-10-02T14:22:40.348Z"
   },
   {
    "duration": 0,
    "start_time": "2024-10-02T14:22:40.350Z"
   },
   {
    "duration": 0,
    "start_time": "2024-10-02T14:22:40.351Z"
   },
   {
    "duration": 0,
    "start_time": "2024-10-02T14:22:40.353Z"
   },
   {
    "duration": 0,
    "start_time": "2024-10-02T14:22:40.354Z"
   },
   {
    "duration": 0,
    "start_time": "2024-10-02T14:22:40.356Z"
   },
   {
    "duration": 0,
    "start_time": "2024-10-02T14:22:40.357Z"
   },
   {
    "duration": 0,
    "start_time": "2024-10-02T14:22:40.358Z"
   },
   {
    "duration": 0,
    "start_time": "2024-10-02T14:22:40.359Z"
   },
   {
    "duration": 0,
    "start_time": "2024-10-02T14:22:40.409Z"
   },
   {
    "duration": 0,
    "start_time": "2024-10-02T14:22:40.410Z"
   },
   {
    "duration": 0,
    "start_time": "2024-10-02T14:22:40.411Z"
   },
   {
    "duration": 0,
    "start_time": "2024-10-02T14:22:40.412Z"
   },
   {
    "duration": 0,
    "start_time": "2024-10-02T14:22:40.413Z"
   },
   {
    "duration": 0,
    "start_time": "2024-10-02T14:22:40.414Z"
   },
   {
    "duration": 249,
    "start_time": "2024-10-02T14:28:59.644Z"
   },
   {
    "duration": 507,
    "start_time": "2024-10-02T14:29:12.037Z"
   },
   {
    "duration": 5,
    "start_time": "2024-10-02T14:29:12.546Z"
   },
   {
    "duration": 56,
    "start_time": "2024-10-02T14:29:12.553Z"
   },
   {
    "duration": 241,
    "start_time": "2024-10-02T14:29:12.612Z"
   },
   {
    "duration": 957,
    "start_time": "2024-10-02T14:29:12.854Z"
   },
   {
    "duration": 4,
    "start_time": "2024-10-02T14:29:13.813Z"
   },
   {
    "duration": 488,
    "start_time": "2024-10-02T14:29:13.819Z"
   },
   {
    "duration": 4,
    "start_time": "2024-10-02T14:29:14.309Z"
   },
   {
    "duration": 295,
    "start_time": "2024-10-02T14:29:14.315Z"
   },
   {
    "duration": 0,
    "start_time": "2024-10-02T14:29:14.612Z"
   },
   {
    "duration": 0,
    "start_time": "2024-10-02T14:29:14.613Z"
   },
   {
    "duration": 0,
    "start_time": "2024-10-02T14:29:14.615Z"
   },
   {
    "duration": 0,
    "start_time": "2024-10-02T14:29:14.616Z"
   },
   {
    "duration": 0,
    "start_time": "2024-10-02T14:29:14.618Z"
   },
   {
    "duration": 0,
    "start_time": "2024-10-02T14:29:14.619Z"
   },
   {
    "duration": 0,
    "start_time": "2024-10-02T14:29:14.621Z"
   },
   {
    "duration": 0,
    "start_time": "2024-10-02T14:29:14.622Z"
   },
   {
    "duration": 0,
    "start_time": "2024-10-02T14:29:14.624Z"
   },
   {
    "duration": 0,
    "start_time": "2024-10-02T14:29:14.626Z"
   },
   {
    "duration": 0,
    "start_time": "2024-10-02T14:29:14.627Z"
   },
   {
    "duration": 0,
    "start_time": "2024-10-02T14:29:14.629Z"
   },
   {
    "duration": 0,
    "start_time": "2024-10-02T14:29:14.630Z"
   },
   {
    "duration": 0,
    "start_time": "2024-10-02T14:29:14.631Z"
   },
   {
    "duration": 0,
    "start_time": "2024-10-02T14:29:14.632Z"
   },
   {
    "duration": 0,
    "start_time": "2024-10-02T14:29:14.633Z"
   },
   {
    "duration": 0,
    "start_time": "2024-10-02T14:29:14.634Z"
   },
   {
    "duration": 0,
    "start_time": "2024-10-02T14:29:14.635Z"
   },
   {
    "duration": 0,
    "start_time": "2024-10-02T14:29:14.637Z"
   },
   {
    "duration": 0,
    "start_time": "2024-10-02T14:29:14.638Z"
   },
   {
    "duration": 0,
    "start_time": "2024-10-02T14:29:14.639Z"
   },
   {
    "duration": 0,
    "start_time": "2024-10-02T14:29:14.640Z"
   },
   {
    "duration": 0,
    "start_time": "2024-10-02T14:29:14.641Z"
   },
   {
    "duration": 0,
    "start_time": "2024-10-02T14:29:14.642Z"
   },
   {
    "duration": 634,
    "start_time": "2024-10-02T14:29:46.792Z"
   },
   {
    "duration": 6,
    "start_time": "2024-10-02T14:29:47.429Z"
   },
   {
    "duration": 48,
    "start_time": "2024-10-02T14:29:47.440Z"
   },
   {
    "duration": 252,
    "start_time": "2024-10-02T14:29:47.510Z"
   },
   {
    "duration": 1101,
    "start_time": "2024-10-02T14:29:47.763Z"
   },
   {
    "duration": 1656,
    "start_time": "2024-10-02T14:29:48.866Z"
   },
   {
    "duration": 499,
    "start_time": "2024-10-02T14:29:50.524Z"
   },
   {
    "duration": 7,
    "start_time": "2024-10-02T14:29:51.025Z"
   },
   {
    "duration": 268,
    "start_time": "2024-10-02T14:29:51.035Z"
   },
   {
    "duration": 0,
    "start_time": "2024-10-02T14:29:51.309Z"
   },
   {
    "duration": 0,
    "start_time": "2024-10-02T14:29:51.310Z"
   },
   {
    "duration": 0,
    "start_time": "2024-10-02T14:29:51.311Z"
   },
   {
    "duration": 0,
    "start_time": "2024-10-02T14:29:51.313Z"
   },
   {
    "duration": 0,
    "start_time": "2024-10-02T14:29:51.314Z"
   },
   {
    "duration": 0,
    "start_time": "2024-10-02T14:29:51.314Z"
   },
   {
    "duration": 0,
    "start_time": "2024-10-02T14:29:51.315Z"
   },
   {
    "duration": 0,
    "start_time": "2024-10-02T14:29:51.317Z"
   },
   {
    "duration": 0,
    "start_time": "2024-10-02T14:29:51.318Z"
   },
   {
    "duration": 0,
    "start_time": "2024-10-02T14:29:51.319Z"
   },
   {
    "duration": 0,
    "start_time": "2024-10-02T14:29:51.320Z"
   },
   {
    "duration": 0,
    "start_time": "2024-10-02T14:29:51.321Z"
   },
   {
    "duration": 0,
    "start_time": "2024-10-02T14:29:51.322Z"
   },
   {
    "duration": 0,
    "start_time": "2024-10-02T14:29:51.322Z"
   },
   {
    "duration": 0,
    "start_time": "2024-10-02T14:29:51.323Z"
   },
   {
    "duration": 0,
    "start_time": "2024-10-02T14:29:51.325Z"
   },
   {
    "duration": 0,
    "start_time": "2024-10-02T14:29:51.326Z"
   },
   {
    "duration": 0,
    "start_time": "2024-10-02T14:29:51.327Z"
   },
   {
    "duration": 0,
    "start_time": "2024-10-02T14:29:51.328Z"
   },
   {
    "duration": 0,
    "start_time": "2024-10-02T14:29:51.329Z"
   },
   {
    "duration": 0,
    "start_time": "2024-10-02T14:29:51.330Z"
   },
   {
    "duration": 0,
    "start_time": "2024-10-02T14:29:51.331Z"
   },
   {
    "duration": 0,
    "start_time": "2024-10-02T14:29:51.332Z"
   },
   {
    "duration": 0,
    "start_time": "2024-10-02T14:29:51.333Z"
   },
   {
    "duration": 434,
    "start_time": "2024-10-02T14:40:31.405Z"
   },
   {
    "duration": 539,
    "start_time": "2024-10-02T14:40:53.385Z"
   },
   {
    "duration": 5,
    "start_time": "2024-10-02T14:40:53.926Z"
   },
   {
    "duration": 50,
    "start_time": "2024-10-02T14:40:53.933Z"
   },
   {
    "duration": 258,
    "start_time": "2024-10-02T14:40:53.986Z"
   },
   {
    "duration": 971,
    "start_time": "2024-10-02T14:40:54.245Z"
   },
   {
    "duration": 1621,
    "start_time": "2024-10-02T14:40:55.218Z"
   },
   {
    "duration": 511,
    "start_time": "2024-10-02T14:40:56.841Z"
   },
   {
    "duration": 4,
    "start_time": "2024-10-02T14:40:57.354Z"
   },
   {
    "duration": 730,
    "start_time": "2024-10-02T14:40:57.359Z"
   },
   {
    "duration": 0,
    "start_time": "2024-10-02T14:40:58.092Z"
   },
   {
    "duration": 0,
    "start_time": "2024-10-02T14:40:58.093Z"
   },
   {
    "duration": 0,
    "start_time": "2024-10-02T14:40:58.095Z"
   },
   {
    "duration": 0,
    "start_time": "2024-10-02T14:40:58.097Z"
   },
   {
    "duration": 0,
    "start_time": "2024-10-02T14:40:58.109Z"
   },
   {
    "duration": 0,
    "start_time": "2024-10-02T14:40:58.110Z"
   },
   {
    "duration": 0,
    "start_time": "2024-10-02T14:40:58.116Z"
   },
   {
    "duration": 0,
    "start_time": "2024-10-02T14:40:58.117Z"
   },
   {
    "duration": 0,
    "start_time": "2024-10-02T14:40:58.118Z"
   },
   {
    "duration": 0,
    "start_time": "2024-10-02T14:40:58.119Z"
   },
   {
    "duration": 0,
    "start_time": "2024-10-02T14:40:58.120Z"
   },
   {
    "duration": 0,
    "start_time": "2024-10-02T14:40:58.121Z"
   },
   {
    "duration": 0,
    "start_time": "2024-10-02T14:40:58.122Z"
   },
   {
    "duration": 0,
    "start_time": "2024-10-02T14:40:58.123Z"
   },
   {
    "duration": 0,
    "start_time": "2024-10-02T14:40:58.124Z"
   },
   {
    "duration": 0,
    "start_time": "2024-10-02T14:40:58.125Z"
   },
   {
    "duration": 0,
    "start_time": "2024-10-02T14:40:58.126Z"
   },
   {
    "duration": 0,
    "start_time": "2024-10-02T14:40:58.127Z"
   },
   {
    "duration": 0,
    "start_time": "2024-10-02T14:40:58.128Z"
   },
   {
    "duration": 0,
    "start_time": "2024-10-02T14:40:58.129Z"
   },
   {
    "duration": 0,
    "start_time": "2024-10-02T14:40:58.131Z"
   },
   {
    "duration": 0,
    "start_time": "2024-10-02T14:40:58.132Z"
   },
   {
    "duration": 0,
    "start_time": "2024-10-02T14:40:58.133Z"
   },
   {
    "duration": 0,
    "start_time": "2024-10-02T14:40:58.135Z"
   },
   {
    "duration": 537,
    "start_time": "2024-10-02T14:47:23.959Z"
   },
   {
    "duration": 5,
    "start_time": "2024-10-02T14:47:24.498Z"
   },
   {
    "duration": 44,
    "start_time": "2024-10-02T14:47:24.509Z"
   },
   {
    "duration": 258,
    "start_time": "2024-10-02T14:47:24.555Z"
   },
   {
    "duration": 978,
    "start_time": "2024-10-02T14:47:24.815Z"
   },
   {
    "duration": 1903,
    "start_time": "2024-10-02T14:47:25.795Z"
   },
   {
    "duration": 535,
    "start_time": "2024-10-02T14:47:27.700Z"
   },
   {
    "duration": 9,
    "start_time": "2024-10-02T14:47:28.237Z"
   },
   {
    "duration": 250,
    "start_time": "2024-10-02T14:47:28.249Z"
   },
   {
    "duration": 0,
    "start_time": "2024-10-02T14:47:28.501Z"
   },
   {
    "duration": 0,
    "start_time": "2024-10-02T14:47:28.509Z"
   },
   {
    "duration": 0,
    "start_time": "2024-10-02T14:47:28.510Z"
   },
   {
    "duration": 0,
    "start_time": "2024-10-02T14:47:28.512Z"
   },
   {
    "duration": 0,
    "start_time": "2024-10-02T14:47:28.513Z"
   },
   {
    "duration": 0,
    "start_time": "2024-10-02T14:47:28.514Z"
   },
   {
    "duration": 0,
    "start_time": "2024-10-02T14:47:28.515Z"
   },
   {
    "duration": 0,
    "start_time": "2024-10-02T14:47:28.516Z"
   },
   {
    "duration": 0,
    "start_time": "2024-10-02T14:47:28.517Z"
   },
   {
    "duration": 0,
    "start_time": "2024-10-02T14:47:28.519Z"
   },
   {
    "duration": 0,
    "start_time": "2024-10-02T14:47:28.520Z"
   },
   {
    "duration": 0,
    "start_time": "2024-10-02T14:47:28.521Z"
   },
   {
    "duration": 0,
    "start_time": "2024-10-02T14:47:28.522Z"
   },
   {
    "duration": 0,
    "start_time": "2024-10-02T14:47:28.523Z"
   },
   {
    "duration": 0,
    "start_time": "2024-10-02T14:47:28.524Z"
   },
   {
    "duration": 0,
    "start_time": "2024-10-02T14:47:28.526Z"
   },
   {
    "duration": 0,
    "start_time": "2024-10-02T14:47:28.527Z"
   },
   {
    "duration": 0,
    "start_time": "2024-10-02T14:47:28.528Z"
   },
   {
    "duration": 0,
    "start_time": "2024-10-02T14:47:28.530Z"
   },
   {
    "duration": 0,
    "start_time": "2024-10-02T14:47:28.531Z"
   },
   {
    "duration": 0,
    "start_time": "2024-10-02T14:47:28.532Z"
   },
   {
    "duration": 0,
    "start_time": "2024-10-02T14:47:28.534Z"
   },
   {
    "duration": 0,
    "start_time": "2024-10-02T14:47:28.535Z"
   },
   {
    "duration": 0,
    "start_time": "2024-10-02T14:47:28.537Z"
   },
   {
    "duration": 0,
    "start_time": "2024-10-02T14:47:28.538Z"
   },
   {
    "duration": 17,
    "start_time": "2024-10-02T15:09:13.257Z"
   },
   {
    "duration": 9,
    "start_time": "2024-10-02T15:09:48.321Z"
   },
   {
    "duration": 514,
    "start_time": "2024-10-02T15:47:51.328Z"
   },
   {
    "duration": 5,
    "start_time": "2024-10-02T15:47:51.847Z"
   },
   {
    "duration": 60,
    "start_time": "2024-10-02T15:47:51.854Z"
   },
   {
    "duration": 221,
    "start_time": "2024-10-02T15:47:51.918Z"
   },
   {
    "duration": 957,
    "start_time": "2024-10-02T15:47:52.141Z"
   },
   {
    "duration": 19,
    "start_time": "2024-10-02T15:47:53.100Z"
   },
   {
    "duration": 22,
    "start_time": "2024-10-02T15:47:53.121Z"
   },
   {
    "duration": 12,
    "start_time": "2024-10-02T15:47:53.145Z"
   },
   {
    "duration": 11,
    "start_time": "2024-10-02T15:47:53.158Z"
   },
   {
    "duration": 669,
    "start_time": "2024-10-02T15:47:53.171Z"
   },
   {
    "duration": 0,
    "start_time": "2024-10-02T15:47:53.842Z"
   },
   {
    "duration": 0,
    "start_time": "2024-10-02T15:47:53.843Z"
   },
   {
    "duration": 0,
    "start_time": "2024-10-02T15:47:53.844Z"
   },
   {
    "duration": 0,
    "start_time": "2024-10-02T15:47:53.845Z"
   },
   {
    "duration": 0,
    "start_time": "2024-10-02T15:47:53.846Z"
   },
   {
    "duration": 0,
    "start_time": "2024-10-02T15:47:53.847Z"
   },
   {
    "duration": 0,
    "start_time": "2024-10-02T15:47:53.849Z"
   },
   {
    "duration": 0,
    "start_time": "2024-10-02T15:47:53.851Z"
   },
   {
    "duration": 0,
    "start_time": "2024-10-02T15:47:53.853Z"
   },
   {
    "duration": 0,
    "start_time": "2024-10-02T15:47:53.855Z"
   },
   {
    "duration": 0,
    "start_time": "2024-10-02T15:47:53.856Z"
   },
   {
    "duration": 0,
    "start_time": "2024-10-02T15:47:53.858Z"
   },
   {
    "duration": 0,
    "start_time": "2024-10-02T15:47:53.859Z"
   },
   {
    "duration": 0,
    "start_time": "2024-10-02T15:47:53.861Z"
   },
   {
    "duration": 0,
    "start_time": "2024-10-02T15:47:53.862Z"
   },
   {
    "duration": 0,
    "start_time": "2024-10-02T15:47:53.864Z"
   },
   {
    "duration": 0,
    "start_time": "2024-10-02T15:47:53.865Z"
   },
   {
    "duration": 0,
    "start_time": "2024-10-02T15:47:53.867Z"
   },
   {
    "duration": 0,
    "start_time": "2024-10-02T15:47:53.868Z"
   },
   {
    "duration": 0,
    "start_time": "2024-10-02T15:47:53.910Z"
   },
   {
    "duration": 1,
    "start_time": "2024-10-02T15:47:53.911Z"
   },
   {
    "duration": 0,
    "start_time": "2024-10-02T15:47:53.912Z"
   },
   {
    "duration": 0,
    "start_time": "2024-10-02T15:47:53.913Z"
   },
   {
    "duration": 14,
    "start_time": "2024-10-02T15:51:03.212Z"
   },
   {
    "duration": 14,
    "start_time": "2024-10-02T15:51:09.868Z"
   },
   {
    "duration": 496,
    "start_time": "2024-10-02T15:51:22.654Z"
   },
   {
    "duration": 5,
    "start_time": "2024-10-02T15:51:23.153Z"
   },
   {
    "duration": 87,
    "start_time": "2024-10-02T15:51:23.159Z"
   },
   {
    "duration": 215,
    "start_time": "2024-10-02T15:51:23.247Z"
   },
   {
    "duration": 983,
    "start_time": "2024-10-02T15:51:23.464Z"
   },
   {
    "duration": 11,
    "start_time": "2024-10-02T15:51:24.449Z"
   },
   {
    "duration": 21,
    "start_time": "2024-10-02T15:51:24.461Z"
   },
   {
    "duration": 27,
    "start_time": "2024-10-02T15:51:24.484Z"
   },
   {
    "duration": 12,
    "start_time": "2024-10-02T15:51:24.513Z"
   },
   {
    "duration": 6,
    "start_time": "2024-10-02T15:51:24.527Z"
   },
   {
    "duration": 639,
    "start_time": "2024-10-02T15:51:24.535Z"
   },
   {
    "duration": 0,
    "start_time": "2024-10-02T15:51:25.177Z"
   },
   {
    "duration": 0,
    "start_time": "2024-10-02T15:51:25.179Z"
   },
   {
    "duration": 0,
    "start_time": "2024-10-02T15:51:25.180Z"
   },
   {
    "duration": 0,
    "start_time": "2024-10-02T15:51:25.182Z"
   },
   {
    "duration": 0,
    "start_time": "2024-10-02T15:51:25.183Z"
   },
   {
    "duration": 0,
    "start_time": "2024-10-02T15:51:25.184Z"
   },
   {
    "duration": 0,
    "start_time": "2024-10-02T15:51:25.186Z"
   },
   {
    "duration": 0,
    "start_time": "2024-10-02T15:51:25.187Z"
   },
   {
    "duration": 0,
    "start_time": "2024-10-02T15:51:25.189Z"
   },
   {
    "duration": 0,
    "start_time": "2024-10-02T15:51:25.210Z"
   },
   {
    "duration": 0,
    "start_time": "2024-10-02T15:51:25.211Z"
   },
   {
    "duration": 0,
    "start_time": "2024-10-02T15:51:25.212Z"
   },
   {
    "duration": 0,
    "start_time": "2024-10-02T15:51:25.214Z"
   },
   {
    "duration": 0,
    "start_time": "2024-10-02T15:51:25.216Z"
   },
   {
    "duration": 0,
    "start_time": "2024-10-02T15:51:25.217Z"
   },
   {
    "duration": 0,
    "start_time": "2024-10-02T15:51:25.219Z"
   },
   {
    "duration": 0,
    "start_time": "2024-10-02T15:51:25.220Z"
   },
   {
    "duration": 0,
    "start_time": "2024-10-02T15:51:25.222Z"
   },
   {
    "duration": 0,
    "start_time": "2024-10-02T15:51:25.224Z"
   },
   {
    "duration": 0,
    "start_time": "2024-10-02T15:51:25.225Z"
   },
   {
    "duration": 0,
    "start_time": "2024-10-02T15:51:25.227Z"
   },
   {
    "duration": 0,
    "start_time": "2024-10-02T15:51:25.228Z"
   },
   {
    "duration": 0,
    "start_time": "2024-10-02T15:51:25.229Z"
   },
   {
    "duration": 517,
    "start_time": "2024-10-02T16:00:59.010Z"
   },
   {
    "duration": 5,
    "start_time": "2024-10-02T16:00:59.529Z"
   },
   {
    "duration": 50,
    "start_time": "2024-10-02T16:00:59.536Z"
   },
   {
    "duration": 26,
    "start_time": "2024-10-02T16:00:59.589Z"
   },
   {
    "duration": 8,
    "start_time": "2024-10-02T16:00:59.617Z"
   },
   {
    "duration": 8,
    "start_time": "2024-10-02T16:00:59.628Z"
   },
   {
    "duration": 8,
    "start_time": "2024-10-02T16:00:59.639Z"
   },
   {
    "duration": 217,
    "start_time": "2024-10-02T16:00:59.650Z"
   },
   {
    "duration": 0,
    "start_time": "2024-10-02T16:00:59.871Z"
   },
   {
    "duration": 0,
    "start_time": "2024-10-02T16:00:59.872Z"
   },
   {
    "duration": 0,
    "start_time": "2024-10-02T16:00:59.873Z"
   },
   {
    "duration": 0,
    "start_time": "2024-10-02T16:00:59.875Z"
   },
   {
    "duration": 0,
    "start_time": "2024-10-02T16:00:59.875Z"
   },
   {
    "duration": 0,
    "start_time": "2024-10-02T16:00:59.876Z"
   },
   {
    "duration": 0,
    "start_time": "2024-10-02T16:00:59.877Z"
   },
   {
    "duration": 0,
    "start_time": "2024-10-02T16:00:59.878Z"
   },
   {
    "duration": 0,
    "start_time": "2024-10-02T16:00:59.879Z"
   },
   {
    "duration": 0,
    "start_time": "2024-10-02T16:00:59.880Z"
   },
   {
    "duration": 0,
    "start_time": "2024-10-02T16:00:59.881Z"
   },
   {
    "duration": 0,
    "start_time": "2024-10-02T16:00:59.883Z"
   },
   {
    "duration": 0,
    "start_time": "2024-10-02T16:00:59.884Z"
   },
   {
    "duration": 0,
    "start_time": "2024-10-02T16:00:59.908Z"
   },
   {
    "duration": 0,
    "start_time": "2024-10-02T16:00:59.910Z"
   },
   {
    "duration": 0,
    "start_time": "2024-10-02T16:00:59.911Z"
   },
   {
    "duration": 0,
    "start_time": "2024-10-02T16:00:59.912Z"
   },
   {
    "duration": 0,
    "start_time": "2024-10-02T16:00:59.913Z"
   },
   {
    "duration": 0,
    "start_time": "2024-10-02T16:00:59.914Z"
   },
   {
    "duration": 0,
    "start_time": "2024-10-02T16:00:59.915Z"
   },
   {
    "duration": 0,
    "start_time": "2024-10-02T16:00:59.916Z"
   },
   {
    "duration": 0,
    "start_time": "2024-10-02T16:00:59.917Z"
   },
   {
    "duration": 0,
    "start_time": "2024-10-02T16:00:59.918Z"
   },
   {
    "duration": 0,
    "start_time": "2024-10-02T16:00:59.919Z"
   },
   {
    "duration": 0,
    "start_time": "2024-10-02T16:00:59.920Z"
   },
   {
    "duration": 0,
    "start_time": "2024-10-02T16:00:59.921Z"
   },
   {
    "duration": 45,
    "start_time": "2024-10-02T16:04:35.453Z"
   },
   {
    "duration": 541,
    "start_time": "2024-10-02T16:04:45.105Z"
   },
   {
    "duration": 5,
    "start_time": "2024-10-02T16:04:45.648Z"
   },
   {
    "duration": 44,
    "start_time": "2024-10-02T16:04:45.655Z"
   },
   {
    "duration": 44,
    "start_time": "2024-10-02T16:04:45.710Z"
   },
   {
    "duration": 973,
    "start_time": "2024-10-02T16:04:45.756Z"
   },
   {
    "duration": 8,
    "start_time": "2024-10-02T16:04:46.731Z"
   },
   {
    "duration": 42,
    "start_time": "2024-10-02T16:04:46.740Z"
   },
   {
    "duration": 28,
    "start_time": "2024-10-02T16:04:46.784Z"
   },
   {
    "duration": 10,
    "start_time": "2024-10-02T16:04:46.814Z"
   },
   {
    "duration": 666,
    "start_time": "2024-10-02T16:04:46.827Z"
   },
   {
    "duration": 0,
    "start_time": "2024-10-02T16:04:47.495Z"
   },
   {
    "duration": 0,
    "start_time": "2024-10-02T16:04:47.497Z"
   },
   {
    "duration": 0,
    "start_time": "2024-10-02T16:04:47.498Z"
   },
   {
    "duration": 0,
    "start_time": "2024-10-02T16:04:47.500Z"
   },
   {
    "duration": 0,
    "start_time": "2024-10-02T16:04:47.509Z"
   },
   {
    "duration": 0,
    "start_time": "2024-10-02T16:04:47.510Z"
   },
   {
    "duration": 1,
    "start_time": "2024-10-02T16:04:47.511Z"
   },
   {
    "duration": 0,
    "start_time": "2024-10-02T16:04:47.513Z"
   },
   {
    "duration": 0,
    "start_time": "2024-10-02T16:04:47.514Z"
   },
   {
    "duration": 0,
    "start_time": "2024-10-02T16:04:47.515Z"
   },
   {
    "duration": 0,
    "start_time": "2024-10-02T16:04:47.517Z"
   },
   {
    "duration": 0,
    "start_time": "2024-10-02T16:04:47.518Z"
   },
   {
    "duration": 0,
    "start_time": "2024-10-02T16:04:47.519Z"
   },
   {
    "duration": 0,
    "start_time": "2024-10-02T16:04:47.520Z"
   },
   {
    "duration": 0,
    "start_time": "2024-10-02T16:04:47.522Z"
   },
   {
    "duration": 0,
    "start_time": "2024-10-02T16:04:47.523Z"
   },
   {
    "duration": 0,
    "start_time": "2024-10-02T16:04:47.524Z"
   },
   {
    "duration": 0,
    "start_time": "2024-10-02T16:04:47.525Z"
   },
   {
    "duration": 0,
    "start_time": "2024-10-02T16:04:47.526Z"
   },
   {
    "duration": 0,
    "start_time": "2024-10-02T16:04:47.527Z"
   },
   {
    "duration": 0,
    "start_time": "2024-10-02T16:04:47.528Z"
   },
   {
    "duration": 0,
    "start_time": "2024-10-02T16:04:47.529Z"
   },
   {
    "duration": 0,
    "start_time": "2024-10-02T16:04:47.530Z"
   },
   {
    "duration": 10,
    "start_time": "2024-10-02T16:06:34.802Z"
   },
   {
    "duration": 7,
    "start_time": "2024-10-02T16:06:40.778Z"
   },
   {
    "duration": 535,
    "start_time": "2024-10-02T16:08:17.848Z"
   },
   {
    "duration": 6,
    "start_time": "2024-10-02T16:08:18.385Z"
   },
   {
    "duration": 48,
    "start_time": "2024-10-02T16:08:18.392Z"
   },
   {
    "duration": 43,
    "start_time": "2024-10-02T16:08:18.442Z"
   },
   {
    "duration": 945,
    "start_time": "2024-10-02T16:08:18.487Z"
   },
   {
    "duration": 7,
    "start_time": "2024-10-02T16:08:19.434Z"
   },
   {
    "duration": 40,
    "start_time": "2024-10-02T16:08:19.442Z"
   },
   {
    "duration": 32,
    "start_time": "2024-10-02T16:08:19.484Z"
   },
   {
    "duration": 55,
    "start_time": "2024-10-02T16:08:19.518Z"
   },
   {
    "duration": 731,
    "start_time": "2024-10-02T16:08:19.578Z"
   },
   {
    "duration": 0,
    "start_time": "2024-10-02T16:08:20.311Z"
   },
   {
    "duration": 1,
    "start_time": "2024-10-02T16:08:20.312Z"
   },
   {
    "duration": 0,
    "start_time": "2024-10-02T16:08:20.314Z"
   },
   {
    "duration": 0,
    "start_time": "2024-10-02T16:08:20.316Z"
   },
   {
    "duration": 0,
    "start_time": "2024-10-02T16:08:20.317Z"
   },
   {
    "duration": 0,
    "start_time": "2024-10-02T16:08:20.319Z"
   },
   {
    "duration": 0,
    "start_time": "2024-10-02T16:08:20.321Z"
   },
   {
    "duration": 0,
    "start_time": "2024-10-02T16:08:20.322Z"
   },
   {
    "duration": 0,
    "start_time": "2024-10-02T16:08:20.324Z"
   },
   {
    "duration": 0,
    "start_time": "2024-10-02T16:08:20.325Z"
   },
   {
    "duration": 0,
    "start_time": "2024-10-02T16:08:20.327Z"
   },
   {
    "duration": 0,
    "start_time": "2024-10-02T16:08:20.328Z"
   },
   {
    "duration": 0,
    "start_time": "2024-10-02T16:08:20.329Z"
   },
   {
    "duration": 0,
    "start_time": "2024-10-02T16:08:20.331Z"
   },
   {
    "duration": 0,
    "start_time": "2024-10-02T16:08:20.332Z"
   },
   {
    "duration": 0,
    "start_time": "2024-10-02T16:08:20.333Z"
   },
   {
    "duration": 0,
    "start_time": "2024-10-02T16:08:20.334Z"
   },
   {
    "duration": 0,
    "start_time": "2024-10-02T16:08:20.335Z"
   },
   {
    "duration": 0,
    "start_time": "2024-10-02T16:08:20.336Z"
   },
   {
    "duration": 0,
    "start_time": "2024-10-02T16:08:20.337Z"
   },
   {
    "duration": 0,
    "start_time": "2024-10-02T16:08:20.338Z"
   },
   {
    "duration": 0,
    "start_time": "2024-10-02T16:08:20.339Z"
   },
   {
    "duration": 0,
    "start_time": "2024-10-02T16:08:20.340Z"
   },
   {
    "duration": 500,
    "start_time": "2024-10-02T16:10:48.654Z"
   },
   {
    "duration": 6,
    "start_time": "2024-10-02T16:10:49.156Z"
   },
   {
    "duration": 55,
    "start_time": "2024-10-02T16:10:49.164Z"
   },
   {
    "duration": 47,
    "start_time": "2024-10-02T16:10:49.222Z"
   },
   {
    "duration": 958,
    "start_time": "2024-10-02T16:10:49.271Z"
   },
   {
    "duration": 6,
    "start_time": "2024-10-02T16:10:50.231Z"
   },
   {
    "duration": 45,
    "start_time": "2024-10-02T16:10:50.239Z"
   },
   {
    "duration": 35,
    "start_time": "2024-10-02T16:10:50.286Z"
   },
   {
    "duration": 57,
    "start_time": "2024-10-02T16:10:50.323Z"
   },
   {
    "duration": 494,
    "start_time": "2024-10-02T16:10:50.383Z"
   },
   {
    "duration": 7,
    "start_time": "2024-10-02T16:10:50.879Z"
   },
   {
    "duration": 273,
    "start_time": "2024-10-02T16:10:50.888Z"
   },
   {
    "duration": 0,
    "start_time": "2024-10-02T16:10:51.163Z"
   },
   {
    "duration": 0,
    "start_time": "2024-10-02T16:10:51.165Z"
   },
   {
    "duration": 0,
    "start_time": "2024-10-02T16:10:51.166Z"
   },
   {
    "duration": 0,
    "start_time": "2024-10-02T16:10:51.167Z"
   },
   {
    "duration": 0,
    "start_time": "2024-10-02T16:10:51.168Z"
   },
   {
    "duration": 0,
    "start_time": "2024-10-02T16:10:51.170Z"
   },
   {
    "duration": 0,
    "start_time": "2024-10-02T16:10:51.172Z"
   },
   {
    "duration": 0,
    "start_time": "2024-10-02T16:10:51.173Z"
   },
   {
    "duration": 0,
    "start_time": "2024-10-02T16:10:51.174Z"
   },
   {
    "duration": 0,
    "start_time": "2024-10-02T16:10:51.176Z"
   },
   {
    "duration": 0,
    "start_time": "2024-10-02T16:10:51.177Z"
   },
   {
    "duration": 0,
    "start_time": "2024-10-02T16:10:51.179Z"
   },
   {
    "duration": 0,
    "start_time": "2024-10-02T16:10:51.180Z"
   },
   {
    "duration": 0,
    "start_time": "2024-10-02T16:10:51.209Z"
   },
   {
    "duration": 0,
    "start_time": "2024-10-02T16:10:51.211Z"
   },
   {
    "duration": 0,
    "start_time": "2024-10-02T16:10:51.212Z"
   },
   {
    "duration": 0,
    "start_time": "2024-10-02T16:10:51.214Z"
   },
   {
    "duration": 0,
    "start_time": "2024-10-02T16:10:51.215Z"
   },
   {
    "duration": 0,
    "start_time": "2024-10-02T16:10:51.217Z"
   },
   {
    "duration": 0,
    "start_time": "2024-10-02T16:10:51.219Z"
   },
   {
    "duration": 0,
    "start_time": "2024-10-02T16:10:51.219Z"
   },
   {
    "duration": 924,
    "start_time": "2024-10-02T16:13:02.836Z"
   },
   {
    "duration": 2477,
    "start_time": "2024-10-02T16:13:50.100Z"
   },
   {
    "duration": 4498,
    "start_time": "2024-10-02T16:14:11.959Z"
   },
   {
    "duration": 2882,
    "start_time": "2024-10-02T16:14:54.303Z"
   },
   {
    "duration": 3124,
    "start_time": "2024-10-02T16:15:53.007Z"
   },
   {
    "duration": 3147,
    "start_time": "2024-10-02T16:16:15.075Z"
   },
   {
    "duration": 3627,
    "start_time": "2024-10-02T16:20:25.296Z"
   },
   {
    "duration": 6,
    "start_time": "2024-10-02T16:20:28.926Z"
   },
   {
    "duration": 45,
    "start_time": "2024-10-02T16:20:28.933Z"
   },
   {
    "duration": 62,
    "start_time": "2024-10-02T16:20:28.980Z"
   },
   {
    "duration": 946,
    "start_time": "2024-10-02T16:20:29.043Z"
   },
   {
    "duration": 18,
    "start_time": "2024-10-02T16:20:29.991Z"
   },
   {
    "duration": 41,
    "start_time": "2024-10-02T16:20:30.010Z"
   },
   {
    "duration": 15,
    "start_time": "2024-10-02T16:20:30.053Z"
   },
   {
    "duration": 67,
    "start_time": "2024-10-02T16:20:30.070Z"
   },
   {
    "duration": 451,
    "start_time": "2024-10-02T16:20:30.140Z"
   },
   {
    "duration": 12,
    "start_time": "2024-10-02T16:20:30.608Z"
   },
   {
    "duration": 886,
    "start_time": "2024-10-02T16:20:30.621Z"
   },
   {
    "duration": 0,
    "start_time": "2024-10-02T16:20:31.509Z"
   },
   {
    "duration": 0,
    "start_time": "2024-10-02T16:20:31.511Z"
   },
   {
    "duration": 0,
    "start_time": "2024-10-02T16:20:31.512Z"
   },
   {
    "duration": 0,
    "start_time": "2024-10-02T16:20:31.514Z"
   },
   {
    "duration": 0,
    "start_time": "2024-10-02T16:20:31.515Z"
   },
   {
    "duration": 0,
    "start_time": "2024-10-02T16:20:31.518Z"
   },
   {
    "duration": 0,
    "start_time": "2024-10-02T16:20:31.520Z"
   },
   {
    "duration": 0,
    "start_time": "2024-10-02T16:20:31.521Z"
   },
   {
    "duration": 0,
    "start_time": "2024-10-02T16:20:31.523Z"
   },
   {
    "duration": 0,
    "start_time": "2024-10-02T16:20:31.524Z"
   },
   {
    "duration": 0,
    "start_time": "2024-10-02T16:20:31.526Z"
   },
   {
    "duration": 0,
    "start_time": "2024-10-02T16:20:31.527Z"
   },
   {
    "duration": 0,
    "start_time": "2024-10-02T16:20:31.529Z"
   },
   {
    "duration": 0,
    "start_time": "2024-10-02T16:20:31.530Z"
   },
   {
    "duration": 0,
    "start_time": "2024-10-02T16:20:31.531Z"
   },
   {
    "duration": 0,
    "start_time": "2024-10-02T16:20:31.532Z"
   },
   {
    "duration": 0,
    "start_time": "2024-10-02T16:20:31.534Z"
   },
   {
    "duration": 0,
    "start_time": "2024-10-02T16:20:31.536Z"
   },
   {
    "duration": 0,
    "start_time": "2024-10-02T16:20:31.537Z"
   },
   {
    "duration": 0,
    "start_time": "2024-10-02T16:20:31.538Z"
   },
   {
    "duration": 0,
    "start_time": "2024-10-02T16:20:31.539Z"
   },
   {
    "duration": 3,
    "start_time": "2024-10-02T16:21:33.938Z"
   },
   {
    "duration": 52,
    "start_time": "2024-10-02T16:22:23.570Z"
   },
   {
    "duration": 44,
    "start_time": "2024-10-02T16:30:51.612Z"
   },
   {
    "duration": 3682,
    "start_time": "2024-10-02T16:30:56.050Z"
   },
   {
    "duration": 6,
    "start_time": "2024-10-02T16:30:59.734Z"
   },
   {
    "duration": 58,
    "start_time": "2024-10-02T16:30:59.742Z"
   },
   {
    "duration": 46,
    "start_time": "2024-10-02T16:30:59.803Z"
   },
   {
    "duration": 950,
    "start_time": "2024-10-02T16:30:59.851Z"
   },
   {
    "duration": 9,
    "start_time": "2024-10-02T16:31:00.803Z"
   },
   {
    "duration": 39,
    "start_time": "2024-10-02T16:31:00.814Z"
   },
   {
    "duration": 9,
    "start_time": "2024-10-02T16:31:00.854Z"
   },
   {
    "duration": 65,
    "start_time": "2024-10-02T16:31:00.865Z"
   },
   {
    "duration": 478,
    "start_time": "2024-10-02T16:31:00.933Z"
   },
   {
    "duration": 8,
    "start_time": "2024-10-02T16:31:01.413Z"
   },
   {
    "duration": 3,
    "start_time": "2024-10-02T16:31:01.423Z"
   },
   {
    "duration": 850,
    "start_time": "2024-10-02T16:31:01.428Z"
   },
   {
    "duration": 0,
    "start_time": "2024-10-02T16:31:02.280Z"
   },
   {
    "duration": 0,
    "start_time": "2024-10-02T16:31:02.282Z"
   },
   {
    "duration": 0,
    "start_time": "2024-10-02T16:31:02.284Z"
   },
   {
    "duration": 0,
    "start_time": "2024-10-02T16:31:02.285Z"
   },
   {
    "duration": 0,
    "start_time": "2024-10-02T16:31:02.287Z"
   },
   {
    "duration": 0,
    "start_time": "2024-10-02T16:31:02.289Z"
   },
   {
    "duration": 0,
    "start_time": "2024-10-02T16:31:02.290Z"
   },
   {
    "duration": 0,
    "start_time": "2024-10-02T16:31:02.308Z"
   },
   {
    "duration": 0,
    "start_time": "2024-10-02T16:31:02.310Z"
   },
   {
    "duration": 0,
    "start_time": "2024-10-02T16:31:02.312Z"
   },
   {
    "duration": 0,
    "start_time": "2024-10-02T16:31:02.313Z"
   },
   {
    "duration": 0,
    "start_time": "2024-10-02T16:31:02.314Z"
   },
   {
    "duration": 0,
    "start_time": "2024-10-02T16:31:02.315Z"
   },
   {
    "duration": 0,
    "start_time": "2024-10-02T16:31:02.316Z"
   },
   {
    "duration": 0,
    "start_time": "2024-10-02T16:31:02.319Z"
   },
   {
    "duration": 0,
    "start_time": "2024-10-02T16:31:02.320Z"
   },
   {
    "duration": 0,
    "start_time": "2024-10-02T16:31:02.322Z"
   },
   {
    "duration": 0,
    "start_time": "2024-10-02T16:31:02.323Z"
   },
   {
    "duration": 0,
    "start_time": "2024-10-02T16:31:02.325Z"
   },
   {
    "duration": 0,
    "start_time": "2024-10-02T16:31:02.326Z"
   },
   {
    "duration": 0,
    "start_time": "2024-10-02T16:31:02.328Z"
   },
   {
    "duration": 45,
    "start_time": "2024-10-02T16:32:24.468Z"
   },
   {
    "duration": 23,
    "start_time": "2024-10-02T16:33:13.941Z"
   },
   {
    "duration": 1572,
    "start_time": "2024-10-02T16:37:13.134Z"
   },
   {
    "duration": 0,
    "start_time": "2024-10-02T16:37:14.710Z"
   },
   {
    "duration": 0,
    "start_time": "2024-10-02T16:37:14.711Z"
   },
   {
    "duration": 0,
    "start_time": "2024-10-02T16:37:14.712Z"
   },
   {
    "duration": 0,
    "start_time": "2024-10-02T16:37:14.714Z"
   },
   {
    "duration": 0,
    "start_time": "2024-10-02T16:37:14.715Z"
   },
   {
    "duration": 0,
    "start_time": "2024-10-02T16:37:14.716Z"
   },
   {
    "duration": 0,
    "start_time": "2024-10-02T16:37:14.717Z"
   },
   {
    "duration": 0,
    "start_time": "2024-10-02T16:37:14.718Z"
   },
   {
    "duration": 0,
    "start_time": "2024-10-02T16:37:14.719Z"
   },
   {
    "duration": 0,
    "start_time": "2024-10-02T16:37:14.720Z"
   },
   {
    "duration": 0,
    "start_time": "2024-10-02T16:37:14.721Z"
   },
   {
    "duration": 0,
    "start_time": "2024-10-02T16:37:14.722Z"
   },
   {
    "duration": 0,
    "start_time": "2024-10-02T16:37:14.723Z"
   },
   {
    "duration": 0,
    "start_time": "2024-10-02T16:37:14.723Z"
   },
   {
    "duration": 0,
    "start_time": "2024-10-02T16:37:14.724Z"
   },
   {
    "duration": 0,
    "start_time": "2024-10-02T16:37:14.725Z"
   },
   {
    "duration": 0,
    "start_time": "2024-10-02T16:37:14.726Z"
   },
   {
    "duration": 0,
    "start_time": "2024-10-02T16:37:14.727Z"
   },
   {
    "duration": 0,
    "start_time": "2024-10-02T16:37:14.728Z"
   },
   {
    "duration": 0,
    "start_time": "2024-10-02T16:37:14.729Z"
   },
   {
    "duration": 0,
    "start_time": "2024-10-02T16:37:14.730Z"
   },
   {
    "duration": 0,
    "start_time": "2024-10-02T16:37:14.730Z"
   },
   {
    "duration": 0,
    "start_time": "2024-10-02T16:37:14.731Z"
   },
   {
    "duration": 0,
    "start_time": "2024-10-02T16:37:14.732Z"
   },
   {
    "duration": 0,
    "start_time": "2024-10-02T16:37:14.733Z"
   },
   {
    "duration": 0,
    "start_time": "2024-10-02T16:37:14.734Z"
   },
   {
    "duration": 0,
    "start_time": "2024-10-02T16:37:14.735Z"
   },
   {
    "duration": 0,
    "start_time": "2024-10-02T16:37:14.736Z"
   },
   {
    "duration": 0,
    "start_time": "2024-10-02T16:37:14.737Z"
   },
   {
    "duration": 0,
    "start_time": "2024-10-02T16:37:14.738Z"
   },
   {
    "duration": 0,
    "start_time": "2024-10-02T16:37:14.739Z"
   },
   {
    "duration": 0,
    "start_time": "2024-10-02T16:37:14.740Z"
   },
   {
    "duration": 0,
    "start_time": "2024-10-02T16:37:14.741Z"
   },
   {
    "duration": 7,
    "start_time": "2024-10-02T16:37:41.803Z"
   },
   {
    "duration": 500,
    "start_time": "2024-10-02T16:37:45.835Z"
   },
   {
    "duration": 7,
    "start_time": "2024-10-02T16:37:46.337Z"
   },
   {
    "duration": 44,
    "start_time": "2024-10-02T16:37:46.346Z"
   },
   {
    "duration": 60,
    "start_time": "2024-10-02T16:37:46.392Z"
   },
   {
    "duration": 9,
    "start_time": "2024-10-02T16:37:46.455Z"
   },
   {
    "duration": 994,
    "start_time": "2024-10-02T16:37:46.466Z"
   },
   {
    "duration": 7,
    "start_time": "2024-10-02T16:37:47.462Z"
   },
   {
    "duration": 65,
    "start_time": "2024-10-02T16:37:47.471Z"
   },
   {
    "duration": 10,
    "start_time": "2024-10-02T16:37:47.538Z"
   },
   {
    "duration": 41,
    "start_time": "2024-10-02T16:37:47.550Z"
   },
   {
    "duration": 501,
    "start_time": "2024-10-02T16:37:47.609Z"
   },
   {
    "duration": 10,
    "start_time": "2024-10-02T16:37:48.113Z"
   },
   {
    "duration": 830,
    "start_time": "2024-10-02T16:37:48.125Z"
   },
   {
    "duration": 0,
    "start_time": "2024-10-02T16:37:48.958Z"
   },
   {
    "duration": 0,
    "start_time": "2024-10-02T16:37:48.959Z"
   },
   {
    "duration": 0,
    "start_time": "2024-10-02T16:37:48.960Z"
   },
   {
    "duration": 0,
    "start_time": "2024-10-02T16:37:48.962Z"
   },
   {
    "duration": 0,
    "start_time": "2024-10-02T16:37:48.963Z"
   },
   {
    "duration": 0,
    "start_time": "2024-10-02T16:37:48.964Z"
   },
   {
    "duration": 0,
    "start_time": "2024-10-02T16:37:48.966Z"
   },
   {
    "duration": 0,
    "start_time": "2024-10-02T16:37:48.967Z"
   },
   {
    "duration": 0,
    "start_time": "2024-10-02T16:37:48.969Z"
   },
   {
    "duration": 0,
    "start_time": "2024-10-02T16:37:48.971Z"
   },
   {
    "duration": 0,
    "start_time": "2024-10-02T16:37:48.972Z"
   },
   {
    "duration": 0,
    "start_time": "2024-10-02T16:37:48.976Z"
   },
   {
    "duration": 0,
    "start_time": "2024-10-02T16:37:48.977Z"
   },
   {
    "duration": 0,
    "start_time": "2024-10-02T16:37:48.979Z"
   },
   {
    "duration": 0,
    "start_time": "2024-10-02T16:37:49.009Z"
   },
   {
    "duration": 0,
    "start_time": "2024-10-02T16:37:49.012Z"
   },
   {
    "duration": 0,
    "start_time": "2024-10-02T16:37:49.013Z"
   },
   {
    "duration": 0,
    "start_time": "2024-10-02T16:37:49.015Z"
   },
   {
    "duration": 0,
    "start_time": "2024-10-02T16:37:49.016Z"
   },
   {
    "duration": 0,
    "start_time": "2024-10-02T16:37:49.017Z"
   },
   {
    "duration": 0,
    "start_time": "2024-10-02T16:37:49.019Z"
   },
   {
    "duration": 47,
    "start_time": "2024-10-02T16:38:59.891Z"
   },
   {
    "duration": 53,
    "start_time": "2024-10-02T16:41:18.634Z"
   },
   {
    "duration": 44,
    "start_time": "2024-10-02T16:42:29.841Z"
   },
   {
    "duration": 64,
    "start_time": "2024-10-02T16:47:53.866Z"
   },
   {
    "duration": 512,
    "start_time": "2024-10-02T16:48:05.424Z"
   },
   {
    "duration": 7,
    "start_time": "2024-10-02T16:48:05.938Z"
   },
   {
    "duration": 50,
    "start_time": "2024-10-02T16:48:05.947Z"
   },
   {
    "duration": 55,
    "start_time": "2024-10-02T16:48:06.009Z"
   },
   {
    "duration": 1088,
    "start_time": "2024-10-02T16:48:06.067Z"
   },
   {
    "duration": 6,
    "start_time": "2024-10-02T16:48:07.157Z"
   },
   {
    "duration": 58,
    "start_time": "2024-10-02T16:48:07.165Z"
   },
   {
    "duration": 11,
    "start_time": "2024-10-02T16:48:07.225Z"
   },
   {
    "duration": 30,
    "start_time": "2024-10-02T16:48:07.238Z"
   },
   {
    "duration": 467,
    "start_time": "2024-10-02T16:48:07.271Z"
   },
   {
    "duration": 9,
    "start_time": "2024-10-02T16:48:07.740Z"
   },
   {
    "duration": 910,
    "start_time": "2024-10-02T16:48:07.752Z"
   },
   {
    "duration": 0,
    "start_time": "2024-10-02T16:48:08.664Z"
   },
   {
    "duration": 0,
    "start_time": "2024-10-02T16:48:08.666Z"
   },
   {
    "duration": 0,
    "start_time": "2024-10-02T16:48:08.667Z"
   },
   {
    "duration": 0,
    "start_time": "2024-10-02T16:48:08.668Z"
   },
   {
    "duration": 0,
    "start_time": "2024-10-02T16:48:08.669Z"
   },
   {
    "duration": 0,
    "start_time": "2024-10-02T16:48:08.670Z"
   },
   {
    "duration": 0,
    "start_time": "2024-10-02T16:48:08.671Z"
   },
   {
    "duration": 0,
    "start_time": "2024-10-02T16:48:08.672Z"
   },
   {
    "duration": 0,
    "start_time": "2024-10-02T16:48:08.673Z"
   },
   {
    "duration": 0,
    "start_time": "2024-10-02T16:48:08.674Z"
   },
   {
    "duration": 0,
    "start_time": "2024-10-02T16:48:08.675Z"
   },
   {
    "duration": 0,
    "start_time": "2024-10-02T16:48:08.676Z"
   },
   {
    "duration": 0,
    "start_time": "2024-10-02T16:48:08.677Z"
   },
   {
    "duration": 0,
    "start_time": "2024-10-02T16:48:08.678Z"
   },
   {
    "duration": 0,
    "start_time": "2024-10-02T16:48:08.680Z"
   },
   {
    "duration": 0,
    "start_time": "2024-10-02T16:48:08.709Z"
   },
   {
    "duration": 0,
    "start_time": "2024-10-02T16:48:08.710Z"
   },
   {
    "duration": 0,
    "start_time": "2024-10-02T16:48:08.712Z"
   },
   {
    "duration": 0,
    "start_time": "2024-10-02T16:48:08.714Z"
   },
   {
    "duration": 0,
    "start_time": "2024-10-02T16:48:08.715Z"
   },
   {
    "duration": 0,
    "start_time": "2024-10-02T16:48:08.717Z"
   },
   {
    "duration": 8,
    "start_time": "2024-10-02T16:49:16.302Z"
   },
   {
    "duration": 548,
    "start_time": "2024-10-02T16:51:51.983Z"
   },
   {
    "duration": 6,
    "start_time": "2024-10-02T16:51:52.533Z"
   },
   {
    "duration": 43,
    "start_time": "2024-10-02T16:51:52.541Z"
   },
   {
    "duration": 69,
    "start_time": "2024-10-02T16:51:52.586Z"
   },
   {
    "duration": 8,
    "start_time": "2024-10-02T16:51:52.657Z"
   },
   {
    "duration": 1094,
    "start_time": "2024-10-02T16:51:52.667Z"
   },
   {
    "duration": 8,
    "start_time": "2024-10-02T16:51:53.763Z"
   },
   {
    "duration": 51,
    "start_time": "2024-10-02T16:51:53.773Z"
   },
   {
    "duration": 10,
    "start_time": "2024-10-02T16:51:53.825Z"
   },
   {
    "duration": 28,
    "start_time": "2024-10-02T16:51:53.837Z"
   },
   {
    "duration": 474,
    "start_time": "2024-10-02T16:51:53.867Z"
   },
   {
    "duration": 7,
    "start_time": "2024-10-02T16:51:54.344Z"
   },
   {
    "duration": 609,
    "start_time": "2024-10-02T16:51:54.353Z"
   },
   {
    "duration": 0,
    "start_time": "2024-10-02T16:51:54.965Z"
   },
   {
    "duration": 0,
    "start_time": "2024-10-02T16:51:54.966Z"
   },
   {
    "duration": 0,
    "start_time": "2024-10-02T16:51:54.967Z"
   },
   {
    "duration": 0,
    "start_time": "2024-10-02T16:51:54.968Z"
   },
   {
    "duration": 0,
    "start_time": "2024-10-02T16:51:54.969Z"
   },
   {
    "duration": 0,
    "start_time": "2024-10-02T16:51:54.970Z"
   },
   {
    "duration": 0,
    "start_time": "2024-10-02T16:51:54.972Z"
   },
   {
    "duration": 0,
    "start_time": "2024-10-02T16:51:54.973Z"
   },
   {
    "duration": 0,
    "start_time": "2024-10-02T16:51:54.975Z"
   },
   {
    "duration": 0,
    "start_time": "2024-10-02T16:51:54.976Z"
   },
   {
    "duration": 0,
    "start_time": "2024-10-02T16:51:54.977Z"
   },
   {
    "duration": 0,
    "start_time": "2024-10-02T16:51:54.978Z"
   },
   {
    "duration": 0,
    "start_time": "2024-10-02T16:51:54.979Z"
   },
   {
    "duration": 0,
    "start_time": "2024-10-02T16:51:54.980Z"
   },
   {
    "duration": 0,
    "start_time": "2024-10-02T16:51:54.981Z"
   },
   {
    "duration": 0,
    "start_time": "2024-10-02T16:51:54.982Z"
   },
   {
    "duration": 0,
    "start_time": "2024-10-02T16:51:54.983Z"
   },
   {
    "duration": 0,
    "start_time": "2024-10-02T16:51:55.010Z"
   },
   {
    "duration": 0,
    "start_time": "2024-10-02T16:51:55.011Z"
   },
   {
    "duration": 0,
    "start_time": "2024-10-02T16:51:55.012Z"
   },
   {
    "duration": 0,
    "start_time": "2024-10-02T16:51:55.013Z"
   },
   {
    "duration": 57,
    "start_time": "2024-10-02T16:58:22.999Z"
   },
   {
    "duration": 532,
    "start_time": "2024-10-02T16:58:32.992Z"
   },
   {
    "duration": 7,
    "start_time": "2024-10-02T16:58:33.526Z"
   },
   {
    "duration": 45,
    "start_time": "2024-10-02T16:58:33.534Z"
   },
   {
    "duration": 78,
    "start_time": "2024-10-02T16:58:33.582Z"
   },
   {
    "duration": 7,
    "start_time": "2024-10-02T16:58:33.662Z"
   },
   {
    "duration": 1080,
    "start_time": "2024-10-02T16:58:33.671Z"
   },
   {
    "duration": 6,
    "start_time": "2024-10-02T16:58:34.753Z"
   },
   {
    "duration": 48,
    "start_time": "2024-10-02T16:58:34.761Z"
   },
   {
    "duration": 11,
    "start_time": "2024-10-02T16:58:34.811Z"
   },
   {
    "duration": 25,
    "start_time": "2024-10-02T16:58:34.825Z"
   },
   {
    "duration": 488,
    "start_time": "2024-10-02T16:58:34.852Z"
   },
   {
    "duration": 9,
    "start_time": "2024-10-02T16:58:35.342Z"
   },
   {
    "duration": 617,
    "start_time": "2024-10-02T16:58:35.352Z"
   },
   {
    "duration": 15,
    "start_time": "2024-10-02T16:58:35.971Z"
   },
   {
    "duration": 27,
    "start_time": "2024-10-02T16:58:35.988Z"
   },
   {
    "duration": 671,
    "start_time": "2024-10-02T16:58:36.017Z"
   },
   {
    "duration": 19,
    "start_time": "2024-10-02T16:58:36.690Z"
   },
   {
    "duration": 21,
    "start_time": "2024-10-02T16:58:36.711Z"
   },
   {
    "duration": 90,
    "start_time": "2024-10-02T16:58:36.733Z"
   },
   {
    "duration": 25,
    "start_time": "2024-10-02T16:58:36.825Z"
   },
   {
    "duration": 1011,
    "start_time": "2024-10-02T16:58:36.852Z"
   },
   {
    "duration": 74,
    "start_time": "2024-10-02T16:58:37.865Z"
   },
   {
    "duration": 2032,
    "start_time": "2024-10-02T16:58:37.940Z"
   },
   {
    "duration": 244,
    "start_time": "2024-10-02T16:58:39.976Z"
   },
   {
    "duration": 0,
    "start_time": "2024-10-02T16:58:40.223Z"
   },
   {
    "duration": 0,
    "start_time": "2024-10-02T16:58:40.224Z"
   },
   {
    "duration": 0,
    "start_time": "2024-10-02T16:58:40.226Z"
   },
   {
    "duration": 0,
    "start_time": "2024-10-02T16:58:40.228Z"
   },
   {
    "duration": 0,
    "start_time": "2024-10-02T16:58:40.229Z"
   },
   {
    "duration": 0,
    "start_time": "2024-10-02T16:58:40.230Z"
   },
   {
    "duration": 0,
    "start_time": "2024-10-02T16:58:40.231Z"
   },
   {
    "duration": 0,
    "start_time": "2024-10-02T16:58:40.232Z"
   },
   {
    "duration": 0,
    "start_time": "2024-10-02T16:58:40.234Z"
   },
   {
    "duration": 0,
    "start_time": "2024-10-02T16:58:40.236Z"
   },
   {
    "duration": 554,
    "start_time": "2024-10-02T17:05:29.498Z"
   },
   {
    "duration": 7,
    "start_time": "2024-10-02T17:05:30.054Z"
   },
   {
    "duration": 56,
    "start_time": "2024-10-02T17:05:30.062Z"
   },
   {
    "duration": 56,
    "start_time": "2024-10-02T17:05:30.120Z"
   },
   {
    "duration": 8,
    "start_time": "2024-10-02T17:05:30.178Z"
   },
   {
    "duration": 1085,
    "start_time": "2024-10-02T17:05:30.188Z"
   },
   {
    "duration": 7,
    "start_time": "2024-10-02T17:05:31.275Z"
   },
   {
    "duration": 49,
    "start_time": "2024-10-02T17:05:31.284Z"
   },
   {
    "duration": 10,
    "start_time": "2024-10-02T17:05:31.335Z"
   },
   {
    "duration": 26,
    "start_time": "2024-10-02T17:05:31.347Z"
   },
   {
    "duration": 461,
    "start_time": "2024-10-02T17:05:31.375Z"
   },
   {
    "duration": 7,
    "start_time": "2024-10-02T17:05:31.838Z"
   },
   {
    "duration": 551,
    "start_time": "2024-10-02T17:05:31.846Z"
   },
   {
    "duration": 10,
    "start_time": "2024-10-02T17:05:32.410Z"
   },
   {
    "duration": 39478,
    "start_time": "2024-10-02T17:05:32.422Z"
   },
   {
    "duration": 646,
    "start_time": "2024-10-02T17:06:11.902Z"
   },
   {
    "duration": 254,
    "start_time": "2024-10-02T17:06:12.550Z"
   },
   {
    "duration": 0,
    "start_time": "2024-10-02T17:06:12.806Z"
   },
   {
    "duration": 0,
    "start_time": "2024-10-02T17:06:12.809Z"
   },
   {
    "duration": 0,
    "start_time": "2024-10-02T17:06:12.810Z"
   },
   {
    "duration": 0,
    "start_time": "2024-10-02T17:06:12.812Z"
   },
   {
    "duration": 0,
    "start_time": "2024-10-02T17:06:12.814Z"
   },
   {
    "duration": 0,
    "start_time": "2024-10-02T17:06:12.815Z"
   },
   {
    "duration": 0,
    "start_time": "2024-10-02T17:06:12.816Z"
   },
   {
    "duration": 0,
    "start_time": "2024-10-02T17:06:12.818Z"
   },
   {
    "duration": 0,
    "start_time": "2024-10-02T17:06:12.819Z"
   },
   {
    "duration": 0,
    "start_time": "2024-10-02T17:06:12.820Z"
   },
   {
    "duration": 0,
    "start_time": "2024-10-02T17:06:12.821Z"
   },
   {
    "duration": 0,
    "start_time": "2024-10-02T17:06:12.822Z"
   },
   {
    "duration": 0,
    "start_time": "2024-10-02T17:06:12.823Z"
   },
   {
    "duration": 0,
    "start_time": "2024-10-02T17:06:12.824Z"
   },
   {
    "duration": 0,
    "start_time": "2024-10-02T17:06:12.824Z"
   },
   {
    "duration": 0,
    "start_time": "2024-10-02T17:06:12.825Z"
   },
   {
    "duration": 0,
    "start_time": "2024-10-02T17:06:12.826Z"
   },
   {
    "duration": 3378,
    "start_time": "2024-10-02T17:08:30.645Z"
   },
   {
    "duration": 3358,
    "start_time": "2024-10-02T17:08:37.007Z"
   },
   {
    "duration": 3380,
    "start_time": "2024-10-02T17:10:27.966Z"
   },
   {
    "duration": 550,
    "start_time": "2024-10-02T17:10:44.659Z"
   },
   {
    "duration": 7,
    "start_time": "2024-10-02T17:10:45.211Z"
   },
   {
    "duration": 47,
    "start_time": "2024-10-02T17:10:45.220Z"
   },
   {
    "duration": 78,
    "start_time": "2024-10-02T17:10:45.269Z"
   },
   {
    "duration": 8,
    "start_time": "2024-10-02T17:10:45.349Z"
   },
   {
    "duration": 1080,
    "start_time": "2024-10-02T17:10:45.358Z"
   },
   {
    "duration": 8,
    "start_time": "2024-10-02T17:10:46.440Z"
   },
   {
    "duration": 24,
    "start_time": "2024-10-02T17:10:46.450Z"
   },
   {
    "duration": 40,
    "start_time": "2024-10-02T17:10:46.476Z"
   },
   {
    "duration": 30,
    "start_time": "2024-10-02T17:10:46.520Z"
   },
   {
    "duration": 481,
    "start_time": "2024-10-02T17:10:46.552Z"
   },
   {
    "duration": 8,
    "start_time": "2024-10-02T17:10:47.035Z"
   },
   {
    "duration": 582,
    "start_time": "2024-10-02T17:10:47.044Z"
   },
   {
    "duration": 12,
    "start_time": "2024-10-02T17:10:47.628Z"
   },
   {
    "duration": 40033,
    "start_time": "2024-10-02T17:10:47.643Z"
   },
   {
    "duration": 694,
    "start_time": "2024-10-02T17:11:27.677Z"
   },
   {
    "duration": 3378,
    "start_time": "2024-10-02T17:11:28.374Z"
   },
   {
    "duration": 9,
    "start_time": "2024-10-02T17:11:31.754Z"
   },
   {
    "duration": 81,
    "start_time": "2024-10-02T17:11:31.765Z"
   },
   {
    "duration": 9,
    "start_time": "2024-10-02T17:11:31.847Z"
   },
   {
    "duration": 1009,
    "start_time": "2024-10-02T17:11:31.858Z"
   },
   {
    "duration": 68,
    "start_time": "2024-10-02T17:11:32.868Z"
   },
   {
    "duration": 2026,
    "start_time": "2024-10-02T17:11:32.937Z"
   },
   {
    "duration": 245,
    "start_time": "2024-10-02T17:11:34.965Z"
   },
   {
    "duration": 0,
    "start_time": "2024-10-02T17:11:35.212Z"
   },
   {
    "duration": 0,
    "start_time": "2024-10-02T17:11:35.213Z"
   },
   {
    "duration": 0,
    "start_time": "2024-10-02T17:11:35.214Z"
   },
   {
    "duration": 0,
    "start_time": "2024-10-02T17:11:35.215Z"
   },
   {
    "duration": 0,
    "start_time": "2024-10-02T17:11:35.216Z"
   },
   {
    "duration": 0,
    "start_time": "2024-10-02T17:11:35.218Z"
   },
   {
    "duration": 0,
    "start_time": "2024-10-02T17:11:35.219Z"
   },
   {
    "duration": 0,
    "start_time": "2024-10-02T17:11:35.221Z"
   },
   {
    "duration": 0,
    "start_time": "2024-10-02T17:11:35.223Z"
   },
   {
    "duration": 0,
    "start_time": "2024-10-02T17:11:35.224Z"
   },
   {
    "duration": 747,
    "start_time": "2024-10-02T17:17:16.606Z"
   },
   {
    "duration": 928,
    "start_time": "2024-10-02T17:17:45.535Z"
   },
   {
    "duration": 507,
    "start_time": "2024-10-02T17:21:22.109Z"
   },
   {
    "duration": 7,
    "start_time": "2024-10-02T17:21:22.618Z"
   },
   {
    "duration": 47,
    "start_time": "2024-10-02T17:21:22.627Z"
   },
   {
    "duration": 72,
    "start_time": "2024-10-02T17:21:22.676Z"
   },
   {
    "duration": 1063,
    "start_time": "2024-10-02T17:21:22.749Z"
   },
   {
    "duration": 9,
    "start_time": "2024-10-02T17:21:23.814Z"
   },
   {
    "duration": 26,
    "start_time": "2024-10-02T17:21:23.824Z"
   },
   {
    "duration": 9,
    "start_time": "2024-10-02T17:21:23.852Z"
   },
   {
    "duration": 63,
    "start_time": "2024-10-02T17:21:23.863Z"
   },
   {
    "duration": 502,
    "start_time": "2024-10-02T17:21:23.931Z"
   },
   {
    "duration": 8,
    "start_time": "2024-10-02T17:21:24.435Z"
   },
   {
    "duration": 553,
    "start_time": "2024-10-02T17:21:24.446Z"
   },
   {
    "duration": 11,
    "start_time": "2024-10-02T17:21:25.008Z"
   },
   {
    "duration": 39212,
    "start_time": "2024-10-02T17:21:25.022Z"
   },
   {
    "duration": 660,
    "start_time": "2024-10-02T17:22:04.236Z"
   },
   {
    "duration": 3356,
    "start_time": "2024-10-02T17:22:04.909Z"
   },
   {
    "duration": 9,
    "start_time": "2024-10-02T17:22:08.267Z"
   },
   {
    "duration": 88,
    "start_time": "2024-10-02T17:22:08.278Z"
   },
   {
    "duration": 43,
    "start_time": "2024-10-02T17:22:08.368Z"
   },
   {
    "duration": 1009,
    "start_time": "2024-10-02T17:22:08.413Z"
   },
   {
    "duration": 64,
    "start_time": "2024-10-02T17:22:09.424Z"
   },
   {
    "duration": 6473,
    "start_time": "2024-10-02T17:22:09.490Z"
   },
   {
    "duration": 5416,
    "start_time": "2024-10-02T17:22:15.966Z"
   },
   {
    "duration": 16,
    "start_time": "2024-10-02T17:22:21.384Z"
   },
   {
    "duration": 19033,
    "start_time": "2024-10-02T17:22:21.401Z"
   },
   {
    "duration": 22,
    "start_time": "2024-10-02T17:22:40.436Z"
   },
   {
    "duration": 6929,
    "start_time": "2024-10-02T17:22:40.460Z"
   },
   {
    "duration": 6864,
    "start_time": "2024-10-02T17:22:47.393Z"
   },
   {
    "duration": 422,
    "start_time": "2024-10-02T17:22:54.258Z"
   },
   {
    "duration": 0,
    "start_time": "2024-10-02T17:22:54.682Z"
   },
   {
    "duration": 0,
    "start_time": "2024-10-02T17:22:54.684Z"
   },
   {
    "duration": 0,
    "start_time": "2024-10-02T17:22:54.685Z"
   },
   {
    "duration": 0,
    "start_time": "2024-10-02T17:22:54.686Z"
   },
   {
    "duration": 3019,
    "start_time": "2024-10-02T17:25:21.067Z"
   },
   {
    "duration": 507,
    "start_time": "2024-10-02T17:25:44.128Z"
   },
   {
    "duration": 7,
    "start_time": "2024-10-02T17:25:44.637Z"
   },
   {
    "duration": 44,
    "start_time": "2024-10-02T17:25:44.646Z"
   },
   {
    "duration": 80,
    "start_time": "2024-10-02T17:25:44.692Z"
   },
   {
    "duration": 1062,
    "start_time": "2024-10-02T17:25:44.776Z"
   },
   {
    "duration": 7,
    "start_time": "2024-10-02T17:25:45.840Z"
   },
   {
    "duration": 24,
    "start_time": "2024-10-02T17:25:45.848Z"
   },
   {
    "duration": 37,
    "start_time": "2024-10-02T17:25:45.874Z"
   },
   {
    "duration": 26,
    "start_time": "2024-10-02T17:25:45.913Z"
   },
   {
    "duration": 490,
    "start_time": "2024-10-02T17:25:45.940Z"
   },
   {
    "duration": 9,
    "start_time": "2024-10-02T17:25:46.432Z"
   },
   {
    "duration": 555,
    "start_time": "2024-10-02T17:25:46.443Z"
   },
   {
    "duration": 16,
    "start_time": "2024-10-02T17:25:47.000Z"
   },
   {
    "duration": 39109,
    "start_time": "2024-10-02T17:25:47.020Z"
   },
   {
    "duration": 680,
    "start_time": "2024-10-02T17:26:26.131Z"
   },
   {
    "duration": 3397,
    "start_time": "2024-10-02T17:26:26.813Z"
   },
   {
    "duration": 9,
    "start_time": "2024-10-02T17:26:30.212Z"
   },
   {
    "duration": 92,
    "start_time": "2024-10-02T17:26:30.223Z"
   },
   {
    "duration": 34,
    "start_time": "2024-10-02T17:26:30.317Z"
   },
   {
    "duration": 1010,
    "start_time": "2024-10-02T17:26:30.353Z"
   },
   {
    "duration": 64,
    "start_time": "2024-10-02T17:26:31.365Z"
   },
   {
    "duration": 6459,
    "start_time": "2024-10-02T17:26:31.432Z"
   },
   {
    "duration": 5461,
    "start_time": "2024-10-02T17:26:37.893Z"
   },
   {
    "duration": 15,
    "start_time": "2024-10-02T17:26:43.356Z"
   },
   {
    "duration": 19028,
    "start_time": "2024-10-02T17:26:43.373Z"
   },
   {
    "duration": 18,
    "start_time": "2024-10-02T17:27:02.403Z"
   },
   {
    "duration": 6936,
    "start_time": "2024-10-02T17:27:02.423Z"
   },
   {
    "duration": 6859,
    "start_time": "2024-10-02T17:27:09.361Z"
   },
   {
    "duration": 409,
    "start_time": "2024-10-02T17:27:16.222Z"
   },
   {
    "duration": 0,
    "start_time": "2024-10-02T17:27:16.633Z"
   },
   {
    "duration": 0,
    "start_time": "2024-10-02T17:27:16.635Z"
   },
   {
    "duration": 0,
    "start_time": "2024-10-02T17:27:16.636Z"
   },
   {
    "duration": 0,
    "start_time": "2024-10-02T17:27:16.638Z"
   },
   {
    "duration": 547,
    "start_time": "2024-10-02T17:29:06.214Z"
   },
   {
    "duration": 7,
    "start_time": "2024-10-02T17:29:06.764Z"
   },
   {
    "duration": 58,
    "start_time": "2024-10-02T17:29:06.773Z"
   },
   {
    "duration": 61,
    "start_time": "2024-10-02T17:29:06.833Z"
   },
   {
    "duration": 1134,
    "start_time": "2024-10-02T17:29:06.909Z"
   },
   {
    "duration": 8,
    "start_time": "2024-10-02T17:29:08.046Z"
   },
   {
    "duration": 27,
    "start_time": "2024-10-02T17:29:08.056Z"
   },
   {
    "duration": 32,
    "start_time": "2024-10-02T17:29:08.085Z"
   },
   {
    "duration": 28,
    "start_time": "2024-10-02T17:29:08.119Z"
   },
   {
    "duration": 488,
    "start_time": "2024-10-02T17:29:08.150Z"
   },
   {
    "duration": 8,
    "start_time": "2024-10-02T17:29:08.641Z"
   },
   {
    "duration": 578,
    "start_time": "2024-10-02T17:29:08.651Z"
   },
   {
    "duration": 10,
    "start_time": "2024-10-02T17:29:09.232Z"
   },
   {
    "duration": 38914,
    "start_time": "2024-10-02T17:29:09.244Z"
   },
   {
    "duration": 666,
    "start_time": "2024-10-02T17:29:48.160Z"
   },
   {
    "duration": 3323,
    "start_time": "2024-10-02T17:29:48.828Z"
   },
   {
    "duration": 8,
    "start_time": "2024-10-02T17:29:52.153Z"
   },
   {
    "duration": 83,
    "start_time": "2024-10-02T17:29:52.164Z"
   },
   {
    "duration": 83,
    "start_time": "2024-10-02T17:29:52.249Z"
   },
   {
    "duration": 1009,
    "start_time": "2024-10-02T17:29:52.333Z"
   },
   {
    "duration": 70,
    "start_time": "2024-10-02T17:29:53.344Z"
   },
   {
    "duration": 6460,
    "start_time": "2024-10-02T17:29:53.416Z"
   },
   {
    "duration": 5424,
    "start_time": "2024-10-02T17:29:59.878Z"
   },
   {
    "duration": 1698,
    "start_time": "2024-10-02T17:30:05.304Z"
   },
   {
    "duration": 19150,
    "start_time": "2024-10-02T17:30:07.004Z"
   },
   {
    "duration": 17,
    "start_time": "2024-10-02T17:30:26.156Z"
   },
   {
    "duration": 6942,
    "start_time": "2024-10-02T17:30:26.174Z"
   },
   {
    "duration": 6859,
    "start_time": "2024-10-02T17:30:33.120Z"
   },
   {
    "duration": 417,
    "start_time": "2024-10-02T17:30:39.981Z"
   },
   {
    "duration": 0,
    "start_time": "2024-10-02T17:30:40.401Z"
   },
   {
    "duration": 0,
    "start_time": "2024-10-02T17:30:40.403Z"
   },
   {
    "duration": 0,
    "start_time": "2024-10-02T17:30:40.404Z"
   },
   {
    "duration": 0,
    "start_time": "2024-10-02T17:30:40.409Z"
   },
   {
    "duration": 3164,
    "start_time": "2024-10-02T17:31:47.913Z"
   },
   {
    "duration": 7,
    "start_time": "2024-10-02T17:32:01.211Z"
   },
   {
    "duration": 550,
    "start_time": "2024-10-02T17:32:07.787Z"
   },
   {
    "duration": 7,
    "start_time": "2024-10-02T17:32:08.338Z"
   },
   {
    "duration": 44,
    "start_time": "2024-10-02T17:32:08.346Z"
   },
   {
    "duration": 76,
    "start_time": "2024-10-02T17:32:08.392Z"
   },
   {
    "duration": 1088,
    "start_time": "2024-10-02T17:32:08.470Z"
   },
   {
    "duration": 8,
    "start_time": "2024-10-02T17:32:09.560Z"
   },
   {
    "duration": 41,
    "start_time": "2024-10-02T17:32:09.569Z"
   },
   {
    "duration": 10,
    "start_time": "2024-10-02T17:32:09.612Z"
   },
   {
    "duration": 26,
    "start_time": "2024-10-02T17:32:09.623Z"
   },
   {
    "duration": 482,
    "start_time": "2024-10-02T17:32:09.652Z"
   },
   {
    "duration": 9,
    "start_time": "2024-10-02T17:32:10.135Z"
   },
   {
    "duration": 569,
    "start_time": "2024-10-02T17:32:10.146Z"
   },
   {
    "duration": 11,
    "start_time": "2024-10-02T17:32:10.717Z"
   },
   {
    "duration": 39547,
    "start_time": "2024-10-02T17:32:10.731Z"
   },
   {
    "duration": 662,
    "start_time": "2024-10-02T17:32:50.280Z"
   },
   {
    "duration": 3293,
    "start_time": "2024-10-02T17:32:50.944Z"
   },
   {
    "duration": 9,
    "start_time": "2024-10-02T17:32:54.239Z"
   },
   {
    "duration": 76,
    "start_time": "2024-10-02T17:32:54.249Z"
   },
   {
    "duration": 69,
    "start_time": "2024-10-02T17:32:54.327Z"
   },
   {
    "duration": 1020,
    "start_time": "2024-10-02T17:32:54.397Z"
   },
   {
    "duration": 64,
    "start_time": "2024-10-02T17:32:55.419Z"
   },
   {
    "duration": 6460,
    "start_time": "2024-10-02T17:32:55.485Z"
   },
   {
    "duration": 5420,
    "start_time": "2024-10-02T17:33:01.947Z"
   },
   {
    "duration": 1729,
    "start_time": "2024-10-02T17:33:07.369Z"
   },
   {
    "duration": 19081,
    "start_time": "2024-10-02T17:33:09.099Z"
   },
   {
    "duration": 18,
    "start_time": "2024-10-02T17:33:28.182Z"
   },
   {
    "duration": 6933,
    "start_time": "2024-10-02T17:33:28.201Z"
   },
   {
    "duration": 6858,
    "start_time": "2024-10-02T17:33:35.137Z"
   },
   {
    "duration": 406,
    "start_time": "2024-10-02T17:33:41.997Z"
   },
   {
    "duration": 0,
    "start_time": "2024-10-02T17:33:42.404Z"
   },
   {
    "duration": 0,
    "start_time": "2024-10-02T17:33:42.405Z"
   },
   {
    "duration": 0,
    "start_time": "2024-10-02T17:33:42.406Z"
   },
   {
    "duration": 0,
    "start_time": "2024-10-02T17:33:42.407Z"
   },
   {
    "duration": 0,
    "start_time": "2024-10-02T17:33:42.410Z"
   },
   {
    "duration": 3,
    "start_time": "2024-10-02T17:34:06.869Z"
   },
   {
    "duration": 3615,
    "start_time": "2024-10-02T17:34:54.263Z"
   },
   {
    "duration": 511,
    "start_time": "2024-10-02T17:35:41.565Z"
   },
   {
    "duration": 6,
    "start_time": "2024-10-02T17:35:42.078Z"
   },
   {
    "duration": 56,
    "start_time": "2024-10-02T17:35:42.086Z"
   },
   {
    "duration": 70,
    "start_time": "2024-10-02T17:35:42.145Z"
   },
   {
    "duration": 1051,
    "start_time": "2024-10-02T17:35:42.217Z"
   },
   {
    "duration": 8,
    "start_time": "2024-10-02T17:35:43.270Z"
   },
   {
    "duration": 45,
    "start_time": "2024-10-02T17:35:43.279Z"
   },
   {
    "duration": 10,
    "start_time": "2024-10-02T17:35:43.326Z"
   },
   {
    "duration": 24,
    "start_time": "2024-10-02T17:35:43.338Z"
   },
   {
    "duration": 466,
    "start_time": "2024-10-02T17:35:43.366Z"
   },
   {
    "duration": 10,
    "start_time": "2024-10-02T17:35:43.835Z"
   },
   {
    "duration": 553,
    "start_time": "2024-10-02T17:35:43.847Z"
   },
   {
    "duration": 10,
    "start_time": "2024-10-02T17:35:44.409Z"
   },
   {
    "duration": 38899,
    "start_time": "2024-10-02T17:35:44.421Z"
   },
   {
    "duration": 660,
    "start_time": "2024-10-02T17:36:23.322Z"
   },
   {
    "duration": 3371,
    "start_time": "2024-10-02T17:36:23.984Z"
   },
   {
    "duration": 17,
    "start_time": "2024-10-02T17:36:27.357Z"
   },
   {
    "duration": 3,
    "start_time": "2024-10-02T17:36:27.376Z"
   },
   {
    "duration": 83,
    "start_time": "2024-10-02T17:36:27.381Z"
   },
   {
    "duration": 82,
    "start_time": "2024-10-02T17:36:27.467Z"
   },
   {
    "duration": 1009,
    "start_time": "2024-10-02T17:36:27.551Z"
   },
   {
    "duration": 67,
    "start_time": "2024-10-02T17:36:28.562Z"
   },
   {
    "duration": 6458,
    "start_time": "2024-10-02T17:36:28.631Z"
   },
   {
    "duration": 5428,
    "start_time": "2024-10-02T17:36:35.091Z"
   },
   {
    "duration": 1682,
    "start_time": "2024-10-02T17:36:40.522Z"
   },
   {
    "duration": 19040,
    "start_time": "2024-10-02T17:36:42.206Z"
   },
   {
    "duration": 18,
    "start_time": "2024-10-02T17:37:01.249Z"
   },
   {
    "duration": 6936,
    "start_time": "2024-10-02T17:37:01.271Z"
   },
   {
    "duration": 6860,
    "start_time": "2024-10-02T17:37:08.209Z"
   },
   {
    "duration": 417,
    "start_time": "2024-10-02T17:37:15.071Z"
   },
   {
    "duration": 0,
    "start_time": "2024-10-02T17:37:15.490Z"
   },
   {
    "duration": 0,
    "start_time": "2024-10-02T17:37:15.491Z"
   },
   {
    "duration": 0,
    "start_time": "2024-10-02T17:37:15.492Z"
   },
   {
    "duration": 0,
    "start_time": "2024-10-02T17:37:15.493Z"
   },
   {
    "duration": 0,
    "start_time": "2024-10-02T17:37:15.494Z"
   },
   {
    "duration": 4,
    "start_time": "2024-10-02T17:37:45.775Z"
   },
   {
    "duration": 535,
    "start_time": "2024-10-02T17:38:05.393Z"
   },
   {
    "duration": 1042,
    "start_time": "2024-10-02T17:38:35.679Z"
   },
   {
    "duration": 535,
    "start_time": "2024-10-02T17:38:59.310Z"
   },
   {
    "duration": 7,
    "start_time": "2024-10-02T17:38:59.847Z"
   },
   {
    "duration": 54,
    "start_time": "2024-10-02T17:38:59.856Z"
   },
   {
    "duration": 63,
    "start_time": "2024-10-02T17:38:59.913Z"
   },
   {
    "duration": 1113,
    "start_time": "2024-10-02T17:38:59.978Z"
   },
   {
    "duration": 17,
    "start_time": "2024-10-02T17:39:01.093Z"
   },
   {
    "duration": 24,
    "start_time": "2024-10-02T17:39:01.111Z"
   },
   {
    "duration": 10,
    "start_time": "2024-10-02T17:39:01.137Z"
   },
   {
    "duration": 27,
    "start_time": "2024-10-02T17:39:01.149Z"
   },
   {
    "duration": 454,
    "start_time": "2024-10-02T17:39:01.208Z"
   },
   {
    "duration": 10,
    "start_time": "2024-10-02T17:39:01.664Z"
   },
   {
    "duration": 593,
    "start_time": "2024-10-02T17:39:01.675Z"
   },
   {
    "duration": 12,
    "start_time": "2024-10-02T17:39:02.271Z"
   },
   {
    "duration": 39188,
    "start_time": "2024-10-02T17:39:02.285Z"
   },
   {
    "duration": 647,
    "start_time": "2024-10-02T17:39:41.475Z"
   },
   {
    "duration": 3329,
    "start_time": "2024-10-02T17:39:42.124Z"
   },
   {
    "duration": 10,
    "start_time": "2024-10-02T17:39:45.455Z"
   },
   {
    "duration": 3,
    "start_time": "2024-10-02T17:39:45.467Z"
   },
   {
    "duration": 87,
    "start_time": "2024-10-02T17:39:45.472Z"
   },
   {
    "duration": 82,
    "start_time": "2024-10-02T17:39:45.560Z"
   },
   {
    "duration": 1009,
    "start_time": "2024-10-02T17:39:45.644Z"
   },
   {
    "duration": 64,
    "start_time": "2024-10-02T17:39:46.655Z"
   },
   {
    "duration": 6461,
    "start_time": "2024-10-02T17:39:46.721Z"
   },
   {
    "duration": 5421,
    "start_time": "2024-10-02T17:39:53.185Z"
   },
   {
    "duration": 1805,
    "start_time": "2024-10-02T17:39:58.608Z"
   },
   {
    "duration": 19008,
    "start_time": "2024-10-02T17:40:00.415Z"
   },
   {
    "duration": 18,
    "start_time": "2024-10-02T17:40:19.425Z"
   },
   {
    "duration": 6935,
    "start_time": "2024-10-02T17:40:19.447Z"
   },
   {
    "duration": 6868,
    "start_time": "2024-10-02T17:40:26.384Z"
   },
   {
    "duration": 420,
    "start_time": "2024-10-02T17:40:33.254Z"
   },
   {
    "duration": 0,
    "start_time": "2024-10-02T17:40:33.677Z"
   },
   {
    "duration": 0,
    "start_time": "2024-10-02T17:40:33.677Z"
   },
   {
    "duration": 0,
    "start_time": "2024-10-02T17:40:33.679Z"
   },
   {
    "duration": 0,
    "start_time": "2024-10-02T17:40:33.679Z"
   },
   {
    "duration": 3,
    "start_time": "2024-10-02T18:07:43.916Z"
   },
   {
    "duration": 4,
    "start_time": "2024-10-02T18:08:04.329Z"
   },
   {
    "duration": 1595,
    "start_time": "2024-10-02T18:11:01.128Z"
   },
   {
    "duration": 7,
    "start_time": "2024-10-02T18:11:02.725Z"
   },
   {
    "duration": 48,
    "start_time": "2024-10-02T18:11:02.733Z"
   },
   {
    "duration": 73,
    "start_time": "2024-10-02T18:11:02.783Z"
   },
   {
    "duration": 1064,
    "start_time": "2024-10-02T18:11:02.857Z"
   },
   {
    "duration": 7,
    "start_time": "2024-10-02T18:11:03.923Z"
   },
   {
    "duration": 25,
    "start_time": "2024-10-02T18:11:03.932Z"
   },
   {
    "duration": 10,
    "start_time": "2024-10-02T18:11:03.959Z"
   },
   {
    "duration": 61,
    "start_time": "2024-10-02T18:11:03.972Z"
   },
   {
    "duration": 499,
    "start_time": "2024-10-02T18:11:04.037Z"
   },
   {
    "duration": 10,
    "start_time": "2024-10-02T18:11:04.538Z"
   },
   {
    "duration": 581,
    "start_time": "2024-10-02T18:11:04.551Z"
   },
   {
    "duration": 10,
    "start_time": "2024-10-02T18:11:05.135Z"
   },
   {
    "duration": 39766,
    "start_time": "2024-10-02T18:11:05.147Z"
   },
   {
    "duration": 720,
    "start_time": "2024-10-02T18:11:44.915Z"
   },
   {
    "duration": 3820,
    "start_time": "2024-10-02T18:11:45.637Z"
   },
   {
    "duration": 9,
    "start_time": "2024-10-02T18:11:49.459Z"
   },
   {
    "duration": 2,
    "start_time": "2024-10-02T18:11:49.470Z"
   },
   {
    "duration": 3,
    "start_time": "2024-10-02T18:11:49.474Z"
   },
   {
    "duration": 94,
    "start_time": "2024-10-02T18:11:49.479Z"
   },
   {
    "duration": 78,
    "start_time": "2024-10-02T18:11:49.575Z"
   },
   {
    "duration": 1011,
    "start_time": "2024-10-02T18:11:49.655Z"
   },
   {
    "duration": 64,
    "start_time": "2024-10-02T18:11:50.668Z"
   },
   {
    "duration": 6464,
    "start_time": "2024-10-02T18:11:50.734Z"
   },
   {
    "duration": 5488,
    "start_time": "2024-10-02T18:11:57.199Z"
   },
   {
    "duration": 1690,
    "start_time": "2024-10-02T18:12:02.689Z"
   },
   {
    "duration": 19156,
    "start_time": "2024-10-02T18:12:04.381Z"
   },
   {
    "duration": 17,
    "start_time": "2024-10-02T18:12:23.542Z"
   },
   {
    "duration": 6936,
    "start_time": "2024-10-02T18:12:23.561Z"
   },
   {
    "duration": 6859,
    "start_time": "2024-10-02T18:12:30.498Z"
   },
   {
    "duration": 440,
    "start_time": "2024-10-02T18:12:37.358Z"
   },
   {
    "duration": 0,
    "start_time": "2024-10-02T18:12:37.808Z"
   },
   {
    "duration": 0,
    "start_time": "2024-10-02T18:12:37.810Z"
   },
   {
    "duration": 0,
    "start_time": "2024-10-02T18:12:37.811Z"
   },
   {
    "duration": 0,
    "start_time": "2024-10-02T18:12:37.813Z"
   },
   {
    "duration": 6045,
    "start_time": "2024-10-02T18:13:35.324Z"
   },
   {
    "duration": 2937,
    "start_time": "2024-10-02T18:13:59.363Z"
   },
   {
    "duration": 493,
    "start_time": "2024-10-02T18:14:14.154Z"
   },
   {
    "duration": 7,
    "start_time": "2024-10-02T18:14:14.649Z"
   },
   {
    "duration": 54,
    "start_time": "2024-10-02T18:14:14.658Z"
   },
   {
    "duration": 65,
    "start_time": "2024-10-02T18:14:14.715Z"
   },
   {
    "duration": 1086,
    "start_time": "2024-10-02T18:14:14.782Z"
   },
   {
    "duration": 7,
    "start_time": "2024-10-02T18:14:15.870Z"
   },
   {
    "duration": 47,
    "start_time": "2024-10-02T18:14:15.879Z"
   },
   {
    "duration": 10,
    "start_time": "2024-10-02T18:14:15.928Z"
   },
   {
    "duration": 27,
    "start_time": "2024-10-02T18:14:15.940Z"
   },
   {
    "duration": 472,
    "start_time": "2024-10-02T18:14:15.971Z"
   },
   {
    "duration": 10,
    "start_time": "2024-10-02T18:14:16.445Z"
   },
   {
    "duration": 578,
    "start_time": "2024-10-02T18:14:16.457Z"
   },
   {
    "duration": 11,
    "start_time": "2024-10-02T18:14:17.038Z"
   },
   {
    "duration": 38882,
    "start_time": "2024-10-02T18:14:17.050Z"
   },
   {
    "duration": 653,
    "start_time": "2024-10-02T18:14:55.934Z"
   },
   {
    "duration": 3365,
    "start_time": "2024-10-02T18:14:56.589Z"
   },
   {
    "duration": 8,
    "start_time": "2024-10-02T18:14:59.956Z"
   },
   {
    "duration": 2,
    "start_time": "2024-10-02T18:14:59.966Z"
   },
   {
    "duration": 3,
    "start_time": "2024-10-02T18:14:59.970Z"
   },
   {
    "duration": 105,
    "start_time": "2024-10-02T18:14:59.974Z"
   },
   {
    "duration": 79,
    "start_time": "2024-10-02T18:15:00.081Z"
   },
   {
    "duration": 1010,
    "start_time": "2024-10-02T18:15:00.162Z"
   },
   {
    "duration": 75,
    "start_time": "2024-10-02T18:15:01.174Z"
   },
   {
    "duration": 6462,
    "start_time": "2024-10-02T18:15:01.250Z"
   },
   {
    "duration": 5467,
    "start_time": "2024-10-02T18:15:07.714Z"
   },
   {
    "duration": 1695,
    "start_time": "2024-10-02T18:15:13.183Z"
   },
   {
    "duration": 19067,
    "start_time": "2024-10-02T18:15:14.880Z"
   },
   {
    "duration": 17,
    "start_time": "2024-10-02T18:15:33.952Z"
   },
   {
    "duration": 6937,
    "start_time": "2024-10-02T18:15:33.971Z"
   },
   {
    "duration": 541,
    "start_time": "2024-10-02T18:15:44.259Z"
   },
   {
    "duration": 8,
    "start_time": "2024-10-02T18:15:44.802Z"
   },
   {
    "duration": 53,
    "start_time": "2024-10-02T18:15:44.812Z"
   },
   {
    "duration": 78,
    "start_time": "2024-10-02T18:15:44.866Z"
   },
   {
    "duration": 1077,
    "start_time": "2024-10-02T18:15:44.948Z"
   },
   {
    "duration": 7,
    "start_time": "2024-10-02T18:15:46.027Z"
   },
   {
    "duration": 26,
    "start_time": "2024-10-02T18:15:46.036Z"
   },
   {
    "duration": 10,
    "start_time": "2024-10-02T18:15:46.065Z"
   },
   {
    "duration": 27,
    "start_time": "2024-10-02T18:15:46.108Z"
   },
   {
    "duration": 498,
    "start_time": "2024-10-02T18:15:46.137Z"
   },
   {
    "duration": 8,
    "start_time": "2024-10-02T18:15:46.638Z"
   },
   {
    "duration": 558,
    "start_time": "2024-10-02T18:15:46.647Z"
   },
   {
    "duration": 20,
    "start_time": "2024-10-02T18:15:47.208Z"
   },
   {
    "duration": 39588,
    "start_time": "2024-10-02T18:15:47.232Z"
   },
   {
    "duration": 690,
    "start_time": "2024-10-02T18:16:26.822Z"
   },
   {
    "duration": 3422,
    "start_time": "2024-10-02T18:16:27.514Z"
   },
   {
    "duration": 9,
    "start_time": "2024-10-02T18:16:30.938Z"
   },
   {
    "duration": 2,
    "start_time": "2024-10-02T18:16:30.949Z"
   },
   {
    "duration": 3,
    "start_time": "2024-10-02T18:16:30.953Z"
   },
   {
    "duration": 105,
    "start_time": "2024-10-02T18:16:30.959Z"
   },
   {
    "duration": 80,
    "start_time": "2024-10-02T18:16:31.066Z"
   },
   {
    "duration": 1009,
    "start_time": "2024-10-02T18:16:31.148Z"
   },
   {
    "duration": 69,
    "start_time": "2024-10-02T18:16:32.159Z"
   },
   {
    "duration": 6460,
    "start_time": "2024-10-02T18:16:32.230Z"
   },
   {
    "duration": 5426,
    "start_time": "2024-10-02T18:16:38.692Z"
   },
   {
    "duration": 1722,
    "start_time": "2024-10-02T18:16:44.120Z"
   },
   {
    "duration": 19185,
    "start_time": "2024-10-02T18:16:45.844Z"
   },
   {
    "duration": 17,
    "start_time": "2024-10-02T18:17:05.031Z"
   },
   {
    "duration": 6942,
    "start_time": "2024-10-02T18:17:05.050Z"
   },
   {
    "duration": 6861,
    "start_time": "2024-10-02T18:17:11.993Z"
   },
   {
    "duration": 423,
    "start_time": "2024-10-02T18:17:18.856Z"
   },
   {
    "duration": 0,
    "start_time": "2024-10-02T18:17:19.281Z"
   },
   {
    "duration": 0,
    "start_time": "2024-10-02T18:17:19.283Z"
   },
   {
    "duration": 0,
    "start_time": "2024-10-02T18:17:19.284Z"
   },
   {
    "duration": 0,
    "start_time": "2024-10-02T18:17:19.286Z"
   },
   {
    "duration": 0,
    "start_time": "2024-10-02T18:17:19.287Z"
   },
   {
    "duration": 0,
    "start_time": "2024-10-02T18:17:19.288Z"
   },
   {
    "duration": 778,
    "start_time": "2024-10-02T18:22:56.313Z"
   },
   {
    "duration": 684,
    "start_time": "2024-10-02T18:23:06.602Z"
   },
   {
    "duration": 2757,
    "start_time": "2024-10-02T18:23:22.984Z"
   },
   {
    "duration": 3,
    "start_time": "2024-10-02T18:23:43.245Z"
   },
   {
    "duration": 167,
    "start_time": "2024-10-02T18:23:43.250Z"
   },
   {
    "duration": 365,
    "start_time": "2024-10-02T18:23:43.419Z"
   },
   {
    "duration": 7,
    "start_time": "2024-10-02T18:23:43.786Z"
   },
   {
    "duration": 53,
    "start_time": "2024-10-02T18:23:43.795Z"
   },
   {
    "duration": 68,
    "start_time": "2024-10-02T18:23:43.850Z"
   },
   {
    "duration": 1091,
    "start_time": "2024-10-02T18:23:43.920Z"
   },
   {
    "duration": 7,
    "start_time": "2024-10-02T18:23:45.013Z"
   },
   {
    "duration": 27,
    "start_time": "2024-10-02T18:23:45.022Z"
   },
   {
    "duration": 11,
    "start_time": "2024-10-02T18:23:45.052Z"
   },
   {
    "duration": 64,
    "start_time": "2024-10-02T18:23:45.066Z"
   },
   {
    "duration": 490,
    "start_time": "2024-10-02T18:23:45.132Z"
   },
   {
    "duration": 7,
    "start_time": "2024-10-02T18:23:45.624Z"
   },
   {
    "duration": 558,
    "start_time": "2024-10-02T18:23:45.633Z"
   },
   {
    "duration": 24,
    "start_time": "2024-10-02T18:23:46.193Z"
   },
   {
    "duration": 39057,
    "start_time": "2024-10-02T18:23:46.219Z"
   },
   {
    "duration": 659,
    "start_time": "2024-10-02T18:24:25.278Z"
   },
   {
    "duration": 3401,
    "start_time": "2024-10-02T18:24:25.940Z"
   },
   {
    "duration": 8,
    "start_time": "2024-10-02T18:24:29.343Z"
   },
   {
    "duration": 85,
    "start_time": "2024-10-02T18:24:29.353Z"
   },
   {
    "duration": 80,
    "start_time": "2024-10-02T18:24:29.440Z"
   },
   {
    "duration": 1010,
    "start_time": "2024-10-02T18:24:29.522Z"
   },
   {
    "duration": 66,
    "start_time": "2024-10-02T18:24:30.533Z"
   },
   {
    "duration": 6461,
    "start_time": "2024-10-02T18:24:30.601Z"
   },
   {
    "duration": 5446,
    "start_time": "2024-10-02T18:24:37.063Z"
   },
   {
    "duration": 1695,
    "start_time": "2024-10-02T18:24:42.511Z"
   },
   {
    "duration": 19084,
    "start_time": "2024-10-02T18:24:44.209Z"
   },
   {
    "duration": 17,
    "start_time": "2024-10-02T18:25:03.294Z"
   },
   {
    "duration": 6930,
    "start_time": "2024-10-02T18:25:03.315Z"
   },
   {
    "duration": 6860,
    "start_time": "2024-10-02T18:25:10.247Z"
   },
   {
    "duration": 450,
    "start_time": "2024-10-02T18:25:17.109Z"
   },
   {
    "duration": 0,
    "start_time": "2024-10-02T18:25:17.561Z"
   },
   {
    "duration": 0,
    "start_time": "2024-10-02T18:25:17.563Z"
   },
   {
    "duration": 0,
    "start_time": "2024-10-02T18:25:17.565Z"
   },
   {
    "duration": 0,
    "start_time": "2024-10-02T18:25:17.567Z"
   },
   {
    "duration": 2,
    "start_time": "2024-10-02T18:25:33.496Z"
   },
   {
    "duration": 2473,
    "start_time": "2024-10-02T18:31:27.719Z"
   },
   {
    "duration": 5305,
    "start_time": "2024-10-02T18:32:19.976Z"
   },
   {
    "duration": 1306,
    "start_time": "2024-10-02T18:33:31.979Z"
   },
   {
    "duration": 3294,
    "start_time": "2024-10-02T18:34:05.724Z"
   },
   {
    "duration": 4199,
    "start_time": "2024-10-02T18:35:14.976Z"
   },
   {
    "duration": 1083,
    "start_time": "2024-10-02T18:35:26.344Z"
   },
   {
    "duration": 3,
    "start_time": "2024-10-02T18:35:48.245Z"
   },
   {
    "duration": 220,
    "start_time": "2024-10-02T18:39:36.298Z"
   },
   {
    "duration": 268,
    "start_time": "2024-10-02T18:39:47.568Z"
   },
   {
    "duration": 1625,
    "start_time": "2024-10-02T18:41:23.164Z"
   },
   {
    "duration": 1741,
    "start_time": "2024-10-02T18:41:55.584Z"
   },
   {
    "duration": 889,
    "start_time": "2024-10-02T18:42:40.311Z"
   },
   {
    "duration": 3,
    "start_time": "2024-10-02T18:42:51.016Z"
   },
   {
    "duration": 1689,
    "start_time": "2024-10-02T18:42:55.840Z"
   },
   {
    "duration": 3,
    "start_time": "2024-10-02T18:43:02.529Z"
   },
   {
    "duration": 2830,
    "start_time": "2024-10-02T18:43:25.820Z"
   },
   {
    "duration": 4,
    "start_time": "2024-10-02T18:43:33.295Z"
   },
   {
    "duration": 4,
    "start_time": "2024-10-02T18:44:53.435Z"
   },
   {
    "duration": 975,
    "start_time": "2024-10-02T18:44:59.635Z"
   },
   {
    "duration": 696,
    "start_time": "2024-10-02T18:45:05.473Z"
   },
   {
    "duration": 1267,
    "start_time": "2024-10-02T18:45:18.811Z"
   },
   {
    "duration": 1286,
    "start_time": "2024-10-02T18:45:22.593Z"
   },
   {
    "duration": 733,
    "start_time": "2024-10-02T18:51:39.203Z"
   },
   {
    "duration": 959,
    "start_time": "2024-10-02T18:52:11.338Z"
   },
   {
    "duration": 3319,
    "start_time": "2024-10-02T18:53:16.498Z"
   },
   {
    "duration": 930,
    "start_time": "2024-10-02T18:53:30.859Z"
   },
   {
    "duration": 1021,
    "start_time": "2024-10-02T18:53:47.605Z"
   },
   {
    "duration": 2,
    "start_time": "2024-10-02T18:53:57.479Z"
   },
   {
    "duration": 3,
    "start_time": "2024-10-02T18:54:04.810Z"
   },
   {
    "duration": 2425,
    "start_time": "2024-10-02T18:54:04.815Z"
   },
   {
    "duration": 173,
    "start_time": "2024-10-02T18:54:07.243Z"
   },
   {
    "duration": 2837,
    "start_time": "2024-10-02T18:54:07.419Z"
   },
   {
    "duration": 0,
    "start_time": "2024-10-02T18:54:10.259Z"
   },
   {
    "duration": 0,
    "start_time": "2024-10-02T18:54:10.260Z"
   },
   {
    "duration": 0,
    "start_time": "2024-10-02T18:54:10.262Z"
   },
   {
    "duration": 0,
    "start_time": "2024-10-02T18:54:10.263Z"
   },
   {
    "duration": 0,
    "start_time": "2024-10-02T18:54:10.264Z"
   },
   {
    "duration": 0,
    "start_time": "2024-10-02T18:54:10.265Z"
   },
   {
    "duration": 0,
    "start_time": "2024-10-02T18:54:10.266Z"
   },
   {
    "duration": 0,
    "start_time": "2024-10-02T18:54:10.267Z"
   },
   {
    "duration": 0,
    "start_time": "2024-10-02T18:54:10.268Z"
   },
   {
    "duration": 0,
    "start_time": "2024-10-02T18:54:10.269Z"
   },
   {
    "duration": 0,
    "start_time": "2024-10-02T18:54:10.271Z"
   },
   {
    "duration": 0,
    "start_time": "2024-10-02T18:54:10.273Z"
   },
   {
    "duration": 0,
    "start_time": "2024-10-02T18:54:10.274Z"
   },
   {
    "duration": 0,
    "start_time": "2024-10-02T18:54:10.276Z"
   },
   {
    "duration": 0,
    "start_time": "2024-10-02T18:54:10.309Z"
   },
   {
    "duration": 0,
    "start_time": "2024-10-02T18:54:10.311Z"
   },
   {
    "duration": 0,
    "start_time": "2024-10-02T18:54:10.313Z"
   },
   {
    "duration": 0,
    "start_time": "2024-10-02T18:54:10.314Z"
   },
   {
    "duration": 0,
    "start_time": "2024-10-02T18:54:10.316Z"
   },
   {
    "duration": 0,
    "start_time": "2024-10-02T18:54:10.317Z"
   },
   {
    "duration": 0,
    "start_time": "2024-10-02T18:54:10.319Z"
   },
   {
    "duration": 0,
    "start_time": "2024-10-02T18:54:10.320Z"
   },
   {
    "duration": 0,
    "start_time": "2024-10-02T18:54:10.322Z"
   },
   {
    "duration": 0,
    "start_time": "2024-10-02T18:54:10.323Z"
   },
   {
    "duration": 0,
    "start_time": "2024-10-02T18:54:10.325Z"
   },
   {
    "duration": 0,
    "start_time": "2024-10-02T18:54:10.326Z"
   },
   {
    "duration": 0,
    "start_time": "2024-10-02T18:54:10.328Z"
   },
   {
    "duration": 0,
    "start_time": "2024-10-02T18:54:10.329Z"
   },
   {
    "duration": 0,
    "start_time": "2024-10-02T18:54:10.330Z"
   },
   {
    "duration": 0,
    "start_time": "2024-10-02T18:54:10.331Z"
   },
   {
    "duration": 0,
    "start_time": "2024-10-02T18:54:10.332Z"
   },
   {
    "duration": 0,
    "start_time": "2024-10-02T18:54:10.333Z"
   },
   {
    "duration": 4,
    "start_time": "2024-10-02T18:55:52.848Z"
   },
   {
    "duration": 685,
    "start_time": "2024-10-02T18:55:58.493Z"
   },
   {
    "duration": 685,
    "start_time": "2024-10-02T18:56:01.772Z"
   },
   {
    "duration": 4,
    "start_time": "2024-10-02T18:56:11.978Z"
   },
   {
    "duration": 560,
    "start_time": "2024-10-02T18:56:17.086Z"
   },
   {
    "duration": 534,
    "start_time": "2024-10-02T18:56:20.643Z"
   },
   {
    "duration": 6163,
    "start_time": "2024-10-02T18:56:36.727Z"
   },
   {
    "duration": 15552,
    "start_time": "2024-10-02T18:57:00.396Z"
   },
   {
    "duration": 11,
    "start_time": "2024-10-02T18:57:21.527Z"
   },
   {
    "duration": 163,
    "start_time": "2024-10-02T18:58:19.742Z"
   },
   {
    "duration": 7090,
    "start_time": "2024-10-02T18:58:48.895Z"
   },
   {
    "duration": 553,
    "start_time": "2024-10-02T18:59:10.290Z"
   },
   {
    "duration": 8361,
    "start_time": "2024-10-02T18:59:12.708Z"
   },
   {
    "duration": 528,
    "start_time": "2024-10-02T18:59:21.073Z"
   },
   {
    "duration": 1082,
    "start_time": "2024-10-02T18:59:33.850Z"
   },
   {
    "duration": 544,
    "start_time": "2024-10-02T18:59:55.430Z"
   },
   {
    "duration": 6,
    "start_time": "2024-10-02T19:00:17.733Z"
   },
   {
    "duration": 4,
    "start_time": "2024-10-02T19:00:31.718Z"
   },
   {
    "duration": 6674,
    "start_time": "2024-10-02T19:00:36.509Z"
   },
   {
    "duration": 3866,
    "start_time": "2024-10-02T19:01:15.722Z"
   },
   {
    "duration": 3475,
    "start_time": "2024-10-02T19:01:42.363Z"
   },
   {
    "duration": 1095,
    "start_time": "2024-10-02T19:01:53.807Z"
   },
   {
    "duration": 544,
    "start_time": "2024-10-02T19:02:41.353Z"
   },
   {
    "duration": 2,
    "start_time": "2024-10-02T19:02:47.407Z"
   },
   {
    "duration": 2,
    "start_time": "2024-10-02T19:02:51.266Z"
   },
   {
    "duration": 3676,
    "start_time": "2024-10-02T19:02:51.271Z"
   },
   {
    "duration": 2,
    "start_time": "2024-10-02T19:02:54.954Z"
   },
   {
    "duration": 164,
    "start_time": "2024-10-02T19:02:54.960Z"
   },
   {
    "duration": 1325,
    "start_time": "2024-10-02T19:02:55.127Z"
   },
   {
    "duration": 0,
    "start_time": "2024-10-02T19:02:56.456Z"
   },
   {
    "duration": 0,
    "start_time": "2024-10-02T19:02:56.457Z"
   },
   {
    "duration": 0,
    "start_time": "2024-10-02T19:02:56.458Z"
   },
   {
    "duration": 0,
    "start_time": "2024-10-02T19:02:56.459Z"
   },
   {
    "duration": 0,
    "start_time": "2024-10-02T19:02:56.461Z"
   },
   {
    "duration": 0,
    "start_time": "2024-10-02T19:02:56.461Z"
   },
   {
    "duration": 0,
    "start_time": "2024-10-02T19:02:56.463Z"
   },
   {
    "duration": 0,
    "start_time": "2024-10-02T19:02:56.463Z"
   },
   {
    "duration": 0,
    "start_time": "2024-10-02T19:02:56.465Z"
   },
   {
    "duration": 0,
    "start_time": "2024-10-02T19:02:56.466Z"
   },
   {
    "duration": 0,
    "start_time": "2024-10-02T19:02:56.467Z"
   },
   {
    "duration": 0,
    "start_time": "2024-10-02T19:02:56.468Z"
   },
   {
    "duration": 0,
    "start_time": "2024-10-02T19:02:56.469Z"
   },
   {
    "duration": 0,
    "start_time": "2024-10-02T19:02:56.471Z"
   },
   {
    "duration": 0,
    "start_time": "2024-10-02T19:02:56.472Z"
   },
   {
    "duration": 0,
    "start_time": "2024-10-02T19:02:56.473Z"
   },
   {
    "duration": 0,
    "start_time": "2024-10-02T19:02:56.474Z"
   },
   {
    "duration": 0,
    "start_time": "2024-10-02T19:02:56.510Z"
   },
   {
    "duration": 0,
    "start_time": "2024-10-02T19:02:56.512Z"
   },
   {
    "duration": 0,
    "start_time": "2024-10-02T19:02:56.513Z"
   },
   {
    "duration": 0,
    "start_time": "2024-10-02T19:02:56.515Z"
   },
   {
    "duration": 0,
    "start_time": "2024-10-02T19:02:56.516Z"
   },
   {
    "duration": 0,
    "start_time": "2024-10-02T19:02:56.518Z"
   },
   {
    "duration": 0,
    "start_time": "2024-10-02T19:02:56.520Z"
   },
   {
    "duration": 0,
    "start_time": "2024-10-02T19:02:56.522Z"
   },
   {
    "duration": 0,
    "start_time": "2024-10-02T19:02:56.525Z"
   },
   {
    "duration": 0,
    "start_time": "2024-10-02T19:02:56.526Z"
   },
   {
    "duration": 0,
    "start_time": "2024-10-02T19:02:56.527Z"
   },
   {
    "duration": 0,
    "start_time": "2024-10-02T19:02:56.529Z"
   },
   {
    "duration": 0,
    "start_time": "2024-10-02T19:02:56.530Z"
   },
   {
    "duration": 0,
    "start_time": "2024-10-02T19:02:56.531Z"
   },
   {
    "duration": 0,
    "start_time": "2024-10-02T19:02:56.533Z"
   },
   {
    "duration": 4,
    "start_time": "2024-10-02T19:03:25.437Z"
   },
   {
    "duration": 3,
    "start_time": "2024-10-02T19:03:25.443Z"
   },
   {
    "duration": 3,
    "start_time": "2024-10-02T19:03:25.447Z"
   },
   {
    "duration": 176,
    "start_time": "2024-10-02T19:03:25.451Z"
   },
   {
    "duration": 1349,
    "start_time": "2024-10-02T19:03:25.631Z"
   },
   {
    "duration": 0,
    "start_time": "2024-10-02T19:03:26.982Z"
   },
   {
    "duration": 0,
    "start_time": "2024-10-02T19:03:26.984Z"
   },
   {
    "duration": 0,
    "start_time": "2024-10-02T19:03:26.985Z"
   },
   {
    "duration": 0,
    "start_time": "2024-10-02T19:03:26.987Z"
   },
   {
    "duration": 0,
    "start_time": "2024-10-02T19:03:26.988Z"
   },
   {
    "duration": 0,
    "start_time": "2024-10-02T19:03:26.989Z"
   },
   {
    "duration": 0,
    "start_time": "2024-10-02T19:03:26.990Z"
   },
   {
    "duration": 0,
    "start_time": "2024-10-02T19:03:27.009Z"
   },
   {
    "duration": 0,
    "start_time": "2024-10-02T19:03:27.010Z"
   },
   {
    "duration": 0,
    "start_time": "2024-10-02T19:03:27.011Z"
   },
   {
    "duration": 0,
    "start_time": "2024-10-02T19:03:27.012Z"
   },
   {
    "duration": 0,
    "start_time": "2024-10-02T19:03:27.013Z"
   },
   {
    "duration": 0,
    "start_time": "2024-10-02T19:03:27.014Z"
   },
   {
    "duration": 0,
    "start_time": "2024-10-02T19:03:27.015Z"
   },
   {
    "duration": 0,
    "start_time": "2024-10-02T19:03:27.016Z"
   },
   {
    "duration": 0,
    "start_time": "2024-10-02T19:03:27.018Z"
   },
   {
    "duration": 0,
    "start_time": "2024-10-02T19:03:27.019Z"
   },
   {
    "duration": 0,
    "start_time": "2024-10-02T19:03:27.021Z"
   },
   {
    "duration": 0,
    "start_time": "2024-10-02T19:03:27.022Z"
   },
   {
    "duration": 0,
    "start_time": "2024-10-02T19:03:27.024Z"
   },
   {
    "duration": 0,
    "start_time": "2024-10-02T19:03:27.025Z"
   },
   {
    "duration": 0,
    "start_time": "2024-10-02T19:03:27.027Z"
   },
   {
    "duration": 1,
    "start_time": "2024-10-02T19:03:27.028Z"
   },
   {
    "duration": 0,
    "start_time": "2024-10-02T19:03:27.030Z"
   },
   {
    "duration": 0,
    "start_time": "2024-10-02T19:03:27.031Z"
   },
   {
    "duration": 0,
    "start_time": "2024-10-02T19:03:27.033Z"
   },
   {
    "duration": 0,
    "start_time": "2024-10-02T19:03:27.035Z"
   },
   {
    "duration": 0,
    "start_time": "2024-10-02T19:03:27.036Z"
   },
   {
    "duration": 0,
    "start_time": "2024-10-02T19:03:27.037Z"
   },
   {
    "duration": 0,
    "start_time": "2024-10-02T19:03:27.038Z"
   },
   {
    "duration": 0,
    "start_time": "2024-10-02T19:03:27.039Z"
   },
   {
    "duration": 0,
    "start_time": "2024-10-02T19:03:27.041Z"
   },
   {
    "duration": 938,
    "start_time": "2024-10-02T19:04:37.456Z"
   },
   {
    "duration": 547,
    "start_time": "2024-10-02T19:05:00.689Z"
   },
   {
    "duration": 2913,
    "start_time": "2024-10-02T19:05:36.161Z"
   },
   {
    "duration": 2785,
    "start_time": "2024-10-02T19:06:34.109Z"
   },
   {
    "duration": 1064,
    "start_time": "2024-10-02T19:07:03.647Z"
   },
   {
    "duration": 3,
    "start_time": "2024-10-02T19:07:39.305Z"
   },
   {
    "duration": 4,
    "start_time": "2024-10-02T19:09:04.706Z"
   },
   {
    "duration": 4,
    "start_time": "2024-10-02T19:09:16.475Z"
   },
   {
    "duration": 353,
    "start_time": "2024-10-02T19:09:23.651Z"
   },
   {
    "duration": 5220,
    "start_time": "2024-10-02T19:09:45.197Z"
   },
   {
    "duration": 3,
    "start_time": "2024-10-02T19:10:20.705Z"
   },
   {
    "duration": 6,
    "start_time": "2024-10-02T19:11:21.869Z"
   },
   {
    "duration": 335,
    "start_time": "2024-10-02T19:11:25.754Z"
   },
   {
    "duration": 3,
    "start_time": "2024-10-02T19:11:51.598Z"
   },
   {
    "duration": 4080,
    "start_time": "2024-10-02T19:12:06.594Z"
   },
   {
    "duration": 4,
    "start_time": "2024-10-02T19:12:44.987Z"
   },
   {
    "duration": 1659,
    "start_time": "2024-10-02T19:12:53.378Z"
   },
   {
    "duration": 4142,
    "start_time": "2024-10-02T19:13:15.925Z"
   },
   {
    "duration": 4,
    "start_time": "2024-10-02T19:13:23.564Z"
   },
   {
    "duration": 576,
    "start_time": "2024-10-02T19:13:39.308Z"
   },
   {
    "duration": 2,
    "start_time": "2024-10-02T19:13:42.300Z"
   },
   {
    "duration": 5036,
    "start_time": "2024-10-02T19:13:46.023Z"
   },
   {
    "duration": 149,
    "start_time": "2024-10-02T19:13:53.891Z"
   },
   {
    "duration": 130,
    "start_time": "2024-10-02T19:15:10.099Z"
   },
   {
    "duration": 1627,
    "start_time": "2024-10-02T19:15:24.424Z"
   },
   {
    "duration": 538,
    "start_time": "2024-10-02T19:15:28.284Z"
   },
   {
    "duration": 3,
    "start_time": "2024-10-02T19:15:30.428Z"
   },
   {
    "duration": 6,
    "start_time": "2024-10-02T19:15:50.099Z"
   },
   {
    "duration": 526,
    "start_time": "2024-10-02T19:15:54.821Z"
   },
   {
    "duration": 327,
    "start_time": "2024-10-02T19:16:02.874Z"
   },
   {
    "duration": 196,
    "start_time": "2024-10-02T19:16:16.022Z"
   },
   {
    "duration": 785,
    "start_time": "2024-10-02T19:16:33.016Z"
   },
   {
    "duration": 2899,
    "start_time": "2024-10-02T19:17:01.293Z"
   },
   {
    "duration": 3,
    "start_time": "2024-10-02T19:17:15.498Z"
   },
   {
    "duration": 131,
    "start_time": "2024-10-02T19:17:26.901Z"
   },
   {
    "duration": 848,
    "start_time": "2024-10-02T19:18:26.101Z"
   },
   {
    "duration": 1509,
    "start_time": "2024-10-02T19:19:03.940Z"
   },
   {
    "duration": 2083,
    "start_time": "2024-10-02T19:19:50.517Z"
   },
   {
    "duration": 3,
    "start_time": "2024-10-02T19:20:09.789Z"
   },
   {
    "duration": 3171,
    "start_time": "2024-10-02T19:21:09.336Z"
   },
   {
    "duration": 29181,
    "start_time": "2024-10-02T19:21:14.381Z"
   },
   {
    "duration": 2738,
    "start_time": "2024-10-02T19:21:43.564Z"
   },
   {
    "duration": 3,
    "start_time": "2024-10-02T19:21:59.600Z"
   },
   {
    "duration": 827,
    "start_time": "2024-10-02T19:22:24.991Z"
   },
   {
    "duration": 3587,
    "start_time": "2024-10-02T19:22:53.850Z"
   },
   {
    "duration": 2061,
    "start_time": "2024-10-02T19:24:18.679Z"
   },
   {
    "duration": 2685,
    "start_time": "2024-10-02T19:24:20.743Z"
   },
   {
    "duration": 3,
    "start_time": "2024-10-02T19:24:23.430Z"
   },
   {
    "duration": 3,
    "start_time": "2024-10-02T19:24:23.435Z"
   },
   {
    "duration": 3,
    "start_time": "2024-10-02T19:24:23.439Z"
   },
   {
    "duration": 2,
    "start_time": "2024-10-02T19:24:23.443Z"
   },
   {
    "duration": 2,
    "start_time": "2024-10-02T19:24:23.447Z"
   },
   {
    "duration": 169,
    "start_time": "2024-10-02T19:24:23.451Z"
   },
   {
    "duration": 1520,
    "start_time": "2024-10-02T19:24:23.621Z"
   },
   {
    "duration": 2094,
    "start_time": "2024-10-02T19:24:25.145Z"
   },
   {
    "duration": 3,
    "start_time": "2024-10-02T19:24:27.242Z"
   },
   {
    "duration": 1356,
    "start_time": "2024-10-02T19:24:27.247Z"
   },
   {
    "duration": 0,
    "start_time": "2024-10-02T19:24:28.609Z"
   },
   {
    "duration": 0,
    "start_time": "2024-10-02T19:24:28.611Z"
   },
   {
    "duration": 0,
    "start_time": "2024-10-02T19:24:28.613Z"
   },
   {
    "duration": 0,
    "start_time": "2024-10-02T19:24:28.614Z"
   },
   {
    "duration": 0,
    "start_time": "2024-10-02T19:24:28.616Z"
   },
   {
    "duration": 0,
    "start_time": "2024-10-02T19:24:28.617Z"
   },
   {
    "duration": 0,
    "start_time": "2024-10-02T19:24:28.619Z"
   },
   {
    "duration": 0,
    "start_time": "2024-10-02T19:24:28.620Z"
   },
   {
    "duration": 0,
    "start_time": "2024-10-02T19:24:28.622Z"
   },
   {
    "duration": 0,
    "start_time": "2024-10-02T19:24:28.623Z"
   },
   {
    "duration": 0,
    "start_time": "2024-10-02T19:24:28.625Z"
   },
   {
    "duration": 0,
    "start_time": "2024-10-02T19:24:28.626Z"
   },
   {
    "duration": 0,
    "start_time": "2024-10-02T19:24:28.627Z"
   },
   {
    "duration": 0,
    "start_time": "2024-10-02T19:24:28.628Z"
   },
   {
    "duration": 0,
    "start_time": "2024-10-02T19:24:28.629Z"
   },
   {
    "duration": 0,
    "start_time": "2024-10-02T19:24:28.632Z"
   },
   {
    "duration": 0,
    "start_time": "2024-10-02T19:24:28.633Z"
   },
   {
    "duration": 0,
    "start_time": "2024-10-02T19:24:28.634Z"
   },
   {
    "duration": 0,
    "start_time": "2024-10-02T19:24:28.636Z"
   },
   {
    "duration": 0,
    "start_time": "2024-10-02T19:24:28.637Z"
   },
   {
    "duration": 0,
    "start_time": "2024-10-02T19:24:28.638Z"
   },
   {
    "duration": 0,
    "start_time": "2024-10-02T19:24:28.639Z"
   },
   {
    "duration": 0,
    "start_time": "2024-10-02T19:24:28.640Z"
   },
   {
    "duration": 0,
    "start_time": "2024-10-02T19:24:28.641Z"
   },
   {
    "duration": 0,
    "start_time": "2024-10-02T19:24:28.642Z"
   },
   {
    "duration": 0,
    "start_time": "2024-10-02T19:24:28.644Z"
   },
   {
    "duration": 0,
    "start_time": "2024-10-02T19:24:28.645Z"
   },
   {
    "duration": 0,
    "start_time": "2024-10-02T19:24:28.647Z"
   },
   {
    "duration": 0,
    "start_time": "2024-10-02T19:24:28.649Z"
   },
   {
    "duration": 0,
    "start_time": "2024-10-02T19:24:28.650Z"
   },
   {
    "duration": 0,
    "start_time": "2024-10-02T19:24:28.709Z"
   },
   {
    "duration": 0,
    "start_time": "2024-10-02T19:24:28.711Z"
   },
   {
    "duration": 1413,
    "start_time": "2024-10-02T19:25:35.837Z"
   },
   {
    "duration": 0,
    "start_time": "2024-10-02T19:25:37.253Z"
   },
   {
    "duration": 0,
    "start_time": "2024-10-02T19:25:37.254Z"
   },
   {
    "duration": 0,
    "start_time": "2024-10-02T19:25:37.256Z"
   },
   {
    "duration": 0,
    "start_time": "2024-10-02T19:25:37.256Z"
   },
   {
    "duration": 0,
    "start_time": "2024-10-02T19:25:37.257Z"
   },
   {
    "duration": 0,
    "start_time": "2024-10-02T19:25:37.258Z"
   },
   {
    "duration": 0,
    "start_time": "2024-10-02T19:25:37.259Z"
   },
   {
    "duration": 0,
    "start_time": "2024-10-02T19:25:37.261Z"
   },
   {
    "duration": 0,
    "start_time": "2024-10-02T19:25:37.262Z"
   },
   {
    "duration": 0,
    "start_time": "2024-10-02T19:25:37.263Z"
   },
   {
    "duration": 0,
    "start_time": "2024-10-02T19:25:37.264Z"
   },
   {
    "duration": 0,
    "start_time": "2024-10-02T19:25:37.265Z"
   },
   {
    "duration": 0,
    "start_time": "2024-10-02T19:25:37.266Z"
   },
   {
    "duration": 0,
    "start_time": "2024-10-02T19:25:37.268Z"
   },
   {
    "duration": 0,
    "start_time": "2024-10-02T19:25:37.269Z"
   },
   {
    "duration": 0,
    "start_time": "2024-10-02T19:25:37.270Z"
   },
   {
    "duration": 0,
    "start_time": "2024-10-02T19:25:37.271Z"
   },
   {
    "duration": 0,
    "start_time": "2024-10-02T19:25:37.273Z"
   },
   {
    "duration": 0,
    "start_time": "2024-10-02T19:25:37.309Z"
   },
   {
    "duration": 0,
    "start_time": "2024-10-02T19:25:37.311Z"
   },
   {
    "duration": 0,
    "start_time": "2024-10-02T19:25:37.312Z"
   },
   {
    "duration": 0,
    "start_time": "2024-10-02T19:25:37.313Z"
   },
   {
    "duration": 0,
    "start_time": "2024-10-02T19:25:37.315Z"
   },
   {
    "duration": 0,
    "start_time": "2024-10-02T19:25:37.316Z"
   },
   {
    "duration": 0,
    "start_time": "2024-10-02T19:25:37.317Z"
   },
   {
    "duration": 0,
    "start_time": "2024-10-02T19:25:37.319Z"
   },
   {
    "duration": 0,
    "start_time": "2024-10-02T19:25:37.321Z"
   },
   {
    "duration": 0,
    "start_time": "2024-10-02T19:25:37.322Z"
   },
   {
    "duration": 0,
    "start_time": "2024-10-02T19:25:37.323Z"
   },
   {
    "duration": 0,
    "start_time": "2024-10-02T19:25:37.325Z"
   },
   {
    "duration": 0,
    "start_time": "2024-10-02T19:25:37.326Z"
   },
   {
    "duration": 0,
    "start_time": "2024-10-02T19:25:37.327Z"
   },
   {
    "duration": 16,
    "start_time": "2024-10-02T19:26:41.752Z"
   },
   {
    "duration": 1041,
    "start_time": "2024-10-02T19:26:55.195Z"
   },
   {
    "duration": 7,
    "start_time": "2024-10-02T19:26:56.239Z"
   },
   {
    "duration": 49,
    "start_time": "2024-10-02T19:26:56.247Z"
   },
   {
    "duration": 67,
    "start_time": "2024-10-02T19:26:56.298Z"
   },
   {
    "duration": 1115,
    "start_time": "2024-10-02T19:26:56.369Z"
   },
   {
    "duration": 23,
    "start_time": "2024-10-02T19:26:57.486Z"
   },
   {
    "duration": 121,
    "start_time": "2024-10-02T19:26:57.510Z"
   },
   {
    "duration": 9,
    "start_time": "2024-10-02T19:26:57.633Z"
   },
   {
    "duration": 31,
    "start_time": "2024-10-02T19:26:57.644Z"
   },
   {
    "duration": 132,
    "start_time": "2024-10-02T19:26:57.677Z"
   },
   {
    "duration": 11,
    "start_time": "2024-10-02T19:26:57.817Z"
   },
   {
    "duration": 496,
    "start_time": "2024-10-02T19:26:57.834Z"
   },
   {
    "duration": 12,
    "start_time": "2024-10-02T19:26:58.332Z"
   },
   {
    "duration": 39250,
    "start_time": "2024-10-02T19:26:58.348Z"
   },
   {
    "duration": 725,
    "start_time": "2024-10-02T19:27:37.601Z"
   },
   {
    "duration": 3321,
    "start_time": "2024-10-02T19:27:38.328Z"
   },
   {
    "duration": 258,
    "start_time": "2024-10-02T19:27:41.652Z"
   },
   {
    "duration": 0,
    "start_time": "2024-10-02T19:27:41.912Z"
   },
   {
    "duration": 0,
    "start_time": "2024-10-02T19:27:41.913Z"
   },
   {
    "duration": 0,
    "start_time": "2024-10-02T19:27:41.914Z"
   },
   {
    "duration": 0,
    "start_time": "2024-10-02T19:27:41.915Z"
   },
   {
    "duration": 0,
    "start_time": "2024-10-02T19:27:41.917Z"
   },
   {
    "duration": 0,
    "start_time": "2024-10-02T19:27:41.919Z"
   },
   {
    "duration": 0,
    "start_time": "2024-10-02T19:27:41.920Z"
   },
   {
    "duration": 0,
    "start_time": "2024-10-02T19:27:41.922Z"
   },
   {
    "duration": 0,
    "start_time": "2024-10-02T19:27:41.923Z"
   },
   {
    "duration": 0,
    "start_time": "2024-10-02T19:27:41.925Z"
   },
   {
    "duration": 0,
    "start_time": "2024-10-02T19:27:41.926Z"
   },
   {
    "duration": 0,
    "start_time": "2024-10-02T19:27:41.928Z"
   },
   {
    "duration": 0,
    "start_time": "2024-10-02T19:27:41.929Z"
   },
   {
    "duration": 0,
    "start_time": "2024-10-02T19:27:41.931Z"
   },
   {
    "duration": 0,
    "start_time": "2024-10-02T19:27:41.932Z"
   },
   {
    "duration": 0,
    "start_time": "2024-10-02T19:27:41.934Z"
   },
   {
    "duration": 980,
    "start_time": "2024-10-02T19:28:41.056Z"
   },
   {
    "duration": 25,
    "start_time": "2024-10-02T19:29:19.113Z"
   },
   {
    "duration": 1020,
    "start_time": "2024-10-02T19:29:34.262Z"
   },
   {
    "duration": 8,
    "start_time": "2024-10-02T19:29:35.284Z"
   },
   {
    "duration": 54,
    "start_time": "2024-10-02T19:29:35.293Z"
   },
   {
    "duration": 75,
    "start_time": "2024-10-02T19:29:35.348Z"
   },
   {
    "duration": 1084,
    "start_time": "2024-10-02T19:29:35.426Z"
   },
   {
    "duration": 8,
    "start_time": "2024-10-02T19:29:36.512Z"
   },
   {
    "duration": 125,
    "start_time": "2024-10-02T19:29:36.522Z"
   },
   {
    "duration": 10,
    "start_time": "2024-10-02T19:29:36.648Z"
   },
   {
    "duration": 50,
    "start_time": "2024-10-02T19:29:36.660Z"
   },
   {
    "duration": 69,
    "start_time": "2024-10-02T19:29:36.712Z"
   },
   {
    "duration": 30,
    "start_time": "2024-10-02T19:29:36.783Z"
   },
   {
    "duration": 477,
    "start_time": "2024-10-02T19:29:36.814Z"
   },
   {
    "duration": 17,
    "start_time": "2024-10-02T19:29:37.295Z"
   },
   {
    "duration": 39334,
    "start_time": "2024-10-02T19:29:37.316Z"
   },
   {
    "duration": 700,
    "start_time": "2024-10-02T19:30:16.653Z"
   },
   {
    "duration": 3403,
    "start_time": "2024-10-02T19:30:17.355Z"
   },
   {
    "duration": 253,
    "start_time": "2024-10-02T19:30:20.760Z"
   },
   {
    "duration": 0,
    "start_time": "2024-10-02T19:30:21.016Z"
   },
   {
    "duration": 0,
    "start_time": "2024-10-02T19:30:21.017Z"
   },
   {
    "duration": 0,
    "start_time": "2024-10-02T19:30:21.019Z"
   },
   {
    "duration": 0,
    "start_time": "2024-10-02T19:30:21.020Z"
   },
   {
    "duration": 0,
    "start_time": "2024-10-02T19:30:21.022Z"
   },
   {
    "duration": 0,
    "start_time": "2024-10-02T19:30:21.023Z"
   },
   {
    "duration": 0,
    "start_time": "2024-10-02T19:30:21.025Z"
   },
   {
    "duration": 0,
    "start_time": "2024-10-02T19:30:21.026Z"
   },
   {
    "duration": 0,
    "start_time": "2024-10-02T19:30:21.028Z"
   },
   {
    "duration": 0,
    "start_time": "2024-10-02T19:30:21.030Z"
   },
   {
    "duration": 0,
    "start_time": "2024-10-02T19:30:21.031Z"
   },
   {
    "duration": 0,
    "start_time": "2024-10-02T19:30:21.032Z"
   },
   {
    "duration": 0,
    "start_time": "2024-10-02T19:30:21.033Z"
   },
   {
    "duration": 0,
    "start_time": "2024-10-02T19:30:21.034Z"
   },
   {
    "duration": 0,
    "start_time": "2024-10-02T19:30:21.036Z"
   },
   {
    "duration": 0,
    "start_time": "2024-10-02T19:30:21.037Z"
   },
   {
    "duration": 0,
    "start_time": "2024-10-02T19:30:21.039Z"
   },
   {
    "duration": 80,
    "start_time": "2024-10-02T19:33:20.995Z"
   },
   {
    "duration": 980,
    "start_time": "2024-10-02T19:33:48.263Z"
   },
   {
    "duration": 7,
    "start_time": "2024-10-02T19:33:49.245Z"
   },
   {
    "duration": 56,
    "start_time": "2024-10-02T19:33:49.253Z"
   },
   {
    "duration": 63,
    "start_time": "2024-10-02T19:33:49.311Z"
   },
   {
    "duration": 1086,
    "start_time": "2024-10-02T19:33:49.377Z"
   },
   {
    "duration": 7,
    "start_time": "2024-10-02T19:33:50.465Z"
   },
   {
    "duration": 118,
    "start_time": "2024-10-02T19:33:50.473Z"
   },
   {
    "duration": 21,
    "start_time": "2024-10-02T19:33:50.592Z"
   },
   {
    "duration": 25,
    "start_time": "2024-10-02T19:33:50.615Z"
   },
   {
    "duration": 82,
    "start_time": "2024-10-02T19:33:50.644Z"
   },
   {
    "duration": 8,
    "start_time": "2024-10-02T19:33:50.728Z"
   },
   {
    "duration": 480,
    "start_time": "2024-10-02T19:33:50.737Z"
   },
   {
    "duration": 98,
    "start_time": "2024-10-02T19:33:51.220Z"
   },
   {
    "duration": 1131,
    "start_time": "2024-10-02T19:33:51.320Z"
   },
   {
    "duration": 27909,
    "start_time": "2024-10-02T19:33:52.453Z"
   },
   {
    "duration": 580,
    "start_time": "2024-10-02T19:34:20.363Z"
   },
   {
    "duration": 222,
    "start_time": "2024-10-02T19:34:20.945Z"
   },
   {
    "duration": 89,
    "start_time": "2024-10-02T19:34:21.169Z"
   },
   {
    "duration": 18,
    "start_time": "2024-10-02T19:34:21.260Z"
   },
   {
    "duration": 1009,
    "start_time": "2024-10-02T19:34:21.279Z"
   },
   {
    "duration": 65,
    "start_time": "2024-10-02T19:34:22.290Z"
   },
   {
    "duration": 6457,
    "start_time": "2024-10-02T19:34:22.357Z"
   },
   {
    "duration": 5432,
    "start_time": "2024-10-02T19:34:28.815Z"
   },
   {
    "duration": 1671,
    "start_time": "2024-10-02T19:34:34.249Z"
   },
   {
    "duration": 19100,
    "start_time": "2024-10-02T19:34:35.921Z"
   },
   {
    "duration": 18,
    "start_time": "2024-10-02T19:34:55.023Z"
   },
   {
    "duration": 6987,
    "start_time": "2024-10-02T19:34:55.045Z"
   },
   {
    "duration": 6857,
    "start_time": "2024-10-02T19:35:02.036Z"
   },
   {
    "duration": 425,
    "start_time": "2024-10-02T19:35:08.896Z"
   },
   {
    "duration": 0,
    "start_time": "2024-10-02T19:35:09.323Z"
   },
   {
    "duration": 0,
    "start_time": "2024-10-02T19:35:09.324Z"
   },
   {
    "duration": 1,
    "start_time": "2024-10-02T19:35:09.325Z"
   },
   {
    "duration": 0,
    "start_time": "2024-10-02T19:35:09.328Z"
   },
   {
    "duration": 1023,
    "start_time": "2024-10-02T19:40:20.794Z"
   },
   {
    "duration": 7,
    "start_time": "2024-10-02T19:40:21.819Z"
   },
   {
    "duration": 42,
    "start_time": "2024-10-02T19:40:21.828Z"
   },
   {
    "duration": 75,
    "start_time": "2024-10-02T19:40:21.873Z"
   },
   {
    "duration": 1063,
    "start_time": "2024-10-02T19:40:21.950Z"
   },
   {
    "duration": 7,
    "start_time": "2024-10-02T19:40:23.014Z"
   },
   {
    "duration": 126,
    "start_time": "2024-10-02T19:40:23.023Z"
   },
   {
    "duration": 10,
    "start_time": "2024-10-02T19:40:23.151Z"
   },
   {
    "duration": 52,
    "start_time": "2024-10-02T19:40:23.163Z"
   },
   {
    "duration": 62,
    "start_time": "2024-10-02T19:40:23.218Z"
   },
   {
    "duration": 29,
    "start_time": "2024-10-02T19:40:23.282Z"
   },
   {
    "duration": 461,
    "start_time": "2024-10-02T19:40:23.313Z"
   },
   {
    "duration": 92,
    "start_time": "2024-10-02T19:40:23.777Z"
   },
   {
    "duration": 1186,
    "start_time": "2024-10-02T19:40:23.872Z"
   },
   {
    "duration": 27905,
    "start_time": "2024-10-02T19:40:25.060Z"
   },
   {
    "duration": 577,
    "start_time": "2024-10-02T19:40:52.968Z"
   },
   {
    "duration": 211,
    "start_time": "2024-10-02T19:40:53.546Z"
   },
   {
    "duration": 86,
    "start_time": "2024-10-02T19:40:53.759Z"
   },
   {
    "duration": 9,
    "start_time": "2024-10-02T19:40:53.847Z"
   },
   {
    "duration": 1010,
    "start_time": "2024-10-02T19:40:53.857Z"
   },
   {
    "duration": 63,
    "start_time": "2024-10-02T19:40:54.868Z"
   },
   {
    "duration": 6458,
    "start_time": "2024-10-02T19:40:54.933Z"
   },
   {
    "duration": 5427,
    "start_time": "2024-10-02T19:41:01.393Z"
   },
   {
    "duration": 1744,
    "start_time": "2024-10-02T19:41:06.822Z"
   },
   {
    "duration": 19004,
    "start_time": "2024-10-02T19:41:08.568Z"
   },
   {
    "duration": 5288,
    "start_time": "2024-10-02T19:41:27.575Z"
   },
   {
    "duration": 23324,
    "start_time": "2024-10-02T19:41:32.865Z"
   },
   {
    "duration": 5656,
    "start_time": "2024-10-02T19:41:56.193Z"
   },
   {
    "duration": 6067,
    "start_time": "2024-10-02T19:42:01.850Z"
   },
   {
    "duration": 6056,
    "start_time": "2024-10-02T19:42:07.920Z"
   },
   {
    "duration": 244,
    "start_time": "2024-10-02T19:42:13.978Z"
   },
   {
    "duration": 0,
    "start_time": "2024-10-02T19:42:14.224Z"
   },
   {
    "duration": 0,
    "start_time": "2024-10-02T19:42:14.226Z"
   },
   {
    "duration": 1034,
    "start_time": "2024-10-02T19:52:36.015Z"
   },
   {
    "duration": 6,
    "start_time": "2024-10-02T19:52:37.051Z"
   },
   {
    "duration": 53,
    "start_time": "2024-10-02T19:52:37.059Z"
   },
   {
    "duration": 62,
    "start_time": "2024-10-02T19:52:37.114Z"
   },
   {
    "duration": 1134,
    "start_time": "2024-10-02T19:52:37.181Z"
   },
   {
    "duration": 7,
    "start_time": "2024-10-02T19:52:38.317Z"
   },
   {
    "duration": 115,
    "start_time": "2024-10-02T19:52:38.325Z"
   },
   {
    "duration": 9,
    "start_time": "2024-10-02T19:52:38.442Z"
   },
   {
    "duration": 25,
    "start_time": "2024-10-02T19:52:38.453Z"
   },
   {
    "duration": 86,
    "start_time": "2024-10-02T19:52:38.480Z"
   },
   {
    "duration": 8,
    "start_time": "2024-10-02T19:52:38.568Z"
   },
   {
    "duration": 500,
    "start_time": "2024-10-02T19:52:38.578Z"
   },
   {
    "duration": 96,
    "start_time": "2024-10-02T19:52:39.081Z"
   },
   {
    "duration": 1066,
    "start_time": "2024-10-02T19:52:39.182Z"
   },
   {
    "duration": 27953,
    "start_time": "2024-10-02T19:52:40.250Z"
   },
   {
    "duration": 540,
    "start_time": "2024-10-02T19:53:08.208Z"
   },
   {
    "duration": 216,
    "start_time": "2024-10-02T19:53:08.750Z"
   },
   {
    "duration": 103,
    "start_time": "2024-10-02T19:53:08.968Z"
   },
   {
    "duration": 13,
    "start_time": "2024-10-02T19:53:09.073Z"
   },
   {
    "duration": 1009,
    "start_time": "2024-10-02T19:53:09.087Z"
   },
   {
    "duration": 67,
    "start_time": "2024-10-02T19:53:10.098Z"
   },
   {
    "duration": 6457,
    "start_time": "2024-10-02T19:53:10.166Z"
   },
   {
    "duration": 5458,
    "start_time": "2024-10-02T19:53:16.625Z"
   },
   {
    "duration": 1700,
    "start_time": "2024-10-02T19:53:22.085Z"
   },
   {
    "duration": 19096,
    "start_time": "2024-10-02T19:53:23.789Z"
   },
   {
    "duration": 13177,
    "start_time": "2024-10-02T19:53:42.887Z"
   },
   {
    "duration": 111432,
    "start_time": "2024-10-02T19:53:56.066Z"
   },
   {
    "duration": 6008,
    "start_time": "2024-10-02T19:55:47.501Z"
   },
   {
    "duration": 65276,
    "start_time": "2024-10-02T19:55:53.511Z"
   },
   {
    "duration": 6055,
    "start_time": "2024-10-02T19:56:58.789Z"
   },
   {
    "duration": 12522,
    "start_time": "2024-10-02T19:57:04.846Z"
   },
   {
    "duration": 7461,
    "start_time": "2024-10-02T19:57:17.370Z"
   },
   {
    "duration": 9,
    "start_time": "2024-10-02T19:57:24.833Z"
   },
   {
    "duration": 973,
    "start_time": "2024-10-02T19:58:51.944Z"
   },
   {
    "duration": 6,
    "start_time": "2024-10-02T19:58:52.921Z"
   },
   {
    "duration": 43,
    "start_time": "2024-10-02T19:58:52.930Z"
   },
   {
    "duration": 75,
    "start_time": "2024-10-02T19:58:52.977Z"
   },
   {
    "duration": 1069,
    "start_time": "2024-10-02T19:58:53.054Z"
   },
   {
    "duration": 7,
    "start_time": "2024-10-02T19:58:54.125Z"
   },
   {
    "duration": 134,
    "start_time": "2024-10-02T19:58:54.134Z"
   },
   {
    "duration": 11,
    "start_time": "2024-10-02T19:58:54.270Z"
   },
   {
    "duration": 46,
    "start_time": "2024-10-02T19:58:54.282Z"
   },
   {
    "duration": 79,
    "start_time": "2024-10-02T19:58:54.331Z"
   },
   {
    "duration": 10,
    "start_time": "2024-10-02T19:58:54.411Z"
   },
   {
    "duration": 472,
    "start_time": "2024-10-02T19:58:54.423Z"
   },
   {
    "duration": 89,
    "start_time": "2024-10-02T19:58:54.898Z"
   },
   {
    "duration": 1166,
    "start_time": "2024-10-02T19:58:54.988Z"
   },
   {
    "duration": 27854,
    "start_time": "2024-10-02T19:58:56.156Z"
   },
   {
    "duration": 552,
    "start_time": "2024-10-02T19:59:24.012Z"
   },
   {
    "duration": 213,
    "start_time": "2024-10-02T19:59:24.566Z"
   },
   {
    "duration": 95,
    "start_time": "2024-10-02T19:59:24.781Z"
   },
   {
    "duration": 16,
    "start_time": "2024-10-02T19:59:24.877Z"
   },
   {
    "duration": 1010,
    "start_time": "2024-10-02T19:59:24.909Z"
   },
   {
    "duration": 70,
    "start_time": "2024-10-02T19:59:25.921Z"
   },
   {
    "duration": 6460,
    "start_time": "2024-10-02T19:59:25.993Z"
   },
   {
    "duration": 5408,
    "start_time": "2024-10-02T19:59:32.456Z"
   },
   {
    "duration": 1687,
    "start_time": "2024-10-02T19:59:37.866Z"
   },
   {
    "duration": 19042,
    "start_time": "2024-10-02T19:59:39.555Z"
   },
   {
    "duration": 13135,
    "start_time": "2024-10-02T19:59:58.599Z"
   },
   {
    "duration": 112193,
    "start_time": "2024-10-02T20:00:11.736Z"
   },
   {
    "duration": 6008,
    "start_time": "2024-10-02T20:02:03.933Z"
   },
   {
    "duration": 65186,
    "start_time": "2024-10-02T20:02:09.943Z"
   },
   {
    "duration": 6053,
    "start_time": "2024-10-02T20:03:15.131Z"
   },
   {
    "duration": 12521,
    "start_time": "2024-10-02T20:03:21.186Z"
   },
   {
    "duration": 7458,
    "start_time": "2024-10-02T20:03:33.709Z"
   },
   {
    "duration": 7,
    "start_time": "2024-10-02T20:03:41.169Z"
   },
   {
    "duration": 992,
    "start_time": "2024-10-02T20:49:01.539Z"
   },
   {
    "duration": 6,
    "start_time": "2024-10-02T20:49:02.533Z"
   },
   {
    "duration": 49,
    "start_time": "2024-10-02T20:49:02.541Z"
   },
   {
    "duration": 71,
    "start_time": "2024-10-02T20:49:02.592Z"
   },
   {
    "duration": 1081,
    "start_time": "2024-10-02T20:49:02.665Z"
   },
   {
    "duration": 7,
    "start_time": "2024-10-02T20:49:03.748Z"
   },
   {
    "duration": 113,
    "start_time": "2024-10-02T20:49:03.756Z"
   },
   {
    "duration": 10,
    "start_time": "2024-10-02T20:49:03.871Z"
   },
   {
    "duration": 49,
    "start_time": "2024-10-02T20:49:03.882Z"
   },
   {
    "duration": 83,
    "start_time": "2024-10-02T20:49:03.935Z"
   },
   {
    "duration": 11,
    "start_time": "2024-10-02T20:49:04.020Z"
   },
   {
    "duration": 452,
    "start_time": "2024-10-02T20:49:04.033Z"
   },
   {
    "duration": 98,
    "start_time": "2024-10-02T20:49:04.487Z"
   },
   {
    "duration": 1151,
    "start_time": "2024-10-02T20:49:04.586Z"
   },
   {
    "duration": 28129,
    "start_time": "2024-10-02T20:49:05.739Z"
   },
   {
    "duration": 574,
    "start_time": "2024-10-02T20:49:33.870Z"
   },
   {
    "duration": 216,
    "start_time": "2024-10-02T20:49:34.446Z"
   },
   {
    "duration": 90,
    "start_time": "2024-10-02T20:49:34.664Z"
   },
   {
    "duration": 18,
    "start_time": "2024-10-02T20:49:34.755Z"
   },
   {
    "duration": 1009,
    "start_time": "2024-10-02T20:49:34.775Z"
   },
   {
    "duration": 63,
    "start_time": "2024-10-02T20:49:35.786Z"
   },
   {
    "duration": 6461,
    "start_time": "2024-10-02T20:49:35.851Z"
   },
   {
    "duration": 5439,
    "start_time": "2024-10-02T20:49:42.314Z"
   },
   {
    "duration": 1712,
    "start_time": "2024-10-02T20:49:47.757Z"
   },
   {
    "duration": 19033,
    "start_time": "2024-10-02T20:49:49.471Z"
   },
   {
    "duration": 12997,
    "start_time": "2024-10-02T20:50:08.506Z"
   },
   {
    "duration": 112046,
    "start_time": "2024-10-02T20:50:21.505Z"
   },
   {
    "duration": 6008,
    "start_time": "2024-10-02T20:52:13.554Z"
   },
   {
    "duration": 65449,
    "start_time": "2024-10-02T20:52:19.564Z"
   },
   {
    "duration": 6057,
    "start_time": "2024-10-02T20:53:25.018Z"
   },
   {
    "duration": 12520,
    "start_time": "2024-10-02T20:53:31.077Z"
   },
   {
    "duration": 7459,
    "start_time": "2024-10-02T20:53:43.599Z"
   },
   {
    "duration": 6,
    "start_time": "2024-10-02T20:53:51.060Z"
   },
   {
    "duration": 3908,
    "start_time": "2024-10-02T20:54:14.640Z"
   },
   {
    "duration": 3902,
    "start_time": "2024-10-02T20:55:18.402Z"
   },
   {
    "duration": 3899,
    "start_time": "2024-10-02T20:56:11.988Z"
   },
   {
    "duration": 2696,
    "start_time": "2024-10-02T20:57:52.605Z"
   },
   {
    "duration": 3903,
    "start_time": "2024-10-02T20:58:20.748Z"
   },
   {
    "duration": 3919,
    "start_time": "2024-10-02T20:59:46.103Z"
   },
   {
    "duration": 287,
    "start_time": "2024-10-02T21:01:45.845Z"
   },
   {
    "duration": 3,
    "start_time": "2024-10-02T21:02:18.286Z"
   },
   {
    "duration": 2648,
    "start_time": "2024-10-02T21:03:30.360Z"
   },
   {
    "duration": 3912,
    "start_time": "2024-10-02T21:04:21.378Z"
   },
   {
    "duration": 1062,
    "start_time": "2024-10-02T21:04:39.208Z"
   },
   {
    "duration": 8,
    "start_time": "2024-10-02T21:04:40.272Z"
   },
   {
    "duration": 62,
    "start_time": "2024-10-02T21:04:40.282Z"
   },
   {
    "duration": 75,
    "start_time": "2024-10-02T21:04:40.346Z"
   },
   {
    "duration": 1080,
    "start_time": "2024-10-02T21:04:40.424Z"
   },
   {
    "duration": 9,
    "start_time": "2024-10-02T21:04:41.505Z"
   },
   {
    "duration": 142,
    "start_time": "2024-10-02T21:04:41.516Z"
   },
   {
    "duration": 11,
    "start_time": "2024-10-02T21:04:41.659Z"
   },
   {
    "duration": 49,
    "start_time": "2024-10-02T21:04:41.671Z"
   },
   {
    "duration": 66,
    "start_time": "2024-10-02T21:04:41.722Z"
   },
   {
    "duration": 11,
    "start_time": "2024-10-02T21:04:41.809Z"
   },
   {
    "duration": 461,
    "start_time": "2024-10-02T21:04:41.822Z"
   },
   {
    "duration": 39,
    "start_time": "2024-10-02T21:04:42.286Z"
   },
   {
    "duration": 1183,
    "start_time": "2024-10-02T21:04:42.330Z"
   },
   {
    "duration": 28394,
    "start_time": "2024-10-02T21:04:43.515Z"
   },
   {
    "duration": 563,
    "start_time": "2024-10-02T21:05:11.911Z"
   },
   {
    "duration": 227,
    "start_time": "2024-10-02T21:05:12.476Z"
   },
   {
    "duration": 83,
    "start_time": "2024-10-02T21:05:12.709Z"
   },
   {
    "duration": 20,
    "start_time": "2024-10-02T21:05:12.810Z"
   },
   {
    "duration": 1011,
    "start_time": "2024-10-02T21:05:12.831Z"
   },
   {
    "duration": 70,
    "start_time": "2024-10-02T21:05:13.844Z"
   },
   {
    "duration": 6458,
    "start_time": "2024-10-02T21:05:13.916Z"
   },
   {
    "duration": 5428,
    "start_time": "2024-10-02T21:05:20.376Z"
   },
   {
    "duration": 1724,
    "start_time": "2024-10-02T21:05:25.806Z"
   },
   {
    "duration": 19260,
    "start_time": "2024-10-02T21:05:27.532Z"
   },
   {
    "duration": 13617,
    "start_time": "2024-10-02T21:05:46.794Z"
   },
   {
    "duration": 115161,
    "start_time": "2024-10-02T21:06:00.413Z"
   },
   {
    "duration": 6018,
    "start_time": "2024-10-02T21:07:55.576Z"
   },
   {
    "duration": 65300,
    "start_time": "2024-10-02T21:08:01.596Z"
   },
   {
    "duration": 6058,
    "start_time": "2024-10-02T21:09:06.898Z"
   },
   {
    "duration": 12525,
    "start_time": "2024-10-02T21:09:12.958Z"
   },
   {
    "duration": 7459,
    "start_time": "2024-10-02T21:09:25.484Z"
   },
   {
    "duration": 7,
    "start_time": "2024-10-02T21:09:32.945Z"
   },
   {
    "duration": 1079,
    "start_time": "2024-10-02T21:10:57.764Z"
   },
   {
    "duration": 8,
    "start_time": "2024-10-02T21:10:58.845Z"
   },
   {
    "duration": 45,
    "start_time": "2024-10-02T21:10:58.854Z"
   },
   {
    "duration": 63,
    "start_time": "2024-10-02T21:10:58.910Z"
   },
   {
    "duration": 1066,
    "start_time": "2024-10-02T21:10:58.975Z"
   },
   {
    "duration": 7,
    "start_time": "2024-10-02T21:11:00.043Z"
   },
   {
    "duration": 124,
    "start_time": "2024-10-02T21:11:00.052Z"
   },
   {
    "duration": 10,
    "start_time": "2024-10-02T21:11:00.178Z"
   },
   {
    "duration": 26,
    "start_time": "2024-10-02T21:11:00.209Z"
   },
   {
    "duration": 81,
    "start_time": "2024-10-02T21:11:00.237Z"
   },
   {
    "duration": 9,
    "start_time": "2024-10-02T21:11:00.320Z"
   },
   {
    "duration": 465,
    "start_time": "2024-10-02T21:11:00.331Z"
   },
   {
    "duration": 26,
    "start_time": "2024-10-02T21:11:00.798Z"
   },
   {
    "duration": 1155,
    "start_time": "2024-10-02T21:11:00.827Z"
   },
   {
    "duration": 28253,
    "start_time": "2024-10-02T21:11:01.983Z"
   },
   {
    "duration": 578,
    "start_time": "2024-10-02T21:11:30.238Z"
   },
   {
    "duration": 223,
    "start_time": "2024-10-02T21:11:30.818Z"
   },
   {
    "duration": 95,
    "start_time": "2024-10-02T21:11:31.043Z"
   },
   {
    "duration": 19,
    "start_time": "2024-10-02T21:11:31.140Z"
   },
   {
    "duration": 1010,
    "start_time": "2024-10-02T21:11:31.161Z"
   },
   {
    "duration": 75,
    "start_time": "2024-10-02T21:11:32.173Z"
   },
   {
    "duration": 6456,
    "start_time": "2024-10-02T21:11:32.250Z"
   },
   {
    "duration": 5449,
    "start_time": "2024-10-02T21:11:38.708Z"
   },
   {
    "duration": 1726,
    "start_time": "2024-10-02T21:11:44.159Z"
   },
   {
    "duration": 19127,
    "start_time": "2024-10-02T21:11:45.886Z"
   },
   {
    "duration": 5742,
    "start_time": "2024-10-02T21:12:05.016Z"
   },
   {
    "duration": 24741,
    "start_time": "2024-10-02T21:12:10.759Z"
   },
   {
    "duration": 5918,
    "start_time": "2024-10-02T21:12:35.502Z"
   },
   {
    "duration": 6048,
    "start_time": "2024-10-02T21:12:41.423Z"
   },
   {
    "duration": 6051,
    "start_time": "2024-10-02T21:12:47.473Z"
   },
   {
    "duration": 12513,
    "start_time": "2024-10-02T21:12:53.526Z"
   },
   {
    "duration": 7458,
    "start_time": "2024-10-02T21:13:06.041Z"
   },
   {
    "duration": 6,
    "start_time": "2024-10-02T21:13:13.501Z"
   },
   {
    "duration": 4031,
    "start_time": "2024-10-02T21:13:13.511Z"
   },
   {
    "duration": 1142,
    "start_time": "2024-10-02T21:37:15.174Z"
   },
   {
    "duration": 231,
    "start_time": "2024-10-02T21:37:16.318Z"
   },
   {
    "duration": 1262,
    "start_time": "2024-10-02T21:37:16.551Z"
   },
   {
    "duration": 1832,
    "start_time": "2024-10-02T21:37:17.816Z"
   },
   {
    "duration": 2448,
    "start_time": "2024-10-02T21:37:19.650Z"
   },
   {
    "duration": 1397,
    "start_time": "2024-10-02T21:37:22.100Z"
   },
   {
    "duration": 1479,
    "start_time": "2024-10-02T21:37:23.499Z"
   },
   {
    "duration": 1384,
    "start_time": "2024-10-02T21:37:24.980Z"
   },
   {
    "duration": 1404,
    "start_time": "2024-10-02T21:37:26.366Z"
   },
   {
    "duration": 1400,
    "start_time": "2024-10-02T21:37:27.773Z"
   },
   {
    "duration": 1381,
    "start_time": "2024-10-02T21:37:29.175Z"
   },
   {
    "duration": 2032,
    "start_time": "2024-10-02T21:37:30.558Z"
   },
   {
    "duration": 1403,
    "start_time": "2024-10-02T21:37:32.592Z"
   },
   {
    "duration": 2510,
    "start_time": "2024-10-02T21:37:33.997Z"
   },
   {
    "duration": 29354,
    "start_time": "2024-10-02T21:37:36.508Z"
   },
   {
    "duration": 1931,
    "start_time": "2024-10-02T21:38:05.864Z"
   },
   {
    "duration": 1602,
    "start_time": "2024-10-02T21:38:07.797Z"
   },
   {
    "duration": 1278,
    "start_time": "2024-10-02T21:38:09.401Z"
   },
   {
    "duration": 1551,
    "start_time": "2024-10-02T21:38:10.681Z"
   },
   {
    "duration": 2214,
    "start_time": "2024-10-02T21:38:12.234Z"
   },
   {
    "duration": 1274,
    "start_time": "2024-10-02T21:38:14.450Z"
   },
   {
    "duration": 8462,
    "start_time": "2024-10-02T21:38:15.726Z"
   },
   {
    "duration": 7603,
    "start_time": "2024-10-02T21:38:24.190Z"
   },
   {
    "duration": 2878,
    "start_time": "2024-10-02T21:38:31.795Z"
   },
   {
    "duration": 21280,
    "start_time": "2024-10-02T21:38:34.675Z"
   },
   {
    "duration": 7890,
    "start_time": "2024-10-02T21:38:55.957Z"
   },
   {
    "duration": 26950,
    "start_time": "2024-10-02T21:39:03.849Z"
   },
   {
    "duration": 7946,
    "start_time": "2024-10-02T21:39:30.802Z"
   },
   {
    "duration": 8166,
    "start_time": "2024-10-02T21:39:38.750Z"
   },
   {
    "duration": 8058,
    "start_time": "2024-10-02T21:39:46.918Z"
   },
   {
    "duration": 15698,
    "start_time": "2024-10-02T21:39:54.978Z"
   },
   {
    "duration": 9460,
    "start_time": "2024-10-02T21:40:10.678Z"
   },
   {
    "duration": 1008,
    "start_time": "2024-10-02T21:40:20.140Z"
   },
   {
    "duration": 1063,
    "start_time": "2024-10-02T21:43:16.195Z"
   },
   {
    "duration": 234,
    "start_time": "2024-10-02T21:43:17.261Z"
   },
   {
    "duration": 1454,
    "start_time": "2024-10-02T21:43:17.497Z"
   },
   {
    "duration": 1953,
    "start_time": "2024-10-02T21:43:18.953Z"
   },
   {
    "duration": 2633,
    "start_time": "2024-10-02T21:43:20.909Z"
   },
   {
    "duration": 1575,
    "start_time": "2024-10-02T21:43:23.544Z"
   },
   {
    "duration": 1687,
    "start_time": "2024-10-02T21:43:25.121Z"
   },
   {
    "duration": 1608,
    "start_time": "2024-10-02T21:43:26.810Z"
   },
   {
    "duration": 1600,
    "start_time": "2024-10-02T21:43:28.420Z"
   },
   {
    "duration": 1578,
    "start_time": "2024-10-02T21:43:30.022Z"
   },
   {
    "duration": 1588,
    "start_time": "2024-10-02T21:43:31.602Z"
   },
   {
    "duration": 2196,
    "start_time": "2024-10-02T21:43:33.192Z"
   },
   {
    "duration": 1605,
    "start_time": "2024-10-02T21:43:35.391Z"
   },
   {
    "duration": 2882,
    "start_time": "2024-10-02T21:43:36.999Z"
   },
   {
    "duration": 29468,
    "start_time": "2024-10-02T21:43:39.883Z"
   },
   {
    "duration": 2115,
    "start_time": "2024-10-02T21:44:09.354Z"
   },
   {
    "duration": 1725,
    "start_time": "2024-10-02T21:44:11.471Z"
   },
   {
    "duration": 1481,
    "start_time": "2024-10-02T21:44:13.198Z"
   },
   {
    "duration": 1756,
    "start_time": "2024-10-02T21:44:14.680Z"
   },
   {
    "duration": 2215,
    "start_time": "2024-10-02T21:44:16.438Z"
   },
   {
    "duration": 1474,
    "start_time": "2024-10-02T21:44:18.655Z"
   },
   {
    "duration": 1054,
    "start_time": "2024-10-02T21:50:08.272Z"
   },
   {
    "duration": 230,
    "start_time": "2024-10-02T21:50:09.328Z"
   },
   {
    "duration": 1246,
    "start_time": "2024-10-02T21:50:09.560Z"
   },
   {
    "duration": 1743,
    "start_time": "2024-10-02T21:50:10.809Z"
   },
   {
    "duration": 2396,
    "start_time": "2024-10-02T21:50:12.555Z"
   },
   {
    "duration": 1379,
    "start_time": "2024-10-02T21:50:14.953Z"
   },
   {
    "duration": 1520,
    "start_time": "2024-10-02T21:50:16.334Z"
   },
   {
    "duration": 1450,
    "start_time": "2024-10-02T21:50:17.856Z"
   },
   {
    "duration": 1395,
    "start_time": "2024-10-02T21:50:19.308Z"
   },
   {
    "duration": 1365,
    "start_time": "2024-10-02T21:50:20.706Z"
   },
   {
    "duration": 1377,
    "start_time": "2024-10-02T21:50:22.073Z"
   },
   {
    "duration": 2020,
    "start_time": "2024-10-02T21:50:23.452Z"
   },
   {
    "duration": 1417,
    "start_time": "2024-10-02T21:50:25.474Z"
   },
   {
    "duration": 2752,
    "start_time": "2024-10-02T21:50:26.895Z"
   },
   {
    "duration": 29348,
    "start_time": "2024-10-02T21:50:29.649Z"
   },
   {
    "duration": 1902,
    "start_time": "2024-10-02T21:50:58.999Z"
   },
   {
    "duration": 1539,
    "start_time": "2024-10-02T21:51:00.904Z"
   },
   {
    "duration": 1282,
    "start_time": "2024-10-02T21:51:02.445Z"
   },
   {
    "duration": 1556,
    "start_time": "2024-10-02T21:51:03.729Z"
   },
   {
    "duration": 2214,
    "start_time": "2024-10-02T21:51:05.287Z"
   },
   {
    "duration": 1268,
    "start_time": "2024-10-02T21:51:07.503Z"
   },
   {
    "duration": 2162,
    "start_time": "2024-10-02T21:51:08.773Z"
   },
   {
    "duration": 3069,
    "start_time": "2024-10-02T21:51:10.937Z"
   },
   {
    "duration": 15521,
    "start_time": "2024-10-02T21:51:14.008Z"
   },
   {
    "duration": 1861,
    "start_time": "2024-10-02T21:51:29.531Z"
   },
   {
    "duration": 18539,
    "start_time": "2024-10-02T21:51:31.395Z"
   },
   {
    "duration": 1496,
    "start_time": "2024-10-02T21:51:49.936Z"
   },
   {
    "duration": 1520,
    "start_time": "2024-10-02T21:51:51.434Z"
   },
   {
    "duration": 1213,
    "start_time": "2024-10-02T21:51:52.956Z"
   },
   {
    "duration": 1410,
    "start_time": "2024-10-02T21:51:54.171Z"
   },
   {
    "duration": 2214,
    "start_time": "2024-10-02T21:51:55.583Z"
   },
   {
    "duration": 1002,
    "start_time": "2024-10-02T21:52:45.131Z"
   },
   {
    "duration": 228,
    "start_time": "2024-10-02T21:52:46.135Z"
   },
   {
    "duration": 1254,
    "start_time": "2024-10-02T21:52:46.365Z"
   },
   {
    "duration": 1820,
    "start_time": "2024-10-02T21:52:47.621Z"
   },
   {
    "duration": 2459,
    "start_time": "2024-10-02T21:52:49.444Z"
   },
   {
    "duration": 1371,
    "start_time": "2024-10-02T21:52:51.905Z"
   },
   {
    "duration": 1508,
    "start_time": "2024-10-02T21:52:53.278Z"
   },
   {
    "duration": 1435,
    "start_time": "2024-10-02T21:52:54.789Z"
   },
   {
    "duration": 1398,
    "start_time": "2024-10-02T21:52:56.226Z"
   },
   {
    "duration": 1366,
    "start_time": "2024-10-02T21:52:57.628Z"
   },
   {
    "duration": 1385,
    "start_time": "2024-10-02T21:52:58.995Z"
   },
   {
    "duration": 2014,
    "start_time": "2024-10-02T21:53:00.382Z"
   },
   {
    "duration": 1399,
    "start_time": "2024-10-02T21:53:02.398Z"
   },
   {
    "duration": 2555,
    "start_time": "2024-10-02T21:53:03.799Z"
   },
   {
    "duration": 29344,
    "start_time": "2024-10-02T21:53:06.356Z"
   },
   {
    "duration": 1917,
    "start_time": "2024-10-02T21:53:35.702Z"
   },
   {
    "duration": 1561,
    "start_time": "2024-10-02T21:53:37.622Z"
   },
   {
    "duration": 1278,
    "start_time": "2024-10-02T21:53:39.185Z"
   },
   {
    "duration": 1531,
    "start_time": "2024-10-02T21:53:40.466Z"
   },
   {
    "duration": 2214,
    "start_time": "2024-10-02T21:53:41.999Z"
   },
   {
    "duration": 1271,
    "start_time": "2024-10-02T21:53:44.215Z"
   },
   {
    "duration": 2182,
    "start_time": "2024-10-02T21:53:45.489Z"
   },
   {
    "duration": 3133,
    "start_time": "2024-10-02T21:53:47.673Z"
   },
   {
    "duration": 15497,
    "start_time": "2024-10-02T21:53:50.809Z"
   },
   {
    "duration": 1918,
    "start_time": "2024-10-02T21:54:06.308Z"
   },
   {
    "duration": 18666,
    "start_time": "2024-10-02T21:54:08.228Z"
   },
   {
    "duration": 1541,
    "start_time": "2024-10-02T21:54:26.896Z"
   },
   {
    "duration": 1516,
    "start_time": "2024-10-02T21:54:28.442Z"
   },
   {
    "duration": 1215,
    "start_time": "2024-10-02T21:54:29.960Z"
   },
   {
    "duration": 1401,
    "start_time": "2024-10-02T21:54:31.177Z"
   },
   {
    "duration": 2213,
    "start_time": "2024-10-02T21:54:32.580Z"
   },
   {
    "duration": 1034,
    "start_time": "2024-10-02T22:40:19.312Z"
   },
   {
    "duration": 233,
    "start_time": "2024-10-02T22:40:20.348Z"
   },
   {
    "duration": 1253,
    "start_time": "2024-10-02T22:40:20.583Z"
   },
   {
    "duration": 1745,
    "start_time": "2024-10-02T22:40:21.839Z"
   },
   {
    "duration": 2441,
    "start_time": "2024-10-02T22:40:23.587Z"
   },
   {
    "duration": 1374,
    "start_time": "2024-10-02T22:40:26.031Z"
   },
   {
    "duration": 1525,
    "start_time": "2024-10-02T22:40:27.407Z"
   },
   {
    "duration": 1383,
    "start_time": "2024-10-02T22:40:28.934Z"
   },
   {
    "duration": 1402,
    "start_time": "2024-10-02T22:40:30.319Z"
   },
   {
    "duration": 1365,
    "start_time": "2024-10-02T22:40:31.726Z"
   },
   {
    "duration": 1374,
    "start_time": "2024-10-02T22:40:33.095Z"
   },
   {
    "duration": 1944,
    "start_time": "2024-10-02T22:40:34.471Z"
   },
   {
    "duration": 1481,
    "start_time": "2024-10-02T22:40:36.418Z"
   },
   {
    "duration": 2550,
    "start_time": "2024-10-02T22:40:37.902Z"
   },
   {
    "duration": 29521,
    "start_time": "2024-10-02T22:40:40.454Z"
   },
   {
    "duration": 1932,
    "start_time": "2024-10-02T22:41:09.978Z"
   },
   {
    "duration": 1540,
    "start_time": "2024-10-02T22:41:11.912Z"
   },
   {
    "duration": 1279,
    "start_time": "2024-10-02T22:41:13.454Z"
   },
   {
    "duration": 1550,
    "start_time": "2024-10-02T22:41:14.735Z"
   },
   {
    "duration": 2213,
    "start_time": "2024-10-02T22:41:16.287Z"
   },
   {
    "duration": 1272,
    "start_time": "2024-10-02T22:41:18.503Z"
   },
   {
    "duration": 2155,
    "start_time": "2024-10-02T22:41:19.777Z"
   },
   {
    "duration": 3070,
    "start_time": "2024-10-02T22:41:21.934Z"
   },
   {
    "duration": 15637,
    "start_time": "2024-10-02T22:41:25.006Z"
   },
   {
    "duration": 1839,
    "start_time": "2024-10-02T22:41:40.646Z"
   },
   {
    "duration": 18735,
    "start_time": "2024-10-02T22:41:42.486Z"
   },
   {
    "duration": 1507,
    "start_time": "2024-10-02T22:42:01.223Z"
   },
   {
    "duration": 1525,
    "start_time": "2024-10-02T22:42:02.736Z"
   },
   {
    "duration": 1215,
    "start_time": "2024-10-02T22:42:04.263Z"
   },
   {
    "duration": 1403,
    "start_time": "2024-10-02T22:42:05.480Z"
   },
   {
    "duration": 2213,
    "start_time": "2024-10-02T22:42:06.885Z"
   },
   {
    "duration": 1043,
    "start_time": "2024-10-02T23:37:25.005Z"
   },
   {
    "duration": 230,
    "start_time": "2024-10-02T23:37:26.050Z"
   },
   {
    "duration": 1254,
    "start_time": "2024-10-02T23:37:26.282Z"
   },
   {
    "duration": 1881,
    "start_time": "2024-10-02T23:37:27.538Z"
   },
   {
    "duration": 2453,
    "start_time": "2024-10-02T23:37:29.421Z"
   },
   {
    "duration": 1483,
    "start_time": "2024-10-02T23:37:31.876Z"
   },
   {
    "duration": 1389,
    "start_time": "2024-10-02T23:37:33.360Z"
   },
   {
    "duration": 1402,
    "start_time": "2024-10-02T23:37:34.751Z"
   },
   {
    "duration": 607,
    "start_time": "2024-10-02T23:37:36.154Z"
   },
   {
    "duration": 0,
    "start_time": "2024-10-02T23:37:36.763Z"
   },
   {
    "duration": 0,
    "start_time": "2024-10-02T23:37:36.765Z"
   },
   {
    "duration": 0,
    "start_time": "2024-10-02T23:37:36.766Z"
   },
   {
    "duration": 0,
    "start_time": "2024-10-02T23:37:36.767Z"
   },
   {
    "duration": 0,
    "start_time": "2024-10-02T23:37:36.768Z"
   },
   {
    "duration": 0,
    "start_time": "2024-10-02T23:37:36.769Z"
   },
   {
    "duration": 0,
    "start_time": "2024-10-02T23:37:36.771Z"
   },
   {
    "duration": 0,
    "start_time": "2024-10-02T23:37:36.772Z"
   },
   {
    "duration": 0,
    "start_time": "2024-10-02T23:37:36.774Z"
   },
   {
    "duration": 0,
    "start_time": "2024-10-02T23:37:36.776Z"
   },
   {
    "duration": 0,
    "start_time": "2024-10-02T23:37:36.777Z"
   },
   {
    "duration": 0,
    "start_time": "2024-10-02T23:37:36.779Z"
   },
   {
    "duration": 0,
    "start_time": "2024-10-02T23:37:36.809Z"
   },
   {
    "duration": 0,
    "start_time": "2024-10-02T23:37:36.810Z"
   },
   {
    "duration": 0,
    "start_time": "2024-10-02T23:37:36.811Z"
   },
   {
    "duration": 0,
    "start_time": "2024-10-02T23:37:36.813Z"
   },
   {
    "duration": 0,
    "start_time": "2024-10-02T23:37:36.813Z"
   },
   {
    "duration": 0,
    "start_time": "2024-10-02T23:37:36.815Z"
   },
   {
    "duration": 5,
    "start_time": "2024-10-02T23:42:30.485Z"
   },
   {
    "duration": 2501,
    "start_time": "2024-10-02T23:43:37.469Z"
   },
   {
    "duration": 2603,
    "start_time": "2024-10-02T23:44:37.818Z"
   },
   {
    "duration": 48,
    "start_time": "2024-10-02T23:46:26.917Z"
   },
   {
    "duration": 2597,
    "start_time": "2024-10-02T23:47:00.911Z"
   },
   {
    "duration": 40,
    "start_time": "2024-10-02T23:48:19.607Z"
   },
   {
    "duration": 47,
    "start_time": "2024-10-02T23:49:01.527Z"
   },
   {
    "duration": 43,
    "start_time": "2024-10-02T23:49:13.937Z"
   },
   {
    "duration": 1852,
    "start_time": "2024-10-03T00:01:21.396Z"
   },
   {
    "duration": 1041,
    "start_time": "2024-10-03T00:01:53.501Z"
   },
   {
    "duration": 230,
    "start_time": "2024-10-03T00:01:54.544Z"
   },
   {
    "duration": 1254,
    "start_time": "2024-10-03T00:01:54.777Z"
   },
   {
    "duration": 1769,
    "start_time": "2024-10-03T00:01:56.034Z"
   },
   {
    "duration": 2883,
    "start_time": "2024-10-03T00:01:57.805Z"
   },
   {
    "duration": 0,
    "start_time": "2024-10-03T00:02:00.691Z"
   },
   {
    "duration": 0,
    "start_time": "2024-10-03T00:02:00.693Z"
   },
   {
    "duration": 0,
    "start_time": "2024-10-03T00:02:00.694Z"
   },
   {
    "duration": 0,
    "start_time": "2024-10-03T00:02:00.708Z"
   },
   {
    "duration": 0,
    "start_time": "2024-10-03T00:02:00.710Z"
   },
   {
    "duration": 0,
    "start_time": "2024-10-03T00:02:00.711Z"
   },
   {
    "duration": 0,
    "start_time": "2024-10-03T00:02:00.713Z"
   },
   {
    "duration": 0,
    "start_time": "2024-10-03T00:02:00.714Z"
   },
   {
    "duration": 0,
    "start_time": "2024-10-03T00:02:00.715Z"
   },
   {
    "duration": 0,
    "start_time": "2024-10-03T00:02:00.717Z"
   },
   {
    "duration": 0,
    "start_time": "2024-10-03T00:02:00.718Z"
   },
   {
    "duration": 0,
    "start_time": "2024-10-03T00:02:00.720Z"
   },
   {
    "duration": 0,
    "start_time": "2024-10-03T00:02:00.722Z"
   },
   {
    "duration": 0,
    "start_time": "2024-10-03T00:02:00.723Z"
   },
   {
    "duration": 0,
    "start_time": "2024-10-03T00:02:00.725Z"
   },
   {
    "duration": 0,
    "start_time": "2024-10-03T00:02:00.726Z"
   },
   {
    "duration": 0,
    "start_time": "2024-10-03T00:02:00.728Z"
   },
   {
    "duration": 0,
    "start_time": "2024-10-03T00:02:00.729Z"
   },
   {
    "duration": 0,
    "start_time": "2024-10-03T00:02:00.731Z"
   },
   {
    "duration": 0,
    "start_time": "2024-10-03T00:02:00.732Z"
   },
   {
    "duration": 0,
    "start_time": "2024-10-03T00:02:00.734Z"
   },
   {
    "duration": 0,
    "start_time": "2024-10-03T00:02:00.735Z"
   },
   {
    "duration": 0,
    "start_time": "2024-10-03T00:02:00.736Z"
   },
   {
    "duration": 1080,
    "start_time": "2024-10-03T00:03:01.559Z"
   },
   {
    "duration": 229,
    "start_time": "2024-10-03T00:03:02.641Z"
   },
   {
    "duration": 1250,
    "start_time": "2024-10-03T00:03:02.872Z"
   },
   {
    "duration": 1785,
    "start_time": "2024-10-03T00:03:04.125Z"
   },
   {
    "duration": 2451,
    "start_time": "2024-10-03T00:03:05.912Z"
   },
   {
    "duration": 1526,
    "start_time": "2024-10-03T00:03:08.365Z"
   },
   {
    "duration": 1402,
    "start_time": "2024-10-03T00:03:09.893Z"
   },
   {
    "duration": 1381,
    "start_time": "2024-10-03T00:03:11.297Z"
   },
   {
    "duration": 1870,
    "start_time": "2024-10-03T00:03:12.680Z"
   },
   {
    "duration": 9,
    "start_time": "2024-10-03T00:03:14.553Z"
   },
   {
    "duration": 292,
    "start_time": "2024-10-03T00:03:14.565Z"
   },
   {
    "duration": 0,
    "start_time": "2024-10-03T00:03:14.859Z"
   },
   {
    "duration": 0,
    "start_time": "2024-10-03T00:03:14.860Z"
   },
   {
    "duration": 0,
    "start_time": "2024-10-03T00:03:14.862Z"
   },
   {
    "duration": 0,
    "start_time": "2024-10-03T00:03:14.863Z"
   },
   {
    "duration": 0,
    "start_time": "2024-10-03T00:03:14.864Z"
   },
   {
    "duration": 0,
    "start_time": "2024-10-03T00:03:14.865Z"
   },
   {
    "duration": 0,
    "start_time": "2024-10-03T00:03:14.867Z"
   },
   {
    "duration": 0,
    "start_time": "2024-10-03T00:03:14.868Z"
   },
   {
    "duration": 0,
    "start_time": "2024-10-03T00:03:14.869Z"
   },
   {
    "duration": 0,
    "start_time": "2024-10-03T00:03:14.870Z"
   },
   {
    "duration": 0,
    "start_time": "2024-10-03T00:03:14.871Z"
   },
   {
    "duration": 0,
    "start_time": "2024-10-03T00:03:14.873Z"
   },
   {
    "duration": 0,
    "start_time": "2024-10-03T00:03:14.875Z"
   },
   {
    "duration": 0,
    "start_time": "2024-10-03T00:03:14.876Z"
   },
   {
    "duration": 0,
    "start_time": "2024-10-03T00:03:14.877Z"
   },
   {
    "duration": 0,
    "start_time": "2024-10-03T00:03:14.878Z"
   },
   {
    "duration": 0,
    "start_time": "2024-10-03T00:03:14.880Z"
   },
   {
    "duration": 1453,
    "start_time": "2024-10-03T00:04:38.670Z"
   },
   {
    "duration": 996,
    "start_time": "2024-10-03T00:04:54.136Z"
   },
   {
    "duration": 231,
    "start_time": "2024-10-03T00:04:55.134Z"
   },
   {
    "duration": 1251,
    "start_time": "2024-10-03T00:04:55.368Z"
   },
   {
    "duration": 1744,
    "start_time": "2024-10-03T00:04:56.621Z"
   },
   {
    "duration": 2404,
    "start_time": "2024-10-03T00:04:58.367Z"
   },
   {
    "duration": 1481,
    "start_time": "2024-10-03T00:05:00.774Z"
   },
   {
    "duration": 1381,
    "start_time": "2024-10-03T00:05:02.257Z"
   },
   {
    "duration": 1384,
    "start_time": "2024-10-03T00:05:03.640Z"
   },
   {
    "duration": 1930,
    "start_time": "2024-10-03T00:05:05.027Z"
   },
   {
    "duration": 10,
    "start_time": "2024-10-03T00:05:06.962Z"
   },
   {
    "duration": 1459,
    "start_time": "2024-10-03T00:05:06.974Z"
   },
   {
    "duration": 6,
    "start_time": "2024-10-03T00:05:08.435Z"
   },
   {
    "duration": 29107,
    "start_time": "2024-10-03T00:05:08.443Z"
   },
   {
    "duration": 1894,
    "start_time": "2024-10-03T00:05:37.552Z"
   },
   {
    "duration": 1539,
    "start_time": "2024-10-03T00:05:39.448Z"
   },
   {
    "duration": 1284,
    "start_time": "2024-10-03T00:05:40.989Z"
   },
   {
    "duration": 1522,
    "start_time": "2024-10-03T00:05:42.275Z"
   },
   {
    "duration": 2215,
    "start_time": "2024-10-03T00:05:43.800Z"
   },
   {
    "duration": 1278,
    "start_time": "2024-10-03T00:05:46.017Z"
   },
   {
    "duration": 2403,
    "start_time": "2024-10-03T00:05:47.297Z"
   },
   {
    "duration": 4050,
    "start_time": "2024-10-03T00:05:49.703Z"
   },
   {
    "duration": 15483,
    "start_time": "2024-10-03T00:05:53.755Z"
   },
   {
    "duration": 117880,
    "start_time": "2024-10-03T00:06:09.240Z"
   },
   {
    "duration": 212,
    "start_time": "2024-10-03T00:08:07.122Z"
   },
   {
    "duration": 1529,
    "start_time": "2024-10-03T00:08:07.337Z"
   },
   {
    "duration": 322,
    "start_time": "2024-10-03T00:08:08.868Z"
   },
   {
    "duration": 0,
    "start_time": "2024-10-03T00:08:09.192Z"
   },
   {
    "duration": 0,
    "start_time": "2024-10-03T00:08:09.193Z"
   },
   {
    "duration": 0,
    "start_time": "2024-10-03T00:08:09.195Z"
   },
   {
    "duration": 29725,
    "start_time": "2024-10-03T00:10:31.492Z"
   },
   {
    "duration": 30572,
    "start_time": "2024-10-03T00:12:12.629Z"
   },
   {
    "duration": 1396,
    "start_time": "2024-10-03T00:12:43.204Z"
   },
   {
    "duration": 2213,
    "start_time": "2024-10-03T00:12:44.602Z"
   },
   {
    "duration": 1071,
    "start_time": "2024-10-03T00:12:58.785Z"
   },
   {
    "duration": 230,
    "start_time": "2024-10-03T00:12:59.859Z"
   },
   {
    "duration": 1253,
    "start_time": "2024-10-03T00:13:00.091Z"
   },
   {
    "duration": 1747,
    "start_time": "2024-10-03T00:13:01.346Z"
   },
   {
    "duration": 2437,
    "start_time": "2024-10-03T00:13:03.095Z"
   },
   {
    "duration": 1493,
    "start_time": "2024-10-03T00:13:05.534Z"
   },
   {
    "duration": 1377,
    "start_time": "2024-10-03T00:13:07.029Z"
   },
   {
    "duration": 1384,
    "start_time": "2024-10-03T00:13:08.408Z"
   },
   {
    "duration": 1963,
    "start_time": "2024-10-03T00:13:09.793Z"
   },
   {
    "duration": 9,
    "start_time": "2024-10-03T00:13:11.759Z"
   },
   {
    "duration": 1449,
    "start_time": "2024-10-03T00:13:11.770Z"
   },
   {
    "duration": 1382,
    "start_time": "2024-10-03T00:15:00.487Z"
   },
   {
    "duration": 231,
    "start_time": "2024-10-03T00:15:01.871Z"
   },
   {
    "duration": 1296,
    "start_time": "2024-10-03T00:15:02.104Z"
   },
   {
    "duration": 1773,
    "start_time": "2024-10-03T00:15:03.404Z"
   },
   {
    "duration": 2419,
    "start_time": "2024-10-03T00:15:05.178Z"
   },
   {
    "duration": 1493,
    "start_time": "2024-10-03T00:15:07.599Z"
   },
   {
    "duration": 1378,
    "start_time": "2024-10-03T00:15:09.094Z"
   },
   {
    "duration": 1377,
    "start_time": "2024-10-03T00:15:10.474Z"
   },
   {
    "duration": 1892,
    "start_time": "2024-10-03T00:15:11.853Z"
   },
   {
    "duration": 9,
    "start_time": "2024-10-03T00:15:13.750Z"
   },
   {
    "duration": 1462,
    "start_time": "2024-10-03T00:15:13.761Z"
   },
   {
    "duration": 1325,
    "start_time": "2024-10-03T00:19:52.949Z"
   },
   {
    "duration": 230,
    "start_time": "2024-10-03T00:19:54.276Z"
   },
   {
    "duration": 1285,
    "start_time": "2024-10-03T00:19:54.507Z"
   },
   {
    "duration": 1770,
    "start_time": "2024-10-03T00:19:55.794Z"
   },
   {
    "duration": 2503,
    "start_time": "2024-10-03T00:19:57.566Z"
   },
   {
    "duration": 1494,
    "start_time": "2024-10-03T00:20:00.071Z"
   },
   {
    "duration": 1381,
    "start_time": "2024-10-03T00:20:01.568Z"
   },
   {
    "duration": 1394,
    "start_time": "2024-10-03T00:20:02.950Z"
   },
   {
    "duration": 1909,
    "start_time": "2024-10-03T00:20:04.346Z"
   },
   {
    "duration": 9,
    "start_time": "2024-10-03T00:20:06.259Z"
   },
   {
    "duration": 1471,
    "start_time": "2024-10-03T00:20:06.270Z"
   },
   {
    "duration": 1296,
    "start_time": "2024-10-03T00:25:27.887Z"
   },
   {
    "duration": 1133,
    "start_time": "2024-10-03T00:42:32.689Z"
   },
   {
    "duration": 32,
    "start_time": "2024-10-03T00:42:33.824Z"
   },
   {
    "duration": 2029,
    "start_time": "2024-10-03T00:42:33.858Z"
   },
   {
    "duration": 2225,
    "start_time": "2024-10-03T00:42:35.889Z"
   },
   {
    "duration": 2906,
    "start_time": "2024-10-03T00:42:38.118Z"
   },
   {
    "duration": 1778,
    "start_time": "2024-10-03T00:42:41.026Z"
   },
   {
    "duration": 1749,
    "start_time": "2024-10-03T00:42:42.805Z"
   },
   {
    "duration": 1755,
    "start_time": "2024-10-03T00:42:44.556Z"
   },
   {
    "duration": 2204,
    "start_time": "2024-10-03T00:42:46.313Z"
   },
   {
    "duration": 9,
    "start_time": "2024-10-03T00:42:48.519Z"
   },
   {
    "duration": 1828,
    "start_time": "2024-10-03T00:42:48.529Z"
   },
   {
    "duration": 1432,
    "start_time": "2024-10-03T00:46:00.285Z"
   },
   {
    "duration": 1279,
    "start_time": "2024-10-03T00:49:10.817Z"
   },
   {
    "duration": 32,
    "start_time": "2024-10-03T00:49:12.098Z"
   },
   {
    "duration": 2065,
    "start_time": "2024-10-03T00:49:12.131Z"
   },
   {
    "duration": 2263,
    "start_time": "2024-10-03T00:49:14.199Z"
   },
   {
    "duration": 2906,
    "start_time": "2024-10-03T00:49:16.465Z"
   },
   {
    "duration": 1850,
    "start_time": "2024-10-03T00:49:19.373Z"
   },
   {
    "duration": 1735,
    "start_time": "2024-10-03T00:49:21.224Z"
   },
   {
    "duration": 1756,
    "start_time": "2024-10-03T00:49:22.961Z"
   },
   {
    "duration": 2185,
    "start_time": "2024-10-03T00:49:24.718Z"
   },
   {
    "duration": 9,
    "start_time": "2024-10-03T00:49:26.912Z"
   },
   {
    "duration": 1929,
    "start_time": "2024-10-03T00:49:26.923Z"
   },
   {
    "duration": 1343,
    "start_time": "2024-10-03T00:53:53.721Z"
   },
   {
    "duration": 31,
    "start_time": "2024-10-03T00:53:55.066Z"
   },
   {
    "duration": 1967,
    "start_time": "2024-10-03T00:53:55.098Z"
   },
   {
    "duration": 2170,
    "start_time": "2024-10-03T00:53:57.068Z"
   },
   {
    "duration": 2833,
    "start_time": "2024-10-03T00:53:59.240Z"
   },
   {
    "duration": 2025,
    "start_time": "2024-10-03T00:54:02.075Z"
   },
   {
    "duration": 1819,
    "start_time": "2024-10-03T00:54:04.102Z"
   },
   {
    "duration": 1824,
    "start_time": "2024-10-03T00:54:05.923Z"
   },
   {
    "duration": 2233,
    "start_time": "2024-10-03T00:54:07.750Z"
   },
   {
    "duration": 10,
    "start_time": "2024-10-03T00:54:09.986Z"
   },
   {
    "duration": 1834,
    "start_time": "2024-10-03T00:54:10.009Z"
   },
   {
    "duration": 1309,
    "start_time": "2024-10-03T00:54:54.335Z"
   },
   {
    "duration": 31,
    "start_time": "2024-10-03T00:54:55.647Z"
   },
   {
    "duration": 1977,
    "start_time": "2024-10-03T00:54:55.680Z"
   },
   {
    "duration": 2217,
    "start_time": "2024-10-03T00:54:57.660Z"
   },
   {
    "duration": 2809,
    "start_time": "2024-10-03T00:54:59.879Z"
   },
   {
    "duration": 1869,
    "start_time": "2024-10-03T00:55:02.690Z"
   },
   {
    "duration": 1737,
    "start_time": "2024-10-03T00:55:04.561Z"
   },
   {
    "duration": 1799,
    "start_time": "2024-10-03T00:55:06.300Z"
   },
   {
    "duration": 2186,
    "start_time": "2024-10-03T00:55:08.101Z"
   },
   {
    "duration": 9,
    "start_time": "2024-10-03T00:55:10.290Z"
   },
   {
    "duration": 1809,
    "start_time": "2024-10-03T00:55:10.301Z"
   },
   {
    "duration": 1332,
    "start_time": "2024-10-03T00:56:08.612Z"
   },
   {
    "duration": 38,
    "start_time": "2024-10-03T00:56:09.947Z"
   },
   {
    "duration": 1968,
    "start_time": "2024-10-03T00:56:09.987Z"
   },
   {
    "duration": 2139,
    "start_time": "2024-10-03T00:56:11.959Z"
   },
   {
    "duration": 2810,
    "start_time": "2024-10-03T00:56:14.099Z"
   },
   {
    "duration": 1905,
    "start_time": "2024-10-03T00:56:16.910Z"
   },
   {
    "duration": 1771,
    "start_time": "2024-10-03T00:56:18.817Z"
   },
   {
    "duration": 1793,
    "start_time": "2024-10-03T00:56:20.591Z"
   },
   {
    "duration": 2275,
    "start_time": "2024-10-03T00:56:22.386Z"
   },
   {
    "duration": 10,
    "start_time": "2024-10-03T00:56:24.666Z"
   },
   {
    "duration": 1889,
    "start_time": "2024-10-03T00:56:24.678Z"
   },
   {
    "duration": 1138,
    "start_time": "2024-10-03T00:57:24.058Z"
   },
   {
    "duration": 1149,
    "start_time": "2024-10-03T01:00:31.092Z"
   },
   {
    "duration": 35,
    "start_time": "2024-10-03T01:00:32.244Z"
   },
   {
    "duration": 2060,
    "start_time": "2024-10-03T01:00:32.281Z"
   },
   {
    "duration": 2109,
    "start_time": "2024-10-03T01:00:34.344Z"
   },
   {
    "duration": 2806,
    "start_time": "2024-10-03T01:00:36.455Z"
   },
   {
    "duration": 1833,
    "start_time": "2024-10-03T01:00:39.264Z"
   },
   {
    "duration": 1810,
    "start_time": "2024-10-03T01:00:41.099Z"
   },
   {
    "duration": 1792,
    "start_time": "2024-10-03T01:00:42.911Z"
   },
   {
    "duration": 2224,
    "start_time": "2024-10-03T01:00:44.705Z"
   },
   {
    "duration": 11,
    "start_time": "2024-10-03T01:00:46.932Z"
   },
   {
    "duration": 20,
    "start_time": "2024-10-03T01:00:46.945Z"
   },
   {
    "duration": 306,
    "start_time": "2024-10-03T01:00:46.967Z"
   },
   {
    "duration": 0,
    "start_time": "2024-10-03T01:00:47.275Z"
   },
   {
    "duration": 0,
    "start_time": "2024-10-03T01:00:47.276Z"
   },
   {
    "duration": 0,
    "start_time": "2024-10-03T01:00:47.278Z"
   },
   {
    "duration": 0,
    "start_time": "2024-10-03T01:00:47.279Z"
   },
   {
    "duration": 0,
    "start_time": "2024-10-03T01:00:47.280Z"
   },
   {
    "duration": 0,
    "start_time": "2024-10-03T01:00:47.282Z"
   },
   {
    "duration": 0,
    "start_time": "2024-10-03T01:00:47.283Z"
   },
   {
    "duration": 0,
    "start_time": "2024-10-03T01:00:47.284Z"
   },
   {
    "duration": 0,
    "start_time": "2024-10-03T01:00:47.285Z"
   },
   {
    "duration": 0,
    "start_time": "2024-10-03T01:00:47.286Z"
   },
   {
    "duration": 0,
    "start_time": "2024-10-03T01:00:47.287Z"
   },
   {
    "duration": 0,
    "start_time": "2024-10-03T01:00:47.288Z"
   },
   {
    "duration": 0,
    "start_time": "2024-10-03T01:00:47.309Z"
   },
   {
    "duration": 0,
    "start_time": "2024-10-03T01:00:47.310Z"
   },
   {
    "duration": 0,
    "start_time": "2024-10-03T01:00:47.312Z"
   },
   {
    "duration": 0,
    "start_time": "2024-10-03T01:00:47.313Z"
   },
   {
    "duration": 1035,
    "start_time": "2024-10-03T01:05:07.991Z"
   },
   {
    "duration": 32,
    "start_time": "2024-10-03T01:05:09.028Z"
   },
   {
    "duration": 1618,
    "start_time": "2024-10-03T01:05:09.063Z"
   },
   {
    "duration": 2146,
    "start_time": "2024-10-03T01:05:10.683Z"
   },
   {
    "duration": 2835,
    "start_time": "2024-10-03T01:05:12.831Z"
   },
   {
    "duration": 1913,
    "start_time": "2024-10-03T01:05:15.668Z"
   },
   {
    "duration": 1771,
    "start_time": "2024-10-03T01:05:17.582Z"
   },
   {
    "duration": 1770,
    "start_time": "2024-10-03T01:05:19.355Z"
   },
   {
    "duration": 2199,
    "start_time": "2024-10-03T01:05:21.127Z"
   },
   {
    "duration": 8,
    "start_time": "2024-10-03T01:05:23.330Z"
   },
   {
    "duration": 50,
    "start_time": "2024-10-03T01:05:23.340Z"
   },
   {
    "duration": 18,
    "start_time": "2024-10-03T01:05:23.393Z"
   },
   {
    "duration": 117,
    "start_time": "2024-10-03T01:05:23.413Z"
   },
   {
    "duration": 7,
    "start_time": "2024-10-03T01:05:23.532Z"
   },
   {
    "duration": 255,
    "start_time": "2024-10-03T01:05:23.541Z"
   },
   {
    "duration": 0,
    "start_time": "2024-10-03T01:05:23.798Z"
   },
   {
    "duration": 0,
    "start_time": "2024-10-03T01:05:23.809Z"
   },
   {
    "duration": 0,
    "start_time": "2024-10-03T01:05:23.811Z"
   },
   {
    "duration": 0,
    "start_time": "2024-10-03T01:05:23.812Z"
   },
   {
    "duration": 0,
    "start_time": "2024-10-03T01:05:23.814Z"
   },
   {
    "duration": 0,
    "start_time": "2024-10-03T01:05:23.815Z"
   },
   {
    "duration": 0,
    "start_time": "2024-10-03T01:05:23.816Z"
   },
   {
    "duration": 0,
    "start_time": "2024-10-03T01:05:23.818Z"
   },
   {
    "duration": 0,
    "start_time": "2024-10-03T01:05:23.819Z"
   },
   {
    "duration": 0,
    "start_time": "2024-10-03T01:05:23.820Z"
   },
   {
    "duration": 0,
    "start_time": "2024-10-03T01:05:23.822Z"
   },
   {
    "duration": 0,
    "start_time": "2024-10-03T01:05:23.823Z"
   },
   {
    "duration": 0,
    "start_time": "2024-10-03T01:05:23.825Z"
   },
   {
    "duration": 1049,
    "start_time": "2024-10-03T01:10:21.550Z"
   },
   {
    "duration": 34,
    "start_time": "2024-10-03T01:10:22.608Z"
   },
   {
    "duration": 1609,
    "start_time": "2024-10-03T01:10:22.643Z"
   },
   {
    "duration": 2194,
    "start_time": "2024-10-03T01:10:24.255Z"
   },
   {
    "duration": 2911,
    "start_time": "2024-10-03T01:10:26.451Z"
   },
   {
    "duration": 1871,
    "start_time": "2024-10-03T01:10:29.364Z"
   },
   {
    "duration": 1721,
    "start_time": "2024-10-03T01:10:31.237Z"
   },
   {
    "duration": 1735,
    "start_time": "2024-10-03T01:10:32.961Z"
   },
   {
    "duration": 2173,
    "start_time": "2024-10-03T01:10:34.708Z"
   },
   {
    "duration": 8,
    "start_time": "2024-10-03T01:10:36.884Z"
   },
   {
    "duration": 1805,
    "start_time": "2024-10-03T01:10:36.894Z"
   },
   {
    "duration": 2257,
    "start_time": "2024-10-03T01:10:38.701Z"
   },
   {
    "duration": 3629,
    "start_time": "2024-10-03T01:10:40.961Z"
   },
   {
    "duration": 2280,
    "start_time": "2024-10-03T01:10:44.593Z"
   },
   {
    "duration": 19,
    "start_time": "2024-10-03T01:10:46.876Z"
   },
   {
    "duration": 1624,
    "start_time": "2024-10-03T01:10:46.896Z"
   },
   {
    "duration": 1922,
    "start_time": "2024-10-03T01:10:48.522Z"
   },
   {
    "duration": 2525,
    "start_time": "2024-10-03T01:10:50.446Z"
   },
   {
    "duration": 1598,
    "start_time": "2024-10-03T01:10:52.973Z"
   },
   {
    "duration": 2675,
    "start_time": "2024-10-03T01:10:54.574Z"
   },
   {
    "duration": 4497,
    "start_time": "2024-10-03T01:10:57.251Z"
   },
   {
    "duration": 15844,
    "start_time": "2024-10-03T01:11:01.750Z"
   },
   {
    "duration": 119933,
    "start_time": "2024-10-03T01:11:17.596Z"
   },
   {
    "duration": 2302,
    "start_time": "2024-10-03T01:13:17.532Z"
   },
   {
    "duration": 1882,
    "start_time": "2024-10-03T01:13:19.836Z"
   },
   {
    "duration": 1729,
    "start_time": "2024-10-03T01:13:21.720Z"
   },
   {
    "duration": 1761,
    "start_time": "2024-10-03T01:13:23.452Z"
   },
   {
    "duration": 2556,
    "start_time": "2024-10-03T01:13:25.217Z"
   },
   {
    "duration": 1797,
    "start_time": "2024-10-03T01:36:36.133Z"
   },
   {
    "duration": 1823,
    "start_time": "2024-10-03T01:43:19.704Z"
   },
   {
    "duration": 144,
    "start_time": "2024-10-03T01:43:59.501Z"
   },
   {
    "duration": 1775,
    "start_time": "2024-10-03T01:45:54.664Z"
   },
   {
    "duration": 1826,
    "start_time": "2024-10-03T01:46:25.863Z"
   },
   {
    "duration": 1795,
    "start_time": "2024-10-03T01:48:53.820Z"
   },
   {
    "duration": 1824,
    "start_time": "2024-10-03T01:50:58.373Z"
   },
   {
    "duration": 1803,
    "start_time": "2024-10-03T01:51:42.698Z"
   },
   {
    "duration": 117,
    "start_time": "2024-10-03T02:13:59.095Z"
   },
   {
    "duration": 1466,
    "start_time": "2024-10-03T02:14:55.399Z"
   },
   {
    "duration": 47,
    "start_time": "2024-10-03T02:15:01.488Z"
   },
   {
    "duration": 1081,
    "start_time": "2024-10-03T02:15:14.270Z"
   },
   {
    "duration": 36,
    "start_time": "2024-10-03T02:15:23.229Z"
   },
   {
    "duration": 1000,
    "start_time": "2024-10-03T02:15:35.444Z"
   },
   {
    "duration": 32,
    "start_time": "2024-10-03T02:15:36.447Z"
   },
   {
    "duration": 1592,
    "start_time": "2024-10-03T02:15:36.480Z"
   },
   {
    "duration": 2152,
    "start_time": "2024-10-03T02:15:38.075Z"
   },
   {
    "duration": 2822,
    "start_time": "2024-10-03T02:15:40.229Z"
   },
   {
    "duration": 1862,
    "start_time": "2024-10-03T02:15:43.053Z"
   },
   {
    "duration": 1736,
    "start_time": "2024-10-03T02:15:44.917Z"
   },
   {
    "duration": 1781,
    "start_time": "2024-10-03T02:15:46.655Z"
   },
   {
    "duration": 2192,
    "start_time": "2024-10-03T02:15:48.438Z"
   },
   {
    "duration": 8,
    "start_time": "2024-10-03T02:15:50.634Z"
   },
   {
    "duration": 1786,
    "start_time": "2024-10-03T02:15:50.644Z"
   },
   {
    "duration": 2257,
    "start_time": "2024-10-03T02:15:52.432Z"
   },
   {
    "duration": 3711,
    "start_time": "2024-10-03T02:15:54.691Z"
   },
   {
    "duration": 2283,
    "start_time": "2024-10-03T02:15:58.408Z"
   },
   {
    "duration": 18,
    "start_time": "2024-10-03T02:16:00.693Z"
   },
   {
    "duration": 1622,
    "start_time": "2024-10-03T02:16:00.712Z"
   },
   {
    "duration": 1912,
    "start_time": "2024-10-03T02:16:02.337Z"
   },
   {
    "duration": 2563,
    "start_time": "2024-10-03T02:16:04.251Z"
   },
   {
    "duration": 1601,
    "start_time": "2024-10-03T02:16:06.816Z"
   },
   {
    "duration": 2675,
    "start_time": "2024-10-03T02:16:08.418Z"
   },
   {
    "duration": 4548,
    "start_time": "2024-10-03T02:16:11.094Z"
   },
   {
    "duration": 15987,
    "start_time": "2024-10-03T02:16:15.644Z"
   },
   {
    "duration": 120922,
    "start_time": "2024-10-03T02:16:31.633Z"
   },
   {
    "duration": 2304,
    "start_time": "2024-10-03T02:18:32.557Z"
   },
   {
    "duration": 1886,
    "start_time": "2024-10-03T02:18:34.863Z"
   },
   {
    "duration": 1739,
    "start_time": "2024-10-03T02:18:36.750Z"
   },
   {
    "duration": 1802,
    "start_time": "2024-10-03T02:18:38.491Z"
   },
   {
    "duration": 2528,
    "start_time": "2024-10-03T02:18:40.297Z"
   },
   {
    "duration": 339,
    "start_time": "2024-10-03T02:18:42.826Z"
   },
   {
    "duration": 0,
    "start_time": "2024-10-03T02:18:43.167Z"
   },
   {
    "duration": 1382,
    "start_time": "2024-10-03T02:20:58.918Z"
   },
   {
    "duration": 53,
    "start_time": "2024-10-03T02:30:23.622Z"
   },
   {
    "duration": 2087,
    "start_time": "2024-10-03T02:32:19.872Z"
   },
   {
    "duration": 1062,
    "start_time": "2024-10-03T02:33:23.206Z"
   },
   {
    "duration": 31,
    "start_time": "2024-10-03T02:33:24.270Z"
   },
   {
    "duration": 1655,
    "start_time": "2024-10-03T02:33:24.303Z"
   },
   {
    "duration": 2228,
    "start_time": "2024-10-03T02:33:25.960Z"
   },
   {
    "duration": 2975,
    "start_time": "2024-10-03T02:33:28.190Z"
   },
   {
    "duration": 1784,
    "start_time": "2024-10-03T02:33:31.167Z"
   },
   {
    "duration": 1788,
    "start_time": "2024-10-03T02:33:32.953Z"
   },
   {
    "duration": 1790,
    "start_time": "2024-10-03T02:33:34.743Z"
   },
   {
    "duration": 2225,
    "start_time": "2024-10-03T02:33:36.534Z"
   },
   {
    "duration": 10,
    "start_time": "2024-10-03T02:33:38.762Z"
   },
   {
    "duration": 1842,
    "start_time": "2024-10-03T02:33:38.774Z"
   },
   {
    "duration": 2302,
    "start_time": "2024-10-03T02:33:40.618Z"
   },
   {
    "duration": 3745,
    "start_time": "2024-10-03T02:33:42.922Z"
   },
   {
    "duration": 2353,
    "start_time": "2024-10-03T02:33:46.668Z"
   },
   {
    "duration": 15,
    "start_time": "2024-10-03T02:33:49.023Z"
   },
   {
    "duration": 1637,
    "start_time": "2024-10-03T02:33:49.040Z"
   },
   {
    "duration": 1925,
    "start_time": "2024-10-03T02:33:50.679Z"
   },
   {
    "duration": 2571,
    "start_time": "2024-10-03T02:33:52.609Z"
   },
   {
    "duration": 1648,
    "start_time": "2024-10-03T02:33:55.182Z"
   },
   {
    "duration": 2801,
    "start_time": "2024-10-03T02:33:56.832Z"
   },
   {
    "duration": 4473,
    "start_time": "2024-10-03T02:33:59.635Z"
   },
   {
    "duration": 15978,
    "start_time": "2024-10-03T02:34:04.110Z"
   },
   {
    "duration": 123943,
    "start_time": "2024-10-03T02:34:20.090Z"
   },
   {
    "duration": 2329,
    "start_time": "2024-10-03T02:36:24.035Z"
   },
   {
    "duration": 1998,
    "start_time": "2024-10-03T02:36:26.366Z"
   },
   {
    "duration": 1739,
    "start_time": "2024-10-03T02:36:28.366Z"
   },
   {
    "duration": 1777,
    "start_time": "2024-10-03T02:36:30.106Z"
   },
   {
    "duration": 3,
    "start_time": "2024-10-03T02:36:31.886Z"
   },
   {
    "duration": 2551,
    "start_time": "2024-10-03T02:36:31.890Z"
   },
   {
    "duration": 1430,
    "start_time": "2024-10-03T02:36:34.443Z"
   },
   {
    "duration": 63,
    "start_time": "2024-10-03T02:36:35.875Z"
   },
   {
    "duration": 655,
    "start_time": "2024-10-03T02:36:35.941Z"
   },
   {
    "duration": 4954,
    "start_time": "2024-10-03T02:36:36.599Z"
   },
   {
    "duration": 172,
    "start_time": "2024-10-03T02:39:31.463Z"
   },
   {
    "duration": 3,
    "start_time": "2024-10-03T02:40:37.574Z"
   },
   {
    "duration": 69,
    "start_time": "2024-10-03T02:54:45.954Z"
   },
   {
    "duration": 1126,
    "start_time": "2024-10-03T02:55:02.935Z"
   },
   {
    "duration": 29,
    "start_time": "2024-10-03T02:55:04.064Z"
   },
   {
    "duration": 1589,
    "start_time": "2024-10-03T02:55:04.095Z"
   },
   {
    "duration": 2185,
    "start_time": "2024-10-03T02:55:05.687Z"
   },
   {
    "duration": 2918,
    "start_time": "2024-10-03T02:55:07.874Z"
   },
   {
    "duration": 1771,
    "start_time": "2024-10-03T02:55:10.794Z"
   },
   {
    "duration": 1750,
    "start_time": "2024-10-03T02:55:12.568Z"
   },
   {
    "duration": 1787,
    "start_time": "2024-10-03T02:55:14.319Z"
   },
   {
    "duration": 2263,
    "start_time": "2024-10-03T02:55:16.109Z"
   },
   {
    "duration": 9,
    "start_time": "2024-10-03T02:55:18.376Z"
   },
   {
    "duration": 1828,
    "start_time": "2024-10-03T02:55:18.386Z"
   },
   {
    "duration": 2343,
    "start_time": "2024-10-03T02:55:20.215Z"
   },
   {
    "duration": 3807,
    "start_time": "2024-10-03T02:55:22.608Z"
   },
   {
    "duration": 2338,
    "start_time": "2024-10-03T02:55:26.418Z"
   },
   {
    "duration": 22,
    "start_time": "2024-10-03T02:55:28.758Z"
   },
   {
    "duration": 1652,
    "start_time": "2024-10-03T02:55:28.783Z"
   },
   {
    "duration": 1948,
    "start_time": "2024-10-03T02:55:30.437Z"
   },
   {
    "duration": 2566,
    "start_time": "2024-10-03T02:55:32.387Z"
   },
   {
    "duration": 1605,
    "start_time": "2024-10-03T02:55:34.955Z"
   },
   {
    "duration": 2743,
    "start_time": "2024-10-03T02:55:36.561Z"
   },
   {
    "duration": 4452,
    "start_time": "2024-10-03T02:55:39.305Z"
   },
   {
    "duration": 15978,
    "start_time": "2024-10-03T02:55:43.760Z"
   },
   {
    "duration": 121878,
    "start_time": "2024-10-03T02:55:59.739Z"
   },
   {
    "duration": 2306,
    "start_time": "2024-10-03T02:58:01.619Z"
   },
   {
    "duration": 1878,
    "start_time": "2024-10-03T02:58:03.926Z"
   },
   {
    "duration": 1768,
    "start_time": "2024-10-03T02:58:05.810Z"
   },
   {
    "duration": 1776,
    "start_time": "2024-10-03T02:58:07.580Z"
   },
   {
    "duration": 2,
    "start_time": "2024-10-03T02:58:09.360Z"
   },
   {
    "duration": 2520,
    "start_time": "2024-10-03T02:58:09.364Z"
   },
   {
    "duration": 75,
    "start_time": "2024-10-03T02:58:11.886Z"
   },
   {
    "duration": 378,
    "start_time": "2024-10-03T02:58:11.963Z"
   },
   {
    "duration": 1066,
    "start_time": "2024-10-03T09:50:39.186Z"
   },
   {
    "duration": 34,
    "start_time": "2024-10-03T09:50:40.254Z"
   },
   {
    "duration": 1592,
    "start_time": "2024-10-03T09:50:40.290Z"
   },
   {
    "duration": 2134,
    "start_time": "2024-10-03T09:50:41.885Z"
   },
   {
    "duration": 2888,
    "start_time": "2024-10-03T09:50:44.021Z"
   },
   {
    "duration": 1768,
    "start_time": "2024-10-03T09:50:46.911Z"
   },
   {
    "duration": 1742,
    "start_time": "2024-10-03T09:50:48.680Z"
   },
   {
    "duration": 1751,
    "start_time": "2024-10-03T09:50:50.424Z"
   },
   {
    "duration": 2251,
    "start_time": "2024-10-03T09:50:52.177Z"
   },
   {
    "duration": 10,
    "start_time": "2024-10-03T09:50:54.433Z"
   },
   {
    "duration": 1840,
    "start_time": "2024-10-03T09:50:54.445Z"
   },
   {
    "duration": 1120,
    "start_time": "2024-10-03T09:51:13.742Z"
   },
   {
    "duration": 33,
    "start_time": "2024-10-03T09:51:14.864Z"
   },
   {
    "duration": 1566,
    "start_time": "2024-10-03T09:51:14.898Z"
   },
   {
    "duration": 2105,
    "start_time": "2024-10-03T09:51:16.467Z"
   },
   {
    "duration": 2903,
    "start_time": "2024-10-03T09:51:18.574Z"
   },
   {
    "duration": 1764,
    "start_time": "2024-10-03T09:51:21.479Z"
   },
   {
    "duration": 1750,
    "start_time": "2024-10-03T09:51:23.245Z"
   },
   {
    "duration": 1764,
    "start_time": "2024-10-03T09:51:24.997Z"
   },
   {
    "duration": 2247,
    "start_time": "2024-10-03T09:51:26.763Z"
   },
   {
    "duration": 10,
    "start_time": "2024-10-03T09:51:29.014Z"
   },
   {
    "duration": 1803,
    "start_time": "2024-10-03T09:51:29.026Z"
   },
   {
    "duration": 2278,
    "start_time": "2024-10-03T09:51:30.831Z"
   },
   {
    "duration": 3671,
    "start_time": "2024-10-03T09:51:33.111Z"
   },
   {
    "duration": 2313,
    "start_time": "2024-10-03T09:51:36.784Z"
   },
   {
    "duration": 16,
    "start_time": "2024-10-03T09:51:39.108Z"
   },
   {
    "duration": 1619,
    "start_time": "2024-10-03T09:51:39.126Z"
   },
   {
    "duration": 1908,
    "start_time": "2024-10-03T09:51:40.746Z"
   },
   {
    "duration": 2552,
    "start_time": "2024-10-03T09:51:42.657Z"
   },
   {
    "duration": 1590,
    "start_time": "2024-10-03T09:51:45.211Z"
   },
   {
    "duration": 2829,
    "start_time": "2024-10-03T09:51:46.803Z"
   },
   {
    "duration": 4428,
    "start_time": "2024-10-03T09:51:49.634Z"
   },
   {
    "duration": 15733,
    "start_time": "2024-10-03T09:51:54.065Z"
   },
   {
    "duration": 1116,
    "start_time": "2024-10-03T09:54:08.030Z"
   },
   {
    "duration": 32,
    "start_time": "2024-10-03T09:54:09.149Z"
   },
   {
    "duration": 1576,
    "start_time": "2024-10-03T09:54:09.182Z"
   },
   {
    "duration": 2111,
    "start_time": "2024-10-03T09:54:10.760Z"
   },
   {
    "duration": 2849,
    "start_time": "2024-10-03T09:54:12.874Z"
   },
   {
    "duration": 1788,
    "start_time": "2024-10-03T09:54:15.724Z"
   },
   {
    "duration": 1742,
    "start_time": "2024-10-03T09:54:17.515Z"
   },
   {
    "duration": 1761,
    "start_time": "2024-10-03T09:54:19.258Z"
   },
   {
    "duration": 2179,
    "start_time": "2024-10-03T09:54:21.021Z"
   },
   {
    "duration": 14,
    "start_time": "2024-10-03T09:54:23.203Z"
   },
   {
    "duration": 1786,
    "start_time": "2024-10-03T09:54:23.219Z"
   },
   {
    "duration": 2407,
    "start_time": "2024-10-03T09:54:25.008Z"
   },
   {
    "duration": 3711,
    "start_time": "2024-10-03T09:54:27.417Z"
   },
   {
    "duration": 2243,
    "start_time": "2024-10-03T09:54:31.130Z"
   },
   {
    "duration": 15,
    "start_time": "2024-10-03T09:54:33.375Z"
   },
   {
    "duration": 1586,
    "start_time": "2024-10-03T09:54:33.408Z"
   },
   {
    "duration": 1942,
    "start_time": "2024-10-03T09:54:34.996Z"
   },
   {
    "duration": 2540,
    "start_time": "2024-10-03T09:54:36.941Z"
   },
   {
    "duration": 1591,
    "start_time": "2024-10-03T09:54:39.483Z"
   },
   {
    "duration": 2673,
    "start_time": "2024-10-03T09:54:41.077Z"
   },
   {
    "duration": 4493,
    "start_time": "2024-10-03T09:54:43.752Z"
   },
   {
    "duration": 15662,
    "start_time": "2024-10-03T09:54:48.247Z"
   },
   {
    "duration": 120200,
    "start_time": "2024-10-03T09:55:03.911Z"
   },
   {
    "duration": 2278,
    "start_time": "2024-10-03T09:57:04.113Z"
   },
   {
    "duration": 1964,
    "start_time": "2024-10-03T09:57:06.393Z"
   },
   {
    "duration": 1728,
    "start_time": "2024-10-03T09:57:08.359Z"
   },
   {
    "duration": 1774,
    "start_time": "2024-10-03T09:57:10.088Z"
   },
   {
    "duration": 2,
    "start_time": "2024-10-03T09:57:11.866Z"
   },
   {
    "duration": 2543,
    "start_time": "2024-10-03T09:57:11.869Z"
   },
   {
    "duration": 64,
    "start_time": "2024-10-03T09:57:14.414Z"
   },
   {
    "duration": 6,
    "start_time": "2024-10-03T10:19:40.697Z"
   },
   {
    "duration": 1098,
    "start_time": "2024-10-03T12:35:08.880Z"
   },
   {
    "duration": 33,
    "start_time": "2024-10-03T12:35:09.981Z"
   },
   {
    "duration": 1617,
    "start_time": "2024-10-03T12:35:10.016Z"
   },
   {
    "duration": 2200,
    "start_time": "2024-10-03T12:35:11.636Z"
   },
   {
    "duration": 2994,
    "start_time": "2024-10-03T12:35:13.838Z"
   },
   {
    "duration": 1791,
    "start_time": "2024-10-03T12:35:16.833Z"
   },
   {
    "duration": 1769,
    "start_time": "2024-10-03T12:35:18.626Z"
   },
   {
    "duration": 1747,
    "start_time": "2024-10-03T12:35:20.397Z"
   },
   {
    "duration": 2194,
    "start_time": "2024-10-03T12:35:22.146Z"
   },
   {
    "duration": 1828,
    "start_time": "2024-10-03T12:35:24.344Z"
   },
   {
    "duration": 2301,
    "start_time": "2024-10-03T12:35:26.174Z"
   },
   {
    "duration": 3772,
    "start_time": "2024-10-03T12:35:28.477Z"
   },
   {
    "duration": 2273,
    "start_time": "2024-10-03T12:35:32.252Z"
   },
   {
    "duration": 15,
    "start_time": "2024-10-03T12:35:34.527Z"
   },
   {
    "duration": 1658,
    "start_time": "2024-10-03T12:35:34.544Z"
   },
   {
    "duration": 1995,
    "start_time": "2024-10-03T12:35:36.204Z"
   },
   {
    "duration": 2567,
    "start_time": "2024-10-03T12:35:38.201Z"
   },
   {
    "duration": 1647,
    "start_time": "2024-10-03T12:35:40.770Z"
   },
   {
    "duration": 2765,
    "start_time": "2024-10-03T12:35:42.419Z"
   },
   {
    "duration": 4498,
    "start_time": "2024-10-03T12:35:45.186Z"
   },
   {
    "duration": 15984,
    "start_time": "2024-10-03T12:35:49.686Z"
   },
   {
    "duration": 123409,
    "start_time": "2024-10-03T12:36:05.672Z"
   },
   {
    "duration": 2332,
    "start_time": "2024-10-03T12:38:09.084Z"
   },
   {
    "duration": 1881,
    "start_time": "2024-10-03T12:38:11.418Z"
   },
   {
    "duration": 1765,
    "start_time": "2024-10-03T12:38:13.301Z"
   },
   {
    "duration": 1799,
    "start_time": "2024-10-03T12:38:15.067Z"
   },
   {
    "duration": 2566,
    "start_time": "2024-10-03T12:38:16.868Z"
   },
   {
    "duration": 79,
    "start_time": "2024-10-03T12:38:19.438Z"
   },
   {
    "duration": 3,
    "start_time": "2024-10-03T12:40:53.552Z"
   },
   {
    "duration": 5,
    "start_time": "2024-10-03T12:44:44.778Z"
   },
   {
    "duration": 1093,
    "start_time": "2024-10-03T13:22:56.498Z"
   },
   {
    "duration": 41,
    "start_time": "2024-10-03T13:22:57.594Z"
   },
   {
    "duration": 1630,
    "start_time": "2024-10-03T13:22:57.637Z"
   },
   {
    "duration": 2145,
    "start_time": "2024-10-03T13:22:59.271Z"
   },
   {
    "duration": 2952,
    "start_time": "2024-10-03T13:23:01.418Z"
   },
   {
    "duration": 1781,
    "start_time": "2024-10-03T13:23:04.372Z"
   },
   {
    "duration": 1802,
    "start_time": "2024-10-03T13:23:06.155Z"
   },
   {
    "duration": 1831,
    "start_time": "2024-10-03T13:23:07.960Z"
   },
   {
    "duration": 2227,
    "start_time": "2024-10-03T13:23:09.794Z"
   },
   {
    "duration": 1826,
    "start_time": "2024-10-03T13:23:12.024Z"
   },
   {
    "duration": 4,
    "start_time": "2024-10-03T13:23:13.853Z"
   },
   {
    "duration": 0,
    "start_time": "2024-10-03T13:23:13.859Z"
   },
   {
    "duration": 0,
    "start_time": "2024-10-03T13:23:13.860Z"
   },
   {
    "duration": 0,
    "start_time": "2024-10-03T13:23:13.862Z"
   },
   {
    "duration": 0,
    "start_time": "2024-10-03T13:23:13.863Z"
   },
   {
    "duration": 0,
    "start_time": "2024-10-03T13:23:13.864Z"
   },
   {
    "duration": 0,
    "start_time": "2024-10-03T13:23:13.865Z"
   },
   {
    "duration": 0,
    "start_time": "2024-10-03T13:23:13.867Z"
   },
   {
    "duration": 0,
    "start_time": "2024-10-03T13:23:13.869Z"
   },
   {
    "duration": 0,
    "start_time": "2024-10-03T13:23:13.870Z"
   },
   {
    "duration": 1,
    "start_time": "2024-10-03T13:23:13.871Z"
   },
   {
    "duration": 0,
    "start_time": "2024-10-03T13:23:13.873Z"
   },
   {
    "duration": 0,
    "start_time": "2024-10-03T13:23:13.875Z"
   },
   {
    "duration": 0,
    "start_time": "2024-10-03T13:23:13.876Z"
   },
   {
    "duration": 0,
    "start_time": "2024-10-03T13:23:13.910Z"
   },
   {
    "duration": 0,
    "start_time": "2024-10-03T13:23:13.911Z"
   },
   {
    "duration": 0,
    "start_time": "2024-10-03T13:23:13.913Z"
   },
   {
    "duration": 0,
    "start_time": "2024-10-03T13:23:13.915Z"
   },
   {
    "duration": 0,
    "start_time": "2024-10-03T13:23:13.916Z"
   },
   {
    "duration": 0,
    "start_time": "2024-10-03T13:23:13.918Z"
   },
   {
    "duration": 0,
    "start_time": "2024-10-03T13:23:13.919Z"
   },
   {
    "duration": 1236,
    "start_time": "2024-10-03T13:24:07.129Z"
   },
   {
    "duration": 31,
    "start_time": "2024-10-03T13:24:08.368Z"
   },
   {
    "duration": 1658,
    "start_time": "2024-10-03T13:24:08.401Z"
   },
   {
    "duration": 2155,
    "start_time": "2024-10-03T13:24:10.063Z"
   },
   {
    "duration": 2947,
    "start_time": "2024-10-03T13:24:12.220Z"
   },
   {
    "duration": 1868,
    "start_time": "2024-10-03T13:24:15.169Z"
   },
   {
    "duration": 1757,
    "start_time": "2024-10-03T13:24:17.040Z"
   },
   {
    "duration": 1773,
    "start_time": "2024-10-03T13:24:18.799Z"
   },
   {
    "duration": 2246,
    "start_time": "2024-10-03T13:24:20.574Z"
   },
   {
    "duration": 1827,
    "start_time": "2024-10-03T13:24:22.824Z"
   },
   {
    "duration": 2308,
    "start_time": "2024-10-03T13:24:24.654Z"
   },
   {
    "duration": 3,
    "start_time": "2024-10-03T13:24:26.964Z"
   },
   {
    "duration": 0,
    "start_time": "2024-10-03T13:24:26.970Z"
   },
   {
    "duration": 0,
    "start_time": "2024-10-03T13:24:26.971Z"
   },
   {
    "duration": 0,
    "start_time": "2024-10-03T13:24:26.973Z"
   },
   {
    "duration": 1,
    "start_time": "2024-10-03T13:24:26.974Z"
   },
   {
    "duration": 0,
    "start_time": "2024-10-03T13:24:26.975Z"
   },
   {
    "duration": 0,
    "start_time": "2024-10-03T13:24:26.976Z"
   },
   {
    "duration": 0,
    "start_time": "2024-10-03T13:24:26.977Z"
   },
   {
    "duration": 0,
    "start_time": "2024-10-03T13:24:26.978Z"
   },
   {
    "duration": 0,
    "start_time": "2024-10-03T13:24:26.979Z"
   },
   {
    "duration": 0,
    "start_time": "2024-10-03T13:24:26.979Z"
   },
   {
    "duration": 0,
    "start_time": "2024-10-03T13:24:26.980Z"
   },
   {
    "duration": 0,
    "start_time": "2024-10-03T13:24:26.981Z"
   },
   {
    "duration": 0,
    "start_time": "2024-10-03T13:24:26.982Z"
   },
   {
    "duration": 0,
    "start_time": "2024-10-03T13:24:26.983Z"
   },
   {
    "duration": 0,
    "start_time": "2024-10-03T13:24:26.983Z"
   },
   {
    "duration": 0,
    "start_time": "2024-10-03T13:24:27.008Z"
   },
   {
    "duration": 0,
    "start_time": "2024-10-03T13:24:27.011Z"
   },
   {
    "duration": 0,
    "start_time": "2024-10-03T13:24:27.013Z"
   },
   {
    "duration": 1087,
    "start_time": "2024-10-03T14:21:24.317Z"
   },
   {
    "duration": 36,
    "start_time": "2024-10-03T14:21:25.406Z"
   },
   {
    "duration": 1569,
    "start_time": "2024-10-03T14:21:25.444Z"
   },
   {
    "duration": 2193,
    "start_time": "2024-10-03T14:21:27.016Z"
   },
   {
    "duration": 2888,
    "start_time": "2024-10-03T14:21:29.211Z"
   },
   {
    "duration": 1767,
    "start_time": "2024-10-03T14:21:32.100Z"
   },
   {
    "duration": 1728,
    "start_time": "2024-10-03T14:21:33.869Z"
   },
   {
    "duration": 1778,
    "start_time": "2024-10-03T14:21:35.598Z"
   },
   {
    "duration": 2270,
    "start_time": "2024-10-03T14:21:37.378Z"
   },
   {
    "duration": 1777,
    "start_time": "2024-10-03T14:21:39.651Z"
   },
   {
    "duration": 2245,
    "start_time": "2024-10-03T14:21:41.429Z"
   },
   {
    "duration": 3762,
    "start_time": "2024-10-03T14:21:43.677Z"
   },
   {
    "duration": 4,
    "start_time": "2024-10-03T14:21:47.441Z"
   },
   {
    "duration": 0,
    "start_time": "2024-10-03T14:21:47.446Z"
   },
   {
    "duration": 0,
    "start_time": "2024-10-03T14:21:47.448Z"
   },
   {
    "duration": 0,
    "start_time": "2024-10-03T14:21:47.450Z"
   },
   {
    "duration": 0,
    "start_time": "2024-10-03T14:21:47.451Z"
   },
   {
    "duration": 0,
    "start_time": "2024-10-03T14:21:47.453Z"
   },
   {
    "duration": 0,
    "start_time": "2024-10-03T14:21:47.454Z"
   },
   {
    "duration": 0,
    "start_time": "2024-10-03T14:21:47.456Z"
   },
   {
    "duration": 0,
    "start_time": "2024-10-03T14:21:47.458Z"
   },
   {
    "duration": 0,
    "start_time": "2024-10-03T14:21:47.459Z"
   },
   {
    "duration": 0,
    "start_time": "2024-10-03T14:21:47.460Z"
   },
   {
    "duration": 0,
    "start_time": "2024-10-03T14:21:47.461Z"
   },
   {
    "duration": 0,
    "start_time": "2024-10-03T14:21:47.463Z"
   },
   {
    "duration": 0,
    "start_time": "2024-10-03T14:21:47.465Z"
   },
   {
    "duration": 0,
    "start_time": "2024-10-03T14:21:47.465Z"
   },
   {
    "duration": 0,
    "start_time": "2024-10-03T14:21:47.466Z"
   },
   {
    "duration": 0,
    "start_time": "2024-10-03T14:21:47.508Z"
   },
   {
    "duration": 1064,
    "start_time": "2024-10-03T14:27:03.570Z"
   },
   {
    "duration": 32,
    "start_time": "2024-10-03T14:27:04.636Z"
   },
   {
    "duration": 1591,
    "start_time": "2024-10-03T14:27:04.670Z"
   },
   {
    "duration": 2153,
    "start_time": "2024-10-03T14:27:06.263Z"
   },
   {
    "duration": 2870,
    "start_time": "2024-10-03T14:27:08.418Z"
   },
   {
    "duration": 1769,
    "start_time": "2024-10-03T14:27:11.290Z"
   },
   {
    "duration": 1738,
    "start_time": "2024-10-03T14:27:13.061Z"
   },
   {
    "duration": 1768,
    "start_time": "2024-10-03T14:27:14.810Z"
   },
   {
    "duration": 2249,
    "start_time": "2024-10-03T14:27:16.580Z"
   },
   {
    "duration": 1812,
    "start_time": "2024-10-03T14:27:18.832Z"
   },
   {
    "duration": 2266,
    "start_time": "2024-10-03T14:27:20.646Z"
   },
   {
    "duration": 3727,
    "start_time": "2024-10-03T14:27:22.914Z"
   },
   {
    "duration": 2271,
    "start_time": "2024-10-03T14:27:26.643Z"
   },
   {
    "duration": 16,
    "start_time": "2024-10-03T14:27:28.916Z"
   },
   {
    "duration": 1689,
    "start_time": "2024-10-03T14:27:28.933Z"
   },
   {
    "duration": 1951,
    "start_time": "2024-10-03T14:27:30.624Z"
   },
   {
    "duration": 2553,
    "start_time": "2024-10-03T14:27:32.576Z"
   },
   {
    "duration": 1621,
    "start_time": "2024-10-03T14:27:35.131Z"
   },
   {
    "duration": 2758,
    "start_time": "2024-10-03T14:27:36.754Z"
   },
   {
    "duration": 4445,
    "start_time": "2024-10-03T14:27:39.514Z"
   },
   {
    "duration": 15815,
    "start_time": "2024-10-03T14:27:43.961Z"
   },
   {
    "duration": 130632,
    "start_time": "2024-10-03T14:27:59.778Z"
   },
   {
    "duration": 2337,
    "start_time": "2024-10-03T14:30:10.412Z"
   },
   {
    "duration": 1961,
    "start_time": "2024-10-03T14:30:12.751Z"
   },
   {
    "duration": 1934,
    "start_time": "2024-10-03T14:30:14.713Z"
   },
   {
    "duration": 1863,
    "start_time": "2024-10-03T14:30:16.649Z"
   },
   {
    "duration": 2605,
    "start_time": "2024-10-03T14:30:18.514Z"
   },
   {
    "duration": 91,
    "start_time": "2024-10-03T14:30:21.123Z"
   },
   {
    "duration": 1086,
    "start_time": "2024-10-03T14:48:25.375Z"
   },
   {
    "duration": 31,
    "start_time": "2024-10-03T14:48:26.463Z"
   },
   {
    "duration": 1615,
    "start_time": "2024-10-03T14:48:26.495Z"
   },
   {
    "duration": 2155,
    "start_time": "2024-10-03T14:48:28.113Z"
   },
   {
    "duration": 2902,
    "start_time": "2024-10-03T14:48:30.270Z"
   },
   {
    "duration": 1769,
    "start_time": "2024-10-03T14:48:33.174Z"
   },
   {
    "duration": 1740,
    "start_time": "2024-10-03T14:48:34.946Z"
   },
   {
    "duration": 1745,
    "start_time": "2024-10-03T14:48:36.688Z"
   },
   {
    "duration": 2177,
    "start_time": "2024-10-03T14:48:38.435Z"
   },
   {
    "duration": 1769,
    "start_time": "2024-10-03T14:48:40.616Z"
   },
   {
    "duration": 2247,
    "start_time": "2024-10-03T14:48:42.387Z"
   },
   {
    "duration": 3732,
    "start_time": "2024-10-03T14:48:44.636Z"
   },
   {
    "duration": 2257,
    "start_time": "2024-10-03T14:48:48.371Z"
   },
   {
    "duration": 17,
    "start_time": "2024-10-03T14:48:50.629Z"
   },
   {
    "duration": 1629,
    "start_time": "2024-10-03T14:48:50.647Z"
   },
   {
    "duration": 1938,
    "start_time": "2024-10-03T14:48:52.278Z"
   },
   {
    "duration": 2529,
    "start_time": "2024-10-03T14:48:54.218Z"
   },
   {
    "duration": 1641,
    "start_time": "2024-10-03T14:48:56.750Z"
   },
   {
    "duration": 2724,
    "start_time": "2024-10-03T14:48:58.393Z"
   },
   {
    "duration": 4390,
    "start_time": "2024-10-03T14:49:01.118Z"
   },
   {
    "duration": 15974,
    "start_time": "2024-10-03T14:49:05.509Z"
   },
   {
    "duration": 120219,
    "start_time": "2024-10-03T14:49:21.485Z"
   },
   {
    "duration": 2233,
    "start_time": "2024-10-03T14:51:21.706Z"
   },
   {
    "duration": 1879,
    "start_time": "2024-10-03T14:51:23.941Z"
   },
   {
    "duration": 1768,
    "start_time": "2024-10-03T14:51:25.821Z"
   },
   {
    "duration": 1781,
    "start_time": "2024-10-03T14:51:27.591Z"
   },
   {
    "duration": 2537,
    "start_time": "2024-10-03T14:51:29.376Z"
   },
   {
    "duration": 62,
    "start_time": "2024-10-03T14:51:31.918Z"
   },
   {
    "duration": 9,
    "start_time": "2024-10-03T15:43:46.858Z"
   },
   {
    "duration": 9,
    "start_time": "2024-10-03T15:46:29.535Z"
   },
   {
    "duration": 34,
    "start_time": "2024-10-03T15:46:32.903Z"
   },
   {
    "duration": 1614,
    "start_time": "2024-10-03T15:48:36.133Z"
   },
   {
    "duration": 1544,
    "start_time": "2024-10-03T15:50:55.241Z"
   },
   {
    "duration": 1589,
    "start_time": "2024-10-03T15:54:49.845Z"
   },
   {
    "duration": 2109,
    "start_time": "2024-10-03T15:55:08.766Z"
   },
   {
    "duration": 2842,
    "start_time": "2024-10-03T15:55:17.850Z"
   },
   {
    "duration": 1737,
    "start_time": "2024-10-03T15:55:32.186Z"
   },
   {
    "duration": 1709,
    "start_time": "2024-10-03T15:55:39.635Z"
   },
   {
    "duration": 1743,
    "start_time": "2024-10-03T15:55:54.315Z"
   },
   {
    "duration": 721,
    "start_time": "2024-10-03T15:56:59.699Z"
   },
   {
    "duration": 2259,
    "start_time": "2024-10-03T15:58:36.836Z"
   },
   {
    "duration": 51,
    "start_time": "2024-10-03T15:59:23.260Z"
   },
   {
    "duration": 2239,
    "start_time": "2024-10-03T16:54:41.143Z"
   },
   {
    "duration": 24,
    "start_time": "2024-10-03T16:55:38.075Z"
   },
   {
    "duration": 2108,
    "start_time": "2024-10-03T16:59:34.795Z"
   },
   {
    "duration": 7,
    "start_time": "2024-10-03T17:00:03.595Z"
   },
   {
    "duration": 3223,
    "start_time": "2024-10-03T17:02:20.278Z"
   },
   {
    "duration": 1128,
    "start_time": "2024-10-03T17:02:29.849Z"
   },
   {
    "duration": 47,
    "start_time": "2024-10-03T17:02:30.979Z"
   },
   {
    "duration": 1614,
    "start_time": "2024-10-03T17:02:31.028Z"
   },
   {
    "duration": 2103,
    "start_time": "2024-10-03T17:02:32.644Z"
   },
   {
    "duration": 262,
    "start_time": "2024-10-03T17:02:34.749Z"
   },
   {
    "duration": 0,
    "start_time": "2024-10-03T17:02:35.013Z"
   },
   {
    "duration": 0,
    "start_time": "2024-10-03T17:02:35.014Z"
   },
   {
    "duration": 0,
    "start_time": "2024-10-03T17:02:35.015Z"
   },
   {
    "duration": 0,
    "start_time": "2024-10-03T17:02:35.016Z"
   },
   {
    "duration": 0,
    "start_time": "2024-10-03T17:02:35.018Z"
   },
   {
    "duration": 0,
    "start_time": "2024-10-03T17:02:35.019Z"
   },
   {
    "duration": 0,
    "start_time": "2024-10-03T17:02:35.020Z"
   },
   {
    "duration": 0,
    "start_time": "2024-10-03T17:02:35.022Z"
   },
   {
    "duration": 0,
    "start_time": "2024-10-03T17:02:35.023Z"
   },
   {
    "duration": 0,
    "start_time": "2024-10-03T17:02:35.025Z"
   },
   {
    "duration": 0,
    "start_time": "2024-10-03T17:02:35.026Z"
   },
   {
    "duration": 0,
    "start_time": "2024-10-03T17:02:35.028Z"
   },
   {
    "duration": 0,
    "start_time": "2024-10-03T17:02:35.031Z"
   },
   {
    "duration": 0,
    "start_time": "2024-10-03T17:02:35.032Z"
   },
   {
    "duration": 0,
    "start_time": "2024-10-03T17:02:35.034Z"
   },
   {
    "duration": 0,
    "start_time": "2024-10-03T17:02:35.035Z"
   },
   {
    "duration": 0,
    "start_time": "2024-10-03T17:02:35.037Z"
   },
   {
    "duration": 0,
    "start_time": "2024-10-03T17:02:35.038Z"
   },
   {
    "duration": 0,
    "start_time": "2024-10-03T17:02:35.040Z"
   },
   {
    "duration": 0,
    "start_time": "2024-10-03T17:02:35.042Z"
   },
   {
    "duration": 0,
    "start_time": "2024-10-03T17:02:35.043Z"
   },
   {
    "duration": 0,
    "start_time": "2024-10-03T17:02:35.044Z"
   },
   {
    "duration": 5,
    "start_time": "2024-10-03T17:03:38.236Z"
   },
   {
    "duration": 2113,
    "start_time": "2024-10-03T17:03:43.740Z"
   },
   {
    "duration": 11,
    "start_time": "2024-10-03T17:05:31.958Z"
   },
   {
    "duration": 1601,
    "start_time": "2024-10-03T18:07:37.010Z"
   },
   {
    "duration": 2134,
    "start_time": "2024-10-03T18:08:12.230Z"
   },
   {
    "duration": 6,
    "start_time": "2024-10-03T18:09:18.356Z"
   },
   {
    "duration": 1049,
    "start_time": "2024-10-03T18:09:23.103Z"
   },
   {
    "duration": 41,
    "start_time": "2024-10-03T18:09:24.154Z"
   },
   {
    "duration": 1600,
    "start_time": "2024-10-03T18:09:24.197Z"
   },
   {
    "duration": 2171,
    "start_time": "2024-10-03T18:09:25.800Z"
   },
   {
    "duration": 7,
    "start_time": "2024-10-03T18:09:27.973Z"
   },
   {
    "duration": 10,
    "start_time": "2024-10-03T18:09:27.982Z"
   },
   {
    "duration": 258,
    "start_time": "2024-10-03T18:09:28.009Z"
   },
   {
    "duration": 0,
    "start_time": "2024-10-03T18:09:28.270Z"
   },
   {
    "duration": 0,
    "start_time": "2024-10-03T18:09:28.271Z"
   },
   {
    "duration": 0,
    "start_time": "2024-10-03T18:09:28.272Z"
   },
   {
    "duration": 0,
    "start_time": "2024-10-03T18:09:28.273Z"
   },
   {
    "duration": 0,
    "start_time": "2024-10-03T18:09:28.274Z"
   },
   {
    "duration": 0,
    "start_time": "2024-10-03T18:09:28.275Z"
   },
   {
    "duration": 0,
    "start_time": "2024-10-03T18:09:28.276Z"
   },
   {
    "duration": 0,
    "start_time": "2024-10-03T18:09:28.278Z"
   },
   {
    "duration": 0,
    "start_time": "2024-10-03T18:09:28.278Z"
   },
   {
    "duration": 0,
    "start_time": "2024-10-03T18:09:28.279Z"
   },
   {
    "duration": 0,
    "start_time": "2024-10-03T18:09:28.280Z"
   },
   {
    "duration": 0,
    "start_time": "2024-10-03T18:09:28.281Z"
   },
   {
    "duration": 0,
    "start_time": "2024-10-03T18:09:28.282Z"
   },
   {
    "duration": 0,
    "start_time": "2024-10-03T18:09:28.309Z"
   },
   {
    "duration": 0,
    "start_time": "2024-10-03T18:09:28.311Z"
   },
   {
    "duration": 0,
    "start_time": "2024-10-03T18:09:28.312Z"
   },
   {
    "duration": 0,
    "start_time": "2024-10-03T18:09:28.313Z"
   },
   {
    "duration": 0,
    "start_time": "2024-10-03T18:09:28.314Z"
   },
   {
    "duration": 0,
    "start_time": "2024-10-03T18:09:28.316Z"
   },
   {
    "duration": 0,
    "start_time": "2024-10-03T18:09:28.316Z"
   },
   {
    "duration": 14,
    "start_time": "2024-10-03T18:10:08.328Z"
   },
   {
    "duration": 2142,
    "start_time": "2024-10-03T18:11:17.257Z"
   },
   {
    "duration": 1057,
    "start_time": "2024-10-03T18:11:41.781Z"
   },
   {
    "duration": 29,
    "start_time": "2024-10-03T18:11:42.840Z"
   },
   {
    "duration": 1594,
    "start_time": "2024-10-03T18:11:42.873Z"
   },
   {
    "duration": 2116,
    "start_time": "2024-10-03T18:11:44.469Z"
   },
   {
    "duration": 5,
    "start_time": "2024-10-03T18:11:46.587Z"
   },
   {
    "duration": 18,
    "start_time": "2024-10-03T18:11:46.593Z"
   },
   {
    "duration": 256,
    "start_time": "2024-10-03T18:11:46.613Z"
   },
   {
    "duration": 0,
    "start_time": "2024-10-03T18:11:46.871Z"
   },
   {
    "duration": 0,
    "start_time": "2024-10-03T18:11:46.872Z"
   },
   {
    "duration": 0,
    "start_time": "2024-10-03T18:11:46.874Z"
   },
   {
    "duration": 0,
    "start_time": "2024-10-03T18:11:46.875Z"
   },
   {
    "duration": 0,
    "start_time": "2024-10-03T18:11:46.877Z"
   },
   {
    "duration": 0,
    "start_time": "2024-10-03T18:11:46.878Z"
   },
   {
    "duration": 0,
    "start_time": "2024-10-03T18:11:46.880Z"
   },
   {
    "duration": 0,
    "start_time": "2024-10-03T18:11:46.881Z"
   },
   {
    "duration": 0,
    "start_time": "2024-10-03T18:11:46.883Z"
   },
   {
    "duration": 0,
    "start_time": "2024-10-03T18:11:46.884Z"
   },
   {
    "duration": 0,
    "start_time": "2024-10-03T18:11:46.885Z"
   },
   {
    "duration": 0,
    "start_time": "2024-10-03T18:11:46.909Z"
   },
   {
    "duration": 0,
    "start_time": "2024-10-03T18:11:46.911Z"
   },
   {
    "duration": 0,
    "start_time": "2024-10-03T18:11:46.912Z"
   },
   {
    "duration": 0,
    "start_time": "2024-10-03T18:11:46.913Z"
   },
   {
    "duration": 0,
    "start_time": "2024-10-03T18:11:46.914Z"
   },
   {
    "duration": 0,
    "start_time": "2024-10-03T18:11:46.915Z"
   },
   {
    "duration": 0,
    "start_time": "2024-10-03T18:11:46.916Z"
   },
   {
    "duration": 0,
    "start_time": "2024-10-03T18:11:46.917Z"
   },
   {
    "duration": 0,
    "start_time": "2024-10-03T18:11:46.919Z"
   },
   {
    "duration": 18,
    "start_time": "2024-10-03T18:12:22.614Z"
   },
   {
    "duration": 5,
    "start_time": "2024-10-03T18:13:38.126Z"
   },
   {
    "duration": 1073,
    "start_time": "2024-10-03T18:20:21.467Z"
   },
   {
    "duration": 30,
    "start_time": "2024-10-03T18:20:22.543Z"
   },
   {
    "duration": 1581,
    "start_time": "2024-10-03T18:20:22.575Z"
   },
   {
    "duration": 2170,
    "start_time": "2024-10-03T18:20:24.158Z"
   },
   {
    "duration": 2926,
    "start_time": "2024-10-03T18:20:26.330Z"
   },
   {
    "duration": 1789,
    "start_time": "2024-10-03T18:20:29.258Z"
   },
   {
    "duration": 1749,
    "start_time": "2024-10-03T18:20:31.049Z"
   },
   {
    "duration": 1768,
    "start_time": "2024-10-03T18:20:32.799Z"
   },
   {
    "duration": 2231,
    "start_time": "2024-10-03T18:20:34.569Z"
   },
   {
    "duration": 1793,
    "start_time": "2024-10-03T18:20:36.808Z"
   },
   {
    "duration": 2244,
    "start_time": "2024-10-03T18:20:38.603Z"
   },
   {
    "duration": 11,
    "start_time": "2024-10-03T18:20:40.849Z"
   },
   {
    "duration": 15,
    "start_time": "2024-10-03T18:20:40.862Z"
   },
   {
    "duration": 7,
    "start_time": "2024-10-03T18:20:40.879Z"
   },
   {
    "duration": 1665,
    "start_time": "2024-10-03T18:20:40.910Z"
   },
   {
    "duration": 255,
    "start_time": "2024-10-03T18:20:42.577Z"
   },
   {
    "duration": 0,
    "start_time": "2024-10-03T18:20:42.833Z"
   },
   {
    "duration": 0,
    "start_time": "2024-10-03T18:20:42.835Z"
   },
   {
    "duration": 0,
    "start_time": "2024-10-03T18:20:42.836Z"
   },
   {
    "duration": 0,
    "start_time": "2024-10-03T18:20:42.837Z"
   },
   {
    "duration": 0,
    "start_time": "2024-10-03T18:20:42.837Z"
   },
   {
    "duration": 0,
    "start_time": "2024-10-03T18:20:42.838Z"
   },
   {
    "duration": 0,
    "start_time": "2024-10-03T18:20:42.840Z"
   },
   {
    "duration": 0,
    "start_time": "2024-10-03T18:20:42.841Z"
   },
   {
    "duration": 0,
    "start_time": "2024-10-03T18:20:42.842Z"
   },
   {
    "duration": 0,
    "start_time": "2024-10-03T18:20:42.842Z"
   },
   {
    "duration": 0,
    "start_time": "2024-10-03T18:20:42.844Z"
   },
   {
    "duration": 1090,
    "start_time": "2024-10-03T18:20:59.265Z"
   },
   {
    "duration": 35,
    "start_time": "2024-10-03T18:21:00.358Z"
   },
   {
    "duration": 1561,
    "start_time": "2024-10-03T18:21:00.395Z"
   },
   {
    "duration": 2170,
    "start_time": "2024-10-03T18:21:01.958Z"
   },
   {
    "duration": 2926,
    "start_time": "2024-10-03T18:21:04.131Z"
   },
   {
    "duration": 1790,
    "start_time": "2024-10-03T18:21:07.059Z"
   },
   {
    "duration": 1741,
    "start_time": "2024-10-03T18:21:08.851Z"
   },
   {
    "duration": 1758,
    "start_time": "2024-10-03T18:21:10.594Z"
   },
   {
    "duration": 2187,
    "start_time": "2024-10-03T18:21:12.354Z"
   },
   {
    "duration": 1795,
    "start_time": "2024-10-03T18:21:14.543Z"
   },
   {
    "duration": 2254,
    "start_time": "2024-10-03T18:21:16.340Z"
   },
   {
    "duration": 18,
    "start_time": "2024-10-03T18:21:18.596Z"
   },
   {
    "duration": 13,
    "start_time": "2024-10-03T18:21:18.616Z"
   },
   {
    "duration": 7,
    "start_time": "2024-10-03T18:21:18.633Z"
   },
   {
    "duration": 1669,
    "start_time": "2024-10-03T18:21:18.642Z"
   },
   {
    "duration": 253,
    "start_time": "2024-10-03T18:21:20.312Z"
   },
   {
    "duration": 0,
    "start_time": "2024-10-03T18:21:20.567Z"
   },
   {
    "duration": 0,
    "start_time": "2024-10-03T18:21:20.568Z"
   },
   {
    "duration": 0,
    "start_time": "2024-10-03T18:21:20.569Z"
   },
   {
    "duration": 0,
    "start_time": "2024-10-03T18:21:20.571Z"
   },
   {
    "duration": 0,
    "start_time": "2024-10-03T18:21:20.573Z"
   },
   {
    "duration": 0,
    "start_time": "2024-10-03T18:21:20.574Z"
   },
   {
    "duration": 0,
    "start_time": "2024-10-03T18:21:20.576Z"
   },
   {
    "duration": 0,
    "start_time": "2024-10-03T18:21:20.577Z"
   },
   {
    "duration": 0,
    "start_time": "2024-10-03T18:21:20.578Z"
   },
   {
    "duration": 0,
    "start_time": "2024-10-03T18:21:20.580Z"
   },
   {
    "duration": 0,
    "start_time": "2024-10-03T18:21:20.609Z"
   },
   {
    "duration": 1128,
    "start_time": "2024-10-03T18:25:04.240Z"
   },
   {
    "duration": 31,
    "start_time": "2024-10-03T18:25:05.371Z"
   },
   {
    "duration": 1569,
    "start_time": "2024-10-03T18:25:05.404Z"
   },
   {
    "duration": 2159,
    "start_time": "2024-10-03T18:25:06.976Z"
   },
   {
    "duration": 2888,
    "start_time": "2024-10-03T18:25:09.136Z"
   },
   {
    "duration": 1760,
    "start_time": "2024-10-03T18:25:12.026Z"
   },
   {
    "duration": 1747,
    "start_time": "2024-10-03T18:25:13.788Z"
   },
   {
    "duration": 1777,
    "start_time": "2024-10-03T18:25:15.537Z"
   },
   {
    "duration": 2203,
    "start_time": "2024-10-03T18:25:17.316Z"
   },
   {
    "duration": 1772,
    "start_time": "2024-10-03T18:25:19.523Z"
   },
   {
    "duration": 2256,
    "start_time": "2024-10-03T18:25:21.297Z"
   },
   {
    "duration": 9,
    "start_time": "2024-10-03T18:25:23.555Z"
   },
   {
    "duration": 12,
    "start_time": "2024-10-03T18:25:23.566Z"
   },
   {
    "duration": 30,
    "start_time": "2024-10-03T18:25:23.580Z"
   },
   {
    "duration": 1668,
    "start_time": "2024-10-03T18:25:23.612Z"
   },
   {
    "duration": 267,
    "start_time": "2024-10-03T18:25:25.282Z"
   },
   {
    "duration": 0,
    "start_time": "2024-10-03T18:25:25.554Z"
   },
   {
    "duration": 0,
    "start_time": "2024-10-03T18:25:25.555Z"
   },
   {
    "duration": 0,
    "start_time": "2024-10-03T18:25:25.557Z"
   },
   {
    "duration": 0,
    "start_time": "2024-10-03T18:25:25.558Z"
   },
   {
    "duration": 0,
    "start_time": "2024-10-03T18:25:25.560Z"
   },
   {
    "duration": 0,
    "start_time": "2024-10-03T18:25:25.562Z"
   },
   {
    "duration": 0,
    "start_time": "2024-10-03T18:25:25.563Z"
   },
   {
    "duration": 0,
    "start_time": "2024-10-03T18:25:25.565Z"
   },
   {
    "duration": 0,
    "start_time": "2024-10-03T18:25:25.566Z"
   },
   {
    "duration": 0,
    "start_time": "2024-10-03T18:25:25.568Z"
   },
   {
    "duration": 0,
    "start_time": "2024-10-03T18:25:25.569Z"
   },
   {
    "duration": 2173,
    "start_time": "2024-10-03T18:33:46.245Z"
   },
   {
    "duration": 1094,
    "start_time": "2024-10-03T18:48:35.145Z"
   },
   {
    "duration": 31,
    "start_time": "2024-10-03T18:48:36.241Z"
   },
   {
    "duration": 1610,
    "start_time": "2024-10-03T18:48:36.273Z"
   },
   {
    "duration": 2214,
    "start_time": "2024-10-03T18:48:37.886Z"
   },
   {
    "duration": 2929,
    "start_time": "2024-10-03T18:48:40.109Z"
   },
   {
    "duration": 1807,
    "start_time": "2024-10-03T18:48:43.040Z"
   },
   {
    "duration": 1760,
    "start_time": "2024-10-03T18:48:44.850Z"
   },
   {
    "duration": 1779,
    "start_time": "2024-10-03T18:48:46.611Z"
   },
   {
    "duration": 2225,
    "start_time": "2024-10-03T18:48:48.392Z"
   },
   {
    "duration": 1767,
    "start_time": "2024-10-03T18:48:50.622Z"
   },
   {
    "duration": 2231,
    "start_time": "2024-10-03T18:48:52.391Z"
   },
   {
    "duration": 9,
    "start_time": "2024-10-03T18:48:54.624Z"
   },
   {
    "duration": 12,
    "start_time": "2024-10-03T18:48:54.635Z"
   },
   {
    "duration": 8,
    "start_time": "2024-10-03T18:48:54.648Z"
   },
   {
    "duration": 1678,
    "start_time": "2024-10-03T18:48:54.657Z"
   },
   {
    "duration": 256,
    "start_time": "2024-10-03T18:48:56.336Z"
   },
   {
    "duration": 0,
    "start_time": "2024-10-03T18:48:56.594Z"
   },
   {
    "duration": 0,
    "start_time": "2024-10-03T18:48:56.595Z"
   },
   {
    "duration": 0,
    "start_time": "2024-10-03T18:48:56.597Z"
   },
   {
    "duration": 0,
    "start_time": "2024-10-03T18:48:56.609Z"
   },
   {
    "duration": 0,
    "start_time": "2024-10-03T18:48:56.610Z"
   },
   {
    "duration": 0,
    "start_time": "2024-10-03T18:48:56.611Z"
   },
   {
    "duration": 0,
    "start_time": "2024-10-03T18:48:56.612Z"
   },
   {
    "duration": 0,
    "start_time": "2024-10-03T18:48:56.614Z"
   },
   {
    "duration": 0,
    "start_time": "2024-10-03T18:48:56.615Z"
   },
   {
    "duration": 0,
    "start_time": "2024-10-03T18:48:56.617Z"
   },
   {
    "duration": 0,
    "start_time": "2024-10-03T18:48:56.618Z"
   },
   {
    "duration": 1073,
    "start_time": "2024-10-03T18:49:44.298Z"
   },
   {
    "duration": 31,
    "start_time": "2024-10-03T18:49:45.373Z"
   },
   {
    "duration": 1569,
    "start_time": "2024-10-03T18:49:45.406Z"
   },
   {
    "duration": 2180,
    "start_time": "2024-10-03T18:49:46.977Z"
   },
   {
    "duration": 50013,
    "start_time": "2024-10-03T18:49:49.159Z"
   },
   {
    "duration": 1847,
    "start_time": "2024-10-03T18:50:41.664Z"
   },
   {
    "duration": 1825,
    "start_time": "2024-10-03T18:50:43.513Z"
   },
   {
    "duration": 2216,
    "start_time": "2024-10-03T18:50:45.340Z"
   },
   {
    "duration": 1815,
    "start_time": "2024-10-03T18:50:47.561Z"
   },
   {
    "duration": 2282,
    "start_time": "2024-10-03T18:50:49.378Z"
   },
   {
    "duration": 9,
    "start_time": "2024-10-03T18:50:51.662Z"
   },
   {
    "duration": 13,
    "start_time": "2024-10-03T18:50:51.672Z"
   },
   {
    "duration": 27,
    "start_time": "2024-10-03T18:50:51.687Z"
   },
   {
    "duration": 1594,
    "start_time": "2024-10-03T18:50:51.716Z"
   },
   {
    "duration": 260,
    "start_time": "2024-10-03T18:50:53.312Z"
   },
   {
    "duration": 0,
    "start_time": "2024-10-03T18:50:53.574Z"
   },
   {
    "duration": 0,
    "start_time": "2024-10-03T18:50:53.575Z"
   },
   {
    "duration": 0,
    "start_time": "2024-10-03T18:50:53.576Z"
   },
   {
    "duration": 0,
    "start_time": "2024-10-03T18:50:53.578Z"
   },
   {
    "duration": 0,
    "start_time": "2024-10-03T18:50:53.579Z"
   },
   {
    "duration": 0,
    "start_time": "2024-10-03T18:50:53.580Z"
   },
   {
    "duration": 0,
    "start_time": "2024-10-03T18:50:53.581Z"
   },
   {
    "duration": 0,
    "start_time": "2024-10-03T18:50:53.582Z"
   },
   {
    "duration": 0,
    "start_time": "2024-10-03T18:50:53.583Z"
   },
   {
    "duration": 0,
    "start_time": "2024-10-03T18:50:53.584Z"
   },
   {
    "duration": 0,
    "start_time": "2024-10-03T18:50:53.585Z"
   },
   {
    "duration": 0,
    "start_time": "2024-10-03T18:50:53.586Z"
   },
   {
    "duration": 1796,
    "start_time": "2024-10-03T18:53:24.592Z"
   },
   {
    "duration": 2064,
    "start_time": "2024-10-03T18:55:56.513Z"
   },
   {
    "duration": 2041,
    "start_time": "2024-10-03T18:56:20.319Z"
   },
   {
    "duration": 2078,
    "start_time": "2024-10-03T18:56:36.033Z"
   },
   {
    "duration": 1764,
    "start_time": "2024-10-03T18:56:52.502Z"
   },
   {
    "duration": 3156,
    "start_time": "2024-10-03T18:58:32.433Z"
   },
   {
    "duration": 11574,
    "start_time": "2024-10-03T19:00:00.308Z"
   },
   {
    "duration": 2369,
    "start_time": "2024-10-03T19:01:37.818Z"
   },
   {
    "duration": 2072,
    "start_time": "2024-10-03T19:06:34.748Z"
   },
   {
    "duration": 1763,
    "start_time": "2024-10-03T19:06:57.523Z"
   },
   {
    "duration": 2740,
    "start_time": "2024-10-03T19:07:24.196Z"
   },
   {
    "duration": 26,
    "start_time": "2024-10-03T19:15:21.793Z"
   },
   {
    "duration": 22,
    "start_time": "2024-10-03T19:15:31.049Z"
   },
   {
    "duration": 1758,
    "start_time": "2024-10-03T19:23:44.921Z"
   },
   {
    "duration": 2553,
    "start_time": "2024-10-03T19:24:08.582Z"
   },
   {
    "duration": 24,
    "start_time": "2024-10-03T19:27:49.052Z"
   },
   {
    "duration": 26,
    "start_time": "2024-10-03T19:28:43.636Z"
   },
   {
    "duration": 1794,
    "start_time": "2024-10-03T19:31:44.669Z"
   },
   {
    "duration": 1815,
    "start_time": "2024-10-03T19:33:47.710Z"
   },
   {
    "duration": 2631,
    "start_time": "2024-10-03T19:33:54.789Z"
   },
   {
    "duration": 21,
    "start_time": "2024-10-03T19:34:02.086Z"
   },
   {
    "duration": 13254,
    "start_time": "2024-10-03T19:35:43.847Z"
   },
   {
    "duration": 2056,
    "start_time": "2024-10-03T19:36:01.311Z"
   },
   {
    "duration": 1918,
    "start_time": "2024-10-03T19:36:43.380Z"
   },
   {
    "duration": 1604,
    "start_time": "2024-10-03T19:36:49.569Z"
   },
   {
    "duration": 1917,
    "start_time": "2024-10-03T19:36:55.635Z"
   },
   {
    "duration": 1899,
    "start_time": "2024-10-03T19:38:11.652Z"
   },
   {
    "duration": 1625,
    "start_time": "2024-10-03T19:39:27.136Z"
   },
   {
    "duration": 11,
    "start_time": "2024-10-03T19:44:36.110Z"
   },
   {
    "duration": 1032,
    "start_time": "2024-10-03T19:44:49.109Z"
   },
   {
    "duration": 31,
    "start_time": "2024-10-03T19:44:50.143Z"
   },
   {
    "duration": 1580,
    "start_time": "2024-10-03T19:44:50.176Z"
   },
   {
    "duration": 2151,
    "start_time": "2024-10-03T19:44:51.758Z"
   },
   {
    "duration": 1107,
    "start_time": "2024-10-03T19:45:42.335Z"
   },
   {
    "duration": 31,
    "start_time": "2024-10-03T19:45:43.445Z"
   },
   {
    "duration": 1591,
    "start_time": "2024-10-03T19:45:43.477Z"
   },
   {
    "duration": 2155,
    "start_time": "2024-10-03T19:45:45.071Z"
   },
   {
    "duration": 50136,
    "start_time": "2024-10-03T19:45:47.234Z"
   },
   {
    "duration": 2578,
    "start_time": "2024-10-03T19:46:37.372Z"
   },
   {
    "duration": 1763,
    "start_time": "2024-10-03T19:46:39.952Z"
   },
   {
    "duration": 1762,
    "start_time": "2024-10-03T19:46:41.717Z"
   },
   {
    "duration": 2217,
    "start_time": "2024-10-03T19:46:43.481Z"
   },
   {
    "duration": 1797,
    "start_time": "2024-10-03T19:46:45.703Z"
   },
   {
    "duration": 2845,
    "start_time": "2024-10-03T19:46:47.502Z"
   },
   {
    "duration": 12759,
    "start_time": "2024-10-03T19:46:50.349Z"
   },
   {
    "duration": 2049,
    "start_time": "2024-10-03T19:47:03.110Z"
   },
   {
    "duration": 1888,
    "start_time": "2024-10-03T19:47:05.161Z"
   },
   {
    "duration": 1605,
    "start_time": "2024-10-03T19:47:07.051Z"
   },
   {
    "duration": 11,
    "start_time": "2024-10-03T19:47:08.658Z"
   },
   {
    "duration": 2542,
    "start_time": "2024-10-03T19:47:08.671Z"
   },
   {
    "duration": 2664,
    "start_time": "2024-10-03T19:47:11.215Z"
   },
   {
    "duration": 4445,
    "start_time": "2024-10-03T19:47:13.881Z"
   },
   {
    "duration": 18356,
    "start_time": "2024-10-03T19:47:18.328Z"
   },
   {
    "duration": 257,
    "start_time": "2024-10-03T19:47:36.686Z"
   },
   {
    "duration": 1,
    "start_time": "2024-10-03T19:47:36.944Z"
   },
   {
    "duration": 0,
    "start_time": "2024-10-03T19:47:36.946Z"
   },
   {
    "duration": 0,
    "start_time": "2024-10-03T19:47:36.947Z"
   },
   {
    "duration": 0,
    "start_time": "2024-10-03T19:47:36.948Z"
   },
   {
    "duration": 0,
    "start_time": "2024-10-03T19:47:36.949Z"
   },
   {
    "duration": 0,
    "start_time": "2024-10-03T19:47:36.951Z"
   },
   {
    "duration": 13,
    "start_time": "2024-10-03T19:52:58.202Z"
   },
   {
    "duration": 3,
    "start_time": "2024-10-03T19:59:47.680Z"
   },
   {
    "duration": 12,
    "start_time": "2024-10-03T20:03:28.059Z"
   },
   {
    "duration": 3,
    "start_time": "2024-10-03T20:03:33.802Z"
   },
   {
    "duration": 1947,
    "start_time": "2024-10-03T20:06:16.513Z"
   },
   {
    "duration": 1108,
    "start_time": "2024-10-03T20:13:55.452Z"
   },
   {
    "duration": 32,
    "start_time": "2024-10-03T20:13:56.562Z"
   },
   {
    "duration": 1652,
    "start_time": "2024-10-03T20:13:56.599Z"
   },
   {
    "duration": 2145,
    "start_time": "2024-10-03T20:13:58.253Z"
   },
   {
    "duration": 50092,
    "start_time": "2024-10-03T20:14:00.408Z"
   },
   {
    "duration": 2492,
    "start_time": "2024-10-03T20:14:50.502Z"
   },
   {
    "duration": 1729,
    "start_time": "2024-10-03T20:14:52.996Z"
   },
   {
    "duration": 1742,
    "start_time": "2024-10-03T20:14:54.727Z"
   },
   {
    "duration": 2227,
    "start_time": "2024-10-03T20:14:56.473Z"
   },
   {
    "duration": 1779,
    "start_time": "2024-10-03T20:14:58.702Z"
   },
   {
    "duration": 2648,
    "start_time": "2024-10-03T20:15:00.482Z"
   },
   {
    "duration": 12767,
    "start_time": "2024-10-03T20:15:03.132Z"
   },
   {
    "duration": 2055,
    "start_time": "2024-10-03T20:15:15.901Z"
   },
   {
    "duration": 1936,
    "start_time": "2024-10-03T20:15:17.958Z"
   },
   {
    "duration": 1614,
    "start_time": "2024-10-03T20:15:19.896Z"
   },
   {
    "duration": 9,
    "start_time": "2024-10-03T20:15:21.513Z"
   },
   {
    "duration": 2555,
    "start_time": "2024-10-03T20:15:21.524Z"
   },
   {
    "duration": 2743,
    "start_time": "2024-10-03T20:15:24.081Z"
   },
   {
    "duration": 4436,
    "start_time": "2024-10-03T20:15:26.826Z"
   },
   {
    "duration": 17961,
    "start_time": "2024-10-03T20:15:31.264Z"
   },
   {
    "duration": 260,
    "start_time": "2024-10-03T20:15:49.226Z"
   },
   {
    "duration": 0,
    "start_time": "2024-10-03T20:15:49.488Z"
   },
   {
    "duration": 0,
    "start_time": "2024-10-03T20:15:49.490Z"
   },
   {
    "duration": 0,
    "start_time": "2024-10-03T20:15:49.491Z"
   },
   {
    "duration": 0,
    "start_time": "2024-10-03T20:15:49.492Z"
   },
   {
    "duration": 0,
    "start_time": "2024-10-03T20:15:49.493Z"
   },
   {
    "duration": 0,
    "start_time": "2024-10-03T20:15:49.494Z"
   },
   {
    "duration": 1742,
    "start_time": "2024-10-03T20:16:27.996Z"
   },
   {
    "duration": 38,
    "start_time": "2024-10-03T20:35:53.209Z"
   },
   {
    "duration": 1594,
    "start_time": "2024-10-03T20:36:02.767Z"
   },
   {
    "duration": 32,
    "start_time": "2024-10-03T20:36:08.991Z"
   },
   {
    "duration": 10,
    "start_time": "2024-10-03T20:36:41.488Z"
   },
   {
    "duration": 8,
    "start_time": "2024-10-03T20:38:30.844Z"
   },
   {
    "duration": 14,
    "start_time": "2024-10-03T20:39:18.296Z"
   },
   {
    "duration": 7,
    "start_time": "2024-10-03T20:39:43.314Z"
   },
   {
    "duration": 9,
    "start_time": "2024-10-03T20:39:59.841Z"
   },
   {
    "duration": 1640,
    "start_time": "2024-10-03T20:40:57.588Z"
   },
   {
    "duration": 2167,
    "start_time": "2024-10-03T20:41:45.142Z"
   },
   {
    "duration": 51182,
    "start_time": "2024-10-03T20:41:57.466Z"
   },
   {
    "duration": 1029,
    "start_time": "2024-10-03T21:17:23.130Z"
   },
   {
    "duration": 37,
    "start_time": "2024-10-03T21:17:24.162Z"
   },
   {
    "duration": 1603,
    "start_time": "2024-10-03T21:17:24.200Z"
   },
   {
    "duration": 2166,
    "start_time": "2024-10-03T21:17:25.811Z"
   },
   {
    "duration": 51404,
    "start_time": "2024-10-03T21:17:27.979Z"
   },
   {
    "duration": 1810,
    "start_time": "2024-10-03T21:18:19.385Z"
   },
   {
    "duration": 1737,
    "start_time": "2024-10-03T21:18:21.197Z"
   },
   {
    "duration": 1813,
    "start_time": "2024-10-03T21:18:22.936Z"
   },
   {
    "duration": 29,
    "start_time": "2024-10-03T21:18:24.751Z"
   },
   {
    "duration": 1827,
    "start_time": "2024-10-03T21:18:24.784Z"
   },
   {
    "duration": 11,
    "start_time": "2024-10-03T21:18:26.613Z"
   },
   {
    "duration": 2476,
    "start_time": "2024-10-03T21:18:26.626Z"
   },
   {
    "duration": 8,
    "start_time": "2024-10-03T21:18:29.109Z"
   },
   {
    "duration": 2103,
    "start_time": "2024-10-03T21:18:29.120Z"
   },
   {
    "duration": 1590,
    "start_time": "2024-10-03T21:18:31.225Z"
   },
   {
    "duration": 10,
    "start_time": "2024-10-03T21:18:32.816Z"
   },
   {
    "duration": 2556,
    "start_time": "2024-10-03T21:18:32.828Z"
   },
   {
    "duration": 3045,
    "start_time": "2024-10-03T21:18:35.386Z"
   },
   {
    "duration": 5248,
    "start_time": "2024-10-03T21:18:38.433Z"
   },
   {
    "duration": 37,
    "start_time": "2024-10-03T21:18:43.683Z"
   },
   {
    "duration": 259,
    "start_time": "2024-10-03T21:18:43.721Z"
   },
   {
    "duration": 0,
    "start_time": "2024-10-03T21:18:43.982Z"
   },
   {
    "duration": 0,
    "start_time": "2024-10-03T21:18:43.984Z"
   },
   {
    "duration": 0,
    "start_time": "2024-10-03T21:18:43.986Z"
   },
   {
    "duration": 0,
    "start_time": "2024-10-03T21:18:43.987Z"
   },
   {
    "duration": 0,
    "start_time": "2024-10-03T21:18:43.988Z"
   },
   {
    "duration": 0,
    "start_time": "2024-10-03T21:18:43.989Z"
   },
   {
    "duration": 1755,
    "start_time": "2024-10-03T21:22:22.437Z"
   },
   {
    "duration": 1859,
    "start_time": "2024-10-03T21:23:47.986Z"
   },
   {
    "duration": 1880,
    "start_time": "2024-10-03T21:26:52.552Z"
   },
   {
    "duration": 1805,
    "start_time": "2024-10-03T21:27:22.667Z"
   },
   {
    "duration": 1930,
    "start_time": "2024-10-03T21:29:11.036Z"
   },
   {
    "duration": 35,
    "start_time": "2024-10-03T22:19:10.065Z"
   },
   {
    "duration": 1671,
    "start_time": "2024-10-03T22:19:56.588Z"
   },
   {
    "duration": 1632,
    "start_time": "2024-10-03T22:23:41.522Z"
   },
   {
    "duration": 35,
    "start_time": "2024-10-03T22:30:21.149Z"
   },
   {
    "duration": 46,
    "start_time": "2024-10-03T22:31:24.169Z"
   },
   {
    "duration": 38,
    "start_time": "2024-10-03T22:31:28.425Z"
   },
   {
    "duration": 481,
    "start_time": "2024-10-03T22:31:36.404Z"
   },
   {
    "duration": 36,
    "start_time": "2024-10-03T22:31:46.905Z"
   },
   {
    "duration": 105,
    "start_time": "2024-10-03T22:33:10.705Z"
   },
   {
    "duration": 97,
    "start_time": "2024-10-03T22:33:54.926Z"
   },
   {
    "duration": 41,
    "start_time": "2024-10-03T22:35:36.519Z"
   },
   {
    "duration": 213,
    "start_time": "2024-10-03T22:35:39.750Z"
   },
   {
    "duration": 39,
    "start_time": "2024-10-03T22:37:26.316Z"
   },
   {
    "duration": 63,
    "start_time": "2024-10-03T22:37:38.175Z"
   },
   {
    "duration": 38,
    "start_time": "2024-10-03T22:40:51.897Z"
   },
   {
    "duration": 27,
    "start_time": "2024-10-03T22:40:57.910Z"
   },
   {
    "duration": 30,
    "start_time": "2024-10-03T22:42:01.362Z"
   },
   {
    "duration": 34,
    "start_time": "2024-10-03T22:43:31.012Z"
   },
   {
    "duration": 68,
    "start_time": "2024-10-03T22:43:47.184Z"
   },
   {
    "duration": 47,
    "start_time": "2024-10-03T22:45:33.118Z"
   },
   {
    "duration": 29,
    "start_time": "2024-10-03T22:45:38.730Z"
   },
   {
    "duration": 532,
    "start_time": "2024-10-04T00:20:11.857Z"
   },
   {
    "duration": 105,
    "start_time": "2024-10-04T00:23:28.702Z"
   },
   {
    "duration": 1726,
    "start_time": "2024-10-04T00:23:33.093Z"
   },
   {
    "duration": 1631,
    "start_time": "2024-10-04T00:27:05.290Z"
   },
   {
    "duration": 1562,
    "start_time": "2024-10-04T00:37:01.283Z"
   },
   {
    "duration": 2113,
    "start_time": "2024-10-04T00:38:59.741Z"
   },
   {
    "duration": 6056,
    "start_time": "2024-10-04T00:45:20.757Z"
   },
   {
    "duration": 1596,
    "start_time": "2024-10-04T00:48:43.626Z"
   },
   {
    "duration": 23,
    "start_time": "2024-10-04T00:51:43.895Z"
   },
   {
    "duration": 278,
    "start_time": "2024-10-04T00:53:54.133Z"
   },
   {
    "duration": 46,
    "start_time": "2024-10-04T00:59:03.720Z"
   },
   {
    "duration": 2333,
    "start_time": "2024-10-04T01:02:08.993Z"
   },
   {
    "duration": 2109,
    "start_time": "2024-10-04T01:03:11.190Z"
   },
   {
    "duration": 1596,
    "start_time": "2024-10-04T01:05:19.884Z"
   },
   {
    "duration": 24,
    "start_time": "2024-10-04T01:09:18.652Z"
   },
   {
    "duration": 2954,
    "start_time": "2024-10-04T01:09:59.571Z"
   },
   {
    "duration": 1597,
    "start_time": "2024-10-04T01:10:54.835Z"
   },
   {
    "duration": 3332,
    "start_time": "2024-10-04T01:11:43.912Z"
   },
   {
    "duration": 4032,
    "start_time": "2024-10-04T01:13:57.707Z"
   },
   {
    "duration": 4161,
    "start_time": "2024-10-04T01:15:27.075Z"
   },
   {
    "duration": 5798,
    "start_time": "2024-10-04T01:17:32.912Z"
   },
   {
    "duration": 2212,
    "start_time": "2024-10-04T01:22:02.990Z"
   },
   {
    "duration": 21,
    "start_time": "2024-10-04T01:40:41.671Z"
   },
   {
    "duration": 5770,
    "start_time": "2024-10-04T01:40:49.415Z"
   },
   {
    "duration": 1892,
    "start_time": "2024-10-04T01:55:24.240Z"
   },
   {
    "duration": 13091,
    "start_time": "2024-10-04T01:56:27.842Z"
   },
   {
    "duration": 21,
    "start_time": "2024-10-04T02:02:15.307Z"
   },
   {
    "duration": 1955,
    "start_time": "2024-10-04T02:04:01.249Z"
   },
   {
    "duration": 82,
    "start_time": "2024-10-04T02:08:33.784Z"
   },
   {
    "duration": 17,
    "start_time": "2024-10-04T02:13:05.601Z"
   },
   {
    "duration": 298,
    "start_time": "2024-10-04T02:16:13.318Z"
   },
   {
    "duration": 334,
    "start_time": "2024-10-04T02:19:20.760Z"
   },
   {
    "duration": 204,
    "start_time": "2024-10-04T02:19:30.605Z"
   },
   {
    "duration": 1256,
    "start_time": "2024-10-04T02:20:59.055Z"
   },
   {
    "duration": 140,
    "start_time": "2024-10-04T02:21:03.312Z"
   },
   {
    "duration": 33,
    "start_time": "2024-10-04T02:23:38.276Z"
   },
   {
    "duration": 2181,
    "start_time": "2024-10-04T02:23:50.626Z"
   },
   {
    "duration": 182,
    "start_time": "2024-10-04T02:23:55.020Z"
   },
   {
    "duration": 39434,
    "start_time": "2024-10-04T02:24:41.074Z"
   },
   {
    "duration": 37913,
    "start_time": "2024-10-04T02:27:48.456Z"
   },
   {
    "duration": 53596,
    "start_time": "2024-10-04T02:39:10.785Z"
   },
   {
    "duration": 225,
    "start_time": "2024-10-04T02:43:29.721Z"
   },
   {
    "duration": 65,
    "start_time": "2024-10-04T02:44:15.552Z"
   },
   {
    "duration": 92,
    "start_time": "2024-10-04T02:45:24.417Z"
   },
   {
    "duration": 94,
    "start_time": "2024-10-04T02:45:52.809Z"
   },
   {
    "duration": 4792,
    "start_time": "2024-10-04T02:47:47.457Z"
   },
   {
    "duration": 9408,
    "start_time": "2024-10-04T02:48:10.928Z"
   },
   {
    "duration": 13158,
    "start_time": "2024-10-04T02:50:47.306Z"
   },
   {
    "duration": 60114,
    "start_time": "2024-10-04T02:52:10.723Z"
   },
   {
    "duration": 27,
    "start_time": "2024-10-04T02:56:02.872Z"
   },
   {
    "duration": 2629,
    "start_time": "2024-10-04T02:56:30.582Z"
   },
   {
    "duration": 4,
    "start_time": "2024-10-04T02:58:02.905Z"
   },
   {
    "duration": 1070,
    "start_time": "2024-10-04T02:58:10.914Z"
   },
   {
    "duration": 36,
    "start_time": "2024-10-04T02:58:27.015Z"
   },
   {
    "duration": 1090,
    "start_time": "2024-10-04T02:58:59.968Z"
   },
   {
    "duration": 42,
    "start_time": "2024-10-04T02:59:01.060Z"
   },
   {
    "duration": 1725,
    "start_time": "2024-10-04T02:59:01.104Z"
   },
   {
    "duration": 2203,
    "start_time": "2024-10-04T02:59:02.831Z"
   },
   {
    "duration": 51953,
    "start_time": "2024-10-04T02:59:05.037Z"
   },
   {
    "duration": 1861,
    "start_time": "2024-10-04T02:59:56.992Z"
   },
   {
    "duration": 5708,
    "start_time": "2024-10-04T02:59:58.855Z"
   },
   {
    "duration": 1990,
    "start_time": "2024-10-04T03:00:04.566Z"
   },
   {
    "duration": 2812,
    "start_time": "2024-10-04T03:00:06.558Z"
   },
   {
    "duration": 1956,
    "start_time": "2024-10-04T03:00:09.375Z"
   },
   {
    "duration": 7295,
    "start_time": "2024-10-04T03:00:11.333Z"
   },
   {
    "duration": 6753,
    "start_time": "2024-10-04T03:00:18.630Z"
   },
   {
    "duration": 13924,
    "start_time": "2024-10-04T03:00:25.385Z"
   },
   {
    "duration": 2267,
    "start_time": "2024-10-04T03:00:39.312Z"
   },
   {
    "duration": 292,
    "start_time": "2024-10-04T03:00:41.581Z"
   },
   {
    "duration": 0,
    "start_time": "2024-10-04T03:00:41.875Z"
   },
   {
    "duration": 0,
    "start_time": "2024-10-04T03:00:41.877Z"
   },
   {
    "duration": 0,
    "start_time": "2024-10-04T03:00:41.879Z"
   },
   {
    "duration": 0,
    "start_time": "2024-10-04T03:00:41.880Z"
   },
   {
    "duration": 0,
    "start_time": "2024-10-04T03:00:41.881Z"
   },
   {
    "duration": 0,
    "start_time": "2024-10-04T03:00:41.883Z"
   },
   {
    "duration": 0,
    "start_time": "2024-10-04T03:00:41.885Z"
   },
   {
    "duration": 0,
    "start_time": "2024-10-04T03:00:41.886Z"
   },
   {
    "duration": 303,
    "start_time": "2024-10-04T03:24:46.280Z"
   },
   {
    "duration": 1041,
    "start_time": "2024-10-04T03:25:14.534Z"
   },
   {
    "duration": 41,
    "start_time": "2024-10-04T03:25:15.577Z"
   },
   {
    "duration": 1713,
    "start_time": "2024-10-04T03:25:15.620Z"
   },
   {
    "duration": 2248,
    "start_time": "2024-10-04T03:25:17.337Z"
   },
   {
    "duration": 51729,
    "start_time": "2024-10-04T03:25:19.587Z"
   },
   {
    "duration": 1836,
    "start_time": "2024-10-04T03:26:11.319Z"
   },
   {
    "duration": 5600,
    "start_time": "2024-10-04T03:26:13.157Z"
   },
   {
    "duration": 1898,
    "start_time": "2024-10-04T03:26:18.759Z"
   },
   {
    "duration": 2631,
    "start_time": "2024-10-04T03:26:20.659Z"
   },
   {
    "duration": 1880,
    "start_time": "2024-10-04T03:26:23.293Z"
   },
   {
    "duration": 6980,
    "start_time": "2024-10-04T03:26:25.175Z"
   },
   {
    "duration": 6719,
    "start_time": "2024-10-04T03:26:32.158Z"
   },
   {
    "duration": 13746,
    "start_time": "2024-10-04T03:26:38.879Z"
   },
   {
    "duration": 2244,
    "start_time": "2024-10-04T03:26:52.627Z"
   },
   {
    "duration": 314,
    "start_time": "2024-10-04T03:26:54.873Z"
   },
   {
    "duration": 2484,
    "start_time": "2024-10-04T03:26:55.190Z"
   },
   {
    "duration": 0,
    "start_time": "2024-10-04T03:26:57.676Z"
   },
   {
    "duration": 0,
    "start_time": "2024-10-04T03:26:57.678Z"
   },
   {
    "duration": 0,
    "start_time": "2024-10-04T03:26:57.680Z"
   },
   {
    "duration": 0,
    "start_time": "2024-10-04T03:26:57.681Z"
   },
   {
    "duration": 0,
    "start_time": "2024-10-04T03:26:57.681Z"
   },
   {
    "duration": 0,
    "start_time": "2024-10-04T03:26:57.683Z"
   },
   {
    "duration": 0,
    "start_time": "2024-10-04T03:26:57.684Z"
   },
   {
    "duration": 1545,
    "start_time": "2024-10-04T03:33:21.700Z"
   },
   {
    "duration": 1781,
    "start_time": "2024-10-04T03:34:26.221Z"
   },
   {
    "duration": 1055,
    "start_time": "2024-10-04T03:34:40.485Z"
   },
   {
    "duration": 40,
    "start_time": "2024-10-04T03:34:41.543Z"
   },
   {
    "duration": 1726,
    "start_time": "2024-10-04T03:34:41.586Z"
   },
   {
    "duration": 2207,
    "start_time": "2024-10-04T03:34:43.315Z"
   },
   {
    "duration": 52087,
    "start_time": "2024-10-04T03:34:45.523Z"
   },
   {
    "duration": 1916,
    "start_time": "2024-10-04T03:35:37.612Z"
   },
   {
    "duration": 5722,
    "start_time": "2024-10-04T03:35:39.530Z"
   },
   {
    "duration": 1906,
    "start_time": "2024-10-04T03:35:45.254Z"
   },
   {
    "duration": 2708,
    "start_time": "2024-10-04T03:35:47.161Z"
   },
   {
    "duration": 1891,
    "start_time": "2024-10-04T03:35:49.872Z"
   },
   {
    "duration": 6653,
    "start_time": "2024-10-04T03:35:51.765Z"
   },
   {
    "duration": 6806,
    "start_time": "2024-10-04T03:35:58.420Z"
   },
   {
    "duration": 13830,
    "start_time": "2024-10-04T03:36:05.228Z"
   },
   {
    "duration": 2254,
    "start_time": "2024-10-04T03:36:19.060Z"
   },
   {
    "duration": 324,
    "start_time": "2024-10-04T03:36:21.316Z"
   },
   {
    "duration": 1886,
    "start_time": "2024-10-04T03:36:21.643Z"
   },
   {
    "duration": 54039,
    "start_time": "2024-10-04T03:36:23.531Z"
   },
   {
    "duration": 13804,
    "start_time": "2024-10-04T03:37:17.573Z"
   },
   {
    "duration": 1056,
    "start_time": "2024-10-04T03:38:08.087Z"
   },
   {
    "duration": 43,
    "start_time": "2024-10-04T03:38:09.145Z"
   },
   {
    "duration": 1684,
    "start_time": "2024-10-04T03:38:09.189Z"
   },
   {
    "duration": 2196,
    "start_time": "2024-10-04T03:38:10.876Z"
   },
   {
    "duration": 1108,
    "start_time": "2024-10-04T03:39:06.142Z"
   },
   {
    "duration": 45,
    "start_time": "2024-10-04T03:39:07.253Z"
   },
   {
    "duration": 1718,
    "start_time": "2024-10-04T03:39:07.300Z"
   },
   {
    "duration": 2196,
    "start_time": "2024-10-04T03:39:09.021Z"
   },
   {
    "duration": 51802,
    "start_time": "2024-10-04T03:39:11.219Z"
   },
   {
    "duration": 1848,
    "start_time": "2024-10-04T03:40:03.023Z"
   },
   {
    "duration": 5764,
    "start_time": "2024-10-04T03:40:04.873Z"
   },
   {
    "duration": 1861,
    "start_time": "2024-10-04T03:40:10.638Z"
   },
   {
    "duration": 2617,
    "start_time": "2024-10-04T03:40:12.509Z"
   },
   {
    "duration": 1883,
    "start_time": "2024-10-04T03:40:15.130Z"
   },
   {
    "duration": 6937,
    "start_time": "2024-10-04T03:40:17.015Z"
   },
   {
    "duration": 6769,
    "start_time": "2024-10-04T03:40:23.954Z"
   },
   {
    "duration": 13737,
    "start_time": "2024-10-04T03:40:30.725Z"
   },
   {
    "duration": 2250,
    "start_time": "2024-10-04T03:40:44.463Z"
   },
   {
    "duration": 320,
    "start_time": "2024-10-04T03:40:46.715Z"
   },
   {
    "duration": 1996,
    "start_time": "2024-10-04T03:40:47.037Z"
   },
   {
    "duration": 53997,
    "start_time": "2024-10-04T03:40:49.036Z"
   },
   {
    "duration": 13733,
    "start_time": "2024-10-04T03:41:43.035Z"
   },
   {
    "duration": 62042,
    "start_time": "2024-10-04T03:41:56.771Z"
   },
   {
    "duration": 3,
    "start_time": "2024-10-04T03:42:58.815Z"
   },
   {
    "duration": 7,
    "start_time": "2024-10-04T12:48:57.973Z"
   },
   {
    "duration": 1076,
    "start_time": "2024-10-04T12:52:08.969Z"
   },
   {
    "duration": 41,
    "start_time": "2024-10-04T12:52:10.048Z"
   },
   {
    "duration": 1727,
    "start_time": "2024-10-04T12:52:10.090Z"
   },
   {
    "duration": 2191,
    "start_time": "2024-10-04T12:52:11.819Z"
   },
   {
    "duration": 51530,
    "start_time": "2024-10-04T12:52:14.012Z"
   },
   {
    "duration": 1874,
    "start_time": "2024-10-04T12:53:05.544Z"
   },
   {
    "duration": 5700,
    "start_time": "2024-10-04T12:53:07.420Z"
   },
   {
    "duration": 1909,
    "start_time": "2024-10-04T12:53:13.122Z"
   },
   {
    "duration": 2687,
    "start_time": "2024-10-04T12:53:15.033Z"
   },
   {
    "duration": 1927,
    "start_time": "2024-10-04T12:53:17.724Z"
   },
   {
    "duration": 6663,
    "start_time": "2024-10-04T12:53:19.653Z"
   },
   {
    "duration": 7097,
    "start_time": "2024-10-04T12:53:26.319Z"
   },
   {
    "duration": 13673,
    "start_time": "2024-10-04T12:53:33.419Z"
   },
   {
    "duration": 2316,
    "start_time": "2024-10-04T12:53:47.094Z"
   },
   {
    "duration": 306,
    "start_time": "2024-10-04T12:53:49.412Z"
   },
   {
    "duration": 1902,
    "start_time": "2024-10-04T12:53:49.720Z"
   },
   {
    "duration": 53196,
    "start_time": "2024-10-04T12:53:51.624Z"
   },
   {
    "duration": 13725,
    "start_time": "2024-10-04T12:54:44.822Z"
   },
   {
    "duration": 62258,
    "start_time": "2024-10-04T12:54:58.548Z"
   },
   {
    "duration": 3,
    "start_time": "2024-10-04T12:56:00.808Z"
   },
   {
    "duration": 8,
    "start_time": "2024-10-04T13:06:13.394Z"
   },
   {
    "duration": 8,
    "start_time": "2024-10-04T13:08:14.622Z"
   },
   {
    "duration": 10,
    "start_time": "2024-10-04T13:30:58.557Z"
   },
   {
    "duration": 241,
    "start_time": "2024-10-04T13:38:23.802Z"
   },
   {
    "duration": 1050,
    "start_time": "2024-10-04T13:40:31.394Z"
   },
   {
    "duration": 44,
    "start_time": "2024-10-04T13:40:32.446Z"
   },
   {
    "duration": 1719,
    "start_time": "2024-10-04T13:40:32.493Z"
   },
   {
    "duration": 2202,
    "start_time": "2024-10-04T13:40:34.214Z"
   },
   {
    "duration": 8,
    "start_time": "2024-10-04T13:40:36.418Z"
   },
   {
    "duration": 51290,
    "start_time": "2024-10-04T13:40:36.428Z"
   },
   {
    "duration": 1889,
    "start_time": "2024-10-04T13:41:27.720Z"
   },
   {
    "duration": 5642,
    "start_time": "2024-10-04T13:41:29.610Z"
   },
   {
    "duration": 139,
    "start_time": "2024-10-04T13:41:35.254Z"
   },
   {
    "duration": 1956,
    "start_time": "2024-10-04T13:41:35.408Z"
   },
   {
    "duration": 2708,
    "start_time": "2024-10-04T13:41:37.367Z"
   },
   {
    "duration": 1879,
    "start_time": "2024-10-04T13:41:40.077Z"
   },
   {
    "duration": 6474,
    "start_time": "2024-10-04T13:41:41.958Z"
   },
   {
    "duration": 6528,
    "start_time": "2024-10-04T13:41:48.434Z"
   },
   {
    "duration": 13547,
    "start_time": "2024-10-04T13:41:54.964Z"
   },
   {
    "duration": 2233,
    "start_time": "2024-10-04T13:42:08.512Z"
   },
   {
    "duration": 262,
    "start_time": "2024-10-04T13:42:10.747Z"
   },
   {
    "duration": 0,
    "start_time": "2024-10-04T13:42:11.011Z"
   },
   {
    "duration": 0,
    "start_time": "2024-10-04T13:42:11.013Z"
   },
   {
    "duration": 0,
    "start_time": "2024-10-04T13:42:11.014Z"
   },
   {
    "duration": 0,
    "start_time": "2024-10-04T13:42:11.016Z"
   },
   {
    "duration": 1,
    "start_time": "2024-10-04T13:42:11.017Z"
   },
   {
    "duration": 0,
    "start_time": "2024-10-04T13:42:11.019Z"
   },
   {
    "duration": 1034,
    "start_time": "2024-10-04T14:14:01.904Z"
   },
   {
    "duration": 41,
    "start_time": "2024-10-04T14:14:02.941Z"
   },
   {
    "duration": 1741,
    "start_time": "2024-10-04T14:14:02.984Z"
   },
   {
    "duration": 2198,
    "start_time": "2024-10-04T14:14:04.727Z"
   },
   {
    "duration": 1896,
    "start_time": "2024-10-04T14:14:06.927Z"
   },
   {
    "duration": 51631,
    "start_time": "2024-10-04T14:14:08.825Z"
   },
   {
    "duration": 1852,
    "start_time": "2024-10-04T14:15:00.458Z"
   },
   {
    "duration": 5758,
    "start_time": "2024-10-04T14:15:02.312Z"
   },
   {
    "duration": 43,
    "start_time": "2024-10-04T14:15:08.073Z"
   },
   {
    "duration": 1945,
    "start_time": "2024-10-04T14:15:08.121Z"
   },
   {
    "duration": 2631,
    "start_time": "2024-10-04T14:15:10.067Z"
   },
   {
    "duration": 1887,
    "start_time": "2024-10-04T14:15:12.709Z"
   },
   {
    "duration": 6623,
    "start_time": "2024-10-04T14:15:14.610Z"
   },
   {
    "duration": 6778,
    "start_time": "2024-10-04T14:15:21.235Z"
   },
   {
    "duration": 13762,
    "start_time": "2024-10-04T14:15:28.016Z"
   },
   {
    "duration": 267,
    "start_time": "2024-10-04T14:15:41.780Z"
   },
   {
    "duration": 0,
    "start_time": "2024-10-04T14:15:42.048Z"
   },
   {
    "duration": 0,
    "start_time": "2024-10-04T14:15:42.049Z"
   },
   {
    "duration": 0,
    "start_time": "2024-10-04T14:15:42.051Z"
   },
   {
    "duration": 0,
    "start_time": "2024-10-04T14:15:42.052Z"
   },
   {
    "duration": 0,
    "start_time": "2024-10-04T14:15:42.054Z"
   },
   {
    "duration": 0,
    "start_time": "2024-10-04T14:15:42.055Z"
   },
   {
    "duration": 0,
    "start_time": "2024-10-04T14:15:42.057Z"
   },
   {
    "duration": 0,
    "start_time": "2024-10-04T14:15:42.058Z"
   },
   {
    "duration": 0,
    "start_time": "2024-10-04T14:15:42.058Z"
   },
   {
    "duration": 1002,
    "start_time": "2024-10-04T14:19:43.237Z"
   },
   {
    "duration": 6,
    "start_time": "2024-10-04T14:20:31.151Z"
   },
   {
    "duration": 7909,
    "start_time": "2024-10-04T14:25:35.007Z"
   },
   {
    "duration": 1104,
    "start_time": "2024-10-04T14:28:42.144Z"
   },
   {
    "duration": 39,
    "start_time": "2024-10-04T14:28:43.250Z"
   },
   {
    "duration": 1737,
    "start_time": "2024-10-04T14:28:43.291Z"
   },
   {
    "duration": 2210,
    "start_time": "2024-10-04T14:28:45.030Z"
   },
   {
    "duration": 1877,
    "start_time": "2024-10-04T14:28:47.242Z"
   },
   {
    "duration": 51191,
    "start_time": "2024-10-04T14:28:49.122Z"
   },
   {
    "duration": 1833,
    "start_time": "2024-10-04T14:29:40.316Z"
   },
   {
    "duration": 5677,
    "start_time": "2024-10-04T14:29:42.152Z"
   },
   {
    "duration": 22,
    "start_time": "2024-10-04T14:29:47.831Z"
   },
   {
    "duration": 1919,
    "start_time": "2024-10-04T14:29:47.856Z"
   },
   {
    "duration": 2601,
    "start_time": "2024-10-04T14:29:49.777Z"
   },
   {
    "duration": 1872,
    "start_time": "2024-10-04T14:29:52.380Z"
   },
   {
    "duration": 6696,
    "start_time": "2024-10-04T14:29:54.254Z"
   },
   {
    "duration": 6753,
    "start_time": "2024-10-04T14:30:00.952Z"
   },
   {
    "duration": 13796,
    "start_time": "2024-10-04T14:30:07.706Z"
   },
   {
    "duration": 9123,
    "start_time": "2024-10-04T14:30:21.503Z"
   },
   {
    "duration": 2250,
    "start_time": "2024-10-04T14:30:30.628Z"
   },
   {
    "duration": 261,
    "start_time": "2024-10-04T14:30:32.881Z"
   },
   {
    "duration": 0,
    "start_time": "2024-10-04T14:30:33.145Z"
   },
   {
    "duration": 0,
    "start_time": "2024-10-04T14:30:33.146Z"
   },
   {
    "duration": 0,
    "start_time": "2024-10-04T14:30:33.147Z"
   },
   {
    "duration": 0,
    "start_time": "2024-10-04T14:30:33.148Z"
   },
   {
    "duration": 0,
    "start_time": "2024-10-04T14:30:33.149Z"
   },
   {
    "duration": 0,
    "start_time": "2024-10-04T14:30:33.150Z"
   },
   {
    "duration": 0,
    "start_time": "2024-10-04T14:30:33.151Z"
   },
   {
    "duration": 1542,
    "start_time": "2024-10-04T14:34:59.257Z"
   },
   {
    "duration": 10901,
    "start_time": "2024-10-04T15:03:37.810Z"
   },
   {
    "duration": 3295,
    "start_time": "2024-10-04T15:13:39.427Z"
   },
   {
    "duration": 1077,
    "start_time": "2024-10-04T15:17:16.995Z"
   },
   {
    "duration": 54,
    "start_time": "2024-10-04T15:17:18.075Z"
   },
   {
    "duration": 1720,
    "start_time": "2024-10-04T15:17:18.131Z"
   },
   {
    "duration": 2203,
    "start_time": "2024-10-04T15:17:19.854Z"
   },
   {
    "duration": 1843,
    "start_time": "2024-10-04T15:17:22.059Z"
   },
   {
    "duration": 1035,
    "start_time": "2024-10-04T15:17:31.009Z"
   },
   {
    "duration": 40,
    "start_time": "2024-10-04T15:17:32.047Z"
   },
   {
    "duration": 1723,
    "start_time": "2024-10-04T15:17:32.089Z"
   },
   {
    "duration": 2195,
    "start_time": "2024-10-04T15:17:33.815Z"
   },
   {
    "duration": 1853,
    "start_time": "2024-10-04T15:17:36.012Z"
   },
   {
    "duration": 51304,
    "start_time": "2024-10-04T15:17:37.867Z"
   },
   {
    "duration": 1863,
    "start_time": "2024-10-04T15:18:29.173Z"
   },
   {
    "duration": 5610,
    "start_time": "2024-10-04T15:18:31.038Z"
   },
   {
    "duration": 16,
    "start_time": "2024-10-04T15:18:36.649Z"
   },
   {
    "duration": 1899,
    "start_time": "2024-10-04T15:18:36.667Z"
   },
   {
    "duration": 1874,
    "start_time": "2024-10-04T15:18:38.569Z"
   },
   {
    "duration": 10185,
    "start_time": "2024-10-04T15:18:40.445Z"
   },
   {
    "duration": 18346,
    "start_time": "2024-10-04T15:18:50.632Z"
   },
   {
    "duration": 508,
    "start_time": "2024-10-04T15:19:08.980Z"
   },
   {
    "duration": 0,
    "start_time": "2024-10-04T15:19:09.490Z"
   },
   {
    "duration": 0,
    "start_time": "2024-10-04T15:19:09.492Z"
   },
   {
    "duration": 0,
    "start_time": "2024-10-04T15:19:09.493Z"
   },
   {
    "duration": 0,
    "start_time": "2024-10-04T15:19:09.494Z"
   },
   {
    "duration": 0,
    "start_time": "2024-10-04T15:19:09.495Z"
   },
   {
    "duration": 0,
    "start_time": "2024-10-04T15:19:09.509Z"
   },
   {
    "duration": 0,
    "start_time": "2024-10-04T15:19:09.511Z"
   },
   {
    "duration": 0,
    "start_time": "2024-10-04T15:19:09.513Z"
   },
   {
    "duration": 7668,
    "start_time": "2024-10-04T15:21:18.575Z"
   },
   {
    "duration": 2375,
    "start_time": "2024-10-04T15:21:54.989Z"
   },
   {
    "duration": 1540,
    "start_time": "2024-10-04T15:22:01.700Z"
   },
   {
    "duration": 1060,
    "start_time": "2024-10-04T15:24:59.677Z"
   },
   {
    "duration": 42,
    "start_time": "2024-10-04T15:25:00.740Z"
   },
   {
    "duration": 1730,
    "start_time": "2024-10-04T15:25:00.784Z"
   },
   {
    "duration": 2162,
    "start_time": "2024-10-04T15:25:02.517Z"
   },
   {
    "duration": 1867,
    "start_time": "2024-10-04T15:25:04.681Z"
   },
   {
    "duration": 51462,
    "start_time": "2024-10-04T15:25:06.550Z"
   },
   {
    "duration": 1841,
    "start_time": "2024-10-04T15:25:58.015Z"
   },
   {
    "duration": 5709,
    "start_time": "2024-10-04T15:25:59.857Z"
   },
   {
    "duration": 45,
    "start_time": "2024-10-04T15:26:05.568Z"
   },
   {
    "duration": 1921,
    "start_time": "2024-10-04T15:26:05.616Z"
   },
   {
    "duration": 1915,
    "start_time": "2024-10-04T15:26:07.539Z"
   },
   {
    "duration": 10968,
    "start_time": "2024-10-04T15:26:09.456Z"
   },
   {
    "duration": 18271,
    "start_time": "2024-10-04T15:26:20.429Z"
   },
   {
    "duration": 9307,
    "start_time": "2024-10-04T15:26:38.709Z"
   },
   {
    "duration": 2285,
    "start_time": "2024-10-04T15:26:48.018Z"
   },
   {
    "duration": 1701,
    "start_time": "2024-10-04T15:26:50.308Z"
   },
   {
    "duration": 308,
    "start_time": "2024-10-04T15:26:52.011Z"
   },
   {
    "duration": 24,
    "start_time": "2024-10-04T15:26:52.321Z"
   },
   {
    "duration": 2576,
    "start_time": "2024-10-04T15:26:52.347Z"
   },
   {
    "duration": 0,
    "start_time": "2024-10-04T15:26:54.925Z"
   },
   {
    "duration": 0,
    "start_time": "2024-10-04T15:26:54.926Z"
   },
   {
    "duration": 0,
    "start_time": "2024-10-04T15:26:54.928Z"
   },
   {
    "duration": 51,
    "start_time": "2024-10-04T15:33:05.548Z"
   },
   {
    "duration": 47,
    "start_time": "2024-10-04T15:34:17.682Z"
   },
   {
    "duration": 32,
    "start_time": "2024-10-04T15:34:37.800Z"
   },
   {
    "duration": 47,
    "start_time": "2024-10-04T15:35:26.705Z"
   },
   {
    "duration": 28,
    "start_time": "2024-10-04T15:35:44.282Z"
   },
   {
    "duration": 27,
    "start_time": "2024-10-04T15:36:00.489Z"
   },
   {
    "duration": 9,
    "start_time": "2024-10-04T15:36:21.325Z"
   },
   {
    "duration": 48,
    "start_time": "2024-10-04T15:39:05.851Z"
   },
   {
    "duration": 70,
    "start_time": "2024-10-04T15:42:32.915Z"
   },
   {
    "duration": 62,
    "start_time": "2024-10-04T15:45:08.693Z"
   },
   {
    "duration": 8,
    "start_time": "2024-10-04T15:45:44.532Z"
   },
   {
    "duration": 122,
    "start_time": "2024-10-04T15:46:21.742Z"
   },
   {
    "duration": 3,
    "start_time": "2024-10-04T15:46:34.013Z"
   },
   {
    "duration": 59,
    "start_time": "2024-10-04T15:47:22.822Z"
   },
   {
    "duration": 3,
    "start_time": "2024-10-04T15:47:30.951Z"
   },
   {
    "duration": 8,
    "start_time": "2024-10-04T15:47:34.525Z"
   },
   {
    "duration": 45,
    "start_time": "2024-10-04T15:49:21.781Z"
   },
   {
    "duration": 3,
    "start_time": "2024-10-04T15:49:26.691Z"
   },
   {
    "duration": 77,
    "start_time": "2024-10-04T15:51:49.790Z"
   },
   {
    "duration": 10,
    "start_time": "2024-10-04T15:54:38.412Z"
   },
   {
    "duration": 2324,
    "start_time": "2024-10-04T15:54:56.705Z"
   },
   {
    "duration": 1053,
    "start_time": "2024-10-04T15:55:12.087Z"
   },
   {
    "duration": 40,
    "start_time": "2024-10-04T15:55:13.142Z"
   },
   {
    "duration": 1732,
    "start_time": "2024-10-04T15:55:13.184Z"
   },
   {
    "duration": 2200,
    "start_time": "2024-10-04T15:55:14.918Z"
   },
   {
    "duration": 1714,
    "start_time": "2024-10-04T15:55:17.119Z"
   },
   {
    "duration": 18965,
    "start_time": "2024-10-04T15:55:18.835Z"
   },
   {
    "duration": 1702,
    "start_time": "2024-10-04T15:55:37.808Z"
   },
   {
    "duration": 5748,
    "start_time": "2024-10-04T15:55:39.512Z"
   },
   {
    "duration": 1819,
    "start_time": "2024-10-04T15:55:45.262Z"
   },
   {
    "duration": 3,
    "start_time": "2024-10-04T15:55:47.085Z"
   },
   {
    "duration": 20,
    "start_time": "2024-10-04T15:55:47.090Z"
   },
   {
    "duration": 1698,
    "start_time": "2024-10-04T15:55:47.111Z"
   },
   {
    "duration": 1688,
    "start_time": "2024-10-04T15:55:48.811Z"
   },
   {
    "duration": 46,
    "start_time": "2024-10-04T15:55:50.509Z"
   },
   {
    "duration": 13713,
    "start_time": "2024-10-04T15:55:50.556Z"
   },
   {
    "duration": 5312,
    "start_time": "2024-10-04T15:56:04.271Z"
   },
   {
    "duration": 2003,
    "start_time": "2024-10-04T15:56:09.585Z"
   },
   {
    "duration": 1544,
    "start_time": "2024-10-04T15:56:11.590Z"
   },
   {
    "duration": 642,
    "start_time": "2024-10-04T15:56:13.135Z"
   },
   {
    "duration": 0,
    "start_time": "2024-10-04T15:56:13.780Z"
   },
   {
    "duration": 0,
    "start_time": "2024-10-04T15:56:13.781Z"
   },
   {
    "duration": 0,
    "start_time": "2024-10-04T15:56:13.782Z"
   },
   {
    "duration": 0,
    "start_time": "2024-10-04T15:56:13.783Z"
   },
   {
    "duration": 0,
    "start_time": "2024-10-04T15:56:13.784Z"
   },
   {
    "duration": 1033,
    "start_time": "2024-10-04T16:01:49.915Z"
   },
   {
    "duration": 39,
    "start_time": "2024-10-04T16:01:50.951Z"
   },
   {
    "duration": 1724,
    "start_time": "2024-10-04T16:01:50.992Z"
   },
   {
    "duration": 2201,
    "start_time": "2024-10-04T16:01:52.719Z"
   },
   {
    "duration": 1691,
    "start_time": "2024-10-04T16:01:54.922Z"
   },
   {
    "duration": 19284,
    "start_time": "2024-10-04T16:01:56.615Z"
   },
   {
    "duration": 1729,
    "start_time": "2024-10-04T16:02:15.901Z"
   },
   {
    "duration": 6593,
    "start_time": "2024-10-04T16:02:17.632Z"
   },
   {
    "duration": 1817,
    "start_time": "2024-10-04T16:02:24.227Z"
   },
   {
    "duration": 1721,
    "start_time": "2024-10-04T16:02:26.049Z"
   },
   {
    "duration": 1691,
    "start_time": "2024-10-04T16:02:27.772Z"
   },
   {
    "duration": 66,
    "start_time": "2024-10-04T16:02:29.465Z"
   },
   {
    "duration": 13865,
    "start_time": "2024-10-04T16:02:29.534Z"
   },
   {
    "duration": 5184,
    "start_time": "2024-10-04T16:02:43.401Z"
   },
   {
    "duration": 1983,
    "start_time": "2024-10-04T16:02:48.587Z"
   },
   {
    "duration": 1570,
    "start_time": "2024-10-04T16:02:50.572Z"
   },
   {
    "duration": 641,
    "start_time": "2024-10-04T16:02:52.145Z"
   },
   {
    "duration": 0,
    "start_time": "2024-10-04T16:02:52.788Z"
   },
   {
    "duration": 0,
    "start_time": "2024-10-04T16:02:52.789Z"
   },
   {
    "duration": 0,
    "start_time": "2024-10-04T16:02:52.790Z"
   },
   {
    "duration": 0,
    "start_time": "2024-10-04T16:02:52.791Z"
   },
   {
    "duration": 0,
    "start_time": "2024-10-04T16:02:52.809Z"
   },
   {
    "duration": 1701,
    "start_time": "2024-10-04T16:08:56.694Z"
   },
   {
    "duration": 341,
    "start_time": "2024-10-04T16:10:14.570Z"
   },
   {
    "duration": 2177,
    "start_time": "2024-10-04T16:15:26.693Z"
   },
   {
    "duration": 1094,
    "start_time": "2024-10-04T16:15:38.645Z"
   },
   {
    "duration": 49,
    "start_time": "2024-10-04T16:15:39.741Z"
   },
   {
    "duration": 1727,
    "start_time": "2024-10-04T16:15:39.792Z"
   },
   {
    "duration": 2173,
    "start_time": "2024-10-04T16:15:41.522Z"
   },
   {
    "duration": 1864,
    "start_time": "2024-10-04T16:15:43.709Z"
   },
   {
    "duration": 51934,
    "start_time": "2024-10-04T16:15:45.575Z"
   },
   {
    "duration": 1816,
    "start_time": "2024-10-04T16:16:37.511Z"
   },
   {
    "duration": 6238,
    "start_time": "2024-10-04T16:16:39.329Z"
   },
   {
    "duration": 1952,
    "start_time": "2024-10-04T16:16:45.569Z"
   },
   {
    "duration": 1892,
    "start_time": "2024-10-04T16:16:47.524Z"
   },
   {
    "duration": 1878,
    "start_time": "2024-10-04T16:16:49.418Z"
   },
   {
    "duration": 7131,
    "start_time": "2024-10-04T16:16:51.297Z"
   },
   {
    "duration": 15570,
    "start_time": "2024-10-04T16:16:58.430Z"
   },
   {
    "duration": 4035,
    "start_time": "2024-10-04T16:17:14.009Z"
   },
   {
    "duration": 2044,
    "start_time": "2024-10-04T16:17:18.046Z"
   },
   {
    "duration": 1738,
    "start_time": "2024-10-04T16:17:20.093Z"
   },
   {
    "duration": 288,
    "start_time": "2024-10-04T16:17:21.833Z"
   },
   {
    "duration": 13758,
    "start_time": "2024-10-04T16:17:22.123Z"
   },
   {
    "duration": 9067,
    "start_time": "2024-10-04T16:17:35.883Z"
   },
   {
    "duration": 62266,
    "start_time": "2024-10-04T16:17:44.952Z"
   },
   {
    "duration": 4,
    "start_time": "2024-10-04T16:18:47.220Z"
   },
   {
    "duration": 3,
    "start_time": "2024-10-04T16:18:47.226Z"
   },
   {
    "duration": 7054,
    "start_time": "2024-10-04T16:20:03.158Z"
   },
   {
    "duration": 10909,
    "start_time": "2024-10-04T16:20:41.923Z"
   },
   {
    "duration": 21383,
    "start_time": "2024-10-04T16:45:48.502Z"
   },
   {
    "duration": 1614,
    "start_time": "2024-10-04T16:51:16.728Z"
   },
   {
    "duration": 1125,
    "start_time": "2024-10-04T16:52:06.945Z"
   },
   {
    "duration": 55,
    "start_time": "2024-10-04T16:52:08.073Z"
   },
   {
    "duration": 1723,
    "start_time": "2024-10-04T16:52:08.130Z"
   },
   {
    "duration": 2192,
    "start_time": "2024-10-04T16:52:09.856Z"
   },
   {
    "duration": 1860,
    "start_time": "2024-10-04T16:52:12.050Z"
   },
   {
    "duration": 51202,
    "start_time": "2024-10-04T16:52:13.912Z"
   },
   {
    "duration": 1795,
    "start_time": "2024-10-04T16:53:05.116Z"
   },
   {
    "duration": 6352,
    "start_time": "2024-10-04T16:53:06.913Z"
   },
   {
    "duration": 1922,
    "start_time": "2024-10-04T16:53:13.268Z"
   },
   {
    "duration": 1875,
    "start_time": "2024-10-04T16:53:15.195Z"
   },
   {
    "duration": 1917,
    "start_time": "2024-10-04T16:53:17.072Z"
   },
   {
    "duration": 10741,
    "start_time": "2024-10-04T16:53:18.991Z"
   },
   {
    "duration": 15556,
    "start_time": "2024-10-04T16:53:29.735Z"
   },
   {
    "duration": 4224,
    "start_time": "2024-10-04T16:53:45.293Z"
   },
   {
    "duration": 2015,
    "start_time": "2024-10-04T16:53:49.519Z"
   },
   {
    "duration": 18862,
    "start_time": "2024-10-04T16:53:51.536Z"
   },
   {
    "duration": 0,
    "start_time": "2024-10-04T16:54:10.408Z"
   },
   {
    "duration": 0,
    "start_time": "2024-10-04T16:54:10.410Z"
   },
   {
    "duration": 0,
    "start_time": "2024-10-04T16:54:10.412Z"
   },
   {
    "duration": 0,
    "start_time": "2024-10-04T16:54:10.413Z"
   },
   {
    "duration": 0,
    "start_time": "2024-10-04T16:54:10.415Z"
   },
   {
    "duration": 0,
    "start_time": "2024-10-04T16:54:10.416Z"
   },
   {
    "duration": 0,
    "start_time": "2024-10-04T16:54:10.417Z"
   },
   {
    "duration": 19500,
    "start_time": "2024-10-04T16:59:31.560Z"
   },
   {
    "duration": 1695,
    "start_time": "2024-10-04T17:00:53.150Z"
   },
   {
    "duration": 1035,
    "start_time": "2024-10-04T17:03:19.810Z"
   },
   {
    "duration": 40,
    "start_time": "2024-10-04T17:03:20.847Z"
   },
   {
    "duration": 1688,
    "start_time": "2024-10-04T17:03:20.889Z"
   },
   {
    "duration": 2222,
    "start_time": "2024-10-04T17:03:22.610Z"
   },
   {
    "duration": 1860,
    "start_time": "2024-10-04T17:03:24.834Z"
   },
   {
    "duration": 52385,
    "start_time": "2024-10-04T17:03:26.697Z"
   },
   {
    "duration": 1792,
    "start_time": "2024-10-04T17:04:19.084Z"
   },
   {
    "duration": 6365,
    "start_time": "2024-10-04T17:04:20.878Z"
   },
   {
    "duration": 1926,
    "start_time": "2024-10-04T17:04:27.245Z"
   },
   {
    "duration": 1882,
    "start_time": "2024-10-04T17:04:29.175Z"
   },
   {
    "duration": 1871,
    "start_time": "2024-10-04T17:04:31.058Z"
   },
   {
    "duration": 11515,
    "start_time": "2024-10-04T17:04:32.931Z"
   },
   {
    "duration": 15993,
    "start_time": "2024-10-04T17:04:44.448Z"
   },
   {
    "duration": 4075,
    "start_time": "2024-10-04T17:05:00.443Z"
   },
   {
    "duration": 2039,
    "start_time": "2024-10-04T17:05:04.521Z"
   },
   {
    "duration": 19045,
    "start_time": "2024-10-04T17:05:06.562Z"
   },
   {
    "duration": 277,
    "start_time": "2024-10-04T17:05:25.609Z"
   },
   {
    "duration": 12445,
    "start_time": "2024-10-04T17:05:25.888Z"
   },
   {
    "duration": 8212,
    "start_time": "2024-10-04T17:05:38.335Z"
   },
   {
    "duration": 62265,
    "start_time": "2024-10-04T17:05:46.549Z"
   },
   {
    "duration": 4,
    "start_time": "2024-10-04T17:06:48.816Z"
   },
   {
    "duration": 4,
    "start_time": "2024-10-04T17:06:48.829Z"
   },
   {
    "duration": 4,
    "start_time": "2024-10-04T17:07:57.751Z"
   },
   {
    "duration": 4,
    "start_time": "2024-10-04T17:08:15.922Z"
   },
   {
    "duration": 253,
    "start_time": "2024-10-04T17:16:08.556Z"
   },
   {
    "duration": 1544,
    "start_time": "2024-10-04T17:17:27.965Z"
   },
   {
    "duration": 1564,
    "start_time": "2024-10-04T17:22:59.740Z"
   },
   {
    "duration": 1690,
    "start_time": "2024-10-04T17:28:41.463Z"
   },
   {
    "duration": 254,
    "start_time": "2024-10-04T17:40:23.966Z"
   },
   {
    "duration": 1075,
    "start_time": "2024-10-04T17:43:12.357Z"
   },
   {
    "duration": 43,
    "start_time": "2024-10-04T17:43:13.435Z"
   },
   {
    "duration": 1732,
    "start_time": "2024-10-04T17:43:13.480Z"
   },
   {
    "duration": 2225,
    "start_time": "2024-10-04T17:43:15.215Z"
   },
   {
    "duration": 1850,
    "start_time": "2024-10-04T17:43:17.442Z"
   },
   {
    "duration": 51894,
    "start_time": "2024-10-04T17:43:19.294Z"
   },
   {
    "duration": 1795,
    "start_time": "2024-10-04T17:44:11.190Z"
   },
   {
    "duration": 6540,
    "start_time": "2024-10-04T17:44:12.987Z"
   },
   {
    "duration": 1918,
    "start_time": "2024-10-04T17:44:19.529Z"
   },
   {
    "duration": 1859,
    "start_time": "2024-10-04T17:44:21.450Z"
   },
   {
    "duration": 1887,
    "start_time": "2024-10-04T17:44:23.311Z"
   },
   {
    "duration": 10650,
    "start_time": "2024-10-04T17:44:25.208Z"
   },
   {
    "duration": 15760,
    "start_time": "2024-10-04T17:44:35.860Z"
   },
   {
    "duration": 4032,
    "start_time": "2024-10-04T17:44:51.622Z"
   },
   {
    "duration": 2081,
    "start_time": "2024-10-04T17:44:55.656Z"
   },
   {
    "duration": 18559,
    "start_time": "2024-10-04T17:44:57.740Z"
   },
   {
    "duration": 275,
    "start_time": "2024-10-04T17:45:16.301Z"
   },
   {
    "duration": 10848,
    "start_time": "2024-10-04T17:45:16.578Z"
   },
   {
    "duration": 6519,
    "start_time": "2024-10-04T17:45:27.427Z"
   },
   {
    "duration": 62366,
    "start_time": "2024-10-04T17:45:33.948Z"
   },
   {
    "duration": 5,
    "start_time": "2024-10-04T17:46:36.317Z"
   },
   {
    "duration": 1030,
    "start_time": "2024-10-04T17:46:36.324Z"
   },
   {
    "duration": 10844,
    "start_time": "2024-10-04T17:47:27.397Z"
   },
   {
    "duration": 6553,
    "start_time": "2024-10-04T17:50:49.708Z"
   },
   {
    "duration": 60163,
    "start_time": "2024-10-04T17:51:48.386Z"
   },
   {
    "duration": 1133,
    "start_time": "2024-10-04T17:53:06.498Z"
   },
   {
    "duration": 1227,
    "start_time": "2024-10-04T18:10:00.330Z"
   },
   {
    "duration": 1107,
    "start_time": "2024-10-04T18:12:08.325Z"
   },
   {
    "duration": 1115,
    "start_time": "2024-10-04T18:15:12.867Z"
   },
   {
    "duration": 1117,
    "start_time": "2024-10-04T18:16:11.743Z"
   },
   {
    "duration": 30,
    "start_time": "2024-10-04T18:21:22.379Z"
   },
   {
    "duration": 1138,
    "start_time": "2024-10-04T18:25:23.306Z"
   },
   {
    "duration": 28,
    "start_time": "2024-10-04T18:25:38.689Z"
   },
   {
    "duration": 27,
    "start_time": "2024-10-04T18:27:56.478Z"
   },
   {
    "duration": 1163,
    "start_time": "2024-10-04T18:32:56.148Z"
   },
   {
    "duration": 25,
    "start_time": "2024-10-04T18:34:18.139Z"
   },
   {
    "duration": 1090,
    "start_time": "2024-10-04T18:35:25.468Z"
   },
   {
    "duration": 1122,
    "start_time": "2024-10-04T18:37:04.396Z"
   },
   {
    "duration": 73,
    "start_time": "2024-10-04T18:39:11.781Z"
   },
   {
    "duration": 1536,
    "start_time": "2024-10-04T18:39:24.631Z"
   },
   {
    "duration": 1546,
    "start_time": "2024-10-04T18:40:31.382Z"
   },
   {
    "duration": 83,
    "start_time": "2024-10-04T18:42:26.382Z"
   },
   {
    "duration": 1060,
    "start_time": "2024-10-04T18:48:00.186Z"
   },
   {
    "duration": 40,
    "start_time": "2024-10-04T18:48:01.249Z"
   },
   {
    "duration": 91,
    "start_time": "2024-10-04T18:48:01.290Z"
   },
   {
    "duration": 106,
    "start_time": "2024-10-04T18:48:01.384Z"
   },
   {
    "duration": 1966,
    "start_time": "2024-10-04T18:48:01.492Z"
   },
   {
    "duration": 73018,
    "start_time": "2024-10-04T18:48:03.460Z"
   },
   {
    "duration": 1881,
    "start_time": "2024-10-04T18:49:16.480Z"
   },
   {
    "duration": 6407,
    "start_time": "2024-10-04T18:49:18.362Z"
   },
   {
    "duration": 2002,
    "start_time": "2024-10-04T18:49:24.771Z"
   },
   {
    "duration": 2005,
    "start_time": "2024-10-04T18:49:26.777Z"
   },
   {
    "duration": 1983,
    "start_time": "2024-10-04T18:49:28.785Z"
   },
   {
    "duration": 11024,
    "start_time": "2024-10-04T18:49:30.770Z"
   },
   {
    "duration": 17031,
    "start_time": "2024-10-04T18:49:41.796Z"
   },
   {
    "duration": 4151,
    "start_time": "2024-10-04T18:49:58.829Z"
   },
   {
    "duration": 2052,
    "start_time": "2024-10-04T18:50:02.982Z"
   },
   {
    "duration": 20698,
    "start_time": "2024-10-04T18:50:05.036Z"
   },
   {
    "duration": 276,
    "start_time": "2024-10-04T18:50:25.737Z"
   },
   {
    "duration": 34936,
    "start_time": "2024-10-04T18:50:26.016Z"
   },
   {
    "duration": 10102,
    "start_time": "2024-10-04T18:51:00.954Z"
   },
   {
    "duration": 60080,
    "start_time": "2024-10-04T18:51:11.058Z"
   },
   {
    "duration": 4,
    "start_time": "2024-10-04T18:52:11.140Z"
   },
   {
    "duration": 1112,
    "start_time": "2024-10-04T18:52:11.145Z"
   },
   {
    "duration": 11175,
    "start_time": "2024-10-04T19:13:37.146Z"
   },
   {
    "duration": 10152,
    "start_time": "2024-10-04T19:14:02.457Z"
   },
   {
    "duration": 367,
    "start_time": "2024-10-04T19:46:09.342Z"
   },
   {
    "duration": 250,
    "start_time": "2024-10-04T19:46:39.467Z"
   },
   {
    "duration": 20,
    "start_time": "2024-10-04T19:57:15.239Z"
   },
   {
    "duration": 261,
    "start_time": "2024-10-04T19:57:35.175Z"
   },
   {
    "duration": 1069,
    "start_time": "2024-10-04T19:58:01.674Z"
   },
   {
    "duration": 42,
    "start_time": "2024-10-04T19:58:02.745Z"
   },
   {
    "duration": 84,
    "start_time": "2024-10-04T19:58:02.789Z"
   },
   {
    "duration": 89,
    "start_time": "2024-10-04T19:58:02.876Z"
   },
   {
    "duration": 1969,
    "start_time": "2024-10-04T19:58:02.968Z"
   },
   {
    "duration": 73794,
    "start_time": "2024-10-04T19:58:04.940Z"
   },
   {
    "duration": 1889,
    "start_time": "2024-10-04T19:59:18.736Z"
   },
   {
    "duration": 6396,
    "start_time": "2024-10-04T19:59:20.628Z"
   },
   {
    "duration": 2020,
    "start_time": "2024-10-04T19:59:27.026Z"
   },
   {
    "duration": 2034,
    "start_time": "2024-10-04T19:59:29.050Z"
   },
   {
    "duration": 2023,
    "start_time": "2024-10-04T19:59:31.086Z"
   },
   {
    "duration": 11014,
    "start_time": "2024-10-04T19:59:33.111Z"
   },
   {
    "duration": 16982,
    "start_time": "2024-10-04T19:59:44.128Z"
   },
   {
    "duration": 4127,
    "start_time": "2024-10-04T20:00:01.112Z"
   },
   {
    "duration": 2076,
    "start_time": "2024-10-04T20:00:05.242Z"
   },
   {
    "duration": 20613,
    "start_time": "2024-10-04T20:00:07.320Z"
   },
   {
    "duration": 300,
    "start_time": "2024-10-04T20:00:27.935Z"
   },
   {
    "duration": 35335,
    "start_time": "2024-10-04T20:00:28.237Z"
   },
   {
    "duration": 11889,
    "start_time": "2024-10-04T20:01:03.574Z"
   },
   {
    "duration": 60073,
    "start_time": "2024-10-04T20:01:15.465Z"
   },
   {
    "duration": 4,
    "start_time": "2024-10-04T20:02:15.540Z"
   },
   {
    "duration": 1642,
    "start_time": "2024-10-04T20:02:15.545Z"
   },
   {
    "duration": 4,
    "start_time": "2024-10-04T20:05:56.004Z"
   },
   {
    "duration": 7,
    "start_time": "2024-10-04T20:06:24.936Z"
   },
   {
    "duration": 683,
    "start_time": "2024-10-04T20:06:35.827Z"
   },
   {
    "duration": 52,
    "start_time": "2024-10-04T20:06:47.500Z"
   },
   {
    "duration": 50,
    "start_time": "2024-10-04T20:06:57.524Z"
   },
   {
    "duration": 3,
    "start_time": "2024-10-04T20:08:49.166Z"
   },
   {
    "duration": 5,
    "start_time": "2024-10-04T20:09:13.269Z"
   },
   {
    "duration": 4,
    "start_time": "2024-10-04T20:09:17.436Z"
   },
   {
    "duration": 3,
    "start_time": "2024-10-04T20:09:40.253Z"
   },
   {
    "duration": 6,
    "start_time": "2024-10-04T20:09:56.518Z"
   },
   {
    "duration": 3,
    "start_time": "2024-10-04T20:10:24.733Z"
   },
   {
    "duration": 3,
    "start_time": "2024-10-04T20:10:28.229Z"
   },
   {
    "duration": 2,
    "start_time": "2024-10-04T20:10:43.285Z"
   },
   {
    "duration": 4,
    "start_time": "2024-10-04T20:11:38.522Z"
   },
   {
    "duration": 3,
    "start_time": "2024-10-04T20:12:00.710Z"
   },
   {
    "duration": 21,
    "start_time": "2024-10-04T20:13:09.888Z"
   },
   {
    "duration": 1129,
    "start_time": "2024-10-04T20:18:37.267Z"
   },
   {
    "duration": 39,
    "start_time": "2024-10-04T20:18:38.398Z"
   },
   {
    "duration": 82,
    "start_time": "2024-10-04T20:18:38.438Z"
   },
   {
    "duration": 89,
    "start_time": "2024-10-04T20:18:38.523Z"
   },
   {
    "duration": 1987,
    "start_time": "2024-10-04T20:18:38.614Z"
   },
   {
    "duration": 73090,
    "start_time": "2024-10-04T20:18:40.609Z"
   },
   {
    "duration": 1889,
    "start_time": "2024-10-04T20:19:53.701Z"
   },
   {
    "duration": 6373,
    "start_time": "2024-10-04T20:19:55.592Z"
   },
   {
    "duration": 2025,
    "start_time": "2024-10-04T20:20:01.967Z"
   },
   {
    "duration": 2024,
    "start_time": "2024-10-04T20:20:03.995Z"
   },
   {
    "duration": 2022,
    "start_time": "2024-10-04T20:20:06.021Z"
   },
   {
    "duration": 11087,
    "start_time": "2024-10-04T20:20:08.046Z"
   },
   {
    "duration": 17247,
    "start_time": "2024-10-04T20:20:19.135Z"
   },
   {
    "duration": 4387,
    "start_time": "2024-10-04T20:20:36.384Z"
   },
   {
    "duration": 2018,
    "start_time": "2024-10-04T20:20:40.774Z"
   },
   {
    "duration": 20023,
    "start_time": "2024-10-04T20:20:42.794Z"
   },
   {
    "duration": 281,
    "start_time": "2024-10-04T20:21:02.819Z"
   },
   {
    "duration": 20,
    "start_time": "2024-10-04T20:21:03.110Z"
   },
   {
    "duration": 35521,
    "start_time": "2024-10-04T20:21:03.132Z"
   },
   {
    "duration": 11706,
    "start_time": "2024-10-04T20:21:38.655Z"
   },
   {
    "duration": 60175,
    "start_time": "2024-10-04T20:21:50.363Z"
   },
   {
    "duration": 3,
    "start_time": "2024-10-04T20:22:50.540Z"
   },
   {
    "duration": 1805,
    "start_time": "2024-10-04T20:22:52.331Z"
   },
   {
    "duration": 1073,
    "start_time": "2024-10-04T20:23:15.324Z"
   },
   {
    "duration": 39,
    "start_time": "2024-10-04T20:23:16.399Z"
   },
   {
    "duration": 89,
    "start_time": "2024-10-04T20:23:16.439Z"
   },
   {
    "duration": 89,
    "start_time": "2024-10-04T20:23:16.530Z"
   },
   {
    "duration": 1970,
    "start_time": "2024-10-04T20:23:16.620Z"
   },
   {
    "duration": 73205,
    "start_time": "2024-10-04T20:23:18.592Z"
   },
   {
    "duration": 1879,
    "start_time": "2024-10-04T20:24:31.808Z"
   },
   {
    "duration": 6464,
    "start_time": "2024-10-04T20:24:33.689Z"
   },
   {
    "duration": 2012,
    "start_time": "2024-10-04T20:24:40.155Z"
   },
   {
    "duration": 2010,
    "start_time": "2024-10-04T20:24:42.171Z"
   },
   {
    "duration": 1980,
    "start_time": "2024-10-04T20:24:44.183Z"
   },
   {
    "duration": 9,
    "start_time": "2024-10-04T20:24:46.165Z"
   },
   {
    "duration": 17120,
    "start_time": "2024-10-04T20:24:46.175Z"
   },
   {
    "duration": 4249,
    "start_time": "2024-10-04T20:25:03.310Z"
   },
   {
    "duration": 2067,
    "start_time": "2024-10-04T20:25:07.560Z"
   },
   {
    "duration": 20088,
    "start_time": "2024-10-04T20:25:09.629Z"
   },
   {
    "duration": 291,
    "start_time": "2024-10-04T20:25:29.719Z"
   },
   {
    "duration": 23,
    "start_time": "2024-10-04T20:25:30.012Z"
   },
   {
    "duration": 35189,
    "start_time": "2024-10-04T20:25:30.037Z"
   },
   {
    "duration": 11952,
    "start_time": "2024-10-04T20:26:05.228Z"
   },
   {
    "duration": 60251,
    "start_time": "2024-10-04T20:26:17.183Z"
   },
   {
    "duration": 3,
    "start_time": "2024-10-04T20:27:17.437Z"
   },
   {
    "duration": 1628,
    "start_time": "2024-10-04T20:27:17.442Z"
   },
   {
    "duration": 36035,
    "start_time": "2024-10-04T20:41:33.218Z"
   },
   {
    "duration": 44,
    "start_time": "2024-10-04T21:01:59.328Z"
   },
   {
    "duration": 1207,
    "start_time": "2024-10-04T21:02:13.607Z"
   },
   {
    "duration": 51,
    "start_time": "2024-10-04T21:02:14.816Z"
   },
   {
    "duration": 88,
    "start_time": "2024-10-04T21:02:14.870Z"
   },
   {
    "duration": 89,
    "start_time": "2024-10-04T21:02:14.960Z"
   },
   {
    "duration": 264,
    "start_time": "2024-10-04T21:02:15.051Z"
   },
   {
    "duration": 0,
    "start_time": "2024-10-04T21:02:15.318Z"
   },
   {
    "duration": 0,
    "start_time": "2024-10-04T21:02:15.320Z"
   },
   {
    "duration": 0,
    "start_time": "2024-10-04T21:02:15.321Z"
   },
   {
    "duration": 0,
    "start_time": "2024-10-04T21:02:15.322Z"
   },
   {
    "duration": 0,
    "start_time": "2024-10-04T21:02:15.324Z"
   },
   {
    "duration": 0,
    "start_time": "2024-10-04T21:02:15.325Z"
   },
   {
    "duration": 0,
    "start_time": "2024-10-04T21:02:15.326Z"
   },
   {
    "duration": 0,
    "start_time": "2024-10-04T21:02:15.327Z"
   },
   {
    "duration": 0,
    "start_time": "2024-10-04T21:02:15.328Z"
   },
   {
    "duration": 0,
    "start_time": "2024-10-04T21:02:15.329Z"
   },
   {
    "duration": 0,
    "start_time": "2024-10-04T21:02:15.330Z"
   },
   {
    "duration": 0,
    "start_time": "2024-10-04T21:02:15.330Z"
   },
   {
    "duration": 0,
    "start_time": "2024-10-04T21:02:15.331Z"
   },
   {
    "duration": 0,
    "start_time": "2024-10-04T21:02:15.332Z"
   },
   {
    "duration": 0,
    "start_time": "2024-10-04T21:02:15.333Z"
   },
   {
    "duration": 0,
    "start_time": "2024-10-04T21:02:15.334Z"
   },
   {
    "duration": 420,
    "start_time": "2024-10-04T21:16:21.595Z"
   },
   {
    "duration": 1335,
    "start_time": "2024-10-04T21:16:33.306Z"
   },
   {
    "duration": 1076,
    "start_time": "2024-10-04T21:16:58.074Z"
   },
   {
    "duration": 455,
    "start_time": "2024-10-04T21:16:59.152Z"
   },
   {
    "duration": 84,
    "start_time": "2024-10-04T21:16:59.609Z"
   },
   {
    "duration": 93,
    "start_time": "2024-10-04T21:16:59.696Z"
   },
   {
    "duration": 1337,
    "start_time": "2024-10-04T21:16:59.791Z"
   },
   {
    "duration": 1119,
    "start_time": "2024-10-04T21:28:07.709Z"
   },
   {
    "duration": 461,
    "start_time": "2024-10-04T21:28:08.830Z"
   },
   {
    "duration": 4286,
    "start_time": "2024-10-04T21:28:09.293Z"
   },
   {
    "duration": 0,
    "start_time": "2024-10-04T21:28:13.582Z"
   },
   {
    "duration": 0,
    "start_time": "2024-10-04T21:28:13.584Z"
   },
   {
    "duration": 0,
    "start_time": "2024-10-04T21:28:13.585Z"
   },
   {
    "duration": 0,
    "start_time": "2024-10-04T21:28:13.586Z"
   },
   {
    "duration": 0,
    "start_time": "2024-10-04T21:28:13.587Z"
   },
   {
    "duration": 0,
    "start_time": "2024-10-04T21:28:13.588Z"
   },
   {
    "duration": 0,
    "start_time": "2024-10-04T21:28:13.589Z"
   },
   {
    "duration": 0,
    "start_time": "2024-10-04T21:28:13.591Z"
   },
   {
    "duration": 0,
    "start_time": "2024-10-04T21:28:13.592Z"
   },
   {
    "duration": 0,
    "start_time": "2024-10-04T21:28:13.609Z"
   },
   {
    "duration": 0,
    "start_time": "2024-10-04T21:28:13.610Z"
   },
   {
    "duration": 0,
    "start_time": "2024-10-04T21:28:13.611Z"
   },
   {
    "duration": 0,
    "start_time": "2024-10-04T21:28:13.612Z"
   },
   {
    "duration": 0,
    "start_time": "2024-10-04T21:28:13.614Z"
   },
   {
    "duration": 0,
    "start_time": "2024-10-04T21:28:13.615Z"
   },
   {
    "duration": 0,
    "start_time": "2024-10-04T21:28:13.616Z"
   },
   {
    "duration": 0,
    "start_time": "2024-10-04T21:28:13.617Z"
   },
   {
    "duration": 0,
    "start_time": "2024-10-04T21:28:13.619Z"
   },
   {
    "duration": 4034,
    "start_time": "2024-10-04T21:29:35.096Z"
   },
   {
    "duration": 4033,
    "start_time": "2024-10-04T21:30:44.269Z"
   },
   {
    "duration": 41,
    "start_time": "2024-10-04T21:35:17.693Z"
   },
   {
    "duration": 1046,
    "start_time": "2024-10-04T21:35:23.691Z"
   },
   {
    "duration": 41,
    "start_time": "2024-10-04T21:35:24.739Z"
   },
   {
    "duration": 1715,
    "start_time": "2024-10-04T21:35:24.782Z"
   },
   {
    "duration": 2182,
    "start_time": "2024-10-04T21:35:26.500Z"
   },
   {
    "duration": 1946,
    "start_time": "2024-10-04T21:35:28.684Z"
   },
   {
    "duration": 1134,
    "start_time": "2024-10-04T21:36:04.329Z"
   },
   {
    "duration": 39,
    "start_time": "2024-10-04T21:36:05.465Z"
   },
   {
    "duration": 1678,
    "start_time": "2024-10-04T21:36:05.506Z"
   },
   {
    "duration": 2215,
    "start_time": "2024-10-04T21:36:07.187Z"
   },
   {
    "duration": 1965,
    "start_time": "2024-10-04T21:36:09.404Z"
   },
   {
    "duration": 73773,
    "start_time": "2024-10-04T21:36:11.371Z"
   },
   {
    "duration": 1873,
    "start_time": "2024-10-04T21:37:25.145Z"
   },
   {
    "duration": 6408,
    "start_time": "2024-10-04T21:37:27.020Z"
   },
   {
    "duration": 1988,
    "start_time": "2024-10-04T21:37:33.429Z"
   },
   {
    "duration": 2050,
    "start_time": "2024-10-04T21:37:35.421Z"
   },
   {
    "duration": 2001,
    "start_time": "2024-10-04T21:37:37.473Z"
   },
   {
    "duration": 8,
    "start_time": "2024-10-04T21:37:39.476Z"
   },
   {
    "duration": 17128,
    "start_time": "2024-10-04T21:37:39.486Z"
   },
   {
    "duration": 4336,
    "start_time": "2024-10-04T21:37:56.617Z"
   },
   {
    "duration": 2037,
    "start_time": "2024-10-04T21:38:00.955Z"
   },
   {
    "duration": 20582,
    "start_time": "2024-10-04T21:38:02.995Z"
   },
   {
    "duration": 35443,
    "start_time": "2024-10-04T21:38:23.579Z"
   },
   {
    "duration": 11735,
    "start_time": "2024-10-04T21:38:59.024Z"
   },
   {
    "duration": 62212,
    "start_time": "2024-10-04T21:39:10.761Z"
   },
   {
    "duration": 4,
    "start_time": "2024-10-04T21:40:12.974Z"
   },
   {
    "duration": 733,
    "start_time": "2024-10-04T21:40:12.980Z"
   },
   {
    "duration": 60902,
    "start_time": "2024-10-04T21:41:19.668Z"
   },
   {
    "duration": 628,
    "start_time": "2024-10-04T21:44:05.942Z"
   },
   {
    "duration": 2479,
    "start_time": "2024-10-04T22:29:11.877Z"
   },
   {
    "duration": 0,
    "start_time": "2024-10-04T22:29:14.359Z"
   },
   {
    "duration": 0,
    "start_time": "2024-10-04T22:29:14.360Z"
   },
   {
    "duration": 0,
    "start_time": "2024-10-04T22:29:14.361Z"
   },
   {
    "duration": 0,
    "start_time": "2024-10-04T22:29:14.363Z"
   },
   {
    "duration": 0,
    "start_time": "2024-10-04T22:29:14.364Z"
   },
   {
    "duration": 0,
    "start_time": "2024-10-04T22:29:14.365Z"
   },
   {
    "duration": 0,
    "start_time": "2024-10-04T22:29:14.367Z"
   },
   {
    "duration": 0,
    "start_time": "2024-10-04T22:29:14.368Z"
   },
   {
    "duration": 0,
    "start_time": "2024-10-04T22:29:14.369Z"
   },
   {
    "duration": 0,
    "start_time": "2024-10-04T22:29:14.370Z"
   },
   {
    "duration": 0,
    "start_time": "2024-10-04T22:29:14.371Z"
   },
   {
    "duration": 0,
    "start_time": "2024-10-04T22:29:14.372Z"
   },
   {
    "duration": 0,
    "start_time": "2024-10-04T22:29:14.373Z"
   },
   {
    "duration": 0,
    "start_time": "2024-10-04T22:29:14.375Z"
   },
   {
    "duration": 0,
    "start_time": "2024-10-04T22:29:14.376Z"
   },
   {
    "duration": 0,
    "start_time": "2024-10-04T22:29:14.377Z"
   },
   {
    "duration": 0,
    "start_time": "2024-10-04T22:29:14.378Z"
   },
   {
    "duration": 0,
    "start_time": "2024-10-04T22:29:14.380Z"
   },
   {
    "duration": 0,
    "start_time": "2024-10-04T22:29:14.382Z"
   },
   {
    "duration": 0,
    "start_time": "2024-10-04T22:29:14.383Z"
   },
   {
    "duration": 1083,
    "start_time": "2024-10-05T10:33:27.964Z"
   },
   {
    "duration": 40,
    "start_time": "2024-10-05T10:33:29.050Z"
   },
   {
    "duration": 1672,
    "start_time": "2024-10-05T10:33:29.092Z"
   },
   {
    "duration": 2154,
    "start_time": "2024-10-05T10:33:30.768Z"
   },
   {
    "duration": 1943,
    "start_time": "2024-10-05T10:33:32.924Z"
   },
   {
    "duration": 72431,
    "start_time": "2024-10-05T10:33:34.870Z"
   },
   {
    "duration": 1882,
    "start_time": "2024-10-05T10:34:47.310Z"
   },
   {
    "duration": 6281,
    "start_time": "2024-10-05T10:34:49.195Z"
   },
   {
    "duration": 2023,
    "start_time": "2024-10-05T10:34:55.478Z"
   },
   {
    "duration": 2025,
    "start_time": "2024-10-05T10:34:57.509Z"
   },
   {
    "duration": 1974,
    "start_time": "2024-10-05T10:34:59.536Z"
   },
   {
    "duration": 9,
    "start_time": "2024-10-05T10:35:01.512Z"
   },
   {
    "duration": 16862,
    "start_time": "2024-10-05T10:35:01.523Z"
   },
   {
    "duration": 4031,
    "start_time": "2024-10-05T10:35:18.387Z"
   },
   {
    "duration": 2008,
    "start_time": "2024-10-05T10:35:22.420Z"
   },
   {
    "duration": 20096,
    "start_time": "2024-10-05T10:35:24.431Z"
   },
   {
    "duration": 35110,
    "start_time": "2024-10-05T10:35:44.529Z"
   },
   {
    "duration": 11813,
    "start_time": "2024-10-05T10:36:19.642Z"
   },
   {
    "duration": 2517,
    "start_time": "2024-10-07T19:04:58.101Z"
   },
   {
    "duration": 0,
    "start_time": "2024-10-07T19:05:00.621Z"
   },
   {
    "duration": 0,
    "start_time": "2024-10-07T19:05:00.622Z"
   },
   {
    "duration": 0,
    "start_time": "2024-10-07T19:05:00.624Z"
   },
   {
    "duration": 0,
    "start_time": "2024-10-07T19:05:00.625Z"
   },
   {
    "duration": 0,
    "start_time": "2024-10-07T19:05:00.626Z"
   },
   {
    "duration": 0,
    "start_time": "2024-10-07T19:05:00.627Z"
   },
   {
    "duration": 0,
    "start_time": "2024-10-07T19:05:00.629Z"
   },
   {
    "duration": 0,
    "start_time": "2024-10-07T19:05:00.630Z"
   },
   {
    "duration": 0,
    "start_time": "2024-10-07T19:05:00.631Z"
   },
   {
    "duration": 0,
    "start_time": "2024-10-07T19:05:00.633Z"
   },
   {
    "duration": 0,
    "start_time": "2024-10-07T19:05:00.634Z"
   },
   {
    "duration": 0,
    "start_time": "2024-10-07T19:05:00.635Z"
   },
   {
    "duration": 0,
    "start_time": "2024-10-07T19:05:00.637Z"
   },
   {
    "duration": 0,
    "start_time": "2024-10-07T19:05:00.638Z"
   },
   {
    "duration": 0,
    "start_time": "2024-10-07T19:05:00.639Z"
   },
   {
    "duration": 0,
    "start_time": "2024-10-07T19:05:00.640Z"
   },
   {
    "duration": 0,
    "start_time": "2024-10-07T19:05:00.645Z"
   },
   {
    "duration": 0,
    "start_time": "2024-10-07T19:05:00.646Z"
   },
   {
    "duration": 0,
    "start_time": "2024-10-07T19:05:00.647Z"
   },
   {
    "duration": 0,
    "start_time": "2024-10-07T19:05:00.648Z"
   },
   {
    "duration": 739,
    "start_time": "2024-10-07T19:05:17.560Z"
   },
   {
    "duration": 0,
    "start_time": "2024-10-07T19:05:18.310Z"
   },
   {
    "duration": 0,
    "start_time": "2024-10-07T19:05:18.311Z"
   },
   {
    "duration": 0,
    "start_time": "2024-10-07T19:05:18.312Z"
   },
   {
    "duration": 0,
    "start_time": "2024-10-07T19:05:18.313Z"
   },
   {
    "duration": 0,
    "start_time": "2024-10-07T19:05:18.315Z"
   },
   {
    "duration": 0,
    "start_time": "2024-10-07T19:05:18.316Z"
   },
   {
    "duration": 0,
    "start_time": "2024-10-07T19:05:18.317Z"
   },
   {
    "duration": 0,
    "start_time": "2024-10-07T19:05:18.318Z"
   },
   {
    "duration": 0,
    "start_time": "2024-10-07T19:05:18.318Z"
   },
   {
    "duration": 0,
    "start_time": "2024-10-07T19:05:18.319Z"
   },
   {
    "duration": 0,
    "start_time": "2024-10-07T19:05:18.320Z"
   },
   {
    "duration": 0,
    "start_time": "2024-10-07T19:05:18.321Z"
   },
   {
    "duration": 0,
    "start_time": "2024-10-07T19:05:18.324Z"
   },
   {
    "duration": 0,
    "start_time": "2024-10-07T19:05:18.325Z"
   },
   {
    "duration": 0,
    "start_time": "2024-10-07T19:05:18.325Z"
   },
   {
    "duration": 0,
    "start_time": "2024-10-07T19:05:18.327Z"
   },
   {
    "duration": 0,
    "start_time": "2024-10-07T19:05:18.328Z"
   },
   {
    "duration": 0,
    "start_time": "2024-10-07T19:05:18.329Z"
   },
   {
    "duration": 0,
    "start_time": "2024-10-07T19:05:18.331Z"
   },
   {
    "duration": 0,
    "start_time": "2024-10-07T19:05:18.331Z"
   },
   {
    "duration": 1393,
    "start_time": "2024-10-07T19:05:46.276Z"
   },
   {
    "duration": 0,
    "start_time": "2024-10-07T19:05:47.672Z"
   },
   {
    "duration": 0,
    "start_time": "2024-10-07T19:05:47.673Z"
   },
   {
    "duration": 0,
    "start_time": "2024-10-07T19:05:47.674Z"
   },
   {
    "duration": 0,
    "start_time": "2024-10-07T19:05:47.675Z"
   },
   {
    "duration": 0,
    "start_time": "2024-10-07T19:05:47.677Z"
   },
   {
    "duration": 0,
    "start_time": "2024-10-07T19:05:47.678Z"
   },
   {
    "duration": 0,
    "start_time": "2024-10-07T19:05:47.679Z"
   },
   {
    "duration": 0,
    "start_time": "2024-10-07T19:05:47.680Z"
   },
   {
    "duration": 0,
    "start_time": "2024-10-07T19:05:47.681Z"
   },
   {
    "duration": 0,
    "start_time": "2024-10-07T19:05:47.682Z"
   },
   {
    "duration": 0,
    "start_time": "2024-10-07T19:05:47.683Z"
   },
   {
    "duration": 0,
    "start_time": "2024-10-07T19:05:47.684Z"
   },
   {
    "duration": 0,
    "start_time": "2024-10-07T19:05:47.685Z"
   },
   {
    "duration": 0,
    "start_time": "2024-10-07T19:05:47.686Z"
   },
   {
    "duration": 0,
    "start_time": "2024-10-07T19:05:47.686Z"
   },
   {
    "duration": 0,
    "start_time": "2024-10-07T19:05:47.687Z"
   },
   {
    "duration": 0,
    "start_time": "2024-10-07T19:05:47.688Z"
   },
   {
    "duration": 0,
    "start_time": "2024-10-07T19:05:47.710Z"
   },
   {
    "duration": 0,
    "start_time": "2024-10-07T19:05:47.713Z"
   },
   {
    "duration": 0,
    "start_time": "2024-10-07T19:05:47.715Z"
   },
   {
    "duration": 3260,
    "start_time": "2024-10-07T19:06:32.945Z"
   },
   {
    "duration": 3294,
    "start_time": "2024-10-07T19:06:42.654Z"
   },
   {
    "duration": 0,
    "start_time": "2024-10-07T19:06:45.951Z"
   },
   {
    "duration": 0,
    "start_time": "2024-10-07T19:06:45.956Z"
   },
   {
    "duration": 0,
    "start_time": "2024-10-07T19:06:45.957Z"
   },
   {
    "duration": 0,
    "start_time": "2024-10-07T19:06:45.958Z"
   },
   {
    "duration": 0,
    "start_time": "2024-10-07T19:06:45.960Z"
   },
   {
    "duration": 0,
    "start_time": "2024-10-07T19:06:45.961Z"
   },
   {
    "duration": 0,
    "start_time": "2024-10-07T19:06:45.962Z"
   },
   {
    "duration": 0,
    "start_time": "2024-10-07T19:06:45.963Z"
   },
   {
    "duration": 0,
    "start_time": "2024-10-07T19:06:45.964Z"
   },
   {
    "duration": 0,
    "start_time": "2024-10-07T19:06:45.966Z"
   },
   {
    "duration": 0,
    "start_time": "2024-10-07T19:06:45.967Z"
   },
   {
    "duration": 0,
    "start_time": "2024-10-07T19:06:45.969Z"
   },
   {
    "duration": 0,
    "start_time": "2024-10-07T19:06:45.972Z"
   },
   {
    "duration": 0,
    "start_time": "2024-10-07T19:06:45.973Z"
   },
   {
    "duration": 0,
    "start_time": "2024-10-07T19:06:45.974Z"
   },
   {
    "duration": 0,
    "start_time": "2024-10-07T19:06:45.975Z"
   },
   {
    "duration": 0,
    "start_time": "2024-10-07T19:06:45.977Z"
   },
   {
    "duration": 0,
    "start_time": "2024-10-07T19:06:46.010Z"
   },
   {
    "duration": 0,
    "start_time": "2024-10-07T19:06:46.011Z"
   },
   {
    "duration": 0,
    "start_time": "2024-10-07T19:06:46.012Z"
   },
   {
    "duration": 3467,
    "start_time": "2024-10-07T19:07:22.754Z"
   },
   {
    "duration": 0,
    "start_time": "2024-10-07T19:07:26.225Z"
   },
   {
    "duration": 0,
    "start_time": "2024-10-07T19:07:26.226Z"
   },
   {
    "duration": 0,
    "start_time": "2024-10-07T19:07:26.230Z"
   },
   {
    "duration": 0,
    "start_time": "2024-10-07T19:07:26.232Z"
   },
   {
    "duration": 0,
    "start_time": "2024-10-07T19:07:26.233Z"
   },
   {
    "duration": 0,
    "start_time": "2024-10-07T19:07:26.234Z"
   },
   {
    "duration": 0,
    "start_time": "2024-10-07T19:07:26.236Z"
   },
   {
    "duration": 0,
    "start_time": "2024-10-07T19:07:26.238Z"
   },
   {
    "duration": 0,
    "start_time": "2024-10-07T19:07:26.239Z"
   },
   {
    "duration": 0,
    "start_time": "2024-10-07T19:07:26.240Z"
   },
   {
    "duration": 0,
    "start_time": "2024-10-07T19:07:26.242Z"
   },
   {
    "duration": 0,
    "start_time": "2024-10-07T19:07:26.243Z"
   },
   {
    "duration": 0,
    "start_time": "2024-10-07T19:07:26.244Z"
   },
   {
    "duration": 0,
    "start_time": "2024-10-07T19:07:26.247Z"
   },
   {
    "duration": 0,
    "start_time": "2024-10-07T19:07:26.248Z"
   },
   {
    "duration": 0,
    "start_time": "2024-10-07T19:07:26.249Z"
   },
   {
    "duration": 0,
    "start_time": "2024-10-07T19:07:26.251Z"
   },
   {
    "duration": 0,
    "start_time": "2024-10-07T19:07:26.252Z"
   },
   {
    "duration": 0,
    "start_time": "2024-10-07T19:07:26.254Z"
   },
   {
    "duration": 0,
    "start_time": "2024-10-07T19:07:26.255Z"
   },
   {
    "duration": 0,
    "start_time": "2024-10-07T19:07:26.257Z"
   },
   {
    "duration": 3417,
    "start_time": "2024-10-07T19:07:41.085Z"
   },
   {
    "duration": 2069,
    "start_time": "2024-10-07T19:07:44.925Z"
   }
  ],
  "kernelspec": {
   "display_name": "Python 3 (ipykernel)",
   "language": "python",
   "name": "python3"
  },
  "language_info": {
   "codemirror_mode": {
    "name": "ipython",
    "version": 3
   },
   "file_extension": ".py",
   "mimetype": "text/x-python",
   "name": "python",
   "nbconvert_exporter": "python",
   "pygments_lexer": "ipython3",
   "version": "3.9.19"
  },
  "toc": {
   "base_numbering": 1,
   "nav_menu": {},
   "number_sections": true,
   "sideBar": true,
   "skip_h1_title": true,
   "title_cell": "Table of Contents",
   "title_sidebar": "Contents",
   "toc_cell": false,
   "toc_position": {},
   "toc_section_display": true,
   "toc_window_display": false
  }
 },
 "nbformat": 4,
 "nbformat_minor": 2
}
