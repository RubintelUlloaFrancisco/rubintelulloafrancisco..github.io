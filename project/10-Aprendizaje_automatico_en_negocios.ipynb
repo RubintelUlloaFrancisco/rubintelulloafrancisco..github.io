{
 "cells": [
  {
   "cell_type": "markdown",
   "metadata": {},
   "source": [
    "# ¡Hola, Rubintel!  \n",
    "\n",
    "Mi nombre es Francisco Benavides, soy code reviewer de Tripleten y voy a revisar el proyecto que acabas de desarrollar.\n",
    "\n",
    "\n",
    "Cada ves que vea un error por primera vez, lo señalaré. Deberás encontrarlo y arreglarlo, ya que buscamos que te prepares para un trabajo real, en el cual tu líder de equipo hará lo mismo. Si no puedes solucionar el error, te brindaré algunos tips más especificos la proxima vez.\n",
    "\n",
    "Podrás encontrar mis comentarios más abajo - **por favor, no los muevas, no los modifiques ni los borres**.\n",
    "\n",
    "¿Cómo lo voy a hacer? Voy a leer cuidadosamente cada una de tus implementaciones que has llevado a cabo para complir con tu informe. Cada uno de mis comentarios tiene el siguiente código de colores:\n",
    "\n",
    "<div class=\"alert alert-block alert-success\">\n",
    "<b>Comentario del revisor</b> <a class=\"tocSkip\"></a>\n",
    "    \n",
    "Si todo está perfecto.\n",
    "</div>\n",
    "\n",
    "\n",
    "<div class=\"alert alert-block alert-warning\">\n",
    "<b>Comentario del revisor</b> <a class=\"tocSkip\"></a>\n",
    "    \n",
    "Si tu código está bien pero se puede mejorar o hay algún detalle que le hace falta.\n",
    "</div>\n",
    "\n",
    "\n",
    "<div class=\"alert alert-block alert-danger\">\n",
    "    \n",
    "<b>Comentario del revisor</b> <a class=\"tocSkip\"></a>\n",
    "    \n",
    "    \n",
    "Si de pronto hace falta algo o existe algún problema con tu código o conclusiones.\n",
    "</div>\n",
    "\n",
    "\n",
    "Si encuentras que es necesario, puedes responderme de esta forma: \n",
    "\n",
    "<div class=\"alert alert-block alert-info\">\n",
    "<b>Respuesta del estudiante</b> <a class=\"tocSkip\"></a>\n",
    "</div>\n",
    "\n",
    "Mucho éxito!"
   ]
  },
  {
   "cell_type": "markdown",
   "metadata": {},
   "source": [
    "<div class=\"alert alert-block alert-danger\">\n",
    "<b>Comentario del revisor</b> <a class=\"tocSkip\"></a>\n",
    "    \n",
    "Hola Rubintel, gracias por enviar tu proyecto. Hay algunos detalles a corregir/mencionar antes de poder continuar con la corrección. Verifica que tu proyecto sea ejecutable en la plataforma para poder revisar por completo tu proyecto. Tambien hay algunos detalles que no estan trabajados de la mejor forma.\n",
    "\n",
    "</div>\n"
   ]
  },
  {
   "cell_type": "markdown",
   "metadata": {},
   "source": [
    "<!-- Descripción del Proyecto: Análisis de Rentabilidad y Selección de Pozos Petroleros -->\n",
    "<div style='background-color: #E8F5E9; padding: 20px; border-radius: 8px; font-family: Arial, sans-serif; font-size: 16px; color: #4CAF50; line-height: 1.6;'>\n",
    "\n",
    "  <!-- Título principal -->\n",
    "  <h1 style='color: #388E3C; font-size: 28px;'>⛽ Análisis de Rentabilidad y Selección de Pozos Petroleros</h1>\n",
    "\n",
    "  <!-- Información del Proyecto -->\n",
    "  <h3 style='color: #2E7D32; font-size: 22px;'>📄 Descripción General</h3>\n",
    "  <p style='text-align: justify;'>El objetivo principal de este proyecto es identificar la mejor ubicación para desarrollar 200 nuevos pozos de petróleo dentro de tres regiones exploradas por <strong>OilyGiant</strong>. Se utilizarán datos geológicos para construir modelos predictivos que estimen el volumen de reservas de petróleo y permitan evaluar tanto la rentabilidad esperada como los riesgos asociados.</p>\n",
    "\n",
    "  <!-- Parámetros Interactivos -->\n",
    "  <h4 style='color: #2E7D32; font-size: 20px;'>⚙️ Parámetros Interactivos</h4>\n",
    "  <p>Antes de comenzar el análisis, el usuario puede ajustar los siguientes parámetros clave para personalizar la evaluación:</p>\n",
    "  <ul style='list-style-type: none; padding-left: 0; color: #388E3C;'>\n",
    "    <li>💵 <strong>Precio por Barril:</strong> Desliza para ajustar el precio de venta del petróleo. Este parámetro afecta directamente el cálculo de rentabilidad.</li>\n",
    "    <li>📊 <strong>Volumen de Reservas:</strong> Ajusta el volumen de reservas para evaluar diferentes escenarios de extracción.</li>\n",
    "    <li>📈 <strong>Riesgo Financiero:</strong> Selecciona el nivel de riesgo (bajo, medio, alto) para realizar simulaciones más precisas con la técnica de <em>bootstrapping</em>.</li>\n",
    "    <li>🏆 <strong>Selección de Región:</strong> Usa el selector interactivo para elegir una región específica o analizar las tres regiones de manera conjunta.</li>\n",
    "  </ul>\n",
    "  <div style='text-align: center; margin-top: 20px;'>\n",
    "    <button style='background-color: #4CAF50; color: white; padding: 10px 20px; border-radius: 8px; border: none; cursor: pointer;'>🚀 Ejecutar Análisis</button>\n",
    "  </div>\n",
    "\n",
    "</div>\n",
    "\n",
    "---\n",
    "\n",
    "<!-- Metodología del Proyecto -->\n",
    "<div style='background-color: #E8F5E9; padding: 20px; border-radius: 8px; font-family: Arial, sans-serif; font-size: 16px; color: #4CAF50; line-height: 1.6; margin-top: 20px;'>\n",
    "\n",
    "  <h4 style='color: #2E7D32; font-size: 20px;'>🔧 Metodología del Proyecto</h4>\n",
    "  <ul style='list-style-type: none; padding-left: 0; color: #388E3C;'>\n",
    "    <li>📥 <strong>Preparación de Datos:</strong> Los datos se limpiarán, imputarán los valores faltantes y se normalizarán para garantizar la calidad del análisis.</li>\n",
    "    <li>🧠 <strong>Modelos Predictivos:</strong> Se desarrollarán modelos de regresión lineal para estimar el volumen de reservas en cada región.</li>\n",
    "    <li>💵 <strong>Análisis Financiero:</strong> Se calculará el beneficio esperado en función del volumen de reservas y el precio de venta ajustado por el usuario.</li>\n",
    "    <li>📉 <strong>Análisis de Riesgos:</strong> Se evaluará el riesgo financiero mediante simulaciones de <em>bootstrapping</em>, con un nivel de riesgo ajustable por el usuario.</li>\n",
    "  </ul>\n",
    "</div>\n",
    "\n",
    "---\n",
    "\n",
    "<!-- Resultados Esperados -->\n",
    "<div style='background-color: #E8F5E9; padding: 20px; border-radius: 8px; font-family: Arial, sans-serif; font-size: 16px; color: #4CAF50; line-height: 1.6; margin-top: 20px;'>\n",
    "\n",
    "  <h4 style='color: #2E7D32; font-size: 20px;'>📈 Resultados Esperados</h4>\n",
    "  <ul style='list-style-type: none; padding-left: 0; color: #388E3C;'>\n",
    "    <li>✔️ Un modelo predictivo preciso que estime el volumen de reservas de petróleo con una precisión ajustada a las configuraciones seleccionadas.</li>\n",
    "    <li>💰 Evaluación de la rentabilidad esperada en cada región, utilizando el precio de venta y volumen de reservas proporcionados por el usuario.</li>\n",
    "    <li>📉 Análisis detallado de los riesgos financieros asociados a cada región, ajustado por los niveles de riesgo seleccionados.</li>\n",
    "    <li>🏆 Recomendación de la región más rentable para la perforación de nuevos pozos, maximizando el retorno de inversión y minimizando riesgos.</li>\n",
    "  </ul>\n",
    "</div>\n",
    "\n",
    "---\n",
    "\n",
    "<!-- Conclusiones -->\n",
    "<div style='background-color: #E8F5E9; padding: 20px; border-radius: 8px; font-family: Arial, sans-serif; font-size: 16px; color: #4CAF50; line-height: 1.6; margin-top: 20px;'>\n",
    "\n",
    "  <h4 style='color: #2E7D32; font-size: 20px;'>🔍 Conclusiones</h4>\n",
    "  <p style='text-align: justify;'>Este análisis proporcionará a <strong>OilyGiant</strong> una base sólida para la toma de decisiones estratégicas en la apertura de nuevos pozos petroleros, maximizando la rentabilidad y minimizando los riesgos financieros. A través de la combinación de modelos predictivos y simulaciones ajustadas, se identificarán las mejores oportunidades de desarrollo de pozos.</p>\n",
    "</div>\n"
   ]
  },
  {
   "cell_type": "markdown",
   "metadata": {},
   "source": [
    "<div class=\"alert alert-block alert-danger\">\n",
    "<b>Comentario del revisor</b> <a class=\"tocSkip\"></a>\n",
    "    \n",
    "Tu codigo se rompe aca\n",
    "</div>\n"
   ]
  },
  {
   "cell_type": "markdown",
   "metadata": {
    "ExecuteTime": {
     "end_time": "2024-08-19T19:58:43.062470Z",
     "start_time": "2024-08-19T19:58:43.052066Z"
    }
   },
   "source": [
    "### Revisión 1\n",
    "<div class=\"alert alert-block alert-info\">\n",
    "<b>Respuesta del estudiante</b> <a class=\"tocSkip\"></a>\n",
    "    <P>Se elimino esta seccion por contener errores y no estar lista algunas funcionalidades<p>\n",
    "</div>\n"
   ]
  },
  {
   "cell_type": "markdown",
   "metadata": {},
   "source": [
    "<!-- Descripción del Proyecto: Instalación y Verificación de Bibliotecas -->\n",
    "<div style='background-color: #E8F5E9; padding: 20px; border-radius: 8px; font-family: Arial, sans-serif; font-size: 16px; color: #4CAF50; line-height: 1.6;'>\n",
    "\n",
    "  <!-- Título principal -->\n",
    "  <h1 style='color: #388E3C; font-size: 28px;'>📦 Instalación y Verificación de Bibliotecas Necesarias</h1>\n",
    "\n",
    "  <!-- Descripción general del proceso -->\n",
    "  <h3 style='color: #2E7D32; font-size: 22px;'>⚙️ Descripción General</h3>\n",
    "  <p style='text-align: justify;'>Este bloque de código está diseñado para instalar y verificar todas las bibliotecas necesarias para el análisis de datos y la visualización. Utiliza módulos como <strong>subprocess</strong> e <strong>importlib</strong> para automatizar el proceso de instalación y comprobar si ya están instaladas en el entorno. Además, proporciona una interfaz interactiva que permite al usuario seleccionar qué bibliotecas instalar.</p>\n",
    "\n",
    "  <!-- Funcionalidades del Código -->\n",
    "  <h4 style='color: #2E7D32; font-size: 20px;'>🔧 Funcionalidades Principales</h4>\n",
    "  <ul style='list-style-type: none; padding-left: 0; color: #388E3C;'>\n",
    "    <li>📥 <strong>Verificación de Instalación:</strong> Revisa si una biblioteca está instalada y muestra su versión actual.</li>\n",
    "    <li>📦 <strong>Instalación Automática:</strong> Instala las bibliotecas que no estén presentes en el entorno, utilizando el comando <code>pip install</code>.</li>\n",
    "    <li>🔍 <strong>Notificaciones Interactivas:</strong> Usa mensajes de estado claros y visualmente atractivos para informar al usuario del progreso de la instalación.</li>\n",
    "    <li>🧹 <strong>Limpieza de Memoria:</strong> Después de la instalación, libera la memoria no utilizada mediante el recolector de basura (<code>gc.collect()</code>).</li>\n",
    "  </ul>\n",
    "\n",
    "</div>\n",
    "\n",
    "<!-- Ventajas del Proceso de Instalación -->\n",
    "<div style='background-color: #E8F5E9; padding: 20px; border-radius: 8px; font-family: Arial, sans-serif; font-size: 16px; color: #4CAF50; line-height: 1.6; margin-top: 20px;'>\n",
    "\n",
    "  <h4 style='color: #2E7D32; font-size: 20px;'>🚀 Ventajas de la Automatización</h4>\n",
    "  <ul style='list-style-type: none; padding-left: 0;'>\n",
    "    <li>🔄 <strong>Automatización Completa:</strong> Simplifica el proceso de configuración inicial del entorno, ahorrando tiempo y esfuerzo en la instalación manual.</li>\n",
    "    <li>💡 <strong>Selección Personalizada:</strong> Permite a los usuarios seleccionar solo las bibliotecas necesarias para su proyecto, optimizando el entorno de trabajo.</li>\n",
    "    <li>🎯 <strong>Feedback Visual Inmediato:</strong> Las notificaciones visuales interactivas mejoran la experiencia del usuario, mostrando de manera clara los resultados de las acciones.</li>\n",
    "    <li>⚡ <strong>Optimización de Recursos:</strong> El uso de <code>gc.collect()</code> asegura una gestión eficiente de la memoria después de cada operación.</li>\n",
    "  </ul>\n",
    "\n",
    "</div>\n",
    "\n",
    "<!-- Flujo del Proceso -->\n",
    "<div style='background-color: #E8F5E9; padding: 20px; border-radius: 8px; font-family: Arial, sans-serif; font-size: 16px; color: #4CAF50; line-height: 1.6; margin-top: 20px;'>\n",
    "\n",
    "  <h4 style='color: #2E7D32; font-size: 20px;'>📋 Flujo del Proceso</h4>\n",
    "  <ol style='color: #388E3C;'>\n",
    "    <li>🛠️ <strong>Verificación de Bibliotecas:</strong> El sistema comprueba si cada biblioteca ya está instalada en el entorno y muestra su versión.</li>\n",
    "    <li>📥 <strong>Instalación de Bibliotecas Faltantes:</strong> Se instala automáticamente cualquier biblioteca que no esté disponible, mostrando notificaciones de progreso.</li>\n",
    "    <li>🔄 <strong>Actualización del Progreso:</strong> Se muestran notificaciones interactivas sobre el estado de cada instalación.</li>\n",
    "    <li>🧹 <strong>Limpieza de Memoria:</strong> Al finalizar, se realiza la limpieza de memoria para liberar recursos innecesarios.</li>\n",
    "  </ol>\n",
    "\n",
    "</div>\n",
    "\n",
    "<!-- Conclusiones -->\n",
    "<div style='background-color: #E8F5E9; padding: 20px; border-radius: 8px; font-family: Arial, sans-serif; font-size: 16px; color: #4CAF50; line-height: 1.6; margin-top: 20px;'>\n",
    "\n",
    "  <h4 style='color: #2E7D32; font-size: 20px;'>🔍 Conclusión</h4>\n",
    "  <p style='text-align: justify;'>Este módulo asegura que el entorno de trabajo esté completamente configurado con las bibliotecas necesarias, brindando al usuario una experiencia optimizada y sin interrupciones. La automatización del proceso de instalación ahorra tiempo, mientras que las notificaciones interactivas mantienen informado al usuario sobre el progreso en todo momento.</p>\n",
    "\n",
    "</div>\n"
   ]
  },
  {
   "cell_type": "code",
   "execution_count": 1,
   "metadata": {},
   "outputs": [],
   "source": [
    "#import sys\n",
    "#!{sys.executable} -m pip install --user --upgrade imbalanced-learn scikit-learn rich pandas numpy matplotlib seaborn ipywidgets\n"
   ]
  },
  {
   "cell_type": "code",
   "execution_count": 9,
   "metadata": {},
   "outputs": [
    {
     "data": {
      "text/html": [
       "<div class='process-start'>⚙️ Iniciando instalación de bibliotecas...</div>"
      ],
      "text/plain": [
       "<IPython.core.display.HTML object>"
      ]
     },
     "metadata": {},
     "output_type": "display_data"
    },
    {
     "data": {
      "text/html": [
       "<div class='info-box'>📦 pandas ya está instalada - Versión: 1.2.4</div>"
      ],
      "text/plain": [
       "<IPython.core.display.HTML object>"
      ]
     },
     "metadata": {},
     "output_type": "display_data"
    },
    {
     "data": {
      "text/html": [
       "<div class='info-box'>📦 numpy ya está instalada - Versión: 1.21.2</div>"
      ],
      "text/plain": [
       "<IPython.core.display.HTML object>"
      ]
     },
     "metadata": {},
     "output_type": "display_data"
    },
    {
     "data": {
      "text/html": [
       "<div class='info-box'>📦 matplotlib ya está instalada - Versión: 3.3.4</div>"
      ],
      "text/plain": [
       "<IPython.core.display.HTML object>"
      ]
     },
     "metadata": {},
     "output_type": "display_data"
    },
    {
     "data": {
      "text/html": [
       "<div class='info-box'>📦 seaborn ya está instalada - Versión: 0.11.1</div>"
      ],
      "text/plain": [
       "<IPython.core.display.HTML object>"
      ]
     },
     "metadata": {},
     "output_type": "display_data"
    },
    {
     "data": {
      "text/html": [
       "<div class='info-box'>📦 scipy ya está instalada - Versión: 1.10.1</div>"
      ],
      "text/plain": [
       "<IPython.core.display.HTML object>"
      ]
     },
     "metadata": {},
     "output_type": "display_data"
    },
    {
     "name": "stderr",
     "output_type": "stream",
     "text": [
      "\u001b[33mWARNING: Ignoring invalid distribution -ikit-learn (/opt/conda/envs/python3/lib/python3.9/site-packages)\u001b[0m\u001b[33m\n",
      "\u001b[0m\u001b[33mWARNING: Ignoring invalid distribution - (/opt/conda/envs/python3/lib/python3.9/site-packages)\u001b[0m\u001b[33m\n",
      "\u001b[0m\u001b[33mWARNING: Ignoring invalid distribution -ikit-learn (/opt/conda/envs/python3/lib/python3.9/site-packages)\u001b[0m\u001b[33m\n",
      "\u001b[0m\u001b[33mWARNING: Ignoring invalid distribution -0ikit-learn (/opt/conda/envs/python3/lib/python3.9/site-packages)\u001b[0m\u001b[33m\n",
      "\u001b[0m\u001b[33mWARNING: Ignoring invalid distribution -1ikit-learn (/opt/conda/envs/python3/lib/python3.9/site-packages)\u001b[0m\u001b[33m\n",
      "\u001b[0m\u001b[33mWARNING: Ignoring invalid distribution -cikit-learn (/opt/conda/envs/python3/lib/python3.9/site-packages)\u001b[0m\u001b[33m\n",
      "\u001b[0m\u001b[33mWARNING: Ignoring invalid distribution -umpy (/opt/conda/envs/python3/lib/python3.9/site-packages)\u001b[0m\u001b[33m\n",
      "\u001b[0m"
     ]
    },
    {
     "name": "stdout",
     "output_type": "stream",
     "text": [
      "Requirement already satisfied: scikit-learn in /opt/conda/envs/python3/lib/python3.9/site-packages (0.24.1)\n",
      "Requirement already satisfied: numpy>=1.13.3 in /opt/conda/envs/python3/lib/python3.9/site-packages (from scikit-learn) (1.21.2)\n",
      "Requirement already satisfied: scipy>=0.19.1 in /opt/conda/envs/python3/lib/python3.9/site-packages (from scikit-learn) (1.10.1)\n",
      "Requirement already satisfied: joblib>=0.11 in /opt/conda/envs/python3/lib/python3.9/site-packages (from scikit-learn) (1.4.2)\n",
      "Requirement already satisfied: threadpoolctl>=2.0.0 in /opt/conda/envs/python3/lib/python3.9/site-packages (from scikit-learn) (3.5.0)\n"
     ]
    },
    {
     "name": "stderr",
     "output_type": "stream",
     "text": [
      "\u001b[33mWARNING: Ignoring invalid distribution -ikit-learn (/opt/conda/envs/python3/lib/python3.9/site-packages)\u001b[0m\u001b[33m\n",
      "\u001b[0m\u001b[33mWARNING: Ignoring invalid distribution - (/opt/conda/envs/python3/lib/python3.9/site-packages)\u001b[0m\u001b[33m\n",
      "\u001b[0m\u001b[33mWARNING: Ignoring invalid distribution -ikit-learn (/opt/conda/envs/python3/lib/python3.9/site-packages)\u001b[0m\u001b[33m\n",
      "\u001b[0m\u001b[33mWARNING: Ignoring invalid distribution -0ikit-learn (/opt/conda/envs/python3/lib/python3.9/site-packages)\u001b[0m\u001b[33m\n",
      "\u001b[0m\u001b[33mWARNING: Ignoring invalid distribution -1ikit-learn (/opt/conda/envs/python3/lib/python3.9/site-packages)\u001b[0m\u001b[33m\n",
      "\u001b[0m\u001b[33mWARNING: Ignoring invalid distribution -cikit-learn (/opt/conda/envs/python3/lib/python3.9/site-packages)\u001b[0m\u001b[33m\n",
      "\u001b[0m\u001b[33mWARNING: Ignoring invalid distribution -umpy (/opt/conda/envs/python3/lib/python3.9/site-packages)\u001b[0m\u001b[33m\n",
      "\u001b[0m"
     ]
    },
    {
     "data": {
      "text/html": [
       "<div class='info-box'>📦 scikit-learn instalada correctamente.</div>"
      ],
      "text/plain": [
       "<IPython.core.display.HTML object>"
      ]
     },
     "metadata": {},
     "output_type": "display_data"
    },
    {
     "data": {
      "text/html": [
       "<div class='info-box'>📦 xgboost ya está instalada - Versión: 1.5.1</div>"
      ],
      "text/plain": [
       "<IPython.core.display.HTML object>"
      ]
     },
     "metadata": {},
     "output_type": "display_data"
    },
    {
     "data": {
      "text/html": [
       "<div class='info-box'>📦 ipywidgets ya está instalada - Versión: 8.1.2</div>"
      ],
      "text/plain": [
       "<IPython.core.display.HTML object>"
      ]
     },
     "metadata": {},
     "output_type": "display_data"
    },
    {
     "data": {
      "text/html": [
       "<div class='info-box'>📦 rich ya está instalada - Versión: versión no disponible</div>"
      ],
      "text/plain": [
       "<IPython.core.display.HTML object>"
      ]
     },
     "metadata": {},
     "output_type": "display_data"
    },
    {
     "name": "stderr",
     "output_type": "stream",
     "text": [
      "\u001b[33mWARNING: Ignoring invalid distribution -ikit-learn (/opt/conda/envs/python3/lib/python3.9/site-packages)\u001b[0m\u001b[33m\n",
      "\u001b[0m\u001b[33mWARNING: Ignoring invalid distribution - (/opt/conda/envs/python3/lib/python3.9/site-packages)\u001b[0m\u001b[33m\n",
      "\u001b[0m\u001b[33mWARNING: Ignoring invalid distribution -ikit-learn (/opt/conda/envs/python3/lib/python3.9/site-packages)\u001b[0m\u001b[33m\n",
      "\u001b[0m\u001b[33mWARNING: Ignoring invalid distribution -0ikit-learn (/opt/conda/envs/python3/lib/python3.9/site-packages)\u001b[0m\u001b[33m\n",
      "\u001b[0m\u001b[33mWARNING: Ignoring invalid distribution -1ikit-learn (/opt/conda/envs/python3/lib/python3.9/site-packages)\u001b[0m\u001b[33m\n",
      "\u001b[0m\u001b[33mWARNING: Ignoring invalid distribution -cikit-learn (/opt/conda/envs/python3/lib/python3.9/site-packages)\u001b[0m\u001b[33m\n",
      "\u001b[0m\u001b[33mWARNING: Ignoring invalid distribution -umpy (/opt/conda/envs/python3/lib/python3.9/site-packages)\u001b[0m\u001b[33m\n",
      "\u001b[0m"
     ]
    },
    {
     "name": "stdout",
     "output_type": "stream",
     "text": [
      "Collecting imbalanced-learn\n",
      "  Using cached imbalanced_learn-0.12.3-py3-none-any.whl.metadata (8.3 kB)\n",
      "Requirement already satisfied: numpy>=1.17.3 in /opt/conda/envs/python3/lib/python3.9/site-packages (from imbalanced-learn) (1.21.2)\n",
      "Requirement already satisfied: scipy>=1.5.0 in /opt/conda/envs/python3/lib/python3.9/site-packages (from imbalanced-learn) (1.10.1)\n",
      "Collecting scikit-learn>=1.0.2 (from imbalanced-learn)\n",
      "  Using cached scikit_learn-1.5.2-cp39-cp39-manylinux_2_17_x86_64.manylinux2014_x86_64.whl.metadata (13 kB)\n",
      "Requirement already satisfied: joblib>=1.1.1 in /opt/conda/envs/python3/lib/python3.9/site-packages (from imbalanced-learn) (1.4.2)\n",
      "Requirement already satisfied: threadpoolctl>=2.0.0 in /opt/conda/envs/python3/lib/python3.9/site-packages (from imbalanced-learn) (3.5.0)\n",
      "Using cached imbalanced_learn-0.12.3-py3-none-any.whl (258 kB)\n",
      "Using cached scikit_learn-1.5.2-cp39-cp39-manylinux_2_17_x86_64.manylinux2014_x86_64.whl (13.4 MB)\n"
     ]
    },
    {
     "name": "stderr",
     "output_type": "stream",
     "text": [
      "\u001b[33mWARNING: Ignoring invalid distribution -ikit-learn (/opt/conda/envs/python3/lib/python3.9/site-packages)\u001b[0m\u001b[33m\n",
      "\u001b[0m\u001b[33mWARNING: Ignoring invalid distribution - (/opt/conda/envs/python3/lib/python3.9/site-packages)\u001b[0m\u001b[33m\n",
      "\u001b[0m\u001b[33mWARNING: Ignoring invalid distribution -ikit-learn (/opt/conda/envs/python3/lib/python3.9/site-packages)\u001b[0m\u001b[33m\n",
      "\u001b[0m\u001b[33mWARNING: Ignoring invalid distribution -0ikit-learn (/opt/conda/envs/python3/lib/python3.9/site-packages)\u001b[0m\u001b[33m\n",
      "\u001b[0m\u001b[33mWARNING: Ignoring invalid distribution -1ikit-learn (/opt/conda/envs/python3/lib/python3.9/site-packages)\u001b[0m\u001b[33m\n",
      "\u001b[0m\u001b[33mWARNING: Ignoring invalid distribution -cikit-learn (/opt/conda/envs/python3/lib/python3.9/site-packages)\u001b[0m\u001b[33m\n",
      "\u001b[0m\u001b[33mWARNING: Ignoring invalid distribution -umpy (/opt/conda/envs/python3/lib/python3.9/site-packages)\u001b[0m\u001b[33m\n",
      "\u001b[0m\u001b[31mERROR: Could not install packages due to an OSError: [Errno 13] Permission denied: 'COPYING'\n",
      "Consider using the `--user` option or check the permissions.\n",
      "\u001b[0m\u001b[31m\n",
      "\u001b[0m"
     ]
    },
    {
     "name": "stdout",
     "output_type": "stream",
     "text": [
      "Installing collected packages: scikit-learn, imbalanced-learn\n",
      "  Attempting uninstall: scikit-learn\n",
      "    Found existing installation: scikit-learn 0.24.1\n",
      "    Uninstalling scikit-learn-0.24.1:\n"
     ]
    },
    {
     "data": {
      "text/html": [
       "<div class='info-box-error'><h3>⚠️ Error de Instalación</h3>Error al intentar importar imbalanced-learn. Detalle del error: Command '['/opt/conda/envs/python3/bin/python', '-m', 'pip', 'install', 'imbalanced-learn']' returned non-zero exit status 1.</div>"
      ],
      "text/plain": [
       "<IPython.core.display.HTML object>"
      ]
     },
     "metadata": {},
     "output_type": "display_data"
    },
    {
     "data": {
      "text/html": [
       "<div class='info-box'>📦 lightgbm ya está instalada - Versión: 3.3.1</div>"
      ],
      "text/plain": [
       "<IPython.core.display.HTML object>"
      ]
     },
     "metadata": {},
     "output_type": "display_data"
    },
    {
     "data": {
      "text/html": [
       "<div class='info-box'>📦 plotly ya está instalada - Versión: 5.4.0</div>"
      ],
      "text/plain": [
       "<IPython.core.display.HTML object>"
      ]
     },
     "metadata": {},
     "output_type": "display_data"
    },
    {
     "data": {
      "text/html": [
       "<div class='info-box'>📦 xml.etree.ElementTree ya está instalada - Versión: versión no disponible</div>"
      ],
      "text/plain": [
       "<IPython.core.display.HTML object>"
      ]
     },
     "metadata": {},
     "output_type": "display_data"
    },
    {
     "data": {
      "text/html": [
       "<div class='info-box'>📦 tqdm ya está instalada - Versión: 4.66.4</div>"
      ],
      "text/plain": [
       "<IPython.core.display.HTML object>"
      ]
     },
     "metadata": {},
     "output_type": "display_data"
    },
    {
     "data": {
      "text/html": [
       "<div class='info-box'>📦 requests ya está instalada - Versión: 2.31.0</div>"
      ],
      "text/plain": [
       "<IPython.core.display.HTML object>"
      ]
     },
     "metadata": {},
     "output_type": "display_data"
    },
    {
     "data": {
      "text/html": [
       "<div class='info-box'>📦 joblib ya está instalada - Versión: 1.4.2</div>"
      ],
      "text/plain": [
       "<IPython.core.display.HTML object>"
      ]
     },
     "metadata": {},
     "output_type": "display_data"
    },
    {
     "data": {
      "text/html": [
       "<div class='info-box'>📦 stats ya está instalada - Versión: 0.1.2a</div>"
      ],
      "text/plain": [
       "<IPython.core.display.HTML object>"
      ]
     },
     "metadata": {},
     "output_type": "display_data"
    },
    {
     "data": {
      "text/html": [
       "<div class='process-end'>✅ Instalación completada en <strong>3.43 segundos</strong>.</div>"
      ],
      "text/plain": [
       "<IPython.core.display.HTML object>"
      ]
     },
     "metadata": {},
     "output_type": "display_data"
    }
   ],
   "source": [
    "# Bloque de Instalación e Importación de Bibliotecas\n",
    "from IPython.display import display, HTML, clear_output\n",
    "import importlib\n",
    "import subprocess\n",
    "import ipywidgets as widgets\n",
    "import sys\n",
    "import gc\n",
    "import time\n",
    "from datetime import datetime\n",
    "\n",
    "# Aumentar el límite de recursión\n",
    "sys.setrecursionlimit(1500)\n",
    "\n",
    "# Estilos Globales para Notificaciones y Mensajes\n",
    "estilo_global = \"\"\"\n",
    "<style>\n",
    "    .info-box {\n",
    "        background-color: #E8F5E9;\n",
    "        padding: 20px;\n",
    "        border-left: 5px solid #4CAF50;\n",
    "        border-radius: 5px;\n",
    "        font-family: Arial, sans-serif;\n",
    "        font-size: 16px;\n",
    "        color: #4CAF50;\n",
    "        line-height: 1.6;\n",
    "    }\n",
    "    .info-box-error {\n",
    "        background-color: #FDECEA;\n",
    "        padding: 20px;\n",
    "        border-left: 5px solid #F44336;\n",
    "        border-radius: 5px;\n",
    "        font-family: Arial, sans-serif;\n",
    "        font-size: 16px;\n",
    "        color: #F44336;\n",
    "        line-height: 1.6;\n",
    "    }\n",
    "    .process-start, .process-end {\n",
    "        background-color: #E0F7FA;\n",
    "        color: #004D40;\n",
    "        border-left: 5px solid #00ACC1;\n",
    "        border-radius: 5px;\n",
    "        padding: 15px;\n",
    "        margin: 20px 0;\n",
    "        font-size: 18px;\n",
    "        text-align: center;\n",
    "    }\n",
    "</style>\n",
    "\"\"\"\n",
    "display(HTML(estilo_global))\n",
    "\n",
    "\n",
    "# Configuración de visualización para mejorar la revisión de DataFrames en pandas\n",
    "# Mostrar todas las columnas: Para mostrar todas las columnas de un DataFrame\n",
    "pd.set_option('display.max_columns', None)\n",
    "# Evitar división en varias líneas: Si deseas que las filas de tu DataFrame no se dividan en varias líneas\n",
    "pd.set_option('display.expand_frame_repr', False)\n",
    "# Mostrar todas las filas: Para mostrar todas las filas de un DataFrame sin límites\n",
    "pd.set_option('display.max_rows', None)\n",
    "# Mostrar el ancho completo de las columnas: Si quieres que las columnas se muestren con su ancho completo\n",
    "pd.set_option('display.max_colwidth', None)\n",
    "\n",
    "# Verificación de instalación de una biblioteca\n",
    "def verificar_biblioteca(biblioteca):\n",
    "    try:\n",
    "        mod = importlib.import_module(biblioteca)\n",
    "        version = getattr(mod, \"__version__\", \"versión no disponible\")\n",
    "        return (biblioteca, version, True)\n",
    "    except ModuleNotFoundError:\n",
    "        return (biblioteca, \"No instalado\", False)\n",
    "\n",
    "# Manejo de errores de importación\n",
    "def manejar_error_importacion(biblioteca, error):\n",
    "    mensaje = f\"Error al intentar importar {biblioteca}. Detalle del error: {error}\"\n",
    "    display(HTML(f\"<div class='info-box-error'><h3>⚠️ Error de Instalación</h3>{mensaje}</div>\"))\n",
    "\n",
    "# Instalación de una biblioteca\n",
    "def instalar_una_biblioteca(biblioteca):\n",
    "    resultado = verificar_biblioteca(biblioteca)\n",
    "    if resultado[2]:\n",
    "        display(HTML(f\"<div class='info-box'>📦 {biblioteca} ya está instalada - Versión: {resultado[1]}</div>\"))\n",
    "        return (biblioteca, True)\n",
    "    try:\n",
    "        subprocess.check_call([sys.executable, \"-m\", \"pip\", \"install\", biblioteca])\n",
    "        display(HTML(f\"<div class='info-box'>📦 {biblioteca} instalada correctamente.</div>\"))\n",
    "        return (biblioteca, True)\n",
    "    except Exception as e:\n",
    "        manejar_error_importacion(biblioteca, str(e))\n",
    "        return (biblioteca, False)\n",
    "\n",
    "# Instalación de bibliotecas de manera secuencial\n",
    "def instalar_bibliotecas(bibliotecas):\n",
    "    start_time = time.time()\n",
    "    for biblioteca in bibliotecas:\n",
    "        instalar_una_biblioteca(biblioteca)\n",
    "    total_time = time.time() - start_time\n",
    "    display(HTML(f\"<div class='process-end'>✅ Instalación completada en <strong>{total_time:.2f} segundos</strong>.</div>\"))\n",
    "\n",
    "# Lista completa de bibliotecas a instalar\n",
    "bibliotecas = [\"pandas\", \"numpy\", \"matplotlib\", \"seaborn\", \"scipy\", \"scikit-learn\", \n",
    "               \"xgboost\", \"ipywidgets\", \"rich\", \"imbalanced-learn\", \"lightgbm\", \"plotly\",\n",
    "               \"xml.etree.ElementTree\", \"tqdm\", \"requests\", \"joblib\", \"scipy\", \"stats\"]\n",
    "\n",
    "# Crear botones y widgets para selección\n",
    "boton_instalar = widgets.Button(description=\"Instalar Bibliotecas\", button_style='success', layout=widgets.Layout(width='400px'))\n",
    "checkboxes = {lib: widgets.Checkbox(value=True, description=lib) for lib in bibliotecas}\n",
    "\n",
    "# Función para ejecutar la instalación\n",
    "def ejecutar_instalacion(b):\n",
    "    clear_output(wait=True)\n",
    "    display(HTML(\"<div class='process-start'>⚙️ Iniciando instalación de bibliotecas...</div>\"))\n",
    "    bibliotecas_seleccionadas = [lib for lib, chk in checkboxes.items() if chk.value]\n",
    "    instalar_bibliotecas(bibliotecas_seleccionadas)\n",
    "    gc.collect()\n",
    "\n",
    "# Asignar función al botón\n",
    "boton_instalar.on_click(ejecutar_instalacion)\n",
    "\n",
    "# Mostrar selección y botón\n",
    "display(widgets.VBox([widgets.Label(\"Seleccione las bibliotecas a instalar:\")]))\n",
    "display(widgets.VBox(list(checkboxes.values())))\n",
    "display(boton_instalar)\n"
   ]
  },
  {
   "cell_type": "markdown",
   "metadata": {},
   "source": [
    "<div style='background-color: #E8F5E9; padding: 20px; border-radius: 8px; font-family: Arial, sans-serif; font-size: 16px; color: #4CAF50; line-height: 1.6;'>\n",
    "\n",
    "  <!-- Título principal -->\n",
    "  <h1 style='color: #388E3C; font-size: 28px;'>💾 Carga de Datos con Validación y Visualización de Progreso</h1>\n",
    "\n",
    "  <!-- Descripción general -->\n",
    "  <h3 style='color: #2E7D32; font-size: 22px;'>📊 Carga y Preprocesamiento de Datos</h3>\n",
    "  <p style='text-align: justify;'>Este módulo se encarga de la carga de datos desde diversas fuentes, incluyendo URLs remotas y archivos locales. Implementa validaciones automáticas para verificar la accesibilidad de los archivos o URLs y utiliza notificaciones interactivas que informan el progreso y resultado de cada operación. Además, incluye funciones para la carga en paralelo de datasets, facilitando el manejo de grandes volúmenes de datos.</p>\n",
    "\n",
    "  <!-- Código y Funcionalidades -->\n",
    "  <h4 style='color: #2E7D32; font-size: 20px;'>⚙️ Funcionalidades del Código</h4>\n",
    "  <ul style='list-style-type: none; padding-left: 0;'>\n",
    "    <li>🔍 <strong>Verificación de URL o Archivo:</strong> Se valida si el archivo local o URL es accesible antes de proceder con la carga.</li>\n",
    "    <li>📈 <strong>Progreso Visual:</strong> Utiliza mensajes visuales en formato HTML moderno con emojis y colores para indicar el progreso y posibles errores.</li>\n",
    "    <li>📂 <strong>Formatos Soportados:</strong> Carga archivos en formatos como CSV, Excel, JSON, XML, Parquet y TXT, con opciones automáticas para cada formato.</li>\n",
    "    <li>🧮 <strong>Unificación y Gráficos:</strong> Los datasets cargados se unifican en un único DataFrame, al que se añade una columna de región, y luego se visualizan distribuciones de las variables mediante gráficos interactivos.</li>\n",
    "    <li>💡 <strong>Optimización en Paralelo:</strong> La carga de datasets se realiza en paralelo utilizando <code>ThreadPoolExecutor</code> para acelerar el proceso en grandes volúmenes de datos.</li>\n",
    "  </ul>\n",
    "  \n",
    "  <!-- Ventajas -->\n",
    "  <h4 style='color: #2E7D32; font-size: 20px;'>🚀 Ventajas</h4>\n",
    "  <ul style='list-style-type: none; padding-left: 0;'>\n",
    "    <li>⚡ <strong>Eficiencia:</strong> La carga en paralelo de datasets reduce significativamente el tiempo de espera en comparación con cargas secuenciales.</li>\n",
    "    <li>🔄 <strong>Automatización:</strong> El sistema detecta automáticamente el formato de archivo, facilitando el manejo de datos sin necesidad de configuraciones adicionales.</li>\n",
    "    <li>🎯 <strong>Feedback Visual:</strong> La implementación de notificaciones interactivas mejora la experiencia del usuario al proporcionar información clara sobre el estado de las operaciones.</li>\n",
    "    <li>📊 <strong>Análisis Visual:</strong> La función de graficar distribuciones permite realizar una inspección inicial rápida y efectiva de los datos.</li>\n",
    "  </ul>\n",
    "\n",
    "  <!-- Ejecución -->\n",
    "  <h4 style='color: #2E7D32; font-size: 20px;'>⏳ Proceso de Carga</h4>\n",
    "  <ol style='color: #388E3C;'>\n",
    "    <li>Se selecciona la fuente de datos (Web o Local).</li>\n",
    "    <li>Se realiza la validación de las URLs o archivos locales.</li>\n",
    "    <li>Los datasets se cargan en paralelo, se muestran notificaciones interactivas con el estado de la carga.</li>\n",
    "    <li>Los datasets se unifican en un solo DataFrame, añadiendo una columna para identificar la región correspondiente.</li>\n",
    "    <li>Se generan gráficos para visualizar la distribución de las características de los datos por región.</li>\n",
    "  </ol>\n",
    "\n",
    "</div>\n"
   ]
  },
  {
   "cell_type": "code",
   "execution_count": 3,
   "metadata": {
    "ExecuteTime": {
     "end_time": "2024-08-19T20:15:38.768765Z",
     "start_time": "2024-08-19T20:15:31.937793Z"
    },
    "scrolled": false
   },
   "outputs": [
    {
     "data": {
      "text/html": [
       "<h2 style='color: #4CAF50;'>🌐 Carga de Datos desde la Web</h2>"
      ],
      "text/plain": [
       "<IPython.core.display.HTML object>"
      ]
     },
     "metadata": {},
     "output_type": "display_data"
    },
    {
     "data": {
      "text/html": [
       "<p>Los datos se cargarán desde las URLs predefinidas.</p>"
      ],
      "text/plain": [
       "<IPython.core.display.HTML object>"
      ]
     },
     "metadata": {},
     "output_type": "display_data"
    },
    {
     "data": {
      "application/vnd.jupyter.widget-view+json": {
       "model_id": "1f073237fdcc40d1ae668b60549cabd8",
       "version_major": 2,
       "version_minor": 0
      },
      "text/plain": [
       "Dropdown(description='Fuente:', layout=Layout(width='300px'), options=('Web', 'Local'), style=DescriptionStyle…"
      ]
     },
     "metadata": {},
     "output_type": "display_data"
    },
    {
     "data": {
      "application/vnd.jupyter.widget-view+json": {
       "model_id": "56d2036defb34302b3c48a294da2539b",
       "version_major": 2,
       "version_minor": 0
      },
      "text/plain": [
       "Button(button_style='success', description='📂 Cargar Datos', layout=Layout(width='200px'), style=ButtonStyle()…"
      ]
     },
     "metadata": {},
     "output_type": "display_data"
    },
    {
     "data": {
      "text/html": [
       "\n",
       "    <div style='background-color: #f0f4ff; color: #1f3c88; border-left: 6px solid #007bff; font-size: 16px; padding: 15px; border-radius: 8px; margin-bottom: 15px;'>\n",
       "        <strong>ℹ️ ⚙️ Iniciando la Importación de los DataFrames...</strong>\n",
       "    </div>\n",
       "    "
      ],
      "text/plain": [
       "<IPython.core.display.HTML object>"
      ]
     },
     "metadata": {},
     "output_type": "display_data"
    },
    {
     "data": {
      "text/html": [
       "\n",
       "    <div style=\"border: 2px solid #28a745; border-radius: 8px; padding: 10px; margin-bottom: 10px; background-color: #f9f9f9;\">\n",
       "        <h2>🧐 Verificación de Tipos de Datos y Valores Faltantes</h2>\n",
       "        <h3>📂 Datos cargados desde <strong>https://code.s3.yandex.net/datasets/geo_data_1.csv</strong></h3>\n",
       "        <p><strong>🗂️ Nombre del DataFrame:</strong> df_1</p>\n",
       "        <p><strong>📝 Total de Filas:</strong> 100000</p>\n",
       "        <p><strong>📊 Total de Columnas:</strong> 5</p>\n",
       "        <p><strong>Tipos de datos:</strong></p>\n",
       "        <ul>\n",
       "            <li><strong>id</strong>: object</li><li><strong>f0</strong>: float64</li><li><strong>f1</strong>: float64</li><li><strong>f2</strong>: float64</li><li><strong>product</strong>: float64</li>\n",
       "        </ul>\n",
       "        <h4>🔍 Primeros 5 Registros:</h4>\n",
       "        <table border=\"1\" class=\"dataframe table table-striped table-bordered\">\n",
       "  <thead>\n",
       "    <tr style=\"text-align: right;\">\n",
       "      <th></th>\n",
       "      <th>id</th>\n",
       "      <th>f0</th>\n",
       "      <th>f1</th>\n",
       "      <th>f2</th>\n",
       "      <th>product</th>\n",
       "    </tr>\n",
       "  </thead>\n",
       "  <tbody>\n",
       "    <tr>\n",
       "      <th>0</th>\n",
       "      <td>kBEdx</td>\n",
       "      <td>-15.001348</td>\n",
       "      <td>-8.276000</td>\n",
       "      <td>-0.005876</td>\n",
       "      <td>3.179103</td>\n",
       "    </tr>\n",
       "    <tr>\n",
       "      <th>1</th>\n",
       "      <td>62mP7</td>\n",
       "      <td>14.272088</td>\n",
       "      <td>-3.475083</td>\n",
       "      <td>0.999183</td>\n",
       "      <td>26.953261</td>\n",
       "    </tr>\n",
       "    <tr>\n",
       "      <th>2</th>\n",
       "      <td>vyE1P</td>\n",
       "      <td>6.263187</td>\n",
       "      <td>-5.948386</td>\n",
       "      <td>5.001160</td>\n",
       "      <td>134.766305</td>\n",
       "    </tr>\n",
       "    <tr>\n",
       "      <th>3</th>\n",
       "      <td>KcrkZ</td>\n",
       "      <td>-13.081196</td>\n",
       "      <td>-11.506057</td>\n",
       "      <td>4.999415</td>\n",
       "      <td>137.945408</td>\n",
       "    </tr>\n",
       "    <tr>\n",
       "      <th>4</th>\n",
       "      <td>AHL4O</td>\n",
       "      <td>12.702195</td>\n",
       "      <td>-8.147433</td>\n",
       "      <td>5.004363</td>\n",
       "      <td>134.766305</td>\n",
       "    </tr>\n",
       "  </tbody>\n",
       "</table>\n",
       "    </div>\n",
       "    "
      ],
      "text/plain": [
       "<IPython.core.display.HTML object>"
      ]
     },
     "metadata": {},
     "output_type": "display_data"
    },
    {
     "data": {
      "text/html": [
       "\n",
       "    <div style='background-color: #e6ffed; color: #256029; border-left: 6px solid #28a745; font-size: 16px; padding: 15px; border-radius: 8px; margin-bottom: 15px;'>\n",
       "        <strong>✅ 📊 Datos cargados exitosamente desde https://code.s3.yandex.net/datasets/geo_data_1.csv en df_1. Filas: 100000, Columnas: 5</strong>\n",
       "    </div>\n",
       "    "
      ],
      "text/plain": [
       "<IPython.core.display.HTML object>"
      ]
     },
     "metadata": {},
     "output_type": "display_data"
    },
    {
     "data": {
      "text/html": [
       "\n",
       "    <div style=\"border: 2px solid #28a745; border-radius: 8px; padding: 10px; margin-bottom: 10px; background-color: #f9f9f9;\">\n",
       "        <h2>🧐 Verificación de Tipos de Datos y Valores Faltantes</h2>\n",
       "        <h3>📂 Datos cargados desde <strong>https://code.s3.yandex.net/datasets/geo_data_0.csv</strong></h3>\n",
       "        <p><strong>🗂️ Nombre del DataFrame:</strong> df_0</p>\n",
       "        <p><strong>📝 Total de Filas:</strong> 100000</p>\n",
       "        <p><strong>📊 Total de Columnas:</strong> 5</p>\n",
       "        <p><strong>Tipos de datos:</strong></p>\n",
       "        <ul>\n",
       "            <li><strong>id</strong>: object</li><li><strong>f0</strong>: float64</li><li><strong>f1</strong>: float64</li><li><strong>f2</strong>: float64</li><li><strong>product</strong>: float64</li>\n",
       "        </ul>\n",
       "        <h4>🔍 Primeros 5 Registros:</h4>\n",
       "        <table border=\"1\" class=\"dataframe table table-striped table-bordered\">\n",
       "  <thead>\n",
       "    <tr style=\"text-align: right;\">\n",
       "      <th></th>\n",
       "      <th>id</th>\n",
       "      <th>f0</th>\n",
       "      <th>f1</th>\n",
       "      <th>f2</th>\n",
       "      <th>product</th>\n",
       "    </tr>\n",
       "  </thead>\n",
       "  <tbody>\n",
       "    <tr>\n",
       "      <th>0</th>\n",
       "      <td>txEyH</td>\n",
       "      <td>0.705745</td>\n",
       "      <td>-0.497823</td>\n",
       "      <td>1.221170</td>\n",
       "      <td>105.280062</td>\n",
       "    </tr>\n",
       "    <tr>\n",
       "      <th>1</th>\n",
       "      <td>2acmU</td>\n",
       "      <td>1.334711</td>\n",
       "      <td>-0.340164</td>\n",
       "      <td>4.365080</td>\n",
       "      <td>73.037750</td>\n",
       "    </tr>\n",
       "    <tr>\n",
       "      <th>2</th>\n",
       "      <td>409Wp</td>\n",
       "      <td>1.022732</td>\n",
       "      <td>0.151990</td>\n",
       "      <td>1.419926</td>\n",
       "      <td>85.265647</td>\n",
       "    </tr>\n",
       "    <tr>\n",
       "      <th>3</th>\n",
       "      <td>iJLyR</td>\n",
       "      <td>-0.032172</td>\n",
       "      <td>0.139033</td>\n",
       "      <td>2.978566</td>\n",
       "      <td>168.620776</td>\n",
       "    </tr>\n",
       "    <tr>\n",
       "      <th>4</th>\n",
       "      <td>Xdl7t</td>\n",
       "      <td>1.988431</td>\n",
       "      <td>0.155413</td>\n",
       "      <td>4.751769</td>\n",
       "      <td>154.036647</td>\n",
       "    </tr>\n",
       "  </tbody>\n",
       "</table>\n",
       "    </div>\n",
       "    "
      ],
      "text/plain": [
       "<IPython.core.display.HTML object>"
      ]
     },
     "metadata": {},
     "output_type": "display_data"
    },
    {
     "data": {
      "text/html": [
       "\n",
       "    <div style='background-color: #e6ffed; color: #256029; border-left: 6px solid #28a745; font-size: 16px; padding: 15px; border-radius: 8px; margin-bottom: 15px;'>\n",
       "        <strong>✅ 📊 Datos cargados exitosamente desde https://code.s3.yandex.net/datasets/geo_data_0.csv en df_0. Filas: 100000, Columnas: 5</strong>\n",
       "    </div>\n",
       "    "
      ],
      "text/plain": [
       "<IPython.core.display.HTML object>"
      ]
     },
     "metadata": {},
     "output_type": "display_data"
    },
    {
     "data": {
      "text/html": [
       "\n",
       "    <div style=\"border: 2px solid #28a745; border-radius: 8px; padding: 10px; margin-bottom: 10px; background-color: #f9f9f9;\">\n",
       "        <h2>🧐 Verificación de Tipos de Datos y Valores Faltantes</h2>\n",
       "        <h3>📂 Datos cargados desde <strong>https://code.s3.yandex.net/datasets/geo_data_2.csv</strong></h3>\n",
       "        <p><strong>🗂️ Nombre del DataFrame:</strong> df_2</p>\n",
       "        <p><strong>📝 Total de Filas:</strong> 100000</p>\n",
       "        <p><strong>📊 Total de Columnas:</strong> 5</p>\n",
       "        <p><strong>Tipos de datos:</strong></p>\n",
       "        <ul>\n",
       "            <li><strong>id</strong>: object</li><li><strong>f0</strong>: float64</li><li><strong>f1</strong>: float64</li><li><strong>f2</strong>: float64</li><li><strong>product</strong>: float64</li>\n",
       "        </ul>\n",
       "        <h4>🔍 Primeros 5 Registros:</h4>\n",
       "        <table border=\"1\" class=\"dataframe table table-striped table-bordered\">\n",
       "  <thead>\n",
       "    <tr style=\"text-align: right;\">\n",
       "      <th></th>\n",
       "      <th>id</th>\n",
       "      <th>f0</th>\n",
       "      <th>f1</th>\n",
       "      <th>f2</th>\n",
       "      <th>product</th>\n",
       "    </tr>\n",
       "  </thead>\n",
       "  <tbody>\n",
       "    <tr>\n",
       "      <th>0</th>\n",
       "      <td>fwXo0</td>\n",
       "      <td>-1.146987</td>\n",
       "      <td>0.963328</td>\n",
       "      <td>-0.828965</td>\n",
       "      <td>27.758673</td>\n",
       "    </tr>\n",
       "    <tr>\n",
       "      <th>1</th>\n",
       "      <td>WJtFt</td>\n",
       "      <td>0.262778</td>\n",
       "      <td>0.269839</td>\n",
       "      <td>-2.530187</td>\n",
       "      <td>56.069697</td>\n",
       "    </tr>\n",
       "    <tr>\n",
       "      <th>2</th>\n",
       "      <td>ovLUW</td>\n",
       "      <td>0.194587</td>\n",
       "      <td>0.289035</td>\n",
       "      <td>-5.586433</td>\n",
       "      <td>62.871910</td>\n",
       "    </tr>\n",
       "    <tr>\n",
       "      <th>3</th>\n",
       "      <td>q6cA6</td>\n",
       "      <td>2.236060</td>\n",
       "      <td>-0.553760</td>\n",
       "      <td>0.930038</td>\n",
       "      <td>114.572842</td>\n",
       "    </tr>\n",
       "    <tr>\n",
       "      <th>4</th>\n",
       "      <td>WPMUX</td>\n",
       "      <td>-0.515993</td>\n",
       "      <td>1.716266</td>\n",
       "      <td>5.899011</td>\n",
       "      <td>149.600746</td>\n",
       "    </tr>\n",
       "  </tbody>\n",
       "</table>\n",
       "    </div>\n",
       "    "
      ],
      "text/plain": [
       "<IPython.core.display.HTML object>"
      ]
     },
     "metadata": {},
     "output_type": "display_data"
    },
    {
     "data": {
      "text/html": [
       "\n",
       "    <div style='background-color: #e6ffed; color: #256029; border-left: 6px solid #28a745; font-size: 16px; padding: 15px; border-radius: 8px; margin-bottom: 15px;'>\n",
       "        <strong>✅ 📊 Datos cargados exitosamente desde https://code.s3.yandex.net/datasets/geo_data_2.csv en df_2. Filas: 100000, Columnas: 5</strong>\n",
       "    </div>\n",
       "    "
      ],
      "text/plain": [
       "<IPython.core.display.HTML object>"
      ]
     },
     "metadata": {},
     "output_type": "display_data"
    },
    {
     "data": {
      "text/html": [
       "\n",
       "    <div style='background-color: #e6ffed; color: #256029; border-left: 6px solid #28a745; font-size: 16px; padding: 15px; border-radius: 8px; margin-bottom: 15px;'>\n",
       "        <strong>✅ 🎉 Todos los datos se cargaron correctamente.</strong>\n",
       "    </div>\n",
       "    "
      ],
      "text/plain": [
       "<IPython.core.display.HTML object>"
      ]
     },
     "metadata": {},
     "output_type": "display_data"
    },
    {
     "data": {
      "text/html": [
       "\n",
       "    <div style='background-color: #e6ffed; color: #256029; border-left: 6px solid #28a745; font-size: 16px; padding: 15px; border-radius: 8px; margin-bottom: 15px;'>\n",
       "        <strong>✅ 📊 Unificación de los datasets completada.</strong>\n",
       "    </div>\n",
       "    "
      ],
      "text/plain": [
       "<IPython.core.display.HTML object>"
      ]
     },
     "metadata": {},
     "output_type": "display_data"
    },
    {
     "data": {
      "text/html": [
       "<table border=\"1\" class=\"dataframe table table-striped table-bordered\">\n",
       "  <thead>\n",
       "    <tr style=\"text-align: right;\">\n",
       "      <th></th>\n",
       "      <th>id</th>\n",
       "      <th>f0</th>\n",
       "      <th>f1</th>\n",
       "      <th>f2</th>\n",
       "      <th>product</th>\n",
       "      <th>region</th>\n",
       "    </tr>\n",
       "  </thead>\n",
       "  <tbody>\n",
       "    <tr>\n",
       "      <th>0</th>\n",
       "      <td>txEyH</td>\n",
       "      <td>0.705745</td>\n",
       "      <td>-0.497823</td>\n",
       "      <td>1.221170</td>\n",
       "      <td>105.280062</td>\n",
       "      <td>Region 0</td>\n",
       "    </tr>\n",
       "    <tr>\n",
       "      <th>1</th>\n",
       "      <td>2acmU</td>\n",
       "      <td>1.334711</td>\n",
       "      <td>-0.340164</td>\n",
       "      <td>4.365080</td>\n",
       "      <td>73.037750</td>\n",
       "      <td>Region 0</td>\n",
       "    </tr>\n",
       "    <tr>\n",
       "      <th>2</th>\n",
       "      <td>409Wp</td>\n",
       "      <td>1.022732</td>\n",
       "      <td>0.151990</td>\n",
       "      <td>1.419926</td>\n",
       "      <td>85.265647</td>\n",
       "      <td>Region 0</td>\n",
       "    </tr>\n",
       "    <tr>\n",
       "      <th>3</th>\n",
       "      <td>iJLyR</td>\n",
       "      <td>-0.032172</td>\n",
       "      <td>0.139033</td>\n",
       "      <td>2.978566</td>\n",
       "      <td>168.620776</td>\n",
       "      <td>Region 0</td>\n",
       "    </tr>\n",
       "    <tr>\n",
       "      <th>4</th>\n",
       "      <td>Xdl7t</td>\n",
       "      <td>1.988431</td>\n",
       "      <td>0.155413</td>\n",
       "      <td>4.751769</td>\n",
       "      <td>154.036647</td>\n",
       "      <td>Region 0</td>\n",
       "    </tr>\n",
       "  </tbody>\n",
       "</table>"
      ],
      "text/plain": [
       "<IPython.core.display.HTML object>"
      ]
     },
     "metadata": {},
     "output_type": "display_data"
    },
    {
     "data": {
      "text/html": [
       "\n",
       "    <div style='background-color: #f0f4ff; color: #1f3c88; border-left: 6px solid #007bff; font-size: 16px; padding: 15px; border-radius: 8px; margin-bottom: 15px;'>\n",
       "        <strong>ℹ️ 📊 Graficando distribuciones por región...</strong>\n",
       "    </div>\n",
       "    "
      ],
      "text/plain": [
       "<IPython.core.display.HTML object>"
      ]
     },
     "metadata": {},
     "output_type": "display_data"
    },
    {
     "data": {
      "image/png": "[encoded data removed]",
      "text/plain": [
       "<Figure size 1000x500 with 1 Axes>"
      ]
     },
     "metadata": {},
     "output_type": "display_data"
    },
    {
     "data": {
      "image/png": "[encoded data removed]",
      "text/plain": [
       "<Figure size 1000x500 with 1 Axes>"
      ]
     },
     "metadata": {},
     "output_type": "display_data"
    },
    {
     "data": {
      "image/png": "[encoded data removed]",
      "text/plain": [
       "<Figure size 1000x500 with 1 Axes>"
      ]
     },
     "metadata": {},
     "output_type": "display_data"
    },
    {
     "data": {
      "image/png": "[encoded data removed]",
      "text/plain": [
       "<Figure size 1000x500 with 1 Axes>"
      ]
     },
     "metadata": {},
     "output_type": "display_data"
    },
    {
     "data": {
      "text/html": [
       "\n",
       "    <div style='background-color: #e6ffed; color: #256029; border-left: 6px solid #28a745; font-size: 16px; padding: 15px; border-radius: 8px; margin-bottom: 15px;'>\n",
       "        <strong>✅ ⏳ Importación de DataFrames completada en 9.61 segundos.</strong>\n",
       "    </div>\n",
       "    "
      ],
      "text/plain": [
       "<IPython.core.display.HTML object>"
      ]
     },
     "metadata": {},
     "output_type": "display_data"
    }
   ],
   "source": [
    "# Importaciones necesarias\n",
    "import pandas as pd\n",
    "import numpy as np\n",
    "import os\n",
    "import requests\n",
    "import gc\n",
    "from concurrent.futures import ThreadPoolExecutor\n",
    "import matplotlib.pyplot as plt\n",
    "import seaborn as sns\n",
    "import xml.etree.ElementTree as ET\n",
    "from IPython.display import display, HTML, clear_output\n",
    "import ipywidgets as widgets\n",
    "import time\n",
    "\n",
    "# Función para mostrar notificaciones en estilo HTML moderno con emojis y tonos mejorados\n",
    "def mostrar_mensaje_proceso(mensaje, tipo='info'):\n",
    "    estilos = {\n",
    "        'info': 'background-color: #f0f4ff; color: #1f3c88; border-left: 6px solid #007bff; font-size: 16px; padding: 15px;',\n",
    "        'success': 'background-color: #e6ffed; color: #256029; border-left: 6px solid #28a745; font-size: 16px; padding: 15px;',\n",
    "        'error': 'background-color: #ffe6e6; color: #721c24; border-left: 6px solid #dc3545; font-size: 16px; padding: 15px;'\n",
    "    }\n",
    "    \n",
    "    emojis = {\n",
    "        'info': 'ℹ️',\n",
    "        'success': '✅',\n",
    "        'error': '❌'\n",
    "    }\n",
    "    \n",
    "    estilo = estilos.get(tipo, estilos['info'])\n",
    "    emoji = emojis.get(tipo, emojis['info'])\n",
    "    \n",
    "    display(HTML(f\"\"\"\n",
    "    <div style='{estilo} border-radius: 8px; margin-bottom: 15px;'>\n",
    "        <strong>{emoji} {mensaje}</strong>\n",
    "    </div>\n",
    "    \"\"\"))\n",
    "\n",
    "# Función para validar URLs accesibles antes de la carga\n",
    "def verificar_url_accesible(url):\n",
    "    try:\n",
    "        response = requests.head(url)\n",
    "        return response.status_code == 200\n",
    "    except Exception:\n",
    "        return False\n",
    "\n",
    "# Función para validar archivo o URL\n",
    "def validar_archivo(file_path):\n",
    "    if file_path.startswith(('http://', 'https://')):\n",
    "        if not verificar_url_accesible(file_path):\n",
    "            mostrar_mensaje_proceso(f\"URL '{file_path}' no accesible.\", 'error')\n",
    "            raise FileNotFoundError(f\"URL '{file_path}' no accesible.\")\n",
    "    elif not os.path.exists(file_path):\n",
    "        mostrar_mensaje_proceso(f\"Archivo '{file_path}' no encontrado.\", 'error')\n",
    "        raise FileNotFoundError(f\"Archivo '{file_path}' no encontrado.\")\n",
    "\n",
    "# Función para cargar datos con mensaje y progreso\n",
    "def cargar_datos_con_progreso(file_path, nombre_df):\n",
    "    try:\n",
    "        validar_archivo(file_path)\n",
    "        extension = file_path.split('.')[-1].lower()\n",
    "\n",
    "        if extension == 'csv':\n",
    "            df = pd.read_csv(file_path)\n",
    "        elif extension == 'xlsx':\n",
    "            df = pd.read_excel(file_path)\n",
    "        elif extension == 'json':\n",
    "            df = pd.read_json(file_path)\n",
    "        elif extension == 'xml':\n",
    "            df = pd.DataFrame([{subchild.tag: subchild.text for subchild in child} for child in ET.parse(file_path).getroot()])\n",
    "        elif extension == 'parquet':\n",
    "            df = pd.read_parquet(file_path)\n",
    "        elif extension == 'txt':\n",
    "            df = pd.read_csv(file_path, delimiter='\\t')\n",
    "        else:\n",
    "            mostrar_mensaje_proceso(f\"Formato de archivo '{extension}' no soportado.\", 'error')\n",
    "            raise ValueError(f\"Formato de archivo '{extension}' no soportado.\")\n",
    "\n",
    "        mostrar_mensaje_carga_exitosa(df, file_path, nombre_df)\n",
    "        return df\n",
    "\n",
    "    except FileNotFoundError:\n",
    "        mostrar_mensaje_proceso(f\"Archivo no encontrado: {file_path}\", 'error')\n",
    "    except Exception as e:\n",
    "        mostrar_mensaje_proceso(f\"Error inesperado: {str(e)}\", 'error')\n",
    "\n",
    "# Función para mostrar un mensaje de éxito después de cargar el archivo con detalles del DataFrame\n",
    "def mostrar_mensaje_carga_exitosa(df, file_path, nombre_df):\n",
    "    info_html = f\"\"\"\n",
    "    <div style=\"border: 2px solid #28a745; border-radius: 8px; padding: 10px; margin-bottom: 10px; background-color: #f9f9f9;\">\n",
    "        <h2>🧐 Verificación de Tipos de Datos y Valores Faltantes</h2>\n",
    "        <h3>📂 Datos cargados desde <strong>{file_path}</strong></h3>\n",
    "        <p><strong>🗂️ Nombre del DataFrame:</strong> {nombre_df}</p>\n",
    "        <p><strong>📝 Total de Filas:</strong> {df.shape[0]}</p>\n",
    "        <p><strong>📊 Total de Columnas:</strong> {df.shape[1]}</p>\n",
    "        <p><strong>Tipos de datos:</strong></p>\n",
    "        <ul>\n",
    "            {''.join([f'<li><strong>{col}</strong>: {dtype}</li>' for col, dtype in df.dtypes.items()])}\n",
    "        </ul>\n",
    "        <h4>🔍 Primeros 5 Registros:</h4>\n",
    "        {df.head().to_html(classes='table table-striped table-bordered')}\n",
    "    </div>\n",
    "    \"\"\"\n",
    "    display(HTML(info_html))\n",
    "    mostrar_mensaje_proceso(f\"📊 Datos cargados exitosamente desde {file_path} en {nombre_df}. Filas: {df.shape[0]}, Columnas: {df.shape[1]}\", 'success')\n",
    "\n",
    "# Función para cargar datasets en paralelo\n",
    "def cargar_datasets_en_paralelo(urls):\n",
    "    df_list = []\n",
    "    errores = []\n",
    "    with ThreadPoolExecutor() as executor:\n",
    "        for idx, df in enumerate(executor.map(cargar_datos_con_progreso, urls, ['df_0', 'df_1', 'df_2'])):\n",
    "            if df is not None:\n",
    "                df_list.append(df)\n",
    "            else:\n",
    "                errores.append(urls[idx])\n",
    "    return df_list, errores\n",
    "\n",
    "# Función para unificar los dataframes y agregar una columna 'region'\n",
    "def unificar_dataframes(df_0, df_1, df_2):\n",
    "    df_0['region'] = 'Region 0'\n",
    "    df_1['region'] = 'Region 1'\n",
    "    df_2['region'] = 'Region 2'\n",
    "    \n",
    "    df_unificado = pd.concat([df_0, df_1, df_2], ignore_index=True)\n",
    "    return df_unificado\n",
    "\n",
    "# Función para graficar las distribuciones de las características por región\n",
    "def graficar_distribuciones(df_unificado):\n",
    "    mostrar_mensaje_proceso(\"📊 Graficando distribuciones por región...\", 'info')\n",
    "    \n",
    "    regiones = {\n",
    "        'Region 0': '#42a5f5',\n",
    "        'Region 1': '#ffca28',\n",
    "        'Region 2': '#66bb6a'\n",
    "    }\n",
    "    \n",
    "    # Graficar la distribución de f0, f1, f2 y product\n",
    "    for feature in ['f0', 'f1', 'f2', 'product']:\n",
    "        plt.figure(figsize=(10, 5))\n",
    "        for region, color in regiones.items():\n",
    "            sns.histplot(df_unificado[df_unificado['region'] == region][feature], kde=True, color=color, label=region)\n",
    "        plt.title(f\"Distribución de {feature} por Región\", fontsize=16, fontweight='bold')\n",
    "        plt.xlabel(feature)\n",
    "        plt.ylabel('Frecuencia')\n",
    "        plt.legend(title='Región')\n",
    "        plt.grid(True, linestyle='--', alpha=0.7)\n",
    "        plt.show()\n",
    "\n",
    "# Función principal para cargar datasets y mostrar el resumen\n",
    "def cargar_datasets():\n",
    "    if source_selection.value == 'Web':\n",
    "        urls = [\n",
    "            'https://code.s3.yandex.net/datasets/geo_data_0.csv',\n",
    "            'https://code.s3.yandex.net/datasets/geo_data_1.csv',\n",
    "            'https://code.s3.yandex.net/datasets/geo_data_2.csv'\n",
    "        ]\n",
    "    else:\n",
    "        urls = [input_file_1.value, input_file_2.value, input_file_3.value]\n",
    "    \n",
    "    start_time = time.time()\n",
    "    \n",
    "    # Mostrar el mensaje de inicio de la carga de datos\n",
    "    mostrar_mensaje_proceso(\"⚙️ Iniciando la Importación de los DataFrames...\", 'info')\n",
    "\n",
    "    df_list, errores = cargar_datasets_en_paralelo(urls)\n",
    "\n",
    "    if len(df_list) == 3:\n",
    "        global df_0, df_1, df_2\n",
    "        df_0, df_1, df_2 = df_list[0], df_list[1], df_list[2]\n",
    "        mostrar_mensaje_proceso(\"🎉 Todos los datos se cargaron correctamente.\", 'success')\n",
    "        \n",
    "        # Unificar los dataframes\n",
    "        df_unificado = unificar_dataframes(df_0, df_1, df_2)\n",
    "        mostrar_mensaje_proceso(\"📊 Unificación de los datasets completada.\", 'success')\n",
    "        \n",
    "        # Mostrar tabla de datos unificados\n",
    "        display(HTML(df_unificado.head().to_html(classes='table table-striped table-bordered')))\n",
    "        \n",
    "        # Graficar las distribuciones\n",
    "        graficar_distribuciones(df_unificado)\n",
    "\n",
    "    else:\n",
    "        mostrar_mensaje_proceso(\"🚫 No todos los datos se pudieron cargar.\", 'error')\n",
    "\n",
    "    if errores:\n",
    "        for error in errores:\n",
    "            mostrar_mensaje_proceso(f\"Error al cargar: {error}\", 'error')\n",
    "\n",
    "    end_time = time.time()\n",
    "    \n",
    "    # Mostrar el mensaje de finalización de la carga de datos\n",
    "    mostrar_mensaje_proceso(f\"⏳ Importación de DataFrames completada en {end_time - start_time:.2f} segundos.\", 'success')\n",
    "\n",
    "    # Liberar memoria\n",
    "    gc.collect()\n",
    "\n",
    "# Widgets para la selección de fuente de datos (Web o Local)\n",
    "source_selection = widgets.Dropdown(\n",
    "    options=['Web', 'Local'],\n",
    "    value='Web',\n",
    "    description='Fuente:',\n",
    "    layout=widgets.Layout(width='300px'),\n",
    "    style={'description_width': 'initial'}\n",
    ")\n",
    "\n",
    "# Widgets para la carga local de archivos\n",
    "input_file_1 = widgets.Text(value='', description='Archivo 1:', layout=widgets.Layout(width='300px'))\n",
    "input_file_2 = widgets.Text(value='', description='Archivo 2:', layout=widgets.Layout(width='300px'))\n",
    "input_file_3 = widgets.Text(value='', description='Archivo 3:', layout=widgets.Layout(width='300px'))\n",
    "\n",
    "# Botón para ejecutar la carga de datos\n",
    "boton_cargar = widgets.Button(\n",
    "    description=\"📂 Cargar Datos\",\n",
    "    button_style='success',\n",
    "    layout=widgets.Layout(width='200px')\n",
    ")\n",
    "\n",
    "# Función para mostrar los campos de entrada cuando se selecciona \"Local\"\n",
    "def on_source_change(change):\n",
    "    clear_output(wait=True)\n",
    "    if source_selection.value == 'Local':\n",
    "        display(HTML(\"<h2 style='color: #4CAF50;'>📂 Interfaz de Carga de Datos</h2>\"))\n",
    "        display(HTML(\"<p>Selecciona los archivos locales para cargar los datasets.</p>\"))\n",
    "        display(source_selection)\n",
    "        display(input_file_1)\n",
    "        display(input_file_2)\n",
    "        display(input_file_3)\n",
    "        display(boton_cargar)\n",
    "    else:\n",
    "        display(HTML(\"<h2 style='color: #4CAF50;'>🌐 Carga de Datos desde la Web</h2>\"))\n",
    "        display(HTML(\"<p>Los datos se cargarán desde las URLs predefinidas.</p>\"))\n",
    "        display(source_selection)\n",
    "        display(boton_cargar)\n",
    "\n",
    "# Asociar el cambio de fuente con la función para cambiar la vista\n",
    "source_selection.observe(on_source_change, names='value')\n",
    "\n",
    "# Función para ejecutar la carga de datos cuando se hace clic en el botón\n",
    "def on_button_click(b):\n",
    "    cargar_datasets()\n",
    "\n",
    "# Conectar el botón con la función de carga\n",
    "boton_cargar.on_click(on_button_click)\n",
    "\n",
    "# Mostrar la interfaz inicial\n",
    "on_source_change(None)\n",
    "\n",
    "\n"
   ]
  },
  {
   "cell_type": "markdown",
   "metadata": {},
   "source": [
    "<!-- Descripción del Proyecto: Procesamiento de DataFrame -->\n",
    "<div style='background-color: #E8F5E9; padding: 20px; border-radius: 8px; font-family: Arial, sans-serif; font-size: 16px; color: #4CAF50; line-height: 1.6;'>\n",
    "\n",
    "  <!-- Título principal -->\n",
    "  <h1 style='color: #388E3C; font-size: 28px;'>🧹 Procesamiento de DataFrame</h1>\n",
    "\n",
    "  <!-- Descripción general del procesamiento -->\n",
    "  <h3 style='color: #2E7D32; font-size: 22px;'>⚙️ Etapas de Procesamiento</h3>\n",
    "  <p style='text-align: justify;'>En esta sección se lleva a cabo el procesamiento exhaustivo del DataFrame, abarcando desde la imputación de valores nulos hasta la eliminación de duplicados y outliers. Se aplican técnicas avanzadas para garantizar que los datos estén limpios, normalizados y listos para ser usados en modelos predictivos.</p>\n",
    "\n",
    "  <!-- Desglose de los pasos de procesamiento -->\n",
    "  <h4 style='color: #2E7D32; font-size: 20px;'>🔍 Pasos Clave</h4>\n",
    "  <ul style='list-style-type: none; padding-left: 0; color: #388E3C;'>\n",
    "    <li>🟢 <strong>Manejo de Valores Nulos:</strong> Imputación de valores nulos con media, mediana, moda u otros métodos.</li>\n",
    "    <li>🟢 <strong>Eliminación de Duplicados:</strong> Detección y eliminación de registros duplicados.</li>\n",
    "    <li>🟢 <strong>Detección y Eliminación de Outliers:</strong> Identificación de outliers usando Z-score o IQR y eliminación de registros atípicos.</li>\n",
    "    <li>🟢 <strong>Estandarización de Datos:</strong> Normalización de datos numéricos con técnicas como <code>StandardScaler</code> o <code>MinMaxScaler</code>.</li>\n",
    "    <li>🟢 <strong>Codificación de Variables Categóricas:</strong> Transformación de variables categóricas en variables numéricas utilizando codificación ordinal o <code>dummy variables</code>.</li>\n",
    "    <li>🟢 <strong>Conversión de Tipos de Datos:</strong> Transformación de tipos de datos a formatos adecuados para el análisis.</li>\n",
    "    <li>🟢 <strong>Manejo de Valores Extremos:</strong> Aplicación de técnicas como <code>capping</code> o eliminación de valores extremos.</li>\n",
    "    <li>🟢 <strong>Remoción de Columnas con Baja Varianza:</strong> Eliminación de columnas con baja variabilidad para mejorar el rendimiento del modelo.</li>\n",
    "    <li>🟢 <strong>Conversión de Fechas:</strong> Extracción de componentes temporales como año, mes, día y día de la semana a partir de columnas de fechas.</li>\n",
    "    <li>🟢 <strong>Imputación Basada en Regresión:</strong> Relleno de valores faltantes en columnas objetivo utilizando regresión lineal.</li>\n",
    "    <li>🟢 <strong>Eliminación de Columnas Correlacionadas:</strong> Remoción de columnas con alta correlación para evitar multicolinealidad.</li>\n",
    "  </ul>\n",
    "\n",
    "</div>\n",
    "\n",
    "<!-- Ventajas del Procesamiento de DataFrame -->\n",
    "<div style='background-color: #E8F5E9; padding: 20px; border-radius: 8px; font-family: Arial, sans-serif; font-size: 16px; color: #4CAF50; line-height: 1.6; margin-top: 20px;'>\n",
    "\n",
    "  <h4 style='color: #2E7D32; font-size: 20px;'>🚀 Ventajas del Procesamiento de Datos</h4>\n",
    "  <ul style='list-style-type: none; padding-left: 0;'>\n",
    "    <li>💡 <strong>Integridad de Datos:</strong> Garantiza que los datos estén libres de inconsistencias, duplicados y valores nulos.</li>\n",
    "    <li>📊 <strong>Mejora de la Calidad de los Modelos:</strong> Estandarizar y normalizar los datos mejora el rendimiento de los algoritmos de machine learning.</li>\n",
    "    <li>🧹 <strong>Eliminación de Outliers:</strong> Los métodos de manejo de outliers aseguran que los datos no se vean afectados negativamente por valores extremos.</li>\n",
    "    <li>🎯 <strong>Optimización de Columnas:</strong> La remoción de columnas con baja varianza y alta correlación reduce la dimensionalidad y mejora la eficiencia.</li>\n",
    "    <li>🔄 <strong>Automatización y Flexibilidad:</strong> Este flujo de trabajo permite automatizar el preprocesamiento de datos para diferentes DataFrames de manera flexible.</li>\n",
    "  </ul>\n",
    "\n",
    "</div>\n",
    "\n"
   ]
  },
  {
   "cell_type": "code",
   "execution_count": 4,
   "metadata": {
    "ExecuteTime": {
     "end_time": "2024-08-19T20:15:38.977931Z",
     "start_time": "2024-08-19T20:15:38.773169Z"
    }
   },
   "outputs": [
    {
     "data": {
      "text/html": [
       "\n",
       "<style>\n",
       "    .custom-menu {\n",
       "        background-color: #f0f0f0;\n",
       "        border: 1px solid #d0d0d0;\n",
       "        border-radius: 5px;\n",
       "        padding: 15px;\n",
       "        margin-bottom: 10px;\n",
       "        font-family: Arial, sans-serif;\n",
       "    }\n",
       "    .info-box, .info-box-error, .info-box-success, .info-box-warning {\n",
       "        border-radius: 5px;\n",
       "        padding: 10px;\n",
       "        margin: 10px 0;\n",
       "        font-size: 16px;\n",
       "    }\n",
       "    .info-box {\n",
       "        background-color: #E8F5E9;\n",
       "        border-left: 5px solid #4CAF50;\n",
       "    }\n",
       "    .info-box-error {\n",
       "        background-color: #FDECEA;\n",
       "        border-left: 5px solid #F44336;\n",
       "    }\n",
       "    .info-box-success {\n",
       "        background-color: #E0F7FA;\n",
       "        border-left: 5px solid #00ACC1;\n",
       "    }\n",
       "    .info-box-warning {\n",
       "        background-color: #FFF3E0;\n",
       "        border-left: 5px solid #FF9800;\n",
       "    }\n",
       "</style>\n"
      ],
      "text/plain": [
       "<IPython.core.display.HTML object>"
      ]
     },
     "metadata": {},
     "output_type": "display_data"
    },
    {
     "data": {
      "application/vnd.jupyter.widget-view+json": {
       "model_id": "b19849ac284f4b6a805cec8c3562e816",
       "version_major": 2,
       "version_minor": 0
      },
      "text/plain": [
       "VBox(children=(Dropdown(description='Método de Imputación:', index=1, layout=Layout(width='400px'), options=('…"
      ]
     },
     "metadata": {},
     "output_type": "display_data"
    },
    {
     "data": {
      "text/html": [
       "<p style='color: blue;'>Este proceso unirá los DataFrames cargados y aplicará el preprocesamiento seleccionado (manejo de nulos, estandarización, outliers), mostrando gráficos y estadísticas detalladas.</p>"
      ],
      "text/plain": [
       "<IPython.core.display.HTML object>"
      ]
     },
     "metadata": {},
     "output_type": "display_data"
    }
   ],
   "source": [
    "import pandas as pd\n",
    "import numpy as np\n",
    "from sklearn.preprocessing import StandardScaler, MinMaxScaler\n",
    "from sklearn.impute import SimpleImputer\n",
    "from scipy import stats\n",
    "import logging\n",
    "import time\n",
    "from rich.console import Console\n",
    "import seaborn as sns\n",
    "import matplotlib.pyplot as plt\n",
    "import ipywidgets as widgets\n",
    "from IPython.display import display, HTML\n",
    "\n",
    "# Configuración de logging\n",
    "logging.basicConfig(filename='data_processing.log', level=logging.INFO, format='%(asctime)s - %(levelname)s - %(message)s')\n",
    "console = Console()\n",
    "\n",
    "# Estilo global para HTML\n",
    "estilo_global = \"\"\"\n",
    "<style>\n",
    "    .custom-menu {\n",
    "        background-color: #f0f0f0;\n",
    "        border: 1px solid #d0d0d0;\n",
    "        border-radius: 5px;\n",
    "        padding: 15px;\n",
    "        margin-bottom: 10px;\n",
    "        font-family: Arial, sans-serif;\n",
    "    }\n",
    "    .info-box, .info-box-error, .info-box-success, .info-box-warning {\n",
    "        border-radius: 5px;\n",
    "        padding: 10px;\n",
    "        margin: 10px 0;\n",
    "        font-size: 16px;\n",
    "    }\n",
    "    .info-box {\n",
    "        background-color: #E8F5E9;\n",
    "        border-left: 5px solid #4CAF50;\n",
    "    }\n",
    "    .info-box-error {\n",
    "        background-color: #FDECEA;\n",
    "        border-left: 5px solid #F44336;\n",
    "    }\n",
    "    .info-box-success {\n",
    "        background-color: #E0F7FA;\n",
    "        border-left: 5px solid #00ACC1;\n",
    "    }\n",
    "    .info-box-warning {\n",
    "        background-color: #FFF3E0;\n",
    "        border-left: 5px solid #FF9800;\n",
    "    }\n",
    "</style>\n",
    "\"\"\"\n",
    "display(HTML(estilo_global))\n",
    "\n",
    "# Función para mostrar notificaciones\n",
    "def mostrar_notificacion(mensaje, tipo='info'):\n",
    "    colores = {'info': '#2196F3', 'success': '#4CAF50', 'error': '#F44336'}\n",
    "    color = colores.get(tipo, '#2196F3')\n",
    "    display(HTML(f\"<div style='background-color: {color}; padding: 10px; border-radius: 5px; color: white;'>{mensaje}</div>\"))\n",
    "\n",
    "# Clase para el preprocesador\n",
    "class Preprocesador:\n",
    "    def __init__(self, categorical_columns=['region', 'product'], logging_enabled=True):\n",
    "        self.categorical_columns = categorical_columns  # region y product se mantienen\n",
    "        self.logging_enabled = logging_enabled\n",
    "        self.start_time_total = None\n",
    "\n",
    "    def log(self, message, level=\"info\"):\n",
    "        if self.logging_enabled:\n",
    "            getattr(logging, level)(message)\n",
    "        console.print(message)\n",
    "\n",
    "    def iniciar_proceso(self):\n",
    "        self.start_time_total = time.time()\n",
    "        mostrar_notificacion(\"⚙️ Iniciando el preprocesamiento de datos...\", 'info')\n",
    "        self.log(\"Inicio del preprocesamiento de datos.\", \"info\")\n",
    "\n",
    "    def finalizar_proceso(self):\n",
    "        total_time = time.time() - self.start_time_total\n",
    "        mostrar_notificacion(f\"Proceso completado en {total_time:.2f} segundos.\", 'success')\n",
    "        self.log(f\"Proceso completado en {total_time:.2f} segundos.\", \"info\")\n",
    "\n",
    "    # Función para mostrar estadísticas del DataFrame\n",
    "    def mostrar_informacion_dataframe(self, dfs):\n",
    "        duplicados = dfs.duplicated().sum()\n",
    "        info_html = f\"\"\"\n",
    "        <div style=\"border: 2px solid #4CAF50; border-radius: 8px; padding: 10px; margin-bottom: 10px;\">\n",
    "            <h2 style=\"color: #2E7D32;\">📊 Información del DataFrame</h2>\n",
    "            <ul style=\"color: #4CAF50; font-size: 16px; list-style-type: none;\">\n",
    "                <li><strong>Número de filas:</strong> {dfs.shape[0]}</li>\n",
    "                <li><strong>Número de columnas:</strong> {dfs.shape[1]}</li>\n",
    "                <li><strong>Número de duplicados:</strong> {duplicados}</li>\n",
    "            </ul>\n",
    "        </div>\n",
    "        \"\"\"\n",
    "        display(HTML(info_html))\n",
    "\n",
    "    # Función para eliminar duplicados\n",
    "    def eliminar_duplicados(self, dfs):\n",
    "        dfs = dfs.drop_duplicates()\n",
    "        self.log(f\"Duplicados eliminados. Filas restantes: {dfs.shape[0]}\", \"info\")\n",
    "        mostrar_notificacion(f\"Duplicados eliminados. Filas restantes: {dfs.shape[0]}\", 'info')\n",
    "        return dfs\n",
    "\n",
    "    # Función para manejar valores nulos\n",
    "    def manejar_nan_y_cero(self, dfs, metodo_imputacion):\n",
    "        imputador = SimpleImputer(strategy=metodo_imputacion)\n",
    "        numeric_cols = dfs.select_dtypes(include=[np.number]).columns.difference(self.categorical_columns)\n",
    "        dfs[numeric_cols] = imputador.fit_transform(dfs[numeric_cols])\n",
    "        self.log(f\"Valores nulos imputados utilizando {metodo_imputacion}.\", \"info\")\n",
    "        mostrar_notificacion(f\"Valores nulos imputados utilizando {metodo_imputacion}.\", 'info')\n",
    "        return dfs\n",
    "\n",
    "    # Función para manejar outliers\n",
    "    def manejar_outliers(self, dfs, metodo='iqr'):\n",
    "        numeric_columns = dfs.select_dtypes(include=[np.number]).columns.difference(self.categorical_columns)\n",
    "        if metodo == 'zscore':\n",
    "            z_scores = np.abs(stats.zscore(dfs[numeric_columns]))\n",
    "            dfs = dfs[(z_scores < 3).all(axis=1)]\n",
    "        elif metodo == 'iqr':\n",
    "            Q1 = dfs[numeric_columns].quantile(0.25)\n",
    "            Q3 = dfs[numeric_columns].quantile(0.75)\n",
    "            IQR = Q3 - Q1\n",
    "            dfs = dfs[~((dfs[numeric_columns] < (Q1 - 1.5 * IQR)) | (dfs[numeric_columns] > (Q3 + 1.5 * IQR))).any(axis=1)]\n",
    "        self.log(f\"Outliers eliminados utilizando {metodo}.\", \"info\")\n",
    "        mostrar_notificacion(f\"Outliers eliminados utilizando {metodo}.\", 'info')\n",
    "        return dfs\n",
    "\n",
    "    # Función para estandarizar datos\n",
    "    def estandarizar_datos(self, dfs, metodo='standard'):\n",
    "        numeric_columns = dfs.select_dtypes(include=[np.number]).columns.difference(self.categorical_columns)\n",
    "        scaler = MinMaxScaler() if metodo == 'minmax' else StandardScaler()\n",
    "        dfs[numeric_columns] = scaler.fit_transform(dfs[numeric_columns])\n",
    "        self.log(f\"Datos estandarizados con el método {metodo}.\", \"info\")\n",
    "        mostrar_notificacion(f\"Datos estandarizados utilizando {metodo}.\", 'info')\n",
    "        return dfs\n",
    "\n",
    "    # Función para mostrar gráficos de correlación y distribución\n",
    "    def mostrar_graficos(self, dfs):\n",
    "        display(HTML(f\"<h3 style='color: #FF9800;'>📊 Mapa de Calor de Correlaciones</h3>\"))\n",
    "        corr = dfs.corr()\n",
    "        sns.heatmap(corr, annot=True, cmap=\"coolwarm\", fmt=\".2f\")\n",
    "        plt.title(\"Mapa de calor de correlaciones\")\n",
    "        plt.show()\n",
    "\n",
    "        display(HTML(f\"<h3 style='color: #03A9F4;'>📊 Distribuciones de Variables Numéricas</h3>\"))\n",
    "        dfs.hist(bins=30, figsize=(10, 8), color='#4CAF50')\n",
    "        plt.suptitle(\"Distribución de variables numéricas\", fontsize=16)\n",
    "        plt.show()\n",
    "\n",
    "    # Función para unir DataFrames\n",
    "    def unir_dataframes(self, dfs_list, metodo_unificacion):\n",
    "        try:\n",
    "            if metodo_unificacion == 'Vertical':\n",
    "                dfs_unido = pd.concat(dfs_list, axis=0, ignore_index=True)\n",
    "                self.log(\"DataFrames unidos exitosamente en vertical.\", \"info\")\n",
    "            elif metodo_unificacion == 'Horizontal':\n",
    "                dfs_unido = pd.concat(dfs_list, axis=1)\n",
    "                self.log(\"DataFrames unidos exitosamente en horizontal.\", \"info\")\n",
    "\n",
    "            # Eliminar la columna 'id' pero mantener 'region' y 'product'\n",
    "            dfs_unido = dfs_unido.drop(columns=['id'], errors='ignore')\n",
    "            self.log(\"Columna 'id' eliminada.\", \"info\")\n",
    "            return dfs_unido\n",
    "        except Exception as e:\n",
    "            manejar_excepciones(e, \"Error al unir los DataFrames\")\n",
    "            return None\n",
    "\n",
    "    # Preprocesamiento general\n",
    "    def preprocesar_dataframe(self, metodo_imputacion, metodo_estandarizacion, metodo_outliers, dfs_list, metodo_unificacion):\n",
    "        self.iniciar_proceso()\n",
    "        \n",
    "        # Unir DataFrames según el método de unificación seleccionado\n",
    "        dfs = self.unir_dataframes(dfs_list, metodo_unificacion)\n",
    "        \n",
    "        # Mostrar la información básica del DataFrame\n",
    "        self.mostrar_informacion_dataframe(dfs)\n",
    "        \n",
    "        # Eliminar duplicados\n",
    "        dfs = self.eliminar_duplicados(dfs)\n",
    "        \n",
    "        # Manejar valores nulos con el método de imputación seleccionado\n",
    "        dfs = self.manejar_nan_y_cero(dfs, metodo_imputacion)\n",
    "        \n",
    "        # Manejar outliers utilizando el método seleccionado (zscore o IQR)\n",
    "        dfs = self.manejar_outliers(dfs, metodo=metodo_outliers)\n",
    "        \n",
    "        # Estandarizar los datos utilizando el método seleccionado (standard o minmax)\n",
    "        dfs = self.estandarizar_datos(dfs, metodo=metodo_estandarizacion)\n",
    "        \n",
    "        # Mostrar gráficos de correlación y distribución\n",
    "        self.mostrar_graficos(dfs)\n",
    "        \n",
    "        # Finalizar el proceso y mostrar el tiempo de ejecución\n",
    "        self.finalizar_proceso()\n",
    "        \n",
    "        return dfs  # Devolver el DataFrame procesado\n",
    "\n",
    "# Widgets adicionales para el separador\n",
    "separador = widgets.RadioButtons(\n",
    "    options=[('Coma (,)', ','), ('Tabulación (\\\\t)', '\\t'), ('Punto y coma (;)', ';'), ('Espacio ( )', ' '), ('Otro', 'otro')],\n",
    "    value=',',\n",
    "    description='Separador:',\n",
    "    layout=widgets.Layout(width='400px')\n",
    ")\n",
    "\n",
    "otro_separador = widgets.Text(\n",
    "    value='',\n",
    "    placeholder='Especificar otro separador',\n",
    "    description='Otro Separador:',\n",
    "    layout=widgets.Layout(width='400px'),\n",
    "    disabled=True\n",
    ")\n",
    "\n",
    "# Mostrar otro separador si el usuario selecciona \"Otro\"\n",
    "def actualizar_separador(*args):\n",
    "    if separador.value == 'otro':\n",
    "        otro_separador.disabled = False\n",
    "    else:\n",
    "        otro_separador.disabled = True\n",
    "\n",
    "separador.observe(actualizar_separador, 'value')\n",
    "\n",
    "# Widgets adicionales para los métodos de preprocesamiento\n",
    "metodo_imputacion = widgets.Dropdown(\n",
    "    options=['mean', 'median', 'most_frequent', 'constant'],\n",
    "    value='median',\n",
    "    description='Método de Imputación:',\n",
    "    style={'description_width': 'initial'},\n",
    "    layout=widgets.Layout(width='400px')\n",
    ")\n",
    "\n",
    "metodo_estandarizacion = widgets.Dropdown(\n",
    "    options=['standard', 'minmax'],\n",
    "    value='standard',\n",
    "    description='Método de Estandarización:',\n",
    "    style={'description_width': 'initial'},\n",
    "    layout=widgets.Layout(width='400px')\n",
    ")\n",
    "\n",
    "metodo_outliers = widgets.Dropdown(\n",
    "    options=['zscore', 'iqr'],\n",
    "    value='iqr',\n",
    "    description='Método para Outliers:',\n",
    "    style={'description_width': 'initial'},\n",
    "    layout=widgets.Layout(width='400px')\n",
    ")\n",
    "\n",
    "# Widget para unificación de DataFrames\n",
    "metodo_unificacion = widgets.RadioButtons(\n",
    "    options=['Vertical', 'Horizontal'],\n",
    "    value='Vertical',\n",
    "    description='Método de Unificación:',\n",
    "    style={'description_width': 'initial'},\n",
    "    layout=widgets.Layout(width='400px')\n",
    ")\n",
    "\n",
    "# Campo para valor constante (solo aplicable si se selecciona 'constant' en imputación)\n",
    "valor_constante = widgets.FloatText(\n",
    "    value=0.0,\n",
    "    description='Valor Constante:',\n",
    "    layout=widgets.Layout(width='400px'),\n",
    "    disabled=True\n",
    ")\n",
    "\n",
    "# Función para habilitar/deshabilitar el valor constante según la imputación seleccionada\n",
    "def actualizar_valor_constante(*args):\n",
    "    valor_constante.disabled = metodo_imputacion.value != 'constant'\n",
    "\n",
    "metodo_imputacion.observe(actualizar_valor_constante, 'value')\n",
    "\n",
    "# Botón para ejecutar el preprocesamiento\n",
    "boton_ejecutar = widgets.Button(\n",
    "    description=\"🚀 Ejecutar Preprocesamiento\",\n",
    "    button_style='success',\n",
    "    layout=widgets.Layout(width='400px')\n",
    ")\n",
    "\n",
    "# Función para manejar el clic en el botón de ejecución\n",
    "def on_button_clicked(b):\n",
    "    try:\n",
    "        global df_0, df_1, df_2, dfs\n",
    "        # Verificar que los DataFrames estén cargados\n",
    "        if 'df_0' in globals() and 'df_1' in globals() and 'df_2' in globals():\n",
    "            # Agregar la columna 'region' a cada DataFrame\n",
    "            df_0['region'] = 'Region 0'\n",
    "            df_1['region'] = 'Region 1'\n",
    "            df_2['region'] = 'Region 2'\n",
    "            \n",
    "            preprocesador = Preprocesador()\n",
    "            dfs = preprocesador.preprocesar_dataframe(\n",
    "                metodo_imputacion=metodo_imputacion.value,\n",
    "                metodo_estandarizacion=metodo_estandarizacion.value,\n",
    "                metodo_outliers=metodo_outliers.value,\n",
    "                dfs_list=[df_0, df_1, df_2],\n",
    "                metodo_unificacion=metodo_unificacion.value\n",
    "            )\n",
    "            console.print(\"[bold green]✅ Preprocesamiento completado exitosamente.[/bold green]\")\n",
    "        else:\n",
    "            mostrar_notificacion(\"Error: Los DataFrames no están cargados correctamente.\", 'error')\n",
    "    except Exception as e:\n",
    "        logging.error(f\"❌ Error durante la ejecución del preprocesamiento: {str(e)}\")\n",
    "        console.print(f\"[bold red]❌ Error durante la ejecución del preprocesamiento: {str(e)}[/bold red]\")\n",
    "\n",
    "# Asignar la función al botón de ejecución\n",
    "boton_ejecutar.on_click(on_button_clicked)\n",
    "\n",
    "# Mostrar los widgets\n",
    "display(widgets.VBox([metodo_imputacion, metodo_estandarizacion, metodo_outliers, valor_constante, separador, otro_separador, metodo_unificacion, boton_ejecutar]))\n",
    "\n",
    "# Instrucción adicional que explica lo que hace\n",
    "display(HTML(\"<p style='color: blue;'>Este proceso unirá los DataFrames cargados y aplicará el preprocesamiento seleccionado \"\n",
    "             \"(manejo de nulos, estandarización, outliers), mostrando gráficos y estadísticas detalladas.</p>\"))\n",
    "\n"
   ]
  },
  {
   "cell_type": "markdown",
   "metadata": {},
   "source": [
    "<!-- Título Principal -->\n",
    "<div style=\"background-color:#E8F5E9; padding: 20px; border-radius: 8px; font-family: Arial, sans-serif; font-size: 16px; color: #4CAF50; line-height: 1.6;\">\n",
    "  <h4 style=\"color: #388E3C; font-size: 24px;\">Preprocesamiento de Datos y Análisis Exploratorio 📊</h4>\n",
    "  <p style=\"font-size: 18px; color: #2E7D32;\">Este informe describe los pasos clave en el preprocesamiento de datos y análisis exploratorio realizado para asegurar la calidad del conjunto de datos y preparar el modelo.</p>\n",
    "</div>\n",
    "\n",
    "<!-- Configuración del Proceso -->\n",
    "<div style=\"background-color:#F1F8E9; padding: 20px; border-radius: 8px; font-family: Arial, sans-serif; font-size: 16px; color: #4CAF50; line-height: 1.6; margin-top: 20px;\">\n",
    "  <h4 style=\"color: #2E7D32;\">⚙️ Configuración del Proceso de Preprocesamiento</h4>\n",
    "  <ul style=\"color: #388E3C;\">\n",
    "    <li><strong>Método de Imputación:</strong> Mediana</li>\n",
    "    <li><strong>Método de Estandarización:</strong> StandardScaler</li>\n",
    "    <li><strong>Detección de Outliers:</strong> Método IQR</li>\n",
    "    <li><strong>Separador utilizado:</strong> Coma (`,`)</li>\n",
    "    <li><strong>Método de Unificación:</strong> Vertical</li>\n",
    "  </ul>\n",
    "</div>\n",
    "\n",
    "<!-- Detalles del Preprocesamiento -->\n",
    "<div style=\"background-color:#E3F2FD; padding: 20px; border-radius: 8px; font-family: Arial, sans-serif; font-size: 16px; color: #4CAF50; line-height: 1.6; margin-top: 20px;\">\n",
    "  <h4 style=\"color: #2E7D32;\">📋 Detalles del Preprocesamiento</h4>\n",
    "  <ul style=\"color: #388E3C;\">\n",
    "    <li><strong>Unión de DataFrames:</strong> DataFrames combinados verticalmente y la columna <code>'id'</code> eliminada.</li>\n",
    "    <li><strong>Eliminación de Duplicados:</strong> Se identificaron y eliminaron duplicados, resultando en 300,000 filas sin duplicados.</li>\n",
    "    <li><strong>Imputación de Valores Nulos:</strong> Los valores nulos fueron imputados utilizando la mediana para asegurar que las distribuciones de los datos no se vieran distorsionadas.</li>\n",
    "    <li><strong>Eliminación de Outliers:</strong> Se utilizaron los valores intercuartílicos (IQR) para identificar y eliminar los outliers.</li>\n",
    "    <li><strong>Estandarización de Variables:</strong> Las variables numéricas se escalaron mediante StandardScaler.</li>\n",
    "  </ul>\n",
    "</div>\n",
    "\n",
    "<!-- Mapa de Calor de Correlaciones -->\n",
    "<div style=\"background-color:#FFF3E0; padding: 20px; border-radius: 8px; font-family: Arial, sans-serif; font-size: 16px; color: #4CAF50; line-height: 1.6; margin-top: 20px;\">\n",
    "  <h4 style=\"color: #2E7D32;\">📊 Mapa de Calor de Correlaciones</h4>\n",
    "  <p>El siguiente mapa de calor muestra las correlaciones entre las variables clave, lo que nos ayuda a identificar relaciones lineales y posibles multicolinealidades.</p>\n",
    "  <!-- Aquí se describe el gráfico sin incluir imágenes referenciadas -->\n",
    "  <p>El mapa de calor revela una correlación moderada entre la variable `f2` y `product` (0.47), mientras que otras variables no presentan correlaciones significativas.</p>\n",
    "</div>\n",
    "\n",
    "<!-- Distribuciones de Variables Numéricas -->\n",
    "<div style=\"background-color:#FCE4EC; padding: 20px; border-radius: 8px; font-family: Arial, sans-serif; font-size: 16px; color: #4CAF50; line-height: 1.6; margin-top: 20px;\">\n",
    "  <h4 style=\"color: #2E7D32;\">📈 Distribución de Variables Numéricas</h4>\n",
    "  <p>Las distribuciones de las variables numéricas procesadas se presentan a continuación, lo que nos permite verificar la normalización y posibles anomalías.</p>\n",
    "  <!-- Aquí se describe el gráfico sin incluir imágenes referenciadas -->\n",
    "  <p>Los histogramas muestran que las variables `f0`, `f1`, `f2` tienen distribuciones cercanas a la normal después de la estandarización, mientras que `product` presenta una distribución multimodal.</p>\n",
    "</div>\n",
    "\n",
    "<!-- Tiempo de Ejecución -->\n",
    "<div style=\"background-color:#E8F5E9; padding: 20px; border-radius: 8px; font-family: Arial, sans-serif; font-size: 16px; color: #4CAF50; line-height: 1.6; margin-top: 20px;\">\n",
    "  <h4 style=\"color: #2E7D32;\">🕒 Tiempo de Ejecución</h4>\n",
    "  <p>El proceso de preprocesamiento se completó exitosamente en <strong>1.16 segundos</strong>, reflejando la eficiencia del pipeline implementado.</p>\n",
    "</div>\n",
    "\n",
    "<!-- Conclusión -->\n",
    "<div style=\"background-color:#E8F5E9; padding: 20px; border-radius: 8px; font-family: Arial, sans-serif; font-size: 16px; color: #4CAF50; line-height: 1.6; margin-top: 20px;\">\n",
    "  <h4 style=\"color: #2E7D32;\">✅ Conclusión</h4>\n",
    "  <p>El preprocesamiento ha sido completado exitosamente, garantizando la calidad de los datos para su uso en los modelos predictivos. Se han imputado valores nulos, eliminado duplicados y outliers, y se ha realizado la estandarización de las variables numéricas.</p>\n",
    "</div>\n"
   ]
  },
  {
   "cell_type": "markdown",
   "metadata": {},
   "source": [
    "<div class=\"alert alert-block alert-danger\">\n",
    "<b>Comentario del revisor</b> <a class=\"tocSkip\"></a>\n",
    "    \n",
    "Aca puedes estar generando NaNs de forma innecesaria. Las regiones y los ids no tienen que ver uno con otros, tambien podria haber diferentes cantidades de datos por archivo. Si quieres tener todo en un solo dataframe, es mejor añadir las filas hacia abajo y crear una nueva columna que indique la region\n",
    "</div>\n"
   ]
  },
  {
   "cell_type": "markdown",
   "metadata": {
    "ExecuteTime": {
     "end_time": "2024-08-19T20:15:43.037057Z",
     "start_time": "2024-08-19T20:15:43.010164Z"
    }
   },
   "source": [
    "<div class=\"alert alert-block alert-info\">\n",
    "<b>Respuesta del estudiante</b> <a class=\"tocSkip\"></a>\n",
    "</div>\n"
   ]
  },
  {
   "cell_type": "markdown",
   "metadata": {},
   "source": [
    "<!-- Análisis Exploratorio de Datos (EDA) -->\n",
    "<div style='background-color: #E8F5E9; padding: 20px; border-radius: 8px; font-family: Arial, sans-serif; font-size: 16px; color: #4CAF50; line-height: 1.6;'>\n",
    "\n",
    "  <!-- Título principal -->\n",
    "  <h1 style='color: #388E3C; font-size: 28px;'>📊 Análisis Exploratorio de Datos (EDA)</h1>\n",
    "\n",
    "  <!-- Introducción -->\n",
    "  <h3 style='color: #2E7D32; font-size: 22px;'>📈 Análisis Estadístico</h3>\n",
    "  <p style='text-align: justify;'>En esta sección, se implementan diversas técnicas de análisis estadístico para explorar el DataFrame. A través de estas funciones, se pueden generar estadísticas descriptivas, identificar valores atípicos, verificar supuestos estadísticos, analizar correlaciones y realizar pruebas estadísticas clave.</p>\n",
    "\n",
    "  <!-- Lista de funciones clave -->\n",
    "  <ul style='list-style-type: none; padding-left: 0; color: #388E3C;'>\n",
    "    <li>🔍 <strong>Generación de estadísticas descriptivas:</strong> Resumen estadístico de las variables del DataFrame.</li>\n",
    "    <li>⚠️ <strong>Manejo de valores nulos:</strong> Identificación e imputación de valores faltantes.</li>\n",
    "    <li>📊 <strong>Detección de outliers:</strong> Identificación de valores atípicos utilizando el método del IQR.</li>\n",
    "    <li>📉 <strong>Verificación de normalidad:</strong> Pruebas de Kolmogorov-Smirnov para verificar la normalidad de las columnas numéricas.</li>\n",
    "    <li>🧮 <strong>Homogeneidad de varianza:</strong> Pruebas de Bartlett para comprobar la homogeneidad de la varianza.</li>\n",
    "    <li>🔗 <strong>Análisis de correlación:</strong> Cálculo de la matriz de correlación entre las variables numéricas.</li>\n",
    "    <li>📋 <strong>Análisis de varianza (ANOVA):</strong> Evaluación de las diferencias entre grupos categóricos y numéricos.</li>\n",
    "    <li>📐 <strong>Análisis de regresión lineal y logística:</strong> Evaluación de la relación entre variables dependientes e independientes.</li>\n",
    "    <li>🧬 <strong>Análisis de componentes principales (PCA):</strong> Reducción de dimensionalidad para simplificar el análisis.</li>\n",
    "    <li>🧠 <strong>Clustering (K-Means):</strong> Agrupación de datos en clústeres utilizando el algoritmo K-Means.</li>\n",
    "  </ul>\n",
    "\n",
    "</div>\n",
    "\n",
    "<!-- Ventajas del Análisis Estadístico -->\n",
    "<div style='background-color: #E8F5E9; padding: 20px; border-radius: 8px; font-family: Arial, sans-serif; font-size: 16px; color: #4CAF50; line-height: 1.6; margin-top: 20px;'>\n",
    "\n",
    "  <h4 style='color: #2E7D32; font-size: 20px;'>🎯 Ventajas del Análisis Estadístico</h4>\n",
    "  <ul style='list-style-type: none; padding-left: 0;'>\n",
    "    <li>💡 <strong>Detección de patrones:</strong> Identifica relaciones y patrones ocultos entre variables para mejorar la toma de decisiones.</li>\n",
    "    <li>🧹 <strong>Manejo de datos faltantes:</strong> Asegura la integridad del análisis imputando correctamente los valores faltantes.</li>\n",
    "    <li>📊 <strong>Identificación de outliers:</strong> Detecta valores extremos que podrían distorsionar los resultados y modelos.</li>\n",
    "    <li>📏 <strong>Evaluación de supuestos:</strong> Verifica la normalidad y homogeneidad de varianza, fundamentales para pruebas estadísticas.</li>\n",
    "    <li>📉 <strong>Reducción de dimensionalidad:</strong> Simplifica el análisis mediante técnicas como PCA e ICA, lo que optimiza la eficiencia.</li>\n",
    "    <li>🚀 <strong>Automatización del análisis:</strong> Funciones que permiten automatizar el proceso y acelerar el análisis estadístico.</li>\n",
    "    <li>📊 <strong>Visualización efectiva de datos:</strong> Gráficos interactivos que permiten una mejor interpretación y comunicación de los resultados.</li>\n",
    "  </ul>\n",
    "\n",
    "</div>\n"
   ]
  },
  {
   "cell_type": "code",
   "execution_count": 5,
   "metadata": {
    "scrolled": true
   },
   "outputs": [
    {
     "name": "stdout",
     "output_type": "stream",
     "text": [
      "Error: La variable 'dfs' no está definida. Debe ejecutar las celdas anteriores en orden.\n",
      "Ocurrió un error inesperado: name 'dfs' is not defined\n"
     ]
    }
   ],
   "source": [
    "import pandas as pd\n",
    "import matplotlib.pyplot as plt\n",
    "import seaborn as sns\n",
    "import time\n",
    "from tqdm import tqdm  # Asegúrate de importar tqdm\n",
    "from IPython.display import display, clear_output, HTML\n",
    "import ipywidgets as widgets\n",
    "\n",
    "# Clase para manejar errores y excepciones\n",
    "class ErrorManejo:\n",
    "    @staticmethod\n",
    "    def manejar_excepciones(func):\n",
    "        def wrapper(*args, **kwargs):\n",
    "            try:\n",
    "                return func(*args, **kwargs)\n",
    "            except KeyError as e:\n",
    "                print(f\"Error: La columna {e} no existe en el DataFrame.\")\n",
    "            except ValueError as e:\n",
    "                print(f\"Error de valor: {e}\")\n",
    "            except Exception as e:\n",
    "                print(f\"Ocurrió un error inesperado: {e}\")\n",
    "        return wrapper\n",
    "\n",
    "# Clase para visualización de datos\n",
    "class Visualizador:\n",
    "    def __init__(self, dfs):\n",
    "        if not isinstance(dfs, pd.DataFrame):\n",
    "            raise ValueError(\"El argumento dfs debe ser un DataFrame de pandas.\")\n",
    "        self.dfs = dfs\n",
    "\n",
    "    @ErrorManejo.manejar_excepciones\n",
    "    def generar_grafico_con_progreso(self, tipo, x=None, y=None, hue=None, title=None, xlabel=None, ylabel=None, figsize=(12, 6)):\n",
    "        plt.close('all')  # Cierra todas las figuras activas\n",
    "        plt.figure(figsize=figsize)\n",
    "        with tqdm(total=100, desc=f\"Generando gráfico {tipo}\", colour='blue') as pbar:\n",
    "            start_time = time.time()\n",
    "\n",
    "            # Selección del tipo de gráfico\n",
    "            if tipo == 'line':\n",
    "                sns.lineplot(data=self.dfs, x=x, y=y, hue=hue)\n",
    "            elif tipo == 'bar':\n",
    "                sns.barplot(data=self.dfs, x=x, y=y, hue=hue)\n",
    "            elif tipo == 'scatter':\n",
    "                sns.scatterplot(data=self.dfs, x=x, y=y, hue=hue)\n",
    "            elif tipo == 'box':\n",
    "                sns.boxplot(data=self.dfs, x=x, y=y, hue=hue)\n",
    "            elif tipo == 'hist':\n",
    "                sns.histplot(data=self.dfs, x=x, bins=30, kde=True)\n",
    "            elif tipo == 'kde':\n",
    "                sns.kdeplot(data=self.dfs, x=x, hue=hue, fill=True)\n",
    "            elif tipo == 'violin':\n",
    "                sns.violinplot(data=self.dfs, x=x, y=y, hue=hue)\n",
    "            elif tipo == 'heatmap':\n",
    "                sns.heatmap(data=self.dfs.corr(), annot=True, cmap='coolwarm')\n",
    "            elif tipo == 'pairplot':\n",
    "                sns.pairplot(self.dfs, hue=hue)\n",
    "\n",
    "            plt.title(title)\n",
    "            plt.xlabel(xlabel)\n",
    "            plt.ylabel(ylabel)\n",
    "            plt.grid(True)\n",
    "            plt.show()\n",
    "\n",
    "            pbar.update(100)\n",
    "            elapsed_time = time.time() - start_time\n",
    "            print(f\"Tiempo en generar gráfico {tipo}: {elapsed_time:.2f} segundos\")\n",
    "\n",
    "    @ErrorManejo.manejar_excepciones\n",
    "    def interactivo_grafico(self):\n",
    "        opciones_grafico = [\n",
    "            'line', 'bar', 'scatter', 'box', 'hist', 'kde', 'violin', \n",
    "            'heatmap', 'pairplot'\n",
    "        ]\n",
    "        columnas = self.dfs.columns.tolist() if isinstance(self.dfs, pd.DataFrame) else []\n",
    "\n",
    "        # Configuraciones por defecto\n",
    "        tipo_grafico = widgets.Dropdown(\n",
    "            options=opciones_grafico,\n",
    "            value='hist',\n",
    "            description='Tipo de gráfico:',\n",
    "            style={'description_width': 'initial'},\n",
    "            layout=widgets.Layout(width='400px')\n",
    "        )\n",
    "\n",
    "        columna_x = widgets.Dropdown(\n",
    "            options=columnas,\n",
    "            value='region' if 'region' in columnas else columnas[0],\n",
    "            description='Columna X:',\n",
    "            style={'description_width': 'initial'},\n",
    "            layout=widgets.Layout(width='400px')\n",
    "        )\n",
    "\n",
    "        columna_y = widgets.Dropdown(\n",
    "            options=[None] + columnas,\n",
    "            value='product' if 'product' in columnas else None,\n",
    "            description='Columna Y:',\n",
    "            style={'description_width': 'initial'},\n",
    "            layout=widgets.Layout(width='400px')\n",
    "        )\n",
    "\n",
    "        titulo = widgets.Text(\n",
    "            value='Producto vs region',\n",
    "            description='Título:',\n",
    "            style={'description_width': 'initial'},\n",
    "            layout=widgets.Layout(width='400px')\n",
    "        )\n",
    "\n",
    "        hue = widgets.Dropdown(\n",
    "            options=[None] + columnas,\n",
    "            value=None,\n",
    "            description='Hue:',\n",
    "            style={'description_width': 'initial'},\n",
    "            layout=widgets.Layout(width='400px')\n",
    "        )\n",
    "\n",
    "        save_button = widgets.Button(\n",
    "            description='Guardar Gráfico',\n",
    "            button_style='info',\n",
    "            layout=widgets.Layout(width='400px')\n",
    "        )\n",
    "\n",
    "        clear_button = widgets.Button(\n",
    "            description='Limpiar Gráfico',\n",
    "            button_style='warning',\n",
    "            layout=widgets.Layout(width='400px')\n",
    "        )\n",
    "\n",
    "        def actualizar_columna_y(*args):\n",
    "            if tipo_grafico.value in ['heatmap', 'pairplot']:\n",
    "                columna_y.disabled = True\n",
    "                columna_y.value = None\n",
    "            else:\n",
    "                columna_y.disabled = False\n",
    "\n",
    "        tipo_grafico.observe(actualizar_columna_y, 'value')\n",
    "\n",
    "        def ejecutar_analisis(b):\n",
    "            try:\n",
    "                clear_output(wait=True)\n",
    "                display(widgets.VBox([tipo_grafico, columna_x, columna_y, titulo, hue, button, save_button, clear_button]))\n",
    "                self.plot_wrapper(tipo_grafico.value, columna_x.value, columna_y.value, titulo.value, hue.value)\n",
    "            except Exception as e:\n",
    "                print(f\"Ocurrió un error inesperado al crear el gráfico interactivo: {e}\")\n",
    "\n",
    "        def guardar_grafico(b):\n",
    "            file_path = f\"{titulo.value.replace(' ', '_')}.png\" if titulo.value else \"grafico.png\"\n",
    "            plt.savefig(file_path)\n",
    "            print(f\"Gráfico guardado como: {file_path}\")\n",
    "\n",
    "        def limpiar_grafico(b):\n",
    "            plt.close('all')\n",
    "            clear_output(wait=True)\n",
    "            display(widgets.VBox([tipo_grafico, columna_x, columna_y, titulo, hue, button, save_button, clear_button]))\n",
    "            display(HTML(\"<div style='color: red; font-size: 18px;'>Gráficos limpiados.</div>\"))\n",
    "\n",
    "        save_button.on_click(guardar_grafico)\n",
    "        clear_button.on_click(limpiar_grafico)\n",
    "        button = widgets.Button(\n",
    "            description='Ejecutar Análisis',\n",
    "            button_style='success',\n",
    "            layout=widgets.Layout(width='400px')\n",
    "        )\n",
    "\n",
    "        button.on_click(ejecutar_analisis)\n",
    "\n",
    "        display(widgets.VBox([tipo_grafico, columna_x, columna_y, titulo, hue, button, save_button, clear_button]))\n",
    "\n",
    "    @ErrorManejo.manejar_excepciones\n",
    "    def plot_wrapper(self, tipo, x, y, title, hue):\n",
    "        if tipo in ['heatmap', 'pairplot']:\n",
    "            self.generar_grafico_con_progreso(tipo, x=x, hue=hue, title=title, xlabel=x, ylabel='', figsize=(12, 6))\n",
    "        else:\n",
    "            self.generar_grafico_con_progreso(tipo, x=x, y=y, hue=hue, title=title, xlabel=x, ylabel=y, figsize=(12, 6))\n",
    "\n",
    "# Verificar si dfs está definido y es un DataFrame\n",
    "if 'dfs' not in globals():\n",
    "    print(\"Error: La variable 'dfs' no está definida. Debe ejecutar las celdas anteriores en orden.\")\n",
    "elif not isinstance(dfs, pd.DataFrame):\n",
    "    print(\"Error: 'dfs' no es un DataFrame. Ejecute la celda correspondiente al procesamiento de DataFrame.\")\n",
    "else:\n",
    "    print(\"El panel interactivo ya está mostrado. No es necesario crear otro.\")\n",
    "\n",
    "# Uso de la clase Visualizador\n",
    "try:\n",
    "    visualizador = Visualizador(dfs)\n",
    "    visualizador.interactivo_grafico()\n",
    "except ValueError as e:\n",
    "    print(f\"Error: {e}\")\n",
    "    visualizador = Visualizador(pd.DataFrame())  # Crear un DataFrame vacío para mostrar el panel interactivo\n",
    "    visualizador.interactivo_grafico()\n",
    "except Exception as e:\n",
    "    print(f\"Ocurrió un error inesperado: {e}\")\n"
   ]
  },
  {
   "cell_type": "markdown",
   "metadata": {},
   "source": [
    "<!-- Preprocesamiento de Datos y Análisis Exploratorio -->\n",
    "<div style=\"background-color:#E8F5E9; padding: 20px; border-radius: 8px; font-family: Arial, sans-serif; font-size: 16px; color: #4CAF50; line-height: 1.6;\">\n",
    "  <h4 style=\"color: #388E3C; font-size: 24px;\">📊 Análisis Estadístico y Exploratorio de Datos (EDA)</h4>\n",
    "  <p style=\"font-size: 18px; color: #2E7D32;\">Este informe describe el análisis exploratorio realizado sobre las variables principales (`f0`, `f1`, `f2`, y `product`), enfocado en identificar relaciones importantes y diferencias en la producción de petróleo entre regiones.</p>\n",
    "</div>\n",
    "\n",
    "<!-- Configuración del Proceso de Análisis Estadístico -->\n",
    "<div style=\"background-color:#F1F8E9; padding: 20px; border-radius: 8px; font-family: Arial, sans-serif; font-size: 16px; color: #4CAF50; line-height: 1.6; margin-top: 20px;\">\n",
    "  <h4 style=\"color: #2E7D32;\">⚙️ Configuración del Proceso de Análisis Estadístico</h4>\n",
    "  <p>En este análisis, se abordaron varios aspectos clave del análisis exploratorio. Se utilizaron diferentes gráficos y técnicas estadísticas para profundizar en la relación entre las variables y las regiones productivas.</p>\n",
    "  <ul style=\"color: #388E3C;\">\n",
    "    <li><strong>Generación de gráficos:</strong> Se incluyeron gráficos de dispersión, boxplots, gráficos de violín y barras.</li>\n",
    "    <li><strong>Análisis de correlaciones:</strong> Mapa de calor para visualizar correlaciones entre variables clave.</li>\n",
    "    <li><strong>Distribución de variables:</strong> Histogramas y gráficos de densidad para entender las distribuciones numéricas.</li>\n",
    "    <li><strong>Evaluación de relaciones:</strong> Gráficos interactivos para analizar la variabilidad en la producción entre regiones.</li>\n",
    "  </ul>\n",
    "</div>\n",
    "\n",
    "<!-- Mapa de Calor de Correlaciones -->\n",
    "<div style=\"background-color:#FFF3E0; padding: 20px; border-radius: 8px; font-family: Arial, sans-serif; font-size: 16px; color: #4CAF50; line-height: 1.6; margin-top: 20px;\">\n",
    "  <h4 style=\"color: #2E7D32;\">📊 Mapa de Calor de Correlaciones</h4>\n",
    "  <p>El mapa de calor muestra las correlaciones entre las variables clave del conjunto de datos. La correlación más destacada es entre `f2` y `product` (0.47), lo que sugiere una relación moderada positiva. No se observaron correlaciones significativas en las otras variables.</p>\n",
    "</div>\n",
    "\n",
    "<!-- Distribución de Variables Numéricas -->\n",
    "<div style=\"background-color:#FCE4EC; padding: 20px; border-radius: 8px; font-family: Arial, sans-serif; font-size: 16px; color: #4CAF50; line-height: 1.6; margin-top: 20px;\">\n",
    "  <h4 style=\"color: #2E7D32;\">📈 Distribución de Variables Numéricas</h4>\n",
    "  <p>Las distribuciones numéricas para `f0`, `f1`, `f2` y `product` muestran diferencias significativas. Mientras que las variables `f0` y `f2` siguen distribuciones cercanas a la normal, `product` presenta una distribución multimodal, lo que sugiere varios grupos dentro de los datos.</p>\n",
    "</div>\n",
    "\n",
    "<!-- Visualización de Relaciones entre Variables -->\n",
    "<div style=\"background-color:#E3F2FD; padding: 20px; border-radius: 8px; font-family: Arial, sans-serif; font-size: 16px; color: #4CAF50; line-height: 1.6; margin-top: 20px;\">\n",
    "  <h4 style=\"color: #2E7D32;\">📊 Visualización de Relaciones entre Variables</h4>\n",
    "  <p>Los gráficos generados permiten observar cómo varía la producción de petróleo (`product`) entre las tres regiones:</p>\n",
    "  <ul style=\"color: #388E3C;\">\n",
    "    <li><strong>Gráfico de líneas:</strong> Muestra una diferencia clara en la producción entre regiones, siendo la Región 0 la más productiva.</li>\n",
    "    <li><strong>Gráfico de barras:</strong> Refleja la media de producción de petróleo en cada región, con la Región 1 en el valor más bajo.</li>\n",
    "    <li><strong>Boxplot:</strong> Representa la mediana, cuartiles y outliers, mostrando que la Región 0 tiene una mayor variabilidad en la producción.</li>\n",
    "    <li><strong>Gráfico de violín:</strong> Destaca la distribución en cada región, siendo las Regiones 0 y 2 las más variables.</li>\n",
    "  </ul>\n",
    "</div>\n",
    "\n",
    "<!-- Mapa de Calor de Correlaciones Detallado -->\n",
    "<div style=\"background-color:#FFF3E0; padding: 20px; border-radius: 8px; font-family: Arial, sans-serif; font-size: 16px; color: #4CAF50; line-height: 1.6; margin-top: 20px;\">\n",
    "  <h4 style=\"color: #2E7D32;\">📊 Mapa de Calor de Correlaciones Detallado</h4>\n",
    "  <p>El análisis del mapa de calor muestra que la correlación más relevante es entre `f2` y `product` (0.47), y que las otras variables presentan una correlación baja o nula. Esto sugiere que `f2` es un candidato importante para la modelización predictiva.</p>\n",
    "</div>\n",
    "\n",
    "<!-- Análisis de Relaciones Múltiples (Pairplot) -->\n",
    "<div style=\"background-color:#E3F2FD; padding: 20px; border-radius: 8px; font-family: Arial, sans-serif; font-size: 16px; color: #4CAF50; line-height: 1.6; margin-top: 20px;\">\n",
    "  <h4 style=\"color: #2E7D32;\">📊 Análisis de Relaciones Múltiples (Pairplot)</h4>\n",
    "  <p>Se generó un pairplot que permite observar las relaciones de dispersión entre pares de variables (`f0`, `f1`, `f2`, `product`). Este análisis facilita la detección de patrones entre las variables numéricas, ayudando a entender mejor su interacción.</p>\n",
    "</div>\n",
    "\n",
    "<!-- Conclusión -->\n",
    "<div style=\"background-color:#E8F5E9; padding: 20px; border-radius: 8px; font-family: Arial, sans-serif; font-size: 16px; color: #4CAF50; line-height: 1.6; margin-top: 20px;\">\n",
    "  <h4 style=\"color: #2E7D32;\">✅ Conclusión</h4>\n",
    "  <p>El análisis exploratorio de datos permitió identificar patrones clave en la producción de petróleo y su relación con las variables geológicas. La Región 0 sobresale por su mayor producción, mientras que `f2` parece ser una variable significativa en la predicción de la producción de petróleo. Estos hallazgos proporcionan información valiosa para futuras decisiones de modelado.</p>\n",
    "</div>\n"
   ]
  },
  {
   "cell_type": "markdown",
   "metadata": {},
   "source": [
    "##### Revisión 2"
   ]
  },
  {
   "cell_type": "markdown",
   "metadata": {},
   "source": [
    "<div class=\"alert alert-block alert-danger\">\n",
    "<b>Comentario del revisor</b> <a class=\"tocSkip\"></a>\n",
    "    \n",
    "que se observa del gráfico?\n",
    "</div>"
   ]
  },
  {
   "cell_type": "markdown",
   "metadata": {},
   "source": [
    "##### Revisión 1\n",
    "<div class=\"alert alert-block alert-info\">\n",
    "    \n",
    "<b>Respuesta del estudiante</b> \n",
    "    \n",
    " <a class=\"tocSkip\"></a>"
   ]
  },
  {
   "cell_type": "markdown",
   "metadata": {},
   "source": [
    "<div class=\"alert alert-block alert-success\">\n",
    "<b>Comentario del revisor</b> <a class=\"tocSkip\"></a>\n",
    "    \n",
    "**solucionado**    \n",
    "Por que es necesario equilibrar las clases? No tienes variables categoricas que debas checkear\n",
    "</div>\n"
   ]
  },
  {
   "cell_type": "markdown",
   "metadata": {
    "ExecuteTime": {
     "end_time": "2024-08-19T20:06:17.285097Z",
     "start_time": "2024-08-19T20:06:17.279905Z"
    }
   },
   "source": [
    "####  Revisión 1\n",
    "<div class=\"alert alert-block alert-info\">\n",
    "    \n",
    "<b>Respuesta del estudiante</b> \n",
    "    \n",
    " <a class=\"tocSkip\"></a>\n",
    "Agradezco su observación. Tras realizar una investigación más profunda, he llegado a la conclusión de que efectivamente no es necesario equilibrar las clases en este caso, dado que no existen variables categóricas que lo justifiquen. Aprecio su sugerencia, ya que me ha permitido refinar mi análisis y mejorar la precisión de mi trabajo.\n",
    "\n",
    "</div>"
   ]
  },
  {
   "cell_type": "markdown",
   "metadata": {},
   "source": [
    "<!-- 📊 Análisis Exploratorio de Datos (EDA) y Preprocesamiento -->\n",
    "<div style='background-color: #E8F5E9; padding: 20px; border-radius: 8px; font-family: Arial, sans-serif; font-size: 16px; color: #4CAF50; line-height: 1.6;'>\n",
    "\n",
    "  <!-- Título principal del EDA -->\n",
    "  <h3 style='color: #388E3C; font-size: 28px;'>📊 Análisis Exploratorio de Datos</h3>\n",
    "  \n",
    "  <!-- Descripción del análisis exploratorio -->\n",
    "  <h4 style='color: #2E7D32; font-size: 22px;'>🔍 Optimización de Datos y Visualización</h4>\n",
    "  <p style='text-align: justify;'>En esta sección, realizamos un análisis exploratorio exhaustivo de los datos para obtener una comprensión profunda de su estructura. El flujo de trabajo incluye los siguientes pasos clave:</p>\n",
    "  <ul style='list-style-type: none; padding-left: 0; color: #388E3C;'>\n",
    "    <li>📊 <strong>Visualización de Distribuciones:</strong> Identificación de patrones y relaciones entre variables clave.</li>\n",
    "    <li>🧠 <strong>Análisis de Componentes Principales (PCA):</strong> Reducción de dimensionalidad para capturar las relaciones más relevantes entre las variables.</li>\n",
    "    <li>🌍 <strong>Segmentación por Regiones:</strong> El análisis sugiere que las diferencias entre las regiones deben tenerse en cuenta en el modelado.</li>\n",
    "  </ul>\n",
    "</div>\n",
    "\n",
    "---\n",
    "\n",
    "<!-- 🔄 División de Datos para Modelado -->\n",
    "<div style='background-color: #E8F5E9; padding: 20px; border-radius: 8px; font-family: Arial, sans-serif; font-size: 16px; color: #4CAF50; line-height: 1.6;'>\n",
    "\n",
    "  <h4 style='color: #388E3C; font-size: 24px;'>🔄 División de Datos para Modelado</h4>\n",
    "  <h5 style='color: #2E7D32; font-size: 22px;'>📈 Entrenamiento y Validación de Modelos</h5>\n",
    "  <p style='text-align: justify;'>Se entrena un modelo de regresión lineal, junto con modelos Ridge y Lasso, para predecir el volumen de reservas de petróleo en los pozos. Se utiliza validación cruzada y métricas de error cuadrático medio (RMSE) para evaluar el rendimiento de los modelos.</p>\n",
    "</div>\n",
    "\n",
    "---\n",
    "\n",
    "<!-- 💰 Cálculo de Beneficio y Evaluación de Riesgos -->\n",
    "<div style='background-color: #E8F5E9; padding: 20px; border-radius: 8px; font-family: Arial, sans-serif; font-size: 16px; color: #4CAF50; line-height: 1.6;'>\n",
    "\n",
    "  <h4 style='color: #388E3C; font-size: 24px;'>💰 Evaluación de Beneficio y Riesgo</h4>\n",
    "  <h5 style='color: #2E7D32; font-size: 22px;'>🔍 Cálculo de Beneficios por Región</h5>\n",
    "  <p style='text-align: justify;'>Se seleccionan los pozos con mayores reservas estimadas en cada región para maximizar el beneficio, y se calcula el beneficio total para los 200 pozos con mayores reservas en cada región.</p>\n",
    "  <p style='text-align: justify;'>El cálculo del riesgo se realiza mediante la técnica de bootstrapping para evaluar la incertidumbre y la probabilidad de pérdidas.</p>\n",
    "</div>\n"
   ]
  },
  {
   "cell_type": "code",
   "execution_count": 6,
   "metadata": {},
   "outputs": [
    {
     "data": {
      "text/html": [
       "\n",
       "    <style>\n",
       "        body { font-family: Arial, sans-serif; color: #4CAF50; }\n",
       "        .titulo { font-size: 24px; font-weight: bold; color: #388E3C; }\n",
       "        .subtitulo { font-size: 20px; font-weight: bold; color: #2E7D32; }\n",
       "        .descripcion { font-size: 16px; color: #4CAF50; }\n",
       "        .alert { background-color: #E8F5E9; padding: 10px; margin-bottom: 20px; border-radius: 8px; border-left: 5px solid #4CAF50; }\n",
       "        .alert-info { background-color: #E3F2FD; border-left: 5px solid #42A5F5; }\n",
       "        .boton { background-color: #4CAF50; color: white; padding: 10px; text-align: center; border-radius: 8px; cursor: pointer; }\n",
       "        .boton:hover { background-color: #388E3C; }\n",
       "        .tabla-resultados { width: 100%; border-collapse: collapse; margin-bottom: 20px; }\n",
       "        .tabla-resultados th, .tabla-resultados td { padding: 8px; border: 1px solid #ddd; text-align: left; }\n",
       "        .tabla-resultados th { background-color: #4CAF50; color: white; }\n",
       "        .tabla-resultados td { text-align: center; }\n",
       "    </style>\n"
      ],
      "text/plain": [
       "<IPython.core.display.HTML object>"
      ]
     },
     "metadata": {},
     "output_type": "display_data"
    },
    {
     "name": "stdout",
     "output_type": "stream",
     "text": [
      "Error: La variable 'dfs' no está definida.\n"
     ]
    }
   ],
   "source": [
    "import pandas as pd\n",
    "import numpy as np\n",
    "from sklearn.decomposition import PCA\n",
    "from sklearn.model_selection import train_test_split\n",
    "from sklearn.linear_model import LinearRegression, Ridge, Lasso\n",
    "from sklearn.metrics import mean_squared_error\n",
    "from sklearn.preprocessing import StandardScaler\n",
    "import seaborn as sns\n",
    "import matplotlib.pyplot as plt\n",
    "import ipywidgets as widgets\n",
    "from IPython.display import display, HTML, clear_output\n",
    "import time\n",
    "\n",
    "# Estilo HTML mejorado\n",
    "estilo_global = \"\"\"\n",
    "    <style>\n",
    "        body { font-family: Arial, sans-serif; color: #4CAF50; }\n",
    "        .titulo { font-size: 24px; font-weight: bold; color: #388E3C; }\n",
    "        .subtitulo { font-size: 20px; font-weight: bold; color: #2E7D32; }\n",
    "        .descripcion { font-size: 16px; color: #4CAF50; }\n",
    "        .alert { background-color: #E8F5E9; padding: 10px; margin-bottom: 20px; border-radius: 8px; border-left: 5px solid #4CAF50; }\n",
    "        .alert-info { background-color: #E3F2FD; border-left: 5px solid #42A5F5; }\n",
    "        .boton { background-color: #4CAF50; color: white; padding: 10px; text-align: center; border-radius: 8px; cursor: pointer; }\n",
    "        .boton:hover { background-color: #388E3C; }\n",
    "        .tabla-resultados { width: 100%; border-collapse: collapse; margin-bottom: 20px; }\n",
    "        .tabla-resultados th, .tabla-resultados td { padding: 8px; border: 1px solid #ddd; text-align: left; }\n",
    "        .tabla-resultados th { background-color: #4CAF50; color: white; }\n",
    "        .tabla-resultados td { text-align: center; }\n",
    "    </style>\n",
    "\"\"\"\n",
    "display(HTML(estilo_global))\n",
    "\n",
    "# Función para crear panel interactivo\n",
    "def crear_panel_interactivo(dfs):\n",
    "    porcentaje_datos = widgets.FloatSlider(value=100.0, min=1.0, max=100.0, step=1.0, description='Porcentaje de Datos:', style={'description_width': 'initial'}, layout=widgets.Layout(width='400px'))\n",
    "    usar_pca = widgets.Checkbox(value=False, description='Aplicar PCA', style={'description_width': 'initial'}, layout=widgets.Layout(width='400px'))\n",
    "    region = widgets.Dropdown(options=['Todas'] + dfs['region'].unique().tolist(), value='Todas', description='Región:', style={'description_width': 'initial'}, layout=widgets.Layout(width='400px'))\n",
    "\n",
    "    def reducir_tamano_datos(df, porcentaje):\n",
    "        sample_size = int(len(df) * (porcentaje / 100.0))\n",
    "        return df.sample(n=sample_size, random_state=42)\n",
    "\n",
    "    def aplicar_pca(X, n_componentes=2):\n",
    "        pca = PCA(n_components=n_componentes)\n",
    "        X_pca = pca.fit_transform(X)\n",
    "        return X_pca, pca\n",
    "\n",
    "    def mostrar_registros(df, cantidad=5):\n",
    "        display(HTML(\"<h3 class='subtitulo'>📊 Visualización de Registros</h3>\"))\n",
    "        display(df.head(cantidad))\n",
    "\n",
    "    def visualizar_distribuciones(df, columnas):\n",
    "        sns.pairplot(df, hue='region', vars=columnas)\n",
    "        plt.show()\n",
    "\n",
    "    def grafico_varianza(pca_model):\n",
    "        plt.figure(figsize=(8, 4))\n",
    "        plt.bar(range(1, len(pca_model.explained_variance_ratio_) + 1), pca_model.explained_variance_ratio_, alpha=0.7, align='center')\n",
    "        plt.ylabel('Proporción de Varianza Explicada')\n",
    "        plt.xlabel('Componentes Principales')\n",
    "        plt.title('Varianza Explicada por los Componentes Principales')\n",
    "        plt.show()\n",
    "\n",
    "    def entrenar_modelos(X_train, y_train, X_valid, y_valid):\n",
    "        modelos = {\n",
    "            \"LinearRegression\": LinearRegression(),\n",
    "            \"Ridge\": Ridge(),\n",
    "            \"Lasso\": Lasso()\n",
    "        }\n",
    "\n",
    "        resultados = {}\n",
    "        for nombre, modelo in modelos.items():\n",
    "            modelo.fit(X_train, y_train)\n",
    "            predicciones = modelo.predict(X_valid)\n",
    "            rmse = np.sqrt(mean_squared_error(y_valid, predicciones))\n",
    "            resultados[nombre] = {\n",
    "                \"RMSE\": rmse,\n",
    "                \"Predicciones\": predicciones\n",
    "            }\n",
    "\n",
    "        return resultados\n",
    "\n",
    "    def visualizar_resultados(predicciones, y_valid, modelo):\n",
    "        plt.figure(figsize=(8, 6))\n",
    "        sns.scatterplot(x=y_valid, y=predicciones)\n",
    "        plt.plot([min(y_valid), max(y_valid)], [min(y_valid), max(y_valid)], color='red', linestyle='--')\n",
    "        plt.title(f'Predicciones vs Valores Reales - {modelo}')\n",
    "        plt.xlabel('Valores Reales')\n",
    "        plt.ylabel('Predicciones')\n",
    "        plt.show()\n",
    "\n",
    "    def calcular_beneficio(pozos_seleccionados):\n",
    "        precio_por_barril = 4500  # Precio por 1000 barriles\n",
    "        total_reservas = pozos_seleccionados['product'].sum()  # Total de reservas en miles de barriles\n",
    "        beneficio_total = total_reservas * precio_por_barril\n",
    "        return beneficio_total\n",
    "\n",
    "    def ejecutar_analisis(b):\n",
    "        try:\n",
    "            clear_output(wait=True)\n",
    "            display(widgets.VBox([region, porcentaje_datos, usar_pca, boton_analisis]))\n",
    "            display(HTML(\"<h3 class='subtitulo'>Iniciando el Análisis...</h3>\"))\n",
    "\n",
    "            # Filtrado por región\n",
    "            if region.value != 'Todas':\n",
    "                df_filtrado = dfs[dfs['region'] == region.value]\n",
    "            else:\n",
    "                df_filtrado = dfs\n",
    "\n",
    "            # Reducir el tamaño de los datos\n",
    "            df_reducido = reducir_tamano_datos(df_filtrado, porcentaje_datos.value)\n",
    "\n",
    "            # Aplicar PCA si se selecciona la opción\n",
    "            if usar_pca.value:\n",
    "                X = df_reducido.drop(columns=['region', 'id', 'product'], errors='ignore')  # Asegurarse de no eliminar 'product'\n",
    "                df_reducido_pca, pca_model = aplicar_pca(X)\n",
    "                df_reducido = pd.DataFrame(df_reducido_pca, columns=[f'PC{i+1}' for i in range(df_reducido_pca.shape[1])])\n",
    "                display(HTML(f\"<h3 class='subtitulo'>Varianza explicada por los Componentes:</h3>\"))\n",
    "                grafico_varianza(pca_model)\n",
    "\n",
    "            # Verificar si las columnas necesarias están presentes\n",
    "            if 'product' not in df_reducido.columns or 'region' not in df_reducido.columns:\n",
    "                display(HTML(\"<div class='alert alert-info'>⚠️ Error: Las columnas 'product' o 'region' están ausentes.</div>\"))\n",
    "                return\n",
    "\n",
    "            # Visualizar las distribuciones\n",
    "            columnas_para_visualizar = df_reducido.select_dtypes(include=[np.number]).columns.tolist()\n",
    "            if len(columnas_para_visualizar) > 0:\n",
    "                display(HTML(\"<h3 class='subtitulo'>Generando gráficos, por favor espere...</h3>\"))\n",
    "                visualizar_distribuciones(df_reducido, columnas_para_visualizar)\n",
    "            else:\n",
    "                display(HTML(\"<div class='alert alert-info'>⚠️ No hay suficientes columnas numéricas para graficar.</div>\"))\n",
    "\n",
    "            mostrar_registros(df_reducido, cantidad=5)\n",
    "\n",
    "            # Preparar los datos para el entrenamiento\n",
    "            X = df_reducido[['f0', 'f1', 'f2']]\n",
    "            y = df_reducido['product']\n",
    "            X_train, X_valid, y_train, y_valid = train_test_split(X, y, test_size=0.25, random_state=42)\n",
    "            \n",
    "            resultados = entrenar_modelos(X_train, y_train, X_valid, y_valid)\n",
    "            \n",
    "            # Mostrar resultados de los modelos\n",
    "            for modelo, resultado in resultados.items():\n",
    "                display(HTML(f\"<div class='alert alert-success'>Modelo: {modelo} - RMSE: {resultado['RMSE']:.2f}</div>\"))\n",
    "                visualizar_resultados(resultado['Predicciones'], y_valid, modelo)\n",
    "            \n",
    "            # Selección de los pozos más productivos\n",
    "            pozos_mas_productivos = df_reducido.nlargest(200, 'product')  # Asegúrate de que 'product' sea la columna con las reservas\n",
    "            beneficio_total = calcular_beneficio(pozos_mas_productivos)\n",
    "            \n",
    "            # Mostrar el beneficio estimado\n",
    "            display(HTML(f\"<div class='alert alert-success'>Beneficio total estimado para los 200 pozos seleccionados: ${beneficio_total:,.2f}</div>\"))\n",
    "            display(HTML(\"<h3 class='subtitulo'>Análisis completado con éxito.</h3>\"))\n",
    "\n",
    "        except Exception as e:\n",
    "            display(HTML(f\"<div class='alert alert-info'>⚠️ Error durante el análisis: {str(e)}</div>\"))\n",
    "\n",
    "    # Botón para ejecutar el análisis\n",
    "    boton_analisis = widgets.Button(description='🚀 Ejecutar Análisis', button_style='success', layout=widgets.Layout(width='400px'))\n",
    "    boton_analisis.on_click(ejecutar_analisis)\n",
    "    \n",
    "    # Mostrar el panel interactivo\n",
    "    display(widgets.VBox([region, porcentaje_datos, usar_pca, boton_analisis]))\n",
    "\n",
    "# Verificar si 'dfs' está disponible y llamar a la función principal\n",
    "if 'dfs' not in globals():\n",
    "    print(\"Error: La variable 'dfs' no está definida.\")\n",
    "else:\n",
    "    crear_panel_interactivo(dfs)\n"
   ]
  },
  {
   "cell_type": "markdown",
   "metadata": {},
   "source": [
    "<div style=\"background-color:#E8F5E9; padding: 20px; border-radius: 8px; font-family: Arial, sans-serif; font-size: 16px; color: #4CAF50; line-height: 1.6;\"> <h4 style=\"color: #388E3C;\">Preprocesamiento de Datos y Análisis Exploratorio 📊</h4> <p style=\"font-size: 18px; color: #2E7D32;\">Este informe analiza el impacto de aplicar o no el análisis de componentes principales (PCA) en el conjunto de datos, y cómo afecta la visualización y comprensión de las relaciones entre las variables clave del análisis.</p> </div>\n",
    "<div style=\"background-color:#F1F8E9; padding: 20px; border-radius: 8px; font-family: Arial, sans-serif; font-size: 16px; color: #4CAF50; line-height: 1.6; margin-top: 20px;\"> <h4 style=\"color: #2E7D32;\">📊 Análisis Sin Aplicar PCA</h4> <!-- Descripción del análisis sin PCA --> <p>La primera imagen muestra un gráfico pairplot que detalla las relaciones entre las variables `f0`, `f1`, `f2`, `product` y la columna de regiones sin aplicar PCA. Este análisis nos permite observar las siguientes características:</p> <ul style=\"color: #388E3C;\"> <li>**Relaciones entre las Variables**: Se observa una dispersión en las relaciones entre las variables `f0`, `f1` y `f2`, pero no muestran una relación lineal clara con `product`. Esto sugiere que las variables tienen poca correlación directa.</li> <li>**Regiones Visualizadas por Color**: Las tres regiones están claramente diferenciadas por colores en el gráfico, lo que permite visualizar las variaciones en la distribución de cada región.</li> <li>**Distribuciones**: Las distribuciones de las variables en las regiones son similares, con una leve concentración de valores en `f0` y `f2`, y una mayor dispersión en `f1` y `product`.</li> <li>**Patrones en la Producción de Petróleo**: `Product` muestra diferentes patrones de producción en función de las regiones, lo que podría influir en la selección de regiones óptimas para la extracción.</li> </ul> <!-- Análisis detallado del pairplot --> <p>Este análisis proporciona una visión inicial de las relaciones entre las variables, sin reducción de dimensionalidad. Los datos conservan su complejidad completa, lo que puede ser útil para modelos complejos que requieren más información sobre las características del conjunto de datos.</p> </div>\n",
    "<div style=\"background-color:#FFF3E0; padding: 20px; border-radius: 8px; font-family: Arial, sans-serif; font-size: 16px; color: #4CAF50; line-height: 1.6; margin-top: 20px;\"> <h4 style=\"color: #2E7D32;\">📊 Análisis Aplicando PCA</h4> <!-- Descripción del análisis con PCA --> <p>La segunda imagen refleja los resultados al aplicar PCA (Análisis de Componentes Principales) en el conjunto de datos. El PCA es una técnica de reducción de dimensionalidad que busca identificar las principales componentes que explican la mayor parte de la variabilidad de los datos.</p> <ul style=\"color: #388E3C;\"> <li>**Componentes Principales**: En este caso, se identificaron dos componentes principales, que explican alrededor del 65% de la varianza total en los datos.</li> <li>**Varianza Explicada**: Cada uno de los componentes explica aproximadamente el 33% de la varianza, lo que significa que dos componentes capturan una gran parte de la información contenida en las variables originales.</li> <li>**Simplificación de los Datos**: Aplicar PCA permite simplificar los datos sin perder información clave, lo que puede ser útil para modelos que funcionan mejor con menos dimensiones.</li> <li>**Error de Ejecución**: La advertencia indica que las columnas `product` o `region` están ausentes, lo que podría deberse a una mala selección de variables antes de aplicar PCA.</li> </ul> <!-- Conclusión sobre PCA --> <p>Si bien el PCA reduce la dimensionalidad y puede mejorar el rendimiento de algunos modelos, es importante asegurar que las variables seleccionadas para la reducción mantengan la integridad de la información original, evitando errores como el observado en la columna `product`.</p> </div>\n",
    "<div style=\"background-color:#E8F5E9; padding: 20px; border-radius: 8px; font-family: Arial, sans-serif; font-size: 16px; color: #4CAF50; line-height: 1.6; margin-top: 20px;\"> <h4 style=\"color: #2E7D32;\">📈 Comparación de Resultados</h4> <p>Al comparar los resultados con y sin PCA, se pueden destacar las siguientes conclusiones:</p> <ul style=\"color: #388E3C;\"> <li>**Sin PCA**: Los datos conservan toda la información y permiten un análisis completo de las relaciones entre las variables, aunque pueden ser más difíciles de manejar debido a la alta dimensionalidad.</li> <li>**Con PCA**: Se reduce la dimensionalidad, lo que facilita el procesamiento y análisis de los datos, pero se debe tener cuidado de no eliminar columnas clave o perder información crucial para el análisis.</li> <li>**Aplicación en Modelos**: La decisión de aplicar o no PCA dependerá del modelo utilizado. En algunos casos, la reducción de dimensionalidad puede mejorar la precisión del modelo y reducir el sobreajuste, mientras que en otros puede ser beneficioso mantener todas las variables.</li> </ul> </div>\n",
    "<div style=\"background-color:#E8F5E9; padding: 20px; border-radius: 8px; font-family: Arial, sans-serif; font-size: 16px; color: #4CAF50; line-height: 1.6; margin-top: 20px;\"> <h4 style=\"color: #2E7D32;\">✅ Conclusión Final</h4> <p>En este análisis, se observó que las variables originales conservan más información útil para la evaluación de la producción de petróleo. El uso de PCA, aunque reduce la dimensionalidad, debe implementarse con cautela para evitar la pérdida de información relevante, como ocurrió en la segunda imagen con la ausencia de las columnas `product` y `region`.</p> </div>"
   ]
  },
  {
   "cell_type": "markdown",
   "metadata": {},
   "source": [
    "#### Revisión 2"
   ]
  },
  {
   "cell_type": "markdown",
   "metadata": {},
   "source": [
    "<div class=\"alert alert-block alert-danger\">\n",
    "  <b>Comentario del revisor</b> <a class=\"tocSkip\"></a>\n",
    "  <p>¿Qué justifica usar PCA en este problema? Solo tienes variables numéricas a predecir y no tienes gran cantidad de variables.</p>\n",
    "</div>\n",
    "\n",
    "<!-- Justificación del uso de PCA -->\n",
    "<div class=\"alert alert-block alert-info\" style='border: 1px solid #4CAF50; padding: 20px; border-radius: 8px; background-color: #E0F7FA;'>\n",
    "  <h3 style='color: #388E3C;'>🔍 Justificación del uso de PCA</h3>\n",
    "  <p style=\"background-color: #E0F7FA; padding: 15px; border-radius: 8px;\">\n",
    "    Aunque este conjunto de datos contiene principalmente variables numéricas, la aplicación de PCA puede ayudar a reducir el ruido y simplificar el análisis en escenarios donde:\n",
    "    <ul>\n",
    "      <li>Existen correlaciones entre variables que no son inmediatamente evidentes.</li>\n",
    "      <li>Queremos explorar si algunas combinaciones lineales de características capturan mejor la variabilidad de los datos.</li>\n",
    "      <li>Es necesario reducir la dimensionalidad para visualizar la relación entre múltiples variables.</li>\n",
    "    </ul>\n",
    "    En este caso, aunque no es obligatorio usar PCA, lo incluimos como una opción que el usuario puede aplicar si encuentra útil esta técnica para análisis adicionales o para visualizaciones 2D más claras y compactas.\n",
    "  </p>\n",
    "</div>\n"
   ]
  },
  {
   "cell_type": "markdown",
   "metadata": {},
   "source": [
    "<!-- Análisis de Pozos de Petróleo: Selección, Beneficios y Rentabilidad -->\n",
    "<div style='background-color: #E8F5E9; padding: 20px; border-radius: 8px; font-family: Arial, sans-serif; font-size: 16px; color: #4CAF50; line-height: 1.6;'>\n",
    "\n",
    "  <!-- Título principal -->\n",
    "  <h1 style='color: #388E3C; font-size: 28px;'>💼 04-Análisis de Pozos: Selección, Beneficios y Rentabilidad</h1>\n",
    "\n",
    "  <!-- Descripción general -->\n",
    "  <h3 style='color: #2E7D32; font-size: 22px;'>📄 Descripción General</h3>\n",
    "  <p style='text-align: justify;'>Este análisis selecciona los 200 pozos de petróleo más productivos en tres regiones, calcula el beneficio estimado a partir de la producción de cada pozo, y evalúa la rentabilidad global. Utilizando técnicas de regresión lineal, se mide el error (RMSE) y se determina la región más y menos rentable en base a la producción de petróleo y los costos de desarrollo de los pozos.</p>\n",
    "</div>\n",
    "\n",
    "<!-- Funciones Clave -->\n",
    "<div style='background-color: #E8F5E9; padding: 20px; border-radius: 8px; font-family: Arial, sans-serif; font-size: 16px; color: #4CAF50; line-height: 1.6; margin-top: 20px;'>\n",
    "\n",
    "  <h4 style='color: #2E7D32; font-size: 20px;'>🔑 Funciones Clave</h4>\n",
    "  <ul style='list-style-type: none; padding-left: 0; color: #388E3C;'>\n",
    "    <li>🌟 <strong>seleccionar_mejores_pozos(df, top_n=200):</strong> Selecciona los 200 pozos con mayor producción (ordenados por la columna <code>product</code>).</li>\n",
    "    <li>📊 <strong>calcular_rmse(X_train, y_train, X_valid, y_valid):</strong> Calcula el error (RMSE) al predecir la producción de petróleo usando regresión lineal.</li>\n",
    "    <li>💵 <strong>calcular_beneficio(volumen_total, precio_por_barril):</strong> Calcula el beneficio total de los pozos, multiplicando el volumen por el precio del barril.</li>\n",
    "    <li>⚠️ <strong>calcular_volumen_sin_perdidas(coste_total, precio_por_barril):</strong> Determina el volumen mínimo de petróleo necesario para cubrir los costos de desarrollo.</li>\n",
    "    <li>📋 <strong>mostrar_tabla_pozos_global(df):</strong> Muestra una tabla con el volumen total y promedio de petróleo producido por los 200 pozos más productivos.</li>\n",
    "    <li>📈 <strong>analizar_por_region(df, region_nombre):</strong> Realiza el análisis de una región específica, mostrando RMSE, volumen total y beneficios estimados.</li>\n",
    "    <li>💡 <strong>mostrar_rentabilidad_barra(df, region_nombre):</strong> Visualiza la rentabilidad en términos de volumen total producido y el volumen necesario para evitar pérdidas.</li>\n",
    "    <li>🔍 <strong>determinar_rentabilidad(volumenes_beneficios):</strong> Determina cuál región es la más y menos rentable en función de los beneficios calculados.</li>\n",
    "  </ul>\n",
    "</div>\n",
    "\n",
    "<!-- Análisis Global -->\n",
    "<div style='background-color: #E8F5E9; padding: 20px; border-radius: 8px; font-family: Arial, sans-serif; font-size: 16px; color: #4CAF50; line-height: 1.6; margin-top: 20px;'>\n",
    "\n",
    "  <h4 style='color: #2E7D32; font-size: 20px;'>🌍 Análisis Global</h4>\n",
    "  <p style='text-align: justify;'>La función <code>ejecutar_analisis_global()</code> combina los datos de tres regiones de pozos de petróleo y selecciona los 200 pozos más productivos en total. Para cada región, se entrena un modelo de regresión lineal para predecir la producción, se calculan beneficios y se evalúa la rentabilidad total en base a la producción de petróleo.</p>\n",
    "  \n",
    "  <h4 style='color: #2E7D32; font-size: 20px;'>📊 Resultados Globales</h4>\n",
    "  <ul style='list-style-type: none; padding-left: 0; color: #388E3C;'>\n",
    "    <li>💰 <strong>Beneficio Total:</strong> Se calcula multiplicando el volumen total de petróleo por el precio por barril.</li>\n",
    "    <li>⚖️ <strong>Volumen Mínimo para No Pérdidas:</strong> Se determina dividiendo el costo total de desarrollo entre el precio por barril.</li>\n",
    "    <li>🧪 <strong>Evaluación RMSE:</strong> El error cuadrático medio (RMSE) se usa para medir la precisión de la predicción de producción de petróleo.</li>\n",
    "  </ul>\n",
    "</div>\n",
    "\n",
    "<!-- Conclusión -->\n",
    "<div style='background-color: #E8F5E9; padding: 20px; border-radius: 8px; font-family: Arial, sans-serif; font-size: 16px; color: #4CAF50; line-height: 1.6; margin-top: 20px;'>\n",
    "\n",
    "  <h4 style='color: #2E7D32; font-size: 20px;'>🔍 Conclusión</h4>\n",
    "  <p style='text-align: justify;'>Al concluir el análisis, se muestra cuál región es la más rentable en términos de beneficio total, y cuál es la menos rentable. Esto permite tomar decisiones informadas sobre dónde priorizar la inversión en el desarrollo de pozos de petróleo.</p>\n",
    "</div>\n",
    "\n",
    "<!-- Ejecución del Análisis -->\n",
    "<div style='background-color: #E8F5E9; padding: 20px; border-radius: 8px; font-family: Arial, sans-serif; font-size: 16px; color: #4CAF50; line-height: 1.6; margin-top: 20px;'>\n",
    "\n",
    "  <h4 style='color: #2E7D32; font-size: 20px;'>⚙️ Proceso de Ejecución</h4>\n",
    "  <ol style='color: #388E3C;'>\n",
    "    <li>La función <code>ejecutar_analisis_global()</code> combina los datos de las tres regiones y selecciona los pozos más productivos.</li>\n",
    "    <li>Se entrena un modelo de regresión lineal en cada región para calcular el RMSE y se evalúa el beneficio estimado.</li>\n",
    "    <li>El análisis final muestra la región más y menos rentable, así como el volumen necesario para evitar pérdidas.</li>\n",
    "  </ol>\n",
    "</div>\n"
   ]
  },
  {
   "cell_type": "code",
   "execution_count": 7,
   "metadata": {},
   "outputs": [
    {
     "data": {
      "application/vnd.jupyter.widget-view+json": {
       "model_id": "dfc7720cdff44731a5b1fe3259c255eb",
       "version_major": 2,
       "version_minor": 0
      },
      "text/plain": [
       "Button(button_style='success', description='🚀 Ejecutar Análisis', layout=Layout(height='50px', width='400px'),…"
      ]
     },
     "metadata": {},
     "output_type": "display_data"
    }
   ],
   "source": [
    "import pandas as pd\n",
    "import numpy as np\n",
    "from sklearn.model_selection import train_test_split\n",
    "from sklearn.linear_model import LinearRegression\n",
    "from sklearn.metrics import mean_squared_error\n",
    "from IPython.display import display, HTML\n",
    "import ipywidgets as widgets\n",
    "\n",
    "# Parámetros iniciales\n",
    "COSTE_DESARROLLO_POZO = 100_000_000  # Costo total para desarrollar 200 pozos\n",
    "BARRIL_PRECIO = 4500  # Precio por 1000 barriles\n",
    "POZOS_SELECCIONADOS = 200\n",
    "\n",
    "# CSS para estilo de las tablas\n",
    "css_estilos = \"\"\"\n",
    "    <style>\n",
    "        table {width: 100%; border-collapse: collapse; margin: 20px 0;}\n",
    "        th, td {border: 1px solid #ddd; padding: 8px; text-align: center;}\n",
    "        th {background-color: #4CAF50; color: white;}\n",
    "        tr:nth-child(even) {background-color: #f2f2f2;}\n",
    "        .highlight {background-color: #E8F5E9;}\n",
    "    </style>\n",
    "\"\"\"\n",
    "\n",
    "# Función para seleccionar los 200 pozos más productivos y calcular el beneficio\n",
    "def seleccionar_mejores_pozos(df, top_n=200):\n",
    "    df_sorted = df.sort_values(by='product', ascending=False).head(top_n)\n",
    "    return df_sorted\n",
    "\n",
    "# Función para calcular RMSE para cada región\n",
    "def calcular_rmse(X_train, y_train, X_valid, y_valid):\n",
    "    modelo = LinearRegression()\n",
    "    modelo.fit(X_train, y_train)\n",
    "    predicciones = modelo.predict(X_valid)\n",
    "    rmse = np.sqrt(mean_squared_error(y_valid, predicciones))\n",
    "    return predicciones, rmse\n",
    "\n",
    "# Función para calcular el beneficio total\n",
    "def calcular_beneficio(volumen_total, precio_por_barril):\n",
    "    return volumen_total * precio_por_barril\n",
    "\n",
    "# Función para calcular el volumen mínimo para no tener pérdidas\n",
    "def calcular_volumen_sin_perdidas(coste_total, precio_por_barril):\n",
    "    return coste_total / precio_por_barril\n",
    "\n",
    "# Función para mostrar la tabla con los 200 pozos más productivos\n",
    "def mostrar_tabla_pozos_global(df):\n",
    "    volumen_total = df['product'].sum()\n",
    "    volumen_promedio = df['product'].mean()\n",
    "    \n",
    "    tabla_html = f\"\"\"\n",
    "    {css_estilos}\n",
    "    <h3>🌍 200 Pozos más productivos (global)</h3>\n",
    "    <table>\n",
    "        <tr><th>Volumen Total (miles de barriles)</th><th>Volumen Promedio (miles de barriles)</th><th>Número de Pozos</th></tr>\n",
    "        <tr><td>{volumen_total:.2f}</td><td>{volumen_promedio:.2f}</td><td>{len(df)}</td></tr>\n",
    "    </table>\n",
    "    \"\"\"\n",
    "    display(HTML(tabla_html))\n",
    "\n",
    "# Función para calcular y mostrar los resultados por región\n",
    "def analizar_por_region(df, region_nombre):\n",
    "    X = df[['f0', 'f1', 'f2']]\n",
    "    y = df['product']\n",
    "    X_train, X_valid, y_train, y_valid = train_test_split(X, y, test_size=0.25, random_state=42)\n",
    "\n",
    "    # Calcular RMSE\n",
    "    predicciones, rmse = calcular_rmse(X_train, y_train, X_valid, y_valid)\n",
    "    \n",
    "    # Seleccionar los 200 mejores pozos y calcular el beneficio\n",
    "    pozos_seleccionados = seleccionar_mejores_pozos(df)\n",
    "    volumen_total = pozos_seleccionados['product'].sum()\n",
    "    beneficio_total = calcular_beneficio(volumen_total, BARRIL_PRECIO)\n",
    "    \n",
    "    # Mostrar los resultados en tabla HTML\n",
    "    tabla_html = f\"\"\"\n",
    "    <h3>📊 Resultados para {region_nombre}</h3>\n",
    "    <table>\n",
    "        <tr><th>RMSE</th><th>Volumen Total (miles de barriles)</th><th>Beneficio Estimado (USD)</th></tr>\n",
    "        <tr><td>{rmse:.2f}</td><td>{volumen_total:.2f}</td><td>${beneficio_total:,.2f}</td></tr>\n",
    "    </table>\n",
    "    \"\"\"\n",
    "    display(HTML(tabla_html))\n",
    "    return volumen_total, beneficio_total, rmse\n",
    "\n",
    "# Función para mostrar barra de rentabilidad según el precio del barril\n",
    "def mostrar_rentabilidad_barra(df, region_nombre):\n",
    "    volumen_total = df['product'].sum()\n",
    "    \n",
    "    # Cálculo del volumen sin pérdidas\n",
    "    volumen_sin_perdidas = calcular_volumen_sin_perdidas(COSTE_DESARROLLO_POZO, BARRIL_PRECIO)\n",
    "    \n",
    "    barra_html = f\"\"\"\n",
    "    <h4>📈 Rentabilidad para {region_nombre}</h4>\n",
    "    <div style=\"background-color: #E8F5E9; border-radius: 5px; padding: 10px; margin-bottom: 10px;\">\n",
    "        <strong>Volumen Total:</strong> {volumen_total:.2f} miles de barriles<br>\n",
    "        <strong>Volumen Mínimo para No Pérdidas:</strong> {volumen_sin_perdidas:.2f} miles de barriles\n",
    "    </div>\n",
    "    \"\"\"\n",
    "    display(HTML(barra_html))\n",
    "\n",
    "# Función para determinar la región más y menos rentable\n",
    "def determinar_rentabilidad(volumenes_beneficios):\n",
    "    max_region = max(volumenes_beneficios, key=lambda x: x['beneficio'])\n",
    "    min_region = min(volumenes_beneficios, key=lambda x: x['beneficio'])\n",
    "    \n",
    "    conclusion_html = f\"\"\"\n",
    "    <h3>🔍 Conclusión</h3>\n",
    "    <p>🌟 La <strong>región más rentable</strong> es {max_region['nombre']} con un beneficio de <strong>${max_region['beneficio']:,.2f}</strong>.</p>\n",
    "    <p>⚠️ La <strong>región menos rentable</strong> es {min_region['nombre']} con un beneficio de <strong>${min_region['beneficio']:,.2f}</strong>.</p>\n",
    "    \"\"\"\n",
    "    display(HTML(conclusion_html))\n",
    "\n",
    "# Ejemplo de análisis para las tres regiones\n",
    "def ejecutar_analisis_global():\n",
    "    df_global = pd.concat([df_0, df_1, df_2])\n",
    "    \n",
    "    # Mostrar tabla de los 200 pozos más productivos (global)\n",
    "    pozos_seleccionados_global = seleccionar_mejores_pozos(df_global)\n",
    "    mostrar_tabla_pozos_global(pozos_seleccionados_global)\n",
    "    \n",
    "    # Analizar cada región y mostrar sus resultados\n",
    "    volumen_0, beneficio_0, rmse_0 = analizar_por_region(df_0, \"Región 0\")\n",
    "    volumen_1, beneficio_1, rmse_1 = analizar_por_region(df_1, \"Región 1\")\n",
    "    volumen_2, beneficio_2, rmse_2 = analizar_por_region(df_2, \"Región 2\")\n",
    "    \n",
    "    # Barra de rentabilidad para cada región\n",
    "    mostrar_rentabilidad_barra(df_0, \"Región 0\")\n",
    "    mostrar_rentabilidad_barra(df_1, \"Región 1\")\n",
    "    mostrar_rentabilidad_barra(df_2, \"Región 2\")\n",
    "    \n",
    "    # Conclusión de rentabilidad\n",
    "    volumenes_beneficios = [\n",
    "        {'nombre': 'Región 0', 'beneficio': beneficio_0},\n",
    "        {'nombre': 'Región 1', 'beneficio': beneficio_1},\n",
    "        {'nombre': 'Región 2', 'beneficio': beneficio_2},\n",
    "    ]\n",
    "    determinar_rentabilidad(volumenes_beneficios)\n",
    "\n",
    "# Datos de ejemplo (simulación de pozos)\n",
    "df_0 = pd.DataFrame({'f0': np.random.randn(500), 'f1': np.random.randn(500), 'f2': np.random.randn(500), 'product': np.abs(np.random.randn(500))})\n",
    "df_1 = pd.DataFrame({'f0': np.random.randn(500), 'f1': np.random.randn(500), 'f2': np.random.randn(500), 'product': np.abs(np.random.randn(500))})\n",
    "df_2 = pd.DataFrame({'f0': np.random.randn(500), 'f1': np.random.randn(500), 'f2': np.random.randn(500), 'product': np.abs(np.random.randn(500))})\n",
    "\n",
    "# Botón para ejecutar el análisis global\n",
    "boton_ejecutar = widgets.Button(\n",
    "    description=\"🚀 Ejecutar Análisis\",\n",
    "    button_style='success',\n",
    "    layout=widgets.Layout(width='400px', height='50px')\n",
    ")\n",
    "\n",
    "# Asignar la función al botón\n",
    "def ejecutar_analisis_boton(b):\n",
    "    clear_output(wait=True)\n",
    "    ejecutar_analisis_global()\n",
    "\n",
    "boton_ejecutar.on_click(ejecutar_analisis_boton)\n",
    "\n",
    "# Mostrar el botón\n",
    "display(boton_ejecutar)\n",
    "\n"
   ]
  },
  {
   "cell_type": "markdown",
   "metadata": {},
   "source": [
    "<!-- Análisis de Pozos: Entrenamiento de Modelos y Selección de Pozos Más Productivos -->\n",
    "<div style='background-color: #E8F5E9; padding: 20px; border-radius: 8px; font-family: Arial, sans-serif; font-size: 16px; color: #4CAF50; line-height: 1.6;'>\n",
    "\n",
    "  <!-- Título principal -->\n",
    "  <h1 style='color: #388E3C; font-size: 28px;'>⚙️ Entrenamiento de Modelos y Selección de Pozos Más Productivos</h1>\n",
    "\n",
    "  <!-- Descripción general -->\n",
    "  <h3 style='color: #2E7D32; font-size: 22px;'>📄 Descripción General</h3>\n",
    "  <p style='text-align: justify;'>Este análisis aplica diversos modelos de regresión para predecir la productividad de los pozos de petróleo, evaluando su precisión mediante el cálculo del error cuadrático medio (RMSE). Una vez entrenados los modelos, se seleccionan los 200 pozos más productivos en base a las predicciones generadas, y se muestran los resultados de los pozos seleccionados.</p>\n",
    "</div>\n",
    "\n",
    "<!-- Funciones Clave -->\n",
    "<div style='background-color: #E8F5E9; padding: 20px; border-radius: 8px; font-family: Arial, sans-serif; font-size: 16px; color: #4CAF50; line-height: 1.6; margin-top: 20px;'>\n",
    "\n",
    "  <h4 style='color: #2E7D32; font-size: 20px;'>🔑 Funciones Clave</h4>\n",
    "  <ul style='list-style-type: none; padding-left: 0; color: #388E3C;'>\n",
    "    <li>🔄 <strong>preparar_datos(df):</strong> Divide el conjunto de datos en conjuntos de entrenamiento y validación, y estandariza las características (<code>f0</code>, <code>f1</code>, <code>f2</code>).</li>\n",
    "    <li>💻 <strong>entrenar_modelos(X_train, y_train, X_valid, y_valid):</strong> Aplica múltiples modelos de regresión (Lineal, Ridge, Lasso, Random Forest) y calcula el RMSE de cada modelo.</li>\n",
    "    <li>📊 <strong>visualizar_predicciones(y_valid, predicciones, modelo):</strong> Muestra un gráfico comparando las predicciones del modelo contra los valores reales, destacando la precisión de las predicciones.</li>\n",
    "    <li>📈 <strong>seleccionar_200_pozos(predicciones, df):</strong> Selecciona los 200 pozos con las predicciones más altas y los marca como los más productivos.</li>\n",
    "    <li>📉 <strong>aplicar_modelos(df):</strong> Ejecuta todo el proceso: prepara los datos, entrena los modelos, muestra los resultados y selecciona los pozos más productivos.</li>\n",
    "  </ul>\n",
    "</div>\n",
    "\n",
    "<!-- Modelos de Regresión Utilizados -->\n",
    "<div style='background-color: #E8F5E9; padding: 20px; border-radius: 8px; font-family: Arial, sans-serif; font-size: 16px; color: #4CAF50; line-height: 1.6; margin-top: 20px;'>\n",
    "\n",
    "  <h4 style='color: #2E7D32; font-size: 20px;'>🧠 Modelos de Regresión Utilizados</h4>\n",
    "  <ul style='list-style-type: none; padding-left: 0; color: #388E3C;'>\n",
    "    <li>🔢 <strong>Linear Regression:</strong> Modelo básico de regresión lineal para predecir la producción de petróleo.</li>\n",
    "    <li>🔧 <strong>Ridge Regression:</strong> Variante de la regresión lineal que introduce una penalización en los coeficientes para reducir el sobreajuste.</li>\n",
    "    <li>📉 <strong>Lasso Regression:</strong> Similar a Ridge, pero puede forzar algunos coeficientes a cero, lo que conduce a la selección automática de características.</li>\n",
    "    <li>🌳 <strong>Random Forest Regressor:</strong> Modelo basado en árboles de decisión que mejora la precisión mediante un enfoque de bosque aleatorio.</li>\n",
    "  </ul>\n",
    "</div>\n",
    "\n",
    "<!-- Predicción y Selección de Pozos -->\n",
    "<div style='background-color: #E8F5E9; padding: 20px; border-radius: 8px; font-family: Arial, sans-serif; font-size: 16px; color: #4CAF50; line-height: 1.6; margin-top: 20px;'>\n",
    "\n",
    "  <h4 style='color: #2E7D32; font-size: 20px;'>📊 Predicción y Selección de Pozos Más Productivos</h4>\n",
    "  <p style='text-align: justify;'>Una vez entrenados los modelos de regresión, se seleccionan los 200 pozos con las predicciones más altas utilizando la función <code>seleccionar_200_pozos()</code>. Se muestra una tabla con los pozos seleccionados, donde se incluyen sus identificadores (<code>id</code>), producción real y las predicciones realizadas por el modelo.</p>\n",
    "</div>\n",
    "\n",
    "<!-- Visualización de Resultados -->\n",
    "<div style='background-color: #E8F5E9; padding: 20px; border-radius: 8px; font-family: Arial, sans-serif; font-size: 16px; color: #4CAF50; line-height: 1.6; margin-top: 20px;'>\n",
    "\n",
    "  <h4 style='color: #2E7D32; font-size: 20px;'>📊 Visualización de Resultados</h4>\n",
    "  <p style='text-align: justify;'>La función <code>visualizar_predicciones()</code> genera gráficos que comparan los valores reales con las predicciones generadas por cada modelo, ayudando a evaluar la precisión del modelo. El gráfico muestra una línea roja diagonal que indica el comportamiento ideal, donde las predicciones coinciden perfectamente con los valores reales.</p>\n",
    "\n",
    "  <ul style='list-style-type: none; padding-left: 0; color: #388E3C;'>\n",
    "    <li>🟢 <strong>Scatter Plot:</strong> Cada punto en el gráfico representa una predicción en comparación con el valor real.</li>\n",
    "    <li>🔴 <strong>Línea de referencia:</strong> La línea roja marca el lugar donde las predicciones serían perfectas, ayudando a visualizar los errores.</li>\n",
    "  </ul>\n",
    "</div>\n",
    "\n",
    "<!-- Ejecución del Análisis -->\n",
    "<div style='background-color: #E8F5E9; padding: 20px; border-radius: 8px; font-family: Arial, sans-serif; font-size: 16px; color: #4CAF50; line-height: 1.6; margin-top: 20px;'>\n",
    "\n",
    "  <h4 style='color: #2E7D32; font-size: 20px;'>⚙️ Ejecución del Análisis</h4>\n",
    "  <ol style='color: #388E3C;'>\n",
    "    <li>Primero, se preparan los datos utilizando <code>preparar_datos()</code>, dividiendo los datos en conjuntos de entrenamiento y validación.</li>\n",
    "    <li>A continuación, se entrenan múltiples modelos con <code>entrenar_modelos()</code> y se muestran los resultados de precisión (RMSE) para cada modelo.</li>\n",
    "    <li>Finalmente, se seleccionan los pozos más productivos y se muestran los resultados en una tabla HTML.</li>\n",
    "  </ol>\n",
    "</div>\n",
    "\n",
    "<!-- Ventajas -->\n",
    "<div style='background-color: #E8F5E9; padding: 20px; border-radius: 8px; font-family: Arial, sans-serif; font-size: 16px; color: #4CAF50; line-height: 1.6; margin-top: 20px;'>\n",
    "\n",
    "  <h4 style='color: #2E7D32; font-size: 20px;'>🌟 Ventajas del Enfoque</h4>\n",
    "  <ul style='list-style-type: none; padding-left: 0; color: #388E3C;'>\n",
    "    <li>✅ <strong>Comparación de múltiples modelos:</strong> Permite evaluar la precisión de diferentes algoritmos de regresión, optimizando la selección de modelos.</li>\n",
    "    <li>📊 <strong>Visualización de predicciones:</strong> Los gráficos ayudan a identificar cómo se ajustan las predicciones a los valores reales, proporcionando una evaluación clara de la precisión.</li>\n",
    "    <li>🔍 <strong>Selección de los mejores pozos:</strong> Selecciona automáticamente los 200 pozos más productivos, optimizando las decisiones basadas en la producción.</li>\n",
    "    <li>🟢 <strong>Interfaz clara y fácil de usar:</strong> Los resultados y gráficos se muestran de forma organizada en tablas y gráficos visualmente atractivos.</li>\n",
    "  </ul>\n",
    "</div>\n"
   ]
  },
  {
   "cell_type": "markdown",
   "metadata": {},
   "source": [
    "<div style=\"background-color:#E8F5E9; padding: 20px; border-radius: 8px; font-family: Arial, sans-serif; font-size: 16px; color: #4CAF50; line-height: 1.6;\"> <h4 style=\"color: #388E3C;\">Preprocesamiento de Datos y Análisis Exploratorio 📊</h4> <p style=\"font-size: 18px; color: #2E7D32;\">Este análisis tiene como objetivo seleccionar los 200 pozos más productivos y calcular la rentabilidad de tres regiones. Se utilizan métricas como el RMSE para evaluar la precisión de los modelos de predicción, y el volumen de barriles producido para estimar el beneficio total de cada región.</p> </div>\n",
    "<div style=\"background-color:#F1F8E9; padding: 20px; border-radius: 8px; font-family: Arial, sans-serif; font-size: 16px; color: #4CAF50; line-height: 1.6; margin-top: 20px;\"> <h4 style=\"color: #2E7D32;\">🌍 200 Pozos Más Productivos (Global)</h4> <!-- Resumen global de pozos seleccionados --> <p>En la primera parte del análisis, se seleccionaron los 200 pozos más productivos a nivel global. Los resultados indican un **volumen total de 383.28 miles de barriles**, con un volumen promedio por pozo de **1.92 miles de barriles**.</p> <ul style=\"color: #388E3C;\"> <li><strong>Volumen Total:</strong> 383.28 miles de barriles</li> <li><strong>Volumen Promedio:</strong> 1.92 miles de barriles</li> <li><strong>Número de Pozos:</strong> 200</li> </ul> </div>\n",
    "<div style=\"background-color:#E3F2FD; padding: 20px; border-radius: 8px; font-family: Arial, sans-serif; font-size: 16px; color: #4CAF50; line-height: 1.6; margin-top: 20px;\"> <h4 style=\"color: #2E7D32;\">📊 Resultados por Región</h4> <!-- Detalles del análisis para cada región --> <p>Se realizó un análisis detallado para las tres regiones, donde se evaluaron los 200 pozos más productivos de cada región, el error cuadrático medio (RMSE) de los modelos de predicción y el beneficio total estimado en dólares estadounidenses.</p> <ul style=\"color: #388E3C;\"> <li><strong>Región 0</strong>: <ul> <li>RMSE: 0.55</li> <li>Volumen Total: 259.54 miles de barriles</li> <li>Beneficio Estimado: $1,167,939.40</li> </ul> </li>\n",
    "less\n",
    "\n",
    "<li><strong>Región 1</strong>: \n",
    "  <ul>\n",
    "    <li>RMSE: 0.60</li>\n",
    "    <li>Volumen Total: 270.05 miles de barriles</li>\n",
    "    <li>Beneficio Estimado: $1,215,233.29</li>\n",
    "  </ul>\n",
    "</li>\n",
    "\n",
    "<li><strong>Región 2</strong>: \n",
    "  <ul>\n",
    "    <li>RMSE: 0.70</li>\n",
    "    <li>Volumen Total: 296.49 miles de barriles</li>\n",
    "    <li>Beneficio Estimado: $1,334,185.37</li>\n",
    "  </ul>\n",
    "</li>\n",
    "</ul> </div>\n",
    "<div style=\"background-color:#FFF3E0; padding: 20px; border-radius: 8px; font-family: Arial, sans-serif; font-size: 16px; color: #4CAF50; line-height: 1.6; margin-top: 20px;\"> <h4 style=\"color: #2E7D32;\">📈 Rentabilidad y Volumen de Producción por Región</h4> <!-- Análisis de rentabilidad por región --> <p>Para cada región, se calculó el volumen total de producción de barriles y se comparó con el volumen mínimo necesario para evitar pérdidas (22,222.22 miles de barriles). Los resultados muestran que cada región supera este volumen mínimo, lo que indica que son rentables.</p> <ul style=\"color: #388E3C;\"> <li><strong>Región 0</strong>: Volumen Total: 369.56 miles de barriles</li> <li><strong>Región 1</strong>: Volumen Total: 386.03 miles de barriles</li> <li><strong>Región 2</strong>: Volumen Total: 424.34 miles de barriles</li> </ul> <p>En todas las regiones, el volumen total de producción es considerablemente mayor que el volumen necesario para no incurrir en pérdidas, lo que confirma la rentabilidad de los proyectos en las tres zonas.</p> </div>\n",
    "\n",
    "<div style=\"background-color:#E8F5E9; padding: 20px; border-radius: 8px; font-family: Arial, sans-serif; font-size: 16px; color: #4CAF50; line-height: 1.6; margin-top: 20px;\"> \n",
    "  <h4 style=\"color: #2E7D32;\">🔍 Conclusión</h4> \n",
    "  <p>El análisis muestra que la <strong>Region 2</strong> es la más rentable, con un beneficio estimado de <strong>$1,334,185.37. En contraste, la Region 0</strong> es la menos rentable, aunque sigue siendo una opción viable con un beneficio de <strong>$1,167,939.40</strong>.</p> \n",
    "  \n",
    "  <ul style=\"color: #388E3C; margin-left: 20px;\"> \n",
    "    <li>🌟 <strong>Región más rentable:</strong> Región 2</li> \n",
    "    <li>⚠️ <strong>Región menos rentable:</strong> Región 0</li> \n",
    "  </ul> \n",
    "</div>\n",
    "\n"
   ]
  },
  {
   "cell_type": "code",
   "execution_count": 8,
   "metadata": {},
   "outputs": [
    {
     "data": {
      "text/html": [
       "\n",
       "    <style>\n",
       "        body { font-family: Arial, sans-serif; color: #4CAF50; }\n",
       "        .titulo { font-size: 24px; font-weight: bold; color: #388E3C; margin-top: 20px; }\n",
       "        .subtitulo { font-size: 20px; font-weight: bold; color: #2E7D32; margin-top: 15px; }\n",
       "        .descripcion { font-size: 16px; color: #4CAF50; margin-bottom: 15px; }\n",
       "        .alert { background-color: #E8F5E9; padding: 10px; margin-bottom: 20px; border-radius: 8px; border-left: 5px solid #4CAF50; }\n",
       "        .alert-info { background-color: #E3F2FD; border-left: 5px solid #42A5F5; }\n",
       "        .boton { background-color: #4CAF50; color: white; padding: 10px; text-align: center; border-radius: 8px; cursor: pointer; }\n",
       "        .boton:hover { background-color: #388E3C; }\n",
       "        .tabla-resultados { border-collapse: collapse; width: 100%; margin-top: 20px; }\n",
       "        .tabla-resultados th, .tabla-resultados td { border: 1px solid #ddd; padding: 8px; text-align: center; }\n",
       "        .tabla-resultados th { background-color: #4CAF50; color: white; }\n",
       "        .tabla-resultados td { color: #388E3C; }\n",
       "        .success { background-color: #4CAF50; color: white; padding: 10px; border-radius: 8px; }\n",
       "        .error { background-color: #F44336; color: white; padding: 10px; border-radius: 8px; }\n",
       "    </style>\n"
      ],
      "text/plain": [
       "<IPython.core.display.HTML object>"
      ]
     },
     "metadata": {},
     "output_type": "display_data"
    },
    {
     "ename": "NameError",
     "evalue": "name 'precio_slider' is not defined",
     "output_type": "error",
     "traceback": [
      "\u001b[0;31m---------------------------------------------------------------------------\u001b[0m",
      "\u001b[0;31mNameError\u001b[0m                                 Traceback (most recent call last)",
      "Cell \u001b[0;32mIn[8], line 207\u001b[0m\n\u001b[1;32m    204\u001b[0m boton_ejecutar\u001b[38;5;241m.\u001b[39mon_click(ejecutar_analisis)\n\u001b[1;32m    206\u001b[0m \u001b[38;5;66;03m# Mostrar los widgets y el botón de ejecución\u001b[39;00m\n\u001b[0;32m--> 207\u001b[0m display(\u001b[43mprecio_slider\u001b[49m, opciones_regiones, boton_ejecutar)\n",
      "\u001b[0;31mNameError\u001b[0m: name 'precio_slider' is not defined"
     ]
    }
   ],
   "source": [
    "import pandas as pd\n",
    "import numpy as np\n",
    "from sklearn.model_selection import train_test_split\n",
    "from sklearn.linear_model import LinearRegression, Ridge, Lasso\n",
    "from sklearn.ensemble import RandomForestRegressor\n",
    "from sklearn.metrics import mean_squared_error\n",
    "from sklearn.preprocessing import StandardScaler\n",
    "import matplotlib.pyplot as plt\n",
    "import seaborn as sns\n",
    "import ipywidgets as widgets\n",
    "from IPython.display import display, HTML, clear_output\n",
    "import time\n",
    "\n",
    "# 🎨 Estilos CSS para mejorar la visualización de la interfaz\n",
    "estilo_global = \"\"\"\n",
    "    <style>\n",
    "        body { font-family: Arial, sans-serif; color: #4CAF50; }\n",
    "        .titulo { font-size: 24px; font-weight: bold; color: #388E3C; margin-top: 20px; }\n",
    "        .subtitulo { font-size: 20px; font-weight: bold; color: #2E7D32; margin-top: 15px; }\n",
    "        .descripcion { font-size: 16px; color: #4CAF50; margin-bottom: 15px; }\n",
    "        .alert { background-color: #E8F5E9; padding: 10px; margin-bottom: 20px; border-radius: 8px; border-left: 5px solid #4CAF50; }\n",
    "        .alert-info { background-color: #E3F2FD; border-left: 5px solid #42A5F5; }\n",
    "        .boton { background-color: #4CAF50; color: white; padding: 10px; text-align: center; border-radius: 8px; cursor: pointer; }\n",
    "        .boton:hover { background-color: #388E3C; }\n",
    "        .tabla-resultados { border-collapse: collapse; width: 100%; margin-top: 20px; }\n",
    "        .tabla-resultados th, .tabla-resultados td { border: 1px solid #ddd; padding: 8px; text-align: center; }\n",
    "        .tabla-resultados th { background-color: #4CAF50; color: white; }\n",
    "        .tabla-resultados td { color: #388E3C; }\n",
    "        .success { background-color: #4CAF50; color: white; padding: 10px; border-radius: 8px; }\n",
    "        .error { background-color: #F44336; color: white; padding: 10px; border-radius: 8px; }\n",
    "    </style>\n",
    "\"\"\"\n",
    "\n",
    "# Mostrar los estilos globales\n",
    "display(HTML(estilo_global))\n",
    "\n",
    "# 🎯 Función para preparar los datos y estandarizarlos\n",
    "def preparar_datos(df):\n",
    "    X = df[['f0', 'f1', 'f2']]\n",
    "    y = df['product']\n",
    "    X_train, X_valid, y_train, y_valid = train_test_split(X, y, test_size=0.25, random_state=42)\n",
    "\n",
    "    # Estandarizar los datos\n",
    "    scaler = StandardScaler()\n",
    "    X_train_scaled = scaler.fit_transform(X_train)\n",
    "    X_valid_scaled = scaler.transform(X_valid)\n",
    "\n",
    "    return X_train_scaled, X_valid_scaled, y_train, y_valid, X_valid.index\n",
    "\n",
    "# 🎯 Función para entrenar los modelos y calcular el RMSE\n",
    "def entrenar_modelos(X_train, y_train, X_valid, y_valid):\n",
    "    modelos = {\n",
    "        \"LinearRegression\": LinearRegression(),\n",
    "        \"Ridge\": Ridge(),\n",
    "        \"Lasso\": Lasso(),\n",
    "        \"RandomForest\": RandomForestRegressor(n_estimators=100, random_state=42)\n",
    "    }\n",
    "\n",
    "    resultados = {}\n",
    "    for nombre, modelo in modelos.items():\n",
    "        modelo.fit(X_train, y_train)\n",
    "        predicciones = modelo.predict(X_valid)\n",
    "        rmse = np.sqrt(mean_squared_error(y_valid, predicciones))\n",
    "        resultados[nombre] = {\n",
    "            \"RMSE\": rmse,\n",
    "            \"Predicciones\": predicciones\n",
    "        }\n",
    "\n",
    "    return resultados\n",
    "\n",
    "# 🎯 Función para visualizar las predicciones vs valores reales\n",
    "def visualizar_predicciones(y_valid, predicciones, modelo, region):\n",
    "    plt.figure(figsize=(8, 6))\n",
    "    sns.scatterplot(x=y_valid, y=predicciones)\n",
    "    plt.plot([min(y_valid), max(y_valid)], [min(y_valid), max(y_valid)], color='red', linestyle='--')\n",
    "    plt.title(f'📊 Predicciones vs Valores Reales - {modelo} | {region}')\n",
    "    plt.xlabel('Valores Reales')\n",
    "    plt.ylabel('Predicciones')\n",
    "    plt.show()\n",
    "\n",
    "# 🎯 Función para seleccionar los 200 pozos más productivos\n",
    "def seleccionar_200_pozos(predicciones, df, valid_idx):\n",
    "    df_valid = df.loc[valid_idx].copy()  # Usar solo los datos del conjunto de validación\n",
    "    df_valid['predicciones'] = predicciones\n",
    "    pozos_seleccionados = df_valid.nlargest(200, 'predicciones')\n",
    "    return pozos_seleccionados\n",
    "\n",
    "# 🎯 Función para calcular el beneficio total\n",
    "def calcular_beneficio(pozos_seleccionados, precio_por_barril):\n",
    "    total_reservas = pozos_seleccionados['predicciones'].sum()\n",
    "    beneficio_total = total_reservas * precio_por_barril\n",
    "    return beneficio_total\n",
    "\n",
    "# 🎯 Función para aplicar los modelos y mostrar resultados en HTML con estilo\n",
    "def aplicar_modelos(df, region, precio_por_barril):\n",
    "    start_time = time.time()  # Capturar el tiempo inicial\n",
    "\n",
    "    # Preparar los datos\n",
    "    X_train, X_valid, y_train, y_valid, valid_idx = preparar_datos(df)\n",
    "\n",
    "    # Entrenar modelos y obtener resultados\n",
    "    resultados = entrenar_modelos(X_train, y_train, X_valid, y_valid)\n",
    "\n",
    "    # Mostrar resultados en HTML\n",
    "    display(HTML(f\"<div class='alert alert-info'><strong>📊 Resultados del Análisis para {region}:</strong></div>\"))\n",
    "    \n",
    "    mejor_modelo = None\n",
    "    peor_modelo = None\n",
    "    mejor_rmse = float('inf')\n",
    "    peor_rmse = float('-inf')\n",
    "\n",
    "    for modelo, resultado in resultados.items():\n",
    "        display(HTML(f\"<div class='alert alert-info'><strong>Modelo:</strong> {modelo} - <strong>RMSE:</strong> {resultado['RMSE']:.2f}</div>\"))\n",
    "        visualizar_predicciones(y_valid, resultado['Predicciones'], modelo, region)\n",
    "        \n",
    "        if resultado['RMSE'] < mejor_rmse:\n",
    "            mejor_rmse = resultado['RMSE']\n",
    "            mejor_modelo = modelo\n",
    "        \n",
    "        if resultado['RMSE'] > peor_rmse:\n",
    "            peor_rmse = resultado['RMSE']\n",
    "            peor_modelo = modelo\n",
    "\n",
    "    # Seleccionar los pozos más productivos\n",
    "    pozos_mas_productivos = seleccionar_200_pozos(resultados['LinearRegression']['Predicciones'], df, valid_idx)\n",
    "    \n",
    "    # Calcular el beneficio total con el precio del barril\n",
    "    beneficio_total = calcular_beneficio(pozos_mas_productivos, precio_por_barril)\n",
    "    \n",
    "    # Mostrar pozos seleccionados en una tabla HTML y el beneficio\n",
    "    tabla_pozos = pozos_mas_productivos[['product', 'predicciones']].head(10).to_html(index=False, classes='tabla-resultados')\n",
    "    display(HTML(f\"<div class='success'><strong>✅ 200 Pozos más Productivos Seleccionados (Ejemplo) para {region}:</strong></div>{tabla_pozos}\"))\n",
    "    display(HTML(f\"<div class='success'><strong>💲 Beneficio Total Estimado para {region}:</strong> ${beneficio_total:,.2f}</div>\"))\n",
    "\n",
    "    end_time = time.time()  # Capturar el tiempo final\n",
    "    total_time = end_time - start_time\n",
    "    display(HTML(f\"<div class='alert alert-info'><strong>⏳ Tiempo total de ejecución para {region}:</strong> {total_time:.2f} segundos</div>\"))\n",
    "\n",
    "    return mejor_modelo, peor_modelo, mejor_rmse, peor_rmse\n",
    "\n",
    "# 🎯 Botón para ejecutar el análisis completo\n",
    "boton_ejecutar = widgets.Button(\n",
    "    description='🚀 Ejecutar Análisis',\n",
    "    button_style='success',\n",
    "    layout=widgets.Layout(width='300px')\n",
    ")\n",
    "\n",
    "# Función para ejecutar el análisis al hacer clic en el botón\n",
    "def ejecutar_analisis(b):\n",
    "    clear_output(wait=True)  # Limpiar la salida anterior\n",
    "    display(HTML(estilo_global))  # Asegurarse de que los estilos globales se vuelvan a mostrar\n",
    "    \n",
    "    # Mostrar las regiones disponibles en el DataFrame\n",
    "    print(\"Regiones disponibles en el DataFrame 'dfs':\", dfs['region'].unique())\n",
    "\n",
    "    # Filtrar el DataFrame 'dfs' por las regiones seleccionadas\n",
    "    regiones_seleccionadas = list(opciones_regiones.value)\n",
    "    \n",
    "    # Mostrar las regiones seleccionadas por el usuario\n",
    "    print(\"Regiones seleccionadas por el usuario:\", regiones_seleccionadas)\n",
    "\n",
    "    mejor_modelo_global = None\n",
    "    peor_modelo_global = None\n",
    "    mejor_rmse_global = float('inf')\n",
    "    peor_rmse_global = float('-inf')\n",
    "\n",
    "    for region in regiones_seleccionadas:\n",
    "        df_filtrado = dfs[dfs['region'] == region]\n",
    "\n",
    "        # Comprobar si hay suficientes datos para el análisis (mínimo de 200 pozos)\n",
    "        if len(df_filtrado) < 200:\n",
    "            display(HTML(f\"<div class='alert error'>❌ Error: No hay suficientes datos para realizar el análisis en {region}. Se requieren al menos 200 pozos por región.</div>\"))\n",
    "            continue\n",
    "        \n",
    "        # Mostrar mensaje de inicio de análisis\n",
    "        display(HTML(f\"<div class='alert alert-info'>⚙️ Iniciando el análisis para {region}... Generando gráficos, por favor espere...</div>\"))\n",
    "\n",
    "        # Obtener el precio seleccionado por barril\n",
    "        precio_por_barril = precio_slider.value\n",
    "\n",
    "        # Aplicar los modelos y calcular resultados para cada región\n",
    "        try:\n",
    "            mejor_modelo_region, peor_modelo_region, mejor_rmse_region, peor_rmse_region = aplicar_modelos(df_filtrado, region, precio_por_barril)\n",
    "\n",
    "            # Comparar con los resultados globales para determinar el mejor y peor modelo\n",
    "            if mejor_rmse_region < mejor_rmse_global:\n",
    "                mejor_rmse_global = mejor_rmse_region\n",
    "                mejor_modelo_global = (mejor_modelo_region, region)\n",
    "\n",
    "            if peor_rmse_region > peor_rmse_global:\n",
    "                peor_rmse_global = peor_rmse_region\n",
    "                peor_modelo_global = (peor_modelo_region, region)\n",
    "\n",
    "        except Exception as e:\n",
    "            # Capturar errores inesperados durante la ejecución\n",
    "            display(HTML(f\"<div class='alert error'>❌ Error durante la ejecución para {region}: {str(e)}</div>\"))\n",
    "\n",
    "    # Mostrar el mejor y peor modelo global\n",
    "    if mejor_modelo_global and peor_modelo_global:\n",
    "        display(HTML(f\"<div class='alert alert-info'><strong>🏆 Mejor Modelo Global:</strong> {mejor_modelo_global[0]} en la {mejor_modelo_global[1]} con RMSE: {mejor_rmse_global:.2f}</div>\"))\n",
    "        display(HTML(f\"<div class='alert alert-info'><strong>💔 Peor Modelo Global:</strong> {peor_modelo_global[0]} en la {peor_modelo_global[1]} con RMSE: {peor_rmse_global:.2f}</div>\"))\n",
    "\n",
    "# Asociar la función de ejecución con el botón\n",
    "boton_ejecutar.on_click(ejecutar_analisis)\n",
    "\n",
    "# Mostrar los widgets y el botón de ejecución\n",
    "display(precio_slider, opciones_regiones, boton_ejecutar)\n"
   ]
  },
  {
   "cell_type": "markdown",
   "metadata": {},
   "source": [
    "<!-- Análisis de Modelos por Región -->\n",
    "<div style=\"background-color:#E8F5E9; padding: 20px; border-radius: 8px; font-family: Arial, sans-serif; font-size: 16px; color: #4CAF50; line-height: 1.6;\">\n",
    "    <!-- Título principal -->\n",
    "    <h4 style=\"color: #2E7D32;\">📊 Análisis de Modelos por Región</h4>\n",
    "    <p style=\"text-align: justify;\">Se ha completado el análisis de las tres regiones seleccionadas, y los resultados muestran los siguientes valores clave:</p>\n",
    "    <!-- Resultados Región 0 -->\n",
    "    <div style=\"background-color:#F1F8E9; padding: 15px; border-radius: 8px; margin-top: 20px;\">\n",
    "        <h5 style=\"color: #2E7D32;\">📍 Región 0</h5>\n",
    "        <ul style=\"color: #388E3C; list-style-type: none; padding-left: 0;\">\n",
    "            <li><strong>Mejor modelo:</strong> Regresión Lineal y Ridge</li>\n",
    "            <li><strong>RMSE:</strong> 37.74</li>\n",
    "            <li><strong>Beneficio total estimado:</strong> $1,476,544.14 para los 200 pozos más productivos</li>\n",
    "        </ul>\n",
    "    </div>\n",
    "    <!-- Resultados Región 1 -->\n",
    "    <div style=\"background-color:#F1F8E9; padding: 15px; border-radius: 8px; margin-top: 20px;\">\n",
    "        <h5 style=\"color: #2E7D32;\">📍 Región 1</h5>\n",
    "        <ul style=\"color: #388E3C; list-style-type: none; padding-left: 0;\">\n",
    "            <li><strong>Mejor modelo global:</strong> Ridge</li>\n",
    "            <li><strong>RMSE:</strong> 1.18</li>\n",
    "            <li><strong>Beneficio total estimado:</strong> $1,379,283.15</li>\n",
    "        </ul>\n",
    "    </div>\n",
    "    <!-- Resultados Región 2 -->\n",
    "    <div style=\"background-color:#F1F8E9; padding: 15px; border-radius: 8px; margin-top: 20px;\">\n",
    "        <h5 style=\"color: #2E7D32;\">📍 Región 2</h5>\n",
    "        <ul style=\"color: #388E3C; list-style-type: none; padding-left: 0;\">\n",
    "            <li><strong>Mejor modelo:</strong> RandomForest</li>\n",
    "            <li><strong>RMSE:</strong> 39.58</li>\n",
    "            <li><strong>Peor modelo:</strong> Lasso</li>\n",
    "            <li><strong>RMSE del peor modelo:</strong> 40.32</li>\n",
    "            <li><strong>Beneficio total estimado:</strong> $1,573,636.50 para los pozos más productivos</li>\n",
    "        </ul>\n",
    "    </div>\n",
    "    <!-- Resumen Global -->\n",
    "    <div style=\"background-color:#F1F8E9; padding: 15px; border-radius: 8px; margin-top: 20px;\">\n",
    "        <h4 style=\"color: #2E7D32;\">📈 Resumen Global</h4>\n",
    "        <ul style=\"color: #388E3C; list-style-type: none; padding-left: 0;\">\n",
    "            <li><strong>Mejor modelo global:</strong> Ridge en la Región 1 con un RMSE de 1.18</li>\n",
    "            <li><strong>Peor modelo global:</strong> Lasso en la Región 2 con un RMSE de 40.32</li>\n",
    "        </ul>\n",
    "    </div>\n",
    "</div>\n"
   ]
  },
  {
   "cell_type": "markdown",
   "metadata": {},
   "source": [
    "<!-- Análisis de Pozos: Entrenamiento de Modelos y Beneficio Total -->\n",
    "<div style='background-color: #E8F5E9; padding: 20px; border-radius: 8px; font-family: Arial, sans-serif; font-size: 16px; color: #4CAF50; line-height: 1.6;'>\n",
    "\n",
    "  <!-- Título principal -->\n",
    "  <h1 style='color: #388E3C; font-size: 28px;'>⚙️ Entrenamiento de Modelos y Cálculo del Beneficio Total</h1>\n",
    "\n",
    "  <!-- Descripción general -->\n",
    "  <h3 style='color: #2E7D32; font-size: 22px;'>📄 Descripción General</h3>\n",
    "  <p style='text-align: justify;'>Este análisis entrena varios modelos de regresión para predecir la producción de los pozos de petróleo. Se seleccionan los 200 pozos más productivos y se calcula el beneficio total en función de un precio por barril personalizado. Se ofrece la opción de seleccionar regiones específicas para aplicar el análisis y visualizar el beneficio.</p>\n",
    "</div>\n",
    "\n",
    "<!-- Funciones Clave -->\n",
    "<div style='background-color: #E8F5E9; padding: 20px; border-radius: 8px; font-family: Arial, sans-serif; font-size: 16px; color: #4CAF50; line-height: 1.6; margin-top: 20px;'>\n",
    "\n",
    "  <h4 style='color: #2E7D32; font-size: 20px;'>🔑 Funciones Clave</h4>\n",
    "  <ul style='list-style-type: none; padding-left: 0; color: #388E3C;'>\n",
    "    <li>🔄 <strong>preparar_datos(df):</strong> Divide el conjunto de datos en entrenamiento y validación, estandarizando las características (<code>f0</code>, <code>f1</code>, <code>f2</code>).</li>\n",
    "    <li>💻 <strong>entrenar_modelos(X_train, y_train, X_valid, y_valid):</strong> Entrena varios modelos de regresión, incluyendo Regresión Lineal, Ridge, Lasso y Random Forest, y calcula el RMSE y el tiempo de ejecución.</li>\n",
    "    <li>📊 <strong>visualizar_predicciones(y_valid, predicciones, modelo):</strong> Muestra un gráfico que compara las predicciones generadas por los modelos con los valores reales, facilitando la visualización de la precisión de los modelos.</li>\n",
    "    <li>📈 <strong>seleccionar_200_pozos(predicciones, df, valid_idx):</strong> Selecciona los 200 pozos más productivos en base a las predicciones generadas.</li>\n",
    "    <li>💰 <strong>calcular_beneficio(pozos_seleccionados, precio_por_barril):</strong> Calcula el beneficio total en función del volumen de producción y el precio por barril seleccionado.</li>\n",
    "  </ul>\n",
    "</div>\n",
    "\n",
    "<!-- Modelos de Regresión Utilizados -->\n",
    "<div style='background-color: #E8F5E9; padding: 20px; border-radius: 8px; font-family: Arial, sans-serif; font-size: 16px; color: #4CAF50; line-height: 1.6; margin-top: 20px;'>\n",
    "\n",
    "  <h4 style='color: #2E7D32; font-size: 20px;'>🧠 Modelos de Regresión Utilizados</h4>\n",
    "  <ul style='list-style-type: none; padding-left: 0; color: #388E3C;'>\n",
    "    <li>🔢 <strong>Linear Regression:</strong> Modelo de regresión lineal básica para predecir la producción de petróleo.</li>\n",
    "    <li>🔧 <strong>Ridge Regression:</strong> Introduce una penalización en los coeficientes para evitar el sobreajuste.</li>\n",
    "    <li>📉 <strong>Lasso Regression:</strong> Similar a Ridge, pero puede forzar algunos coeficientes a cero, seleccionando características automáticamente.</li>\n",
    "    <li>🌳 <strong>Random Forest Regressor:</strong> Utiliza múltiples árboles de decisión para mejorar la precisión y robustez de las predicciones.</li>\n",
    "  </ul>\n",
    "</div>\n",
    "\n",
    "<!-- Predicción y Selección de Pozos -->\n",
    "<div style='background-color: #E8F5E9; padding: 20px; border-radius: 8px; font-family: Arial, sans-serif; font-size: 16px; color: #4CAF50; line-height: 1.6; margin-top: 20px;'>\n",
    "\n",
    "  <h4 style='color: #2E7D32; font-size: 20px;'>📊 Predicción y Selección de Pozos Más Productivos</h4>\n",
    "  <p style='text-align: justify;'>Tras entrenar los modelos, se seleccionan los 200 pozos con las predicciones más altas mediante la función <code>seleccionar_200_pozos()</code>. El beneficio total se calcula a partir del volumen de producción predicho y el precio del barril, que puede ajustarse mediante un control interactivo.</p>\n",
    "</div>\n",
    "\n",
    "<!-- Visualización de Resultados -->\n",
    "<div style='background-color: #E8F5E9; padding: 20px; border-radius: 8px; font-family: Arial, sans-serif; font-size: 16px; color: #4CAF50; line-height: 1.6; margin-top: 20px;'>\n",
    "\n",
    "  <h4 style='color: #2E7D32; font-size: 20px;'>📊 Visualización de Resultados</h4>\n",
    "  <p style='text-align: justify;'>Los resultados se muestran en una tabla HTML con los modelos ordenados por RMSE. Además, los usuarios pueden ver un gráfico interactivo que muestra las predicciones frente a los valores reales, proporcionando una visión clara de la precisión del modelo. El gráfico incluye una línea roja que indica la perfección predictiva, ayudando a evaluar el rendimiento del modelo.</p>\n",
    "</div>\n",
    "\n",
    "<!-- Ejecución del Análisis -->\n",
    "<div style='background-color: #E8F5E9; padding: 20px; border-radius: 8px; font-family: Arial, sans-serif; font-size: 16px; color: #4CAF50; line-height: 1.6; margin-top: 20px;'>\n",
    "\n",
    "  <h4 style='color: #2E7D32; font-size: 20px;'>⚙️ Ejecución del Análisis</h4>\n",
    "  <ol style='color: #388E3C;'>\n",
    "    <li>Los usuarios pueden seleccionar el precio del barril y el número de pozos a analizar utilizando los controles interactivos de widgets.</li>\n",
    "    <li>Se filtran los datos de las regiones seleccionadas y se prepara el conjunto de datos para el análisis mediante <code>preparar_datos()</code>.</li>\n",
    "    <li>Los modelos se entrenan utilizando la función <code>entrenar_modelos()</code>, mostrando el RMSE y el tiempo de ejecución de cada modelo.</li>\n",
    "    <li>Se seleccionan los 200 pozos más productivos, y se calcula el beneficio total basado en el precio del barril ajustado por el usuario.</li>\n",
    "  </ol>\n",
    "</div>\n",
    "\n",
    "<!-- Ventajas del Enfoque -->\n",
    "<div style='background-color: #E8F5E9; padding: 20px; border-radius: 8px; font-family: Arial, sans-serif; font-size: 16px; color: #4CAF50; line-height: 1.6; margin-top: 20px;'>\n",
    "\n",
    "  <h4 style='color: #2E7D32; font-size: 20px;'>🌟 Ventajas del Enfoque</h4>\n",
    "  <ul style='list-style-type: none; padding-left: 0; color: #388E3C;'>\n",
    "    <li>✅ <strong>Comparación de modelos:</strong> Evalúa varios modelos de regresión, optimizando la selección en base al RMSE.</li>\n",
    "    <li>💰 <strong>Personalización del beneficio:</strong> Permite ajustar el precio del barril para calcular un beneficio más preciso según las condiciones del mercado.</li>\n",
    "    <li>📊 <strong>Visualización clara:</strong> Los resultados y predicciones se presentan en tablas y gráficos de fácil interpretación.</li>\n",
    "    <li>🎛️ <strong>Interactividad:</strong> Los controles de widgets permiten personalizar el análisis y la visualización en tiempo real.</li>\n",
    "  </ul>\n",
    "</div>\n",
    "\n"
   ]
  },
  {
   "cell_type": "code",
   "execution_count": null,
   "metadata": {
    "scrolled": false
   },
   "outputs": [],
   "source": [
    "import pandas as pd\n",
    "import numpy as np\n",
    "from sklearn.model_selection import train_test_split\n",
    "from sklearn.linear_model import LinearRegression, Ridge, Lasso\n",
    "from sklearn.ensemble import RandomForestRegressor\n",
    "from sklearn.metrics import mean_squared_error\n",
    "from sklearn.preprocessing import StandardScaler\n",
    "import matplotlib.pyplot as plt\n",
    "import seaborn as sns\n",
    "import ipywidgets as widgets\n",
    "from IPython.display import display, HTML, clear_output\n",
    "import time\n",
    "import warnings\n",
    "warnings.filterwarnings('ignore')\n",
    "\n",
    "# 🎨 Estilos CSS para mejorar la visualización de la interfaz\n",
    "estilo_global = \"\"\"\n",
    "    <style>\n",
    "        body { font-family: Arial, sans-serif; color: #4CAF50; }\n",
    "        .titulo { font-size: 24px; font-weight: bold; color: #388E3C; margin-top: 20px; }\n",
    "        .subtitulo { font-size: 20px; font-weight: bold; color: #2E7D32; margin-top: 15px; }\n",
    "        .descripcion { font-size: 16px; color: #4CAF50; margin-bottom: 15px; }\n",
    "        .alert { background-color: #E8F5E9; padding: 10px; margin-bottom: 20px; border-radius: 8px; border-left: 5px solid #4CAF50; }\n",
    "        .alert-info { background-color: #E3F2FD; border-left: 5px solid #42A5F5; }\n",
    "        .boton { background-color: #4CAF50; color: white; padding: 10px; text-align: center; border-radius: 8px; cursor: pointer; }\n",
    "        .boton:hover { background-color: #388E3C; }\n",
    "        .tabla-resultados { border-collapse: collapse; width: 100%; margin-top: 20px; }\n",
    "        .tabla-resultados th, .tabla-resultados td { border: 1px solid #ddd; padding: 8px; text-align: center; }\n",
    "        .tabla-resultados th { background-color: #4CAF50; color: white; }\n",
    "        .tabla-resultados td { color: #388E3C; }\n",
    "        .success { background-color: #4CAF50; color: white; padding: 10px; border-radius: 8px; }\n",
    "        .error { background-color: #F44336; color: white; padding: 10px; border-radius: 8px; }\n",
    "    </style>\n",
    "\"\"\"\n",
    "\n",
    "# Mostrar los estilos globales\n",
    "display(HTML(estilo_global))\n",
    "\n",
    "# 🎯 Función para preparar los datos y estandarizarlos\n",
    "def preparar_datos(df):\n",
    "    if df.empty or len(df) < 10:  # Asegurarse de que hay suficientes datos\n",
    "        display(HTML(\"<div class='resultado error'>Error: No hay suficientes datos para realizar el análisis.</div>\"))\n",
    "        return None, None, None, None, None\n",
    "\n",
    "    X = df[['f0', 'f1', 'f2']]\n",
    "    y = df['product']\n",
    "    X_train, X_valid, y_train, y_valid = train_test_split(X, y, test_size=0.25, random_state=42)\n",
    "\n",
    "    # Estandarizar los datos\n",
    "    scaler = StandardScaler()\n",
    "    X_train_scaled = scaler.fit_transform(X_train)\n",
    "    X_valid_scaled = scaler.transform(X_valid)\n",
    "\n",
    "    return X_train_scaled, X_valid_scaled, y_train, y_valid, X_valid.index\n",
    "\n",
    "# 🎯 Función para entrenar los modelos y calcular el RMSE\n",
    "def entrenar_modelos(X_train, y_train, X_valid, y_valid):\n",
    "    modelos = {\n",
    "        \"LinearRegression\": LinearRegression(),\n",
    "        \"Ridge\": Ridge(),\n",
    "        \"Lasso\": Lasso(),\n",
    "        \"RandomForest\": RandomForestRegressor(n_estimators=100, random_state=42)\n",
    "    }\n",
    "\n",
    "    resultados = []\n",
    "    for nombre, modelo in modelos.items():\n",
    "        modelo.fit(X_train, y_train)\n",
    "        predicciones = modelo.predict(X_valid)\n",
    "        rmse = np.sqrt(mean_squared_error(y_valid, predicciones))\n",
    "        resultados.append({\n",
    "            \"Modelo\": nombre,\n",
    "            \"RMSE\": rmse,\n",
    "            \"Predicciones\": predicciones\n",
    "        })\n",
    "\n",
    "    # Ordenar por RMSE (menor a mayor)\n",
    "    resultados_ordenados = sorted(resultados, key=lambda x: x['RMSE'])\n",
    "    return resultados_ordenados\n",
    "\n",
    "# 🎯 Función para visualizar predicciones vs valores reales\n",
    "def visualizar_predicciones(y_valid, predicciones, modelo, region=None):\n",
    "    plt.figure(figsize=(8, 6))\n",
    "    sns.scatterplot(x=y_valid, y=predicciones)\n",
    "    plt.plot([min(y_valid), max(y_valid)], [min(y_valid), max(y_valid)], color='red', linestyle='--')\n",
    "    title = f'📊 Predicciones vs Valores Reales - {modelo}'\n",
    "    if region:\n",
    "        title += f' | {region}'\n",
    "    plt.title(title)\n",
    "    plt.xlabel('Valores Reales')\n",
    "    plt.ylabel('Predicciones')\n",
    "    plt.show()\n",
    "\n",
    "# 🎯 Función para seleccionar los 200 pozos más productivos\n",
    "def seleccionar_200_pozos(predicciones, df, valid_idx):\n",
    "    df_valid = df.loc[valid_idx].copy()  # Usar solo los datos del conjunto de validación\n",
    "    df_valid['predicciones'] = predicciones\n",
    "    pozos_seleccionados = df_valid.nlargest(200, 'predicciones')\n",
    "    return pozos_seleccionados\n",
    "\n",
    "# 🎯 Función para calcular el beneficio total\n",
    "def calcular_beneficio(pozos_seleccionados, precio_por_barril):\n",
    "    total_reservas = pozos_seleccionados['predicciones'].sum()\n",
    "    beneficio_total = total_reservas * precio_por_barril\n",
    "    return beneficio_total\n",
    "\n",
    "# 🎯 Función para aplicar los modelos y mostrar resultados en HTML con estilo\n",
    "def aplicar_modelos(df, region, precio_por_barril):\n",
    "    start_time = time.time()  # Capturar el tiempo inicial\n",
    "\n",
    "    # Preparar los datos\n",
    "    X_train, X_valid, y_train, y_valid, valid_idx = preparar_datos(df)\n",
    "\n",
    "    # Entrenar modelos y obtener resultados\n",
    "    resultados = entrenar_modelos(X_train, y_train, X_valid, y_valid)\n",
    "\n",
    "    # Mostrar resultados en HTML\n",
    "    display(HTML(f\"<div class='alert alert-info'><strong>📊 Resultados del Análisis para {region}:</strong></div>\"))\n",
    "    \n",
    "    mejor_modelo = None\n",
    "    peor_modelo = None\n",
    "    mejor_rmse = float('inf')\n",
    "    peor_rmse = float('-inf')\n",
    "\n",
    "    for resultado in resultados:\n",
    "        display(HTML(f\"<div class='alert alert-info'><strong>Modelo:</strong> {resultado['Modelo']} - <strong>RMSE:</strong> {resultado['RMSE']:.2f}</div>\"))\n",
    "        visualizar_predicciones(y_valid, resultado['Predicciones'], resultado['Modelo'], region)\n",
    "        \n",
    "        if resultado['RMSE'] < mejor_rmse:\n",
    "            mejor_rmse = resultado['RMSE']\n",
    "            mejor_modelo = resultado['Modelo']\n",
    "        \n",
    "        if resultado['RMSE'] > peor_rmse:\n",
    "            peor_rmse = resultado['RMSE']\n",
    "            peor_modelo = resultado['Modelo']\n",
    "\n",
    "    # Seleccionar los pozos más productivos\n",
    "    pozos_mas_productivos = seleccionar_200_pozos(resultados[0]['Predicciones'], df, valid_idx)\n",
    "    \n",
    "    # Calcular el beneficio total con el precio del barril\n",
    "    beneficio_total = calcular_beneficio(pozos_mas_productivos, precio_por_barril)\n",
    "    \n",
    "    # Mostrar pozos seleccionados en una tabla HTML y el beneficio\n",
    "    tabla_pozos = pozos_mas_productivos[['product', 'predicciones']].head(10).to_html(index=False, classes='tabla-resultados')\n",
    "    display(HTML(f\"<div class='success'><strong>✅ 200 Pozos más Productivos Seleccionados (Ejemplo) para {region}:</strong></div>{tabla_pozos}\"))\n",
    "    display(HTML(f\"<div class='success'><strong>💲 Beneficio Total Estimado para {region}:</strong> ${beneficio_total:,.2f}</div>\"))\n",
    "\n",
    "    end_time = time.time()  # Capturar el tiempo final\n",
    "    total_time = end_time - start_time\n",
    "    display(HTML(f\"<div class='alert alert-info'><strong>⏳ Tiempo total de ejecución para {region}:</strong> {total_time:.2f} segundos</div>\"))\n",
    "\n",
    "    return mejor_modelo, peor_modelo, mejor_rmse, peor_rmse\n",
    "\n",
    "# 🎯 Botón para ejecutar el análisis completo\n",
    "boton_ejecutar = widgets.Button(\n",
    "    description='🚀 Ejecutar Análisis',\n",
    "    button_style='success',\n",
    "    layout=widgets.Layout(width='300px')\n",
    ")\n",
    "\n",
    "# Función para ejecutar el análisis al hacer clic en el botón\n",
    "def ejecutar_analisis(b):\n",
    "    clear_output(wait=True)  # Limpiar la salida anterior\n",
    "    display(HTML(estilo_global))  # Asegurarse de que los estilos globales se vuelvan a mostrar\n",
    "    \n",
    "    # Mostrar las regiones disponibles en el DataFrame\n",
    "    print(\"Regiones disponibles en el DataFrame 'dfs':\", dfs['region'].unique())\n",
    "\n",
    "    # Filtrar el DataFrame 'dfs' por las regiones seleccionadas\n",
    "    regiones_seleccionadas = list(opciones_regiones.value)\n",
    "    \n",
    "    # Mostrar las regiones seleccionadas por el usuario\n",
    "    print(\"Regiones seleccionadas por el usuario:\", regiones_seleccionadas)\n",
    "\n",
    "    mejor_modelo_global = None\n",
    "    peor_modelo_global = None\n",
    "    mejor_rmse_global = float('inf')\n",
    "    peor_rmse_global = float('-inf')\n",
    "\n",
    "    for region in regiones_seleccionadas:\n",
    "        df_filtrado = dfs[dfs['region'] == region]\n",
    "\n",
    "        # Comprobar si hay suficientes datos para el análisis (mínimo de 200 pozos)\n",
    "        if len(df_filtrado) < 200:\n",
    "            display(HTML(f\"<div class='alert error'>❌ Error: No hay suficientes datos para realizar el análisis en {region}. Se requieren al menos 200 pozos por región.</div>\"))\n",
    "            continue\n",
    "        \n",
    "        # Mostrar mensaje de inicio de análisis\n",
    "        display(HTML(f\"<div class='alert alert-info'>⚙️ Iniciando el análisis para {region}... Generando gráficos, por favor espere...</div>\"))\n",
    "\n",
    "        # Obtener el precio seleccionado por barril\n",
    "        precio_por_barril = precio_slider.value\n",
    "\n",
    "        # Aplicar los modelos y calcular resultados para cada región\n",
    "        try:\n",
    "            mejor_modelo_region, peor_modelo_region, mejor_rmse_region, peor_rmse_region = aplicar_modelos(df_filtrado, region, precio_por_barril)\n",
    "\n",
    "            # Comparar con los resultados globales para determinar el mejor y peor modelo\n",
    "            if mejor_rmse_region < mejor_rmse_global:\n",
    "                mejor_rmse_global = mejor_rmse_region\n",
    "                mejor_modelo_global = (mejor_modelo_region, region)\n",
    "\n",
    "            if peor_rmse_region > peor_rmse_global:\n",
    "                peor_rmse_global = peor_rmse_region\n",
    "                peor_modelo_global = (peor_modelo_region, region)\n",
    "\n",
    "        except Exception as e:\n",
    "            # Capturar errores inesperados durante la ejecución\n",
    "            display(HTML(f\"<div class='alert error'>❌ Error durante la ejecución para {region}: {str(e)}</div>\"))\n",
    "\n",
    "    # Mostrar el mejor y peor modelo global\n",
    "    if mejor_modelo_global and peor_modelo_global:\n",
    "        display(HTML(f\"<div class='alert alert-info'><strong>🏆 Mejor Modelo Global:</strong> {mejor_modelo_global[0]} en la {mejor_modelo_global[1]} con RMSE: {mejor_rmse_global:.2f}</div>\"))\n",
    "        display(HTML(f\"<div class='alert alert-info'><strong>💔 Peor Modelo Global:</strong> {peor_modelo_global[0]} en la {peor_modelo_global[1]} con RMSE: {peor_rmse_global:.2f}</div>\"))\n",
    "\n",
    "# Asociar la función de ejecución con el botón\n",
    "boton_ejecutar.on_click(ejecutar_analisis)\n",
    "\n",
    "# Widgets para la selección de parámetros\n",
    "precio_slider = widgets.FloatSlider(value=50, min=10, max=150, step=5, description='💲 Precio/Barril (USD):', layout=widgets.Layout(width='500px'))\n",
    "pozos_slider = widgets.IntSlider(value=200, min=50, max=300, step=10, description='📍 Pozos Seleccionados:', layout=widgets.Layout(width='500px'))\n",
    "\n",
    "# Widget para seleccionar regiones\n",
    "opciones_regiones = widgets.SelectMultiple(\n",
    "    options=['Region 0', 'Region 1', 'Region 2'],  # Reemplazar con los nombres reales de las regiones\n",
    "    value=['Region 0'],  # Valor predeterminado\n",
    "    description='📍 Regiones:',\n",
    "    layout=widgets.Layout(width='500px', height='120px')\n",
    ")\n",
    "\n",
    "# Mostrar los widgets y el botón de ejecución\n",
    "display(precio_slider, opciones_regiones, boton_ejecutar)\n"
   ]
  },
  {
   "cell_type": "markdown",
   "metadata": {},
   "source": [
    "<!-- Análisis de Modelos por Región -->\n",
    "<div style=\"background-color:#E8F5E9; padding: 20px; border-radius: 8px; font-family: Arial, sans-serif; font-size: 16px; color: #4CAF50; line-height: 1.6;\">\n",
    "    <!-- Título principal -->\n",
    "    <h4 style=\"color: #2E7D32;\">📊 Análisis de Modelos por Región</h4>\n",
    "    <p style=\"text-align: justify;\">Se ha completado el análisis de las tres regiones seleccionadas, y los resultados muestran los siguientes valores clave:</p>\n",
    "    <!-- Resultados Región 0 -->\n",
    "    <div style=\"background-color:#F1F8E9; padding: 15px; border-radius: 8px; margin-top: 20px;\">\n",
    "        <h5 style=\"color: #2E7D32;\">📍 Región 0</h5>\n",
    "        <ul style=\"color: #388E3C; list-style-type: none; padding-left: 0;\">\n",
    "            <li><strong>Mejor modelo:</strong> Regresión Lineal y Ridge</li>\n",
    "            <li><strong>RMSE:</strong> 37.74</li>\n",
    "            <li><strong>Beneficio total estimado:</strong> $1,476,544.14 para los 200 pozos más productivos</li>\n",
    "        </ul>\n",
    "    </div>\n",
    "    <!-- Resultados Región 1 -->\n",
    "    <div style=\"background-color:#F1F8E9; padding: 15px; border-radius: 8px; margin-top: 20px;\">\n",
    "        <h5 style=\"color: #2E7D32;\">📍 Región 1</h5>\n",
    "        <ul style=\"color: #388E3C; list-style-type: none; padding-left: 0;\">\n",
    "            <li><strong>Mejor modelo global:</strong> Ridge</li>\n",
    "            <li><strong>RMSE:</strong> 1.18</li>\n",
    "            <li><strong>Beneficio total estimado:</strong> $1,379,324.61</li>\n",
    "        </ul>\n",
    "    </div>\n",
    "    <!-- Resultados Región 2 -->\n",
    "    <div style=\"background-color:#F1F8E9; padding: 15px; border-radius: 8px; margin-top: 20px;\">\n",
    "        <h5 style=\"color: #2E7D32;\">📍 Región 2</h5>\n",
    "        <ul style=\"color: #388E3C; list-style-type: none; padding-left: 0;\">\n",
    "            <li><strong>Mejor modelo:</strong> RandomForest</li>\n",
    "            <li><strong>RMSE:</strong> Aún no disponible</li>\n",
    "            <li><strong>Beneficio total estimado:</strong> Análisis en curso</li>\n",
    "        </ul>\n",
    "    </div>\n",
    "    <!-- Resumen Global -->\n",
    "    <div style=\"background-color:#F1F8E9; padding: 15px; border-radius: 8px; margin-top: 20px;\">\n",
    "        <h4 style=\"color: #2E7D32;\">📈 Resumen Global</h4>\n",
    "        <ul style=\"color: #388E3C; list-style-type: none; padding-left: 0;\">\n",
    "            <li><strong>Mejor modelo global:</strong> Ridge en la Región 1 con un RMSE de 1.18</li>\n",
    "            <li><strong>Beneficio total:</strong> $1,476,544.14 (Región 0) y $1,379,324.61 (Región 1)</li>\n",
    "        </ul>\n",
    "    </div>\n",
    "</div>"
   ]
  },
  {
   "cell_type": "markdown",
   "metadata": {},
   "source": [
    "<!-- Sección de Análisis de Riesgo con Bootstrapping -->\n",
    "<div style='background-color: #F9EBEA; padding: 20px; border-radius: 8px; font-family: Arial, sans-serif; font-size: 16px; color: #C0392B; line-height: 1.6;'>\n",
    "\n",
    "  <!-- Título principal -->\n",
    "  <h1 style='color: #E74C3C; font-size: 28px;'>⚙️ Análisis de Riesgo con Bootstrapping</h1>\n",
    "\n",
    "  <!-- Descripción general -->\n",
    "  <h3 style='color: #C0392B; font-size: 22px;'>📄 Descripción del Análisis</h3>\n",
    "  <p style='text-align: justify;'>Este análisis aplica Bootstrapping para evaluar la incertidumbre en la predicción de beneficios para las tres regiones seleccionadas. Realizamos múltiples simulaciones para obtener la distribución de beneficios y así entender los posibles escenarios de riesgo.</p>\n",
    "</div>\n",
    "\n",
    "<!-- Distribuciones Analizadas -->\n",
    "<div style='background-color: #F9EBEA; padding: 20px; border-radius: 8px; font-family: Arial, sans-serif; font-size: 16px; color: #C0392B; line-height: 1.6; margin-top: 20px;'>\n",
    "\n",
    "  <h4 style='color: #C0392B; font-size: 20px;'>🔑 Distribuciones Analizadas</h4>\n",
    "  <ul style='list-style-type: none; padding-left: 0; color: #E74C3C;'>\n",
    "    <li>📈 <strong>Distribución del Beneficio Total:</strong> Beneficio total en función de las simulaciones de pozos más productivos.</li>\n",
    "    <li>📉 <strong>Distribución de Pozos Productivos:</strong> Evaluación del comportamiento de los pozos productivos seleccionados en cada simulación.</li>\n",
    "  </ul>\n",
    "</div>\n",
    "\n",
    "<!-- Visualización de Resultados -->\n",
    "<div style='background-color: #F9EBEA; padding: 20px; border-radius: 8px; font-family: Arial, sans-serif; font-size: 16px; color: #C0392B; line-height: 1.6; margin-top: 20px;'>\n",
    "\n",
    "  <h4 style='color: #C0392B; font-size: 20px;'>📊 Visualización de Resultados</h4>\n",
    "  <p style='text-align: justify;'>Se muestra la distribución de los beneficios totales en un histograma, además del análisis de estadísticas clave como el promedio, percentiles y la variabilidad en los resultados.</p>\n",
    "</div>\n"
   ]
  },
  {
   "cell_type": "code",
   "execution_count": null,
   "metadata": {},
   "outputs": [],
   "source": [
    "import pandas as pd\n",
    "import numpy as np\n",
    "from joblib import Parallel, delayed\n",
    "import matplotlib.pyplot as plt\n",
    "import seaborn as sns\n",
    "from sklearn.preprocessing import StandardScaler, MinMaxScaler\n",
    "from IPython.display import display, HTML, clear_output\n",
    "import ipywidgets as widgets\n",
    "import time\n",
    "import plotly.express as px\n",
    "import plotly.graph_objects as go\n",
    "from rich.console import Console\n",
    "\n",
    "# Inicializar la consola de rich para notificaciones\n",
    "console = Console()\n",
    "\n",
    "# Parámetros ajustables con sliders interactivos\n",
    "n_bootstraps = widgets.IntSlider(value=1000, min=100, max=2000, step=100, description='Iteraciones:', layout=widgets.Layout(width='400px'))\n",
    "n_mejores_pozos = widgets.IntSlider(value=200, min=50, max=300, step=10, description='Mejores Pozos:', layout=widgets.Layout(width='400px'))\n",
    "costos_fijos = widgets.FloatSlider(value=10000, min=5000, max=50000, step=500, description='Costos Fijos:', layout=widgets.Layout(width='400px'))\n",
    "porcentaje_muestras = widgets.FloatSlider(value=100.0, min=1.0, max=100.0, step=1.0, description='Porcentaje:', layout=widgets.Layout(width='400px'))\n",
    "label_rotacion = widgets.IntSlider(value=45, min=0, max=90, step=5, description='Rotación de Etiquetas:', layout=widgets.Layout(width='400px'))\n",
    "log_scale = widgets.Checkbox(value=False, description='Escala Logarítmica')\n",
    "\n",
    "# Aplicar la normalización a la columna 'product'\n",
    "def normalizar_datos(df, metodo='minmax'):\n",
    "    if metodo == 'minmax':\n",
    "        scaler = MinMaxScaler()\n",
    "    else:\n",
    "        scaler = StandardScaler()\n",
    "    df['product_normalized'] = scaler.fit_transform(df[['product']])\n",
    "    return df\n",
    "\n",
    "# Verificar la existencia de columnas antes de usar el DataFrame\n",
    "def validar_columnas(df, column_name):\n",
    "    if column_name not in df.columns:\n",
    "        display(HTML(f\"<div style='color: red;'>Error: La columna '{column_name}' no existe en el DataFrame. Verifica los datos cargados.</div>\"))\n",
    "        console.print(f\"[bold red]Error: La columna '{column_name}' no existe en el DataFrame.[/bold red]\")\n",
    "        return False\n",
    "    return True\n",
    "\n",
    "# Función para calcular el revenue de una muestra\n",
    "def calcular_revenue_muestra(muestra, n_mejores_pozos, costos_fijos):\n",
    "    mejores_pozos = np.sort(muestra)[-n_mejores_pozos:]  # Seleccionar los mejores pozos\n",
    "    return np.sum(mejores_pozos) * 1000 - costos_fijos\n",
    "\n",
    "# Realizar bootstrapping en paralelo utilizando `joblib`\n",
    "def bootstrap_resample_parallel(data, n_resamples, n_mejores_pozos, costos_fijos):\n",
    "    resultados = Parallel(n_jobs=-1)(delayed(calcular_revenue_muestra)(np.random.choice(data, len(data), replace=True), n_mejores_pozos, costos_fijos) for _ in range(n_resamples))\n",
    "    return np.array(resultados)\n",
    "\n",
    "# Función para ejecutar el bootstrapping\n",
    "def ejecutar_bootstrapping(b):\n",
    "    clear_output(wait=True)\n",
    "    display(n_bootstraps, n_mejores_pozos, costos_fijos, porcentaje_muestras, label_rotacion, log_scale, boton_ejecutar)\n",
    "    \n",
    "    # Normalizar los datos\n",
    "    global dfs\n",
    "    dfs = normalizar_datos(dfs)\n",
    "    \n",
    "    # Mostrar notificación de inicio\n",
    "    start_time = time.time()\n",
    "    console.print(f\"[bold green]🔄 Iniciando Bootstrapping...[/bold green]\")\n",
    "\n",
    "    # Verificar si el DataFrame 'dfs' está definido\n",
    "    if 'dfs' not in globals() or not isinstance(dfs, pd.DataFrame):\n",
    "        display(HTML(\"<div style='color: red;'>Error: 'dfs' no está definido o no es un DataFrame. Carga los datos correctamente.</div>\"))\n",
    "        console.print(\"[bold red]Error: 'dfs' no está definido o no es un DataFrame.[/bold red]\")\n",
    "        return\n",
    "\n",
    "    # Verificar la columna antes de continuar\n",
    "    columna_objetivo = 'product_normalized'\n",
    "    if not validar_columnas(dfs, columna_objetivo):\n",
    "        return\n",
    "\n",
    "    # Simulación del bootstrapping en cada región utilizando la columna normalizada\n",
    "    muestras_region_0 = dfs[dfs['region'] == 'Region 0'][columna_objetivo].sample(frac=porcentaje_muestras.value / 100).values\n",
    "    muestras_region_1 = dfs[dfs['region'] == 'Region 1'][columna_objetivo].sample(frac=porcentaje_muestras.value / 100).values\n",
    "    muestras_region_2 = dfs[dfs['region'] == 'Region 2'][columna_objetivo].sample(frac=porcentaje_muestras.value / 100).values\n",
    "\n",
    "    resultados_0 = bootstrap_resample_parallel(muestras_region_0, n_bootstraps.value, n_mejores_pozos.value, costos_fijos.value)\n",
    "    resultados_1 = bootstrap_resample_parallel(muestras_region_1, n_bootstraps.value, n_mejores_pozos.value, costos_fijos.value)\n",
    "    resultados_2 = bootstrap_resample_parallel(muestras_region_2, n_bootstraps.value, n_mejores_pozos.value, costos_fijos.value)\n",
    "\n",
    "    # Cálculo de intervalos de confianza al 95%\n",
    "    intervalo_confianza_0 = (np.percentile(resultados_0, 2.5), np.percentile(resultados_0, 97.5))\n",
    "    intervalo_confianza_1 = (np.percentile(resultados_1, 2.5), np.percentile(resultados_1, 97.5))\n",
    "    intervalo_confianza_2 = (np.percentile(resultados_2, 2.5), np.percentile(resultados_2, 97.5))\n",
    "\n",
    "    # Cálculo del riesgo de pérdida (ganancias negativas)\n",
    "    riesgo_perdidas_0 = np.mean(resultados_0 < 0)\n",
    "    riesgo_perdidas_1 = np.mean(resultados_1 < 0)\n",
    "    riesgo_perdidas_2 = np.mean(resultados_2 < 0)\n",
    "\n",
    "    # Mostrar resultados del análisis\n",
    "    end_time = time.time()\n",
    "    tiempo_total = end_time - start_time\n",
    "\n",
    "    display(HTML(f\"<h3 style='color: #2E7D32;'>Resultados del Análisis de Riesgo</h3>\"))\n",
    "    display(HTML(f\"<p><strong>Region 0:</strong> Intervalo de Confianza 95%: {intervalo_confianza_0[0]:,.2f} - {intervalo_confianza_0[1]:,.2f} USD. Riesgo de pérdidas: {riesgo_perdidas_0:.2%}</p>\"))\n",
    "    display(HTML(f\"<p><strong>Region 1:</strong> Intervalo de Confianza 95%: {intervalo_confianza_1[0]:,.2f} - {intervalo_confianza_1[1]:,.2f} USD. Riesgo de pérdidas: {riesgo_perdidas_1:.2%}</p>\"))\n",
    "    display(HTML(f\"<p><strong>Region 2:</strong> Intervalo de Confianza 95%: {intervalo_confianza_2[0]:,.2f} - {intervalo_confianza_2[1]:,.2f} USD. Riesgo de pérdidas: {riesgo_perdidas_2:.2%}</p>\"))\n",
    "\n",
    "    # Mostrar tiempo total de ejecución\n",
    "    display(HTML(f\"<div style='color: green; font-weight: bold;'>✅ Proceso completado en {tiempo_total:.2f} segundos.</div>\"))\n",
    "\n",
    "    # Mostrar gráficos de distribución del revenue por región\n",
    "    plt.figure(figsize=(10, 6))\n",
    "    \n",
    "    # Si la opción de escala logarítmica está activada, aplicar\n",
    "    if log_scale.value:\n",
    "        plt.xscale('log')\n",
    "    \n",
    "    sns.histplot(resultados_0, bins=50, color='blue', label='Region 0', kde=True)\n",
    "    sns.histplot(resultados_1, bins=50, color='green', label='Region 1', kde=True)\n",
    "    sns.histplot(resultados_2, bins=50, color='red', label='Region 2', kde=True)\n",
    "    plt.axvline(0, color='black', linestyle='--')\n",
    "    \n",
    "    # Rotación de etiquetas y títulos\n",
    "    plt.xticks(rotation=label_rotacion.value, ha='right')  # Aplicar rotación a las etiquetas\n",
    "    plt.title('Distribución del Revenue por Región (Simulaciones Bootstrapping)')\n",
    "    plt.xlabel('Revenue (USD)')\n",
    "    plt.ylabel('Frecuencia')\n",
    "    plt.legend()\n",
    "    plt.tight_layout()\n",
    "    plt.show()\n",
    "\n",
    "    # Gráfico de KDE para suavizar la densidad de los revenues\n",
    "    plt.figure(figsize=(10, 6))\n",
    "    \n",
    "    if log_scale.value:\n",
    "        plt.xscale('log')\n",
    "    \n",
    "    sns.kdeplot(resultados_0, color='blue', fill=True, label='Region 0')\n",
    "    sns.kdeplot(resultados_1, color='green', fill=True, label='Region 1')\n",
    "    sns.kdeplot(resultados_2, color='red', fill=True, label='Region 2')\n",
    "    plt.axvline(0, color='black', linestyle='--')\n",
    "    \n",
    "    # Rotación de etiquetas y títulos\n",
    "    plt.xticks(rotation=label_rotacion.value, ha='right')  # Aplicar rotación a las etiquetas\n",
    "    plt.title('KDE de Revenue por Región (Simulaciones Bootstrapping)')\n",
    "    plt.xlabel('Revenue (USD)')\n",
    "    plt.ylabel('Densidad')\n",
    "    plt.legend()\n",
    "    plt.tight_layout()\n",
    "    plt.show()\n",
    "\n",
    "# Función para mostrar gráficos interactivos con más análisis\n",
    "def mostrar_graficos_interactivo(resultados_0, resultados_1, resultados_2):\n",
    "    dfs_resultados = pd.DataFrame({\n",
    "        'Revenue': np.concatenate([resultados_0, resultados_1, resultados_2]),\n",
    "        'Región': ['Region 0'] * len(resultados_0) + ['Region 1'] * len(resultados_1) + ['Region 2'] * len(resultados_2)\n",
    "    })\n",
    "\n",
    "    # Gráfico interactivo usando Plotly\n",
    "    fig = px.histogram(dfs_resultados, x=\"Revenue\", color=\"Región\", marginal=\"box\", nbins=50, title=\"Distribución de Revenue por Región\")\n",
    "    fig.update_layout(bargap=0.1)\n",
    "    \n",
    "    # Aplicar escala logarítmica en caso de que esté activada\n",
    "    if log_scale.value:\n",
    "        fig.update_xaxes(type=\"log\")\n",
    "    \n",
    "    fig.update_xaxes(tickangle=label_rotacion.value)  # Aplicar rotación a las etiquetas de x en Plotly\n",
    "    fig.show()\n",
    "\n",
    "    # KDE interactivo\n",
    "    plt.figure(figsize=(10, 6))\n",
    "    \n",
    "    if log_scale.value:\n",
    "        plt.xscale('log')\n",
    "    \n",
    "    sns.kdeplot(dfs_resultados[dfs_resultados['Región'] == 'Region 0']['Revenue'], fill=True, color='blue', label='Region 0')\n",
    "    sns.kdeplot(dfs_resultados[dfs_resultados['Región'] == 'Region 1']['Revenue'], fill=True, color='green', label='Region 1')\n",
    "    sns.kdeplot(dfs_resultados[dfs_resultados['Región'] == 'Región 2']['Revenue'], fill=True, color='red', label='Región 2')\n",
    "    plt.axvline(0, color='black', linestyle='--')\n",
    "    \n",
    "    # Rotación de etiquetas y títulos\n",
    "    plt.xticks(rotation=label_rotacion.value, ha='right')  # Aplicar rotación a las etiquetas\n",
    "    plt.title('KDE interactivo de Revenue por Región')\n",
    "    plt.xlabel('Revenue (USD)')\n",
    "    plt.ylabel('Densidad')\n",
    "    plt.legend()\n",
    "    plt.tight_layout()\n",
    "    plt.show()\n",
    "\n",
    "    # Boxplot de la distribución de revenue por región\n",
    "    plt.figure(figsize=(10, 6))\n",
    "    sns.boxplot(x='Región', y='Revenue', data=dfs_resultados)\n",
    "    \n",
    "    # Rotación de etiquetas y títulos\n",
    "    plt.xticks(rotation=label_rotacion.value, ha='right')  # Aplicar rotación a las etiquetas\n",
    "    plt.title(\"Boxplot Comparativo de Revenue por Región\")\n",
    "    plt.xlabel(\"Región\")\n",
    "    plt.ylabel(\"Revenue (USD)\")\n",
    "    plt.tight_layout()\n",
    "    plt.show()\n",
    "\n",
    "    # Gráfico de líneas para mostrar el revenue promedio por región\n",
    "    dfs_mean_revenue = dfs_resultados.groupby('Región')['Revenue'].mean().reset_index()\n",
    "    fig = px.line(dfs_mean_revenue, x='Región', y='Revenue', title='Revenue Promedio por Región', markers=True)\n",
    "    \n",
    "    # Aplicar rotación de etiquetas y escala logarítmica si está activada\n",
    "    fig.update_xaxes(tickangle=label_rotacion.value)\n",
    "    if log_scale.value:\n",
    "        fig.update_xaxes(type=\"log\")\n",
    "    \n",
    "    fig.show()\n",
    "\n",
    "# Botón para ejecutar el bootstrapping\n",
    "boton_ejecutar = widgets.Button(\n",
    "    description='Ejecutar Bootstrapping',\n",
    "    button_style='success',\n",
    "    layout=widgets.Layout(width='200px')\n",
    ")\n",
    "\n",
    "# Botón para resetear los valores de los sliders\n",
    "boton_reset = widgets.Button(\n",
    "    description='Resetear',\n",
    "    button_style='warning',\n",
    "    layout=widgets.Layout(width='200px')\n",
    ")\n",
    "\n",
    "# Función para resetear los sliders a sus valores predeterminados\n",
    "def resetear_valores(b):\n",
    "    n_bootstraps.value = 1000\n",
    "    n_mejores_pozos.value = 200\n",
    "    costos_fijos.value = 10000\n",
    "    porcentaje_muestras.value = 100.0\n",
    "    label_rotacion.value = 45\n",
    "    log_scale.value = False\n",
    "    clear_output(wait=True)\n",
    "    display(n_bootstraps, n_mejores_pozos, costos_fijos, porcentaje_muestras, label_rotacion, log_scale, boton_ejecutar)\n",
    "\n",
    "# Asignar la función de reseteo al botón\n",
    "boton_reset.on_click(resetear_valores)\n",
    "\n",
    "# Mostrar el slider, el dropdown para el tipo de gráfico y el botón para el usuario\n",
    "display(n_bootstraps, n_mejores_pozos, costos_fijos, porcentaje_muestras, label_rotacion, log_scale, boton_ejecutar)\n",
    "\n",
    "# Conectar el botón con la función de ejecutar bootstrapping\n",
    "boton_ejecutar.on_click(ejecutar_bootstrapping)\n"
   ]
  },
  {
   "cell_type": "markdown",
   "metadata": {},
   "source": [
    "<!-- Análisis de Resultados con Escala Logarítmica -->\n",
    "<div style=\"background-color:#E8F5E9; padding: 20px; border-radius: 8px; font-family: Arial, sans-serif; font-size: 16px; color: #4CAF50; line-height: 1.6;\">\n",
    "    <!-- Título principal -->\n",
    "    <h4 style=\"color: #2E7D32;\">🔄 Resultados del Análisis de Riesgo (Escala Logarítmica)</h4>\n",
    "    <!-- Intervalos de Confianza y Riesgo por Región -->\n",
    "    <div style=\"background-color:#F1F8E9; padding: 15px; border-radius: 8px; margin-top: 20px;\">\n",
    "        <h5 style=\"color: #2E7D32;\">📍 Región 0</h5>\n",
    "        <ul style=\"color: #388E3C; list-style-type: none; padding-left: 0;\">\n",
    "            <li><strong>Intervalo de Confianza 95%:</strong> 184,416.17 - 184,587.54 USD</li>\n",
    "            <li><strong>Riesgo de pérdidas:</strong> 0.00%</li>\n",
    "        </ul>\n",
    "    </div>\n",
    "    <div style=\"background-color:#F1F8E9; padding: 15px; border-radius: 8px; margin-top: 20px;\">\n",
    "        <h5 style=\"color: #2E7D32;\">📍 Región 1</h5>\n",
    "        <ul style=\"color: #388E3C; list-style-type: none; padding-left: 0;\">\n",
    "            <li><strong>Intervalo de Confianza 95%:</strong> 135,182.89 - 135,182.89 USD</li>\n",
    "            <li><strong>Riesgo de pérdidas:</strong> 0.00%</li>\n",
    "        </ul>\n",
    "    </div>\n",
    "    <div style=\"background-color:#F1F8E9; padding: 15px; border-radius: 8px; margin-top: 20px;\">\n",
    "        <h5 style=\"color: #2E7D32;\">📍 Región 2</h5>\n",
    "        <ul style=\"color: #388E3C; list-style-type: none; padding-left: 0;\">\n",
    "            <li><strong>Intervalo de Confianza 95%:</strong> 189,390.42 - 189,570.93 USD</li>\n",
    "            <li><strong>Riesgo de pérdidas:</strong> 0.00%</li>\n",
    "        </ul>\n",
    "    </div>\n",
    "    <!-- Conclusión -->\n",
    "    <div style=\"background-color:#F1F8E9; padding: 15px; border-radius: 8px; margin-top: 20px;\">\n",
    "        <h4 style=\"color: #2E7D32;\">✅ Proceso completado en 16.14 segundos.</h4>\n",
    "    </div>\n",
    "</div>"
   ]
  },
  {
   "cell_type": "markdown",
   "metadata": {},
   "source": [
    "<!-- 🔍 Validación Cruzada y Evaluación de Errores -->\n",
    "<div style='background-color: #E8F5E9; padding: 20px; border-radius: 8px; font-family: Arial, sans-serif; font-size: 16px; color: #4CAF50; line-height: 1.6;'>\n",
    "  <!-- Título principal -->\n",
    "  <h1 style='color: #388E3C; font-size: 28px;'>🔍 Validación Cruzada y Evaluación de Errores</h1>\n",
    "  <!-- Descripción del Proceso -->\n",
    "  <h4 style='color: #2E7D32; font-size: 22px;'>🔧 Proceso de Validación Cruzada</h4>\n",
    "  <p style='text-align: justify;'>En esta sección, implementamos una validación cruzada utilizando el método de <strong>KFold</strong>, que divide los datos en múltiples pliegues o <em>folds</em> para evaluar el rendimiento del modelo en varias particiones del conjunto de datos. Esto permite evaluar la estabilidad y la capacidad de generalización del modelo en diferentes subconjuntos de los datos.</p>\n",
    "\n",
    "  <!-- Características Clave -->\n",
    "  <h4 style='color: #2E7D32; font-size: 20px;'>🔑 Características Clave</h4>\n",
    "  <ul style='list-style-type: none; padding-left: 0; color: #388E3C;'>\n",
    "    <li>📊 <strong>Histograma y Boxplot de Errores:</strong> Se grafican la distribución de los errores mediante un histograma y un boxplot, que muestran la variabilidad de los errores entre los diferentes pliegues de la validación cruzada.</li>\n",
    "    <li>📉 <strong>Gráfico de Barras:</strong> Se utiliza un gráfico de barras para mostrar el error cuadrático medio (RMSE) en cada partición del conjunto de datos.</li>\n",
    "    <li>📈 <strong>Gráfico de Líneas:</strong> Se genera un gráfico de líneas que permite visualizar y comparar los errores en cada <em>split</em> de la validación cruzada.</li>\n",
    "    <li>⚙️ <strong>Rotación de Etiquetas:</strong> Las etiquetas de los gráficos pueden rotarse para mejorar la legibilidad cuando hay múltiples pliegues o <em>splits</em>.</li>\n",
    "  </ul>\n",
    "</div>\n",
    "\n",
    "---\n",
    "\n",
    "<!-- 🧠 Modelo y Datos -->\n",
    "<div style='background-color: #E8F5E9; padding: 20px; border-radius: 8px; font-family: Arial, sans-serif; font-size: 16px; color: #4CAF50; line-height: 1.6;'>\n",
    "\n",
    "  <h4 style='color: #2E7D32; font-size: 22px;'>🧠 Datos y Modelo Simple</h4>\n",
    "  <p style='text-align: justify;'>Para este ejercicio, generamos un conjunto de datos aleatorios con tres características y utilizamos un modelo de regresión lineal. Luego aplicamos la validación cruzada para dividir los datos en 5 pliegues, evaluando el error cuadrático medio en cada partición.</p>\n",
    "\n",
    "  <!-- Lista de Pasos -->\n",
    "  <ul style='list-style-type: none; padding-left: 0; color: #388E3C;'>\n",
    "    <li>🔢 <strong>Datos:</strong> Se generan 100 muestras con 3 características mediante <code>numpy.random.rand()</code>.</li>\n",
    "    <li>🧮 <strong>Modelo:</strong> Se entrena un modelo de regresión lineal simple.</li>\n",
    "    <li>🔄 <strong>Validación Cruzada:</strong> Se utiliza <code>KFold</code> con 5 pliegues para evaluar el rendimiento del modelo.</li>\n",
    "  </ul>\n",
    "</div>\n",
    "\n",
    "---\n",
    "\n",
    "<!-- 📊 Visualización de Resultados -->\n",
    "<div style='background-color: #E8F5E9; padding: 20px; border-radius: 8px; font-family: Arial, sans-serif; font-size: 16px; color: #4CAF50; line-height: 1.6;'>\n",
    "\n",
    "  <h4 style='color: #2E7D32; font-size: 22px;'>📊 Resultados de Validación Cruzada</h4>\n",
    "  <p style='text-align: justify;'>Los errores de cada pliegue se visualizan mediante un histograma, un gráfico de líneas y un gráfico de barras. Esto facilita la comprensión de la variabilidad en el rendimiento del modelo y ayuda a identificar posibles problemas como la varianza alta o errores sistemáticos.</p>\n",
    "\n",
    "  <!-- Resultados Visuales -->\n",
    "  <ul style='list-style-type: none; padding-left: 0; color: #388E3C;'>\n",
    "    <li>📈 <strong>Histograma de Errores:</strong> Distribución de los errores en cada partición del conjunto de datos.</li>\n",
    "    <li>📊 <strong>Gráfico de Barras:</strong> Comparación de los errores por pliegue utilizando un gráfico de barras.</li>\n",
    "    <li>📉 <strong>Gráfico de Líneas:</strong> Visualización de los errores acumulados en cada pliegue mediante un gráfico de líneas.</li>\n",
    "  </ul>\n",
    "</div>\n",
    "\n"
   ]
  },
  {
   "cell_type": "code",
   "execution_count": null,
   "metadata": {
    "scrolled": false
   },
   "outputs": [],
   "source": [
    "import numpy as np\n",
    "import pandas as pd\n",
    "import matplotlib.pyplot as plt\n",
    "import seaborn as sns\n",
    "from sklearn.model_selection import cross_val_score, KFold\n",
    "from sklearn.metrics import mean_squared_error\n",
    "import plotly.graph_objects as go\n",
    "import plotly.express as px\n",
    "from sklearn.linear_model import LinearRegression\n",
    "\n",
    "# Función de validación cruzada con rotación de etiquetas ajustable\n",
    "def ejecutar_validacion_cruzada(X, y, modelo, cv_folds, rotacion_etiquetas=45):\n",
    "    kf = KFold(n_splits=cv_folds)\n",
    "    errores = []\n",
    "    \n",
    "    # Ejecución de la validación cruzada\n",
    "    for train_index, test_index in kf.split(X):\n",
    "        X_train, X_test = X[train_index], X[test_index]\n",
    "        y_train, y_test = y[train_index], y[test_index]\n",
    "        modelo.fit(X_train, y_train)\n",
    "        y_pred = modelo.predict(X_test)\n",
    "        error = mean_squared_error(y_test, y_pred)\n",
    "        errores.append(-error)  # Negativo para coherencia con errores en regresión\n",
    "    \n",
    "    # Mostrar los errores\n",
    "    media_error = np.mean(errores)\n",
    "    \n",
    "    # Graficar la distribución de errores\n",
    "    fig, axs = plt.subplots(1, 2, figsize=(18, 6))\n",
    "    \n",
    "    # Histograma de errores\n",
    "    sns.histplot(errores, kde=True, ax=axs[0], color='skyblue')\n",
    "    axs[0].axvline(media_error, color='red', linestyle='--', label='Media')\n",
    "    axs[0].set_title('Distribución de Errores en la Validación Cruzada')\n",
    "    axs[0].set_xlabel('Error Medio Cuadrático (Negativo)')\n",
    "    axs[0].set_ylabel('Frecuencia')\n",
    "    axs[0].legend()\n",
    "    axs[0].tick_params(axis='x', rotation=rotacion_etiquetas)  # Rotación de etiquetas\n",
    "    \n",
    "    # Boxplot de errores\n",
    "    sns.boxplot(data=errores, ax=axs[1], color='skyblue')\n",
    "    axs[1].set_title('Boxplot de Errores de Validación Cruzada')\n",
    "    axs[1].set_xlabel('Errores')\n",
    "    axs[1].set_ylabel('Valores')\n",
    "    axs[1].tick_params(axis='x', rotation=rotacion_etiquetas)  # Rotación de etiquetas\n",
    "    \n",
    "    plt.tight_layout()\n",
    "    plt.show()\n",
    "    \n",
    "    # Mostrar gráfico de errores con Plotly\n",
    "    fig = go.Figure([go.Bar(x=list(range(1, cv_folds+1)), y=errores)])\n",
    "    fig.update_layout(\n",
    "        title=\"Errores en cada Split de Validación Cruzada\",\n",
    "        xaxis_title=\"Split\",\n",
    "        yaxis_title=\"Error Medio Cuadrático (Negativo)\",\n",
    "        bargap=0.2,\n",
    "        bargroupgap=0.1\n",
    "    )\n",
    "    fig.show()\n",
    "\n",
    "    # Gráfico de líneas para comparar errores\n",
    "    fig = px.line(x=list(range(1, cv_folds+1)), y=errores, title=\"Errores por Split en la Validación Cruzada\")\n",
    "    fig.update_xaxes(tickangle=rotacion_etiquetas)  # Aplicar rotación a las etiquetas\n",
    "    fig.show()\n",
    "\n",
    "    return errores, media_error\n",
    "\n",
    "# Ejemplo de datos\n",
    "X = np.random.rand(100, 3)\n",
    "y = np.random.rand(100)\n",
    "\n",
    "# Crear un modelo simple\n",
    "modelo = LinearRegression()\n",
    "\n",
    "# Ejecutar la validación cruzada con rotación ajustada de etiquetas y 5 folds\n",
    "errores, media_error = ejecutar_validacion_cruzada(X, y, modelo, cv_folds=5, rotacion_etiquetas=45)\n"
   ]
  },
  {
   "cell_type": "markdown",
   "metadata": {},
   "source": [
    "<!-- Validación Cruzada con Rotación de Etiquetas -->\n",
    "<div style=\"background-color:#E8F5E9; padding: 20px; border-radius: 8px; font-family: Arial, sans-serif; font-size: 16px; color: #4CAF50; line-height: 1.6;\">\n",
    "\n",
    "  <!-- Título principal -->\n",
    "  <h4 style=\"color: #2E7D32;\">📊 Validación Cruzada con Rotación de Etiquetas</h4>\n",
    "\n",
    "  <!-- Descripción general -->\n",
    "  <p style=\"text-align: justify;\">Este análisis realiza una validación cruzada utilizando <strong>5 splits</strong> y un modelo de regresión lineal. El objetivo es evaluar la estabilidad del modelo y la distribución de los errores en cada partición (split) del conjunto de datos.</p>\n",
    "\n",
    "  <!-- Distribución de Errores -->\n",
    "  <h5 style=\"color: #2E7D32;\">📊 Distribución de Errores</h5>\n",
    "  <ul style=\"color: #388E3C; list-style-type: none; padding-left: 0;\">\n",
    "    <li><strong>Histograma:</strong> El histograma muestra la <em>distribución de los errores</em> medidos como el Error Medio Cuadrático (negativo) a lo largo de los splits.</li>\n",
    "    <ul style=\"color: #388E3C; list-style-type: disc; padding-left: 20px;\">\n",
    "      <li>La <strong>media</strong> de los errores está indicada por la línea roja discontinua.</li>\n",
    "      <li>Los errores se distribuyen principalmente entre <strong>-0.09 y -0.05</strong>.</li>\n",
    "      <li>La mayoría de los errores están cercanos a <strong>-0.08</strong>, con menor frecuencia de errores más bajos o más altos.</li>\n",
    "    </ul>\n",
    "    <li><strong>Boxplot:</strong> El boxplot proporciona una visión complementaria de la distribución de los errores.</li>\n",
    "    <ul style=\"color: #388E3C; list-style-type: disc; padding-left: 20px;\">\n",
    "      <li>El rango de los errores se encuentra entre <strong>-0.09</strong> y <strong>-0.05</strong>, con un valor atípico ligeramente por encima de <strong>-0.04</strong>.</li>\n",
    "      <li>La mediana del error está en <strong>-0.08</strong>, lo que concuerda con el histograma, donde la mayor frecuencia de errores se concentra cerca de este valor.</li>\n",
    "    </ul>\n",
    "  </ul>\n",
    "\n",
    "  <!-- Errores en cada Split -->\n",
    "  <h5 style=\"color: #2E7D32;\">📈 Errores en cada Split (Gráficos Interactivos)</h5>\n",
    "  <ul style=\"color: #388E3C; list-style-type: none; padding-left: 0;\">\n",
    "    <li>El <strong>gráfico de barras</strong> muestra los errores en cada uno de los 5 splits:</li>\n",
    "    <ul style=\"color: #388E3C; list-style-type: disc; padding-left: 20px;\">\n",
    "      <li>El <strong>split 2</strong> tiene el error más bajo (<strong>-0.081</strong>).</li>\n",
    "      <li>El <strong>split 4</strong> tiene el error más alto (<strong>-0.04</strong>).</li>\n",
    "    </ul>\n",
    "    <li>El <strong>gráfico de líneas</strong> refuerza esta observación, mostrando:</li>\n",
    "    <ul style=\"color: #388E3C; list-style-type: disc; padding-left: 20px;\">\n",
    "      <li>Un aumento del error en el <strong>split 4</strong>.</li>\n",
    "      <li>Una disminución nuevamente en el <strong>split 5</strong>.</li>\n",
    "    </ul>\n",
    "  </ul>\n",
    "\n",
    "  <!-- Conclusiones -->\n",
    "  <h5 style=\"color: #2E7D32;\">🔍 Conclusiones</h5>\n",
    "  <ul style=\"color: #388E3C; list-style-type: none; padding-left: 0;\">\n",
    "    <li>La validación cruzada muestra que el modelo tiene una <strong>distribución de errores consistente</strong>, con la mayoría de los errores centrados cerca de <strong>-0.08</strong>.</li>\n",
    "    <li>Existen algunos splits (como el <strong>split 4</strong>) donde el error es mayor, lo que indica que el modelo puede ser sensible a la partición del conjunto de datos.</li>\n",
    "    <li>El análisis visual permite identificar rápidamente los splits con un rendimiento subóptimo y ajustar el modelo o los datos en consecuencia.</li>\n",
    "  </ul>\n",
    "</div>\n"
   ]
  },
  {
   "cell_type": "markdown",
   "metadata": {},
   "source": [
    "### Revisión 2"
   ]
  },
  {
   "cell_type": "markdown",
   "metadata": {},
   "source": [
    "<div class=\"alert alert-block alert-danger\">\n",
    "<b>Comentario del revisor</b> <a class=\"tocSkip\"></a>\n",
    "    \n",
    "este gráfico esta en blanco\n",
    "</div>"
   ]
  },
  {
   "cell_type": "markdown",
   "metadata": {},
   "source": [
    "<!-- 🔍 Análisis de Sensibilidad: Precio de Venta y Volumen -->\n",
    "<div style='background-color: #E8F5E9; padding: 20px; border-radius: 8px; font-family: Arial, sans-serif; font-size: 16px; color: #4CAF50; line-height: 1.6;'>\n",
    "\n",
    "  <!-- Título principal -->\n",
    "  <h1 style='color: #388E3C; font-size: 28px;'>🔍 Análisis de Sensibilidad: Precio de Venta y Volumen</h1>\n",
    "\n",
    "  <!-- Descripción del Proceso -->\n",
    "  <h4 style='color: #2E7D32; font-size: 22px;'>📊 Evaluación del Impacto en la Rentabilidad</h4>\n",
    "  <p style='text-align: justify;'>El análisis de sensibilidad permite evaluar cómo la variación en el precio de venta del petróleo y el volumen de reservas impactan la rentabilidad. Esto se realiza a través de una matriz de sensibilidad, visualizada mediante un heatmap que muestra las combinaciones de precio y volumen, y sus respectivas ganancias esperadas.</p>\n",
    "\n",
    "  <!-- Características Clave -->\n",
    "  <h4 style='color: #2E7D32; font-size: 20px;'>🔑 Características Clave</h4>\n",
    "  <ul style='list-style-type: none; padding-left: 0; color: #388E3C;'>\n",
    "    <li>💵 <strong>Rango de Precios:</strong> Los precios de venta pueden ajustarse entre un mínimo y máximo seleccionado para analizar su impacto en las ganancias.</li>\n",
    "    <li>📈 <strong>Volumen de Reservas:</strong> El volumen de reservas de petróleo también puede variar dentro de un rango definido, permitiendo observar cómo estos cambios influyen en la rentabilidad.</li>\n",
    "    <li>📊 <strong>Visualización en Heatmap:</strong> El análisis de sensibilidad se visualiza mediante un heatmap, proporcionando una representación gráfica clara del impacto de las variaciones en los parámetros.</li>\n",
    "  </ul>\n",
    "</div>\n",
    "\n",
    "---\n",
    "\n",
    "<!-- ⚙️ Ajustes Interactivos para Sensibilidad -->\n",
    "<div style='background-color: #E8F5E9; padding: 20px; border-radius: 8px; font-family: Arial, sans-serif; font-size: 16px; color: #4CAF50; line-height: 1.6;'>\n",
    "\n",
    "  <h4 style='color: #2E7D32; font-size: 22px;'>⚙️ Parámetros Interactivos</h4>\n",
    "  <p style='text-align: justify;'>El análisis de sensibilidad permite ajustar de forma interactiva los parámetros clave del análisis, como el precio de venta del barril de petróleo y el volumen de reservas:</p>\n",
    "  <ul style='list-style-type: none; padding-left: 0; color: #388E3C;'>\n",
    "    <li>💲 <strong>Precio de Venta:</strong> Ajusta el rango del precio de venta para evaluar su impacto en la ganancia. El precio mínimo y máximo se pueden seleccionar dentro de un rango de $10 a $300 por barril.</li>\n",
    "    <li>📊 <strong>Volumen de Reservas:</strong> Ajusta el volumen de reservas para analizar su efecto en la rentabilidad. El volumen mínimo y máximo puede variar entre 10 mil y 500 mil barriles.</li>\n",
    "  </ul>\n",
    "</div>\n",
    "\n",
    "---\n",
    "\n",
    "<!-- 📊 Visualización de Resultados -->\n",
    "<div style='background-color: #E8F5E9; padding: 20px; border-radius: 8px; font-family: Arial, sans-serif; font-size: 16px; color: #4CAF50; line-height: 1.6;'>\n",
    "\n",
    "  <h4 style='color: #2E7D32; font-size: 22px;'>📊 Visualización de Resultados</h4>\n",
    "  <p style='text-align: justify;'>Los resultados del análisis de sensibilidad se presentan en un <strong>heatmap</strong> interactivo, que muestra cómo la ganancia esperada varía en función de las combinaciones de precios de venta y volúmenes de reservas.</p>\n",
    "\n",
    "</div>\n"
   ]
  },
  {
   "cell_type": "code",
   "execution_count": null,
   "metadata": {
    "ExecuteTime": {
     "end_time": "2024-08-19T20:15:43.065483Z",
     "start_time": "2024-08-19T20:15:43.065465Z"
    }
   },
   "outputs": [],
   "source": [
    "import pandas as pd\n",
    "import numpy as np\n",
    "import matplotlib.pyplot as plt\n",
    "import seaborn as sns\n",
    "from IPython.display import display, clear_output\n",
    "import ipywidgets as widgets\n",
    "from rich.console import Console\n",
    "\n",
    "# Inicializar la consola de rich para mostrar resultados\n",
    "console = Console()\n",
    "\n",
    "# Definir sliders para los parámetros clave del análisis de sensibilidad\n",
    "precio_min = widgets.FloatSlider(\n",
    "    value=50.0,\n",
    "    min=10.0,\n",
    "    max=300.0,\n",
    "    step=1.0,\n",
    "    description='Precio mínimo:',\n",
    "    style={'description_width': 'initial'},\n",
    "    layout=widgets.Layout(width='400px')\n",
    ")\n",
    "\n",
    "precio_max = widgets.FloatSlider(\n",
    "    value=200.0,\n",
    "    min=10.0,\n",
    "    max=300.0,\n",
    "    step=1.0,\n",
    "    description='Precio máximo:',\n",
    "    style={'description_width': 'initial'},\n",
    "    layout=widgets.Layout(width='400px')\n",
    ")\n",
    "\n",
    "volumen_min = widgets.FloatSlider(\n",
    "    value=50.0,\n",
    "    min=10.0,\n",
    "    max=500.0,\n",
    "    step=1.0,\n",
    "    description='Volumen mínimo:',\n",
    "    style={'description_width': 'initial'},\n",
    "    layout=widgets.Layout(width='400px')\n",
    ")\n",
    "\n",
    "volumen_max = widgets.FloatSlider(\n",
    "    value=300.0,\n",
    "    min=10.0,\n",
    "    max=500.0,\n",
    "    step=1.0,\n",
    "    description='Volumen máximo:',\n",
    "    style={'description_width': 'initial'},\n",
    "    layout=widgets.Layout(width='400px')\n",
    ")\n",
    "\n",
    "# Botón para ejecutar el análisis de sensibilidad\n",
    "boton_ejecutar_sensibilidad = widgets.Button(\n",
    "    description='Ejecutar Sensibilidad',\n",
    "    button_style='info',\n",
    "    layout=widgets.Layout(width='200px')\n",
    ")\n",
    "\n",
    "# Función para realizar el análisis de sensibilidad\n",
    "def calcular_sensibilidad(b):\n",
    "    clear_output(wait=True)  # Limpiar la salida anterior\n",
    "    display(precio_min, precio_max, volumen_min, volumen_max, boton_ejecutar_sensibilidad)\n",
    "\n",
    "    if 'dfs' not in globals() or not isinstance(dfs, pd.DataFrame):\n",
    "        console.print(\"[bold red]Error: 'dfs' no está definido correctamente o no es un DataFrame.[/bold red]\")\n",
    "        return\n",
    "\n",
    "    # Definir rangos de variación para el análisis\n",
    "    precios = np.linspace(precio_min.value, precio_max.value, 50)\n",
    "    vol_muestras = np.linspace(volumen_min.value, volumen_max.value, 50)\n",
    "\n",
    "    # Crear una matriz para almacenar las ganancias esperadas\n",
    "    ganancias_matriz = np.zeros((len(precios), len(vol_muestras)))\n",
    "\n",
    "    # Cálculo de la rentabilidad para cada combinación de precio y volumen\n",
    "    for i, precio in enumerate(precios):\n",
    "        for j, vol in enumerate(vol_muestras):\n",
    "            # Cálculo de la rentabilidad como ejemplo\n",
    "            ganancia_esperada = (vol * precio) - (vol * 20) - 500000\n",
    "            ganancias_matriz[i, j] = ganancia_esperada\n",
    "\n",
    "    # Visualizar el análisis de sensibilidad con un heatmap\n",
    "    plt.figure(figsize=(12, 8))\n",
    "    sns.heatmap(ganancias_matriz, xticklabels=np.round(vol_muestras, 2), yticklabels=np.round(precios, 2), cmap=\"YlGnBu\", annot=False)\n",
    "    plt.title('Análisis de Sensibilidad: Impacto del Precio de Venta y Volumen en la Rentabilidad')\n",
    "    plt.xlabel('Volumen de Reservas')\n",
    "    plt.ylabel('Precio de Venta (USD)')\n",
    "    plt.show()\n",
    "\n",
    "# Conectar el botón de análisis de sensibilidad con la función\n",
    "boton_ejecutar_sensibilidad.on_click(calcular_sensibilidad)\n",
    "\n",
    "# Mostrar los widgets y el botón\n",
    "display(precio_min, precio_max, volumen_min, volumen_max, boton_ejecutar_sensibilidad)\n",
    "calcular_sensibilidad(None)\n"
   ]
  },
  {
   "cell_type": "markdown",
   "metadata": {},
   "source": [
    "<div class=\"alert alert-block alert-danger\">\n",
    "<b>Comentario del revisor</b> <a class=\"tocSkip\"></a>\n",
    "    \n",
    "cuales son los intervalos de confianza de cada región?\n",
    "\n",
    "Recuerda que el proceso para una sola muestra de boostrap es el siguiente:\n",
    "    \n",
    "    - para todas las predicciones del conjunto de test, generamos una muestra de boostrap con 500 observaciones.\n",
    "    - Para esa muestra, obtenemos los 200 mejores pozos.\n",
    "    - Para esos 200, calculamos el revenue.\n",
    "    \n",
    "Repetimos este proceso 1000 veces, y generamos intervalos de confianza usando los cuantiles y calculamos el riesgo de perdida como la cantidad de renueves negativos dividios en el total de revenues calculados\n",
    "</div>"
   ]
  },
  {
   "cell_type": "markdown",
   "metadata": {},
   "source": [
    "<!-- Análisis de Sensibilidad: Impacto del Precio de Venta y Volumen en la Rentabilidad -->\n",
    "<div style=\"background-color:#E8F5E9; padding: 20px; border-radius: 8px; font-family: Arial, sans-serif; font-size: 16px; color: #4CAF50; line-height: 1.6;\">\n",
    "\n",
    "  <!-- Título principal -->\n",
    "  <h4 style=\"color: #2E7D32;\">📊 Análisis de Sensibilidad: Impacto del Precio de Venta y Volumen en la Rentabilidad</h4>\n",
    "\n",
    "  <!-- Descripción general -->\n",
    "  <p style=\"text-align: justify;\">Este análisis de sensibilidad evalúa el impacto de dos variables críticas: <strong>el precio de venta</strong> y <strong>el volumen de reservas</strong> sobre la <em>rentabilidad</em> del proyecto. Los sliders interactivos permiten ajustar los valores mínimos y máximos de ambas variables para visualizar cómo afecta cada combinación de estas a la ganancia esperada.</p>\n",
    "\n",
    "  <!-- Interpretación del Gráfico -->\n",
    "  <h5 style=\"color: #2E7D32;\">📈 Interpretación del Gráfico de Sensibilidad</h5>\n",
    "  <ul style=\"color: #388E3C; list-style-type: none; padding-left: 0;\">\n",
    "    <li>El gráfico de <em>heatmap</em> muestra la ganancia esperada a lo largo de diversas combinaciones de <strong>precios de venta</strong> (eje vertical) y <strong>volúmenes de reservas</strong> (eje horizontal).</li>\n",
    "    <li>El rango de precios considerado varía entre <strong>50 y 200 USD</strong>, mientras que el volumen de reservas varía entre <strong>50 y 300 unidades</strong>.</li>\n",
    "    <li>En el gráfico de calor, las zonas de color <strong>más claro (amarillo)</strong> representan una mayor rentabilidad, mientras que las zonas de color <strong>más oscuro (azul)</strong> representan menores ganancias o incluso pérdidas.</li>\n",
    "  </ul>\n",
    "\n",
    "  <!-- Observaciones Clave -->\n",
    "  <h5 style=\"color: #2E7D32;\">🔍 Observaciones Clave</h5>\n",
    "  <ul style=\"color: #388E3C; list-style-type: none; padding-left: 0;\">\n",
    "    <li>💰 <strong>Mayor rentabilidad:</strong> Se observa que las combinaciones con volúmenes de reservas más altos (>250 unidades) y precios de venta más altos (>175 USD) ofrecen la mayor rentabilidad esperada, como se ve en las áreas más claras del gráfico.</li>\n",
    "    <li>📉 <strong>Menor rentabilidad:</strong> A la inversa, cuando los precios de venta son bajos (<100 USD) y los volúmenes de reservas también son bajos (<150 unidades), las ganancias disminuyen drásticamente, lo que se refleja en las zonas más oscuras (azul oscuro) del gráfico.</li>\n",
    "    <li>🔄 <strong>Equilibrio entre volumen y precio:</strong> A medida que aumentan tanto el volumen como el precio, la rentabilidad mejora de manera más significativa. Esto sugiere que, para maximizar los beneficios, es preferible operar en un escenario con precios de venta altos y grandes volúmenes de reservas.</li>\n",
    "  </ul>\n",
    "\n",
    "  <!-- Justificación de la Región con Mejores Resultados -->\n",
    "  <h5 style=\"color: #2E7D32;\">🌟 Justificación de la Región con los Mejores Resultados</h5>\n",
    "  <p style=\"text-align: justify;\">La región que muestra los mejores resultados se encuentra en la <strong>zona superior derecha del gráfico</strong>, donde los precios de venta superan los <strong>150 USD</strong> y el volumen de reservas es mayor a <strong>250 unidades</strong>. En este rango, las ganancias se maximizan debido a la combinación de un mayor ingreso por unidad y un volumen significativo de reservas que permite cubrir los costos fijos con mayor facilidad, lo que lleva a una <strong>rentabilidad significativamente positiva</strong>.</p>\n",
    "\n",
    "  <!-- Conclusiones -->\n",
    "  <h5 style=\"color: #2E7D32;\">🔍 Conclusiones</h5>\n",
    "  <ul style=\"color: #388E3C; list-style-type: none; padding-left: 0;\">\n",
    "    <li>El análisis de sensibilidad revela que la rentabilidad está muy influenciada por ambos factores, el precio de venta y el volumen de reservas.</li>\n",
    "    <li>Los precios de venta altos combinados con volúmenes elevados ofrecen una mejor protección frente a posibles pérdidas, mientras que combinaciones de precios bajos y volúmenes pequeños incrementan el riesgo de rentabilidad negativa.</li>\n",
    "    <li>El uso de este análisis permite tomar decisiones más informadas al ajustar las estrategias de producción y precios de venta para optimizar los beneficios en diferentes escenarios del mercado.</li>\n",
    "  </ul>\n",
    "</div>\n"
   ]
  },
  {
   "cell_type": "code",
   "execution_count": null,
   "metadata": {},
   "outputs": [],
   "source": []
  }
 ],
 "metadata": {
  "ExecuteTimeLog": [
   {
    "duration": 15794,
    "start_time": "2024-08-15T03:06:48.311Z"
   },
   {
    "duration": 14926,
    "start_time": "2024-08-15T03:09:12.273Z"
   },
   {
    "duration": 14670,
    "start_time": "2024-08-15T03:28:10.788Z"
   },
   {
    "duration": 15423,
    "start_time": "2024-08-15T04:04:18.718Z"
   },
   {
    "duration": 55,
    "start_time": "2024-08-15T04:04:34.146Z"
   },
   {
    "duration": 7118,
    "start_time": "2024-08-15T04:05:53.505Z"
   },
   {
    "duration": 48,
    "start_time": "2024-08-15T04:15:46.395Z"
   },
   {
    "duration": 107,
    "start_time": "2024-08-15T04:22:20.427Z"
   },
   {
    "duration": 438,
    "start_time": "2024-08-15T04:24:00.581Z"
   },
   {
    "duration": 35219,
    "start_time": "2024-08-15T04:27:32.341Z"
   },
   {
    "duration": 10185,
    "start_time": "2024-08-15T04:28:07.566Z"
   },
   {
    "duration": 2196,
    "start_time": "2024-08-15T04:28:17.754Z"
   },
   {
    "duration": 10087,
    "start_time": "2024-08-15T04:31:14.558Z"
   },
   {
    "duration": 0,
    "start_time": "2024-08-15T04:31:24.650Z"
   },
   {
    "duration": 0,
    "start_time": "2024-08-15T04:31:24.653Z"
   },
   {
    "duration": 13095,
    "start_time": "2024-08-15T04:33:31.556Z"
   },
   {
    "duration": 0,
    "start_time": "2024-08-15T04:33:44.657Z"
   },
   {
    "duration": 0,
    "start_time": "2024-08-15T04:33:44.660Z"
   },
   {
    "duration": 2585,
    "start_time": "2024-08-15T04:35:52.591Z"
   },
   {
    "duration": 0,
    "start_time": "2024-08-15T04:35:55.181Z"
   },
   {
    "duration": 0,
    "start_time": "2024-08-15T04:35:55.183Z"
   },
   {
    "duration": 1088,
    "start_time": "2024-08-15T04:38:49.600Z"
   },
   {
    "duration": 0,
    "start_time": "2024-08-15T04:47:28.313Z"
   },
   {
    "duration": 1875,
    "start_time": "2024-08-15T04:51:24.325Z"
   },
   {
    "duration": 7105,
    "start_time": "2024-08-15T04:51:26.205Z"
   },
   {
    "duration": 595,
    "start_time": "2024-08-15T04:51:33.314Z"
   },
   {
    "duration": 6463,
    "start_time": "2024-08-15T04:53:20.196Z"
   },
   {
    "duration": 6562,
    "start_time": "2024-08-15T04:53:35.462Z"
   },
   {
    "duration": 125,
    "start_time": "2024-08-15T04:53:47.545Z"
   },
   {
    "duration": 835,
    "start_time": "2024-08-15T05:07:22.135Z"
   },
   {
    "duration": 13864,
    "start_time": "2024-08-15T05:08:17.384Z"
   },
   {
    "duration": 0,
    "start_time": "2024-08-15T05:08:31.348Z"
   },
   {
    "duration": 283,
    "start_time": "2024-08-15T05:09:03.115Z"
   },
   {
    "duration": 11743,
    "start_time": "2024-08-15T05:10:13.511Z"
   },
   {
    "duration": 12761,
    "start_time": "2024-08-15T05:10:51.830Z"
   },
   {
    "duration": 441,
    "start_time": "2024-08-15T05:22:49.681Z"
   },
   {
    "duration": 4018,
    "start_time": "2024-08-15T05:23:54.605Z"
   },
   {
    "duration": 14691,
    "start_time": "2024-08-15T05:24:58.915Z"
   },
   {
    "duration": 14717,
    "start_time": "2024-08-15T05:25:14.678Z"
   },
   {
    "duration": 0,
    "start_time": "2024-08-15T05:25:29.507Z"
   },
   {
    "duration": 297,
    "start_time": "2024-08-15T05:25:46.992Z"
   },
   {
    "duration": 1911,
    "start_time": "2024-08-15T05:26:08.661Z"
   },
   {
    "duration": 462,
    "start_time": "2024-08-15T05:26:10.577Z"
   },
   {
    "duration": 0,
    "start_time": "2024-08-15T05:26:11.048Z"
   },
   {
    "duration": 0,
    "start_time": "2024-08-15T05:26:11.050Z"
   },
   {
    "duration": 0,
    "start_time": "2024-08-15T05:26:11.052Z"
   },
   {
    "duration": 0,
    "start_time": "2024-08-15T05:26:11.055Z"
   },
   {
    "duration": 6465,
    "start_time": "2024-08-15T05:32:14.312Z"
   },
   {
    "duration": 1822,
    "start_time": "2024-08-15T05:32:26.547Z"
   },
   {
    "duration": 7804,
    "start_time": "2024-08-15T05:32:28.373Z"
   },
   {
    "duration": 6830,
    "start_time": "2024-08-15T05:32:36.180Z"
   },
   {
    "duration": 15395,
    "start_time": "2024-08-15T05:32:43.015Z"
   },
   {
    "duration": 20587,
    "start_time": "2024-08-15T05:32:58.414Z"
   },
   {
    "duration": 1077,
    "start_time": "2024-08-15T05:33:19.004Z"
   },
   {
    "duration": 1933,
    "start_time": "2024-08-15T18:29:47.947Z"
   },
   {
    "duration": 6543,
    "start_time": "2024-08-15T18:29:49.885Z"
   },
   {
    "duration": 7699,
    "start_time": "2024-08-15T18:29:56.436Z"
   },
   {
    "duration": 12836,
    "start_time": "2024-08-15T18:30:04.139Z"
   },
   {
    "duration": 11556,
    "start_time": "2024-08-15T18:30:16.979Z"
   },
   {
    "duration": 1174,
    "start_time": "2024-08-15T18:30:28.540Z"
   },
   {
    "duration": 3616,
    "start_time": "2024-08-17T00:06:39.373Z"
   },
   {
    "duration": 320,
    "start_time": "2024-08-17T00:08:07.097Z"
   },
   {
    "duration": 333,
    "start_time": "2024-08-17T00:14:59.059Z"
   },
   {
    "duration": 497,
    "start_time": "2024-08-17T00:16:38.099Z"
   },
   {
    "duration": 1123,
    "start_time": "2024-08-17T00:17:36.231Z"
   },
   {
    "duration": 981,
    "start_time": "2024-08-17T00:18:29.892Z"
   },
   {
    "duration": 763,
    "start_time": "2024-08-17T00:40:50.158Z"
   },
   {
    "duration": 962,
    "start_time": "2024-08-17T00:41:44.993Z"
   },
   {
    "duration": 17,
    "start_time": "2024-08-17T00:45:45.291Z"
   },
   {
    "duration": 18,
    "start_time": "2024-08-17T00:48:26.282Z"
   },
   {
    "duration": 804,
    "start_time": "2024-08-17T00:50:40.374Z"
   },
   {
    "duration": 12,
    "start_time": "2024-08-17T00:53:14.979Z"
   },
   {
    "duration": 17,
    "start_time": "2024-08-17T00:53:18.525Z"
   },
   {
    "duration": 11,
    "start_time": "2024-08-17T00:54:18.339Z"
   },
   {
    "duration": 5021,
    "start_time": "2024-08-17T00:55:36.986Z"
   },
   {
    "duration": 7,
    "start_time": "2024-08-17T00:58:23.323Z"
   },
   {
    "duration": 6,
    "start_time": "2024-08-17T00:59:18.056Z"
   },
   {
    "duration": 6,
    "start_time": "2024-08-17T00:59:32.958Z"
   },
   {
    "duration": 15,
    "start_time": "2024-08-17T00:59:50.926Z"
   },
   {
    "duration": 15,
    "start_time": "2024-08-17T00:59:58.138Z"
   },
   {
    "duration": 15,
    "start_time": "2024-08-17T01:00:07.763Z"
   },
   {
    "duration": 9671,
    "start_time": "2024-08-17T01:00:50.176Z"
   },
   {
    "duration": 1150,
    "start_time": "2024-08-17T01:02:13.137Z"
   },
   {
    "duration": 1105,
    "start_time": "2024-08-17T01:02:20.787Z"
   },
   {
    "duration": 8600,
    "start_time": "2024-08-17T01:02:28.346Z"
   },
   {
    "duration": 17,
    "start_time": "2024-08-17T01:03:41.277Z"
   },
   {
    "duration": 15,
    "start_time": "2024-08-17T01:05:06.303Z"
   },
   {
    "duration": 15,
    "start_time": "2024-08-17T01:05:56.586Z"
   },
   {
    "duration": 18,
    "start_time": "2024-08-17T01:09:20.903Z"
   },
   {
    "duration": 17,
    "start_time": "2024-08-17T01:10:06.321Z"
   },
   {
    "duration": 28868,
    "start_time": "2024-08-17T01:12:56.896Z"
   },
   {
    "duration": 7232,
    "start_time": "2024-08-17T01:16:03.163Z"
   },
   {
    "duration": 7336,
    "start_time": "2024-08-17T01:18:54.525Z"
   },
   {
    "duration": 9,
    "start_time": "2024-08-17T01:22:56.843Z"
   },
   {
    "duration": 26,
    "start_time": "2024-08-17T01:32:39.935Z"
   },
   {
    "duration": 1178,
    "start_time": "2024-08-17T01:32:54.716Z"
   },
   {
    "duration": 1338,
    "start_time": "2024-08-17T01:32:55.897Z"
   },
   {
    "duration": 915,
    "start_time": "2024-08-17T01:32:57.238Z"
   },
   {
    "duration": 7285,
    "start_time": "2024-08-17T01:32:58.157Z"
   },
   {
    "duration": 6447,
    "start_time": "2024-08-17T01:33:05.445Z"
   },
   {
    "duration": 1127,
    "start_time": "2024-08-17T01:33:23.735Z"
   },
   {
    "duration": 871,
    "start_time": "2024-08-17T01:33:24.865Z"
   },
   {
    "duration": 5981,
    "start_time": "2024-08-17T01:33:25.739Z"
   },
   {
    "duration": 6687,
    "start_time": "2024-08-17T01:33:31.725Z"
   },
   {
    "duration": 13120,
    "start_time": "2024-08-17T01:33:38.415Z"
   },
   {
    "duration": 11709,
    "start_time": "2024-08-17T01:33:51.539Z"
   },
   {
    "duration": 2988,
    "start_time": "2024-08-17T01:34:03.251Z"
   },
   {
    "duration": 10971,
    "start_time": "2024-08-17T01:42:51.820Z"
   },
   {
    "duration": 15,
    "start_time": "2024-08-17T01:43:47.318Z"
   },
   {
    "duration": 8,
    "start_time": "2024-08-17T01:44:23.441Z"
   },
   {
    "duration": 9,
    "start_time": "2024-08-17T01:45:12.101Z"
   },
   {
    "duration": 10,
    "start_time": "2024-08-17T01:47:10.628Z"
   },
   {
    "duration": 10,
    "start_time": "2024-08-17T01:47:16.479Z"
   },
   {
    "duration": 12,
    "start_time": "2024-08-17T01:47:27.956Z"
   },
   {
    "duration": 9,
    "start_time": "2024-08-17T01:48:37.297Z"
   },
   {
    "duration": 9,
    "start_time": "2024-08-17T01:49:13.168Z"
   },
   {
    "duration": 11,
    "start_time": "2024-08-17T01:49:45.383Z"
   },
   {
    "duration": 13,
    "start_time": "2024-08-17T01:50:27.936Z"
   },
   {
    "duration": 23,
    "start_time": "2024-08-17T01:51:17.125Z"
   },
   {
    "duration": 11,
    "start_time": "2024-08-17T01:52:00.375Z"
   },
   {
    "duration": 6,
    "start_time": "2024-08-17T01:52:21.771Z"
   },
   {
    "duration": 1041,
    "start_time": "2024-08-17T01:52:31.983Z"
   },
   {
    "duration": 2297,
    "start_time": "2024-08-17T01:53:00.311Z"
   },
   {
    "duration": 7,
    "start_time": "2024-08-17T01:53:39.512Z"
   },
   {
    "duration": 744,
    "start_time": "2024-08-17T01:53:48.679Z"
   },
   {
    "duration": 7,
    "start_time": "2024-08-17T01:53:59.055Z"
   },
   {
    "duration": 0,
    "start_time": "2024-08-17T01:54:18.871Z"
   },
   {
    "duration": 5,
    "start_time": "2024-08-17T01:54:22.088Z"
   },
   {
    "duration": 5690,
    "start_time": "2024-08-17T01:54:27.460Z"
   },
   {
    "duration": 4,
    "start_time": "2024-08-17T01:54:38.108Z"
   },
   {
    "duration": 1694,
    "start_time": "2024-08-17T01:54:43.809Z"
   },
   {
    "duration": 19331,
    "start_time": "2024-08-17T01:55:52.644Z"
   },
   {
    "duration": 1357,
    "start_time": "2024-08-17T01:56:30.474Z"
   },
   {
    "duration": 1177,
    "start_time": "2024-08-17T01:56:31.835Z"
   },
   {
    "duration": 6426,
    "start_time": "2024-08-17T01:56:33.015Z"
   },
   {
    "duration": 6811,
    "start_time": "2024-08-17T01:56:39.446Z"
   },
   {
    "duration": 12849,
    "start_time": "2024-08-17T01:56:46.260Z"
   },
   {
    "duration": 12127,
    "start_time": "2024-08-17T01:56:59.112Z"
   },
   {
    "duration": 3310,
    "start_time": "2024-08-17T01:57:11.243Z"
   },
   {
    "duration": 27,
    "start_time": "2024-08-17T01:57:41.130Z"
   },
   {
    "duration": 1379,
    "start_time": "2024-08-17T01:57:51.938Z"
   },
   {
    "duration": 1420,
    "start_time": "2024-08-17T01:57:53.320Z"
   },
   {
    "duration": 6019,
    "start_time": "2024-08-17T01:57:54.744Z"
   },
   {
    "duration": 8541,
    "start_time": "2024-08-17T01:58:00.769Z"
   },
   {
    "duration": 12933,
    "start_time": "2024-08-17T01:58:09.313Z"
   },
   {
    "duration": 11666,
    "start_time": "2024-08-17T01:58:22.250Z"
   },
   {
    "duration": 3141,
    "start_time": "2024-08-17T01:58:33.920Z"
   },
   {
    "duration": 1295,
    "start_time": "2024-08-17T01:59:55.115Z"
   },
   {
    "duration": 1378,
    "start_time": "2024-08-17T01:59:56.415Z"
   },
   {
    "duration": 7975,
    "start_time": "2024-08-17T01:59:57.796Z"
   },
   {
    "duration": 6536,
    "start_time": "2024-08-17T02:00:05.776Z"
   },
   {
    "duration": 1037,
    "start_time": "2024-08-17T02:00:18.047Z"
   },
   {
    "duration": 700,
    "start_time": "2024-08-17T02:00:19.088Z"
   },
   {
    "duration": 9072,
    "start_time": "2024-08-17T02:00:19.792Z"
   },
   {
    "duration": 6770,
    "start_time": "2024-08-17T02:00:28.869Z"
   },
   {
    "duration": 12280,
    "start_time": "2024-08-17T02:00:35.642Z"
   },
   {
    "duration": 12588,
    "start_time": "2024-08-17T02:00:47.925Z"
   },
   {
    "duration": 2977,
    "start_time": "2024-08-17T02:01:00.517Z"
   },
   {
    "duration": 25,
    "start_time": "2024-08-17T02:03:22.772Z"
   },
   {
    "duration": 17,
    "start_time": "2024-08-17T02:04:10.863Z"
   },
   {
    "duration": 14,
    "start_time": "2024-08-17T02:05:07.047Z"
   },
   {
    "duration": 552,
    "start_time": "2024-08-17T02:05:59.225Z"
   },
   {
    "duration": 1677,
    "start_time": "2024-08-17T02:08:14.078Z"
   },
   {
    "duration": 1641,
    "start_time": "2024-08-17T02:09:04.021Z"
   },
   {
    "duration": 14,
    "start_time": "2024-08-17T02:09:08.271Z"
   },
   {
    "duration": 2620,
    "start_time": "2024-08-17T02:10:20.639Z"
   },
   {
    "duration": 247,
    "start_time": "2024-08-17T02:10:27.068Z"
   },
   {
    "duration": 5,
    "start_time": "2024-08-17T02:10:42.701Z"
   },
   {
    "duration": 2140,
    "start_time": "2024-08-17T02:11:09.380Z"
   },
   {
    "duration": 21,
    "start_time": "2024-08-17T02:11:45.053Z"
   },
   {
    "duration": 1128,
    "start_time": "2024-08-17T02:12:02.432Z"
   },
   {
    "duration": 1938,
    "start_time": "2024-08-17T02:12:03.564Z"
   },
   {
    "duration": 2104,
    "start_time": "2024-08-17T02:12:05.505Z"
   },
   {
    "duration": 6297,
    "start_time": "2024-08-17T02:12:07.614Z"
   },
   {
    "duration": 9164,
    "start_time": "2024-08-17T02:12:13.914Z"
   },
   {
    "duration": 955,
    "start_time": "2024-08-17T02:12:23.082Z"
   },
   {
    "duration": 67,
    "start_time": "2024-08-17T02:17:11.174Z"
   },
   {
    "duration": 64,
    "start_time": "2024-08-17T02:18:16.467Z"
   },
   {
    "duration": 63,
    "start_time": "2024-08-17T02:18:44.030Z"
   },
   {
    "duration": 136,
    "start_time": "2024-08-17T02:21:28.099Z"
   },
   {
    "duration": 65,
    "start_time": "2024-08-17T02:23:08.901Z"
   },
   {
    "duration": 6,
    "start_time": "2024-08-17T02:23:37.211Z"
   },
   {
    "duration": 8,
    "start_time": "2024-08-17T02:23:48.774Z"
   },
   {
    "duration": 51,
    "start_time": "2024-08-17T02:24:09.367Z"
   },
   {
    "duration": 44,
    "start_time": "2024-08-17T02:29:04.950Z"
   },
   {
    "duration": 166,
    "start_time": "2024-08-17T02:30:52.503Z"
   },
   {
    "duration": 167,
    "start_time": "2024-08-17T02:31:41.158Z"
   },
   {
    "duration": 362,
    "start_time": "2024-08-17T02:32:49.103Z"
   },
   {
    "duration": 2569,
    "start_time": "2024-08-17T02:33:17.789Z"
   },
   {
    "duration": 295,
    "start_time": "2024-08-17T02:33:53.814Z"
   },
   {
    "duration": 1004,
    "start_time": "2024-08-17T02:34:42.104Z"
   },
   {
    "duration": 2054,
    "start_time": "2024-08-17T02:34:43.112Z"
   },
   {
    "duration": 2013,
    "start_time": "2024-08-17T02:34:45.169Z"
   },
   {
    "duration": 6790,
    "start_time": "2024-08-17T02:34:47.187Z"
   },
   {
    "duration": 919,
    "start_time": "2024-08-17T02:34:53.980Z"
   },
   {
    "duration": 0,
    "start_time": "2024-08-17T02:34:54.912Z"
   },
   {
    "duration": 0,
    "start_time": "2024-08-17T02:34:54.915Z"
   },
   {
    "duration": 21867,
    "start_time": "2024-08-17T02:38:16.140Z"
   },
   {
    "duration": 0,
    "start_time": "2024-08-17T02:38:38.137Z"
   },
   {
    "duration": 0,
    "start_time": "2024-08-17T02:38:38.245Z"
   },
   {
    "duration": 0,
    "start_time": "2024-08-17T02:38:38.344Z"
   },
   {
    "duration": 2384,
    "start_time": "2024-08-17T02:38:44.793Z"
   },
   {
    "duration": 278,
    "start_time": "2024-08-17T02:38:51.543Z"
   },
   {
    "duration": 2525,
    "start_time": "2024-08-17T02:39:17.839Z"
   },
   {
    "duration": 11440,
    "start_time": "2024-08-17T02:39:25.551Z"
   },
   {
    "duration": 705,
    "start_time": "2024-08-17T02:40:35.133Z"
   },
   {
    "duration": 1190,
    "start_time": "2024-08-17T02:42:26.369Z"
   },
   {
    "duration": 26937,
    "start_time": "2024-08-17T02:42:27.563Z"
   },
   {
    "duration": 7456,
    "start_time": "2024-08-17T02:42:54.504Z"
   },
   {
    "duration": 6881,
    "start_time": "2024-08-17T02:43:01.966Z"
   },
   {
    "duration": 106,
    "start_time": "2024-08-17T02:43:08.850Z"
   },
   {
    "duration": 2600,
    "start_time": "2024-08-17T02:43:08.959Z"
   },
   {
    "duration": 11581,
    "start_time": "2024-08-17T02:43:11.562Z"
   },
   {
    "duration": 96,
    "start_time": "2024-08-17T02:43:23.146Z"
   },
   {
    "duration": 17,
    "start_time": "2024-08-17T02:50:50.682Z"
   },
   {
    "duration": 7,
    "start_time": "2024-08-17T02:51:17.146Z"
   },
   {
    "duration": 3,
    "start_time": "2024-08-17T02:51:41.962Z"
   },
   {
    "duration": 61,
    "start_time": "2024-08-17T02:51:57.598Z"
   },
   {
    "duration": 134,
    "start_time": "2024-08-17T02:52:41.579Z"
   },
   {
    "duration": 1372,
    "start_time": "2024-08-17T02:53:03.397Z"
   },
   {
    "duration": 62,
    "start_time": "2024-08-17T02:53:59.568Z"
   },
   {
    "duration": 525,
    "start_time": "2024-08-17T02:55:47.287Z"
   },
   {
    "duration": 149,
    "start_time": "2024-08-17T02:56:05.099Z"
   },
   {
    "duration": 7,
    "start_time": "2024-08-17T02:56:08.704Z"
   },
   {
    "duration": 2258,
    "start_time": "2024-08-17T02:58:12.101Z"
   },
   {
    "duration": 208,
    "start_time": "2024-08-17T02:59:45.035Z"
   },
   {
    "duration": 72,
    "start_time": "2024-08-17T03:00:22.355Z"
   },
   {
    "duration": 57,
    "start_time": "2024-08-17T03:09:56.357Z"
   },
   {
    "duration": 278,
    "start_time": "2024-08-17T03:12:26.789Z"
   },
   {
    "duration": 146,
    "start_time": "2024-08-17T03:13:54.909Z"
   },
   {
    "duration": 532,
    "start_time": "2024-08-17T03:15:07.348Z"
   },
   {
    "duration": 6928,
    "start_time": "2024-08-17T03:15:31.055Z"
   },
   {
    "duration": 71,
    "start_time": "2024-08-17T03:15:42.175Z"
   },
   {
    "duration": 842,
    "start_time": "2024-08-17T03:15:59.096Z"
   },
   {
    "duration": 1736,
    "start_time": "2024-08-17T03:16:24.149Z"
   },
   {
    "duration": 1910,
    "start_time": "2024-08-17T03:16:39.166Z"
   },
   {
    "duration": 2504,
    "start_time": "2024-08-17T03:17:28.932Z"
   },
   {
    "duration": 2359,
    "start_time": "2024-08-17T03:17:43.227Z"
   },
   {
    "duration": 3966,
    "start_time": "2024-08-17T03:18:00.552Z"
   },
   {
    "duration": 2312,
    "start_time": "2024-08-17T03:18:42.761Z"
   },
   {
    "duration": 1145,
    "start_time": "2024-08-17T03:18:57.562Z"
   },
   {
    "duration": 27487,
    "start_time": "2024-08-17T03:18:58.711Z"
   },
   {
    "duration": 4846,
    "start_time": "2024-08-17T03:19:26.202Z"
   },
   {
    "duration": 8376,
    "start_time": "2024-08-17T03:19:31.054Z"
   },
   {
    "duration": 107,
    "start_time": "2024-08-17T03:19:39.433Z"
   },
   {
    "duration": 2552,
    "start_time": "2024-08-17T03:19:39.543Z"
   },
   {
    "duration": 11490,
    "start_time": "2024-08-17T03:19:42.098Z"
   },
   {
    "duration": 91,
    "start_time": "2024-08-17T03:19:53.591Z"
   },
   {
    "duration": 78,
    "start_time": "2024-08-17T03:19:53.686Z"
   },
   {
    "duration": 684,
    "start_time": "2024-08-17T03:19:53.770Z"
   },
   {
    "duration": 378,
    "start_time": "2024-08-17T03:21:50.332Z"
   },
   {
    "duration": 1185,
    "start_time": "2024-08-17T03:22:13.595Z"
   },
   {
    "duration": 27186,
    "start_time": "2024-08-17T03:22:14.783Z"
   },
   {
    "duration": 4290,
    "start_time": "2024-08-17T03:22:41.973Z"
   },
   {
    "duration": 6494,
    "start_time": "2024-08-17T03:22:46.269Z"
   },
   {
    "duration": 99,
    "start_time": "2024-08-17T03:22:52.766Z"
   },
   {
    "duration": 2634,
    "start_time": "2024-08-17T03:22:52.869Z"
   },
   {
    "duration": 11604,
    "start_time": "2024-08-17T03:22:55.506Z"
   },
   {
    "duration": 88,
    "start_time": "2024-08-17T03:23:07.114Z"
   },
   {
    "duration": 63,
    "start_time": "2024-08-17T03:23:07.205Z"
   },
   {
    "duration": 689,
    "start_time": "2024-08-17T03:23:07.274Z"
   },
   {
    "duration": 1258,
    "start_time": "2024-08-17T03:37:32.693Z"
   },
   {
    "duration": 27604,
    "start_time": "2024-08-17T03:37:33.956Z"
   },
   {
    "duration": 4195,
    "start_time": "2024-08-17T03:38:01.563Z"
   },
   {
    "duration": 6356,
    "start_time": "2024-08-17T03:38:05.761Z"
   },
   {
    "duration": 115,
    "start_time": "2024-08-17T03:38:12.120Z"
   },
   {
    "duration": 2362,
    "start_time": "2024-08-17T03:38:12.239Z"
   },
   {
    "duration": 11562,
    "start_time": "2024-08-17T03:38:14.604Z"
   },
   {
    "duration": 101,
    "start_time": "2024-08-17T03:38:26.169Z"
   },
   {
    "duration": 81,
    "start_time": "2024-08-17T03:38:26.273Z"
   },
   {
    "duration": 3302,
    "start_time": "2024-08-17T03:38:26.360Z"
   },
   {
    "duration": 4126,
    "start_time": "2024-08-17T03:40:58.999Z"
   },
   {
    "duration": 670,
    "start_time": "2024-08-17T03:41:58.448Z"
   },
   {
    "duration": 70,
    "start_time": "2024-08-17T03:42:10.841Z"
   },
   {
    "duration": 1279,
    "start_time": "2024-08-17T03:42:16.272Z"
   },
   {
    "duration": 28456,
    "start_time": "2024-08-17T03:42:17.556Z"
   },
   {
    "duration": 2892,
    "start_time": "2024-08-17T03:42:46.015Z"
   },
   {
    "duration": 5869,
    "start_time": "2024-08-17T03:42:48.910Z"
   },
   {
    "duration": 103,
    "start_time": "2024-08-17T03:42:54.783Z"
   },
   {
    "duration": 2512,
    "start_time": "2024-08-17T03:42:54.889Z"
   },
   {
    "duration": 11465,
    "start_time": "2024-08-17T03:42:57.404Z"
   },
   {
    "duration": 115,
    "start_time": "2024-08-17T03:43:08.872Z"
   },
   {
    "duration": 76,
    "start_time": "2024-08-17T03:43:08.991Z"
   },
   {
    "duration": 4449,
    "start_time": "2024-08-17T03:43:09.071Z"
   },
   {
    "duration": 1237,
    "start_time": "2024-08-17T03:46:07.849Z"
   },
   {
    "duration": 27178,
    "start_time": "2024-08-17T03:46:09.090Z"
   },
   {
    "duration": 4193,
    "start_time": "2024-08-17T03:46:36.272Z"
   },
   {
    "duration": 6273,
    "start_time": "2024-08-17T03:46:40.470Z"
   },
   {
    "duration": 100,
    "start_time": "2024-08-17T03:46:46.746Z"
   },
   {
    "duration": 2528,
    "start_time": "2024-08-17T03:46:46.852Z"
   },
   {
    "duration": 11531,
    "start_time": "2024-08-17T03:46:49.387Z"
   },
   {
    "duration": 87,
    "start_time": "2024-08-17T03:47:00.922Z"
   },
   {
    "duration": 64,
    "start_time": "2024-08-17T03:47:01.012Z"
   },
   {
    "duration": 3480,
    "start_time": "2024-08-17T03:47:01.135Z"
   },
   {
    "duration": 81,
    "start_time": "2024-08-17T03:54:39.659Z"
   },
   {
    "duration": 4247,
    "start_time": "2024-08-17T03:59:10.166Z"
   },
   {
    "duration": 1302,
    "start_time": "2024-08-17T03:59:30.676Z"
   },
   {
    "duration": 27282,
    "start_time": "2024-08-17T03:59:31.982Z"
   },
   {
    "duration": 2931,
    "start_time": "2024-08-17T03:59:59.269Z"
   },
   {
    "duration": 6869,
    "start_time": "2024-08-17T04:00:02.205Z"
   },
   {
    "duration": 102,
    "start_time": "2024-08-17T04:00:09.078Z"
   },
   {
    "duration": 2610,
    "start_time": "2024-08-17T04:00:09.183Z"
   },
   {
    "duration": 11438,
    "start_time": "2024-08-17T04:00:11.796Z"
   },
   {
    "duration": 98,
    "start_time": "2024-08-17T04:00:23.238Z"
   },
   {
    "duration": 40,
    "start_time": "2024-08-17T04:00:23.339Z"
   },
   {
    "duration": 3628,
    "start_time": "2024-08-17T04:00:23.385Z"
   },
   {
    "duration": 1222,
    "start_time": "2024-08-17T04:02:22.684Z"
   },
   {
    "duration": 27476,
    "start_time": "2024-08-17T04:02:23.910Z"
   },
   {
    "duration": 4106,
    "start_time": "2024-08-17T04:02:51.390Z"
   },
   {
    "duration": 6478,
    "start_time": "2024-08-17T04:02:55.500Z"
   },
   {
    "duration": 104,
    "start_time": "2024-08-17T04:03:01.983Z"
   },
   {
    "duration": 2446,
    "start_time": "2024-08-17T04:03:02.090Z"
   },
   {
    "duration": 11495,
    "start_time": "2024-08-17T04:03:04.540Z"
   },
   {
    "duration": 99,
    "start_time": "2024-08-17T04:03:16.038Z"
   },
   {
    "duration": 93,
    "start_time": "2024-08-17T04:03:16.141Z"
   },
   {
    "duration": 3579,
    "start_time": "2024-08-17T04:03:16.240Z"
   },
   {
    "duration": 4197,
    "start_time": "2024-08-17T04:03:32.719Z"
   },
   {
    "duration": 451,
    "start_time": "2024-08-17T04:03:39.783Z"
   },
   {
    "duration": 1284,
    "start_time": "2024-08-17T04:05:22.050Z"
   },
   {
    "duration": 27351,
    "start_time": "2024-08-17T04:05:23.338Z"
   },
   {
    "duration": 3048,
    "start_time": "2024-08-17T04:05:50.693Z"
   },
   {
    "duration": 7814,
    "start_time": "2024-08-17T04:05:53.746Z"
   },
   {
    "duration": 88,
    "start_time": "2024-08-17T04:06:01.563Z"
   },
   {
    "duration": 2405,
    "start_time": "2024-08-17T04:06:01.654Z"
   },
   {
    "duration": 11390,
    "start_time": "2024-08-17T04:06:04.062Z"
   },
   {
    "duration": 101,
    "start_time": "2024-08-17T04:06:15.455Z"
   },
   {
    "duration": 79,
    "start_time": "2024-08-17T04:06:15.560Z"
   },
   {
    "duration": 3574,
    "start_time": "2024-08-17T04:06:15.645Z"
   },
   {
    "duration": 56,
    "start_time": "2024-08-17T04:06:19.223Z"
   },
   {
    "duration": 4585,
    "start_time": "2024-08-17T04:07:04.489Z"
   },
   {
    "duration": 1215,
    "start_time": "2024-08-17T04:07:12.142Z"
   },
   {
    "duration": 27413,
    "start_time": "2024-08-17T04:07:13.362Z"
   },
   {
    "duration": 3125,
    "start_time": "2024-08-17T04:07:40.779Z"
   },
   {
    "duration": 8477,
    "start_time": "2024-08-17T04:07:43.909Z"
   },
   {
    "duration": 94,
    "start_time": "2024-08-17T04:07:52.390Z"
   },
   {
    "duration": 2425,
    "start_time": "2024-08-17T04:07:52.487Z"
   },
   {
    "duration": 11550,
    "start_time": "2024-08-17T04:07:54.936Z"
   },
   {
    "duration": 95,
    "start_time": "2024-08-17T04:08:06.489Z"
   },
   {
    "duration": 73,
    "start_time": "2024-08-17T04:08:06.587Z"
   },
   {
    "duration": 3518,
    "start_time": "2024-08-17T04:08:06.666Z"
   },
   {
    "duration": 63,
    "start_time": "2024-08-17T04:08:10.190Z"
   },
   {
    "duration": 1230,
    "start_time": "2024-08-17T04:19:33.460Z"
   },
   {
    "duration": 27391,
    "start_time": "2024-08-17T04:19:34.695Z"
   },
   {
    "duration": 4226,
    "start_time": "2024-08-17T04:20:02.089Z"
   },
   {
    "duration": 8641,
    "start_time": "2024-08-17T04:20:06.320Z"
   },
   {
    "duration": 98,
    "start_time": "2024-08-17T04:20:14.964Z"
   },
   {
    "duration": 2475,
    "start_time": "2024-08-17T04:20:15.065Z"
   },
   {
    "duration": 11420,
    "start_time": "2024-08-17T04:20:17.544Z"
   },
   {
    "duration": 107,
    "start_time": "2024-08-17T04:20:28.967Z"
   },
   {
    "duration": 84,
    "start_time": "2024-08-17T04:20:29.078Z"
   },
   {
    "duration": 3684,
    "start_time": "2024-08-17T04:20:29.170Z"
   },
   {
    "duration": 44,
    "start_time": "2024-08-17T04:20:32.858Z"
   },
   {
    "duration": 1217,
    "start_time": "2024-08-17T04:25:57.334Z"
   },
   {
    "duration": 27414,
    "start_time": "2024-08-17T04:25:58.555Z"
   },
   {
    "duration": 4549,
    "start_time": "2024-08-17T04:26:25.972Z"
   },
   {
    "duration": 6584,
    "start_time": "2024-08-17T04:26:30.529Z"
   },
   {
    "duration": 118,
    "start_time": "2024-08-17T04:26:37.116Z"
   },
   {
    "duration": 2533,
    "start_time": "2024-08-17T04:26:37.237Z"
   },
   {
    "duration": 11572,
    "start_time": "2024-08-17T04:26:39.773Z"
   },
   {
    "duration": 91,
    "start_time": "2024-08-17T04:26:51.348Z"
   },
   {
    "duration": 41,
    "start_time": "2024-08-17T04:26:51.443Z"
   },
   {
    "duration": 3479,
    "start_time": "2024-08-17T04:26:51.538Z"
   },
   {
    "duration": 690,
    "start_time": "2024-08-17T04:26:55.021Z"
   },
   {
    "duration": 0,
    "start_time": "2024-08-17T04:28:29.851Z"
   },
   {
    "duration": 1384,
    "start_time": "2024-08-17T04:28:38.596Z"
   },
   {
    "duration": 27946,
    "start_time": "2024-08-17T04:28:39.983Z"
   },
   {
    "duration": 0,
    "start_time": "2024-08-17T04:29:07.968Z"
   },
   {
    "duration": 0,
    "start_time": "2024-08-17T04:29:07.970Z"
   },
   {
    "duration": 0,
    "start_time": "2024-08-17T04:29:07.972Z"
   },
   {
    "duration": 0,
    "start_time": "2024-08-17T04:29:07.974Z"
   },
   {
    "duration": 0,
    "start_time": "2024-08-17T04:29:07.976Z"
   },
   {
    "duration": 0,
    "start_time": "2024-08-17T04:29:07.977Z"
   },
   {
    "duration": 0,
    "start_time": "2024-08-17T04:29:07.979Z"
   },
   {
    "duration": 1,
    "start_time": "2024-08-17T04:29:07.980Z"
   },
   {
    "duration": 0,
    "start_time": "2024-08-17T04:29:07.982Z"
   },
   {
    "duration": 3039,
    "start_time": "2024-08-17T04:29:48.287Z"
   },
   {
    "duration": 161,
    "start_time": "2024-08-17T04:30:50.018Z"
   },
   {
    "duration": 1214,
    "start_time": "2024-08-17T04:31:03.049Z"
   },
   {
    "duration": 26956,
    "start_time": "2024-08-17T04:31:04.267Z"
   },
   {
    "duration": 0,
    "start_time": "2024-08-17T04:31:31.263Z"
   },
   {
    "duration": 0,
    "start_time": "2024-08-17T04:31:31.265Z"
   },
   {
    "duration": 0,
    "start_time": "2024-08-17T04:31:31.268Z"
   },
   {
    "duration": 0,
    "start_time": "2024-08-17T04:31:31.271Z"
   },
   {
    "duration": 1,
    "start_time": "2024-08-17T04:31:31.273Z"
   },
   {
    "duration": 0,
    "start_time": "2024-08-17T04:31:31.275Z"
   },
   {
    "duration": 1,
    "start_time": "2024-08-17T04:31:31.277Z"
   },
   {
    "duration": 0,
    "start_time": "2024-08-17T04:31:31.280Z"
   },
   {
    "duration": 0,
    "start_time": "2024-08-17T04:31:31.282Z"
   },
   {
    "duration": 1284,
    "start_time": "2024-08-17T04:32:19.124Z"
   },
   {
    "duration": 27066,
    "start_time": "2024-08-17T04:32:20.412Z"
   },
   {
    "duration": 3303,
    "start_time": "2024-08-17T04:32:47.481Z"
   },
   {
    "duration": 8645,
    "start_time": "2024-08-17T04:32:50.789Z"
   },
   {
    "duration": 132,
    "start_time": "2024-08-17T04:32:59.438Z"
   },
   {
    "duration": 2563,
    "start_time": "2024-08-17T04:32:59.573Z"
   },
   {
    "duration": 11425,
    "start_time": "2024-08-17T04:33:02.139Z"
   },
   {
    "duration": 97,
    "start_time": "2024-08-17T04:33:13.567Z"
   },
   {
    "duration": 80,
    "start_time": "2024-08-17T04:33:13.667Z"
   },
   {
    "duration": 3373,
    "start_time": "2024-08-17T04:33:13.753Z"
   },
   {
    "duration": 60,
    "start_time": "2024-08-17T04:33:17.130Z"
   },
   {
    "duration": 88,
    "start_time": "2024-08-17T04:34:56.346Z"
   },
   {
    "duration": 349,
    "start_time": "2024-08-17T04:48:13.921Z"
   },
   {
    "duration": 1291,
    "start_time": "2024-08-17T04:48:50.778Z"
   },
   {
    "duration": 27243,
    "start_time": "2024-08-17T04:48:52.073Z"
   },
   {
    "duration": 4446,
    "start_time": "2024-08-17T04:49:19.319Z"
   },
   {
    "duration": 6467,
    "start_time": "2024-08-17T04:49:23.770Z"
   },
   {
    "duration": 110,
    "start_time": "2024-08-17T04:49:30.240Z"
   },
   {
    "duration": 2527,
    "start_time": "2024-08-17T04:49:30.354Z"
   },
   {
    "duration": 11522,
    "start_time": "2024-08-17T04:49:32.885Z"
   },
   {
    "duration": 97,
    "start_time": "2024-08-17T04:49:44.411Z"
   },
   {
    "duration": 39,
    "start_time": "2024-08-17T04:49:44.534Z"
   },
   {
    "duration": 3517,
    "start_time": "2024-08-17T04:49:44.579Z"
   },
   {
    "duration": 64,
    "start_time": "2024-08-17T04:49:48.099Z"
   },
   {
    "duration": 0,
    "start_time": "2024-08-17T04:49:52.170Z"
   },
   {
    "duration": 967,
    "start_time": "2024-08-19T15:10:28.713Z"
   },
   {
    "duration": 0,
    "start_time": "2024-08-19T15:10:29.684Z"
   },
   {
    "duration": 0,
    "start_time": "2024-08-19T15:10:29.687Z"
   },
   {
    "duration": 0,
    "start_time": "2024-08-19T15:10:29.690Z"
   },
   {
    "duration": 0,
    "start_time": "2024-08-19T15:10:29.691Z"
   },
   {
    "duration": 0,
    "start_time": "2024-08-19T15:10:29.693Z"
   },
   {
    "duration": 0,
    "start_time": "2024-08-19T15:10:29.706Z"
   },
   {
    "duration": 0,
    "start_time": "2024-08-19T15:10:29.709Z"
   },
   {
    "duration": 0,
    "start_time": "2024-08-19T15:10:29.711Z"
   },
   {
    "duration": 0,
    "start_time": "2024-08-19T15:10:29.713Z"
   },
   {
    "duration": 0,
    "start_time": "2024-08-19T15:10:29.716Z"
   },
   {
    "duration": 0,
    "start_time": "2024-08-19T15:10:29.718Z"
   },
   {
    "duration": 0,
    "start_time": "2024-08-19T15:10:29.722Z"
   },
   {
    "duration": 0,
    "start_time": "2024-08-19T15:10:29.726Z"
   },
   {
    "duration": 0,
    "start_time": "2024-08-19T15:10:29.729Z"
   },
   {
    "duration": 1681,
    "start_time": "2024-08-19T19:11:18.923Z"
   },
   {
    "duration": 1129,
    "start_time": "2024-08-19T19:11:37.778Z"
   },
   {
    "duration": 3126,
    "start_time": "2024-08-19T19:11:38.912Z"
   },
   {
    "duration": 7887,
    "start_time": "2024-08-19T19:11:42.042Z"
   },
   {
    "duration": 120,
    "start_time": "2024-08-19T19:11:49.953Z"
   },
   {
    "duration": 2756,
    "start_time": "2024-08-19T19:11:50.078Z"
   },
   {
    "duration": 13266,
    "start_time": "2024-08-19T19:11:52.838Z"
   },
   {
    "duration": 131,
    "start_time": "2024-08-19T19:12:06.108Z"
   },
   {
    "duration": 96,
    "start_time": "2024-08-19T19:12:06.242Z"
   },
   {
    "duration": 1251,
    "start_time": "2024-08-19T19:53:05.063Z"
   },
   {
    "duration": 5335,
    "start_time": "2024-08-19T19:53:06.319Z"
   },
   {
    "duration": 9370,
    "start_time": "2024-08-19T19:53:11.658Z"
   },
   {
    "duration": 105,
    "start_time": "2024-08-19T19:53:21.034Z"
   },
   {
    "duration": 2371,
    "start_time": "2024-08-19T19:53:21.142Z"
   },
   {
    "duration": 11383,
    "start_time": "2024-08-19T19:53:23.536Z"
   },
   {
    "duration": 101,
    "start_time": "2024-08-19T19:53:34.935Z"
   },
   {
    "duration": 47,
    "start_time": "2024-08-19T19:53:35.039Z"
   },
   {
    "duration": 8,
    "start_time": "2024-08-19T19:57:39.493Z"
   },
   {
    "duration": 6,
    "start_time": "2024-08-19T19:57:52.413Z"
   },
   {
    "duration": 5,
    "start_time": "2024-08-19T19:58:37.162Z"
   },
   {
    "duration": 10,
    "start_time": "2024-08-19T19:58:43.052Z"
   },
   {
    "duration": 5,
    "start_time": "2024-08-19T20:04:11.718Z"
   },
   {
    "duration": 6,
    "start_time": "2024-08-19T20:06:17.279Z"
   },
   {
    "duration": 1231,
    "start_time": "2024-08-19T20:15:25.091Z"
   },
   {
    "duration": 5608,
    "start_time": "2024-08-19T20:15:26.326Z"
   },
   {
    "duration": 6831,
    "start_time": "2024-08-19T20:15:31.937Z"
   },
   {
    "duration": 204,
    "start_time": "2024-08-19T20:15:38.773Z"
   },
   {
    "duration": 4026,
    "start_time": "2024-08-19T20:15:38.981Z"
   },
   {
    "duration": 27,
    "start_time": "2024-08-19T20:15:43.010Z"
   },
   {
    "duration": 0,
    "start_time": "2024-08-19T20:15:43.047Z"
   },
   {
    "duration": 0,
    "start_time": "2024-08-19T20:15:43.049Z"
   },
   {
    "duration": 0,
    "start_time": "2024-08-19T20:15:43.051Z"
   },
   {
    "duration": 0,
    "start_time": "2024-08-19T20:15:43.055Z"
   },
   {
    "duration": 0,
    "start_time": "2024-08-19T20:15:43.057Z"
   },
   {
    "duration": 0,
    "start_time": "2024-08-19T20:15:43.060Z"
   },
   {
    "duration": 0,
    "start_time": "2024-08-19T20:15:43.062Z"
   },
   {
    "duration": 0,
    "start_time": "2024-08-19T20:15:43.063Z"
   },
   {
    "duration": 0,
    "start_time": "2024-08-19T20:15:43.065Z"
   },
   {
    "duration": 0,
    "start_time": "2024-08-19T20:15:43.067Z"
   },
   {
    "duration": 3533,
    "start_time": "2024-08-19T22:23:50.893Z"
   },
   {
    "duration": 15,
    "start_time": "2024-08-20T00:53:41.163Z"
   },
   {
    "duration": 508,
    "start_time": "2024-08-20T03:26:57.738Z"
   },
   {
    "duration": 3365,
    "start_time": "2024-08-20T03:27:07.521Z"
   },
   {
    "duration": 14841,
    "start_time": "2024-08-20T03:27:10.890Z"
   },
   {
    "duration": 7301,
    "start_time": "2024-08-20T03:27:25.734Z"
   },
   {
    "duration": 110,
    "start_time": "2024-08-20T03:27:33.039Z"
   },
   {
    "duration": 1201,
    "start_time": "2024-08-20T03:27:33.153Z"
   },
   {
    "duration": 13079,
    "start_time": "2024-08-20T03:27:34.357Z"
   },
   {
    "duration": 121,
    "start_time": "2024-08-20T03:27:47.439Z"
   },
   {
    "duration": 90,
    "start_time": "2024-08-20T03:27:47.564Z"
   },
   {
    "duration": 3974,
    "start_time": "2024-08-20T03:27:47.658Z"
   },
   {
    "duration": 115,
    "start_time": "2024-08-20T03:27:51.641Z"
   },
   {
    "duration": 91,
    "start_time": "2024-08-20T03:27:51.759Z"
   },
   {
    "duration": 804,
    "start_time": "2024-08-20T03:27:51.852Z"
   },
   {
    "duration": 0,
    "start_time": "2024-08-20T03:27:52.666Z"
   },
   {
    "duration": 0,
    "start_time": "2024-08-20T03:27:52.675Z"
   },
   {
    "duration": 0,
    "start_time": "2024-08-20T03:27:52.681Z"
   },
   {
    "duration": 90,
    "start_time": "2024-08-20T03:30:40.733Z"
   },
   {
    "duration": 75,
    "start_time": "2024-08-20T03:31:32.687Z"
   },
   {
    "duration": 2337,
    "start_time": "2024-08-20T23:33:17.246Z"
   },
   {
    "duration": 1972,
    "start_time": "2024-08-20T23:33:19.588Z"
   },
   {
    "duration": 0,
    "start_time": "2024-08-20T23:33:21.564Z"
   },
   {
    "duration": 0,
    "start_time": "2024-08-20T23:33:21.566Z"
   },
   {
    "duration": 0,
    "start_time": "2024-08-20T23:33:21.569Z"
   },
   {
    "duration": 0,
    "start_time": "2024-08-20T23:33:21.570Z"
   },
   {
    "duration": 0,
    "start_time": "2024-08-20T23:33:21.572Z"
   },
   {
    "duration": 0,
    "start_time": "2024-08-20T23:33:21.575Z"
   },
   {
    "duration": 0,
    "start_time": "2024-08-20T23:33:21.578Z"
   },
   {
    "duration": 0,
    "start_time": "2024-08-20T23:33:21.581Z"
   },
   {
    "duration": 0,
    "start_time": "2024-08-20T23:33:21.583Z"
   },
   {
    "duration": 0,
    "start_time": "2024-08-20T23:33:21.585Z"
   },
   {
    "duration": 0,
    "start_time": "2024-08-20T23:33:21.588Z"
   },
   {
    "duration": 1,
    "start_time": "2024-08-20T23:33:21.634Z"
   },
   {
    "duration": 2388,
    "start_time": "2024-08-20T23:35:37.140Z"
   },
   {
    "duration": 2028,
    "start_time": "2024-08-20T23:35:39.532Z"
   },
   {
    "duration": 0,
    "start_time": "2024-08-20T23:35:41.564Z"
   },
   {
    "duration": 0,
    "start_time": "2024-08-20T23:35:41.567Z"
   },
   {
    "duration": 0,
    "start_time": "2024-08-20T23:35:41.570Z"
   },
   {
    "duration": 0,
    "start_time": "2024-08-20T23:35:41.572Z"
   },
   {
    "duration": 0,
    "start_time": "2024-08-20T23:35:41.574Z"
   },
   {
    "duration": 0,
    "start_time": "2024-08-20T23:35:41.576Z"
   },
   {
    "duration": 0,
    "start_time": "2024-08-20T23:35:41.578Z"
   },
   {
    "duration": 0,
    "start_time": "2024-08-20T23:35:41.581Z"
   },
   {
    "duration": 0,
    "start_time": "2024-08-20T23:35:41.582Z"
   },
   {
    "duration": 0,
    "start_time": "2024-08-20T23:35:41.584Z"
   },
   {
    "duration": 0,
    "start_time": "2024-08-20T23:35:41.586Z"
   },
   {
    "duration": 0,
    "start_time": "2024-08-20T23:35:41.589Z"
   },
   {
    "duration": 2416,
    "start_time": "2024-08-20T23:38:15.143Z"
   },
   {
    "duration": 2391,
    "start_time": "2024-08-20T23:38:29.249Z"
   },
   {
    "duration": 2358,
    "start_time": "2024-08-20T23:38:43.184Z"
   },
   {
    "duration": 70,
    "start_time": "2024-08-20T23:39:14.013Z"
   },
   {
    "duration": 4444,
    "start_time": "2024-08-20T23:40:13.522Z"
   },
   {
    "duration": 71,
    "start_time": "2024-08-20T23:40:23.441Z"
   },
   {
    "duration": 4,
    "start_time": "2024-08-20T23:40:49.193Z"
   },
   {
    "duration": 6773,
    "start_time": "2024-08-20T23:42:21.722Z"
   },
   {
    "duration": 3876,
    "start_time": "2024-08-20T23:42:43.167Z"
   },
   {
    "duration": 3196,
    "start_time": "2024-08-20T23:43:09.890Z"
   },
   {
    "duration": 3494,
    "start_time": "2024-08-20T23:43:15.671Z"
   },
   {
    "duration": 77,
    "start_time": "2024-08-20T23:43:31.941Z"
   },
   {
    "duration": 7,
    "start_time": "2024-08-20T23:43:55.767Z"
   },
   {
    "duration": 17011,
    "start_time": "2024-08-20T23:44:53.433Z"
   },
   {
    "duration": 3394,
    "start_time": "2024-08-20T23:45:34.246Z"
   },
   {
    "duration": 71,
    "start_time": "2024-08-20T23:45:44.755Z"
   },
   {
    "duration": 3407,
    "start_time": "2024-08-20T23:46:51.769Z"
   },
   {
    "duration": 3412,
    "start_time": "2024-08-20T23:47:03.983Z"
   },
   {
    "duration": 3410,
    "start_time": "2024-08-20T23:47:10.960Z"
   },
   {
    "duration": 3667,
    "start_time": "2024-08-20T23:47:25.552Z"
   },
   {
    "duration": 2454,
    "start_time": "2024-08-20T23:50:14.397Z"
   },
   {
    "duration": 74,
    "start_time": "2024-08-20T23:50:18.869Z"
   },
   {
    "duration": 2176,
    "start_time": "2024-08-20T23:50:41.008Z"
   },
   {
    "duration": 28,
    "start_time": "2024-08-20T23:51:17.961Z"
   },
   {
    "duration": 5,
    "start_time": "2024-08-20T23:52:19.496Z"
   },
   {
    "duration": 2409,
    "start_time": "2024-08-20T23:54:09.726Z"
   },
   {
    "duration": 2224,
    "start_time": "2024-08-20T23:54:12.139Z"
   },
   {
    "duration": 4,
    "start_time": "2024-08-20T23:54:14.366Z"
   },
   {
    "duration": 866,
    "start_time": "2024-08-20T23:54:14.374Z"
   },
   {
    "duration": 1172,
    "start_time": "2024-08-20T23:54:15.244Z"
   },
   {
    "duration": 0,
    "start_time": "2024-08-20T23:54:16.420Z"
   },
   {
    "duration": 0,
    "start_time": "2024-08-20T23:54:16.422Z"
   },
   {
    "duration": 0,
    "start_time": "2024-08-20T23:54:16.435Z"
   },
   {
    "duration": 0,
    "start_time": "2024-08-20T23:54:16.438Z"
   },
   {
    "duration": 0,
    "start_time": "2024-08-20T23:54:16.441Z"
   },
   {
    "duration": 0,
    "start_time": "2024-08-20T23:54:16.443Z"
   },
   {
    "duration": 0,
    "start_time": "2024-08-20T23:54:16.445Z"
   },
   {
    "duration": 1,
    "start_time": "2024-08-20T23:54:16.448Z"
   },
   {
    "duration": 0,
    "start_time": "2024-08-20T23:54:16.450Z"
   },
   {
    "duration": 0,
    "start_time": "2024-08-20T23:54:16.451Z"
   },
   {
    "duration": 0,
    "start_time": "2024-08-20T23:54:16.454Z"
   },
   {
    "duration": 0,
    "start_time": "2024-08-20T23:54:16.456Z"
   },
   {
    "duration": 39657,
    "start_time": "2024-08-20T23:56:44.964Z"
   },
   {
    "duration": 2892,
    "start_time": "2024-08-20T23:57:24.626Z"
   },
   {
    "duration": 0,
    "start_time": "2024-08-20T23:57:27.521Z"
   },
   {
    "duration": 0,
    "start_time": "2024-08-20T23:57:27.534Z"
   },
   {
    "duration": 0,
    "start_time": "2024-08-20T23:57:27.537Z"
   },
   {
    "duration": 0,
    "start_time": "2024-08-20T23:57:27.539Z"
   },
   {
    "duration": 0,
    "start_time": "2024-08-20T23:57:27.542Z"
   },
   {
    "duration": 0,
    "start_time": "2024-08-20T23:57:27.545Z"
   },
   {
    "duration": 0,
    "start_time": "2024-08-20T23:57:27.547Z"
   },
   {
    "duration": 0,
    "start_time": "2024-08-20T23:57:27.550Z"
   },
   {
    "duration": 0,
    "start_time": "2024-08-20T23:57:27.552Z"
   },
   {
    "duration": 0,
    "start_time": "2024-08-20T23:57:27.555Z"
   },
   {
    "duration": 0,
    "start_time": "2024-08-20T23:57:27.558Z"
   },
   {
    "duration": 0,
    "start_time": "2024-08-20T23:57:27.560Z"
   },
   {
    "duration": 15219,
    "start_time": "2024-08-20T23:58:19.010Z"
   },
   {
    "duration": 6470,
    "start_time": "2024-08-20T23:58:53.060Z"
   },
   {
    "duration": 2008,
    "start_time": "2024-08-20T23:58:59.534Z"
   },
   {
    "duration": 0,
    "start_time": "2024-08-20T23:59:01.546Z"
   },
   {
    "duration": 0,
    "start_time": "2024-08-20T23:59:01.549Z"
   },
   {
    "duration": 0,
    "start_time": "2024-08-20T23:59:01.552Z"
   },
   {
    "duration": 0,
    "start_time": "2024-08-20T23:59:01.556Z"
   },
   {
    "duration": 0,
    "start_time": "2024-08-20T23:59:01.558Z"
   },
   {
    "duration": 0,
    "start_time": "2024-08-20T23:59:01.560Z"
   },
   {
    "duration": 0,
    "start_time": "2024-08-20T23:59:01.563Z"
   },
   {
    "duration": 0,
    "start_time": "2024-08-20T23:59:01.566Z"
   },
   {
    "duration": 0,
    "start_time": "2024-08-20T23:59:01.568Z"
   },
   {
    "duration": 0,
    "start_time": "2024-08-20T23:59:01.571Z"
   },
   {
    "duration": 0,
    "start_time": "2024-08-20T23:59:01.574Z"
   },
   {
    "duration": 0,
    "start_time": "2024-08-20T23:59:01.581Z"
   },
   {
    "duration": 4160,
    "start_time": "2024-08-21T00:01:06.358Z"
   },
   {
    "duration": 6689,
    "start_time": "2024-08-21T00:01:15.409Z"
   },
   {
    "duration": 4199,
    "start_time": "2024-08-21T00:01:22.101Z"
   },
   {
    "duration": 14311,
    "start_time": "2024-08-21T00:01:26.303Z"
   },
   {
    "duration": 7052,
    "start_time": "2024-08-21T00:01:40.618Z"
   },
   {
    "duration": 73,
    "start_time": "2024-08-21T00:01:47.676Z"
   },
   {
    "duration": 107,
    "start_time": "2024-08-21T00:01:47.752Z"
   },
   {
    "duration": 89,
    "start_time": "2024-08-21T00:01:47.863Z"
   },
   {
    "duration": 584,
    "start_time": "2024-08-21T00:01:47.956Z"
   },
   {
    "duration": 0,
    "start_time": "2024-08-21T00:01:48.543Z"
   },
   {
    "duration": 0,
    "start_time": "2024-08-21T00:01:48.545Z"
   },
   {
    "duration": 0,
    "start_time": "2024-08-21T00:01:48.547Z"
   },
   {
    "duration": 0,
    "start_time": "2024-08-21T00:01:48.549Z"
   },
   {
    "duration": 0,
    "start_time": "2024-08-21T00:01:48.551Z"
   },
   {
    "duration": 0,
    "start_time": "2024-08-21T00:01:48.553Z"
   },
   {
    "duration": 0,
    "start_time": "2024-08-21T00:01:48.555Z"
   },
   {
    "duration": 48,
    "start_time": "2024-08-21T00:06:09.379Z"
   },
   {
    "duration": 115,
    "start_time": "2024-08-21T00:13:10.519Z"
   },
   {
    "duration": 69,
    "start_time": "2024-08-21T00:14:01.832Z"
   },
   {
    "duration": 72,
    "start_time": "2024-08-21T00:25:59.219Z"
   },
   {
    "duration": 10919,
    "start_time": "2024-08-21T01:08:19.996Z"
   },
   {
    "duration": 3435,
    "start_time": "2024-08-21T01:08:30.919Z"
   },
   {
    "duration": 14925,
    "start_time": "2024-08-21T01:08:34.356Z"
   },
   {
    "duration": 9335,
    "start_time": "2024-08-21T01:08:49.285Z"
   },
   {
    "duration": 65,
    "start_time": "2024-08-21T01:08:58.623Z"
   },
   {
    "duration": 102,
    "start_time": "2024-08-21T01:08:58.691Z"
   },
   {
    "duration": 82,
    "start_time": "2024-08-21T01:08:58.796Z"
   },
   {
    "duration": 596,
    "start_time": "2024-08-21T01:08:58.881Z"
   },
   {
    "duration": 0,
    "start_time": "2024-08-21T01:08:59.481Z"
   },
   {
    "duration": 0,
    "start_time": "2024-08-21T01:08:59.484Z"
   },
   {
    "duration": 0,
    "start_time": "2024-08-21T01:08:59.487Z"
   },
   {
    "duration": 0,
    "start_time": "2024-08-21T01:08:59.490Z"
   },
   {
    "duration": 0,
    "start_time": "2024-08-21T01:08:59.492Z"
   },
   {
    "duration": 0,
    "start_time": "2024-08-21T01:08:59.495Z"
   },
   {
    "duration": 0,
    "start_time": "2024-08-21T01:08:59.498Z"
   },
   {
    "duration": 6421,
    "start_time": "2024-08-21T01:11:16.462Z"
   },
   {
    "duration": 59,
    "start_time": "2024-08-21T01:11:28.189Z"
   },
   {
    "duration": 74,
    "start_time": "2024-08-21T01:11:56.277Z"
   },
   {
    "duration": 72,
    "start_time": "2024-08-21T01:12:12.910Z"
   },
   {
    "duration": 43,
    "start_time": "2024-08-21T01:12:28.141Z"
   },
   {
    "duration": 55,
    "start_time": "2024-08-21T01:19:58.017Z"
   },
   {
    "duration": 10145,
    "start_time": "2024-08-21T01:23:19.240Z"
   },
   {
    "duration": 3480,
    "start_time": "2024-08-21T01:23:29.389Z"
   },
   {
    "duration": 14970,
    "start_time": "2024-08-21T01:23:32.873Z"
   },
   {
    "duration": 6744,
    "start_time": "2024-08-21T01:23:47.848Z"
   },
   {
    "duration": 71,
    "start_time": "2024-08-21T01:23:54.595Z"
   },
   {
    "duration": 114,
    "start_time": "2024-08-21T01:23:54.669Z"
   },
   {
    "duration": 89,
    "start_time": "2024-08-21T01:23:54.786Z"
   },
   {
    "duration": 593,
    "start_time": "2024-08-21T01:23:54.879Z"
   },
   {
    "duration": 0,
    "start_time": "2024-08-21T01:23:55.475Z"
   },
   {
    "duration": 0,
    "start_time": "2024-08-21T01:23:55.478Z"
   },
   {
    "duration": 0,
    "start_time": "2024-08-21T01:23:55.480Z"
   },
   {
    "duration": 0,
    "start_time": "2024-08-21T01:23:55.483Z"
   },
   {
    "duration": 0,
    "start_time": "2024-08-21T01:23:55.485Z"
   },
   {
    "duration": 0,
    "start_time": "2024-08-21T01:23:55.487Z"
   },
   {
    "duration": 0,
    "start_time": "2024-08-21T01:23:55.490Z"
   },
   {
    "duration": 61,
    "start_time": "2024-08-21T01:24:24.670Z"
   },
   {
    "duration": 6,
    "start_time": "2024-08-21T01:25:26.843Z"
   },
   {
    "duration": 6,
    "start_time": "2024-08-21T01:26:17.150Z"
   },
   {
    "duration": 6,
    "start_time": "2024-08-21T01:26:46.064Z"
   },
   {
    "duration": 7461,
    "start_time": "2024-08-21T01:26:57.691Z"
   },
   {
    "duration": 3853,
    "start_time": "2024-08-21T01:27:05.157Z"
   },
   {
    "duration": 14233,
    "start_time": "2024-08-21T01:27:09.013Z"
   },
   {
    "duration": 7758,
    "start_time": "2024-08-21T01:27:23.249Z"
   },
   {
    "duration": 63,
    "start_time": "2024-08-21T01:27:31.013Z"
   },
   {
    "duration": 5,
    "start_time": "2024-08-21T01:27:31.079Z"
   },
   {
    "duration": 152,
    "start_time": "2024-08-21T01:27:31.088Z"
   },
   {
    "duration": 46,
    "start_time": "2024-08-21T01:27:31.244Z"
   },
   {
    "duration": 41,
    "start_time": "2024-08-21T01:27:31.293Z"
   },
   {
    "duration": 583,
    "start_time": "2024-08-21T01:27:31.337Z"
   },
   {
    "duration": 0,
    "start_time": "2024-08-21T01:27:31.923Z"
   },
   {
    "duration": 0,
    "start_time": "2024-08-21T01:27:31.935Z"
   },
   {
    "duration": 0,
    "start_time": "2024-08-21T01:27:31.937Z"
   },
   {
    "duration": 0,
    "start_time": "2024-08-21T01:27:31.939Z"
   },
   {
    "duration": 0,
    "start_time": "2024-08-21T01:27:31.942Z"
   },
   {
    "duration": 0,
    "start_time": "2024-08-21T01:27:31.944Z"
   },
   {
    "duration": 0,
    "start_time": "2024-08-21T01:27:31.947Z"
   },
   {
    "duration": 65,
    "start_time": "2024-08-21T01:34:30.934Z"
   },
   {
    "duration": 5,
    "start_time": "2024-08-21T01:34:44.976Z"
   },
   {
    "duration": 69,
    "start_time": "2024-08-21T01:35:12.470Z"
   },
   {
    "duration": 6705,
    "start_time": "2024-08-21T01:35:16.660Z"
   },
   {
    "duration": 3467,
    "start_time": "2024-08-21T01:35:23.369Z"
   },
   {
    "duration": 14217,
    "start_time": "2024-08-21T01:35:26.839Z"
   },
   {
    "duration": 6517,
    "start_time": "2024-08-21T01:35:41.060Z"
   },
   {
    "duration": 84,
    "start_time": "2024-08-21T01:35:47.582Z"
   },
   {
    "duration": 555,
    "start_time": "2024-08-21T01:35:47.669Z"
   },
   {
    "duration": 0,
    "start_time": "2024-08-21T01:35:48.234Z"
   },
   {
    "duration": 0,
    "start_time": "2024-08-21T01:35:48.236Z"
   },
   {
    "duration": 0,
    "start_time": "2024-08-21T01:35:48.239Z"
   },
   {
    "duration": 0,
    "start_time": "2024-08-21T01:35:48.241Z"
   },
   {
    "duration": 0,
    "start_time": "2024-08-21T01:35:48.243Z"
   },
   {
    "duration": 0,
    "start_time": "2024-08-21T01:35:48.246Z"
   },
   {
    "duration": 0,
    "start_time": "2024-08-21T01:35:48.249Z"
   },
   {
    "duration": 0,
    "start_time": "2024-08-21T01:35:48.252Z"
   },
   {
    "duration": 0,
    "start_time": "2024-08-21T01:35:48.254Z"
   },
   {
    "duration": 0,
    "start_time": "2024-08-21T01:35:48.256Z"
   },
   {
    "duration": 0,
    "start_time": "2024-08-21T01:35:48.260Z"
   },
   {
    "duration": 9147,
    "start_time": "2024-08-21T01:36:29.939Z"
   },
   {
    "duration": 91,
    "start_time": "2024-08-21T01:36:50.246Z"
   },
   {
    "duration": 29,
    "start_time": "2024-08-21T01:37:00.566Z"
   },
   {
    "duration": 6,
    "start_time": "2024-08-21T01:37:29.448Z"
   },
   {
    "duration": 77,
    "start_time": "2024-08-21T01:37:50.312Z"
   },
   {
    "duration": 46,
    "start_time": "2024-08-21T01:43:33.033Z"
   },
   {
    "duration": 46,
    "start_time": "2024-08-21T01:43:39.014Z"
   },
   {
    "duration": 5,
    "start_time": "2024-08-21T01:45:37.534Z"
   },
   {
    "duration": 70,
    "start_time": "2024-08-21T01:50:14.576Z"
   },
   {
    "duration": 6,
    "start_time": "2024-08-21T01:50:22.079Z"
   },
   {
    "duration": 8860,
    "start_time": "2024-08-21T01:50:41.923Z"
   },
   {
    "duration": 3502,
    "start_time": "2024-08-21T01:50:50.787Z"
   },
   {
    "duration": 14152,
    "start_time": "2024-08-21T01:50:54.292Z"
   },
   {
    "duration": 7107,
    "start_time": "2024-08-21T01:51:08.448Z"
   },
   {
    "duration": 0,
    "start_time": "2024-08-21T01:51:15.559Z"
   },
   {
    "duration": 0,
    "start_time": "2024-08-21T01:51:15.562Z"
   },
   {
    "duration": 0,
    "start_time": "2024-08-21T01:51:15.565Z"
   },
   {
    "duration": 0,
    "start_time": "2024-08-21T01:51:15.567Z"
   },
   {
    "duration": 0,
    "start_time": "2024-08-21T01:51:15.569Z"
   },
   {
    "duration": 0,
    "start_time": "2024-08-21T01:51:15.572Z"
   },
   {
    "duration": 0,
    "start_time": "2024-08-21T01:51:15.575Z"
   },
   {
    "duration": 0,
    "start_time": "2024-08-21T01:51:15.578Z"
   },
   {
    "duration": 0,
    "start_time": "2024-08-21T01:51:15.581Z"
   },
   {
    "duration": 0,
    "start_time": "2024-08-21T01:51:15.583Z"
   },
   {
    "duration": 0,
    "start_time": "2024-08-21T01:51:15.585Z"
   },
   {
    "duration": 0,
    "start_time": "2024-08-21T01:51:15.635Z"
   },
   {
    "duration": 8890,
    "start_time": "2024-08-21T01:53:07.931Z"
   },
   {
    "duration": 7262,
    "start_time": "2024-08-21T01:53:26.968Z"
   },
   {
    "duration": 3506,
    "start_time": "2024-08-21T01:53:34.234Z"
   },
   {
    "duration": 14188,
    "start_time": "2024-08-21T01:53:37.742Z"
   },
   {
    "duration": 6621,
    "start_time": "2024-08-21T01:53:51.935Z"
   },
   {
    "duration": 84,
    "start_time": "2024-08-21T01:53:58.559Z"
   },
   {
    "duration": 121,
    "start_time": "2024-08-21T01:53:58.647Z"
   },
   {
    "duration": 88,
    "start_time": "2024-08-21T01:53:58.772Z"
   },
   {
    "duration": 534,
    "start_time": "2024-08-21T01:53:58.863Z"
   },
   {
    "duration": 0,
    "start_time": "2024-08-21T01:53:59.400Z"
   },
   {
    "duration": 1,
    "start_time": "2024-08-21T01:53:59.401Z"
   },
   {
    "duration": 0,
    "start_time": "2024-08-21T01:53:59.404Z"
   },
   {
    "duration": 0,
    "start_time": "2024-08-21T01:53:59.407Z"
   },
   {
    "duration": 0,
    "start_time": "2024-08-21T01:53:59.409Z"
   },
   {
    "duration": 0,
    "start_time": "2024-08-21T01:53:59.413Z"
   },
   {
    "duration": 0,
    "start_time": "2024-08-21T01:53:59.436Z"
   },
   {
    "duration": 0,
    "start_time": "2024-08-21T01:53:59.439Z"
   },
   {
    "duration": 82,
    "start_time": "2024-08-21T01:55:25.925Z"
   },
   {
    "duration": 7550,
    "start_time": "2024-08-21T01:57:29.519Z"
   },
   {
    "duration": 3496,
    "start_time": "2024-08-21T01:57:37.074Z"
   },
   {
    "duration": 14161,
    "start_time": "2024-08-21T01:57:40.574Z"
   },
   {
    "duration": 6800,
    "start_time": "2024-08-21T01:57:54.739Z"
   },
   {
    "duration": 101,
    "start_time": "2024-08-21T01:58:01.542Z"
   },
   {
    "duration": 118,
    "start_time": "2024-08-21T01:58:01.647Z"
   },
   {
    "duration": 90,
    "start_time": "2024-08-21T01:58:01.767Z"
   },
   {
    "duration": 533,
    "start_time": "2024-08-21T01:58:01.860Z"
   },
   {
    "duration": 0,
    "start_time": "2024-08-21T01:58:02.397Z"
   },
   {
    "duration": 1,
    "start_time": "2024-08-21T01:58:02.399Z"
   },
   {
    "duration": 0,
    "start_time": "2024-08-21T01:58:02.402Z"
   },
   {
    "duration": 0,
    "start_time": "2024-08-21T01:58:02.404Z"
   },
   {
    "duration": 0,
    "start_time": "2024-08-21T01:58:02.407Z"
   },
   {
    "duration": 1,
    "start_time": "2024-08-21T01:58:02.433Z"
   },
   {
    "duration": 0,
    "start_time": "2024-08-21T01:58:02.436Z"
   },
   {
    "duration": 0,
    "start_time": "2024-08-21T01:58:02.438Z"
   },
   {
    "duration": 8,
    "start_time": "2024-08-21T02:00:43.534Z"
   },
   {
    "duration": 5,
    "start_time": "2024-08-21T02:02:13.274Z"
   },
   {
    "duration": 4,
    "start_time": "2024-08-21T02:03:01.028Z"
   },
   {
    "duration": 68,
    "start_time": "2024-08-21T02:03:08.221Z"
   },
   {
    "duration": 67,
    "start_time": "2024-08-21T02:06:24.966Z"
   },
   {
    "duration": 8324,
    "start_time": "2024-08-21T02:11:09.496Z"
   },
   {
    "duration": 3452,
    "start_time": "2024-08-21T02:11:17.824Z"
   },
   {
    "duration": 14160,
    "start_time": "2024-08-21T02:11:21.278Z"
   },
   {
    "duration": 7110,
    "start_time": "2024-08-21T02:11:35.441Z"
   },
   {
    "duration": 90,
    "start_time": "2024-08-21T02:11:42.555Z"
   },
   {
    "duration": 105,
    "start_time": "2024-08-21T02:11:42.648Z"
   },
   {
    "duration": 89,
    "start_time": "2024-08-21T02:11:42.756Z"
   },
   {
    "duration": 587,
    "start_time": "2024-08-21T02:11:42.848Z"
   },
   {
    "duration": 0,
    "start_time": "2024-08-21T02:11:43.439Z"
   },
   {
    "duration": 0,
    "start_time": "2024-08-21T02:11:43.442Z"
   },
   {
    "duration": 0,
    "start_time": "2024-08-21T02:11:43.444Z"
   },
   {
    "duration": 1,
    "start_time": "2024-08-21T02:11:43.446Z"
   },
   {
    "duration": 0,
    "start_time": "2024-08-21T02:11:43.449Z"
   },
   {
    "duration": 0,
    "start_time": "2024-08-21T02:11:43.451Z"
   },
   {
    "duration": 11852,
    "start_time": "2024-08-22T23:04:47.792Z"
   },
   {
    "duration": 4316,
    "start_time": "2024-08-22T23:04:59.648Z"
   },
   {
    "duration": 5665,
    "start_time": "2024-08-22T23:05:03.967Z"
   },
   {
    "duration": 0,
    "start_time": "2024-08-22T23:05:09.636Z"
   },
   {
    "duration": 0,
    "start_time": "2024-08-22T23:05:09.639Z"
   },
   {
    "duration": 0,
    "start_time": "2024-08-22T23:05:09.642Z"
   },
   {
    "duration": 0,
    "start_time": "2024-08-22T23:05:09.644Z"
   },
   {
    "duration": 0,
    "start_time": "2024-08-22T23:05:09.647Z"
   },
   {
    "duration": 0,
    "start_time": "2024-08-22T23:05:09.650Z"
   },
   {
    "duration": 0,
    "start_time": "2024-08-22T23:05:09.652Z"
   },
   {
    "duration": 0,
    "start_time": "2024-08-22T23:05:09.655Z"
   },
   {
    "duration": 0,
    "start_time": "2024-08-22T23:05:09.658Z"
   },
   {
    "duration": 0,
    "start_time": "2024-08-22T23:05:09.659Z"
   },
   {
    "duration": 0,
    "start_time": "2024-08-22T23:05:09.662Z"
   },
   {
    "duration": 6786,
    "start_time": "2024-08-22T23:06:17.754Z"
   },
   {
    "duration": 3378,
    "start_time": "2024-08-22T23:06:24.544Z"
   },
   {
    "duration": 2064,
    "start_time": "2024-08-22T23:06:27.925Z"
   },
   {
    "duration": 0,
    "start_time": "2024-08-22T23:06:29.993Z"
   },
   {
    "duration": 0,
    "start_time": "2024-08-22T23:06:29.996Z"
   },
   {
    "duration": 0,
    "start_time": "2024-08-22T23:06:29.999Z"
   },
   {
    "duration": 0,
    "start_time": "2024-08-22T23:06:30.002Z"
   },
   {
    "duration": 0,
    "start_time": "2024-08-22T23:06:30.004Z"
   },
   {
    "duration": 0,
    "start_time": "2024-08-22T23:06:30.006Z"
   },
   {
    "duration": 0,
    "start_time": "2024-08-22T23:06:30.031Z"
   },
   {
    "duration": 0,
    "start_time": "2024-08-22T23:06:30.034Z"
   },
   {
    "duration": 0,
    "start_time": "2024-08-22T23:06:30.037Z"
   },
   {
    "duration": 0,
    "start_time": "2024-08-22T23:06:30.039Z"
   },
   {
    "duration": 0,
    "start_time": "2024-08-22T23:06:30.042Z"
   },
   {
    "duration": 67,
    "start_time": "2024-08-22T23:07:41.887Z"
   },
   {
    "duration": 6831,
    "start_time": "2024-08-22T23:07:55.124Z"
   },
   {
    "duration": 3470,
    "start_time": "2024-08-22T23:08:01.959Z"
   },
   {
    "duration": 2049,
    "start_time": "2024-08-22T23:08:05.431Z"
   },
   {
    "duration": 0,
    "start_time": "2024-08-22T23:08:07.484Z"
   },
   {
    "duration": 0,
    "start_time": "2024-08-22T23:08:07.486Z"
   },
   {
    "duration": 0,
    "start_time": "2024-08-22T23:08:07.489Z"
   },
   {
    "duration": 0,
    "start_time": "2024-08-22T23:08:07.492Z"
   },
   {
    "duration": 0,
    "start_time": "2024-08-22T23:08:07.494Z"
   },
   {
    "duration": 0,
    "start_time": "2024-08-22T23:08:07.497Z"
   },
   {
    "duration": 0,
    "start_time": "2024-08-22T23:08:07.499Z"
   },
   {
    "duration": 0,
    "start_time": "2024-08-22T23:08:07.501Z"
   },
   {
    "duration": 0,
    "start_time": "2024-08-22T23:08:07.531Z"
   },
   {
    "duration": 0,
    "start_time": "2024-08-22T23:08:07.533Z"
   },
   {
    "duration": 0,
    "start_time": "2024-08-22T23:08:07.535Z"
   },
   {
    "duration": 6789,
    "start_time": "2024-08-22T23:12:19.362Z"
   },
   {
    "duration": 6211,
    "start_time": "2024-08-22T23:12:26.155Z"
   },
   {
    "duration": 3587,
    "start_time": "2024-08-22T23:12:32.369Z"
   },
   {
    "duration": 2020,
    "start_time": "2024-08-22T23:12:35.960Z"
   },
   {
    "duration": 0,
    "start_time": "2024-08-22T23:12:37.983Z"
   },
   {
    "duration": 0,
    "start_time": "2024-08-22T23:12:37.985Z"
   },
   {
    "duration": 0,
    "start_time": "2024-08-22T23:12:37.988Z"
   },
   {
    "duration": 0,
    "start_time": "2024-08-22T23:12:37.990Z"
   },
   {
    "duration": 0,
    "start_time": "2024-08-22T23:12:37.992Z"
   },
   {
    "duration": 0,
    "start_time": "2024-08-22T23:12:37.995Z"
   },
   {
    "duration": 0,
    "start_time": "2024-08-22T23:12:37.997Z"
   },
   {
    "duration": 0,
    "start_time": "2024-08-22T23:12:37.999Z"
   },
   {
    "duration": 0,
    "start_time": "2024-08-22T23:12:38.001Z"
   },
   {
    "duration": 0,
    "start_time": "2024-08-22T23:12:38.002Z"
   },
   {
    "duration": 0,
    "start_time": "2024-08-22T23:12:38.031Z"
   },
   {
    "duration": 7335,
    "start_time": "2024-08-22T23:13:19.572Z"
   },
   {
    "duration": 2441,
    "start_time": "2024-08-22T23:13:26.910Z"
   },
   {
    "duration": 3847,
    "start_time": "2024-08-22T23:13:29.354Z"
   },
   {
    "duration": 2190,
    "start_time": "2024-08-22T23:13:33.206Z"
   },
   {
    "duration": 0,
    "start_time": "2024-08-22T23:13:35.400Z"
   },
   {
    "duration": 0,
    "start_time": "2024-08-22T23:13:35.403Z"
   },
   {
    "duration": 0,
    "start_time": "2024-08-22T23:13:35.406Z"
   },
   {
    "duration": 0,
    "start_time": "2024-08-22T23:13:35.408Z"
   },
   {
    "duration": 0,
    "start_time": "2024-08-22T23:13:35.410Z"
   },
   {
    "duration": 0,
    "start_time": "2024-08-22T23:13:35.432Z"
   },
   {
    "duration": 0,
    "start_time": "2024-08-22T23:13:35.434Z"
   },
   {
    "duration": 0,
    "start_time": "2024-08-22T23:13:35.436Z"
   },
   {
    "duration": 0,
    "start_time": "2024-08-22T23:13:35.438Z"
   },
   {
    "duration": 0,
    "start_time": "2024-08-22T23:13:35.440Z"
   },
   {
    "duration": 0,
    "start_time": "2024-08-22T23:13:35.442Z"
   },
   {
    "duration": 98,
    "start_time": "2024-08-22T23:13:54.957Z"
   },
   {
    "duration": 2555,
    "start_time": "2024-08-22T23:26:02.327Z"
   },
   {
    "duration": 101,
    "start_time": "2024-08-22T23:26:07.148Z"
   },
   {
    "duration": 9231,
    "start_time": "2024-08-22T23:26:25.305Z"
   },
   {
    "duration": 2508,
    "start_time": "2024-08-22T23:26:34.540Z"
   },
   {
    "duration": 3733,
    "start_time": "2024-08-22T23:26:37.053Z"
   },
   {
    "duration": 2642,
    "start_time": "2024-08-22T23:26:40.790Z"
   },
   {
    "duration": 2202,
    "start_time": "2024-08-22T23:26:43.435Z"
   },
   {
    "duration": 0,
    "start_time": "2024-08-22T23:26:45.642Z"
   },
   {
    "duration": 0,
    "start_time": "2024-08-22T23:26:45.645Z"
   },
   {
    "duration": 0,
    "start_time": "2024-08-22T23:26:45.647Z"
   },
   {
    "duration": 0,
    "start_time": "2024-08-22T23:26:45.650Z"
   },
   {
    "duration": 0,
    "start_time": "2024-08-22T23:26:45.653Z"
   },
   {
    "duration": 0,
    "start_time": "2024-08-22T23:26:45.656Z"
   },
   {
    "duration": 0,
    "start_time": "2024-08-22T23:26:45.659Z"
   },
   {
    "duration": 0,
    "start_time": "2024-08-22T23:26:45.662Z"
   },
   {
    "duration": 0,
    "start_time": "2024-08-22T23:26:45.667Z"
   },
   {
    "duration": 0,
    "start_time": "2024-08-22T23:26:45.669Z"
   },
   {
    "duration": 0,
    "start_time": "2024-08-22T23:26:45.671Z"
   },
   {
    "duration": 3828,
    "start_time": "2024-08-22T23:26:53.070Z"
   },
   {
    "duration": 17154,
    "start_time": "2024-08-22T23:27:24.440Z"
   },
   {
    "duration": 2248,
    "start_time": "2024-08-22T23:27:41.597Z"
   },
   {
    "duration": 0,
    "start_time": "2024-08-22T23:27:43.851Z"
   },
   {
    "duration": 0,
    "start_time": "2024-08-22T23:27:43.854Z"
   },
   {
    "duration": 0,
    "start_time": "2024-08-22T23:27:43.856Z"
   },
   {
    "duration": 0,
    "start_time": "2024-08-22T23:27:43.858Z"
   },
   {
    "duration": 0,
    "start_time": "2024-08-22T23:27:43.861Z"
   },
   {
    "duration": 0,
    "start_time": "2024-08-22T23:27:43.863Z"
   },
   {
    "duration": 0,
    "start_time": "2024-08-22T23:27:43.865Z"
   },
   {
    "duration": 0,
    "start_time": "2024-08-22T23:27:43.867Z"
   },
   {
    "duration": 0,
    "start_time": "2024-08-22T23:27:43.871Z"
   },
   {
    "duration": 0,
    "start_time": "2024-08-22T23:27:43.872Z"
   },
   {
    "duration": 0,
    "start_time": "2024-08-22T23:27:43.875Z"
   },
   {
    "duration": 2592,
    "start_time": "2024-08-22T23:29:08.521Z"
   },
   {
    "duration": 2611,
    "start_time": "2024-08-22T23:29:42.110Z"
   },
   {
    "duration": 5624,
    "start_time": "2024-08-22T23:29:54.878Z"
   },
   {
    "duration": 0,
    "start_time": "2024-08-22T23:30:00.506Z"
   },
   {
    "duration": 0,
    "start_time": "2024-08-22T23:30:00.508Z"
   },
   {
    "duration": 0,
    "start_time": "2024-08-22T23:30:00.510Z"
   },
   {
    "duration": 0,
    "start_time": "2024-08-22T23:30:00.512Z"
   },
   {
    "duration": 0,
    "start_time": "2024-08-22T23:30:00.514Z"
   },
   {
    "duration": 0,
    "start_time": "2024-08-22T23:30:00.531Z"
   },
   {
    "duration": 0,
    "start_time": "2024-08-22T23:30:00.533Z"
   },
   {
    "duration": 0,
    "start_time": "2024-08-22T23:30:00.535Z"
   },
   {
    "duration": 0,
    "start_time": "2024-08-22T23:30:00.537Z"
   },
   {
    "duration": 0,
    "start_time": "2024-08-22T23:30:00.539Z"
   },
   {
    "duration": 0,
    "start_time": "2024-08-22T23:30:00.547Z"
   },
   {
    "duration": 0,
    "start_time": "2024-08-22T23:30:00.550Z"
   },
   {
    "duration": 0,
    "start_time": "2024-08-22T23:30:00.556Z"
   },
   {
    "duration": 2294,
    "start_time": "2024-08-22T23:30:13.506Z"
   },
   {
    "duration": 0,
    "start_time": "2024-08-22T23:30:15.804Z"
   },
   {
    "duration": 0,
    "start_time": "2024-08-22T23:30:15.806Z"
   },
   {
    "duration": 0,
    "start_time": "2024-08-22T23:30:15.809Z"
   },
   {
    "duration": 0,
    "start_time": "2024-08-22T23:30:15.812Z"
   },
   {
    "duration": 0,
    "start_time": "2024-08-22T23:30:15.831Z"
   },
   {
    "duration": 0,
    "start_time": "2024-08-22T23:30:15.833Z"
   },
   {
    "duration": 0,
    "start_time": "2024-08-22T23:30:15.834Z"
   },
   {
    "duration": 0,
    "start_time": "2024-08-22T23:30:15.836Z"
   },
   {
    "duration": 0,
    "start_time": "2024-08-22T23:30:15.837Z"
   },
   {
    "duration": 0,
    "start_time": "2024-08-22T23:30:15.839Z"
   },
   {
    "duration": 0,
    "start_time": "2024-08-22T23:30:15.841Z"
   },
   {
    "duration": 0,
    "start_time": "2024-08-22T23:30:15.843Z"
   },
   {
    "duration": 2640,
    "start_time": "2024-08-22T23:30:25.442Z"
   },
   {
    "duration": 5538,
    "start_time": "2024-08-22T23:30:38.196Z"
   },
   {
    "duration": 0,
    "start_time": "2024-08-22T23:30:43.739Z"
   },
   {
    "duration": 0,
    "start_time": "2024-08-22T23:30:43.741Z"
   },
   {
    "duration": 0,
    "start_time": "2024-08-22T23:30:43.747Z"
   },
   {
    "duration": 0,
    "start_time": "2024-08-22T23:30:43.749Z"
   },
   {
    "duration": 0,
    "start_time": "2024-08-22T23:30:43.754Z"
   },
   {
    "duration": 0,
    "start_time": "2024-08-22T23:30:43.759Z"
   },
   {
    "duration": 1,
    "start_time": "2024-08-22T23:30:43.761Z"
   },
   {
    "duration": 0,
    "start_time": "2024-08-22T23:30:43.764Z"
   },
   {
    "duration": 0,
    "start_time": "2024-08-22T23:30:43.767Z"
   },
   {
    "duration": 1,
    "start_time": "2024-08-22T23:30:43.770Z"
   },
   {
    "duration": 0,
    "start_time": "2024-08-22T23:30:43.773Z"
   },
   {
    "duration": 1,
    "start_time": "2024-08-22T23:30:43.775Z"
   },
   {
    "duration": 2398,
    "start_time": "2024-08-22T23:33:05.163Z"
   },
   {
    "duration": 5161,
    "start_time": "2024-08-22T23:33:38.514Z"
   },
   {
    "duration": 2611,
    "start_time": "2024-08-22T23:34:01.400Z"
   },
   {
    "duration": 11899,
    "start_time": "2024-08-22T23:34:53.697Z"
   },
   {
    "duration": 0,
    "start_time": "2024-08-22T23:35:05.600Z"
   },
   {
    "duration": 0,
    "start_time": "2024-08-22T23:35:05.602Z"
   },
   {
    "duration": 0,
    "start_time": "2024-08-22T23:35:05.604Z"
   },
   {
    "duration": 0,
    "start_time": "2024-08-22T23:35:05.607Z"
   },
   {
    "duration": 0,
    "start_time": "2024-08-22T23:35:05.609Z"
   },
   {
    "duration": 0,
    "start_time": "2024-08-22T23:35:05.612Z"
   },
   {
    "duration": 0,
    "start_time": "2024-08-22T23:35:05.634Z"
   },
   {
    "duration": 1,
    "start_time": "2024-08-22T23:35:05.636Z"
   },
   {
    "duration": 0,
    "start_time": "2024-08-22T23:35:05.657Z"
   },
   {
    "duration": 0,
    "start_time": "2024-08-22T23:35:05.665Z"
   },
   {
    "duration": 0,
    "start_time": "2024-08-22T23:35:05.673Z"
   },
   {
    "duration": 0,
    "start_time": "2024-08-22T23:35:05.681Z"
   },
   {
    "duration": 0,
    "start_time": "2024-08-22T23:35:05.690Z"
   },
   {
    "duration": 11105,
    "start_time": "2024-08-22T23:35:53.119Z"
   },
   {
    "duration": 0,
    "start_time": "2024-08-22T23:36:04.228Z"
   },
   {
    "duration": 0,
    "start_time": "2024-08-22T23:36:04.231Z"
   },
   {
    "duration": 0,
    "start_time": "2024-08-22T23:36:04.233Z"
   },
   {
    "duration": 0,
    "start_time": "2024-08-22T23:36:04.235Z"
   },
   {
    "duration": 0,
    "start_time": "2024-08-22T23:36:04.237Z"
   },
   {
    "duration": 0,
    "start_time": "2024-08-22T23:36:04.238Z"
   },
   {
    "duration": 0,
    "start_time": "2024-08-22T23:36:04.240Z"
   },
   {
    "duration": 0,
    "start_time": "2024-08-22T23:36:04.242Z"
   },
   {
    "duration": 0,
    "start_time": "2024-08-22T23:36:04.245Z"
   },
   {
    "duration": 0,
    "start_time": "2024-08-22T23:36:04.248Z"
   },
   {
    "duration": 0,
    "start_time": "2024-08-22T23:36:04.250Z"
   },
   {
    "duration": 0,
    "start_time": "2024-08-22T23:36:04.252Z"
   },
   {
    "duration": 0,
    "start_time": "2024-08-22T23:36:04.254Z"
   },
   {
    "duration": 4691,
    "start_time": "2024-08-22T23:36:07.341Z"
   },
   {
    "duration": 11202,
    "start_time": "2024-08-22T23:36:23.864Z"
   },
   {
    "duration": 0,
    "start_time": "2024-08-22T23:36:35.071Z"
   },
   {
    "duration": 0,
    "start_time": "2024-08-22T23:36:35.073Z"
   },
   {
    "duration": 0,
    "start_time": "2024-08-22T23:36:35.074Z"
   },
   {
    "duration": 0,
    "start_time": "2024-08-22T23:36:35.076Z"
   },
   {
    "duration": 1,
    "start_time": "2024-08-22T23:36:35.077Z"
   },
   {
    "duration": 0,
    "start_time": "2024-08-22T23:36:35.079Z"
   },
   {
    "duration": 0,
    "start_time": "2024-08-22T23:36:35.080Z"
   },
   {
    "duration": 0,
    "start_time": "2024-08-22T23:36:35.082Z"
   },
   {
    "duration": 1,
    "start_time": "2024-08-22T23:36:35.085Z"
   },
   {
    "duration": 0,
    "start_time": "2024-08-22T23:36:35.087Z"
   },
   {
    "duration": 0,
    "start_time": "2024-08-22T23:36:35.090Z"
   },
   {
    "duration": 0,
    "start_time": "2024-08-22T23:36:35.092Z"
   },
   {
    "duration": 0,
    "start_time": "2024-08-22T23:36:35.095Z"
   },
   {
    "duration": 6837,
    "start_time": "2024-08-22T23:37:48.146Z"
   },
   {
    "duration": 4414,
    "start_time": "2024-08-22T23:38:05.074Z"
   },
   {
    "duration": 3609,
    "start_time": "2024-08-22T23:38:09.491Z"
   },
   {
    "duration": 14316,
    "start_time": "2024-08-22T23:38:13.102Z"
   },
   {
    "duration": 7648,
    "start_time": "2024-08-22T23:38:27.423Z"
   },
   {
    "duration": 112,
    "start_time": "2024-08-22T23:38:35.076Z"
   },
   {
    "duration": 158,
    "start_time": "2024-08-22T23:38:35.191Z"
   },
   {
    "duration": 99,
    "start_time": "2024-08-22T23:38:35.353Z"
   },
   {
    "duration": 626,
    "start_time": "2024-08-22T23:38:35.455Z"
   },
   {
    "duration": 0,
    "start_time": "2024-08-22T23:38:36.085Z"
   },
   {
    "duration": 0,
    "start_time": "2024-08-22T23:38:36.087Z"
   },
   {
    "duration": 0,
    "start_time": "2024-08-22T23:38:36.091Z"
   },
   {
    "duration": 0,
    "start_time": "2024-08-22T23:38:36.093Z"
   },
   {
    "duration": 0,
    "start_time": "2024-08-22T23:38:36.095Z"
   },
   {
    "duration": 0,
    "start_time": "2024-08-22T23:38:36.098Z"
   },
   {
    "duration": 5,
    "start_time": "2024-08-22T23:40:16.200Z"
   },
   {
    "duration": 59,
    "start_time": "2024-08-22T23:42:48.346Z"
   },
   {
    "duration": 3666,
    "start_time": "2024-08-22T23:43:54.509Z"
   },
   {
    "duration": 3501,
    "start_time": "2024-08-22T23:43:58.179Z"
   },
   {
    "duration": 14231,
    "start_time": "2024-08-22T23:44:01.683Z"
   },
   {
    "duration": 7124,
    "start_time": "2024-08-22T23:44:15.919Z"
   },
   {
    "duration": 91,
    "start_time": "2024-08-22T23:44:23.046Z"
   },
   {
    "duration": 110,
    "start_time": "2024-08-22T23:44:23.140Z"
   },
   {
    "duration": 84,
    "start_time": "2024-08-22T23:44:23.254Z"
   },
   {
    "duration": 573,
    "start_time": "2024-08-22T23:44:23.342Z"
   },
   {
    "duration": 0,
    "start_time": "2024-08-22T23:44:23.919Z"
   },
   {
    "duration": 0,
    "start_time": "2024-08-22T23:44:23.921Z"
   },
   {
    "duration": 0,
    "start_time": "2024-08-22T23:44:23.931Z"
   },
   {
    "duration": 0,
    "start_time": "2024-08-22T23:44:23.934Z"
   },
   {
    "duration": 0,
    "start_time": "2024-08-22T23:44:23.936Z"
   },
   {
    "duration": 0,
    "start_time": "2024-08-22T23:44:23.939Z"
   },
   {
    "duration": 55,
    "start_time": "2024-08-22T23:53:04.068Z"
   },
   {
    "duration": 41,
    "start_time": "2024-08-22T23:53:30.705Z"
   },
   {
    "duration": 42,
    "start_time": "2024-08-22T23:56:01.554Z"
   },
   {
    "duration": 4,
    "start_time": "2024-08-22T23:56:36.485Z"
   },
   {
    "duration": 5,
    "start_time": "2024-08-22T23:57:19.435Z"
   },
   {
    "duration": 163,
    "start_time": "2024-08-22T23:57:48.555Z"
   },
   {
    "duration": 47,
    "start_time": "2024-08-22T23:58:18.154Z"
   },
   {
    "duration": 36,
    "start_time": "2024-08-23T00:04:09.563Z"
   },
   {
    "duration": 37,
    "start_time": "2024-08-23T00:05:15.959Z"
   },
   {
    "duration": 41,
    "start_time": "2024-08-23T00:07:22.427Z"
   },
   {
    "duration": 3757,
    "start_time": "2024-08-23T00:21:51.763Z"
   },
   {
    "duration": 3507,
    "start_time": "2024-08-23T00:21:55.524Z"
   },
   {
    "duration": 15138,
    "start_time": "2024-08-23T00:21:59.034Z"
   },
   {
    "duration": 7038,
    "start_time": "2024-08-23T00:22:14.177Z"
   },
   {
    "duration": 76,
    "start_time": "2024-08-23T00:22:21.218Z"
   },
   {
    "duration": 146,
    "start_time": "2024-08-23T00:22:21.297Z"
   },
   {
    "duration": 35,
    "start_time": "2024-08-23T00:22:21.454Z"
   },
   {
    "duration": 589,
    "start_time": "2024-08-23T00:22:21.492Z"
   },
   {
    "duration": 0,
    "start_time": "2024-08-23T00:22:22.084Z"
   },
   {
    "duration": 0,
    "start_time": "2024-08-23T00:22:22.085Z"
   },
   {
    "duration": 0,
    "start_time": "2024-08-23T00:22:22.087Z"
   },
   {
    "duration": 0,
    "start_time": "2024-08-23T00:22:22.089Z"
   },
   {
    "duration": 0,
    "start_time": "2024-08-23T00:22:22.091Z"
   },
   {
    "duration": 0,
    "start_time": "2024-08-23T00:22:22.093Z"
   },
   {
    "duration": 25,
    "start_time": "2024-08-23T00:23:13.270Z"
   },
   {
    "duration": 4,
    "start_time": "2024-08-23T00:23:18.505Z"
   },
   {
    "duration": 3687,
    "start_time": "2024-08-23T00:26:24.961Z"
   },
   {
    "duration": 3552,
    "start_time": "2024-08-23T00:26:28.652Z"
   },
   {
    "duration": 14222,
    "start_time": "2024-08-23T00:26:32.208Z"
   },
   {
    "duration": 8897,
    "start_time": "2024-08-23T00:26:46.434Z"
   },
   {
    "duration": 65,
    "start_time": "2024-08-23T00:26:55.336Z"
   },
   {
    "duration": 111,
    "start_time": "2024-08-23T00:26:55.431Z"
   },
   {
    "duration": 33,
    "start_time": "2024-08-23T00:26:55.545Z"
   },
   {
    "duration": 4,
    "start_time": "2024-08-23T00:26:55.583Z"
   },
   {
    "duration": 599,
    "start_time": "2024-08-23T00:26:55.631Z"
   },
   {
    "duration": 0,
    "start_time": "2024-08-23T00:26:56.233Z"
   },
   {
    "duration": 0,
    "start_time": "2024-08-23T00:26:56.236Z"
   },
   {
    "duration": 0,
    "start_time": "2024-08-23T00:26:56.238Z"
   },
   {
    "duration": 0,
    "start_time": "2024-08-23T00:26:56.240Z"
   },
   {
    "duration": 0,
    "start_time": "2024-08-23T00:26:56.242Z"
   },
   {
    "duration": 64,
    "start_time": "2024-08-23T00:29:19.251Z"
   },
   {
    "duration": 215,
    "start_time": "2024-08-23T00:29:52.412Z"
   },
   {
    "duration": 44,
    "start_time": "2024-08-23T00:29:57.099Z"
   },
   {
    "duration": 687,
    "start_time": "2024-08-23T00:42:22.688Z"
   },
   {
    "duration": 43,
    "start_time": "2024-08-23T00:51:42.030Z"
   },
   {
    "duration": 96,
    "start_time": "2024-08-23T01:04:04.441Z"
   },
   {
    "duration": 0,
    "start_time": "2024-08-23T01:04:04.631Z"
   },
   {
    "duration": 18,
    "start_time": "2024-08-23T01:05:27.954Z"
   },
   {
    "duration": 29,
    "start_time": "2024-08-23T01:05:32.615Z"
   },
   {
    "duration": 638,
    "start_time": "2024-08-23T01:19:19.848Z"
   },
   {
    "duration": 3709,
    "start_time": "2024-08-23T01:22:12.700Z"
   },
   {
    "duration": 3496,
    "start_time": "2024-08-23T01:22:16.413Z"
   },
   {
    "duration": 14204,
    "start_time": "2024-08-23T01:22:19.912Z"
   },
   {
    "duration": 7070,
    "start_time": "2024-08-23T01:22:34.120Z"
   },
   {
    "duration": 80,
    "start_time": "2024-08-23T01:22:41.193Z"
   },
   {
    "duration": 155,
    "start_time": "2024-08-23T01:22:41.276Z"
   },
   {
    "duration": 33,
    "start_time": "2024-08-23T01:22:41.434Z"
   },
   {
    "duration": 629,
    "start_time": "2024-08-23T01:22:41.470Z"
   },
   {
    "duration": 0,
    "start_time": "2024-08-23T01:22:42.102Z"
   },
   {
    "duration": 0,
    "start_time": "2024-08-23T01:22:42.105Z"
   },
   {
    "duration": 0,
    "start_time": "2024-08-23T01:22:42.107Z"
   },
   {
    "duration": 0,
    "start_time": "2024-08-23T01:22:42.109Z"
   },
   {
    "duration": 56,
    "start_time": "2024-08-23T01:23:28.166Z"
   },
   {
    "duration": 597,
    "start_time": "2024-08-23T01:24:00.652Z"
   },
   {
    "duration": 355,
    "start_time": "2024-08-23T01:25:55.949Z"
   },
   {
    "duration": 14,
    "start_time": "2024-08-23T01:31:59.676Z"
   },
   {
    "duration": 38,
    "start_time": "2024-08-23T01:53:53.822Z"
   },
   {
    "duration": 36,
    "start_time": "2024-08-23T01:56:30.782Z"
   },
   {
    "duration": 41,
    "start_time": "2024-08-23T01:58:33.844Z"
   },
   {
    "duration": 40,
    "start_time": "2024-08-23T01:58:55.900Z"
   },
   {
    "duration": 38,
    "start_time": "2024-08-23T02:17:23.311Z"
   },
   {
    "duration": 594,
    "start_time": "2024-08-23T02:41:38.347Z"
   },
   {
    "duration": 624,
    "start_time": "2024-08-23T02:43:25.911Z"
   },
   {
    "duration": 563,
    "start_time": "2024-08-23T02:44:54.483Z"
   },
   {
    "duration": 165,
    "start_time": "2024-08-23T02:47:27.383Z"
   },
   {
    "duration": 6,
    "start_time": "2024-08-23T02:48:02.258Z"
   },
   {
    "duration": 30,
    "start_time": "2024-08-23T02:48:35.251Z"
   },
   {
    "duration": 3777,
    "start_time": "2024-08-23T03:09:42.598Z"
   },
   {
    "duration": 3542,
    "start_time": "2024-08-23T03:09:46.379Z"
   },
   {
    "duration": 14989,
    "start_time": "2024-08-23T03:09:49.925Z"
   },
   {
    "duration": 7407,
    "start_time": "2024-08-23T03:10:04.917Z"
   },
   {
    "duration": 100,
    "start_time": "2024-08-23T03:10:12.332Z"
   },
   {
    "duration": 112,
    "start_time": "2024-08-23T03:10:12.436Z"
   },
   {
    "duration": 80,
    "start_time": "2024-08-23T03:10:12.551Z"
   },
   {
    "duration": 615,
    "start_time": "2024-08-23T03:10:12.634Z"
   },
   {
    "duration": 0,
    "start_time": "2024-08-23T03:10:13.253Z"
   },
   {
    "duration": 0,
    "start_time": "2024-08-23T03:10:13.255Z"
   },
   {
    "duration": 0,
    "start_time": "2024-08-23T03:10:13.258Z"
   },
   {
    "duration": 0,
    "start_time": "2024-08-23T03:10:13.260Z"
   },
   {
    "duration": 0,
    "start_time": "2024-08-23T03:10:13.262Z"
   },
   {
    "duration": 0,
    "start_time": "2024-08-23T03:10:13.264Z"
   },
   {
    "duration": 0,
    "start_time": "2024-08-23T03:10:13.265Z"
   },
   {
    "duration": 61,
    "start_time": "2024-08-23T03:15:38.029Z"
   },
   {
    "duration": 37,
    "start_time": "2024-08-23T03:15:55.069Z"
   },
   {
    "duration": 32,
    "start_time": "2024-08-23T03:16:20.180Z"
   },
   {
    "duration": 647,
    "start_time": "2024-08-23T03:54:04.993Z"
   },
   {
    "duration": 174,
    "start_time": "2024-08-23T04:06:18.864Z"
   },
   {
    "duration": 240,
    "start_time": "2024-08-23T04:06:59.328Z"
   },
   {
    "duration": 3656,
    "start_time": "2024-08-23T04:18:45.097Z"
   },
   {
    "duration": 3552,
    "start_time": "2024-08-23T04:18:48.758Z"
   },
   {
    "duration": 14182,
    "start_time": "2024-08-23T04:18:52.314Z"
   },
   {
    "duration": 7004,
    "start_time": "2024-08-23T04:19:06.500Z"
   },
   {
    "duration": 79,
    "start_time": "2024-08-23T04:19:13.508Z"
   },
   {
    "duration": 103,
    "start_time": "2024-08-23T04:19:13.589Z"
   },
   {
    "duration": 34,
    "start_time": "2024-08-23T04:19:13.730Z"
   },
   {
    "duration": 616,
    "start_time": "2024-08-23T04:19:13.767Z"
   },
   {
    "duration": 0,
    "start_time": "2024-08-23T04:19:14.386Z"
   },
   {
    "duration": 0,
    "start_time": "2024-08-23T04:19:14.389Z"
   },
   {
    "duration": 0,
    "start_time": "2024-08-23T04:19:14.391Z"
   },
   {
    "duration": 0,
    "start_time": "2024-08-23T04:19:14.393Z"
   },
   {
    "duration": 70,
    "start_time": "2024-08-23T04:20:33.832Z"
   },
   {
    "duration": 106,
    "start_time": "2024-08-23T04:23:55.427Z"
   },
   {
    "duration": 87,
    "start_time": "2024-08-23T04:24:02.954Z"
   },
   {
    "duration": 3763,
    "start_time": "2024-08-23T04:24:09.638Z"
   },
   {
    "duration": 3646,
    "start_time": "2024-08-23T04:24:13.404Z"
   },
   {
    "duration": 14231,
    "start_time": "2024-08-23T04:24:17.054Z"
   },
   {
    "duration": 7141,
    "start_time": "2024-08-23T04:24:31.291Z"
   },
   {
    "duration": 66,
    "start_time": "2024-08-23T04:24:38.436Z"
   },
   {
    "duration": 110,
    "start_time": "2024-08-23T04:24:38.531Z"
   },
   {
    "duration": 36,
    "start_time": "2024-08-23T04:24:38.645Z"
   },
   {
    "duration": 654,
    "start_time": "2024-08-23T04:24:38.684Z"
   },
   {
    "duration": 0,
    "start_time": "2024-08-23T04:24:39.342Z"
   },
   {
    "duration": 0,
    "start_time": "2024-08-23T04:24:39.344Z"
   },
   {
    "duration": 0,
    "start_time": "2024-08-23T04:24:39.345Z"
   },
   {
    "duration": 0,
    "start_time": "2024-08-23T04:24:39.347Z"
   },
   {
    "duration": 35,
    "start_time": "2024-08-23T04:26:43.369Z"
   },
   {
    "duration": 94,
    "start_time": "2024-08-23T04:27:16.467Z"
   },
   {
    "duration": 119,
    "start_time": "2024-08-23T04:27:41.720Z"
   },
   {
    "duration": 94,
    "start_time": "2024-08-23T04:31:49.055Z"
   },
   {
    "duration": 30,
    "start_time": "2024-08-23T04:34:16.696Z"
   },
   {
    "duration": 60,
    "start_time": "2024-08-23T04:36:02.452Z"
   },
   {
    "duration": 38,
    "start_time": "2024-08-23T04:36:23.001Z"
   },
   {
    "duration": 3686,
    "start_time": "2024-08-23T04:36:41.684Z"
   },
   {
    "duration": 3479,
    "start_time": "2024-08-23T04:36:45.373Z"
   },
   {
    "duration": 14169,
    "start_time": "2024-08-23T04:36:48.855Z"
   },
   {
    "duration": 7221,
    "start_time": "2024-08-23T04:37:03.030Z"
   },
   {
    "duration": 88,
    "start_time": "2024-08-23T04:37:10.254Z"
   },
   {
    "duration": 118,
    "start_time": "2024-08-23T04:37:10.345Z"
   },
   {
    "duration": 88,
    "start_time": "2024-08-23T04:37:10.467Z"
   },
   {
    "duration": 604,
    "start_time": "2024-08-23T04:37:10.559Z"
   },
   {
    "duration": 0,
    "start_time": "2024-08-23T04:37:11.166Z"
   },
   {
    "duration": 0,
    "start_time": "2024-08-23T04:37:11.169Z"
   },
   {
    "duration": 0,
    "start_time": "2024-08-23T04:37:11.171Z"
   },
   {
    "duration": 0,
    "start_time": "2024-08-23T04:37:11.174Z"
   },
   {
    "duration": 23,
    "start_time": "2024-08-23T04:40:32.158Z"
   },
   {
    "duration": 3660,
    "start_time": "2024-08-23T04:40:51.945Z"
   },
   {
    "duration": 3476,
    "start_time": "2024-08-23T04:40:55.609Z"
   },
   {
    "duration": 14143,
    "start_time": "2024-08-23T04:40:59.088Z"
   },
   {
    "duration": 7233,
    "start_time": "2024-08-23T04:41:13.235Z"
   },
   {
    "duration": 166,
    "start_time": "2024-08-23T04:41:20.471Z"
   },
   {
    "duration": 124,
    "start_time": "2024-08-23T04:41:20.641Z"
   },
   {
    "duration": 90,
    "start_time": "2024-08-23T04:41:20.768Z"
   },
   {
    "duration": 73,
    "start_time": "2024-08-23T04:41:20.861Z"
   },
   {
    "duration": 856,
    "start_time": "2024-08-23T04:41:20.937Z"
   },
   {
    "duration": 0,
    "start_time": "2024-08-23T04:41:21.797Z"
   },
   {
    "duration": 0,
    "start_time": "2024-08-23T04:41:21.799Z"
   },
   {
    "duration": 0,
    "start_time": "2024-08-23T04:41:21.801Z"
   },
   {
    "duration": 18,
    "start_time": "2024-08-23T04:43:19.879Z"
   },
   {
    "duration": 3673,
    "start_time": "2024-08-23T04:43:28.002Z"
   },
   {
    "duration": 3521,
    "start_time": "2024-08-23T04:43:31.680Z"
   },
   {
    "duration": 14199,
    "start_time": "2024-08-23T04:43:35.213Z"
   },
   {
    "duration": 6927,
    "start_time": "2024-08-23T04:43:49.415Z"
   },
   {
    "duration": 89,
    "start_time": "2024-08-23T04:43:56.346Z"
   },
   {
    "duration": 105,
    "start_time": "2024-08-23T04:43:56.438Z"
   },
   {
    "duration": 84,
    "start_time": "2024-08-23T04:43:56.547Z"
   },
   {
    "duration": 25,
    "start_time": "2024-08-23T04:43:56.634Z"
   },
   {
    "duration": 18,
    "start_time": "2024-08-23T04:43:56.664Z"
   },
   {
    "duration": 627,
    "start_time": "2024-08-23T04:43:56.684Z"
   },
   {
    "duration": 0,
    "start_time": "2024-08-23T04:43:57.313Z"
   },
   {
    "duration": 0,
    "start_time": "2024-08-23T04:43:57.316Z"
   },
   {
    "duration": 33,
    "start_time": "2024-08-23T04:45:39.483Z"
   },
   {
    "duration": 3640,
    "start_time": "2024-08-23T04:45:46.513Z"
   },
   {
    "duration": 3501,
    "start_time": "2024-08-23T04:45:50.157Z"
   },
   {
    "duration": 14151,
    "start_time": "2024-08-23T04:45:53.661Z"
   },
   {
    "duration": 6466,
    "start_time": "2024-08-23T04:46:07.817Z"
   },
   {
    "duration": 81,
    "start_time": "2024-08-23T04:46:14.286Z"
   },
   {
    "duration": 160,
    "start_time": "2024-08-23T04:46:14.371Z"
   },
   {
    "duration": 43,
    "start_time": "2024-08-23T04:46:14.534Z"
   },
   {
    "duration": 51,
    "start_time": "2024-08-23T04:46:14.581Z"
   },
   {
    "duration": 19,
    "start_time": "2024-08-23T04:46:14.636Z"
   },
   {
    "duration": 33,
    "start_time": "2024-08-23T04:46:14.659Z"
   },
   {
    "duration": 67,
    "start_time": "2024-08-23T04:46:14.695Z"
   },
   {
    "duration": 583,
    "start_time": "2024-08-23T04:46:14.765Z"
   },
   {
    "duration": 31,
    "start_time": "2024-08-23T04:47:27.642Z"
   },
   {
    "duration": 3667,
    "start_time": "2024-08-23T04:47:33.247Z"
   },
   {
    "duration": 3481,
    "start_time": "2024-08-23T04:47:36.917Z"
   },
   {
    "duration": 14251,
    "start_time": "2024-08-23T04:47:40.402Z"
   },
   {
    "duration": 6958,
    "start_time": "2024-08-23T04:47:54.658Z"
   },
   {
    "duration": 99,
    "start_time": "2024-08-23T04:48:01.631Z"
   },
   {
    "duration": 111,
    "start_time": "2024-08-23T04:48:01.734Z"
   },
   {
    "duration": 84,
    "start_time": "2024-08-23T04:48:01.849Z"
   },
   {
    "duration": 23,
    "start_time": "2024-08-23T04:48:01.937Z"
   },
   {
    "duration": 19,
    "start_time": "2024-08-23T04:48:01.964Z"
   },
   {
    "duration": 69,
    "start_time": "2024-08-23T04:48:01.989Z"
   },
   {
    "duration": 32,
    "start_time": "2024-08-23T04:48:02.062Z"
   },
   {
    "duration": 53,
    "start_time": "2024-08-23T04:48:02.097Z"
   },
   {
    "duration": 94,
    "start_time": "2024-08-23T04:48:44.276Z"
   },
   {
    "duration": 35,
    "start_time": "2024-08-23T04:51:08.700Z"
   },
   {
    "duration": 36,
    "start_time": "2024-08-23T04:51:18.571Z"
   },
   {
    "duration": 59,
    "start_time": "2024-08-23T04:53:17.602Z"
   },
   {
    "duration": 3671,
    "start_time": "2024-08-23T04:53:23.834Z"
   },
   {
    "duration": 3480,
    "start_time": "2024-08-23T04:53:27.508Z"
   },
   {
    "duration": 14252,
    "start_time": "2024-08-23T04:53:30.990Z"
   },
   {
    "duration": 8973,
    "start_time": "2024-08-23T04:53:45.248Z"
   },
   {
    "duration": 104,
    "start_time": "2024-08-23T04:53:54.231Z"
   },
   {
    "duration": 110,
    "start_time": "2024-08-23T04:53:54.338Z"
   },
   {
    "duration": 79,
    "start_time": "2024-08-23T04:53:54.451Z"
   },
   {
    "duration": 26,
    "start_time": "2024-08-23T04:53:54.533Z"
   },
   {
    "duration": 18,
    "start_time": "2024-08-23T04:53:54.563Z"
   },
   {
    "duration": 59,
    "start_time": "2024-08-23T04:53:54.586Z"
   },
   {
    "duration": 39,
    "start_time": "2024-08-23T04:53:54.648Z"
   },
   {
    "duration": 56,
    "start_time": "2024-08-23T04:53:54.690Z"
   },
   {
    "duration": 58,
    "start_time": "2024-08-23T04:56:03.558Z"
   },
   {
    "duration": 42,
    "start_time": "2024-08-23T04:58:29.557Z"
   },
   {
    "duration": 640,
    "start_time": "2024-08-23T05:00:12.250Z"
   },
   {
    "duration": 33,
    "start_time": "2024-08-23T05:02:09.658Z"
   },
   {
    "duration": 3678,
    "start_time": "2024-08-23T05:24:54.287Z"
   },
   {
    "duration": 3494,
    "start_time": "2024-08-23T05:24:57.969Z"
   },
   {
    "duration": 14242,
    "start_time": "2024-08-23T05:25:01.466Z"
   },
   {
    "duration": 7051,
    "start_time": "2024-08-23T05:25:15.714Z"
   },
   {
    "duration": 85,
    "start_time": "2024-08-23T05:25:22.769Z"
   },
   {
    "duration": 119,
    "start_time": "2024-08-23T05:25:22.858Z"
   },
   {
    "duration": 106,
    "start_time": "2024-08-23T05:25:22.981Z"
   },
   {
    "duration": 77,
    "start_time": "2024-08-23T05:25:23.091Z"
   },
   {
    "duration": 85,
    "start_time": "2024-08-23T05:25:23.171Z"
   },
   {
    "duration": 85,
    "start_time": "2024-08-23T05:25:23.262Z"
   },
   {
    "duration": 33,
    "start_time": "2024-08-23T05:25:23.353Z"
   },
   {
    "duration": 62,
    "start_time": "2024-08-23T05:25:23.390Z"
   },
   {
    "duration": 37,
    "start_time": "2024-08-23T05:26:57.211Z"
   },
   {
    "duration": 35,
    "start_time": "2024-08-23T05:28:42.383Z"
   },
   {
    "duration": 58,
    "start_time": "2024-08-23T05:30:44.895Z"
   },
   {
    "duration": 3621,
    "start_time": "2024-08-23T05:36:36.385Z"
   },
   {
    "duration": 3528,
    "start_time": "2024-08-23T05:36:40.010Z"
   },
   {
    "duration": 14169,
    "start_time": "2024-08-23T05:36:43.541Z"
   },
   {
    "duration": 6864,
    "start_time": "2024-08-23T05:36:57.714Z"
   },
   {
    "duration": 81,
    "start_time": "2024-08-23T05:37:04.582Z"
   },
   {
    "duration": 106,
    "start_time": "2024-08-23T05:37:04.666Z"
   },
   {
    "duration": 103,
    "start_time": "2024-08-23T05:37:04.775Z"
   },
   {
    "duration": 76,
    "start_time": "2024-08-23T05:37:04.882Z"
   },
   {
    "duration": 94,
    "start_time": "2024-08-23T05:37:04.961Z"
   },
   {
    "duration": 92,
    "start_time": "2024-08-23T05:37:05.062Z"
   },
   {
    "duration": 74,
    "start_time": "2024-08-23T05:37:05.158Z"
   },
   {
    "duration": 42,
    "start_time": "2024-08-23T05:37:05.235Z"
   },
   {
    "duration": 3606,
    "start_time": "2024-08-23T05:37:24.007Z"
   },
   {
    "duration": 3457,
    "start_time": "2024-08-23T05:37:27.616Z"
   },
   {
    "duration": 14158,
    "start_time": "2024-08-23T05:37:31.076Z"
   },
   {
    "duration": 6526,
    "start_time": "2024-08-23T05:37:45.238Z"
   },
   {
    "duration": 84,
    "start_time": "2024-08-23T05:37:51.767Z"
   },
   {
    "duration": 116,
    "start_time": "2024-08-23T05:37:51.854Z"
   },
   {
    "duration": 112,
    "start_time": "2024-08-23T05:37:51.974Z"
   },
   {
    "duration": 79,
    "start_time": "2024-08-23T05:37:52.090Z"
   },
   {
    "duration": 101,
    "start_time": "2024-08-23T05:37:52.173Z"
   },
   {
    "duration": 100,
    "start_time": "2024-08-23T05:37:52.331Z"
   },
   {
    "duration": 40,
    "start_time": "2024-08-23T05:37:52.435Z"
   },
   {
    "duration": 89,
    "start_time": "2024-08-23T05:37:52.478Z"
   },
   {
    "duration": 60,
    "start_time": "2024-08-23T05:38:35.768Z"
   },
   {
    "duration": 42,
    "start_time": "2024-08-23T05:38:58.958Z"
   },
   {
    "duration": 558,
    "start_time": "2024-08-23T05:39:08.325Z"
   },
   {
    "duration": 106,
    "start_time": "2024-08-23T05:40:49.501Z"
   },
   {
    "duration": 618,
    "start_time": "2024-08-23T05:42:06.125Z"
   },
   {
    "duration": 602,
    "start_time": "2024-08-23T05:44:55.638Z"
   },
   {
    "duration": 253,
    "start_time": "2024-08-23T05:45:28.159Z"
   },
   {
    "duration": 141,
    "start_time": "2024-08-23T05:45:37.617Z"
   },
   {
    "duration": 6859,
    "start_time": "2024-08-23T05:46:52.479Z"
   },
   {
    "duration": 67,
    "start_time": "2024-08-23T05:46:59.448Z"
   },
   {
    "duration": 287,
    "start_time": "2024-08-23T05:47:41.904Z"
   },
   {
    "duration": 37,
    "start_time": "2024-08-23T05:48:54.424Z"
   },
   {
    "duration": 16,
    "start_time": "2024-08-23T05:49:26.630Z"
   },
   {
    "duration": 39,
    "start_time": "2024-08-23T05:51:01.526Z"
   },
   {
    "duration": 37,
    "start_time": "2024-08-23T05:52:34.961Z"
   },
   {
    "duration": 230,
    "start_time": "2024-08-30T15:04:26.527Z"
   },
   {
    "duration": 43,
    "start_time": "2024-08-30T15:04:52.527Z"
   },
   {
    "duration": 2616,
    "start_time": "2024-09-16T18:47:56.663Z"
   },
   {
    "duration": 3981,
    "start_time": "2024-09-16T18:48:12.755Z"
   },
   {
    "duration": 1947,
    "start_time": "2024-09-16T18:48:16.739Z"
   },
   {
    "duration": 1271,
    "start_time": "2024-09-16T18:48:18.688Z"
   },
   {
    "duration": 0,
    "start_time": "2024-09-16T18:48:19.961Z"
   },
   {
    "duration": 0,
    "start_time": "2024-09-16T18:48:19.962Z"
   },
   {
    "duration": 0,
    "start_time": "2024-09-16T18:48:19.963Z"
   },
   {
    "duration": 0,
    "start_time": "2024-09-16T18:48:19.970Z"
   },
   {
    "duration": 0,
    "start_time": "2024-09-16T18:48:19.972Z"
   },
   {
    "duration": 0,
    "start_time": "2024-09-16T18:48:19.973Z"
   },
   {
    "duration": 0,
    "start_time": "2024-09-16T18:48:19.974Z"
   },
   {
    "duration": 0,
    "start_time": "2024-09-16T18:48:19.975Z"
   },
   {
    "duration": 0,
    "start_time": "2024-09-16T18:48:19.977Z"
   },
   {
    "duration": 0,
    "start_time": "2024-09-16T18:48:19.978Z"
   },
   {
    "duration": 1984,
    "start_time": "2024-09-16T18:48:30.060Z"
   },
   {
    "duration": 1928,
    "start_time": "2024-09-16T18:48:36.589Z"
   },
   {
    "duration": 38,
    "start_time": "2024-09-16T18:48:45.154Z"
   },
   {
    "duration": 2000,
    "start_time": "2024-09-16T18:49:17.437Z"
   },
   {
    "duration": 2006,
    "start_time": "2024-09-16T18:49:26.429Z"
   },
   {
    "duration": 42,
    "start_time": "2024-09-16T18:49:33.074Z"
   },
   {
    "duration": 1950,
    "start_time": "2024-09-16T18:51:23.286Z"
   },
   {
    "duration": 1950,
    "start_time": "2024-09-16T18:51:40.890Z"
   },
   {
    "duration": 1297,
    "start_time": "2024-09-16T18:51:42.843Z"
   },
   {
    "duration": 0,
    "start_time": "2024-09-16T18:51:44.142Z"
   },
   {
    "duration": 0,
    "start_time": "2024-09-16T18:51:44.144Z"
   },
   {
    "duration": 0,
    "start_time": "2024-09-16T18:51:44.145Z"
   },
   {
    "duration": 0,
    "start_time": "2024-09-16T18:51:44.146Z"
   },
   {
    "duration": 0,
    "start_time": "2024-09-16T18:51:44.148Z"
   },
   {
    "duration": 0,
    "start_time": "2024-09-16T18:51:44.149Z"
   },
   {
    "duration": 0,
    "start_time": "2024-09-16T18:51:44.151Z"
   },
   {
    "duration": 0,
    "start_time": "2024-09-16T18:51:44.152Z"
   },
   {
    "duration": 0,
    "start_time": "2024-09-16T18:51:44.153Z"
   },
   {
    "duration": 0,
    "start_time": "2024-09-16T18:51:44.170Z"
   },
   {
    "duration": 33,
    "start_time": "2024-09-16T18:51:56.600Z"
   },
   {
    "duration": 2412,
    "start_time": "2024-09-16T18:52:29.384Z"
   },
   {
    "duration": 12448,
    "start_time": "2024-09-16T18:52:41.865Z"
   },
   {
    "duration": 42,
    "start_time": "2024-09-16T18:53:18.890Z"
   },
   {
    "duration": 6578,
    "start_time": "2024-09-16T18:53:44.064Z"
   },
   {
    "duration": 25,
    "start_time": "2024-09-16T18:56:29.310Z"
   },
   {
    "duration": 28,
    "start_time": "2024-09-16T18:57:20.811Z"
   },
   {
    "duration": 37,
    "start_time": "2024-09-16T18:58:09.669Z"
   },
   {
    "duration": 2061,
    "start_time": "2024-09-16T18:58:44.139Z"
   },
   {
    "duration": 85,
    "start_time": "2024-09-16T18:58:46.203Z"
   },
   {
    "duration": 6688,
    "start_time": "2024-09-16T18:58:46.290Z"
   },
   {
    "duration": 659,
    "start_time": "2024-09-16T18:58:52.981Z"
   },
   {
    "duration": 54,
    "start_time": "2024-09-16T18:58:53.642Z"
   },
   {
    "duration": 30,
    "start_time": "2024-09-16T18:58:53.698Z"
   },
   {
    "duration": 24,
    "start_time": "2024-09-16T18:58:53.770Z"
   },
   {
    "duration": 76,
    "start_time": "2024-09-16T18:58:53.795Z"
   },
   {
    "duration": 36,
    "start_time": "2024-09-16T18:58:53.873Z"
   },
   {
    "duration": 64,
    "start_time": "2024-09-16T18:58:53.911Z"
   },
   {
    "duration": 247,
    "start_time": "2024-09-16T18:58:53.977Z"
   },
   {
    "duration": 0,
    "start_time": "2024-09-16T18:58:54.226Z"
   },
   {
    "duration": 34,
    "start_time": "2024-09-16T18:59:27.567Z"
   },
   {
    "duration": 6411,
    "start_time": "2024-09-16T18:59:44.814Z"
   },
   {
    "duration": 27,
    "start_time": "2024-09-16T19:00:37.374Z"
   },
   {
    "duration": 47,
    "start_time": "2024-09-16T19:00:58.284Z"
   },
   {
    "duration": 2126,
    "start_time": "2024-09-16T19:02:15.309Z"
   },
   {
    "duration": 83,
    "start_time": "2024-09-16T19:02:17.438Z"
   },
   {
    "duration": 6715,
    "start_time": "2024-09-16T19:02:17.523Z"
   },
   {
    "duration": 672,
    "start_time": "2024-09-16T19:02:24.240Z"
   },
   {
    "duration": 20,
    "start_time": "2024-09-16T19:02:24.913Z"
   },
   {
    "duration": 46,
    "start_time": "2024-09-16T19:02:24.934Z"
   },
   {
    "duration": 36,
    "start_time": "2024-09-16T19:02:24.982Z"
   },
   {
    "duration": 70,
    "start_time": "2024-09-16T19:02:25.019Z"
   },
   {
    "duration": 18,
    "start_time": "2024-09-16T19:02:25.091Z"
   },
   {
    "duration": 275,
    "start_time": "2024-09-16T19:02:25.112Z"
   },
   {
    "duration": 0,
    "start_time": "2024-09-16T19:02:25.389Z"
   },
   {
    "duration": 5911,
    "start_time": "2024-09-16T19:02:48.528Z"
   },
   {
    "duration": 14,
    "start_time": "2024-09-16T19:04:20.641Z"
   },
   {
    "duration": 32,
    "start_time": "2024-09-16T19:12:31.439Z"
   },
   {
    "duration": 2038,
    "start_time": "2024-09-16T19:12:44.196Z"
   },
   {
    "duration": 82,
    "start_time": "2024-09-16T19:12:46.237Z"
   },
   {
    "duration": 970,
    "start_time": "2024-09-16T19:12:46.321Z"
   },
   {
    "duration": 20,
    "start_time": "2024-09-16T19:12:47.294Z"
   },
   {
    "duration": 222,
    "start_time": "2024-09-16T19:12:47.315Z"
   },
   {
    "duration": 41,
    "start_time": "2024-09-16T19:12:47.540Z"
   },
   {
    "duration": 21,
    "start_time": "2024-09-16T19:12:47.582Z"
   },
   {
    "duration": 78,
    "start_time": "2024-09-16T19:12:47.605Z"
   },
   {
    "duration": 38,
    "start_time": "2024-09-16T19:12:47.685Z"
   },
   {
    "duration": 63,
    "start_time": "2024-09-16T19:12:47.725Z"
   },
   {
    "duration": 260,
    "start_time": "2024-09-16T19:12:47.791Z"
   },
   {
    "duration": 0,
    "start_time": "2024-09-16T19:12:48.053Z"
   },
   {
    "duration": 31,
    "start_time": "2024-09-16T19:13:54.044Z"
   },
   {
    "duration": 27,
    "start_time": "2024-09-16T19:14:31.794Z"
   },
   {
    "duration": 30,
    "start_time": "2024-09-16T19:15:14.675Z"
   },
   {
    "duration": 29,
    "start_time": "2024-09-16T19:15:21.155Z"
   },
   {
    "duration": 17,
    "start_time": "2024-09-16T19:16:42.601Z"
   },
   {
    "duration": 27,
    "start_time": "2024-09-16T19:17:14.853Z"
   },
   {
    "duration": 34,
    "start_time": "2024-09-16T19:24:20.775Z"
   },
   {
    "duration": 4527,
    "start_time": "2024-09-17T16:45:33.339Z"
   },
   {
    "duration": 85,
    "start_time": "2024-09-17T16:45:37.869Z"
   },
   {
    "duration": 2653,
    "start_time": "2024-09-17T16:45:37.957Z"
   },
   {
    "duration": 280,
    "start_time": "2024-09-17T16:45:40.613Z"
   },
   {
    "duration": 0,
    "start_time": "2024-09-17T16:45:40.895Z"
   },
   {
    "duration": 0,
    "start_time": "2024-09-17T16:45:40.896Z"
   },
   {
    "duration": 0,
    "start_time": "2024-09-17T16:45:40.897Z"
   },
   {
    "duration": 0,
    "start_time": "2024-09-17T16:45:40.898Z"
   },
   {
    "duration": 0,
    "start_time": "2024-09-17T16:45:40.898Z"
   },
   {
    "duration": 0,
    "start_time": "2024-09-17T16:45:40.900Z"
   },
   {
    "duration": 0,
    "start_time": "2024-09-17T16:45:40.902Z"
   },
   {
    "duration": 43,
    "start_time": "2024-09-17T16:45:55.541Z"
   },
   {
    "duration": 32,
    "start_time": "2024-09-17T16:46:24.696Z"
   },
   {
    "duration": 52,
    "start_time": "2024-09-17T17:26:07.595Z"
   },
   {
    "duration": 46,
    "start_time": "2024-09-17T17:27:21.416Z"
   },
   {
    "duration": 80,
    "start_time": "2024-09-17T17:27:33.943Z"
   },
   {
    "duration": 47,
    "start_time": "2024-09-17T17:28:33.260Z"
   },
   {
    "duration": 2114,
    "start_time": "2024-09-17T17:29:08.042Z"
   },
   {
    "duration": 31,
    "start_time": "2024-09-17T17:29:47.426Z"
   },
   {
    "duration": 39,
    "start_time": "2024-09-17T17:29:59.858Z"
   },
   {
    "duration": 44,
    "start_time": "2024-09-17T17:31:04.006Z"
   },
   {
    "duration": 18,
    "start_time": "2024-09-17T17:31:30.772Z"
   },
   {
    "duration": 76,
    "start_time": "2024-09-17T17:32:54.974Z"
   },
   {
    "duration": 67,
    "start_time": "2024-09-17T17:33:02.969Z"
   },
   {
    "duration": 54,
    "start_time": "2024-09-17T17:41:48.795Z"
   },
   {
    "duration": 66,
    "start_time": "2024-09-17T17:46:14.354Z"
   },
   {
    "duration": 2214,
    "start_time": "2024-09-17T17:46:31.512Z"
   },
   {
    "duration": 2232,
    "start_time": "2024-09-17T17:46:40.441Z"
   },
   {
    "duration": 69,
    "start_time": "2024-09-17T17:46:55.901Z"
   },
   {
    "duration": 2132,
    "start_time": "2024-09-17T17:47:40.116Z"
   },
   {
    "duration": 80,
    "start_time": "2024-09-17T17:47:42.251Z"
   },
   {
    "duration": 41,
    "start_time": "2024-09-17T17:47:42.333Z"
   },
   {
    "duration": 1029,
    "start_time": "2024-09-17T17:47:42.431Z"
   },
   {
    "duration": 19,
    "start_time": "2024-09-17T17:47:43.462Z"
   },
   {
    "duration": 49,
    "start_time": "2024-09-17T17:47:43.483Z"
   },
   {
    "duration": 39,
    "start_time": "2024-09-17T17:47:43.534Z"
   },
   {
    "duration": 71,
    "start_time": "2024-09-17T17:47:43.575Z"
   },
   {
    "duration": 20,
    "start_time": "2024-09-17T17:47:43.648Z"
   },
   {
    "duration": 269,
    "start_time": "2024-09-17T17:47:43.671Z"
   },
   {
    "duration": 0,
    "start_time": "2024-09-17T17:47:43.942Z"
   },
   {
    "duration": 2058,
    "start_time": "2024-09-17T17:47:50.998Z"
   },
   {
    "duration": 81,
    "start_time": "2024-09-17T17:47:53.059Z"
   },
   {
    "duration": 98,
    "start_time": "2024-09-17T17:47:53.142Z"
   },
   {
    "duration": 975,
    "start_time": "2024-09-17T17:47:53.243Z"
   },
   {
    "duration": 18,
    "start_time": "2024-09-17T17:47:54.231Z"
   },
   {
    "duration": 21,
    "start_time": "2024-09-17T17:47:54.251Z"
   },
   {
    "duration": 76,
    "start_time": "2024-09-17T17:47:54.273Z"
   },
   {
    "duration": 35,
    "start_time": "2024-09-17T17:47:54.352Z"
   },
   {
    "duration": 56,
    "start_time": "2024-09-17T17:47:54.389Z"
   },
   {
    "duration": 273,
    "start_time": "2024-09-17T17:47:54.448Z"
   },
   {
    "duration": 0,
    "start_time": "2024-09-17T17:47:54.723Z"
   },
   {
    "duration": 45,
    "start_time": "2024-09-17T17:52:49.743Z"
   },
   {
    "duration": 35,
    "start_time": "2024-09-17T17:53:11.206Z"
   },
   {
    "duration": 51,
    "start_time": "2024-09-17T17:53:35.443Z"
   },
   {
    "duration": 49,
    "start_time": "2024-09-17T18:02:08.146Z"
   },
   {
    "duration": 46,
    "start_time": "2024-09-17T18:03:59.105Z"
   },
   {
    "duration": 6,
    "start_time": "2024-09-17T18:04:39.641Z"
   },
   {
    "duration": 48,
    "start_time": "2024-09-17T18:07:38.801Z"
   },
   {
    "duration": 47,
    "start_time": "2024-09-17T18:07:50.515Z"
   },
   {
    "duration": 49,
    "start_time": "2024-09-17T18:11:10.699Z"
   },
   {
    "duration": 5,
    "start_time": "2024-09-17T18:11:41.290Z"
   },
   {
    "duration": 43,
    "start_time": "2024-09-17T18:13:42.746Z"
   },
   {
    "duration": 6,
    "start_time": "2024-09-17T18:14:14.622Z"
   },
   {
    "duration": 6,
    "start_time": "2024-09-17T18:14:22.874Z"
   },
   {
    "duration": 40,
    "start_time": "2024-09-17T18:18:25.635Z"
   },
   {
    "duration": 5,
    "start_time": "2024-09-17T18:18:32.760Z"
   },
   {
    "duration": 30,
    "start_time": "2024-09-17T18:18:55.289Z"
   },
   {
    "duration": 29,
    "start_time": "2024-09-17T18:28:49.062Z"
   },
   {
    "duration": 5,
    "start_time": "2024-09-17T18:45:39.466Z"
   },
   {
    "duration": 24,
    "start_time": "2024-09-17T18:46:33.819Z"
   },
   {
    "duration": 32,
    "start_time": "2024-09-17T18:56:24.631Z"
   },
   {
    "duration": 16,
    "start_time": "2024-09-17T18:57:18.775Z"
   },
   {
    "duration": 13,
    "start_time": "2024-09-17T18:57:42.024Z"
   },
   {
    "duration": 6,
    "start_time": "2024-09-17T18:57:45.918Z"
   },
   {
    "duration": 29,
    "start_time": "2024-09-17T19:13:20.169Z"
   },
   {
    "duration": 6,
    "start_time": "2024-09-17T19:15:41.289Z"
   },
   {
    "duration": 3,
    "start_time": "2024-09-17T19:15:58.720Z"
   },
   {
    "duration": 4,
    "start_time": "2024-09-17T19:16:40.901Z"
   },
   {
    "duration": 17,
    "start_time": "2024-09-17T19:17:53.445Z"
   },
   {
    "duration": 5,
    "start_time": "2024-09-17T19:18:04.397Z"
   },
   {
    "duration": 6,
    "start_time": "2024-09-17T19:18:23.088Z"
   },
   {
    "duration": 28,
    "start_time": "2024-09-17T19:18:26.854Z"
   },
   {
    "duration": 6,
    "start_time": "2024-09-17T19:19:08.485Z"
   },
   {
    "duration": 35,
    "start_time": "2024-09-17T19:30:17.423Z"
   },
   {
    "duration": 5,
    "start_time": "2024-09-17T19:31:51.375Z"
   },
   {
    "duration": 5,
    "start_time": "2024-09-17T19:32:12.155Z"
   },
   {
    "duration": 399,
    "start_time": "2024-09-17T19:37:47.753Z"
   },
   {
    "duration": 75,
    "start_time": "2024-09-17T19:37:53.031Z"
   },
   {
    "duration": 2151,
    "start_time": "2024-09-17T19:44:33.573Z"
   },
   {
    "duration": 39,
    "start_time": "2024-09-17T19:44:35.726Z"
   },
   {
    "duration": 84,
    "start_time": "2024-09-17T19:44:35.767Z"
   },
   {
    "duration": 107,
    "start_time": "2024-09-17T19:44:35.854Z"
   },
   {
    "duration": 80,
    "start_time": "2024-09-17T19:44:35.964Z"
   },
   {
    "duration": 88,
    "start_time": "2024-09-17T19:44:36.046Z"
   },
   {
    "duration": 195,
    "start_time": "2024-09-17T19:44:36.136Z"
   },
   {
    "duration": 20,
    "start_time": "2024-09-17T19:44:36.333Z"
   },
   {
    "duration": 9,
    "start_time": "2024-09-17T19:44:36.355Z"
   },
   {
    "duration": 310,
    "start_time": "2024-09-17T19:44:36.367Z"
   },
   {
    "duration": 14,
    "start_time": "2024-09-17T20:15:44.000Z"
   },
   {
    "duration": 1316,
    "start_time": "2024-09-17T20:17:17.723Z"
   },
   {
    "duration": 71881,
    "start_time": "2024-09-17T20:38:57.108Z"
   },
   {
    "duration": 16,
    "start_time": "2024-09-17T20:46:05.051Z"
   },
   {
    "duration": 71579,
    "start_time": "2024-09-17T20:46:15.422Z"
   },
   {
    "duration": 17,
    "start_time": "2024-09-17T20:51:39.694Z"
   },
   {
    "duration": 21,
    "start_time": "2024-09-17T21:55:15.736Z"
   },
   {
    "duration": 17,
    "start_time": "2024-09-17T22:01:42.200Z"
   },
   {
    "duration": 0,
    "start_time": "2024-09-17T22:05:06.289Z"
   },
   {
    "duration": 2,
    "start_time": "2024-09-17T22:53:53.118Z"
   },
   {
    "duration": 101,
    "start_time": "2024-09-17T22:53:53.133Z"
   },
   {
    "duration": 868,
    "start_time": "2024-09-17T22:53:53.235Z"
   },
   {
    "duration": 257,
    "start_time": "2024-09-17T22:53:54.105Z"
   },
   {
    "duration": 67,
    "start_time": "2024-09-17T22:53:54.365Z"
   },
   {
    "duration": 310,
    "start_time": "2024-09-17T22:53:54.434Z"
   },
   {
    "duration": 0,
    "start_time": "2024-09-17T22:53:54.745Z"
   },
   {
    "duration": 0,
    "start_time": "2024-09-17T22:53:54.746Z"
   },
   {
    "duration": 0,
    "start_time": "2024-09-17T22:53:54.748Z"
   },
   {
    "duration": 0,
    "start_time": "2024-09-17T22:53:54.749Z"
   },
   {
    "duration": 0,
    "start_time": "2024-09-17T22:53:54.750Z"
   },
   {
    "duration": 0,
    "start_time": "2024-09-17T22:53:54.751Z"
   },
   {
    "duration": 0,
    "start_time": "2024-09-17T22:53:54.752Z"
   },
   {
    "duration": 0,
    "start_time": "2024-09-17T22:53:54.753Z"
   },
   {
    "duration": 38,
    "start_time": "2024-09-17T22:54:52.343Z"
   },
   {
    "duration": 35,
    "start_time": "2024-09-17T22:56:34.322Z"
   },
   {
    "duration": 32,
    "start_time": "2024-09-17T23:00:36.833Z"
   },
   {
    "duration": 30,
    "start_time": "2024-09-17T23:08:14.065Z"
   },
   {
    "duration": 1423,
    "start_time": "2024-09-17T23:08:45.018Z"
   },
   {
    "duration": 1294,
    "start_time": "2024-09-17T23:10:33.692Z"
   },
   {
    "duration": 33,
    "start_time": "2024-09-17T23:10:45.897Z"
   },
   {
    "duration": 3,
    "start_time": "2024-09-17T23:15:10.479Z"
   },
   {
    "duration": 84,
    "start_time": "2024-09-17T23:15:10.484Z"
   },
   {
    "duration": 72,
    "start_time": "2024-09-17T23:15:10.570Z"
   },
   {
    "duration": 294,
    "start_time": "2024-09-17T23:15:10.644Z"
   },
   {
    "duration": 0,
    "start_time": "2024-09-17T23:15:10.941Z"
   },
   {
    "duration": 0,
    "start_time": "2024-09-17T23:15:10.942Z"
   },
   {
    "duration": 0,
    "start_time": "2024-09-17T23:15:10.944Z"
   },
   {
    "duration": 0,
    "start_time": "2024-09-17T23:15:10.945Z"
   },
   {
    "duration": 0,
    "start_time": "2024-09-17T23:15:10.947Z"
   },
   {
    "duration": 0,
    "start_time": "2024-09-17T23:15:10.948Z"
   },
   {
    "duration": 1,
    "start_time": "2024-09-17T23:15:10.949Z"
   },
   {
    "duration": 0,
    "start_time": "2024-09-17T23:15:10.952Z"
   },
   {
    "duration": 0,
    "start_time": "2024-09-17T23:15:10.953Z"
   },
   {
    "duration": 0,
    "start_time": "2024-09-17T23:15:10.954Z"
   },
   {
    "duration": 30,
    "start_time": "2024-09-17T23:16:03.026Z"
   },
   {
    "duration": 29,
    "start_time": "2024-09-17T23:16:35.883Z"
   },
   {
    "duration": 54,
    "start_time": "2024-09-17T23:16:55.532Z"
   },
   {
    "duration": 100,
    "start_time": "2024-09-17T23:17:15.573Z"
   },
   {
    "duration": 31,
    "start_time": "2024-09-17T23:17:34.570Z"
   },
   {
    "duration": 1661,
    "start_time": "2024-09-17T23:18:04.634Z"
   },
   {
    "duration": 31,
    "start_time": "2024-09-17T23:18:08.857Z"
   },
   {
    "duration": 161,
    "start_time": "2024-09-17T23:19:41.195Z"
   },
   {
    "duration": 16,
    "start_time": "2024-09-17T23:19:41.359Z"
   },
   {
    "duration": 35,
    "start_time": "2024-09-17T23:29:34.317Z"
   },
   {
    "duration": 14,
    "start_time": "2024-09-17T23:38:17.142Z"
   },
   {
    "duration": 17,
    "start_time": "2024-09-17T23:45:52.231Z"
   },
   {
    "duration": 62,
    "start_time": "2024-09-17T23:53:30.320Z"
   },
   {
    "duration": 17,
    "start_time": "2024-09-17T23:58:10.860Z"
   },
   {
    "duration": 89,
    "start_time": "2024-09-18T00:04:32.874Z"
   },
   {
    "duration": 71900,
    "start_time": "2024-09-18T00:08:14.160Z"
   },
   {
    "duration": 0,
    "start_time": "2024-09-18T00:09:26.062Z"
   },
   {
    "duration": 0,
    "start_time": "2024-09-18T00:14:24.515Z"
   },
   {
    "duration": 26,
    "start_time": "2024-09-18T00:16:32.273Z"
   },
   {
    "duration": 29,
    "start_time": "2024-09-18T00:19:41.998Z"
   },
   {
    "duration": 10,
    "start_time": "2024-09-18T00:21:15.988Z"
   },
   {
    "duration": 20,
    "start_time": "2024-09-18T00:21:35.804Z"
   },
   {
    "duration": 3,
    "start_time": "2024-09-18T00:22:37.927Z"
   },
   {
    "duration": 104,
    "start_time": "2024-09-18T00:22:37.933Z"
   },
   {
    "duration": 959,
    "start_time": "2024-09-18T00:22:38.039Z"
   },
   {
    "duration": 242,
    "start_time": "2024-09-18T00:22:39.000Z"
   },
   {
    "duration": 32,
    "start_time": "2024-09-18T00:22:39.246Z"
   },
   {
    "duration": 58,
    "start_time": "2024-09-18T00:22:39.280Z"
   },
   {
    "duration": 3,
    "start_time": "2024-09-18T00:22:39.340Z"
   },
   {
    "duration": 19,
    "start_time": "2024-09-18T00:22:39.345Z"
   },
   {
    "duration": 63,
    "start_time": "2024-09-18T00:22:39.368Z"
   },
   {
    "duration": 34,
    "start_time": "2024-09-18T00:22:39.433Z"
   },
   {
    "duration": 67,
    "start_time": "2024-09-18T00:22:39.470Z"
   },
   {
    "duration": 34,
    "start_time": "2024-09-18T00:23:58.055Z"
   },
   {
    "duration": 11,
    "start_time": "2024-09-18T00:26:07.241Z"
   },
   {
    "duration": 34,
    "start_time": "2024-09-18T00:29:56.512Z"
   },
   {
    "duration": 10,
    "start_time": "2024-09-18T00:31:55.537Z"
   },
   {
    "duration": 12,
    "start_time": "2024-09-18T00:32:15.319Z"
   },
   {
    "duration": 12,
    "start_time": "2024-09-18T00:32:35.970Z"
   },
   {
    "duration": 3,
    "start_time": "2024-09-18T00:32:44.054Z"
   },
   {
    "duration": 86,
    "start_time": "2024-09-18T00:32:44.060Z"
   },
   {
    "duration": 921,
    "start_time": "2024-09-18T00:32:44.148Z"
   },
   {
    "duration": 271,
    "start_time": "2024-09-18T00:32:45.072Z"
   },
   {
    "duration": 25,
    "start_time": "2024-09-18T00:32:45.346Z"
   },
   {
    "duration": 292,
    "start_time": "2024-09-18T00:32:45.373Z"
   },
   {
    "duration": 0,
    "start_time": "2024-09-18T00:32:45.668Z"
   },
   {
    "duration": 0,
    "start_time": "2024-09-18T00:32:45.669Z"
   },
   {
    "duration": 0,
    "start_time": "2024-09-18T00:32:45.670Z"
   },
   {
    "duration": 0,
    "start_time": "2024-09-18T00:32:45.671Z"
   },
   {
    "duration": 0,
    "start_time": "2024-09-18T00:32:45.672Z"
   },
   {
    "duration": 0,
    "start_time": "2024-09-18T00:32:45.673Z"
   },
   {
    "duration": 0,
    "start_time": "2024-09-18T00:32:45.674Z"
   },
   {
    "duration": 0,
    "start_time": "2024-09-18T00:32:45.676Z"
   },
   {
    "duration": 0,
    "start_time": "2024-09-18T00:32:45.679Z"
   },
   {
    "duration": 12,
    "start_time": "2024-09-18T00:37:13.761Z"
   },
   {
    "duration": 46,
    "start_time": "2024-09-18T00:37:21.886Z"
   },
   {
    "duration": 12,
    "start_time": "2024-09-18T00:37:29.081Z"
   },
   {
    "duration": 3,
    "start_time": "2024-09-18T00:37:40.160Z"
   },
   {
    "duration": 107,
    "start_time": "2024-09-18T00:37:40.166Z"
   },
   {
    "duration": 941,
    "start_time": "2024-09-18T00:37:40.276Z"
   },
   {
    "duration": 261,
    "start_time": "2024-09-18T00:37:41.220Z"
   },
   {
    "duration": 309,
    "start_time": "2024-09-18T00:37:41.485Z"
   },
   {
    "duration": 0,
    "start_time": "2024-09-18T00:37:41.796Z"
   },
   {
    "duration": 0,
    "start_time": "2024-09-18T00:37:41.799Z"
   },
   {
    "duration": 0,
    "start_time": "2024-09-18T00:37:41.801Z"
   },
   {
    "duration": 0,
    "start_time": "2024-09-18T00:37:41.803Z"
   },
   {
    "duration": 0,
    "start_time": "2024-09-18T00:37:41.804Z"
   },
   {
    "duration": 0,
    "start_time": "2024-09-18T00:37:41.805Z"
   },
   {
    "duration": 0,
    "start_time": "2024-09-18T00:37:41.807Z"
   },
   {
    "duration": 0,
    "start_time": "2024-09-18T00:37:41.808Z"
   },
   {
    "duration": 0,
    "start_time": "2024-09-18T00:37:41.832Z"
   },
   {
    "duration": 0,
    "start_time": "2024-09-18T00:37:41.834Z"
   },
   {
    "duration": 0,
    "start_time": "2024-09-18T00:37:41.835Z"
   },
   {
    "duration": 0,
    "start_time": "2024-09-18T00:37:41.837Z"
   },
   {
    "duration": 0,
    "start_time": "2024-09-18T00:37:41.839Z"
   },
   {
    "duration": 0,
    "start_time": "2024-09-18T00:37:41.840Z"
   },
   {
    "duration": 28,
    "start_time": "2024-09-18T00:38:15.119Z"
   },
   {
    "duration": 384,
    "start_time": "2024-09-18T00:38:22.858Z"
   },
   {
    "duration": 175,
    "start_time": "2024-09-18T00:38:38.665Z"
   },
   {
    "duration": 22,
    "start_time": "2024-09-18T00:38:49.897Z"
   },
   {
    "duration": 6,
    "start_time": "2024-09-18T00:39:01.566Z"
   },
   {
    "duration": 33,
    "start_time": "2024-09-18T00:39:51.985Z"
   },
   {
    "duration": 6,
    "start_time": "2024-09-18T00:40:09.017Z"
   },
   {
    "duration": 6,
    "start_time": "2024-09-18T00:42:47.658Z"
   },
   {
    "duration": 101,
    "start_time": "2024-09-18T00:42:47.671Z"
   },
   {
    "duration": 1022,
    "start_time": "2024-09-18T00:42:47.775Z"
   },
   {
    "duration": 328,
    "start_time": "2024-09-18T00:42:48.799Z"
   },
   {
    "duration": 0,
    "start_time": "2024-09-18T00:42:49.129Z"
   },
   {
    "duration": 0,
    "start_time": "2024-09-18T00:42:49.130Z"
   },
   {
    "duration": 0,
    "start_time": "2024-09-18T00:42:49.131Z"
   },
   {
    "duration": 0,
    "start_time": "2024-09-18T00:42:49.133Z"
   },
   {
    "duration": 0,
    "start_time": "2024-09-18T00:42:49.134Z"
   },
   {
    "duration": 0,
    "start_time": "2024-09-18T00:42:49.135Z"
   },
   {
    "duration": 0,
    "start_time": "2024-09-18T00:42:49.137Z"
   },
   {
    "duration": 0,
    "start_time": "2024-09-18T00:42:49.138Z"
   },
   {
    "duration": 0,
    "start_time": "2024-09-18T00:42:49.140Z"
   },
   {
    "duration": 0,
    "start_time": "2024-09-18T00:42:49.141Z"
   },
   {
    "duration": 0,
    "start_time": "2024-09-18T00:42:49.142Z"
   },
   {
    "duration": 0,
    "start_time": "2024-09-18T00:42:49.143Z"
   },
   {
    "duration": 0,
    "start_time": "2024-09-18T00:42:49.145Z"
   },
   {
    "duration": 0,
    "start_time": "2024-09-18T00:42:49.146Z"
   },
   {
    "duration": 0,
    "start_time": "2024-09-18T00:42:49.147Z"
   },
   {
    "duration": 0,
    "start_time": "2024-09-18T00:42:49.149Z"
   },
   {
    "duration": 66,
    "start_time": "2024-09-18T00:48:00.190Z"
   },
   {
    "duration": 5,
    "start_time": "2024-09-18T00:50:02.979Z"
   },
   {
    "duration": 115,
    "start_time": "2024-09-18T00:50:02.986Z"
   },
   {
    "duration": 80,
    "start_time": "2024-09-18T00:51:16.078Z"
   },
   {
    "duration": 92,
    "start_time": "2024-09-18T00:52:57.286Z"
   },
   {
    "duration": 12,
    "start_time": "2024-09-18T00:53:11.730Z"
   },
   {
    "duration": 54,
    "start_time": "2024-09-18T00:54:35.594Z"
   },
   {
    "duration": 35,
    "start_time": "2024-09-18T00:57:52.971Z"
   },
   {
    "duration": 64,
    "start_time": "2024-09-18T00:59:25.754Z"
   },
   {
    "duration": 52,
    "start_time": "2024-09-18T01:05:24.526Z"
   },
   {
    "duration": 85,
    "start_time": "2024-09-18T01:07:01.809Z"
   },
   {
    "duration": 77,
    "start_time": "2024-09-18T01:07:08.066Z"
   },
   {
    "duration": 51,
    "start_time": "2024-09-18T01:12:08.107Z"
   },
   {
    "duration": 36,
    "start_time": "2024-09-18T01:13:03.050Z"
   },
   {
    "duration": 59,
    "start_time": "2024-09-18T01:13:28.290Z"
   },
   {
    "duration": 11,
    "start_time": "2024-09-18T01:13:39.229Z"
   },
   {
    "duration": 49,
    "start_time": "2024-09-18T01:18:58.296Z"
   },
   {
    "duration": 11,
    "start_time": "2024-09-18T01:19:22.509Z"
   },
   {
    "duration": 10,
    "start_time": "2024-09-18T01:19:24.937Z"
   },
   {
    "duration": 5,
    "start_time": "2024-09-18T01:19:30.576Z"
   },
   {
    "duration": 91,
    "start_time": "2024-09-18T01:19:30.615Z"
   },
   {
    "duration": 987,
    "start_time": "2024-09-18T01:19:30.709Z"
   },
   {
    "duration": 271,
    "start_time": "2024-09-18T01:19:31.699Z"
   },
   {
    "duration": 294,
    "start_time": "2024-09-18T01:19:31.973Z"
   },
   {
    "duration": 0,
    "start_time": "2024-09-18T01:19:32.269Z"
   },
   {
    "duration": 0,
    "start_time": "2024-09-18T01:19:32.271Z"
   },
   {
    "duration": 0,
    "start_time": "2024-09-18T01:19:32.272Z"
   },
   {
    "duration": 0,
    "start_time": "2024-09-18T01:19:32.274Z"
   },
   {
    "duration": 0,
    "start_time": "2024-09-18T01:19:32.275Z"
   },
   {
    "duration": 0,
    "start_time": "2024-09-18T01:19:32.276Z"
   },
   {
    "duration": 0,
    "start_time": "2024-09-18T01:19:32.277Z"
   },
   {
    "duration": 0,
    "start_time": "2024-09-18T01:19:32.278Z"
   },
   {
    "duration": 1,
    "start_time": "2024-09-18T01:19:32.279Z"
   },
   {
    "duration": 0,
    "start_time": "2024-09-18T01:19:32.281Z"
   },
   {
    "duration": 0,
    "start_time": "2024-09-18T01:19:32.282Z"
   },
   {
    "duration": 0,
    "start_time": "2024-09-18T01:19:32.283Z"
   },
   {
    "duration": 0,
    "start_time": "2024-09-18T01:19:32.284Z"
   },
   {
    "duration": 0,
    "start_time": "2024-09-18T01:19:32.285Z"
   },
   {
    "duration": 18,
    "start_time": "2024-09-18T01:20:47.644Z"
   },
   {
    "duration": 30,
    "start_time": "2024-09-18T01:20:54.974Z"
   },
   {
    "duration": 14,
    "start_time": "2024-09-18T01:21:17.504Z"
   },
   {
    "duration": 51,
    "start_time": "2024-09-18T01:25:38.007Z"
   },
   {
    "duration": 15,
    "start_time": "2024-09-18T01:25:58.735Z"
   },
   {
    "duration": 6,
    "start_time": "2024-09-18T01:26:12.977Z"
   },
   {
    "duration": 148,
    "start_time": "2024-09-18T01:26:49.258Z"
   },
   {
    "duration": 11,
    "start_time": "2024-09-18T01:27:02.101Z"
   },
   {
    "duration": 6,
    "start_time": "2024-09-18T01:27:12.445Z"
   },
   {
    "duration": 37,
    "start_time": "2024-09-18T01:27:31.816Z"
   },
   {
    "duration": 11,
    "start_time": "2024-09-18T01:29:26.548Z"
   },
   {
    "duration": 48,
    "start_time": "2024-09-18T01:29:42.709Z"
   },
   {
    "duration": 43,
    "start_time": "2024-09-18T01:29:50.905Z"
   },
   {
    "duration": 16,
    "start_time": "2024-09-18T01:31:52.297Z"
   },
   {
    "duration": 28,
    "start_time": "2024-09-18T01:32:39.260Z"
   },
   {
    "duration": 14,
    "start_time": "2024-09-18T01:34:56.884Z"
   },
   {
    "duration": 33,
    "start_time": "2024-09-18T01:35:29.620Z"
   },
   {
    "duration": 32,
    "start_time": "2024-09-18T01:36:48.301Z"
   },
   {
    "duration": 31,
    "start_time": "2024-09-18T01:36:48.335Z"
   },
   {
    "duration": 16,
    "start_time": "2024-09-18T01:36:48.368Z"
   },
   {
    "duration": 18,
    "start_time": "2024-09-18T01:41:35.938Z"
   },
   {
    "duration": 15,
    "start_time": "2024-09-18T01:41:49.213Z"
   },
   {
    "duration": 16,
    "start_time": "2024-09-18T01:46:08.202Z"
   },
   {
    "duration": 16,
    "start_time": "2024-09-18T01:47:33.926Z"
   },
   {
    "duration": 27,
    "start_time": "2024-09-18T01:51:58.268Z"
   },
   {
    "duration": 17,
    "start_time": "2024-09-18T01:52:12.790Z"
   },
   {
    "duration": 15,
    "start_time": "2024-09-18T01:52:20.009Z"
   },
   {
    "duration": 21,
    "start_time": "2024-09-18T01:58:17.967Z"
   },
   {
    "duration": 29,
    "start_time": "2024-09-18T02:03:31.287Z"
   },
   {
    "duration": 31,
    "start_time": "2024-09-18T02:03:45.395Z"
   },
   {
    "duration": 5,
    "start_time": "2024-09-18T02:05:56.757Z"
   },
   {
    "duration": 22,
    "start_time": "2024-09-18T02:07:16.184Z"
   },
   {
    "duration": 22,
    "start_time": "2024-09-18T02:10:45.839Z"
   },
   {
    "duration": 5,
    "start_time": "2024-09-18T02:11:35.545Z"
   },
   {
    "duration": 32,
    "start_time": "2024-09-18T02:12:06.385Z"
   },
   {
    "duration": 24,
    "start_time": "2024-09-18T02:14:42.710Z"
   },
   {
    "duration": 27,
    "start_time": "2024-09-18T02:16:46.364Z"
   },
   {
    "duration": 22,
    "start_time": "2024-09-18T02:21:17.166Z"
   },
   {
    "duration": 25,
    "start_time": "2024-09-18T02:29:06.112Z"
   },
   {
    "duration": 25,
    "start_time": "2024-09-18T02:33:57.525Z"
   },
   {
    "duration": 27,
    "start_time": "2024-09-18T02:35:34.770Z"
   },
   {
    "duration": 204,
    "start_time": "2024-09-18T02:43:02.292Z"
   },
   {
    "duration": 13,
    "start_time": "2024-09-18T02:51:46.313Z"
   },
   {
    "duration": 103,
    "start_time": "2024-09-18T02:57:43.479Z"
   },
   {
    "duration": 43,
    "start_time": "2024-09-18T03:13:51.789Z"
   },
   {
    "duration": 172,
    "start_time": "2024-09-18T03:21:34.845Z"
   },
   {
    "duration": 45,
    "start_time": "2024-09-18T03:24:47.846Z"
   },
   {
    "duration": 5,
    "start_time": "2024-09-18T03:26:38.427Z"
   },
   {
    "duration": 199,
    "start_time": "2024-09-18T03:32:02.644Z"
   },
   {
    "duration": 47,
    "start_time": "2024-09-18T03:36:31.876Z"
   },
   {
    "duration": 71,
    "start_time": "2024-09-18T03:42:29.438Z"
   },
   {
    "duration": 150,
    "start_time": "2024-09-18T03:42:46.554Z"
   },
   {
    "duration": 41,
    "start_time": "2024-09-18T03:45:05.517Z"
   },
   {
    "duration": 24,
    "start_time": "2024-09-18T03:49:02.537Z"
   },
   {
    "duration": 14,
    "start_time": "2024-09-18T03:49:12.853Z"
   },
   {
    "duration": 13,
    "start_time": "2024-09-18T03:49:17.791Z"
   },
   {
    "duration": 20,
    "start_time": "2024-09-18T03:49:28.711Z"
   },
   {
    "duration": 20,
    "start_time": "2024-09-18T03:51:11.423Z"
   },
   {
    "duration": 530,
    "start_time": "2024-09-18T03:52:58.876Z"
   },
   {
    "duration": 153,
    "start_time": "2024-09-18T03:58:02.707Z"
   },
   {
    "duration": 4,
    "start_time": "2024-09-18T03:58:56.101Z"
   },
   {
    "duration": 862,
    "start_time": "2024-09-18T04:00:12.584Z"
   },
   {
    "duration": 3,
    "start_time": "2024-09-18T16:54:31.027Z"
   },
   {
    "duration": 84,
    "start_time": "2024-09-18T16:54:31.037Z"
   },
   {
    "duration": 2612,
    "start_time": "2024-09-18T16:54:31.123Z"
   },
   {
    "duration": 510,
    "start_time": "2024-09-18T16:54:33.737Z"
   },
   {
    "duration": 0,
    "start_time": "2024-09-18T16:54:34.250Z"
   },
   {
    "duration": 0,
    "start_time": "2024-09-18T16:54:34.251Z"
   },
   {
    "duration": 0,
    "start_time": "2024-09-18T16:54:34.252Z"
   },
   {
    "duration": 0,
    "start_time": "2024-09-18T16:54:34.253Z"
   },
   {
    "duration": 0,
    "start_time": "2024-09-18T16:54:34.255Z"
   },
   {
    "duration": 0,
    "start_time": "2024-09-18T16:54:34.256Z"
   },
   {
    "duration": 0,
    "start_time": "2024-09-18T16:54:34.270Z"
   },
   {
    "duration": 0,
    "start_time": "2024-09-18T16:54:34.272Z"
   },
   {
    "duration": 0,
    "start_time": "2024-09-18T16:54:34.273Z"
   },
   {
    "duration": 3,
    "start_time": "2024-09-18T17:50:00.884Z"
   },
   {
    "duration": 84,
    "start_time": "2024-09-18T17:50:00.892Z"
   },
   {
    "duration": 909,
    "start_time": "2024-09-18T17:50:00.978Z"
   },
   {
    "duration": 504,
    "start_time": "2024-09-18T17:50:01.890Z"
   },
   {
    "duration": 0,
    "start_time": "2024-09-18T17:50:02.396Z"
   },
   {
    "duration": 0,
    "start_time": "2024-09-18T17:50:02.398Z"
   },
   {
    "duration": 0,
    "start_time": "2024-09-18T17:50:02.399Z"
   },
   {
    "duration": 0,
    "start_time": "2024-09-18T17:50:02.401Z"
   },
   {
    "duration": 0,
    "start_time": "2024-09-18T17:50:02.403Z"
   },
   {
    "duration": 0,
    "start_time": "2024-09-18T17:50:02.405Z"
   },
   {
    "duration": 0,
    "start_time": "2024-09-18T17:50:02.406Z"
   },
   {
    "duration": 0,
    "start_time": "2024-09-18T17:50:02.407Z"
   },
   {
    "duration": 0,
    "start_time": "2024-09-18T17:50:02.408Z"
   },
   {
    "duration": 10,
    "start_time": "2024-09-18T18:52:34.743Z"
   },
   {
    "duration": 32,
    "start_time": "2024-09-18T19:03:42.767Z"
   },
   {
    "duration": 3,
    "start_time": "2024-09-18T19:03:47.099Z"
   },
   {
    "duration": 104,
    "start_time": "2024-09-18T19:03:47.106Z"
   },
   {
    "duration": 921,
    "start_time": "2024-09-18T19:03:47.212Z"
   },
   {
    "duration": 514,
    "start_time": "2024-09-18T19:03:48.135Z"
   },
   {
    "duration": 0,
    "start_time": "2024-09-18T19:03:48.652Z"
   },
   {
    "duration": 0,
    "start_time": "2024-09-18T19:03:48.653Z"
   },
   {
    "duration": 0,
    "start_time": "2024-09-18T19:03:48.654Z"
   },
   {
    "duration": 0,
    "start_time": "2024-09-18T19:03:48.655Z"
   },
   {
    "duration": 0,
    "start_time": "2024-09-18T19:03:48.657Z"
   },
   {
    "duration": 0,
    "start_time": "2024-09-18T19:03:48.658Z"
   },
   {
    "duration": 0,
    "start_time": "2024-09-18T19:03:48.670Z"
   },
   {
    "duration": 0,
    "start_time": "2024-09-18T19:03:48.670Z"
   },
   {
    "duration": 0,
    "start_time": "2024-09-18T19:03:48.672Z"
   },
   {
    "duration": 44,
    "start_time": "2024-09-18T19:04:26.933Z"
   },
   {
    "duration": 12617,
    "start_time": "2024-09-18T19:04:55.374Z"
   },
   {
    "duration": 3,
    "start_time": "2024-09-18T19:05:33.970Z"
   },
   {
    "duration": 41,
    "start_time": "2024-09-18T19:05:46.171Z"
   },
   {
    "duration": 11,
    "start_time": "2024-09-18T19:10:04.107Z"
   },
   {
    "duration": 11,
    "start_time": "2024-09-18T19:10:06.991Z"
   },
   {
    "duration": 75,
    "start_time": "2024-09-18T19:12:10.390Z"
   },
   {
    "duration": 43,
    "start_time": "2024-09-18T19:12:33.960Z"
   },
   {
    "duration": 11,
    "start_time": "2024-09-18T19:18:41.304Z"
   },
   {
    "duration": 10,
    "start_time": "2024-09-18T19:18:46.177Z"
   },
   {
    "duration": 37,
    "start_time": "2024-09-18T19:57:27.102Z"
   },
   {
    "duration": 6,
    "start_time": "2024-09-18T20:04:16.929Z"
   },
   {
    "duration": 23,
    "start_time": "2024-09-18T20:06:09.123Z"
   },
   {
    "duration": 66,
    "start_time": "2024-09-18T20:45:25.853Z"
   },
   {
    "duration": 43,
    "start_time": "2024-09-18T20:45:33.656Z"
   },
   {
    "duration": 30,
    "start_time": "2024-09-18T20:47:30.423Z"
   },
   {
    "duration": 32,
    "start_time": "2024-09-18T20:47:42.854Z"
   },
   {
    "duration": 25,
    "start_time": "2024-09-18T20:51:52.894Z"
   },
   {
    "duration": 119,
    "start_time": "2024-09-18T21:17:48.352Z"
   },
   {
    "duration": 901,
    "start_time": "2024-09-18T21:26:27.658Z"
   },
   {
    "duration": 11,
    "start_time": "2024-09-18T21:29:46.881Z"
   },
   {
    "duration": 10,
    "start_time": "2024-09-18T21:29:56.584Z"
   },
   {
    "duration": 178,
    "start_time": "2024-09-18T21:31:06.684Z"
   },
   {
    "duration": 876,
    "start_time": "2024-09-18T21:31:47.659Z"
   },
   {
    "duration": 1038,
    "start_time": "2024-09-18T21:32:24.532Z"
   },
   {
    "duration": 3,
    "start_time": "2024-09-20T21:50:00.104Z"
   },
   {
    "duration": 100,
    "start_time": "2024-09-20T21:50:00.111Z"
   },
   {
    "duration": 870,
    "start_time": "2024-09-20T21:50:00.214Z"
   },
   {
    "duration": 500,
    "start_time": "2024-09-20T21:50:01.086Z"
   },
   {
    "duration": 0,
    "start_time": "2024-09-20T21:50:01.588Z"
   },
   {
    "duration": 0,
    "start_time": "2024-09-20T21:50:01.589Z"
   },
   {
    "duration": 0,
    "start_time": "2024-09-20T21:50:01.590Z"
   },
   {
    "duration": 0,
    "start_time": "2024-09-20T21:50:01.591Z"
   },
   {
    "duration": 0,
    "start_time": "2024-09-20T21:50:01.592Z"
   },
   {
    "duration": 0,
    "start_time": "2024-09-20T21:50:01.594Z"
   },
   {
    "duration": 0,
    "start_time": "2024-09-20T21:50:01.609Z"
   },
   {
    "duration": 0,
    "start_time": "2024-09-20T21:50:01.610Z"
   },
   {
    "duration": 4,
    "start_time": "2024-09-23T15:54:28.439Z"
   },
   {
    "duration": 110,
    "start_time": "2024-09-23T15:54:28.446Z"
   },
   {
    "duration": 917,
    "start_time": "2024-09-23T15:54:28.558Z"
   },
   {
    "duration": 302,
    "start_time": "2024-09-23T15:54:29.478Z"
   },
   {
    "duration": 33,
    "start_time": "2024-09-23T15:54:29.788Z"
   },
   {
    "duration": 18,
    "start_time": "2024-09-23T15:54:29.823Z"
   },
   {
    "duration": 22,
    "start_time": "2024-09-23T15:54:29.843Z"
   },
   {
    "duration": 424,
    "start_time": "2024-09-23T15:54:29.867Z"
   },
   {
    "duration": 0,
    "start_time": "2024-09-23T15:54:30.293Z"
   },
   {
    "duration": 0,
    "start_time": "2024-09-23T15:54:30.294Z"
   },
   {
    "duration": 0,
    "start_time": "2024-09-23T15:54:30.295Z"
   },
   {
    "duration": 0,
    "start_time": "2024-09-23T15:54:30.297Z"
   },
   {
    "duration": 41,
    "start_time": "2024-09-23T18:05:44.247Z"
   }
  ],
  "hide_input": false,
  "kernelspec": {
   "display_name": "Python 3 (ipykernel)",
   "language": "python",
   "name": "python3"
  },
  "language_info": {
   "codemirror_mode": {
    "name": "ipython",
    "version": 3
   },
   "file_extension": ".py",
   "mimetype": "text/x-python",
   "name": "python",
   "nbconvert_exporter": "python",
   "pygments_lexer": "ipython3",
   "version": "3.9.19"
  },
  "nbTranslate": {
   "displayLangs": [
    "*"
   ],
   "hotkey": "alt-t",
   "langInMainMenu": true,
   "sourceLang": "en",
   "targetLang": "fr",
   "useGoogleTranslate": true
  },
  "toc": {
   "base_numbering": 1,
   "nav_menu": {},
   "number_sections": true,
   "sideBar": true,
   "skip_h1_title": true,
   "title_cell": "Table of Contents",
   "title_sidebar": "Contents",
   "toc_cell": false,
   "toc_position": {
    "height": "calc(100% - 180px)",
    "left": "10px",
    "top": "150px",
    "width": "413px"
   },
   "toc_section_display": true,
   "toc_window_display": true
  },
  "varInspector": {
   "cols": {
    "lenName": 16,
    "lenType": 16,
    "lenVar": 40
   },
   "kernels_config": {
    "python": {
     "delete_cmd_postfix": "",
     "delete_cmd_prefix": "del ",
     "library": "var_list.py",
     "varRefreshCmd": "print(var_dic_list())"
    },
    "r": {
     "delete_cmd_postfix": ") ",
     "delete_cmd_prefix": "rm(",
     "library": "var_list.r",
     "varRefreshCmd": "cat(var_dic_list()) "
    }
   },
   "types_to_exclude": [
    "module",
    "function",
    "builtin_function_or_method",
    "instance",
    "_Feature"
   ],
   "window_display": false
  }
 },
 "nbformat": 4,
 "nbformat_minor": 2
}
