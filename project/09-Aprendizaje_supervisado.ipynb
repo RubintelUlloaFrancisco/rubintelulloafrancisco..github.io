{
 "cells": [
  {
   "cell_type": "markdown",
   "metadata": {},
   "source": [
    "## Descripción del Proyecto\n",
    "\n",
    "<div style='font-size: 20px; text-align: center; color: #2C3E50;'>\n",
    "  <div class=\"alert alert-block alert-info\">\n",
    "    <h1 style='color: #2980B9;'>Análisis de Churn en Clientes de Beta Bank</h1>\n",
    "    <p style='font-size: 20px; color: #1ABC9C;'>Rubintel Ulloa</p>\n",
    "    <p style='font-size: 18px; color: #16A085;'>04/08/2024</p>\n",
    "    <p style='font-size: 18px; color: #16A085;'>Empresa: Beta Bank</p>\n",
    "  </div>\n",
    "</div>\n",
    "\n",
    "<div style='font-size: 16px; color: #4CAF50; font-family: Arial, sans-serif;'>\n",
    "  <div class=\"alert alert-block alert-info\">  \n",
    "    <h1 style='color: #388E3C;'>Descripción del Proyecto</h1>\n",
    "    <p>En el sector bancario, retener a los clientes es crucial. Beta Bank está perdiendo clientes cada mes. Este proyecto busca desarrollar un modelo predictivo para prever si un cliente abandonará el banco, utilizando datos históricos sobre su comportamiento y la terminación de contratos. Nuestro objetivo es alcanzar un valor F1 mínimo de 0.59.</p>\n",
    "  </div>\n",
    "</div>\n",
    "\n",
    "### Determinación de los Objetivos del Proyecto\n",
    "\n",
    "<div style='font-size: 16px; color: #4CAF50; font-family: Arial, sans-serif;'>\n",
    "  <div class=\"alert alert-block alert-info\">  \n",
    "  <h1 style='color: #388E3C;'>Objetivos del Proyecto</h1>\n",
    "  <h3 style='color: #2E7D32;'>Descripción General</h3>\n",
    "  <p>El objetivo principal del proyecto es desarrollar un modelo predictivo que pueda identificar con precisión si un cliente dejará Beta Bank. La métrica clave a maximizar será la F1, y también se medirá la métrica AUC-ROC para comparar su rendimiento.</p>\n",
    "  <h3 style='color: #2E7D32;'>Pasos del Proyecto</h3>\n",
    "  <ol>\n",
    "    <li><strong>Preparación de Datos:</strong> Descargar y preparar los datos para el análisis. Este paso incluye la limpieza de datos y la transformación de características.</li>\n",
    "    <li><strong>Investigación del Equilibrio de Clases:</strong> Examinar el equilibrio de clases y entrenar un modelo inicial sin considerar el desequilibrio. Analizar los resultados y documentar los hallazgos.</li>\n",
    "    <li><strong>Mejora del Modelo:</strong> Aplicar al menos dos técnicas para corregir el desequilibrio de clases, como el sobremuestreo y el submuestreo. Entrenar diferentes modelos y optimizar los hiperparámetros para encontrar el mejor conjunto de parámetros.</li>\n",
    "    <li><strong>Prueba Final:</strong> Evaluar el modelo final y comparar las métricas obtenidas con los modelos anteriores para asegurar una mejora significativa.</li>\n",
    "  </ol>\n",
    "  </div>\n",
    "</div>"
   ]
  },
  {
   "cell_type": "markdown",
   "metadata": {},
   "source": [
    "<div style='font-size: 16px; color: #4CAF50; font-family: Arial, sans-serif;'>\n",
    "  <div class=\"alert alert-block alert-info\">  \n",
    "  <h1 style='color: #388E3C;'>Explicación del Código para Instalación y Importación de Bibliotecas</h1>\n",
    "  \n",
    "  <h3 style='color: #2E7D32;'>Descripción General</h3>\n",
    "  <p>Esta celda de código está diseñada para gestionar la instalación y la importación de las bibliotecas necesarias para el análisis de datos y visualización en Python. Se aseguran de que todas las bibliotecas requeridas estén instaladas y listas para usar, y proporcionan mensajes claros sobre el estado de las instalaciones y las importaciones.</p>\n",
    "\n",
    "  <h3 style='color: #2E7D32;'>Funciones Clave</h3>\n",
    "  <ul>\n",
    "    <li><strong>instalar_biblioteca(biblioteca, nombre_modulo=None):</strong> Esta función toma el nombre de una biblioteca como argumento e intenta importarla. Si la biblioteca no está instalada, se intenta instalarla usando pip. Si la instalación es exitosa, la biblioteca se importa y se muestra un mensaje de éxito.</li>\n",
    "    <li><strong>instalar_bibliotecas():</strong> Esta función llama a <code>instalar_biblioteca</code> para cada una de las bibliotecas en una lista predefinida de bibliotecas necesarias.</li>\n",
    "    <li><strong>importar_librerias():</strong> Esta función importa todas las bibliotecas necesarias para el análisis de datos y la visualización. Muestra un mensaje de éxito si todas las bibliotecas se importan correctamente.</li>\n",
    "  </ul>\n",
    "\n",
    "  <h3 style='color: #2E7D32;'>Bibliotecas Utilizadas</h3>\n",
    "  <ul>\n",
    "    <li><strong>numpy:</strong> Utilizado para operaciones numéricas y manejo de arrays.</li>\n",
    "    <li><strong>pandas:</strong> Utilizado para la manipulación y análisis de datos.</li>\n",
    "    <li><strong>scipy:</strong> Utilizado para cálculos científicos y técnicos.</li>\n",
    "    <li><strong>matplotlib:</strong> Utilizado para la visualización de datos en gráficos estáticos, animados e interactivos.</li>\n",
    "    <li><strong>seaborn:</strong> Utilizado para la visualización de datos basado en matplotlib.</li>\n",
    "    <li><strong>scikit-learn:</strong> Utilizado para el aprendizaje automático y la minería de datos.</li>\n",
    "    <li><strong>ipywidgets:</strong> Utilizado para crear controles interactivos en Jupyter Notebooks.</li>\n",
    "    <li><strong>plotly:</strong> Utilizado para crear gráficos interactivos.</li>\n",
    "  </ul>\n",
    "\n",
    "  <h3 style='color: #2E7D32;'>Proceso de Ejecución</h3>\n",
    "  <ol>\n",
    "    <li>Se llama a la función <code>instalar_bibliotecas()</code> para asegurarse de que todas las bibliotecas necesarias estén instaladas.</li>\n",
    "    <li>Se llama a la función <code>importar_librerias()</code> para importar todas las bibliotecas necesarias.</li>\n",
    "    <li>Se muestran mensajes claros indicando el estado de cada instalación e importación.</li>\n",
    "  </ol>\n",
    "\n",
    "  <h3 style='color: #2E7D32;'>Ventajas</h3>\n",
    "  <ul>\n",
    "    <li>Automatiza la instalación de bibliotecas, ahorrando tiempo y esfuerzo.</li>\n",
    "    <li>Proporciona retroalimentación clara sobre el estado de las instalaciones e importaciones, ayudando a identificar y solucionar problemas rápidamente.</li>\n",
    "    <li>Garantiza que todas las bibliotecas necesarias estén disponibles antes de iniciar el análisis de datos, evitando errores durante la ejecución del código.</li>\n",
    "  </ul>\n",
    "</div>\n",
    "</div>"
   ]
  },
  {
   "cell_type": "code",
   "execution_count": 1,
   "metadata": {},
   "outputs": [
    {
     "data": {
      "text/html": [
       "<div style='color: green; font-size: 18px;'>Biblioteca 'numpy' ya está instalada. Versión: 2.0.1</div>"
      ],
      "text/plain": [
       "<IPython.core.display.HTML object>"
      ]
     },
     "metadata": {},
     "output_type": "display_data"
    },
    {
     "data": {
      "text/html": [
       "<div style='color: green; font-size: 18px;'>Biblioteca 'pandas' ya está instalada. Versión: 2.2.2</div>"
      ],
      "text/plain": [
       "<IPython.core.display.HTML object>"
      ]
     },
     "metadata": {},
     "output_type": "display_data"
    },
    {
     "data": {
      "text/html": [
       "<div style='color: green; font-size: 18px;'>Biblioteca 'scipy' ya está instalada. Versión: 1.14.0</div>"
      ],
      "text/plain": [
       "<IPython.core.display.HTML object>"
      ]
     },
     "metadata": {},
     "output_type": "display_data"
    },
    {
     "data": {
      "text/html": [
       "<div style='color: green; font-size: 18px;'>Biblioteca 'matplotlib' ya está instalada. Versión: 3.9.1</div>"
      ],
      "text/plain": [
       "<IPython.core.display.HTML object>"
      ]
     },
     "metadata": {},
     "output_type": "display_data"
    },
    {
     "data": {
      "text/html": [
       "<div style='color: green; font-size: 18px;'>Biblioteca 'seaborn' ya está instalada. Versión: 0.13.2</div>"
      ],
      "text/plain": [
       "<IPython.core.display.HTML object>"
      ]
     },
     "metadata": {},
     "output_type": "display_data"
    },
    {
     "data": {
      "text/html": [
       "<div style='color: green; font-size: 18px;'>Biblioteca 'scikit-learn' ya está instalada. Versión: 1.5.1</div>"
      ],
      "text/plain": [
       "<IPython.core.display.HTML object>"
      ]
     },
     "metadata": {},
     "output_type": "display_data"
    },
    {
     "data": {
      "text/html": [
       "<div style='color: green; font-size: 18px;'>Biblioteca 'imbalanced-learn' ya está instalada. Versión: 0.12.3</div>"
      ],
      "text/plain": [
       "<IPython.core.display.HTML object>"
      ]
     },
     "metadata": {},
     "output_type": "display_data"
    },
    {
     "data": {
      "text/html": [
       "<div style='color: green; font-size: 18px;'>Biblioteca 'ipywidgets' ya está instalada. Versión: 8.1.3</div>"
      ],
      "text/plain": [
       "<IPython.core.display.HTML object>"
      ]
     },
     "metadata": {},
     "output_type": "display_data"
    },
    {
     "data": {
      "text/html": [
       "<div style='color: green; font-size: 18px;'>Biblioteca 'plotly' ya está instalada. Versión: 5.22.0</div>"
      ],
      "text/plain": [
       "<IPython.core.display.HTML object>"
      ]
     },
     "metadata": {},
     "output_type": "display_data"
    },
    {
     "data": {
      "text/html": [
       "<div style='color: green; font-size: 18px;'>Biblioteca 'lxml' ya está instalada. Versión: 5.2.2</div>"
      ],
      "text/plain": [
       "<IPython.core.display.HTML object>"
      ]
     },
     "metadata": {},
     "output_type": "display_data"
    },
    {
     "data": {
      "text/html": [
       "<div style='color: green; font-size: 18px;'>Biblioteca 'tqdm' ya está instalada. Versión: 4.66.4</div>"
      ],
      "text/plain": [
       "<IPython.core.display.HTML object>"
      ]
     },
     "metadata": {},
     "output_type": "display_data"
    },
    {
     "data": {
      "text/html": [
       "<div style='color: green; font-size: 18px;'>Biblioteca 'xgboost' ya está instalada. Versión: 2.1.0</div>"
      ],
      "text/plain": [
       "<IPython.core.display.HTML object>"
      ]
     },
     "metadata": {},
     "output_type": "display_data"
    },
    {
     "data": {
      "text/html": [
       "<div style='color: green; font-size: 18px;'>Biblioteca 'lightgbm' ya está instalada. Versión: 4.4.0</div>"
      ],
      "text/plain": [
       "<IPython.core.display.HTML object>"
      ]
     },
     "metadata": {},
     "output_type": "display_data"
    },
    {
     "data": {
      "text/html": [
       "<div style='color: green; font-size: 18px;'>Librerías importadas con éxito.</div>"
      ],
      "text/plain": [
       "<IPython.core.display.HTML object>"
      ]
     },
     "metadata": {},
     "output_type": "display_data"
    }
   ],
   "source": [
    "import subprocess\n",
    "import importlib\n",
    "from IPython.display import display, HTML\n",
    "import ipywidgets as widgets\n",
    "\n",
    "# Función para instalar una biblioteca\n",
    "def instalar_biblioteca(biblioteca, nombre_modulo=None):\n",
    "    \"\"\"\n",
    "    Esta función toma el nombre de una biblioteca como argumento e intenta importarla.\n",
    "    Si la biblioteca no está instalada, se intenta instalarla usando pip.\n",
    "    Si la instalación es exitosa, la biblioteca se importa y se muestra un mensaje de éxito.\n",
    "    \"\"\"\n",
    "    if nombre_modulo is None:\n",
    "        nombre_modulo = biblioteca.replace(\"-\", \"_\")\n",
    "    \n",
    "    # Manejo especial para bibliotecas que tienen un nombre de módulo diferente\n",
    "    if biblioteca == \"scikit-learn\":\n",
    "        nombre_modulo = \"sklearn\"\n",
    "    elif biblioteca == \"imbalanced-learn\":\n",
    "        nombre_modulo = \"imblearn\"\n",
    "\n",
    "    try:\n",
    "        # Intentar importar la biblioteca\n",
    "        mod = importlib.import_module(nombre_modulo)\n",
    "        version = getattr(mod, \"__version__\", \"versión no disponible\")\n",
    "        display(HTML(f\"<div style='color: green; font-size: 18px;'>Biblioteca '{biblioteca}' ya está instalada. Versión: {version}</div>\"))\n",
    "    except ModuleNotFoundError:\n",
    "        try:\n",
    "            # Si no está instalada, intentar instalarla\n",
    "            subprocess.check_call([\"pip\", \"install\", biblioteca])\n",
    "            mod = importlib.import_module(nombre_modulo)\n",
    "            version = getattr(mod, \"__version__\", \"versión no disponible\")\n",
    "            display(HTML(f\"<div style='color: green; font-size: 18px;'>Biblioteca '{biblioteca}' instalada con éxito. Versión: {version}</div>\"))\n",
    "        except Exception as e:\n",
    "            # Mostrar mensaje de error en caso de fallo\n",
    "            display(HTML(f\"<div style='color: red; font-size: 18px;'>Error instalando la biblioteca {biblioteca}: {str(e)}</div>\"))\n",
    "\n",
    "# Función para instalar una lista de bibliotecas\n",
    "def instalar_bibliotecas():\n",
    "    \"\"\"\n",
    "    Esta función llama a instalar_biblioteca para cada una de las bibliotecas en una lista predefinida de bibliotecas necesarias.\n",
    "    \"\"\"\n",
    "    bibliotecas = [\n",
    "        \"numpy\",\n",
    "        \"pandas\",\n",
    "        \"scipy\",\n",
    "        \"matplotlib\",\n",
    "        \"seaborn\",\n",
    "        \"scikit-learn\",\n",
    "        \"imbalanced-learn\",\n",
    "        \"ipywidgets\",\n",
    "        \"plotly\",\n",
    "        \"lxml\",\n",
    "        \"tqdm\",\n",
    "        \"xgboost\",\n",
    "        \"lightgbm\"\n",
    "    ]\n",
    "    for biblioteca in bibliotecas:\n",
    "        instalar_biblioteca(biblioteca)\n",
    "\n",
    "# Función para importar todas las bibliotecas necesarias\n",
    "def importar_librerias():\n",
    "    \"\"\"\n",
    "    Esta función importa todas las bibliotecas necesarias para el análisis de datos y la visualización.\n",
    "    Muestra un mensaje de éxito si todas las bibliotecas se importan correctamente.\n",
    "    \"\"\"\n",
    "    try:\n",
    "        import pandas as pd\n",
    "        import numpy as np\n",
    "        import matplotlib.pyplot as plt\n",
    "        import seaborn as sns\n",
    "        from scipy import stats\n",
    "        from scipy.stats import levene\n",
    "        from sklearn.impute import SimpleImputer\n",
    "        from sklearn.model_selection import train_test_split, cross_val_score, GridSearchCV\n",
    "        from sklearn.linear_model import LogisticRegression, LinearRegression\n",
    "        from sklearn.tree import DecisionTreeClassifier, DecisionTreeRegressor\n",
    "        from sklearn.ensemble import RandomForestClassifier, RandomForestRegressor, GradientBoostingClassifier\n",
    "        from sklearn.metrics import accuracy_score, mean_squared_error\n",
    "        from sklearn.preprocessing import StandardScaler\n",
    "        from sklearn.cluster import KMeans\n",
    "        import ipywidgets as widgets\n",
    "        from ipywidgets import interact\n",
    "        import plotly.express as px\n",
    "        import time\n",
    "        from tqdm.notebook import tqdm\n",
    "        from IPython.display import display, HTML\n",
    "        from xgboost import XGBClassifier\n",
    "        from lightgbm import LGBMClassifier\n",
    "        from imblearn.over_sampling import SMOTE\n",
    "        from imblearn.under_sampling import RandomUnderSampler\n",
    "        from sklearn.metrics import precision_score, recall_score, f1_score, roc_auc_score, roc_curve\n",
    "\n",
    "        display(HTML(f\"<div style='color: green; font-size: 18px;'>Librerías importadas con éxito.</div>\"))\n",
    "    except ModuleNotFoundError as e:\n",
    "        display(HTML(f\"<div style='color: red; font-size: 18px;'>Error importando las librerías: {str(e)}</div>\"))\n",
    "    except Exception as e:\n",
    "        display(HTML(f\"<div style='color: red; font-size: 18px;'>Ocurrió un error inesperado: {str(e)}</div>\"))\n",
    "\n",
    "# Llamar a la función para instalar las bibliotecas\n",
    "instalar_bibliotecas()\n",
    "\n",
    "# Llamar a la función para importar las bibliotecas\n",
    "importar_librerias()\n"
   ]
  },
  {
   "cell_type": "code",
   "execution_count": 2,
   "metadata": {},
   "outputs": [
    {
     "name": "stdout",
     "output_type": "stream",
     "text": [
      "Requirement already satisfied: imbalanced-learn in c:\\users\\administrator\\appdata\\local\\programs\\python\\python312\\lib\\site-packages (0.12.3)\n",
      "Requirement already satisfied: numpy>=1.17.3 in c:\\users\\administrator\\appdata\\roaming\\python\\python312\\site-packages (from imbalanced-learn) (2.0.1)\n",
      "Requirement already satisfied: scipy>=1.5.0 in c:\\users\\administrator\\appdata\\roaming\\python\\python312\\site-packages (from imbalanced-learn) (1.14.0)\n",
      "Requirement already satisfied: scikit-learn>=1.0.2 in c:\\users\\administrator\\appdata\\roaming\\python\\python312\\site-packages (from imbalanced-learn) (1.5.1)\n",
      "Requirement already satisfied: joblib>=1.1.1 in c:\\users\\administrator\\appdata\\roaming\\python\\python312\\site-packages (from imbalanced-learn) (1.4.2)\n",
      "Requirement already satisfied: threadpoolctl>=2.0.0 in c:\\users\\administrator\\appdata\\roaming\\python\\python312\\site-packages (from imbalanced-learn) (3.5.0)\n",
      "Importación exitosa de SMOTE\n"
     ]
    }
   ],
   "source": [
    "!pip install imbalanced-learn\n",
    "\n",
    "try:\n",
    "    from imblearn.over_sampling import SMOTE\n",
    "    print(\"Importación exitosa de SMOTE\")\n",
    "except ImportError as e:\n",
    "    print(\"Error importando imbalanced-learn:\", e)\n",
    "\n"
   ]
  },
  {
   "cell_type": "markdown",
   "metadata": {},
   "source": [
    "<div style='font-size: 16px; color: #4CAF50; font-family: Arial, sans-serif;'>\n",
    "  <div class=\"alert alert-block alert-info\">  \n",
    "  <h1 style='color: #388E3C;'>Configuración de Visualización de DataFrames en pandas</h1>\n",
    "  \n",
    "  <h3 style='color: #2E7D32;'>Descripción General</h3>\n",
    "  <p>Esta celda de código ajusta las opciones de visualización de pandas para mejorar la revisión y presentación de los DataFrames. Estas configuraciones permiten una visualización más clara y completa de los datos, facilitando el análisis y la interpretación.</p>\n",
    "\n",
    "  <h3 style='color: #2E7D32;'>Opciones de Visualización Configuradas</h3>\n",
    "  <ul>\n",
    "    <li><strong>Mostrar todas las columnas:</strong> La opción <code>pd.set_option('display.max_columns', None)</code> asegura que todas las columnas de un DataFrame se muestren, sin importar cuántas haya. Esto es útil para evitar que se oculten columnas importantes.</li>\n",
    "    <li><strong>Evitar división en varias líneas:</strong> La opción <code>pd.set_option('display.expand_frame_repr', False)</code> impide que las filas del DataFrame se dividan en múltiples líneas. Esto mantiene cada fila en una sola línea, mejorando la legibilidad.</li>\n",
    "    <li><strong>Mostrar todas las filas:</strong> La opción <code>pd.set_option('display.max_rows', None)</code> permite que todas las filas de un DataFrame se muestren sin límites. Esto es útil para revisar DataFrames completos sin que se trunquen las filas.</li>\n",
    "    <li><strong>Mostrar el ancho completo de las columnas:</strong> La opción <code>pd.set_option('display.max_colwidth', None)</code> garantiza que las columnas se muestren con su ancho completo, evitando que se trunque el contenido de las celdas.</li>\n",
    "  </ul>\n",
    "\n",
    "  <h3 style='color: #2E7D32;'>Ventajas</h3>\n",
    "  <ul>\n",
    "    <li><strong>Revisión Completa de Datos:</strong> Permite revisar y analizar el DataFrame en su totalidad, sin que se oculten columnas o filas.</li>\n",
    "    <li><strong>Mejora de la Legibilidad:</strong> Mantiene cada fila en una sola línea, facilitando la lectura y evitando confusiones.</li>\n",
    "    <li><strong>Presentación Clara de Datos:</strong> Asegura que el contenido de las celdas se muestre completo, proporcionando una visión más clara y detallada de los datos.</li>\n",
    "  </ul>\n",
    "</div>\n",
    "</div>"
   ]
  },
  {
   "cell_type": "code",
   "execution_count": 3,
   "metadata": {},
   "outputs": [],
   "source": [
    "import pandas as pd\n",
    "\n",
    "# Configuración de visualización para mejorar la revisión de DataFrames en pandas\n",
    "# Mostrar todas las columnas: Para mostrar todas las columnas de un DataFrame\n",
    "pd.set_option('display.max_columns', None)\n",
    "# Evitar división en varias líneas: Si deseas que las filas de tu DataFrame no se dividan en varias líneas\n",
    "pd.set_option('display.expand_frame_repr', False)\n",
    "# Mostrar todas las filas: Para mostrar todas las filas de un DataFrame sin límites\n",
    "pd.set_option('display.max_rows', None)\n",
    "# Mostrar el ancho completo de las columnas: Si quieres que las columnas se muestren con su ancho completo\n",
    "pd.set_option('display.max_colwidth', None)\n"
   ]
  },
  {
   "cell_type": "markdown",
   "metadata": {},
   "source": [
    "## Carga de Datos"
   ]
  },
  {
   "cell_type": "markdown",
   "metadata": {},
   "source": [
    "<div style='font-size: 16px; color: #4CAF50; font-family: Arial, sans-serif;'>\n",
    "  <div class=\"alert alert-block alert-info\">  \n",
    "  <h1 style='color: #388E3C;'>Carga de datos</h1>\n",
    "  \n",
    "  <h3 style='color: #2E7D32;'>Descripción General</h3>\n",
    "  <p>Esta celda de código carga y preprocesa los datos desde una URL proporcionada. Utiliza una barra de progreso para simular la carga de datos, mejorando la interactividad y la visualización del proceso. Una vez cargados, los datos se muestran en un DataFrame de pandas.</p>\n",
    "\n",
    "  <h3 style='color: #2E7D32;'>Código de Carga y Preprocesamiento</h3>\n",
    "  <p>El siguiente código define una función que simula la carga de datos con una barra de progreso y luego utiliza <code>pandas.read_csv</code> para cargar el archivo CSV desde la URL proporcionada:</p>\n",
    "\n",
    "  <h3 style='color: #2E7D32;'>Ventajas</h3>\n",
    "  <ul>\n",
    "    <li><strong>Interactividad:</strong> La barra de progreso proporciona una indicación visual del estado de la carga de datos, mejorando la interactividad del notebook.</li>\n",
    "    <li><strong>Revisión Inicial de Datos:</strong> El uso de <code>df.head()</code> permite una revisión rápida y efectiva de las primeras filas del DataFrame, facilitando la verificación de la correcta carga de datos.</li>\n",
    "  </ul>\n",
    "</div>\n",
    "</div>\n",
    "\n"
   ]
  },
  {
   "cell_type": "code",
   "execution_count": 4,
   "metadata": {},
   "outputs": [
    {
     "name": "stderr",
     "output_type": "stream",
     "text": [
      "Cargando datos: 100%|██████████| 100/100 [00:00<00:00, 100222.32it/s]\n"
     ]
    },
    {
     "data": {
      "text/html": [
       "<div style='color: green; font-size: 18px;'>Datos cargados exitosamente desde 'https://code.s3.yandex.net/datasets/Churn.csv'.</div>"
      ],
      "text/plain": [
       "<IPython.core.display.HTML object>"
      ]
     },
     "metadata": {},
     "output_type": "display_data"
    },
    {
     "name": "stdout",
     "output_type": "stream",
     "text": [
      "   RowNumber  CustomerId   Surname  CreditScore Geography  Gender  Age  Tenure    Balance  NumOfProducts  HasCrCard  IsActiveMember  EstimatedSalary  Exited\n",
      "0          1    15634602  Hargrave          619    France  Female   42     2.0       0.00              1          1               1        101348.88       1\n",
      "1          2    15647311      Hill          608     Spain  Female   41     1.0   83807.86              1          0               1        112542.58       0\n",
      "2          3    15619304      Onio          502    France  Female   42     8.0  159660.80              3          1               0        113931.57       1\n",
      "3          4    15701354      Boni          699    France  Female   39     1.0       0.00              2          0               0         93826.63       0\n",
      "4          5    15737888  Mitchell          850     Spain  Female   43     2.0  125510.82              1          1               1         79084.10       0\n"
     ]
    }
   ],
   "source": [
    "import pandas as pd\n",
    "from tqdm import tqdm\n",
    "from IPython.display import display, HTML\n",
    "\n",
    "def cargar_datos_con_progreso(file_path):\n",
    "    try:\n",
    "        # Simulación de carga de datos con barra de progreso\n",
    "        for _ in tqdm(range(100), desc=\"Cargando datos\"):\n",
    "            pass\n",
    "        \n",
    "        # Intentar cargar el archivo CSV\n",
    "        df = pd.read_csv(file_path)\n",
    "        \n",
    "        # Mensaje de éxito\n",
    "        display(HTML(f\"<div style='color: green; font-size: 18px;'>Datos cargados exitosamente desde '{file_path}'.</div>\"))\n",
    "        return df\n",
    "    \n",
    "    except FileNotFoundError:\n",
    "        display(HTML(f\"<div style='color: red; font-size: 18px;'>Error: Archivo no encontrado en la ruta '{file_path}'.</div>\"))\n",
    "    except pd.errors.EmptyDataError:\n",
    "        display(HTML(f\"<div style='color: red; font-size: 18px;'>Error: El archivo en '{file_path}' está vacío.</div>\"))\n",
    "    except pd.errors.ParserError:\n",
    "        display(HTML(f\"<div style='color: red; font-size: 18px;'>Error: Hubo un problema al analizar el archivo en '{file_path}'.</div>\"))\n",
    "    except Exception as e:\n",
    "        display(HTML(f\"<div style='color: red; font-size: 18px;'>Error inesperado: {str(e)}</div>\"))\n",
    "\n",
    "url = 'https://code.s3.yandex.net/datasets/Churn.csv'  # Cambia esto a la ruta local del archivo\n",
    "df = cargar_datos_con_progreso(url)\n",
    "if df is not None:\n",
    "    print(df.head())\n",
    "\n"
   ]
  },
  {
   "cell_type": "markdown",
   "metadata": {},
   "source": [
    "## Procesamiento de DataFrame y Analisis"
   ]
  },
  {
   "cell_type": "markdown",
   "metadata": {},
   "source": [
    "<div style='font-size: 16px; color: #4CAF50; font-family: Arial, sans-serif;'>\n",
    "  <div class=\"alert alert-block alert-info\">\n",
    "    <h1 style='color: #388E3C;'>Procesamiento de DataFrame</h1>\n",
    "    <h3 style='color: #2E7D32;'>Descripción de la Función</h3>\n",
    "    <p>En esta sección, se realiza el procesamiento del DataFrame, que incluye las siguientes etapas:</p>\n",
    "    <ul>\n",
    "      <li>Manejo de valores nulos: Imputación de valores nulos utilizando la mediana, media, moda, constante o interpolación para datos numéricos y el valor más frecuente para datos categóricos.</li>\n",
    "      <li>Eliminación de duplicados: Eliminación de filas duplicadas en el DataFrame.</li>\n",
    "      <li>Eliminación de outliers: Identificación y eliminación de registros atípicos utilizando el método del Z-score o IQR.</li>\n",
    "      <li>Estandarización de datos: Normalización de las variables numéricas utilizando StandardScaler, MinMaxScaler o RobustScaler.</li>\n",
    "      <li>Codificación de variables categóricas: Transformación de variables categóricas en variables numéricas utilizando codificación ordinal o variables dummy.</li>\n",
    "      <li>Conversión de tipos de datos: Conversión de tipos de datos según especificaciones proporcionadas.</li>\n",
    "      <li>Manejo de valores extremos: Manejo de valores extremos mediante capping o eliminación usando IQR.</li>\n",
    "      <li>Normalización de datos: Normalización de las variables numéricas para que tengan media 0 y desviación estándar 1 utilizando Normalizer.</li>\n",
    "      <li>Remoción de columnas con baja varianza: Eliminación de columnas con baja varianza en el DataFrame.</li>\n",
    "      <li>Detección y corrección de valores inconsistentes: Corrección de valores inconsistentes en el DataFrame según reglas específicas.</li>\n",
    "      <li>Detección de duplicados en columnas específicas: Identificación de duplicados en columnas específicas.</li>\n",
    "      <li>Conversión de fechas a componentes temporales: Transformación de columnas de fechas en componentes temporales como año, mes, día y día de la semana.</li>\n",
    "      <li>Imputación de valores faltantes basada en regresión: Imputación de valores faltantes en una columna objetivo utilizando regresión lineal.</li>\n",
    "      <li>Remoción de columnas altamente correlacionadas: Eliminación de columnas con alta correlación entre sí.</li>\n",
    "      <li>Transformación de variables categóricas en variables dummy: Transformación de variables categóricas en variables dummy.</li>\n",
    "      <li>Escalado robusto de datos: Escalado de datos utilizando RobustScaler.</li>\n",
    "      <li>Detección de valores atípicos usando el método de Tukey: Identificación de valores atípicos utilizando el método de Tukey.</li>\n",
    "      <li>Conversión de variables categóricas ordinales: Transformación de variables categóricas ordinales en códigos numéricos.</li>\n",
    "    </ul>\n",
    "  </div>\n",
    "</div>\n",
    "\n",
    "<div style='font-size: 16px; color: #4CAF50; font-family: Arial, sans-serif;'>\n",
    "  <div class=\"alert alert-block alert-info\">\n",
    "    <h3 style='color: #2E7D32;'>Ventajas del Procesamiento de DataFrame</h3>\n",
    "    <ul>\n",
    "      <li><strong>Integridad de Datos:</strong> Al manejar valores nulos y eliminar duplicados, se asegura que el DataFrame esté limpio y sin datos redundantes.</li>\n",
    "      <li><strong>Normalización y Escalado:</strong> Mejora la precisión de los algoritmos de aprendizaje automático al escalar y normalizar los datos.</li>\n",
    "      <li><strong>Identificación de Outliers:</strong> Los métodos de eliminación de outliers aseguran que los datos extremos no influyan negativamente en los modelos.</li>\n",
    "      <li><strong>Codificación de Datos:</strong> La transformación de variables categóricas en variables numéricas facilita la entrada de datos en algoritmos que requieren datos numéricos.</li>\n",
    "      <li><strong>Eficiencia de Modelado:</strong> La remoción de columnas con baja varianza y alta correlación reduce la dimensionalidad y mejora la eficiencia de los modelos predictivos.</li>\n",
    "      <li><strong>Automatización y Flexibilidad:</strong> Las diversas funciones proporcionan un flujo de trabajo automatizado y flexible para preprocesar datos, adaptándose a diferentes tipos de DataFrame y necesidades específicas del usuario.</li>\n",
    "    </ul>\n",
    "  </div>\n",
    "</div>"
   ]
  },
  {
   "cell_type": "code",
   "execution_count": 5,
   "metadata": {},
   "outputs": [
    {
     "data": {
      "text/html": [
       "<style>.widget-label { font-size: 16px; font-weight: bold; color: #2E7D32; }</style>"
      ],
      "text/plain": [
       "<IPython.core.display.HTML object>"
      ]
     },
     "metadata": {},
     "output_type": "display_data"
    },
    {
     "data": {
      "application/vnd.jupyter.widget-view+json": {
       "model_id": "6073859ab46d4c54971a826ba36477a6",
       "version_major": 2,
       "version_minor": 0
      },
      "text/plain": [
       "Dropdown(description='Método de Imputación:', index=1, layout=Layout(width='400px'), options=('mean', 'median'…"
      ]
     },
     "metadata": {},
     "output_type": "display_data"
    },
    {
     "data": {
      "application/vnd.jupyter.widget-view+json": {
       "model_id": "bf3e3f936c454909ace37b89d6812ac3",
       "version_major": 2,
       "version_minor": 0
      },
      "text/plain": [
       "Dropdown(description='Método de Outliers:', layout=Layout(width='400px'), options=('zscore', 'iqr'), style=Des…"
      ]
     },
     "metadata": {},
     "output_type": "display_data"
    },
    {
     "data": {
      "application/vnd.jupyter.widget-view+json": {
       "model_id": "ece1479a37e74521bb33f33d4c7cd0ca",
       "version_major": 2,
       "version_minor": 0
      },
      "text/plain": [
       "Dropdown(description='Método de Estandarización:', layout=Layout(width='400px'), options=('standard', 'minmax'…"
      ]
     },
     "metadata": {},
     "output_type": "display_data"
    },
    {
     "data": {
      "application/vnd.jupyter.widget-view+json": {
       "model_id": "e38e6bfe1cbd4ed28d52effe95b95be3",
       "version_major": 2,
       "version_minor": 0
      },
      "text/plain": [
       "FloatText(value=0.0, description='Valor Constante:', disabled=True, layout=Layout(width='400px'), style=Descri…"
      ]
     },
     "metadata": {},
     "output_type": "display_data"
    },
    {
     "data": {
      "application/vnd.jupyter.widget-view+json": {
       "model_id": "743b9aab245e4057a5487e26707957a2",
       "version_major": 2,
       "version_minor": 0
      },
      "text/plain": [
       "Button(button_style='success', description='Ejecutar Preprocesamiento', layout=Layout(height='40px', width='40…"
      ]
     },
     "metadata": {},
     "output_type": "display_data"
    }
   ],
   "source": [
    "# Función para manejar valores nulos\n",
    "def manejar_nulos(df, metodo='median', valor_constante=None):\n",
    "    if metodo == 'constant':\n",
    "        imputer_num = SimpleImputer(strategy='constant', fill_value=valor_constante)\n",
    "    else:\n",
    "        imputer_num = SimpleImputer(strategy=metodo)\n",
    "    \n",
    "    df[df.select_dtypes(include=[np.number]).columns] = imputer_num.fit_transform(df.select_dtypes(include=[np.number]))\n",
    "    imputer_cat = SimpleImputer(strategy='most_frequent')\n",
    "    df[df.select_dtypes(include=[object]).columns] = imputer_cat.fit_transform(df.select_dtypes(include=[object]))\n",
    "    display(HTML(f\"<div style='color: green; font-size: 18px;'>Imputación de valores faltantes utilizando el método '{metodo}' completada exitosamente.</div>\"))\n",
    "    return df\n",
    "\n",
    "# Función para identificar y eliminar registros atípicos usando IQR\n",
    "def eliminar_outliers_iqr(df):\n",
    "    Q1 = df.quantile(0.25)\n",
    "    Q3 = df.quantile(0.75)\n",
    "    IQR = Q3 - Q1\n",
    "    df_cleaned = df[~((df < (Q1 - 1.5 * IQR)) | (df > (Q3 + 1.5 * IQR))).any(axis=1)]\n",
    "    return df_cleaned\n",
    "\n",
    "# Función para identificar y eliminar registros atípicos usando Z-score\n",
    "def eliminar_outliers(df, threshold=3):\n",
    "    z_scores = np.abs(stats.zscore(df.select_dtypes(include=[np.number])))\n",
    "    df_cleaned = df[(z_scores < threshold).all(axis=1)]\n",
    "    return df_cleaned\n",
    "\n",
    "# Función para estandarizar variables numéricas\n",
    "def estandarizar_datos(df, metodo='standard'):\n",
    "    if metodo == 'minmax':\n",
    "        scaler = MinMaxScaler()\n",
    "    else:\n",
    "        scaler = StandardScaler()\n",
    "    \n",
    "    df[df.select_dtypes(include=[np.number]).columns] = scaler.fit_transform(df.select_dtypes(include=[np.number]))\n",
    "    display(HTML(f\"<div style='color: green; font-size: 18px;'>Estandarización de datos utilizando el método '{metodo}' completada exitosamente.</div>\"))\n",
    "    return df\n",
    "\n",
    "# Función para codificar variables categóricas\n",
    "def codificar_variables(df):\n",
    "    encoder = OrdinalEncoder()\n",
    "    df[df.select_dtypes(include=[object]).columns] = encoder.fit_transform(df.select_dtypes(include=[object]))\n",
    "    return df\n",
    "\n",
    "# Función para detectar valores nulos\n",
    "def detectar_valores_nulos(df):\n",
    "    nulos = df.isnull().sum()\n",
    "    display(HTML(\"<div style='color: green; font-size: 18px;'>Detección de valores nulos completada exitosamente.</div>\"))\n",
    "    display(nulos)\n",
    "    return nulos\n",
    "\n",
    "# Función para mostrar la distribución de datos\n",
    "def mostrar_distribucion(df, titulo):\n",
    "    plt.figure(figsize=(12, 6))\n",
    "    sns.boxplot(data=df.select_dtypes(include=[np.number]))\n",
    "    plt.title(titulo)\n",
    "    plt.xticks(rotation=90)\n",
    "    plt.grid(True)\n",
    "    plt.show()\n",
    "\n",
    "# Función para eliminar duplicados\n",
    "def eliminar_duplicados(df):\n",
    "    df_cleaned = df.drop_duplicates()\n",
    "    display(HTML(f\"<div style='color: green; font-size: 18px;'>Eliminación de duplicados completada: {df_cleaned.shape[0]} filas restantes.</div>\"))\n",
    "    return df_cleaned\n",
    "\n",
    "# Función para convertir tipos de datos\n",
    "def convertir_tipos(df, conversiones):\n",
    "    for columna, tipo in conversiones.items():\n",
    "        df[columna] = df[columna].astype(tipo)\n",
    "    display(HTML(f\"<div style='color: green; font-size: 18px;'>Conversión de tipos de datos completada.</div>\"))\n",
    "    return df\n",
    "\n",
    "# Función para manejar valores extremos\n",
    "def manejar_valores_extremos(df, metodo='cap'):\n",
    "    if metodo == 'cap':\n",
    "        for col in df.select_dtypes(include=[np.number]).columns:\n",
    "            percentiles = df[col].quantile([0.01, 0.99]).values\n",
    "            df[col] = np.clip(df[col], percentiles[0], percentiles[1])\n",
    "    elif metodo == 'remove':\n",
    "        df = eliminar_outliers_iqr(df)\n",
    "    display(HTML(f\"<div style='color: green; font-size: 18px;'>Manejo de valores extremos utilizando el método '{metodo}' completado.</div>\"))\n",
    "    return df\n",
    "\n",
    "# Función para normalizar datos\n",
    "def normalizar_datos(df):\n",
    "    scaler = Normalizer()\n",
    "    df[df.select_dtypes(include=[np.number]).columns] = scaler.fit_transform(df.select_dtypes(include=[np.number]))\n",
    "    display(HTML(f\"<div style='color: green; font-size: 18px;'>Normalización de datos completada exitosamente.</div>\"))\n",
    "    return df\n",
    "\n",
    "# Función para remover columnas con baja varianza\n",
    "def remover_baja_varianza(df, umbral=0.01):\n",
    "    selector = VarianceThreshold(threshold=umbral)\n",
    "    selector.fit(df.select_dtypes(include=[np.number]))\n",
    "    columnas_retenidas = df.select_dtypes(include=[np.number]).columns[selector.get_support()]\n",
    "    df = df[columnas_retenidas]\n",
    "    display(HTML(f\"<div style='color: green; font-size: 18px;'>Remoción de columnas con baja varianza completada.</div>\"))\n",
    "    return df\n",
    "\n",
    "# Función para corregir valores inconsistentes\n",
    "def corregir_valores_inconsistentes(df, reglas):\n",
    "    for columna, regla in reglas.items():\n",
    "        df[columna] = df[columna].apply(regla)\n",
    "    display(HTML(f\"<div style='color: green; font-size: 18px;'>Corrección de valores inconsistentes completada.</div>\"))\n",
    "    return df\n",
    "\n",
    "# Función para detectar duplicados en columnas específicas\n",
    "def detectar_duplicados_columnas(df, columnas):\n",
    "    duplicados = df.duplicated(subset=columnas)\n",
    "    display(HTML(f\"<div style='color: green; font-size: 18px;'>Detección de duplicados en columnas específicas completada.</div>\"))\n",
    "    return duplicados\n",
    "\n",
    "# Función para convertir fechas a componentes temporales\n",
    "def convertir_fechas(df, columna_fecha):\n",
    "    df[columna_fecha] = pd.to_datetime(df[columna_fecha])\n",
    "    df['year'] = df[columna_fecha].dt.year\n",
    "    df['month'] = df[columna_fecha].dt.month\n",
    "    df['day'] = df[columna_fecha].dt.day\n",
    "    df['day_of_week'] = df[columna_fecha].dt.dayofweek\n",
    "    display(HTML(f\"<div style='color: green; font-size: 18px;'>Conversión de fechas a componentes temporales completada.</div>\"))\n",
    "    return df\n",
    "\n",
    "# Función para imputar valores faltantes basada en regresión\n",
    "def imputar_valores_regresion(df, columna_objetivo):\n",
    "    df_no_nulos = df.dropna(subset=[columna_objetivo])\n",
    "    df_nulos = df[df[columna_objetivo].isnull()]\n",
    "    X_train = df_no_nulos.drop(columns=[columna_objetivo])\n",
    "    y_train = df_no_nulos[columna_objetivo]\n",
    "    modelo = LinearRegression()\n",
    "    modelo.fit(X_train, y_train)\n",
    "    df.loc[df[columna_objetivo].isnull(), columna_objetivo] = modelo.predict(df_nulos.drop(columns=[columna_objetivo]))\n",
    "    display(HTML(f\"<div style='color: green; font-size: 18px;'>Imputación de valores faltantes basada en regresión completada.</div>\"))\n",
    "    return df\n",
    "\n",
    "# Función para remover columnas altamente correlacionadas\n",
    "def remover_columnas_correlacionadas(df, umbral=0.9):\n",
    "    correlacion = df.corr().abs()\n",
    "    upper = correlacion.where(np.triu(np.ones(correlacion.shape), k=1).astype(bool))\n",
    "    columnas_a_remover = [columna for columna in upper.columns if any(upper[columna] > umbral)]\n",
    "    df = df.drop(columns=columnas_a_remover)\n",
    "    display(HTML(f\"<div style='color: green; font-size: 18px;'>Remoción de columnas altamente correlacionadas completada.</div>\"))\n",
    "    return df\n",
    "\n",
    "# Función para transformar variables categóricas en variables dummy\n",
    "def transformar_variables_dummy(df):\n",
    "    df = pd.get_dummies(df, drop_first=True)\n",
    "    display(HTML(f\"<div style='color: green; font-size: 18px;'>Transformación de variables categóricas en variables dummy completada.</div>\"))\n",
    "    return df\n",
    "\n",
    "# Función para escalar datos de forma robusta\n",
    "def escalar_datos_robusto(df):\n",
    "    scaler = RobustScaler()\n",
    "    df[df.select_dtypes(include=[np.number]).columns] = scaler.fit_transform(df.select_dtypes(include=[np.number]))\n",
    "    display(HTML(f\"<div style='color: green; font-size: 18px;'>Escalado robusto de datos completado exitosamente.</div>\"))\n",
    "    return df\n",
    "\n",
    "# Función para detectar valores atípicos usando el método de Tukey\n",
    "def detectar_outliers_tukey(df):\n",
    "    Q1 = df.quantile(0.25)\n",
    "    Q3 = df.quantile(0.75)\n",
    "    IQR = Q3 - Q1\n",
    "    outliers = ((df < (Q1 - 1.5 * IQR)) | (df > (Q3 + 1.5 * IQR)))\n",
    "    display(HTML(f\"<div style='color: green; font-size: 18px;'>Detección de valores atípicos usando el método de Tukey completada.</div>\"))\n",
    "    return outliers\n",
    "\n",
    "# Función para convertir variables categóricas ordinales\n",
    "def convertir_ordinales(df, columnas_ordinales, categorias):\n",
    "    for columna, categoria in zip(columnas_ordinales, categorias):\n",
    "        df[columna] = pd.Categorical(df[columna], categories=categoria, ordered=True)\n",
    "        df[columna] = df[columna].cat.codes\n",
    "    display(HTML(f\"<div style='color: green; font-size: 18px;'>Conversión de variables categóricas ordinales completada.</div>\"))\n",
    "    return df\n",
    "\n",
    "# Función para interpolar valores faltantes\n",
    "def interpolar_valores(df, metodo='linear'):\n",
    "    df = df.interpolate(method=metodo)\n",
    "    display(HTML(f\"<div style='color: green; font-size: 18px;'>Interpolación de valores faltantes utilizando el método '{metodo}' completada.</div>\"))\n",
    "    return df\n",
    "\n",
    "# Función para remover columnas con alta proporción de valores nulos\n",
    "def remover_columnas_nulos(df, umbral=0.5):\n",
    "    proporciones_nulos = df.isnull().mean()\n",
    "    columnas_a_remover = proporciones_nulos[proporciones_nulos > umbral].index\n",
    "    df = df.drop(columns=columnas_a_remover)\n",
    "    display(HTML(f\"<div style='color: green; font-size: 18px;'>Remoción de columnas con alta proporción de valores nulos completada.</div>\"))\n",
    "    return df\n",
    "\n",
    "# Función para preprocesar el DataFrame\n",
    "def preprocesar_dataframe(df, metodo_imputacion, metodo_outliers, metodo_estandarizacion, valor_constante=None):\n",
    "    start_time = time.time()\n",
    "    with tqdm(total=100, desc=\"Preprocesando DataFrame\") as pbar:\n",
    "        try:\n",
    "            df.columns = [col.lower().replace(' ', '_') for col in df.columns]\n",
    "            pbar.update(10)\n",
    "            \n",
    "            # Detección de valores nulos\n",
    "            detectar_valores_nulos(df)\n",
    "            pbar.update(10)\n",
    "            \n",
    "            # Mostrar distribución antes del preprocesamiento\n",
    "            mostrar_distribucion(df, \"Distribución de datos antes del preprocesamiento\")\n",
    "            pbar.update(10)\n",
    "            \n",
    "            # Manejo de valores nulos\n",
    "            df = manejar_nulos(df, metodo=metodo_imputacion, valor_constante=valor_constante)\n",
    "            pbar.update(20)\n",
    "            \n",
    "            # Eliminación de duplicados\n",
    "            df = eliminar_duplicados(df)\n",
    "            pbar.update(5)\n",
    "            \n",
    "            # Eliminación de outliers\n",
    "            if metodo_outliers == 'zscore':\n",
    "                df = eliminar_outliers(df)\n",
    "            else:\n",
    "                df = eliminar_outliers_iqr(df)\n",
    "            pbar.update(20)\n",
    "            \n",
    "            # Estandarización de datos\n",
    "            df = estandarizar_datos(df, metodo=metodo_estandarizacion)\n",
    "            pbar.update(20)\n",
    "            \n",
    "            # Codificación de variables categóricas\n",
    "            df = codificar_variables(df)\n",
    "            pbar.update(10)\n",
    "            \n",
    "            # Mostrar distribución después del preprocesamiento\n",
    "            mostrar_distribucion(df, \"Distribución de datos después del preprocesamiento\")\n",
    "            pbar.update(10)\n",
    "\n",
    "            display(HTML(f\"<div style='color: green; font-size: 18px;'>DataFrame preprocesado: {df.shape[0]} filas, {df.shape[1]} columnas</div>\"))\n",
    "            return df\n",
    "\n",
    "        except Exception as e:\n",
    "            display(HTML(f\"<div style='color: red; font-size: 18px;'>Error durante el preprocesamiento: {str(e)}</div>\"))\n",
    "\n",
    "    end_time = time.time()\n",
    "    display(HTML(f\"<div style='color: green; font-size: 18px;'>Tiempo total de preprocesamiento: {end_time - start_time:.2f} segundos</div>\"))\n",
    "\n",
    "# Widgets para seleccionar métodos de imputación, eliminación de outliers y estandarización\n",
    "metodo_imputacion = widgets.Dropdown(\n",
    "    options=['mean', 'median', 'most_frequent', 'constant'],\n",
    "    value='median',\n",
    "    description='Método de Imputación:',\n",
    "    style={'description_width': 'initial'},\n",
    "    layout=widgets.Layout(width='400px')\n",
    ")\n",
    "\n",
    "metodo_outliers = widgets.Dropdown(\n",
    "    options=['zscore', 'iqr'],\n",
    "    value='zscore',\n",
    "    description='Método de Outliers:',\n",
    "    style={'description_width': 'initial'},\n",
    "    layout=widgets.Layout(width='400px')\n",
    ")\n",
    "\n",
    "metodo_estandarizacion = widgets.Dropdown(\n",
    "    options=['standard', 'minmax'],\n",
    "    value='standard',\n",
    "    description='Método de Estandarización:',\n",
    "    style={'description_width': 'initial'},\n",
    "    layout=widgets.Layout(width='400px')\n",
    ")\n",
    "\n",
    "valor_constante = widgets.FloatText(\n",
    "    value=0.0,\n",
    "    description='Valor Constante:',\n",
    "    style={'description_width': 'initial'},\n",
    "    layout=widgets.Layout(width='400px'),\n",
    "    disabled=True\n",
    ")\n",
    "\n",
    "def actualizar_valor_constante(*args):\n",
    "    if metodo_imputacion.value == 'constant':\n",
    "        valor_constante.disabled = False\n",
    "    else:\n",
    "        valor_constante.disabled = True\n",
    "\n",
    "metodo_imputacion.observe(actualizar_valor_constante, 'value')\n",
    "\n",
    "# Botón para ejecutar el preprocesamiento\n",
    "boton_ejecutar = widgets.Button(description=\"Ejecutar Preprocesamiento\",\n",
    "                                button_style='success',\n",
    "                                layout=widgets.Layout(width='400px', height='40px'))\n",
    "\n",
    "# Función para ejecutar el preprocesamiento al presionar el botón\n",
    "def on_button_clicked(b):\n",
    "    global df  # Asegurarse de que está usando el DataFrame global `df`\n",
    "    if df is not None:\n",
    "        preprocesar_dataframe(df, metodo_imputacion.value, metodo_outliers.value, metodo_estandarizacion.value, valor_constante.value)\n",
    "\n",
    "boton_ejecutar.on_click(on_button_clicked)\n",
    "\n",
    "# Mostrar widgets y botón de ejecución con estilo\n",
    "display(HTML(\"<style>.widget-label { font-size: 16px; font-weight: bold; color: #2E7D32; }</style>\"))\n",
    "display(metodo_imputacion, metodo_outliers, metodo_estandarizacion, valor_constante, boton_ejecutar)\n"
   ]
  },
  {
   "cell_type": "markdown",
   "metadata": {},
   "source": [
    "<div style='font-size: 16px; color: #4CAF50; font-family: Arial, sans-serif;'>\n",
    "  <div class=\"alert alert-block alert-info\">\n",
    "    <h1 style='color: #388E3C;'>Análisis Exploratorio de Datos (EDA)</h1>\n",
    "    <h3 style='color: #2E7D32;'>Subtema 3.2: Análisis Estadístico</h3>\n",
    "    <p>En esta sección, se implementan varias funciones para realizar análisis estadísticos del DataFrame, proporcionando estadísticas descriptivas, identificación de valores atípicos, verificación de supuestos de normalidad y homogeneidad de varianza, así como análisis de correlación y regresión.</p>\n",
    "    <ul>\n",
    "      <li>Generación de estadísticas descriptivas: Resumen estadístico de las variables del DataFrame.</li>\n",
    "      <li>Detección y manejo de valores nulos: Identificación y manejo de valores nulos mediante imputación.</li>\n",
    "      <li>Identificación de outliers: Detección de valores atípicos utilizando el método del IQR.</li>\n",
    "      <li>Verificación de normalidad: Pruebas de normalidad de Kolmogorov-Smirnov para columnas numéricas.</li>\n",
    "      <li>Verificación de homogeneidad de varianza: Pruebas de Bartlett para evaluar la homogeneidad de varianza.</li>\n",
    "      <li>Análisis de correlación: Cálculo de la matriz de correlación entre las variables numéricas.</li>\n",
    "      <li>Distribución de frecuencias: Cálculo de la distribución de frecuencias para variables categóricas.</li>\n",
    "      <li>Análisis de varianza (ANOVA): Evaluación de diferencias entre grupos categóricos y numéricos.</li>\n",
    "      <li>Prueba de Chi-Cuadrado: Evaluación de la independencia entre variables categóricas.</li>\n",
    "      <li>Análisis de componentes principales (PCA): Reducción de dimensionalidad mediante PCA.</li>\n",
    "      <li>Prueba de T de Student: Comparación de medias entre dos grupos.</li>\n",
    "      <li>Análisis de regresión lineal: Evaluación de la relación entre variables dependientes e independientes.</li>\n",
    "      <li>Análisis de clústeres (K-Means): Agrupación de datos utilizando el algoritmo K-Means.</li>\n",
    "      <li>Análisis de distribución: Visualización de la distribución de una columna numérica.</li>\n",
    "      <li>Análisis de correlación de Pearson, Spearman y Kendall: Evaluación de la relación entre dos variables numéricas.</li>\n",
    "      <li>Análisis de regresión logística: Evaluación de la relación entre variables independientes y una variable dependiente binaria.</li>\n",
    "      <li>Análisis de componentes independientes (ICA): Separación de señales mezcladas mediante ICA.</li>\n",
    "    </ul>\n",
    "  </div>\n",
    "</div>\n",
    "\n",
    "<div style='font-size: 16px; color: #4CAF50; font-family: Arial, sans-serif;'>\n",
    "  <div class=\"alert alert-block alert-info\">\n",
    "    <h3 style='color: #2E7D32;'>Ventajas del Análisis Estadístico</h3>\n",
    "    <ul>\n",
    "      <li><strong>Detección de Patrones:</strong> Identifica patrones y relaciones entre variables, proporcionando información valiosa para la toma de decisiones.</li>\n",
    "      <li><strong>Manejo de Datos Faltantes:</strong> Imputa valores faltantes, asegurando la integridad de los datos para el análisis posterior.</li>\n",
    "      <li><strong>Identificación de Outliers:</strong> Detecta y maneja valores atípicos, mejorando la calidad del análisis y los modelos predictivos.</li>\n",
    "      <li><strong>Evaluación de Supuestos:</strong> Verifica supuestos estadísticos clave como la normalidad y homogeneidad de varianza, asegurando la validez de las pruebas estadísticas.</li>\n",
    "      <li><strong>Reducción de Dimensionalidad:</strong> Simplifica el análisis y mejora la eficiencia computacional mediante técnicas como PCA y ICA.</li>\n",
    "      <li><strong>Automatización del Análisis:</strong> Proporciona un conjunto de funciones automatizadas que facilitan y agilizan el análisis estadístico.</li>\n",
    "      <li><strong>Visualización de Datos:</strong> Genera visualizaciones claras y concisas que ayudan a interpretar y comunicar los resultados del análisis.</li>\n",
    "    </ul>\n",
    "  </div>\n",
    "</div>\n"
   ]
  },
  {
   "cell_type": "code",
   "execution_count": 6,
   "metadata": {},
   "outputs": [
    {
     "data": {
      "text/html": [
       "\n",
       "<style>\n",
       "    .widget-label {\n",
       "        font-size: 16px !important;\n",
       "        color: #2E7D32 !important;\n",
       "    }\n",
       "    .widget-dropdown, .widget-text {\n",
       "        width: 50% !important;\n",
       "        font-size: 14px !important;\n",
       "    }\n",
       "    .widget-button {\n",
       "        background-color: #2E7D32 !important;\n",
       "        color: white !important;\n",
       "        font-size: 16px !important;\n",
       "    }\n",
       "</style>\n"
      ],
      "text/plain": [
       "<IPython.core.display.HTML object>"
      ]
     },
     "metadata": {},
     "output_type": "display_data"
    },
    {
     "data": {
      "application/vnd.jupyter.widget-view+json": {
       "model_id": "8cc4db0436634c13bb96d95de3e12a7e",
       "version_major": 2,
       "version_minor": 0
      },
      "text/plain": [
       "Dropdown(description='Tipo de gráfico:', layout=Layout(width='50%'), options=('Distribución', 'Regresión Linea…"
      ]
     },
     "metadata": {},
     "output_type": "display_data"
    },
    {
     "data": {
      "application/vnd.jupyter.widget-view+json": {
       "model_id": "5e84561fbc414335991448f0e1b08469",
       "version_major": 2,
       "version_minor": 0
      },
      "text/plain": [
       "Dropdown(description='Columna X:', layout=Layout(width='50%'), options=('RowNumber', 'CustomerId', 'Surname', …"
      ]
     },
     "metadata": {},
     "output_type": "display_data"
    },
    {
     "data": {
      "application/vnd.jupyter.widget-view+json": {
       "model_id": "ed571b4c89ae46f193021a153524d32d",
       "version_major": 2,
       "version_minor": 0
      },
      "text/plain": [
       "Dropdown(description='Columna Y:', layout=Layout(width='50%'), options=(None, 'RowNumber', 'CustomerId', 'Surn…"
      ]
     },
     "metadata": {},
     "output_type": "display_data"
    },
    {
     "data": {
      "application/vnd.jupyter.widget-view+json": {
       "model_id": "7c384c83352f4f3cb01cfe2cc89440f5",
       "version_major": 2,
       "version_minor": 0
      },
      "text/plain": [
       "Button(button_style='success', description='Ejecutar Análisis', layout=Layout(width='50%'), style=ButtonStyle(…"
      ]
     },
     "metadata": {},
     "output_type": "display_data"
    },
    {
     "name": "stderr",
     "output_type": "stream",
     "text": [
      "Procesando análisis estadístico:   0%|          | 0/100 [00:00<?, ?%/s]"
     ]
    },
    {
     "data": {
      "text/html": [
       "<h3 style='color: #2E7D32;'>Estadísticas Descriptivas</h3>"
      ],
      "text/plain": [
       "<IPython.core.display.HTML object>"
      ]
     },
     "metadata": {},
     "output_type": "display_data"
    },
    {
     "data": {
      "text/html": [
       "<div>\n",
       "<style scoped>\n",
       "    .dataframe tbody tr th:only-of-type {\n",
       "        vertical-align: middle;\n",
       "    }\n",
       "\n",
       "    .dataframe tbody tr th {\n",
       "        vertical-align: top;\n",
       "    }\n",
       "\n",
       "    .dataframe thead th {\n",
       "        text-align: right;\n",
       "    }\n",
       "</style>\n",
       "<table border=\"1\" class=\"dataframe\">\n",
       "  <thead>\n",
       "    <tr style=\"text-align: right;\">\n",
       "      <th></th>\n",
       "      <th>RowNumber</th>\n",
       "      <th>CustomerId</th>\n",
       "      <th>CreditScore</th>\n",
       "      <th>Age</th>\n",
       "      <th>Tenure</th>\n",
       "      <th>Balance</th>\n",
       "      <th>NumOfProducts</th>\n",
       "      <th>HasCrCard</th>\n",
       "      <th>IsActiveMember</th>\n",
       "      <th>EstimatedSalary</th>\n",
       "      <th>Exited</th>\n",
       "    </tr>\n",
       "  </thead>\n",
       "  <tbody>\n",
       "    <tr>\n",
       "      <th>count</th>\n",
       "      <td>10000.00000</td>\n",
       "      <td>1.000000e+04</td>\n",
       "      <td>10000.000000</td>\n",
       "      <td>10000.000000</td>\n",
       "      <td>9091.000000</td>\n",
       "      <td>10000.000000</td>\n",
       "      <td>10000.000000</td>\n",
       "      <td>10000.00000</td>\n",
       "      <td>10000.000000</td>\n",
       "      <td>10000.000000</td>\n",
       "      <td>10000.000000</td>\n",
       "    </tr>\n",
       "    <tr>\n",
       "      <th>mean</th>\n",
       "      <td>5000.50000</td>\n",
       "      <td>1.569094e+07</td>\n",
       "      <td>650.528800</td>\n",
       "      <td>38.921800</td>\n",
       "      <td>4.997690</td>\n",
       "      <td>76485.889288</td>\n",
       "      <td>1.530200</td>\n",
       "      <td>0.70550</td>\n",
       "      <td>0.515100</td>\n",
       "      <td>100090.239881</td>\n",
       "      <td>0.203700</td>\n",
       "    </tr>\n",
       "    <tr>\n",
       "      <th>std</th>\n",
       "      <td>2886.89568</td>\n",
       "      <td>7.193619e+04</td>\n",
       "      <td>96.653299</td>\n",
       "      <td>10.487806</td>\n",
       "      <td>2.894723</td>\n",
       "      <td>62397.405202</td>\n",
       "      <td>0.581654</td>\n",
       "      <td>0.45584</td>\n",
       "      <td>0.499797</td>\n",
       "      <td>57510.492818</td>\n",
       "      <td>0.402769</td>\n",
       "    </tr>\n",
       "    <tr>\n",
       "      <th>min</th>\n",
       "      <td>1.00000</td>\n",
       "      <td>1.556570e+07</td>\n",
       "      <td>350.000000</td>\n",
       "      <td>18.000000</td>\n",
       "      <td>0.000000</td>\n",
       "      <td>0.000000</td>\n",
       "      <td>1.000000</td>\n",
       "      <td>0.00000</td>\n",
       "      <td>0.000000</td>\n",
       "      <td>11.580000</td>\n",
       "      <td>0.000000</td>\n",
       "    </tr>\n",
       "    <tr>\n",
       "      <th>25%</th>\n",
       "      <td>2500.75000</td>\n",
       "      <td>1.562853e+07</td>\n",
       "      <td>584.000000</td>\n",
       "      <td>32.000000</td>\n",
       "      <td>2.000000</td>\n",
       "      <td>0.000000</td>\n",
       "      <td>1.000000</td>\n",
       "      <td>0.00000</td>\n",
       "      <td>0.000000</td>\n",
       "      <td>51002.110000</td>\n",
       "      <td>0.000000</td>\n",
       "    </tr>\n",
       "    <tr>\n",
       "      <th>50%</th>\n",
       "      <td>5000.50000</td>\n",
       "      <td>1.569074e+07</td>\n",
       "      <td>652.000000</td>\n",
       "      <td>37.000000</td>\n",
       "      <td>5.000000</td>\n",
       "      <td>97198.540000</td>\n",
       "      <td>1.000000</td>\n",
       "      <td>1.00000</td>\n",
       "      <td>1.000000</td>\n",
       "      <td>100193.915000</td>\n",
       "      <td>0.000000</td>\n",
       "    </tr>\n",
       "    <tr>\n",
       "      <th>75%</th>\n",
       "      <td>7500.25000</td>\n",
       "      <td>1.575323e+07</td>\n",
       "      <td>718.000000</td>\n",
       "      <td>44.000000</td>\n",
       "      <td>7.000000</td>\n",
       "      <td>127644.240000</td>\n",
       "      <td>2.000000</td>\n",
       "      <td>1.00000</td>\n",
       "      <td>1.000000</td>\n",
       "      <td>149388.247500</td>\n",
       "      <td>0.000000</td>\n",
       "    </tr>\n",
       "    <tr>\n",
       "      <th>max</th>\n",
       "      <td>10000.00000</td>\n",
       "      <td>1.581569e+07</td>\n",
       "      <td>850.000000</td>\n",
       "      <td>92.000000</td>\n",
       "      <td>10.000000</td>\n",
       "      <td>250898.090000</td>\n",
       "      <td>4.000000</td>\n",
       "      <td>1.00000</td>\n",
       "      <td>1.000000</td>\n",
       "      <td>199992.480000</td>\n",
       "      <td>1.000000</td>\n",
       "    </tr>\n",
       "  </tbody>\n",
       "</table>\n",
       "</div>"
      ],
      "text/plain": [
       "         RowNumber    CustomerId   CreditScore           Age       Tenure        Balance  NumOfProducts    HasCrCard  IsActiveMember  EstimatedSalary        Exited\n",
       "count  10000.00000  1.000000e+04  10000.000000  10000.000000  9091.000000   10000.000000   10000.000000  10000.00000    10000.000000     10000.000000  10000.000000\n",
       "mean    5000.50000  1.569094e+07    650.528800     38.921800     4.997690   76485.889288       1.530200      0.70550        0.515100    100090.239881      0.203700\n",
       "std     2886.89568  7.193619e+04     96.653299     10.487806     2.894723   62397.405202       0.581654      0.45584        0.499797     57510.492818      0.402769\n",
       "min        1.00000  1.556570e+07    350.000000     18.000000     0.000000       0.000000       1.000000      0.00000        0.000000        11.580000      0.000000\n",
       "25%     2500.75000  1.562853e+07    584.000000     32.000000     2.000000       0.000000       1.000000      0.00000        0.000000     51002.110000      0.000000\n",
       "50%     5000.50000  1.569074e+07    652.000000     37.000000     5.000000   97198.540000       1.000000      1.00000        1.000000    100193.915000      0.000000\n",
       "75%     7500.25000  1.575323e+07    718.000000     44.000000     7.000000  127644.240000       2.000000      1.00000        1.000000    149388.247500      0.000000\n",
       "max    10000.00000  1.581569e+07    850.000000     92.000000    10.000000  250898.090000       4.000000      1.00000        1.000000    199992.480000      1.000000"
      ]
     },
     "metadata": {},
     "output_type": "display_data"
    },
    {
     "data": {
      "text/html": [
       "<div style='color: green; font-size: 18px;'>Detección de valores nulos completada exitosamente.</div>"
      ],
      "text/plain": [
       "<IPython.core.display.HTML object>"
      ]
     },
     "metadata": {},
     "output_type": "display_data"
    },
    {
     "data": {
      "text/plain": [
       "RowNumber            0\n",
       "CustomerId           0\n",
       "Surname              0\n",
       "CreditScore          0\n",
       "Geography            0\n",
       "Gender               0\n",
       "Age                  0\n",
       "Tenure             909\n",
       "Balance              0\n",
       "NumOfProducts        0\n",
       "HasCrCard            0\n",
       "IsActiveMember       0\n",
       "EstimatedSalary      0\n",
       "Exited               0\n",
       "dtype: int64"
      ]
     },
     "metadata": {},
     "output_type": "display_data"
    },
    {
     "name": "stderr",
     "output_type": "stream",
     "text": [
      "Procesando análisis estadístico:  10%|█         | 10/100 [00:00<00:00, 95.19%/s]"
     ]
    },
    {
     "data": {
      "text/html": [
       "<div style='color: red; font-size: 18px;'>Ocurrió un error: Could not convert [\"HargraveHillOnioBoniMitchellChuBartlettObinnaHeH?BearceAndrewsKayChinScottGoforthRomeoHendersonMuldrowHaoMcDonaldDellucciGerasimovMosmanYenMacleanYoungNebechiMcWilliamsLuccianoAzikiweOdinakachukwuSandersonMaggardClementsLombardoWatsonLorenzoArmstrongCameronHsiaoClarkeOsborneLavineBianchiTylerMartinOkagbueYinBucchoChidiebeleTrevisaniO'BrienParkhillYooPhillippsTsaoEndrizziT'ienVelazquezHunterClarkJeffreyPirozziJacksonHammondBrownlessChibugoGlauertPisanoKonovalovaMcKeePalermoBallardWallaceCavenaghHuReadBushellPostleBuleyLeonardMillsOnyeoruluBeitNdukakuGantRowleySharpeOsborneHeapRitchieColeCaponCaponFiorentiniGrahamYuilleAllardFanucciFuHungHungBradleyDunbabinMauldonStigerParsonsWalkomT'angEremenkoRowntreeThorpeChiemelaFanucciKoWelchDuncanChidozieWuCulbrethKennedyCameronCalabresiZetticciFullerMacDonaldPiccioKennedyFernieHeKaodilinakachukwuCocciAlekseevaChinweikeArthurLiMaChiaVasinGrovesTienForwoodGreevesTaylorMadukweBennelongOlisanugoChukwufumnanyaHarrisMorganAlexeevaMetcalfeHumphriesMilneChouLiClaytonMacleanChigolumWilkinsonWeiTreacyHuTavernerShermanTaubmanRobinsonPintoWoodHawkinsSunYostTingRoweFuHoOkechukwuCampbellAshboltRozierHsiaOgbonnayaT'angCocciChangT'aoFordMarshallTsaiOnwumeluGrahamGolovanovPottsCrawfordAleshireMoranSamsonovaJenkinsVolkovChiemezieJudeHeOnuoraGinikanwaKuMcDonaldCollinsHackettDikeTrevisanoTanGlassmanMillerKornilovaWatsonMarchesiMillarShihFullerHayYangMcIntyreStevensonPooleBagleyCh'ienCattaneoO'SullivanLucasRingroseFreemanSergeyevFioreSmithDumetochukwuPachecoSynnotJohnstonStevensGrantTsaoBarnesMcIntoshMadisonIfesinachiGlazkovDimauroWieckLiaoHughesMorrisonMatveyevaKuCheathamYaoKirklandRoseJessWelchIfeajunaMortonRossiReppertKangCh'iuWallisClarkFieldingZetticciDulhuntyBevingtonBoyleNewtonBowmanDubininaToscaniChiazagomekpereAllenK'ungWilsmoreHargreavesHuangCh'ienWallworkChuKangDavidsonO'DonnellNnachetamChidiebeleAhmedBoothChuangShaoTsaoTienChangJohnsonFrenchEfremovHartleyCalabreseChiuBrennanOnwuatuegwuHewittShihBalashovDoylePokrovskiiCollinsRussoSkinnerRobertsonAtkinsonDoyleRitchieMcEncroePearsonGordonTs'aiLungYuanPardeyTaiScottHunterMazzantiL?BeachHsiehFaulknerKnowlesDayHsuehTsaoKennedyNwabugwuYoungKerrTienMarreroWhitePisanoBrownFreemanRussellSeleznyovYusupovaFoleyShihIkedinachukwuPowerAmosReedSimmonsRicciYenCampbellWestRobinsonBianchiChenMadukaegoIbrahimovaNolanScottBlairMonaldoSutherlandColeBriggsGregoryBianchiAngeloGardinerKerrKoDistefanoFarrellMilanoTingBoydOnyemaechiBlackOliverGrecoWhiteheadIkemefunaMorrisonOnyeoruruCunninghamDemidovCelisChengKnightMorinMillsOuthwaiteTungPaiCarpenterFennellFontainePrattMitchellFranklinK'ungKoMcKenziePinoFiskChiangMoseleyHsiungHeathDellucciLiDe SalisT'angRichardsonFitchStevensonEstesLattimoreChungUtzWeiBoyleNwachinemeluKuznetsovaPisaniMannaCollierRicciCarrHs?FindlayHughesChukwuemekaGenoveseSwiftUgojiParkinsonRossOlearyTurnbullUspenskyCookNewboldUchechukwuCh'enHeHiltonSalEluemunoTitusYinLettiereTemplemanChibuzoSunEvansOgbonnayaEnyinnayaOlisanugoBrookesPadovanoFiskShihHareMuirFanucciElewechiJohnstonPisanoAnkudinovNwokikeSmithAtkinsBurnsObiutoPirozziGeorgeLewisMoranDalrympleCarslawKirbyHoughtonMartinTanHsiaWesterbergHaleKryukovaSopuluchukwuBarrySeleznevaChizuokeLueckUdineseUdobataFreemanOutlawObiutoLoOkechukwuKingForbesMacleodGibbsIsayevPisanoBelsteadVassilievSchneiderMazzantiKnipeMacartneyMadukweWattsHumphreysWuChinChesnokovaKungLuNkemakolamWaltonBrookesBaldwinMaiShihHeFiorentiniLuccianoFerreiraUkaegbunamDe LucaMilneDavideKodilinyechukwuLittleBurnsPatersonHanKryukovaIjenduReichardDayPriceBruceSumrallLuLazarevMillerWentworth-ShieldsRitchieMackenziePowerTanPendergrassEvansHsiaBillsonTengMorettiJordanTs'aoOsborneCarslawCh'angHungGordonObialoGrayLinHopkinsDobsonMcKayRevellRickardsBegumOnyinyechukwukaZuyevNwankwoHaoMaOkwuadigboMitchellChanBuchiGrecoLombardiUchennaCoffmanAlexandrovaFallaciHudsonMaiStoutBurkeChadwickLawrenceBellucciHarperBoyleDuncanMossAvdeyevaCrawfordLyntonDuncanGetherDavidsonLarionovaLoggiaSteinhoffGuerraPaiCraigLazarevaCh'iuAldereteKungPalermoTs'aiRahmanMcMillanPickeringMiramsTsaoDouglasJideoforBellMairingerMcIntyrePagnottoK'ungFengDonaldsonChambersMarceloEjimoforDalePokrovskyStonebrakerLiangAndersonChristianMaoCampbellGinikanwaToscaniNnachetamSageseFlemingGrubbNapolitaniAnenechiChandlerHowellsAkeroydOnwumeluWallaceUwaezuokeLoyauSmallBledsoeKaoWickensWertheimHeJarvisP'anRepinaPugliesiBlakeyNucciHiginbothamAchebeRussoTrevisaniDobieMaccallumWatkinsMitchelFerdinandOtitodilinnaMameluBeneventiPerrodinChinagoromNapolitanoEdgarWalkerSteeleElkinsHaoToscanoSavageOkwuadigboMordvinovaWelchKentCampbellCooperMazziFisherSummersBradyNichollsYuanRobinsonGolubovChenOldhamKambinachiFlemingCunninghamObinnaChinwemmaCarpenterYinOlsenTs'aiJenPrestonOziomaCodyPonomarevMartinMilaniTangRomaniMcIntyreDavisOnyemauchechukwuGellRossiChiweteluKirillovaShawSmithHsiehOnyemauchechukwuMartinOkwudilichukwuOnuohaMueckeHsiehAndersonAzubuikeNnonsoFullerAshleyTs'uiBucchoChidozieMacleanBurnsChuKenennaBeluchiWilliamsonBobrovKerrMcKenziePittsStandishCartwrightJohnstoneNikitinaMcElroyShenArcherOtutodilinnaShihDenisovOwensP'engVercoBergamaschiLorenzoOuttrimHouGalkinPagnottoEchezonachukwuYoungSummersMunroBrennanBallVirgoTrevisaniPadovanoTaoPerezFraserAlleyHowellsCameronHooperRiceCoxMartinIkennaDavideAlexanderPiazzaNiBlackHarkerHughesChiabuotuKuoGallagherCalabresiShawZhirovLloydPalmerCh'engAventHuangShawYuanHawkinsTrentiniCameronKoehlerWuMannaOkoliCh'engNwokezuikeArtemievEspositoAbbieFanucciJenMossLoAveryanovUnaiponClampLimWuWanChambersPettitBaresiNewberyIheanachoDuncanBarryLandryMcGregorNucciPirogovOguejioforUgochukwuRohuCaryO'LoghlenQuinnPageEvansMcGregorAndrewsStanleyChiazagomekpereChidiebeleGregoryBednallJenSheSimmonsFraserMaySeabrookHerreraKincaidSleemanHungArtemievaBarwellWrightBellucciMooreBallSungMelloMistryT'ienFallaciHillBurnsHunterLiKuCh'enChukwukadibiaZikoranachidimmaOluchukwuRiveraNiuBennettWollstonecraftThomsenPalermoChinwenduMcKenzieJamesLambOlejuruHayLuChiawuotuYeatesGallagherHeathTs'aiThurgoodPaiLorenzoKnuppBaryshnikovAzubuikeShephardScottWilliamsonAvdeevaTangHsuBuchananYehPalazziY?anLinSchofieldLombardiWallMilaniEjimoforBlackburnWickhamBirdCh'enWoodBrizendineCh'inYusupovJibunohTs'uiNdukakuWilderMacleanCh'iuCoxNepeanMcNessColesBensonGilbertWilhelmSinclairL?BucknerPadovesiGrayLuWrightPalermaY?anWeiPadovesiTsaoFranklinClarkMcGregorPanKenniffSpencerLeesDavidHsingBurkeWatsonHawkinsGinnSozonovSunHunterManfrinArtamonovaHansenPaiLarsenOwenMurphyEkechukwuAyersJohnsonMillarFarrellSandersHerreraEberechukwuBardinNwankwoTalbotMcGregorOnyeoruluGooldZikoranaudodimmaGarnerOnyinyechukwukaGenoveseMaiMarshallNaylorPintoFultonPalermaMcCaffreyCollinsZuevCrawfordGenoveseMacleanFabroPriceChatfieldVolkovaArcherCh'iuMcKayCraigAbramovichChienTimmsWillifordHamiltonChengSuMcKenzieAkobunduKoMarceloChukwuebukaMacDonaldLampungmeiuaTaiEnyinnayaMcKenzieKlineMaWoodRiggsCaponSmithDavisonIngramDilkeGibsonIadanzaHebertPintoDumetochukwuRossJamiesonChiganuBurgessChengWoodsLiangBluettChapmanAndrejewUdobataEjimoforSpyerWalkerPalermoPhilipFallaciPerryHendersonBergamaschiFokineMackayWuMaslovaWeiMcLeanSungPatersonFanucciThompsonTisdallOnochieMironovaNdubuezeStephensonGolubevLiaoMullanGloverNortheyPatersonMacleanHowardeTengColmanJohnsonButcherStanleyJacksonHuHillPanHanWilkieBrayAnnSouterGrecoMaoAndersonMaBlackMedvedevaBensonDuncanOnwudiweMitchellFerrariRussoHazonHendersonHardyPiccioDicksonHoldenHsiehDohertyPageSamuelMalloyFittsIadanzaWuYefimovaPanTs'uiLiangTsaoAbramovMillarDemuthGenoveseLawlessBrooksIgnatyevaBalmainMillarEcuyerParkhillLi FontiBeneventiDespeissisAtkinsWilliamsWrightHancockHsiehWilkinsLongoManciniMadukaegoWinter-IrvingStewartGrantBrennanSheMurrayRischbiethLungOtutodilichukwuThomasFiorentiniHughesWhitworthMcIntoshAyersTrentinoBoydMcMastersAlekseyevaMillerBaranovaMitchellYobachiHuangGenoveseSorokinaGrayErvinVanceNobleMilanesiParkinCremonesiBurnsDochertyUgonnaL?BevanHsiaO'NeillJohnstonePhamBergamaschiMurphyOsinachiMuravyovIgwebuikeZackCrawfordChidiegwuLucchesiPanTrevisaniYudinWadeChungSeptimusHargravesChukwukadibiaSidorovBuntonCameronKungHayContiSimsCarterMcGregorLoChuDumetolisaPengDrake-BrockmanWanCameronTretiakovBallSalChungLaiGetherDavidsonJusticeOsonduagwuikeEwingChinChiangAhmedMarshallTsouChienUbanwaKapustinCalabresiHsiaoGrantH?ChiaUgojiGregoryMackayNnamutaezinwaFindlayFerriKuAmechiKirkAndrewsMurrayGriffinLongstaffMcWilliamCoffeeHancockClarkCreswellDoddsEwenCarterCh'iuTsaoBurgessFanucciBlackburnBennettBoniwellVasilievaLongoKwemtoLawrenceDuncanBocharovaMorresShihVogelT'anWisdomLorenzoShahanBryantLiangChidozieHaywardLiuAlexeevaCalabresiLettiereChouNnamutaezinwaNnamutaezinwaGreeceYinLarionovaGolubevNormanCaponChukwudiFedorovAvdeevaReidKennedyChanWoffordMaiKingT'aoHsuWhiteStephensFrolovLombardiMunroHaywardFieldsOnwumeluSuffolkTsaoJuddHamiltonT'angDegtyarevKangHudsonJibunohKinlawChizuokeLuccianoOmeokachieGorbunovaTikhonovCampaManciniDonoghueTuanJohnstoneRomaniFullerBaxterPirozziSungRogersMillsOsonduagwuikeByrneMcIntyreAitkenMacintyreSimpsonSimpsonMetcalfeLeesZetticciDaleByrnePraedLaurensWoodsBykovVorobyovaPirogovaSturtPanicucciCookHardyChuFranklinP'engChiangGrantUdobataSicilianiEvansYoungMitchellLuccheseHewittK'ungSwaimQuinonesKennedyEndrizziLudowiciLarsonChigolumMacleanLuTuanGloverLandmanTrevisanoLongoK?MuirAlexeyevaNormanSimmonsChukwualukaMcCallMooreIngramOkekeShaoIloabuchiNebechukwuDiribeMacgroartyArtemovaMcDonaldMazzantiKellyDavisonReillyOjioforSheltonLangeTrentiniGardinerWanHsuHovellZhirovEspinosaWallaceBarbourOzerovaWrightUlyanovaSteinerAkabuezeAleksandrovaPintoGriffithsMcNeilBrunoJohnsonOkorieMoenMcGuiganFancherMatthewsKaeppelShihYudinaAkabuezeKornilovaOziomaSuJamisonEspositoHardimanWoodardChienezieOkwuadigboChinezeO'BrienTaoMaoBucklandFlanneryJamiesonSwiftDohertyPayneGenoveseLuccianoRowleyHsingVincentPearceLambRileyHonoreBlackburnEndrizziDuncanMacarthurGouldMedvedevSholesShawTs'aiRolonReidChinwenduFuMackenzieBlighDavidsonLambleMooreJoseTrevisaniSchofieldStewartJamiesonHowardOnwuamaezeD'AlbertisBrooksGordonNwachukwuChinweikeSimpkinsonWalkerDiribeTrentiniConwayMaslowClarkL?SwadlingGalloOnyemachukwuSamoylovaDicksonHeP'anLeakArtemievaFrostWarnerKennedyIfeatuEvansChuHsuehShihFanWhiddonOnyekachukwuErmakovaMarinoNiuMannaOnyemereArcherMitchellEveringhamHuieCrowtherSwiftSkeltonWhiteGiordanoBatesonHuDayBeneventiElizabethAtkinsSerranoWillisStevensonCh'ienCunninghamStephensGordonBevanMashmanTuMilanesiRomanoGoliweHsuehGrayWrightChiemekaChungPintoKellwaySopuluchiSpitzerPotterMatthewsNichollsMcDonaldFiorentiniKovalyovaMiahBuilderBaddeleyHuHs?FordToddJohnstonObiajuluAzubuikePadovesiFarmerIgnatieffLuArtemievOkonkwoDoreT'angAshboltBazarovaBucchoBurnAndreyevEndrizziBrownNockOkekeCunninghamKelleyWilsonWoodsMcFarlandCisnerosBorchgrevinkRozhkovaBradleyObialoHudsonVeltriMazzantiThorpeGolibeUdinesiStewartCurtisHaydenH?CampbellGreenP'engCremonesiLiangGoughBatesPadovesiYinKharlamovNichollsBurnsFlemingWatsonObiajuluHanFergusonTaoLe GrandValdezCunninghamGodfreyMaiWalkerPirozziFengAkabuezeRobsonYevdokimovaIjenduColomboAkubunduFrancisMarshallRhodesY?BellKerrJideoforRobertsonKaoPalmerMackayBurgmannDavisMilanoDellucciColesGrayMacvitieTownsendPopeJensenThomsonChiazagomekpeleOzuluonyeWrightLungLombardoLeonardJohnstonP'engAmechiFangDochertyHortonVincentOnioSchiavoneChandlerFiorentinoButusovWangAlexeievaVinogradovaHughesTs'aoBageYudinaNaquinEndrizziTangSchroederSwearingenMcGregorOnyeoruluClarkeSmithKozlovaNekrasovOlagueHoltOlsenMazziNiuGrahamMillarBellKellyT'anDavilaWillisDumetochukwuGilesO'MearaYaoWallaceT'ienNdubuezeChukwuraenyeK'ungStevensonMarshallHaywardTiptonGibsonFraserFangDubininaMoreyToddForbesDe SalisBarryAfamefunaIbbottMarshallLawPintoChinedumMcKayOtutodilinnaShePaiKruglovChinKingHansenTingStoneMcLeanZikoranachidimmaFuTrevisanoFallaciWileyChiagoziemMurrayChuangHuangChukwukereHsiaLeeTheusJenningsParkerTanBarryTuanPattersonOfodileChandlerNashAtkinsonBrenanObidimkpaTerrySpringMahmoodCampbellBellucciAmaechiFoxallBentleyBairdHowardHenrySopuluchukwuRocherWhiteKomarRussoLoewenthalAliyevaMontesKuoChengMcIntoshT'aoTyndallBaileyOnyekaozuluNwachukwuRomaniChinBellucciChristmasMooreGenovesiCartwrightJohnstoneWarnerStephensonEllisNebechiChuOnuchukwuSteeleQuaifeScottYehY?ContiHolderBurgessOzuluonyeDe LucaLi FontiFreemanPisaniIgnatieffLahtiPerkinsConwayHayesRizzoKrylovLi FontiTalbotMatthiasBoyleCh'engMasonBrunoSmeatonMillerGotchFuO'TooleLedfordIadanzaAlanizSaundersLinPintoStreeterShawChenBarclayKodilinyechukwuOtitodilichukwuMcKenzieWoodsHsingWheareYobachiFangPearsonBrownL?PadovesiSotoGrecoGiordanoBogleGrimmettAyersMillerWebbLombardiWeiRossJideoforKingNwokeochaHumphriesOlisaemekaYobannaCh'iuFlemingTrevisanAleksandrovaOnwuamaezeKnoxChiaTownsendDikeMoyesBeaversTretiakovaFullerDellucciRitchieAikenheadDouglasKungMacDonaldOkwudilichukwuNiSimmonsH?HancockCranMcKayP'anParkhillGolubovaNwankwoJohnsonMaoEchezonachukwuMcElyeaRosasPhillipsPalermaMorrisPavlovaLuYamamotoAngeloZaitsevCawkerFroggattGorbunovTaiRoweMikkelsenKovalyovMbanefoTs'aiEnderbyLombardiHamiltonHsiaMaoUgochukwuWestHughesChukwuemekaLiraLiCastiglionePatersonBlairDellucciUdinesiYuanYuryevaWilsonDeanRossKentVasilievGolibeChukwukereFedorovaChienRossiSamsonFentonMackeyPaytonCowgerBanksPugliesiFantinBentleyFreemanWongOnwuamaezeShenHuangYehShihHendersonFangDellucciChouContiRobertsLo DucaGloverJohnstoneAshtonMeltonMarshallKenennaZakharovChukwualukaChuCaponCattaneoPatrickTaylorStephensonYehDeRoseVavilovBrowneCollingridge de TourceyRoweJibunohKorovinHammondsWardOlisanugoGallopGartrellK'ungOluchiJamiesonBarlowWhiteStewartBucchoBensonThompsonToddBurginNnaifeOkwudiliolisaJohnsonParkesLoMartinKapustinaPageAmaechiMunroPanicucciGreathouseTs'uiNapolitaniBeersTretyakovaLinCostaIbezimakoMarceloHayMooreLumholtzSimpsonHillMouzonWuPirozziIbeabuchiGarnseySynnotWildmanAnenechukwuTaiPlantAzubuikeGalkinJohnstonBabbageWalkerRiceNortonBogolyubovGibbonsChiaSmithHunterEkechukwuBellucciFordScottGregsonMooreWallaceCookSpethBoagGraveStreetenFoxArtemyevaGiordanoPerkinsWaltonHayGardnerMilneSheHuUwakweBirdAndersonBellewCocciKrichauffCameronBeckerAinsworthBiryukovReddingWoodScottGouldHaoPowerWhiteThorpeTuanInmanHansonMacDonaldParkesStanleyFischerChinweubaHenningOgochukwuNarelleBergmanSageseAnenechiPalermaOkwudilichukwuHarrisonJamiesonGoodmanKoNormanUgochukwutubelumUvarovaChiaPiazzaPowerP'engJohnsonWalkerInnesFrancisChidozieMackenzieCraigieManfrinOnyekachiPethardNwabugwuDeRoseCh'engPadovesiObielumaniStephensEmeryDufresneLeeHsingLongoVialChukwudiGrantMaSunMossBoothRossNdukakuPrunedaNeumannCalabreseYobachukwuTungMarchesiHessPickeringMazziMadukaegoTrentinoPatersonMarchesiAnayolisaPooleZhouBatesOlejuruBustardWadeTanNgozichukwukaCalabreseLaneForbesDavyMaBarreraAlexanderNgozichukwukaMurrayHallPadovesiLysaghtKelechiNebechiHansonKaoTuPalermaFallaciShenTs'uiChikezieHeDreyerShortHuntRicciTengIjenduKibbyObiutoRamosCalabreseVasinMunroKeeleyArcherMurrayChidiegwuTangFarrarShawNapolitaniGreenhalghMartinHuY?anOdiliH?ChiemelaYuanClementsKolesnikovRutherfordHsiungAngeloMendesMcGregorBronnerMironovaKuEvansHendersonSmithRussellSunMcDonaldWongNiuFanucciZetticciHsiaMcIntoshKozlovaMeanyThompsonLe GallienneChengP'engLloydWheelerChristieHeKingFavorsVidaThomasWaynTanGibsonY?CalabresiEnyinnayaRitchieChiaWangLorenzoPaiNuttallOsborneFerriHamiltonMcEwanLaiHs?ThompsonBoydTrevisaniLuccianoHolmanBazhenovDouglasHillLoForbesLinSinclairKempEbelegbulamWoodsGenoveseTsengChiangWilliamsWilsonWangMooreIadanzaWallaceClarkY?YermakovWeiChukwunonsoMcIntyreTs'aiChungTsouAitkenDawsonWardPaiIfeanyichukwuBriggsMorrisonWallNebechukwuYaoLiaoCh'angBurkeKayMcIntyreChidiegwuMusgroveBoulgerGowAmaechiRobeBibiNiuPalermaCocciArtemievaArcuriOwenFranklinLorenzoMurielMacDevittChijindumGibsonWhiteheadJohnstoneEndrizziBurkeJohnsonYehMarshallKaoBrowneTaylorGibbonsNottLeiAlexeevaSheetsTokaryevTs'uiJohnstonKungUnwinHsuehHaoL?FraterBrennanPisaniGolubevVanmeterHs?ScottCrawfordP'engRearickGenovesiGlennyMarksFlemingDavisonChibuzoWilsonEndrizziYuryevaUgochukwuLo DucaGalloTroutMorleyChouShaoTrentinoMazzantiEndrizziMonaldoOtutodilinnaAllenMilneSomadinaChielokaChukwuebukaChiokeKovalevDohertyBaranovRossiRobinsonBidencopeT'ienDe BernalesWadeChungStevensonChienezieCashinSeppeltBrownlessMcDonaldMameluMcGregorMcDonaldCrawfordFengGenovesePirozziGibbsMilneDicksonO'ConnorMcGuirkToscaniRuthHughesOnyekaozuluAksenovK'ungMengNwoyeCalabresiMilanoKirbyHoChukwuemekaHaleK?RiceBrownSageseAksyonovaFindlayWalkerHaoHammerAbbottLucasDavydovaWestSmithMaiFiorentinoFreemanNkemjikaRamosMarioChienDubininaWangHsiehMoranHungMossFedorovaLiNebechiObialoBatesonLongNelsonBellUdineseMaoFanucciYehOnuohaMooreThorntonWarlow-DaviesChampionMazzantiMacleodLeiLuccheseLombardoWilliamWrightOzoemenaBoyleChinwenduUwaezuokeArchambaultKoUdegbulamGreeneHunterBlinovaDe GarisOkwudiliolisaTs'aiTuanTsengHolmwoodThompsonY?ChidubemTrevisaniHsiungRandallLeachGodfreyWallaceWeiMitchellLightCaponHouRoweHollowayO'SullivanUdinesiNwebubeChibuezeWalkerGregoryKuoWilsonLanfordMengYehOnwuatuegwuGoliweAnthonyScottGenoveseOnyeoruluMyersDaveyParsonsChikereHs?ehSalTs'aiWittSkeltonKazantsevaBowhayBeyerFriesTaoKaodilinakachukwuNiHsuehConnelyBeckerClaytonConnollyGrahamCh'ienManfrinKuoFominChamberlainBarberZimmerBrazenorCocciCaldwellYirawalaDonaldsonOzerovaBruceKangRossiTs'aiMoranJenningsTokarevaPagnottoCastellaDu CaneFergusonOdinakachukwuWoronoffMengSinclairHsuPanicucciBurnsOnodugoadiegbemmaDarlingMaggardThomasLettierePonomaryovOliverChienezieMaoHoLuccheseProkhorovaAlekseyevaBlacklockSazonovaHentyLiAzukaAlexanderBrockShenPadovesiBulgakovMazzantiLordRamosPaiYuanMaoUspenskayaPowellBrownPooleMcChesneyLuccheseClementsYurievEndrizziPanManfrinKennedyConwayLablancDoddMuirMilanesiShenDillonHoelscherBellLiaoUdokammaSinnettPalermaChimaijemPorterFanPalmerYoungerBurkeNwagugheuzoYoungWatsonTsengDrakeHannaPadovesiLoftusBucchoLorenzoIbezimakoWeiRossOluchukwuWalkerWuChidaluIngramCh'enIredaleGallagherPadillaPotterMaoSchneiderIbragimovaHuangAndersonNakayamaGardenerAksenovaMilneOnwumeluKudryashovaHartTengKruglovaPalermaBrookesHsingShafferLaurieChungWhitfieldThomasRiouxOsonduagwuikeMatveyevHaywardNkemdirimBrimTrevisanoSoubeiranWilsonHelenaDuncanHaleMacdonaldMcKayChiekwugoSkinnerSorokinaWellerBessMacDonaldGrayOgbonnayaUdegbulamMaiYehBabbageFranklinRandellPatersonPickeringUspenskyMacleodNnaifeRandolphKudryashovaGeorgeRobertsonYuryevaHurstCh'iuKingEspositoFraserTrentiniNichollsMontalvoTienChuangFangKosisochukwuYoungScottYehViganoWindradyneCurnowUgonnaDe NeeveRicciNnaifeEbelechukwuKeatingTuanShearstonTienHamiltonArnoldTingChaoPowellWilliamsChengZhdanovaTsaiNebechukwuFetherstonhaughOjioforSeversonSpeightGreenwaltGroverMilaniAkobunduAndersonChienKennedyCastiglioneMarshallDuncanUspenskayaThomsonCalabreseHerreraMuseMarsdenArtemyevaMcKayChuangNichollsDennisKnightWebbPugliesiNebechukwuWardNixonChidubemRiversSochimaHeydonLombardoHollandTienBryantHaoGenovesiKovalevHsiehDebellisChibuezePadovanoYenKibbleLoriEnemuoLuNebeolisaStewartWardMilanesiChikwadoDouglasSalDouglasYatesWattP'anH?PerryLavrovChiekwugoMacdonaldJenkinsKorovinaManningWilsonBegumIngrassiaMacleanOlejuruEnyinnayaWatsonLangdonFrolovChikezieZetticciYangLinGoddardRogersZubarevaOnochieTs'uiNewsomGenoveseThorpeHortonWilliamsonShoobridgePengGrayWatsonFyodorovaBazhenovSolomonLayhJohnTuanSlatteryOnyekachiGenoveseDanielsCaldwellChiemenamWanlissBruceWrightFangEamesSutherlandCavenaghDumetolisaMackayDellucciKenyonParryKennedyArnottHansonT'aoShenSteereAbbottSutherlandThurgoodJohnsonLungCocciMatveyevaMooreYobachukwuFlemingDickinsonEvseyevAksenovFlemingUlyanovSummersClementsKazakovaPirozziJamiesonFerriMaiHannafordFominMahonShawVolkovaMilesMadisonScottVossColebatchWilsonT'angGibsonHs?ehPanChikeluAllanYefremovaChuangFanDellucciGarranMorettiYaoLucchesiNkemdilimAndersonSageseRubensohnBaldwinIqbalMonaldoMahonMuirBurnsDyerLyonsH?GardinerCameronChapmanTaylorNamatjiraHeLeibiusWhiteWallMorettiPattersonCoppinTsaoKaoStewartTuanBarnesSunFallaciBucchoTienPirozziLiuLongScottGerasimovaIfeatuDe LucaOgbonnayaHumffrayDegtyaryovMonaldoCawthorneGrahamCarpenterKambinachiTylerMartinWalkerKhanIroawuchiSummersBottrillHuJonesVincentSanfordBrownLeiToscaniChienUchennaLoriFanucciChimaobimJowersMillerKirsovaT'ienKuChinLawChungCockrumGreavesGrantO'DonnellMacleanHsiehHs?MazzantiChiuReevesCastiglioneFergusonNnamdiWuChuKingCharltonMarshWalkerChangPottingerBuckleyFollieroOlisanugoKentJessopHodgeIgnatievChambersMansomYenAzikiweAllenKomarovaMackayYuCurtisFangPageOlisaemekaBrennanSuttonHydeNkemakolamChimaijemSungChiganuBeneventiEspositoOwenSmalleyHsiungCh'angBartonLuccheseHsiaPopeHorrocksTaiChikezieFryeToscaniMellorKangSutherlandHs?TingChuangChuOzoemenaHowellsLuccheseNnonsoGerasimovaWoronoffWilhelmNebechukwuAnenechukwuMeredithChinomsoStephensonChimaokeWintersNapolitaniL?WilliamsGilesWangRobertsonMurrayGrecoMarchesiChaoHawthornBibiHawdonMossBriggsMcIntyreRussoBallardHs?PisaniTaoThomsonHsuMorrisonJoslinScottBidwillCameronCartwrightYaoTateNealYaoBurnsOnyinyechukwukaFulksChristieLloydBallGenovesiAlexanderSicilianoOsitadimmaKazantsevGilesHaoMartinHartleyAllanDolgorukovaNnamdiRomanoChuangOwenSinghNwagugheuzoShiptonPatersonRivasLungAllanFetherstonhaughLungDavidsonMaiDellucciMitchellSunNapolitanoBaileyHoolanKentChouPepperAbramowitzLordWilsonAbazuHarrimanFranklandPintoKwemtochukwuChiuYuOnyekachukwuCastiglioneTo RotAnenechukwuHendersonEllisNkemdirimKangLearJamiesonMazzantiMarinoWinterT'ienHughes-JonesCodyHuntEstradaDickinsonFanucciYangForbesHeardEfremovaMorphettLenhardtBurnsCh'ienSunJamiesonNolanBarrySaundersMcMorranPhelanFuHotchinAksyonovRossiHughesDuncanMcGarryAksenovAkhtarPisaniPisanoMcDanielsTennantDonaghyToddTobennaVicarsChaoTienHsingYangWalkerT'angChukwukereCh'iuPaiFranklinY?PengOtitodilichukwuPagnottoVesselsHellerDonaldsonIfeanyichukwuKaoDunnCalabresiHollandCalabresiButusovAtkinsonVasilyevaMollisonWebbObiajuluAikenBrabynSuTraegerEkwuemeThompsonChinwenmaTuanTsaiLiuRobinsonCarrPalermaChinezeFangSimpsonMorettiHaleBensonEstepMishinaAbramovichLavrentievAlexeyevaT'angKilgourChinFiorentiniLoriMarchesiSheppardNnannaNorrisVincentBradleyBellucciClementsKnowlesChidiebereKellyOkwukweOnyemereMurphyElliottLoggiaWalshMahomedDolgorukovaBogdanovSheCookBrunoMoyseyBeneventiFerriSkinnerAngelTooseyChinLungMellorHassallRichardsonPoninskiDoreBonhamIbezimakoHunterBoldWanBradleyTretyakovaGrahamIzmailovCalabreseValentinOsonduagwuikeWilliamsonPanCarpenterMcIverTrevisanRozhkovaHeMorettiFishbourneGibsonZikoranachidimmaPalmerChukwuelokaRealChikeluFiorentiniYefimovaBallCh'inOdellEnemuoHunterNepeanNwebubeEnticknapLuUgochukwuMannMurphyDochertyAdamsHirstHoranCumbrae-StewartKinneyT'angMuirToscanoWallaceFraserIqbalNinaChuangCh'ienBrunoKennedyLawrenceMortGoliweMartinezVasilyevBlackNapolitaniCh'enSageseFraserHughesGilesLacrossPisaniKingMaughanPalermaTochukwuSlateCh'angRomaniGenoveseChiebukaLiaoBerryFallaciT'anWilkinsonPalermaLazarevBoylanWarrenTrevisaniTrevisanoLiaoBurgessListonThompsonMilanesiMazureRudduckDarwinUvarovaBucchoGalloTomlinsonCarrTs'uiCoatesHickeyNortonManciniTienStobieDrakefordPisaniMurphyKovalevCrawfordMacleanBlackburnBermudezSavageWyattChiemenamShaoLangdonNapolitanoKungBlackwoodMarceloYinStoreyFominNkemjikaGlasgowChenCh'angEvansCrottyCocciIroawuchiChiaHysellWilliamsonGinikanwaChigolumMorleyRobertsTokarevaFlemingChinomsoComptonWanTaylorKambinachiChangSeeDyerCampbellCremonesiHarrisThreattLaneGraveStanleyMcIntoshWattsAlekseyevaDaviesMatlockFedorovaChiedozieMarceloCooperMcMillanHardyMadukweAdamsonWattMazzantiMishinFengKangKellyYuBullSerraFergusonSheHamiltonNnannaSummervilleAllanTobennaVolkovaNucciWrightAstorgaPokrovskyMazzantiBlesingKuPisaniHsuehRicciAzubuikeNevzorovaOdiliKungLeiSheehanKungKelechiAnenechiMcElhoneChigboguAtkinsColomboTilleySopuluchiUdinesiOnyekachiMcCartneyThompsonOnyeoruruShihGolibeLucchesiTownsendChaoShenBoothChanYehBadgeryHsiaZarateCongreveHayslettRobinsonWongNevzorovaPageQuinnO'DonnellPisanoSinclairLovingArtemovaRobertsonGenoveseUgonnatubelumCorbettReillyWrightVincentCarrEilandOmeokachieMackenziePintoGardenerFangCattaneoLabradorDettmannGibsonHopeIvesGreeceOmeokachieMaoSavageBrierlyDochertyMcDonaldRapuokwuBergamaschiManfrinBergamaschiMacDonaldLeesSeniorNwokezuikeEkwuemeGarmonEnyinnayaChizuokeHydeCameronLordBiryukovaCarpenterLorenzoMadukweHutcheonSleemanMilneWilliamsonBrunoPalermaWangOnyemereDawsonNebechukwuBatemanLordLoggiaGrahamDeanJarvisHaughMicklemBennettRobertsOnyekaozuluKegleyMannaThompsonRomanoBrownSuMackayWattMilaniHsuValenzuelaSungLoGiordanoConnollyBellucciJamiesonFominaAksenovTurnbullDixonWhiteLongHanBelovMacDonaldParsonsCrossMilanesiLombardoCollinsAlexeievaCullenJohnsonRuddFindlayMaiMorrisonMonaldoGidneySageseWallDaltonHsingWarnerWilliamsDunnKerrMarchesiEndrizziKingGriffithsHartzlerChukwudiDenisovEndrizziBaresiNnachetamLambertGameChinagoromNobleHaynesCattaneoYobannaFraserRhodesJimenezPharrJergerMcIntyreOnioTomlinsonOnuohaPanicucciPiccioRamsdenVorobyovaToddCremonesiBradleyStanleyJowettYefremovaWilsonAbramovichVenablesMonnierHsiehGadsdenNiChibuezeChinwemmaKangKuoOsitadimmaSmithOkwudilichukwuPorterKungTrevisanoNaylorPonomarevUdineseAliyevaBaileyJacksonYinAkobunduByrneRobinsonStephensonChiemenamForbesDouglasOkechukwuRussellErmakovaOsterChizobaBianchiPeyserCocciSeleznevHuangAlleyneMcKenzieZikoranachukwudimmaKingNkemdilimAndersonEjikemeifeuwaAdamsChristieYehMcGregorPisanoGinikanwaHawkinsOtutodilichukwuRickardAndreevSteeleBlackShandChiagoziemFedorovTienStehleSungAlexanderMcIntoshSungYaoChinweubaChinweubaT'aoCh'ienSuYuLoyauContiAlexeevaPowerHillFreemanHsingEspositoBelonwuTsaoP'engBakerMatthewsGarciaFieldGordonJefferiesPalermoChouEwingMazziThomsonNkemdirimLockyerMurrayBlackTorreggianiAtkinsonRichardsAzubuikeIgnatievMillerCoxMcMillanNapolitanoLaneKennedyT'aoHsiungHeathParryHerbertKangAndreyevaBowenGolubevHancockFowlerSutherlandRowleyGibbonsLockettAkabuezePhelpsFrederickBeneventiBruceGreenCarlsonTangYudinMacDonaldWattMbadiweChuangSabbatiniCaldwellEwersTsaoHannamWoodKoLo DucaEndrizziCh'iuMofflinFiorentiniChiekwugoBogleIfeanachoOwensCh'ienChungSungWangSunMaitlandMaPollardHsiehGerasimovJohnsonFiorentinoChiokeRossiSicilianoEfremovBrigstockeOlisaemekaTangLuccheseWestPaiTangFedorovGboliweKoLe GallienneSeleznyovaJosephBevanAllanLavrentievWaltonSalierEvdokimovPonomaryovaMillarGrosseHsiaoBelbinIfeajunaWrightKomarovaTitheradgeDellucciHobbsBeggsLuffmanCaldwellManciniEvseevHs?ehChinedumHaginsKirwanLittleMilliganCh'iuMcKayCrawfordOnyemereAzukaCh'enRoysterParkinKozlovaHuMaCoatesBurnsGougerIgnatyevDouglasFiorentinoIgnatievMunzPalingClarkAkobunduFanucciHsiaoClancyMacdonaldPalermaHoldenMooreGalloOtutodilinnaRiosMcGregorHillH?FerrariOnyemauchechiNkemakonamWhiteKirillovIadanzaStilesAnkudinovGaffneyUdineseRomaniKambinachiHawkinsTsuiIfeatuMcIntoshArmitFangChouOkekeRamsbothamScannellEdmanDe LucaVasilyevaTuanEjimoforHs?ShaverWallisCouppPerryBezrukovaLuccianoIngramLo DucaWanCohnYenPengLittleMengAdamsHillBoylePagnottoFengEndrizziShenLayWuShephardSchmidtDavidsonLambHusseyFerrariMacfarlanSzabadosYuanMatveyevChengPalermaWangTengK'ungSinclairMcKelveyYuanMoranMcConnellIheatuGiordanoAlexanderGordonTangT'anDaviesSandersWinifredHolmesRiddleChinedumAleksandrovaContiWatsonDavisonCookUdinesiSicilianiBellJacksonOnyemereMcClemansMaMorrisonChambersBasedowNworaHoweyPaiNiForbesBaryshnikovKramerSochimaMarchesiToddMaiPintoReynoldsSalMillerScottHerrinStevensonMcKenzieGardinerAtkinsonOnyemauchechiRossNewlandHuSandersTsuiMarinoAkobunduMorrisonMaiHs?ehWrightDemaineChienDickinsonKazantsevaMarchesiPanHarewoodKaoYehBischofAshtonNapolitaniWilsonUrenOkechukwuKuOnyemachukwuKaoRussellWoronoffFerriRuggieroWildingYashinaYevseyevRapuokwuMaslovColeSullivanHsiaoRossiAllsopChamberlainJacksonDumetochukwuUspenskyGarciaSotoMcDonaldCastlesStephensonDavidsonTuColbertOwensChimezieGenoveseDaluchiSheffieldBaileyDysonDavideUwaezuokeHs?OnwukaFloresNicollHughesRomanoNormanDavisonMannaReedDanielsHuntFengWatersYuanYudinCalabresiOnyemauchechukwuMartinHungMaslovaZetticciPisanoSutherlandLaiWatsonGorbunovPadovanoRaynorTingEberegbulamChinMannaChangKentBuckleyMiccoAvdeevBremerDavidsonGadsdonConnollyMcDonaldChiawuotuMilneFlemingHicksLoganHammondWeberLettiereSchnaarsTaoAlgarinOnyemereKorovinaChidubemKingGrecoBeneventiP'engMetcalfGrecoLuptonIbeamakaHsiungRuedaLi FontiAlexeevaMaduekeTorresChukwubuikemHollowayEvdokimovAnayolisaSemmensTuAndersonFangFanucciBoyleMilanesiDavidsonMcKayBogdanovaLavrentievCorserAlexeevaMaduekeBarberMcCardleRadcliffe-BrownNiChukwumaobimDennisHaywardJonesL?NelsonCardusWhitehouseJohnstoneTsuiChiaSuCalabresiTs'uiMcCullochKooMillerWoolnoughDouglasFangMunroVinogradovLaiUdegbulamMaoOnyekaozuluFuCrossSniderHarrisonDaleUdineseDeRoseHayBruceRomaniTsengTangIsayevaHillBarnesMorenoMcGregorGenoveseGillTs'aiGreenMartinJohnsonOnioVaguineMannaToomeyBellBonwickFollieroHoltBrownCh'angFiorentiniMiddletonMillarOsborneFengValeArkwookerumLujanAlexeyevaGannonProkhorovaRomeroToscaniOnwuamaegbuKingTrentinoPeacockNnaifeChaoBareseUdegbulamFuOnwuatuegwuDegtyaryovNnaemekaUdineseMitchellCh'enGolovanovEfimovDavidsonWadeMaynardMurphyZotovaHannahCartagenaHallHuntGreeceThomsonVictorMitchellOlisaemekaKrawczykAlexandrovaPatersonChouAbelChesnokovaNiuSullivanMaCavillNichollsNnonsoGibsonGarciaRenwickNorrisNkemakonamPiccioLintonOnyekaozuluTobennaWangO'DonnellLanglandsSmithSykesMarshallGibsonStephensonY?KangMillerKryukovY?FanucciLombardiHs?AndersonTrentinoDonnellyTsouJohnsonWatsonAllanButcherHendersonBoucautObiajuluIfeatuKellyPirozziSicilianoSilvaIweobiegbunamWilliamsonMaduekeChiagoziemKwemtoZitoUkaegbunamTrevisaniEdmondstoneChienBoniYashinaGeorgTungMichelidesKorovinaChuangYurievChidimmaStevensKaoEdmund la ToucheBelousovMcCaneParry-OkedenHudsonMarsdenManfrinCh'angClarkAldrichKhanMurrayAnayolisaShillitoMcMillanHowellsStewartIkechukwuRepinaCoxLoGrantStevensonKauffmannSamsonovaNiuBockBarlowStevensonKungNwankwoBrewerCh'iuQuinnKodilinyechukwuIfeanyichukwuYermakovaSullivanGrantJackaTsaiEmeryPiccioSandersSharpMyersCampbellAbbottPrestonAthertonFanucciEvansCooksonNnachetamJohnstoneHortJohnsonZaytsevaSorokinaDiehlOnuchukwuOsonduagwuikeMeadStewartThomsonGoliweLoriOnwuamaezeButusovRogersNicholsonRossiHallHuddartChinomsoShawHargreavesSwainButcherStoneAllanWangColomboMcKayBrientYinBellucciDuncanPirozziFindlayKingIweobiegbunamTuckerIzmailovaMengLiangHutchinsonShenOkwuomaChinwemmaGolubovaSchiavoneMooreGrahamAmadiMcKayFedorovaPercyFloydLongCastiglioneMelendezMazziKovalevaGillArcuriChukwumaStevensonPonomarevGilroySidorovBatesFanucciToscanoHearnIroawuchiMartinSinclairSwansonChinomsoFominMcKayBergamaschiMatveyevaMadukaegoFerriAchebeMaiDavisDaveyTsouMarinoKerrHsiaoGrahamEjikemeifeuwaVolkovaWangBenjaminRyrieAndreevTs'aoFrolovMontemayorFuWhiteheadIzuchukwuLaiHerringDuffyChiefoFyodorovChuRobertsonPalmerstonMadukweChinedumFrenchPolyakovClementsConnorBalashovAvdeevaChesterHungTuThompsonJonesLiDenisovaClogstounTanPowerHarrimanBensonThorntonWhiteMackenzieKalininaBennetHallahanMartinRiveraChiawuotuSergeyevChristieLouisIqbalMarinoRobertsonPaiBareseChigolumTrouetteUgochukwuCribbMcIntyrePickeringFletcherUchennaPisanoCorsonHooperHeChidubemSchofieldLiangSomadinaMcIntoshHintonSalDe LucaBrombyChangHunterSheppardFanMuirLaiPadovesiKempGreeceYoungChukwuelokaWoodsForbesKangNwekeTs'uiMilanoChaoWanNapolitaniKovalevaRussellChiebukaEllisGordonConwayBucchoAksyonovaBattyRowePisaniOnochieFarmerCameronJenningsEluemunoSwiftPisaniNnonsoCameronStevensZitoTaylorFerrariYehGouldAgafonovaFowlerChidumagaSabbatiniJohnsonChapmanBirkCaponChidubemChildsSunLungTaoNapolitanoDavisSageseHutchinsonNelsonSchiavoneChienezieObiomaButusovPisanoStetsonWaringFanucciThaoMurphyMcConnellArmfieldFanucciPaninaNixonWalkerChiemelaMartelBriggsIheatuJenningsCh'enKovalyovYehChienBrownBuddicomMcGregorThompsonRossCh'angWarrenUspenskayaKingTrentiniKonovalovaDellucciGoddardNeumannCh'inWaltersMuravyovaBarryWoolnoughKeenLiebeWhiteHunterMyersRogovaRaffCocciKanayochukwuObialoLiuGilbertColesPonomaryovBergamaschiGuerinSinclairDominguezCostaWeiMillsPughPriceWoodRobertsonSawtellYuryevaPisanoKharitonovaSimmonsMuramatsTangPengBevanZitoSokolovTengAmadiDavideParkesMazzantiFindlayHsuChukwukadibiaBaxterKungBoothEvansKungTungYuanJacksonRossYangYuOnwumeluGayMorrisonBelovMaoWalshBrunoGrayMaurerChiangCattaneoGrieveLowellTrentinoSungYenPhilippDynonAlexeyevaHs?ehFerriHsuBishopToscaniT'aoPhilipLi FontiReneDaigleJoshuaSimmonsJamiesonHouCochranBibbJenCorranHeLoggiaLovelyBeckerPlascenciaSomadinaWalkerAlekseevaWatsonZotovWilliamsonCarpenterCattaneoGordonBoniLynchMcCarthyDaviesHargreavesBlackburnK?MengCattaneoHuntOwensSteeleKennedyPanAlexanderBrayNnabuifePadovesiBrayLucasTinlineEsomchiLiaoIroawuchiRetanaFangOziomaRobsonBrunoPriceSwansonChangMorganNwebubeTrevisanOsitadimmaCunninghamFieldsJohnstonVasilyevHooperColomboTsaoChikereBallardAkhtarO'LoughlinDavisBarryK'ungGormanJohnTsouOkonkwoEspositoBoniPrattPageWilkinsonTsengClarkFinchShenHouWallMannaReyesJideoforSalIweobiegbunamShaoHeathChidimmaMurraySullivanWuDownieChukwufumnanyaAllanFindlayCh'engMillerTsaiGrahamNortonYegorovHoltKaoRossHsiaoAllanLiangBriggsCantrellWangAksenovGlennonYancyMazziLiuNucciY?NucciTangKaoChenYaoTsouBarnesH?CruzSmithOnuchukwuBukowskiSimmonsStewartGowWilliamsFrancisCalabresiChimaobimChikwenduPadovesiHendersonKharlamovaOnioYehFengNormanWhiteManfrinRitchieUdegbulamKaoDiazOlisaemekaRoss-WattMillerShubinNwankwoCartwrightNgozichukwukaSadlerAzukaShenWhittakerAbazuMurphyFordGratwickPaiLorenzoBradyWongDouglasKennedyChangBrownHsiungMacDonaldDavidsonMilanoBoveeLewisDyerHsiaHicksMillarFanYoungKerrFrolovaVasilyevSabbatiniIfeanachoCaponChielokaHansonTs'aoBradshawNkemakolamClunieCoverEspositoHodgsonHarveyDobieOkwudilichukwuDyerChaseBaresiLoTylerTs'uiAparicioMacleodSalYehUdegbunamAlexandrovOziomaAtkinsCamposWoodKerrChienezieTsouMcKinnonNwachukwuNwebubeBurtRossLeesFeethamChuangAitkenChambersCoburnAhmedOgochukwuSotoObiajuluYegorovaLuccheseTalbotLuArnoldNicholsonChukwualukaWallacePisanoKellyBradyPalmerTanL?MordvinovaCoronesClementsMorriceHsiungBarrettKanayochukwuTardentBowhayLeiBakerPisanoCastilloGibsonLindsayMacnamaraRomanoAksakovaFarnsworthGiordanoArnoldThompsonKochJonesOtitodilinnaFleetwood-SmithChinonyelumMontagueMilaniPalermoAndersonCrawfordLinYewenSimmonsMbadiweMunroGrahamLombardoKalininWoodwardPirozziIweobiegbulamPiazzaBaranovaFanSunMarinoDonaldsonBurtonQuinnSabbatiniBrooksBlackSchwartzTs'uiSargentUdinesiLeeTaylorKepleyOzuluonyeLassetterMishinaTrevisanoIloerikaTanChikeluLinNicholsonUgojiMichelBruceFengMcDonaldWattGoodwinArcuriRapuluolisaKaoTsuiSummersCrossOsorioBobrovBarnettPikeGearheartBrunoEgobudikeOkechukwuZikoranachidimmaMilanesiAhernDicksonAnayochukwuMcDonaldFiorentiniRussoYoungBianchiFallaciCrawfordMarshKosisochukwuPiccioNevelsKaodilinakachukwuAmaechiP'anIkemefunaTaiWinnHardyChiuLopezSteenFerriYegorovaKnowlesMayBianchiPipesDohertyYobannaHsuRussellPayneWindsorBraySeleznyovWarkY?BrownHuangZitoBaileyAllnuttChristiePopeJohnstoneBirdJonesPedderCalabreseChialukaMcKenzieHollowayTangByrneSelwynGenoveseKogerBaranovGrecoOwensY?KendallKoTangLombardoPerkinsFengLoPiccioMazzantiChukwualukaElliotGrattonCarandiniRobinsonLoMaVinogradovaH?AlexandrovaYangMaslovaBucchoYoungBarkerSungHansenBrownLo DucaEllisKorffGardinerKiernanThompsonMathewsMacrossanIllingworthBowenCraigMenhennittMooreShoebridgePalermoReillyBowenFyodorovClementsMcKenzieCraigIloerikaDolgorukovaEvaYehP'anHoweJenkinsShihNnamdiMitchellFindlayPisaniBelisarioPomeroyIbrahimovaK?GrahamTrevisanoTrevisanoK?ManningTuckerSchafferEsomchiCh'angWalkerChuCrawfordMilneAnenechukwuDonaldsonKellyTs'aoGonzalezTaiMuravyovaMilanesiLinLambertTempleRidleyYoungSlyePanHsuehRobertsMossAndrewsTakasukaDawsonBrucheOliverRyanSabbatiniWattWilsonAbramovaPurdyHigginsMarshallReyeChibuezeKwemtochukwuBiryukovaChidozieBarberThompsonMaslovJonesChidumagaHs?TrentiniLucasWilloughbyJamiesonRobertsonOjioforCameronMayneManciniParamorYoungDalyCarterDikeHughesGreenChinomsoGorshkovChinomsoIjenduYenArcuriBaresiFieldChristianRossTrevisaniAkabuezeDunnMartinDonaldsonMcClintonBentleyIbezimakoThomsonCh'inHolbrookSolominaMcDonaldDennisFaulkDaleGorbunovFarrellDe LucaWalkerForsterBrownMonaldoWuPanLongoFindlayFuYinHamiltonMillerHsingMitchellChamberlinButtenshawAnayochukwuWallaceCalabresiSunTuanNazarovaBryantPaiPowerHaoMcMillanMerrettPhillipsDe LucaTuElderDilkePanicucciMasonTownsendGunsonMilanoMacleodOlisaemekaGleesonMartinLiaoSungLaiCartwrightWuCh'inBiryukovTingP'engNiuMellorPowerArcuriLangEveCh'inNapolitaniBarkerWhitfieldStradfordBrownlowDunnDeRoseWangHobbsAndersonUgochukwuKirsovaTsouOzerovaLiFyansFreemanChiuIadanzaFergusonKellySheChristieCreelThompsonLazarevaBoniEvseevMarinoMackenzieSutherlandNicolayLoriPiazzaSomervilleChristieGraveLoriIloerikaMuirPauleyKaoGrantChukwumaVincentLazarevaCh'ienBishopChibuzoChangCalabreseTokaryevLoganOzerovaGoeringLoSimmonsMaduabuchimLingerYehStevensonIfeatuKenechukwuLearmonthDicksonVolkovaMitchellWongJamesShaoWaltonStanleyWatsonFollieroFitzgeraldGarnerFollieroLiaoLucchesiChanMaNwabugwuP'engAndrewsOtutodilinnaGrantAbramovichKomarovaOtutodilichukwuDonaldsonDugganChinwenduHamiltonSmithMazziKrischockKentBinderZubarevDegtyarevObialoDavydovaTengHsingColemanWilderMolineuxCocciChikwenduFraserLaiKorovinSidorovIbrahimovaDuiganTaylorDonaldsonJobsonLuNebechiCrossWallacePerreaultMannaHsiungGibbonsAlgeranoffDohertyRoweYatesGallowayGenoveseArringtonMiahChijindumFergusonSmithMarshallP'anBurtonKamdibeMilaniForbesChiekwugoCousensRossWoodHawksT'ienTingThynneWangMacleanWatsonGibsonFrenchHendersonGreenwoodAndersonMistryTuanFiorentiniScottJideoforYevseyevKellySmithOgleMossLoggiaNwankwoAllanWoronoffWolfeHendersonSutherlandMarsdenHydeKaoT'angCrawfordDilibeAustinSantiagoChibugoToscanoAfanasyevaSokolovWeiOlisanugoGormanPriestleyLloydSalmondMacDonaldRobertsonChukwumaobimIfeanachoLi FontiKoGoloubevKruglovLiaoWhiteSinclairFiorentiniShenRapuokwuWoronoffHoldenRobertsTsouSomervilleGrecoLeonardMcKenzieMcElhoneDipietroKerrHunterNiehausCraigBarclay-HarveyTengMilaniMistryJamiesonKayIkedinachukwuHoltNkemakolamHartungCh'enBakerOsinachiShihFengSternbergAdamsGrayShepherdWaltonYangBarnettRomaniGreeneHartJohnstonMillerRobsonWallaceCrossMarcumNorthMaoCalabreseMartinFlemingRobertsFinchWhiteleggeRookeLuMarceloMatthewsRomaniScottMaoHorsleyGoddardEskridgeSmithSimpsonOguejioforHollowayL?FengClaiborneEgobudikeFollieroBrayIbrahimovCarpenterWalshWoodsWuForbesLynchAmaechiEnriquezY?anBrooksWangBurkeMengChiganuHuntLuccheseHumphriesFrolovaHsingParkesGregoryObiutoLongoLombardoLombardoGonzalezNwabugwuFordGillelandFullwoodKaoMontalvoWilsonDoyneOnwuamaezeK'ungO'DonnellMcMillanChinedumCaponRawlingDuncanTrevisaniAnkudinovaBalsillieKerrWorsnopYevseyevMannaSicilianiPowellBazarovaWhiteBudaCattaneoLoBrownRoseLombardoMcMillanHoweHsuHanCalabreseRileyBiryukovBroadhurstGenovesiHsiehKempChukwudiIqbalTengTaoChinedumStevensonDuncanGarrettYaoHeMazziEdwardsLucchesiSicilianiShihLogueRechnerO'BrienStewartBattHopeAhmedPearsonKruglovGordonTrujilloPagnottoHortonDeRoseChiangGillTrevisanoMorrisonOnuoraIkennaManciniMossTingTaiPanWilsonBianchiHolmanObidimkpaWallaceAshKuUspenskyShihKummCareyFarberCalabreseFindlayYuEdmentsBrownLindonChukwudiCaldwellLi FontiPitcherCaponKableLo DucaKulikovaNavarreteHuguleyHanHorsleyMassieSinghH?DoyleGrantLawKingOnwubikoRomanoOkwudilichukwuMilanoParkerAitkenObioraVasilyevaChiabuotuSlaterHughesMenkensPisaniY?anMilaniChinFuHowellsNiMaslovaForsterSunBocharovaY?anSinghNkemakonamChiemenamAngeloFrolovWestBeathamPollardHsingDowseLuccianoGodfreyGrattonManningMazziWallSimsAllanGriffenRussellBrownPalermaGilbertUvarovWisdomHussainWoodsCameronMaiGibsonGrigoryevaGunterArcuriTungSmithLoriChidimmaTingTsaoColleeLettiereFuBergamaschiDyerBucchoJonesNebechiIbekweGorshkovNwekeHairstonLoggiaMorganAbdulovNorrisClarkChukwudiPerkinCh'angKangChukwudiFrolovaChiuSimpsonMcLeanHuSavageWallaceWinterHoSuLi FontiIvesTrevisaniBondLettiereHoughtonLeiStirlingGrantBaresiPearceRutledgeUdegbunamZaytsevaOnyemauchechukwuMullahCandlerKonovalovaLeiHollisLionelFrancisCarterMaiJohnsonShermanSabbatiniShihYaoKoKazakovaChiganuNucciMarsdenSerenaMcLeanLongoWilsonHsiungWrightFollieroJohnstonPalermoNwabugwuEndrizziTuanUdobataIbezimakoMacleanShawCumminsLavrentievSaundersFiorentinoKnightManfrinZetticciAngeloZhdanovPeckUwaezuokeWhiteGrecoChuKodilinyechukwuScottEnyinnayaHaoMcElhoneKoDayHarrisGeraldNebeuwaKaodilinakachukwuMaruffHoweKnepperFennellT'aoMorrisHolmesYuWalkerEdwardsHarveyMcDonaldChambersReedShihOnyemachukwuTengHandOnyemauchechukwuBaileyChiangMacleanYobachiMunroChidiChamberlainTrujilloTangWilsonMannParryManfrinMillarSimmonsBeneventiChungMaxwellDaleStevensWeiChiuDuncanBradyMacleodBerkeleyKaurBellNwokikeWilliamsonMountgarrettWrefordPatersonHouSmithPengWollstonecraftBoltonCorrieBoyleLambieCartwrightLuPisanoChukwubuikemHarperWilsonCh'inStreetonCh'angPenningtonT'ienLiuCunninghamCh'inSmithAndersonForbesAnsellChiuYevdokimovaChamberlinJohnstonMcDonaldChenCattaneoBarclay-HarveyDawsonCostaChikwadoCh'engHarrisonCrawfordGibsonMartinStokesNiuAmptWynnLawrenceWagnerArgyleOfodileChiemenamAkobunduLockeBullenForsterSmithCraigArcherMcWilliamsMossTownsendBrownMunsonT'ienShubinIsayevaHungWebbScottRahmanLoriCookeVolkovaLambHawesSmithSwantonMitchellColomboShawShippJonathanHernandezGreenYoungHanHighlandHamiltonYobannaCrawfordBeaversWilliamsonBeneventiChidumagaMitchellChibugoHydeAlekseevaAbdulovBuckleyHowardPeelHerzHoldenMcLeanFindlayWyattRapuluolisaBucklandHargreavesOnyeoruruSalasLaneyFuTienSazonovaTuanWeiBergamaschiTaylorMessersmithColesBrookesReidEtheridgeJollyChizobaEberegbulamPagnottoLucchesiHughesPanicucciBurnsRicciLambertEspositoBensonBottsParkesMaiCastiglioneMannaLinFinkBaresiMoreheadAfamefunaGrecoBalashovaBogdanovLowePonceTrevisanoGardnerLorenzoPalmerZuyevaJenAlekseevaManfrinChiemenamChiemenamClarkFanucciCattaneoUdinesiBentleyHolmesAustinMackenzieBoothCollierHs?OluchukwuSungMarinoVinogradovBurnsFanucciChukwujamuikeFlynnChaoYehKleinMahmoodTuShcherbakovZetticciCarrBrowneFengFergusonShawPalermoMooreHuangGraySokolovaHendersonMosleyNnaemekaEverettGoddardKuoBianchiRouseNwoyeGrecoFangChiemenamArtemievBurrowsChizuokeT'ienRogovaTrevisanoSageseArtyomovaLongHsuehWhiteLazarevBenjaminWanRomanoCraigYermolayevaTsengTsengLe HunteBlakeLaneSparksTuTochukwuWhittakerWangNorthernHumphriesCremonesiKuTobennaOkwuadigboJohnstonLiTalbotTuT'ienRossMacleanWanTsouJackLucchesiCh'engSaundersGloverTungPadovanoJohnstoneEndrizziSecombeElewechiChuLuccianoPintoMcGregorUgorjiBancksWarlow-DaviesDaleBuckleyNkemjikaFairleyBoothbyChukwuhaenyeLockClarkeRamseyEipperKoMunroMcGregorHendersonFernandezPorterPanEspositoKaeppelLambLeiContiHargreavesYermolayevKerrWatersOnyeoruluKolesnikovaKazakovaMacDonaldSharwoodBufkinNwankwoBoniwellWillisBurnsKungHowellsBevanNeitensteinJohnsonSandoverNnamutaezinwaSinclairWeiHigginsChangHendersonCoxTsuiLeeSergeyevaNapolitaniBeathamLuYashinaBalesHillIbeamakaRomillyHayesChiuSunBrennanStoreyLawsonT'aoYaoBracewellKerrBlakeSandersTorkelsonHsuehWangHightowerGenovesiLevanLaiLoginovLafleurObidimkpaCh'angMasonMirandaSimonGolubevaManfrinStangeFerrariTaylorWeiCh'engParsonsPanCameronIgwebuikeTuanFraserTurnbullChiazagomekpereYudinaUdineseChinweikeBergamaschiMillinerKnowlesSwintonGregoryChibuezeSukhorukovaFrenchEstradaFlemingKennedyCombesCarruthersAndrejewKoDanielsToscanoWilsonThomsonKazantsevaCremonesiFerriFerriLombardiEluemunoChiganuHsuehO'BrienBoothO'LoghlinLavrovSomadinaColomboTroupeKenennaFranklinDeleonKungZitoGiordanoDavideLeiMossLuccianoTaiOsinachiCoatesLarionovaSeleznevButcherGouldCunninghamSandersonMaiReidDownerHumphriesBochsaCzajkowskiPankhurstSheBirdseyeHopeGillMoonWattChinomsoBellucciBareseFlemingBellLi FontiChristmasChuterJohnsonScottByrneChukwudiMaSimmonsFangBlakeTienYusupovaDavidsonZhdanovaNielsonNiuKayGreenSheAjuluchukwuSabbatiniBoardLeckieHoGordonIroawuchiLiaoHamiltonChimaobimFanCayleyKuykendallMcDonaldDuncanBrowneBartonBoyleMorettiUkaegbulamNwankwoNiuHsuShawHoChristieOnwuemelieCh'angClendinnenOnyemauchechiCrawfordMellorRizzoChristieWatkinsOjioforTungMcKayMengHussainMactierHsuehNnachetamBarnesChristieLiptonYuStoreyReadLevyChiuMooreAmiesTsaoRowleyAliyevRileyToscanoOluchukwuFuWarnerFlemingCh'iuLanglerAngeloT'ienMilaniPyeAsherChungYudinArcuriCaponPiccioLungTrevisanJohnAnayolisaRitchieCh'engMacleodBoyleChukwuemekaBryantHackettKovalevaReedMajorLoHansonOgbonnayaWindsorCalabreseKeatingCostaTanMaMartinHalpernNyhanJacksonReynoldsTaiTrevisaniUwakweKerrFindlayUgorjiBalashovaChengMartinSkinnerMcDonaldDellucciReynoldsBirdsallTsaiOguejioforMackieJamiesonMaiPattersonTaylorVinogradoffNorthCarterGrahamNobleWalkerChibugoYobachiIgnatyevaChiemelaPokrovskayaStoreyMoroneyMaslovChukwuelokaChuSpenceMillsDoyleDonnellyTaiAbbottPerezHsiungCherkasovaDenisovFowlerSicilianoCrockerLongoPolyakovaBrownUspenskyO'MearaCantamessaAlexanderChinagoromTomlinsonLoNwachukwuYangBageMarceloOfodileSavagePiccioSimmonsDeRoseOnuchukwuGoodwinTeakleThomsonCrossJonesWalkerDe SalisOliverLo DucaBrookesChallisIbeabuchiIroawuchiTylerFanBatesMarsdenDodgshunMacleanBlackallMazzantiAmadiSchoenheimerFiorentinoMurrayFanCartwrightCremonesiWhiteSabbatiniPattersonBromleyDohertyIfeatuBergamaschiShubinaLungKinderTerryShepherdsonShortZetticciBelovKnightBursonNichollsHs?ehKuT'ienH?VasilievaOmeokachieNapolitanoHopwoodBergamaschiLindemanMcKinleySergeyevSanchezMuomeluMurrayIbekweMcVeyWhitePattersonMaiHanDavidsonParkinMcKissickHorsfallClappAzikiweZubarevPisanoCoatesTrentinoMacDonnellErmakovK?HammondsPeppinBallYehL?ShihGrecoNapolitanoZaytsevaGenovesiAngeloWatersMacleanSeleznyovaFontenotReidFraserTuanHowarthDavisGorbunovGentryChiuSunderlandFanParryNiuZuyevIjenduBirdPalmerY?NicholsonAdamsCocciKuoTrevisaniKuoH?ThomsonKnorrManfrinHayesShaoSinclairBradshawCastiglioneHurstAdamsonJamesPavlovaDaveyBarrettDolgorukovaJohnsonMannaHouOkekeKodilinyechukwuEspositoBoyleHsiungKennedyNortonZakharovChimaraokeSmallMcGregorBrownFredericksonWoodSmithHarrisHallPickworthPorterStoreyLiMcGillSinclairHortonSalMurrayGilesBrownOkechukwuWhiteKirillovaLawsonSarrattHayLinOzerovaLambertBulgakovHeUchechukwuRobertsonLeworthyOnyemachukwuRiveroLaiFengHornungSchiavoneBarnetDennysRitchieLoYurievHowarthGibsonZikoranachidimmaMasonRizzoThomsonIgnatyevFergusonWoodsSungLoBurnRussellJenLo DucaOluchiYaoGouldSalterWarnerSalierLazarOnyenachiyaFindlayGibbonsMcCawleyTaylorYangOkwudiliolisaNapolitanoVavilovTeagueChiemenamHughesCattaneoDavisNekrasovaLoggiaCombesOnwukaKharlamovScottLettiereOsonduagwuikeWanDonaldsonChukwufumnanyaMaAlexanderNkemjikaCarrollObiomaCampbellSimsMcKayHuangCampbellBoniGorbunovaGenoveseLandorMengWardellWilliamsOfodileClarkLoChukwuemekaLaiArcuriGrahamKrylovHenryJamiesonMooreTanThorntonMacleodRizzoChukwukadibiaTs'aiLuKentBlackChukwubuikemMcMillanNgozichukwukaY?anSungMacartneyAliMorleyMartinOkorieKuAndreyevaChengHsiaLaneFindlayOkonkwoPirogovaMcDonaldOkonkwoNnannaKuPorterSomayinaMaoFullerCraigTrevisanoRuizFraserGalloWaterhouseCremonesiFengH?JaraWilsonO'CallaghanRobsonPeaseMacleanLavrentyevRhodesMurphyAlexanderNekrasovArnoldTrevisanMasonTuckerHobsonGordonAndersonTerryLappinSantiagoWallaceKingFangMayTravisNnachetamZhdanovaJeffersonCremonesiFangSinclairBegleyDegtyarevAtkinsIkennaSunLettiereSmithFinchMonaldoUgonnaChiangSunBlackburnChangPalermoMcEwanDavideChielokaHumphreysCocciHansonMacleodRitchieNebechukwuNnamutaezinwaIkemefunaScottChiangArtyomovaHsiehLevienErskineFiorentinoOkonkwoMondsCampbellIbekweMarceloCastroCaponVoronovaLoggiaLawGrantGrecoDietzMartelJarvisMengHayVoronoffTrevascusHoHansenCraigHallSunDurantJacksonChigozieFarmerDouglasArdisSmithButlerPettryJohnPotterShawBoyleElmoreUdinesiSunTuanLawrenceBurrowsShaoWhiteChialukaToscanoMcKayVoronkovSalIkechukwuKruglovaClementsKennedyJohnsonChungGarlandDochertyNnaifeLettiereSandersonFominWrightBuckleyPanMannaChinwenduNdubuaghaWhiteHaleRossIkennaNkemdilimMcMillanDukeBradburyBayleyBartlettCreminGilchristShihFitzpatrickPaganHendrickSandersonSamsonovaAzubuikePanMassieSandoverCraigOnwudiweChuZetticciVaguineOwenHurstHardingSmithMooreBradleyBurfittMackenzieMilanesiShubinNievesMartinJenWoodsDochertyLinChengKorovinaMacdonaldHardyShawKnightBrunyIkedinachukwuMoranMacleodYinFelixRippeyMishinaGrahamJohnstonKorovinLeiChimaijemScottGrantMcIntyreGriffinConverseCh'angCoatesReidTs'uiBelsteadDickinsonNworaBishopLoggiaRoweBalashovUlyanovaBogolyubovaRemingtonMishinTuCastiglioneNnaifeYangAyersCocciMackenzieFiorentiniAkabuezeHydeLeviNwabugwuChiaTrevisanoBennettsTengHsuehMahmoodSinclairChinSheHeHillVachonBallHsiehBakerMonaldoLucchesiHamiltonKuoFanWrightMilanoWallChidumagaOlisaemekaKovalyovaOnioHillOkekeUpjohnH?MarcusYobachukwuRussellHovellChukwumaobimBoyleScottJohnstoneAlvaresMcDavidDellucciBrothersSandersMorrisonMolleGenoveseZetticciHsuehAlexanderMuravyovaWrightCalabresiJohnsonLucchesiGalganoGrigoryevaRaymondPatersonGenoveseMartinMorettiLeckieLaneBrodneyAngeloMillarBalashovAfanasyevChialukaYermolayevTienLucchesiLaiBatesSaundersChukwuemekaMeagherGolubevaCollierChanChenWrightCocciWilliamsMcGuffogChukwujamuikeScottBellOlisaemekaNapolitaniSargoodHarringtonSutherlandAllanFollieroMordvinovaSchofieldWilliamsBairdWhitehouseThompsonOgochukwuNiuOkoliLorenzenOkechukwuAndersonKuKungLuTrevisanoOnwubikoVidlerShenMcGregorNnamdiCastiglioneBergamaschiAllinghamStelzerRubinHoWatsonPerrySunHarrellRobsonWilsonKelechiBatesEberegbulamOlisaemekaDaveyDe LucaHoVasilievSmithSungWhiteWangDavideNnamdiWelshSousaAndrewsChiawuotuThomsonCarpenterYefimovaMaBlackObijiakuKingMillerChinCoxWallacePriceYuanMullenHowellMcIntoshCliftonOkwuomaChidiebereFanOnyemauchechukwuHarkerBoltonLazarevAlexeyevaStevensGloverIbekwePatersonMarshReevesReesHansonOnwugharaOdinakachukwuHuangTrevisaniDalePavlovaMengDeanChiganuLungDonaldsonLi FontiIzmailovaWalkerNnonsoStevensonSchnaarsGeogheganIlyinaMuirGardenerChidiFuSunTingAshtonUwakweVassilievKazakovaPerryHowellRicciSmithRossiJonesQuezadaMcCullochTobeolisaBlackFraserGreenAllanAkudinobiWalkerOlisaemekaArcuriLiuFlemmingBischofJohnSinnettTs'uiPokrovskyAzarovMcCarthySimpsonStevensonMooreChillMooreSuReesLungThomasFullerTrevisaniDumoloWuKerrGeogheganBaileyHsiaHoldenMilaniJamiesonNdubuezeAbramovaWetherspoonMiddletonArcuriCalabreseHamptonClaytonOtutodilichukwuChukwuemekaDouglasGallowaySochimaWilkinsRicePopeRomaniCh'angChizuokeIrelandFinchMengHibbinsChungBlackBalashovPalmerLeaSingletonBurtSicilianoSunSauveThompsonBoniWoodBucchoSpencerEidsonHungMelvinDawkinsRizzoCaponTs'aoJohnstoneFlemingChangGibbsRitaMunroDuncanOkwuadigboMcIntoshCh'iuWattUdineseClarkHsiaObiutoT'ienMcKenzieTangTuTsuiLynchHungOluchukwuTuanLewisChidiebereWoolacottYenServiceLinChuangAkhtarFaulknerLiangDancyDuiganMcLeanZuyevaHankinsonWeiAfamefulaChiangMyersChinedumUkaegbunamAkubunduSalStevensonSutherlandTs'aoSungPisaniHs?ehSherrodHollowayNewtonKangWaltonBradleyWatkinsTienDavideMilneBarlingBarnettEllisHsiaChukwujamuikeVenablesHsiaAlexanderYuanJohnstonHoblerJamiesonMacleodNorrisPirozziFollieroRussellHsiungTateDavisBairDruryPadovanoConwayWatersKangMartinUgochukwutubelumBurnsGenoveseBealeCherkasovaColesPotterMcMinnBergamaschiChijindumCh'iuYusupovaDavisIadanzaJordanKruglovaEchezonachukwuHajekWelchVinogradoffHungOkwudiliolisaMaysGardnerMameluRossBareseSwaynePhillipsManfrinTanAdamsTengChinwenduDavisonHsingCastroParkinMannaFennesceyColonYehBergamaschiMatveyevaIgnatyevaLedererNwabugwuAbramowitzChapmanFiorentinoCecilIkechukwuAllenKaoHartCharltonTurnbullMannersChiazagomekpereLavrentyevWallaceMillerBazhenovIfesinachiMaChuKerrWynneMoonDisherCattaneoBeluchiMazziIfeajunaHoweYocumMooreY?anChinweubaLowrieShenLavarackDavideGomesMatveyevaFiorentinoEberechukwuGibneyVirgoKulikovaLiuKaoForanJonesFowlerContiStephensonWillisTs'uiChibuzoFangWyckoffMuirHalpernFlynnShaoSoaresGalloLeiDanielsKenechiSingletonWilliamsGreeceOlisanugoPadovanoRossiGrantEbelegbulamMitchellBuckleyRepinaEllisDouglasBecherNwachukwuSmithAksyonovArtyomovaMedvedevaTsuiRunyonGalloBradshawEvansHancockButlerBradshawBergamaschiEbelegbulamGrecoLucasBarberDobbsThomsonSuWatkinsCh'ienMondsMcClemansShenGalloFoveauxLongoCalabresiRandallGarciaSullivanHigginsCrawfordMartinCurreyTengAustinHudsonTs'uiHancockNicholasNapolitanoJamiesonFosterMorettiChiedozieOkwukweLumholtzRoseWanDe BernalesCh'engEdmondsonCh'ienMillarDicksonToscaniPanChigozieSageseReillyTaylorYenKapustinSinghYehGenoveseBoyleBlairOkagbueKhanRobertsonTikhonovMacDonaldAh MouyBareseWinter-IrvingWilsonFiorentinoIloerikaDavisonHamiltonNnachetamBlueMadukweMillsFerrariNixonManfrinMcCartneyRobinsonNkemdirimSalKaoIkechukwuHargreavesSievierMurphyMunroDonnellyNorthCruzSinclairVasilievVasilyevaHamiltonSungGenovesiAtkinsonWatterstonButtersChienGorbunovaBulgakovSteelePolyakovaBullWeaverEarlGiordanoBeggPickeringFanucciChangSopuluchiMartinMcNaughtanStewartReaganHellerNwokeochaLiuSokolovaBancroftNnannaTrevisaniNwachinemeluTingLo DucaMarshallBandFerriCarterWilsonConnorReidSandefurBidwillConeSaundersLiardetWilkesMartinBoniPatelHowell-PriceSimpsonRowlandBarnardNnonsoRossiPendredMartinK?MillerAfamefulaSimsKnightObijiakuHopkinsOnioBlackEluemunoDoyleOnyemereRahmanSuWalkerFergusonSamaniegoOnwumeluYoungMazziToscanoWaltonChiangBurgosSpinelliLungNoblePaiChigoziePeavyYermakovBurtonCostaPugliesiLindellSorensonArcuriBanksParryCockettGalkinaSuMarinoSpearsCunninghamTaylorChiazagomekpereHardacreMaslowScottWakelinEspositoShahChukwufumnanyaFlemingLoriKennedyWaltersHanLawrenceCookeWanLo DucaYermakovaCombsChienMengCalabresiStevensonDavidsonCh'inRoseCh'ienArtyomovaMayrhoferYefremovKosovichLuTaplinEbelechukwuFlemingYefimovAndreyevaPickeringAllanWangReynoldsHalesY?anRowleyChiaMooreCopelandRishelWanEluemunoHsiaKellyMuirMcIntyreDonaldsonWrightUvarovaDohertyAllenMaTuckerCh'engHs?H?ChimaijemEsomchiLorenzoPirogovLarkinEddySellsCrawfordBezrukovManciniIadanzaWilkinsonP'engSt ClairPrestonFindlayNixonGorshkovChukwubuikemMedvedevaChukwuhaenyeEndrizziCh'angPiccioLockingtonSeleznyovWestonGroomManfrinRobertsonCh'angLucchesiCambageTanTaoHsiehBurdekinLongoMaughanFranzPiazzaMorantBecherLombardiLotonContiSaniLoriWongLombardiObialoMazziVon DoussaMillerMiracleSuWyattAnayolisaWadeEnemuoBrunoGreeceYangBrownAndersonJohnstonZakharovGolibeNikitinaLeonardBurnsBurtchClarkWoodwardSpencerChaoCostaMcLachlanHungAkhtarToscaniGrayWarrenRamsdenBartlettWenzKischMaiMcGregorPintoNewmanPagnottoWilliamsNdubuisiPlummerChimezieNashOnochieRizzoBoniDaviesLuBurrowsErshovaUdokammaAitkenTurnbullReillyHardyBrookmanKerrMcBurneyMickeyHarrisonOlszewskiChijiokeYoungBellasisDe MestreDe LucaMundyTungDonahueOkagbueNnaemekaVerjusH?NapolitaniGinikanwaSpaullSicilianiVoroninaTangCrumbleyHamiltonPiazzaBirchCustanceAnayochukwuGalkinAdamsToomeyMarshall-HallShenPagnottoWoodMorePiccioTochukwuGrahamTungP'engNevzorovaToscaniMcKenzieOkwuomaMorleyKerrHardingButlerCrawfordBrownGreeceMatthewsHeathVincentSalMilneBazileWardleLillyAitkenEnderbyChiuUgorjiSharpeHoughtonKonovalovaPatelNgozichukwukaMedlandPadovanoTsuiH?DenmanRattenBaxterNormanShenReillyIfeanachoGrahamLysaghtT'angAbronChimaraokeY?anSergeyevaMaObiajuluBelcherK?BrownAbernathyPapeTaoMaEarleKazantsevUspenskayaCoombesHopmanMcKayMilanesiChinezeDawsonShihHughesClarkChukwuhaenyeWallHowellLoLazarevLoweFollieroHanHollowayPaiTrejoJohnstonMacknightLoGlossopBishopYefremovaObialoNkemjikaTrevisaniParkesSeleznyovNaylorForbesDouglasNwankwoMyersRogovaHsingGiordanoOkwukweChalmersChiazagomekpereEvseyevParry-OkedenPicotReidFerriGenovesiNeumayerMurrayTienParkesYipIngleChidubemLuVorobyovaChiedozieNapolitaniCoffeyChigboguAkabuezeIstominNdubuezeToscaniRossFernandoMcClaranYermakovaSomadinaWanMazziTuanTownsleyYashinaHendersonMuellerWrightLungBryantMadukaifeMacleanAbdullahYaoCheathamGallagherHaoNixonWangKerrRomaniLockMillarK'ungOnyekachiSomayinaDennisBrownOgochukwuMacleodPageBareseAgafonovaCarawayStevensonDuncanWangKaurJenkinsEdwardsKellyBoyleLoanePadovanoLi FontiRobinsonGeachPayneChinonyelumWatkinsPageGenoveseWatsonManciniChibuezeHunterBuchiCharterisAksenovWrightLuK?HouDescoteauxStephensonCooperCrumpDiggsShihHudsonCarvossoWyattKodilinyechukwuVorobyovaPiccioHsingLucasT'angNorthThompsonSimpsonNworaChandlerUspenskyFergusonKerrFurneauxKambinachiBlackChizobaPengLeachChiazagomekpeleNicksonLinAlexeievaSykesMartinHerzNikitinaKoHighettJacksonBallNelsonWoronoffMorrisonSmithRendallMcIntyreWeiAllardyceCremonesiWeatherfordJenMacleodMironovaSharpeOsborneChuChongAlvarezPalermaChiemenamPritchardWallisPalermaHillHudsonChungZhdanovaFraserMengCherkasovaRawlingsJenChienGorbunovLucasYoungColomboTsaoLewisHussainAndersonUlyanovShawLuccianoGordonWoodwardCunninghamBoniTruscottGinikanwaBaileyHutchinsonMacleanChiangWillmoreGodsonSmithBitterTs'aoChialukaScottFengCastiglioneHeFanucciGinikanwaManningForlongeLiangUchechukwuSungTochukwuReynaLiangUnwinRutherfordHoweTranThompsonLingerJohnstonUdokammaBarreraSutherlandBednallOtooleCremonesiHamiltonDonaldsonMcKayBlackKaneSheBrunoWatsonShihRoseZikoranachukwudimmaColeIsaacsMuravyovaTimperleyKenechukwuHeStoreyOnyekachukwuKharlamovaChristopherLombardoKerrDuncanLawleyBurnsWhitsonDoynePintoChinDavideTorresBucchoGreeceWimblePirozziHsiungObiomaOnioUdinesiFerminMossDochertyMarceloFaddenZoxOtitodilinnaKennedyTuBarnesBibiL?LandseerNwachinemeluCh'iuVinogradovaJenksCracePackhamT'ienOnyekachiSolominaHawesBensonEmenikeNeroToscanoYangPalermaTrentiniHaddonCoatesCastiglioneStoneMaynardMooreObielumaniHardingHillBrownPagnottoEspositoTanHammondChungHoughtonChiaZikoranachidimmaBoagPagnottoOluchukwuBaxterTienChimezieSloneMartinLoggiaHartleyParkinLinBrooksTienDannTrentinoRussoChristieRossNnonsoTengBucchoMadukaifeDunnHookerGriffinKistlerLawGrigoryevaChuOnyemachukwuLuWatsonFallaciNiLeasonTsaiBrunerWallaceYoungForbesMuirPughWebbWalkerCoxMacleanHollisJamiesonSuP'engHawkinsNdubuaghaHillNortonAchebeSimpsonChiangDalrympleChukwuemekaOjioforRubeoFanucciZubarevT'aoPaiUdegbunamClaypoolManfrinBakerEfremovChinBrookesDoyleAjuluchukwuIkemefunaFowlerLiaoOnuoraAksenovTrevisaniWoodLombardoWalpoleChikwenduKoSteigradIsayevaBoniAnayolisaFallaciFentonChaoOsinachiChuObiutoChuNashHixsonFiorentiniChidimmaChiazagomekpereLauraWuToscaniMcMillanChiekwugoHendleyBirnieKempJohnstoneLo DucaMontgomeryMillerChiemezieWrightShawChapmanY?anClarkHowellsGambleRogersMcMillanBrownRobertsonThomasHsingChiuChangKornilovaChifoLuBellucciMichaelSinclairChukwuebukaSchmidtParryMcIntyreLo DucaFerrariBerryCattaneoFosterGordonMayCameronCh'engCurtisWhiteheadChukwuemekaOnwugharaGrantBrowneGoloubevGordonSutherlandQuesadaWrightSimmonsYobachukwuReadWunderNnaifeShenPowellGoddardBuckleyMcIntyreYenOkonkwoBurlingameHs?BoardAdamsRizzoChukwufumnanyaFraserRussellYefimovaPalermoBergamaschiShaoChimaraokeMcGregorKestevenRitchieJenksUdokammaBoyleAzukaPaiHowellsHs?KellyWaltonEbelechukwuVasilievaHsiaoAbregoGibsonGiordanoManciniAfanasyevaWrightOkwudiliolisaHughesParrottHughesZinachukwudiKeaneMcCollumSimpsonGambrellMorettiRicciRiekeNdubuaghaChungTs'aiCoxLeiUlyanovaGrayMcGregorTretiakovaGenovesiGordonAitkenGinikanwaCoatesPiazzaCawoodIgnatieffGalloYelvertonWilliamMaultMackayMcIntyreHenryKaoFrewinYefremovaAnenechukwuTrentinoTomlinsonRoystonCremonesiYehCh'inMartinezWearingMacleanT'aoRoseWhitworthSuttorHsingBoniMarshallCatchpoleTangSiddonsWanEfimovRoseFanucciIweobiegbulamIjenduO'SullivanHutchinsonKwemtoChiuBerryHungMordvinovaBrunoArbourBareseHingstonDavisLawrenceChungPadovanoBlinovaCarterWebbT'anYatesSuChristianChiuSaccoLettiereDaluchiT'ienHungLiuFengGilbertRobbManfrinChinwenmaSmithRoweMoranWalkerMyersWallMcKayEgobudikeWilliamsOchoaOtutodilinnaAjuluchukwuBellucciGordonJohnstonDe LucaHillEluemunoHowarthThomsonKingGrantGilbertRichmondFiorentinoGreeceDicksonHendersonStevensMitchellNworieBoniWentcherBentleyHayes-WilliamsJohnstoneJohnstoneNixonTrevisanoTsuiMossGrahamOnyemauchechukwuSaundersKoCairnsChiemelaRobertsonP'engTsengRussellYenYehKalininaCollierThomasShawFrancisGeorgeIkennaSchatzTaoScottSimsChibugoKuStantonKungGibsonIheanachoCostaSalLinFerriYinAvdeyevaTuDonnellyLoggiaChaoBelonwuWelchHendersonYobannaGalloWilsonMarinoBaileyGboliweChukwuhaenyeBianchiFordRizzoLungRamirezSabbatiniTs'aoTrevisanChinwenmaBerryColomboHarrisBryanChigozieMullawirraburkaSteeleZakharovCh'engBerryJenWangChubbChenMazzantiT'aoNdubuezeFerriThorntonDeRoseMontesKwemtoLuccheseHugginsWadeKenennaWheelerCartwrightIloerikaPalermoNkemakolamButlerCalabresiNkemdilimCh'iuAlexanderChiabuotuVasilyevaSchneiderMasonChukwukadibiaTsuiBanksShihTretiakovaBareseLongoMacDonaldChambersCowenIweobiegbunamMaiYuDuffyChiangWattsDalyBakerUvarovCostaGenovesiDohertyKaleskiWrightHuangTrentinoChienezieSugdenTuOnuchukwuUgochukwutubelumDavidsonGoddardBeckBeamSheppardGodfreyGrayHsiungCameronFlemingAustinWallaceKuFiorentinoBucchoGordonHaworthGuidryLettiereTaiChigozieBezrukovChiaSheppardVasilyevMaxwellMaherCocciP'anRapuluchukwuAzukaEspositoHouCyrilTomlinsonCrawfordChikwadoHargreavesLaidleyFergusonBurnsMcNeillChukwuebukaShenDiazKentishPersseOkwukweWattCarslawGriffinHsiaFyodorovaChukwujekwuTownsendMarshHayesPadovanoMaHamPatenCawthorneHerbertJenSaundersEsquivelChaoEluemunoSidorovaPirogovaBensonSantanaWilliamsonNorthDaviesSicilianoMironovAmechiToscanoSuChukwuemekaP'engLombardoLombardiButlerDeanPiccioBradleyCameronChanLettiereMironovaTsuiOkoliBerryRuseBogolyubovKennedyBoltonChuangGrecoMaNucciYaoPalfreymanWebsterCardellBianchiSomadinaMellorTomlinsonPaiLennoxMeldrumWatsonFindlaySuDavidsonBarrettMiahChamberlainVidalLungTretyakovaMontgomeryGolubevHanPanCarrollHawkinsLoggiaChesnokovaChambersFlemingVealeBrowneParsonsBaileyFerrariGenoveseMcIntyreWarnerGordonMcMillanChengAkhtarIadanzaAbernathyWatsonShenKershawReedMitchellWebbVanzettiNnannaCampbellCaponOtutodilichukwuBooneMcIntyreZhdanovNagyLombardoSimpsonHerbertLehrChouUpchurchUgorjiPalermaColesHsuehTuKuoWoodhouseTretiakovaGibsonMossChinezeDavidsonLiangGrahamNwebubeSozonovForbesChikezieOnwuemelieTothHuntMazureHughesBennettTienKayBryanIngamellsMilneLombardoOwensCharltonOverbyChifleyOliverHillDeRoseChuangEdwardsRodriguezLoPowellChuMunroOnwumeluSicilianiYobachiAkabuezeChiemenamOdinakachukwuReillyForbesAmadiFerriY?anWilliamsonBriggsNapolitaniCarpenterLinRobinsonCollinsKingsleyHarveyObioraKnightHungCurtisPerezGosnellFangClarkeMilanesiChiaGearhartMcLeanWilliamsonMurphyAngeloThomsonMurrayKirbyLaneBergamaschiYangMillsChidubemFindlayWoodBoyleToscanoSeccombeUspenskayaMcKenzieLiangYermakovaWhiteRounsevellTs'aiStonemanYaoChukwukereIfeatuMillarIgwebuikeObidimkpaHouMoodyKeldieLiuTs'aoWalkerDefalcoLo DucaHydeKanayochukwuYenTs'uiTillmanRileyTuRuizGoliweBalashovLeonardOnyekaozuluCarpenterBeedeBeneventiSadlierLewisChiazagomekpeleElliottLiangSheBozemanYuTengDavideBeneventiYobachukwuDouglasEgobudikeShelbyGolubovWilliamsonFanNwebubeBellucciUdineseMarianChizobaMcFarlandMcDonaldChiemezieFaneMarchesiScottH?CraigChikeluCaffynOtitodilichukwuGreenY?anMaoDahlenburgShihMacleanFiorentinoLongOlsonMcKenzieRossiPowerYenNorrisCollierRiversHudsonMilaniHuntOluchukwuLorenzoChidiegwuWarrenGloverAndersenArcuriMackinlayMcCarthyChiuNorrissMooreMottTs'aiFokinaNikitinaHenryChiefoMaoBezrukovaDoddLoriYudinaContiVolkovaBoniRitchieMcMillanPhillipsLombardiIrelandBoanShaoChiemenamHunterMcKayRobertsAitkenChaoBruceChanWattsGibbonsNiJenPhillipsAmaechiMaslowRowleyChukwuemekaBevanToppBurgoyneYermakovTs'uiKodilinyechukwuK?MarinoLucasAndersonWeiBaldwinFosterGebhartFedorovRobertsonTudawaliIloerikaOnyemauchechukwuMuirWalkerCharltonTsengIfeatuChinBlinovaMaconochieCh'inNicholsonBurgessYoungPlumbTrentinoAllenBenfordGalloCobbDohertyCocciMacadamTychonoffJohnsonTuChidieberePopeSutherlandBeneventiJamiesonSimmonsChijiokeIloerikaChiaNwachinemeluBecherRomanoWalkerChiawuotuWattUdegbunamWatsonBryantWardUrbanSutherlandK'ungIweobiegbunamWeiLascellesTs'aoMackCampbellFiorentiniLongLloydSneddonGorshkovForbesL?HopetounLucchesiFariaYefremovGenovesiMarquezTrevisaniTungBarnhillMarshallBednallPanOggT'angBaresiObiajuluMcGregorLungJamiesonPintoFallaciGoliweFerriRowleyTretiakovaSheNebeolisaYoungFitzgeraldArnoldChidimmaWellsCalzadaBlackSopuluchukwuTs'aoUkaegbunamWoodFurneauxGresswellCh'inMaIweobiegbunamMarceloAzubuikeStewartYenHsiehChiedozieShihAmechiKoChimezieAzubuikeAguirreLungAdamsCastiglioneYaoMoralesThomasVasilievChukwuelokaKoAtkinsMoffittPanicucciAkobunduChiuTsuiYobannaHollisCattaneoLungAngeloFollieroBryantWeigelAjuluchukwuZhirovCoxChimaraokeGenoveseOhearnMunroeMorrisonParkhillY?HiltonThompsonYobannaThorpeHarveyRobinsonMannaLiHancockHaoNichollsFollieroTrumbullMedvedevaCristMiddletonWattsUdineseTretiakovO'KaneVasilyevaWeiChinonyelumChinLorimerYehDuffyOnyekachukwuBanksHughesLaiMatthewsBellTuHsiaChengChengLinHigginsChukwujekwuMcKayVincentUbanwaCh'ienT'ienRicciMcDowellMacleanMannaJibunohFanHsiehParsonsUdineseRootChiemezieToscaniObidimkpaDegtyaryovMacleanGiordanoSaadLordHopeK?BullAdamsBrookesVictorGilesFerrariMilneParryAllanWarrenRowntreeAndrejewCorbyKennedyYoungPooleFletcherTsaoGilroyOnwuamaezeMannaPisanoThorpeDwyerOkekeZitoSergeyevaFangFlannaganMaoSturdeeAzikiweChidiHullShahMorganVaginBrunoOsinachiHoTsuiGordonDuncanHuDochertyBrookesAngeloEmenikePughMcKenzieMachEndrizziL?MacPhersonMichaelChiedozieHughesTaylorEvdokimovDavisUbanwaMurraySmithEvseevMitchellNiPalermaYuanKnightRapuokwuWanArtamonovaRossiGrecoFleetwood-SmithButusovWestSandersParksEdithKorovinLajoieBergamaschiT'ienTorodeFuCameronCattaneoJamesAbramovichOnwugharaWanSalinasHoClevelandBurkeTrentinoKashiwagiNucciOluchiTs'uiGrahamLuccianoAldridgeFlynnScottDouglasShaoCh'enPugliesiMcGregorHouThompsonChouCh'inMillerBarkerSmithAzikiweManciniP'engDiribeT'aoBurbidgeGriffinCocciEchezonachukwuNepeanBartlettManciniPirozziMcMillanNkemakonamAjuluchukwuChukwualukaRahmanWoodObijiakuJohnstoneLiuSabbatiniWalker\"\n",
       " 'FranceSpainFranceFranceSpainSpainFranceGermanyFranceFranceFranceSpainFranceFranceSpainGermanyGermanySpainSpainFranceFranceSpainSpainFranceFranceFranceGermanyFranceGermanyFranceSpainFranceGermanySpainSpainFranceSpainSpainFranceGermanySpainFranceFranceFranceSpainGermanyGermanyGermanyGermanyGermanyGermanyGermanyFranceGermanyGermanyFranceFranceGermanySpainFranceGermanyGermanySpainSpainGermanyGermanyGermanyGermanyGermanyFranceGermanyFranceSpainGermanyFranceFranceFranceFranceSpainGermanyFranceFranceFranceFranceFranceSpainSpainFranceFranceGermanySpainFranceFranceFranceSpainSpainSpainGermanySpainFranceFranceFranceFranceSpainSpainSpainGermanyGermanySpainGermanyGermanyGermanyFranceSpainGermanyGermanyGermanyFranceGermanyGermanyFranceSpainFranceGermanyFranceFranceFranceGermanyFranceFranceFranceGermanyFranceFranceGermanyGermanyGermanyFranceSpainSpainGermanyFranceFranceSpainFranceSpainSpainFranceFranceFranceSpainFranceSpainFranceFranceSpainFranceSpainFranceGermanySpainFranceFranceSpainSpainGermanyGermanySpainSpainGermanyFranceGermanyGermanyFranceFranceSpainFranceGermanySpainGermanySpainFranceGermanyFranceFranceFranceFranceSpainSpainGermanyFranceFranceFranceFranceSpainFranceSpainGermanyFranceFranceSpainFranceSpainFranceSpainFranceSpainFranceFranceFranceGermanyFranceFranceFranceGermanyGermanyFranceSpainFranceFranceFranceSpainFranceFranceGermanyFranceFranceGermanyGermanyGermanyFranceFranceFranceGermanyFranceGermanyFranceGermanyFranceFranceSpainGermanyFranceGermanySpainFranceGermanyFranceGermanyGermanyGermanySpainFranceGermanySpainSpainFranceGermanyFranceGermanyGermanySpainFranceFranceSpainSpainFranceFranceSpainGermanySpainGermanyGermanyFranceGermanySpainFranceFranceFranceFranceFranceSpainGermanyFranceFranceFranceSpainFranceSpainSpainGermanySpainFranceSpainFranceFranceFranceSpainFranceFranceFranceSpainFranceFranceFranceFranceFranceGermanyFranceGermanyFranceGermanyFranceGermanySpainSpainFranceSpainSpainFranceSpainFranceFranceFranceFranceFranceFranceFranceGermanyGermanyFranceSpainGermanyGermanySpainFranceGermanyFranceSpainGermanyGermanyFranceSpainFranceFranceFranceGermanyGermanyGermanyFranceSpainSpainSpainSpainFranceFranceSpainSpainFranceFranceSpainGermanyFranceGermanyFranceSpainGermanyGermanyGermanyFranceSpainGermanyGermanyGermanyGermanyFranceGermanySpainSpainSpainFranceFranceGermanyGermanyGermanyFranceSpainSpainSpainFranceGermanyGermanySpainSpainSpainGermanyFranceGermanyFranceFranceFranceGermanySpainSpainFranceFranceSpainSpainGermanyGermanySpainFranceSpainGermanySpainSpainGermanyFranceFranceFranceGermanyFranceGermanyFranceFranceFranceGermanyFranceGermanyGermanyGermanyGermanyGermanyGermanyFranceFranceGermanyFranceFranceGermanyFranceFranceFranceFranceSpainFranceFranceFranceFranceSpainGermanyFranceSpainSpainFranceFranceFranceFranceGermanySpainGermanyFranceSpainFranceSpainFranceSpainGermanyFranceFranceSpainFranceFranceFranceFranceGermanyGermanyFranceFranceFranceSpainFranceFranceGermanySpainFranceFranceFranceFranceGermanySpainFranceFranceFranceFranceGermanyFranceFranceGermanyFranceSpainFranceFranceSpainSpainFranceGermanyGermanyFranceSpainGermanyGermanySpainFranceFranceSpainFranceGermanyFranceFranceFranceFranceSpainGermanyFranceFranceFranceFranceGermanyFranceSpainSpainFranceSpainFranceFranceGermanySpainGermanyGermanyFranceFranceFranceSpainFranceSpainFranceGermanyFranceFranceGermanyGermanySpainFranceGermanySpainGermanyGermanySpainSpainGermanySpainSpainFranceSpainFranceSpainSpainGermanyFranceFranceFranceFranceSpainSpainFranceSpainFranceFranceFranceSpainSpainSpainGermanyGermanyFranceSpainFranceFranceSpainGermanyFranceFranceSpainSpainGermanySpainGermanyGermanyGermanyFranceSpainFranceFranceFranceFranceFranceFranceFranceGermanyFranceFranceFranceSpainGermanySpainSpainGermanySpainSpainFranceSpainGermanyGermanySpainSpainFranceFranceFranceSpainFranceGermanySpainGermanyFranceSpainSpainFranceFranceFranceSpainFranceFranceGermanyFranceFranceFranceFranceFranceFranceFranceFranceFranceGermanySpainGermanySpainGermanyFranceFranceGermanySpainFranceFranceFranceFranceFranceFranceSpainFranceGermanyFranceFranceSpainSpainFranceSpainGermanySpainSpainFranceSpainGermanyGermanyFranceSpainFranceGermanyFranceFranceGermanyFranceGermanyFranceFranceFranceSpainGermanySpainGermanyFranceFranceSpainSpainGermanyGermanyGermanyFranceFranceFranceFranceGermanySpainFranceSpainFranceGermanySpainFranceFranceSpainSpainFranceFranceFranceFranceFranceFranceFranceFranceFranceFranceSpainGermanyGermanyFranceSpainFranceFranceFranceFranceFranceFranceFranceFranceFranceFranceSpainSpainGermanyFranceGermanyFranceGermanySpainFranceGermanySpainFranceFranceFranceFranceGermanyGermanyGermanySpainFranceGermanySpainFranceGermanyFranceFranceFranceGermanyFranceGermanySpainFranceSpainFranceFranceFranceFranceGermanySpainFranceGermanySpainSpainFranceFranceGermanyGermanyFranceGermanyFranceGermanyFranceGermanyFranceGermanyGermanySpainFranceSpainFranceFranceGermanyFranceFranceSpainSpainGermanyFranceFranceFranceGermanySpainFranceGermanyFranceSpainSpainSpainGermanyFranceSpainGermanyFranceFranceSpainGermanyGermanyFranceFranceSpainGermanySpainFranceGermanyFranceGermanySpainFranceFranceGermanyFranceSpainFranceGermanyGermanyGermanyFranceFranceSpainGermanySpainSpainFranceFranceFranceFranceFranceFranceGermanyFranceFranceGermanyFranceFranceGermanyFranceFranceFranceFranceGermanySpainFranceFranceFranceFranceFranceFranceFranceFranceSpainFranceGermanyFranceSpainGermanyFranceFranceGermanyGermanyFranceFranceFranceGermanyGermanyFranceFranceFranceFranceFranceFranceFranceSpainSpainFranceSpainSpainGermanyFranceFranceFranceFranceSpainSpainFranceSpainFranceGermanyFranceGermanySpainGermanyGermanyFranceSpainGermanyGermanySpainSpainFranceFranceGermanyFranceFranceSpainFranceFranceGermanyFranceSpainSpainFranceFranceFranceFranceGermanyGermanySpainSpainFranceSpainSpainSpainFranceGermanySpainSpainSpainGermanyFranceFranceSpainFranceGermanyFranceFranceGermanySpainFranceSpainFranceFranceFranceFranceFranceGermanyFranceGermanyFranceGermanyFranceSpainSpainFranceFranceFranceGermanySpainSpainSpainSpainSpainGermanyFranceGermanyFranceGermanyFranceGermanyGermanySpainFranceFranceSpainFranceSpainFranceSpainSpainFranceGermanyGermanyGermanyFranceFranceSpainFranceFranceFranceFranceFranceGermanySpainSpainFranceFranceSpainFranceFranceSpainFranceFranceFranceFranceSpainFranceSpainFranceFranceSpainSpainFranceGermanyGermanyFranceSpainGermanySpainSpainSpainSpainFranceGermanyFranceSpainSpainGermanyFranceFranceFranceFranceGermanyFranceFranceGermanyGermanySpainSpainFranceGermanySpainFranceGermanyFranceGermanySpainSpainFranceFranceFranceFranceFranceSpainFranceGermanyFranceFranceFranceFranceFranceGermanyFranceFranceSpainFranceSpainSpainGermanyFranceFranceFranceGermanyGermanyFranceFranceGermanyFranceGermanyFranceSpainFranceFranceSpainSpainGermanyFranceGermanyGermanySpainGermanySpainGermanyFranceFranceGermanySpainFranceFranceFranceGermanyFranceFranceGermanySpainFranceFranceSpainFranceGermanyFranceGermanyGermanySpainFranceFranceSpainGermanyGermanySpainFranceFranceSpainGermanySpainFranceFranceFranceGermanyFranceGermanyGermanyFranceFranceFranceSpainGermanyGermanySpainSpainSpainFranceFranceFranceGermanyFranceGermanyFranceFranceGermanyFranceFranceFranceFranceFranceFranceGermanySpainSpainFranceFranceGermanySpainFranceFranceGermanyGermanyFranceFranceFranceFranceSpainGermanyFranceFranceFranceFranceSpainFranceSpainSpainFranceGermanyFranceGermanyGermanyFranceFranceSpainSpainSpainGermanyFranceFranceSpainGermanySpainGermanyGermanyFranceGermanyGermanyFranceFranceFranceFranceFranceGermanyGermanyGermanyFranceFranceFranceSpainFranceGermanyGermanyFranceGermanyFranceSpainFranceFranceFranceGermanyGermanyGermanySpainFranceSpainFranceFranceGermanyFranceFranceGermanyFranceGermanyFranceSpainFranceGermanyFranceSpainFranceSpainSpainFranceFranceFranceSpainSpainSpainSpainGermanyGermanySpainFranceFranceFranceSpainSpainFranceFranceGermanyFranceSpainFranceGermanyFranceGermanySpainSpainFranceSpainGermanyFranceFranceFranceFranceSpainFranceFranceFranceGermanyFranceFranceFranceSpainGermanyFranceFranceSpainGermanyFranceSpainGermanyFranceGermanyGermanySpainSpainGermanyFranceSpainSpainFranceSpainSpainGermanySpainFranceFranceFranceSpainFranceFranceGermanySpainSpainSpainFranceFranceFranceFranceGermanyFranceGermanySpainGermanyFranceSpainGermanySpainGermanyFranceFranceFranceGermanyFranceFranceFranceSpainSpainGermanyGermanyFranceSpainFranceSpainFranceFranceFranceFranceFranceFranceGermanySpainFranceFranceSpainSpainGermanyFranceSpainFranceSpainFranceFranceSpainFranceSpainFranceFranceFranceFranceGermanyGermanyGermanyGermanyGermanySpainGermanyGermanyFranceSpainGermanySpainGermanySpainFranceFranceGermanyFranceFranceFranceFranceSpainFranceFranceSpainGermanyFranceGermanyFranceGermanySpainFranceFranceFranceFranceFranceSpainGermanyGermanySpainFranceFranceFranceSpainGermanySpainFranceFranceFranceFranceSpainGermanyFranceSpainFranceFranceGermanyFranceGermanyGermanyFranceSpainFranceGermanyFranceFranceFranceFranceGermanyFranceSpainFranceFranceSpainFranceFranceSpainSpainFranceSpainGermanySpainSpainFranceGermanySpainFranceGermanyFranceFranceFranceGermanyFranceFranceGermanyFranceGermanyFranceFranceFranceSpainFranceFranceSpainSpainFranceFranceSpainFranceGermanySpainFranceSpainFranceSpainFranceGermanyFranceSpainFranceFranceGermanyFranceGermanySpainFranceFranceSpainFranceGermanyGermanyFranceSpainSpainGermanyGermanySpainSpainFranceSpainSpainFranceFranceFranceFranceSpainGermanyFranceGermanyGermanyGermanyGermanySpainGermanyFranceGermanyFranceFranceGermanySpainFranceFranceFranceGermanyFranceFranceSpainFranceGermanyFranceGermanyFranceFranceSpainFranceFranceFranceFranceGermanySpainFranceSpainSpainGermanyFranceGermanyFranceGermanyFranceFranceFranceFranceGermanyFranceGermanyGermanyFranceFranceFranceFranceGermanyFranceGermanyFranceGermanyFranceSpainFranceFranceGermanySpainFranceFranceSpainFranceFranceFranceSpainGermanyGermanySpainFranceFranceSpainFranceFranceSpainFranceGermanySpainSpainSpainFranceFranceGermanyGermanyFranceGermanySpainFranceSpainFranceFranceFranceFranceGermanyGermanyFranceSpainFranceGermanyGermanyGermanyFranceFranceFranceSpainFranceFranceSpainGermanyFranceGermanyGermanySpainSpainSpainFranceFranceSpainSpainFranceFranceFranceGermanySpainSpainFranceSpainSpainSpainFranceSpainFranceFranceGermanyFranceGermanyGermanyFranceFranceSpainGermanyFranceFranceSpainFranceFranceSpainSpainGermanySpainFranceGermanyGermanySpainSpainSpainSpainGermanyFranceSpainFranceGermanyGermanyGermanySpainSpainFranceFranceSpainFranceGermanyGermanyFranceGermanySpainSpainFranceFranceFranceGermanyFranceFranceFranceSpainGermanyGermanyFranceGermanyFranceGermanySpainGermanySpainFranceGermanyGermanyFranceFranceFranceFranceFranceFranceGermanyFranceFranceSpainGermanySpainFranceGermanySpainFranceFranceFranceFranceFranceFranceFranceSpainFranceSpainFranceGermanySpainFranceFranceSpainGermanySpainSpainSpainFranceGermanyFranceGermanyFranceSpainFranceFranceSpainFranceFranceGermanyFranceFranceFranceFranceFranceFranceGermanyFranceGermanyFranceFranceGermanySpainSpainSpainSpainSpainGermanyFranceGermanyGermanySpainSpainGermanyFranceFranceFranceGermanySpainGermanySpainFranceGermanyFranceSpainFranceSpainFranceFranceFranceSpainSpainGermanySpainGermanyFranceSpainFranceGermanyFranceSpainFranceFranceFranceSpainGermanyFranceSpainFranceFranceFranceFranceFranceGermanySpainSpainSpainGermanySpainSpainGermanySpainSpainFranceGermanySpainFranceGermanyFranceSpainSpainSpainFranceFranceFranceFranceGermanyFranceSpainFranceSpainSpainGermanySpainFranceSpainSpainSpainSpainGermanyFranceFranceSpainSpainSpainFranceGermanyGermanySpainSpainGermanyGermanyFranceFranceFranceFranceFranceFranceFranceFranceFranceGermanyGermanySpainGermanyFranceSpainGermanyGermanyFranceGermanyFranceFranceFranceGermanySpainFranceGermanySpainFranceGermanyFranceSpainFranceFranceFranceGermanyFranceSpainGermanyFranceFranceFranceFranceSpainSpainSpainGermanyFranceFranceGermanySpainSpainFranceFranceSpainSpainFranceFranceFranceSpainSpainGermanyFranceFranceSpainFranceSpainSpainSpainGermanyFranceSpainSpainSpainGermanyFranceGermanyFranceFranceFranceFranceFranceGermanyFranceFranceFranceFranceGermanyGermanyFranceGermanyFranceGermanySpainFranceFranceGermanyFranceGermanyFranceSpainGermanyFranceGermanyGermanyGermanyFranceSpainFranceSpainFranceFranceFranceSpainFranceGermanySpainGermanyFranceSpainSpainFranceGermanyFranceFranceGermanyFranceFranceFranceGermanyFranceFranceFranceFranceFranceGermanyFranceFranceGermanySpainFranceFranceSpainSpainGermanyGermanyGermanyFranceFranceGermanyFranceSpainGermanyFranceSpainFranceSpainGermanyGermanyFranceSpainFranceFranceFranceGermanySpainFranceFranceGermanySpainFranceGermanyFranceSpainFranceSpainFranceSpainGermanyFranceSpainFranceFranceFranceSpainGermanyFranceFranceFranceGermanySpainGermanySpainGermanyFranceSpainGermanySpainGermanyFranceFranceFranceFranceGermanyFranceSpainGermanyFranceFranceFranceGermanyFranceFranceFranceFranceSpainFranceFranceGermanyFranceFranceSpainFranceFranceFranceFranceFranceSpainSpainFranceFranceSpainSpainFranceFranceFranceFranceGermanyFranceFranceFranceFranceFranceFranceGermanyFranceFranceSpainFranceFranceFranceGermanyGermanyFranceGermanyGermanyFranceFranceGermanySpainFranceSpainSpainFranceGermanySpainFranceFranceSpainGermanySpainSpainFranceGermanySpainFranceFranceFranceSpainGermanySpainSpainFranceFranceFranceSpainSpainFranceSpainFranceFranceFranceSpainGermanyFranceGermanyGermanyFranceFranceFranceSpainSpainGermanyGermanyGermanyGermanyFranceSpainGermanySpainSpainFranceSpainFranceFranceSpainSpainFranceSpainGermanyFranceFranceFranceGermanyGermanyGermanySpainFranceFranceSpainGermanySpainFranceSpainSpainGermanySpainFranceSpainFranceSpainFranceFranceFranceGermanyFranceFranceFranceFranceGermanyFranceFranceFranceFranceGermanyGermanySpainFranceFranceFranceFranceFranceSpainFranceGermanyFranceFranceGermanyGermanyGermanyFranceFranceFranceSpainSpainFranceSpainFranceFranceGermanyFranceGermanyGermanySpainFranceFranceSpainSpainFranceFranceGermanyGermanyGermanyFranceFranceFranceGermanySpainFranceGermanyFranceSpainGermanyGermanyGermanySpainFranceFranceSpainSpainFranceSpainFranceSpainGermanyFranceSpainSpainGermanyFranceSpainFranceGermanyGermanyFranceSpainGermanyGermanySpainGermanyGermanyFranceGermanyGermanyFranceSpainFranceGermanySpainGermanyFranceFranceGermanyGermanyGermanyGermanyFranceFranceGermanyFranceGermanySpainSpainFranceFranceGermanyFranceSpainSpainSpainFranceFranceFranceFranceSpainFranceFranceFranceFranceFranceSpainGermanySpainGermanyFranceSpainGermanyFranceFranceFranceSpainSpainGermanyGermanySpainFranceFranceGermanyFranceSpainGermanySpainGermanyFranceGermanyFranceGermanyFranceFranceFranceSpainFranceSpainFranceGermanyFranceFranceFranceSpainFranceGermanyFranceFranceGermanyFranceGermanySpainFranceGermanySpainFranceGermanyFranceSpainSpainFranceFranceGermanyFranceFranceFranceGermanyGermanyFranceFranceFranceSpainGermanyFranceSpainSpainSpainFranceGermanyFranceFranceFranceGermanySpainGermanyFranceFranceGermanySpainGermanyFranceGermanyFranceFranceGermanyFranceFranceFranceGermanyFranceSpainFranceFranceFranceSpainFranceSpainFranceGermanySpainGermanySpainFranceGermanyFranceFranceFranceFranceFranceGermanyFranceFranceSpainGermanySpainFranceFranceFranceFranceGermanyFranceFranceGermanyFranceFranceGermanyFranceSpainGermanyGermanyFranceFranceSpainFranceSpainFranceFranceFranceFranceGermanyFranceFranceGermanyGermanyFranceFranceSpainGermanyGermanyFranceGermanySpainGermanyFranceFranceSpainFranceFranceFranceFranceSpainSpainSpainFranceSpainFranceGermanyGermanySpainSpainFranceFranceFranceFranceGermanyFranceGermanyGermanySpainFranceFranceSpainGermanyGermanySpainGermanyFranceGermanyGermanyFranceFranceFranceFranceFranceFranceFranceFranceFranceSpainGermanyGermanyGermanyGermanyFranceFranceSpainSpainSpainFranceSpainGermanyGermanyFranceSpainFranceFranceFranceFranceFranceFranceSpainFranceGermanyFranceSpainGermanyFranceSpainFranceFranceGermanyFranceSpainGermanyGermanyGermanyGermanySpainGermanyFranceSpainFranceSpainFranceSpainFranceFranceGermanySpainGermanySpainFranceFranceFranceSpainFranceFranceFranceFranceGermanyFranceSpainFranceGermanySpainFranceGermanyFranceFranceFranceFranceSpainFranceGermanyFranceFranceFranceFranceFranceSpainFranceFranceFranceGermanyGermanyFranceFranceSpainFranceGermanyGermanySpainSpainFranceGermanyFranceGermanyFranceSpainFranceFranceFranceGermanyGermanySpainFranceFranceGermanyFranceFranceFranceGermanyFranceSpainFranceFranceSpainFranceGermanyFranceGermanySpainFranceFranceFranceGermanyFranceGermanySpainGermanyFranceFranceGermanyFranceGermanyGermanyGermanyFranceSpainFranceGermanyFranceGermanyGermanyGermanyFranceSpainFranceGermanyFranceFranceFranceSpainGermanyFranceFranceGermanyFranceFranceFranceSpainFranceFranceSpainFranceFranceFranceFranceGermanyGermanyGermanyGermanyFranceFranceFranceGermanyFranceGermanyFranceGermanyGermanyFranceFranceSpainFranceGermanySpainGermanySpainGermanyFranceFranceGermanyFranceGermanyFranceGermanySpainGermanySpainFranceGermanyFranceFranceFranceGermanyGermanyFranceFranceSpainFranceGermanyFranceFranceSpainFranceFranceFranceFranceSpainFranceFranceGermanyGermanyFranceSpainFranceFranceFranceSpainSpainGermanyFranceFranceFranceFranceSpainGermanySpainFranceFranceSpainFranceSpainFranceGermanySpainGermanySpainFranceSpainGermanyFranceGermanyGermanySpainFranceFranceFranceFranceFranceFranceFranceSpainGermanySpainFranceSpainFranceFranceGermanyFranceGermanyFranceFranceSpainSpainFranceFranceSpainSpainGermanyGermanySpainSpainSpainSpainGermanyGermanyGermanyFranceFranceFranceSpainFranceGermanyGermanyFranceSpainGermanyFranceFranceFranceGermanyFranceGermanyFranceFranceSpainFranceFranceFranceFranceGermanySpainFranceFranceGermanyFranceFranceGermanyFranceFranceGermanyFranceFranceGermanySpainFranceGermanySpainGermanyGermanyFranceFranceFranceGermanyGermanyGermanyGermanyFranceSpainFranceSpainFranceSpainFranceFranceSpainSpainFranceFranceFranceGermanyFranceFranceFranceSpainSpainGermanyFranceFranceFranceFranceFranceFranceFranceFranceGermanySpainFranceFranceFranceGermanyFranceGermanySpainFranceFranceSpainSpainFranceGermanyFranceFranceSpainFranceFranceSpainGermanySpainGermanyFranceFranceGermanyGermanyFranceSpainGermanyFranceFranceSpainFranceFranceSpainFranceFranceFranceFranceSpainGermanyFranceGermanyFranceFranceFranceFranceFranceFranceSpainFranceFranceSpainGermanyFranceSpainFranceFranceFranceFranceSpainFranceGermanyFranceFranceFranceGermanySpainFranceFranceSpainFranceFranceGermanyFranceFranceFranceSpainFranceFranceGermanyFranceSpainGermanyGermanySpainSpainFranceFranceFranceFranceFranceSpainFranceFranceFranceSpainFranceFranceGermanyFranceFranceSpainFranceFranceGermanyFranceFranceSpainFranceFranceGermanyGermanyFranceGermanyGermanySpainGermanySpainFranceFranceFranceFranceFranceFranceFranceGermanyFranceSpainFranceFranceSpainGermanyFranceGermanyGermanyFranceSpainGermanyGermanyFranceFranceGermanyFranceFranceSpainSpainGermanyGermanyGermanyFranceFranceFranceFranceFranceSpainFranceGermanySpainGermanyFranceFranceFranceSpainFranceGermanySpainGermanySpainGermanyFranceFranceFranceFranceFranceFranceFranceFranceSpainGermanyFranceGermanySpainGermanyFranceSpainFranceSpainGermanyFranceFranceFranceFranceSpainGermanySpainFranceFranceFranceSpainSpainGermanyFranceFranceGermanyFranceFranceSpainGermanyFranceGermanyFranceSpainFranceGermanyFranceFranceFranceFranceSpainFranceFranceGermanyGermanyGermanySpainFranceFranceFranceFranceSpainFranceFranceGermanyFranceSpainFranceFranceSpainFranceFranceFranceGermanyFranceGermanySpainGermanyFranceSpainGermanyFranceSpainFranceFranceGermanySpainFranceGermanyGermanySpainFranceSpainGermanyGermanyGermanyFranceFranceFranceFranceFranceFranceSpainFranceSpainSpainSpainFranceSpainFranceGermanyFranceFranceGermanyGermanyFranceSpainFranceFranceFranceGermanyFranceFranceGermanyFranceSpainFranceGermanyFranceSpainFranceGermanyFranceFranceFranceSpainGermanyFranceGermanyFranceSpainFranceSpainFranceFranceGermanyFranceFranceSpainFranceFranceFranceGermanyFranceGermanyFranceFranceFranceSpainFranceFranceFranceFranceGermanySpainGermanySpainGermanyFranceGermanyFranceSpainFranceGermanyFranceFranceFranceFranceFranceSpainSpainFranceFranceSpainFranceFranceFranceFranceFranceFranceFranceFranceSpainSpainFranceGermanySpainFranceFranceFranceFranceFranceGermanyFranceSpainSpainSpainSpainSpainGermanyFranceGermanyFranceGermanyFranceFranceFranceFranceGermanySpainGermanyFranceFranceFranceGermanyGermanyGermanyGermanySpainFranceGermanyFranceGermanyFranceSpainGermanyGermanyFranceFranceSpainGermanyFranceFranceSpainFranceGermanyGermanyGermanySpainSpainFranceGermanyGermanyFranceFranceSpainGermanyGermanySpainFranceFranceGermanyFranceFranceFranceFranceFranceFranceFranceFranceFranceFranceFranceFranceFranceSpainFranceGermanyGermanyGermanyFranceGermanyFranceFranceSpainFranceFranceFranceFranceFranceFranceGermanySpainSpainGermanySpainFranceFranceGermanyFranceFranceFranceGermanyFranceGermanyFranceFranceFranceFranceFranceFranceGermanySpainSpainGermanyFranceGermanySpainGermanyFranceFranceFranceGermanyFranceFranceFranceSpainFranceFranceGermanySpainFranceGermanySpainGermanyFranceGermanyFranceSpainFranceFranceFranceFranceSpainFranceSpainSpainFranceFranceGermanySpainSpainSpainGermanyFranceSpainFranceSpainSpainFranceGermanyFranceSpainFranceGermanyFranceFranceFranceFranceFranceGermanyGermanyFranceFranceFranceSpainFranceFranceFranceFranceFranceSpainFranceSpainSpainFranceSpainFranceSpainFranceSpainFranceFranceFranceGermanyFranceFranceFranceFranceSpainFranceGermanyFranceGermanySpainFranceFranceGermanyFranceFranceSpainSpainFranceSpainFranceSpainSpainGermanyFranceGermanyFranceFranceSpainSpainFranceFranceFranceFranceFranceFranceGermanyGermanySpainFranceSpainSpainSpainSpainFranceFranceGermanyGermanyFranceFranceFranceFranceFranceGermanyGermanyGermanyFranceFranceSpainGermanyFranceFranceFranceSpainFranceFranceFranceSpainGermanyGermanyGermanyFranceGermanyGermanyFranceFranceFranceSpainFranceFranceGermanyFranceFranceFranceGermanyFranceFranceSpainGermanyGermanyFranceFranceGermanyGermanyFranceFranceFranceSpainGermanyFranceSpainGermanySpainGermanyFranceFranceSpainSpainGermanyFranceFranceSpainSpainSpainGermanyGermanySpainFranceFranceFranceFranceFranceFranceFranceFranceFranceFranceFranceGermanyGermanyGermanyFranceFranceFranceFranceSpainGermanyFranceFranceGermanyFranceSpainGermanyGermanyFranceFranceGermanyFranceFranceFranceFranceFranceSpainFranceSpainSpainFranceSpainFranceFranceSpainFranceFranceGermanyFranceSpainFranceSpainFranceFranceFranceFranceGermanyFranceFranceFranceFranceFranceGermanyFranceFranceSpainSpainFranceFranceFranceGermanySpainGermanyFranceGermanyGermanyGermanyFranceFranceGermanyFranceFranceGermanyGermanyFranceGermanyFranceSpainSpainSpainGermanyFranceGermanyGermanyFranceGermanySpainGermanyFranceFranceGermanyGermanyGermanyGermanyGermanyGermanyFranceFranceFranceFranceSpainSpainFranceSpainFranceFranceSpainFranceFranceSpainFranceGermanyGermanyFranceFranceSpainFranceSpainFranceFranceGermanySpainFranceFranceGermanyFranceFranceSpainFranceGermanyGermanyGermanySpainFranceGermanyGermanyGermanyGermanySpainSpainFranceFranceGermanyFranceFranceFranceFranceSpainSpainFranceSpainGermanyGermanyFranceSpainSpainFranceGermanySpainFranceFranceFranceSpainFranceFranceFranceGermanyFranceGermanyFranceSpainFranceFranceFranceSpainFranceGermanyGermanyFranceFranceFranceSpainGermanySpainGermanySpainSpainGermanyGermanyGermanyFranceFranceSpainFranceFranceFranceFranceGermanySpainFranceFranceFranceGermanyGermanyGermanyGermanyFranceFranceFranceFranceFranceSpainFranceGermanyFranceFranceFranceFranceFranceFranceSpainFranceSpainGermanySpainGermanySpainGermanyFranceFranceFranceFranceFranceFranceGermanyGermanyFranceFranceFranceGermanyGermanyGermanyFranceSpainGermanyFranceGermanyGermanyFranceFranceSpainSpainSpainGermanyFranceFranceGermanySpainFranceFranceFranceSpainGermanyFranceGermanySpainFranceFranceSpainGermanyFranceFranceFranceFranceSpainGermanySpainFranceGermanyGermanyFranceFranceFranceSpainGermanySpainFranceGermanyGermanyGermanyFranceSpainFranceFranceSpainFranceFranceSpainGermanySpainFranceFranceSpainFranceFranceGermanyGermanyFranceGermanyFranceFranceFranceFranceFranceSpainFranceFranceGermanySpainFranceSpainFranceSpainSpainFranceGermanySpainGermanyFranceFranceFranceFranceFranceSpainFranceSpainFranceGermanyFranceFranceGermanyGermanySpainSpainSpainFranceFranceFranceFranceFranceGermanyGermanyFranceSpainFranceFranceFranceSpainFranceSpainGermanySpainGermanyGermanyFranceFranceFranceGermanySpainFranceGermanyGermanyFranceFranceFranceGermanyGermanyGermanyGermanySpainSpainFranceGermanySpainFranceFranceFranceSpainSpainFranceFranceSpainSpainFranceSpainFranceSpainFranceSpainGermanyFranceGermanySpainFranceFranceSpainFranceFranceFranceFranceSpainFranceFranceGermanySpainFranceGermanySpainFranceSpainSpainFranceSpainFranceFranceFranceSpainSpainFranceGermanySpainGermanySpainFranceFranceGermanyFranceGermanyFranceFranceGermanySpainSpainFranceSpainSpainSpainFranceFranceGermanySpainSpainSpainFranceSpainSpainFranceGermanyGermanyFranceSpainFranceFranceGermanyFranceSpainFranceFranceFranceGermanySpainFranceSpainFranceSpainSpainSpainGermanyFranceFranceFranceSpainSpainFranceFranceFranceGermanyGermanyGermanyGermanySpainFranceFranceFranceFranceFranceGermanyFranceFranceFranceFranceGermanyGermanyFranceSpainGermanySpainFranceFranceGermanyFranceFranceFranceFranceFranceSpainSpainFranceSpainGermanyFranceFranceFranceFranceSpainGermanyFranceFranceSpainGermanySpainGermanyFranceGermanySpainFranceSpainGermanyFranceSpainFranceFranceSpainGermanyGermanySpainFranceSpainSpainSpainGermanyFranceFranceFranceFranceFranceFranceFranceFranceSpainSpainSpainFranceFranceFranceFranceGermanyGermanyGermanySpainGermanyFranceGermanySpainSpainSpainFranceFranceFranceFranceFranceFranceFranceFranceFranceFranceFranceFranceFranceFranceSpainGermanyFranceGermanyFranceFranceSpainFranceFranceFranceFranceGermanySpainGermanyFranceSpainFranceGermanySpainFranceSpainFranceSpainGermanyFranceFranceFranceFranceFranceFranceFranceSpainFranceGermanyFranceGermanyGermanyGermanyFranceGermanySpainFranceFranceGermanyFranceFranceGermanyGermanySpainSpainFranceSpainSpainGermanyGermanyFranceSpainFranceFranceGermanyFranceGermanySpainSpainFranceFranceSpainFranceFranceFranceSpainFranceSpainFranceGermanySpainFranceGermanySpainGermanyFranceFranceSpainFranceSpainSpainGermanyFranceSpainFranceSpainGermanyGermanySpainSpainGermanyFranceSpainFranceSpainGermanySpainGermanyFranceGermanySpainGermanyGermanySpainSpainFranceFranceFranceSpainFranceFranceFranceFranceGermanyFranceGermanySpainSpainGermanyFranceFranceSpainGermanyFranceFranceFranceFranceSpainGermanyGermanyFranceFranceFranceFranceGermanyFranceFranceFranceFranceFranceGermanySpainSpainFranceFranceFranceFranceGermanyGermanyFranceGermanyGermanyFranceFranceGermanySpainGermanyGermanySpainSpainGermanyFranceFranceGermanyGermanySpainFranceGermanyGermanyFranceFranceSpainSpainGermanyGermanySpainGermanyFranceGermanyFranceFranceFranceFranceFranceSpainGermanySpainFranceSpainGermanyFranceFranceGermanyFranceFranceFranceFranceGermanyFranceFranceFranceGermanyGermanyFranceFranceFranceSpainGermanyFranceSpainFranceGermanyFranceGermanyFranceSpainSpainGermanyFranceGermanySpainFranceFranceSpainGermanySpainGermanyGermanyFranceFranceFranceGermanyFranceFranceFranceFranceFranceGermanyFranceGermanyFranceGermanyFranceFranceSpainGermanyFranceSpainSpainFranceFranceSpainFranceGermanyGermanyFranceSpainFranceSpainFranceSpainFranceFranceGermanyGermanyFranceFranceFranceFranceSpainGermanySpainSpainSpainGermanySpainSpainGermanyFranceSpainFranceFranceSpainFranceGermanyFranceSpainSpainFranceGermanyFranceSpainSpainFranceGermanySpainFranceGermanySpainGermanyFranceGermanyFranceFranceFranceSpainFranceFranceFranceSpainFranceGermanyFranceGermanySpainGermanyGermanyGermanyGermanySpainFranceSpainGermanyFranceGermanyGermanyGermanyFranceFranceGermanySpainGermanyFranceFranceFranceFranceFranceSpainFranceFranceFranceFranceFranceFranceFranceFranceFranceFranceFranceGermanyFranceGermanyFranceFranceFranceGermanySpainFranceFranceFranceFranceFranceGermanySpainGermanyGermanyFranceFranceFranceFranceFranceFranceFranceFranceFranceSpainSpainFranceFranceFranceFranceFranceSpainGermanyGermanyGermanyFranceGermanySpainFranceGermanyFranceGermanyFranceFranceGermanyGermanyFranceSpainFranceGermanyFranceSpainGermanyFranceGermanySpainFranceGermanySpainFranceFranceSpainGermanyFranceFranceSpainGermanyFranceFranceGermanyGermanyFranceGermanyGermanyGermanyFranceFranceGermanyGermanySpainGermanySpainSpainGermanyFranceFranceFranceFranceSpainSpainFranceFranceSpainGermanySpainSpainFranceSpainFranceSpainGermanyFranceSpainSpainFranceFranceSpainFranceGermanyFranceFranceSpainFranceGermanyFranceFranceGermanyFranceSpainFranceGermanyFranceGermanyGermanyFranceFranceSpainGermanyFranceGermanyFranceGermanyFranceSpainFranceGermanyFranceFranceFranceFranceFranceFranceFranceFranceFranceGermanySpainFranceGermanyFranceSpainGermanyGermanyFranceGermanyFranceSpainFranceFranceFranceSpainSpainSpainFranceFranceFranceFranceSpainSpainSpainSpainSpainSpainSpainGermanySpainGermanyFranceSpainSpainFranceSpainGermanySpainSpainFranceFranceSpainFranceFranceFranceSpainFranceSpainSpainSpainFranceFranceFranceSpainGermanyFranceFranceFranceFranceSpainSpainSpainGermanyFranceFranceFranceFranceFranceSpainFranceSpainSpainGermanyFranceFranceFranceFranceFranceFranceFranceSpainFranceFranceFranceSpainSpainFranceSpainFranceFranceFranceSpainSpainFranceFranceFranceFranceFranceGermanySpainFranceGermanyFranceFranceFranceFranceGermanyFranceFranceSpainFranceGermanyGermanyFranceFranceFranceSpainSpainSpainSpainFranceFranceFranceGermanyFranceFranceFranceGermanyFranceSpainFranceFranceFranceSpainFranceSpainSpainSpainFranceGermanyGermanyGermanySpainGermanyFranceFranceGermanySpainGermanyGermanySpainFranceFranceFranceSpainFranceFranceFranceFranceFranceFranceFranceSpainSpainFranceFranceSpainFranceSpainFranceFranceGermanyFranceSpainFranceFranceSpainFranceSpainFranceGermanyGermanyGermanyGermanyFranceSpainFranceGermanyGermanyFranceGermanyFranceGermanyGermanyFranceGermanyFranceFranceSpainFranceSpainFranceFranceFranceFranceSpainFranceGermanyFranceSpainSpainSpainGermanySpainFranceFranceSpainFranceGermanyFranceFranceFranceFranceFranceGermanySpainSpainSpainSpainGermanyFranceSpainFranceGermanySpainGermanyGermanyGermanySpainFranceFranceFranceGermanySpainFranceFranceFranceSpainFranceFranceFranceGermanyFranceGermanySpainSpainSpainGermanySpainFranceFranceGermanyFranceGermanySpainFranceSpainGermanySpainFranceFranceSpainFranceFranceGermanyFranceGermanyGermanyFranceFranceFranceGermanyFranceFranceGermanyFranceFranceGermanyGermanyGermanyFranceGermanySpainGermanySpainFranceFranceSpainSpainFranceSpainFranceFranceSpainSpainFranceSpainFranceSpainFranceGermanySpainSpainGermanyGermanyFranceFranceFranceFranceGermanySpainFranceFranceFranceGermanySpainSpainFranceFranceFranceGermanyFranceSpainFranceFranceSpainFranceFranceFranceSpainSpainFranceGermanySpainSpainFranceGermanyFranceGermanyFranceGermanyFranceSpainFranceSpainGermanyGermanySpainSpainSpainGermanySpainGermanyFranceSpainSpainSpainFranceFranceSpainFranceFranceGermanyGermanyFranceFranceFranceFranceSpainFranceSpainSpainSpainSpainSpainFranceGermanyGermanyFranceFranceSpainFranceFranceGermanyFranceFranceSpainFranceSpainSpainSpainFranceGermanyGermanyFranceSpainFranceFranceFranceSpainFranceGermanyFranceSpainSpainFranceSpainFranceSpainFranceFranceFranceFranceSpainFranceSpainGermanyFranceFranceFranceSpainFranceSpainFranceSpainGermanyGermanySpainSpainFranceFranceFranceGermanyFranceFranceSpainSpainSpainFranceFranceSpainFranceSpainFranceFranceFranceSpainGermanyFranceGermanyGermanyFranceFranceFranceGermanySpainSpainFranceGermanyGermanyGermanyGermanyFranceSpainFranceFranceFranceGermanySpainFranceSpainSpainFranceSpainFranceFranceFranceGermanyFranceFranceGermanyFranceFranceFranceSpainFranceGermanyFranceFranceGermanyGermanySpainFranceFranceFranceFranceFranceGermanyFranceFranceSpainSpainFranceSpainGermanyFranceFranceGermanyFranceFranceGermanySpainFranceFranceFranceFranceGermanyGermanyGermanyFranceFranceFranceFranceFranceSpainGermanySpainGermanySpainFranceGermanyGermanySpainSpainSpainFranceSpainGermanyFranceFranceSpainGermanyGermanySpainGermanyFranceFranceFranceFranceFranceSpainSpainFranceFranceFranceSpainSpainGermanyFranceSpainFranceGermanyFranceSpainFranceSpainGermanySpainFranceFranceFranceGermanyFranceSpainGermanyGermanyFranceFranceGermanySpainSpainGermanyFranceFranceSpainGermanyGermanySpainFranceGermanyFranceFranceFranceFranceSpainGermanyGermanyFranceGermanyFranceSpainFranceFranceGermanyGermanyFranceGermanyFranceFranceGermanySpainGermanySpainGermanyFranceFranceSpainFranceFranceSpainSpainSpainSpainSpainFranceGermanyFranceSpainGermanyFranceFranceSpainGermanyFranceSpainGermanyFranceFranceSpainSpainFranceSpainGermanyFranceFranceGermanySpainFranceFranceFranceSpainFranceGermanyFranceFranceSpainSpainFranceFranceFranceFranceFranceFranceFranceFranceGermanySpainFranceFranceFranceFranceGermanyGermanySpainGermanyFranceFranceFranceFranceSpainFranceSpainFranceFranceGermanyFranceGermanyGermanyFranceGermanySpainFranceFranceFranceGermanyGermanyFranceFranceFranceFranceFranceFranceGermanyGermanyGermanySpainSpainGermanySpainFranceFranceFranceGermanyGermanySpainFranceFranceFranceGermanyGermanyGermanyFranceGermanySpainFranceGermanySpainGermanyGermanySpainSpainGermanySpainSpainFranceFranceFranceSpainGermanyFranceFranceSpainFranceFranceSpainFranceGermanyFranceFranceSpainSpainFranceFranceSpainSpainFranceFranceGermanyGermanyFranceFranceFranceGermanyFranceFranceFranceFranceFranceFranceFranceFranceFranceFranceGermanyFranceFranceFranceFranceFranceFranceSpainFranceGermanySpainGermanyGermanySpainFranceSpainFranceFranceFranceGermanyFranceFranceFranceSpainFranceGermanyFranceGermanySpainSpainFranceGermanyGermanyGermanyFranceSpainSpainSpainSpainGermanyGermanyGermanyFranceFranceGermanySpainFranceFranceSpainFranceGermanyFranceSpainSpainSpainSpainFranceSpainSpainGermanyGermanyFranceFranceGermanyGermanyFranceSpainSpainFranceFranceSpainFranceGermanyGermanyFranceSpainFranceSpainFranceFranceGermanyGermanyFranceSpainFranceGermanyFranceFranceSpainFranceSpainFranceFranceSpainFranceFranceFranceSpainSpainFranceSpainFranceGermanySpainSpainFranceFranceFranceFranceSpainFranceFranceFranceFranceGermanyGermanySpainSpainSpainSpainGermanyFranceFranceSpainGermanyGermanyFranceGermanySpainSpainFranceFranceSpainFranceSpainFranceFranceFranceSpainFranceSpainFranceFranceGermanyFranceFranceFranceSpainSpainFranceFranceGermanyFranceGermanyGermanySpainSpainFranceFranceSpainSpainGermanyGermanySpainSpainSpainFranceFranceFranceFranceFranceFranceSpainFranceFranceGermanyFranceFranceGermanyGermanySpainFranceFranceFranceFranceFranceGermanyFranceFranceFranceGermanyFranceFranceFranceSpainGermanyFranceFranceSpainFranceSpainGermanyFranceFranceFranceFranceSpainFranceFranceSpainFranceGermanyFranceFranceGermanyFranceFranceSpainSpainSpainSpainSpainFranceFranceGermanyFranceSpainSpainGermanyFranceGermanyFranceGermanyGermanySpainFranceGermanyFranceFranceFranceFranceFranceFranceFranceFranceSpainFranceSpainGermanyFranceGermanySpainFranceSpainGermanyGermanySpainFranceFranceFranceFranceGermanyFranceGermanySpainGermanyFranceSpainFranceFranceSpainFranceSpainFranceFranceSpainFranceSpainGermanySpainSpainFranceFranceFranceSpainSpainFranceFranceGermanyGermanyFranceGermanyGermanyFranceGermanyGermanySpainGermanySpainSpainGermanySpainSpainFranceGermanyFranceFranceGermanyFranceSpainGermanyFranceSpainGermanySpainFranceSpainFranceFranceGermanySpainFranceGermanyFranceGermanySpainSpainGermanyFranceFranceSpainFranceFranceSpainFranceFranceFranceFranceFranceFranceFranceGermanyFranceGermanyFranceFranceSpainFranceFranceFranceFranceFranceGermanyFranceFranceSpainFranceFranceGermanyFranceGermanyGermanyFranceFranceFranceFranceGermanySpainFranceGermanySpainFranceFranceFranceFranceFranceFranceFranceGermanyFranceFranceSpainSpainFranceFranceFranceFranceSpainGermanyFranceSpainFranceGermanySpainFranceSpainFranceFranceFranceGermanyFranceGermanyGermanyFranceFranceGermanyFranceFranceFranceSpainSpainSpainSpainGermanyFranceFranceGermanyFranceGermanyFranceFranceFranceGermanyGermanyGermanyFranceSpainSpainFranceFranceGermanyGermanyFranceSpainFranceSpainGermanyGermanySpainFranceFranceSpainFranceFranceFranceSpainGermanyFranceFranceFranceFranceFranceSpainFranceSpainGermanyGermanyGermanyFranceSpainSpainGermanyFranceFranceFranceFranceFranceFranceGermanyFranceGermanyFranceSpainFranceFranceFranceFranceSpainSpainFranceFranceFranceSpainSpainSpainGermanyFranceSpainSpainSpainGermanyFranceFranceSpainFranceFranceSpainFranceSpainFranceSpainGermanySpainFranceSpainGermanyFranceSpainSpainFranceFranceSpainGermanySpainSpainFranceFranceFranceFranceGermanyGermanySpainFranceSpainFranceSpainGermanySpainFranceGermanyFranceFranceGermanySpainSpainGermanySpainFranceFranceGermanyFranceFranceFranceSpainSpainSpainFranceGermanyFranceFranceFranceGermanyFranceGermanySpainFranceGermanyGermanyGermanyGermanySpainFranceFranceFranceFranceGermanyGermanyGermanyFranceSpainGermanyGermanyGermanyGermanyFranceSpainSpainFranceGermanyFranceGermanyGermanyFranceGermanyFranceFranceGermanySpainFranceFranceFranceSpainFranceFranceFranceFranceFranceSpainSpainGermanyFranceFranceFranceGermanyGermanyFranceFranceGermanySpainSpainSpainFranceFranceFranceFranceFranceFranceGermanySpainSpainSpainGermanyFranceSpainGermanySpainFranceFranceGermanyFranceSpainFranceFranceGermanyFranceFranceFranceGermanyGermanySpainFranceSpainFranceFranceFranceSpainGermanyFranceGermanySpainGermanyGermanyGermanyGermanySpainFranceFranceFranceSpainGermanyFranceFranceGermanyGermanySpainFranceFranceGermanyFranceFranceFranceGermanyGermanySpainGermanyFranceSpainSpainFranceFranceSpainFranceFranceFranceSpainGermanySpainGermanyGermanySpainFranceFranceSpainSpainFranceFranceFranceFranceFranceGermanyGermanyFranceGermanyFranceFranceGermanyGermanyFranceFranceSpainFranceFranceFranceFranceFranceGermanyGermanyGermanySpainSpainFranceFranceFranceFranceFranceFranceGermanyGermanyGermanyGermanyFranceGermanyFranceGermanyFranceSpainFranceFranceGermanyFranceSpainGermanyFranceSpainSpainFranceFranceSpainGermanySpainGermanySpainFranceSpainGermanyFranceFranceFranceFranceGermanyFranceSpainFranceSpainFranceSpainFranceFranceGermanySpainFranceFranceFranceFranceFranceGermanySpainGermanyFranceGermanyFranceGermanyGermanyFranceSpainFranceGermanyFranceFranceSpainFranceFranceGermanyGermanySpainFranceFranceFranceSpainGermanyFranceSpainSpainGermanyFranceGermanyFranceFranceSpainFranceGermanySpainGermanyFranceSpainGermanyFranceSpainFranceFranceGermanyGermanySpainFranceGermanyFranceFranceFranceSpainSpainFranceFranceFranceGermanyGermanyGermanySpainSpainSpainSpainGermanyFranceSpainFranceFranceFranceFranceFranceFranceSpainFranceFranceFranceFranceGermanySpainFranceFranceFranceGermanySpainFranceGermanyFranceSpainFranceSpainGermanyGermanyGermanyGermanySpainSpainGermanySpainFranceFranceGermanySpainSpainFranceGermanySpainFranceSpainGermanyGermanyFranceFranceFranceFranceSpainSpainFranceGermanyFranceFranceSpainFranceFranceSpainFranceGermanySpainSpainSpainGermanySpainFranceFranceGermanyFranceFranceSpainFranceFranceFranceFranceGermanyFranceSpainSpainSpainGermanyFranceSpainSpainGermanySpainFranceFranceSpainFranceGermanyFranceFranceFranceFranceGermanySpainGermanyFranceFranceFranceGermanyFranceGermanyFranceFranceGermanyFranceFranceFranceSpainFranceGermanyFranceGermanySpainGermanyFranceFranceFranceFranceFranceFranceGermanyFranceFranceGermanyGermanyFranceFranceFranceFranceFranceFranceGermanyFranceGermanySpainFranceGermanyGermanySpainFranceFranceSpainSpainFranceSpainGermanySpainGermanyFranceGermanyFranceSpainGermanyFranceFranceFranceSpainSpainGermanyFranceFranceFranceSpainFranceFranceSpainFranceFranceGermanySpainFranceGermanyFranceSpainFranceFranceFranceFranceGermanySpainGermanyGermanyFranceFranceGermanySpainFranceGermanyFranceGermanyFranceGermanyGermanyFranceGermanySpainGermanyGermanySpainFranceFranceGermanyGermanyGermanyFranceGermanyFranceFranceGermanyGermanySpainGermanyGermanyFranceGermanyFranceSpainGermanySpainFranceFranceGermanyFranceSpainFranceFranceSpainFranceFranceGermanyGermanyFranceFranceSpainFranceGermanyFranceFranceFranceSpainFranceFranceFranceFranceSpainGermanyGermanyFranceFranceFranceFranceFranceFranceSpainFranceFranceSpainFranceFranceFranceSpainSpainFranceFranceFranceFranceFranceGermanyFranceSpainFranceSpainGermanyFranceSpainFranceFranceSpainGermanyFranceFranceGermanyFranceFranceGermanySpainFranceGermanyFranceFranceFranceGermanyFranceSpainSpainSpainFranceFranceSpainFranceSpainFranceFranceSpainSpainSpainSpainSpainFranceFranceSpainSpainFranceFranceSpainGermanyFranceSpainGermanySpainFranceFranceGermanyFranceFranceFranceFranceFranceSpainFranceGermanyGermanyGermanyFranceFranceGermanyFranceGermanyFranceGermanyFranceFranceFranceSpainSpainSpainFranceFranceFranceGermanyFranceGermanyFranceGermanySpainFranceGermanyGermanySpainFranceFranceFranceFranceFranceFranceSpainGermanyFranceGermanySpainFranceGermanyFranceSpainSpainFranceFranceSpainFranceFranceSpainSpainSpainSpainFranceSpainSpainFranceFranceFranceFranceFranceFranceFranceGermanySpainSpainFranceFranceGermanyFranceFranceFranceFranceSpainFranceGermanyFranceFranceFranceFranceFranceGermanySpainFranceFranceGermanyFranceSpainGermanySpainGermanyFranceSpainFranceGermanyFranceFranceFranceSpainFranceFranceFranceFranceFranceFranceGermanyFranceGermanyFranceGermanyGermanyFranceSpainFranceFranceFranceSpainFranceFranceGermanySpainFranceSpainFranceFranceGermanyFranceFranceGermanyGermanyFranceFranceFranceSpainFranceFranceGermanyFranceGermanyFranceFranceFranceGermanySpainFranceFranceFranceFranceGermanyFranceFranceSpainFranceFranceGermanyGermanyFranceGermanySpainFranceSpainGermanyGermanySpainSpainFranceSpainGermanyGermanyFranceFranceFranceFranceFranceSpainFranceFranceFranceSpainFranceFranceFranceFranceGermanyFranceFranceFranceFranceGermanyFranceFranceSpainGermanyFranceFranceSpainFranceSpainFranceSpainGermanyGermanyFranceSpainFranceSpainSpainSpainGermanyFranceFranceFranceGermanyFranceGermanySpainFranceFranceSpainFranceFranceSpainGermanyFranceFranceFranceGermanyFranceFranceFranceSpainSpainFranceFranceFranceFranceFranceFranceGermanyGermanySpainGermanyGermanyFranceSpainSpainGermanySpainFranceFranceGermanyFranceSpainFranceFranceSpainSpainFranceFranceGermanySpainFranceSpainFranceFranceGermanySpainGermanyFranceFranceGermanyFranceSpainSpainSpainFranceFranceGermanyGermanyFranceFranceFranceFranceSpainFranceFranceFranceFranceGermanyFranceFranceFranceFranceSpainFranceSpainFranceFranceGermanyGermanyGermanyFranceFranceFranceFranceGermanyFranceFranceFranceSpainFranceSpainFranceSpainSpainGermanyFranceFranceFranceFranceGermanyGermanySpainFranceGermanyGermanyFranceFranceSpainSpainSpainGermanyFranceGermanyGermanyFranceGermanyFranceFranceFranceGermanyFranceFranceGermanySpainSpainFranceFranceSpainFranceGermanySpainFranceFranceGermanyFranceGermanyFranceGermanyFranceGermanyFranceSpainSpainFranceGermanyFranceFranceSpainFranceFranceGermanyFranceFranceGermanyFranceGermanyGermanyFranceFranceSpainGermanyFranceFranceSpainFranceSpainFranceGermanySpainGermanyFranceGermanySpainSpainGermanyFranceSpainSpainFranceGermanySpainSpainFranceGermanySpainFranceSpainSpainGermanyFranceFranceFranceGermanySpainFranceFranceSpainFranceSpainFranceGermanyFranceFranceFranceSpainSpainGermanyFranceSpainFranceFranceSpainFranceGermanyGermanyFranceSpainGermanySpainFranceGermanyFranceFranceSpainSpainFranceFranceFranceFranceSpainFranceGermanyGermanyFranceGermanyFranceGermanyFranceSpainFranceGermanyGermanySpainFranceFranceFranceFranceGermanyFranceSpainFranceFranceGermanyGermanyFranceFranceFranceFranceGermanySpainGermanyGermanyFranceFranceFranceFranceGermanyFranceFranceGermanyFranceFranceFranceFranceFranceSpainFranceGermanySpainFranceSpainFranceGermanySpainGermanyFranceSpainFranceFranceGermanyFranceGermanyFranceFranceFranceFranceSpainFranceSpainGermanySpainGermanyGermanySpainFranceFranceFranceFranceGermanyFranceSpainFranceSpainFranceSpainGermanyFranceFranceSpainFranceFranceGermanyFranceGermanySpainFranceSpainGermanyGermanySpainFranceFranceGermanyFranceGermanySpainFranceFranceSpainFranceSpainFranceSpainGermanyGermanyGermanyGermanyGermanyFranceSpainFranceFranceFranceGermanyFranceGermanyFranceFranceSpainFranceSpainFranceFranceSpainFranceSpainFranceSpainSpainFranceGermanyGermanyGermanyGermanyFranceFranceGermanyGermanyFranceFranceGermanyFranceFranceFranceSpainSpainFranceFranceFranceFranceFranceGermanyGermanyGermanySpainGermanyGermanyFranceFranceSpainFranceSpainFranceSpainGermanyFranceFranceSpainGermanySpainFranceFranceFranceFranceGermanySpainFranceSpainFranceFranceFranceFranceFranceSpainSpainGermanySpainSpainFranceFranceGermanySpainFranceSpainFranceFranceSpainFranceFranceFranceFranceSpainSpainSpainGermanySpainFranceFranceSpainGermanyGermanyFranceFranceFranceFranceFranceGermanyGermanySpainSpainFranceFranceGermanyFranceFranceSpainSpainFranceSpainFranceFranceGermanySpainGermanyGermanyFranceGermanyFranceSpainSpainFranceFranceSpainFranceFranceGermanySpainGermanyFranceGermanyGermanyFranceFranceGermanyFranceGermanyGermanySpainFranceGermanyGermanyGermanyFranceSpainSpainSpainFranceFranceGermanyGermanySpainSpainGermanyFranceFranceFranceSpainFranceSpainFranceFranceFranceFranceGermanySpainFranceSpainFranceSpainGermanyFranceGermanySpainGermanySpainSpainGermanySpainFranceFranceGermanyGermanyGermanyGermanySpainFranceGermanyGermanyFranceSpainFranceFranceFranceFranceSpainSpainSpainFranceGermanyFranceFranceFranceFranceFranceGermanyFranceFranceFranceFranceSpainFranceFranceGermanyFranceFranceGermanyFranceFranceSpainGermanySpainSpainGermanyGermanyGermanyGermanyFranceFranceFranceFranceFranceFranceFranceFranceGermanyFranceGermanySpainFranceSpainFranceGermanyFranceSpainFranceFranceGermanyFranceSpainGermanyFranceGermanyFranceFranceSpainFranceFranceFranceSpainFranceFranceFranceFranceFranceGermanyGermanyFranceFranceSpainSpainSpainSpainSpainFranceSpainSpainFranceFranceFranceFranceGermanyFranceSpainFranceSpainSpainFranceFranceGermanySpainFranceGermanySpainGermanyFranceFranceFranceGermanyGermanyFranceSpainFranceSpainSpainSpainFranceGermanySpainGermanyFranceFranceFranceGermanyFranceFranceFranceSpainFranceFranceSpainFranceSpainGermanySpainSpainFranceFranceSpainSpainFranceFranceSpainFranceFranceFranceFranceFranceFranceFranceFranceFranceGermanyGermanySpainFranceGermanyGermanySpainFranceGermanyGermanyFranceGermanyFranceGermanyFranceGermanyFranceFranceSpainFranceGermanySpainFranceSpainFranceGermanyGermanyFranceSpainFranceFranceGermanyFranceSpainFranceSpainGermanyGermanyFranceFranceSpainFranceFranceGermanySpainFranceFranceFranceSpainFranceSpainFranceFranceFranceSpainSpainFranceSpainGermanySpainGermanyFranceFranceGermanyFranceSpainFranceGermanyGermanySpainGermanyGermanySpainFranceSpainSpainFranceFranceGermanySpainFranceSpainSpainFranceSpainFranceGermanyFranceFranceFranceFranceFranceSpainFranceGermanyFranceGermanyGermanySpainFranceFranceFranceFranceFranceFranceFranceGermanySpainGermanyFranceGermanyFranceFranceFranceSpainSpainFranceSpainGermanyFranceFranceFranceFranceGermanyFranceFranceSpainSpainGermanySpainFranceSpainFranceFranceGermanyGermanyGermanyFranceSpainGermanyGermanySpainGermanySpainFranceFranceGermanyGermanyGermanyGermanySpainFranceFranceSpainFranceGermanyFranceFranceFranceFranceFranceSpainFranceSpainGermanyFranceGermanyFranceFranceFranceGermanyFranceGermanyFranceGermanyGermanyFranceSpainGermanyGermanyFranceFranceGermanyGermanySpainGermanyFranceGermanyGermanyGermanyFranceGermanyFranceGermanySpainFranceFranceGermanyFranceFranceGermanyGermanyFranceFranceFranceFranceFranceSpainSpainFranceFranceFranceSpainGermanyFranceGermanyGermanyFranceGermanyFranceFranceFranceSpainFranceGermanyFranceGermanyGermanyFranceSpainGermanyGermanyFranceFranceGermanyFranceSpainGermanyFranceSpainSpainFranceSpainGermanySpainFranceFranceGermanyFranceGermanyFranceFranceSpainFranceFranceFranceSpainGermanyFranceFranceFranceFranceGermanyFranceGermanyFranceGermanySpainFranceGermanySpainSpainSpainFranceFranceSpainGermanyFranceSpainSpainSpainSpainGermanyFranceFranceSpainGermanyFranceGermanyFranceSpainFranceGermanyFranceSpainFranceSpainSpainSpainFranceSpainSpainGermanyFranceFranceSpainFranceFranceFranceSpainSpainFranceFranceFranceFranceSpainGermanyFranceFranceFranceFranceFranceSpainFranceFranceGermanyFranceGermanyGermanyFranceGermanyFranceGermanyFranceFranceFranceFranceGermanyFranceGermanyFranceSpainFranceSpainGermanyFranceSpainGermanyGermanyGermanyGermanyFranceSpainGermanyFranceSpainGermanyGermanyFranceFranceGermanySpainFranceFranceFranceSpainSpainFranceFranceGermanyFranceFranceGermanyGermanyFranceGermanySpainSpainSpainFranceFranceGermanyFranceGermanyFranceGermanyFranceFranceFranceSpainGermanySpainGermanyGermanyFranceFranceFranceFranceFranceFranceFranceFranceSpainSpainSpainSpainSpainFranceSpainSpainFranceSpainFranceGermanyFranceSpainSpainFranceSpainFranceSpainFranceGermanySpainFranceFranceGermanyFranceGermanyGermanySpainGermanyGermanyFranceFranceSpainSpainGermanyGermanySpainGermanyGermanyFranceGermanyGermanyGermanyFranceGermanyGermanyGermanyFranceFranceFranceFranceFranceFranceGermanySpainGermanyGermanyFranceFranceSpainGermanyGermanyFranceFranceFranceFranceSpainGermanyFranceFranceFranceFranceFranceGermanyGermanyGermanyFranceSpainSpainFranceGermanyFranceGermanyFranceFranceSpainGermanyFranceGermanySpainSpainFranceFranceFranceFranceFranceGermanyGermanyGermanyGermanySpainSpainFranceGermanySpainFranceFranceGermanyFranceFranceGermanyFranceFranceSpainFranceFranceFranceFranceFranceGermanySpainGermanyGermanySpainSpainSpainSpainSpainGermanySpainFranceSpainGermanyFranceFranceGermanySpainSpainSpainGermanySpainFranceGermanySpainSpainGermanySpainFranceFranceGermanyFranceFranceFranceFranceSpainSpainFranceGermanyFranceSpainGermanyFranceFranceFranceFranceFranceFranceGermanyFranceFranceSpainFranceSpainSpainSpainSpainFranceGermanyFranceSpainFranceGermanySpainGermanyFranceSpainGermanyFranceGermanyGermanyFranceFranceFranceGermanyGermanyFranceFranceSpainSpainFranceFranceGermanyGermanyGermanySpainSpainGermanySpainSpainFranceSpainSpainGermanyFranceFranceFranceSpainSpainFranceGermanyGermanyFranceFranceGermanyFranceFranceGermanyFranceSpainFranceFranceSpainGermanyFranceFranceSpainFranceGermanyFranceFranceGermanyFranceSpainFranceGermanyFranceGermanySpainSpainGermanyFranceFranceSpainSpainFranceFranceFranceFranceSpainFranceFranceFranceFranceSpainGermanyGermanySpainFranceFranceFranceGermanyGermanyGermanyGermanyFranceFranceFranceFranceFranceFranceFranceFranceSpainGermanyFranceFranceFranceFranceFranceFranceFranceSpainGermanyFranceFranceSpainFranceFranceFranceFranceSpainFranceSpainSpainGermanyFranceFranceFranceGermanyFranceSpainFranceGermanySpainFranceGermanyGermanySpainSpainSpainGermanyGermanyFranceFranceGermanySpainGermanySpainSpainFranceSpainSpainGermanyFranceFranceGermanySpainFranceFranceFranceGermanyGermanyFranceGermanyGermanySpainSpainGermanyFranceSpainGermanySpainGermanyGermanySpainFranceFranceFranceFranceFranceFranceSpainFranceGermanyGermanyGermanyFranceFranceFranceGermanyGermanyFranceFranceSpainGermanyFranceGermanyFranceSpainFranceGermanySpainFranceSpainFranceSpainGermanySpainGermanyFranceGermanyGermanySpainFranceSpainSpainFranceFranceFranceFranceGermanyGermanyFranceGermanyFranceFranceGermanyFranceSpainFranceGermanyFranceSpainFranceFranceGermanyFranceFranceFranceSpainFranceFranceGermanySpainSpainFranceFranceFranceFranceFranceFranceSpainGermanyFranceFranceSpainFranceFranceFranceSpainSpainFranceFranceFranceFranceFranceSpainGermanyFranceGermanyFranceFranceFranceSpainFranceSpainFranceFranceGermanyGermanyGermanyFranceFranceSpainFranceGermanyGermanyFranceSpainFranceGermanyGermanyFranceSpainFranceFranceFranceFranceFranceGermanySpainSpainFranceGermanySpainGermanySpainGermanyFranceFranceFranceFranceSpainFranceSpainGermanyFranceFranceFranceSpainSpainFranceFranceSpainFranceFranceFranceSpainFranceSpainSpainGermanyGermanySpainGermanyGermanyFranceGermanyGermanyGermanySpainFranceGermanySpainFranceSpainFranceGermanySpainFranceFranceGermanyGermanySpainFranceFranceFranceFranceFranceFranceFranceSpainFranceFranceGermanyFranceFranceSpainFranceGermanyFranceFranceFranceFranceSpainFranceFranceFranceGermanyGermanySpainFranceFranceSpainSpainGermanySpainGermanyFranceGermanySpainFranceFranceGermanyFranceFranceSpainFranceSpainGermanyGermanyFranceFranceSpainGermanyGermanyGermanyFranceSpainFranceSpainSpainFranceFranceGermanyGermanyGermanyFranceGermanyFranceFranceSpainGermanyGermanyFranceFranceFranceGermanyFranceFranceGermanyFranceFranceGermanyGermanySpainSpainFranceFranceFranceSpainGermanyFranceFranceSpainFranceGermanyFranceSpainFranceGermanySpainFranceGermanyGermanyFranceSpainFranceGermanyFranceSpainSpainFranceGermanyFranceFranceFranceFranceFranceGermanyFranceGermanyFranceFranceFranceFranceGermanyFranceFranceGermanyGermanyFranceSpainFranceFranceFranceGermanyFranceSpainSpainGermanyGermanyGermanyFranceFranceFranceSpainFranceSpainFranceGermanyFranceGermanySpainSpainSpainFranceGermanyFranceFranceFranceFranceFranceSpainFranceFranceSpainSpainGermanyGermanyFranceGermanyFranceSpainFranceSpainGermanyFranceFranceFranceFranceFranceSpainSpainSpainSpainGermanySpainFranceFranceGermanyFranceFranceSpainSpainFranceFranceSpainGermanyGermanyFranceFranceSpainSpainFranceFranceGermanyFranceSpainFranceGermanyFranceFranceGermanyFranceSpainFranceGermanySpainSpainSpainFranceGermanyFranceSpainFranceGermanyGermanyGermanySpainGermanyFranceSpainFranceFranceGermanySpainSpainFranceFranceSpainFranceFranceFranceSpainFranceFranceSpainGermanyFranceFranceGermanyFranceFranceFranceGermanyFranceGermanySpainSpainFranceGermanyGermanySpainFranceSpainSpainGermanyFranceSpainSpainFranceGermanyFranceFranceFranceFranceSpainFranceFranceFranceGermanySpainSpainFranceSpainSpainGermanyFranceFranceFranceFranceSpainGermanySpainFranceSpainSpainFranceFranceSpainFranceFranceFranceGermanySpainFranceFranceGermanyFranceSpainFranceFranceFranceFranceFranceGermanyGermanySpainSpainGermanyFranceFranceFranceSpainSpainGermanySpainFranceGermanyFranceFranceGermanySpainFranceSpainFranceFranceFranceFranceFranceFranceFranceFranceSpainFranceSpainFranceSpainFranceSpainSpainGermanyGermanyFranceFranceFranceFranceFranceFranceFranceFranceFranceFranceGermanyGermanyFranceGermanyFranceFranceFranceFranceFranceFranceSpainFranceFranceFranceFranceFranceSpainFranceFranceGermanyFranceFranceSpainSpainFranceFranceFranceSpainFranceGermanyGermanySpainFranceSpainSpainGermanyFranceGermanyGermanyFranceFranceFranceSpainGermanyGermanyFranceGermanyFranceSpainFranceSpainGermanySpainGermanyFranceSpainSpainFranceGermanySpainFranceGermanyFranceSpainSpainSpainFranceGermanyGermanyGermanyGermanyFranceFranceSpainSpainFranceGermanySpainFranceSpainFranceFranceSpainSpainSpainFranceFranceGermanyGermanyFranceFranceFranceSpainSpainSpainGermanyFranceFranceSpainGermanyFranceFranceFranceSpainSpainGermanyFranceGermanySpainFranceFranceGermanyGermanyFranceFranceGermanyGermanySpainGermanyGermanyFranceGermanySpainGermanyGermanyGermanyGermanyFranceGermanyGermanyGermanyFranceFranceFranceGermanyFranceSpainGermanyFranceFranceSpainFranceGermanyFranceGermanyGermanyFranceSpainSpainGermanyFranceGermanyFranceFranceFranceFranceGermanySpainFranceFranceFranceSpainSpainFranceSpainFranceGermanyFranceFranceFranceFranceFranceGermanyGermanyFranceFranceGermanyFranceFranceSpainGermanyFranceSpainFranceGermanySpainSpainSpainGermanyGermanyFranceGermanyFranceGermanyFranceFranceSpainSpainSpainFranceFranceFranceFranceSpainSpainSpainGermanySpainGermanyFranceFranceSpainFranceSpainFranceFranceFranceFranceFranceGermanyFranceFranceGermanySpainGermanyFranceFranceGermanyFranceFranceGermanyGermanyFranceSpainSpainFranceSpainFranceFranceFranceGermanyFranceSpainGermanyGermanyFranceFranceFranceFranceFranceFranceSpainFranceFranceFranceGermanyGermanySpainFranceFranceFranceFranceSpainFranceGermanyFranceSpainGermanyFranceFranceSpainFranceFranceGermanySpainFranceFranceFranceFranceGermanyFranceSpainFranceFranceGermanyFranceFranceFranceSpainSpainFranceFranceFranceGermanyFranceFranceGermanyFranceFranceGermanyFranceFranceFranceGermanyFranceFranceFranceGermanyGermanyFranceFranceFranceGermanyFranceSpainGermanyFranceGermanySpainFranceGermanySpainGermanyFranceFranceSpainSpainSpainSpainFranceFranceSpainFranceGermanyGermanyGermanyFranceFranceGermanyFranceGermanyFranceSpainFranceFranceFranceSpainFranceFranceSpainFranceFranceSpainGermanyFranceFranceFranceFranceFranceFranceSpainFranceFranceSpainGermanyFranceGermanyFranceFranceFranceGermanyGermanyFranceGermanyGermanyFranceGermanyFranceGermanySpainFranceSpainFranceFranceFranceFranceFranceGermanySpainGermanyGermanyGermanyGermanyFranceGermanyFranceSpainFranceFranceSpainFranceFranceGermanySpainGermanySpainGermanySpainFranceGermanyGermanyFranceSpainGermanyFranceGermanyGermanySpainFranceFranceFranceGermanyFranceFranceFranceSpainFranceFranceSpainGermanyFranceSpainFranceSpainFranceFranceFranceGermanyGermanyGermanyFranceSpainFranceFranceFranceFranceFranceSpainFranceFranceFranceSpainSpainGermanyFranceFranceSpainSpainFranceSpainFranceFranceFranceGermanyGermanyFranceSpainFranceGermanySpainSpainGermanyGermanyGermanySpainFranceFranceFranceFranceGermanyGermanyFranceSpainFranceFranceSpainFranceSpainGermanyGermanyFranceFranceSpainGermanyGermanySpainSpainGermanyFranceFranceFranceSpainFranceSpainSpainSpainFranceFranceFranceSpainGermanyFranceSpainGermanyFranceFranceGermanyFranceSpainFranceFranceGermanyGermanySpainFranceFranceGermanyGermanyGermanySpainFranceFranceFranceSpainFranceFranceFranceFranceSpainFranceSpainFranceFranceFranceFranceSpainGermanyFranceGermanyFranceGermanySpainFranceFranceGermanyFranceGermanySpainFranceSpainFranceFranceGermanySpainFranceSpainSpainFranceFranceFranceGermanyFranceGermanyFranceFranceFranceFranceGermanySpainGermanySpainFranceFranceFranceFranceFranceSpainFranceFranceFranceFranceFranceFranceSpainFranceGermanyGermanyFranceGermanySpainFranceFranceGermanyFranceGermanyFranceFranceFranceFranceFranceFranceGermanySpainSpainGermanyFranceFranceFranceGermanyFranceSpainFranceGermanySpainFranceFranceFranceSpainFranceGermanyFranceFranceFranceGermanyGermanyGermanySpainSpainFranceGermanyFranceFranceSpainFranceFranceFranceFranceSpainFranceSpainSpainGermanySpainFranceGermanyGermanyFranceGermanyFranceFranceFranceSpainGermanySpainFranceGermanyGermanyFranceGermanySpainGermanyFranceFranceFranceFranceFranceFranceGermanyGermanyFranceGermanyFranceFranceFranceFranceFranceSpainFranceFranceSpainFranceFranceFranceSpainSpainGermanyFranceGermanySpainGermanyFranceFranceFranceGermanySpainSpainFranceSpainFranceFranceGermanyFranceFranceFranceGermanyFranceGermanySpainFranceFranceSpainFranceFranceFranceSpainFranceGermanyFranceSpainFranceFranceGermanySpainFranceGermanyFranceFranceGermanyFranceFranceSpainGermanyGermanyFranceSpainFranceSpainFranceFranceGermanyGermanyFranceFranceSpainFranceGermanySpainFranceFranceSpainGermanyFranceFranceFranceFranceFranceFranceFranceFranceFranceSpainGermanyFranceGermanyFranceGermanyFranceFranceSpainSpainSpainGermanyFranceSpainFranceFranceGermanyFranceGermanyGermanyFranceFranceSpainSpainGermanySpainSpainGermanyFranceFranceFranceFranceFranceFranceSpainFranceGermanyFranceGermanyGermanySpainFranceGermanyFranceSpainSpainFranceFranceGermanyFranceFranceGermanyGermanyFranceGermanyGermanyGermanyFranceFranceFranceFranceGermanySpainGermanySpainFranceGermanyFranceFranceGermanyGermanyFranceFranceFranceGermanyFranceGermanyFranceFranceSpainGermanyFranceFranceFranceFranceFranceFranceSpainGermanyFranceFranceGermanyFranceFranceGermanyFranceFranceFranceSpainGermanySpainGermanySpainFranceGermanySpainGermanyFranceSpainSpainFranceFranceFranceFranceSpainFranceFranceFranceSpainGermanyGermanySpainFranceFranceSpainSpainFranceGermanyGermanySpainGermanyFranceGermanyGermanySpainSpainFranceFranceFranceGermanyGermanyGermanyFranceFranceFranceFranceGermanyFranceSpainGermanySpainGermanyFranceSpainSpainFranceSpainFranceFranceGermanySpainSpainSpainSpainGermanyFranceGermanyGermanyFranceFranceFranceGermanyGermanyFranceFranceFranceFranceFranceSpainFranceSpainGermanyFranceFranceSpainGermanySpainGermanyGermanySpainFranceFranceFranceFranceSpainSpainFranceSpainSpainFranceSpainFranceFranceGermanyFranceSpainFranceSpainGermanyGermanyFranceFranceSpainGermanyFranceFranceGermanyFranceFranceFranceSpainFranceFranceSpainSpainGermanySpainFranceFranceGermanyFranceFranceGermanyFranceFranceFranceFranceGermanyGermanyFranceSpainFranceGermanyGermanyFranceFranceSpainSpainFranceSpainGermanySpainGermanyFranceFranceFranceGermanyFranceGermanySpainGermanyFranceFranceSpainFranceFranceFranceSpainGermanySpainSpainGermanyFranceGermanySpainFranceGermanyFranceFranceFranceFranceFranceFranceGermanyFranceFranceFranceFranceSpainGermanyGermanyFranceGermanyFranceGermanySpainFranceSpainGermanyFranceSpainFranceFranceFranceFranceFranceGermanyFrance'\n",
       " 'FemaleFemaleFemaleFemaleFemaleMaleMaleFemaleMaleMaleMaleMaleFemaleFemaleFemaleMaleMaleFemaleMaleFemaleMaleFemaleFemaleMaleFemaleMaleMaleMaleFemaleMaleFemaleMaleMaleFemaleFemaleFemaleMaleMaleMaleMaleMaleFemaleFemaleFemaleFemaleFemaleFemaleFemaleMaleFemaleMaleMaleFemaleMaleMaleMaleMaleMaleFemaleMaleMaleFemaleMaleMaleMaleFemaleFemaleMaleFemaleFemaleMaleMaleFemaleFemaleMaleFemaleMaleFemaleMaleFemaleFemaleFemaleFemaleFemaleFemaleFemaleMaleMaleFemaleFemaleFemaleMaleFemaleMaleMaleMaleMaleMaleMaleMaleFemaleFemaleMaleMaleFemaleFemaleMaleFemaleMaleMaleMaleMaleMaleMaleMaleFemaleFemaleFemaleFemaleMaleMaleMaleFemaleFemaleFemaleMaleFemaleMaleFemaleMaleFemaleFemaleMaleMaleMaleFemaleFemaleMaleFemaleFemaleMaleMaleFemaleMaleFemaleFemaleFemaleMaleMaleMaleFemaleFemaleMaleMaleFemaleMaleFemaleFemaleFemaleFemaleFemaleMaleFemaleFemaleMaleMaleFemaleFemaleFemaleMaleFemaleMaleMaleMaleMaleFemaleFemaleMaleFemaleFemaleFemaleMaleFemaleMaleFemaleMaleFemaleFemaleMaleFemaleFemaleFemaleMaleMaleMaleMaleFemaleMaleMaleMaleMaleMaleMaleFemaleMaleMaleFemaleMaleMaleMaleMaleMaleFemaleFemaleMaleMaleMaleFemaleMaleMaleFemaleMaleMaleMaleMaleMaleFemaleFemaleMaleFemaleMaleMaleFemaleMaleFemaleMaleFemaleFemaleFemaleMaleMaleFemaleMaleMaleMaleFemaleMaleFemaleMaleMaleFemaleFemaleFemaleMaleMaleMaleMaleFemaleFemaleMaleMaleFemaleFemaleFemaleMaleFemaleMaleMaleFemaleFemaleMaleMaleFemaleMaleMaleFemaleMaleFemaleMaleMaleMaleMaleMaleMaleFemaleMaleMaleFemaleFemaleMaleMaleFemaleMaleFemaleMaleMaleFemaleFemaleMaleMaleFemaleFemaleMaleFemaleMaleMaleMaleMaleMaleMaleFemaleMaleMaleFemaleMaleMaleMaleMaleFemaleMaleFemaleFemaleMaleFemaleMaleMaleMaleFemaleMaleMaleMaleFemaleMaleFemaleFemaleMaleFemaleMaleFemaleFemaleFemaleMaleFemaleMaleFemaleFemaleFemaleMaleFemaleMaleMaleMaleFemaleMaleFemaleMaleFemaleMaleMaleMaleMaleFemaleFemaleFemaleMaleFemaleFemaleFemaleMaleFemaleMaleFemaleMaleMaleMaleFemaleMaleMaleFemaleFemaleFemaleMaleFemaleMaleMaleFemaleMaleMaleFemaleFemaleFemaleMaleMaleMaleFemaleFemaleMaleMaleFemaleFemaleMaleFemaleMaleMaleMaleMaleFemaleFemaleMaleFemaleMaleMaleFemaleFemaleMaleMaleFemaleFemaleFemaleFemaleFemaleFemaleMaleFemaleMaleMaleMaleMaleFemaleMaleMaleMaleFemaleFemaleMaleFemaleFemaleMaleFemaleFemaleFemaleFemaleFemaleMaleMaleFemaleMaleMaleFemaleFemaleFemaleMaleMaleFemaleFemaleMaleMaleMaleMaleMaleMaleMaleFemaleFemaleMaleMaleFemaleFemaleMaleMaleMaleMaleMaleMaleFemaleMaleFemaleFemaleMaleMaleMaleFemaleMaleMaleMaleFemaleMaleMaleMaleFemaleMaleFemaleFemaleFemaleFemaleMaleFemaleMaleMaleFemaleMaleMaleMaleMaleFemaleMaleMaleFemaleMaleFemaleFemaleFemaleMaleMaleFemaleMaleFemaleMaleMaleMaleFemaleMaleMaleMaleMaleFemaleMaleMaleFemaleMaleFemaleFemaleMaleMaleFemaleMaleMaleMaleFemaleFemaleMaleMaleFemaleMaleFemaleFemaleMaleFemaleMaleMaleFemaleMaleFemaleMaleMaleFemaleMaleMaleMaleFemaleFemaleMaleMaleFemaleFemaleMaleFemaleFemaleMaleMaleMaleMaleMaleFemaleMaleFemaleFemaleMaleFemaleMaleMaleFemaleFemaleFemaleFemaleFemaleMaleMaleMaleFemaleFemaleMaleFemaleMaleFemaleFemaleMaleMaleFemaleFemaleFemaleFemaleFemaleMaleMaleMaleMaleMaleMaleFemaleMaleFemaleFemaleMaleMaleFemaleMaleFemaleMaleFemaleMaleFemaleFemaleMaleFemaleMaleMaleMaleMaleFemaleFemaleFemaleFemaleMaleMaleFemaleFemaleMaleFemaleFemaleMaleFemaleFemaleFemaleFemaleFemaleFemaleMaleFemaleMaleFemaleMaleMaleMaleMaleMaleMaleFemaleMaleFemaleFemaleMaleMaleMaleFemaleMaleFemaleMaleMaleFemaleFemaleMaleMaleFemaleMaleFemaleFemaleMaleFemaleFemaleMaleMaleFemaleFemaleMaleMaleFemaleFemaleFemaleFemaleMaleMaleMaleMaleFemaleMaleMaleFemaleMaleMaleFemaleMaleFemaleMaleMaleMaleMaleMaleFemaleFemaleMaleMaleMaleFemaleFemaleMaleFemaleFemaleMaleFemaleFemaleFemaleMaleFemaleMaleFemaleMaleFemaleFemaleFemaleMaleFemaleMaleMaleFemaleMaleMaleMaleMaleFemaleFemaleMaleMaleFemaleMaleMaleMaleFemaleMaleMaleMaleFemaleFemaleMaleFemaleMaleFemaleFemaleFemaleMaleFemaleFemaleFemaleFemaleMaleFemaleFemaleMaleMaleFemaleFemaleMaleMaleMaleMaleMaleFemaleMaleMaleFemaleMaleFemaleMaleFemaleMaleMaleMaleMaleFemaleMaleMaleMaleFemaleFemaleMaleMaleFemaleMaleFemaleFemaleMaleFemaleFemaleFemaleMaleFemaleFemaleMaleMaleFemaleFemaleMaleFemaleMaleFemaleMaleMaleFemaleMaleFemaleMaleFemaleMaleFemaleMaleMaleFemaleMaleFemaleFemaleFemaleFemaleFemaleMaleFemaleMaleFemaleFemaleFemaleMaleMaleFemaleMaleFemaleMaleMaleMaleFemaleMaleMaleMaleFemaleFemaleFemaleFemaleMaleFemaleMaleMaleMaleMaleFemaleMaleMaleMaleFemaleMaleFemaleMaleMaleFemaleFemaleFemaleMaleFemaleFemaleFemaleFemaleFemaleFemaleFemaleFemaleMaleFemaleMaleMaleMaleMaleMaleFemaleMaleMaleMaleFemaleFemaleMaleMaleFemaleFemaleMaleMaleMaleFemaleMaleMaleFemaleMaleFemaleMaleMaleMaleFemaleFemaleMaleMaleMaleMaleFemaleMaleMaleMaleMaleMaleFemaleFemaleFemaleMaleMaleMaleFemaleMaleMaleFemaleMaleMaleFemaleMaleFemaleFemaleFemaleMaleFemaleFemaleFemaleMaleFemaleFemaleFemaleMaleFemaleFemaleMaleFemaleMaleFemaleFemaleFemaleFemaleMaleFemaleFemaleMaleMaleMaleFemaleFemaleFemaleFemaleMaleMaleFemaleMaleMaleFemaleMaleFemaleFemaleFemaleFemaleFemaleMaleFemaleMaleFemaleMaleMaleMaleMaleMaleFemaleMaleFemaleFemaleFemaleMaleMaleMaleMaleFemaleFemaleFemaleFemaleMaleFemaleFemaleMaleFemaleMaleMaleMaleMaleMaleFemaleMaleFemaleFemaleMaleMaleFemaleMaleMaleMaleFemaleMaleFemaleFemaleMaleMaleMaleMaleMaleFemaleMaleMaleMaleMaleMaleFemaleMaleFemaleMaleMaleFemaleMaleFemaleMaleFemaleFemaleMaleMaleMaleFemaleMaleFemaleFemaleFemaleMaleFemaleMaleMaleFemaleFemaleMaleMaleFemaleMaleFemaleMaleMaleMaleFemaleMaleFemaleMaleFemaleFemaleMaleMaleFemaleMaleFemaleFemaleMaleFemaleMaleMaleMaleFemaleMaleFemaleFemaleMaleMaleMaleMaleMaleFemaleMaleFemaleMaleFemaleMaleMaleFemaleMaleFemaleFemaleFemaleMaleMaleFemaleMaleFemaleFemaleFemaleMaleMaleFemaleMaleMaleMaleFemaleMaleMaleMaleFemaleFemaleFemaleFemaleFemaleFemaleMaleMaleMaleFemaleMaleMaleFemaleMaleFemaleFemaleMaleMaleMaleMaleMaleFemaleFemaleMaleMaleFemaleFemaleMaleFemaleMaleMaleMaleMaleFemaleMaleMaleMaleFemaleFemaleFemaleFemaleFemaleFemaleFemaleFemaleMaleMaleFemaleFemaleFemaleMaleMaleMaleMaleFemaleMaleFemaleFemaleMaleMaleMaleFemaleFemaleMaleMaleFemaleMaleFemaleFemaleFemaleFemaleMaleFemaleMaleMaleMaleMaleMaleMaleFemaleMaleMaleMaleFemaleFemaleMaleFemaleMaleFemaleMaleFemaleMaleMaleFemaleMaleFemaleMaleMaleMaleFemaleFemaleFemaleFemaleFemaleFemaleMaleMaleMaleFemaleFemaleMaleMaleMaleMaleMaleMaleFemaleMaleMaleFemaleFemaleFemaleMaleFemaleFemaleMaleFemaleMaleFemaleFemaleMaleMaleFemaleFemaleFemaleMaleMaleFemaleFemaleMaleFemaleFemaleMaleFemaleFemaleMaleMaleFemaleMaleMaleMaleMaleMaleMaleFemaleMaleMaleMaleMaleMaleFemaleMaleFemaleMaleMaleMaleFemaleFemaleMaleMaleFemaleMaleMaleMaleMaleMaleMaleFemaleFemaleFemaleMaleFemaleMaleMaleMaleFemaleFemaleMaleMaleMaleFemaleFemaleMaleFemaleMaleFemaleMaleFemaleMaleMaleFemaleFemaleMaleFemaleFemaleFemaleMaleMaleFemaleMaleFemaleMaleFemaleMaleMaleMaleFemaleMaleMaleFemaleFemaleMaleMaleMaleMaleFemaleFemaleMaleMaleMaleMaleMaleMaleMaleMaleFemaleMaleMaleMaleMaleMaleFemaleMaleFemaleMaleFemaleFemaleMaleFemaleMaleFemaleMaleFemaleFemaleFemaleMaleFemaleFemaleFemaleFemaleFemaleFemaleMaleFemaleFemaleFemaleFemaleMaleFemaleMaleMaleFemaleFemaleFemaleFemaleFemaleFemaleMaleFemaleFemaleFemaleMaleMaleMaleFemaleFemaleFemaleFemaleMaleFemaleMaleFemaleFemaleFemaleFemaleMaleMaleMaleMaleFemaleFemaleFemaleFemaleMaleFemaleFemaleMaleFemaleMaleFemaleMaleMaleFemaleMaleFemaleMaleMaleMaleFemaleFemaleFemaleMaleMaleFemaleFemaleMaleFemaleFemaleFemaleFemaleMaleMaleMaleMaleFemaleMaleMaleFemaleMaleFemaleFemaleFemaleFemaleMaleFemaleFemaleMaleFemaleMaleFemaleMaleFemaleMaleFemaleMaleMaleMaleMaleMaleFemaleFemaleFemaleFemaleMaleFemaleFemaleFemaleMaleFemaleMaleMaleMaleMaleFemaleFemaleMaleFemaleMaleMaleMaleMaleMaleFemaleMaleMaleMaleFemaleMaleMaleMaleMaleFemaleMaleFemaleFemaleMaleFemaleFemaleMaleMaleFemaleMaleMaleMaleMaleFemaleFemaleFemaleFemaleFemaleFemaleFemaleFemaleFemaleMaleMaleMaleFemaleMaleMaleFemaleFemaleFemaleMaleMaleFemaleFemaleMaleFemaleMaleFemaleFemaleMaleFemaleMaleFemaleMaleMaleFemaleFemaleMaleFemaleMaleMaleFemaleFemaleMaleFemaleFemaleMaleMaleFemaleFemaleMaleMaleFemaleFemaleMaleFemaleFemaleMaleFemaleFemaleMaleMaleFemaleMaleMaleMaleFemaleMaleMaleMaleFemaleFemaleMaleFemaleFemaleFemaleFemaleFemaleFemaleMaleFemaleFemaleFemaleFemaleMaleMaleMaleFemaleFemaleFemaleMaleMaleMaleMaleFemaleMaleFemaleMaleFemaleMaleFemaleMaleMaleMaleMaleMaleFemaleFemaleFemaleFemaleMaleMaleMaleMaleMaleFemaleFemaleFemaleFemaleFemaleFemaleMaleMaleMaleMaleMaleMaleFemaleMaleFemaleMaleFemaleFemaleMaleMaleFemaleMaleMaleFemaleFemaleMaleFemaleMaleMaleFemaleFemaleFemaleMaleFemaleFemaleFemaleFemaleMaleFemaleMaleMaleFemaleFemaleMaleMaleFemaleMaleMaleMaleMaleFemaleMaleMaleMaleMaleMaleFemaleFemaleMaleMaleMaleFemaleMaleMaleFemaleFemaleMaleMaleMaleMaleMaleMaleMaleMaleFemaleMaleFemaleFemaleFemaleFemaleMaleMaleFemaleMaleFemaleFemaleMaleMaleFemaleMaleMaleFemaleMaleFemaleMaleMaleMaleFemaleFemaleFemaleMaleFemaleMaleFemaleMaleMaleMaleFemaleMaleFemaleFemaleMaleFemaleMaleFemaleFemaleMaleMaleFemaleFemaleMaleMaleMaleFemaleFemaleMaleMaleFemaleMaleMaleMaleMaleFemaleMaleMaleFemaleMaleMaleFemaleFemaleMaleMaleMaleMaleMaleFemaleFemaleFemaleFemaleMaleMaleMaleFemaleMaleMaleFemaleFemaleFemaleMaleFemaleFemaleMaleFemaleMaleFemaleMaleFemaleFemaleFemaleFemaleMaleMaleMaleMaleFemaleMaleMaleMaleMaleFemaleFemaleFemaleMaleMaleFemaleFemaleMaleMaleFemaleMaleMaleFemaleMaleMaleMaleMaleMaleFemaleFemaleFemaleFemaleFemaleMaleFemaleFemaleFemaleFemaleFemaleFemaleMaleFemaleFemaleFemaleFemaleFemaleMaleMaleFemaleFemaleMaleMaleMaleFemaleFemaleFemaleMaleMaleMaleMaleFemaleFemaleMaleMaleMaleMaleMaleMaleFemaleFemaleMaleMaleMaleMaleMaleMaleMaleFemaleMaleFemaleFemaleMaleFemaleFemaleFemaleFemaleFemaleFemaleFemaleMaleFemaleMaleFemaleMaleFemaleFemaleFemaleFemaleMaleMaleFemaleMaleMaleMaleMaleFemaleFemaleMaleFemaleFemaleMaleMaleMaleMaleMaleMaleMaleFemaleMaleFemaleFemaleMaleMaleMaleFemaleMaleMaleMaleFemaleMaleMaleMaleMaleMaleMaleMaleMaleFemaleFemaleMaleMaleMaleMaleFemaleMaleMaleMaleMaleFemaleFemaleFemaleMaleFemaleFemaleFemaleMaleFemaleFemaleFemaleMaleFemaleMaleFemaleFemaleFemaleMaleMaleMaleFemaleFemaleMaleFemaleFemaleFemaleFemaleMaleFemaleMaleMaleMaleFemaleMaleFemaleFemaleMaleFemaleMaleMaleMaleFemaleMaleMaleMaleFemaleMaleFemaleMaleMaleFemaleMaleMaleMaleMaleFemaleMaleFemaleMaleMaleFemaleFemaleMaleMaleFemaleMaleFemaleFemaleFemaleMaleFemaleMaleFemaleMaleMaleFemaleMaleFemaleMaleFemaleFemaleFemaleFemaleMaleMaleFemaleMaleMaleFemaleFemaleFemaleFemaleMaleMaleMaleMaleMaleMaleMaleFemaleMaleFemaleFemaleFemaleMaleMaleMaleMaleFemaleMaleFemaleFemaleMaleFemaleMaleMaleMaleFemaleMaleMaleFemaleMaleMaleMaleFemaleMaleFemaleFemaleFemaleFemaleMaleFemaleMaleMaleMaleFemaleFemaleMaleFemaleMaleMaleFemaleFemaleMaleMaleFemaleFemaleFemaleMaleMaleFemaleMaleFemaleMaleMaleFemaleMaleMaleFemaleMaleFemaleMaleFemaleFemaleMaleFemaleFemaleMaleMaleMaleFemaleMaleFemaleFemaleMaleMaleMaleFemaleMaleFemaleMaleMaleMaleMaleMaleMaleMaleMaleMaleMaleMaleMaleFemaleMaleMaleFemaleMaleFemaleFemaleMaleMaleMaleFemaleMaleMaleMaleMaleMaleFemaleMaleMaleMaleMaleFemaleMaleFemaleMaleFemaleFemaleMaleFemaleFemaleMaleMaleFemaleMaleMaleMaleFemaleMaleFemaleFemaleMaleMaleFemaleFemaleMaleMaleMaleMaleMaleMaleMaleMaleMaleMaleMaleFemaleFemaleMaleFemaleMaleFemaleFemaleFemaleMaleFemaleMaleFemaleFemaleFemaleFemaleMaleMaleMaleMaleMaleMaleFemaleMaleFemaleMaleMaleMaleFemaleFemaleMaleFemaleMaleFemaleFemaleMaleFemaleMaleFemaleFemaleFemaleFemaleFemaleMaleMaleFemaleFemaleFemaleMaleMaleMaleFemaleFemaleFemaleMaleFemaleMaleFemaleFemaleFemaleFemaleMaleFemaleFemaleFemaleMaleFemaleFemaleFemaleFemaleFemaleFemaleFemaleMaleMaleFemaleMaleMaleMaleMaleMaleMaleFemaleMaleMaleMaleMaleFemaleMaleMaleMaleFemaleMaleFemaleFemaleFemaleFemaleMaleFemaleMaleFemaleMaleFemaleMaleMaleMaleFemaleFemaleFemaleFemaleFemaleFemaleMaleFemaleFemaleMaleFemaleMaleFemaleMaleMaleMaleMaleMaleFemaleMaleFemaleMaleFemaleFemaleMaleFemaleMaleMaleMaleFemaleMaleMaleFemaleMaleMaleMaleMaleFemaleFemaleMaleFemaleFemaleMaleFemaleFemaleFemaleMaleMaleFemaleFemaleMaleFemaleFemaleMaleMaleMaleMaleFemaleFemaleFemaleFemaleMaleMaleFemaleMaleMaleFemaleMaleMaleFemaleMaleMaleFemaleMaleMaleFemaleMaleFemaleMaleMaleMaleMaleMaleMaleFemaleFemaleFemaleMaleMaleMaleMaleFemaleMaleMaleMaleFemaleMaleMaleFemaleFemaleMaleFemaleFemaleMaleMaleFemaleMaleFemaleFemaleFemaleFemaleFemaleMaleFemaleFemaleFemaleMaleMaleFemaleMaleMaleFemaleFemaleMaleMaleMaleFemaleFemaleMaleMaleFemaleMaleFemaleFemaleMaleMaleMaleFemaleFemaleMaleFemaleFemaleFemaleMaleFemaleFemaleMaleMaleMaleMaleFemaleMaleMaleFemaleMaleFemaleMaleMaleFemaleMaleMaleFemaleFemaleMaleFemaleFemaleFemaleFemaleMaleFemaleMaleMaleMaleFemaleFemaleFemaleFemaleMaleFemaleFemaleFemaleMaleMaleFemaleFemaleMaleMaleFemaleMaleFemaleMaleFemaleFemaleFemaleMaleMaleMaleFemaleFemaleFemaleMaleMaleFemaleMaleFemaleMaleFemaleFemaleMaleMaleMaleFemaleMaleMaleFemaleMaleMaleFemaleFemaleMaleFemaleMaleFemaleMaleMaleFemaleMaleFemaleFemaleFemaleMaleFemaleMaleFemaleMaleFemaleMaleFemaleMaleFemaleFemaleMaleMaleMaleFemaleMaleFemaleFemaleFemaleMaleFemaleFemaleFemaleFemaleFemaleMaleFemaleFemaleFemaleMaleMaleMaleFemaleMaleMaleMaleFemaleMaleFemaleMaleFemaleFemaleMaleMaleMaleMaleMaleMaleMaleMaleMaleMaleFemaleMaleFemaleFemaleMaleMaleFemaleFemaleMaleFemaleMaleFemaleMaleMaleMaleFemaleMaleMaleMaleMaleFemaleMaleMaleMaleFemaleMaleMaleFemaleMaleFemaleFemaleMaleFemaleMaleMaleFemaleFemaleMaleMaleMaleFemaleFemaleMaleFemaleMaleFemaleFemaleFemaleFemaleMaleMaleMaleFemaleMaleMaleFemaleMaleMaleFemaleMaleMaleMaleFemaleMaleMaleFemaleFemaleFemaleFemaleMaleMaleMaleFemaleMaleMaleFemaleFemaleMaleMaleMaleMaleMaleMaleFemaleFemaleFemaleFemaleMaleFemaleFemaleFemaleMaleFemaleMaleMaleMaleMaleFemaleMaleMaleMaleFemaleFemaleMaleFemaleFemaleMaleFemaleFemaleMaleMaleFemaleMaleFemaleFemaleMaleMaleFemaleFemaleMaleFemaleMaleMaleMaleFemaleFemaleFemaleFemaleFemaleFemaleFemaleFemaleFemaleMaleMaleMaleMaleFemaleFemaleMaleFemaleFemaleMaleMaleMaleMaleMaleFemaleFemaleMaleMaleMaleMaleFemaleMaleMaleFemaleMaleFemaleFemaleMaleMaleMaleFemaleMaleMaleMaleMaleMaleFemaleMaleMaleMaleFemaleMaleFemaleFemaleMaleFemaleMaleFemaleMaleMaleFemaleFemaleMaleMaleFemaleMaleFemaleFemaleMaleFemaleMaleMaleMaleMaleFemaleFemaleMaleMaleFemaleFemaleMaleMaleMaleMaleMaleMaleFemaleFemaleFemaleMaleMaleMaleFemaleFemaleFemaleMaleFemaleFemaleMaleMaleFemaleMaleFemaleFemaleFemaleFemaleFemaleMaleMaleFemaleMaleMaleMaleMaleFemaleMaleMaleMaleMaleMaleFemaleFemaleFemaleMaleMaleMaleMaleMaleMaleMaleMaleFemaleMaleFemaleFemaleMaleMaleMaleFemaleFemaleMaleMaleMaleMaleFemaleMaleFemaleMaleMaleFemaleFemaleMaleMaleFemaleMaleMaleFemaleMaleFemaleFemaleMaleFemaleFemaleFemaleFemaleMaleFemaleFemaleMaleFemaleFemaleMaleFemaleMaleFemaleMaleMaleMaleMaleFemaleFemaleMaleFemaleFemaleMaleFemaleFemaleFemaleMaleMaleFemaleMaleMaleMaleFemaleMaleFemaleMaleFemaleMaleMaleFemaleFemaleFemaleFemaleMaleMaleFemaleFemaleMaleMaleFemaleMaleMaleFemaleFemaleMaleMaleMaleMaleMaleMaleFemaleFemaleFemaleFemaleFemaleMaleMaleMaleMaleFemaleMaleFemaleMaleMaleFemaleFemaleFemaleMaleFemaleMaleMaleFemaleMaleMaleFemaleMaleMaleMaleFemaleFemaleMaleMaleMaleMaleFemaleMaleMaleMaleFemaleFemaleMaleFemaleMaleFemaleMaleMaleMaleMaleFemaleMaleFemaleMaleMaleFemaleFemaleFemaleFemaleFemaleFemaleMaleMaleFemaleFemaleFemaleMaleMaleMaleFemaleMaleMaleMaleMaleMaleFemaleFemaleMaleMaleMaleFemaleFemaleMaleFemaleMaleFemaleMaleMaleFemaleMaleFemaleFemaleMaleMaleFemaleFemaleFemaleMaleMaleMaleMaleMaleFemaleMaleMaleFemaleFemaleMaleMaleFemaleMaleFemaleMaleFemaleMaleMaleFemaleMaleMaleMaleMaleFemaleFemaleFemaleMaleFemaleMaleMaleMaleFemaleMaleFemaleMaleMaleMaleFemaleFemaleFemaleMaleFemaleMaleFemaleFemaleMaleMaleFemaleMaleFemaleFemaleFemaleMaleMaleMaleFemaleMaleFemaleMaleFemaleMaleMaleMaleFemaleMaleMaleMaleFemaleFemaleMaleFemaleFemaleFemaleFemaleFemaleFemaleMaleFemaleMaleFemaleMaleFemaleMaleMaleFemaleFemaleMaleMaleMaleMaleFemaleMaleMaleFemaleMaleFemaleFemaleMaleFemaleMaleMaleMaleMaleMaleFemaleMaleFemaleFemaleFemaleMaleFemaleFemaleMaleFemaleFemaleFemaleFemaleFemaleFemaleMaleMaleFemaleMaleFemaleMaleMaleMaleMaleFemaleFemaleFemaleMaleFemaleFemaleMaleFemaleFemaleMaleFemaleMaleFemaleMaleFemaleFemaleFemaleFemaleFemaleFemaleMaleMaleFemaleFemaleFemaleFemaleFemaleFemaleMaleMaleFemaleFemaleMaleMaleMaleMaleFemaleMaleMaleFemaleMaleMaleFemaleMaleMaleMaleMaleFemaleFemaleMaleMaleMaleFemaleMaleFemaleMaleFemaleMaleFemaleMaleMaleFemaleFemaleMaleMaleFemaleFemaleFemaleMaleFemaleMaleMaleMaleFemaleMaleMaleFemaleMaleFemaleFemaleMaleFemaleFemaleMaleMaleMaleMaleMaleMaleMaleFemaleMaleFemaleMaleFemaleFemaleMaleFemaleMaleMaleMaleMaleFemaleMaleFemaleMaleMaleFemaleMaleFemaleFemaleFemaleMaleFemaleFemaleMaleMaleFemaleFemaleFemaleFemaleMaleFemaleFemaleMaleFemaleFemaleFemaleFemaleFemaleFemaleMaleFemaleFemaleFemaleMaleMaleMaleMaleMaleFemaleMaleFemaleFemaleFemaleFemaleFemaleMaleMaleFemaleMaleFemaleFemaleMaleMaleFemaleMaleMaleMaleFemaleFemaleMaleFemaleMaleMaleFemaleFemaleMaleMaleMaleFemaleMaleFemaleMaleMaleFemaleFemaleMaleFemaleMaleMaleMaleFemaleMaleMaleMaleFemaleMaleFemaleMaleFemaleFemaleMaleMaleMaleFemaleMaleMaleFemaleFemaleMaleMaleFemaleFemaleMaleMaleFemaleFemaleFemaleFemaleMaleMaleFemaleFemaleFemaleMaleFemaleFemaleMaleFemaleMaleFemaleMaleMaleMaleMaleFemaleFemaleFemaleMaleMaleMaleFemaleMaleMaleMaleFemaleMaleFemaleFemaleFemaleFemaleMaleFemaleMaleFemaleFemaleMaleFemaleMaleMaleFemaleMaleMaleFemaleFemaleFemaleMaleFemaleMaleMaleMaleMaleMaleMaleFemaleFemaleMaleMaleMaleFemaleMaleFemaleMaleFemaleFemaleMaleFemaleMaleFemaleFemaleMaleMaleMaleMaleFemaleMaleMaleFemaleMaleMaleMaleMaleMaleMaleFemaleFemaleMaleMaleFemaleMaleFemaleFemaleMaleFemaleFemaleFemaleFemaleFemaleMaleFemaleMaleMaleMaleFemaleMaleMaleFemaleFemaleMaleMaleMaleMaleFemaleFemaleFemaleMaleMaleMaleFemaleMaleFemaleMaleMaleFemaleFemaleMaleFemaleFemaleMaleMaleFemaleMaleMaleMaleFemaleMaleMaleFemaleMaleFemaleFemaleFemaleFemaleMaleFemaleFemaleFemaleMaleFemaleMaleFemaleMaleFemaleMaleMaleFemaleFemaleFemaleFemaleFemaleFemaleMaleMaleMaleFemaleMaleMaleFemaleFemaleMaleMaleFemaleMaleFemaleMaleFemaleMaleMaleFemaleMaleMaleFemaleFemaleMaleMaleFemaleMaleFemaleFemaleFemaleMaleFemaleFemaleFemaleMaleFemaleMaleMaleMaleMaleFemaleFemaleMaleMaleFemaleMaleFemaleMaleMaleMaleMaleMaleMaleMaleMaleFemaleMaleMaleMaleFemaleFemaleFemaleMaleFemaleFemaleMaleFemaleMaleMaleFemaleMaleFemaleFemaleMaleFemaleMaleFemaleFemaleFemaleMaleFemaleMaleFemaleFemaleFemaleMaleMaleMaleMaleMaleFemaleMaleFemaleFemaleFemaleFemaleMaleMaleFemaleFemaleMaleFemaleMaleFemaleMaleFemaleFemaleMaleMaleMaleFemaleMaleFemaleMaleMaleMaleMaleMaleMaleFemaleMaleMaleFemaleMaleFemaleFemaleMaleMaleFemaleMaleFemaleMaleFemaleMaleFemaleMaleMaleFemaleMaleMaleFemaleMaleFemaleMaleMaleMaleMaleFemaleMaleFemaleFemaleFemaleMaleFemaleMaleFemaleMaleFemaleMaleFemaleFemaleMaleFemaleMaleFemaleMaleFemaleMaleFemaleMaleFemaleFemaleFemaleFemaleMaleFemaleMaleFemaleFemaleMaleMaleFemaleFemaleMaleMaleFemaleMaleFemaleMaleMaleFemaleFemaleFemaleFemaleMaleMaleMaleFemaleMaleMaleMaleFemaleMaleMaleFemaleFemaleMaleFemaleFemaleFemaleMaleFemaleMaleMaleFemaleMaleMaleMaleFemaleMaleMaleMaleMaleFemaleMaleMaleMaleFemaleFemaleFemaleMaleMaleMaleMaleMaleMaleMaleMaleMaleFemaleMaleMaleMaleFemaleFemaleMaleMaleFemaleFemaleFemaleFemaleFemaleFemaleMaleMaleFemaleFemaleFemaleMaleMaleMaleFemaleMaleFemaleFemaleFemaleFemaleMaleFemaleMaleFemaleMaleFemaleMaleMaleMaleFemaleFemaleFemaleMaleMaleMaleFemaleFemaleFemaleMaleMaleFemaleFemaleMaleMaleMaleMaleMaleFemaleFemaleFemaleMaleFemaleMaleFemaleFemaleFemaleFemaleMaleMaleMaleFemaleMaleMaleMaleMaleFemaleFemaleMaleMaleMaleMaleMaleMaleMaleMaleFemaleFemaleMaleMaleFemaleFemaleFemaleFemaleMaleMaleFemaleMaleFemaleFemaleMaleMaleMaleMaleFemaleFemaleMaleMaleFemaleFemaleFemaleFemaleFemaleMaleMaleFemaleMaleFemaleMaleFemaleFemaleFemaleMaleFemaleMaleFemaleFemaleFemaleMaleFemaleMaleMaleFemaleFemaleMaleFemaleMaleMaleMaleMaleFemaleFemaleMaleMaleMaleMaleMaleFemaleMaleFemaleMaleMaleMaleMaleFemaleMaleMaleFemaleMaleFemaleFemaleFemaleMaleMaleFemaleMaleFemaleFemaleMaleFemaleMaleMaleMaleMaleFemaleMaleFemaleMaleMaleMaleFemaleFemaleFemaleFemaleFemaleMaleFemaleFemaleMaleMaleMaleFemaleMaleMaleMaleFemaleMaleMaleMaleMaleMaleMaleFemaleMaleMaleFemaleMaleMaleMaleFemaleMaleMaleMaleFemaleMaleMaleMaleMaleFemaleMaleMaleFemaleMaleMaleMaleFemaleMaleMaleFemaleMaleMaleMaleFemaleFemaleFemaleFemaleMaleFemaleMaleFemaleMaleMaleMaleFemaleFemaleMaleMaleMaleFemaleMaleMaleFemaleMaleMaleFemaleMaleMaleMaleFemaleMaleFemaleMaleMaleMaleFemaleFemaleMaleFemaleFemaleMaleMaleMaleMaleMaleMaleFemaleMaleMaleFemaleMaleMaleFemaleMaleMaleFemaleFemaleFemaleFemaleMaleMaleFemaleMaleMaleFemaleMaleMaleFemaleFemaleMaleFemaleMaleFemaleFemaleMaleFemaleMaleFemaleMaleMaleFemaleFemaleMaleFemaleFemaleFemaleMaleMaleMaleMaleFemaleFemaleMaleFemaleFemaleMaleMaleMaleFemaleMaleMaleFemaleFemaleMaleMaleMaleMaleMaleFemaleFemaleMaleMaleMaleFemaleMaleMaleFemaleFemaleMaleMaleMaleFemaleMaleMaleFemaleMaleFemaleMaleMaleFemaleMaleMaleMaleFemaleMaleMaleFemaleMaleMaleMaleMaleFemaleMaleFemaleMaleMaleFemaleFemaleMaleMaleFemaleFemaleMaleMaleFemaleMaleMaleFemaleMaleFemaleMaleFemaleMaleFemaleFemaleMaleMaleFemaleMaleMaleFemaleFemaleFemaleFemaleMaleMaleMaleFemaleFemaleFemaleMaleMaleMaleMaleMaleMaleMaleFemaleMaleMaleFemaleFemaleMaleMaleMaleFemaleFemaleFemaleFemaleMaleFemaleFemaleFemaleMaleFemaleMaleFemaleFemaleMaleFemaleMaleMaleMaleFemaleFemaleMaleFemaleMaleMaleFemaleFemaleFemaleMaleMaleFemaleMaleMaleFemaleFemaleFemaleFemaleFemaleMaleMaleMaleFemaleMaleMaleFemaleFemaleFemaleFemaleMaleMaleFemaleMaleFemaleFemaleFemaleMaleMaleFemaleMaleMaleFemaleFemaleMaleFemaleMaleMaleFemaleMaleFemaleMaleMaleFemaleMaleFemaleFemaleMaleMaleFemaleMaleFemaleMaleFemaleMaleFemaleMaleMaleMaleFemaleFemaleFemaleMaleFemaleMaleFemaleMaleFemaleFemaleFemaleMaleFemaleMaleFemaleFemaleMaleMaleMaleMaleFemaleMaleMaleMaleMaleFemaleFemaleMaleFemaleFemaleMaleFemaleFemaleMaleMaleMaleMaleFemaleFemaleMaleMaleMaleMaleFemaleMaleFemaleMaleFemaleFemaleMaleFemaleMaleMaleMaleFemaleFemaleMaleMaleMaleFemaleFemaleFemaleMaleMaleFemaleMaleMaleMaleFemaleMaleFemaleMaleMaleFemaleMaleFemaleFemaleMaleMaleFemaleMaleFemaleFemaleFemaleMaleFemaleMaleMaleMaleFemaleMaleFemaleMaleFemaleMaleMaleFemaleFemaleFemaleMaleMaleMaleFemaleMaleMaleMaleFemaleFemaleFemaleMaleFemaleMaleMaleFemaleMaleFemaleMaleMaleFemaleFemaleFemaleFemaleFemaleFemaleMaleFemaleFemaleFemaleMaleMaleMaleMaleFemaleMaleMaleFemaleMaleMaleFemaleFemaleFemaleFemaleFemaleFemaleFemaleFemaleFemaleFemaleFemaleMaleMaleFemaleMaleMaleFemaleFemaleMaleFemaleMaleFemaleMaleFemaleMaleFemaleFemaleMaleFemaleFemaleFemaleMaleMaleMaleFemaleMaleMaleFemaleMaleMaleMaleFemaleMaleFemaleFemaleFemaleMaleMaleMaleMaleFemaleMaleFemaleFemaleFemaleFemaleMaleMaleMaleMaleMaleMaleFemaleMaleFemaleFemaleFemaleMaleMaleMaleFemaleFemaleFemaleMaleFemaleFemaleMaleFemaleFemaleFemaleMaleFemaleMaleFemaleMaleMaleMaleFemaleFemaleMaleFemaleFemaleFemaleFemaleMaleFemaleFemaleMaleFemaleFemaleFemaleMaleMaleFemaleMaleFemaleMaleMaleMaleMaleFemaleFemaleMaleMaleMaleMaleMaleMaleFemaleFemaleMaleFemaleMaleFemaleMaleFemaleMaleFemaleFemaleMaleFemaleMaleFemaleFemaleFemaleMaleMaleFemaleFemaleMaleMaleFemaleFemaleMaleMaleFemaleMaleFemaleFemaleFemaleMaleMaleFemaleMaleFemaleFemaleFemaleMaleFemaleMaleMaleMaleFemaleFemaleMaleFemaleFemaleMaleFemaleFemaleMaleMaleFemaleFemaleMaleFemaleFemaleMaleMaleFemaleMaleFemaleFemaleMaleFemaleMaleMaleFemaleFemaleMaleMaleMaleMaleMaleFemaleFemaleMaleFemaleMaleMaleMaleFemaleMaleMaleMaleFemaleMaleFemaleFemaleMaleMaleMaleMaleFemaleFemaleMaleFemaleFemaleFemaleFemaleMaleFemaleFemaleMaleMaleFemaleMaleFemaleFemaleFemaleFemaleMaleMaleFemaleFemaleFemaleFemaleMaleFemaleMaleMaleFemaleFemaleFemaleMaleMaleFemaleMaleFemaleMaleMaleMaleMaleFemaleFemaleMaleMaleFemaleFemaleFemaleMaleFemaleMaleFemaleMaleMaleMaleMaleMaleMaleMaleMaleMaleMaleMaleFemaleMaleMaleFemaleMaleMaleMaleMaleMaleMaleFemaleFemaleFemaleMaleMaleMaleMaleFemaleMaleMaleMaleFemaleMaleMaleMaleMaleFemaleFemaleFemaleMaleMaleMaleFemaleMaleFemaleMaleFemaleFemaleFemaleFemaleFemaleFemaleMaleFemaleMaleFemaleFemaleMaleMaleMaleFemaleFemaleMaleMaleMaleFemaleMaleFemaleFemaleMaleMaleFemaleFemaleFemaleFemaleFemaleMaleMaleFemaleMaleMaleFemaleFemaleFemaleMaleFemaleFemaleMaleFemaleMaleFemaleFemaleMaleMaleFemaleFemaleMaleMaleFemaleFemaleFemaleFemaleFemaleFemaleMaleFemaleMaleMaleMaleMaleFemaleFemaleMaleMaleFemaleMaleMaleMaleMaleMaleMaleFemaleMaleFemaleMaleFemaleMaleMaleFemaleMaleMaleMaleFemaleMaleMaleFemaleMaleFemaleFemaleFemaleFemaleMaleMaleMaleMaleFemaleMaleMaleMaleFemaleMaleFemaleMaleMaleMaleFemaleFemaleFemaleFemaleMaleMaleFemaleFemaleFemaleFemaleMaleMaleMaleFemaleMaleFemaleMaleMaleMaleMaleFemaleFemaleMaleFemaleFemaleFemaleMaleFemaleFemaleFemaleMaleMaleFemaleMaleMaleMaleMaleFemaleFemaleMaleMaleFemaleMaleMaleFemaleMaleMaleMaleFemaleMaleMaleFemaleFemaleMaleFemaleMaleFemaleMaleMaleMaleFemaleFemaleMaleMaleMaleMaleFemaleMaleFemaleMaleMaleFemaleFemaleMaleMaleFemaleFemaleMaleFemaleMaleFemaleFemaleMaleFemaleMaleMaleMaleMaleFemaleFemaleMaleMaleMaleMaleFemaleFemaleFemaleMaleMaleMaleMaleMaleFemaleMaleMaleMaleMaleFemaleFemaleFemaleFemaleMaleFemaleMaleMaleMaleMaleMaleMaleMaleMaleFemaleMaleMaleFemaleMaleFemaleMaleMaleMaleMaleFemaleMaleMaleMaleFemaleFemaleMaleFemaleMaleMaleFemaleMaleFemaleMaleMaleFemaleMaleFemaleFemaleMaleMaleFemaleFemaleFemaleFemaleFemaleFemaleMaleMaleFemaleFemaleFemaleMaleMaleMaleFemaleMaleFemaleFemaleMaleMaleMaleMaleMaleFemaleFemaleMaleFemaleMaleFemaleFemaleFemaleFemaleMaleMaleFemaleMaleMaleMaleFemaleMaleMaleFemaleFemaleFemaleFemaleMaleMaleMaleFemaleFemaleMaleMaleFemaleFemaleMaleFemaleMaleMaleMaleMaleMaleMaleMaleFemaleMaleMaleMaleFemaleMaleMaleFemaleFemaleMaleFemaleFemaleFemaleFemaleFemaleFemaleFemaleFemaleMaleMaleMaleMaleMaleFemaleMaleMaleMaleMaleFemaleFemaleFemaleMaleMaleMaleMaleMaleMaleFemaleMaleFemaleFemaleMaleFemaleFemaleMaleMaleFemaleFemaleFemaleMaleFemaleMaleMaleFemaleFemaleMaleFemaleFemaleMaleFemaleFemaleMaleFemaleMaleMaleMaleMaleMaleFemaleMaleMaleFemaleMaleFemaleFemaleFemaleFemaleMaleMaleFemaleMaleFemaleMaleFemaleFemaleMaleMaleFemaleMaleFemaleMaleFemaleMaleMaleFemaleMaleFemaleFemaleFemaleMaleFemaleFemaleFemaleMaleFemaleMaleFemaleMaleMaleMaleFemaleMaleMaleFemaleMaleMaleMaleFemaleMaleMaleMaleMaleFemaleFemaleFemaleMaleMaleMaleFemaleFemaleMaleFemaleFemaleMaleFemaleMaleMaleMaleFemaleFemaleFemaleMaleMaleFemaleFemaleMaleFemaleMaleMaleFemaleMaleFemaleMaleMaleFemaleFemaleFemaleMaleMaleMaleMaleFemaleMaleMaleMaleMaleFemaleMaleFemaleFemaleFemaleMaleMaleMaleMaleMaleMaleMaleMaleFemaleFemaleFemaleFemaleMaleMaleMaleMaleFemaleMaleFemaleFemaleMaleMaleFemaleMaleMaleMaleFemaleMaleFemaleFemaleMaleFemaleFemaleFemaleMaleMaleFemaleFemaleMaleMaleFemaleFemaleMaleMaleMaleMaleMaleMaleMaleMaleMaleFemaleMaleFemaleMaleFemaleFemaleMaleMaleFemaleMaleFemaleFemaleFemaleMaleMaleFemaleFemaleFemaleFemaleMaleFemaleFemaleMaleMaleFemaleFemaleMaleMaleMaleFemaleMaleFemaleFemaleFemaleFemaleMaleFemaleFemaleFemaleMaleMaleMaleMaleMaleMaleMaleMaleFemaleMaleMaleFemaleFemaleFemaleMaleMaleMaleFemaleFemaleMaleMaleFemaleFemaleFemaleFemaleFemaleMaleFemaleMaleMaleMaleMaleMaleMaleMaleMaleFemaleMaleFemaleMaleMaleFemaleMaleMaleMaleMaleMaleMaleFemaleMaleMaleMaleFemaleMaleFemaleMaleMaleMaleFemaleMaleFemaleMaleMaleMaleMaleFemaleMaleMaleFemaleMaleMaleFemaleMaleMaleMaleFemaleFemaleFemaleMaleMaleFemaleMaleMaleFemaleMaleMaleFemaleMaleMaleMaleMaleFemaleFemaleMaleFemaleMaleFemaleFemaleFemaleFemaleFemaleFemaleMaleMaleMaleFemaleMaleFemaleFemaleMaleMaleFemaleFemaleMaleFemaleFemaleFemaleFemaleMaleMaleFemaleFemaleFemaleMaleMaleFemaleMaleMaleFemaleMaleMaleFemaleMaleMaleFemaleFemaleMaleMaleFemaleFemaleMaleFemaleMaleMaleMaleFemaleMaleMaleFemaleFemaleFemaleFemaleMaleMaleMaleMaleMaleFemaleMaleFemaleFemaleMaleMaleFemaleMaleMaleFemaleFemaleMaleMaleMaleMaleFemaleMaleFemaleMaleFemaleFemaleMaleMaleFemaleMaleFemaleFemaleMaleFemaleMaleFemaleFemaleMaleMaleFemaleMaleFemaleFemaleMaleFemaleMaleMaleFemaleMaleFemaleMaleMaleMaleMaleFemaleMaleFemaleMaleFemaleMaleMaleMaleMaleMaleMaleFemaleMaleMaleFemaleFemaleMaleFemaleFemaleMaleMaleMaleFemaleMaleMaleMaleMaleMaleMaleMaleFemaleFemaleMaleMaleMaleFemaleMaleFemaleMaleMaleMaleFemaleMaleMaleMaleMaleMaleMaleMaleMaleMaleFemaleMaleMaleFemaleMaleMaleFemaleFemaleMaleMaleMaleMaleFemaleFemaleMaleFemaleFemaleFemaleFemaleMaleMaleMaleMaleMaleMaleMaleFemaleFemaleFemaleMaleFemaleFemaleMaleMaleMaleFemaleMaleFemaleFemaleFemaleMaleFemaleFemaleFemaleFemaleMaleMaleMaleMaleMaleFemaleMaleMaleFemaleFemaleFemaleMaleFemaleMaleFemaleMaleMaleMaleFemaleFemaleMaleFemaleFemaleMaleFemaleMaleFemaleFemaleFemaleFemaleFemaleMaleMaleMaleFemaleFemaleFemaleFemaleFemaleMaleFemaleMaleMaleFemaleMaleFemaleFemaleFemaleMaleMaleMaleFemaleMaleMaleMaleFemaleMaleMaleMaleFemaleFemaleMaleMaleFemaleFemaleFemaleMaleFemaleFemaleFemaleFemaleFemaleMaleFemaleFemaleMaleFemaleFemaleFemaleMaleMaleMaleFemaleMaleMaleFemaleMaleFemaleFemaleMaleFemaleMaleFemaleFemaleMaleFemaleMaleMaleFemaleMaleMaleFemaleFemaleMaleMaleMaleMaleFemaleMaleFemaleFemaleMaleMaleMaleFemaleMaleMaleFemaleMaleFemaleMaleFemaleMaleFemaleFemaleMaleMaleMaleFemaleMaleFemaleMaleFemaleFemaleMaleMaleFemaleFemaleFemaleMaleMaleMaleFemaleFemaleMaleFemaleMaleFemaleFemaleMaleMaleFemaleMaleFemaleMaleMaleMaleFemaleMaleFemaleFemaleMaleFemaleMaleFemaleMaleFemaleMaleMaleMaleMaleMaleFemaleFemaleMaleFemaleMaleFemaleMaleMaleFemaleMaleMaleFemaleMaleFemaleMaleMaleFemaleFemaleMaleFemaleMaleMaleFemaleFemaleMaleMaleFemaleFemaleMaleMaleFemaleMaleMaleFemaleMaleFemaleMaleFemaleFemaleMaleFemaleMaleMaleFemaleMaleFemaleMaleMaleFemaleFemaleMaleMaleMaleFemaleFemaleMaleMaleMaleMaleFemaleMaleMaleFemaleMaleMaleMaleFemaleMaleMaleFemaleFemaleMaleFemaleMaleMaleMaleFemaleMaleFemaleMaleMaleMaleMaleFemaleMaleFemaleMaleFemaleMaleMaleMaleMaleMaleMaleMaleFemaleMaleFemaleMaleFemaleFemaleFemaleMaleFemaleMaleFemaleMaleMaleMaleMaleMaleFemaleFemaleMaleMaleFemaleMaleFemaleMaleMaleFemaleFemaleFemaleMaleFemaleMaleMaleMaleFemaleFemaleMaleMaleMaleMaleFemaleFemaleFemaleFemaleFemaleFemaleFemaleMaleFemaleFemaleFemaleMaleMaleMaleFemaleFemaleMaleMaleFemaleFemaleMaleFemaleMaleFemaleMaleFemaleFemaleFemaleFemaleMaleMaleFemaleMaleFemaleFemaleMaleFemaleFemaleMaleMaleMaleFemaleMaleFemaleFemaleMaleMaleFemaleMaleMaleMaleMaleMaleMaleFemaleFemaleMaleFemaleFemaleFemaleMaleFemaleFemaleMaleFemaleFemaleMaleFemaleFemaleMaleFemaleMaleMaleMaleMaleFemaleMaleFemaleFemaleFemaleFemaleMaleFemaleFemaleFemaleMaleFemaleMaleMaleFemaleFemaleMaleMaleMaleMaleFemaleMaleFemaleFemaleMaleFemaleFemaleMaleFemaleMaleMaleFemaleFemaleMaleFemaleMaleFemaleMaleMaleFemaleMaleFemaleMaleMaleMaleFemaleMaleMaleFemaleMaleMaleFemaleMaleMaleFemaleMaleMaleFemaleFemaleMaleMaleMaleMaleMaleMaleMaleMaleMaleFemaleMaleFemaleFemaleMaleMaleMaleMaleFemaleFemaleMaleFemaleFemaleFemaleMaleFemaleMaleMaleMaleFemaleMaleMaleFemaleFemaleMaleMaleFemaleMaleMaleFemaleMaleMaleMaleFemaleMaleMaleMaleFemaleMaleMaleFemaleMaleMaleMaleFemaleMaleMaleMaleMaleFemaleMaleMaleMaleFemaleMaleMaleMaleMaleFemaleMaleFemaleFemaleFemaleMaleMaleFemaleMaleFemaleFemaleFemaleMaleFemaleFemaleMaleFemaleFemaleMaleFemaleFemaleFemaleFemaleFemaleMaleFemaleMaleMaleFemaleFemaleMaleFemaleMaleMaleMaleMaleFemaleFemaleMaleMaleFemaleMaleFemaleMaleMaleFemaleMaleFemaleMaleMaleFemaleMaleMaleFemaleMaleFemaleFemaleMaleMaleFemaleMaleMaleMaleMaleMaleFemaleMaleFemaleMaleMaleFemaleFemaleFemaleMaleFemaleMaleFemaleFemaleMaleMaleFemaleMaleFemaleMaleMaleMaleFemaleMaleFemaleFemaleMaleMaleMaleMaleMaleMaleMaleMaleFemaleMaleMaleMaleMaleMaleFemaleMaleMaleMaleMaleFemaleMaleMaleMaleMaleFemaleMaleMaleMaleFemaleMaleMaleFemaleMaleMaleFemaleMaleFemaleMaleFemaleMaleFemaleMaleMaleMaleMaleFemaleFemaleFemaleFemaleMaleMaleMaleMaleFemaleMaleFemaleFemaleMaleMaleFemaleMaleMaleFemaleFemaleFemaleFemaleFemaleMaleMaleMaleMaleMaleFemaleFemaleMaleMaleMaleFemaleMaleFemaleMaleMaleFemaleMaleFemaleFemaleMaleFemaleFemaleMaleFemaleFemaleFemaleMaleMaleMaleMaleMaleMaleFemaleMaleFemaleMaleMaleMaleFemaleFemaleMaleMaleMaleMaleFemaleMaleMaleFemaleFemaleMaleFemaleMaleFemaleMaleFemaleFemaleFemaleFemaleMaleFemaleMaleFemaleFemaleFemaleMaleFemaleMaleMaleMaleFemaleMaleFemaleMaleMaleFemaleMaleMaleFemaleFemaleFemaleMaleFemaleMaleFemaleMaleFemaleMaleFemaleMaleFemaleMaleMaleFemaleMaleMaleFemaleMaleMaleMaleMaleMaleMaleMaleMaleFemaleFemaleFemaleFemaleMaleFemaleFemaleFemaleFemaleFemaleMaleFemaleFemaleFemaleMaleMaleFemaleFemaleMaleMaleFemaleMaleMaleMaleMaleFemaleFemaleFemaleFemaleFemaleFemaleFemaleMaleMaleFemaleMaleFemaleMaleMaleMaleMaleMaleMaleMaleFemaleMaleFemaleMaleFemaleMaleFemaleMaleMaleFemaleFemaleMaleFemaleMaleMaleMaleFemaleFemaleMaleFemaleFemaleMaleFemaleFemaleMaleFemaleMaleFemaleMaleMaleMaleMaleMaleFemaleMaleMaleFemaleMaleMaleFemaleFemaleFemaleFemaleFemaleFemaleMaleMaleMaleMaleFemaleMaleMaleFemaleMaleMaleMaleMaleMaleMaleMaleMaleFemaleMaleFemaleFemaleMaleMaleFemaleFemaleMaleFemaleMaleFemaleMaleFemaleFemaleMaleMaleFemaleMaleMaleFemaleMaleFemaleMaleFemaleMaleFemaleFemaleFemaleFemaleFemaleFemaleMaleFemaleFemaleFemaleMaleFemaleMaleMaleFemaleFemaleFemaleMaleFemaleMaleFemaleFemaleFemaleMaleFemaleMaleMaleMaleMaleFemaleMaleMaleFemaleMaleMaleFemaleFemaleFemaleMaleMaleMaleFemaleMaleMaleMaleFemaleFemaleMaleMaleFemaleFemaleFemaleFemaleMaleMaleMaleMaleFemaleMaleFemaleFemaleMaleMaleFemaleFemaleFemaleFemaleFemaleMaleFemaleMaleMaleFemaleMaleMaleFemaleFemaleFemaleFemaleFemaleMaleMaleMaleMaleMaleFemaleFemaleFemaleFemaleFemaleFemaleMaleFemaleMaleFemaleMaleMaleFemaleFemaleMaleMaleMaleFemaleFemaleMaleMaleMaleFemaleMaleMaleFemaleMaleFemaleMaleMaleFemaleMaleMaleFemaleFemaleFemaleMaleMaleMaleMaleMaleFemaleFemaleFemaleMaleMaleFemaleFemaleFemaleMaleMaleMaleMaleMaleFemaleMaleFemaleMaleFemaleMaleFemaleMaleMaleMaleFemaleMaleMaleFemaleMaleMaleFemaleFemaleFemaleFemaleMaleFemaleMaleMaleFemaleMaleFemaleMaleMaleFemaleFemaleMaleMaleMaleMaleMaleMaleMaleFemaleMaleMaleFemaleFemaleMaleFemaleFemaleMaleMaleMaleMaleMaleMaleMaleFemaleMaleFemaleMaleFemaleFemaleFemaleFemaleFemaleMaleFemaleMaleFemaleMaleMaleMaleFemaleFemaleFemaleMaleFemaleFemaleFemaleMaleMaleFemaleMaleFemaleFemaleFemaleMaleMaleMaleFemaleMaleFemaleFemaleFemaleMaleMaleMaleMaleFemaleFemaleFemaleMaleMaleFemaleMaleFemaleMaleMaleMaleMaleFemaleMaleFemaleMaleFemaleFemaleMaleMaleFemaleFemaleMaleMaleMaleFemaleFemaleFemaleFemaleFemaleMaleMaleFemaleMaleMaleFemaleMaleMaleMaleMaleMaleFemaleFemaleMaleMaleFemaleMaleFemaleMaleMaleMaleFemaleMaleMaleFemaleFemaleFemaleMaleMaleMaleFemaleFemaleFemaleMaleMaleMaleMaleMaleFemaleMaleMaleMaleFemaleMaleFemaleMaleFemaleFemaleFemaleMaleMaleMaleFemaleFemaleFemaleMaleMaleMaleMaleMaleMaleMaleMaleMaleMaleMaleMaleFemaleMaleFemaleFemaleMaleFemaleFemaleFemaleMaleMaleMaleFemaleMaleFemaleMaleMaleMaleFemaleFemaleFemaleMaleFemaleMaleFemaleFemaleFemaleFemaleFemaleMaleFemaleFemaleFemaleMaleMaleMaleMaleMaleMaleMaleFemaleMaleMaleFemaleFemaleMaleFemaleFemaleMaleMaleMaleMaleFemaleMaleMaleFemaleFemaleMaleFemaleMaleFemaleFemaleMaleFemaleMaleFemaleFemaleMaleFemaleMaleMaleFemaleFemaleMaleMaleMaleFemaleFemaleMaleMaleMaleMaleFemaleFemaleMaleMaleFemaleFemaleMaleMaleMaleFemaleFemaleFemaleFemaleMaleMaleMaleMaleMaleFemaleMaleMaleFemaleMaleFemaleMaleFemaleMaleMaleMaleMaleFemaleMaleFemaleMaleFemaleFemaleMaleFemaleFemaleMaleMaleFemaleFemaleFemaleFemaleMaleMaleMaleMaleFemaleMaleFemaleFemaleFemaleMaleFemaleMaleMaleMaleMaleMaleFemaleFemaleMaleMaleFemaleFemaleFemaleFemaleFemaleMaleFemaleMaleMaleMaleFemaleFemaleFemaleMaleFemaleFemaleFemaleFemaleFemaleFemaleMaleFemaleFemaleFemaleMaleMaleMaleMaleMaleMaleMaleMaleFemaleFemaleFemaleMaleMaleFemaleMaleMaleMaleMaleMaleFemaleMaleMaleMaleMaleFemaleMaleMaleMaleMaleFemaleFemaleFemaleMaleFemaleMaleMaleFemaleMaleMaleFemaleMaleFemaleFemaleFemaleFemaleFemaleFemaleMaleFemaleMaleFemaleFemaleFemaleFemaleFemaleFemaleMaleMaleMaleFemaleFemaleMaleMaleMaleFemaleFemaleMaleFemaleMaleMaleFemaleFemaleFemaleFemaleMaleMaleMaleFemaleFemaleFemaleMaleFemaleMaleFemaleMaleFemaleMaleFemaleMaleMaleMaleFemaleFemaleFemaleFemaleFemaleFemaleFemaleFemaleFemaleMaleMaleMaleMaleFemaleMaleFemaleFemaleMaleFemaleFemaleMaleMaleMaleMaleMaleMaleFemaleMaleFemaleFemaleFemaleFemaleFemaleMaleFemaleFemaleFemaleFemaleMaleMaleMaleMaleMaleFemaleMaleMaleMaleMaleMaleMaleMaleMaleFemaleMaleFemaleMaleFemaleMaleFemaleFemaleMaleMaleMaleMaleMaleFemaleFemaleFemaleFemaleMaleFemaleMaleMaleMaleFemaleMaleMaleMaleMaleMaleFemaleFemaleFemaleMaleMaleMaleFemaleMaleFemaleFemaleFemaleMaleFemaleMaleFemaleFemaleMaleMaleFemaleFemaleFemaleMaleMaleFemaleFemaleFemaleFemaleMaleMaleMaleMaleMaleMaleMaleMaleMaleMaleFemaleMaleFemaleFemaleFemaleFemaleMaleMaleFemaleMaleFemaleMaleMaleFemaleMaleMaleFemaleMaleMaleMaleFemaleFemaleMaleFemaleFemaleMaleFemaleMaleMaleFemaleMaleFemaleFemaleFemaleFemaleMaleFemaleFemaleFemaleFemaleMaleFemaleFemaleMaleFemaleMaleMaleMaleFemaleMaleFemaleFemaleMaleMaleFemaleMaleMaleMaleFemaleMaleMaleMaleFemaleMaleFemaleFemaleMaleMaleMaleFemaleMaleMaleFemaleFemaleMaleMaleMaleFemaleFemaleMaleMaleMaleFemaleMaleFemaleFemaleFemaleMaleFemaleFemaleFemaleFemaleMaleMaleFemaleFemaleFemaleMaleFemaleMaleFemaleFemaleMaleMaleMaleFemaleMaleMaleFemaleMaleMaleFemaleFemaleFemaleFemaleFemaleMaleMaleMaleMaleMaleMaleMaleMaleMaleMaleMaleMaleFemaleMaleFemaleFemaleFemaleFemaleFemaleMaleMaleFemaleMaleMaleFemaleFemaleFemaleMaleFemaleFemaleMaleMaleMaleMaleFemaleMaleMaleFemaleMaleFemaleFemaleFemaleMaleFemaleFemaleMaleFemaleMaleFemaleFemaleMaleMaleMaleMaleFemaleFemaleFemaleMaleFemaleFemaleMaleFemaleMaleMaleMaleMaleMaleMaleMaleFemaleMaleFemaleMaleFemaleFemaleMaleMaleFemaleMaleFemaleFemaleFemaleMaleMaleMaleMaleFemaleMaleMaleFemaleFemaleMaleMaleFemaleMaleFemaleFemaleFemaleFemaleFemaleFemaleMaleMaleFemaleFemaleFemaleMaleMaleMaleFemaleFemaleMaleMaleFemaleMaleMaleMaleFemaleFemaleFemaleMaleMaleMaleMaleMaleMaleFemaleFemaleFemaleFemaleFemaleFemaleFemaleMaleMaleMaleMaleFemaleMaleMaleMaleMaleMaleMaleFemaleMaleMaleFemaleFemaleFemaleFemaleMaleMaleFemaleFemaleFemaleMaleMaleFemaleFemaleMaleFemaleFemaleMaleFemaleMaleFemaleMaleMaleMaleMaleMaleMaleMaleMaleFemaleMaleMaleMaleFemaleFemaleMaleMaleFemaleFemaleMaleFemaleMaleMaleFemaleFemaleMaleFemaleFemaleMaleFemaleFemaleFemaleMaleMaleMaleMaleFemaleMaleMaleMaleFemaleMaleFemaleFemaleFemaleFemaleMaleFemaleMaleMaleMaleMaleFemaleFemaleMaleMaleMaleMaleMaleMaleMaleMaleFemaleMaleMaleMaleMaleFemaleFemaleMaleMaleMaleFemaleMaleMaleMaleFemaleMaleFemaleFemaleMaleFemaleMaleFemaleFemaleFemaleMaleMaleMaleFemaleMaleMaleFemaleFemaleMaleMaleFemaleFemaleFemaleMaleFemaleFemaleFemaleMaleMaleMaleMaleFemaleMaleMaleFemaleMaleFemaleFemaleFemaleMaleMaleMaleFemaleMaleFemaleFemaleMaleFemaleMaleMaleMaleFemaleMaleFemaleFemaleMaleFemaleMaleFemaleMaleMaleFemaleMaleMaleMaleMaleFemaleFemaleMaleMaleMaleFemaleFemaleMaleMaleMaleFemaleMaleMaleMaleMaleMaleMaleMaleMaleMaleMaleMaleFemaleMaleMaleFemaleMaleMaleFemaleMaleMaleMaleMaleMaleMaleMaleMaleFemaleMaleMaleMaleFemaleMaleFemaleMaleFemaleFemaleFemaleFemaleFemaleMaleFemaleFemaleFemaleMaleFemaleFemaleFemaleMaleMaleFemaleFemaleFemaleMaleMaleMaleFemaleMaleMaleMaleFemaleMaleMaleMaleMaleMaleMaleFemaleMaleFemaleFemaleFemaleMaleMaleFemaleFemaleMaleMaleFemaleFemaleMaleMaleFemaleMaleMaleMaleFemaleMaleFemaleFemaleFemaleFemaleMaleFemaleFemaleMaleFemaleMaleFemaleMaleMaleFemaleMaleMaleFemaleFemaleFemaleFemaleMaleFemaleFemaleFemaleMaleMaleFemaleMaleMaleMaleFemaleFemaleFemaleMaleFemaleMaleMaleFemaleFemaleMaleFemaleFemaleMaleMaleMaleFemaleMaleMaleFemaleMaleFemaleMaleMaleMaleFemaleMaleMaleFemaleMaleMaleFemaleMaleFemaleMaleFemaleMaleMaleFemaleFemaleMaleMaleMaleMaleMaleMaleFemaleMaleMaleFemaleFemaleFemaleMaleFemaleFemaleFemaleMaleMaleMaleMaleFemaleMaleMaleFemaleFemaleFemaleFemaleMaleFemaleFemaleMaleFemaleFemaleFemaleMaleFemaleMaleMaleFemaleMaleFemaleFemaleMaleMaleFemaleMaleMaleMaleMaleMaleMaleFemaleFemaleFemaleFemaleFemaleFemaleFemaleMaleMaleFemaleMaleFemaleFemaleMaleFemaleMaleFemaleFemaleMaleFemaleFemaleFemaleFemaleMaleMaleMaleFemaleMaleMaleMaleMaleMaleFemaleFemaleFemaleFemaleFemaleMaleMaleMaleMaleFemaleMaleMaleMaleMaleMaleMaleMaleMaleMaleMaleMaleMaleMaleFemaleMaleMaleMaleFemaleFemaleMaleMaleMaleMaleMaleMaleFemaleMaleMaleMaleMaleMaleMaleFemaleMaleFemaleMaleFemaleFemaleFemaleFemaleMaleMaleFemaleFemaleFemaleMaleMaleMaleMaleFemaleMaleFemaleMaleFemaleFemaleMaleFemaleFemaleFemaleMaleMaleMaleMaleMaleMaleMaleMaleMaleMaleMaleFemaleFemaleMaleMaleMaleFemaleMaleFemaleMaleMaleMaleMaleMaleFemaleFemaleFemaleFemaleFemaleFemaleMaleMaleMaleMaleMaleMaleMaleMaleFemaleMaleMaleFemaleMaleMaleFemaleFemaleMaleFemaleFemaleMaleMaleMaleFemaleFemaleFemaleFemaleMaleMaleMaleFemaleMaleMaleMaleMaleFemaleMaleMaleMaleFemaleMaleMaleFemaleFemaleFemaleFemaleMaleMaleMaleFemaleFemaleMaleMaleFemaleMaleFemaleFemaleMaleFemaleMaleFemaleFemaleFemaleFemaleFemaleMaleFemaleMaleMaleMaleMaleFemaleMaleMaleMaleMaleMaleFemaleFemaleMaleFemaleMaleFemaleMaleMaleMaleMaleMaleMaleMaleMaleMaleFemaleMaleFemaleMaleMaleMaleMaleFemaleFemaleFemaleFemaleMaleMaleFemaleFemaleMaleFemaleMaleFemaleMaleMaleFemaleFemaleFemaleFemaleMaleFemaleFemaleFemaleFemaleMaleMaleMaleMaleFemaleMaleFemaleFemaleMaleMaleMaleMaleMaleMaleFemaleFemaleMaleFemaleFemaleMaleFemaleMaleFemaleMaleMaleMaleMaleFemaleMaleFemaleMaleFemaleMaleMaleFemaleFemaleMaleMaleMaleFemaleFemaleFemaleFemaleMaleMaleMaleMaleMaleMaleFemaleFemaleMaleMaleFemaleMaleMaleMaleFemaleMaleFemaleFemaleFemaleMaleMaleMaleFemaleFemaleFemaleFemaleFemaleFemaleMaleMaleFemaleMaleFemaleMaleFemaleMaleMaleFemaleMaleMaleFemaleFemaleMaleFemaleFemaleMaleMaleFemaleMaleMaleMaleMaleMaleFemaleFemaleMaleMaleFemaleFemaleMaleMaleMaleMaleMaleFemaleFemaleFemaleFemaleFemaleMaleMaleMaleFemaleMaleMaleMaleMaleFemaleMaleMaleMaleFemaleMaleFemaleMaleMaleFemaleMaleFemaleFemaleFemaleMaleMaleMaleFemaleMaleMaleMaleMaleFemaleMaleFemaleMaleMaleFemaleFemaleMaleFemaleFemaleMaleMaleMaleMaleFemaleFemaleMaleFemaleFemaleFemaleMaleMaleFemaleMaleFemaleMaleMaleFemaleFemaleMaleMaleMaleFemaleFemaleFemaleMaleFemaleFemaleFemaleFemaleMaleMaleFemaleMaleMaleMaleFemaleMaleMaleFemaleMaleMaleMaleMaleMaleFemaleMaleFemaleFemaleFemaleMaleMaleFemaleFemaleMaleMaleFemaleFemaleMaleMaleFemaleMaleMaleMaleFemaleMaleFemaleMaleFemaleFemaleFemaleFemaleFemaleFemaleMaleFemaleMaleFemaleFemaleMaleMaleFemaleFemaleFemaleFemaleMaleFemaleMaleFemaleFemaleMaleFemaleMaleMaleFemaleMaleMaleMaleFemaleMaleMaleFemaleMaleMaleFemaleFemaleMaleMaleFemaleMaleMaleMaleMaleFemaleMaleFemaleMaleMaleFemaleMaleFemaleMaleMaleMaleMaleFemaleFemaleMaleFemaleFemaleMaleMaleMaleFemaleFemaleMaleMaleMaleMaleMaleFemaleFemaleMaleMaleFemaleMaleMaleFemaleFemaleFemaleMaleMaleFemaleMaleMaleMaleMaleFemaleFemaleMaleFemaleMaleMaleFemaleMaleFemaleMaleMaleFemaleMaleFemaleFemaleFemaleMaleFemaleFemaleFemaleFemaleMaleFemaleFemaleFemaleFemaleFemaleFemaleFemaleMaleMaleFemaleMaleFemaleFemaleMaleMaleFemaleFemaleMaleMaleFemaleMaleMaleMaleMaleFemaleFemaleMaleMaleMaleMaleMaleMaleFemaleFemaleMaleFemaleMaleFemaleMaleFemaleFemaleMaleMaleMaleFemaleMaleMaleMaleMaleMaleMaleMaleMaleMaleFemaleMaleMaleMaleFemaleMaleFemaleFemaleMaleMaleFemaleMaleFemaleFemaleMaleMaleMaleMaleMaleMaleFemaleFemaleFemaleMaleMaleMaleMaleFemaleMaleFemaleMaleFemaleMaleFemaleFemaleFemaleFemaleMaleMaleFemaleMaleFemaleMaleMaleMaleMaleMaleFemaleMaleFemaleFemaleFemaleMaleMaleFemaleFemaleFemaleMaleMaleMaleMaleMaleFemaleFemaleMaleMaleMaleFemaleFemaleFemaleFemaleFemaleMaleFemaleMaleMaleMaleFemaleFemaleMaleFemaleMaleFemaleFemaleMaleFemaleFemaleFemaleFemaleFemaleMaleMaleFemaleFemaleFemaleFemaleMaleMaleMaleMaleFemaleFemaleFemaleMaleMaleFemaleMaleMaleFemaleMaleFemaleMaleFemaleFemaleMaleFemaleFemaleFemaleMaleMaleFemaleMaleMaleMaleFemaleMaleMaleFemaleMaleMaleFemaleMaleMaleMaleMaleMaleMaleFemaleFemaleFemaleMaleFemaleFemaleFemaleMaleFemaleFemaleMaleMaleFemaleMaleMaleMaleMaleMaleFemaleMaleFemaleFemaleFemaleMaleFemaleFemaleMaleFemaleFemaleMaleFemaleFemaleMaleFemaleMaleMaleMaleFemaleFemaleMaleMaleFemaleMaleFemaleMaleMaleFemaleFemaleMaleMaleFemaleFemaleFemaleFemaleFemaleMaleMaleFemaleMaleMaleMaleMaleMaleFemaleFemaleFemaleFemaleFemaleFemaleMaleFemaleFemaleMaleMaleFemaleMaleMaleMaleMaleFemaleFemaleMaleMaleMaleFemaleMaleMaleFemaleMaleMaleMaleFemaleFemaleMaleFemaleMaleMaleMaleMaleMaleFemaleFemaleFemaleMaleFemaleFemaleMaleFemaleFemaleMaleFemaleFemaleMaleMaleFemaleFemaleFemaleFemaleMaleMaleFemaleMaleFemaleMaleMaleMaleFemaleMaleMaleMaleMaleMaleMaleMaleFemaleMaleMaleMaleFemaleFemaleMaleMaleFemaleMaleFemaleMaleFemaleMaleFemaleFemaleMaleFemaleMaleMaleFemaleMaleMaleMaleMaleMaleMaleFemaleFemaleMaleMaleMaleMaleFemaleFemaleFemaleFemaleFemaleMaleFemaleFemaleMaleMaleMaleFemaleMaleMaleFemaleMaleFemaleFemaleFemaleMaleMaleFemaleFemaleFemaleFemaleMaleMaleMaleMaleMaleMaleMaleMaleMaleMaleFemaleMaleMaleFemaleFemaleMaleFemaleFemaleFemaleMaleMaleMaleFemaleMaleFemaleMaleMaleFemaleMaleFemaleMaleMaleFemaleMaleMaleFemaleFemaleFemaleMaleFemaleMaleMaleFemaleMaleMaleFemaleMaleMaleMaleMaleFemaleFemaleFemaleMaleMaleMaleMaleFemaleFemaleMaleFemaleFemaleFemaleFemaleMaleMaleMaleFemaleFemaleMaleMaleMaleMaleMaleFemaleMaleMaleFemaleFemaleMaleFemaleMaleFemaleMaleFemaleMaleFemaleMaleFemaleFemaleMaleFemaleMaleMaleMaleFemaleFemaleFemaleFemaleFemaleFemaleMaleFemaleFemaleMaleMaleMaleMaleMaleMaleFemaleFemaleMaleMaleMaleFemaleMaleMaleFemaleFemaleFemaleMaleMaleMaleMaleMaleMaleMaleFemaleMaleMaleMaleMaleFemaleMaleMaleFemaleFemaleMaleMaleFemaleMaleFemaleMaleMaleFemaleMaleMaleFemaleFemaleFemaleMaleMaleMaleMaleMaleMaleFemaleMaleFemaleFemaleFemaleFemaleMaleMaleFemaleFemaleFemaleMaleMaleMaleMaleMaleFemaleMaleMaleMaleMaleFemaleMaleMaleFemaleMaleMaleMaleFemaleMaleMaleMaleFemaleMaleMaleFemaleMaleFemaleMaleFemaleMaleMaleMaleFemaleMaleFemaleMaleFemaleMaleFemaleFemaleFemaleFemaleMaleMaleMaleMaleFemaleMaleMaleFemaleMaleFemaleFemaleFemaleFemaleMaleFemaleFemaleFemaleFemaleFemaleFemaleMaleMaleFemaleFemaleMaleMaleFemaleFemaleMaleMaleMaleFemaleFemaleMaleFemaleFemaleMaleFemaleFemaleMaleFemaleMaleFemaleFemaleFemaleMaleFemaleFemaleFemaleFemaleMaleMaleFemaleFemaleMaleMaleFemaleMaleMaleMaleFemaleFemaleFemaleMaleMaleMaleMaleMaleMaleMaleMaleFemaleMaleFemaleMaleFemaleMaleFemaleMaleFemaleFemaleMaleMaleMaleMaleMaleFemaleFemaleFemaleFemaleFemaleMaleMaleFemaleMaleFemaleMaleFemaleFemaleFemaleFemaleFemaleMaleMaleMaleMaleMaleFemaleMaleMaleFemaleMaleFemaleFemaleFemaleFemaleFemaleMaleMaleMaleMaleFemaleMaleFemaleFemaleMaleFemaleFemaleMaleFemaleMaleMaleMaleFemaleMaleFemaleFemaleFemaleFemaleMaleFemaleMaleFemaleMaleFemaleMaleMaleMaleFemaleMaleMaleFemaleMaleMaleFemaleMaleFemaleFemaleFemaleFemaleMaleMaleFemaleMaleFemaleFemaleFemaleMaleMaleFemaleFemaleFemaleFemaleFemaleMaleMaleFemaleMaleMaleFemaleMaleFemaleMaleFemaleMaleFemaleMaleFemaleMaleMaleFemaleFemaleMaleMaleMaleMaleFemaleFemaleFemaleMaleMaleMaleFemaleFemaleMaleMaleMaleFemaleMaleFemaleFemaleMaleMaleFemaleMaleFemaleMaleFemaleFemaleFemaleFemaleFemaleMaleFemaleFemaleMaleMaleMaleFemaleFemaleMaleMaleFemaleMaleMaleMaleMaleMaleFemaleFemaleMaleFemaleMaleFemaleFemaleFemaleFemaleFemaleMaleMaleFemaleFemaleMaleFemaleFemaleMaleMaleMaleMaleFemaleMaleFemaleMaleFemaleMaleMaleMaleMaleMaleMaleMaleFemaleFemaleMaleMaleMaleFemaleFemaleMaleMaleFemaleMaleMaleFemaleMaleFemaleFemaleMaleMaleMaleFemaleFemaleMaleMaleMaleFemaleMaleMaleMaleMaleFemaleFemaleFemaleMaleMaleFemaleFemaleMaleMaleMaleMaleMaleMaleFemaleMaleFemaleFemaleMaleMaleMaleMaleMaleFemaleMaleFemaleFemaleMaleFemaleMaleMaleMaleFemaleFemaleMaleFemaleFemaleFemaleFemaleMaleMaleFemaleFemaleFemaleMaleFemaleMaleMaleFemaleFemaleMaleFemaleMaleFemaleMaleFemaleFemaleFemaleMaleFemaleFemaleMaleFemaleFemaleMaleMaleFemaleMaleMaleFemaleFemaleMaleFemaleFemaleFemaleMaleFemaleFemaleMaleFemaleMaleMaleFemaleFemaleFemaleFemaleFemaleFemaleFemaleMaleFemaleFemaleMaleFemaleMaleMaleFemaleMaleFemaleMaleFemaleMaleMaleMaleFemaleMaleFemaleMaleMaleMaleMaleMaleMaleMaleFemaleMaleMaleMaleFemaleMaleMaleFemaleMaleMaleFemaleMaleMaleFemaleFemaleFemaleMaleFemaleMaleMaleMaleFemaleFemaleFemaleMaleFemaleMaleMaleFemaleMaleMaleMaleFemaleMaleFemaleMaleFemaleFemaleFemaleMaleMaleMaleFemaleFemaleFemaleFemaleMaleMaleFemaleFemaleMaleMaleMaleMaleMaleFemaleMaleMaleMaleFemaleMaleFemaleMaleMaleFemaleFemaleFemaleMaleFemaleMaleFemaleMaleFemaleMaleFemaleMaleFemaleMaleFemaleMaleMaleFemaleMaleMaleMaleMaleMaleMaleFemaleFemaleMaleMaleFemaleMaleMaleFemaleMaleFemaleMaleFemaleFemaleMaleMaleMaleFemaleMaleMaleMaleMaleMaleFemaleMaleMaleMaleFemaleMaleFemaleMaleMaleMaleFemaleFemaleFemaleMaleMaleMaleFemaleMaleMaleMaleFemaleFemaleFemaleMaleMaleMaleMaleFemaleFemaleMaleMaleMaleMaleMaleFemaleFemaleFemaleFemaleMaleMaleFemaleMaleMaleMaleFemaleMaleMaleMaleMaleFemaleFemaleMaleFemaleFemaleMaleMaleFemaleMaleFemaleFemaleFemaleMaleMaleFemaleMaleMaleFemaleFemaleFemaleMaleFemaleFemaleFemaleFemaleFemaleFemaleMaleMaleFemaleFemaleFemaleMaleMaleFemaleFemaleMaleMaleFemaleMaleMaleFemaleMaleMaleFemaleMaleFemaleFemaleMaleMaleMaleMaleMaleMaleMaleMaleFemaleMaleMaleMaleMaleMaleFemaleMaleMaleMaleMaleFemaleFemaleMaleMaleMaleMaleFemaleMaleFemaleFemaleMaleMaleFemaleMaleMaleMaleMaleMaleFemaleFemaleMaleFemaleFemaleMaleMaleFemaleFemaleFemaleFemaleFemaleMaleMaleMaleFemaleFemaleMaleMaleMaleFemaleFemaleFemaleFemaleMaleMaleFemaleMaleFemaleFemaleMaleMaleMaleMaleMaleMaleFemaleMaleMaleMaleFemaleFemaleMaleMaleMaleMaleMaleFemaleFemaleMaleFemaleFemaleMaleMaleMaleMaleMaleFemaleMaleFemaleFemaleMaleFemaleMaleMaleMaleMaleMaleMaleMaleMaleMaleMaleMaleMaleMaleFemaleMaleFemaleFemaleMaleFemaleFemaleMaleFemaleMaleFemaleMaleMaleFemaleFemaleFemaleFemaleFemaleFemaleMaleMaleMaleMaleMaleMaleFemaleFemaleMaleMaleFemaleMaleMaleFemaleFemaleFemaleMaleFemaleFemaleFemaleMaleMaleMaleFemaleMaleMaleFemaleMaleMaleFemaleMaleMaleFemaleMaleMaleMaleMaleFemaleFemaleFemaleFemaleMaleMaleMaleMaleMaleMaleFemaleMaleMaleFemaleFemaleMaleFemaleFemaleFemaleMaleMaleMaleMaleFemaleMaleFemaleMaleMaleMaleFemaleMaleMaleFemaleMaleMaleMaleMaleFemaleMaleMaleFemaleMaleFemaleMaleMaleMaleFemaleFemaleMaleMaleFemaleMaleMaleFemaleMaleMaleMaleFemaleFemaleMaleMaleMaleFemaleFemaleFemaleFemaleFemaleMaleFemaleMaleFemaleFemaleFemaleFemaleMaleFemaleFemaleMaleMaleMaleMaleFemaleFemaleFemaleMaleFemaleMaleMaleMaleFemaleMaleMaleFemaleFemaleFemaleMaleFemaleMaleMaleMaleFemaleMaleFemaleFemaleMaleMaleFemaleFemaleFemaleFemaleMaleFemaleMaleMaleMaleFemaleMaleFemaleFemaleFemaleMaleMaleMaleMaleMaleFemaleMaleMaleMaleFemaleMaleMaleMaleMaleFemaleMaleMaleFemaleMaleMaleFemaleMaleMaleMaleMaleFemaleFemaleMaleFemaleMaleMaleFemaleMaleMaleMaleMaleMaleMaleMaleMaleFemaleMaleMaleFemaleMaleMaleFemaleMaleFemale'] to numeric</div>"
      ],
      "text/plain": [
       "<IPython.core.display.HTML object>"
      ]
     },
     "metadata": {},
     "output_type": "display_data"
    },
    {
     "data": {
      "text/html": [
       "<div style='color: red; font-size: 18px;'>Ocurrió un error: unsupported operand type(s) for -: 'str' and 'str'</div>"
      ],
      "text/plain": [
       "<IPython.core.display.HTML object>"
      ]
     },
     "metadata": {},
     "output_type": "display_data"
    },
    {
     "name": "stderr",
     "output_type": "stream",
     "text": [
      "Procesando análisis estadístico:  20%|██        | 20/100 [00:00<00:00, 87.78%/s]"
     ]
    },
    {
     "data": {
      "text/html": [
       "<h3 style='color: #2E7D32;'>Verificación de Normalidad (Kolmogorov-Smirnov)</h3>"
      ],
      "text/plain": [
       "<IPython.core.display.HTML object>"
      ]
     },
     "metadata": {},
     "output_type": "display_data"
    },
    {
     "data": {
      "text/html": [
       "<div style='color: red; font-size: 18px;'>Ocurrió un error: name 'FastICA' is not defined</div>"
      ],
      "text/plain": [
       "<IPython.core.display.HTML object>"
      ]
     },
     "metadata": {},
     "output_type": "display_data"
    },
    {
     "data": {
      "text/html": [
       "<div style='color: red; font-size: 18px;'>Ocurrió un error: could not convert string to float: 'Hargrave'</div>"
      ],
      "text/plain": [
       "<IPython.core.display.HTML object>"
      ]
     },
     "metadata": {},
     "output_type": "display_data"
    },
    {
     "name": "stderr",
     "output_type": "stream",
     "text": [
      "Procesando análisis estadístico: 100%|██████████| 100/100 [00:00<00:00, 422.95%/s]\n"
     ]
    }
   ],
   "source": [
    "# Decorador para manejo de excepciones\n",
    "def manejar_excepciones(func):\n",
    "    def wrapper(*args, **kwargs):\n",
    "        try:\n",
    "            return func(*args, **kwargs)\n",
    "        except KeyError as e:\n",
    "            display(HTML(f\"<div style='color: red; font-size: 18px;'>Error: La columna '{e}' no existe en el DataFrame.</div>\"))\n",
    "        except Exception as e:\n",
    "            display(HTML(f\"<div style='color: red; font-size: 18px;'>Ocurrió un error: {str(e)}</div>\"))\n",
    "    return wrapper\n",
    "\n",
    "# Función para generar estadísticas descriptivas\n",
    "@manejar_excepciones\n",
    "def descripcion_estadistica(df):\n",
    "    display(HTML(\"<h3 style='color: #2E7D32;'>Estadísticas Descriptivas</h3>\"))\n",
    "    display(df.describe())\n",
    "\n",
    "# Función para detectar valores nulos\n",
    "@manejar_excepciones\n",
    "def detectar_valores_nulos(df):\n",
    "    nulos = df.isnull().sum()\n",
    "    display(HTML(\"<div style='color: green; font-size: 18px;'>Detección de valores nulos completada exitosamente.</div>\"))\n",
    "    display(nulos)\n",
    "    return nulos\n",
    "\n",
    "# Función para imputar valores faltantes\n",
    "@manejar_excepciones\n",
    "def imputar_valores_faltantes(df, metodo='media'):\n",
    "    if metodo == 'media':\n",
    "        df.fillna(df.mean(), inplace=True)\n",
    "    elif metodo == 'mediana':\n",
    "        df.fillna(df.median(), inplace=True)\n",
    "    elif metodo == 'moda':\n",
    "        df.fillna(df.mode().iloc[0], inplace=True)\n",
    "    elif metodo == 'interpolacion':\n",
    "        df.interpolate(inplace=True)\n",
    "    display(HTML(f\"<div style='color: green; font-size: 18px;'>Imputación de valores faltantes utilizando el método '{metodo}' completada exitosamente.</div>\"))\n",
    "    return df\n",
    "\n",
    "# Función para identificar valores atípicos usando IQR\n",
    "@manejar_excepciones\n",
    "def identificar_outliers_iqr(df):\n",
    "    Q1 = df.quantile(0.25)\n",
    "    Q3 = df.quantile(0.75)\n",
    "    IQR = Q3 - Q1\n",
    "    outliers = df[((df < (Q1 - 1.5 * IQR)) | (df > (Q3 + 1.5 * IQR))).any(axis=1)]\n",
    "    display(HTML(\"<h3 style='color: #2E7D32;'>Identificación de Valores Atípicos (IQR)</h3>\"))\n",
    "    display(outliers.head(10))  # Mostrar solo 10 registros por defecto\n",
    "    return outliers\n",
    "\n",
    "# Función para verificar la normalidad con Kolmogorov-Smirnov\n",
    "@manejar_excepciones\n",
    "def verificar_normalidad_ks(df, columnas):\n",
    "    display(HTML(\"<h3 style='color: #2E7D32;'>Verificación de Normalidad (Kolmogorov-Smirnov)</h3>\"))\n",
    "    for col in columnas:\n",
    "        if col in df.columns:\n",
    "            stat, p = stats.kstest(df[col].dropna(), 'norm')\n",
    "            display(HTML(f\"<div>Columna: {col}, Estadístico: {stat}, p-valor: {p}</div>\"))\n",
    "            if p > 0.05:\n",
    "                display(HTML(f\"<div style='color: green;'>{col} sigue una distribución normal (p > 0.05).</div>\"))\n",
    "            else:\n",
    "                display(HTML(f\"<div style='color: red;'>{col} no sigue una distribución normal (p <= 0.05).</div>\"))\n",
    "\n",
    "# Función para verificar la homogeneidad de varianza con Bartlett\n",
    "@manejar_excepciones\n",
    "def verificar_homogeneidad_bartlett(df, col1, col2):\n",
    "    if col1 in df.columns and col2 in df.columns:\n",
    "        stat, p = stats.bartlett(df[col1].dropna(), df[col2].dropna())\n",
    "        display(HTML(f\"<h3 style='color: #2E7D32;'>Verificación de Homogeneidad de Varianza (Bartlett)</h3>\"))\n",
    "        display(HTML(f\"<div>Columna 1: {col1}, Columna 2: {col2}, Estadístico: {stat}, p-valor: {p}</div>\"))\n",
    "        if p > 0.05:\n",
    "            display(HTML(f\"<div style='color: green;'>Las varianzas de {col1} y {col2} son homogéneas (p > 0.05).</div>\"))\n",
    "        else:\n",
    "            display(HTML(f\"<div style='color: red;'>Las varianzas de {col1} y {col2} no son homogéneas (p <= 0.05).</div>\"))\n",
    "\n",
    "# Función para calcular la matriz de correlación\n",
    "@manejar_excepciones\n",
    "def calcular_correlacion(df):\n",
    "    correlacion = df.corr()\n",
    "    display(HTML(\"<div style='color: green; font-size: 18px;'>Matriz de correlación calculada exitosamente.</div>\"))\n",
    "    display(correlacion)\n",
    "    return correlacion\n",
    "\n",
    "# Función para calcular la distribución de frecuencias\n",
    "@manejar_excepciones\n",
    "def distribucion_frecuencias(df, columna):\n",
    "    if columna in df.columns:\n",
    "        frecuencias = df[columna].value_counts()\n",
    "        display(HTML(f\"<div style='color: green; font-size: 18px;'>Distribución de frecuencias para '{columna}' calculada exitosamente.</div>\"))\n",
    "        display(frecuencias)\n",
    "        return frecuencias\n",
    "\n",
    "# Función para realizar análisis de varianza (ANOVA)\n",
    "@manejar_excepciones\n",
    "def analisis_anova(df, col_categorica, col_numerica):\n",
    "    if col_categorica in df.columns and col_numerica in df.columns:\n",
    "        categorias = df[col_categorica].unique()\n",
    "        grupos = [df[df[col_categorica] == cat][col_numerica] for cat in categorias]\n",
    "        anova_result = stats.f_oneway(*grupos)\n",
    "        display(HTML(f\"<div style='color: green; font-size: 18px;'>ANOVA completado exitosamente. F-valor: {anova_result.statistic}, p-valor: {anova_result.pvalue}</div>\"))\n",
    "        return anova_result\n",
    "\n",
    "# Función para realizar prueba de Chi-Cuadrado\n",
    "@manejar_excepciones\n",
    "def prueba_chi_cuadrado(df, col1, col2):\n",
    "    if col1 in df.columns and col2 in df.columns:\n",
    "        tabla_contingencia = pd.crosstab(df[col1], df[col2])\n",
    "        chi2, p, _, _ = stats.chi2_contingency(tabla_contingencia)\n",
    "        display(HTML(f\"<div style='color: green; font-size: 18px;'>Prueba de Chi-Cuadrado completada exitosamente. Chi2: {chi2}, p-valor: {p}</div>\"))\n",
    "        return chi2, p\n",
    "\n",
    "# Función para realizar análisis de componentes principales (PCA)\n",
    "@manejar_excepciones\n",
    "def analisis_pca(df, n_componentes=2):\n",
    "    pca = PCA(n_components=n_componentes)\n",
    "    componentes = pca.fit_transform(df.select_dtypes(include=[np.number]).dropna())\n",
    "    display(HTML(\"<div style='color: green; font-size: 18px;'>Análisis de Componentes Principales (PCA) completado exitosamente.</div>\"))\n",
    "    \n",
    "    # Visualización de los componentes principales\n",
    "    plt.figure(figsize=(10, 6))\n",
    "    plt.scatter(componentes[:, 0], componentes[:, 1], alpha=0.5)\n",
    "    plt.xlabel('Componente Principal 1')\n",
    "    plt.ylabel('Componente Principal 2')\n",
    "    plt.title('PCA - Componentes Principales')\n",
    "    plt.grid(True)\n",
    "    plt.show()\n",
    "    \n",
    "    return componentes\n",
    "\n",
    "# Función para realizar prueba de T de Student\n",
    "@manejar_excepciones\n",
    "def prueba_t_student(df, col1, col2):\n",
    "    if col1 in df.columns and col2 in df.columns:\n",
    "        stat, p = stats.ttest_ind(df[col1].dropna(), df[col2].dropna())\n",
    "        display(HTML(f\"<div style='color: green; font-size: 18px;'>Prueba de T de Student completada exitosamente. Estadístico: {stat}, p-valor: {p}</div>\"))\n",
    "        return stat, p\n",
    "\n",
    "# Función para realizar análisis de regresión lineal\n",
    "@manejar_excepciones\n",
    "def analisis_regresion_lineal(df, col_x, col_y):\n",
    "    if col_x in df.columns and col_y in df.columns:\n",
    "        X = df[[col_x]].dropna()\n",
    "        y = df[col_y].dropna()\n",
    "        modelo = LinearRegression()\n",
    "        modelo.fit(X, y)\n",
    "        predicciones = modelo.predict(X)\n",
    "        \n",
    "        display(HTML(f\"<div style='color: green; font-size: 18px;'>Análisis de Regresión Lineal completado exitosamente.</div>\"))\n",
    "        \n",
    "        # Visualización de la regresión lineal\n",
    "        plt.figure(figsize=(10, 6))\n",
    "        plt.scatter(X, y, alpha=0.5)\n",
    "        plt.plot(X, predicciones, color='red')\n",
    "        plt.xlabel(col_x)\n",
    "        plt.ylabel(col_y)\n",
    "        plt.title('Regresión Lineal')\n",
    "        plt.grid(True)\n",
    "        plt.show()\n",
    "        \n",
    "        return modelo\n",
    "\n",
    "# Función para realizar análisis de clústeres (K-Means)\n",
    "@manejar_excepciones\n",
    "def analisis_kmeans(df, n_clusters=3):\n",
    "    kmeans = KMeans(n_clusters=n_clusters)\n",
    "    clusters = kmeans.fit_predict(df.select_dtypes(include=[np.number]).dropna())\n",
    "    display(HTML(f\"<div style='color: green; font-size: 18px;'>Análisis de Clústeres (K-Means) completado exitosamente.</div>\"))\n",
    "    \n",
    "    # Visualización de los clústeres\n",
    "    plt.figure(figsize=(10, 6))\n",
    "    plt.scatter(df.iloc[:, 0], df.iloc[:, 1], c=clusters, cmap='viridis', alpha=0.5)\n",
    "    plt.title('K-Means Clustering')\n",
    "    plt.xlabel(df.columns[0])\n",
    "    plt.ylabel(df.columns[1])\n",
    "    plt.grid(True)\n",
    "    plt.show()\n",
    "    \n",
    "    return clusters\n",
    "\n",
    "# Función para analizar la distribución\n",
    "@manejar_excepciones\n",
    "def analizar_distribucion(df, columna):\n",
    "    if columna in df.columns:\n",
    "        plt.figure(figsize=(10, 6))\n",
    "        sns.histplot(df[columna], kde=True)\n",
    "        plt.title(f'Distribución de {columna}')\n",
    "        plt.xlabel(columna)\n",
    "        plt.ylabel('Frecuencia')\n",
    "        plt.grid(True)\n",
    "        plt.show()\n",
    "        display(HTML(f\"<div style='color: green; font-size: 18px;'>Análisis de distribución de '{columna}' completado exitosamente.</div>\"))\n",
    "\n",
    "# Función para realizar análisis de correlación de Pearson\n",
    "@manejar_excepciones\n",
    "def analisis_correlacion_pearson(df, col1, col2):\n",
    "    if col1 in df.columns and col2 in df.columns:\n",
    "        coef, p = stats.pearsonr(df[col1].dropna(), df[col2].dropna())\n",
    "        display(HTML(f\"<div style='color: green; font-size: 18px;'>Análisis de correlación de Pearson completado exitosamente. Coeficiente: {coef}, p-valor: {p}</div>\"))\n",
    "        return coef, p\n",
    "\n",
    "# Función para realizar análisis de correlación de Spearman\n",
    "@manejar_excepciones\n",
    "def analisis_correlacion_spearman(df, col1, col2):\n",
    "    if col1 in df.columns and col2 in df.columns:\n",
    "        coef, p = stats.spearmanr(df[col1].dropna(), df[col2].dropna())\n",
    "        display(HTML(f\"<div style='color: green; font-size: 18px;'>Análisis de correlación de Spearman completado exitosamente. Coeficiente: {coef}, p-valor: {p}</div>\"))\n",
    "        return coef, p\n",
    "\n",
    "# Función para realizar análisis de correlación de Kendall\n",
    "@manejar_excepciones\n",
    "def analisis_correlacion_kendall(df, col1, col2):\n",
    "    if col1 in df.columns and col2 in df.columns:\n",
    "        coef, p = stats.kendalltau(df[col1].dropna(), df[col2].dropna())\n",
    "        display(HTML(f\"<div style='color: green; font-size: 18px;'>Análisis de correlación de Kendall completado exitosamente. Coeficiente: {coef}, p-valor: {p}</div>\"))\n",
    "        return coef, p\n",
    "\n",
    "# Función para realizar análisis de regresión logística\n",
    "@manejar_excepciones\n",
    "def analisis_regresion_logistica(df, col_x, col_y):\n",
    "    if col_x in df.columns and col_y in df.columns:\n",
    "        X = df[[col_x]].dropna()\n",
    "        y = df[col_y].dropna()\n",
    "        modelo = LogisticRegression()\n",
    "        modelo.fit(X, y)\n",
    "        predicciones = modelo.predict(X)\n",
    "        \n",
    "        display(HTML(f\"<div style='color: green; font-size: 18px;'>Análisis de Regresión Logística completado exitosamente.</div>\"))\n",
    "        \n",
    "        # Visualización de la regresión logística\n",
    "        plt.figure(figsize=(10, 6))\n",
    "        plt.scatter(X, y, alpha=0.5)\n",
    "        plt.plot(X, predicciones, color='red')\n",
    "        plt.xlabel(col_x)\n",
    "        plt.ylabel(col_y)\n",
    "        plt.title('Regresión Logística')\n",
    "        plt.grid(True)\n",
    "        plt.show()\n",
    "        \n",
    "        return modelo\n",
    "\n",
    "# Función para realizar análisis de componentes independientes (ICA)\n",
    "@manejar_excepciones\n",
    "def analisis_ica(df, n_componentes=2):\n",
    "    ica = FastICA(n_components=n_componentes)\n",
    "    componentes = ica.fit_transform(df.select_dtypes(include=[np.number]).dropna())\n",
    "    display(HTML(\"<div style='color: green; font-size: 18px;'>Análisis de Componentes Independientes (ICA) completado exitosamente.</div>\"))\n",
    "    \n",
    "    # Visualización de los componentes independientes\n",
    "    plt.figure(figsize=(10, 6))\n",
    "    plt.scatter(componentes[:, 0], componentes[:, 1], alpha=0.5)\n",
    "    plt.xlabel('Componente Independiente 1')\n",
    "    plt.ylabel('Componente Independiente 2')\n",
    "    plt.title('ICA - Componentes Independientes')\n",
    "    plt.grid(True)\n",
    "    plt.show()\n",
    "    \n",
    "    return componentes\n",
    "\n",
    "# Widgets interactivos para análisis\n",
    "def actualizar_graficos(tipo, x, y=None):\n",
    "    if tipo == 'Distribución':\n",
    "        analizar_distribucion(df, x)\n",
    "    elif tipo == 'Regresión Lineal':\n",
    "        analisis_regresion_lineal(df, x, y)\n",
    "\n",
    "opciones_grafico = ['Distribución', 'Regresión Lineal']\n",
    "columnas = df.columns.tolist()\n",
    "\n",
    "# Estilo CSS personalizado\n",
    "style = \"\"\"\n",
    "<style>\n",
    "    .widget-label {\n",
    "        font-size: 16px !important;\n",
    "        color: #2E7D32 !important;\n",
    "    }\n",
    "    .widget-dropdown, .widget-text {\n",
    "        width: 50% !important;\n",
    "        font-size: 14px !important;\n",
    "    }\n",
    "    .widget-button {\n",
    "        background-color: #2E7D32 !important;\n",
    "        color: white !important;\n",
    "        font-size: 16px !important;\n",
    "    }\n",
    "</style>\n",
    "\"\"\"\n",
    "display(HTML(style))\n",
    "\n",
    "tipo_grafico = widgets.Dropdown(\n",
    "    options=opciones_grafico, \n",
    "    description='Tipo de gráfico:', \n",
    "    style={'description_width': 'initial'},\n",
    "    layout=widgets.Layout(width='50%')\n",
    ")\n",
    "columna_x = widgets.Dropdown(\n",
    "    options=columnas, \n",
    "    description='Columna X:', \n",
    "    style={'description_width': 'initial'},\n",
    "    layout=widgets.Layout(width='50%')\n",
    ")\n",
    "columna_y = widgets.Dropdown(\n",
    "    options=[None] + columnas, \n",
    "    description='Columna Y:', \n",
    "    style={'description_width': 'initial'},\n",
    "    layout=widgets.Layout(width='50%')\n",
    ")\n",
    "\n",
    "# Botón de ejecución\n",
    "boton_ejecutar = widgets.Button(\n",
    "    description=\"Ejecutar Análisis\",\n",
    "    button_style='success',\n",
    "    layout=widgets.Layout(width='50%')\n",
    ")\n",
    "\n",
    "def ejecutar_analisis(b):\n",
    "    actualizar_graficos(tipo_grafico.value, columna_x.value, columna_y.value)\n",
    "\n",
    "boton_ejecutar.on_click(ejecutar_analisis)\n",
    "\n",
    "# Mostrar widgets\n",
    "display(tipo_grafico, columna_x, columna_y, boton_ejecutar)\n",
    "\n",
    "# Ejemplo de uso con el DataFrame df\n",
    "if 'df' in globals():\n",
    "    with tqdm(total=100, desc=\"Procesando análisis estadístico\", unit=\"%\") as pbar:\n",
    "        # Generar estadísticas descriptivas\n",
    "        descripcion_estadistica(df)\n",
    "        pbar.update(5)\n",
    "\n",
    "        # Detectar valores nulos\n",
    "        detectar_valores_nulos(df)\n",
    "        pbar.update(5)\n",
    "\n",
    "        # Imputar valores faltantes\n",
    "        imputar_valores_faltantes(df, metodo='media')\n",
    "        pbar.update(5)\n",
    "\n",
    "        # Identificar valores atípicos usando IQR\n",
    "        outliers = identificar_outliers_iqr(df)\n",
    "        pbar.update(5)\n",
    "\n",
    "        # Verificar normalidad de algunas columnas numéricas usando Kolmogorov-Smirnov\n",
    "        verificar_normalidad_ks(df, ['tenure', 'monthlycharges', 'totalcharges'])\n",
    "        pbar.update(10)\n",
    "\n",
    "        # Verificar homogeneidad de varianza entre dos columnas usando Bartlett\n",
    "        verificar_homogeneidad_bartlett(df, 'tenure', 'monthlycharges')\n",
    "        pbar.update(10)\n",
    "\n",
    "        # Análisis de correlación de Pearson entre 'tenure' y 'monthlycharges'\n",
    "        analisis_correlacion_pearson(df, 'tenure', 'monthlycharges')\n",
    "        pbar.update(10)\n",
    "\n",
    "        # Análisis de correlación de Spearman entre 'tenure' y 'totalcharges'\n",
    "        analisis_correlacion_spearman(df, 'tenure', 'totalcharges')\n",
    "        pbar.update(10)\n",
    "\n",
    "        # Análisis de correlación de Kendall entre 'monthlycharges' y 'totalcharges'\n",
    "        analisis_correlacion_kendall(df, 'monthlycharges', 'totalcharges')\n",
    "        pbar.update(10)\n",
    "\n",
    "        # Análisis de regresión logística\n",
    "        analisis_regresion_logistica(df, 'tenure', 'churn')\n",
    "        pbar.update(10)\n",
    "\n",
    "        # Análisis de componentes independientes (ICA)\n",
    "        analisis_ica(df)\n",
    "        pbar.update(10)\n",
    "\n",
    "        # Calcular la matriz de correlación\n",
    "        calcular_correlacion(df)\n",
    "        pbar.update(5)\n",
    "\n",
    "        # Distribución de frecuencias\n",
    "        distribucion_frecuencias(df, 'churn')\n",
    "        pbar.update(5)\n"
   ]
  },
  {
   "cell_type": "markdown",
   "metadata": {},
   "source": [
    "<div style='font-size: 16px; color: #4CAF50; font-family: Arial, sans-serif;'>\n",
    "  <div class=\"alert alert-block alert-info\">\n",
    "    <h1 style='color: #388E3C;'>Visualización de Datos</h1>\n",
    "    <h3 style='color: #2E7D32;'>Descripción de la Función</h3>\n",
    "    <p>En esta sección, se implementan varias funciones para generar gráficos a partir del DataFrame, con una barra de progreso para monitorizar el proceso. Las funciones de visualización incluyen gráficos de líneas, barras, dispersión, boxplots, histogramas, KDEs, y más.</p>\n",
    "  </div>\n",
    "</div>\n",
    "\n",
    "<div style='font-size: 16px; color: #4CAF50; font-family: Arial, sans-serif;'>\n",
    "  <div class=\"alert alert-block alert-info\">\n",
    "    <h3 style='color: #2E7D32;'>Funcionalidad del Código</h3>\n",
    "    <p>El código implementa varias funciones clave para la visualización de datos:</p>\n",
    "    <ul>\n",
    "      <li><code>generar_grafico_con_progreso(df, tipo, x, y, hue, title, xlabel, ylabel, figsize)</code>: Genera gráficos con barra de progreso, soportando múltiples tipos de gráficos, incluyendo:\n",
    "        <ul>\n",
    "          <li>Gráfico de líneas (<code>line</code>)</li>\n",
    "          <li>Gráfico de barras (<code>bar</code>)</li>\n",
    "          <li>Gráfico de dispersión (<code>scatter</code>)</li>\n",
    "          <li>Boxplot (<code>box</code>)</li>\n",
    "          <li>Histograma (<code>hist</code>)</li>\n",
    "          <li>Gráfico de densidad Kernel (KDE) (<code>kde</code>)</li>\n",
    "          <li>Gráfico de violín (<code>violin</code>)</li>\n",
    "          <li>Boxenplot (<code>boxen</code>)</li>\n",
    "          <li>Gráfico de puntos (<code>strip</code>)</li>\n",
    "          <li>Gráfico de enjambre (<code>swarm</code>)</li>\n",
    "          <li>Mapa de calor (<code>heatmap</code>)</li>\n",
    "          <li>Mapa de clusters (<code>clustermap</code>)</li>\n",
    "          <li>Gráfico de contorno (<code>contour</code>)</li>\n",
    "          <li>Pairplot (<code>pairplot</code>)</li>\n",
    "          <li>Curvas de Andrews (<code>andrews_curves</code>)</li>\n",
    "          <li>Coordenadas paralelas (<code>parallel_coordinates</code>)</li>\n",
    "          <li>Gráfico de radar (<code>radar</code>)</li>\n",
    "          <li>Gráfico de dispersión 3D (<code>3d_scatter</code>)</li>\n",
    "        </ul>\n",
    "      </li>\n",
    "      <li><code>interactivo_grafico(df)</code>: Crea un menú interactivo para seleccionar el tipo de gráfico y las columnas a graficar, proporcionando una interfaz de usuario amigable y flexible para la exploración de datos visual.</li>\n",
    "    </ul>\n",
    "  </div>\n",
    "</div>\n",
    "\n",
    "<div style='font-size: 16px; color: #4CAF50; font-family: Arial, sans-serif;'>\n",
    "  <div class=\"alert alert-block alert-info\">\n",
    "    <h3 style='color: #2E7D32;'>Ventajas de la Visualización de Datos</h3>\n",
    "    <ul>\n",
    "      <li><strong>Monitorización del Progreso:</strong> La barra de progreso proporciona feedback en tiempo real sobre el estado de generación del gráfico.</li>\n",
    "      <li><strong>Amplia Variedad de Gráficos:</strong> Soporta múltiples tipos de gráficos, lo que permite una exploración visual completa y diversificada de los datos.</li>\n",
    "      <li><strong>Interactividad:</strong> La interfaz de usuario interactiva facilita la selección y personalización de los gráficos, mejorando la experiencia del usuario.</li>\n",
    "      <li><strong>Validación de Entradas:</strong> Las validaciones aseguran que las columnas seleccionadas existen y son adecuadas para el tipo de gráfico seleccionado.</li>\n",
    "      <li><strong>Manejo de Excepciones:</strong> Proporciona mensajes de error claros y específicos, mejorando la comprensión y solución de problemas potenciales.</li>\n",
    "      <li><strong>Estilo y Presentación:</strong> Los gráficos generados son visualmente atractivos y profesionales, facilitando la interpretación y comunicación de los resultados.</li>\n",
    "    </ul>\n",
    "  </div>\n",
    "</div>\n"
   ]
  },
  {
   "cell_type": "code",
   "execution_count": 7,
   "metadata": {},
   "outputs": [
    {
     "data": {
      "application/vnd.jupyter.widget-view+json": {
       "model_id": "6c2b8202ed3f4323980dd26ed19cb6b1",
       "version_major": 2,
       "version_minor": 0
      },
      "text/plain": [
       "VBox(children=(Dropdown(description='Tipo de gráfico:', index=4, layout=Layout(width='400px'), options=('line'…"
      ]
     },
     "metadata": {},
     "output_type": "display_data"
    }
   ],
   "source": [
    "# Función para generar gráficos con barra de progreso\n",
    "def generar_grafico_con_progreso(df, tipo, x=None, y=None, hue=None, title=None, xlabel=None, ylabel=None, figsize=(12, 6)):\n",
    "    try:\n",
    "        with tqdm(total=100, desc=f\"Generando gráfico {tipo}\", colour='blue') as pbar:\n",
    "            start_time = time.time()\n",
    "            plt.figure(figsize=figsize)\n",
    "            if tipo == 'line':\n",
    "                sns.lineplot(data=df, x=x, y=y)\n",
    "            elif tipo == 'bar':\n",
    "                sns.barplot(data=df, x=x, y=y, hue=hue)\n",
    "            elif tipo == 'scatter':\n",
    "                sns.scatterplot(data=df, x=x, y=y, hue=hue)\n",
    "            elif tipo == 'box':\n",
    "                sns.boxplot(data=df, x=x, y=y)\n",
    "            elif tipo == 'hist':\n",
    "                sns.histplot(data=df, x=x, bins=30, kde=True)\n",
    "            elif tipo == 'kde':\n",
    "                sns.kdeplot(data=df, x=x, fill=True)\n",
    "            elif tipo == 'violin':\n",
    "                sns.violinplot(data=df, x=x)\n",
    "            elif tipo == 'boxen':\n",
    "                sns.boxenplot(data=df, x=x)\n",
    "            elif tipo == 'strip':\n",
    "                sns.stripplot(data=df, x=x)\n",
    "            elif tipo == 'swarm':\n",
    "                sns.swarmplot(data=df, x=x)\n",
    "            elif tipo == 'heatmap':\n",
    "                sns.heatmap(data=df.corr(), annot=True, cmap='coolwarm')\n",
    "            elif tipo == 'clustermap':\n",
    "                sns.clustermap(data=df.corr(), annot=True, cmap='coolwarm')\n",
    "            elif tipo == 'contour':\n",
    "                sns.kdeplot(data=df, x=x, y=y, fill=True)\n",
    "            elif tipo == 'pairplot':\n",
    "                sns.pairplot(df, hue=hue)\n",
    "            elif tipo == 'andrews_curves':\n",
    "                pd.plotting.andrews_curves(df, class_column=hue)\n",
    "            elif tipo == 'parallel_coordinates':\n",
    "                pd.plotting.parallel_coordinates(df, class_column=hue)\n",
    "            elif tipo == 'radar':\n",
    "                labels = np.array(df.columns)\n",
    "                stats = df.mean(axis=0)\n",
    "                angles = np.linspace(0, 2 * np.pi, len(labels), endpoint=False).tolist()\n",
    "                stats = np.concatenate((stats, [stats[0]]))\n",
    "                angles += angles[:1]\n",
    "                fig, ax = plt.subplots(figsize=figsize, subplot_kw=dict(polar=True))\n",
    "                ax.fill(angles, stats, color='blue', alpha=0.25)\n",
    "                ax.plot(angles, stats, color='blue', linewidth=2)\n",
    "                ax.set_yticklabels([])\n",
    "                ax.set_xticks(angles[:-1])\n",
    "                ax.set_xticklabels(labels)\n",
    "            elif tipo == '3d_scatter':\n",
    "                if x is not None and y is not None and hue is not None:\n",
    "                    from mpl_toolkits.mplot3d import Axes3D\n",
    "                    fig = plt.figure(figsize=figsize)\n",
    "                    ax = fig.add_subplot(111, projection='3d')\n",
    "                    ax.scatter(df[x], df[y], df[hue], c='b', marker='o')\n",
    "                    ax.set_xlabel(xlabel)\n",
    "                    ax.set_ylabel(ylabel)\n",
    "                    ax.set_zlabel(hue)\n",
    "                else:\n",
    "                    raise ValueError(\"Seleccione las columnas X, Y y Hue para el gráfico 3D\")\n",
    "            plt.title(title)\n",
    "            plt.xlabel(xlabel)\n",
    "            plt.ylabel(ylabel)\n",
    "            plt.grid(True)\n",
    "            plt.show()\n",
    "            pbar.update(100)\n",
    "            elapsed_time = time.time() - start_time\n",
    "            print(f\"Tiempo en generar gráfico {tipo}: {elapsed_time:.2f} segundos\")\n",
    "    except KeyError as e:\n",
    "        print(f\"Error: La columna {e} no existe en el DataFrame.\")\n",
    "    except ValueError as e:\n",
    "        print(f\"Error de valor: {e}\")\n",
    "    except Exception as e:\n",
    "        print(f\"Ocurrió un error inesperado: {e}\")\n",
    "\n",
    "import matplotlib.pyplot as plt\n",
    "import seaborn as sns\n",
    "from tqdm.notebook import tqdm\n",
    "import ipywidgets as widgets\n",
    "from ipywidgets import interact\n",
    "import pandas as pd\n",
    "import numpy as np\n",
    "import time\n",
    "\n",
    "# Función para generar gráficos con barra de progreso\n",
    "def generar_grafico_con_progreso(df, tipo, x=None, y=None, hue=None, title=None, xlabel=None, ylabel=None, figsize=(12, 6)):\n",
    "    try:\n",
    "        with tqdm(total=100, desc=f\"Generando gráfico {tipo}\", colour='blue') as pbar:\n",
    "            start_time = time.time()\n",
    "            plt.figure(figsize=figsize)\n",
    "            \n",
    "            # Selección del tipo de gráfico\n",
    "            if tipo == 'line':\n",
    "                sns.lineplot(data=df, x=x, y=y, hue=hue)\n",
    "            elif tipo == 'bar':\n",
    "                sns.barplot(data=df, x=x, y=y, hue=hue)\n",
    "            elif tipo == 'scatter':\n",
    "                sns.scatterplot(data=df, x=x, y=y, hue=hue)\n",
    "            elif tipo == 'box':\n",
    "                sns.boxplot(data=df, x=x, y=y, hue=hue)\n",
    "            elif tipo == 'hist':\n",
    "                sns.histplot(data=df, x=x, bins=30, kde=True)\n",
    "            elif tipo == 'kde':\n",
    "                sns.kdeplot(data=df, x=x, hue=hue, fill=True)\n",
    "            elif tipo == 'violin':\n",
    "                sns.violinplot(data=df, x=x, y=y, hue=hue)\n",
    "            elif tipo == 'boxen':\n",
    "                sns.boxenplot(data=df, x=x, y=y, hue=hue)\n",
    "            elif tipo == 'strip':\n",
    "                sns.stripplot(data=df, x=x, y=y, hue=hue)\n",
    "            elif tipo == 'swarm':\n",
    "                sns.swarmplot(data=df, x=x, y=y, hue=hue)\n",
    "            elif tipo == 'heatmap':\n",
    "                sns.heatmap(data=df.corr(), annot=True, cmap='coolwarm')\n",
    "            elif tipo == 'clustermap':\n",
    "                sns.clustermap(data=df.corr(), annot=True, cmap='coolwarm')\n",
    "            elif tipo == 'contour':\n",
    "                sns.kdeplot(data=df, x=x, y=y, hue=hue, fill=True)\n",
    "            elif tipo == 'pairplot':\n",
    "                sns.pairplot(df, hue=hue)\n",
    "            elif tipo == 'andrews_curves':\n",
    "                pd.plotting.andrews_curves(df, class_column=hue)\n",
    "            elif tipo == 'parallel_coordinates':\n",
    "                pd.plotting.parallel_coordinates(df, class_column=hue)\n",
    "            elif tipo == 'radar':\n",
    "                labels = np.array(df.columns)\n",
    "                stats = df.mean(axis=0)\n",
    "                angles = np.linspace(0, 2 * np.pi, len(labels), endpoint=False).tolist()\n",
    "                stats = np.concatenate((stats, [stats[0]]))\n",
    "                angles += angles[:1]\n",
    "                fig, ax = plt.subplots(figsize=figsize, subplot_kw=dict(polar=True))\n",
    "                ax.fill(angles, stats, color='blue', alpha=0.25)\n",
    "                ax.plot(angles, stats, color='blue', linewidth=2)\n",
    "                ax.set_yticklabels([])\n",
    "                ax.set_xticks(angles[:-1])\n",
    "                ax.set_xticklabels(labels)\n",
    "            elif tipo == '3d_scatter':\n",
    "                if x is not None and y is not None and hue is not None:\n",
    "                    from mpl_toolkits.mplot3d import Axes3D\n",
    "                    fig = plt.figure(figsize=figsize)\n",
    "                    ax = fig.add_subplot(111, projection='3d')\n",
    "                    ax.scatter(df[x], df[y], df[hue], c='b', marker='o')\n",
    "                    ax.set_xlabel(xlabel)\n",
    "                    ax.set_ylabel(ylabel)\n",
    "                    ax.set_zlabel(hue)\n",
    "                else:\n",
    "                    raise ValueError(\"Seleccione las columnas X, Y y Hue para el gráfico 3D\")\n",
    "            plt.title(title)\n",
    "            plt.xlabel(xlabel)\n",
    "            plt.ylabel(ylabel)\n",
    "            plt.grid(True)\n",
    "            plt.show()\n",
    "            pbar.update(100)\n",
    "            elapsed_time = time.time() - start_time\n",
    "            print(f\"Tiempo en generar gráfico {tipo}: {elapsed_time:.2f} segundos\")\n",
    "    except KeyError as e:\n",
    "        print(f\"Error: La columna {e} no existe en el DataFrame.\")\n",
    "    except ValueError as e:\n",
    "        print(f\"Error de valor: {e}\")\n",
    "    except Exception as e:\n",
    "        print(f\"Ocurrió un error inesperado: {e}\")\n",
    "\n",
    "# Función para crear el menú interactivo\n",
    "def interactivo_grafico(df):\n",
    "    opciones_grafico = [\n",
    "        'line', 'bar', 'scatter', 'box', 'hist', 'kde', 'violin', \n",
    "        'boxen', 'strip', 'swarm', 'heatmap', 'clustermap', 'contour',\n",
    "        'pairplot', 'andrews_curves', 'parallel_coordinates', 'radar', '3d_scatter'\n",
    "    ]\n",
    "    columnas = df.columns.tolist()\n",
    "    \n",
    "    tipo_grafico = widgets.Dropdown(\n",
    "        options=opciones_grafico,\n",
    "        value='hist',\n",
    "        description='Tipo de gráfico:',\n",
    "        style={'description_width': 'initial'},\n",
    "        layout=widgets.Layout(width='400px')\n",
    "    )\n",
    "    \n",
    "    columna_x = widgets.Dropdown(\n",
    "        options=columnas,\n",
    "        value=columnas[0],\n",
    "        description='Columna X:',\n",
    "        style={'description_width': 'initial'},\n",
    "        layout=widgets.Layout(width='400px')\n",
    "    )\n",
    "    \n",
    "    columna_y = widgets.Dropdown(\n",
    "        options=[None] + columnas,\n",
    "        value=None,\n",
    "        description='Columna Y:',\n",
    "        style={'description_width': 'initial'},\n",
    "        layout=widgets.Layout(width='400px')\n",
    "    )\n",
    "    \n",
    "    titulo = widgets.Text(\n",
    "        value='',\n",
    "        description='Título:',\n",
    "        style={'description_width': 'initial'},\n",
    "        layout=widgets.Layout(width='400px')\n",
    "    )\n",
    "    \n",
    "    hue = widgets.Dropdown(\n",
    "        options=[None] + columnas,\n",
    "        value=None,\n",
    "        description='Hue:',\n",
    "        style={'description_width': 'initial'},\n",
    "        layout=widgets.Layout(width='400px')\n",
    "    )\n",
    "    \n",
    "    button = widgets.Button(\n",
    "        description='Ejecutar Análisis',\n",
    "        button_style='success',\n",
    "        layout=widgets.Layout(width='400px')\n",
    "    )\n",
    "    \n",
    "    def actualizar_columna_y(*args):\n",
    "        if tipo_grafico.value in ['heatmap', 'clustermap', 'andrews_curves', 'parallel_coordinates', 'radar', 'pairplot']:\n",
    "            columna_y.disabled = True\n",
    "            columna_y.value = None\n",
    "        else:\n",
    "            columna_y.disabled = False\n",
    "    \n",
    "    tipo_grafico.observe(actualizar_columna_y, 'value')\n",
    "    \n",
    "    def ejecutar_analisis(b):\n",
    "        try:\n",
    "            plot_wrapper(tipo_grafico.value, columna_x.value, columna_y.value, titulo.value, hue.value)\n",
    "        except Exception as e:\n",
    "            print(f\"Ocurrió un error inesperado al crear el gráfico interactivo: {e}\")\n",
    "    \n",
    "    button.on_click(ejecutar_analisis)\n",
    "    \n",
    "    display(widgets.VBox([tipo_grafico, columna_x, columna_y, titulo, hue, button]))\n",
    "\n",
    "def plot_wrapper(tipo, x, y, title, hue):\n",
    "    if tipo in ['heatmap', 'clustermap', 'andrews_curves', 'parallel_coordinates', 'radar', 'pairplot']:\n",
    "        generar_grafico_con_progreso(df, tipo, x=x, y=None, hue=hue, title=title, xlabel=x, ylabel='', figsize=(12, 6))\n",
    "    else:\n",
    "        generar_grafico_con_progreso(df, tipo, x=x, y=y, hue=hue, title=title, xlabel=x, ylabel=y, figsize=(12, 6))\n",
    "\n",
    "# Llamar a la función interactiva\n",
    "try:\n",
    "    interactivo_grafico(df)\n",
    "except Exception as e:\n",
    "    print(f\"Ocurrió un error inesperado al llamar a la función interactiva: {e}\")\n",
    "\n"
   ]
  },
  {
   "cell_type": "markdown",
   "metadata": {},
   "source": [
    "## Investigación del Equilibrio de Clases"
   ]
  },
  {
   "cell_type": "markdown",
   "metadata": {},
   "source": [
    "<div style='font-size: 16px; color: #4CAF50; font-family: Arial, sans-serif;'>\n",
    "  <div class=\"alert alert-block alert-info\">\n",
    "    <h1 style='color: #388E3C;'>Investigación del Equilibrio de Clases</h1>\n",
    "    <h3 style='color: #2E7D32;'> Investigación del Equilibrio de Clases</h3>\n",
    "    <h4 style='color: #2E7D32;'>Subtema 5.1: Análisis del Equilibrio de Clases</h4>\n",
    "    <p>En esta sección, se analiza el equilibrio de clases en el conjunto de datos. Se verifica la distribución de las clases para identificar posibles desequilibrios que puedan afectar el rendimiento de los modelos de machine learning.</p>\n",
    "    <h4 style='color: #2E7D32;'>Subtema 5.2: Visualización del Equilibrio de Clases</h4>\n",
    "    <p>Se generan visualizaciones para comprender mejor el equilibrio de clases en el conjunto de datos. Estas visualizaciones ayudan a identificar si es necesario aplicar técnicas de balanceo de clases.</p>\n",
    "  </div>\n",
    "</div>\n",
    "\n",
    "<div style='font-size: 16px; color: #4CAF50; font-family: Arial, sans-serif;'>\n",
    "  <div class=\"alert alert-block alert-info\">\n",
    "    <h3 style='color: #2E7D32;'>Funcionalidad del Código</h3>\n",
    "    <p>El código implementa varias funciones clave para analizar y visualizar el equilibrio de clases:</p>\n",
    "    <ul>\n",
    "      <li><code>analizar_equilibrio_clases(df, columna, cantidad, metodo)</code>: Analiza la distribución de las clases en la columna especificada del DataFrame, permitiendo seleccionar los primeros, últimos o una muestra aleatoria de registros.</li>\n",
    "      <li><code>visualizar_equilibrio_clases(df, columna)</code>: Genera gráficos para visualizar el equilibrio de clases en la columna especificada del DataFrame.</li>\n",
    "      <li><code>mostrar_registros(df, cantidad, metodo)</code>: Muestra una cantidad especificada de registros del DataFrame según el método de muestra seleccionado.</li>\n",
    "    </ul>\n",
    "  </div>\n",
    "</div>\n",
    "\n",
    "<div style='font-size: 16px; color: #4CAF50; font-family: Arial, sans-serif;'>\n",
    "  <div class=\"alert alert-block alert-info\">\n",
    "    <h3 style='color: #2E7D32;'>Ventajas del Análisis del Equilibrio de Clases</h3>\n",
    "    <ul>\n",
    "      <li><strong>Identificación de Desequilibrios:</strong> Permite detectar clases desbalanceadas que podrían afectar el rendimiento de los modelos de machine learning.</li>\n",
    "      <li><strong>Visualización Intuitiva:</strong> Proporciona gráficos claros y concisos que facilitan la comprensión del equilibrio de clases en el conjunto de datos.</li>\n",
    "      <li><strong>Flexibilidad en el Análisis:</strong> Ofrece múltiples métodos para seleccionar y analizar una muestra de registros del DataFrame.</li>\n",
    "      <li><strong>Automatización del Análisis:</strong> Facilita el análisis automatizado del equilibrio de clases, mejorando la eficiencia del proceso de preprocesamiento de datos.</li>\n",
    "    </ul>\n",
    "  </div>\n",
    "</div>\n"
   ]
  },
  {
   "cell_type": "markdown",
   "metadata": {},
   "source": [
    "### Análisis del Equilibrio de Clases"
   ]
  },
  {
   "cell_type": "code",
   "execution_count": 8,
   "metadata": {},
   "outputs": [],
   "source": [
    "# Función para analizar el equilibrio de clases con barra de progreso y tiempo\n",
    "def analizar_equilibrio_clases(df, columna, cantidad=10, metodo='Primeros'):\n",
    "    try:\n",
    "        start_time = time.time()\n",
    "        with tqdm(total=100, desc=\"Analizando Equilibrio de Clases\", unit=\"%\") as pbar:\n",
    "            distribucion = df[columna].value_counts(normalize=True) * 100\n",
    "            pbar.update(50)\n",
    "            \n",
    "            display(HTML(\"<h3 style='color: #2E7D32;'>Análisis del Equilibrio de Clases</h3>\"))\n",
    "            if metodo == 'Primeros':\n",
    "                display(distribucion.head(cantidad))\n",
    "            elif metodo == 'Últimos':\n",
    "                display(distribucion.tail(cantidad))\n",
    "            elif metodo == 'Aleatorios':\n",
    "                display(distribucion.sample(cantidad))\n",
    "            else:\n",
    "                display(distribucion.head(cantidad))\n",
    "                \n",
    "            pbar.update(50)\n",
    "        \n",
    "        end_time = time.time()\n",
    "        elapsed_time = end_time - start_time\n",
    "        display(HTML(f\"<div style='color: green; font-size: 18px;'>Tiempo total de análisis: {elapsed_time:.2f} segundos</div>\"))\n",
    "    \n",
    "    except KeyError:\n",
    "        display(HTML(f\"<div style='color: red; font-size: 18px;'>Error: La columna '{columna}' no existe en el DataFrame.</div>\"))\n",
    "    except Exception as e:\n",
    "        display(HTML(f\"<div style='color: red; font-size: 18px;'>Ocurrió un error: {str(e)}</div>\"))\n"
   ]
  },
  {
   "cell_type": "markdown",
   "metadata": {},
   "source": [
    "### Visualización del Equilibrio de Clases"
   ]
  },
  {
   "cell_type": "code",
   "execution_count": 9,
   "metadata": {},
   "outputs": [],
   "source": [
    "# Función para visualizar el equilibrio de clases con barra de progreso y tiempo\n",
    "def visualizar_equilibrio_clases(df, columna):\n",
    "    try:\n",
    "        start_time = time.time()\n",
    "        with tqdm(total=100, desc=\"Visualizando Equilibrio de Clases\", unit=\"%\") as pbar:\n",
    "            plt.figure(figsize=(10, 6))\n",
    "            sns.countplot(data=df, x=columna, palette='viridis')\n",
    "            plt.title('Visualización del Equilibrio de Clases')\n",
    "            plt.xlabel(columna)\n",
    "            plt.ylabel('Frecuencia')\n",
    "            plt.grid(True)\n",
    "            plt.show()\n",
    "            pbar.update(100)\n",
    "        \n",
    "        end_time = time.time()\n",
    "        elapsed_time = end_time - start_time\n",
    "        print(f\"Tiempo total de visualización: {elapsed_time:.2f} segundos\")\n",
    "    \n",
    "    except KeyError:\n",
    "        print(f\"Error: La columna '{columna}' no existe en el DataFrame.\")\n",
    "    except Exception as e:\n",
    "        print(f\"Ocurrió un error: {str(e)}\")\n"
   ]
  },
  {
   "cell_type": "markdown",
   "metadata": {},
   "source": [
    "### Integración del Código en la Interfaz de Usuario"
   ]
  },
  {
   "cell_type": "code",
   "execution_count": 10,
   "metadata": {},
   "outputs": [
    {
     "data": {
      "application/vnd.jupyter.widget-view+json": {
       "model_id": "6a8c633eda0045e284629418e20a350d",
       "version_major": 2,
       "version_minor": 0
      },
      "text/plain": [
       "VBox(children=(Dropdown(description='Columna de Clases:', layout=Layout(width='400px'), options=('RowNumber', …"
      ]
     },
     "metadata": {},
     "output_type": "display_data"
    }
   ],
   "source": [
    "# Función para mostrar los registros del DataFrame\n",
    "def mostrar_registros(df, cantidad, metodo):\n",
    "    display(HTML(\"<h3 style='color: #2E7D32;'>Visualización de Registros</h3>\"))\n",
    "    if metodo == 'Primeros':\n",
    "        display(df.head(cantidad))\n",
    "    elif metodo == 'Últimos':\n",
    "        display(df.tail(cantidad))\n",
    "    elif metodo == 'Aleatorios':\n",
    "        display(df.sample(cantidad))\n",
    "    else:\n",
    "        display(df.head(cantidad))\n",
    "\n",
    "# Widgets para seleccionar la columna de clases\n",
    "columna_clases = widgets.Dropdown(\n",
    "    options=df.columns.tolist(),\n",
    "    description='Columna de Clases:',\n",
    "    style={'description_width': 'initial'},\n",
    "    layout=widgets.Layout(width='400px')\n",
    ")\n",
    "\n",
    "# Widget para seleccionar la cantidad de registros\n",
    "cantidad_registros = widgets.IntSlider(\n",
    "    value=10,\n",
    "    min=1,\n",
    "    max=100,\n",
    "    step=1,\n",
    "    description='Cantidad de Registros:',\n",
    "    style={'description_width': 'initial'},\n",
    "    layout=widgets.Layout(width='400px')\n",
    ")\n",
    "\n",
    "# Widget para seleccionar el método de muestra de registros\n",
    "metodo_muestra = widgets.Dropdown(\n",
    "    options=['Primeros', 'Últimos', 'Aleatorios'],\n",
    "    value='Primeros',\n",
    "    description='Método de Muestra:',\n",
    "    style={'description_width': 'initial'},\n",
    "    layout=widgets.Layout(width='400px')\n",
    ")\n",
    "\n",
    "# Botón para ejecutar el análisis\n",
    "boton_analisis = widgets.Button(\n",
    "    description='Ejecutar Análisis de Clases',\n",
    "    button_style='success',\n",
    "    layout=widgets.Layout(width='400px')\n",
    ")\n",
    "\n",
    "# Función para ejecutar el análisis y visualización del equilibrio de clases con barra de progreso y tiempo\n",
    "def ejecutar_analisis_clases(b):\n",
    "    with tqdm(total=100, desc=\"Ejecutando Análisis de Clases\", unit=\"%\") as pbar:\n",
    "        start_time = time.time()\n",
    "        analizar_equilibrio_clases(df, columna_clases.value, cantidad_registros.value, metodo_muestra.value)\n",
    "        pbar.update(50)\n",
    "        visualizar_equilibrio_clases(df, columna_clases.value)\n",
    "        pbar.update(25)\n",
    "        mostrar_registros(df, cantidad_registros.value, metodo_muestra.value)\n",
    "        pbar.update(25)\n",
    "        end_time = time.time()\n",
    "        elapsed_time = end_time - start_time\n",
    "        display(HTML(f\"<div style='color: green; font-size: 18px;'>Tiempo total de análisis: {elapsed_time:.2f} segundos</div>\"))\n",
    "\n",
    "boton_analisis.on_click(ejecutar_analisis_clases)\n",
    "\n",
    "# Mostrar widgets\n",
    "display(widgets.VBox([columna_clases, cantidad_registros, metodo_muestra, boton_analisis]))\n"
   ]
  },
  {
   "cell_type": "markdown",
   "metadata": {},
   "source": [
    "## División de Datos"
   ]
  },
  {
   "cell_type": "markdown",
   "metadata": {},
   "source": [
    "<div style='font-size: 16px; color: #4CAF50; font-family: Arial, sans-serif;'>\n",
    "  <div class=\"alert alert-block alert-info\">\n",
    "    <h1 style='color: #388E3C;'>División de Datos</h1>\n",
    "    <h3 style='color: #2E7D32;'>Subtema 5.1: División en Conjuntos de Entrenamiento y Prueba</h3>\n",
    "    <p>En esta sección, se implementa la división del conjunto de datos en conjuntos de entrenamiento y prueba. Esta división es crucial para evaluar el rendimiento de los modelos de machine learning de manera objetiva. El conjunto de entrenamiento se utiliza para entrenar el modelo, mientras que el conjunto de prueba se utiliza para evaluar su rendimiento en datos no vistos.</p>\n",
    "  </div>\n",
    "</div>\n",
    "\n",
    "<div style='font-size: 16px; color: #4CAF50; font-family: Arial, sans-serif;'>\n",
    "  <div class=\"alert alert-block alert-info\">\n",
    "    <h3 style='color: #2E7D32;'>Funcionalidad del Código</h3>\n",
    "    <p>El código implementa varias funciones clave para la división de datos:</p>\n",
    "    <ul>\n",
    "      <li><code>dividir_datos(df, test_size, random_state)</code>: Divide el DataFrame en conjuntos de entrenamiento y prueba, según el tamaño del conjunto de prueba especificado y la semilla aleatoria proporcionada.</li>\n",
    "      <li><code>visualizar_distribucion_datos(df_train, df_test, columna)</code>: Genera gráficos para visualizar la distribución de una columna específica en los conjuntos de entrenamiento y prueba.</li>\n",
    "    </ul>\n",
    "  </div>\n",
    "</div>\n"
   ]
  },
  {
   "cell_type": "code",
   "execution_count": 11,
   "metadata": {},
   "outputs": [
    {
     "ename": "TypeError",
     "evalue": "Cannot convert [['Hargrave' 'Hill' 'Onio' ... 'Liu' 'Sabbatini' 'Walker']\n ['France' 'Spain' 'France' ... 'France' 'Germany' 'France']\n ['Female' 'Female' 'Female' ... 'Female' 'Male' 'Female']\n [21.0 41.0 5.25 ... 5.142857142857143 14.0 nan]] to numeric",
     "output_type": "error",
     "traceback": [
      "\u001b[1;31m---------------------------------------------------------------------------\u001b[0m",
      "\u001b[1;31mTypeError\u001b[0m                                 Traceback (most recent call last)",
      "Cell \u001b[1;32mIn[11], line 13\u001b[0m\n\u001b[0;32m     11\u001b[0m \u001b[38;5;66;03m# Reemplazar valores infinitos y NaN por la mediana de la columna\u001b[39;00m\n\u001b[0;32m     12\u001b[0m df\u001b[38;5;241m.\u001b[39mreplace([\u001b[38;5;28mfloat\u001b[39m(\u001b[38;5;124m'\u001b[39m\u001b[38;5;124minf\u001b[39m\u001b[38;5;124m'\u001b[39m), \u001b[38;5;241m-\u001b[39m\u001b[38;5;28mfloat\u001b[39m(\u001b[38;5;124m'\u001b[39m\u001b[38;5;124minf\u001b[39m\u001b[38;5;124m'\u001b[39m)], pd\u001b[38;5;241m.\u001b[39mNA, inplace\u001b[38;5;241m=\u001b[39m\u001b[38;5;28;01mTrue\u001b[39;00m)\n\u001b[1;32m---> 13\u001b[0m df\u001b[38;5;241m.\u001b[39mfillna(\u001b[43mdf\u001b[49m\u001b[38;5;241;43m.\u001b[39;49m\u001b[43mmedian\u001b[49m\u001b[43m(\u001b[49m\u001b[43m)\u001b[49m, inplace\u001b[38;5;241m=\u001b[39m\u001b[38;5;28;01mTrue\u001b[39;00m)\n\u001b[0;32m     15\u001b[0m \u001b[38;5;66;03m# Definir la columna objetivo\u001b[39;00m\n\u001b[0;32m     16\u001b[0m target_column \u001b[38;5;241m=\u001b[39m \u001b[38;5;124m'\u001b[39m\u001b[38;5;124mExited\u001b[39m\u001b[38;5;124m'\u001b[39m\n",
      "File \u001b[1;32mc:\\Users\\Administrator\\AppData\\Local\\Programs\\Python\\Python312\\Lib\\site-packages\\pandas\\core\\frame.py:11706\u001b[0m, in \u001b[0;36mDataFrame.median\u001b[1;34m(self, axis, skipna, numeric_only, **kwargs)\u001b[0m\n\u001b[0;32m  11698\u001b[0m \u001b[38;5;129m@doc\u001b[39m(make_doc(\u001b[38;5;124m\"\u001b[39m\u001b[38;5;124mmedian\u001b[39m\u001b[38;5;124m\"\u001b[39m, ndim\u001b[38;5;241m=\u001b[39m\u001b[38;5;241m2\u001b[39m))\n\u001b[0;32m  11699\u001b[0m \u001b[38;5;28;01mdef\u001b[39;00m \u001b[38;5;21mmedian\u001b[39m(\n\u001b[0;32m  11700\u001b[0m     \u001b[38;5;28mself\u001b[39m,\n\u001b[1;32m   (...)\u001b[0m\n\u001b[0;32m  11704\u001b[0m     \u001b[38;5;241m*\u001b[39m\u001b[38;5;241m*\u001b[39mkwargs,\n\u001b[0;32m  11705\u001b[0m ):\n\u001b[1;32m> 11706\u001b[0m     result \u001b[38;5;241m=\u001b[39m \u001b[38;5;28;43msuper\u001b[39;49m\u001b[43m(\u001b[49m\u001b[43m)\u001b[49m\u001b[38;5;241;43m.\u001b[39;49m\u001b[43mmedian\u001b[49m\u001b[43m(\u001b[49m\u001b[43maxis\u001b[49m\u001b[43m,\u001b[49m\u001b[43m \u001b[49m\u001b[43mskipna\u001b[49m\u001b[43m,\u001b[49m\u001b[43m \u001b[49m\u001b[43mnumeric_only\u001b[49m\u001b[43m,\u001b[49m\u001b[43m \u001b[49m\u001b[38;5;241;43m*\u001b[39;49m\u001b[38;5;241;43m*\u001b[39;49m\u001b[43mkwargs\u001b[49m\u001b[43m)\u001b[49m\n\u001b[0;32m  11707\u001b[0m     \u001b[38;5;28;01mif\u001b[39;00m \u001b[38;5;28misinstance\u001b[39m(result, Series):\n\u001b[0;32m  11708\u001b[0m         result \u001b[38;5;241m=\u001b[39m result\u001b[38;5;241m.\u001b[39m__finalize__(\u001b[38;5;28mself\u001b[39m, method\u001b[38;5;241m=\u001b[39m\u001b[38;5;124m\"\u001b[39m\u001b[38;5;124mmedian\u001b[39m\u001b[38;5;124m\"\u001b[39m)\n",
      "File \u001b[1;32mc:\\Users\\Administrator\\AppData\\Local\\Programs\\Python\\Python312\\Lib\\site-packages\\pandas\\core\\generic.py:12431\u001b[0m, in \u001b[0;36mNDFrame.median\u001b[1;34m(self, axis, skipna, numeric_only, **kwargs)\u001b[0m\n\u001b[0;32m  12424\u001b[0m \u001b[38;5;28;01mdef\u001b[39;00m \u001b[38;5;21mmedian\u001b[39m(\n\u001b[0;32m  12425\u001b[0m     \u001b[38;5;28mself\u001b[39m,\n\u001b[0;32m  12426\u001b[0m     axis: Axis \u001b[38;5;241m|\u001b[39m \u001b[38;5;28;01mNone\u001b[39;00m \u001b[38;5;241m=\u001b[39m \u001b[38;5;241m0\u001b[39m,\n\u001b[1;32m   (...)\u001b[0m\n\u001b[0;32m  12429\u001b[0m     \u001b[38;5;241m*\u001b[39m\u001b[38;5;241m*\u001b[39mkwargs,\n\u001b[0;32m  12430\u001b[0m ) \u001b[38;5;241m-\u001b[39m\u001b[38;5;241m>\u001b[39m Series \u001b[38;5;241m|\u001b[39m \u001b[38;5;28mfloat\u001b[39m:\n\u001b[1;32m> 12431\u001b[0m     \u001b[38;5;28;01mreturn\u001b[39;00m \u001b[38;5;28;43mself\u001b[39;49m\u001b[38;5;241;43m.\u001b[39;49m\u001b[43m_stat_function\u001b[49m\u001b[43m(\u001b[49m\n\u001b[0;32m  12432\u001b[0m \u001b[43m        \u001b[49m\u001b[38;5;124;43m\"\u001b[39;49m\u001b[38;5;124;43mmedian\u001b[39;49m\u001b[38;5;124;43m\"\u001b[39;49m\u001b[43m,\u001b[49m\u001b[43m \u001b[49m\u001b[43mnanops\u001b[49m\u001b[38;5;241;43m.\u001b[39;49m\u001b[43mnanmedian\u001b[49m\u001b[43m,\u001b[49m\u001b[43m \u001b[49m\u001b[43maxis\u001b[49m\u001b[43m,\u001b[49m\u001b[43m \u001b[49m\u001b[43mskipna\u001b[49m\u001b[43m,\u001b[49m\u001b[43m \u001b[49m\u001b[43mnumeric_only\u001b[49m\u001b[43m,\u001b[49m\u001b[43m \u001b[49m\u001b[38;5;241;43m*\u001b[39;49m\u001b[38;5;241;43m*\u001b[39;49m\u001b[43mkwargs\u001b[49m\n\u001b[0;32m  12433\u001b[0m \u001b[43m    \u001b[49m\u001b[43m)\u001b[49m\n",
      "File \u001b[1;32mc:\\Users\\Administrator\\AppData\\Local\\Programs\\Python\\Python312\\Lib\\site-packages\\pandas\\core\\generic.py:12377\u001b[0m, in \u001b[0;36mNDFrame._stat_function\u001b[1;34m(self, name, func, axis, skipna, numeric_only, **kwargs)\u001b[0m\n\u001b[0;32m  12373\u001b[0m nv\u001b[38;5;241m.\u001b[39mvalidate_func(name, (), kwargs)\n\u001b[0;32m  12375\u001b[0m validate_bool_kwarg(skipna, \u001b[38;5;124m\"\u001b[39m\u001b[38;5;124mskipna\u001b[39m\u001b[38;5;124m\"\u001b[39m, none_allowed\u001b[38;5;241m=\u001b[39m\u001b[38;5;28;01mFalse\u001b[39;00m)\n\u001b[1;32m> 12377\u001b[0m \u001b[38;5;28;01mreturn\u001b[39;00m \u001b[38;5;28;43mself\u001b[39;49m\u001b[38;5;241;43m.\u001b[39;49m\u001b[43m_reduce\u001b[49m\u001b[43m(\u001b[49m\n\u001b[0;32m  12378\u001b[0m \u001b[43m    \u001b[49m\u001b[43mfunc\u001b[49m\u001b[43m,\u001b[49m\u001b[43m \u001b[49m\u001b[43mname\u001b[49m\u001b[38;5;241;43m=\u001b[39;49m\u001b[43mname\u001b[49m\u001b[43m,\u001b[49m\u001b[43m \u001b[49m\u001b[43maxis\u001b[49m\u001b[38;5;241;43m=\u001b[39;49m\u001b[43maxis\u001b[49m\u001b[43m,\u001b[49m\u001b[43m \u001b[49m\u001b[43mskipna\u001b[49m\u001b[38;5;241;43m=\u001b[39;49m\u001b[43mskipna\u001b[49m\u001b[43m,\u001b[49m\u001b[43m \u001b[49m\u001b[43mnumeric_only\u001b[49m\u001b[38;5;241;43m=\u001b[39;49m\u001b[43mnumeric_only\u001b[49m\n\u001b[0;32m  12379\u001b[0m \u001b[43m\u001b[49m\u001b[43m)\u001b[49m\n",
      "File \u001b[1;32mc:\\Users\\Administrator\\AppData\\Local\\Programs\\Python\\Python312\\Lib\\site-packages\\pandas\\core\\frame.py:11562\u001b[0m, in \u001b[0;36mDataFrame._reduce\u001b[1;34m(self, op, name, axis, skipna, numeric_only, filter_type, **kwds)\u001b[0m\n\u001b[0;32m  11558\u001b[0m     df \u001b[38;5;241m=\u001b[39m df\u001b[38;5;241m.\u001b[39mT\n\u001b[0;32m  11560\u001b[0m \u001b[38;5;66;03m# After possibly _get_data and transposing, we are now in the\u001b[39;00m\n\u001b[0;32m  11561\u001b[0m \u001b[38;5;66;03m#  simple case where we can use BlockManager.reduce\u001b[39;00m\n\u001b[1;32m> 11562\u001b[0m res \u001b[38;5;241m=\u001b[39m \u001b[43mdf\u001b[49m\u001b[38;5;241;43m.\u001b[39;49m\u001b[43m_mgr\u001b[49m\u001b[38;5;241;43m.\u001b[39;49m\u001b[43mreduce\u001b[49m\u001b[43m(\u001b[49m\u001b[43mblk_func\u001b[49m\u001b[43m)\u001b[49m\n\u001b[0;32m  11563\u001b[0m out \u001b[38;5;241m=\u001b[39m df\u001b[38;5;241m.\u001b[39m_constructor_from_mgr(res, axes\u001b[38;5;241m=\u001b[39mres\u001b[38;5;241m.\u001b[39maxes)\u001b[38;5;241m.\u001b[39miloc[\u001b[38;5;241m0\u001b[39m]\n\u001b[0;32m  11564\u001b[0m \u001b[38;5;28;01mif\u001b[39;00m out_dtype \u001b[38;5;129;01mis\u001b[39;00m \u001b[38;5;129;01mnot\u001b[39;00m \u001b[38;5;28;01mNone\u001b[39;00m \u001b[38;5;129;01mand\u001b[39;00m out\u001b[38;5;241m.\u001b[39mdtype \u001b[38;5;241m!=\u001b[39m \u001b[38;5;124m\"\u001b[39m\u001b[38;5;124mboolean\u001b[39m\u001b[38;5;124m\"\u001b[39m:\n",
      "File \u001b[1;32mc:\\Users\\Administrator\\AppData\\Local\\Programs\\Python\\Python312\\Lib\\site-packages\\pandas\\core\\internals\\managers.py:1500\u001b[0m, in \u001b[0;36mBlockManager.reduce\u001b[1;34m(self, func)\u001b[0m\n\u001b[0;32m   1498\u001b[0m res_blocks: \u001b[38;5;28mlist\u001b[39m[Block] \u001b[38;5;241m=\u001b[39m []\n\u001b[0;32m   1499\u001b[0m \u001b[38;5;28;01mfor\u001b[39;00m blk \u001b[38;5;129;01min\u001b[39;00m \u001b[38;5;28mself\u001b[39m\u001b[38;5;241m.\u001b[39mblocks:\n\u001b[1;32m-> 1500\u001b[0m     nbs \u001b[38;5;241m=\u001b[39m \u001b[43mblk\u001b[49m\u001b[38;5;241;43m.\u001b[39;49m\u001b[43mreduce\u001b[49m\u001b[43m(\u001b[49m\u001b[43mfunc\u001b[49m\u001b[43m)\u001b[49m\n\u001b[0;32m   1501\u001b[0m     res_blocks\u001b[38;5;241m.\u001b[39mextend(nbs)\n\u001b[0;32m   1503\u001b[0m index \u001b[38;5;241m=\u001b[39m Index([\u001b[38;5;28;01mNone\u001b[39;00m])  \u001b[38;5;66;03m# placeholder\u001b[39;00m\n",
      "File \u001b[1;32mc:\\Users\\Administrator\\AppData\\Local\\Programs\\Python\\Python312\\Lib\\site-packages\\pandas\\core\\internals\\blocks.py:404\u001b[0m, in \u001b[0;36mBlock.reduce\u001b[1;34m(self, func)\u001b[0m\n\u001b[0;32m    398\u001b[0m \u001b[38;5;129m@final\u001b[39m\n\u001b[0;32m    399\u001b[0m \u001b[38;5;28;01mdef\u001b[39;00m \u001b[38;5;21mreduce\u001b[39m(\u001b[38;5;28mself\u001b[39m, func) \u001b[38;5;241m-\u001b[39m\u001b[38;5;241m>\u001b[39m \u001b[38;5;28mlist\u001b[39m[Block]:\n\u001b[0;32m    400\u001b[0m     \u001b[38;5;66;03m# We will apply the function and reshape the result into a single-row\u001b[39;00m\n\u001b[0;32m    401\u001b[0m     \u001b[38;5;66;03m#  Block with the same mgr_locs; squeezing will be done at a higher level\u001b[39;00m\n\u001b[0;32m    402\u001b[0m     \u001b[38;5;28;01massert\u001b[39;00m \u001b[38;5;28mself\u001b[39m\u001b[38;5;241m.\u001b[39mndim \u001b[38;5;241m==\u001b[39m \u001b[38;5;241m2\u001b[39m\n\u001b[1;32m--> 404\u001b[0m     result \u001b[38;5;241m=\u001b[39m \u001b[43mfunc\u001b[49m\u001b[43m(\u001b[49m\u001b[38;5;28;43mself\u001b[39;49m\u001b[38;5;241;43m.\u001b[39;49m\u001b[43mvalues\u001b[49m\u001b[43m)\u001b[49m\n\u001b[0;32m    406\u001b[0m     \u001b[38;5;28;01mif\u001b[39;00m \u001b[38;5;28mself\u001b[39m\u001b[38;5;241m.\u001b[39mvalues\u001b[38;5;241m.\u001b[39mndim \u001b[38;5;241m==\u001b[39m \u001b[38;5;241m1\u001b[39m:\n\u001b[0;32m    407\u001b[0m         res_values \u001b[38;5;241m=\u001b[39m result\n",
      "File \u001b[1;32mc:\\Users\\Administrator\\AppData\\Local\\Programs\\Python\\Python312\\Lib\\site-packages\\pandas\\core\\frame.py:11481\u001b[0m, in \u001b[0;36mDataFrame._reduce.<locals>.blk_func\u001b[1;34m(values, axis)\u001b[0m\n\u001b[0;32m  11479\u001b[0m         \u001b[38;5;28;01mreturn\u001b[39;00m np\u001b[38;5;241m.\u001b[39marray([result])\n\u001b[0;32m  11480\u001b[0m \u001b[38;5;28;01melse\u001b[39;00m:\n\u001b[1;32m> 11481\u001b[0m     \u001b[38;5;28;01mreturn\u001b[39;00m \u001b[43mop\u001b[49m\u001b[43m(\u001b[49m\u001b[43mvalues\u001b[49m\u001b[43m,\u001b[49m\u001b[43m \u001b[49m\u001b[43maxis\u001b[49m\u001b[38;5;241;43m=\u001b[39;49m\u001b[43maxis\u001b[49m\u001b[43m,\u001b[49m\u001b[43m \u001b[49m\u001b[43mskipna\u001b[49m\u001b[38;5;241;43m=\u001b[39;49m\u001b[43mskipna\u001b[49m\u001b[43m,\u001b[49m\u001b[43m \u001b[49m\u001b[38;5;241;43m*\u001b[39;49m\u001b[38;5;241;43m*\u001b[39;49m\u001b[43mkwds\u001b[49m\u001b[43m)\u001b[49m\n",
      "File \u001b[1;32mc:\\Users\\Administrator\\AppData\\Local\\Programs\\Python\\Python312\\Lib\\site-packages\\pandas\\core\\nanops.py:147\u001b[0m, in \u001b[0;36mbottleneck_switch.__call__.<locals>.f\u001b[1;34m(values, axis, skipna, **kwds)\u001b[0m\n\u001b[0;32m    145\u001b[0m         result \u001b[38;5;241m=\u001b[39m alt(values, axis\u001b[38;5;241m=\u001b[39maxis, skipna\u001b[38;5;241m=\u001b[39mskipna, \u001b[38;5;241m*\u001b[39m\u001b[38;5;241m*\u001b[39mkwds)\n\u001b[0;32m    146\u001b[0m \u001b[38;5;28;01melse\u001b[39;00m:\n\u001b[1;32m--> 147\u001b[0m     result \u001b[38;5;241m=\u001b[39m \u001b[43malt\u001b[49m\u001b[43m(\u001b[49m\u001b[43mvalues\u001b[49m\u001b[43m,\u001b[49m\u001b[43m \u001b[49m\u001b[43maxis\u001b[49m\u001b[38;5;241;43m=\u001b[39;49m\u001b[43maxis\u001b[49m\u001b[43m,\u001b[49m\u001b[43m \u001b[49m\u001b[43mskipna\u001b[49m\u001b[38;5;241;43m=\u001b[39;49m\u001b[43mskipna\u001b[49m\u001b[43m,\u001b[49m\u001b[43m \u001b[49m\u001b[38;5;241;43m*\u001b[39;49m\u001b[38;5;241;43m*\u001b[39;49m\u001b[43mkwds\u001b[49m\u001b[43m)\u001b[49m\n\u001b[0;32m    149\u001b[0m \u001b[38;5;28;01mreturn\u001b[39;00m result\n",
      "File \u001b[1;32mc:\\Users\\Administrator\\AppData\\Local\\Programs\\Python\\Python312\\Lib\\site-packages\\pandas\\core\\nanops.py:787\u001b[0m, in \u001b[0;36mnanmedian\u001b[1;34m(values, axis, skipna, mask)\u001b[0m\n\u001b[0;32m    785\u001b[0m     inferred \u001b[38;5;241m=\u001b[39m lib\u001b[38;5;241m.\u001b[39minfer_dtype(values)\n\u001b[0;32m    786\u001b[0m     \u001b[38;5;28;01mif\u001b[39;00m inferred \u001b[38;5;129;01min\u001b[39;00m [\u001b[38;5;124m\"\u001b[39m\u001b[38;5;124mstring\u001b[39m\u001b[38;5;124m\"\u001b[39m, \u001b[38;5;124m\"\u001b[39m\u001b[38;5;124mmixed\u001b[39m\u001b[38;5;124m\"\u001b[39m]:\n\u001b[1;32m--> 787\u001b[0m         \u001b[38;5;28;01mraise\u001b[39;00m \u001b[38;5;167;01mTypeError\u001b[39;00m(\u001b[38;5;124mf\u001b[39m\u001b[38;5;124m\"\u001b[39m\u001b[38;5;124mCannot convert \u001b[39m\u001b[38;5;132;01m{\u001b[39;00mvalues\u001b[38;5;132;01m}\u001b[39;00m\u001b[38;5;124m to numeric\u001b[39m\u001b[38;5;124m\"\u001b[39m)\n\u001b[0;32m    788\u001b[0m \u001b[38;5;28;01mtry\u001b[39;00m:\n\u001b[0;32m    789\u001b[0m     values \u001b[38;5;241m=\u001b[39m values\u001b[38;5;241m.\u001b[39mastype(\u001b[38;5;124m\"\u001b[39m\u001b[38;5;124mf8\u001b[39m\u001b[38;5;124m\"\u001b[39m)\n",
      "\u001b[1;31mTypeError\u001b[0m: Cannot convert [['Hargrave' 'Hill' 'Onio' ... 'Liu' 'Sabbatini' 'Walker']\n ['France' 'Spain' 'France' ... 'France' 'Germany' 'France']\n ['Female' 'Female' 'Female' ... 'Female' 'Male' 'Female']\n [21.0 41.0 5.25 ... 5.142857142857143 14.0 nan]] to numeric"
     ]
    }
   ],
   "source": [
    "# Asegurarse de que todas las columnas necesarias están presentes\n",
    "required_columns = ['Balance', 'EstimatedSalary', 'Age', 'Tenure', 'Exited']\n",
    "for col in required_columns:\n",
    "    if col not in df.columns:\n",
    "        raise KeyError(f\"La columna '{col}' no se encuentra en el DataFrame\")\n",
    "\n",
    "# Generar nuevas características\n",
    "df['Balance_to_Salary'] = df['Balance'] / df['EstimatedSalary']\n",
    "df['Age_Tenure_Ratio'] = df['Age'] / df['Tenure']\n",
    "\n",
    "# Reemplazar valores infinitos y NaN por la mediana de la columna\n",
    "df.replace([float('inf'), -float('inf')], pd.NA, inplace=True)\n",
    "df.fillna(df.median(), inplace=True)\n",
    "\n",
    "# Definir la columna objetivo\n",
    "target_column = 'Exited'\n",
    "\n",
    "# Separar características y etiqueta\n",
    "X = df.drop(columns=[target_column])\n",
    "y = df[target_column]\n",
    "\n",
    "# Identificar las columnas numéricas y categóricas\n",
    "num_cols = X.select_dtypes(include=['float64', 'int64']).columns\n",
    "cat_cols = X.select_dtypes(include=['object']).columns\n",
    "\n",
    "# Crear el preprocesador\n",
    "preprocessor = ColumnTransformer(\n",
    "    transformers=[\n",
    "        ('num', StandardScaler(), num_cols),\n",
    "        ('cat', OneHotEncoder(), cat_cols)\n",
    "    ])\n",
    "\n",
    "# Aplicar el preprocesador\n",
    "pipeline = Pipeline(steps=[('preprocessor', preprocessor)])\n",
    "\n",
    "# Aplicar el preprocesamiento a los datos\n",
    "X_scaled = pipeline.fit_transform(X)\n",
    "\n",
    "# División en conjuntos de entrenamiento y prueba\n",
    "X_train, X_temp, y_train, y_temp = train_test_split(X_scaled, y, test_size=0.4, random_state=42)\n",
    "X_val, X_test, y_val, y_test = train_test_split(X_temp, y_temp, test_size=0.5, random_state=42)\n",
    "\n",
    "print(f\"Dimensiones de los conjuntos de datos:\")\n",
    "print(f\"X_train_scaled: {X_train.shape}\")\n",
    "print(f\"X_val_scaled: {X_val.shape}\")\n",
    "print(f\"X_test_scaled: {X_test.shape}\")\n",
    "\n",
    "# Aplicar SMOTE para balancear las clases con barra de progreso y tiempo\n",
    "try:\n",
    "    from imblearn.over_sampling import SMOTE\n",
    "\n",
    "    start_time = time.time()\n",
    "\n",
    "    smote = SMOTE(random_state=42)\n",
    "    X_train_smote, y_train_smote = smote.fit_resample(X_train, y_train)\n",
    "\n",
    "    end_time = time.time()\n",
    "    elapsed_time = end_time - start_time\n",
    "    print(f\"Tiempo para aplicar SMOTE: {elapsed_time:.2f} segundos\")\n",
    "\n",
    "    # Verificar la distribución de clases después de aplicar SMOTE\n",
    "    print(\"Distribución de clases después de aplicar SMOTE:\")\n",
    "    print(y_train_smote.value_counts())\n",
    "except ImportError as e:\n",
    "    print(\"Error importando imbalanced-learn:\", e)\n"
   ]
  },
  {
   "cell_type": "markdown",
   "metadata": {},
   "source": [
    "## Entrenamiento del Modelo Inicial"
   ]
  },
  {
   "cell_type": "markdown",
   "metadata": {},
   "source": [
    "<div style='font-size: 16px; color: #4CAF50; font-family: Arial, sans-serif;'>\n",
    "  <div class=\"alert alert-block alert-info\">\n",
    "    <h1 style='color: #388E3C;'>Entrenamiento del Modelo</h1>\n",
    "    <h3 style='color: #2E7D32;'>Subtema 6.1: Entrenamiento del Modelo Sin Corregir el Desequilibrio</h3>\n",
    "    <p>En esta sección, se lleva a cabo el entrenamiento de varios modelos de machine learning sin aplicar técnicas de balanceo para corregir el desequilibrio de clases. Se utilizarán algoritmos populares como la Regresión Logística, Random Forest, Gradient Boosting, SVM, KNN, Naive Bayes, XGBoost y LightGBM. Además, se realizará la optimización de hiperparámetros utilizando GridSearchCV.</p>\n",
    "  </div>\n",
    "</div>\n",
    "<div style='font-size: 16px; color: #4CAF50; font-family: Arial, sans-serif;'>\n",
    "  <div class=\"alert alert-block alert-info\">\n",
    "    <h3 style='color: #2E7D32;'>Funcionalidad del Código</h3>\n",
    "    <p>El código implementa varias funciones clave para el entrenamiento y evaluación de modelos:</p>\n",
    "    <ul>\n",
    "      <li><code>entrenar_modelo(modelo, param_grid, X_train, y_train, X_val, y_val)</code>: Realiza GridSearchCV para optimizar hiperparámetros y entrena el modelo.</li>\n",
    "      <li><code>modelos</code>: Diccionario que contiene los modelos y sus respectivos hiperparámetros.</li>\n",
    "      <li><code>resultados</code>: Diccionario que almacena los mejores hiperparámetros y la exactitud de cada modelo en el conjunto de validación.</li>\n",
    "    </ul>\n",
    "  </div>\n",
    "</div>\n"
   ]
  },
  {
   "cell_type": "markdown",
   "metadata": {},
   "source": [
    "### Generación de Nuevas Características"
   ]
  },
  {
   "cell_type": "code",
   "execution_count": null,
   "metadata": {},
   "outputs": [],
   "source": [
    "# Verificar si las columnas necesarias están en el DataFrame\n",
    "required_columns = ['Balance', 'EstimatedSalary', 'Age', 'Tenure']\n",
    "for col in required_columns:\n",
    "    if col not in df.columns:\n",
    "        raise KeyError(f\"La columna '{col}' no se encuentra en el DataFrame\")\n",
    "\n",
    "# Generar nuevas características\n",
    "df['Balance_to_Salary'] = df['Balance'] / df['EstimatedSalary']\n",
    "df['Age_Tenure_Ratio'] = df['Age'] / df['Tenure']\n",
    "\n",
    "# Mostrar las primeras filas para verificar las nuevas características\n",
    "df.head()\n"
   ]
  },
  {
   "cell_type": "markdown",
   "metadata": {},
   "source": [
    "## Definir y Entrenar Modelos con Optimización de Hiperparámetros"
   ]
  },
  {
   "cell_type": "markdown",
   "metadata": {},
   "source": [
    "### División en Conjuntos de Entrenamiento y Prueba"
   ]
  },
  {
   "cell_type": "code",
   "execution_count": null,
   "metadata": {},
   "outputs": [],
   "source": [
    "\n",
    "# Identificar la columna objetivo correctamente\n",
    "target_column = 'Exited'  # Actualiza esto si tu columna objetivo tiene otro nombre\n",
    "\n",
    "# Verificar si la columna objetivo está en el DataFrame\n",
    "if target_column not in df.columns:\n",
    "    raise KeyError(f\"La columna '{target_column}' no se encuentra en el DataFrame\")\n",
    "\n",
    "# Separar características y etiqueta\n",
    "X = df.drop(columns=[target_column])\n",
    "y = df[target_column]\n",
    "\n",
    "# Identificar columnas categóricas y numéricas\n",
    "categorical_features = ['Geography', 'Gender']\n",
    "numerical_features = X.select_dtypes(include=[np.number]).columns.tolist()\n",
    "\n",
    "# Reemplazar valores infinitos por NaN y luego imputarlos o eliminarlos\n",
    "X[numerical_features] = X[numerical_features].replace([np.inf, -np.inf], np.nan)\n",
    "\n",
    "# Eliminar filas con valores NaN (alternativamente, podrías imputarlos)\n",
    "X = X.dropna()\n",
    "\n",
    "# Volver a separar características y etiqueta después de eliminar filas con NaN\n",
    "y = df.loc[X.index, target_column]\n",
    "\n",
    "# Crear el preprocesador\n",
    "preprocessor = ColumnTransformer(\n",
    "    transformers=[\n",
    "        ('num', StandardScaler(), numerical_features),\n",
    "        ('cat', OneHotEncoder(), categorical_features)\n",
    "    ])\n",
    "\n",
    "# Dividir los datos en conjuntos de entrenamiento, validación y prueba\n",
    "X_train, X_temp, y_train, y_temp = train_test_split(X, y, test_size=0.4, random_state=42)\n",
    "X_val, X_test, y_val, y_test = train_test_split(X_temp, y_temp, test_size=0.5, random_state=42)\n",
    "\n",
    "# Crear el pipeline de preprocesamiento\n",
    "pipeline = Pipeline(steps=[('preprocessor', preprocessor)])\n",
    "\n",
    "# Aplicar el preprocesamiento a los datos\n",
    "X_train_scaled = pipeline.fit_transform(X_train)\n",
    "X_val_scaled = pipeline.transform(X_val)\n",
    "X_test_scaled = pipeline.transform(X_test)\n",
    "\n",
    "# Verificar las dimensiones de los conjuntos de datos procesados\n",
    "print(\"Dimensiones de los conjuntos de datos:\")\n",
    "print(f\"X_train_scaled: {X_train_scaled.shape}\")\n",
    "print(f\"X_val_scaled: {X_val_scaled.shape}\")\n",
    "print(f\"X_test_scaled: {X_test_scaled.shape}\")\n"
   ]
  },
  {
   "cell_type": "markdown",
   "metadata": {},
   "source": [
    "## Mejora del Modelo"
   ]
  },
  {
   "cell_type": "markdown",
   "metadata": {},
   "source": [
    "### Entrenamiento del Modelo Sin Corregir el Desequilibrio"
   ]
  },
  {
   "cell_type": "code",
   "execution_count": null,
   "metadata": {},
   "outputs": [],
   "source": [
    "# Modelos a entrenar\n",
    "modelos_iniciales = {\n",
    "    'Logistic Regression': LogisticRegression(random_state=42),\n",
    "    'Random Forest': RandomForestClassifier(random_state=42)\n",
    "}\n",
    "\n",
    "# Diccionario para almacenar predicciones\n",
    "predicciones_iniciales = {}\n",
    "\n",
    "# Entrenar y evaluar modelos\n",
    "start_time = time.time()\n",
    "for nombre, modelo in tqdm(modelos_iniciales.items(), desc=\"Entrenando Modelos Iniciales\"):\n",
    "    modelo.fit(X_train_scaled, y_train)\n",
    "    predicciones_iniciales[nombre] = modelo.predict(X_val_scaled)\n",
    "end_time = time.time()\n",
    "elapsed_time = end_time - start_time\n",
    "print(f\"Tiempo total de entrenamiento de modelos iniciales: {elapsed_time:.2f} segundos\")\n",
    "\n",
    "# Evaluación de modelos\n",
    "for nombre, y_pred in predicciones_iniciales.items():\n",
    "    print(f\"Evaluación del modelo {nombre} sin corrección del desequilibrio de clases\")\n",
    "    print(classification_report(y_val, y_pred))\n",
    "    print(confusion_matrix(y_val, y_pred))\n"
   ]
  },
  {
   "cell_type": "markdown",
   "metadata": {},
   "source": [
    "### Evaluación del Modelo Inicial"
   ]
  },
  {
   "cell_type": "code",
   "execution_count": null,
   "metadata": {},
   "outputs": [],
   "source": [
    "# Diccionario para almacenar resultados\n",
    "resultados_iniciales = {}\n",
    "\n",
    "# Evaluar modelos con barra de progreso\n",
    "start_time = time.time()\n",
    "for nombre, y_pred in tqdm(predicciones_iniciales.items(), desc=\"Evaluando Modelos Iniciales\"):\n",
    "    accuracy = accuracy_score(y_val, y_pred)\n",
    "    f1 = f1_score(y_val, y_pred)\n",
    "    modelo = modelos_iniciales[nombre]\n",
    "    roc_auc = roc_auc_score(y_val, modelo.predict_proba(X_val_scaled)[:, 1])\n",
    "    resultados_iniciales[nombre] = (accuracy, f1, roc_auc)\n",
    "end_time = time.time()\n",
    "elapsed_time = end_time - start_time\n",
    "print(f\"Tiempo total de evaluación de modelos iniciales: {elapsed_time:.2f} segundos\")\n",
    "\n",
    "# Mostrar resultados\n",
    "for nombre, (accuracy, f1, roc_auc) in resultados_iniciales.items():\n",
    "    print(f\"{nombre} - Exactitud: {accuracy:.4f}, F1 Score: {f1:.4f}, AUC-ROC: {roc_auc:.4f}\")\n",
    "\n"
   ]
  },
  {
   "cell_type": "markdown",
   "metadata": {},
   "source": [
    "### Sobremuestreo (SMOTE)"
   ]
  },
  {
   "cell_type": "code",
   "execution_count": null,
   "metadata": {},
   "outputs": [],
   "source": [
    "from sklearn.utils import resample\n",
    "from tqdm import tqdm\n",
    "import time\n",
    "\n",
    "# Verificar la distribución inicial de clases\n",
    "print(\"Distribución inicial de clases:\")\n",
    "print(y_train.value_counts())\n",
    "\n",
    "# Sobremuestreo manual para balancear las clases con barra de progreso y tiempo\n",
    "start_time = time.time()\n",
    "\n",
    "# Concatenar nuestros conjuntos de entrenamiento en un solo DataFrame\n",
    "train_data = pd.concat([X_train_scaled, y_train], axis=1)\n",
    "\n",
    "# Separar las clases mayoritaria y minoritaria\n",
    "majority_class = train_data[train_data[target_column] == 0]\n",
    "minority_class = train_data[train_data[target_column] == 1]\n",
    "\n",
    "# Sobremuestreo de la clase minoritaria\n",
    "minority_class_oversampled = resample(minority_class, \n",
    "                                      replace=True,    # muestrear con reemplazo\n",
    "                                      n_samples=len(majority_class),  # para igualar el número de muestras de la clase mayoritaria\n",
    "                                      random_state=42) # para reproducibilidad\n",
    "\n",
    "# Combinar la clase mayoritaria con la clase minoritaria sobremuestreada\n",
    "oversampled_train_data = pd.concat([majority_class, minority_class_oversampled])\n",
    "\n",
    "# Separar nuevamente en características y etiquetas\n",
    "X_train_oversampled = oversampled_train_data.drop(columns=[target_column])\n",
    "y_train_oversampled = oversampled_train_data[target_column]\n",
    "\n",
    "end_time = time.time()\n",
    "elapsed_time = end_time - start_time\n",
    "print(f\"Tiempo para aplicar el sobremuestreo manual: {elapsed_time:.2f} segundos\")\n",
    "\n",
    "# Verificar la distribución de clases después del sobremuestreo\n",
    "print(\"Distribución de clases después del sobremuestreo manual:\")\n",
    "print(y_train_oversampled.value_counts())\n"
   ]
  },
  {
   "cell_type": "markdown",
   "metadata": {},
   "source": [
    "## Mejora del Modelo"
   ]
  },
  {
   "cell_type": "markdown",
   "metadata": {},
   "source": [
    "### Sobremuestreo (SMOTE)"
   ]
  },
  {
   "cell_type": "code",
   "execution_count": null,
   "metadata": {},
   "outputs": [],
   "source": [
    "from imblearn.over_sampling import SMOTE\n",
    "\n",
    "# Aplicar SMOTE para sobremuestrear el conjunto de entrenamiento\n",
    "start_time = time.time()\n",
    "smote = SMOTE(random_state=42)\n",
    "X_train_smote, y_train_smote = smote.fit_resample(X_train_scaled, y_train)\n",
    "end_time = time.time()\n",
    "elapsed_time = end_time - start_time\n",
    "print(f\"Tiempo para aplicar SMOTE: {elapsed_time:.2f} segundos\")\n",
    "\n",
    "# Entrenar y evaluar el modelo de Regresión Logística con SMOTE\n",
    "start_time = time.time()\n",
    "model_lr_smote = LogisticRegression(random_state=42)\n",
    "model_lr_smote.fit(X_train_smote, y_train_smote)\n",
    "y_pred_lr_smote = model_lr_smote.predict(X_val_scaled)\n",
    "end_time = time.time()\n",
    "elapsed_time = end_time - start_time\n",
    "print(f\"Tiempo para entrenar Regresión Logística con SMOTE: {elapsed_time:.2f} segundos\")\n",
    "\n",
    "# Evaluar el modelo\n",
    "accuracy_lr_smote = accuracy_score(y_val, y_pred_lr_smote)\n",
    "f1_lr_smote = f1_score(y_val, y_pred_lr_smote)\n",
    "roc_auc_lr_smote = roc_auc_score(y_val, model_lr_smote.predict_proba(X_val_scaled)[:, 1])\n",
    "\n",
    "print(\"Regresión Logística con SMOTE - Exactitud: {:.4f}, F1 Score: {:.4f}, AUC-ROC: {:.4f}\".format(accuracy_lr_smote, f1_lr_smote, roc_auc_lr_smote))\n"
   ]
  },
  {
   "cell_type": "markdown",
   "metadata": {},
   "source": [
    "### Submuestreo"
   ]
  },
  {
   "cell_type": "code",
   "execution_count": null,
   "metadata": {},
   "outputs": [],
   "source": [
    "from imblearn.under_sampling import RandomUnderSampler\n",
    "\n",
    "# Aplicar Submuestreo para balancear el conjunto de entrenamiento\n",
    "start_time = time.time()\n",
    "rus = RandomUnderSampler(random_state=42)\n",
    "X_train_rus, y_train_rus = rus.fit_resample(X_train_scaled, y_train)\n",
    "end_time = time.time()\n",
    "elapsed_time = end_time - start_time\n",
    "print(f\"Tiempo para aplicar Submuestreo: {elapsed_time:.2f} segundos\")\n",
    "\n",
    "# Entrenar y evaluar el modelo de Bosque Aleatorio con Submuestreo\n",
    "start_time = time.time()\n",
    "model_rf_rus = RandomForestClassifier(random_state=42)\n",
    "model_rf_rus.fit(X_train_rus, y_train_rus)\n",
    "y_pred_rf_rus = model_rf_rus.predict(X_val_scaled)\n",
    "end_time = time.time()\n",
    "elapsed_time = end_time - start_time\n",
    "print(f\"Tiempo para entrenar Bosque Aleatorio con Submuestreo: {elapsed_time:.2f} segundos\")\n",
    "\n",
    "# Evaluar el modelo\n",
    "accuracy_rf_rus = accuracy_score(y_val, y_pred_rf_rus)\n",
    "f1_rf_rus = f1_score(y_val, y_pred_rf_rus)\n",
    "roc_auc_rf_rus = roc_auc_score(y_val, model_rf_rus.predict_proba(X_val_scaled)[:, 1])\n",
    "\n",
    "print(\"Bosque Aleatorio con Submuestreo - Exactitud: {:.4f}, F1 Score: {:.4f}, AUC-ROC: {:.4f}\".format(accuracy_rf_rus, f1_rf_rus, roc_auc_rf_rus))\n"
   ]
  },
  {
   "cell_type": "markdown",
   "metadata": {},
   "source": [
    "### Ajuste de Hiperparámetros"
   ]
  },
  {
   "cell_type": "code",
   "execution_count": null,
   "metadata": {},
   "outputs": [],
   "source": [
    "from sklearn.linear_model import LogisticRegression\n",
    "from sklearn.ensemble import RandomForestClassifier, GradientBoostingClassifier\n",
    "from sklearn.svm import SVC\n",
    "from sklearn.model_selection import GridSearchCV\n",
    "from sklearn.metrics import accuracy_score, f1_score, roc_auc_score\n",
    "from tqdm import tqdm\n",
    "import time\n",
    "\n",
    "# Modelos y sus hiperparámetros\n",
    "modelos = {\n",
    "    'Logistic Regression': (LogisticRegression(random_state=54321), {\n",
    "        'C': [0.01, 0.1, 1, 10],\n",
    "        'solver': ['liblinear', 'saga']\n",
    "    }),\n",
    "    'Random Forest': (RandomForestClassifier(random_state=54321), {\n",
    "        'n_estimators': [50, 100, 200],\n",
    "        'max_depth': [10, 20, None],\n",
    "        'min_samples_split': [2, 5, 10]\n",
    "    }),\n",
    "    'Gradient Boosting': (GradientBoostingClassifier(random_state=54321), {\n",
    "        'n_estimators': [50, 100, 200],\n",
    "        'learning_rate': [0.01, 0.1, 0.2],\n",
    "        'max_depth': [3, 4, 5]\n",
    "    }),\n",
    "    'SVM': (SVC(random_state=54321), {\n",
    "        'C': [0.1, 1, 10],\n",
    "        'kernel': ['linear', 'rbf', 'poly']\n",
    "    })\n",
    "}\n",
    "\n",
    "# Diccionario para almacenar los resultados\n",
    "resultados = {}\n",
    "\n",
    "# Entrenar y evaluar los modelos con barra de progreso y tiempo\n",
    "start_time = time.time()\n",
    "for nombre, (modelo, param_grid) in tqdm(modelos.items(), desc=\"Entrenando Modelos\"):\n",
    "    print(f\"Entrenando {nombre}...\")\n",
    "    grid_search = GridSearchCV(modelo, param_grid, cv=5)\n",
    "    grid_search.fit(X_train_scaled, y_train)\n",
    "    best_params = grid_search.best_params_\n",
    "    best_model = grid_search.best_estimator_\n",
    "    accuracy_val = best_model.score(X_val_scaled, y_val)\n",
    "    resultados[nombre] = (best_params, accuracy_val)\n",
    "    print(f\"Mejores hiperparámetros para {nombre}: {best_params}\")\n",
    "    print(f\"Exactitud del mejor modelo de {nombre} en el conjunto de validación: {accuracy_val:.4f}\\n\")\n",
    "end_time = time.time()\n",
    "elapsed_time = end_time - start_time\n",
    "print(f\"Tiempo total de entrenamiento: {elapsed_time:.2f} segundos\")\n",
    "\n",
    "# Mostrar resultados\n",
    "for nombre, (best_params, accuracy_val) in resultados.items():\n",
    "    print(f\"{nombre}:\")\n",
    "    print(f\"  Mejores hiperparámetros: {best_params}\")\n",
    "    print(f\"  Exactitud en validación: {accuracy_val:.4f}\\n\")\n"
   ]
  },
  {
   "cell_type": "markdown",
   "metadata": {},
   "source": [
    "## Evaluación del Modelo Mejorado"
   ]
  },
  {
   "cell_type": "markdown",
   "metadata": {},
   "source": []
  },
  {
   "cell_type": "code",
   "execution_count": null,
   "metadata": {},
   "outputs": [],
   "source": [
    "from sklearn.metrics import accuracy_score, f1_score, roc_auc_score\n",
    "\n",
    "# Diccionario para almacenar resultados\n",
    "resultados_iniciales = {}\n",
    "\n",
    "# Evaluar modelos\n",
    "for nombre, y_pred in predicciones_iniciales.items():\n",
    "    accuracy = accuracy_score(y_val, y_pred)\n",
    "    f1 = f1_score(y_val, y_pred)\n",
    "    modelo = modelos[nombre][0].set_params(**resultados[nombre][0])\n",
    "    roc_auc = roc_auc_score(y_val, modelo.predict_proba(X_val_scaled)[:, 1])\n",
    "    resultados_iniciales[nombre] = (accuracy, f1, roc_auc)\n",
    "\n",
    "# Mostrar resultados\n",
    "for nombre, (accuracy, f1, roc_auc) in resultados_iniciales.items():\n",
    "    print(f\"{nombre} - Exactitud: {accuracy:.4f}, F1 Score: {f1:.4f}, AUC-ROC: {roc_auc:.4f}\")\n"
   ]
  },
  {
   "cell_type": "markdown",
   "metadata": {},
   "source": [
    "### Evaluación del Modelo con Sobremuestreo"
   ]
  },
  {
   "cell_type": "code",
   "execution_count": null,
   "metadata": {},
   "outputs": [],
   "source": [
    "# Evaluar el modelo de Regresión Logística con SMOTE\n",
    "accuracy_lr_smote = accuracy_score(y_val, y_pred_lr_smote)\n",
    "f1_lr_smote = f1_score(y_val, y_pred_lr_smote)\n",
    "roc_auc_lr_smote = roc_auc_score(y_val, model_lr_smote.predict_proba(X_val_scaled)[:, 1])\n",
    "\n",
    "print(\"Regresión Logística con SMOTE - Exactitud: {:.4f}, F1 Score: {:.4f}, AUC-ROC: {:.4f}\".format(accuracy_lr_smote, f1_lr_smote, roc_auc_lr_smote))\n"
   ]
  },
  {
   "cell_type": "markdown",
   "metadata": {},
   "source": [
    "### Evaluación del Modelo con Submuestreo"
   ]
  },
  {
   "cell_type": "code",
   "execution_count": null,
   "metadata": {},
   "outputs": [],
   "source": [
    "# Evaluar el modelo de Bosque Aleatorio con Submuestreo\n",
    "accuracy_rf_rus = accuracy_score(y_val, y_pred_rf_rus)\n",
    "f1_rf_rus = f1_score(y_val, y_pred_rf_rus)\n",
    "roc_auc_rf_rus = roc_auc_score(y_val, model_rf_rus.predict_proba(X_val_scaled)[:, 1])\n",
    "\n",
    "print(\"Bosque Aleatorio con Submuestreo - Exactitud: {:.4f}, F1 Score: {:.4f}, AUC-ROC: {:.4f}\".format(accuracy_rf_rus, f1_rf_rus, roc_auc_rf_rus))\n"
   ]
  },
  {
   "cell_type": "markdown",
   "metadata": {},
   "source": [
    "### Comparación de Resultados"
   ]
  },
  {
   "cell_type": "code",
   "execution_count": null,
   "metadata": {},
   "outputs": [],
   "source": [
    "# Comparar resultados de los modelos mejorados\n",
    "print(\"Comparación de resultados de los modelos mejorados:\")\n",
    "print(\"Regresión Logística con SMOTE - Exactitud: {:.4f}, F1 Score: {:.4f}, AUC-ROC: {:.4f}\".format(accuracy_lr_smote, f1_lr_smote, roc_auc_lr_smote))\n",
    "print(\"Bosque Aleatorio con Submuestreo - Exactitud: {:.4f}, F1 Score: {:.4f}, AUC-ROC: {:.4f}\".format(accuracy_rf_rus, f1_rf_rus, roc_auc_rf_rus))\n"
   ]
  },
  {
   "cell_type": "markdown",
   "metadata": {},
   "source": [
    "### Comparar Modelos"
   ]
  },
  {
   "cell_type": "code",
   "execution_count": null,
   "metadata": {},
   "outputs": [],
   "source": [
    "from sklearn.metrics import accuracy_score, precision_score, recall_score, f1_score, roc_auc_score, roc_curve\n",
    "import matplotlib.pyplot as plt\n",
    "\n",
    "def evaluar_modelo(modelo, X_test, y_test):\n",
    "    y_pred = modelo.predict(X_test)\n",
    "    y_prob = modelo.predict_proba(X_test)[:, 1] if hasattr(modelo, \"predict_proba\") else None\n",
    "    \n",
    "    metrics = {\n",
    "        \"Accuracy\": accuracy_score(y_test, y_pred),\n",
    "        \"Precision\": precision_score(y_test, y_pred),\n",
    "        \"Recall\": recall_score(y_test, y_pred),\n",
    "        \"F1-Score\": f1_score(y_test, y_pred),\n",
    "        \"AUC-ROC\": roc_auc_score(y_test, y_prob) if y_prob is not None else None\n",
    "    }\n",
    "    \n",
    "    return metrics\n",
    "\n",
    "resultados_comparacion = {}\n",
    "\n",
    "for nombre, (best_params, _) in resultados.items():\n",
    "    print(f\"Evaluando {nombre}...\")\n",
    "    modelo = modelos[nombre][0].set_params(**best_params)\n",
    "    modelo.fit(X_train_scaled, y_train)\n",
    "    metrics = evaluar_modelo(modelo, X_test_scaled, y_test)\n",
    "    resultados_comparacion[nombre] = metrics\n",
    "\n",
    "# Mostrar resultados de comparación\n",
    "for nombre, metrics in resultados_comparacion.items():\n",
    "    print(f\"Resultados para {nombre}:\")\n",
    "    for metric, value in metrics.items():\n",
    "        print(f\"  {metric}: {value:.4f}\")\n",
    "    print(\"\\n\")\n",
    "\n",
    "# Gráfica ROC para todos los modelos\n",
    "plt.figure(figsize=(12, 8))\n",
    "\n",
    "for nombre, (best_params, _) in resultados.items():\n",
    "    modelo = modelos[nombre][0].set_params(**best_params)\n",
    "    modelo.fit(X_train_scaled, y_train)\n",
    "    y_prob = modelo.predict_proba(X_test_scaled)[:, 1]\n",
    "    fpr, tpr, _ = roc_curve(y_test, y_prob)\n",
    "    plt.plot(fpr, tpr, label=f\"{nombre} (AUC = {roc_auc_score(y_test, y_prob):.4f})\")\n",
    "\n",
    "plt.plot([0, 1], [0, 1], 'k--')\n",
    "plt.xlabel('False Positive Rate')\n",
    "plt.ylabel('True Positive Rate')\n",
    "plt.title('ROC Curve')\n",
    "plt.legend(loc='lower right')\n",
    "plt.show()\n"
   ]
  },
  {
   "cell_type": "markdown",
   "metadata": {},
   "source": [
    "## Prueba Final"
   ]
  },
  {
   "cell_type": "markdown",
   "metadata": {},
   "source": [
    "### Entrenamiento del Modelo Final"
   ]
  },
  {
   "cell_type": "code",
   "execution_count": null,
   "metadata": {},
   "outputs": [],
   "source": [
    "# Entrenar el mejor modelo final (aquí se usa un modelo de ejemplo, ajustar según los resultados)\n",
    "mejor_modelo_nombre = 'Random Forest'\n",
    "mejor_modelo_params = resultados[mejor_modelo_nombre][0]\n",
    "\n",
    "mejor_modelo = RandomForestClassifier(random_state=54321).set_params(**mejor_modelo_params)\n",
    "mejor_modelo.fit(X_train, y_train)\n",
    "\n",
    "# Guardar el modelo entrenado\n",
    "import joblib\n",
    "joblib.dump(mejor_modelo, 'mejor_modelo_final.pkl')\n"
   ]
  },
  {
   "cell_type": "markdown",
   "metadata": {},
   "source": [
    "### Evaluación del Modelo Final"
   ]
  },
  {
   "cell_type": "code",
   "execution_count": null,
   "metadata": {},
   "outputs": [],
   "source": [
    "# Cargar el modelo entrenado\n",
    "mejor_modelo_final = joblib.load('mejor_modelo_final.pkl')\n",
    "\n",
    "# Evaluar el modelo final en el conjunto de prueba\n",
    "evaluar_modelo(mejor_modelo_final, X_test, y_test)\n"
   ]
  },
  {
   "cell_type": "markdown",
   "metadata": {},
   "source": [
    "### Comparación de Resultados"
   ]
  },
  {
   "cell_type": "code",
   "execution_count": null,
   "metadata": {},
   "outputs": [],
   "source": [
    "# Función para realizar Grid Search y entrenar el modelo\n",
    "def entrenar_modelo(modelo, param_grid, X_train, y_train, X_val, y_val):\n",
    "    grid_search = GridSearchCV(modelo, param_grid, cv=5)\n",
    "    grid_search.fit(X_train, y_train)\n",
    "    best_params = grid_search.best_params_\n",
    "    best_model = grid_search.best_estimator_\n",
    "    y_val_pred = best_model.predict(X_val)\n",
    "    accuracy_val = accuracy_score(y_val, y_val_pred)\n",
    "    f1_val = f1_score(y_val, y_val_pred)\n",
    "    y_val_proba = best_model.predict_proba(X_val)[:, 1]\n",
    "    roc_auc_val = roc_auc_score(y_val, y_val_proba)\n",
    "    return best_params, accuracy_val, f1_val, roc_auc_val\n",
    "\n",
    "# Diccionario de modelos y sus hiperparámetros\n",
    "modelos = {\n",
    "    'Logistic Regression': (LogisticRegression(random_state=54321), {\n",
    "        'C': [0.01, 0.1, 1, 10],\n",
    "        'solver': ['liblinear', 'saga']\n",
    "    }),\n",
    "    'Random Forest': (RandomForestClassifier(random_state=54321), {\n",
    "        'n_estimators': [50, 100, 200],\n",
    "        'max_depth': [10, 20, None],\n",
    "        'min_samples_split': [2, 5, 10]\n",
    "    }),\n",
    "    'Gradient Boosting': (GradientBoostingClassifier(random_state=54321), {\n",
    "        'n_estimators': [50, 100, 200],\n",
    "        'learning_rate': [0.01, 0.1, 0.2],\n",
    "        'max_depth': [3, 4, 5]\n",
    "    }),\n",
    "    'SVM': (SVC(random_state=54321, probability=True), {\n",
    "        'C': [0.1, 1, 10],\n",
    "        'kernel': ['linear', 'rbf', 'poly']\n",
    "    }),\n",
    "    'KNN': (KNeighborsClassifier(), {\n",
    "        'n_neighbors': [3, 5, 7, 9],\n",
    "        'weights': ['uniform', 'distance']\n",
    "    }),\n",
    "    'Naive Bayes': (GaussianNB(), {}),\n",
    "    'XGBoost': (XGBClassifier(random_state=54321), {\n",
    "        'n_estimators': [50, 100, 200],\n",
    "        'learning_rate': [0.01, 0.1, 0.2],\n",
    "        'max_depth': [3, 4, 5]\n",
    "    }),\n",
    "    'LightGBM': (LGBMClassifier(random_state=54321), {\n",
    "        'n_estimators': [50, 100, 200],\n",
    "        'learning_rate': [0.01, 0.1, 0.2],\n",
    "        'max_depth': [3, 4, 5]\n",
    "    })\n",
    "}\n",
    "\n",
    "# Entrenar y evaluar todos los modelos con barra de progreso y tiempo\n",
    "resultados = {}\n",
    "start_time = time.time()\n",
    "with tqdm(total=len(modelos), desc=\"Entrenando Modelos\", unit=\"modelo\") as pbar:\n",
    "    for nombre, (modelo, param_grid) in modelos.items():\n",
    "        print(f\"Entrenando {nombre}...\")\n",
    "        best_params, accuracy_val, f1_val, roc_auc_val = entrenar_modelo(modelo, param_grid, X_train_scaled, y_train, X_val_scaled, y_val)\n",
    "        resultados[nombre] = {\n",
    "            'Mejores Hiperparámetros': best_params,\n",
    "            'Exactitud': accuracy_val,\n",
    "            'F1 Score': f1_val,\n",
    "            'AUC-ROC': roc_auc_val\n",
    "        }\n",
    "        print(f\"Mejores hiperparámetros para {nombre}: {best_params}\")\n",
    "        print(f\"Exactitud del mejor modelo de {nombre} en el conjunto de validación: {accuracy_val:.4f}\")\n",
    "        print(f\"F1 Score del mejor modelo de {nombre} en el conjunto de validación: {f1_val:.4f}\")\n",
    "        print(f\"AUC-ROC del mejor modelo de {nombre} en el conjunto de validación: {roc_auc_val:.4f}\\n\")\n",
    "        pbar.update(1)\n",
    "end_time = time.time()\n",
    "elapsed_time = end_time - start_time\n",
    "print(f\"Tiempo total de entrenamiento: {elapsed_time:.2f} segundos\")\n",
    "\n",
    "# Mostrar resultados\n",
    "for nombre, metrics in resultados.items():\n",
    "    print(f\"{nombre}:\")\n",
    "    for metric, value in metrics.items():\n",
    "        print(f\"  {metric}: {value}\")\n",
    "    print(\"\\n\")\n"
   ]
  },
  {
   "cell_type": "markdown",
   "metadata": {},
   "source": [
    "## Conclusiones"
   ]
  },
  {
   "cell_type": "code",
   "execution_count": null,
   "metadata": {},
   "outputs": [],
   "source": []
  }
 ],
 "metadata": {
  "ExecuteTimeLog": [
   {
    "duration": 307,
    "start_time": "2024-08-04T14:46:04.613Z"
   },
   {
    "duration": 21,
    "start_time": "2024-08-04T14:46:54.598Z"
   },
   {
    "duration": 20112,
    "start_time": "2024-08-04T14:48:36.128Z"
   },
   {
    "duration": 4,
    "start_time": "2024-08-04T14:49:28.289Z"
   },
   {
    "duration": 1450,
    "start_time": "2024-08-04T14:49:40.906Z"
   },
   {
    "duration": 7,
    "start_time": "2024-08-04T14:51:00.808Z"
   },
   {
    "duration": 25,
    "start_time": "2024-08-04T14:51:50.579Z"
   },
   {
    "duration": 2047,
    "start_time": "2024-08-04T14:52:22.693Z"
   },
   {
    "duration": 30,
    "start_time": "2024-08-04T14:52:25.929Z"
   },
   {
    "duration": 28,
    "start_time": "2024-08-04T14:52:54.984Z"
   },
   {
    "duration": 272,
    "start_time": "2024-08-04T14:53:05.598Z"
   },
   {
    "duration": 160,
    "start_time": "2024-08-04T14:54:21.962Z"
   },
   {
    "duration": 1632,
    "start_time": "2024-08-04T14:55:33.465Z"
   },
   {
    "duration": 1442,
    "start_time": "2024-08-04T14:56:19.545Z"
   },
   {
    "duration": 1285,
    "start_time": "2024-08-04T14:56:38.673Z"
   },
   {
    "duration": 1552,
    "start_time": "2024-08-04T15:01:21.081Z"
   },
   {
    "duration": 7,
    "start_time": "2024-08-04T15:07:05.377Z"
   },
   {
    "duration": 1954,
    "start_time": "2024-08-04T15:13:52.788Z"
   },
   {
    "duration": 1363,
    "start_time": "2024-08-04T15:14:40.489Z"
   },
   {
    "duration": 1517,
    "start_time": "2024-08-04T15:34:49.538Z"
   },
   {
    "duration": 55346,
    "start_time": "2024-08-04T15:50:46.625Z"
   },
   {
    "duration": 56,
    "start_time": "2024-08-04T16:08:34.216Z"
   },
   {
    "duration": 54,
    "start_time": "2024-08-04T16:08:46.663Z"
   },
   {
    "duration": 18,
    "start_time": "2024-08-04T17:04:04.219Z"
   },
   {
    "duration": 174,
    "start_time": "2024-08-04T17:04:18.571Z"
   },
   {
    "duration": 25,
    "start_time": "2024-08-04T17:04:44.571Z"
   },
   {
    "duration": 14,
    "start_time": "2024-08-04T17:08:36.075Z"
   },
   {
    "duration": 23,
    "start_time": "2024-08-04T17:09:38.161Z"
   },
   {
    "duration": 34,
    "start_time": "2024-08-04T17:12:25.756Z"
   },
   {
    "duration": 620,
    "start_time": "2024-08-04T17:13:57.498Z"
   },
   {
    "duration": 3706,
    "start_time": "2024-08-04T17:19:00.714Z"
   },
   {
    "duration": 10,
    "start_time": "2024-08-04T17:19:04.424Z"
   },
   {
    "duration": 1527,
    "start_time": "2024-08-04T17:19:04.438Z"
   },
   {
    "duration": 192,
    "start_time": "2024-08-04T17:19:05.969Z"
   },
   {
    "duration": 670,
    "start_time": "2024-08-04T17:19:06.164Z"
   },
   {
    "duration": 3663,
    "start_time": "2024-08-04T17:19:25.521Z"
   },
   {
    "duration": 6,
    "start_time": "2024-08-04T17:19:29.188Z"
   },
   {
    "duration": 1412,
    "start_time": "2024-08-04T17:19:29.196Z"
   },
   {
    "duration": 184,
    "start_time": "2024-08-04T17:19:30.611Z"
   },
   {
    "duration": 653,
    "start_time": "2024-08-04T17:19:30.799Z"
   },
   {
    "duration": 1184,
    "start_time": "2024-08-04T17:25:26.006Z"
   },
   {
    "duration": 1213,
    "start_time": "2024-08-04T17:25:39.827Z"
   },
   {
    "duration": 178,
    "start_time": "2024-08-04T17:57:52.618Z"
   },
   {
    "duration": 632,
    "start_time": "2024-08-04T17:58:41.485Z"
   },
   {
    "duration": 402,
    "start_time": "2024-08-04T17:59:14.350Z"
   },
   {
    "duration": 1644,
    "start_time": "2024-08-04T18:13:56.056Z"
   },
   {
    "duration": 260,
    "start_time": "2024-08-04T18:25:11.242Z"
   },
   {
    "duration": 88,
    "start_time": "2024-08-04T18:28:57.745Z"
   },
   {
    "duration": 69,
    "start_time": "2024-08-04T18:30:06.828Z"
   },
   {
    "duration": 1304,
    "start_time": "2024-08-04T18:34:37.387Z"
   },
   {
    "duration": 53,
    "start_time": "2024-08-04T18:36:18.546Z"
   },
   {
    "duration": 69,
    "start_time": "2024-08-04T18:41:12.186Z"
   },
   {
    "duration": 3762,
    "start_time": "2024-08-04T18:48:28.925Z"
   },
   {
    "duration": 3684,
    "start_time": "2024-08-04T18:52:18.929Z"
   },
   {
    "duration": 10870,
    "start_time": "2024-08-04T18:58:31.830Z"
   },
   {
    "duration": 3297,
    "start_time": "2024-08-04T19:06:06.353Z"
   },
   {
    "duration": 57,
    "start_time": "2024-08-04T19:15:00.836Z"
   },
   {
    "duration": 6,
    "start_time": "2024-08-04T19:18:34.766Z"
   },
   {
    "duration": 7,
    "start_time": "2024-08-04T19:19:05.453Z"
   },
   {
    "duration": 16,
    "start_time": "2024-08-04T19:19:39.595Z"
   },
   {
    "duration": 40,
    "start_time": "2024-08-04T19:23:40.779Z"
   },
   {
    "duration": 3677,
    "start_time": "2024-08-04T19:30:24.486Z"
   },
   {
    "duration": 5,
    "start_time": "2024-08-04T19:30:28.167Z"
   },
   {
    "duration": 1567,
    "start_time": "2024-08-04T19:30:28.176Z"
   },
   {
    "duration": 96,
    "start_time": "2024-08-04T19:30:29.747Z"
   },
   {
    "duration": 1999,
    "start_time": "2024-08-04T19:30:29.846Z"
   },
   {
    "duration": 87,
    "start_time": "2024-08-04T19:30:31.848Z"
   },
   {
    "duration": 11,
    "start_time": "2024-08-04T19:30:31.938Z"
   },
   {
    "duration": 6,
    "start_time": "2024-08-04T19:30:31.952Z"
   },
   {
    "duration": 89,
    "start_time": "2024-08-04T19:30:31.961Z"
   },
   {
    "duration": 933,
    "start_time": "2024-08-04T19:48:05.618Z"
   },
   {
    "duration": 896,
    "start_time": "2024-08-04T19:55:58.848Z"
   },
   {
    "duration": 95,
    "start_time": "2024-08-04T20:09:22.348Z"
   },
   {
    "duration": 100,
    "start_time": "2024-08-04T20:30:49.232Z"
   },
   {
    "duration": 7,
    "start_time": "2024-08-04T20:36:42.842Z"
   },
   {
    "duration": 6,
    "start_time": "2024-08-04T20:37:01.820Z"
   },
   {
    "duration": 30,
    "start_time": "2024-08-04T20:37:08.276Z"
   },
   {
    "duration": 9,
    "start_time": "2024-08-04T20:40:14.476Z"
   },
   {
    "duration": 49,
    "start_time": "2024-08-04T20:40:14.489Z"
   },
   {
    "duration": 32,
    "start_time": "2024-08-04T20:40:14.541Z"
   },
   {
    "duration": 12,
    "start_time": "2024-08-04T20:43:00.227Z"
   },
   {
    "duration": 13,
    "start_time": "2024-08-04T20:43:06.980Z"
   },
   {
    "duration": 12,
    "start_time": "2024-08-04T20:44:07.306Z"
   },
   {
    "duration": 18,
    "start_time": "2024-08-04T20:46:46.484Z"
   },
   {
    "duration": 23,
    "start_time": "2024-08-04T20:56:34.963Z"
   },
   {
    "duration": 638,
    "start_time": "2024-08-04T21:02:55.962Z"
   },
   {
    "duration": 7,
    "start_time": "2024-08-04T21:04:09.371Z"
   },
   {
    "duration": 392,
    "start_time": "2024-08-04T21:05:23.242Z"
   },
   {
    "duration": 27,
    "start_time": "2024-08-04T21:07:19.112Z"
   },
   {
    "duration": 1281,
    "start_time": "2024-08-04T21:11:26.777Z"
   },
   {
    "duration": 100,
    "start_time": "2024-08-04T21:11:51.080Z"
   },
   {
    "duration": 67,
    "start_time": "2024-08-04T21:13:35.037Z"
   },
   {
    "duration": 63,
    "start_time": "2024-08-04T21:14:30.491Z"
   },
   {
    "duration": 3748,
    "start_time": "2024-08-04T21:15:01.258Z"
   },
   {
    "duration": 5,
    "start_time": "2024-08-04T21:15:05.010Z"
   },
   {
    "duration": 1675,
    "start_time": "2024-08-04T21:15:05.019Z"
   },
   {
    "duration": 89,
    "start_time": "2024-08-04T21:15:06.699Z"
   },
   {
    "duration": 1064,
    "start_time": "2024-08-04T21:15:06.792Z"
   },
   {
    "duration": 114,
    "start_time": "2024-08-04T21:15:07.859Z"
   },
   {
    "duration": 13,
    "start_time": "2024-08-04T21:15:07.976Z"
   },
   {
    "duration": 46,
    "start_time": "2024-08-04T21:15:07.993Z"
   },
   {
    "duration": 32,
    "start_time": "2024-08-04T21:15:08.042Z"
   },
   {
    "duration": 688,
    "start_time": "2024-08-04T21:15:08.137Z"
   },
   {
    "duration": 0,
    "start_time": "2024-08-04T21:15:08.832Z"
   },
   {
    "duration": 3725,
    "start_time": "2024-08-04T21:55:57.635Z"
   },
   {
    "duration": 6,
    "start_time": "2024-08-04T21:56:01.363Z"
   },
   {
    "duration": 1546,
    "start_time": "2024-08-04T21:56:01.371Z"
   },
   {
    "duration": 89,
    "start_time": "2024-08-04T21:56:02.921Z"
   },
   {
    "duration": 1029,
    "start_time": "2024-08-04T21:56:03.013Z"
   },
   {
    "duration": 117,
    "start_time": "2024-08-04T21:56:04.045Z"
   },
   {
    "duration": 10,
    "start_time": "2024-08-04T21:56:04.165Z"
   },
   {
    "duration": 8,
    "start_time": "2024-08-04T21:56:04.179Z"
   },
   {
    "duration": 80,
    "start_time": "2024-08-04T21:56:04.190Z"
   },
   {
    "duration": 731,
    "start_time": "2024-08-04T21:56:04.275Z"
   },
   {
    "duration": 0,
    "start_time": "2024-08-04T21:56:05.009Z"
   },
   {
    "duration": 0,
    "start_time": "2024-08-04T21:56:05.011Z"
   },
   {
    "duration": 0,
    "start_time": "2024-08-04T21:56:05.013Z"
   },
   {
    "duration": 0,
    "start_time": "2024-08-04T21:56:05.016Z"
   },
   {
    "duration": 0,
    "start_time": "2024-08-04T21:56:05.034Z"
   },
   {
    "duration": 0,
    "start_time": "2024-08-04T21:56:05.036Z"
   },
   {
    "duration": 0,
    "start_time": "2024-08-04T21:56:05.038Z"
   },
   {
    "duration": 0,
    "start_time": "2024-08-04T21:56:05.040Z"
   },
   {
    "duration": 0,
    "start_time": "2024-08-04T21:56:05.042Z"
   },
   {
    "duration": 0,
    "start_time": "2024-08-04T21:56:05.045Z"
   },
   {
    "duration": 2026,
    "start_time": "2024-08-04T22:08:31.438Z"
   },
   {
    "duration": 3718,
    "start_time": "2024-08-04T22:09:06.593Z"
   },
   {
    "duration": 5,
    "start_time": "2024-08-04T22:09:10.314Z"
   },
   {
    "duration": 1529,
    "start_time": "2024-08-04T22:09:10.334Z"
   },
   {
    "duration": 103,
    "start_time": "2024-08-04T22:09:11.867Z"
   },
   {
    "duration": 1072,
    "start_time": "2024-08-04T22:09:11.974Z"
   },
   {
    "duration": 109,
    "start_time": "2024-08-04T22:09:13.050Z"
   },
   {
    "duration": 10,
    "start_time": "2024-08-04T22:09:13.162Z"
   },
   {
    "duration": 8,
    "start_time": "2024-08-04T22:09:13.175Z"
   },
   {
    "duration": 32,
    "start_time": "2024-08-04T22:09:13.234Z"
   },
   {
    "duration": 733,
    "start_time": "2024-08-04T22:09:13.271Z"
   },
   {
    "duration": 0,
    "start_time": "2024-08-04T22:09:14.007Z"
   },
   {
    "duration": 0,
    "start_time": "2024-08-04T22:09:14.009Z"
   },
   {
    "duration": 0,
    "start_time": "2024-08-04T22:09:14.011Z"
   },
   {
    "duration": 0,
    "start_time": "2024-08-04T22:09:14.014Z"
   },
   {
    "duration": 0,
    "start_time": "2024-08-04T22:09:14.016Z"
   },
   {
    "duration": 0,
    "start_time": "2024-08-04T22:09:14.033Z"
   },
   {
    "duration": 0,
    "start_time": "2024-08-04T22:09:14.038Z"
   },
   {
    "duration": 0,
    "start_time": "2024-08-04T22:09:14.040Z"
   },
   {
    "duration": 0,
    "start_time": "2024-08-04T22:09:14.042Z"
   },
   {
    "duration": 0,
    "start_time": "2024-08-04T22:09:14.044Z"
   },
   {
    "duration": 56,
    "start_time": "2024-08-04T22:11:32.189Z"
   },
   {
    "duration": 3688,
    "start_time": "2024-08-04T22:11:38.400Z"
   },
   {
    "duration": 5,
    "start_time": "2024-08-04T22:11:42.092Z"
   },
   {
    "duration": 1511,
    "start_time": "2024-08-04T22:11:42.100Z"
   },
   {
    "duration": 87,
    "start_time": "2024-08-04T22:11:43.616Z"
   },
   {
    "duration": 986,
    "start_time": "2024-08-04T22:11:43.732Z"
   },
   {
    "duration": 82,
    "start_time": "2024-08-04T22:11:44.721Z"
   },
   {
    "duration": 38,
    "start_time": "2024-08-04T22:11:44.806Z"
   },
   {
    "duration": 10,
    "start_time": "2024-08-04T22:11:44.847Z"
   },
   {
    "duration": 83,
    "start_time": "2024-08-04T22:11:44.861Z"
   },
   {
    "duration": 673,
    "start_time": "2024-08-04T22:11:44.951Z"
   },
   {
    "duration": 0,
    "start_time": "2024-08-04T22:11:45.627Z"
   },
   {
    "duration": 0,
    "start_time": "2024-08-04T22:11:45.633Z"
   },
   {
    "duration": 0,
    "start_time": "2024-08-04T22:11:45.635Z"
   },
   {
    "duration": 0,
    "start_time": "2024-08-04T22:11:45.637Z"
   },
   {
    "duration": 0,
    "start_time": "2024-08-04T22:11:45.639Z"
   },
   {
    "duration": 0,
    "start_time": "2024-08-04T22:11:45.641Z"
   },
   {
    "duration": 0,
    "start_time": "2024-08-04T22:11:45.643Z"
   },
   {
    "duration": 1,
    "start_time": "2024-08-04T22:11:45.645Z"
   },
   {
    "duration": 0,
    "start_time": "2024-08-04T22:11:45.648Z"
   },
   {
    "duration": 0,
    "start_time": "2024-08-04T22:11:45.650Z"
   },
   {
    "duration": 0,
    "start_time": "2024-08-04T22:11:45.652Z"
   },
   {
    "duration": 4506,
    "start_time": "2024-08-04T22:59:40.159Z"
   },
   {
    "duration": 2039,
    "start_time": "2024-08-04T23:00:56.003Z"
   },
   {
    "duration": 4062,
    "start_time": "2024-08-04T23:02:48.873Z"
   },
   {
    "duration": 2028,
    "start_time": "2024-08-04T23:04:19.985Z"
   },
   {
    "duration": 84,
    "start_time": "2024-08-04T23:04:47.510Z"
   },
   {
    "duration": 3923,
    "start_time": "2024-08-04T23:05:01.199Z"
   },
   {
    "duration": 5,
    "start_time": "2024-08-04T23:05:05.132Z"
   },
   {
    "duration": 1402,
    "start_time": "2024-08-04T23:05:05.140Z"
   },
   {
    "duration": 107,
    "start_time": "2024-08-04T23:05:06.547Z"
   },
   {
    "duration": 1009,
    "start_time": "2024-08-04T23:05:06.658Z"
   },
   {
    "duration": 101,
    "start_time": "2024-08-04T23:05:07.670Z"
   },
   {
    "duration": 10,
    "start_time": "2024-08-04T23:05:07.774Z"
   },
   {
    "duration": 48,
    "start_time": "2024-08-04T23:05:07.786Z"
   },
   {
    "duration": 37,
    "start_time": "2024-08-04T23:05:07.838Z"
   },
   {
    "duration": 570,
    "start_time": "2024-08-04T23:05:07.881Z"
   },
   {
    "duration": 0,
    "start_time": "2024-08-04T23:05:08.454Z"
   },
   {
    "duration": 0,
    "start_time": "2024-08-04T23:05:08.457Z"
   },
   {
    "duration": 0,
    "start_time": "2024-08-04T23:05:08.460Z"
   },
   {
    "duration": 0,
    "start_time": "2024-08-04T23:05:08.462Z"
   },
   {
    "duration": 0,
    "start_time": "2024-08-04T23:05:08.464Z"
   },
   {
    "duration": 0,
    "start_time": "2024-08-04T23:05:08.466Z"
   },
   {
    "duration": 0,
    "start_time": "2024-08-04T23:05:08.468Z"
   },
   {
    "duration": 0,
    "start_time": "2024-08-04T23:05:08.471Z"
   },
   {
    "duration": 0,
    "start_time": "2024-08-04T23:05:08.472Z"
   },
   {
    "duration": 0,
    "start_time": "2024-08-04T23:05:08.474Z"
   },
   {
    "duration": 0,
    "start_time": "2024-08-04T23:05:08.477Z"
   },
   {
    "duration": 0,
    "start_time": "2024-08-04T23:05:08.479Z"
   },
   {
    "duration": 892,
    "start_time": "2024-08-04T23:05:33.845Z"
   },
   {
    "duration": 3888,
    "start_time": "2024-08-04T23:06:01.215Z"
   },
   {
    "duration": 5,
    "start_time": "2024-08-04T23:06:05.108Z"
   },
   {
    "duration": 1246,
    "start_time": "2024-08-04T23:06:05.116Z"
   },
   {
    "duration": 91,
    "start_time": "2024-08-04T23:06:06.365Z"
   },
   {
    "duration": 372,
    "start_time": "2024-08-04T23:06:06.461Z"
   },
   {
    "duration": 99,
    "start_time": "2024-08-04T23:06:06.836Z"
   },
   {
    "duration": 11,
    "start_time": "2024-08-04T23:06:06.938Z"
   },
   {
    "duration": 8,
    "start_time": "2024-08-04T23:06:06.952Z"
   },
   {
    "duration": 79,
    "start_time": "2024-08-04T23:06:06.963Z"
   },
   {
    "duration": 555,
    "start_time": "2024-08-04T23:06:07.045Z"
   },
   {
    "duration": 0,
    "start_time": "2024-08-04T23:06:07.604Z"
   },
   {
    "duration": 0,
    "start_time": "2024-08-04T23:06:07.606Z"
   },
   {
    "duration": 0,
    "start_time": "2024-08-04T23:06:07.608Z"
   },
   {
    "duration": 0,
    "start_time": "2024-08-04T23:06:07.610Z"
   },
   {
    "duration": 0,
    "start_time": "2024-08-04T23:06:07.612Z"
   },
   {
    "duration": 0,
    "start_time": "2024-08-04T23:06:07.634Z"
   },
   {
    "duration": 0,
    "start_time": "2024-08-04T23:06:07.636Z"
   },
   {
    "duration": 0,
    "start_time": "2024-08-04T23:06:07.638Z"
   },
   {
    "duration": 0,
    "start_time": "2024-08-04T23:06:07.640Z"
   },
   {
    "duration": 0,
    "start_time": "2024-08-04T23:06:07.642Z"
   },
   {
    "duration": 0,
    "start_time": "2024-08-04T23:06:07.645Z"
   },
   {
    "duration": 0,
    "start_time": "2024-08-04T23:06:07.647Z"
   },
   {
    "duration": 8,
    "start_time": "2024-08-04T23:06:35.943Z"
   },
   {
    "duration": 7,
    "start_time": "2024-08-04T23:06:40.688Z"
   },
   {
    "duration": 28,
    "start_time": "2024-08-04T23:06:47.193Z"
   },
   {
    "duration": 3803,
    "start_time": "2024-08-04T23:38:46.443Z"
   },
   {
    "duration": 5,
    "start_time": "2024-08-04T23:38:50.250Z"
   },
   {
    "duration": 1405,
    "start_time": "2024-08-04T23:38:50.258Z"
   },
   {
    "duration": 97,
    "start_time": "2024-08-04T23:38:51.668Z"
   },
   {
    "duration": 383,
    "start_time": "2024-08-04T23:38:51.768Z"
   },
   {
    "duration": 94,
    "start_time": "2024-08-04T23:38:52.154Z"
   },
   {
    "duration": 9,
    "start_time": "2024-08-04T23:38:52.251Z"
   },
   {
    "duration": 9,
    "start_time": "2024-08-04T23:38:52.264Z"
   },
   {
    "duration": 86,
    "start_time": "2024-08-04T23:38:52.276Z"
   },
   {
    "duration": 565,
    "start_time": "2024-08-04T23:38:52.369Z"
   },
   {
    "duration": 0,
    "start_time": "2024-08-04T23:38:52.940Z"
   },
   {
    "duration": 0,
    "start_time": "2024-08-04T23:38:52.942Z"
   },
   {
    "duration": 0,
    "start_time": "2024-08-04T23:38:52.945Z"
   },
   {
    "duration": 0,
    "start_time": "2024-08-04T23:38:52.948Z"
   },
   {
    "duration": 0,
    "start_time": "2024-08-04T23:38:52.955Z"
   },
   {
    "duration": 0,
    "start_time": "2024-08-04T23:38:52.957Z"
   },
   {
    "duration": 0,
    "start_time": "2024-08-04T23:38:52.959Z"
   },
   {
    "duration": 0,
    "start_time": "2024-08-04T23:38:52.962Z"
   },
   {
    "duration": 0,
    "start_time": "2024-08-04T23:38:52.965Z"
   },
   {
    "duration": 0,
    "start_time": "2024-08-04T23:38:52.967Z"
   },
   {
    "duration": 0,
    "start_time": "2024-08-04T23:38:52.969Z"
   },
   {
    "duration": 0,
    "start_time": "2024-08-04T23:38:52.972Z"
   },
   {
    "duration": 63,
    "start_time": "2024-08-04T23:46:49.611Z"
   },
   {
    "duration": 65,
    "start_time": "2024-08-04T23:47:29.834Z"
   },
   {
    "duration": 24,
    "start_time": "2024-08-04T23:49:26.875Z"
   },
   {
    "duration": 41,
    "start_time": "2024-08-04T23:49:40.116Z"
   },
   {
    "duration": 60,
    "start_time": "2024-08-04T23:50:02.436Z"
   },
   {
    "duration": 30,
    "start_time": "2024-08-04T23:51:06.987Z"
   },
   {
    "duration": 66,
    "start_time": "2024-08-04T23:52:54.747Z"
   },
   {
    "duration": 933,
    "start_time": "2024-08-04T23:56:33.811Z"
   },
   {
    "duration": 57,
    "start_time": "2024-08-04T23:57:22.423Z"
   },
   {
    "duration": 55,
    "start_time": "2024-08-04T23:57:57.955Z"
   },
   {
    "duration": 1617,
    "start_time": "2024-08-05T00:02:00.962Z"
   },
   {
    "duration": 1519,
    "start_time": "2024-08-05T00:02:03.010Z"
   },
   {
    "duration": 1643,
    "start_time": "2024-08-05T00:04:43.614Z"
   },
   {
    "duration": 184,
    "start_time": "2024-08-05T00:05:14.651Z"
   },
   {
    "duration": 37,
    "start_time": "2024-08-05T00:06:20.236Z"
   },
   {
    "duration": 33,
    "start_time": "2024-08-05T00:06:52.499Z"
   },
   {
    "duration": 34,
    "start_time": "2024-08-05T00:07:14.149Z"
   },
   {
    "duration": 29,
    "start_time": "2024-08-05T00:08:08.117Z"
   },
   {
    "duration": 198,
    "start_time": "2024-08-05T00:08:13.338Z"
   },
   {
    "duration": 166,
    "start_time": "2024-08-05T00:08:20.371Z"
   },
   {
    "duration": 139,
    "start_time": "2024-08-05T00:13:11.716Z"
   },
   {
    "duration": 213,
    "start_time": "2024-08-05T00:13:18.822Z"
   },
   {
    "duration": 30,
    "start_time": "2024-08-05T00:13:33.686Z"
   },
   {
    "duration": 28,
    "start_time": "2024-08-05T00:15:20.674Z"
   },
   {
    "duration": 3983,
    "start_time": "2024-08-05T00:15:55.584Z"
   },
   {
    "duration": 4400,
    "start_time": "2024-08-05T00:17:01.663Z"
   },
   {
    "duration": 125,
    "start_time": "2024-08-05T00:17:40.963Z"
   },
   {
    "duration": 72,
    "start_time": "2024-08-05T00:17:45.376Z"
   },
   {
    "duration": 2352,
    "start_time": "2024-08-05T00:18:12.629Z"
   },
   {
    "duration": 2414,
    "start_time": "2024-08-05T00:18:27.005Z"
   },
   {
    "duration": 2348,
    "start_time": "2024-08-05T00:19:02.597Z"
   },
   {
    "duration": 6021,
    "start_time": "2024-08-05T00:21:02.428Z"
   },
   {
    "duration": 2413,
    "start_time": "2024-08-05T00:21:08.452Z"
   },
   {
    "duration": 8,
    "start_time": "2024-08-05T00:21:10.869Z"
   },
   {
    "duration": 1500,
    "start_time": "2024-08-05T00:21:10.881Z"
   },
   {
    "duration": 83,
    "start_time": "2024-08-05T00:21:12.384Z"
   },
   {
    "duration": 368,
    "start_time": "2024-08-05T00:21:12.471Z"
   },
   {
    "duration": 96,
    "start_time": "2024-08-05T00:21:12.842Z"
   },
   {
    "duration": 11,
    "start_time": "2024-08-05T00:21:12.941Z"
   },
   {
    "duration": 8,
    "start_time": "2024-08-05T00:21:12.956Z"
   },
   {
    "duration": 85,
    "start_time": "2024-08-05T00:21:12.970Z"
   },
   {
    "duration": 624,
    "start_time": "2024-08-05T00:21:13.058Z"
   },
   {
    "duration": 0,
    "start_time": "2024-08-05T00:21:13.686Z"
   },
   {
    "duration": 0,
    "start_time": "2024-08-05T00:21:13.689Z"
   },
   {
    "duration": 0,
    "start_time": "2024-08-05T00:21:13.692Z"
   },
   {
    "duration": 0,
    "start_time": "2024-08-05T00:21:13.694Z"
   },
   {
    "duration": 0,
    "start_time": "2024-08-05T00:21:13.697Z"
   },
   {
    "duration": 0,
    "start_time": "2024-08-05T00:21:13.699Z"
   },
   {
    "duration": 0,
    "start_time": "2024-08-05T00:21:13.702Z"
   },
   {
    "duration": 0,
    "start_time": "2024-08-05T00:21:13.704Z"
   },
   {
    "duration": 0,
    "start_time": "2024-08-05T00:21:13.705Z"
   },
   {
    "duration": 0,
    "start_time": "2024-08-05T00:21:13.706Z"
   },
   {
    "duration": 0,
    "start_time": "2024-08-05T00:21:13.707Z"
   },
   {
    "duration": 0,
    "start_time": "2024-08-05T00:21:13.734Z"
   },
   {
    "duration": 0,
    "start_time": "2024-08-05T00:21:13.737Z"
   },
   {
    "duration": 0,
    "start_time": "2024-08-05T00:21:13.742Z"
   },
   {
    "duration": 0,
    "start_time": "2024-08-05T00:21:13.744Z"
   },
   {
    "duration": 35,
    "start_time": "2024-08-05T00:25:31.412Z"
   },
   {
    "duration": 48,
    "start_time": "2024-08-05T00:26:43.626Z"
   },
   {
    "duration": 75,
    "start_time": "2024-08-05T00:26:52.085Z"
   },
   {
    "duration": 947,
    "start_time": "2024-08-05T00:27:43.631Z"
   },
   {
    "duration": 93,
    "start_time": "2024-08-05T00:28:21.021Z"
   },
   {
    "duration": 85,
    "start_time": "2024-08-05T00:28:29.648Z"
   },
   {
    "duration": 23,
    "start_time": "2024-08-05T00:28:36.646Z"
   },
   {
    "duration": 52,
    "start_time": "2024-08-05T00:28:47.847Z"
   },
   {
    "duration": 89,
    "start_time": "2024-08-05T00:34:35.876Z"
   },
   {
    "duration": 191,
    "start_time": "2024-08-05T00:40:05.042Z"
   },
   {
    "duration": 282,
    "start_time": "2024-08-05T00:40:43.597Z"
   },
   {
    "duration": 3873,
    "start_time": "2024-08-05T00:57:01.361Z"
   },
   {
    "duration": 2386,
    "start_time": "2024-08-05T00:57:05.238Z"
   },
   {
    "duration": 5,
    "start_time": "2024-08-05T00:57:07.628Z"
   },
   {
    "duration": 1634,
    "start_time": "2024-08-05T00:57:07.636Z"
   },
   {
    "duration": 94,
    "start_time": "2024-08-05T00:57:09.276Z"
   },
   {
    "duration": 413,
    "start_time": "2024-08-05T00:57:09.373Z"
   },
   {
    "duration": 108,
    "start_time": "2024-08-05T00:57:09.790Z"
   },
   {
    "duration": 33,
    "start_time": "2024-08-05T00:57:09.902Z"
   },
   {
    "duration": 8,
    "start_time": "2024-08-05T00:57:09.937Z"
   },
   {
    "duration": 87,
    "start_time": "2024-08-05T00:57:09.948Z"
   },
   {
    "duration": 638,
    "start_time": "2024-08-05T00:57:10.038Z"
   },
   {
    "duration": 0,
    "start_time": "2024-08-05T00:57:10.680Z"
   },
   {
    "duration": 0,
    "start_time": "2024-08-05T00:57:10.683Z"
   },
   {
    "duration": 0,
    "start_time": "2024-08-05T00:57:10.685Z"
   },
   {
    "duration": 0,
    "start_time": "2024-08-05T00:57:10.687Z"
   },
   {
    "duration": 0,
    "start_time": "2024-08-05T00:57:10.689Z"
   },
   {
    "duration": 1,
    "start_time": "2024-08-05T00:57:10.691Z"
   },
   {
    "duration": 0,
    "start_time": "2024-08-05T00:57:10.693Z"
   },
   {
    "duration": 0,
    "start_time": "2024-08-05T00:57:10.695Z"
   },
   {
    "duration": 0,
    "start_time": "2024-08-05T00:57:10.733Z"
   },
   {
    "duration": 0,
    "start_time": "2024-08-05T00:57:10.735Z"
   },
   {
    "duration": 0,
    "start_time": "2024-08-05T00:57:10.737Z"
   },
   {
    "duration": 0,
    "start_time": "2024-08-05T00:57:10.739Z"
   },
   {
    "duration": 0,
    "start_time": "2024-08-05T00:57:10.741Z"
   },
   {
    "duration": 0,
    "start_time": "2024-08-05T00:57:10.743Z"
   },
   {
    "duration": 1,
    "start_time": "2024-08-05T00:57:10.745Z"
   },
   {
    "duration": 0,
    "start_time": "2024-08-05T00:57:10.748Z"
   }
  ],
  "hide_input": false,
  "kernelspec": {
   "display_name": "Python 3 (ipykernel)",
   "language": "python",
   "name": "python3"
  },
  "language_info": {
   "codemirror_mode": {
    "name": "ipython",
    "version": 3
   },
   "file_extension": ".py",
   "mimetype": "text/x-python",
   "name": "python",
   "nbconvert_exporter": "python",
   "pygments_lexer": "ipython3",
   "version": "3.12.4"
  },
  "nbTranslate": {
   "displayLangs": [
    "*"
   ],
   "hotkey": "alt-t",
   "langInMainMenu": true,
   "sourceLang": "en",
   "targetLang": "fr",
   "useGoogleTranslate": true
  },
  "toc": {
   "base_numbering": 1,
   "nav_menu": {},
   "number_sections": true,
   "sideBar": true,
   "skip_h1_title": true,
   "title_cell": "Table of Contents",
   "title_sidebar": "Contents",
   "toc_cell": false,
   "toc_position": {
    "height": "calc(100% - 180px)",
    "left": "10px",
    "top": "150px",
    "width": "326.25px"
   },
   "toc_section_display": true,
   "toc_window_display": true
  },
  "varInspector": {
   "cols": {
    "lenName": 16,
    "lenType": 16,
    "lenVar": 40
   },
   "kernels_config": {
    "python": {
     "delete_cmd_postfix": "",
     "delete_cmd_prefix": "del ",
     "library": "var_list.py",
     "varRefreshCmd": "print(var_dic_list())"
    },
    "r": {
     "delete_cmd_postfix": ") ",
     "delete_cmd_prefix": "rm(",
     "library": "var_list.r",
     "varRefreshCmd": "cat(var_dic_list()) "
    }
   },
   "types_to_exclude": [
    "module",
    "function",
    "builtin_function_or_method",
    "instance",
    "_Feature"
   ],
   "window_display": false
  }
 },
 "nbformat": 4,
 "nbformat_minor": 2
}
