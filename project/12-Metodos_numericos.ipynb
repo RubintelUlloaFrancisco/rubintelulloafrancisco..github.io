{
 "cells": [
  {
   "cell_type": "markdown",
   "metadata": {},
   "source": [
    "¡Hola!\n",
    "\n",
    "Mi nombre es Tonatiuh Cruz. Me complace revisar tu proyecto hoy.\n",
    "\n",
    "Al identificar cualquier error inicialmente, simplemente los destacaré. Te animo a localizar y abordar los problemas de forma independiente como parte de tu preparación para un rol como data-scientist. En un entorno profesional, tu líder de equipo seguiría un enfoque similar. Si encuentras la tarea desafiante, proporcionaré una pista más específica en la próxima iteración.\n",
    "\n",
    "Encontrarás mis comentarios a continuación - **por favor no los muevas, modifiques o elimines**.\n",
    "\n",
    "Puedes encontrar mis comentarios en cajas verdes, amarillas o rojas como esta:\n",
    "\n",
    "<div class=\"alert alert-block alert-success\">\n",
    "<b>Comentario del revisor</b> <a class=\"tocSkip\"></a>\n",
    "\n",
    "Éxito. Todo está hecho correctamente.\n",
    "</div>\n",
    "\n",
    "<div class=\"alert alert-block alert-warning\">\n",
    "<b>Comentario del revisor</b> <a class=\"tocSkip\"></a>\n",
    "\n",
    "Observaciones. Algunas recomendaciones.\n",
    "</div>\n",
    "\n",
    "<div class=\"alert alert-block alert-danger\">\n",
    "<b>Comentario del revisor</b> <a class=\"tocSkip\"></a>\n",
    "\n",
    "Necesita corrección. El bloque requiere algunas correcciones. El trabajo no puede ser aceptado con comentarios en rojo.\n",
    "</div>\n",
    "\n",
    "Puedes responderme utilizando esto:\n",
    "\n",
    "<div class=\"alert alert-block alert-info\">\n",
    "<b>Respuesta del estudiante.</b> <a class=\"tocSkip\"></a>\n",
    "</div>"
   ]
  },
  {
   "cell_type": "markdown",
   "metadata": {},
   "source": [
    "<div class=\"alert alert-block alert-warning\">\n",
    "<b>Resumen de la revisión 1</b> <a class=\"tocSkip\"></a>\n",
    "\n",
    "Es un trabajo excelente! Solo te dejé dos recomendaciones en la preparación de los datos para reducir posibles sesgos e incrementar la eficiencia de los modelos al eliminar variables que no aportan poder explicativo. Quedo pendiente de tus dudas y comentarios. Saludos.\n",
    "</div>"
   ]
  },
  {
   "cell_type": "markdown",
   "metadata": {},
   "source": [
    "<div class=\"alert alert-block alert-success\">\n",
    "<b>Resumen de la revisión 2</b> <a class=\"tocSkip\"></a>\n",
    "\n",
    "Muy buen trabajo! Atendiste correctamente los comentarios. Solo te hice una última sugerencia en la parte de preparación de información, lo cual puedes comenzar a implementar en tus siguientes proyectos. Sigue esforzándote y con el excelente trabajo!\n",
    "</div>"
   ]
  },
  {
   "cell_type": "markdown",
   "metadata": {
    "toc": true
   },
   "source": [
    "<h1>Table of Contents<span class=\"tocSkip\"></span></h1>\n",
    "<div class=\"toc\"><ul class=\"toc-item\"><li><span><a href=\"#-🔍-Objetivos-del-Proyecto\" data-toc-modified-id=\"-🔍-Objetivos-del-Proyecto-1\"><span class=\"toc-item-num\">1&nbsp;&nbsp;</span> 🔍 Objetivos del Proyecto</a></span></li><li><span><a href=\"#-🛠️-Instrucciones-del-Proyecto\" data-toc-modified-id=\"-🛠️-Instrucciones-del-Proyecto-2\"><span class=\"toc-item-num\">2&nbsp;&nbsp;</span> 🛠️ Instrucciones del Proyecto</a></span></li><li><span><a href=\"#-📊-Descripción-de-los-Datos\" data-toc-modified-id=\"-📊-Descripción-de-los-Datos-3\"><span class=\"toc-item-num\">3&nbsp;&nbsp;</span> 📊 Descripción de los Datos</a></span></li><li><span><a href=\"#-📋-Evaluación-del-Proyecto\" data-toc-modified-id=\"-📋-Evaluación-del-Proyecto-4\"><span class=\"toc-item-num\">4&nbsp;&nbsp;</span> 📋 Evaluación del Proyecto</a></span></li></ul></div>"
   ]
  },
  {
   "cell_type": "markdown",
   "metadata": {},
   "source": [
    "El servicio de venta de autos usados Rusty Bargain está desarrollando una aplicación para atraer nuevos clientes. Gracias a esa app, puedes averiguar rápidamente el valor de mercado de tu coche. Tienes acceso al historial: especificaciones técnicas, versiones de equipamiento y precios. Tienes que crear un modelo que determine el valor de mercado.\n",
    "A Rusty Bargain le interesa:\n",
    "- la calidad de la predicción;\n",
    "- la velocidad de la predicción;\n",
    "- el tiempo requerido para el entrenamiento"
   ]
  },
  {
   "cell_type": "markdown",
   "metadata": {},
   "source": [
    "<h1 style=\"color:#1E90FF; text-align:center;\">1. 🚗📈 <b>Proyecto Rusty Bargain: Predicción del Valor de Coches de Segunda Mano</b> 📈🚗</h1>\n",
    "\n",
    "<p style=\"font-size:16px; color:#333;\">\n",
    "    Rusty Bargain está desarrollando una aplicación para atraer a nuevos clientes, permitiendo a los usuarios averiguar rápidamente el valor de mercado de su coche. El proyecto consiste en crear un modelo de regresión que determine el valor de mercado de los coches de segunda mano basándose en diversas características.\n",
    "</p>\n",
    "\n",
    "<h2 style=\"color:#1E90FF;\"> 🔍 Objetivos del Proyecto</h2>\n",
    "<ul style=\"font-size:16px; color:#333; margin-left:20px;\">\n",
    "  <li>📊 <b>Calidad de la Predicción:</b> Desarrollar un modelo preciso que estime el valor de mercado de un coche.</li>\n",
    "  <li>⚡ <b>Velocidad de la Predicción:</b> Asegurar que el modelo realice predicciones de manera eficiente.</li>\n",
    "  <li>⏱️ <b>Tiempo de Entrenamiento:</b> Optimizar el tiempo requerido para entrenar el modelo.</li>\n",
    "</ul>\n",
    "\n",
    "<h2 style=\"color:#1E90FF;\"> 🛠️ Instrucciones del Proyecto</h2>\n",
    "<ol style=\"font-size:16px; color:#333; margin-left:20px;\">\n",
    "  <li>📥 <b>Descarga y Exploración de Datos:</b> Descargar y examinar el dataset proporcionado.</li>\n",
    "  <li>🤖 <b>Entrenamiento de Modelos:</b> Entrenar al menos dos modelos diferentes (ej. Regresión Lineal, Bosque Aleatorio, LightGBM) con diversos hiperparámetros.</li>\n",
    "  <li>📈 <b>Análisis de Rendimiento:</b> Comparar los modelos en términos de precisión (usando RMSE) y eficiencia.</li>\n",
    "  <li>📝 <b>Documentación:</b> Mantener una buena documentación y estructuración del código para facilitar la revisión y mantenimiento.</li>\n",
    "</ol>\n",
    "\n",
    "<h2 style=\"color:#1E90FF;\"> 📊 Descripción de los Datos</h2>\n",
    "<p style=\"font-size:16px; color:#333;\">\n",
    "    El dataset <code>car_data.csv</code> contiene información detallada sobre coches de segunda mano, incluyendo características técnicas, historial y precios. A continuación, se describen las principales características:\n",
    "</p>\n",
    "<ul style=\"font-size:16px; color:#333; margin-left:20px;\">\n",
    "  <li><b>DateCrawled:</b> Fecha en la que se descargó el perfil de la base de datos.</li>\n",
    "  <li><b>VehicleType:</b> Tipo de carrocería del vehículo.</li>\n",
    "  <li><b>RegistrationYear:</b> Año de matriculación del vehículo.</li>\n",
    "  <li><b>Gearbox:</b> Tipo de caja de cambios.</li>\n",
    "  <li><b>Power:</b> Potencia (CV).</li>\n",
    "  <li><b>Model:</b> Modelo del vehículo.</li>\n",
    "  <li><b>Mileage:</b> Kilometraje (en km).</li>\n",
    "  <li><b>RegistrationMonth:</b> Mes de matriculación del vehículo.</li>\n",
    "  <li><b>FuelType:</b> Tipo de combustible.</li>\n",
    "  <li><b>Brand:</b> Marca del vehículo.</li>\n",
    "  <li><b>NotRepaired:</b> Indica si el vehículo ha sido reparado.</li>\n",
    "  <li><b>DateCreated:</b> Fecha de creación del perfil.</li>\n",
    "  <li><b>NumberOfPictures:</b> Número de fotos del vehículo.</li>\n",
    "  <li><b>PostalCode:</b> Código postal del propietario del perfil.</li>\n",
    "  <li><b>LastSeen:</b> Fecha de la última vez que el usuario estuvo activo.</li>\n",
    "  <li><b>Price:</b> Precio del vehículo en euros (Objetivo).</li>\n",
    "</ul>\n",
    "\n",
    "<h2 style=\"color:#1E90FF;\"> 📋 Evaluación del Proyecto</h2>\n",
    "<p style=\"font-size:16px; color:#333;\">\n",
    "    El proyecto será evaluado en base a los siguientes criterios:\n",
    "</p>\n",
    "<ul style=\"font-size:16px; color:#333; margin-left:20px;\">\n",
    "  <li>✅ <b>Seguimiento de Instrucciones:</b> Adherencia a las instrucciones proporcionadas.</li>\n",
    "  <li>✅ <b>Preparación de Datos:</b> Calidad y limpieza en la preparación de los datos.</li>\n",
    "  <li>✅ <b>Modelos y Hiperparámetros:</b> Diversidad y optimización de los modelos seleccionados.</li>\n",
    "  <li>✅ <b>Evitar Duplicación de Código:</b> Código limpio y reutilizable.</li>\n",
    "  <li>✅ <b>Hallazgos:</b> Insights obtenidos a partir del análisis de los modelos.</li>\n",
    "  <li>✅ <b>Estructura del Proyecto:</b> Organización y coherencia en la estructura del notebook.</li>\n",
    "  <li>✅ <b>Orden del Código:</b> Código bien ordenado y comentado.</li>\n",
    "</ul>\n"
   ]
  },
  {
   "cell_type": "code",
   "execution_count": 1,
   "metadata": {},
   "outputs": [
    {
     "name": "stdout",
     "output_type": "stream",
     "text": [
      "INFO - Notebook iniciado y configuración de log establecida.\n"
     ]
    }
   ],
   "source": [
    "# 🛠️ Configuración Inicial para Rastrear Errores y Log\n",
    "\n",
    "import pandas as pd\n",
    "import sys\n",
    "import logging\n",
    "from IPython.core.interactiveshell import InteractiveShell\n",
    "\n",
    "# Inicializar una variable global para rastrear errores\n",
    "error_occurred = False\n",
    "\n",
    "# Configurar el logger\n",
    "log_filename = \"sprint_12.log\"\n",
    "logger = logging.getLogger()\n",
    "logger.setLevel(logging.INFO)\n",
    "\n",
    "# Crear manejador para archivo de log\n",
    "file_handler = logging.FileHandler(log_filename)\n",
    "file_handler.setLevel(logging.INFO)\n",
    "file_formatter = logging.Formatter('%(asctime)s - %(levelname)s - %(message)s')\n",
    "file_handler.setFormatter(file_formatter)\n",
    "logger.addHandler(file_handler)\n",
    "\n",
    "# Crear manejador para consola\n",
    "console_handler = logging.StreamHandler(sys.stdout)\n",
    "console_handler.setLevel(logging.INFO)\n",
    "console_formatter = logging.Formatter('%(levelname)s - %(message)s')\n",
    "console_handler.setFormatter(console_formatter)\n",
    "logger.addHandler(console_handler)\n",
    "\n",
    "# Definir un manejador de excepciones personalizado\n",
    "def custom_exception_handler(shell, etype, evalue, tb, tb_offset=None):\n",
    "    global error_occurred\n",
    "    error_occurred = True\n",
    "    logger.error(\"Se ha producido un error\", exc_info=(etype, evalue, tb))\n",
    "\n",
    "# Establecer el manejador de excepciones personalizado\n",
    "InteractiveShell.showtraceback = custom_exception_handler\n",
    "\n",
    "# Configuración de visualización para mejorar la revisión de DataFrames en pandas\n",
    "pd.set_option('display.max_columns', None)\n",
    "pd.set_option('display.expand_frame_repr', False)\n",
    "pd.set_option('display.max_rows', None)\n",
    "pd.set_option('display.max_colwidth', None)\n",
    "\n",
    "# Registrar el inicio del notebook\n",
    "logger.info(\"Notebook iniciado y configuración de log establecida.\")\n"
   ]
  },
  {
   "cell_type": "markdown",
   "metadata": {},
   "source": [
    "<div class=\"alert alert-block alert-success\">\n",
    "<b>Comentario del revisor</b> <a class=\"tocSkip\"></a>\n",
    "\n",
    "Excelente configuración inicial! El debugging es mucho más sencillo y los errores son más manejables.\n",
    "</div>"
   ]
  },
  {
   "cell_type": "markdown",
   "metadata": {},
   "source": [
    "<h1 style=\"color:#1E90FF; text-align:center;\">3. 📊🔧 <b>Preparación de Datos - Normalización y Limpieza</b> 🔧📊</h1>\n",
    "\n",
    "<p style=\"font-size:16px; color:#333;\">\n",
    "    En esta etapa, cargamos el conjunto de datos y realizamos una serie de pasos para limpiar y normalizar los datos. Este proceso es crucial para asegurar que la información esté libre de inconsistencias y sea adecuada para el entrenamiento del modelo.\n",
    "</p>\n",
    "\n",
    "<ul style=\"font-size:16px; color:#333; margin-left:20px;\">\n",
    "  <li><b>📂 3.1 Carga de Datos:</b> Cargamos el conjunto de datos desde una URL externa.</li>\n",
    "  <li><b>🧹 3.2 Limpieza de Valores Nulos:</b> Procesamos los valores faltantes en columnas como <code>VehicleType</code> y <code>NotRepaired</code>.</li>\n",
    "  <li><b>📅 3.3 Formateo de Fechas:</b> Aseguramos que las columnas de fecha como <code>DateCrawled</code> y <code>LastSeen</code> estén correctamente formateadas para incluir horas, minutos y segundos.</li>\n",
    "  <li><b>⚖️ 3.4 Normalización de Datos:</b> Normalizamos las columnas numéricas (<code>Price</code>, <code>Power</code>, <code>Mileage</code>) usando <code>StandardScaler</code> para garantizar que todas tengan la misma escala.</li>\n",
    "  <li><b>💾 3.5 Guardado de Datos:</b> Finalmente, los datos procesados se guardan en un archivo <code>sprint12.csv</code>.</li>\n",
    "</ul>\n",
    "\n",
    "<div style=\"background-color:#DCEEFF; border-left:6px solid #1E90FF; padding:15px; font-size:16px; color:#003366; border-radius:8px;\">\n",
    "    📂 <b>Objetivo:</b> Asegurar que los datos estén limpios, normalizados y listos para su uso en la etapa de entrenamiento del modelo.\n",
    "</div>"
   ]
  },
  {
   "cell_type": "code",
   "execution_count": 2,
   "metadata": {
    "scrolled": true
   },
   "outputs": [
    {
     "name": "stdout",
     "output_type": "stream",
     "text": [
      "      Price  VehicleType  RegistrationYear Gearbox     Power        Model  Mileage  RegistrationMonth  FuelType       Brand  NotRepaired\n",
      "0 -0.414953  desconocido              1993  manual -1.418919         golf      0.0                  0    petrol  volkswagen  desconocido\n",
      "1  2.224299        coupe              2011  manual  1.148649  desconocido     -1.0                  5  gasoline        audi          yes\n",
      "2  1.327103          suv              2004    auto  0.783784        grand     -1.0                  8  gasoline        jeep  desconocido\n",
      "3 -0.224299        small              2001  manual -0.405405         golf      0.0                  6    petrol  volkswagen           no\n",
      "4  0.168224        small              2008  manual -0.486486        fabia     -2.4                  7  gasoline       skoda           no\n"
     ]
    }
   ],
   "source": [
    "# 📊🔧 Preparación de Datos - Normalización y Limpieza\n",
    "\n",
    "import pandas as pd\n",
    "import numpy as np\n",
    "import requests\n",
    "from io import StringIO\n",
    "from sklearn.preprocessing import RobustScaler\n",
    "from sklearn.impute import SimpleImputer\n",
    "import joblib\n",
    "\n",
    "# Función para descargar el archivo desde la URL\n",
    "def descargar_archivo(url):\n",
    "    response = requests.get(url)\n",
    "    if response.status_code == 200:\n",
    "        data = StringIO(response.text)  # Almacenar el contenido en un buffer\n",
    "        df = pd.read_csv(data)\n",
    "        return df\n",
    "    else:\n",
    "        raise Exception(f\"Error al descargar el archivo. Código de estado: {response.status_code}\")\n",
    "\n",
    "# Función para preparar los datos\n",
    "def preparar_datos():\n",
    "    try:\n",
    "        # Descargar archivo desde la URL\n",
    "        url = 'https://practicum-content.s3.us-west-1.amazonaws.com/datasets/car_data.csv'\n",
    "        df = descargar_archivo(url)\n",
    "        \n",
    "        # 1. Manejo de valores nulos: Rellenar con \"desconocido\" en las columnas categóricas\n",
    "        columnas_categoricas = ['VehicleType', 'Gearbox', 'Model', 'FuelType', 'NotRepaired']\n",
    "        imputer = SimpleImputer(strategy='constant', fill_value='desconocido')\n",
    "        df[columnas_categoricas] = imputer.fit_transform(df[columnas_categoricas])\n",
    "        \n",
    "        # 2. Eliminar duplicados\n",
    "        df.drop_duplicates(inplace=True)\n",
    "        \n",
    "        # 3. Corregir valores inconsistentes en 'RegistrationYear'\n",
    "        df = df[(df['RegistrationYear'] >= 1886) & (df['RegistrationYear'] <= 2024)]\n",
    "        \n",
    "        # 4. Eliminar columnas irrelevantes\n",
    "        columnas_eliminar = ['NumberOfPictures', 'PostalCode', 'DateCrawled', 'LastSeen', 'DateCreated']\n",
    "        df.drop(columns=columnas_eliminar, axis=1, inplace=True)\n",
    "        \n",
    "        # 5. Manejar outliers en columnas numéricas (recortar entre el percentil 5 y 95)\n",
    "        columnas_numericas = ['Price', 'Power', 'Mileage']\n",
    "        for columna in columnas_numericas:\n",
    "            q_low = df[columna].quantile(0.05)\n",
    "            q_high = df[columna].quantile(0.95)\n",
    "            df[columna] = np.clip(df[columna], q_low, q_high)\n",
    "        \n",
    "        # 6. Normalizar las columnas numéricas usando RobustScaler\n",
    "        scaler = RobustScaler()\n",
    "        df[columnas_numericas] = scaler.fit_transform(df[columnas_numericas])\n",
    "        \n",
    "        # 7. Guardar los datos procesados y el modelo del escalador\n",
    "        df.to_csv('sprint12.csv', index=False)\n",
    "        joblib.dump(scaler, 'scaler_model.pkl')\n",
    "        \n",
    "        return df\n",
    "\n",
    "    except Exception as e:\n",
    "        print(f\"Error durante la preparación de datos: {e}\")\n",
    "\n",
    "# Ejecutar la función de preparación de datos\n",
    "df_preparado = preparar_datos()\n",
    "print(df_preparado.head())\n"
   ]
  },
  {
   "cell_type": "markdown",
   "metadata": {},
   "source": [
    "<div class=\"alert alert-block alert-warning\">\n",
    "<b>Comentario del revisor</b> <a class=\"tocSkip\"></a>\n",
    "\n",
    "Excelente trabajo tanto con las funciones de procesamiento como en la presentación del código! Mi única sugerencia sobre la preparación de la información es la forma en la que estás manejando los valores nulos de las columnas categóricas. Dependiendo de la situación, llenar los valores nulos con la categoría más frecuente podría llevar a sesgos como el sobreajuste. Debido a esto, mi recomendación es que rellenes los valores nulos con una nueva categoría a la que puedes nombrar \"desconocido\", de esta forma evitas introducir sesgos y además no eliminas las filas que contienen NA's y que podrían contener información muy valiosa para el entrenamiento del modelo. Por último, el formateo de fechas que realizas es muy bueno; sin embargo, hay que tener en cuenta la naturaleza de dichas fechas. En nuestro caso, las 3 variables de fechas no aportan poder explicativo al modelo, ya que son variables que se usan para gestionar dentro de una base de datos (fecha de descarga de los datos, fecha de creación del registro), debido a esto, recomiendo eliminarlas junto con las demás variables que no aportan al modelo. Las fechas que sí nos sirven son las del año de registro del auto (ya que esto determina el perioro de vida del vehículo), lo cual está contenido tanto en registration month y registration year.\n",
    "</div>"
   ]
  },
  {
   "cell_type": "markdown",
   "metadata": {},
   "source": [
    "<div class=\"alert alert-block alert-info\">\n",
    "<b>Respuesta del estudiante.</b> <a class=\"tocSkip\"></a>\n",
    "\n",
    "Agradezco profundamente las valiosas recomendaciones que me proporcionaste para mejorar el procesamiento de los datos. Tomé en cuenta los siguientes puntos y realicé las correcciones correspondientes en la celda de código:\n",
    "\n",
    "1. **Manejo de valores nulos en columnas categóricas**:\n",
    "   Siguiendo tu sugerencia, en lugar de rellenar los valores nulos con la categoría más frecuente (lo cual podría introducir sesgos o sobreajustes en el modelo), opté por crear una nueva categoría denominada \"desconocido\". Este cambio me permitió conservar la integridad de las filas con valores nulos sin introducir sesgos en las predicciones futuras. Además, evitó que se perdiera información valiosa que esas filas podrían contener.\n",
    "\n",
    "2. **Eliminación de columnas de fechas irrelevantes**:\n",
    "   También apliqué tu recomendación sobre las columnas de fechas. Como las columnas 'DateCrawled', 'LastSeen', y 'DateCreated' no aportan valor explicativo al modelo, las eliminé para evitar que interfieran con la precisión del modelo. Solo mantuve las fechas relevantes, como 'RegistrationYear' y 'RegistrationMonth', que influyen en el periodo de vida del vehículo y, por ende, en la calidad del análisis.\n",
    "\n",
    "Estas modificaciones han optimizado significativamente el preprocesamiento de los datos, asegurando que el modelo se mantenga libre de sesgos y se enfoque en las características más relevantes. ¡Gracias por tus sabias recomendaciones!\n",
    "\n",
    "</div>\n"
   ]
  },
  {
   "cell_type": "markdown",
   "metadata": {},
   "source": [
    "<div class=\"alert alert-block alert-success\">\n",
    "<b>Comentario del revisor</b> <a class=\"tocSkip\"></a>\n",
    "\n",
    "Muy bien atendiendo las sugerencias sobre la preparación de los datos! Mi último comentario es que en una versión futura también verifiques que el resto de variables no contienen datos inválidos. En el dataset que estamos manejando, antes de estandarizar los datos la variable de power tiene observaciones con valor 0, lo cual es imposible debido a que el motor de un auto no puede tener potencia 0, por lo que una exploración inicial de estadística descriptiva podría ayudar a identificar estos valores inválidos.\n",
    "</div>"
   ]
  },
  {
   "cell_type": "markdown",
   "metadata": {},
   "source": [
    "<h1 style=\"color:#1E90FF; text-align:center;\">4. 🚀💻 <b>Entrenamiento y Comparación de Múltiples Modelos</b> 💻🚀</h1>\n",
    "\n",
    "<p style=\"font-size:16px; color:#333;\">\n",
    "    En esta sección, entrenamos varios modelos de regresión para predecir el precio de los autos de segunda mano utilizando diferentes algoritmos. Comparamos su rendimiento para identificar el modelo más preciso y eficiente. El proceso incluye:\n",
    "</p>\n",
    "\n",
    "<ul style=\"font-size:16px; color:#333; margin-left:20px;\">\n",
    "  <li><b>📂 4.1 Carga de Datos Normalizados:</b> Cargamos los datos desde el archivo <code>sprint12.csv</code>.</li>\n",
    "  <li><b>🧹 4.2 Preprocesamiento de Datos:</b> Aplicamos escalado a las variables numéricas y codificación <code>OneHotEncoder</code> a las variables categóricas.</li>\n",
    "  <li><b>🔄 4.3 División del Conjunto de Datos:</b> Dividimos los datos en entrenamiento y prueba (80% y 20% respectivamente).</li>\n",
    "  <li><b>⚙️ 4.4 Entrenamiento de Modelos:</b> Entrenamos tres modelos diferentes (Regresión Lineal, Bosque Aleatorio, LightGBM) utilizando <code>GridSearchCV</code> para optimizar sus hiperparámetros.</li>\n",
    "  <li><b>📊 4.5 Evaluación del Modelo:</b> Calculamos las métricas de rendimiento (RMSE, MAE y R²) para el conjunto de prueba.</li>\n",
    "  <li><b>💾 4.6 Guardado de Modelos Entrenados:</b> Guardamos los modelos entrenados en archivos <code>modelo_regresion_lineal.pkl</code>, <code>modelo_bosque_aleatorio.pkl</code> y <code>modelo_lightgbm.pkl</code>.</li>\n",
    "</ul>\n",
    "\n",
    "<div style=\"background-color:#DCEEFF; border-left:6px solid #1E90FF; padding:15px; font-size:16px; color:#003366; border-radius:8px;\">\n",
    "    📂 <b>Objetivo:</b> Desarrollar modelos precisos y eficientes que estimen el valor de mercado de un coche basado en sus características.\n",
    "</div>\n"
   ]
  },
  {
   "cell_type": "code",
   "execution_count": null,
   "metadata": {
    "scrolled": true
   },
   "outputs": [
    {
     "data": {
      "text/html": [
       "\n",
       "<style>\n",
       ".success-box {\n",
       "    background-color: #e6ffed;\n",
       "    border-left: 6px solid #28a745;\n",
       "    padding: 15px;\n",
       "    margin-bottom: 20px;\n",
       "    font-size: 16px;\n",
       "    border-radius: 8px;\n",
       "    color: #155724;\n",
       "}\n",
       ".error-box {\n",
       "    background-color: #ffe6e6;\n",
       "    border-left: 6px solid #d73a49;\n",
       "    padding: 15px;\n",
       "    margin-bottom: 20px;\n",
       "    font-size: 16px;\n",
       "    border-radius: 8px;\n",
       "    color: #721c24;\n",
       "}\n",
       ".info-box {\n",
       "    background-color: #f1f8ff;\n",
       "    border-left: 6px solid #0366d6;\n",
       "    padding: 15px;\n",
       "    margin-bottom: 20px;\n",
       "    font-size: 16px;\n",
       "    border-radius: 8px;\n",
       "    color: #004085;\n",
       "}\n",
       "</style>\n"
      ],
      "text/plain": [
       "<IPython.core.display.HTML object>"
      ]
     },
     "metadata": {},
     "output_type": "display_data"
    },
    {
     "data": {
      "text/html": [
       "<div class='success-box'>✅ Datos cargados correctamente desde 'sprint12.csv'.</div>"
      ],
      "text/plain": [
       "<IPython.core.display.HTML object>"
      ]
     },
     "metadata": {},
     "output_type": "display_data"
    },
    {
     "data": {
      "text/html": [
       "<div class='success-box'>✅ Datos divididos correctamente. Tamaño del conjunto de entrenamiento: 283148 registros.</div>"
      ],
      "text/plain": [
       "<IPython.core.display.HTML object>"
      ]
     },
     "metadata": {},
     "output_type": "display_data"
    },
    {
     "data": {
      "text/html": [
       "<div class='info-box'>🔄 Entrenando Regresión Lineal con búsqueda de hiperparámetros...</div>"
      ],
      "text/plain": [
       "<IPython.core.display.HTML object>"
      ]
     },
     "metadata": {},
     "output_type": "display_data"
    },
    {
     "data": {
      "text/html": [
       "<div class='success-box'>💾 Modelo Regresión Lineal guardado.</div>"
      ],
      "text/plain": [
       "<IPython.core.display.HTML object>"
      ]
     },
     "metadata": {},
     "output_type": "display_data"
    },
    {
     "data": {
      "text/html": [
       "<div class='info-box'>🔄 Entrenando Bosque Aleatorio con búsqueda de hiperparámetros...</div>"
      ],
      "text/plain": [
       "<IPython.core.display.HTML object>"
      ]
     },
     "metadata": {},
     "output_type": "display_data"
    }
   ],
   "source": [
    "# 🚀💻 Entrenamiento y Comparación de Múltiples Modelos Optimizado\n",
    "\n",
    "import pandas as pd\n",
    "import numpy as np\n",
    "import time\n",
    "from sklearn.model_selection import train_test_split, RandomizedSearchCV\n",
    "from sklearn.preprocessing import StandardScaler, OneHotEncoder\n",
    "from sklearn.compose import ColumnTransformer\n",
    "from sklearn.pipeline import Pipeline\n",
    "from sklearn.metrics import mean_squared_error, mean_absolute_error, r2_score\n",
    "from sklearn.ensemble import RandomForestRegressor\n",
    "from sklearn.linear_model import LinearRegression\n",
    "import lightgbm as lgb\n",
    "import joblib\n",
    "from IPython.display import display, HTML\n",
    "import logging\n",
    "\n",
    "# Estilos CSS para mejorar la presentación\n",
    "estilos_css = \"\"\"\n",
    "<style>\n",
    ".success-box {\n",
    "    background-color: #e6ffed;\n",
    "    border-left: 6px solid #28a745;\n",
    "    padding: 15px;\n",
    "    margin-bottom: 20px;\n",
    "    font-size: 16px;\n",
    "    border-radius: 8px;\n",
    "    color: #155724;\n",
    "}\n",
    ".error-box {\n",
    "    background-color: #ffe6e6;\n",
    "    border-left: 6px solid #d73a49;\n",
    "    padding: 15px;\n",
    "    margin-bottom: 20px;\n",
    "    font-size: 16px;\n",
    "    border-radius: 8px;\n",
    "    color: #721c24;\n",
    "}\n",
    ".info-box {\n",
    "    background-color: #f1f8ff;\n",
    "    border-left: 6px solid #0366d6;\n",
    "    padding: 15px;\n",
    "    margin-bottom: 20px;\n",
    "    font-size: 16px;\n",
    "    border-radius: 8px;\n",
    "    color: #004085;\n",
    "}\n",
    "</style>\n",
    "\"\"\"\n",
    "display(HTML(estilos_css))\n",
    "\n",
    "# Configuración de logging\n",
    "logging.basicConfig(level=logging.INFO, format='%(asctime)s - %(levelname)s - %(message)s')\n",
    "\n",
    "def mostrar_mensaje(mensaje, tipo=\"info\"):\n",
    "    tipos = {\n",
    "        \"info\": \"info-box\",\n",
    "        \"success\": \"success-box\",\n",
    "        \"error\": \"error-box\"\n",
    "    }\n",
    "    display(HTML(f\"<div class='{tipos.get(tipo, 'info-box')}'>{mensaje}</div>\"))\n",
    "\n",
    "# 📂 4.1 Carga de Datos Normalizados\n",
    "nombre_archivo_datos = 'sprint12.csv'\n",
    "try:\n",
    "    df = pd.read_csv(nombre_archivo_datos)\n",
    "    mostrar_mensaje(f\"✅ Datos cargados correctamente desde '{nombre_archivo_datos}'.\", \"success\")\n",
    "except FileNotFoundError:\n",
    "    mostrar_mensaje(f\"❌ Error: El archivo '{nombre_archivo_datos}' no fue encontrado.\", \"error\")\n",
    "    raise\n",
    "except Exception as e:\n",
    "    mostrar_mensaje(f\"❌ Error al cargar los datos: {str(e)}\", \"error\")\n",
    "    raise\n",
    "\n",
    "# 🧹 4.2 Preprocesamiento de Datos\n",
    "X = df.drop('Price', axis=1)\n",
    "y = df['Price']\n",
    "\n",
    "categorical_features = X.select_dtypes(include=['object']).columns.tolist()\n",
    "numerical_features = X.select_dtypes(include=[np.number]).columns.tolist()\n",
    "\n",
    "# Definir preprocesamiento para variables categóricas y numéricas\n",
    "preprocessor = ColumnTransformer(\n",
    "    transformers=[\n",
    "        ('num', StandardScaler(), numerical_features),\n",
    "        ('cat', OneHotEncoder(handle_unknown='ignore'), categorical_features)\n",
    "    ]\n",
    ")\n",
    "\n",
    "# 🔄 4.3 División del Conjunto de Datos\n",
    "X_train, X_test, y_train, y_test = train_test_split(X, y, test_size=0.2, random_state=42)\n",
    "mostrar_mensaje(f\"✅ Datos divididos correctamente. Tamaño del conjunto de entrenamiento: {X_train.shape[0]} registros.\", \"success\")\n",
    "\n",
    "# ⚙️ 4.4 Entrenamiento de Modelos con Búsqueda de Hiperparámetros\n",
    "modelos = {\n",
    "    'Regresión Lineal': LinearRegression(),\n",
    "    'Bosque Aleatorio': RandomForestRegressor(random_state=42, n_jobs=-1),\n",
    "    'LightGBM': lgb.LGBMRegressor(random_state=42, n_jobs=-1)\n",
    "}\n",
    "\n",
    "# Diccionario con hiperparámetros para cada modelo\n",
    "param_grid = {\n",
    "    'Regresión Lineal': {},  # Sin hiperparámetros para la regresión lineal\n",
    "    'Bosque Aleatorio': {\n",
    "        'regressor__n_estimators': [100, 300, 500],\n",
    "        'regressor__max_depth': [10, 20, 30],\n",
    "        'regressor__min_samples_split': [2, 5, 10]\n",
    "    },\n",
    "    'LightGBM': {\n",
    "        'regressor__n_estimators': [100, 300, 500],\n",
    "        'regressor__learning_rate': [0.01, 0.1, 0.2],\n",
    "        'regressor__max_depth': [10, 20, 30]\n",
    "    }\n",
    "}\n",
    "\n",
    "resultados = []\n",
    "\n",
    "for nombre_modelo, modelo in modelos.items():\n",
    "    mostrar_mensaje(f\"🔄 Entrenando {nombre_modelo} con búsqueda de hiperparámetros...\", \"info\")\n",
    "    start_time = time.time()\n",
    "\n",
    "    pipeline = Pipeline(steps=[\n",
    "        ('preprocessor', preprocessor),\n",
    "        ('regressor', modelo)\n",
    "    ])\n",
    "\n",
    "    if nombre_modelo in param_grid and param_grid[nombre_modelo]:\n",
    "        search = RandomizedSearchCV(\n",
    "            estimator=pipeline,\n",
    "            param_distributions=param_grid[nombre_modelo],\n",
    "            n_iter=10,  # Número de combinaciones a probar\n",
    "            cv=3,  # Validación cruzada\n",
    "            n_jobs=-1,  # Usar todos los núcleos disponibles\n",
    "            scoring='neg_mean_squared_error',\n",
    "            random_state=42\n",
    "        )\n",
    "        search.fit(X_train, y_train)\n",
    "        best_model = search.best_estimator_\n",
    "        best_params = search.best_params_\n",
    "    else:\n",
    "        pipeline.fit(X_train, y_train)\n",
    "        best_model = pipeline\n",
    "        best_params = None\n",
    "\n",
    "    training_time = time.time() - start_time\n",
    "\n",
    "    # Predicción y evaluación\n",
    "    start_pred_time = time.time()\n",
    "    y_pred = best_model.predict(X_test)\n",
    "    pred_time = time.time() - start_pred_time\n",
    "\n",
    "    rmse = np.sqrt(mean_squared_error(y_test, y_pred))\n",
    "    mae = mean_absolute_error(y_test, y_pred)\n",
    "    r2 = r2_score(y_test, y_pred)\n",
    "\n",
    "    resultados.append({\n",
    "        'Modelo': nombre_modelo,\n",
    "        'RMSE': rmse,\n",
    "        'MAE': mae,\n",
    "        'R2': r2,\n",
    "        'Tiempo Entrenamiento (s)': training_time,\n",
    "        'Tiempo Predicción (s)': pred_time,\n",
    "        'Mejores Parámetros': best_params\n",
    "    })\n",
    "\n",
    "    # Guardar el modelo completo\n",
    "    joblib.dump(best_model, f'modelo_{nombre_modelo.lower().replace(\" \", \"_\")}.pkl')\n",
    "    mostrar_mensaje(f\"💾 Modelo {nombre_modelo} guardado.\", \"success\")\n",
    "\n",
    "# Mostrar resultados\n",
    "df_resultados = pd.DataFrame(resultados)\n",
    "df_resultados = df_resultados.sort_values(by='RMSE')\n",
    "display(df_resultados)\n",
    "\n",
    "# Identificar el mejor modelo según RMSE\n",
    "mejor_modelo_nombre = df_resultados.iloc[0]['Modelo']\n",
    "mostrar_mensaje(f\"🏆 El mejor modelo según RMSE es: {mejor_modelo_nombre}\", \"success\")\n"
   ]
  },
  {
   "cell_type": "markdown",
   "metadata": {},
   "source": [
    "<div class=\"alert alert-block alert-success\">\n",
    "<b>Comentario del revisor</b> <a class=\"tocSkip\"></a>\n",
    "\n",
    "Muy bien! La separación de la información y la codificación son adecuadas, mi única observación sería que puedes aprovechar la característica del modelo LightGBM de manejar variables categóricas de forma nativa con el parámetro cat_features para evitar usar la codificación en dicho modelo, pero en caso de que no exista una reducción notable del tiempo de entrenamiento, tener todos los modelos de forma estandarizada como lo tienes es mejor opción.\n",
    "</div>"
   ]
  },
  {
   "cell_type": "markdown",
   "metadata": {},
   "source": [
    "<div class=\"alert alert-block alert-info\">\n",
    "<b>Respuesta del estudiante.</b> <a class=\"tocSkip\"></a>\n",
    "\n",
    "Agradezco mucho tus comentarios positivos y la sugerencia sobre la gestión de las variables categóricas en el modelo LightGBM. Tienes toda la razón en que LightGBM permite manejar variables categóricas de forma nativa utilizando el parámetro `cat_features`, lo cual puede mejorar la eficiencia en algunos casos. Implementaré la configuración para que LightGBM maneje directamente las variables categóricas y realizaré una comparación del tiempo de entrenamiento para evaluar si hay una reducción significativa.\n",
    "\n",
    "De no observarse una mejora considerable en el rendimiento o el tiempo de entrenamiento, mantendré la estandarización del preprocesamiento para asegurar una estructura consistente entre todos los modelos. ¡Gracias de nuevo por tu observación, la implementaré en la próxima versión del código y realizaré las pruebas correspondientes!\n",
    "\n",
    "</div>\n"
   ]
  },
  {
   "cell_type": "markdown",
   "metadata": {},
   "source": [
    "<h1 style=\"color:#1E90FF; text-align:center;\">5. 🔍📈 <b>Análisis del Modelo Entrenado - Evaluación y Rendimiento</b> 📈🔍</h1>\n",
    "\n",
    "<p style=\"font-size:16px; color:#333; text-align:justify;\">\n",
    "    En esta etapa, evaluamos el modelo entrenado utilizando varias métricas y visualizaciones para analizar su rendimiento y comprender mejor sus predicciones. Los análisis incluyen:\n",
    "</p>\n",
    "\n",
    "<ul style=\"font-size:16px; color:#333; margin-left:20px;\">\n",
    "  <li><b>📂 5.1 Carga del Modelo Entrenado:</b> Cargamos el modelo guardado previamente (<code>modelo_lightgbm_pipeline.pkl</code>).</li>\n",
    "  <li><b>🧪 5.2 Evaluación en el Conjunto de Prueba:</b> Calculamos métricas de rendimiento como RMSE, MAE y R².</li>\n",
    "  <li><b>📉 5.3 Análisis de Residuos:</b> Visualizamos la distribución de los errores de predicción para evaluar el ajuste del modelo.</li>\n",
    "  <li><b>📈 5.4 Curva de Aprendizaje:</b> Estudiamos cómo varía el error de entrenamiento y validación en función del tamaño del conjunto de datos.</li>\n",
    "  <li><b>🔎 5.5 Importancia de las Características:</b> Analizamos qué variables tienen el mayor impacto en las predicciones del modelo.</li>\n",
    "  <li><b>💾 5.6 Carga de Datos Preprocesados:</b> Cargamos los datos preprocesados desde el archivo <code>sprint12.csv</code>.</li>\n",
    "</ul>\n",
    "\n",
    "<div style=\"background-color:#DCEEFF; border-left:6px solid #1E90FF; padding:15px; font-size:16px; color:#003366; border-radius:8px;\">\n",
    "    📂 <b>Objetivo:</b> Evaluar de manera exhaustiva el rendimiento de los modelos entrenados para seleccionar el más adecuado para la predicción del precio de coches de segunda mano.\n",
    "</div>"
   ]
  },
  {
   "cell_type": "code",
   "execution_count": null,
   "metadata": {},
   "outputs": [],
   "source": [
    "# 🔍📈 Análisis del Modelo Entrenado - Evaluación y Rendimiento\n",
    "\n",
    "import pandas as pd\n",
    "import numpy as np\n",
    "import matplotlib.pyplot as plt\n",
    "import seaborn as sns\n",
    "import joblib\n",
    "from sklearn.metrics import mean_absolute_error, r2_score, mean_squared_error, median_absolute_error\n",
    "from sklearn.model_selection import GridSearchCV, KFold, train_test_split\n",
    "from sklearn.ensemble import RandomForestRegressor\n",
    "from sklearn.linear_model import LinearRegression\n",
    "from xgboost import XGBRegressor\n",
    "import lightgbm as lgb\n",
    "from sklearn.pipeline import Pipeline\n",
    "from sklearn.preprocessing import StandardScaler, OneHotEncoder\n",
    "from sklearn.compose import ColumnTransformer\n",
    "from concurrent.futures import ThreadPoolExecutor\n",
    "from IPython.display import display, HTML, clear_output\n",
    "import ipywidgets as widgets\n",
    "import gc\n",
    "import time\n",
    "import sys\n",
    "from datetime import datetime\n",
    "\n",
    "# Función para mostrar mensajes en HTML\n",
    "def mostrar_mensaje(mensaje, tipo=\"info\"):\n",
    "    tipo_clase = {\n",
    "        \"info\": \"info-box\",\n",
    "        \"success\": \"success-box\",\n",
    "        \"error\": \"error-box\"\n",
    "    }\n",
    "    display(HTML(f\"<div class='{tipo_clase.get(tipo, 'info-box')}'>{mensaje}</div>\"))\n",
    "\n",
    "# Definir métricas de evaluación\n",
    "def calcular_metricas(y_real, y_pred, nombre_modelo):\n",
    "    rmse = np.sqrt(mean_squared_error(y_real, y_pred))\n",
    "    mae = mean_absolute_error(y_real, y_pred)\n",
    "    medae = median_absolute_error(y_real, y_pred)\n",
    "    r2 = r2_score(y_real, y_pred)\n",
    "    mostrar_mensaje(f\"📊 **{nombre_modelo}** - RMSE: {rmse:.4f}, MAE: {mae:.4f}, MedAE: {medae:.4f}, R²: {r2:.4f}\", \"success\")\n",
    "    return {'RMSE': rmse, 'MAE': mae, 'MedAE': medae, 'R²': r2}\n",
    "\n",
    "# Función para entrenar modelos con GridSearchCV y K-Fold\n",
    "def entrenar_modelos_con_cv(modelos, param_grid, X, y, kf):\n",
    "    resultados = []\n",
    "    for nombre_modelo, modelo in modelos.items():\n",
    "        mostrar_mensaje(f\"🔄 Entrenando {nombre_modelo} con validación cruzada...\", \"info\")\n",
    "        start_time = time.time()\n",
    "\n",
    "        # Definir pipeline con preprocesamiento y modelo\n",
    "        pipeline = Pipeline(steps=[\n",
    "            ('preprocessor', preprocessor),\n",
    "            ('regressor', modelo)\n",
    "        ])\n",
    "\n",
    "        # Ejecutar búsqueda de hiperparámetros con GridSearchCV\n",
    "        if nombre_modelo in param_grid:\n",
    "            search = GridSearchCV(\n",
    "                estimator=pipeline,\n",
    "                param_grid=param_grid[nombre_modelo],\n",
    "                cv=kf,\n",
    "                n_jobs=-1,\n",
    "                scoring='neg_mean_squared_error'\n",
    "            )\n",
    "            search.fit(X, y)\n",
    "            best_model = search.best_estimator_\n",
    "            best_params = search.best_params_\n",
    "        else:\n",
    "            best_model = pipeline.fit(X, y)\n",
    "            best_params = None\n",
    "\n",
    "        training_time = time.time() - start_time\n",
    "        mostrar_mensaje(f\"Evaluando {nombre_modelo}...\", \"info\")\n",
    "\n",
    "        # Guardar el modelo\n",
    "        joblib.dump(best_model, f'modelo_{nombre_modelo.lower().replace(\" \", \"_\")}.pkl')\n",
    "\n",
    "        # Extraer las métricas del mejor modelo\n",
    "        y_pred = best_model.predict(X)\n",
    "        metricas = calcular_metricas(y, y_pred, nombre_modelo)\n",
    "        metricas.update({'Modelo': nombre_modelo, 'Tiempo de Entrenamiento (s)': training_time, 'Mejores Parámetros': best_params})\n",
    "        resultados.append(metricas)\n",
    "\n",
    "    return pd.DataFrame(resultados).sort_values(by='RMSE')\n",
    "\n",
    "# Función principal para el flujo completo de entrenamiento y evaluación\n",
    "def main():\n",
    "    try:\n",
    "        # Cargar los datos\n",
    "        df = pd.read_csv('sprint12.csv')\n",
    "        X = df.drop('Price', axis=1)\n",
    "        y = df['Price']\n",
    "\n",
    "        # Definir preprocesamiento\n",
    "        categorical_features = X.select_dtypes(include=['object']).columns.tolist()\n",
    "        numerical_features = X.select_dtypes(include=[np.number]).columns.tolist()\n",
    "        preprocessor = ColumnTransformer(\n",
    "            transformers=[\n",
    "                ('num', StandardScaler(), numerical_features),\n",
    "                ('cat', OneHotEncoder(handle_unknown='ignore'), categorical_features)\n",
    "            ]\n",
    "        )\n",
    "\n",
    "        # Definir modelos\n",
    "        modelos = {\n",
    "            'Regresión Lineal': LinearRegression(),\n",
    "            'Bosque Aleatorio': RandomForestRegressor(random_state=42, n_jobs=-1),\n",
    "            'LightGBM': lgb.LGBMRegressor(random_state=42, n_jobs=-1),\n",
    "            'XGBoost': XGBRegressor(random_state=42, n_jobs=-1)\n",
    "        }\n",
    "\n",
    "        # Hiperparámetros para GridSearchCV\n",
    "        param_grid = {\n",
    "            'Bosque Aleatorio': {\n",
    "                'regressor__n_estimators': [100, 300],\n",
    "                'regressor__max_depth': [10, 20, 30],\n",
    "                'regressor__min_samples_split': [2, 5, 10]\n",
    "            },\n",
    "            'LightGBM': {\n",
    "                'regressor__n_estimators': [100, 300],\n",
    "                'regressor__learning_rate': [0.01, 0.1, 0.2],\n",
    "                'regressor__max_depth': [10, 20, 30]\n",
    "            },\n",
    "            'XGBoost': {\n",
    "                'regressor__n_estimators': [100, 300],\n",
    "                'regressor__learning_rate': [0.01, 0.1],\n",
    "                'regressor__max_depth': [10, 20]\n",
    "            }\n",
    "        }\n",
    "\n",
    "        # Configurar validación cruzada\n",
    "        kf = KFold(n_splits=5, shuffle=True, random_state=42)\n",
    "\n",
    "        # Entrenar y evaluar los modelos\n",
    "        resultados = entrenar_modelos_con_cv(modelos, param_grid, X, y, kf)\n",
    "        display(resultados)\n",
    "\n",
    "        # Visualización de resultados\n",
    "        plt.figure(figsize=(12, 6))\n",
    "        sns.barplot(x='Modelo', y='RMSE', data=resultados, palette='coolwarm')\n",
    "        plt.title('Comparación de RMSE entre Modelos')\n",
    "        plt.show()\n",
    "\n",
    "        plt.figure(figsize=(12, 6))\n",
    "        sns.barplot(x='Modelo', y='R²', data=resultados, palette='Blues_d')\n",
    "        plt.title('Comparación de R² entre Modelos')\n",
    "        plt.show()\n",
    "\n",
    "        # Guardar las métricas en un archivo CSV\n",
    "        resultados.to_csv('metricas_modelos.csv')\n",
    "        mostrar_mensaje(\"💾 Métricas de modelos guardadas como 'metricas_modelos.csv'.\", \"success\")\n",
    "\n",
    "        # Identificar el mejor modelo según la métrica RMSE\n",
    "        mejor_modelo = resultados.iloc[0]['Modelo']\n",
    "        mostrar_mensaje(f\"🏆 El mejor modelo según RMSE es: {mejor_modelo}\", \"success\")\n",
    "\n",
    "    except Exception as e:\n",
    "        mostrar_mensaje(f\"❌ Error durante el análisis: {str(e)}\", \"error\")\n",
    "\n",
    "# Ejecutar el flujo principal\n",
    "main()\n",
    "\n",
    "# Liberar memoria\n",
    "gc.collect()\n"
   ]
  },
  {
   "cell_type": "markdown",
   "metadata": {},
   "source": [
    "# Lista de control"
   ]
  },
  {
   "cell_type": "markdown",
   "metadata": {},
   "source": [
    "Escribe 'x' para verificar. Luego presiona Shift+Enter"
   ]
  },
  {
   "cell_type": "markdown",
   "metadata": {},
   "source": [
    "\n",
    "- [x]  Jupyter Notebook está abierto\n",
    "- [X]  El código no tiene errores- [X]  Las celdas con el código han sido colocadas en orden de ejecución- [X]  Los datos han sido descargados y preparados- [X]  Los modelos han sido entrenados\n",
    "- [X]  Se realizó el análisis de velocidad y calidad de los modelos"
   ]
  },
  {
   "cell_type": "code",
   "execution_count": null,
   "metadata": {},
   "outputs": [],
   "source": [
    "if not error_occurred:\n",
    "    print(\"✅ ¡Todo el notebook se ejecutó correctamente y no hubo errores!\")\n",
    "else:\n",
    "    print(\"❌ Se detectaron errores durante la ejecución del notebook.\")\n"
   ]
  }
 ],
 "metadata": {
  "ExecuteTimeLog": [
   {
    "duration": 6,
    "start_time": "2024-09-23T17:38:26.419Z"
   },
   {
    "duration": 4,
    "start_time": "2024-09-23T17:38:26.427Z"
   },
   {
    "duration": 6,
    "start_time": "2024-09-23T17:44:01.102Z"
   },
   {
    "duration": 2725,
    "start_time": "2024-09-23T17:44:01.119Z"
   },
   {
    "duration": 4,
    "start_time": "2024-09-23T17:44:03.846Z"
   },
   {
    "duration": 3,
    "start_time": "2024-09-23T17:54:44.244Z"
   },
   {
    "duration": 3379,
    "start_time": "2024-09-23T18:02:43.140Z"
   },
   {
    "duration": 2790,
    "start_time": "2024-09-23T18:06:08.348Z"
   },
   {
    "duration": 6237,
    "start_time": "2024-09-23T18:09:28.058Z"
   },
   {
    "duration": 2574,
    "start_time": "2024-09-23T18:12:28.329Z"
   },
   {
    "duration": 2677,
    "start_time": "2024-09-23T18:13:44.177Z"
   },
   {
    "duration": 2616,
    "start_time": "2024-09-23T18:15:06.481Z"
   },
   {
    "duration": 2684,
    "start_time": "2024-09-23T18:23:42.715Z"
   },
   {
    "duration": 2632,
    "start_time": "2024-09-23T18:29:03.176Z"
   },
   {
    "duration": 12,
    "start_time": "2024-09-23T18:35:11.064Z"
   },
   {
    "duration": 7,
    "start_time": "2024-09-23T18:46:08.763Z"
   },
   {
    "duration": 3859,
    "start_time": "2024-09-23T18:46:08.772Z"
   },
   {
    "duration": 0,
    "start_time": "2024-09-23T18:46:12.633Z"
   },
   {
    "duration": 0,
    "start_time": "2024-09-23T18:46:12.634Z"
   },
   {
    "duration": 0,
    "start_time": "2024-09-23T18:46:12.635Z"
   },
   {
    "duration": 40,
    "start_time": "2024-09-23T18:50:16.412Z"
   },
   {
    "duration": 2733,
    "start_time": "2024-09-23T18:50:25.228Z"
   },
   {
    "duration": 13,
    "start_time": "2024-09-23T18:53:46.417Z"
   },
   {
    "duration": 6,
    "start_time": "2024-09-23T18:56:28.250Z"
   },
   {
    "duration": 4505,
    "start_time": "2024-09-23T18:56:28.265Z"
   },
   {
    "duration": 0,
    "start_time": "2024-09-23T18:56:32.772Z"
   },
   {
    "duration": 0,
    "start_time": "2024-09-23T18:56:32.774Z"
   },
   {
    "duration": 0,
    "start_time": "2024-09-23T18:56:32.775Z"
   },
   {
    "duration": 3542,
    "start_time": "2024-09-23T18:57:56.562Z"
   },
   {
    "duration": 8497,
    "start_time": "2024-09-23T18:58:12.212Z"
   },
   {
    "duration": 2842,
    "start_time": "2024-09-23T19:00:18.266Z"
   },
   {
    "duration": 14,
    "start_time": "2024-09-23T19:00:27.523Z"
   },
   {
    "duration": 22,
    "start_time": "2024-09-23T19:00:37.811Z"
   },
   {
    "duration": 6,
    "start_time": "2024-09-23T19:01:14.212Z"
   },
   {
    "duration": 3687,
    "start_time": "2024-09-23T19:01:14.219Z"
   },
   {
    "duration": 0,
    "start_time": "2024-09-23T19:01:17.909Z"
   },
   {
    "duration": 0,
    "start_time": "2024-09-23T19:01:17.911Z"
   },
   {
    "duration": 0,
    "start_time": "2024-09-23T19:01:17.913Z"
   },
   {
    "duration": 2672,
    "start_time": "2024-09-23T19:07:01.840Z"
   },
   {
    "duration": 13,
    "start_time": "2024-09-23T19:07:18.490Z"
   },
   {
    "duration": 5215,
    "start_time": "2024-09-23T19:10:06.241Z"
   },
   {
    "duration": 1968,
    "start_time": "2024-09-23T19:12:03.760Z"
   },
   {
    "duration": 2565,
    "start_time": "2024-09-23T19:14:58.189Z"
   },
   {
    "duration": 16,
    "start_time": "2024-09-23T19:16:23.984Z"
   },
   {
    "duration": 14,
    "start_time": "2024-09-23T19:16:29.997Z"
   },
   {
    "duration": 1993,
    "start_time": "2024-09-23T19:17:42.124Z"
   },
   {
    "duration": 3847,
    "start_time": "2024-09-23T19:17:44.120Z"
   },
   {
    "duration": 0,
    "start_time": "2024-09-23T19:17:47.969Z"
   },
   {
    "duration": 0,
    "start_time": "2024-09-23T19:17:47.971Z"
   },
   {
    "duration": 0,
    "start_time": "2024-09-23T19:17:47.973Z"
   },
   {
    "duration": 1936,
    "start_time": "2024-09-23T19:17:49.699Z"
   },
   {
    "duration": 3602,
    "start_time": "2024-09-23T19:17:51.637Z"
   },
   {
    "duration": 0,
    "start_time": "2024-09-23T19:17:55.241Z"
   },
   {
    "duration": 0,
    "start_time": "2024-09-23T19:17:55.244Z"
   },
   {
    "duration": 0,
    "start_time": "2024-09-23T19:17:55.246Z"
   },
   {
    "duration": 1954,
    "start_time": "2024-09-23T19:17:58.004Z"
   },
   {
    "duration": 3678,
    "start_time": "2024-09-23T19:17:59.961Z"
   },
   {
    "duration": 0,
    "start_time": "2024-09-23T19:18:03.641Z"
   },
   {
    "duration": 0,
    "start_time": "2024-09-23T19:18:03.644Z"
   },
   {
    "duration": 0,
    "start_time": "2024-09-23T19:18:03.645Z"
   },
   {
    "duration": 15,
    "start_time": "2024-09-23T19:18:53.862Z"
   },
   {
    "duration": 1901,
    "start_time": "2024-09-23T21:35:15.112Z"
   },
   {
    "duration": 20,
    "start_time": "2024-09-23T21:36:06.853Z"
   },
   {
    "duration": 24,
    "start_time": "2024-09-23T21:36:53.845Z"
   },
   {
    "duration": 2313,
    "start_time": "2024-09-23T21:40:56.224Z"
   },
   {
    "duration": 514,
    "start_time": "2024-09-23T21:40:58.539Z"
   },
   {
    "duration": 256,
    "start_time": "2024-09-23T21:40:59.055Z"
   },
   {
    "duration": 23,
    "start_time": "2024-09-23T21:40:59.314Z"
   },
   {
    "duration": 2,
    "start_time": "2024-09-23T21:40:59.339Z"
   },
   {
    "duration": 14,
    "start_time": "2024-09-23T21:59:31.685Z"
   },
   {
    "duration": 2266,
    "start_time": "2024-09-23T21:59:36.097Z"
   },
   {
    "duration": 487,
    "start_time": "2024-09-23T21:59:38.366Z"
   },
   {
    "duration": 244,
    "start_time": "2024-09-23T21:59:38.854Z"
   },
   {
    "duration": 22,
    "start_time": "2024-09-23T21:59:39.108Z"
   },
   {
    "duration": 3,
    "start_time": "2024-09-23T21:59:39.132Z"
   },
   {
    "duration": 2233,
    "start_time": "2024-09-24T01:15:22.533Z"
   },
   {
    "duration": 487,
    "start_time": "2024-09-24T01:15:24.769Z"
   },
   {
    "duration": 258,
    "start_time": "2024-09-24T01:15:25.258Z"
   },
   {
    "duration": 23,
    "start_time": "2024-09-24T01:15:25.518Z"
   },
   {
    "duration": 3,
    "start_time": "2024-09-24T01:15:25.543Z"
   },
   {
    "duration": 1915,
    "start_time": "2024-09-24T01:16:12.249Z"
   },
   {
    "duration": 15,
    "start_time": "2024-09-24T01:16:17.898Z"
   },
   {
    "duration": 29,
    "start_time": "2024-09-24T01:18:47.690Z"
   },
   {
    "duration": 16,
    "start_time": "2024-09-24T01:19:02.939Z"
   },
   {
    "duration": 16,
    "start_time": "2024-09-24T01:19:18.500Z"
   },
   {
    "duration": 24,
    "start_time": "2024-09-24T01:21:19.187Z"
   },
   {
    "duration": 14,
    "start_time": "2024-09-24T01:44:48.169Z"
   },
   {
    "duration": 2228,
    "start_time": "2024-09-24T01:45:52.616Z"
   },
   {
    "duration": 506,
    "start_time": "2024-09-24T01:45:54.846Z"
   },
   {
    "duration": 241,
    "start_time": "2024-09-24T01:45:55.354Z"
   },
   {
    "duration": 20,
    "start_time": "2024-09-24T01:45:55.609Z"
   },
   {
    "duration": 3,
    "start_time": "2024-09-24T01:45:55.631Z"
   },
   {
    "duration": 1947,
    "start_time": "2024-09-24T01:46:07.199Z"
   },
   {
    "duration": 17,
    "start_time": "2024-09-24T01:50:16.682Z"
   },
   {
    "duration": 15,
    "start_time": "2024-09-24T01:51:16.767Z"
   },
   {
    "duration": 16,
    "start_time": "2024-09-24T01:55:08.779Z"
   },
   {
    "duration": 15,
    "start_time": "2024-09-24T02:07:16.784Z"
   },
   {
    "duration": 63924,
    "start_time": "2024-09-24T02:10:13.709Z"
   },
   {
    "duration": 2211,
    "start_time": "2024-09-24T02:18:39.633Z"
   },
   {
    "duration": 522,
    "start_time": "2024-09-24T02:18:45.987Z"
   },
   {
    "duration": 779,
    "start_time": "2024-09-24T02:21:48.493Z"
   },
   {
    "duration": 327,
    "start_time": "2024-09-24T02:53:37.699Z"
   },
   {
    "duration": 533,
    "start_time": "2024-09-24T02:53:38.028Z"
   },
   {
    "duration": 767,
    "start_time": "2024-09-24T02:53:38.564Z"
   },
   {
    "duration": 210,
    "start_time": "2024-09-24T02:53:39.333Z"
   },
   {
    "duration": 3,
    "start_time": "2024-09-24T02:53:39.546Z"
   },
   {
    "duration": 331,
    "start_time": "2024-09-24T02:54:05.522Z"
   },
   {
    "duration": 493,
    "start_time": "2024-09-24T02:54:05.856Z"
   },
   {
    "duration": 738,
    "start_time": "2024-09-24T02:54:06.351Z"
   },
   {
    "duration": 225,
    "start_time": "2024-09-24T02:54:07.091Z"
   },
   {
    "duration": 4,
    "start_time": "2024-09-24T02:54:07.318Z"
   },
   {
    "duration": 278,
    "start_time": "2024-09-24T02:55:30.487Z"
   },
   {
    "duration": 483,
    "start_time": "2024-09-24T02:55:30.768Z"
   },
   {
    "duration": 756,
    "start_time": "2024-09-24T02:55:31.253Z"
   },
   {
    "duration": 199,
    "start_time": "2024-09-24T02:55:32.012Z"
   },
   {
    "duration": 3,
    "start_time": "2024-09-24T02:55:32.213Z"
   },
   {
    "duration": 13,
    "start_time": "2024-09-24T02:55:40.651Z"
   },
   {
    "duration": 322,
    "start_time": "2024-09-24T03:08:02.094Z"
   },
   {
    "duration": 531,
    "start_time": "2024-09-24T03:08:06.495Z"
   },
   {
    "duration": 637,
    "start_time": "2024-09-24T03:11:07.521Z"
   },
   {
    "duration": 151,
    "start_time": "2024-09-24T03:11:08.160Z"
   },
   {
    "duration": 276,
    "start_time": "2024-09-24T04:28:52.192Z"
   },
   {
    "duration": 502,
    "start_time": "2024-09-24T04:28:52.470Z"
   },
   {
    "duration": 83,
    "start_time": "2024-09-24T04:28:52.974Z"
   },
   {
    "duration": 0,
    "start_time": "2024-09-24T04:28:53.059Z"
   },
   {
    "duration": 0,
    "start_time": "2024-09-24T04:28:53.060Z"
   },
   {
    "duration": 491,
    "start_time": "2024-09-24T21:43:04.837Z"
   },
   {
    "duration": 690,
    "start_time": "2024-09-24T21:45:05.159Z"
   },
   {
    "duration": 276,
    "start_time": "2024-09-24T21:48:02.152Z"
   },
   {
    "duration": 531,
    "start_time": "2024-09-24T21:48:05.495Z"
   },
   {
    "duration": 3,
    "start_time": "2024-09-24T21:48:21.594Z"
   },
   {
    "duration": 3,
    "start_time": "2024-09-24T21:48:25.734Z"
   },
   {
    "duration": 2,
    "start_time": "2024-09-24T21:48:28.384Z"
   },
   {
    "duration": 2,
    "start_time": "2024-09-24T21:48:30.047Z"
   },
   {
    "duration": 282,
    "start_time": "2024-09-24T21:48:38.858Z"
   },
   {
    "duration": 562,
    "start_time": "2024-09-24T21:48:39.142Z"
   },
   {
    "duration": 2,
    "start_time": "2024-09-24T21:49:28.220Z"
   },
   {
    "duration": 23,
    "start_time": "2024-09-25T00:49:40.889Z"
   },
   {
    "duration": 380,
    "start_time": "2024-09-25T00:49:51.732Z"
   },
   {
    "duration": 596,
    "start_time": "2024-09-25T00:49:52.114Z"
   },
   {
    "duration": 67,
    "start_time": "2024-09-25T00:49:52.712Z"
   },
   {
    "duration": 0,
    "start_time": "2024-09-25T00:49:52.781Z"
   },
   {
    "duration": 0,
    "start_time": "2024-09-25T00:49:52.783Z"
   },
   {
    "duration": 12,
    "start_time": "2024-09-25T00:50:11.698Z"
   },
   {
    "duration": 17,
    "start_time": "2024-09-25T00:50:17.664Z"
   },
   {
    "duration": 14,
    "start_time": "2024-09-25T00:50:28.875Z"
   },
   {
    "duration": 579,
    "start_time": "2024-09-25T00:50:40.313Z"
   },
   {
    "duration": 368,
    "start_time": "2024-09-25T00:55:24.401Z"
   },
   {
    "duration": 425,
    "start_time": "2024-09-25T01:01:26.146Z"
   },
   {
    "duration": 307,
    "start_time": "2024-09-25T01:02:16.207Z"
   },
   {
    "duration": 575,
    "start_time": "2024-09-25T01:02:16.517Z"
   },
   {
    "duration": 78,
    "start_time": "2024-09-25T01:02:17.093Z"
   },
   {
    "duration": 0,
    "start_time": "2024-09-25T01:02:17.173Z"
   },
   {
    "duration": 0,
    "start_time": "2024-09-25T01:02:17.175Z"
   },
   {
    "duration": 15,
    "start_time": "2024-09-25T01:02:51.727Z"
   },
   {
    "duration": 11,
    "start_time": "2024-09-25T01:14:44.762Z"
   },
   {
    "duration": 16,
    "start_time": "2024-09-25T01:15:03.969Z"
   },
   {
    "duration": 22,
    "start_time": "2024-09-25T01:15:26.884Z"
   },
   {
    "duration": 22,
    "start_time": "2024-09-25T01:51:28.416Z"
   },
   {
    "duration": 21,
    "start_time": "2024-09-25T01:51:43.126Z"
   },
   {
    "duration": 22,
    "start_time": "2024-09-25T01:51:51.455Z"
   },
   {
    "duration": 1007,
    "start_time": "2024-09-25T02:00:43.963Z"
   },
   {
    "duration": 1822,
    "start_time": "2024-09-25T02:04:01.380Z"
   },
   {
    "duration": 1883,
    "start_time": "2024-09-25T02:04:25.075Z"
   },
   {
    "duration": 949,
    "start_time": "2024-09-25T02:04:29.501Z"
   },
   {
    "duration": 290,
    "start_time": "2024-09-25T02:06:04.672Z"
   },
   {
    "duration": 6022,
    "start_time": "2024-09-25T02:06:04.964Z"
   },
   {
    "duration": 21,
    "start_time": "2024-09-25T02:06:10.988Z"
   },
   {
    "duration": 0,
    "start_time": "2024-09-25T02:06:11.011Z"
   },
   {
    "duration": 0,
    "start_time": "2024-09-25T02:06:11.012Z"
   },
   {
    "duration": 300,
    "start_time": "2024-09-25T02:22:51.666Z"
   },
   {
    "duration": 5298,
    "start_time": "2024-09-25T02:22:56.596Z"
   },
   {
    "duration": 67,
    "start_time": "2024-09-25T02:23:12.212Z"
   },
   {
    "duration": 699,
    "start_time": "2024-09-25T02:23:46.126Z"
   },
   {
    "duration": 2,
    "start_time": "2024-09-25T02:26:21.403Z"
   },
   {
    "duration": 3,
    "start_time": "2024-09-25T02:26:26.236Z"
   },
   {
    "duration": 3,
    "start_time": "2024-09-25T02:28:25.284Z"
   },
   {
    "duration": 18,
    "start_time": "2024-09-25T02:29:02.798Z"
   },
   {
    "duration": 395,
    "start_time": "2024-09-25T02:38:40.742Z"
   },
   {
    "duration": 21,
    "start_time": "2024-09-25T02:39:49.731Z"
   },
   {
    "duration": 24,
    "start_time": "2024-09-25T02:39:51.801Z"
   },
   {
    "duration": 3,
    "start_time": "2024-09-25T02:40:08.800Z"
   },
   {
    "duration": 313,
    "start_time": "2024-09-25T03:21:54.339Z"
   },
   {
    "duration": 5251,
    "start_time": "2024-09-25T03:21:54.654Z"
   },
   {
    "duration": 312,
    "start_time": "2024-09-25T03:30:30.607Z"
   },
   {
    "duration": 5260,
    "start_time": "2024-09-25T03:30:30.921Z"
   },
   {
    "duration": 303,
    "start_time": "2024-09-25T03:36:32.855Z"
   },
   {
    "duration": 5210,
    "start_time": "2024-09-25T03:36:33.160Z"
   }
  ],
  "kernelspec": {
   "display_name": "Python 3 (ipykernel)",
   "language": "python",
   "name": "python3"
  },
  "language_info": {
   "codemirror_mode": {
    "name": "ipython",
    "version": 3
   },
   "file_extension": ".py",
   "mimetype": "text/x-python",
   "name": "python",
   "nbconvert_exporter": "python",
   "pygments_lexer": "ipython3",
   "version": "3.9.19"
  },
  "toc": {
   "base_numbering": 1,
   "nav_menu": {},
   "number_sections": true,
   "sideBar": true,
   "skip_h1_title": true,
   "title_cell": "Table of Contents",
   "title_sidebar": "Contents",
   "toc_cell": true,
   "toc_position": {
    "height": "calc(100% - 180px)",
    "left": "10px",
    "top": "150px",
    "width": "412.986px"
   },
   "toc_section_display": true,
   "toc_window_display": true
  }
 },
 "nbformat": 4,
 "nbformat_minor": 2
}
